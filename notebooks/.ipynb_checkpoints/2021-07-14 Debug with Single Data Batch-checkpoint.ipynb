{
 "cells": [
  {
   "cell_type": "code",
   "execution_count": 1,
   "id": "3fb3eaf4",
   "metadata": {},
   "outputs": [],
   "source": [
    "%load_ext autoreload\n",
    "%autoreload 2"
   ]
  },
  {
   "cell_type": "code",
   "execution_count": 2,
   "id": "765c258d",
   "metadata": {},
   "outputs": [],
   "source": [
    "import os\n",
    "import sys\n",
    "sys.path.append(\"../src/\")\n",
    "import json\n",
    "\n",
    "import numpy as np\n",
    "import pandas as pd\n",
    "import math\n",
    "from scipy.stats import ttest_rel, ttest_ind\n",
    "from datasets import Dataset, list_metrics, load_metric\n",
    "from transformers import AutoConfig, AutoTokenizer, AutoModelForMaskedLM, DataCollatorForLanguageModeling, Trainer\n",
    "\n",
    "import matplotlib.pyplot as plt\n",
    "import seaborn as sns\n",
    "sns.set_theme()\n",
    "\n",
    "from results_analysis.analyze_exp_results import ExpAnalyzer\n",
    "from results_analysis.analyze_personalized_exp_results import PerPopulationExpAnalyzer\n",
    "from results_analysis.analysis_utils import plot_user_perf_by_sample_count\n",
    "\n",
    "from runners.runner_utils import loss_to_perplexity"
   ]
  },
  {
   "cell_type": "markdown",
   "id": "9e319299",
   "metadata": {},
   "source": [
    "## Notes\n",
    "* If we just take first 32 examples, we have 9 examples from Headlessdesert1 and 23 examples from other users."
   ]
  },
  {
   "cell_type": "code",
   "execution_count": 13,
   "id": "37ab6ffc",
   "metadata": {},
   "outputs": [],
   "source": [
    "base_result_dir = \"/data/ddmg/redditlanguagemodeling/results/\""
   ]
  },
  {
   "cell_type": "code",
   "execution_count": 24,
   "id": "56ef0cc9",
   "metadata": {},
   "outputs": [],
   "source": [
    "result_dir = os.path.join(base_result_dir, \"debug/finetune_all_deterministic_test/42\")\n",
    "ea_global = ExpAnalyzer(result_dir)"
   ]
  },
  {
   "cell_type": "code",
   "execution_count": 25,
   "id": "fe749907",
   "metadata": {},
   "outputs": [
    {
     "data": {
      "text/html": [
       "<div>\n",
       "<style scoped>\n",
       "    .dataframe tbody tr th:only-of-type {\n",
       "        vertical-align: middle;\n",
       "    }\n",
       "\n",
       "    .dataframe tbody tr th {\n",
       "        vertical-align: top;\n",
       "    }\n",
       "\n",
       "    .dataframe thead th {\n",
       "        text-align: right;\n",
       "    }\n",
       "</style>\n",
       "<table border=\"1\" class=\"dataframe\">\n",
       "  <thead>\n",
       "    <tr style=\"text-align: right;\">\n",
       "      <th></th>\n",
       "      <th>step</th>\n",
       "      <th>data</th>\n",
       "      <th>loss</th>\n",
       "      <th>perplexity</th>\n",
       "    </tr>\n",
       "  </thead>\n",
       "  <tbody>\n",
       "    <tr>\n",
       "      <th>0</th>\n",
       "      <td>1</td>\n",
       "      <td>train</td>\n",
       "      <td>3.191300</td>\n",
       "      <td>24.320023</td>\n",
       "    </tr>\n",
       "    <tr>\n",
       "      <th>1</th>\n",
       "      <td>2</td>\n",
       "      <td>train</td>\n",
       "      <td>2.487200</td>\n",
       "      <td>12.027552</td>\n",
       "    </tr>\n",
       "    <tr>\n",
       "      <th>2</th>\n",
       "      <td>1</td>\n",
       "      <td>val</td>\n",
       "      <td>2.619224</td>\n",
       "      <td>13.725063</td>\n",
       "    </tr>\n",
       "    <tr>\n",
       "      <th>3</th>\n",
       "      <td>2</td>\n",
       "      <td>val</td>\n",
       "      <td>2.607304</td>\n",
       "      <td>13.562435</td>\n",
       "    </tr>\n",
       "  </tbody>\n",
       "</table>\n",
       "</div>"
      ],
      "text/plain": [
       "   step   data      loss  perplexity\n",
       "0     1  train  3.191300   24.320023\n",
       "1     2  train  2.487200   12.027552\n",
       "2     1    val  2.619224   13.725063\n",
       "3     2    val  2.607304   13.562435"
      ]
     },
     "execution_count": 25,
     "metadata": {},
     "output_type": "execute_result"
    }
   ],
   "source": [
    "ea_global.train_hist_df"
   ]
  },
  {
   "cell_type": "code",
   "execution_count": 33,
   "id": "b8a1d96a",
   "metadata": {},
   "outputs": [
    {
     "data": {
      "text/plain": [
       "loss           2.691571\n",
       "perplexity    16.631681\n",
       "dtype: float64"
      ]
     },
     "execution_count": 33,
     "metadata": {},
     "output_type": "execute_result"
    }
   ],
   "source": [
    "ea_global.author_result_df.mean()"
   ]
  },
  {
   "cell_type": "code",
   "execution_count": 34,
   "id": "54de2709",
   "metadata": {},
   "outputs": [
    {
     "data": {
      "text/plain": [
       "loss          0.474647\n",
       "perplexity    9.698468\n",
       "dtype: float64"
      ]
     },
     "execution_count": 34,
     "metadata": {},
     "output_type": "execute_result"
    }
   ],
   "source": [
    "ea_global.author_result_df.std()"
   ]
  },
  {
   "cell_type": "code",
   "execution_count": 26,
   "id": "64c47c7b",
   "metadata": {},
   "outputs": [
    {
     "data": {
      "image/png": "[encoded data removed]",
      "text/plain": [
       "<Figure size 432x288 with 1 Axes>"
      ]
     },
     "metadata": {},
     "output_type": "display_data"
    },
    {
     "data": {
      "text/plain": [
       "<Figure size 432x288 with 0 Axes>"
      ]
     },
     "metadata": {},
     "output_type": "display_data"
    }
   ],
   "source": [
    "ea_global.plot_metric_hist(\"perplexity\")"
   ]
  },
  {
   "cell_type": "code",
   "execution_count": 27,
   "id": "83234ba9",
   "metadata": {},
   "outputs": [],
   "source": [
    "result_dir = os.path.join(base_result_dir, \"debug/sw_deterministic_test_5/42\")\n",
    "ea_sw = ExpAnalyzer(result_dir)"
   ]
  },
  {
   "cell_type": "code",
   "execution_count": 28,
   "id": "fded44bb",
   "metadata": {},
   "outputs": [
    {
     "data": {
      "text/html": [
       "<div>\n",
       "<style scoped>\n",
       "    .dataframe tbody tr th:only-of-type {\n",
       "        vertical-align: middle;\n",
       "    }\n",
       "\n",
       "    .dataframe tbody tr th {\n",
       "        vertical-align: top;\n",
       "    }\n",
       "\n",
       "    .dataframe thead th {\n",
       "        text-align: right;\n",
       "    }\n",
       "</style>\n",
       "<table border=\"1\" class=\"dataframe\">\n",
       "  <thead>\n",
       "    <tr style=\"text-align: right;\">\n",
       "      <th></th>\n",
       "      <th>step</th>\n",
       "      <th>data</th>\n",
       "      <th>loss</th>\n",
       "      <th>perplexity</th>\n",
       "    </tr>\n",
       "  </thead>\n",
       "  <tbody>\n",
       "    <tr>\n",
       "      <th>0</th>\n",
       "      <td>1</td>\n",
       "      <td>train</td>\n",
       "      <td>3.191300</td>\n",
       "      <td>24.320023</td>\n",
       "    </tr>\n",
       "    <tr>\n",
       "      <th>1</th>\n",
       "      <td>2</td>\n",
       "      <td>train</td>\n",
       "      <td>2.487200</td>\n",
       "      <td>12.027552</td>\n",
       "    </tr>\n",
       "    <tr>\n",
       "      <th>2</th>\n",
       "      <td>1</td>\n",
       "      <td>val</td>\n",
       "      <td>2.619224</td>\n",
       "      <td>13.725063</td>\n",
       "    </tr>\n",
       "    <tr>\n",
       "      <th>3</th>\n",
       "      <td>2</td>\n",
       "      <td>val</td>\n",
       "      <td>2.607304</td>\n",
       "      <td>13.562435</td>\n",
       "    </tr>\n",
       "  </tbody>\n",
       "</table>\n",
       "</div>"
      ],
      "text/plain": [
       "   step   data      loss  perplexity\n",
       "0     1  train  3.191300   24.320023\n",
       "1     2  train  2.487200   12.027552\n",
       "2     1    val  2.619224   13.725063\n",
       "3     2    val  2.607304   13.562435"
      ]
     },
     "execution_count": 28,
     "metadata": {},
     "output_type": "execute_result"
    }
   ],
   "source": [
    "ea_sw.train_hist_df"
   ]
  },
  {
   "cell_type": "code",
   "execution_count": 35,
   "id": "58a13224",
   "metadata": {},
   "outputs": [
    {
     "data": {
      "text/plain": [
       "loss           2.691571\n",
       "perplexity    16.631681\n",
       "dtype: float64"
      ]
     },
     "execution_count": 35,
     "metadata": {},
     "output_type": "execute_result"
    }
   ],
   "source": [
    "ea_sw.author_result_df.mean()"
   ]
  },
  {
   "cell_type": "code",
   "execution_count": 36,
   "id": "69f3e623",
   "metadata": {},
   "outputs": [
    {
     "data": {
      "text/plain": [
       "loss          0.474647\n",
       "perplexity    9.698468\n",
       "dtype: float64"
      ]
     },
     "execution_count": 36,
     "metadata": {},
     "output_type": "execute_result"
    }
   ],
   "source": [
    "ea_sw.author_result_df.std()"
   ]
  },
  {
   "cell_type": "code",
   "execution_count": 29,
   "id": "badc50f2",
   "metadata": {},
   "outputs": [
    {
     "data": {
      "image/png": "[encoded data removed]",
      "text/plain": [
       "<Figure size 432x288 with 1 Axes>"
      ]
     },
     "metadata": {},
     "output_type": "display_data"
    },
    {
     "data": {
      "text/plain": [
       "<Figure size 432x288 with 0 Axes>"
      ]
     },
     "metadata": {},
     "output_type": "display_data"
    }
   ],
   "source": [
    "ea_sw.plot_metric_hist(\"perplexity\")"
   ]
  },
  {
   "cell_type": "code",
   "execution_count": 30,
   "id": "52535725",
   "metadata": {},
   "outputs": [],
   "source": [
    "result_dir = os.path.join(base_result_dir, \"debug/sw_deterministic_test_9/42\")\n",
    "ea_sw9 = ExpAnalyzer(result_dir)"
   ]
  },
  {
   "cell_type": "code",
   "execution_count": 31,
   "id": "cdf59ef8",
   "metadata": {},
   "outputs": [
    {
     "data": {
      "text/html": [
       "<div>\n",
       "<style scoped>\n",
       "    .dataframe tbody tr th:only-of-type {\n",
       "        vertical-align: middle;\n",
       "    }\n",
       "\n",
       "    .dataframe tbody tr th {\n",
       "        vertical-align: top;\n",
       "    }\n",
       "\n",
       "    .dataframe thead th {\n",
       "        text-align: right;\n",
       "    }\n",
       "</style>\n",
       "<table border=\"1\" class=\"dataframe\">\n",
       "  <thead>\n",
       "    <tr style=\"text-align: right;\">\n",
       "      <th></th>\n",
       "      <th>step</th>\n",
       "      <th>data</th>\n",
       "      <th>loss</th>\n",
       "      <th>perplexity</th>\n",
       "    </tr>\n",
       "  </thead>\n",
       "  <tbody>\n",
       "    <tr>\n",
       "      <th>0</th>\n",
       "      <td>1</td>\n",
       "      <td>train</td>\n",
       "      <td>1.282800</td>\n",
       "      <td>3.606724</td>\n",
       "    </tr>\n",
       "    <tr>\n",
       "      <th>1</th>\n",
       "      <td>2</td>\n",
       "      <td>train</td>\n",
       "      <td>0.931100</td>\n",
       "      <td>2.537299</td>\n",
       "    </tr>\n",
       "    <tr>\n",
       "      <th>2</th>\n",
       "      <td>1</td>\n",
       "      <td>val</td>\n",
       "      <td>2.651195</td>\n",
       "      <td>14.170960</td>\n",
       "    </tr>\n",
       "    <tr>\n",
       "      <th>3</th>\n",
       "      <td>2</td>\n",
       "      <td>val</td>\n",
       "      <td>2.658055</td>\n",
       "      <td>14.268507</td>\n",
       "    </tr>\n",
       "  </tbody>\n",
       "</table>\n",
       "</div>"
      ],
      "text/plain": [
       "   step   data      loss  perplexity\n",
       "0     1  train  1.282800    3.606724\n",
       "1     2  train  0.931100    2.537299\n",
       "2     1    val  2.651195   14.170960\n",
       "3     2    val  2.658055   14.268507"
      ]
     },
     "execution_count": 31,
     "metadata": {},
     "output_type": "execute_result"
    }
   ],
   "source": [
    "ea_sw9.train_hist_df"
   ]
  },
  {
   "cell_type": "code",
   "execution_count": 37,
   "id": "0416a8d7",
   "metadata": {},
   "outputs": [
    {
     "data": {
      "text/plain": [
       "loss           2.727857\n",
       "perplexity    17.137974\n",
       "dtype: float64"
      ]
     },
     "execution_count": 37,
     "metadata": {},
     "output_type": "execute_result"
    }
   ],
   "source": [
    "ea_sw9.author_result_df.mean()"
   ]
  },
  {
   "cell_type": "code",
   "execution_count": 38,
   "id": "f901df76",
   "metadata": {},
   "outputs": [
    {
     "data": {
      "text/plain": [
       "loss          0.463414\n",
       "perplexity    9.657534\n",
       "dtype: float64"
      ]
     },
     "execution_count": 38,
     "metadata": {},
     "output_type": "execute_result"
    }
   ],
   "source": [
    "ea_sw9.author_result_df.std()"
   ]
  },
  {
   "cell_type": "code",
   "execution_count": 32,
   "id": "6bb31995",
   "metadata": {},
   "outputs": [
    {
     "data": {
      "image/png": "[encoded data removed]",
      "text/plain": [
       "<Figure size 432x288 with 1 Axes>"
      ]
     },
     "metadata": {},
     "output_type": "display_data"
    },
    {
     "data": {
      "text/plain": [
       "<Figure size 432x288 with 0 Axes>"
      ]
     },
     "metadata": {},
     "output_type": "display_data"
    }
   ],
   "source": [
    "ea_sw9.plot_metric_hist(\"perplexity\")"
   ]
  },
  {
   "cell_type": "code",
   "execution_count": 39,
   "id": "3a78a36a",
   "metadata": {},
   "outputs": [],
   "source": [
    "result_dir = os.path.join(base_result_dir, \"debug/sw_deterministic_test_1/42\")\n",
    "ea_sw1 = ExpAnalyzer(result_dir)"
   ]
  },
  {
   "cell_type": "code",
   "execution_count": 40,
   "id": "e212bd77",
   "metadata": {},
   "outputs": [
    {
     "data": {
      "text/html": [
       "<div>\n",
       "<style scoped>\n",
       "    .dataframe tbody tr th:only-of-type {\n",
       "        vertical-align: middle;\n",
       "    }\n",
       "\n",
       "    .dataframe tbody tr th {\n",
       "        vertical-align: top;\n",
       "    }\n",
       "\n",
       "    .dataframe thead th {\n",
       "        text-align: right;\n",
       "    }\n",
       "</style>\n",
       "<table border=\"1\" class=\"dataframe\">\n",
       "  <thead>\n",
       "    <tr style=\"text-align: right;\">\n",
       "      <th></th>\n",
       "      <th>step</th>\n",
       "      <th>data</th>\n",
       "      <th>loss</th>\n",
       "      <th>perplexity</th>\n",
       "    </tr>\n",
       "  </thead>\n",
       "  <tbody>\n",
       "    <tr>\n",
       "      <th>0</th>\n",
       "      <td>1</td>\n",
       "      <td>train</td>\n",
       "      <td>1.044200</td>\n",
       "      <td>2.841125</td>\n",
       "    </tr>\n",
       "    <tr>\n",
       "      <th>1</th>\n",
       "      <td>2</td>\n",
       "      <td>train</td>\n",
       "      <td>0.714100</td>\n",
       "      <td>2.042348</td>\n",
       "    </tr>\n",
       "    <tr>\n",
       "      <th>2</th>\n",
       "      <td>1</td>\n",
       "      <td>val</td>\n",
       "      <td>2.667880</td>\n",
       "      <td>14.409383</td>\n",
       "    </tr>\n",
       "    <tr>\n",
       "      <th>3</th>\n",
       "      <td>2</td>\n",
       "      <td>val</td>\n",
       "      <td>2.678809</td>\n",
       "      <td>14.567739</td>\n",
       "    </tr>\n",
       "  </tbody>\n",
       "</table>\n",
       "</div>"
      ],
      "text/plain": [
       "   step   data      loss  perplexity\n",
       "0     1  train  1.044200    2.841125\n",
       "1     2  train  0.714100    2.042348\n",
       "2     1    val  2.667880   14.409383\n",
       "3     2    val  2.678809   14.567739"
      ]
     },
     "execution_count": 40,
     "metadata": {},
     "output_type": "execute_result"
    }
   ],
   "source": [
    "ea_sw1.train_hist_df"
   ]
  },
  {
   "cell_type": "code",
   "execution_count": 41,
   "id": "a3fff172",
   "metadata": {},
   "outputs": [
    {
     "data": {
      "text/plain": [
       "loss           2.745196\n",
       "perplexity    17.396339\n",
       "dtype: float64"
      ]
     },
     "execution_count": 41,
     "metadata": {},
     "output_type": "execute_result"
    }
   ],
   "source": [
    "ea_sw1.author_result_df.mean()"
   ]
  },
  {
   "cell_type": "code",
   "execution_count": 42,
   "id": "4bf2df2e",
   "metadata": {},
   "outputs": [
    {
     "data": {
      "text/plain": [
       "loss          0.459130\n",
       "perplexity    9.675183\n",
       "dtype: float64"
      ]
     },
     "execution_count": 42,
     "metadata": {},
     "output_type": "execute_result"
    }
   ],
   "source": [
    "ea_sw1.author_result_df.std()"
   ]
  },
  {
   "cell_type": "code",
   "execution_count": 43,
   "id": "33483556",
   "metadata": {},
   "outputs": [
    {
     "data": {
      "image/png": "[encoded data removed]",
      "text/plain": [
       "<Figure size 432x288 with 1 Axes>"
      ]
     },
     "metadata": {},
     "output_type": "display_data"
    },
    {
     "data": {
      "text/plain": [
       "<Figure size 432x288 with 0 Axes>"
      ]
     },
     "metadata": {},
     "output_type": "display_data"
    }
   ],
   "source": [
    "ea_sw1.plot_metric_hist(\"perplexity\")"
   ]
  },
  {
   "cell_type": "code",
   "execution_count": null,
   "id": "49607a13",
   "metadata": {},
   "outputs": [],
   "source": [
    "result_dir = os.path.join(base_result_dir, \"debug/finetune_author_deterministic_test/42\")\n",
    "ea_sw1 = ExpAnalyzer(result_dir)"
   ]
  }
 ],
 "metadata": {
  "kernelspec": {
   "display_name": "Python 3",
   "language": "python",
   "name": "python3"
  },
  "language_info": {
   "codemirror_mode": {
    "name": "ipython",
    "version": 3
   },
   "file_extension": ".py",
   "mimetype": "text/x-python",
   "name": "python",
   "nbconvert_exporter": "python",
   "pygments_lexer": "ipython3",
   "version": "3.8.10"
  }
 },
 "nbformat": 4,
 "nbformat_minor": 5
}
