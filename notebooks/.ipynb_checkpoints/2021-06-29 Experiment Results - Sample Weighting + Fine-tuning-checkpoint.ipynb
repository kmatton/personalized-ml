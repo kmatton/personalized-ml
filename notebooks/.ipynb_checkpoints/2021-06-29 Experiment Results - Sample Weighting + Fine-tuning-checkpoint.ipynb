{
 "cells": [
  {
   "cell_type": "code",
   "execution_count": 27,
   "id": "a7775cc5",
   "metadata": {},
   "outputs": [
    {
     "name": "stdout",
     "output_type": "stream",
     "text": [
      "The autoreload extension is already loaded. To reload it, use:\n",
      "  %reload_ext autoreload\n"
     ]
    }
   ],
   "source": [
    "%load_ext autoreload\n",
    "%autoreload 2"
   ]
  },
  {
   "cell_type": "code",
   "execution_count": 74,
   "id": "30b5f6d6",
   "metadata": {},
   "outputs": [],
   "source": [
    "import os\n",
    "import sys\n",
    "sys.path.append(\"../src/\")\n",
    "import json\n",
    "\n",
    "import numpy as np\n",
    "import pandas as pd\n",
    "import math\n",
    "from datasets import Dataset, list_metrics, load_metric\n",
    "from transformers import AutoConfig, AutoTokenizer, AutoModelForMaskedLM, DataCollatorForLanguageModeling, Trainer\n",
    "\n",
    "import matplotlib.pyplot as plt\n",
    "import seaborn as sns\n",
    "sns.set_theme()\n",
    "\n",
    "from results_analysis.analyze_exp_results import ExpAnalyzer\n",
    "from results_analysis.analyze_personalized_exp_results import PerPopulationExpAnalyzer\n",
    "from results_analysis.analysis_utils import plot_user_perf_by_sample_count\n",
    "\n",
    "from runners.runner_utils import loss_to_perplexity"
   ]
  },
  {
   "cell_type": "code",
   "execution_count": 3,
   "id": "05f26dca",
   "metadata": {},
   "outputs": [],
   "source": [
    "base_result_dir = \"/data/ddmg/redditlanguagemodeling/results/\""
   ]
  },
  {
   "cell_type": "code",
   "execution_count": 4,
   "id": "b1618944",
   "metadata": {},
   "outputs": [],
   "source": [
    "data_df = pd.read_csv(\"/data/ddmg/redditlanguagemodeling/data/3_all_data_user_filtered_2021-06-21.csv\")"
   ]
  },
  {
   "cell_type": "code",
   "execution_count": 5,
   "id": "ab38117c",
   "metadata": {},
   "outputs": [
    {
     "data": {
      "text/plain": [
       "50"
      ]
     },
     "execution_count": 5,
     "metadata": {},
     "output_type": "execute_result"
    }
   ],
   "source": [
    "val_df = data_df[data_df[\"data_split\"] == \"val\"]\n",
    "test_users = set(val_df[\"author\"])\n",
    "len(test_users)"
   ]
  },
  {
   "cell_type": "code",
   "execution_count": 6,
   "id": "01dee71d",
   "metadata": {},
   "outputs": [],
   "source": [
    "train_df = data_df[data_df[\"data_split\"] == \"train\"]\n",
    "user_counts = train_df.groupby(\"author\").count()[\"id\"]\n",
    "user_counts = user_counts[user_counts.index.isin(test_users)]"
   ]
  },
  {
   "cell_type": "code",
   "execution_count": 58,
   "id": "32f00554",
   "metadata": {},
   "outputs": [],
   "source": [
    "test_df = data_df[data_df[\"data_split\"] == \"test\"]"
   ]
  },
  {
   "cell_type": "markdown",
   "id": "0d06059e",
   "metadata": {},
   "source": [
    "## Fine-Tune All"
   ]
  },
  {
   "cell_type": "code",
   "execution_count": 7,
   "id": "7115c4c7",
   "metadata": {},
   "outputs": [
    {
     "data": {
      "text/html": [
       "<div>\n",
       "<style scoped>\n",
       "    .dataframe tbody tr th:only-of-type {\n",
       "        vertical-align: middle;\n",
       "    }\n",
       "\n",
       "    .dataframe tbody tr th {\n",
       "        vertical-align: top;\n",
       "    }\n",
       "\n",
       "    .dataframe thead th {\n",
       "        text-align: right;\n",
       "    }\n",
       "</style>\n",
       "<table border=\"1\" class=\"dataframe\">\n",
       "  <thead>\n",
       "    <tr style=\"text-align: right;\">\n",
       "      <th></th>\n",
       "      <th>data_split</th>\n",
       "      <th>loss</th>\n",
       "      <th>perplexity</th>\n",
       "    </tr>\n",
       "  </thead>\n",
       "  <tbody>\n",
       "    <tr>\n",
       "      <th>0</th>\n",
       "      <td>train</td>\n",
       "      <td>2.034876</td>\n",
       "      <td>7.651303</td>\n",
       "    </tr>\n",
       "    <tr>\n",
       "      <th>1</th>\n",
       "      <td>eval</td>\n",
       "      <td>2.131445</td>\n",
       "      <td>8.427035</td>\n",
       "    </tr>\n",
       "    <tr>\n",
       "      <th>2</th>\n",
       "      <td>test</td>\n",
       "      <td>2.146064</td>\n",
       "      <td>8.551135</td>\n",
       "    </tr>\n",
       "  </tbody>\n",
       "</table>\n",
       "</div>"
      ],
      "text/plain": [
       "  data_split      loss  perplexity\n",
       "0      train  2.034876    7.651303\n",
       "1       eval  2.131445    8.427035\n",
       "2       test  2.146064    8.551135"
      ]
     },
     "execution_count": 7,
     "metadata": {},
     "output_type": "execute_result"
    }
   ],
   "source": [
    "rd_2b = os.path.join(base_result_dir, \"2b_distilbert_finetuned_constant_lr\")\n",
    "ea_2b = ExpAnalyzer(rd_2b)\n",
    "ea_2b.data_split_perf_df"
   ]
  },
  {
   "cell_type": "code",
   "execution_count": 21,
   "id": "6f358725",
   "metadata": {},
   "outputs": [
    {
     "data": {
      "text/plain": [
       "loss          2.168301\n",
       "perplexity    9.537226\n",
       "dtype: float64"
      ]
     },
     "execution_count": 21,
     "metadata": {},
     "output_type": "execute_result"
    }
   ],
   "source": [
    "ea_2b.author_result_df.mean()"
   ]
  },
  {
   "cell_type": "code",
   "execution_count": 22,
   "id": "f014bf77",
   "metadata": {},
   "outputs": [
    {
     "data": {
      "text/plain": [
       "loss          0.415313\n",
       "perplexity    4.424397\n",
       "dtype: float64"
      ]
     },
     "execution_count": 22,
     "metadata": {},
     "output_type": "execute_result"
    }
   ],
   "source": [
    "ea_2b.author_result_df.std()"
   ]
  },
  {
   "cell_type": "code",
   "execution_count": 10,
   "id": "89c7cbea",
   "metadata": {},
   "outputs": [
    {
     "data": {
      "text/plain": [
       "loss          2.052559\n",
       "perplexity    7.906884\n",
       "dtype: float64"
      ]
     },
     "execution_count": 10,
     "metadata": {},
     "output_type": "execute_result"
    }
   ],
   "source": [
    "ea_2b.sr_result_df.mean()"
   ]
  },
  {
   "cell_type": "code",
   "execution_count": 11,
   "id": "26bd8827",
   "metadata": {},
   "outputs": [
    {
     "data": {
      "text/plain": [
       "loss          0.192139\n",
       "perplexity    1.489724\n",
       "dtype: float64"
      ]
     },
     "execution_count": 11,
     "metadata": {},
     "output_type": "execute_result"
    }
   ],
   "source": [
    "ea_2b.sr_result_df.std()"
   ]
  },
  {
   "cell_type": "markdown",
   "id": "19ead681",
   "metadata": {},
   "source": [
    "## Fine-Tune User"
   ]
  },
  {
   "cell_type": "code",
   "execution_count": 17,
   "id": "31af125f",
   "metadata": {},
   "outputs": [
    {
     "name": "stdout",
     "output_type": "stream",
     "text": [
      "Found results for 50 sub-populations\n"
     ]
    },
    {
     "data": {
      "text/html": [
       "<div>\n",
       "<style scoped>\n",
       "    .dataframe tbody tr th:only-of-type {\n",
       "        vertical-align: middle;\n",
       "    }\n",
       "\n",
       "    .dataframe tbody tr th {\n",
       "        vertical-align: top;\n",
       "    }\n",
       "\n",
       "    .dataframe thead th {\n",
       "        text-align: right;\n",
       "    }\n",
       "</style>\n",
       "<table border=\"1\" class=\"dataframe\">\n",
       "  <thead>\n",
       "    <tr style=\"text-align: right;\">\n",
       "      <th></th>\n",
       "      <th>data_split</th>\n",
       "      <th>loss</th>\n",
       "      <th>perplexity</th>\n",
       "      <th>author</th>\n",
       "    </tr>\n",
       "  </thead>\n",
       "  <tbody>\n",
       "    <tr>\n",
       "      <th>0</th>\n",
       "      <td>train</td>\n",
       "      <td>2.622854</td>\n",
       "      <td>13.774980</td>\n",
       "      <td>binarygold</td>\n",
       "    </tr>\n",
       "    <tr>\n",
       "      <th>1</th>\n",
       "      <td>eval</td>\n",
       "      <td>2.746658</td>\n",
       "      <td>15.590447</td>\n",
       "      <td>binarygold</td>\n",
       "    </tr>\n",
       "    <tr>\n",
       "      <th>2</th>\n",
       "      <td>test</td>\n",
       "      <td>2.897412</td>\n",
       "      <td>18.127168</td>\n",
       "      <td>binarygold</td>\n",
       "    </tr>\n",
       "    <tr>\n",
       "      <th>0</th>\n",
       "      <td>train</td>\n",
       "      <td>2.455534</td>\n",
       "      <td>11.652651</td>\n",
       "      <td>exab</td>\n",
       "    </tr>\n",
       "    <tr>\n",
       "      <th>1</th>\n",
       "      <td>eval</td>\n",
       "      <td>2.328001</td>\n",
       "      <td>10.257412</td>\n",
       "      <td>exab</td>\n",
       "    </tr>\n",
       "    <tr>\n",
       "      <th>...</th>\n",
       "      <td>...</td>\n",
       "      <td>...</td>\n",
       "      <td>...</td>\n",
       "      <td>...</td>\n",
       "    </tr>\n",
       "    <tr>\n",
       "      <th>1</th>\n",
       "      <td>eval</td>\n",
       "      <td>2.812618</td>\n",
       "      <td>16.653456</td>\n",
       "      <td>Creative310</td>\n",
       "    </tr>\n",
       "    <tr>\n",
       "      <th>2</th>\n",
       "      <td>test</td>\n",
       "      <td>3.080813</td>\n",
       "      <td>21.776103</td>\n",
       "      <td>Creative310</td>\n",
       "    </tr>\n",
       "    <tr>\n",
       "      <th>0</th>\n",
       "      <td>train</td>\n",
       "      <td>4.246050</td>\n",
       "      <td>69.829067</td>\n",
       "      <td>retardedinvestor</td>\n",
       "    </tr>\n",
       "    <tr>\n",
       "      <th>1</th>\n",
       "      <td>eval</td>\n",
       "      <td>3.445839</td>\n",
       "      <td>31.369589</td>\n",
       "      <td>retardedinvestor</td>\n",
       "    </tr>\n",
       "    <tr>\n",
       "      <th>2</th>\n",
       "      <td>test</td>\n",
       "      <td>3.663950</td>\n",
       "      <td>39.015138</td>\n",
       "      <td>retardedinvestor</td>\n",
       "    </tr>\n",
       "  </tbody>\n",
       "</table>\n",
       "<p>150 rows × 4 columns</p>\n",
       "</div>"
      ],
      "text/plain": [
       "   data_split      loss  perplexity            author\n",
       "0       train  2.622854   13.774980        binarygold\n",
       "1        eval  2.746658   15.590447        binarygold\n",
       "2        test  2.897412   18.127168        binarygold\n",
       "0       train  2.455534   11.652651              exab\n",
       "1        eval  2.328001   10.257412              exab\n",
       "..        ...       ...         ...               ...\n",
       "1        eval  2.812618   16.653456       Creative310\n",
       "2        test  3.080813   21.776103       Creative310\n",
       "0       train  4.246050   69.829067  retardedinvestor\n",
       "1        eval  3.445839   31.369589  retardedinvestor\n",
       "2        test  3.663950   39.015138  retardedinvestor\n",
       "\n",
       "[150 rows x 4 columns]"
      ]
     },
     "execution_count": 17,
     "metadata": {},
     "output_type": "execute_result"
    }
   ],
   "source": [
    "rd_3a = os.path.join(base_result_dir, \"3a_distilbert_finetuned_author_constant_lr\")\n",
    "ea_3a = PerPopulationExpAnalyzer(rd_3a, \"author\")\n",
    "ea_3a.data_split_perf_df"
   ]
  },
  {
   "cell_type": "code",
   "execution_count": 18,
   "id": "51e73e2f",
   "metadata": {},
   "outputs": [],
   "source": [
    "test_df_3a = ea_3a.data_split_perf_df[ea_3a.data_split_perf_df[\"data_split\"] == \"test\"]"
   ]
  },
  {
   "cell_type": "code",
   "execution_count": 19,
   "id": "e30e5f04",
   "metadata": {},
   "outputs": [
    {
     "data": {
      "text/plain": [
       "loss           2.578356\n",
       "perplexity    14.790691\n",
       "dtype: float64"
      ]
     },
     "execution_count": 19,
     "metadata": {},
     "output_type": "execute_result"
    }
   ],
   "source": [
    "test_df_3a.mean()"
   ]
  },
  {
   "cell_type": "code",
   "execution_count": 20,
   "id": "ae1caecc",
   "metadata": {},
   "outputs": [
    {
     "data": {
      "text/plain": [
       "loss          0.471111\n",
       "perplexity    8.140301\n",
       "dtype: float64"
      ]
     },
     "execution_count": 20,
     "metadata": {},
     "output_type": "execute_result"
    }
   ],
   "source": [
    "test_df_3a.std()"
   ]
  },
  {
   "cell_type": "markdown",
   "id": "186b8b50",
   "metadata": {},
   "source": [
    "## Fine-Tune Subreddit"
   ]
  },
  {
   "cell_type": "code",
   "execution_count": 23,
   "id": "cc8774a5",
   "metadata": {},
   "outputs": [
    {
     "name": "stdout",
     "output_type": "stream",
     "text": [
      "Found results for 6 sub-populations\n"
     ]
    },
    {
     "data": {
      "text/html": [
       "<div>\n",
       "<style scoped>\n",
       "    .dataframe tbody tr th:only-of-type {\n",
       "        vertical-align: middle;\n",
       "    }\n",
       "\n",
       "    .dataframe tbody tr th {\n",
       "        vertical-align: top;\n",
       "    }\n",
       "\n",
       "    .dataframe thead th {\n",
       "        text-align: right;\n",
       "    }\n",
       "</style>\n",
       "<table border=\"1\" class=\"dataframe\">\n",
       "  <thead>\n",
       "    <tr style=\"text-align: right;\">\n",
       "      <th></th>\n",
       "      <th>data_split</th>\n",
       "      <th>loss</th>\n",
       "      <th>perplexity</th>\n",
       "      <th>subreddit</th>\n",
       "    </tr>\n",
       "  </thead>\n",
       "  <tbody>\n",
       "    <tr>\n",
       "      <th>0</th>\n",
       "      <td>train</td>\n",
       "      <td>1.605824</td>\n",
       "      <td>4.981964</td>\n",
       "      <td>investing</td>\n",
       "    </tr>\n",
       "    <tr>\n",
       "      <th>1</th>\n",
       "      <td>eval</td>\n",
       "      <td>2.367700</td>\n",
       "      <td>10.672818</td>\n",
       "      <td>investing</td>\n",
       "    </tr>\n",
       "    <tr>\n",
       "      <th>2</th>\n",
       "      <td>test</td>\n",
       "      <td>2.260057</td>\n",
       "      <td>9.583633</td>\n",
       "      <td>investing</td>\n",
       "    </tr>\n",
       "    <tr>\n",
       "      <th>0</th>\n",
       "      <td>train</td>\n",
       "      <td>2.151371</td>\n",
       "      <td>8.596637</td>\n",
       "      <td>relationship_advice</td>\n",
       "    </tr>\n",
       "    <tr>\n",
       "      <th>1</th>\n",
       "      <td>eval</td>\n",
       "      <td>2.005614</td>\n",
       "      <td>7.430652</td>\n",
       "      <td>relationship_advice</td>\n",
       "    </tr>\n",
       "    <tr>\n",
       "      <th>2</th>\n",
       "      <td>test</td>\n",
       "      <td>1.914430</td>\n",
       "      <td>6.783074</td>\n",
       "      <td>relationship_advice</td>\n",
       "    </tr>\n",
       "    <tr>\n",
       "      <th>0</th>\n",
       "      <td>train</td>\n",
       "      <td>2.235410</td>\n",
       "      <td>9.350319</td>\n",
       "      <td>AskDocs</td>\n",
       "    </tr>\n",
       "    <tr>\n",
       "      <th>1</th>\n",
       "      <td>eval</td>\n",
       "      <td>1.904507</td>\n",
       "      <td>6.716098</td>\n",
       "      <td>AskDocs</td>\n",
       "    </tr>\n",
       "    <tr>\n",
       "      <th>2</th>\n",
       "      <td>test</td>\n",
       "      <td>2.092766</td>\n",
       "      <td>8.107306</td>\n",
       "      <td>AskDocs</td>\n",
       "    </tr>\n",
       "    <tr>\n",
       "      <th>0</th>\n",
       "      <td>train</td>\n",
       "      <td>2.233693</td>\n",
       "      <td>9.334278</td>\n",
       "      <td>Bitcoin</td>\n",
       "    </tr>\n",
       "    <tr>\n",
       "      <th>1</th>\n",
       "      <td>eval</td>\n",
       "      <td>2.233443</td>\n",
       "      <td>9.331939</td>\n",
       "      <td>Bitcoin</td>\n",
       "    </tr>\n",
       "    <tr>\n",
       "      <th>2</th>\n",
       "      <td>test</td>\n",
       "      <td>2.291697</td>\n",
       "      <td>9.891705</td>\n",
       "      <td>Bitcoin</td>\n",
       "    </tr>\n",
       "    <tr>\n",
       "      <th>0</th>\n",
       "      <td>train</td>\n",
       "      <td>2.242369</td>\n",
       "      <td>9.415614</td>\n",
       "      <td>relationships</td>\n",
       "    </tr>\n",
       "    <tr>\n",
       "      <th>1</th>\n",
       "      <td>eval</td>\n",
       "      <td>2.105975</td>\n",
       "      <td>8.215106</td>\n",
       "      <td>relationships</td>\n",
       "    </tr>\n",
       "    <tr>\n",
       "      <th>2</th>\n",
       "      <td>test</td>\n",
       "      <td>1.984499</td>\n",
       "      <td>7.275399</td>\n",
       "      <td>relationships</td>\n",
       "    </tr>\n",
       "    <tr>\n",
       "      <th>0</th>\n",
       "      <td>train</td>\n",
       "      <td>2.247502</td>\n",
       "      <td>9.464069</td>\n",
       "      <td>mentalhealth</td>\n",
       "    </tr>\n",
       "    <tr>\n",
       "      <th>1</th>\n",
       "      <td>eval</td>\n",
       "      <td>2.133284</td>\n",
       "      <td>8.442547</td>\n",
       "      <td>mentalhealth</td>\n",
       "    </tr>\n",
       "    <tr>\n",
       "      <th>2</th>\n",
       "      <td>test</td>\n",
       "      <td>2.199799</td>\n",
       "      <td>9.023196</td>\n",
       "      <td>mentalhealth</td>\n",
       "    </tr>\n",
       "  </tbody>\n",
       "</table>\n",
       "</div>"
      ],
      "text/plain": [
       "  data_split      loss  perplexity            subreddit\n",
       "0      train  1.605824    4.981964            investing\n",
       "1       eval  2.367700   10.672818            investing\n",
       "2       test  2.260057    9.583633            investing\n",
       "0      train  2.151371    8.596637  relationship_advice\n",
       "1       eval  2.005614    7.430652  relationship_advice\n",
       "2       test  1.914430    6.783074  relationship_advice\n",
       "0      train  2.235410    9.350319              AskDocs\n",
       "1       eval  1.904507    6.716098              AskDocs\n",
       "2       test  2.092766    8.107306              AskDocs\n",
       "0      train  2.233693    9.334278              Bitcoin\n",
       "1       eval  2.233443    9.331939              Bitcoin\n",
       "2       test  2.291697    9.891705              Bitcoin\n",
       "0      train  2.242369    9.415614        relationships\n",
       "1       eval  2.105975    8.215106        relationships\n",
       "2       test  1.984499    7.275399        relationships\n",
       "0      train  2.247502    9.464069         mentalhealth\n",
       "1       eval  2.133284    8.442547         mentalhealth\n",
       "2       test  2.199799    9.023196         mentalhealth"
      ]
     },
     "execution_count": 23,
     "metadata": {},
     "output_type": "execute_result"
    }
   ],
   "source": [
    "rd_4a = os.path.join(base_result_dir, \"4a_distilbert_finetuned_subreddit_constant_lr\")\n",
    "ea_4a = PerPopulationExpAnalyzer(rd_4a, \"subreddit\")\n",
    "ea_4a.data_split_perf_df"
   ]
  },
  {
   "cell_type": "code",
   "execution_count": 24,
   "id": "77a532de",
   "metadata": {},
   "outputs": [],
   "source": [
    "test_df_4a = ea_4a.data_split_perf_df[ea_4a.data_split_perf_df[\"data_split\"] == \"test\"]"
   ]
  },
  {
   "cell_type": "code",
   "execution_count": 25,
   "id": "8677fdef",
   "metadata": {},
   "outputs": [
    {
     "data": {
      "text/plain": [
       "loss          2.123874\n",
       "perplexity    8.444052\n",
       "dtype: float64"
      ]
     },
     "execution_count": 25,
     "metadata": {},
     "output_type": "execute_result"
    }
   ],
   "source": [
    "test_df_4a.mean()"
   ]
  },
  {
   "cell_type": "code",
   "execution_count": 26,
   "id": "cdd416d4",
   "metadata": {},
   "outputs": [
    {
     "data": {
      "text/plain": [
       "loss          0.152797\n",
       "perplexity    1.262359\n",
       "dtype: float64"
      ]
     },
     "execution_count": 26,
     "metadata": {},
     "output_type": "execute_result"
    }
   ],
   "source": [
    "test_df_4a.std()"
   ]
  },
  {
   "cell_type": "markdown",
   "id": "db05b2d8",
   "metadata": {},
   "source": [
    "## Multi-Stage Fine-Tune"
   ]
  },
  {
   "cell_type": "markdown",
   "id": "d77eeb20",
   "metadata": {},
   "source": [
    "#### lr = 5e-05"
   ]
  },
  {
   "cell_type": "code",
   "execution_count": 29,
   "id": "8f874fcc",
   "metadata": {},
   "outputs": [
    {
     "name": "stdout",
     "output_type": "stream",
     "text": [
      "Found results for 50 sub-populations\n"
     ]
    },
    {
     "data": {
      "text/html": [
       "<div>\n",
       "<style scoped>\n",
       "    .dataframe tbody tr th:only-of-type {\n",
       "        vertical-align: middle;\n",
       "    }\n",
       "\n",
       "    .dataframe tbody tr th {\n",
       "        vertical-align: top;\n",
       "    }\n",
       "\n",
       "    .dataframe thead th {\n",
       "        text-align: right;\n",
       "    }\n",
       "</style>\n",
       "<table border=\"1\" class=\"dataframe\">\n",
       "  <thead>\n",
       "    <tr style=\"text-align: right;\">\n",
       "      <th></th>\n",
       "      <th>data_split</th>\n",
       "      <th>loss</th>\n",
       "      <th>perplexity</th>\n",
       "      <th>author</th>\n",
       "    </tr>\n",
       "  </thead>\n",
       "  <tbody>\n",
       "    <tr>\n",
       "      <th>0</th>\n",
       "      <td>train</td>\n",
       "      <td>2.080728</td>\n",
       "      <td>8.010300</td>\n",
       "      <td>wsace</td>\n",
       "    </tr>\n",
       "    <tr>\n",
       "      <th>1</th>\n",
       "      <td>eval</td>\n",
       "      <td>2.226663</td>\n",
       "      <td>9.268881</td>\n",
       "      <td>wsace</td>\n",
       "    </tr>\n",
       "    <tr>\n",
       "      <th>2</th>\n",
       "      <td>test</td>\n",
       "      <td>1.890351</td>\n",
       "      <td>6.621694</td>\n",
       "      <td>wsace</td>\n",
       "    </tr>\n",
       "    <tr>\n",
       "      <th>0</th>\n",
       "      <td>train</td>\n",
       "      <td>2.578425</td>\n",
       "      <td>13.176366</td>\n",
       "      <td>Dotabjj</td>\n",
       "    </tr>\n",
       "    <tr>\n",
       "      <th>1</th>\n",
       "      <td>eval</td>\n",
       "      <td>2.394565</td>\n",
       "      <td>10.963432</td>\n",
       "      <td>Dotabjj</td>\n",
       "    </tr>\n",
       "    <tr>\n",
       "      <th>...</th>\n",
       "      <td>...</td>\n",
       "      <td>...</td>\n",
       "      <td>...</td>\n",
       "      <td>...</td>\n",
       "    </tr>\n",
       "    <tr>\n",
       "      <th>1</th>\n",
       "      <td>eval</td>\n",
       "      <td>1.940132</td>\n",
       "      <td>6.959667</td>\n",
       "      <td>hgmichna</td>\n",
       "    </tr>\n",
       "    <tr>\n",
       "      <th>2</th>\n",
       "      <td>test</td>\n",
       "      <td>2.304577</td>\n",
       "      <td>10.019938</td>\n",
       "      <td>hgmichna</td>\n",
       "    </tr>\n",
       "    <tr>\n",
       "      <th>0</th>\n",
       "      <td>train</td>\n",
       "      <td>1.963913</td>\n",
       "      <td>7.127163</td>\n",
       "      <td>Olliebkl</td>\n",
       "    </tr>\n",
       "    <tr>\n",
       "      <th>1</th>\n",
       "      <td>eval</td>\n",
       "      <td>1.986492</td>\n",
       "      <td>7.289917</td>\n",
       "      <td>Olliebkl</td>\n",
       "    </tr>\n",
       "    <tr>\n",
       "      <th>2</th>\n",
       "      <td>test</td>\n",
       "      <td>2.244430</td>\n",
       "      <td>9.435039</td>\n",
       "      <td>Olliebkl</td>\n",
       "    </tr>\n",
       "  </tbody>\n",
       "</table>\n",
       "<p>150 rows × 4 columns</p>\n",
       "</div>"
      ],
      "text/plain": [
       "   data_split      loss  perplexity    author\n",
       "0       train  2.080728    8.010300     wsace\n",
       "1        eval  2.226663    9.268881     wsace\n",
       "2        test  1.890351    6.621694     wsace\n",
       "0       train  2.578425   13.176366   Dotabjj\n",
       "1        eval  2.394565   10.963432   Dotabjj\n",
       "..        ...       ...         ...       ...\n",
       "1        eval  1.940132    6.959667  hgmichna\n",
       "2        test  2.304577   10.019938  hgmichna\n",
       "0       train  1.963913    7.127163  Olliebkl\n",
       "1        eval  1.986492    7.289917  Olliebkl\n",
       "2        test  2.244430    9.435039  Olliebkl\n",
       "\n",
       "[150 rows x 4 columns]"
      ]
     },
     "execution_count": 29,
     "metadata": {},
     "output_type": "execute_result"
    }
   ],
   "source": [
    "rd_6_55 = os.path.join(base_result_dir, \"6_distilbert_finetuned_all_author\", \"3_3_epochs_lr_5e-5\")\n",
    "ea_6_55 = PerPopulationExpAnalyzer(rd_6_55, \"author\")\n",
    "ea_6_55.data_split_perf_df"
   ]
  },
  {
   "cell_type": "code",
   "execution_count": 30,
   "id": "63ba889c",
   "metadata": {},
   "outputs": [],
   "source": [
    "test_df_6_55 = ea_6_55.data_split_perf_df[ea_6_55.data_split_perf_df[\"data_split\"] == \"test\"]"
   ]
  },
  {
   "cell_type": "code",
   "execution_count": 32,
   "id": "1dea6847",
   "metadata": {},
   "outputs": [
    {
     "data": {
      "text/plain": [
       "loss          2.141876\n",
       "perplexity    9.302310\n",
       "dtype: float64"
      ]
     },
     "execution_count": 32,
     "metadata": {},
     "output_type": "execute_result"
    }
   ],
   "source": [
    "test_df_6_55.mean()"
   ]
  },
  {
   "cell_type": "code",
   "execution_count": 33,
   "id": "e3b37c2a",
   "metadata": {},
   "outputs": [
    {
     "data": {
      "text/plain": [
       "loss          0.420664\n",
       "perplexity    4.291948\n",
       "dtype: float64"
      ]
     },
     "execution_count": 33,
     "metadata": {},
     "output_type": "execute_result"
    }
   ],
   "source": [
    "test_df_6_55.std()"
   ]
  },
  {
   "cell_type": "markdown",
   "id": "76d9cb50",
   "metadata": {},
   "source": [
    "#### lr=1e-05"
   ]
  },
  {
   "cell_type": "code",
   "execution_count": 35,
   "id": "23ed78ee",
   "metadata": {},
   "outputs": [
    {
     "name": "stdout",
     "output_type": "stream",
     "text": [
      "Found results for 50 sub-populations\n"
     ]
    },
    {
     "data": {
      "text/html": [
       "<div>\n",
       "<style scoped>\n",
       "    .dataframe tbody tr th:only-of-type {\n",
       "        vertical-align: middle;\n",
       "    }\n",
       "\n",
       "    .dataframe tbody tr th {\n",
       "        vertical-align: top;\n",
       "    }\n",
       "\n",
       "    .dataframe thead th {\n",
       "        text-align: right;\n",
       "    }\n",
       "</style>\n",
       "<table border=\"1\" class=\"dataframe\">\n",
       "  <thead>\n",
       "    <tr style=\"text-align: right;\">\n",
       "      <th></th>\n",
       "      <th>data_split</th>\n",
       "      <th>loss</th>\n",
       "      <th>perplexity</th>\n",
       "      <th>author</th>\n",
       "    </tr>\n",
       "  </thead>\n",
       "  <tbody>\n",
       "    <tr>\n",
       "      <th>0</th>\n",
       "      <td>train</td>\n",
       "      <td>2.599961</td>\n",
       "      <td>13.463215</td>\n",
       "      <td>lightlasertower</td>\n",
       "    </tr>\n",
       "    <tr>\n",
       "      <th>1</th>\n",
       "      <td>eval</td>\n",
       "      <td>2.205059</td>\n",
       "      <td>9.070785</td>\n",
       "      <td>lightlasertower</td>\n",
       "    </tr>\n",
       "    <tr>\n",
       "      <th>2</th>\n",
       "      <td>test</td>\n",
       "      <td>2.828444</td>\n",
       "      <td>16.919122</td>\n",
       "      <td>lightlasertower</td>\n",
       "    </tr>\n",
       "    <tr>\n",
       "      <th>0</th>\n",
       "      <td>train</td>\n",
       "      <td>2.052993</td>\n",
       "      <td>7.791189</td>\n",
       "      <td>peimom123</td>\n",
       "    </tr>\n",
       "    <tr>\n",
       "      <th>1</th>\n",
       "      <td>eval</td>\n",
       "      <td>1.848669</td>\n",
       "      <td>6.351360</td>\n",
       "      <td>peimom123</td>\n",
       "    </tr>\n",
       "    <tr>\n",
       "      <th>...</th>\n",
       "      <td>...</td>\n",
       "      <td>...</td>\n",
       "      <td>...</td>\n",
       "      <td>...</td>\n",
       "    </tr>\n",
       "    <tr>\n",
       "      <th>1</th>\n",
       "      <td>eval</td>\n",
       "      <td>1.804049</td>\n",
       "      <td>6.074194</td>\n",
       "      <td>Kennyv777</td>\n",
       "    </tr>\n",
       "    <tr>\n",
       "      <th>2</th>\n",
       "      <td>test</td>\n",
       "      <td>2.027661</td>\n",
       "      <td>7.596295</td>\n",
       "      <td>Kennyv777</td>\n",
       "    </tr>\n",
       "    <tr>\n",
       "      <th>0</th>\n",
       "      <td>train</td>\n",
       "      <td>2.120001</td>\n",
       "      <td>8.331147</td>\n",
       "      <td>blossbloss</td>\n",
       "    </tr>\n",
       "    <tr>\n",
       "      <th>1</th>\n",
       "      <td>eval</td>\n",
       "      <td>2.204881</td>\n",
       "      <td>9.069174</td>\n",
       "      <td>blossbloss</td>\n",
       "    </tr>\n",
       "    <tr>\n",
       "      <th>2</th>\n",
       "      <td>test</td>\n",
       "      <td>1.860049</td>\n",
       "      <td>6.424055</td>\n",
       "      <td>blossbloss</td>\n",
       "    </tr>\n",
       "  </tbody>\n",
       "</table>\n",
       "<p>150 rows × 4 columns</p>\n",
       "</div>"
      ],
      "text/plain": [
       "   data_split      loss  perplexity           author\n",
       "0       train  2.599961   13.463215  lightlasertower\n",
       "1        eval  2.205059    9.070785  lightlasertower\n",
       "2        test  2.828444   16.919122  lightlasertower\n",
       "0       train  2.052993    7.791189        peimom123\n",
       "1        eval  1.848669    6.351360        peimom123\n",
       "..        ...       ...         ...              ...\n",
       "1        eval  1.804049    6.074194        Kennyv777\n",
       "2        test  2.027661    7.596295        Kennyv777\n",
       "0       train  2.120001    8.331147       blossbloss\n",
       "1        eval  2.204881    9.069174       blossbloss\n",
       "2        test  1.860049    6.424055       blossbloss\n",
       "\n",
       "[150 rows x 4 columns]"
      ]
     },
     "execution_count": 35,
     "metadata": {},
     "output_type": "execute_result"
    }
   ],
   "source": [
    "rd_6_15 = os.path.join(base_result_dir, \"6_distilbert_finetuned_all_author\", \"3_3_epochs_lr_1e-5\")\n",
    "ea_6_15 = PerPopulationExpAnalyzer(rd_6_15, \"author\")\n",
    "ea_6_15.data_split_perf_df"
   ]
  },
  {
   "cell_type": "code",
   "execution_count": 36,
   "id": "c9997b08",
   "metadata": {},
   "outputs": [],
   "source": [
    "test_df_6_15 = ea_6_15.data_split_perf_df[ea_6_15.data_split_perf_df[\"data_split\"] == \"test\"]"
   ]
  },
  {
   "cell_type": "code",
   "execution_count": 37,
   "id": "b4e2d704",
   "metadata": {},
   "outputs": [
    {
     "data": {
      "text/plain": [
       "loss          2.152483\n",
       "perplexity    9.392736\n",
       "dtype: float64"
      ]
     },
     "execution_count": 37,
     "metadata": {},
     "output_type": "execute_result"
    }
   ],
   "source": [
    "test_df_6_15.mean()"
   ]
  },
  {
   "cell_type": "code",
   "execution_count": 38,
   "id": "119c29c7",
   "metadata": {},
   "outputs": [
    {
     "data": {
      "text/plain": [
       "loss          0.416811\n",
       "perplexity    4.362590\n",
       "dtype: float64"
      ]
     },
     "execution_count": 38,
     "metadata": {},
     "output_type": "execute_result"
    }
   ],
   "source": [
    "test_df_6_15.std()"
   ]
  },
  {
   "cell_type": "markdown",
   "id": "b28ef01c",
   "metadata": {},
   "source": [
    "#### lr=5e-06"
   ]
  },
  {
   "cell_type": "code",
   "execution_count": 39,
   "id": "b4441607",
   "metadata": {},
   "outputs": [
    {
     "name": "stdout",
     "output_type": "stream",
     "text": [
      "Found results for 50 sub-populations\n"
     ]
    },
    {
     "data": {
      "text/html": [
       "<div>\n",
       "<style scoped>\n",
       "    .dataframe tbody tr th:only-of-type {\n",
       "        vertical-align: middle;\n",
       "    }\n",
       "\n",
       "    .dataframe tbody tr th {\n",
       "        vertical-align: top;\n",
       "    }\n",
       "\n",
       "    .dataframe thead th {\n",
       "        text-align: right;\n",
       "    }\n",
       "</style>\n",
       "<table border=\"1\" class=\"dataframe\">\n",
       "  <thead>\n",
       "    <tr style=\"text-align: right;\">\n",
       "      <th></th>\n",
       "      <th>data_split</th>\n",
       "      <th>loss</th>\n",
       "      <th>perplexity</th>\n",
       "      <th>author</th>\n",
       "    </tr>\n",
       "  </thead>\n",
       "  <tbody>\n",
       "    <tr>\n",
       "      <th>0</th>\n",
       "      <td>train</td>\n",
       "      <td>2.252515</td>\n",
       "      <td>9.511629</td>\n",
       "      <td>closingbell</td>\n",
       "    </tr>\n",
       "    <tr>\n",
       "      <th>1</th>\n",
       "      <td>eval</td>\n",
       "      <td>2.020747</td>\n",
       "      <td>7.543958</td>\n",
       "      <td>closingbell</td>\n",
       "    </tr>\n",
       "    <tr>\n",
       "      <th>2</th>\n",
       "      <td>test</td>\n",
       "      <td>2.169914</td>\n",
       "      <td>8.757531</td>\n",
       "      <td>closingbell</td>\n",
       "    </tr>\n",
       "    <tr>\n",
       "      <th>0</th>\n",
       "      <td>train</td>\n",
       "      <td>1.858269</td>\n",
       "      <td>6.412629</td>\n",
       "      <td>HelloImLucas</td>\n",
       "    </tr>\n",
       "    <tr>\n",
       "      <th>1</th>\n",
       "      <td>eval</td>\n",
       "      <td>1.946663</td>\n",
       "      <td>7.005270</td>\n",
       "      <td>HelloImLucas</td>\n",
       "    </tr>\n",
       "    <tr>\n",
       "      <th>...</th>\n",
       "      <td>...</td>\n",
       "      <td>...</td>\n",
       "      <td>...</td>\n",
       "      <td>...</td>\n",
       "    </tr>\n",
       "    <tr>\n",
       "      <th>1</th>\n",
       "      <td>eval</td>\n",
       "      <td>2.223102</td>\n",
       "      <td>9.235939</td>\n",
       "      <td>wsace</td>\n",
       "    </tr>\n",
       "    <tr>\n",
       "      <th>2</th>\n",
       "      <td>test</td>\n",
       "      <td>1.917891</td>\n",
       "      <td>6.806587</td>\n",
       "      <td>wsace</td>\n",
       "    </tr>\n",
       "    <tr>\n",
       "      <th>0</th>\n",
       "      <td>train</td>\n",
       "      <td>2.328436</td>\n",
       "      <td>10.261882</td>\n",
       "      <td>BRoccoli20</td>\n",
       "    </tr>\n",
       "    <tr>\n",
       "      <th>1</th>\n",
       "      <td>eval</td>\n",
       "      <td>2.130356</td>\n",
       "      <td>8.417864</td>\n",
       "      <td>BRoccoli20</td>\n",
       "    </tr>\n",
       "    <tr>\n",
       "      <th>2</th>\n",
       "      <td>test</td>\n",
       "      <td>1.984599</td>\n",
       "      <td>7.276129</td>\n",
       "      <td>BRoccoli20</td>\n",
       "    </tr>\n",
       "  </tbody>\n",
       "</table>\n",
       "<p>150 rows × 4 columns</p>\n",
       "</div>"
      ],
      "text/plain": [
       "   data_split      loss  perplexity        author\n",
       "0       train  2.252515    9.511629   closingbell\n",
       "1        eval  2.020747    7.543958   closingbell\n",
       "2        test  2.169914    8.757531   closingbell\n",
       "0       train  1.858269    6.412629  HelloImLucas\n",
       "1        eval  1.946663    7.005270  HelloImLucas\n",
       "..        ...       ...         ...           ...\n",
       "1        eval  2.223102    9.235939         wsace\n",
       "2        test  1.917891    6.806587         wsace\n",
       "0       train  2.328436   10.261882    BRoccoli20\n",
       "1        eval  2.130356    8.417864    BRoccoli20\n",
       "2        test  1.984599    7.276129    BRoccoli20\n",
       "\n",
       "[150 rows x 4 columns]"
      ]
     },
     "execution_count": 39,
     "metadata": {},
     "output_type": "execute_result"
    }
   ],
   "source": [
    "rd_6_56 = os.path.join(base_result_dir, \"6_distilbert_finetuned_all_author\", \"3_3_epochs_lr_5e-6\")\n",
    "ea_6_56 = PerPopulationExpAnalyzer(rd_6_56, \"author\")\n",
    "ea_6_56.data_split_perf_df"
   ]
  },
  {
   "cell_type": "code",
   "execution_count": 40,
   "id": "e90a6a0d",
   "metadata": {},
   "outputs": [],
   "source": [
    "test_df_6_56 = ea_6_56.data_split_perf_df[ea_6_56.data_split_perf_df[\"data_split\"] == \"test\"]"
   ]
  },
  {
   "cell_type": "code",
   "execution_count": 41,
   "id": "16929bda",
   "metadata": {},
   "outputs": [
    {
     "data": {
      "text/plain": [
       "loss          2.159230\n",
       "perplexity    9.454112\n",
       "dtype: float64"
      ]
     },
     "execution_count": 41,
     "metadata": {},
     "output_type": "execute_result"
    }
   ],
   "source": [
    "test_df_6_56.mean()"
   ]
  },
  {
   "cell_type": "code",
   "execution_count": 42,
   "id": "4b78cf5b",
   "metadata": {},
   "outputs": [
    {
     "data": {
      "text/plain": [
       "loss          0.416104\n",
       "perplexity    4.390839\n",
       "dtype: float64"
      ]
     },
     "execution_count": 42,
     "metadata": {},
     "output_type": "execute_result"
    }
   ],
   "source": [
    "test_df_6_56.std()"
   ]
  },
  {
   "cell_type": "markdown",
   "id": "0394d966",
   "metadata": {},
   "source": [
    "## Fine-tune All Data (just 2 epochs)"
   ]
  },
  {
   "cell_type": "code",
   "execution_count": 43,
   "id": "dc96e596",
   "metadata": {},
   "outputs": [
    {
     "data": {
      "text/html": [
       "<div>\n",
       "<style scoped>\n",
       "    .dataframe tbody tr th:only-of-type {\n",
       "        vertical-align: middle;\n",
       "    }\n",
       "\n",
       "    .dataframe tbody tr th {\n",
       "        vertical-align: top;\n",
       "    }\n",
       "\n",
       "    .dataframe thead th {\n",
       "        text-align: right;\n",
       "    }\n",
       "</style>\n",
       "<table border=\"1\" class=\"dataframe\">\n",
       "  <thead>\n",
       "    <tr style=\"text-align: right;\">\n",
       "      <th></th>\n",
       "      <th>data_split</th>\n",
       "      <th>loss</th>\n",
       "      <th>perplexity</th>\n",
       "    </tr>\n",
       "  </thead>\n",
       "  <tbody>\n",
       "    <tr>\n",
       "      <th>0</th>\n",
       "      <td>train</td>\n",
       "      <td>2.096967</td>\n",
       "      <td>8.141440</td>\n",
       "    </tr>\n",
       "    <tr>\n",
       "      <th>1</th>\n",
       "      <td>eval</td>\n",
       "      <td>2.239995</td>\n",
       "      <td>9.393282</td>\n",
       "    </tr>\n",
       "    <tr>\n",
       "      <th>2</th>\n",
       "      <td>test</td>\n",
       "      <td>2.189264</td>\n",
       "      <td>8.928640</td>\n",
       "    </tr>\n",
       "  </tbody>\n",
       "</table>\n",
       "</div>"
      ],
      "text/plain": [
       "  data_split      loss  perplexity\n",
       "0      train  2.096967    8.141440\n",
       "1       eval  2.239995    9.393282\n",
       "2       test  2.189264    8.928640"
      ]
     },
     "execution_count": 43,
     "metadata": {},
     "output_type": "execute_result"
    }
   ],
   "source": [
    "rd_2b_2e = os.path.join(base_result_dir, \"2b_distilbert_finetuned_constant_lr_2_epochs\")\n",
    "ea_2b_2e = ExpAnalyzer(rd_2b_2e)\n",
    "ea_2b_2e.data_split_perf_df"
   ]
  },
  {
   "cell_type": "code",
   "execution_count": 44,
   "id": "5fb7e681",
   "metadata": {},
   "outputs": [
    {
     "data": {
      "text/plain": [
       "loss          2.216824\n",
       "perplexity    9.983422\n",
       "dtype: float64"
      ]
     },
     "execution_count": 44,
     "metadata": {},
     "output_type": "execute_result"
    }
   ],
   "source": [
    "ea_2b_2e.author_result_df.mean()"
   ]
  },
  {
   "cell_type": "code",
   "execution_count": 46,
   "id": "7e1c3f27",
   "metadata": {},
   "outputs": [
    {
     "data": {
      "text/plain": [
       "loss          0.412176\n",
       "perplexity    4.454463\n",
       "dtype: float64"
      ]
     },
     "execution_count": 46,
     "metadata": {},
     "output_type": "execute_result"
    }
   ],
   "source": [
    "ea_2b_2e.author_result_df.std()"
   ]
  },
  {
   "cell_type": "markdown",
   "id": "f465059a",
   "metadata": {},
   "source": [
    "## Fine-tune all 2 + Fine-tune user 1"
   ]
  },
  {
   "cell_type": "code",
   "execution_count": 47,
   "id": "0171b28c",
   "metadata": {},
   "outputs": [
    {
     "name": "stdout",
     "output_type": "stream",
     "text": [
      "Found results for 50 sub-populations\n"
     ]
    },
    {
     "data": {
      "text/html": [
       "<div>\n",
       "<style scoped>\n",
       "    .dataframe tbody tr th:only-of-type {\n",
       "        vertical-align: middle;\n",
       "    }\n",
       "\n",
       "    .dataframe tbody tr th {\n",
       "        vertical-align: top;\n",
       "    }\n",
       "\n",
       "    .dataframe thead th {\n",
       "        text-align: right;\n",
       "    }\n",
       "</style>\n",
       "<table border=\"1\" class=\"dataframe\">\n",
       "  <thead>\n",
       "    <tr style=\"text-align: right;\">\n",
       "      <th></th>\n",
       "      <th>data_split</th>\n",
       "      <th>loss</th>\n",
       "      <th>perplexity</th>\n",
       "      <th>author</th>\n",
       "    </tr>\n",
       "  </thead>\n",
       "  <tbody>\n",
       "    <tr>\n",
       "      <th>0</th>\n",
       "      <td>train</td>\n",
       "      <td>2.302821</td>\n",
       "      <td>10.002361</td>\n",
       "      <td>BRoccoli20</td>\n",
       "    </tr>\n",
       "    <tr>\n",
       "      <th>1</th>\n",
       "      <td>eval</td>\n",
       "      <td>2.194993</td>\n",
       "      <td>8.979938</td>\n",
       "      <td>BRoccoli20</td>\n",
       "    </tr>\n",
       "    <tr>\n",
       "      <th>2</th>\n",
       "      <td>test</td>\n",
       "      <td>2.007158</td>\n",
       "      <td>7.442139</td>\n",
       "      <td>BRoccoli20</td>\n",
       "    </tr>\n",
       "    <tr>\n",
       "      <th>0</th>\n",
       "      <td>train</td>\n",
       "      <td>2.634305</td>\n",
       "      <td>13.933625</td>\n",
       "      <td>lightlasertower</td>\n",
       "    </tr>\n",
       "    <tr>\n",
       "      <th>1</th>\n",
       "      <td>eval</td>\n",
       "      <td>3.119262</td>\n",
       "      <td>22.629667</td>\n",
       "      <td>lightlasertower</td>\n",
       "    </tr>\n",
       "    <tr>\n",
       "      <th>...</th>\n",
       "      <td>...</td>\n",
       "      <td>...</td>\n",
       "      <td>...</td>\n",
       "      <td>...</td>\n",
       "    </tr>\n",
       "    <tr>\n",
       "      <th>1</th>\n",
       "      <td>eval</td>\n",
       "      <td>2.485313</td>\n",
       "      <td>12.004882</td>\n",
       "      <td>hrrm</td>\n",
       "    </tr>\n",
       "    <tr>\n",
       "      <th>2</th>\n",
       "      <td>test</td>\n",
       "      <td>2.172009</td>\n",
       "      <td>8.775893</td>\n",
       "      <td>hrrm</td>\n",
       "    </tr>\n",
       "    <tr>\n",
       "      <th>0</th>\n",
       "      <td>train</td>\n",
       "      <td>2.464687</td>\n",
       "      <td>11.759801</td>\n",
       "      <td>KarmaKingKong</td>\n",
       "    </tr>\n",
       "    <tr>\n",
       "      <th>1</th>\n",
       "      <td>eval</td>\n",
       "      <td>2.304032</td>\n",
       "      <td>10.014476</td>\n",
       "      <td>KarmaKingKong</td>\n",
       "    </tr>\n",
       "    <tr>\n",
       "      <th>2</th>\n",
       "      <td>test</td>\n",
       "      <td>2.080423</td>\n",
       "      <td>8.007853</td>\n",
       "      <td>KarmaKingKong</td>\n",
       "    </tr>\n",
       "  </tbody>\n",
       "</table>\n",
       "<p>150 rows × 4 columns</p>\n",
       "</div>"
      ],
      "text/plain": [
       "   data_split      loss  perplexity           author\n",
       "0       train  2.302821   10.002361       BRoccoli20\n",
       "1        eval  2.194993    8.979938       BRoccoli20\n",
       "2        test  2.007158    7.442139       BRoccoli20\n",
       "0       train  2.634305   13.933625  lightlasertower\n",
       "1        eval  3.119262   22.629667  lightlasertower\n",
       "..        ...       ...         ...              ...\n",
       "1        eval  2.485313   12.004882             hrrm\n",
       "2        test  2.172009    8.775893             hrrm\n",
       "0       train  2.464687   11.759801    KarmaKingKong\n",
       "1        eval  2.304032   10.014476    KarmaKingKong\n",
       "2        test  2.080423    8.007853    KarmaKingKong\n",
       "\n",
       "[150 rows x 4 columns]"
      ]
     },
     "execution_count": 47,
     "metadata": {},
     "output_type": "execute_result"
    }
   ],
   "source": [
    "rd_6_21 = os.path.join(base_result_dir, \"6_distilbert_finetuned_all_author\", \"2_1_epochs_lr_5e-5\")\n",
    "ea_6_21 = PerPopulationExpAnalyzer(rd_6_21, \"author\")\n",
    "ea_6_21.data_split_perf_df"
   ]
  },
  {
   "cell_type": "code",
   "execution_count": 48,
   "id": "668c4920",
   "metadata": {},
   "outputs": [],
   "source": [
    "test_df_6_21 = ea_6_21.data_split_perf_df[ea_6_21.data_split_perf_df[\"data_split\"] == \"test\"]"
   ]
  },
  {
   "cell_type": "code",
   "execution_count": 49,
   "id": "0c6579a6",
   "metadata": {},
   "outputs": [
    {
     "data": {
      "text/plain": [
       "loss          2.201611\n",
       "perplexity    9.846082\n",
       "dtype: float64"
      ]
     },
     "execution_count": 49,
     "metadata": {},
     "output_type": "execute_result"
    }
   ],
   "source": [
    "test_df_6_21.mean()"
   ]
  },
  {
   "cell_type": "code",
   "execution_count": 50,
   "id": "b2319769",
   "metadata": {},
   "outputs": [
    {
     "data": {
      "text/plain": [
       "loss          0.414254\n",
       "perplexity    4.437918\n",
       "dtype: float64"
      ]
     },
     "execution_count": 50,
     "metadata": {},
     "output_type": "execute_result"
    }
   ],
   "source": [
    "test_df_6_21.std()"
   ]
  },
  {
   "cell_type": "code",
   "execution_count": null,
   "id": "d7b77c74",
   "metadata": {},
   "outputs": [],
   "source": []
  },
  {
   "cell_type": "markdown",
   "id": "c9943499",
   "metadata": {},
   "source": [
    "## Fine-Tune All 6 epochs"
   ]
  },
  {
   "cell_type": "code",
   "execution_count": 52,
   "id": "4c538eba",
   "metadata": {},
   "outputs": [
    {
     "data": {
      "text/html": [
       "<div>\n",
       "<style scoped>\n",
       "    .dataframe tbody tr th:only-of-type {\n",
       "        vertical-align: middle;\n",
       "    }\n",
       "\n",
       "    .dataframe tbody tr th {\n",
       "        vertical-align: top;\n",
       "    }\n",
       "\n",
       "    .dataframe thead th {\n",
       "        text-align: right;\n",
       "    }\n",
       "</style>\n",
       "<table border=\"1\" class=\"dataframe\">\n",
       "  <thead>\n",
       "    <tr style=\"text-align: right;\">\n",
       "      <th></th>\n",
       "      <th>data_split</th>\n",
       "      <th>loss</th>\n",
       "      <th>perplexity</th>\n",
       "    </tr>\n",
       "  </thead>\n",
       "  <tbody>\n",
       "    <tr>\n",
       "      <th>0</th>\n",
       "      <td>train</td>\n",
       "      <td>1.926833</td>\n",
       "      <td>6.867727</td>\n",
       "    </tr>\n",
       "    <tr>\n",
       "      <th>1</th>\n",
       "      <td>eval</td>\n",
       "      <td>2.095439</td>\n",
       "      <td>8.129012</td>\n",
       "    </tr>\n",
       "    <tr>\n",
       "      <th>2</th>\n",
       "      <td>test</td>\n",
       "      <td>2.075626</td>\n",
       "      <td>7.969537</td>\n",
       "    </tr>\n",
       "  </tbody>\n",
       "</table>\n",
       "</div>"
      ],
      "text/plain": [
       "  data_split      loss  perplexity\n",
       "0      train  1.926833    6.867727\n",
       "1       eval  2.095439    8.129012\n",
       "2       test  2.075626    7.969537"
      ]
     },
     "execution_count": 52,
     "metadata": {},
     "output_type": "execute_result"
    }
   ],
   "source": [
    "rd_2c = os.path.join(base_result_dir, \"2c_distilbert_finetuned_all_6_epochs\")\n",
    "ea_2c = ExpAnalyzer(rd_2c)\n",
    "ea_2c.data_split_perf_df"
   ]
  },
  {
   "cell_type": "code",
   "execution_count": 53,
   "id": "7cef23d6",
   "metadata": {},
   "outputs": [
    {
     "data": {
      "text/plain": [
       "loss          2.094127\n",
       "perplexity    8.878195\n",
       "dtype: float64"
      ]
     },
     "execution_count": 53,
     "metadata": {},
     "output_type": "execute_result"
    }
   ],
   "source": [
    "ea_2c.author_result_df.mean()"
   ]
  },
  {
   "cell_type": "code",
   "execution_count": 54,
   "id": "8ab4b12c",
   "metadata": {},
   "outputs": [
    {
     "data": {
      "text/plain": [
       "loss          0.422024\n",
       "perplexity    4.215700\n",
       "dtype: float64"
      ]
     },
     "execution_count": 54,
     "metadata": {},
     "output_type": "execute_result"
    }
   ],
   "source": [
    "ea_2c.author_result_df.std()"
   ]
  },
  {
   "cell_type": "markdown",
   "id": "8dfe70e2",
   "metadata": {},
   "source": [
    "## Subreddit Fine-Tune - Per Sample Losses"
   ]
  },
  {
   "cell_type": "code",
   "execution_count": 61,
   "id": "e3f33e54",
   "metadata": {},
   "outputs": [
    {
     "name": "stdout",
     "output_type": "stream",
     "text": [
      "Found results for 6 sub-populations\n"
     ]
    },
    {
     "data": {
      "text/html": [
       "<div>\n",
       "<style scoped>\n",
       "    .dataframe tbody tr th:only-of-type {\n",
       "        vertical-align: middle;\n",
       "    }\n",
       "\n",
       "    .dataframe tbody tr th {\n",
       "        vertical-align: top;\n",
       "    }\n",
       "\n",
       "    .dataframe thead th {\n",
       "        text-align: right;\n",
       "    }\n",
       "</style>\n",
       "<table border=\"1\" class=\"dataframe\">\n",
       "  <thead>\n",
       "    <tr style=\"text-align: right;\">\n",
       "      <th></th>\n",
       "      <th>data_split</th>\n",
       "      <th>loss</th>\n",
       "      <th>perplexity</th>\n",
       "      <th>subreddit</th>\n",
       "    </tr>\n",
       "  </thead>\n",
       "  <tbody>\n",
       "    <tr>\n",
       "      <th>0</th>\n",
       "      <td>test</td>\n",
       "      <td>1.984499</td>\n",
       "      <td>7.275399</td>\n",
       "      <td>relationships</td>\n",
       "    </tr>\n",
       "    <tr>\n",
       "      <th>0</th>\n",
       "      <td>test</td>\n",
       "      <td>2.199799</td>\n",
       "      <td>9.023196</td>\n",
       "      <td>mentalhealth</td>\n",
       "    </tr>\n",
       "    <tr>\n",
       "      <th>0</th>\n",
       "      <td>test</td>\n",
       "      <td>1.914430</td>\n",
       "      <td>6.783074</td>\n",
       "      <td>relationship_advice</td>\n",
       "    </tr>\n",
       "    <tr>\n",
       "      <th>0</th>\n",
       "      <td>test</td>\n",
       "      <td>2.260057</td>\n",
       "      <td>9.583633</td>\n",
       "      <td>investing</td>\n",
       "    </tr>\n",
       "    <tr>\n",
       "      <th>0</th>\n",
       "      <td>test</td>\n",
       "      <td>2.291697</td>\n",
       "      <td>9.891705</td>\n",
       "      <td>Bitcoin</td>\n",
       "    </tr>\n",
       "    <tr>\n",
       "      <th>0</th>\n",
       "      <td>test</td>\n",
       "      <td>2.092766</td>\n",
       "      <td>8.107306</td>\n",
       "      <td>AskDocs</td>\n",
       "    </tr>\n",
       "  </tbody>\n",
       "</table>\n",
       "</div>"
      ],
      "text/plain": [
       "  data_split      loss  perplexity            subreddit\n",
       "0       test  1.984499    7.275399        relationships\n",
       "0       test  2.199799    9.023196         mentalhealth\n",
       "0       test  1.914430    6.783074  relationship_advice\n",
       "0       test  2.260057    9.583633            investing\n",
       "0       test  2.291697    9.891705              Bitcoin\n",
       "0       test  2.092766    8.107306              AskDocs"
      ]
     },
     "execution_count": 61,
     "metadata": {},
     "output_type": "execute_result"
    }
   ],
   "source": [
    "rd_4b = os.path.join(base_result_dir, \"4b_distilbert_finetuned_subreddit_sample_eval\")\n",
    "ea_4b = PerPopulationExpAnalyzer(rd_4b, \"subreddit\")\n",
    "ea_4b.data_split_perf_df"
   ]
  },
  {
   "cell_type": "code",
   "execution_count": 62,
   "id": "af89fdd1",
   "metadata": {},
   "outputs": [
    {
     "data": {
      "text/html": [
       "<div>\n",
       "<style scoped>\n",
       "    .dataframe tbody tr th:only-of-type {\n",
       "        vertical-align: middle;\n",
       "    }\n",
       "\n",
       "    .dataframe tbody tr th {\n",
       "        vertical-align: top;\n",
       "    }\n",
       "\n",
       "    .dataframe thead th {\n",
       "        text-align: right;\n",
       "    }\n",
       "</style>\n",
       "<table border=\"1\" class=\"dataframe\">\n",
       "  <thead>\n",
       "    <tr style=\"text-align: right;\">\n",
       "      <th></th>\n",
       "      <th>Unnamed: 0</th>\n",
       "      <th>id</th>\n",
       "      <th>loss</th>\n",
       "      <th>subreddit</th>\n",
       "    </tr>\n",
       "  </thead>\n",
       "  <tbody>\n",
       "    <tr>\n",
       "      <th>0</th>\n",
       "      <td>0</td>\n",
       "      <td>3k1pb8</td>\n",
       "      <td>2.197476</td>\n",
       "      <td>relationships</td>\n",
       "    </tr>\n",
       "    <tr>\n",
       "      <th>1</th>\n",
       "      <td>1</td>\n",
       "      <td>3qx8q8</td>\n",
       "      <td>1.726905</td>\n",
       "      <td>relationships</td>\n",
       "    </tr>\n",
       "    <tr>\n",
       "      <th>2</th>\n",
       "      <td>2</td>\n",
       "      <td>3s4h59</td>\n",
       "      <td>1.331028</td>\n",
       "      <td>relationships</td>\n",
       "    </tr>\n",
       "    <tr>\n",
       "      <th>3</th>\n",
       "      <td>3</td>\n",
       "      <td>4i9hbw</td>\n",
       "      <td>2.645278</td>\n",
       "      <td>relationships</td>\n",
       "    </tr>\n",
       "    <tr>\n",
       "      <th>4</th>\n",
       "      <td>4</td>\n",
       "      <td>5sz6u7</td>\n",
       "      <td>2.322477</td>\n",
       "      <td>relationships</td>\n",
       "    </tr>\n",
       "    <tr>\n",
       "      <th>...</th>\n",
       "      <td>...</td>\n",
       "      <td>...</td>\n",
       "      <td>...</td>\n",
       "      <td>...</td>\n",
       "    </tr>\n",
       "    <tr>\n",
       "      <th>71</th>\n",
       "      <td>71</td>\n",
       "      <td>jlz5y6</td>\n",
       "      <td>1.971650</td>\n",
       "      <td>AskDocs</td>\n",
       "    </tr>\n",
       "    <tr>\n",
       "      <th>72</th>\n",
       "      <td>72</td>\n",
       "      <td>jyjrz1</td>\n",
       "      <td>2.721585</td>\n",
       "      <td>AskDocs</td>\n",
       "    </tr>\n",
       "    <tr>\n",
       "      <th>73</th>\n",
       "      <td>73</td>\n",
       "      <td>k2vcqn</td>\n",
       "      <td>0.954532</td>\n",
       "      <td>AskDocs</td>\n",
       "    </tr>\n",
       "    <tr>\n",
       "      <th>74</th>\n",
       "      <td>74</td>\n",
       "      <td>kdp5wv</td>\n",
       "      <td>2.133715</td>\n",
       "      <td>AskDocs</td>\n",
       "    </tr>\n",
       "    <tr>\n",
       "      <th>75</th>\n",
       "      <td>75</td>\n",
       "      <td>kkjrlh</td>\n",
       "      <td>2.837158</td>\n",
       "      <td>AskDocs</td>\n",
       "    </tr>\n",
       "  </tbody>\n",
       "</table>\n",
       "<p>521 rows × 4 columns</p>\n",
       "</div>"
      ],
      "text/plain": [
       "    Unnamed: 0      id      loss      subreddit\n",
       "0            0  3k1pb8  2.197476  relationships\n",
       "1            1  3qx8q8  1.726905  relationships\n",
       "2            2  3s4h59  1.331028  relationships\n",
       "3            3  4i9hbw  2.645278  relationships\n",
       "4            4  5sz6u7  2.322477  relationships\n",
       "..         ...     ...       ...            ...\n",
       "71          71  jlz5y6  1.971650        AskDocs\n",
       "72          72  jyjrz1  2.721585        AskDocs\n",
       "73          73  k2vcqn  0.954532        AskDocs\n",
       "74          74  kdp5wv  2.133715        AskDocs\n",
       "75          75  kkjrlh  2.837158        AskDocs\n",
       "\n",
       "[521 rows x 4 columns]"
      ]
     },
     "execution_count": 62,
     "metadata": {},
     "output_type": "execute_result"
    }
   ],
   "source": [
    "ea_4b.sample_losses_df"
   ]
  },
  {
   "cell_type": "code",
   "execution_count": 63,
   "id": "62ee838c",
   "metadata": {},
   "outputs": [],
   "source": [
    "merged_df_4b = ea_4b.sample_losses_df.merge(test_df, on=\"id\", how=\"inner\")"
   ]
  },
  {
   "cell_type": "code",
   "execution_count": 64,
   "id": "7878709f",
   "metadata": {},
   "outputs": [
    {
     "data": {
      "text/plain": [
       "521"
      ]
     },
     "execution_count": 64,
     "metadata": {},
     "output_type": "execute_result"
    }
   ],
   "source": [
    "len(merged_df_4b)"
   ]
  },
  {
   "cell_type": "code",
   "execution_count": 72,
   "id": "6c03f6d5",
   "metadata": {},
   "outputs": [],
   "source": [
    "user_results_4b = merged_df_4b.groupby(\"author\").mean()[\"loss\"].to_frame()"
   ]
  },
  {
   "cell_type": "code",
   "execution_count": 73,
   "id": "73b069da",
   "metadata": {},
   "outputs": [
    {
     "data": {
      "text/html": [
       "<div>\n",
       "<style scoped>\n",
       "    .dataframe tbody tr th:only-of-type {\n",
       "        vertical-align: middle;\n",
       "    }\n",
       "\n",
       "    .dataframe tbody tr th {\n",
       "        vertical-align: top;\n",
       "    }\n",
       "\n",
       "    .dataframe thead th {\n",
       "        text-align: right;\n",
       "    }\n",
       "</style>\n",
       "<table border=\"1\" class=\"dataframe\">\n",
       "  <thead>\n",
       "    <tr style=\"text-align: right;\">\n",
       "      <th></th>\n",
       "      <th>loss</th>\n",
       "    </tr>\n",
       "    <tr>\n",
       "      <th>author</th>\n",
       "      <th></th>\n",
       "    </tr>\n",
       "  </thead>\n",
       "  <tbody>\n",
       "    <tr>\n",
       "      <th>BRoccoli20</th>\n",
       "      <td>2.011163</td>\n",
       "    </tr>\n",
       "    <tr>\n",
       "      <th>Chad_arbc</th>\n",
       "      <td>2.170573</td>\n",
       "    </tr>\n",
       "    <tr>\n",
       "      <th>Creative310</th>\n",
       "      <td>2.161885</td>\n",
       "    </tr>\n",
       "    <tr>\n",
       "      <th>Dotabjj</th>\n",
       "      <td>3.294624</td>\n",
       "    </tr>\n",
       "    <tr>\n",
       "      <th>Eriflee</th>\n",
       "      <td>2.107366</td>\n",
       "    </tr>\n",
       "    <tr>\n",
       "      <th>GaniB</th>\n",
       "      <td>2.229257</td>\n",
       "    </tr>\n",
       "    <tr>\n",
       "      <th>HelloImLucas</th>\n",
       "      <td>2.409042</td>\n",
       "    </tr>\n",
       "    <tr>\n",
       "      <th>IckyBelly</th>\n",
       "      <td>2.575136</td>\n",
       "    </tr>\n",
       "    <tr>\n",
       "      <th>KarmaKingKong</th>\n",
       "      <td>2.316751</td>\n",
       "    </tr>\n",
       "    <tr>\n",
       "      <th>Kennyv777</th>\n",
       "      <td>2.074554</td>\n",
       "    </tr>\n",
       "    <tr>\n",
       "      <th>KharnTheBetrayer1997</th>\n",
       "      <td>1.695922</td>\n",
       "    </tr>\n",
       "    <tr>\n",
       "      <th>MartEden</th>\n",
       "      <td>2.435578</td>\n",
       "    </tr>\n",
       "    <tr>\n",
       "      <th>Olliebkl</th>\n",
       "      <td>2.088658</td>\n",
       "    </tr>\n",
       "    <tr>\n",
       "      <th>Ps4gal94</th>\n",
       "      <td>1.944591</td>\n",
       "    </tr>\n",
       "    <tr>\n",
       "      <th>Thatawkwardhipster</th>\n",
       "      <td>1.485623</td>\n",
       "    </tr>\n",
       "    <tr>\n",
       "      <th>Tony0x01</th>\n",
       "      <td>2.049185</td>\n",
       "    </tr>\n",
       "    <tr>\n",
       "      <th>Unclebunt92</th>\n",
       "      <td>2.297134</td>\n",
       "    </tr>\n",
       "    <tr>\n",
       "      <th>WarKittyKat</th>\n",
       "      <td>2.008282</td>\n",
       "    </tr>\n",
       "    <tr>\n",
       "      <th>americanpegasus</th>\n",
       "      <td>2.362028</td>\n",
       "    </tr>\n",
       "    <tr>\n",
       "      <th>anonymous_user_x</th>\n",
       "      <td>2.167401</td>\n",
       "    </tr>\n",
       "    <tr>\n",
       "      <th>binarygold</th>\n",
       "      <td>2.086111</td>\n",
       "    </tr>\n",
       "    <tr>\n",
       "      <th>blossbloss</th>\n",
       "      <td>2.174723</td>\n",
       "    </tr>\n",
       "    <tr>\n",
       "      <th>bluejeans90210</th>\n",
       "      <td>2.303536</td>\n",
       "    </tr>\n",
       "    <tr>\n",
       "      <th>brookswilliams</th>\n",
       "      <td>3.021326</td>\n",
       "    </tr>\n",
       "    <tr>\n",
       "      <th>closingbell</th>\n",
       "      <td>1.999026</td>\n",
       "    </tr>\n",
       "    <tr>\n",
       "      <th>cqm</th>\n",
       "      <td>2.139197</td>\n",
       "    </tr>\n",
       "    <tr>\n",
       "      <th>cwrace71</th>\n",
       "      <td>2.575311</td>\n",
       "    </tr>\n",
       "    <tr>\n",
       "      <th>davidcwilliams</th>\n",
       "      <td>2.477575</td>\n",
       "    </tr>\n",
       "    <tr>\n",
       "      <th>eclecticuniversalas</th>\n",
       "      <td>2.442460</td>\n",
       "    </tr>\n",
       "    <tr>\n",
       "      <th>eiidunncnsj</th>\n",
       "      <td>2.621900</td>\n",
       "    </tr>\n",
       "    <tr>\n",
       "      <th>escapevelo</th>\n",
       "      <td>2.420988</td>\n",
       "    </tr>\n",
       "    <tr>\n",
       "      <th>exab</th>\n",
       "      <td>1.934187</td>\n",
       "    </tr>\n",
       "    <tr>\n",
       "      <th>frostmas</th>\n",
       "      <td>1.163732</td>\n",
       "    </tr>\n",
       "    <tr>\n",
       "      <th>glittertoes1</th>\n",
       "      <td>1.948370</td>\n",
       "    </tr>\n",
       "    <tr>\n",
       "      <th>goodDayM</th>\n",
       "      <td>2.342283</td>\n",
       "    </tr>\n",
       "    <tr>\n",
       "      <th>goodluckchuck11</th>\n",
       "      <td>1.963509</td>\n",
       "    </tr>\n",
       "    <tr>\n",
       "      <th>hgmichna</th>\n",
       "      <td>2.101113</td>\n",
       "    </tr>\n",
       "    <tr>\n",
       "      <th>hrrm</th>\n",
       "      <td>2.250863</td>\n",
       "    </tr>\n",
       "    <tr>\n",
       "      <th>itsnotthot</th>\n",
       "      <td>2.160905</td>\n",
       "    </tr>\n",
       "    <tr>\n",
       "      <th>jdino23</th>\n",
       "      <td>2.003412</td>\n",
       "    </tr>\n",
       "    <tr>\n",
       "      <th>libelulas3v3n</th>\n",
       "      <td>1.330205</td>\n",
       "    </tr>\n",
       "    <tr>\n",
       "      <th>lightlasertower</th>\n",
       "      <td>2.489454</td>\n",
       "    </tr>\n",
       "    <tr>\n",
       "      <th>mastermascovich</th>\n",
       "      <td>1.730388</td>\n",
       "    </tr>\n",
       "    <tr>\n",
       "      <th>peimom123</th>\n",
       "      <td>2.396064</td>\n",
       "    </tr>\n",
       "    <tr>\n",
       "      <th>retardedinvestor</th>\n",
       "      <td>3.562726</td>\n",
       "    </tr>\n",
       "    <tr>\n",
       "      <th>robert323445</th>\n",
       "      <td>1.484873</td>\n",
       "    </tr>\n",
       "    <tr>\n",
       "      <th>skabaw</th>\n",
       "      <td>2.810072</td>\n",
       "    </tr>\n",
       "    <tr>\n",
       "      <th>svet_sedov</th>\n",
       "      <td>2.126376</td>\n",
       "    </tr>\n",
       "    <tr>\n",
       "      <th>wsace</th>\n",
       "      <td>2.210989</td>\n",
       "    </tr>\n",
       "    <tr>\n",
       "      <th>your_godammn_right</th>\n",
       "      <td>2.964858</td>\n",
       "    </tr>\n",
       "  </tbody>\n",
       "</table>\n",
       "</div>"
      ],
      "text/plain": [
       "                          loss\n",
       "author                        \n",
       "BRoccoli20            2.011163\n",
       "Chad_arbc             2.170573\n",
       "Creative310           2.161885\n",
       "Dotabjj               3.294624\n",
       "Eriflee               2.107366\n",
       "GaniB                 2.229257\n",
       "HelloImLucas          2.409042\n",
       "IckyBelly             2.575136\n",
       "KarmaKingKong         2.316751\n",
       "Kennyv777             2.074554\n",
       "KharnTheBetrayer1997  1.695922\n",
       "MartEden              2.435578\n",
       "Olliebkl              2.088658\n",
       "Ps4gal94              1.944591\n",
       "Thatawkwardhipster    1.485623\n",
       "Tony0x01              2.049185\n",
       "Unclebunt92           2.297134\n",
       "WarKittyKat           2.008282\n",
       "americanpegasus       2.362028\n",
       "anonymous_user_x      2.167401\n",
       "binarygold            2.086111\n",
       "blossbloss            2.174723\n",
       "bluejeans90210        2.303536\n",
       "brookswilliams        3.021326\n",
       "closingbell           1.999026\n",
       "cqm                   2.139197\n",
       "cwrace71              2.575311\n",
       "davidcwilliams        2.477575\n",
       "eclecticuniversalas   2.442460\n",
       "eiidunncnsj           2.621900\n",
       "escapevelo            2.420988\n",
       "exab                  1.934187\n",
       "frostmas              1.163732\n",
       "glittertoes1          1.948370\n",
       "goodDayM              2.342283\n",
       "goodluckchuck11       1.963509\n",
       "hgmichna              2.101113\n",
       "hrrm                  2.250863\n",
       "itsnotthot            2.160905\n",
       "jdino23               2.003412\n",
       "libelulas3v3n         1.330205\n",
       "lightlasertower       2.489454\n",
       "mastermascovich       1.730388\n",
       "peimom123             2.396064\n",
       "retardedinvestor      3.562726\n",
       "robert323445          1.484873\n",
       "skabaw                2.810072\n",
       "svet_sedov            2.126376\n",
       "wsace                 2.210989\n",
       "your_godammn_right    2.964858"
      ]
     },
     "execution_count": 73,
     "metadata": {},
     "output_type": "execute_result"
    }
   ],
   "source": [
    "user_results_4b[\"perplexity\"] = user_results_4b[\"loss\"].apply(lambda x: loss_to_perplexity(x))"
   ]
  }
 ],
 "metadata": {
  "kernelspec": {
   "display_name": "Python 3",
   "language": "python",
   "name": "python3"
  },
  "language_info": {
   "codemirror_mode": {
    "name": "ipython",
    "version": 3
   },
   "file_extension": ".py",
   "mimetype": "text/x-python",
   "name": "python",
   "nbconvert_exporter": "python",
   "pygments_lexer": "ipython3",
   "version": "3.8.10"
  }
 },
 "nbformat": 4,
 "nbformat_minor": 5
}
