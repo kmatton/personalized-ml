{
 "cells": [
  {
   "cell_type": "code",
   "execution_count": 1,
   "id": "4d47d4e6",
   "metadata": {},
   "outputs": [],
   "source": [
    "%load_ext autoreload\n",
    "%autoreload 2"
   ]
  },
  {
   "cell_type": "code",
   "execution_count": 2,
   "id": "3974009f",
   "metadata": {},
   "outputs": [],
   "source": [
    "import os\n",
    "import sys\n",
    "sys.path.append(\"../src/\")\n",
    "import json\n",
    "\n",
    "import numpy as np\n",
    "import pandas as pd\n",
    "import math\n",
    "from datasets import Dataset, list_metrics, load_metric\n",
    "from transformers import AutoConfig, AutoTokenizer, AutoModelForMaskedLM, DataCollatorForLanguageModeling, Trainer\n",
    "\n",
    "import matplotlib.pyplot as plt\n",
    "import seaborn as sns\n",
    "sns.set_theme()\n",
    "\n",
    "from data_processing.dataset_processor import DataProcessor"
   ]
  },
  {
   "cell_type": "code",
   "execution_count": 12,
   "id": "1c4f3504",
   "metadata": {},
   "outputs": [],
   "source": [
    "val_users = list(val_df.author.unique())"
   ]
  },
  {
   "cell_type": "code",
   "execution_count": 14,
   "id": "085a163b",
   "metadata": {},
   "outputs": [],
   "source": [
    "small_val_set = np.random.choice(val_users, size=10, replace=False)"
   ]
  },
  {
   "cell_type": "code",
   "execution_count": 15,
   "id": "954a9bfe",
   "metadata": {},
   "outputs": [
    {
     "data": {
      "text/plain": [
       "array(['Chad_arbc', 'HelloImLucas', 'binarygold', 'closingbell',\n",
       "       'peimom123', 'robert323445', 'brookswilliams', 'Creative310',\n",
       "       'Thatawkwardhipster', 'hrrm'], dtype='<U20')"
      ]
     },
     "execution_count": 15,
     "metadata": {},
     "output_type": "execute_result"
    }
   ],
   "source": [
    "small_val_set"
   ]
  },
  {
   "cell_type": "code",
   "execution_count": 5,
   "id": "4e36d8d7",
   "metadata": {},
   "outputs": [],
   "source": [
    "data_df = pd.read_csv(\"/data/ddmg/redditlanguagemodeling/data/3_all_data_user_filtered_2021-06-21.csv\")\n",
    "data_df.drop(columns=\"Unnamed: 0\", inplace=True)"
   ]
  },
  {
   "cell_type": "code",
   "execution_count": 8,
   "id": "210b637c",
   "metadata": {},
   "outputs": [],
   "source": [
    "train_df = data_df[data_df[\"data_split\"] == \"train\"]\n",
    "val_df = data_df[data_df[\"data_split\"] == \"val\"]\n",
    "test_df = data_df[data_df[\"data_split\"] == \"test\"]"
   ]
  },
  {
   "cell_type": "code",
   "execution_count": 11,
   "id": "237eb20a",
   "metadata": {},
   "outputs": [
    {
     "data": {
      "text/plain": [
       "50"
      ]
     },
     "execution_count": 11,
     "metadata": {},
     "output_type": "execute_result"
    }
   ],
   "source": [
    "plt.figure(figsize=(8,4))\n",
    "sns.histplot(data=new_val, x=\"subreddit\")\n",
    "plt.tight_layout()\n",
    "plt.xticks(\n",
    "    rotation=45, \n",
    "    horizontalalignment='right',\n",
    "    fontweight='light',\n",
    "    fontsize='x-large'  \n",
    ")\n",
    "plt.show()"
   ]
  },
  {
   "cell_type": "code",
   "execution_count": 16,
   "id": "28354678",
   "metadata": {},
   "outputs": [],
   "source": [
    "small_val_df = val_df[val_df['author'].isin(small_val_set)]\n",
    "small_test_df = test_df[test_df['author'].isin(small_test_set)]"
   ]
  }
 ],
 "metadata": {
  "kernelspec": {
   "display_name": "Python 3",
   "language": "python",
   "name": "python3"
  },
  "language_info": {
   "codemirror_mode": {
    "name": "ipython",
    "version": 3
   },
   "file_extension": ".py",
   "mimetype": "text/x-python",
   "name": "python",
   "nbconvert_exporter": "python",
   "pygments_lexer": "ipython3",
   "version": "3.8.10"
  }
 },
 "nbformat": 4,
 "nbformat_minor": 5
}
