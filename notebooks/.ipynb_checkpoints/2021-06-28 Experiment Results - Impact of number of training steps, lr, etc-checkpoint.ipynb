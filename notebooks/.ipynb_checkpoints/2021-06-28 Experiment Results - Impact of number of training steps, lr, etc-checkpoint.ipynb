{
 "cells": [
  {
   "cell_type": "code",
   "execution_count": 1,
   "id": "2c5348d2",
   "metadata": {},
   "outputs": [],
   "source": [
    "%load_ext autoreload\n",
    "%autoreload 2"
   ]
  },
  {
   "cell_type": "code",
   "execution_count": 87,
   "id": "60c07b6a",
   "metadata": {},
   "outputs": [],
   "source": [
    "import os\n",
    "import sys\n",
    "sys.path.append(\"../src/\")\n",
    "import json\n",
    "\n",
    "import numpy as np\n",
    "import pandas as pd\n",
    "import math\n",
    "from datasets import Dataset, list_metrics, load_metric\n",
    "from transformers import AutoConfig, AutoTokenizer, AutoModelForMaskedLM, DataCollatorForLanguageModeling, Trainer\n",
    "\n",
    "import matplotlib.pyplot as plt\n",
    "import seaborn as sns\n",
    "sns.set_theme()\n",
    "\n",
    "from results_analysis.analyze_exp_results import ExpAnalyzer\n",
    "from results_analysis.analyze_personalized_exp_results import PerPopulationExpAnalyzer\n",
    "from results_analysis.analysis_utils import plot_user_perf_by_sample_count"
   ]
  },
  {
   "cell_type": "code",
   "execution_count": 3,
   "id": "4c139cbe",
   "metadata": {},
   "outputs": [],
   "source": [
    "base_result_dir = \"/data/ddmg/redditlanguagemodeling/results/\""
   ]
  },
  {
   "cell_type": "code",
   "execution_count": 4,
   "id": "ad10118a",
   "metadata": {},
   "outputs": [],
   "source": [
    "data_df = pd.read_csv(\"/data/ddmg/redditlanguagemodeling/data/3_all_data_user_filtered_2021-06-21.csv\")"
   ]
  },
  {
   "cell_type": "code",
   "execution_count": 48,
   "id": "45955ffa",
   "metadata": {},
   "outputs": [
    {
     "data": {
      "text/plain": [
       "50"
      ]
     },
     "execution_count": 48,
     "metadata": {},
     "output_type": "execute_result"
    }
   ],
   "source": [
    "val_df = data_df[data_df[\"data_split\"] == \"val\"]\n",
    "test_users = set(val_df[\"author\"])\n",
    "len(test_users)"
   ]
  },
  {
   "cell_type": "code",
   "execution_count": 49,
   "id": "2e8dd2df",
   "metadata": {},
   "outputs": [],
   "source": [
    "train_df = data_df[data_df[\"data_split\"] == \"train\"]\n",
    "user_counts = train_df.groupby(\"author\").count()[\"id\"]\n",
    "user_counts = user_counts[user_counts.index.isin(test_users)]"
   ]
  },
  {
   "cell_type": "code",
   "execution_count": 76,
   "id": "c7c44de5",
   "metadata": {},
   "outputs": [
    {
     "data": {
      "text/plain": [
       "array(['AskDocs', 'Bitcoin', 'investing', 'mentalhealth',\n",
       "       'relationship_advice', 'relationships'], dtype=object)"
      ]
     },
     "execution_count": 76,
     "metadata": {},
     "output_type": "execute_result"
    }
   ],
   "source": [
    "train_df.subreddit.unique()"
   ]
  },
  {
   "cell_type": "markdown",
   "id": "7d5bd01c",
   "metadata": {},
   "source": [
    "## Fine-tune all - 3 epochs / 2034 steps"
   ]
  },
  {
   "cell_type": "code",
   "execution_count": 21,
   "id": "09981e04",
   "metadata": {},
   "outputs": [
    {
     "data": {
      "text/html": [
       "<div>\n",
       "<style scoped>\n",
       "    .dataframe tbody tr th:only-of-type {\n",
       "        vertical-align: middle;\n",
       "    }\n",
       "\n",
       "    .dataframe tbody tr th {\n",
       "        vertical-align: top;\n",
       "    }\n",
       "\n",
       "    .dataframe thead th {\n",
       "        text-align: right;\n",
       "    }\n",
       "</style>\n",
       "<table border=\"1\" class=\"dataframe\">\n",
       "  <thead>\n",
       "    <tr style=\"text-align: right;\">\n",
       "      <th></th>\n",
       "      <th>data_split</th>\n",
       "      <th>loss</th>\n",
       "      <th>perplexity</th>\n",
       "    </tr>\n",
       "  </thead>\n",
       "  <tbody>\n",
       "    <tr>\n",
       "      <th>0</th>\n",
       "      <td>train</td>\n",
       "      <td>2.034210</td>\n",
       "      <td>7.646207</td>\n",
       "    </tr>\n",
       "    <tr>\n",
       "      <th>1</th>\n",
       "      <td>eval</td>\n",
       "      <td>2.162993</td>\n",
       "      <td>8.697127</td>\n",
       "    </tr>\n",
       "    <tr>\n",
       "      <th>2</th>\n",
       "      <td>test</td>\n",
       "      <td>2.170424</td>\n",
       "      <td>8.762000</td>\n",
       "    </tr>\n",
       "  </tbody>\n",
       "</table>\n",
       "</div>"
      ],
      "text/plain": [
       "  data_split      loss  perplexity\n",
       "0      train  2.034210    7.646207\n",
       "1       eval  2.162993    8.697127\n",
       "2       test  2.170424    8.762000"
      ]
     },
     "execution_count": 21,
     "metadata": {},
     "output_type": "execute_result"
    }
   ],
   "source": [
    "# this is performance after 1500 steps\n",
    "rd1 = os.path.join(base_result_dir, \"2_distilbert_finetuned_all\")\n",
    "ea1 = ExpAnalyzer(rd1)\n",
    "ea1.data_split_perf_df"
   ]
  },
  {
   "cell_type": "code",
   "execution_count": 82,
   "id": "48e4eeef",
   "metadata": {},
   "outputs": [
    {
     "data": {
      "text/html": [
       "<div>\n",
       "<style scoped>\n",
       "    .dataframe tbody tr th:only-of-type {\n",
       "        vertical-align: middle;\n",
       "    }\n",
       "\n",
       "    .dataframe tbody tr th {\n",
       "        vertical-align: top;\n",
       "    }\n",
       "\n",
       "    .dataframe thead th {\n",
       "        text-align: right;\n",
       "    }\n",
       "</style>\n",
       "<table border=\"1\" class=\"dataframe\">\n",
       "  <thead>\n",
       "    <tr style=\"text-align: right;\">\n",
       "      <th></th>\n",
       "      <th>data_split</th>\n",
       "      <th>loss</th>\n",
       "      <th>perplexity</th>\n",
       "    </tr>\n",
       "  </thead>\n",
       "  <tbody>\n",
       "    <tr>\n",
       "      <th>0</th>\n",
       "      <td>test</td>\n",
       "      <td>2.150127</td>\n",
       "      <td>8.585946</td>\n",
       "    </tr>\n",
       "  </tbody>\n",
       "</table>\n",
       "</div>"
      ],
      "text/plain": [
       "  data_split      loss  perplexity\n",
       "0       test  2.150127    8.585946"
      ]
     },
     "execution_count": 82,
     "metadata": {},
     "output_type": "execute_result"
    }
   ],
   "source": [
    "# this is performance after 2000 steps (not actually fully 2034 - don't have that)\n",
    "rd2 = os.path.join(base_result_dir, \"2a_distilbert_finetuned_all_eval\")\n",
    "ea2 = ExpAnalyzer(rd2)\n",
    "ea2.data_split_perf_df"
   ]
  },
  {
   "cell_type": "code",
   "execution_count": 27,
   "id": "b5f3f7f3",
   "metadata": {},
   "outputs": [
    {
     "data": {
      "text/plain": [
       "loss          2.173321\n",
       "perplexity    9.613068\n",
       "dtype: float64"
      ]
     },
     "execution_count": 27,
     "metadata": {},
     "output_type": "execute_result"
    }
   ],
   "source": [
    "ea2.author_result_df.mean()"
   ]
  },
  {
   "cell_type": "code",
   "execution_count": 28,
   "id": "0605c23e",
   "metadata": {},
   "outputs": [
    {
     "data": {
      "text/plain": [
       "loss          0.420859\n",
       "perplexity    4.586378\n",
       "dtype: float64"
      ]
     },
     "execution_count": 28,
     "metadata": {},
     "output_type": "execute_result"
    }
   ],
   "source": [
    "ea2.author_result_df.std()"
   ]
  },
  {
   "cell_type": "code",
   "execution_count": 83,
   "id": "6688aa34",
   "metadata": {},
   "outputs": [
    {
     "data": {
      "text/plain": [
       "loss          2.053389\n",
       "perplexity    7.912728\n",
       "dtype: float64"
      ]
     },
     "execution_count": 83,
     "metadata": {},
     "output_type": "execute_result"
    }
   ],
   "source": [
    "ea2.sr_result_df.mean()"
   ]
  },
  {
   "cell_type": "code",
   "execution_count": 84,
   "id": "b09d0274",
   "metadata": {},
   "outputs": [
    {
     "data": {
      "text/plain": [
       "loss          0.191044\n",
       "perplexity    1.494710\n",
       "dtype: float64"
      ]
     },
     "execution_count": 84,
     "metadata": {},
     "output_type": "execute_result"
    }
   ],
   "source": [
    "ea2.sr_result_df.std()"
   ]
  },
  {
   "cell_type": "code",
   "execution_count": 29,
   "id": "8466601e",
   "metadata": {},
   "outputs": [
    {
     "data": {
      "image/png": "[encoded data removed]",
      "text/plain": [
       "<Figure size 432x288 with 1 Axes>"
      ]
     },
     "metadata": {},
     "output_type": "display_data"
    },
    {
     "data": {
      "text/plain": [
       "<Figure size 432x288 with 0 Axes>"
      ]
     },
     "metadata": {},
     "output_type": "display_data"
    }
   ],
   "source": [
    "ea1.plot_metric_hist(\"perplexity\")"
   ]
  },
  {
   "cell_type": "code",
   "execution_count": 47,
   "id": "96e0dd29",
   "metadata": {},
   "outputs": [
    {
     "data": {
      "image/png": "[encoded data removed]",
      "text/plain": [
       "<Figure size 1152x576 with 1 Axes>"
      ]
     },
     "metadata": {},
     "output_type": "display_data"
    },
    {
     "data": {
      "text/plain": [
       "<Figure size 432x288 with 0 Axes>"
      ]
     },
     "metadata": {},
     "output_type": "display_data"
    }
   ],
   "source": [
    "ea2.plot_perf_by_author(\"perplexity\")"
   ]
  },
  {
   "cell_type": "code",
   "execution_count": null,
   "id": "084583ee",
   "metadata": {},
   "outputs": [],
   "source": [
    "plot_user_perf_by_sample_count(ea2.author_result_df, user_counts, \"perplexity\")"
   ]
  },
  {
   "cell_type": "code",
   "execution_count": 50,
   "id": "2b5a09d8",
   "metadata": {},
   "outputs": [
    {
     "name": "stdout",
     "output_type": "stream",
     "text": [
      "r=-0.08604049118822453, p=0.5524362349920809\n"
     ]
    },
    {
     "data": {
      "image/png": "[encoded data removed]",
      "text/plain": [
       "<Figure size 432x288 with 1 Axes>"
      ]
     },
     "metadata": {},
     "output_type": "display_data"
    },
    {
     "data": {
      "text/plain": [
       "<Figure size 432x288 with 0 Axes>"
      ]
     },
     "metadata": {},
     "output_type": "display_data"
    }
   ],
   "source": [
    "plot_user_perf_by_sample_count(ea2.author_result_df, user_counts, \"perplexity\")"
   ]
  },
  {
   "cell_type": "markdown",
   "id": "a83fcef7",
   "metadata": {},
   "source": [
    "## Subject Fine-tune - 3 epochs + variable of steps\n",
    "\n",
    "Experiment where # of times each sample is seen is consistent with prior experiment."
   ]
  },
  {
   "cell_type": "code",
   "execution_count": 54,
   "id": "3f7bed62",
   "metadata": {},
   "outputs": [],
   "source": [
    "result_dir3 = os.path.join(base_result_dir, \"3_distilbert_finetuned_author/epoch_3_run\")"
   ]
  },
  {
   "cell_type": "code",
   "execution_count": 55,
   "id": "457de8f5",
   "metadata": {},
   "outputs": [
    {
     "name": "stdout",
     "output_type": "stream",
     "text": [
      "Found results for 50 users\n"
     ]
    }
   ],
   "source": [
    "exp_analyzer3 = PerUserExpAnalyzer(result_dir3)"
   ]
  },
  {
   "cell_type": "code",
   "execution_count": 56,
   "id": "854468a0",
   "metadata": {},
   "outputs": [
    {
     "data": {
      "text/html": [
       "<div>\n",
       "<style scoped>\n",
       "    .dataframe tbody tr th:only-of-type {\n",
       "        vertical-align: middle;\n",
       "    }\n",
       "\n",
       "    .dataframe tbody tr th {\n",
       "        vertical-align: top;\n",
       "    }\n",
       "\n",
       "    .dataframe thead th {\n",
       "        text-align: right;\n",
       "    }\n",
       "</style>\n",
       "<table border=\"1\" class=\"dataframe\">\n",
       "  <thead>\n",
       "    <tr style=\"text-align: right;\">\n",
       "      <th></th>\n",
       "      <th>data_split</th>\n",
       "      <th>loss</th>\n",
       "      <th>perplexity</th>\n",
       "      <th>author</th>\n",
       "    </tr>\n",
       "  </thead>\n",
       "  <tbody>\n",
       "    <tr>\n",
       "      <th>0</th>\n",
       "      <td>train</td>\n",
       "      <td>2.446107</td>\n",
       "      <td>11.543318</td>\n",
       "      <td>goodluckchuck11</td>\n",
       "    </tr>\n",
       "    <tr>\n",
       "      <th>1</th>\n",
       "      <td>eval</td>\n",
       "      <td>2.512982</td>\n",
       "      <td>12.341674</td>\n",
       "      <td>goodluckchuck11</td>\n",
       "    </tr>\n",
       "    <tr>\n",
       "      <th>2</th>\n",
       "      <td>test</td>\n",
       "      <td>2.500099</td>\n",
       "      <td>12.183702</td>\n",
       "      <td>goodluckchuck11</td>\n",
       "    </tr>\n",
       "    <tr>\n",
       "      <th>0</th>\n",
       "      <td>train</td>\n",
       "      <td>2.627633</td>\n",
       "      <td>13.840970</td>\n",
       "      <td>binarygold</td>\n",
       "    </tr>\n",
       "    <tr>\n",
       "      <th>1</th>\n",
       "      <td>eval</td>\n",
       "      <td>2.747965</td>\n",
       "      <td>15.610829</td>\n",
       "      <td>binarygold</td>\n",
       "    </tr>\n",
       "    <tr>\n",
       "      <th>...</th>\n",
       "      <td>...</td>\n",
       "      <td>...</td>\n",
       "      <td>...</td>\n",
       "      <td>...</td>\n",
       "    </tr>\n",
       "    <tr>\n",
       "      <th>1</th>\n",
       "      <td>eval</td>\n",
       "      <td>2.205610</td>\n",
       "      <td>9.075786</td>\n",
       "      <td>goodDayM</td>\n",
       "    </tr>\n",
       "    <tr>\n",
       "      <th>2</th>\n",
       "      <td>test</td>\n",
       "      <td>2.615734</td>\n",
       "      <td>13.677253</td>\n",
       "      <td>goodDayM</td>\n",
       "    </tr>\n",
       "    <tr>\n",
       "      <th>0</th>\n",
       "      <td>train</td>\n",
       "      <td>2.521257</td>\n",
       "      <td>12.444228</td>\n",
       "      <td>HelloImLucas</td>\n",
       "    </tr>\n",
       "    <tr>\n",
       "      <th>1</th>\n",
       "      <td>eval</td>\n",
       "      <td>2.639590</td>\n",
       "      <td>14.007453</td>\n",
       "      <td>HelloImLucas</td>\n",
       "    </tr>\n",
       "    <tr>\n",
       "      <th>2</th>\n",
       "      <td>test</td>\n",
       "      <td>2.679849</td>\n",
       "      <td>14.582886</td>\n",
       "      <td>HelloImLucas</td>\n",
       "    </tr>\n",
       "  </tbody>\n",
       "</table>\n",
       "<p>150 rows × 4 columns</p>\n",
       "</div>"
      ],
      "text/plain": [
       "   data_split      loss  perplexity           author\n",
       "0       train  2.446107   11.543318  goodluckchuck11\n",
       "1        eval  2.512982   12.341674  goodluckchuck11\n",
       "2        test  2.500099   12.183702  goodluckchuck11\n",
       "0       train  2.627633   13.840970       binarygold\n",
       "1        eval  2.747965   15.610829       binarygold\n",
       "..        ...       ...         ...              ...\n",
       "1        eval  2.205610    9.075786         goodDayM\n",
       "2        test  2.615734   13.677253         goodDayM\n",
       "0       train  2.521257   12.444228     HelloImLucas\n",
       "1        eval  2.639590   14.007453     HelloImLucas\n",
       "2        test  2.679849   14.582886     HelloImLucas\n",
       "\n",
       "[150 rows x 4 columns]"
      ]
     },
     "execution_count": 56,
     "metadata": {},
     "output_type": "execute_result"
    }
   ],
   "source": [
    "exp_analyzer3.data_split_perf_df"
   ]
  },
  {
   "cell_type": "code",
   "execution_count": 57,
   "id": "1b0343aa",
   "metadata": {},
   "outputs": [],
   "source": [
    "test_df = exp_analyzer3.data_split_perf_df[exp_analyzer3.data_split_perf_df[\"data_split\"] == \"test\"]"
   ]
  },
  {
   "cell_type": "code",
   "execution_count": 58,
   "id": "6d6be519",
   "metadata": {},
   "outputs": [
    {
     "data": {
      "text/plain": [
       "loss           2.591453\n",
       "perplexity    14.962729\n",
       "dtype: float64"
      ]
     },
     "execution_count": 58,
     "metadata": {},
     "output_type": "execute_result"
    }
   ],
   "source": [
    "test_df.mean()"
   ]
  },
  {
   "cell_type": "code",
   "execution_count": 59,
   "id": "4b0dd11e",
   "metadata": {},
   "outputs": [
    {
     "data": {
      "text/plain": [
       "loss          0.465484\n",
       "perplexity    8.287779\n",
       "dtype: float64"
      ]
     },
     "execution_count": 59,
     "metadata": {},
     "output_type": "execute_result"
    }
   ],
   "source": [
    "test_df.std()"
   ]
  },
  {
   "cell_type": "code",
   "execution_count": 60,
   "id": "adce34de",
   "metadata": {},
   "outputs": [
    {
     "data": {
      "image/png": "[encoded data removed]",
      "text/plain": [
       "<Figure size 432x288 with 1 Axes>"
      ]
     },
     "metadata": {},
     "output_type": "display_data"
    },
    {
     "data": {
      "text/plain": [
       "<Figure size 432x288 with 0 Axes>"
      ]
     },
     "metadata": {},
     "output_type": "display_data"
    }
   ],
   "source": [
    "exp_analyzer3.plot_metric_hist(\"perplexity\")"
   ]
  },
  {
   "cell_type": "markdown",
   "id": "5ccb9c40",
   "metadata": {},
   "source": [
    "# Subject Fine-tune - 2000 steps + variable number of epochs\n",
    "\n",
    "Experiment where # training steps is consistents but # of times each sample is seen varies."
   ]
  },
  {
   "cell_type": "markdown",
   "id": "0ef9f5c7",
   "metadata": {},
   "source": [
    "### Results for single user with 85 training examples (exab)"
   ]
  },
  {
   "cell_type": "code",
   "execution_count": 61,
   "id": "6f4546d0",
   "metadata": {},
   "outputs": [
    {
     "data": {
      "text/html": [
       "<div>\n",
       "<style scoped>\n",
       "    .dataframe tbody tr th:only-of-type {\n",
       "        vertical-align: middle;\n",
       "    }\n",
       "\n",
       "    .dataframe tbody tr th {\n",
       "        vertical-align: top;\n",
       "    }\n",
       "\n",
       "    .dataframe thead th {\n",
       "        text-align: right;\n",
       "    }\n",
       "</style>\n",
       "<table border=\"1\" class=\"dataframe\">\n",
       "  <thead>\n",
       "    <tr style=\"text-align: right;\">\n",
       "      <th></th>\n",
       "      <th>data_split</th>\n",
       "      <th>loss</th>\n",
       "      <th>perplexity</th>\n",
       "    </tr>\n",
       "  </thead>\n",
       "  <tbody>\n",
       "    <tr>\n",
       "      <th>0</th>\n",
       "      <td>train</td>\n",
       "      <td>0.314765</td>\n",
       "      <td>1.369938</td>\n",
       "    </tr>\n",
       "    <tr>\n",
       "      <th>1</th>\n",
       "      <td>eval</td>\n",
       "      <td>2.835886</td>\n",
       "      <td>17.045496</td>\n",
       "    </tr>\n",
       "    <tr>\n",
       "      <th>2</th>\n",
       "      <td>test</td>\n",
       "      <td>2.856753</td>\n",
       "      <td>17.404927</td>\n",
       "    </tr>\n",
       "  </tbody>\n",
       "</table>\n",
       "</div>"
      ],
      "text/plain": [
       "  data_split      loss  perplexity\n",
       "0      train  0.314765    1.369938\n",
       "1       eval  2.835886   17.045496\n",
       "2       test  2.856753   17.404927"
      ]
     },
     "execution_count": 61,
     "metadata": {},
     "output_type": "execute_result"
    }
   ],
   "source": [
    "result_dir4 = os.path.join(base_result_dir, \"3_distilbert_finetuned_author/exab\")\n",
    "ea4 = ExpAnalyzer(result_dir4)\n",
    "ea4.data_split_perf_df"
   ]
  },
  {
   "cell_type": "code",
   "execution_count": 63,
   "id": "4c3c22fa",
   "metadata": {},
   "outputs": [
    {
     "data": {
      "image/png": "[encoded data removed]",
      "text/plain": [
       "<Figure size 432x288 with 1 Axes>"
      ]
     },
     "metadata": {},
     "output_type": "display_data"
    },
    {
     "data": {
      "text/plain": [
       "<Figure size 432x288 with 0 Axes>"
      ]
     },
     "metadata": {},
     "output_type": "display_data"
    }
   ],
   "source": [
    "ea4.plot_metric_hist(\"perplexity\")"
   ]
  },
  {
   "cell_type": "code",
   "execution_count": 66,
   "id": "63629f42",
   "metadata": {},
   "outputs": [
    {
     "data": {
      "text/html": [
       "<div>\n",
       "<style scoped>\n",
       "    .dataframe tbody tr th:only-of-type {\n",
       "        vertical-align: middle;\n",
       "    }\n",
       "\n",
       "    .dataframe tbody tr th {\n",
       "        vertical-align: top;\n",
       "    }\n",
       "\n",
       "    .dataframe thead th {\n",
       "        text-align: right;\n",
       "    }\n",
       "</style>\n",
       "<table border=\"1\" class=\"dataframe\">\n",
       "  <thead>\n",
       "    <tr style=\"text-align: right;\">\n",
       "      <th></th>\n",
       "      <th>data_split</th>\n",
       "      <th>loss</th>\n",
       "      <th>perplexity</th>\n",
       "    </tr>\n",
       "  </thead>\n",
       "  <tbody>\n",
       "    <tr>\n",
       "      <th>0</th>\n",
       "      <td>train</td>\n",
       "      <td>2.464414</td>\n",
       "      <td>11.756593</td>\n",
       "    </tr>\n",
       "    <tr>\n",
       "      <th>1</th>\n",
       "      <td>eval</td>\n",
       "      <td>2.353150</td>\n",
       "      <td>10.518653</td>\n",
       "    </tr>\n",
       "    <tr>\n",
       "      <th>2</th>\n",
       "      <td>test</td>\n",
       "      <td>2.533715</td>\n",
       "      <td>12.600226</td>\n",
       "    </tr>\n",
       "  </tbody>\n",
       "</table>\n",
       "</div>"
      ],
      "text/plain": [
       "  data_split      loss  perplexity\n",
       "0      train  2.464414   11.756593\n",
       "1       eval  2.353150   10.518653\n",
       "2       test  2.533715   12.600226"
      ]
     },
     "execution_count": 66,
     "metadata": {},
     "output_type": "execute_result"
    }
   ],
   "source": [
    "result_dir5 = os.path.join(base_result_dir, \"3_distilbert_finetuned_author/epoch_3_run/exab\")\n",
    "ea5 = ExpAnalyzer(result_dir5)\n",
    "ea5.data_split_perf_df"
   ]
  },
  {
   "cell_type": "code",
   "execution_count": 67,
   "id": "4d99d74c",
   "metadata": {},
   "outputs": [
    {
     "data": {
      "image/png": "[encoded data removed]",
      "text/plain": [
       "<Figure size 432x288 with 1 Axes>"
      ]
     },
     "metadata": {},
     "output_type": "display_data"
    },
    {
     "data": {
      "text/plain": [
       "<Figure size 432x288 with 0 Axes>"
      ]
     },
     "metadata": {},
     "output_type": "display_data"
    }
   ],
   "source": [
    "ea5.plot_metric_hist(\"perplexity\")"
   ]
  },
  {
   "cell_type": "code",
   "execution_count": 68,
   "id": "6a643a7d",
   "metadata": {},
   "outputs": [
    {
     "data": {
      "text/html": [
       "<div>\n",
       "<style scoped>\n",
       "    .dataframe tbody tr th:only-of-type {\n",
       "        vertical-align: middle;\n",
       "    }\n",
       "\n",
       "    .dataframe tbody tr th {\n",
       "        vertical-align: top;\n",
       "    }\n",
       "\n",
       "    .dataframe thead th {\n",
       "        text-align: right;\n",
       "    }\n",
       "</style>\n",
       "<table border=\"1\" class=\"dataframe\">\n",
       "  <thead>\n",
       "    <tr style=\"text-align: right;\">\n",
       "      <th></th>\n",
       "      <th>data_split</th>\n",
       "      <th>loss</th>\n",
       "      <th>perplexity</th>\n",
       "    </tr>\n",
       "  </thead>\n",
       "  <tbody>\n",
       "    <tr>\n",
       "      <th>0</th>\n",
       "      <td>train</td>\n",
       "      <td>0.146799</td>\n",
       "      <td>1.158121</td>\n",
       "    </tr>\n",
       "    <tr>\n",
       "      <th>1</th>\n",
       "      <td>eval</td>\n",
       "      <td>3.676287</td>\n",
       "      <td>39.499448</td>\n",
       "    </tr>\n",
       "    <tr>\n",
       "      <th>2</th>\n",
       "      <td>test</td>\n",
       "      <td>3.336973</td>\n",
       "      <td>28.133828</td>\n",
       "    </tr>\n",
       "  </tbody>\n",
       "</table>\n",
       "</div>"
      ],
      "text/plain": [
       "  data_split      loss  perplexity\n",
       "0      train  0.146799    1.158121\n",
       "1       eval  3.676287   39.499448\n",
       "2       test  3.336973   28.133828"
      ]
     },
     "execution_count": 68,
     "metadata": {},
     "output_type": "execute_result"
    }
   ],
   "source": [
    "result_dir6 = os.path.join(base_result_dir, \"3_distilbert_finetuned_author/Eriflee\")\n",
    "ea6 = ExpAnalyzer(result_dir6)\n",
    "ea6.data_split_perf_df"
   ]
  },
  {
   "cell_type": "code",
   "execution_count": 69,
   "id": "d80669ce",
   "metadata": {},
   "outputs": [
    {
     "data": {
      "image/png": "[encoded data removed]",
      "text/plain": [
       "<Figure size 432x288 with 1 Axes>"
      ]
     },
     "metadata": {},
     "output_type": "display_data"
    },
    {
     "data": {
      "text/plain": [
       "<Figure size 432x288 with 0 Axes>"
      ]
     },
     "metadata": {},
     "output_type": "display_data"
    }
   ],
   "source": [
    "ea6.plot_metric_hist(\"perplexity\")"
   ]
  },
  {
   "cell_type": "code",
   "execution_count": 71,
   "id": "3a7ddab3",
   "metadata": {},
   "outputs": [
    {
     "data": {
      "text/html": [
       "<div>\n",
       "<style scoped>\n",
       "    .dataframe tbody tr th:only-of-type {\n",
       "        vertical-align: middle;\n",
       "    }\n",
       "\n",
       "    .dataframe tbody tr th {\n",
       "        vertical-align: top;\n",
       "    }\n",
       "\n",
       "    .dataframe thead th {\n",
       "        text-align: right;\n",
       "    }\n",
       "</style>\n",
       "<table border=\"1\" class=\"dataframe\">\n",
       "  <thead>\n",
       "    <tr style=\"text-align: right;\">\n",
       "      <th></th>\n",
       "      <th>data_split</th>\n",
       "      <th>loss</th>\n",
       "      <th>perplexity</th>\n",
       "    </tr>\n",
       "  </thead>\n",
       "  <tbody>\n",
       "    <tr>\n",
       "      <th>0</th>\n",
       "      <td>train</td>\n",
       "      <td>2.557902</td>\n",
       "      <td>12.908711</td>\n",
       "    </tr>\n",
       "    <tr>\n",
       "      <th>1</th>\n",
       "      <td>eval</td>\n",
       "      <td>2.514007</td>\n",
       "      <td>12.354330</td>\n",
       "    </tr>\n",
       "    <tr>\n",
       "      <th>2</th>\n",
       "      <td>test</td>\n",
       "      <td>2.360609</td>\n",
       "      <td>10.597401</td>\n",
       "    </tr>\n",
       "  </tbody>\n",
       "</table>\n",
       "</div>"
      ],
      "text/plain": [
       "  data_split      loss  perplexity\n",
       "0      train  2.557902   12.908711\n",
       "1       eval  2.514007   12.354330\n",
       "2       test  2.360609   10.597401"
      ]
     },
     "execution_count": 71,
     "metadata": {},
     "output_type": "execute_result"
    }
   ],
   "source": [
    "result_dir7 = os.path.join(base_result_dir, \"3_distilbert_finetuned_author/epoch_3_run/Eriflee\")\n",
    "ea7 = ExpAnalyzer(result_dir7)\n",
    "ea7.data_split_perf_df"
   ]
  },
  {
   "cell_type": "code",
   "execution_count": 72,
   "id": "8cfe756c",
   "metadata": {},
   "outputs": [
    {
     "data": {
      "image/png": "[encoded data removed]",
      "text/plain": [
       "<Figure size 432x288 with 1 Axes>"
      ]
     },
     "metadata": {},
     "output_type": "display_data"
    },
    {
     "data": {
      "text/plain": [
       "<Figure size 432x288 with 0 Axes>"
      ]
     },
     "metadata": {},
     "output_type": "display_data"
    }
   ],
   "source": [
    "ea7.plot_metric_hist(\"perplexity\")"
   ]
  },
  {
   "cell_type": "code",
   "execution_count": 73,
   "id": "c79b6bea",
   "metadata": {},
   "outputs": [
    {
     "name": "stdout",
     "output_type": "stream",
     "text": [
      "Found results for 5 users\n"
     ]
    }
   ],
   "source": [
    "result_dir8 = os.path.join(base_result_dir, \"3_distilbert_finetuned_author/\")\n",
    "ea8 = PerUserExpAnalyzer(result_dir8)"
   ]
  },
  {
   "cell_type": "code",
   "execution_count": 74,
   "id": "1c02029e",
   "metadata": {},
   "outputs": [
    {
     "data": {
      "text/html": [
       "<div>\n",
       "<style scoped>\n",
       "    .dataframe tbody tr th:only-of-type {\n",
       "        vertical-align: middle;\n",
       "    }\n",
       "\n",
       "    .dataframe tbody tr th {\n",
       "        vertical-align: top;\n",
       "    }\n",
       "\n",
       "    .dataframe thead th {\n",
       "        text-align: right;\n",
       "    }\n",
       "</style>\n",
       "<table border=\"1\" class=\"dataframe\">\n",
       "  <thead>\n",
       "    <tr style=\"text-align: right;\">\n",
       "      <th></th>\n",
       "      <th>data_split</th>\n",
       "      <th>loss</th>\n",
       "      <th>perplexity</th>\n",
       "      <th>author</th>\n",
       "    </tr>\n",
       "  </thead>\n",
       "  <tbody>\n",
       "    <tr>\n",
       "      <th>0</th>\n",
       "      <td>train</td>\n",
       "      <td>0.127322</td>\n",
       "      <td>1.135782</td>\n",
       "      <td>escapevelo</td>\n",
       "    </tr>\n",
       "    <tr>\n",
       "      <th>1</th>\n",
       "      <td>eval</td>\n",
       "      <td>3.458401</td>\n",
       "      <td>31.766141</td>\n",
       "      <td>escapevelo</td>\n",
       "    </tr>\n",
       "    <tr>\n",
       "      <th>2</th>\n",
       "      <td>test</td>\n",
       "      <td>3.983747</td>\n",
       "      <td>53.717965</td>\n",
       "      <td>escapevelo</td>\n",
       "    </tr>\n",
       "    <tr>\n",
       "      <th>0</th>\n",
       "      <td>train</td>\n",
       "      <td>0.314765</td>\n",
       "      <td>1.369938</td>\n",
       "      <td>exab</td>\n",
       "    </tr>\n",
       "    <tr>\n",
       "      <th>1</th>\n",
       "      <td>eval</td>\n",
       "      <td>2.835886</td>\n",
       "      <td>17.045496</td>\n",
       "      <td>exab</td>\n",
       "    </tr>\n",
       "    <tr>\n",
       "      <th>2</th>\n",
       "      <td>test</td>\n",
       "      <td>2.856753</td>\n",
       "      <td>17.404927</td>\n",
       "      <td>exab</td>\n",
       "    </tr>\n",
       "    <tr>\n",
       "      <th>0</th>\n",
       "      <td>train</td>\n",
       "      <td>0.146799</td>\n",
       "      <td>1.158121</td>\n",
       "      <td>Eriflee</td>\n",
       "    </tr>\n",
       "    <tr>\n",
       "      <th>1</th>\n",
       "      <td>eval</td>\n",
       "      <td>3.676287</td>\n",
       "      <td>39.499448</td>\n",
       "      <td>Eriflee</td>\n",
       "    </tr>\n",
       "    <tr>\n",
       "      <th>2</th>\n",
       "      <td>test</td>\n",
       "      <td>3.336973</td>\n",
       "      <td>28.133828</td>\n",
       "      <td>Eriflee</td>\n",
       "    </tr>\n",
       "  </tbody>\n",
       "</table>\n",
       "</div>"
      ],
      "text/plain": [
       "  data_split      loss  perplexity      author\n",
       "0      train  0.127322    1.135782  escapevelo\n",
       "1       eval  3.458401   31.766141  escapevelo\n",
       "2       test  3.983747   53.717965  escapevelo\n",
       "0      train  0.314765    1.369938        exab\n",
       "1       eval  2.835886   17.045496        exab\n",
       "2       test  2.856753   17.404927        exab\n",
       "0      train  0.146799    1.158121     Eriflee\n",
       "1       eval  3.676287   39.499448     Eriflee\n",
       "2       test  3.336973   28.133828     Eriflee"
      ]
     },
     "execution_count": 74,
     "metadata": {},
     "output_type": "execute_result"
    }
   ],
   "source": [
    "ea8.data_split_perf_df"
   ]
  },
  {
   "cell_type": "code",
   "execution_count": 75,
   "id": "5f6f6342",
   "metadata": {},
   "outputs": [
    {
     "data": {
      "image/png": "[encoded data removed]",
      "text/plain": [
       "<Figure size 432x288 with 1 Axes>"
      ]
     },
     "metadata": {},
     "output_type": "display_data"
    },
    {
     "data": {
      "text/plain": [
       "<Figure size 432x288 with 0 Axes>"
      ]
     },
     "metadata": {},
     "output_type": "display_data"
    }
   ],
   "source": [
    "ea8.plot_metric_hist(\"perplexity\")"
   ]
  },
  {
   "cell_type": "markdown",
   "id": "241abc5f",
   "metadata": {},
   "source": [
    "## Get Per-Subreddit Perf."
   ]
  },
  {
   "cell_type": "code",
   "execution_count": 77,
   "id": "780a89f0",
   "metadata": {},
   "outputs": [
    {
     "data": {
      "text/html": [
       "<div>\n",
       "<style scoped>\n",
       "    .dataframe tbody tr th:only-of-type {\n",
       "        vertical-align: middle;\n",
       "    }\n",
       "\n",
       "    .dataframe tbody tr th {\n",
       "        vertical-align: top;\n",
       "    }\n",
       "\n",
       "    .dataframe thead th {\n",
       "        text-align: right;\n",
       "    }\n",
       "</style>\n",
       "<table border=\"1\" class=\"dataframe\">\n",
       "  <thead>\n",
       "    <tr style=\"text-align: right;\">\n",
       "      <th></th>\n",
       "      <th>data_split</th>\n",
       "      <th>loss</th>\n",
       "      <th>perplexity</th>\n",
       "    </tr>\n",
       "  </thead>\n",
       "  <tbody>\n",
       "    <tr>\n",
       "      <th>0</th>\n",
       "      <td>eval</td>\n",
       "      <td>2.888228</td>\n",
       "      <td>17.961461</td>\n",
       "    </tr>\n",
       "    <tr>\n",
       "      <th>1</th>\n",
       "      <td>test</td>\n",
       "      <td>2.914612</td>\n",
       "      <td>18.441652</td>\n",
       "    </tr>\n",
       "  </tbody>\n",
       "</table>\n",
       "</div>"
      ],
      "text/plain": [
       "  data_split      loss  perplexity\n",
       "0       eval  2.888228   17.961461\n",
       "1       test  2.914612   18.441652"
      ]
     },
     "execution_count": 77,
     "metadata": {},
     "output_type": "execute_result"
    }
   ],
   "source": [
    "rd1 = os.path.join(base_result_dir, \"1_bert_distill_pretrained\")\n",
    "ea1 = ExpAnalyzer(rd1)\n",
    "ea1.data_split_perf_df"
   ]
  },
  {
   "cell_type": "code",
   "execution_count": 80,
   "id": "f6cc16e6",
   "metadata": {},
   "outputs": [
    {
     "data": {
      "text/plain": [
       "loss           2.821629\n",
       "perplexity    17.023798\n",
       "dtype: float64"
      ]
     },
     "execution_count": 80,
     "metadata": {},
     "output_type": "execute_result"
    }
   ],
   "source": [
    "ea1.sr_result_df.mean()"
   ]
  },
  {
   "cell_type": "code",
   "execution_count": 81,
   "id": "0ba6ecc9",
   "metadata": {},
   "outputs": [
    {
     "data": {
      "text/plain": [
       "loss          0.175319\n",
       "perplexity    3.052106\n",
       "dtype: float64"
      ]
     },
     "execution_count": 81,
     "metadata": {},
     "output_type": "execute_result"
    }
   ],
   "source": [
    "ea1.sr_result_df.std()"
   ]
  },
  {
   "cell_type": "code",
   "execution_count": 88,
   "id": "8b2231b0",
   "metadata": {},
   "outputs": [
    {
     "ename": "TypeError",
     "evalue": "__init__() missing 1 required positional argument: 'population_type'",
     "output_type": "error",
     "traceback": [
      "\u001b[0;31m---------------------------------------------------------------------------\u001b[0m",
      "\u001b[0;31mTypeError\u001b[0m                                 Traceback (most recent call last)",
      "\u001b[0;32m<ipython-input-88-20891a4cabe5>\u001b[0m in \u001b[0;36m<module>\u001b[0;34m\u001b[0m\n\u001b[1;32m      1\u001b[0m \u001b[0mrd9\u001b[0m \u001b[0;34m=\u001b[0m \u001b[0mos\u001b[0m\u001b[0;34m.\u001b[0m\u001b[0mpath\u001b[0m\u001b[0;34m.\u001b[0m\u001b[0mjoin\u001b[0m\u001b[0;34m(\u001b[0m\u001b[0mbase_result_dir\u001b[0m\u001b[0;34m,\u001b[0m \u001b[0;34m\"4_distilbert_finetuned_subreddit\"\u001b[0m\u001b[0;34m)\u001b[0m\u001b[0;34m\u001b[0m\u001b[0;34m\u001b[0m\u001b[0m\n\u001b[0;32m----> 2\u001b[0;31m \u001b[0mea9\u001b[0m \u001b[0;34m=\u001b[0m \u001b[0mPerPopulationExpAnalyzer\u001b[0m\u001b[0;34m(\u001b[0m\u001b[0mrd9\u001b[0m\u001b[0;34m)\u001b[0m\u001b[0;34m\u001b[0m\u001b[0;34m\u001b[0m\u001b[0m\n\u001b[0m\u001b[1;32m      3\u001b[0m \u001b[0mea9\u001b[0m\u001b[0;34m.\u001b[0m\u001b[0mdata_split_perf_df\u001b[0m\u001b[0;34m\u001b[0m\u001b[0;34m\u001b[0m\u001b[0m\n",
      "\u001b[0;31mTypeError\u001b[0m: __init__() missing 1 required positional argument: 'population_type'"
     ]
    }
   ],
   "source": [
    "rd9 = os.path.join(base_result_dir, \"4_distilbert_finetuned_subreddit\")\n",
    "ea9 = PerPopulationExpAnalyzer(rd9, \"subreddit\")\n",
    "ea9.data_split_perf_df"
   ]
  }
 ],
 "metadata": {
  "kernelspec": {
   "display_name": "Python 3",
   "language": "python",
   "name": "python3"
  },
  "language_info": {
   "codemirror_mode": {
    "name": "ipython",
    "version": 3
   },
   "file_extension": ".py",
   "mimetype": "text/x-python",
   "name": "python",
   "nbconvert_exporter": "python",
   "pygments_lexer": "ipython3",
   "version": "3.8.10"
  }
 },
 "nbformat": 4,
 "nbformat_minor": 5
}
