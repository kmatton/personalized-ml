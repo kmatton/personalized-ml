{
 "cells": [
  {
   "cell_type": "markdown",
   "metadata": {},
   "source": [
    "# Testing Data Preprocessing Pipeline"
   ]
  },
  {
   "cell_type": "code",
   "execution_count": 1,
   "metadata": {},
   "outputs": [],
   "source": [
    "%load_ext autoreload\n",
    "%autoreload 2"
   ]
  },
  {
   "cell_type": "code",
   "execution_count": 18,
   "metadata": {},
   "outputs": [],
   "source": [
    "import os\n",
    "from datetime import datetime\n",
    "import re\n",
    "import sys\n",
    "sys.path.append('../src/')\n",
    "\n",
    "import fasttext\n",
    "import matplotlib as plt\n",
    "import numpy as np\n",
    "np.set_printoptions(precision=3)\n",
    "import pandas as pd\n",
    "import seaborn as sns\n",
    "sns.set_theme()"
   ]
  },
  {
   "cell_type": "code",
   "execution_count": 3,
   "metadata": {},
   "outputs": [],
   "source": [
    "BASE_DATA_PATH = \"/data/ddmg/personalizedmentalhealth/reddit_project/data\"\n",
    "SR_DATA_PATH = \"bitcoin/posts\""
   ]
  },
  {
   "cell_type": "markdown",
   "metadata": {},
   "source": [
    "## Test Post Filtering Steps"
   ]
  },
  {
   "cell_type": "code",
   "execution_count": 4,
   "metadata": {},
   "outputs": [
    {
     "name": "stderr",
     "output_type": "stream",
     "text": [
      "/data/ddmg/users/kmatton/.conda/envs/rlm/lib/python3.8/site-packages/IPython/core/interactiveshell.py:3165: DtypeWarning: Columns (15,18,30,38,45,61,75,80,83,113,114,115,116,117,118,119,120) have mixed types.Specify dtype option on import or set low_memory=False.\n",
      "  has_raised = await self.run_ast_nodes(code_ast.body, cell_name,\n"
     ]
    }
   ],
   "source": [
    "data_df = pd.read_csv(os.path.join(BASE_DATA_PATH, SR_DATA_PATH, \"all.csv\"), index_col=0)"
   ]
  },
  {
   "cell_type": "code",
   "execution_count": 5,
   "metadata": {},
   "outputs": [],
   "source": [
    "del_list = ['[removed]', '[deleted]']\n",
    "data_df = data_df[~data_df[\"selftext\"].isin(del_list)]\n",
    "data_df = data_df[data_df[\"author\"].notnull()]"
   ]
  },
  {
   "cell_type": "code",
   "execution_count": 6,
   "metadata": {},
   "outputs": [],
   "source": [
    "id_counts = data_df['id'].value_counts()\n",
    "assert len(set(id_counts)) == 1 and list(id_counts)[0] == 1"
   ]
  },
  {
   "cell_type": "code",
   "execution_count": 19,
   "metadata": {},
   "outputs": [
    {
     "data": {
      "text/plain": [
       "['_reddit',\n",
       " 'approved_at_utc',\n",
       " 'subreddit',\n",
       " 'selftext',\n",
       " 'author_fullname',\n",
       " 'saved',\n",
       " 'mod_reason_title',\n",
       " 'gilded',\n",
       " 'clicked',\n",
       " 'title',\n",
       " 'link_flair_richtext',\n",
       " 'subreddit_name_prefixed',\n",
       " 'hidden',\n",
       " 'pwls',\n",
       " 'link_flair_css_class',\n",
       " 'downs',\n",
       " 'thumbnail_height',\n",
       " 'top_awarded_type',\n",
       " 'hide_score',\n",
       " 'name',\n",
       " 'quarantine',\n",
       " 'link_flair_text_color',\n",
       " 'upvote_ratio',\n",
       " 'author_flair_background_color',\n",
       " 'subreddit_type',\n",
       " 'ups',\n",
       " 'total_awards_received',\n",
       " 'media_embed',\n",
       " 'thumbnail_width',\n",
       " 'author_flair_template_id',\n",
       " 'is_original_content',\n",
       " 'user_reports',\n",
       " 'secure_media',\n",
       " 'is_reddit_media_domain',\n",
       " 'is_meta',\n",
       " 'category',\n",
       " 'secure_media_embed',\n",
       " 'link_flair_text',\n",
       " 'can_mod_post',\n",
       " 'score',\n",
       " 'approved_by',\n",
       " 'author_premium',\n",
       " 'thumbnail',\n",
       " 'edited',\n",
       " 'author_flair_css_class',\n",
       " 'author_flair_richtext',\n",
       " 'gildings',\n",
       " 'content_categories',\n",
       " 'is_self',\n",
       " 'mod_note',\n",
       " 'created',\n",
       " 'link_flair_type',\n",
       " 'wls',\n",
       " 'removed_by_category',\n",
       " 'banned_by',\n",
       " 'author_flair_type',\n",
       " 'domain',\n",
       " 'allow_live_comments',\n",
       " 'selftext_html',\n",
       " 'likes',\n",
       " 'suggested_sort',\n",
       " 'banned_at_utc',\n",
       " 'view_count',\n",
       " 'archived',\n",
       " 'no_follow',\n",
       " 'is_crosspostable',\n",
       " 'pinned',\n",
       " 'over_18',\n",
       " 'all_awardings',\n",
       " 'awarders',\n",
       " 'media_only',\n",
       " 'can_gild',\n",
       " 'spoiler',\n",
       " 'locked',\n",
       " 'author_flair_text',\n",
       " 'treatment_tags',\n",
       " 'visited',\n",
       " 'removed_by',\n",
       " 'num_reports',\n",
       " 'distinguished',\n",
       " 'subreddit_id',\n",
       " 'mod_reason_by',\n",
       " 'removal_reason',\n",
       " 'link_flair_background_color',\n",
       " 'id',\n",
       " 'is_robot_indexable',\n",
       " 'report_reasons',\n",
       " 'author',\n",
       " 'discussion_type',\n",
       " 'num_comments',\n",
       " 'send_replies',\n",
       " 'whitelist_status',\n",
       " 'contest_mode',\n",
       " 'mod_reports',\n",
       " 'author_patreon_flair',\n",
       " 'author_flair_text_color',\n",
       " 'permalink',\n",
       " 'parent_whitelist_status',\n",
       " 'stickied',\n",
       " 'url',\n",
       " 'subreddit_subscribers',\n",
       " 'created_utc',\n",
       " 'num_crossposts',\n",
       " 'media',\n",
       " 'is_video',\n",
       " '_fetched',\n",
       " 'comment_limit',\n",
       " 'comment_sort',\n",
       " '_comments_by_id',\n",
       " 'post_hint',\n",
       " 'url_overridden_by_dest',\n",
       " 'preview',\n",
       " 'author_cakeday',\n",
       " 'link_flair_template_id',\n",
       " 'crosspost_parent_list',\n",
       " 'crosspost_parent',\n",
       " 'media_metadata',\n",
       " 'poll_data',\n",
       " 'is_gallery',\n",
       " 'gallery_data']"
      ]
     },
     "execution_count": 19,
     "metadata": {},
     "output_type": "execute_result"
    }
   ],
   "source": [
    "list(data_df.columns)"
   ]
  },
  {
   "cell_type": "markdown",
   "metadata": {},
   "source": [
    "# notes on columns:\n",
    "* permalink is url address after reddit.com\n",
    "* url is link to post, but if post is just a link then it is the url that the post links to (and url_overridden_by_dest will have this link)\n",
    "* is_original_content column is always False --> not meaningful\n",
    "* is_video is always False --> Not meaningful\n",
    "* is_gallery and gallery data are always null --> not meaningful\n",
    "* I don't think the selftext_html column is helpful for filtering or text pre-processing\n",
    "* all posts have title, so shouldn't have to worry about that"
   ]
  },
  {
   "cell_type": "code",
   "execution_count": 51,
   "metadata": {},
   "outputs": [
    {
     "data": {
      "text/plain": [
       "['/r/Bitcoin/comments/2s3rgw/sarutobi_has_now_done_more_than_25k_transactions/',\n",
       " '/r/Bitcoin/comments/2s3rb1/what_affects_the_bitcoin_price/',\n",
       " '/r/Bitcoin/comments/2s3qd8/where_did_the_blockchaininfo_firefox_addon_go/',\n",
       " '/r/Bitcoin/comments/2s3lt7/bitstamp_hacker_donated_1btc_to_sarutobi/',\n",
       " '/r/Bitcoin/comments/2s3j5i/if_i_dont_have_a_bank_account_what_are_my_options/']"
      ]
     },
     "execution_count": 51,
     "metadata": {},
     "output_type": "execute_result"
    }
   ],
   "source": [
    "list(data_df.head(5)['permalink'])"
   ]
  },
  {
   "cell_type": "code",
   "execution_count": 25,
   "metadata": {},
   "outputs": [
    {
     "data": {
      "text/plain": [
       "['https://www.reddit.com/r/Bitcoin/comments/2s3lt7/bitstamp_hacker_donated_1btc_to_sarutobi/',\n",
       " 'http://sakurity.com/blog/2015/01/10/hacking-bitcoin-exchanger.html',\n",
       " 'http://bitcoinvox.com/article/1380/bithalo-smart-contract-software-21',\n",
       " 'http://www.btcfeed.net/uncategorized/layoffs/',\n",
       " 'https://coinmarketcap.com/currencies/paycoin2/']"
      ]
     },
     "execution_count": 25,
     "metadata": {},
     "output_type": "execute_result"
    }
   ],
   "source": [
    "list(data_df.iloc[6:11]['url'])"
   ]
  },
  {
   "cell_type": "code",
   "execution_count": 27,
   "metadata": {},
   "outputs": [
    {
     "data": {
      "text/plain": [
       "[nan,\n",
       " 'http://sakurity.com/blog/2015/01/10/hacking-bitcoin-exchanger.html',\n",
       " 'http://bitcoinvox.com/article/1380/bithalo-smart-contract-software-21',\n",
       " 'http://www.btcfeed.net/uncategorized/layoffs/',\n",
       " 'https://coinmarketcap.com/currencies/paycoin2/']"
      ]
     },
     "execution_count": 27,
     "metadata": {},
     "output_type": "execute_result"
    }
   ],
   "source": [
    "list(data_df.iloc[6:11]['url_overridden_by_dest'])"
   ]
  },
  {
   "cell_type": "code",
   "execution_count": 7,
   "metadata": {},
   "outputs": [],
   "source": [
    "data_df = data_df[data_df[\"url_overridden_by_dest\"].isnull()]"
   ]
  },
  {
   "cell_type": "code",
   "execution_count": 53,
   "metadata": {},
   "outputs": [
    {
     "data": {
      "text/plain": [
       "['[First address] (https://blockchain.info/address/17ZgzoQUAiCrCgSieYfGhAvToW9kn6uaLt): 5255 transactions\\n\\n[Second address] (https://blockchain.info/address/1GumHq1f5XVnxBjnz78uRgJad2nyE5TgjS): 6671 transactions\\n\\n[Third (still active) address](https://blockchain.info/address/3MXxfNZoifLYdS8wJTpvfeDNPt9ZWuMAaN): 13164 transactions (and growing fast)\\n\\n']"
      ]
     },
     "execution_count": 53,
     "metadata": {},
     "output_type": "execute_result"
    }
   ],
   "source": [
    "list(data_df.head(1)['selftext'])"
   ]
  },
  {
   "cell_type": "code",
   "execution_count": 54,
   "metadata": {},
   "outputs": [
    {
     "data": {
      "text/plain": [
       "['<!-- SC_OFF --><div class=\"md\"><p><a href=\"https://blockchain.info/address/17ZgzoQUAiCrCgSieYfGhAvToW9kn6uaLt\">First address</a>: 5255 transactions</p>\\n\\n<p><a href=\"https://blockchain.info/address/1GumHq1f5XVnxBjnz78uRgJad2nyE5TgjS\">Second address</a>: 6671 transactions</p>\\n\\n<p><a href=\"https://blockchain.info/address/3MXxfNZoifLYdS8wJTpvfeDNPt9ZWuMAaN\">Third (still active) address</a>: 13164 transactions (and growing fast)</p>\\n</div><!-- SC_ON -->']"
      ]
     },
     "execution_count": 54,
     "metadata": {},
     "output_type": "execute_result"
    }
   ],
   "source": [
    "list(data_df.head(1)['selftext_html'])"
   ]
  },
  {
   "cell_type": "code",
   "execution_count": 8,
   "metadata": {},
   "outputs": [
    {
     "data": {
      "text/html": [
       "<div>\n",
       "<style scoped>\n",
       "    .dataframe tbody tr th:only-of-type {\n",
       "        vertical-align: middle;\n",
       "    }\n",
       "\n",
       "    .dataframe tbody tr th {\n",
       "        vertical-align: top;\n",
       "    }\n",
       "\n",
       "    .dataframe thead th {\n",
       "        text-align: right;\n",
       "    }\n",
       "</style>\n",
       "<table border=\"1\" class=\"dataframe\">\n",
       "  <thead>\n",
       "    <tr style=\"text-align: right;\">\n",
       "      <th></th>\n",
       "      <th>id</th>\n",
       "      <th>author</th>\n",
       "      <th>title</th>\n",
       "      <th>selftext</th>\n",
       "      <th>selftext_html</th>\n",
       "      <th>media</th>\n",
       "      <th>media_metadata</th>\n",
       "    </tr>\n",
       "  </thead>\n",
       "  <tbody>\n",
       "    <tr>\n",
       "      <th>0</th>\n",
       "      <td>2s3rgw</td>\n",
       "      <td>heltok</td>\n",
       "      <td>Sarutobi has now done more than 25k transactions</td>\n",
       "      <td>[First address] (https://blockchain.info/addre...</td>\n",
       "      <td>&lt;!-- SC_OFF --&gt;&lt;div class=\"md\"&gt;&lt;p&gt;&lt;a href=\"htt...</td>\n",
       "      <td>NaN</td>\n",
       "      <td>NaN</td>\n",
       "    </tr>\n",
       "    <tr>\n",
       "      <th>1</th>\n",
       "      <td>2s3rb1</td>\n",
       "      <td>Kimba_Coinarch</td>\n",
       "      <td>What affects the bitcoin price?</td>\n",
       "      <td>The recent Bitstamp hack has led people to que...</td>\n",
       "      <td>&lt;!-- SC_OFF --&gt;&lt;div class=\"md\"&gt;&lt;p&gt;The recent B...</td>\n",
       "      <td>NaN</td>\n",
       "      <td>NaN</td>\n",
       "    </tr>\n",
       "    <tr>\n",
       "      <th>2</th>\n",
       "      <td>2s3qd8</td>\n",
       "      <td>Satirei</td>\n",
       "      <td>Where Did the Blockchain.info Firefox Add-On Go?</td>\n",
       "      <td>I found the github (which I think should be tr...</td>\n",
       "      <td>&lt;!-- SC_OFF --&gt;&lt;div class=\"md\"&gt;&lt;p&gt;I found the ...</td>\n",
       "      <td>NaN</td>\n",
       "      <td>NaN</td>\n",
       "    </tr>\n",
       "    <tr>\n",
       "      <th>6</th>\n",
       "      <td>2s3lt7</td>\n",
       "      <td>heltok</td>\n",
       "      <td>Bitstamp hacker donated 1BTC to Sarutobi</td>\n",
       "      <td>I followed the transactions and found this cha...</td>\n",
       "      <td>&lt;!-- SC_OFF --&gt;&lt;div class=\"md\"&gt;&lt;p&gt;I followed t...</td>\n",
       "      <td>NaN</td>\n",
       "      <td>NaN</td>\n",
       "    </tr>\n",
       "    <tr>\n",
       "      <th>14</th>\n",
       "      <td>2s3j5i</td>\n",
       "      <td>Alex_Engel</td>\n",
       "      <td>If I don't have a bank account what are my opt...</td>\n",
       "      <td>NaN</td>\n",
       "      <td>NaN</td>\n",
       "      <td>NaN</td>\n",
       "      <td>NaN</td>\n",
       "    </tr>\n",
       "    <tr>\n",
       "      <th>...</th>\n",
       "      <td>...</td>\n",
       "      <td>...</td>\n",
       "      <td>...</td>\n",
       "      <td>...</td>\n",
       "      <td>...</td>\n",
       "      <td>...</td>\n",
       "      <td>...</td>\n",
       "    </tr>\n",
       "    <tr>\n",
       "      <th>6629</th>\n",
       "      <td>knedzr</td>\n",
       "      <td>tookthisusersoucant</td>\n",
       "      <td>I created a Bitcoin node too!</td>\n",
       "      <td>&amp;#x200B;\\n\\n[My Bitcoin + Lightning Node](http...</td>\n",
       "      <td>&lt;!-- SC_OFF --&gt;&lt;div class=\"md\"&gt;&lt;p&gt;&amp;#x200B;&lt;/p&gt;...</td>\n",
       "      <td>NaN</td>\n",
       "      <td>{'q9lggv62pe861': {'status': 'valid', 'e': 'Im...</td>\n",
       "    </tr>\n",
       "    <tr>\n",
       "      <th>6631</th>\n",
       "      <td>knecae</td>\n",
       "      <td>sammyaxelrod</td>\n",
       "      <td>Bitcoin market cap now larger than Walmart and...</td>\n",
       "      <td>I know you’re sick of hearing it but I like co...</td>\n",
       "      <td>&lt;!-- SC_OFF --&gt;&lt;div class=\"md\"&gt;&lt;p&gt;I know you’r...</td>\n",
       "      <td>NaN</td>\n",
       "      <td>NaN</td>\n",
       "    </tr>\n",
       "    <tr>\n",
       "      <th>6632</th>\n",
       "      <td>kneaub</td>\n",
       "      <td>Critical_Radio</td>\n",
       "      <td>Will the rise of Bitcoin speed up fiat inflation?</td>\n",
       "      <td>As less people want dollars and other fiat in ...</td>\n",
       "      <td>&lt;!-- SC_OFF --&gt;&lt;div class=\"md\"&gt;&lt;p&gt;As less peop...</td>\n",
       "      <td>NaN</td>\n",
       "      <td>NaN</td>\n",
       "    </tr>\n",
       "    <tr>\n",
       "      <th>6633</th>\n",
       "      <td>kneap0</td>\n",
       "      <td>veletor</td>\n",
       "      <td>29k!!!!</td>\n",
       "      <td>AHHHHHHHHHHH 30 before New Years let’s go</td>\n",
       "      <td>&lt;!-- SC_OFF --&gt;&lt;div class=\"md\"&gt;&lt;p&gt;AHHHHHHHHHHH...</td>\n",
       "      <td>NaN</td>\n",
       "      <td>NaN</td>\n",
       "    </tr>\n",
       "    <tr>\n",
       "      <th>6639</th>\n",
       "      <td>kne606</td>\n",
       "      <td>Benjamin-Piper05</td>\n",
       "      <td>How do you transfer your currency back to U.S ...</td>\n",
       "      <td>So I’ve never used Jaxx before, but I wanted t...</td>\n",
       "      <td>&lt;!-- SC_OFF --&gt;&lt;div class=\"md\"&gt;&lt;p&gt;So I’ve neve...</td>\n",
       "      <td>NaN</td>\n",
       "      <td>NaN</td>\n",
       "    </tr>\n",
       "  </tbody>\n",
       "</table>\n",
       "<p>150798 rows × 7 columns</p>\n",
       "</div>"
      ],
      "text/plain": [
       "          id               author  \\\n",
       "0     2s3rgw               heltok   \n",
       "1     2s3rb1       Kimba_Coinarch   \n",
       "2     2s3qd8              Satirei   \n",
       "6     2s3lt7               heltok   \n",
       "14    2s3j5i           Alex_Engel   \n",
       "...      ...                  ...   \n",
       "6629  knedzr  tookthisusersoucant   \n",
       "6631  knecae         sammyaxelrod   \n",
       "6632  kneaub       Critical_Radio   \n",
       "6633  kneap0              veletor   \n",
       "6639  kne606     Benjamin-Piper05   \n",
       "\n",
       "                                                  title  \\\n",
       "0      Sarutobi has now done more than 25k transactions   \n",
       "1                       What affects the bitcoin price?   \n",
       "2      Where Did the Blockchain.info Firefox Add-On Go?   \n",
       "6              Bitstamp hacker donated 1BTC to Sarutobi   \n",
       "14    If I don't have a bank account what are my opt...   \n",
       "...                                                 ...   \n",
       "6629                      I created a Bitcoin node too!   \n",
       "6631  Bitcoin market cap now larger than Walmart and...   \n",
       "6632  Will the rise of Bitcoin speed up fiat inflation?   \n",
       "6633                                            29k!!!!   \n",
       "6639  How do you transfer your currency back to U.S ...   \n",
       "\n",
       "                                               selftext  \\\n",
       "0     [First address] (https://blockchain.info/addre...   \n",
       "1     The recent Bitstamp hack has led people to que...   \n",
       "2     I found the github (which I think should be tr...   \n",
       "6     I followed the transactions and found this cha...   \n",
       "14                                                  NaN   \n",
       "...                                                 ...   \n",
       "6629  &#x200B;\\n\\n[My Bitcoin + Lightning Node](http...   \n",
       "6631  I know you’re sick of hearing it but I like co...   \n",
       "6632  As less people want dollars and other fiat in ...   \n",
       "6633          AHHHHHHHHHHH 30 before New Years let’s go   \n",
       "6639  So I’ve never used Jaxx before, but I wanted t...   \n",
       "\n",
       "                                          selftext_html media  \\\n",
       "0     <!-- SC_OFF --><div class=\"md\"><p><a href=\"htt...   NaN   \n",
       "1     <!-- SC_OFF --><div class=\"md\"><p>The recent B...   NaN   \n",
       "2     <!-- SC_OFF --><div class=\"md\"><p>I found the ...   NaN   \n",
       "6     <!-- SC_OFF --><div class=\"md\"><p>I followed t...   NaN   \n",
       "14                                                  NaN   NaN   \n",
       "...                                                 ...   ...   \n",
       "6629  <!-- SC_OFF --><div class=\"md\"><p>&#x200B;</p>...   NaN   \n",
       "6631  <!-- SC_OFF --><div class=\"md\"><p>I know you’r...   NaN   \n",
       "6632  <!-- SC_OFF --><div class=\"md\"><p>As less peop...   NaN   \n",
       "6633  <!-- SC_OFF --><div class=\"md\"><p>AHHHHHHHHHHH...   NaN   \n",
       "6639  <!-- SC_OFF --><div class=\"md\"><p>So I’ve neve...   NaN   \n",
       "\n",
       "                                         media_metadata  \n",
       "0                                                   NaN  \n",
       "1                                                   NaN  \n",
       "2                                                   NaN  \n",
       "6                                                   NaN  \n",
       "14                                                  NaN  \n",
       "...                                                 ...  \n",
       "6629  {'q9lggv62pe861': {'status': 'valid', 'e': 'Im...  \n",
       "6631                                                NaN  \n",
       "6632                                                NaN  \n",
       "6633                                                NaN  \n",
       "6639                                                NaN  \n",
       "\n",
       "[150798 rows x 7 columns]"
      ]
     },
     "execution_count": 8,
     "metadata": {},
     "output_type": "execute_result"
    }
   ],
   "source": [
    "keep_columns = ['id', 'author', 'title', 'selftext',\n",
    "                'selftext_html', 'media', 'media_metadata']\n",
    "data_df[keep_columns]"
   ]
  },
  {
   "cell_type": "markdown",
   "metadata": {},
   "source": [
    "## Examine Makeup of Data"
   ]
  },
  {
   "cell_type": "code",
   "execution_count": 30,
   "metadata": {},
   "outputs": [
    {
     "name": "stderr",
     "output_type": "stream",
     "text": [
      "/data/ddmg/users/kmatton/.conda/envs/rlm/lib/python3.8/site-packages/IPython/core/interactiveshell.py:3145: DtypeWarning: Columns (15,18,30,38,45,61,75,80,83,113,114,115,116,117,118,119,120) have mixed types.Specify dtype option on import or set low_memory=False.\n",
      "  has_raised = await self.run_ast_nodes(code_ast.body, cell_name,\n"
     ]
    }
   ],
   "source": [
    "copy_df = pd.read_csv(os.path.join(BASE_DATA_PATH, SR_DATA_PATH, \"all.csv\"), index_col=0)"
   ]
  },
  {
   "cell_type": "code",
   "execution_count": 31,
   "metadata": {},
   "outputs": [
    {
     "name": "stdout",
     "output_type": "stream",
     "text": [
      "total post count 663841\n"
     ]
    }
   ],
   "source": [
    "print(\"total post count\", len(copy_df))"
   ]
  },
  {
   "cell_type": "code",
   "execution_count": 33,
   "metadata": {},
   "outputs": [
    {
     "name": "stdout",
     "output_type": "stream",
     "text": [
      "number of posts that have been deleted/removed: 223204=33.62311155834002%\n"
     ]
    }
   ],
   "source": [
    "# get percentage of posts that have been removed/deleted\n",
    "del_list = ['[removed]', '[deleted]']\n",
    "del_df = copy_df[copy_df[\"selftext\"].isin(del_list)]\n",
    "print(\"number of posts that have been deleted/removed: {}={}%\".format(len(del_df), len(del_df)*100/len(copy_df)))"
   ]
  },
  {
   "cell_type": "code",
   "execution_count": 34,
   "metadata": {},
   "outputs": [
    {
     "name": "stdout",
     "output_type": "stream",
     "text": [
      "number of posts w/o author: 180354=27.168252638809594%\n"
     ]
    }
   ],
   "source": [
    "# get percentage of posts without an author --> note these are pretty much the same as posts that were deleted/removed\n",
    "del_df = copy_df[copy_df[\"author\"].isnull()]\n",
    "print(\"number of posts w/o author: {}={}%\".format(len(del_df), len(del_df)*100/len(copy_df)))"
   ]
  },
  {
   "cell_type": "code",
   "execution_count": 37,
   "metadata": {},
   "outputs": [
    {
     "name": "stdout",
     "output_type": "stream",
     "text": [
      "number of posts w/ url overridden by dest: 351209=52.90559034467591%\n"
     ]
    }
   ],
   "source": [
    "# get percentage of posts with url overridden by dest\n",
    "del_df = copy_df[copy_df[\"url_overridden_by_dest\"].notnull()]\n",
    "print(\"number of posts w/ url overridden by dest: {}={}%\".format(len(del_df), len(del_df)*100/len(copy_df)))"
   ]
  },
  {
   "cell_type": "markdown",
   "metadata": {},
   "source": [
    "## Test Language Detection Models"
   ]
  },
  {
   "cell_type": "markdown",
   "metadata": {},
   "source": [
    "Preprocessing steps needed before applying:\n",
    "* Remove newlines\n",
    "\n",
    "URLs lower confidence, but still is able to predict English correctly."
   ]
  },
  {
   "cell_type": "code",
   "execution_count": 9,
   "metadata": {},
   "outputs": [],
   "source": [
    "model_path = \"/data/ddmg/personalizedmentalhealth/reddit_project/tools/lid.176.bin\"\n",
    "lang_id_model = fasttext.load_model(model_path)"
   ]
  },
  {
   "cell_type": "code",
   "execution_count": 68,
   "metadata": {},
   "outputs": [],
   "source": [
    "def merge_text(row):\n",
    "    text = row[\"title\"]\n",
    "    if isinstance(row[\"selftext\"], str):\n",
    "        text += \" \"\n",
    "        text += row[\"selftext\"]\n",
    "    return text"
   ]
  },
  {
   "cell_type": "code",
   "execution_count": 69,
   "metadata": {},
   "outputs": [],
   "source": [
    "data_df[\"text\"] = data_df.apply(merge_text, axis=1)"
   ]
  },
  {
   "cell_type": "code",
   "execution_count": 76,
   "metadata": {},
   "outputs": [],
   "source": [
    "texts = list(data_df[\"text\"])"
   ]
  },
  {
   "cell_type": "code",
   "execution_count": 77,
   "metadata": {},
   "outputs": [],
   "source": [
    "texts = [re.sub(r'\\n+', ' ', text) for text in texts]"
   ]
  },
  {
   "cell_type": "code",
   "execution_count": 78,
   "metadata": {},
   "outputs": [],
   "source": [
    "lang_preds = lang_id_model.predict(texts)"
   ]
  },
  {
   "cell_type": "code",
   "execution_count": 79,
   "metadata": {},
   "outputs": [
    {
     "name": "stdout",
     "output_type": "stream",
     "text": [
      "Sarutobi has now done more than 25k transactions [First address] (https://blockchain.info/address/17ZgzoQUAiCrCgSieYfGhAvToW9kn6uaLt): 5255 transactions [Second address] (https://blockchain.info/address/1GumHq1f5XVnxBjnz78uRgJad2nyE5TgjS): 6671 transactions [Third (still active) address](https://blockchain.info/address/3MXxfNZoifLYdS8wJTpvfeDNPt9ZWuMAaN): 13164 transactions (and growing fast) \n",
      "['__label__en']\n",
      "[0.643]\n"
     ]
    }
   ],
   "source": [
    "print(texts[0])\n",
    "print(lang_preds[0][0])\n",
    "print(lang_preds[1][0])"
   ]
  },
  {
   "cell_type": "code",
   "execution_count": 83,
   "metadata": {},
   "outputs": [
    {
     "name": "stdout",
     "output_type": "stream",
     "text": [
      "non_eng: 203/150798=0.1346171699889919%\n",
      "post at idx 11125\n",
      "250 Celebrate.\n",
      "\n",
      "post at idx 13282\n",
      "Bitcoin moet het weer op eigen benen doen. Greek en China are not triggers anymore. So lets see if bitcoin can crawl back. Real time not: 275 \n",
      "\n",
      "post at idx 15401\n",
      "Reporte Semanal #2 Septiembre 2015 I Análisis de Mercado de Bitex.la La ultima semana pudimos observar como el precio del Bitcoin tuvo un claro y mantenido movimiento a la baja, tocando un piso en los 223 USD, el pasado Martes, en el día de la fecha el precio parece estar estabilizándose en el nivel de los 228 USD. Para la próxima semana podemos esperar que el precio vuelva a los niveles de la semana pasada si es que logra romper la barrera de los 230 USD. https://cdn-images-1.medium.com/max/1132/1*GuH7WGZ-TrvZUYmtMASB1w.png El director legal del Grupo de Société Générale ha pedido públicamente el establecimiento de un marco regulatorio para el bitcoin a nivel internacional. En un artículo co-escrito por Dominique Bourrinet, el director legal del banco multinacional frances; y su colega Etienne Mauret, se discuten las consecuencias de la situación jurídica indeterminada del bitcoin. Una versión traducida libremente del artículo dice: “En términos de la legislación francesa, que [bitcoin] no entra en ninguna categoría conocida:. No es ni una moneda de curso legal, ni un medio de pago — ni siquiera una moneda electrónica — en el sentido del Código Monetario y Financiero. Esta incertidumbre no ha impedido al gobierno francés establecer un sistema fiscal ad hoc. la cuestión de la aplicación del IVA queda por decidir “. A pesar de los esfuerzos de las autoridades francesas como “loables”, los autores siguen esbozando la necesidad de un marco regulatorio internacional que supervise rápidamente este “dinero nuevo”. La plataforma basada en bitcoin, Bitnexo ha sido anunciada como la ganadora conjunta en la final de la competencia latinoamericana del Open Talent BBVA. La start-up, que tiene la intención de facilitar transferencias de dinero internacionales entre Asia y América Latina, recibirá un premio de € 30.000 ($ 33.939), así como la oportunidad de unirse a un programa de redes de dos semanas en México y Londres. La otra empresa ganadora fue Destacame, una startup chilena que ayuda a las personas a tener acceso al crédito.Hugo Nájera, jefe de la banca digital de BBVA Bancomer, comentó sobre el potencial innovador de las nuevas empresas en la región, diciendo: “Las startups latinoamericanas han demostrado algunas propuestas realmente innovadoras dentro del FinTech.” El concurso Open Talent BBVA cuenta con nueve nuevas empresas de cifrado y se divide en tres finales regionales. Bitwage, Coinalytics, SnapCard y Voatz comenzaron a competir ayer en Nueva York junto a los start-ups de los EE.UU. y otras partes del mundo. La final tendrá lugar hoy. La final europea, que se celebrara en Barcelona, ​​donde Everledger, Safello y Vaultoro competirán, está programada para el 21 y 22 de septiembre. el exchange bitcoin chino BTCChina tiene un nuevo nombre: BTCC .La compañía dijo que la decisión era parte de un esfuerzo de cambio de marca dirigida a internacionalizar su imagen. “Bitcoin es global, y como nosotros lanzamos más productos y servicios para servir a la audiencia global, necesitábamos un nombre más global”, dijo el CEO Bobby Lee, de los cambios. “BTCC es ese nombre.” El exchange también comenzará a utilizar un nuevo logotipo y lanzará una nueva versión de su aplicación para móviles — actualmente en desarrollo — como parte del cambio de marca. Nueve grandes bancos de inversión, incluyendo JP Morgan Chase y Goldman Sachs se han asociado con el start-up de libro mayor distribuido R3CEV. La asociación verá esfuerzos de colaboración entre las instituciones que tomaran forma, el trabajo que incluirá el desarrollo de normas para el uso de la tecnología blockchain dentro de la industria financiera en general. El grupo bancario incluye Credit Suisse, State Street, UBS, Commonwealth Bank of Australia, BBVA, Barclays y Royal Bank of Scotland. Muchos en la lista han anunciado previamente esfuerzos independientes para estudiar la tecnología blockchain, y los bancos se dice que están invirtiendo dinero en R3 como parte del esfuerzo. Los bancos y R3 formarán grupos de trabajo como parte del desarrollo de prototipos blockchain y pruebas de concepto. R3 lleva meses trabajando con las instituciones financieras de Wall Street en la tecnología, un proceso que incluía alojamiento de mesas redondas de la industria y ayudar en las investigaciones internas de los bancos. El CEO de R3 David Rutter, dijo de la asociación: “Esta asociación señala una importante apuesta por parte de los bancos para evaluar conjuntamente y aplicar esta tecnología emergente para el sistema financiero global. Nuestros socios bancarios reconocen la promesa de las tecnologías del libro mayor distribuido y su potencial para transformar las plataformas tecnológicas de los mercados financieros, donde las normas deben ser seguras, escalables y adaptables “. Los representantes de los bancos involucrados, dijo que la asociación ayuda a armonizar el desarrollo de la tecnología en un intento por promover el trabajo más completo. “En este momento, se está viendo dinero y tiempo significativo se gasta en la exploración de estas tecnologías de manera fracturada que carece de la estratégica, coordinada visión tan crítica para el éxito a tiempo. El modelo R3 está cambiando el juego”, dijo Kevin Hanley, director del diseño en el Royal Bank of Scotland. La participación de los bancos, de acuerdo con un representante, es un reflejo del creciente interés entre las grandes instituciones financieras en tecnología blockchain. “Estas nuevas tecnologías pueden transformar la forma en que se registran las transacciones financieras, reconciliados y reportadas — todo con la seguridad adicional, las tasas de error más bajas y una reducción significativa de costos”, dijo Hu Liang, vicepresidente senior de State Street y la cabeza de las tecnologías emergentes. Compra Bitcoin en Pesos en nuestra sucursal. Ya puedes comprar Bitcoin al mejor precio de mercado utilizando las nuevas sucursales de Bitex.la en Buenos Aires y Santiago de Chile . Acércate con tu código personal BITEX y tu DNI, Cédula o Pasaporte y en menos de una hora tienes el saldo acreditado en tu cuenta para comprar bitcoin. Encontra nuestras sucursales! Nos pueden encontrar en: https://bitex.la http://facebook.com/bitex.la http://twitter.com/bitexla https://plus.google.com/+bitexla https://instagram.com/bitex.la https://bitexla.tumblr.com Visita Bitex.la ¿Qué es Bitex.la? Bitex.la es un mercado de compra y venta de Bitcoin lider en Latino America. La plataforma permite operar bitcoin de manera profesional contra dolares americanos. Cuenta con una robusta red financiera que permite a los usuarios operar casi desde cualquier país del mundo sin restricciones. ¿Queres aprender sobre bitcoin? Estamos lanzando un nuevo espacio educativo sobre el bitcoin de una manera simple y amistosa. Si tienes dudas o quieres aportar de alguna manera nos podes contactar en cualquier momento. Visitanos!\n",
      "\n",
      "post at idx 15647\n",
      "Reporte Semanal #1 Septiembre 2015 I Análisis de Mercado de Bitex.la La ultima semana pudimos observar como el precio del Bitcoin siguió recomponiéndose de manera constante hasta alcanzar un tope en los 246 USD. en el día de ayer, para finalmente ajustar hacia los 240 USD en la jornada de hoy. Podemos esperar que la moneda se mantenga en alza durante la semana siguiente y podemos esperar un salto grande hacia la linea de los 260 USD. si es que el precio logra romper con la resistencia de los 250 USD. https://cdn-images-1.medium.com/max/1137/1*M6Yb9i_JZEMWNd-UMtSa-w.png El Dinero en efectivo y las donaciones en especie son los dos tipos principales de alivio cuando se trata de ayudar a aquellos que han sufrido los desastres naturales, pero el bitcoin se está convirtiendo en una opción cada vez más popular. A raíz del tsunami de 2004, más de $ 14 mil millones de dolares fueron prometidos por la comunidad internacional para el socorro y la recuperación de los 14 países afectados por el desastre natural — uno de los más mortíferos registrados en la historia. Paul Currion, un consultor independiente para las organizaciones humanitarias, dijo a CoinDesk que este “enorme outpour de apoyo público” significa a una gran cantidad de organizaciones tener más fondos de los que pueden procesar y distribuir fácilmente. Las donaciones en efectivo pueden ser favorecidas sobre las donaciones en especie, con estas últimas que han sido criticadas en el pasado por lo que es más difícil para que coincida con las necesidades de los destinatarios, y al hacerlo, debilitarlos y amedrentarlos. Según Currion, que actualmente está trabajando con la Red de inicio para explorar el potencial de la tecnología blockchain, una de las mayores caídas de la ayuda en el pasado ha sido debido a el uso de una “respuesta plan maestro” para cada desastre. Él dijo: “Eso obviamente hecho por razones de facilidad — que no tiene que volver a inventar la rueda cada vez que hay un nuevo desastre … por otro lado, lo que eso significa es nuestras opciones son limitadas y que, a su vez, ha limitado las opciones de las personas que han sido afectadas por el desastre “. La oficina de USAID para la Asistencia de Desastres en el Extranjero, Alimentos para la Paz y el Laboratorio de Desarrollo Global se hicieron eco de las afirmaciones de Currion y ese dinero puede ser más beneficioso que los regalos en especie, y señaló que, en las circunstancias apropiadas, las intervenciones basadas en efectivo pueden estimular las economías locales. Actualmente, el efectivo de ayuda se distribuye de forma directa, se transfirió a una cuenta bancaria o en un sistema de dinero móvil, como en Kenia M-Pesa, o mediante el uso de vales, que pueden ser reembolsados en los comercios locales. La Compañía Multinacional de seguros y gestión de activos AXA tiene en la mira al bitcoin para ayudar a simplificar el mercado de remesas. Minh Q Tran( Socio general de la división de Fondo de Riesgo) dijo que AXA Strategic Ventures ,fondo con una recaudación de $ 223m,y su acelerador, AXA factory, están tratando la moneda digital como una “tesis de inversión”. Él dijo: “Creemos que muchos casos de uso relacionados con Bitcoin todavía no se han explorado. En particular, estamos muy interesados ​​en cómo bitcoin, y más en general las cryptocurrencies, podrían ser utilizadas en el mercado de remesas.” Aunque no hay Bitcoin o blockchain startups que hayan recibido fondos de AXA hasta ahora, Tran dijo que la empresa está en conversaciones con varias empresas rebittance ‘que buscan interrumpir el sector de $ 582bn. Más allá de las remesas Aparte del uso de bitcoin en el mercado de remesas, AXA está explorando cómo la tecnología blockchain podría ser utilizada en campos como el inmobiliario, la gestión de la riqueza, la propiedad intelectual y — crucialmente — Seguro. Esta noticia coincide con el anuncio de hoy de Kamet, del banco incubadora de 111m £ ‘InsurTech’. Aunque la banca sigue siendo una industria de aversión al riesgo, muchas empresas de renombre están explorando el potencial de la tecnología a través de sus brazos blockchain VC. Bankinter de España se convirtió en el primer banco en financiar una empresa bitcoin, Coinffeine, en noviembre pasado tras una inversión no revelada de su Fundación para la Innovación. Empresas incluyendo BBVA desde entonces han seguido su ejemplo. Otros están explorando tecnologías personalizados a través de la I + D en la empresa. UBS tiene una residencia de un año en Londres a Nivel incubadora FinTech 39 para trabajar en prueba de conceptos que podrían beneficiar a sus grupos de interés. Mientras tanto, Ken Moore, director de los Laboratorios de Innovación de Citi, reveló que el banco estaba probando su propia criptomoneda, Citicoin. El Servicio de Alguaciles de los Estados Unidos (USMS) ha puesto de manifiesto que es probable que la subasta de los bitcoins restantes confiscados al mastermind de la ruta de la seda Ross Ulbricht ocurra en algún momento de 2015. En total, los USMS incautaron más de 144.000 BTC (entonces por un valor de $ 122 millones) de Ulbricht a finales de 2013, junto con 29.655 BTC en carteras en el mercado negro en línea en el momento de su cierre. El evento será la ultima subasta que implica bitcoins de la investigación de la Ruta de la Seda, con 44.336 BTC ($ 10 millones al cierre de esta edición) que se ofrece a los posibles inversores. Un portavoz de los USMS dijo a CoinDesk: “Todavía no tenemos fechas para anunciar, pero sí esperamos que [la realización del evento] sea antes de que finalice el año.” Hasta la fecha, los USMS ha celebrado tres subastas abiertas a los miembros calificados de la opinión pública estadounidense, en un intento de subastar los activos. El evento más reciente, celebrado en marzo, vio 14 postores compitiendo para comprar 50.000 BTC (entonces por un valor de $ 13,4 millones). Bitcoin Group esta por hacer su tercer intento de IPO este mes de noviembre, después de dos órdenes de detenerlo por parte de la Comisión de Valores e Inversiones de Australia (ASIC). La firma de Melbourne primero anunció que buscaría una oferta pública inicial (OPI) en la Australian Securities Exchange (ASX) en octubre pasado, los retrasos sin embargo, se ha enfrentado a raíz de una reprimenda por parte del regulador en febrero y dos órdenes de stop en su prospecto de los inversores en julio. Según el Sydney Morning Herald, la firma presentó un prospecto actualizado el viernes pasado después de que el ASIC levantó su segunda orden de suspensión. Su fecha de inclusión se establece ahora para el 11 de noviembre. El CEO del Grupo Bitcoin, Sam Lee dijo a la publicación que, como su salida a bolsa sentó un precedente, se exigió revisiones para que los inversionistas puedan ser “plenamente informados”, y agregó: “El papel del ASIC para proteger a los inversores australianos significa que necesitan para entender nuestro modelo de negocio único. Apreciamos la paciencia del ASIC que han llevado a entender lo que hacemos, y agradecemos su cooperación en ayudar a asegurar nuestro prospecto que refleja con precisión la oportunidad actual y futuro del Bitcoin Group “. Aunque otras empresas Bitcoin, incluyendo digitalBTC y Bitcoin Shop han tenido acciones negociadas públicamente, Bitcoin Group se mantiene como la primera empresa de la moneda digital en hacer una salida a bolsa, ya que ha evitado pasar por las llamadas “listas de puerta trasera ‘. Con sede en Melbourne, Bitcoin Group actualmente ofrece el arbitraje de la criptomoneda, pero dijo CoinDesk que la idea sería cambiar a la minería de la moneda si su salida a bolsa es un éxito. Se planea emitir 100 millones de nuevas acciones a 20 ¢ cada uno. Alrededor del 90% de los fondos de la empresa se destinarán a la compra de energía de la CPU. Compra Bitcoin en Pesos en nuestra sucursal. Ya puedes comprar Bitcoin al mejor precio de mercado utilizando las nuevas sucursales de Bitex.la en Buenos Aires y Santiago de Chile . Acércate con tu código personal BITEX y tu DNI, Cédula o Pasaporte y en menos de una hora tienes el saldo acreditado en tu cuenta para comprar bitcoin. Encontra nuestras sucursales! Nos pueden encontrar en: https://bitex.la http://facebook.com/bitex.la http://twitter.com/bitexla https://plus.google.com/+bitexla https://instagram.com/bitex.la https://bitexla.tumblr.com \n",
      "\n",
      "post at idx 15648\n",
      "Reporte Semanal #5 Agosto 2015 I Análisis de Mercado de Bitex.la Durante la ultima semana pudimos observar como el precio del bitcoin se estabilizo manteniéndose en el nivel de los 230 Usd, después de la abrupta caída de la semana anterior vimos como el precio comenzó a escalar levemente hasta alcanzar el nivel de precio actual. Para la siguiente semana podemos esperar que el precio siga repuntando de manera leve pero sostenida si no rompe la resistencia de los 229 Usd. https://cdn-images-1.medium.com/max/1139/1*WT0XVc29sRtYrB_kLOKuIw.png Barclays ha anunciado que va a dar sus primeros pasos hacia el apoyo a la utilización del bitcoin como un método de pago alternativo, al permitir a las organizaciones benéficas aceptar donaciones en la moneda digital. En un nuevo artículo publicado en The Sunday Times, la empresa multinacional de servicios financieros dio a entender que había entrado en asociación con una “plataforma de intercambio de bitcoin o gasto” sin nombre, y que buscaría dar lanzamiento formal al servicio en el año 2016. El jefe de diseño y oficial digital Derek White proporcionó la fuente de noticias con pocos detalles acerca de la asociación, con excepción de afirmar que estaba en desarrollo. White dijo al Times: “Barclays está permitiendo el intercambio de bitcoin para ayudar a organizaciones benéficas a aceptar bitcoin.” El anuncio sigue a otros que sugieren que el banco está aumentando constantemente sus esfuerzos para comprender y aplicar el bitcoin y la tecnología blockchain. A principios de este año, Barclays reveló que estaba llevando a cabo una prueba de concepto con el proveedor de intercambio y servicios europeos Safello, una decisión que siguió a las noticias de marzo que había aceptado tres empresas de la industria en su programa acelerador FinTech. A medida que el debate continúa — dado a que se agrego combustible por la reciente liberación de Bitcoin XT — sobre el tamaño de bloque- Los interesados en bitcoin están eligiendo lados sobre cómo debe escalar la moneda. Ya se trate de un aumento de 8 MB, o un límite dinámico elegido por la elite de minería de la moneda, estamos teniendo en cuenta las decisiones de la industria hasta el momento. Se puede ver los resultados de las 15 organizaciones mineras más grandes y de los 10 proveedores de servicios de bitcoin mejor financiados. El mapa indica también que propuesta ha recibido el mayor apoyo geográficamente. Los usuarios de ChangeTip pueden ahora intercambiar sus consejos de divisas digitales con bienes de la vida real, gracias a la integración con el proveedor de tarjetas de regalo digital, Gyft. El servicio de inflexión bitcoin, que ha recaudado $ 4,25 millones en financiamiento a la fecha, las marcas como un “love button” “para varios redes sociales como Facebook, Twitter y Reddit”. Hasta ahora, los usuarios de ChangeTip podían recargar sus cuentas a través de Coinbase, bitcoin o con tarjeta de crédito / débito, sin embargo sólo podían cobrar en bitcoin. Tras el anuncio de ayer por la tarde , ahora tienen la opción de canjear tarjetas de regalo de Starbucks, iTunes, Xbox y Amazon. que Van desde U$D 1 hasta U$D 2.000. El brazo de riesgo de un importante fondo de pensiones canadiense informa, que esta mirando la realización de inversiones en startups de Bitcoin y blockchain. El Sistema de Retiro de Empleados Municipales de Ontario, o OMERS, es uno de los mayores fondos de pensiones municipales de Canadá. El brazo de riesgo del fondo, OMERS Ventures, recientemente ha descrito en una reciente entrevista con TechVibes, una publicación canadiense que el negocio estaba explorando el uso de los ingresos de $ 260 millones de fondos de CAD para realizar inversiones en el espacio bitcoin. El fondo también ha atraído el apoyo del Banco de Montreal y Cisco Inversiones. El director general Jim Orlando dijo durante la entrevista: “La ciberseguridad es otra área que hemos estado viendo, específicamente en FinTech como Sid mencionado, y en particular lo que bitcoin y la capacidad de la cadena de bloque de traer en términos, oportunidades diferenciadas. Tenemos la esperanza de encontrar un par de las inversiones para el Fondo II relacionadas con el Bitcoin y la blockchain, y el lado de la seguridad de todo ese paradigma “. OMERS Ventures, indicó a principios de esta semana en su sitio web que pondría un fuerte énfasis en las empresas de tecnología financiera, incluyendo aquellas en el espacio bitcoin. Una infografía publicada por la firma incluye una serie de nuevas empresas Bitcoin basadas ​​en Canadá. Compra Bitcoin en Pesos en nuestra sucursal. Ya puedes comprar Bitcoin al mejor precio de mercado utilizando las nuevas sucursales de Bitex.la en Buenos Aires y Santiago de Chile . Acércate con tu código personal BITEX y tu DNI, Cédula o Pasaporte y en menos de una hora tienes el saldo acreditado en tu cuenta para comprar bitcoin. Encontra nuestras sucursales! Nos pueden encontrar en: https://bitex.la http://facebook.com/bitex.la http://twitter.com/bitexla https://plus.google.com/+bitexla https://instagram.com/bitex.la https://bitexla.tumblr.com \n",
      "\n",
      "post at idx 15726\n",
      "bitcoin.de now listed on German Stock Exchange [link, German](http://www.finanzen.net/nachricht/aktien/DGAP-News-Bitcoin-Group-SE-Bitcoin-Group-SE-vormals-AE-Innovative-Capital-SE-uebernimmt-die-Bitcoin-Deutschland-AG-und-erhoeht-Grundkapital-auf-EUR-5-000-0-4539010) Trading in Düsseldorf, more to follow I am sure.\n",
      "\n",
      "post at idx 16997\n",
      "400!!\n",
      "\n",
      "post at idx 17088\n",
      "TO THE MOON HYPE\n",
      "\n",
      "post at idx 17587\n",
      "It's Friday. Am I rich yet? (Just checking...)                                            __                                            _  |  |                        Yye                |_| |--|                     .---.  e           AA | | |  |                    /.--./\\  e        A                   // || \\/\\  e      A                  //|/|| |\\/\\   aa a    |\\o/ o/--                 ///|\\|| | \\/\\ .       ~o \\.'\\.o'                //|\\|/|| | |\\/\\ .      /.` \\o'               //\\|/|\\|| | | \\/\\ ( (  . \\o'       __ __ _//|/|\\|/|| | | |\\/`--' '      __/__/__//|\\|/|\\|| | | | `--'      |\\|/|\\|/|\\|/|\\|/|| | | | |\n",
      "\n",
      "post at idx 18177\n",
      "500$ on Huobi!\n",
      "\n"
     ]
    }
   ],
   "source": [
    "non_eng_count = sum([x[0] != '__label__en' for x in lang_preds[0]])\n",
    "print(\"non_eng: {}/{}={}%\".format(non_eng_count, len(texts), non_eng_count*100/len(texts)))\n",
    "non_eng_idxs = [i for i in range(len(texts)) if lang_preds[0][i][0] != '__label__en']\n",
    "for idx in non_eng_idxs[10:20]:\n",
    "    print(\"post at idx {}\".format(idx))\n",
    "    print(texts[idx])\n",
    "    print()"
   ]
  },
  {
   "cell_type": "markdown",
   "metadata": {},
   "source": [
    "Based on manual inspection, model appears to have high precision at detecting non-English posts (those that are said to be not-English aren't)"
   ]
  },
  {
   "cell_type": "code",
   "execution_count": 84,
   "metadata": {},
   "outputs": [],
   "source": [
    "# check low confidence preds\n",
    "conf_scores = [x[0] for x in lang_preds[1]]"
   ]
  },
  {
   "cell_type": "code",
   "execution_count": 87,
   "metadata": {},
   "outputs": [
    {
     "data": {
      "text/plain": [
       "<AxesSubplot:ylabel='Count'>"
      ]
     },
     "execution_count": 87,
     "metadata": {},
     "output_type": "execute_result"
    },
    {
     "data": {
      "image/png": "[encoded data removed]",
      "text/plain": [
       "<Figure size 432x288 with 1 Axes>"
      ]
     },
     "metadata": {},
     "output_type": "display_data"
    }
   ],
   "source": [
    "sns.histplot(conf_scores)"
   ]
  },
  {
   "cell_type": "code",
   "execution_count": 88,
   "metadata": {},
   "outputs": [
    {
     "name": "stdout",
     "output_type": "stream",
     "text": [
      "post at idx 2772\n",
      "lang: __label__ml\n"
     ]
    },
    {
     "ename": "NameError",
     "evalue": "name 'post_idxs' is not defined",
     "output_type": "error",
     "traceback": [
      "\u001b[0;31m---------------------------------------------------------------------------\u001b[0m",
      "\u001b[0;31mNameError\u001b[0m                                 Traceback (most recent call last)",
      "\u001b[0;32m<ipython-input-88-53f26edc21e8>\u001b[0m in \u001b[0;36m<module>\u001b[0;34m\u001b[0m\n\u001b[1;32m      4\u001b[0m     \u001b[0mprint\u001b[0m\u001b[0;34m(\u001b[0m\u001b[0;34m\"post at idx {}\"\u001b[0m\u001b[0;34m.\u001b[0m\u001b[0mformat\u001b[0m\u001b[0;34m(\u001b[0m\u001b[0mpost_idx\u001b[0m\u001b[0;34m)\u001b[0m\u001b[0;34m)\u001b[0m\u001b[0;34m\u001b[0m\u001b[0;34m\u001b[0m\u001b[0m\n\u001b[1;32m      5\u001b[0m     \u001b[0mprint\u001b[0m\u001b[0;34m(\u001b[0m\u001b[0;34m\"lang: {}\"\u001b[0m\u001b[0;34m.\u001b[0m\u001b[0mformat\u001b[0m\u001b[0;34m(\u001b[0m\u001b[0mlang_preds\u001b[0m\u001b[0;34m[\u001b[0m\u001b[0;36m0\u001b[0m\u001b[0;34m]\u001b[0m\u001b[0;34m[\u001b[0m\u001b[0mpost_idx\u001b[0m\u001b[0;34m]\u001b[0m\u001b[0;34m[\u001b[0m\u001b[0;36m0\u001b[0m\u001b[0;34m]\u001b[0m\u001b[0;34m)\u001b[0m\u001b[0;34m)\u001b[0m\u001b[0;34m\u001b[0m\u001b[0;34m\u001b[0m\u001b[0m\n\u001b[0;32m----> 6\u001b[0;31m     \u001b[0mprint\u001b[0m\u001b[0;34m(\u001b[0m\u001b[0;34m\"conf: {}\"\u001b[0m\u001b[0;34m.\u001b[0m\u001b[0mformat\u001b[0m\u001b[0;34m(\u001b[0m\u001b[0mlang_preds\u001b[0m\u001b[0;34m[\u001b[0m\u001b[0;36m1\u001b[0m\u001b[0;34m]\u001b[0m\u001b[0;34m[\u001b[0m\u001b[0mpost_idxs\u001b[0m\u001b[0;34m]\u001b[0m\u001b[0;34m[\u001b[0m\u001b[0;36m0\u001b[0m\u001b[0;34m]\u001b[0m\u001b[0;34m)\u001b[0m\u001b[0;34m)\u001b[0m\u001b[0;34m\u001b[0m\u001b[0;34m\u001b[0m\u001b[0m\n\u001b[0m\u001b[1;32m      7\u001b[0m     \u001b[0mprint\u001b[0m\u001b[0;34m(\u001b[0m\u001b[0mtexts\u001b[0m\u001b[0;34m[\u001b[0m\u001b[0mpost_idx\u001b[0m\u001b[0;34m]\u001b[0m\u001b[0;34m)\u001b[0m\u001b[0;34m\u001b[0m\u001b[0;34m\u001b[0m\u001b[0m\n\u001b[1;32m      8\u001b[0m     \u001b[0mprint\u001b[0m\u001b[0;34m(\u001b[0m\u001b[0;34m)\u001b[0m\u001b[0;34m\u001b[0m\u001b[0;34m\u001b[0m\u001b[0m\n",
      "\u001b[0;31mNameError\u001b[0m: name 'post_idxs' is not defined"
     ]
    }
   ],
   "source": [
    "idxs_by_conf = np.argsort(conf_scores)\n",
    "for i in range(10):\n",
    "    post_idx = idxs_by_conf[i]\n",
    "    print(\"post at idx {}\".format(post_idx))\n",
    "    print(\"lang: {}\".format(lang_preds[0][post_idx][0]))\n",
    "    print(\"conf: {}\".format(lang_preds[1][post_idx][0]))\n",
    "    print(texts[post_idx])\n",
    "    print()"
   ]
  }
 ],
 "metadata": {
  "kernelspec": {
   "display_name": "Python 3",
   "language": "python",
   "name": "python3"
  },
  "language_info": {
   "codemirror_mode": {
    "name": "ipython",
    "version": 3
   },
   "file_extension": ".py",
   "mimetype": "text/x-python",
   "name": "python",
   "nbconvert_exporter": "python",
   "pygments_lexer": "ipython3",
   "version": "3.8.10"
  }
 },
 "nbformat": 4,
 "nbformat_minor": 4
}
