{
 "cells": [
  {
   "cell_type": "code",
   "execution_count": 1,
   "id": "8ba3c740",
   "metadata": {},
   "outputs": [],
   "source": [
    "%load_ext autoreload\n",
    "%autoreload 2"
   ]
  },
  {
   "cell_type": "code",
   "execution_count": 2,
   "id": "3c39e735",
   "metadata": {},
   "outputs": [],
   "source": [
    "import os\n",
    "from datetime import datetime\n",
    "import re\n",
    "import sys\n",
    "sys.path.append('../src/')\n",
    "\n",
    "import fasttext\n",
    "import matplotlib as plt\n",
    "import numpy as np\n",
    "np.set_printoptions(precision=3)\n",
    "import pandas as pd\n",
    "import seaborn as sns\n",
    "sns.set_theme()\n",
    "\n",
    "from data_processor import PostProcessor"
   ]
  },
  {
   "cell_type": "code",
   "execution_count": 3,
   "id": "96d516bd",
   "metadata": {},
   "outputs": [],
   "source": [
    "BASE_DATA_PATH = \"/data/ddmg/personalizedmentalhealth/reddit_project/data\""
   ]
  },
  {
   "cell_type": "markdown",
   "id": "ecea94d6",
   "metadata": {},
   "source": [
    "## Step (1) Apply Basic Exclusion Criteria"
   ]
  },
  {
   "cell_type": "code",
   "execution_count": 4,
   "id": "572dd509",
   "metadata": {},
   "outputs": [],
   "source": [
    "subreddits = os.listdir(BASE_DATA_PATH)"
   ]
  },
  {
   "cell_type": "code",
   "execution_count": 5,
   "id": "76668f93",
   "metadata": {},
   "outputs": [
    {
     "data": {
      "text/plain": [
       "['Family',\n",
       " 'investing',\n",
       " 'relationships',\n",
       " 'medical',\n",
       " 'bitcoin',\n",
       " 'AskDocs',\n",
       " 'personalfinance']"
      ]
     },
     "execution_count": 5,
     "metadata": {},
     "output_type": "execute_result"
    }
   ],
   "source": [
    "subreddits"
   ]
  },
  {
   "cell_type": "code",
   "execution_count": 47,
   "id": "e0a6bc02",
   "metadata": {},
   "outputs": [
    {
     "name": "stdout",
     "output_type": "stream",
     "text": [
      "Filtering Posts for Subreddit: Family\n",
      "Total dataset size: 31586\n",
      "18921 posts=59.903121636167924% excluded because were deleted or removed\n",
      "968 additional posts=7.643110935649427% excluded because no author\n",
      "119 additional posts=1.0173548773189707% excluded because are links to articles\n",
      "Final post 11578, which is 36.65548027607168% of original posts\n",
      "\n",
      "Filtering Posts for Subreddit: investing\n",
      "Total dataset size: 162469\n",
      "83415 posts=51.342102185647725% excluded because were deleted or removed\n",
      "6298 additional posts=7.966706302021403% excluded because no author\n",
      "9 additional posts=0.012370113805047007% excluded because are links to articles\n",
      "Final post 72747, which is 44.77592648443703% of original posts\n",
      "\n",
      "Filtering Posts for Subreddit: relationships\n",
      "Total dataset size: 1377067\n",
      "1082720 posts=78.62507779214809% excluded because were deleted or removed\n",
      "17330 additional posts=5.887608842624521% excluded because no author\n",
      "6 additional posts=0.002165932054711444% excluded because are links to articles\n",
      "Final post 277011, which is 20.116014689190866% of original posts\n",
      "\n",
      "Filtering Posts for Subreddit: medical\n",
      "Total dataset size: 15179\n",
      "6807 posts=44.844851439488764% excluded because were deleted or removed\n",
      "222 additional posts=2.6516961299569997% excluded because no author\n",
      "2846 additional posts=34.920245398773005% excluded because are links to articles\n",
      "Final post 5304, which is 34.94301337374004% of original posts\n",
      "\n",
      "Filtering Posts for Subreddit: bitcoin\n",
      "Total dataset size: 663841\n",
      "223204 posts=33.62311155834002% excluded because were deleted or removed\n",
      "22140 additional posts=5.024544012418385% excluded because no author\n",
      "267699 additional posts=63.966766786858685% excluded because are links to articles\n",
      "Final post 150798, which is 22.715981688386226% of original posts\n",
      "\n",
      "Filtering Posts for Subreddit: AskDocs\n",
      "Total dataset size: 654314\n",
      "409158 posts=62.53236213805604% excluded because were deleted or removed\n",
      "17427 additional posts=7.108534973649431% excluded because no author\n",
      "109 additional posts=0.047863908417461104% excluded because are links to articles\n",
      "Final post 227620, which is 34.78757905225931% of original posts\n",
      "\n",
      "Filtering Posts for Subreddit: personalfinance\n",
      "Total dataset size: 94690\n",
      "41274 posts=43.588552117435846% excluded because were deleted or removed\n",
      "1483 additional posts=2.7763217013628876% excluded because no author\n",
      "302 additional posts=0.5815184949839216% excluded because are links to articles\n",
      "Final post 51631, which is 54.526349139296656% of original posts\n",
      "\n"
     ]
    }
   ],
   "source": [
    "for sr in subreddits:\n",
    "    print(\"Filtering Posts for Subreddit: {}\".format(sr))\n",
    "    data_dir = os.path.join(BASE_DATA_PATH, sr, \"posts\")\n",
    "    data_path = os.path.join(data_dir, \"all.csv\")\n",
    "    pp = PostProcessor(data_path)\n",
    "    pp.filter(data_dir)\n",
    "    print()"
   ]
  },
  {
   "cell_type": "markdown",
   "id": "7c6f745d",
   "metadata": {},
   "source": [
    "# Test Potential Text Preprocessing Steps"
   ]
  },
  {
   "cell_type": "markdown",
   "id": "871f8429",
   "metadata": {},
   "source": [
    "## Load Data"
   ]
  },
  {
   "cell_type": "code",
   "execution_count": 48,
   "id": "90e74e73",
   "metadata": {},
   "outputs": [],
   "source": [
    "df_list = []\n",
    "for sr in subreddits:\n",
    "    data_dir = os.path.join(BASE_DATA_PATH, sr, \"posts\")\n",
    "    data_path = os.path.join(data_dir, \"all.csv\")\n",
    "    pp = PostProcessor(data_path)\n",
    "    filtered_ids = np.load(os.path.join(data_dir, \"1_filtered_ids.npy\"),\n",
    "                           allow_pickle=True)\n",
    "    sr_df = pp.data_df.set_index(\"id\").loc[filtered_ids]\n",
    "    sr_df[\"subreddit\"] = sr\n",
    "    df_list.append(sr_df)"
   ]
  },
  {
   "cell_type": "code",
   "execution_count": 19,
   "id": "78fdc226",
   "metadata": {},
   "outputs": [],
   "source": [
    "df = pd.concat(df_list)"
   ]
  },
  {
   "cell_type": "code",
   "execution_count": 20,
   "id": "2e54bba3",
   "metadata": {},
   "outputs": [],
   "source": [
    "def merge_text(row):\n",
    "    text = row[\"title\"]\n",
    "    if isinstance(row[\"selftext\"], str):\n",
    "        text += \" \"\n",
    "        text += str(row[\"selftext\"])\n",
    "    return text"
   ]
  },
  {
   "cell_type": "code",
   "execution_count": 21,
   "id": "8256c0cf",
   "metadata": {},
   "outputs": [],
   "source": [
    "df[\"text\"] = df.apply(merge_text, axis=1)"
   ]
  },
  {
   "cell_type": "code",
   "execution_count": 24,
   "id": "79b4637b",
   "metadata": {},
   "outputs": [],
   "source": [
    "texts = df[\"text\"].to_numpy()"
   ]
  },
  {
   "cell_type": "markdown",
   "id": "eb150749",
   "metadata": {},
   "source": [
    "## Look for Posts that are mainly not text data"
   ]
  },
  {
   "cell_type": "markdown",
   "id": "327a4a8d",
   "metadata": {},
   "source": [
    "### Handle URLs"
   ]
  },
  {
   "cell_type": "code",
   "execution_count": 162,
   "id": "b311f286",
   "metadata": {},
   "outputs": [],
   "source": [
    "## look for URLS\n",
    "url_counts = []\n",
    "word_counts = []\n",
    "new_texts = []\n",
    "for idx in range(len(texts)):\n",
    "    word_count = len(texts[idx].split(\" \"))\n",
    "    word_counts.append(word_count)\n",
    "    url_insts = re.findall(r\"(?i)\\b((?:https?://|www\\d{0,3}[.]|[a-z0-9.\\-]+[.][a-z]{2,4}/)(?:[^\\s()<>\\]]+))\", texts[idx])    \n",
    "    url_counts.append(len(url_insts))\n",
    "    new_texts.append(re.sub(r\"(?i)\\b((?:https?://|www\\d{0,3}[.]|[a-z0-9.\\-]+[.][a-z]{2,4}/)(?:[^\\s()<>\\]]+))\", chop_url, texts[idx]))\n",
    "df[\"url_count\"] = url_counts\n",
    "df[\"word_count\"] = word_counts\n",
    "df[\"new_text\"] = new_texts"
   ]
  },
  {
   "cell_type": "code",
   "execution_count": 163,
   "id": "8652b96a",
   "metadata": {},
   "outputs": [
    {
     "data": {
      "text/html": [
       "<div>\n",
       "<style scoped>\n",
       "    .dataframe tbody tr th:only-of-type {\n",
       "        vertical-align: middle;\n",
       "    }\n",
       "\n",
       "    .dataframe tbody tr th {\n",
       "        vertical-align: top;\n",
       "    }\n",
       "\n",
       "    .dataframe thead th {\n",
       "        text-align: right;\n",
       "    }\n",
       "</style>\n",
       "<table border=\"1\" class=\"dataframe\">\n",
       "  <thead>\n",
       "    <tr style=\"text-align: right;\">\n",
       "      <th></th>\n",
       "      <th>text</th>\n",
       "      <th>new_text</th>\n",
       "      <th>url_count</th>\n",
       "      <th>word_count</th>\n",
       "    </tr>\n",
       "    <tr>\n",
       "      <th>id</th>\n",
       "      <th></th>\n",
       "      <th></th>\n",
       "      <th></th>\n",
       "      <th></th>\n",
       "    </tr>\n",
       "  </thead>\n",
       "  <tbody>\n",
       "    <tr>\n",
       "      <th>2s3ge4</th>\n",
       "      <td>Debilitating sensitivity to pressure on flesh ...</td>\n",
       "      <td>Debilitating sensitivity to pressure on flesh ...</td>\n",
       "      <td>0</td>\n",
       "      <td>220</td>\n",
       "    </tr>\n",
       "    <tr>\n",
       "      <th>2s3g4a</th>\n",
       "      <td>Marks on X-Ray - blurry or actually mean somet...</td>\n",
       "      <td>Marks on X-Ray - blurry or actually mean somet...</td>\n",
       "      <td>1</td>\n",
       "      <td>222</td>\n",
       "    </tr>\n",
       "    <tr>\n",
       "      <th>2s3g3p</th>\n",
       "      <td>Stomach ache after eating, painkillers not hel...</td>\n",
       "      <td>Stomach ache after eating, painkillers not hel...</td>\n",
       "      <td>0</td>\n",
       "      <td>225</td>\n",
       "    </tr>\n",
       "    <tr>\n",
       "      <th>2s3buf</th>\n",
       "      <td>Had some blood on toilet paper yesterday. Yest...</td>\n",
       "      <td>Had some blood on toilet paper yesterday. Yest...</td>\n",
       "      <td>0</td>\n",
       "      <td>47</td>\n",
       "    </tr>\n",
       "    <tr>\n",
       "      <th>2s3apg</th>\n",
       "      <td>Red rash with bumps on glans Age: 18\\nLocation...</td>\n",
       "      <td>Red rash with bumps on glans Age: 18\\nLocation...</td>\n",
       "      <td>0</td>\n",
       "      <td>76</td>\n",
       "    </tr>\n",
       "    <tr>\n",
       "      <th>...</th>\n",
       "      <td>...</td>\n",
       "      <td>...</td>\n",
       "      <td>...</td>\n",
       "      <td>...</td>\n",
       "    </tr>\n",
       "    <tr>\n",
       "      <th>knjumz</th>\n",
       "      <td>Fights aren't okay! In my family we are 4, mom...</td>\n",
       "      <td>Fights aren't okay! In my family we are 4, mom...</td>\n",
       "      <td>0</td>\n",
       "      <td>165</td>\n",
       "    </tr>\n",
       "    <tr>\n",
       "      <th>knjbnb</th>\n",
       "      <td>Stepmom After Dad’s Death My dad passed two we...</td>\n",
       "      <td>Stepmom After Dad’s Death My dad passed two we...</td>\n",
       "      <td>0</td>\n",
       "      <td>200</td>\n",
       "    </tr>\n",
       "    <tr>\n",
       "      <th>kngt9y</th>\n",
       "      <td>My dad called my mom's family \"poor people\" Fo...</td>\n",
       "      <td>My dad called my mom's family \"poor people\" Fo...</td>\n",
       "      <td>0</td>\n",
       "      <td>229</td>\n",
       "    </tr>\n",
       "    <tr>\n",
       "      <th>knfyzk</th>\n",
       "      <td>Am i the black sheep of the family hi,\\n\\nI'm ...</td>\n",
       "      <td>Am i the black sheep of the family hi,\\n\\nI'm ...</td>\n",
       "      <td>0</td>\n",
       "      <td>332</td>\n",
       "    </tr>\n",
       "    <tr>\n",
       "      <th>knfrcf</th>\n",
       "      <td>Is it ungrateful to be unhappy bc of Christmas...</td>\n",
       "      <td>Is it ungrateful to be unhappy bc of Christmas...</td>\n",
       "      <td>0</td>\n",
       "      <td>155</td>\n",
       "    </tr>\n",
       "  </tbody>\n",
       "</table>\n",
       "<p>389996 rows × 4 columns</p>\n",
       "</div>"
      ],
      "text/plain": [
       "                                                     text  \\\n",
       "id                                                          \n",
       "2s3ge4  Debilitating sensitivity to pressure on flesh ...   \n",
       "2s3g4a  Marks on X-Ray - blurry or actually mean somet...   \n",
       "2s3g3p  Stomach ache after eating, painkillers not hel...   \n",
       "2s3buf  Had some blood on toilet paper yesterday. Yest...   \n",
       "2s3apg  Red rash with bumps on glans Age: 18\\nLocation...   \n",
       "...                                                   ...   \n",
       "knjumz  Fights aren't okay! In my family we are 4, mom...   \n",
       "knjbnb  Stepmom After Dad’s Death My dad passed two we...   \n",
       "kngt9y  My dad called my mom's family \"poor people\" Fo...   \n",
       "knfyzk  Am i the black sheep of the family hi,\\n\\nI'm ...   \n",
       "knfrcf  Is it ungrateful to be unhappy bc of Christmas...   \n",
       "\n",
       "                                                 new_text  url_count  \\\n",
       "id                                                                     \n",
       "2s3ge4  Debilitating sensitivity to pressure on flesh ...          0   \n",
       "2s3g4a  Marks on X-Ray - blurry or actually mean somet...          1   \n",
       "2s3g3p  Stomach ache after eating, painkillers not hel...          0   \n",
       "2s3buf  Had some blood on toilet paper yesterday. Yest...          0   \n",
       "2s3apg  Red rash with bumps on glans Age: 18\\nLocation...          0   \n",
       "...                                                   ...        ...   \n",
       "knjumz  Fights aren't okay! In my family we are 4, mom...          0   \n",
       "knjbnb  Stepmom After Dad’s Death My dad passed two we...          0   \n",
       "kngt9y  My dad called my mom's family \"poor people\" Fo...          0   \n",
       "knfyzk  Am i the black sheep of the family hi,\\n\\nI'm ...          0   \n",
       "knfrcf  Is it ungrateful to be unhappy bc of Christmas...          0   \n",
       "\n",
       "        word_count  \n",
       "id                  \n",
       "2s3ge4         220  \n",
       "2s3g4a         222  \n",
       "2s3g3p         225  \n",
       "2s3buf          47  \n",
       "2s3apg          76  \n",
       "...            ...  \n",
       "knjumz         165  \n",
       "knjbnb         200  \n",
       "kngt9y         229  \n",
       "knfyzk         332  \n",
       "knfrcf         155  \n",
       "\n",
       "[389996 rows x 4 columns]"
      ]
     },
     "execution_count": 163,
     "metadata": {},
     "output_type": "execute_result"
    }
   ],
   "source": [
    "df[[\"text\", \"new_text\", \"url_count\", \"word_count\"]]"
   ]
  },
  {
   "cell_type": "code",
   "execution_count": 171,
   "id": "a5a17c0f",
   "metadata": {},
   "outputs": [
    {
     "name": "stdout",
     "output_type": "stream",
     "text": [
      "original text\n",
      "Foot skin condition Age 26\n",
      "\n",
      "Sex M\n",
      "\n",
      "Height 6ft3\n",
      "\n",
      "Weight 90kg\n",
      "\n",
      "Race White\n",
      "\n",
      "Duration of complaint 4 years\n",
      "\n",
      "Location UK\n",
      "\n",
      "Any existing relevant medical issues:\n",
      "Hi, I'm hoping someone can give advice or happens to know what's wrong with my feet and potentially how to fix it. I had athletes foot for a few years as a child, but it got better for a few years and I had no issues for a long time and my feet looked normal. For the past 4 years or so my feet have been as the pictures show (only uploaded one foot but this is an issue on both feet. A GP once advised moisturizer, which evidently did nothing. Any advice is welcome, as I'll really do anything to have normal looking feet again. \n",
      "\n",
      "Current medications none\n",
      "\n",
      "Include a photo if relevant: https://imgur.com/a/G2fsVTQ\n",
      "new text\n",
      "Foot skin condition Age 26\n",
      "\n",
      "Sex M\n",
      "\n",
      "Height 6ft3\n",
      "\n",
      "Weight 90kg\n",
      "\n",
      "Race White\n",
      "\n",
      "Duration of complaint 4 years\n",
      "\n",
      "Location UK\n",
      "\n",
      "Any existing relevant medical issues:\n",
      "Hi, I'm hoping someone can give advice or happens to know what's wrong with my feet and potentially how to fix it. I had athletes foot for a few years as a child, but it got better for a few years and I had no issues for a long time and my feet looked normal. For the past 4 years or so my feet have been as the pictures show (only uploaded one foot but this is an issue on both feet. A GP once advised moisturizer, which evidently did nothing. Any advice is welcome, as I'll really do anything to have normal looking feet again. \n",
      "\n",
      "Current medications none\n",
      "\n",
      "Include a photo if relevant: https://imgur.com\n",
      "url_count 1\n",
      "word_count 131\n",
      "\n",
      "original text\n",
      "Spots on my legs that are itchy. These showed up about 3 weeks ago during a heatwave and i thought it might be heat rash but it didnt go away and they just got itchier, which meant i kept breaking the skin. \n",
      "\n",
      "[Photos](http://imgur.com/a/vHUBP)\n",
      "\n",
      "new text\n",
      "Spots on my legs that are itchy. These showed up about 3 weeks ago during a heatwave and i thought it might be heat rash but it didnt go away and they just got itchier, which meant i kept breaking the skin. \n",
      "\n",
      "[Photos](http://imgur.com)\n",
      "\n",
      "url_count 1\n",
      "word_count 43\n",
      "\n",
      "original text\n",
      "Is my vocal cord okay ? 18M I am 18 years old male who loves singing ...Recently.... I went to the ENT specialist .... I train my vocal with classical vocalist  I told the doctor that I wanted to have a checkup on my vocal cord using laryngoscope ...which he performed it on my me...\n",
      "However I was only able to get one picture cos I felt uncomfortable being scoped through my mouth which makes the doctor impatient and mad ...... the doctor said I wouldn’t be able to sing anymore unless I practice my voice abroad in foreign country (speech therapist is the one I believe he’s referring me to) because it isn’t available in my country and I can’t afford to go to go abroad ... He also said that I have a swollen voice box or sth like that... what do you think ?\n",
      "\n",
      "Here is the photo of my vocal cord \n",
      "https://i.imgur.com/yCEwRsw.jpg\n",
      "new text\n",
      "Is my vocal cord okay ? 18M I am 18 years old male who loves singing ...Recently.... I went to the ENT specialist .... I train my vocal with classical vocalist  I told the doctor that I wanted to have a checkup on my vocal cord using laryngoscope ...which he performed it on my me...\n",
      "However I was only able to get one picture cos I felt uncomfortable being scoped through my mouth which makes the doctor impatient and mad ...... the doctor said I wouldn’t be able to sing anymore unless I practice my voice abroad in foreign country (speech therapist is the one I believe he’s referring me to) because it isn’t available in my country and I can’t afford to go to go abroad ... He also said that I have a swollen voice box or sth like that... what do you think ?\n",
      "\n",
      "Here is the photo of my vocal cord \n",
      "https://i.imgur.com\n",
      "url_count 1\n",
      "word_count 155\n",
      "\n",
      "original text\n",
      "Bitit | Get your Bitcoin voucher by Credit card | [BETA]  **What’s better than an online gift certificate to make discover Bitcoin to family & friends ? Introducing the Bitcoin eGift card.**\n",
      "\n",
      "At Bitit we strive to make the buying of Bitcoin as easy as possible. Instant Bitcoins with your Credit card and Sofort Banking. No expiration date, no paperwork. Send Bitcoins by email to family and friends in a snap.\n",
      "\n",
      "**How does it work ?**\n",
      "\n",
      "* After your purchase you will receive a Bitit code by email. \n",
      "\n",
      "* Then you have to enter the unique code, along with your Bitcoin address on the Redeem section. \n",
      "\n",
      "* Upon validation of your code, the Bitcoins are sent straight away. You should receive your crypto in a matter of minutes.\n",
      "\n",
      "**Why Bitit ?**\n",
      "\n",
      "Bitit is a prepaid digital gift card ( or e-voucher ) from 25€ to 250€ that can be redeemed into bitcoins.\n",
      "\n",
      "We observed that buying Bitcoin is often seen in general as intricate and complex. \n",
      "This cryptocurrency challenges people’s curiosity everyday, but only a few know how to buy it or use it.\n",
      "\n",
      "Bitit is a Parisian based startup who wants to democratize Bitcoin buying for everyone through the coolest and simplest Bitcoin product : a Bitcoin eGift card.\n",
      "\n",
      "Bitit eGift cards are denominated in euros, and the stored funds can be redeemed in Bitcoins on the Bitit platform.\n",
      "\n",
      "A celebration is coming ? Bitit is perfect for the last minute gift.\n",
      "\n",
      " **Join us**\n",
      "\n",
      "* Get started : https://www.bitit.gift/\n",
      "* Facebook : https://www.facebook.com/BititGiftCard\n",
      "* Twitter : https://twitter.com/Bitit_Gift\n",
      "\n",
      "Have a question ? community@bitit.gift\n",
      "\n",
      "From Paris with <3\n",
      "\n",
      "The Bitit Team\n",
      "new text\n",
      "Bitit | Get your Bitcoin voucher by Credit card | [BETA]  **What’s better than an online gift certificate to make discover Bitcoin to family & friends ? Introducing the Bitcoin eGift card.**\n",
      "\n",
      "At Bitit we strive to make the buying of Bitcoin as easy as possible. Instant Bitcoins with your Credit card and Sofort Banking. No expiration date, no paperwork. Send Bitcoins by email to family and friends in a snap.\n",
      "\n",
      "**How does it work ?**\n",
      "\n",
      "* After your purchase you will receive a Bitit code by email. \n",
      "\n",
      "* Then you have to enter the unique code, along with your Bitcoin address on the Redeem section. \n",
      "\n",
      "* Upon validation of your code, the Bitcoins are sent straight away. You should receive your crypto in a matter of minutes.\n",
      "\n",
      "**Why Bitit ?**\n",
      "\n",
      "Bitit is a prepaid digital gift card ( or e-voucher ) from 25€ to 250€ that can be redeemed into bitcoins.\n",
      "\n",
      "We observed that buying Bitcoin is often seen in general as intricate and complex. \n",
      "This cryptocurrency challenges people’s curiosity everyday, but only a few know how to buy it or use it.\n",
      "\n",
      "Bitit is a Parisian based startup who wants to democratize Bitcoin buying for everyone through the coolest and simplest Bitcoin product : a Bitcoin eGift card.\n",
      "\n",
      "Bitit eGift cards are denominated in euros, and the stored funds can be redeemed in Bitcoins on the Bitit platform.\n",
      "\n",
      "A celebration is coming ? Bitit is perfect for the last minute gift.\n",
      "\n",
      " **Join us**\n",
      "\n",
      "* Get started : https://www.bitit.gift\n",
      "* Facebook : https://www.facebook.com\n",
      "* Twitter : https://twitter.com\n",
      "\n",
      "Have a question ? community@bitit.gift\n",
      "\n",
      "From Paris with <3\n",
      "\n",
      "The Bitit Team\n",
      "url_count 3\n",
      "word_count 256\n",
      "\n",
      "original text\n",
      "3 Questions Regarding Diffuse Hairloss in Trangender Female (Dermatology/Endocrinology/Trans. Health) Hello //  (*TLDR: skip 2 paragraphs*)\n",
      "\n",
      "I have dealt with hairloss since my late teens and via biopsy was told I had typical alopecia a few years ago. It has progressively gotten worse over the years and lately, while the loss itself has mostly stopped, it is very diffused; you can see the scalp from most any angle fairly obviously. I would say I am approaching a 3V on the Norwood Scale, without any purely bald spot on the back of my head (yet). The hairloss is very diffused where it does exist, and has patches that are worse than others. Considering that I am transitioning from male to female, this is a huge cause of dysphoria for me and depression. In 2011 I suffered a seizure, and Lamictal (lamotrigine) was prescribed to me for epilepsy. I am on a low dose daily. While its not on the Lamictal label, I have heard from many that hairloss is tied to it.  Whether my hair was worsened by this, the seizure, stress, or just bad genetics I cannot say; my mother's hair is very diffused as well.\n",
      "\n",
      "I also should note that as a MTF transgender person I am on hormone therapy. At this point, if I understand correctly, testosterone really shouldn't be too much of a factor for me. My levels are noted below and within female range, so I doubt there is much left to turn into DHT. Paranoia keeps me on Propecia (Finasteride) regardless, along with Rogaine Foam (minoxidil 5%). I stopped rogaine for 1 week after a hair transplant to fill in my temples, and the existing hair on the top of my heard totally suffered and progress reversed. I am scared that the diffusing will continue at the expense of the transplant, and also create a lot of social and personal transgender issues for me. I am really crossing my fingers that HRT will rejuvenate things as seen with many trans women, previously with hairloss (a quick Google search can show you examples). Considering the transplant, I have coverage everywhere, but it is just so thin and unhealthy looking. [This is me](http://imgur.com/gallery/DDDTWXy).\n",
      "\n",
      "1. I get labs done regularly for HRT and see the results myself. Until I can get into a dermatologist's office, I want to get additional labs done to see if I have any sort of deficiencies contributing to my issue. ***What labs should be run, and what should I look out for in the results?***\n",
      "2. ***How much does smoking marijuana affect both hair health and hormones?*** I am quitting (smoked many many times a day for years) but still curious.\n",
      "3. If you specialize in transgender care or have experience with trans female patients and dermatology, ***can you comment on how likely HRT helps hair growth, in your experience?***\n",
      "\n",
      "&#x200B;\n",
      "\n",
      "* Age: 32\n",
      "* Sex: Transgender Female (Hormone Replacement Therapy for 2 months; testosterone 35 ng/dL, estradiol 63 pg/mL)\n",
      "* Height: 5'11\"\n",
      "* Weight: 180lbs\n",
      "* Race: Caucasian\n",
      "* Duration of complaint: Ongoing since 20s\n",
      "* Location (Geographic and on body): Scalp\n",
      "* Any existing relevant medical issues (if any): Epilepsy (seizure free since 2011), alopecia\n",
      "* Current medications (daily): Lamictal 400mg, Finasteride 1mg, Sprionolactone 100mg, Estradiol 4mg (sublingual tabs)\n",
      "* Include a photo if relevant: [This is me](http://imgur.com/gallery/DDDTWXy).\n",
      "new text\n",
      "3 Questions Regarding Diffuse Hairloss in Trangender Female (Dermatology/Endocrinology/Trans. Health) Hello //  (*TLDR: skip 2 paragraphs*)\n",
      "\n",
      "I have dealt with hairloss since my late teens and via biopsy was told I had typical alopecia a few years ago. It has progressively gotten worse over the years and lately, while the loss itself has mostly stopped, it is very diffused; you can see the scalp from most any angle fairly obviously. I would say I am approaching a 3V on the Norwood Scale, without any purely bald spot on the back of my head (yet). The hairloss is very diffused where it does exist, and has patches that are worse than others. Considering that I am transitioning from male to female, this is a huge cause of dysphoria for me and depression. In 2011 I suffered a seizure, and Lamictal (lamotrigine) was prescribed to me for epilepsy. I am on a low dose daily. While its not on the Lamictal label, I have heard from many that hairloss is tied to it.  Whether my hair was worsened by this, the seizure, stress, or just bad genetics I cannot say; my mother's hair is very diffused as well.\n",
      "\n",
      "I also should note that as a MTF transgender person I am on hormone therapy. At this point, if I understand correctly, testosterone really shouldn't be too much of a factor for me. My levels are noted below and within female range, so I doubt there is much left to turn into DHT. Paranoia keeps me on Propecia (Finasteride) regardless, along with Rogaine Foam (minoxidil 5%). I stopped rogaine for 1 week after a hair transplant to fill in my temples, and the existing hair on the top of my heard totally suffered and progress reversed. I am scared that the diffusing will continue at the expense of the transplant, and also create a lot of social and personal transgender issues for me. I am really crossing my fingers that HRT will rejuvenate things as seen with many trans women, previously with hairloss (a quick Google search can show you examples). Considering the transplant, I have coverage everywhere, but it is just so thin and unhealthy looking. [This is me](http://imgur.com).\n",
      "\n",
      "1. I get labs done regularly for HRT and see the results myself. Until I can get into a dermatologist's office, I want to get additional labs done to see if I have any sort of deficiencies contributing to my issue. ***What labs should be run, and what should I look out for in the results?***\n",
      "2. ***How much does smoking marijuana affect both hair health and hormones?*** I am quitting (smoked many many times a day for years) but still curious.\n",
      "3. If you specialize in transgender care or have experience with trans female patients and dermatology, ***can you comment on how likely HRT helps hair growth, in your experience?***\n",
      "\n",
      "&#x200B;\n",
      "\n",
      "* Age: 32\n",
      "* Sex: Transgender Female (Hormone Replacement Therapy for 2 months; testosterone 35 ng/dL, estradiol 63 pg/mL)\n",
      "* Height: 5'11\"\n",
      "* Weight: 180lbs\n",
      "* Race: Caucasian\n",
      "* Duration of complaint: Ongoing since 20s\n",
      "* Location (Geographic and on body): Scalp\n",
      "* Any existing relevant medical issues (if any): Epilepsy (seizure free since 2011), alopecia\n",
      "* Current medications (daily): Lamictal 400mg, Finasteride 1mg, Sprionolactone 100mg, Estradiol 4mg (sublingual tabs)\n",
      "* Include a photo if relevant: [This is me](http://imgur.com).\n",
      "url_count 2\n",
      "word_count 543\n",
      "\n",
      "original text\n",
      "Jammed my left big toe while surfing, badly bruised after a day. What's the diagnosis? Thanks 35 year old Caucasian male, left big toe, injured in the Pacific ocean at Huntington Beach ca. Fell off board in shallow water landed on the toe vertically (imagine push up position) Photo included is one day after incident. High blood pressure, taking 10mg lisinopril daily.\n",
      "\n",
      "https://imgur.com/a/r5RIPpM\n",
      "new text\n",
      "Jammed my left big toe while surfing, badly bruised after a day. What's the diagnosis? Thanks 35 year old Caucasian male, left big toe, injured in the Pacific ocean at Huntington Beach ca. Fell off board in shallow water landed on the toe vertically (imagine push up position) Photo included is one day after incident. High blood pressure, taking 10mg lisinopril daily.\n",
      "\n",
      "https://imgur.com\n",
      "url_count 1\n",
      "word_count 62\n",
      "\n",
      "original text\n",
      "Something growing where tonsil was [Picture](https://imgur.com/gallery/Z9lzOy7)\n",
      "\n",
      "Age: 33\n",
      "Sex: Female\n",
      "Height: 5”3\n",
      "Weight: 130\n",
      "Race: Caucasian \n",
      "Duration of complaint: 1.5 weeks\n",
      "Location: Throat\n",
      "Related medical conditions: Tonsils removed Jan 9\n",
      "Medications: None\n",
      "\n",
      "I had my tonsils removed at the beginning of the year. About a week and a half ago I had a slight pain on the left side where my tonsil was. I looked at it and noticed a small looking bump that sort of resembles a blister. It’s been a little sore and when I looked at it again tonight it has gotten bigger. Any idea what this could be? I hope my tonsil isn’t growing back! Below is a picture\n",
      "\n",
      "\n",
      "new text\n",
      "Something growing where tonsil was [Picture](https://imgur.com)\n",
      "\n",
      "Age: 33\n",
      "Sex: Female\n",
      "Height: 5”3\n",
      "Weight: 130\n",
      "Race: Caucasian \n",
      "Duration of complaint: 1.5 weeks\n",
      "Location: Throat\n",
      "Related medical conditions: Tonsils removed Jan 9\n",
      "Medications: None\n",
      "\n",
      "I had my tonsils removed at the beginning of the year. About a week and a half ago I had a slight pain on the left side where my tonsil was. I looked at it and noticed a small looking bump that sort of resembles a blister. It’s been a little sore and when I looked at it again tonight it has gotten bigger. Any idea what this could be? I hope my tonsil isn’t growing back! Below is a picture\n",
      "\n",
      "\n",
      "url_count 1\n",
      "word_count 104\n",
      "\n",
      "original text\n",
      "Bitcoin Daily News Oct 13th, 2020  Simply Bitcoin, a channel that breaks down all the daily Bitcoin news. From twitter to important updates to cringy daily fails we have it all. \n",
      "\n",
      "[https://www.youtube.com/watch?v=-O0MX8ifhFI&feature=youtu.be](https://www.youtube.com/watch?v=-O0MX8ifhFI&feature=youtu.be)\n",
      "new text\n",
      "Bitcoin Daily News Oct 13th, 2020  Simply Bitcoin, a channel that breaks down all the daily Bitcoin news. From twitter to important updates to cringy daily fails we have it all. \n",
      "\n",
      "[https://www.youtube.com](https://www.youtube.com)\n",
      "url_count 2\n",
      "word_count 33\n",
      "\n",
      "original text\n",
      "Thumb anatomy (around MP joint)? dislocated thumb Hey guys, so i dislocated my thumb recently and made a different post about wondering if it would be ok to remove my brace and move it around to feel out range of motion(if you wana see it): [https://www.reddit.com/r/AskDocs/comments/9uxmwd/treating\\_a\\_dislocated\\_thumb\\_removing\\_brace/](https://www.reddit.com/r/AskDocs/comments/9uxmwd/treating_a_dislocated_thumb_removing_brace/) \n",
      "\n",
      "&#x200B;\n",
      "\n",
      "THIS issue is with the same thumb. so its been almost 3.5 weeks since my dislocation and ive gone 2 weeks in a cast and 1 week now in a brace. recently took the brace off to see how my thumb was doing and i was able to move it around a bit without pain and some directions there was pain. my question has to do with the pain, im not sure which structure im feeling.\n",
      "\n",
      "I tried googling images to find which ligament or tendon must be damaged but i couldnt figure it out. At touch theres strong pain at the ligament or tendon that is on the anterior of the thumb, at the MP joint. however my dislocation was at the CMC joint. I thought i also had pain when i flexed my wrist a certain way but now realizing i hurt my CMC joint, im guessing that was probably just pain at that joint from flexion.\n",
      "\n",
      "&#x200B;\n",
      "\n",
      "heres a photo of the location: [https://imgur.com/a/Xm5fBhR](https://imgur.com/a/Xm5fBhR) \n",
      "\n",
      "&#x200B;\n",
      "\n",
      "Thank you! Let me know if you need any other details\n",
      "new text\n",
      "Thumb anatomy (around MP joint)? dislocated thumb Hey guys, so i dislocated my thumb recently and made a different post about wondering if it would be ok to remove my brace and move it around to feel out range of motion(if you wana see it): [https://www.reddit.com](https://www.reddit.com) \n",
      "\n",
      "&#x200B;\n",
      "\n",
      "THIS issue is with the same thumb. so its been almost 3.5 weeks since my dislocation and ive gone 2 weeks in a cast and 1 week now in a brace. recently took the brace off to see how my thumb was doing and i was able to move it around a bit without pain and some directions there was pain. my question has to do with the pain, im not sure which structure im feeling.\n",
      "\n",
      "I tried googling images to find which ligament or tendon must be damaged but i couldnt figure it out. At touch theres strong pain at the ligament or tendon that is on the anterior of the thumb, at the MP joint. however my dislocation was at the CMC joint. I thought i also had pain when i flexed my wrist a certain way but now realizing i hurt my CMC joint, im guessing that was probably just pain at that joint from flexion.\n",
      "\n",
      "&#x200B;\n",
      "\n",
      "heres a photo of the location: [https://imgur.com](https://imgur.com) \n",
      "\n",
      "&#x200B;\n",
      "\n",
      "Thank you! Let me know if you need any other details\n",
      "url_count 4\n",
      "word_count 221\n",
      "\n",
      "original text\n",
      "Institutional Adoption vs Ideology- Bitcoin's original goals are fading into the background With the focus over the past few years on price, partnerships, institutional investment, regulation, etc., it is important to remember that these are different goals and pursuits than what Satoshi was attempting. The original vision was one of operating outside of the system, away from corrupt institutions (governmental and private), and away from fiat (hint to stable coins). The focus on adoption and institutional involvement isn't necessarily bad and sometimes it's impossible to avoid. Almost everything operates through fiat, blockchain tech is useful for businesses, adoption is a good thing, and blockchain may help many sectors of our current systems, but none of this was the original goal. It's the opposite. It's good to keep separation between these two conflicting visions and not look at the whole space as being uniformly following the same path and goals. Here's a write up on the subject:\n",
      "\n",
      "[https://www.thedigitalassetguide.com/writings/institutional-adoption-vs-ideology](https://www.thedigitalassetguide.com/writings/institutional-adoption-vs-ideology)\n",
      "new text\n",
      "Institutional Adoption vs Ideology- Bitcoin's original goals are fading into the background With the focus over the past few years on price, partnerships, institutional investment, regulation, etc., it is important to remember that these are different goals and pursuits than what Satoshi was attempting. The original vision was one of operating outside of the system, away from corrupt institutions (governmental and private), and away from fiat (hint to stable coins). The focus on adoption and institutional involvement isn't necessarily bad and sometimes it's impossible to avoid. Almost everything operates through fiat, blockchain tech is useful for businesses, adoption is a good thing, and blockchain may help many sectors of our current systems, but none of this was the original goal. It's the opposite. It's good to keep separation between these two conflicting visions and not look at the whole space as being uniformly following the same path and goals. Here's a write up on the subject:\n",
      "\n",
      "[https://www.thedigitalassetguide.com](https://www.thedigitalassetguide.com)\n",
      "url_count 2\n",
      "word_count 156\n",
      "\n"
     ]
    }
   ],
   "source": [
    "url_df = df[df[\"url_count\"] > 0]\n",
    "sample_df = url_df.sample(n=10, replace=False)\n",
    "for idx, row in sample_df.iterrows():\n",
    "    print(\"original text\")\n",
    "    print(row[\"text\"])\n",
    "    print(\"new text\")\n",
    "    print(row[\"new_text\"])\n",
    "    print(\"url_count\", row[\"url_count\"])\n",
    "    print(\"word_count\", row[\"word_count\"])\n",
    "    print()"
   ]
  },
  {
   "cell_type": "code",
   "execution_count": 164,
   "id": "9a0bf6c2",
   "metadata": {},
   "outputs": [
    {
     "data": {
      "text/plain": [
       "0     317243\n",
       "1      45378\n",
       "2      16103\n",
       "3       4136\n",
       "4       2840\n",
       "       ...  \n",
       "80         1\n",
       "83         1\n",
       "85         1\n",
       "88         1\n",
       "51         1\n",
       "Name: url_count, Length: 102, dtype: int64"
      ]
     },
     "execution_count": 164,
     "metadata": {},
     "output_type": "execute_result"
    }
   ],
   "source": [
    "df[\"url_count\"].value_counts()"
   ]
  },
  {
   "cell_type": "code",
   "execution_count": 165,
   "id": "85892edb",
   "metadata": {},
   "outputs": [
    {
     "data": {
      "text/plain": [
       "<AxesSubplot:xlabel='url_count', ylabel='Count'>"
      ]
     },
     "execution_count": 165,
     "metadata": {},
     "output_type": "execute_result"
    },
    {
     "data": {
      "image/png": "[encoded data removed]",
      "text/plain": [
       "<Figure size 432x288 with 1 Axes>"
      ]
     },
     "metadata": {},
     "output_type": "display_data"
    }
   ],
   "source": [
    "sns.histplot(df[\"url_count\"])"
   ]
  },
  {
   "cell_type": "code",
   "execution_count": 166,
   "id": "67f01955",
   "metadata": {},
   "outputs": [
    {
     "name": "stdout",
     "output_type": "stream",
     "text": [
      "72753/317243=22.93289371239082% of posts have URLs\n"
     ]
    }
   ],
   "source": [
    "# how many posts have URL?\n",
    "new_df = df[df[\"url_count\"] == 0]\n",
    "diff = len(df) -len(new_df)\n",
    "print(\"{}/{}={}% of posts have URLs\".format(diff, len(new_df), diff*100/len(new_df)))"
   ]
  },
  {
   "cell_type": "code",
   "execution_count": 167,
   "id": "73397c2e",
   "metadata": {},
   "outputs": [],
   "source": [
    "df[\"url_ratio\"] = df.apply(lambda x: x[\"url_count\"] / x[\"word_count\"], axis=1)"
   ]
  },
  {
   "cell_type": "code",
   "execution_count": 168,
   "id": "df4bfbe9",
   "metadata": {},
   "outputs": [
    {
     "data": {
      "text/plain": [
       "<AxesSubplot:xlabel='url_ratio', ylabel='Count'>"
      ]
     },
     "execution_count": 168,
     "metadata": {},
     "output_type": "execute_result"
    },
    {
     "data": {
      "image/png": "[encoded data removed]",
      "text/plain": [
       "<Figure size 432x288 with 1 Axes>"
      ]
     },
     "metadata": {},
     "output_type": "display_data"
    }
   ],
   "source": [
    "sns.histplot(df[df[\"url_ratio\"] < .1][\"url_ratio\"])"
   ]
  },
  {
   "cell_type": "code",
   "execution_count": 169,
   "id": "7072cbf9",
   "metadata": {},
   "outputs": [
    {
     "data": {
      "text/plain": [
       "<AxesSubplot:xlabel='url_ratio', ylabel='Count'>"
      ]
     },
     "execution_count": 169,
     "metadata": {},
     "output_type": "execute_result"
    },
    {
     "data": {
      "image/png": "[encoded data removed]",
      "text/plain": [
       "<Figure size 432x288 with 1 Axes>"
      ]
     },
     "metadata": {},
     "output_type": "display_data"
    }
   ],
   "source": [
    "sns.histplot(df[(df[\"url_ratio\"] > 0) & (df[\"url_ratio\"] < .1)][\"url_ratio\"])"
   ]
  },
  {
   "cell_type": "code",
   "execution_count": 170,
   "id": "231776cf",
   "metadata": {},
   "outputs": [
    {
     "name": "stdout",
     "output_type": "stream",
     "text": [
      "11502/378494=3.0388856890730103% of posts have URL ratios >= 0.04\n"
     ]
    }
   ],
   "source": [
    "# how many posts have URL ratio > 0.04?\n",
    "new_df = df[df[\"url_ratio\"] < 0.04]\n",
    "diff = len(df) -len(new_df)\n",
    "print(\"{}/{}={}% of posts have URL ratios >= 0.04\".format(diff, len(new_df), diff*100/len(new_df)))"
   ]
  },
  {
   "cell_type": "code",
   "execution_count": 148,
   "id": "bb9e9fb5",
   "metadata": {},
   "outputs": [
    {
     "data": {
      "text/plain": [
       "[\"Is this a canker or cold sore? Thank you Age 32\\nMale\\n6'2\\n230\\nCaucasian\\n3 days\\n\\nImages\\nhttp://imgur.com/jchfVZL\\nhttp://imgur.com/zdWtIZR\\nhttp://imgur.com/SroB87h\",\n",
       " 'Swollen ankle http://imgur.com/a/pp6gG',\n",
       " 'What is this skin lesion? (pictures included) http://postimg.org/image/y4pkmmfoz/\\n\\nhttp://postimg.org/image/rx1d7fq9f/',\n",
       " 'Is this scabies? https://imgur.com/a/hq0tx',\n",
       " 'Itchy bumps on leg a day after shaving. Any ideas? http://imgur.com/OkCgjuH\\nhttp://imgur.com/0NFzoHd\\nhttp://imgur.com/xljPS4A\\n',\n",
       " 'What are the red spots under my skin? On my left leg(these come and go)\\n\\nhttps://www.dropbox.com/s/xsohz4xb8qr7p1n/20161122_125943.jpg?dl=0\\nhttps://www.dropbox.com/s/92fj6y4w9866h65/20161122_130018.jpg?dl=0\\n\\nOn my left hand (these are more recent)\\n\\nhttps://www.dropbox.com/s/19c5syyhatld9nv/20170228_140244.jpg?dl=0\\nhttps://www.dropbox.com/s/0ugfdeckg5q45pz/20171025_152348.jpg?dl=0\\nhttps://www.dropbox.com/s/19c5syyhatld9nv/20170228_140244.jpg?dl=0',\n",
       " 'Is this melanoma? Pic 1 https://imgur.com/a/1djF6\\nPic 2 https://imgur.com/a/e153S',\n",
       " 'Bites(?) on my skin since 2 days. https://imgur.com/DwYF0xy https://imgur.com/DwYF0xy',\n",
       " \"What's going on with my head Male 27\\n\\n[https://i.imgur.com/UMWy7Xt.jpg](https://i.imgur.com/UMWy7Xt.jpg)\",\n",
       " 'Dark red spots on skin? 23\\nM\\n5’10”\\n155\\nWhite\\nJust noticed\\nback to leg and foot left side\\nNo medical history lately\\nNo meds\\n\\nBest pick 1st\\n\\nhttps://ibb.co/fbmQUp\\n\\nhttps://ibb.co/jCXnQU\\nhttps://ibb.co/mMTu5U\\nhttps://ibb.co/dBZOzp\\nhttps://ibb.co/gMhbKp\\nhttps://ibb.co/h8mgkU\\n\\nThanks',\n",
       " 'Jaundice? https://preview.ibb.co/eX79uf/6-E1612-BF-B849-4149-96-B0-2244-F722-F85-D.png',\n",
       " 'Does this beard look like testosterone deficiency?  [https://drive.google.com/file/d/13MDiJ44VkwK2CJsKLJOdeBrbd9eGUoBSPg/view?usp=sharing](https://drive.google.com/file/d/13MDiJ44VkwK2CJsKLJOdeBrbd9eGUoBSPg/view?usp=sharing)\\n\\n[https://drive.google.com/file/d/1hzOwaTAstiA\\\\_AzH1A4HVUv0j7CQPRTbsPQ/view?usp=sharing](https://drive.google.com/file/d/1hzOwaTAstiA_AzH1A4HVUv0j7CQPRTbsPQ/view?usp=sharing)\\n\\n* 25 yo\\n* male\\n* 183cm\\n* 80kg',\n",
       " \"Freaking out, cryotherapied wart completely changed form overnight. Is this infected/not a wart? 22\\nMale\\n5'8\\n170 pounds\\nHispanic\\nTwo months\\nRight index finger \\nGenital hpv\\nNone\\nhttps://ibb.co/8mgTPgf\\nhttps://ibb.co/McHDxXp\\nhttps://ibb.co/NpmHvGS\\nhttps://ibb.co/4NGt5Qm\\nhttps://ibb.co/RYLRStP\\nhttps://ibb.co/qBtHg2z\\nhttps://ibb.co/2yWJSxX\",\n",
       " 'Am i barrel chested?  30M \\n\\n[https://imgur.com/a/nqaMfUM](https://imgur.com/a/nqaMfUM)',\n",
       " \"Weird spots condition on hand and fingers 21\\n\\nMale\\n\\n6'2\\n\\nAround 13 stone\\n\\nBlack-British\\n\\nCouple Months\\n\\nOn hand and fingers\\n\\nNone\\nNone\\n\\nhttps://ibb.co/Dbh8fHZ\\nhttps://ibb.co/QXNgq2n\\nhttps://ibb.co/D9gCtWm\",\n",
       " 'Can someone interpret these Lumbar MRI images? Image: [https://imgur.com/a/2U7H6Ri](https://imgur.com/a/2U7H6Ri)\\n\\nAge: 27\\n\\nSex: M\\n\\nHeight: 6\\'2\"\\n\\nWeight: 180 lbs\\n\\nI\\'ve had low back pain for several years.\\n\\nEdit: Video of all images: [https://imgur.com/a/h8cCg7N](https://imgur.com/a/h8cCg7N)\\n\\nEdit 2: All images:\\n\\n1: AX T1 TSE: [https://imgur.com/a/DgCKbzx](https://imgur.com/a/DgCKbzx)\\n\\n2: AX T2: [https://imgur.com/a/vAN4BcV](https://imgur.com/a/vAN4BcV)\\n\\n3: AX T2 (2): [https://imgur.com/a/9kBWIVb](https://imgur.com/a/9kBWIVb)\\n\\n4: AX T2 (composed): [https://imgur.com/a/ef72mHf](https://imgur.com/a/ef72mHf)\\n\\n5: Localizers: [https://imgur.com/a/btmTYwb](https://imgur.com/a/btmTYwb)\\n\\n6: SAG STIR: [https://imgur.com/a/V2FvDD4](https://imgur.com/a/V2FvDD4)\\n\\n7: SAG T1 Flair: [https://imgur.com/a/eDI84Xn](https://imgur.com/a/eDI84Xn)\\n\\n8: SAG T2: [https://imgur.com/a/SzCJify](https://imgur.com/a/SzCJify)',\n",
       " 'Does my right thumbnail look clubbed? Male. 24. 6’2[photo 1](https://i.imgur.com/0SABf5L.jpg) \\n[photo 2](https://i.imgur.com/YowoDWv.jpg) \\n\\n\\n[other thumb](https://i.imgur.com/gfuHje3.jpg)',\n",
       " 'Bitstamp hacker donated 1BTC to Sarutobi I followed the transactions and found this chain:\\n\\nFrom Bitstamp hack:\\nhttps://blockchain.info/address/1KbbJey4NBtK2kA5dsw35DUJHTJ7N4TTh3\\nhttps://blockchain.info/address/1FgKqYCWKq9gtByQJmmm9gRqg4j2dBRvtW\\nhttps://blockchain.info/address/1BnkN8XAYTaJnrSdPKwqdwa9wMSt19Nx3K\\nhttps://blockchain.info/address/1JYxRnbKjbfWQEaatYnns1L8Qc8njiNWPu\\nhttps://blockchain.info/address/1GW9RQqyfy2a1PSJoHWCgVwjR6CXSHxaae\\nhttps://blockchain.info/address/1L3kGUGaYMXco1EiUnGYtjtA61D8uQBfLE\\nhttps://blockchain.info/address/18ePL1G2SEetzUroa7e7WyxrKvVMe2CcGt\\nhttps://blockchain.info/address/1DNAhymLAReQycKFMm1pGMRCVucKXTZHRp\\nhttps://blockchain.info/address/1NM8ZvajhdFHpipUhax3R63wse9PpcP4WF\\nhttps://blockchain.info/address/1M3R28L2mSuySaS7Ds3cdLftqrGbtaNos5\\nhttps://blockchain.info/address/1Lv4i6c6TP5NXxbZmjmFtGDBke4wHtWLFp\\nhttps://blockchain.info/address/1A7b9FFQqWCUhYDt34dAH8N2ieueUA7o47\\nhttps://blockchain.info/address/1BvKcZ33HDW5XnLVchNq2rVu6tyAk2wAMz\\nhttps://blockchain.info/address/19XYaasDKwy5pPWgw6brRVnPt9hH4VdpLm\\nhttps://blockchain.info/address/12awVwQ4U7x6VigKD1SxWGLkY5icx1kCq8\\nhttps://blockchain.info/address/17EywDwwxhSwcWN5AiVgBq9PhHj9rvT2Yx\\nhttps://blockchain.info/address/15iS3JRSRqhWMZDRBMEYithhPUFMnE6iW9\\nhttps://blockchain.info/address/1KPiPpYBwsY6dFbxZ83ubNsD3RHqwnf5on\\nhttps://blockchain.info/address/14xqtj7dgwg4VGxmV9z5k9oPHfSQSctFsU\\nhttps://blockchain.info/address/3MXxfNZoifLYdS8wJTpvfeDNPt9ZWuMAaN?filter=2\\nTo Sarutobi\\n\\nMost of the transactions are splits into smaller pieces so I assume all of them are from the same hacker. Any theories on why the hacker would want to donate to Sarotobi?',\n",
       " 'Bitstamp: Trading starts at 9PM UTC. Link to announcement:\\n\\nhttps://www.bitstamp.net/\\n\\nCountdown:\\n\\nhttps://www.timeanddate.com/countdown/generic?hour=21&min=00&sec=00&p0=1440\\n',\n",
       " \"Tipping / Giving Tuesdays - Time to spread the love! :D - First 500 comments get some bitcoin! Will do it like last time... Those of you who submit great charities or causes that need donations will receive higher gifts from me and have it added to this text! :D\\n\\nThose of you who just want the charity of your own pockets to expand still say Hi :) 100 bits for the first 500 comments!\\n\\n* [The Water Project](http://thewaterproject.org/donate-bitcoin)\\n* [Wikimedia](http://wikimediafoundation.org/wiki/Ways_to_Give#bitcoin)\\n* [Seans Outpost](http://www.seansoutpost.com/)\\n* [Bitpesa](https://www.bitpesa.co/donate)\\n* [The Wounded Warrior Project](http://www.woundedwarriorproject.org/)\\n* [Childs Play](http://www.childsplaycharity.org)\\n* [RNLI](https://rnli.org/howtosupportus/donatenow/Pages/bitcoin.aspx?utm_source=rnli-website-redirect&utm_medium=vanity-urls&utm_campaign=bitcoin)\\n* [Save The Trees](http://www.evergreen.ca/en/)\\n* [Save The Seas](http://www.seashepherd.org/)\\n* [Make a millionaire](https://np.reddit.com/r/millionairemakers/comments/2q9ung/santa_is_real_thank_you_all_so_much_i_am_still_in/)\\n* [Songs Of Love](http://www.songsoflove.org/bitcoins/)\\n* [Bitcoin Research Comparables](http://suitpossum.blogspot.co.uk/2014/12/academic-bitcoin-research.html)\\n* [MAPS](http://maps.org/)\\n* www.virtualdoctors.org\\n* [Education](http://www.pathwaystoeducation.ca/)\\n* [Give A Mile](http://giveamile.org/donate/)\\n* [Fight Malaria](https://www.againstmalaria.com/)\\n* [Womens Centre](http://www.womenscentrecalgary.org/donate/donate-with-bitcoin/)\\n* [Legalise Marijuana](http://dcmj.org/donate/)\\n* [LibreOffice](http://www.libreoffice.org/donate/)\\n* [United Sikhs](http://unitedsikhs.org/)\\n* [BitGive Foundation](http://bitgivefoundation.org/donate-now/)\\n* www.antiwar.com\\n* [Saving Girls](http://www.savinginnocence.org/)\\n* [The Tenth Amendment Center](http://shop.tenthamendmentcenter.com/product/pledge/)\\n* [GPG Project](https://www.wauland.de/en/donation.html#61)\\n* [The Internet Archive](https://archive.org/donate/bitcoin.php)\\n* www.aphasia.ca\\n* [Water Aid](http://www.wateraid.org/uk)\\n* [Edward Snowden Defense](https://www.freesnowden.is/)\\n* [The TOR Project](https://www.torproject.org/)\\n* [War Child](http://www.warchild.ca/bitcoin)\\n* [Khan Academy](https://www.khanacademy.org/donate)\\n* [New Technology to Cure Hunger](http://www.new-harvest.org/)\\n* [Without Regrets](http://www.withoutregrets.org/)\\n* [Protect The Earth](http://www.generationgreen.com/)\\n* [Non-Profit Tech Resources](http://ntrweb.org/support-ntr/#bitcoin)\\n* [United Way](http://www.unitedway.org/pages/donate-bitcoin-to-united-way)\\n* [Mesothelioma Research](http://www.curemeso.org/site/c.duIWJfNQKiL8G/b.9195907/k.6887/Bitcoin_Donation_Form.htm)\\n* [Bitcoin Against Ebola](https://bitcoinagainstebola.org/#!/)\\n* [The Planetary Society](http://www.planetary.org/become-a-member/other-ways-to-give/donate-bitcoin.html)\\n* [Stop Domestic Violence](http://sigilsocial.org/donate/)\\n* [Help Foster Kids](http://www.generationsofhope.org/donate/)\\n* [Save The Children Ebola Fund](https://bitpay.com/615074/donate)\\n* [Anza](http://www.anza.co.com/)\\n* [Mozilla Foundation](https://sendto.mozilla.org/page/content/give-bitcoin/)\\n* [Cancer Support](http://www.macmillan.org.uk/Home.aspx)\\n* [WikiLeaks](https://shop.wikileaks.org/donate#dbitcoin)\\n* [Free Software Foundation](https://my.fsf.org/civicrm/contribute/transact?reset=1&id=14)\\n* [Electric Frontier Foundation](https://supporters.eff.org/donate)\\n* [Young Minds](http://www.youngminds.org.uk/)\\n* [Apache Software Foundation](http://www.apache.org/foundation/contributing.html)\\n* [Tor Exit Nodes](http://enn.lu/donate/bitcoin)\\n* [GPG Tools](https://gpgtools.org/donate.html)\\n* [Technology for kids](http://one.laptop.org/)\\n* [National Law Enforcement Burial services](http://www.nleomf.org/about/)\\n* www.cdss.ca - Candian Down Syndrome Society\\n* [Blender Open Source](http://www.blender.org/foundation/donation-payment/)\\n* www.alz.org - Alzeimer's Association\\n* [Ending Poverty](http://ajws.org/)\\n* [Linux Foundation](https://www.linuxfoundation.org/participate/linux-donate)\\n* www.doctorsoftheworld.org.uk\\n* [Fight Cancer](http://donate.thon.org/)\\n* [Engineers without Borders](https://ssl.charityweb.net/ewbusa/)\\n* [Bone Marrow Help](http://www.bethematch.org/)\\n\\n** EDIT - Thank you all for contributing to the ever growing list - see you guys next Tuesday! :D\",\n",
       " \"Tipping / Giving Tuesday is here - free bitcoin for the first 500 comments - our list of charities and causes are also growing beautifully - thanks all :D **SOME TIPPING [SUGGESTIONS](https://www.reddit.com/r/changetip/wiki/suggestions)**\\n\\nWill do it like last time... Those of you who submit great charities or causes that need donations will receive higher gifts from me and have it added to this text! :D\\n\\nThose of you who just want the charity of your own pockets to expand still say Hi :) 100 bits for the first 500 comments!\\n\\n| | | |\\n|-|-|-|\\n[The Water Project](http://thewaterproject.org/donate-bitcoin) | [The Internet Archive](https://archive.org/donate/bitcoin.php) | [Tor Exit Nodes](http://enn.lu/donate/bitcoin)\\n[Wikimedia](http://wikimediafoundation.org/wiki/Ways_to_Give#bitcoin) | [Aphasia Institute](http://www.aphasia.ca) | [GPG Tools](https://gpgtools.org/donate.html)\\n[Seans Outpost](http://www.seansoutpost.com/) | [Water Aid](http://www.wateraid.org/uk) | [Technology for kids](http://one.laptop.org/)\\n[Bitpesa](https://www.bitpesa.co/donate) | [Edward Snowden Defense](https://www.freesnowden.is/) | [National Law Enforcement Burial services](http://www.nleomf.org/about/)\\n[The Wounded Warrior Project](http://www.woundedwarriorproject.org/) | [The TOR Project](https://www.torproject.org/) | [Candian Down Syndrome Society](http://www.cdss.ca)\\n[Childs Play](http://www.childsplaycharity.org) | [War Child](http://www.warchild.ca/bitcoin) | [Blender Open Source](http://www.blender.org/foundation/donation-payment/)\\n[RNLI](https://rnli.org/howtosupportus/donatenow/Pages/bitcoin.aspx?utm_source=rnli-website-redirect&amp;utm_medium=vanity-urls&amp;utm_campaign=bitcoin) | [Khan Academy](https://www.khanacademy.org/donate) | [Alzeimer's Association](http://www.alz.org)\\n[Save The Trees](http://www.evergreen.ca/en/) | [New Technology to Cure Hunger](http://www.new-harvest.org/) | [Ending Poverty](http://ajws.org/)\\n[Save The Seas](http://www.seashepherd.org/) | [Without Regrets](http://www.withoutregrets.org/) | [Linux Foundation](https://www.linuxfoundation.org/participate/linux-donate)\\n[Make a millionaire](https://np.reddit.com/r/millionairemakers/comments/2q9ung/santa_is_real_thank_you_all_so_much_i_am_still_in/) | [Protect The Earth](http://www.generationgreen.com/) | [Doctors of the World UK](http://www.doctorsoftheworld.org.uk)\\n[Songs Of Love](http://www.songsoflove.org/bitcoins/) | [Non-Profit Tech Resources](http://ntrweb.org/support-ntr/#bitcoin) | [Fight Cancer](http://donate.thon.org/)\\n[Bitcoin Research Comparables](http://suitpossum.blogspot.co.uk/2014/12/academic-bitcoin-research.html) | [United Way](http://www.unitedway.org/pages/donate-bitcoin-to-united-way) | [Engineers without Borders](https://ssl.charityweb.net/ewbusa/)\\n[MAPS](http://maps.org/) | [Mesothelioma Research](http://www.curemeso.org/site/c.duIWJfNQKiL8G/b.9195907/k.6887/Bitcoin_Donation_Form.htm) | [Bone Marrow Help](http://www.bethematch.org/)\\n[The Virtual Doctor Project](http://www.virtualdoctors.org) | [Bitcoin Against Ebola](https://bitcoinagainstebola.org/#!/) | [Childrens Medical Center of Dallas](https://give.childrens.com/)\\n[Education](http://www.pathwaystoeducation.ca/) | [The Planetary Society](http://www.planetary.org/become-a-member/other-ways-to-give/donate-bitcoin.html) | [Bread For The City](http://www.breadforthecity.org/bitcoin-donation-page/)\\n[Give A Mile](http://giveamile.org/donate/) | [Stop Domestic Violence](http://sigilsocial.org/donate/) | [Shriners Hospital For Children](http://www.shrinershospitalsforchildren.org/)\\n[Fight Malaria](https://www.againstmalaria.com/) | [Help Foster Kids](http://www.generationsofhope.org/donate/) | [Caritas](http://www.caritas.org.au/)\\n[Womens Centre](http://www.womenscentrecalgary.org/donate/donate-with-bitcoin/) | [Save The Children Ebola Fund](https://bitpay.com/615074/donate) | [OK Foster Wishes](http://www.okfosterwishes.com/)\\n[Legalise Marijuana](http://dcmj.org/donate/) | [Anza](http://www.anza.co.com/) | [Help Kids](https://www.helpsdkids.org/donate)\\n[LibreOffice](http://www.libreoffice.org/donate/) | [Mozilla Foundation](https://sendto.mozilla.org/page/content/give-bitcoin/) | [Darkcoin Foundation](https://www.darkcoinfoundation.org/)\\n[United Sikhs](http://unitedsikhs.org/) | [Cancer Support](http://www.macmillan.org.uk/Home.aspx) | [Operation Fistula](http://www.opfistula.org/donate/)\\n[BitGive Foundation](http://bitgivefoundation.org/donate-now/) | [WikiLeaks](https://shop.wikileaks.org/donate#dbitcoin) | [Hotspot Community Resource Center](http://www.seatoskycommunity.org/donate/)\\n[Antiwar.com](http://www.antiwar.com) | [Free Software Foundation](https://my.fsf.org/civicrm/contribute/transact?reset=1&amp;id=14) | [The Poker Players Alliance](http://theppa.org/)\\n[Saving Girls](http://www.savinginnocence.org/) | [Electric Frontier Foundation](https://supporters.eff.org/donate) | [Reporters Without Borders](http://en.rsf.org/)\\n[The Tenth Amendment Center](http://shop.tenthamendmentcenter.com/product/pledge/) | [Young Minds](http://www.youngminds.org.uk/) | [The Bitcoin Foundation](https://bitcoinfoundation.org/donate/)\\n[GPG Project](https://www.wauland.de/en/donation.html#61) | [Apache Software Foundation](http://www.apache.org/foundation/contributing.html) | [The Food Democracy](http://www.fooddemocracynow.org/)\\n\\n\\n\",\n",
       " \"Tipping / Giving Tuesday is here - free bitcoin for the first 500 comments - our list of charities and causes are also growing beautifully - thanks all :D Will do it like last time... Those of you who submit great charities or causes that need donations will receive higher gifts from me and have it added to this text! :D\\n\\nThose of you who just want the charity of your own pockets to expand still say Hi :) 100 bits for the first 500 comments!\\n\\n* [The Water Project](http://thewaterproject.org/donate-bitcoin)\\n* [Wikimedia](http://wikimediafoundation.org/wiki/Ways_to_Give#bitcoin)\\n* [Seans Outpost](http://www.seansoutpost.com/)\\n* [Bitpesa](https://www.bitpesa.co/donate)\\n* [The Wounded Warrior Project](http://www.woundedwarriorproject.org/)\\n* [Childs Play](http://www.childsplaycharity.org)\\n* [RNLI](https://rnli.org/howtosupportus/donatenow/Pages/bitcoin.aspx?utm_source=rnli-website-redirect&utm_medium=vanity-urls&utm_campaign=bitcoin)\\n* [Save The Trees](http://www.evergreen.ca/en/)\\n* [Save The Seas](http://www.seashepherd.org/)\\n* [Make a millionaire](https://np.reddit.com/r/millionairemakers/comments/2q9ung/santa_is_real_thank_you_all_so_much_i_am_still_in/)\\n* [Songs Of Love](http://www.songsoflove.org/bitcoins/)\\n* [Bitcoin Research Comparables](http://suitpossum.blogspot.co.uk/2014/12/academic-bitcoin-research.html)\\n* [MAPS](http://maps.org/)\\n* www.virtualdoctors.org\\n* [Education](http://www.pathwaystoeducation.ca/)\\n* [Give A Mile](http://giveamile.org/donate/)\\n* [Fight Malaria](https://www.againstmalaria.com/)\\n* [Womens Centre](http://www.womenscentrecalgary.org/donate/donate-with-bitcoin/)\\n* [Legalise Marijuana](http://dcmj.org/donate/)\\n* [LibreOffice](http://www.libreoffice.org/donate/)\\n* [United Sikhs](http://unitedsikhs.org/)\\n* [BitGive Foundation](http://bitgivefoundation.org/donate-now/)\\n* www.antiwar.com\\n* [Saving Girls](http://www.savinginnocence.org/)\\n* [The Tenth Amendment Center](http://shop.tenthamendmentcenter.com/product/pledge/)\\n* [GPG Project](https://www.wauland.de/en/donation.html#61)\\n* [The Internet Archive](https://archive.org/donate/bitcoin.php)\\n* www.aphasia.ca\\n* [Water Aid](http://www.wateraid.org/uk)\\n* [Edward Snowden Defense](https://www.freesnowden.is/)\\n* [The TOR Project](https://www.torproject.org/)\\n* [War Child](http://www.warchild.ca/bitcoin)\\n* [Khan Academy](https://www.khanacademy.org/donate)\\n* [New Technology to Cure Hunger](http://www.new-harvest.org/)\\n* [Without Regrets](http://www.withoutregrets.org/)\\n* [Protect The Earth](http://www.generationgreen.com/)\\n* [Non-Profit Tech Resources](http://ntrweb.org/support-ntr/#bitcoin)\\n* [United Way](http://www.unitedway.org/pages/donate-bitcoin-to-united-way)\\n* [Mesothelioma Research](http://www.curemeso.org/site/c.duIWJfNQKiL8G/b.9195907/k.6887/Bitcoin_Donation_Form.htm)\\n* [Bitcoin Against Ebola](https://bitcoinagainstebola.org/#!/)\\n* [The Planetary Society](http://www.planetary.org/become-a-member/other-ways-to-give/donate-bitcoin.html)\\n* [Stop Domestic Violence](http://sigilsocial.org/donate/)\\n* [Help Foster Kids](http://www.generationsofhope.org/donate/)\\n* [Save The Children Ebola Fund](https://bitpay.com/615074/donate)\\n* [Anza](http://www.anza.co.com/)\\n* [Mozilla Foundation](https://sendto.mozilla.org/page/content/give-bitcoin/)\\n* [Cancer Support](http://www.macmillan.org.uk/Home.aspx)\\n* [WikiLeaks](https://shop.wikileaks.org/donate#dbitcoin)\\n* [Free Software Foundation](https://my.fsf.org/civicrm/contribute/transact?reset=1&id=14)\\n* [Electric Frontier Foundation](https://supporters.eff.org/donate)\\n* [Young Minds](http://www.youngminds.org.uk/)\\n* [Apache Software Foundation](http://www.apache.org/foundation/contributing.html)\\n* [Tor Exit Nodes](http://enn.lu/donate/bitcoin)\\n* [GPG Tools](https://gpgtools.org/donate.html)\\n* [Technology for kids](http://one.laptop.org/)\\n* [National Law Enforcement Burial services](http://www.nleomf.org/about/)\\n* www.cdss.ca - Candian Down Syndrome Society\\n* [Blender Open Source](http://www.blender.org/foundation/donation-payment/)\\n* www.alz.org - Alzeimer's Association\\n* [Ending Poverty](http://ajws.org/)\\n* [Linux Foundation](https://www.linuxfoundation.org/participate/linux-donate)\\n* www.doctorsoftheworld.org.uk\\n* [Fight Cancer](http://donate.thon.org/)\\n* [Engineers without Borders](https://ssl.charityweb.net/ewbusa/)\\n* [Bone Marrow Help](http://www.bethematch.org/)\\n* [Childrens Medical Center of Dallas](https://give.childrens.com/)\\n* [Bread For The City](http://www.breadforthecity.org/bitcoin-donation-page/)\\n* [Shriners Hospital For Children](http://www.shrinershospitalsforchildren.org/)\\n* [Caritas](http://www.caritas.org.au/)\\n* [OK Foster Wishes](http://www.okfosterwishes.com/)\\n* [Help Kids](https://www.helpsdkids.org/donate)\\n* [Darkcoin Foundation](https://www.darkcoinfoundation.org/)\\n* [Operation Fistula](http://www.opfistula.org/donate/)\\n* [Hotspot Community Resource Center](http://www.seatoskycommunity.org/donate/)\\n* [The Poker Players Alliance](http://theppa.org/)\\n* [Reporters Without Borders](http://en.rsf.org/)\",\n",
       " 'Bitcoiners buckle up Something is happening, not sure what....\\n\\nhttp://i.imgur.com/pJ8Zrsg.png\\n(http://bitcoinstats.com/network/propagation/)\\n\\nand difficulty rises, why? https://blockchain.info/charts/difficulty',\n",
       " 'Flashback - Jeff Berwick vs Fox host [part 1](https://www.youtube.com/watch?v=xOu10PI0w3w)\\n[part 2](https://www.youtube.com/watch?v=lHSg_33Qwks)\\n[part 3](https://www.youtube.com/watch?v=UC_s3sRZFFg)',\n",
       " \"Tipping / Giving Tuesday is here - free bitcoin for the first 700 comments - our list of charities and causes are also growing beautifully - thanks all :D **SOME TIPPING [SUGGESTIONS](https://www.reddit.com/r/changetip/wiki/suggestions)**\\n\\nWill do it like last time... Those of you who submit great charities or causes that need donations will receive higher gifts from me and have it added to this text! :D\\n\\nThose of you who just want the charity of your own pockets to expand still say Hi :) 100 bits for the first 700 comments!\\n\\n**If the older members spot fake accounts trying to take the charity and twist it for their own selfish reasons - please feel free to down vote it or comment and you will be awarded a bounty! XD**\\n\\n**WE MANAGED TO ADD A WHOPPING 22 NEW CHARITIES / CAUSES TODAY! GREAT JOB /R/BITCOIN**\\n\\n| | | |\\n|-|-|-|\\n[The Water Project](http://thewaterproject.org/donate-bitcoin) | [The Internet Archive](https://archive.org/donate/bitcoin.php) | [Tor Exit Nodes](http://enn.lu/donate/bitcoin)\\n[Wikimedia](http://wikimediafoundation.org/wiki/Ways_to_Give#bitcoin) | [Aphasia Institute](http://www.aphasia.ca) | [GPG Tools](https://gpgtools.org/donate.html)\\n[Seans Outpost](http://www.seansoutpost.com/) | [Water Aid](http://www.wateraid.org/uk) | [Technology for kids](http://one.laptop.org/) | [Edward Snowden Defense](https://www.freesnowden.is/) | \\n[The TOR Project](https://www.torproject.org/) | [Candian Down Syndrome Society](http://www.cdss.ca)\\n[Childs Play](http://www.childsplaycharity.org) | [War Child](http://www.warchild.ca/bitcoin) | [Blender Open Source](http://www.blender.org/foundation/donation-payment/)\\n[RNLI](https://rnli.org/howtosupportus/donatenow/Pages/bitcoin.aspx?utm_source=rnli-website-redirect&amp;amp;utm_medium=vanity-urls&amp;amp;utm_campaign=bitcoin) | [Khan Academy](https://www.khanacademy.org/donate) | [Alzeimer's Association](http://www.alz.org)\\n[Save The Trees](http://www.evergreen.ca/en/) | [New Technology to Cure Hunger](http://www.new-harvest.org/) | [Ending Poverty](http://ajws.org/)\\n[Save The Seas](http://www.seashepherd.org/) | [Without Regrets](http://www.withoutregrets.org/) | [Make a millionaire](https://np.reddit.com/r/millionairemakers/comments/2q9ung/santa_is_real_thank_you_all_so_much_i_am_still_in/) | [Protect The Earth](http://www.generationgreen.com/) | [Doctors of the World UK](http://www.doctorsoftheworld.org.uk)\\n[Songs Of Love](http://www.songsoflove.org/bitcoins/) | [Non-Profit Tech Resources](http://ntrweb.org/support-ntr/#bitcoin) | [Fight Cancer](http://donate.thon.org/)\\n[Bitcoin Research Comparables](http://suitpossum.blogspot.co.uk/2014/12/academic-bitcoin-research.html) | [United Way](http://www.unitedway.org/pages/donate-bitcoin-to-united-way) | [Engineers without Borders](https://ssl.charityweb.net/ewbusa/)\\n[MAPS](http://maps.org/) | [Mesothelioma Research](http://www.curemeso.org/site/c.duIWJfNQKiL8G/b.9195907/k.6887/Bitcoin_Donation_Form.htm) | [Bone Marrow Help](http://www.bethematch.org/) | [Bitcoin Against Ebola](https://bitcoinagainstebola.org/#!/) | [Childrens Medical Center of Dallas](https://give.childrens.com/)\\n[Education](http://www.pathwaystoeducation.ca/) | [The Planetary Society](http://www.planetary.org/become-a-member/other-ways-to-give/donate-bitcoin.html) | [Bread For The City](http://www.breadforthecity.org/bitcoin-donation-page/) |\\n[Give A Mile](http://giveamile.org/donate/) | [Stop Domestic Violence](http://sigilsocial.org/donate/) | [Fight Malaria](https://www.againstmalaria.com/) | [Help Foster Kids](http://www.generationsofhope.org/donate/) | [Womens Centre](http://www.womenscentrecalgary.org/donate/donate-with-bitcoin/) | [Save The Children Ebola Fund](https://bitpay.com/615074/donate) | [OK Foster Wishes](http://www.okfosterwishes.com/)\\n[Legalise Marijuana](http://dcmj.org/donate/) | [Anza](http://www.anza.co.com/) | [Help Kids](https://www.helpsdkids.org/donate)\\n[LibreOffice](http://www.libreoffice.org/donate/) | [Mozilla Foundation](https://sendto.mozilla.org/page/content/give-bitcoin/) | [Darkcoin Foundation](https://www.darkcoinfoundation.org/)\\n[United Sikhs](http://unitedsikhs.org/) | [Cancer Support](http://www.macmillan.org.uk/Home.aspx) | [Operation Fistula](http://www.opfistula.org/donate/)\\n[BitGive Foundation](http://bitgivefoundation.org/donate-now/) | [WikiLeaks](https://shop.wikileaks.org/donate#dbitcoin) | [Hotspot Community Resource Center](http://www.seatoskycommunity.org/donate/)\\n[Antiwar.com](http://www.antiwar.com) | [Free Software Foundation](https://my.fsf.org/civicrm/contribute/transact?reset=1&amp;amp;id=14) | [Saving Girls](http://www.savinginnocence.org/) | [Electric Frontier Foundation](https://supporters.eff.org/donate) | [Reporters Without Borders](http://en.rsf.org/)\\n[The Tenth Amendment Center](http://shop.tenthamendmentcenter.com/product/pledge/) | [Young Minds](http://www.youngminds.org.uk/) | [The Bitcoin Foundation](https://bitcoinfoundation.org/donate/)\\n[GPG Project](https://www.wauland.de/en/donation.html#61) | [Apache Software Foundation](http://www.apache.org/foundation/contributing.html) | [The Food Democracy](http://www.fooddemocracynow.org/)\\n[Skateistan](http://skateistan.org/) | [Ronald McDonald House Charities of the Capital Region](http://www.rmhcofalbany.org/) | [Catalyst Foundation](http://www.catalystfoundation.org/) \\n[Dark Wallet](https://www.darkwallet.is/) | [Sea Shepherd](https://www.seashepherd.org.au/support-us/support-us.html) | [Kitty Safe Haven](http://www.kittysafehaven.org)\\n[Tempe Bicycle Action Group](http://www.biketempe.org) | [Free Ross](http://freeross.org/donate-now-2/) | [Charity Water](https://www.charitywater.org/) |\\n[Open Bazaar](https://openbazaar.org/) | [Krono Labs](https://www.kronolabs.com/) | [The Northern California DX Foundation](http://ncdxf.org/pages/contribute.html) |\\n[Calgary Womens Centre](http://www.womenscentrecalgary.org/donate/donate-with-bitcoin/) | [Pathways Canada](http://www.pathwayscanada.ca/bitcoin) | [Help Rescue Animals](http://ru4mepetrescue.rescuegroups.org/info/donate) |\\n[Pathways To Education](http://pathwaystoeducation.ca/) | [Exponential Education](http://www.exponentialeducationprogram.org/) | [Peace Geeks](http://peacegeeks.org/) |\\n[Abolitionist Law Centre](http://abolitionistlawcenter.org/) | [100%](http://100percent.org.nz/) | [Epic Change](http://epicchangeblog.org/)\\n| [Generations Of Hope](http://www.generationsofhope.org/donate/) | [Methuselah Foundation](http://mfoundation.org/)\",\n",
       " \"Tipping / Giving Tuesdays - First 1000 comments get free bitcoin! **SOME TIPPING [SUGGESTIONS](https://www.reddit.com/r/changetip/wiki/suggestions)**\\n\\nWill do it like last time... Those of you who submit great charities or causes that need donations will receive higher gifts from me and have it added to this text! :D\\n\\nThose of you who just want the charity of your own pockets to expand still say Hi :) 100 bits for the first **1000** comments!\\n\\n**### PLEASE CONSIDER PASSING MY TIPS ON TO OTHERS OR CHARITIES :D ###**\\n\\n**If the older members spot fake accounts trying to take the charity and twist it for their own selfish reasons - please feel free to down vote it or comment and you will be awarded a bounty! XD**\\n\\n\\n\\n| | | |\\n|-|-|-|\\n[The Water Project](http://thewaterproject.org/donate-bitcoin) | [The Bitcoin Movement](http://thebitcoinmovement.com/donate-2/) |[The Internet Archive](https://archive.org/donate/bitcoin.php) | [Tor Exit Nodes](http://enn.lu/donate/bitcoin)\\n[Wikimedia](http://wikimediafoundation.org/wiki/Ways_to_Give#bitcoin) | [Aphasia Institute](http://www.aphasia.ca) | [GPG Tools](https://gpgtools.org/donate.html)\\n[Seans Outpost](http://www.seansoutpost.com/) | [Water Aid](http://www.wateraid.org/uk) | [Technology for kids](http://one.laptop.org/) | [Edward Snowden Defense](https://www.freesnowden.is/) | \\n[The TOR Project](https://www.torproject.org/) | [Candian Down Syndrome Society](http://www.cdss.ca)| [Tails](https://tails.boum.org/contribute/how/donate/#bitcoin) | [Childs Play](http://www.childsplaycharity.org) | [War Child](http://www.warchild.ca/bitcoin) | [Blender Open Source](http://www.blender.org/foundation/donation-payment/)\\n[RNLI](https://rnli.org/howtosupportus/donatenow/Pages/bitcoin.aspx?utm_source=rnli-website-redirect&amp;amp;utm_medium=vanity-urls&amp;amp;utm_campaign=bitcoin) | [Khan Academy](https://www.khanacademy.org/donate) | [Alzeimer's Association](http://www.alz.org)\\n[Save The Trees](http://www.evergreen.ca/en/) | [New Technology to Cure Hunger](http://www.new-harvest.org/) | [Ending Poverty](http://ajws.org/)\\n[Save The Seas](http://www.seashepherd.org/) | [Without Regrets](http://www.withoutregrets.org/) | [Make a millionaire](https://np.reddit.com/r/millionairemakers/comments/2q9ung/santa_is_real_thank_you_all_so_much_i_am_still_in/) | [Protect The Earth](http://www.generationgreen.com/) | [Doctors of the World UK](http://www.doctorsoftheworld.org.uk)\\n[Songs Of Love](http://www.songsoflove.org/bitcoins/) | [Non-Profit Tech Resources](http://ntrweb.org/support-ntr/#bitcoin) | [Fight Cancer](http://donate.thon.org/)\\n[Bitcoin Research Comparables](http://suitpossum.blogspot.co.uk/2014/12/academic-bitcoin-research.html) | [United Way](http://www.unitedway.org/pages/donate-bitcoin-to-united-way) | [Engineers without Borders](https://ssl.charityweb.net/ewbusa/)\\n[MAPS](http://maps.org/) | [Mesothelioma Research](http://www.curemeso.org/site/c.duIWJfNQKiL8G/b.9195907/k.6887/Bitcoin_Donation_Form.htm) | [Bone Marrow Help](http://www.bethematch.org/) | [Bitcoin Against Ebola](https://bitcoinagainstebola.org/#!/) | [Childrens Medical Center of Dallas](https://give.childrens.com/)\\n[Education](http://www.pathwaystoeducation.ca/) | [The Planetary Society](http://www.planetary.org/become-a-member/other-ways-to-give/donate-bitcoin.html) | [Bread For The City](http://www.breadforthecity.org/bitcoin-donation-page/) |\\n[Give A Mile](http://giveamile.org/donate/) | [Stop Domestic Violence](http://sigilsocial.org/donate/) | [Fight Malaria](https://www.againstmalaria.com/) | [Help Foster Kids](http://www.generationsofhope.org/donate/) | [Womens Centre](http://www.womenscentrecalgary.org/donate/donate-with-bitcoin/) | [Save The Children Ebola Fund](https://bitpay.com/615074/donate) | [OK Foster Wishes](http://www.okfosterwishes.com/)\\n[Legalise Marijuana](http://dcmj.org/donate/) | [Anza](http://www.anza.co.com/) | [Help Kids](https://www.helpsdkids.org/donate)\\n[LibreOffice](http://www.libreoffice.org/donate/) | [Mozilla Foundation](https://sendto.mozilla.org/page/content/give-bitcoin/) | [Darkcoin Foundation](https://www.darkcoinfoundation.org/)\\n[United Sikhs](http://unitedsikhs.org/) | [Cancer Support](http://www.macmillan.org.uk/Home.aspx) | [Operation Fistula](http://www.opfistula.org/donate/)\\n[BitGive Foundation](http://bitgivefoundation.org/donate-now/) | [WikiLeaks](https://shop.wikileaks.org/donate#dbitcoin) | [Hotspot Community Resource Center](http://www.seatoskycommunity.org/donate/)\\n[Antiwar.com](http://www.antiwar.com) | [Free Software Foundation](https://my.fsf.org/civicrm/contribute/transact?reset=1&amp;amp;id=14) | [Saving Girls](http://www.savinginnocence.org/) | [Electric Frontier Foundation](https://supporters.eff.org/donate) | [Reporters Without Borders](http://en.rsf.org/)\\n[The Tenth Amendment Center](http://shop.tenthamendmentcenter.com/product/pledge/) | [Young Minds](http://www.youngminds.org.uk/) | [The Bitcoin Foundation](https://bitcoinfoundation.org/donate/)\\n[GPG Project](https://www.wauland.de/en/donation.html#61) | [Apache Software Foundation](http://www.apache.org/foundation/contributing.html) | [The Food Democracy](http://www.fooddemocracynow.org/)\\n[Skateistan](http://skateistan.org/) | [Ronald McDonald House Charities of the Capital Region](http://www.rmhcofalbany.org/) | [Catalyst Foundation](http://www.catalystfoundation.org/) \\n[Dark Wallet](https://www.darkwallet.is/) | [Sea Shepherd](https://www.seashepherd.org.au/support-us/support-us.html) | [Kitty Safe Haven](http://www.kittysafehaven.org)\\n[Tempe Bicycle Action Group](http://www.biketempe.org) | [Free Ross](http://freeross.org/donate-now-2/) | [Charity Water](https://www.charitywater.org/) |\\n[Open Bazaar](https://openbazaar.org/) | [Krono Labs](https://www.kronolabs.com/) | [The Northern California DX Foundation](http://ncdxf.org/pages/contribute.html) |\\n[Calgary Womens Centre](http://www.womenscentrecalgary.org/donate/donate-with-bitcoin/) | [Pathways Canada](http://www.pathwayscanada.ca/bitcoin) | [Help Rescue Animals](http://ru4mepetrescue.rescuegroups.org/info/donate) |\\n[Pathways To Education](http://pathwaystoeducation.ca/) | [Exponential Education](http://www.exponentialeducationprogram.org/) | [Peace Geeks](http://peacegeeks.org/) |\\n[Abolitionist Law Centre](http://abolitionistlawcenter.org/) | [100%](http://100percent.org.nz/) | [Epic Change](http://epicchangeblog.org/)\\n| [Generations Of Hope](http://www.generationsofhope.org/donate/) | [Methuselah Foundation](http://mfoundation.org/) | [SETI](http://setiathome.berkeley.edu/sah_donate.php) \\n| [Bitcoins Not Bombs](http://www.bitcoinnotbombs.com/projects/hoodie-the-homeless/) | [Erowid](https://www.erowid.org/donations/donations_cryptocurrency.php) | [World Builders](https://twitter.com/worldbuilders_) \\n| [Wau Holland Foundation](https://www.wauland.de/en/donation.html#61) | [Rise up](https://help.riseup.net/en/donate#bitcoin) | [World Aid](https://worldaid.org/donations-for-homeless-children/) \\n| [Pathways To Education](http://www.pathwaystoeducation.ca/bitcoin) | www.awanj.org | [Solar Cookers](http://www.solarcookers.org/donate/giving-options/) \\n| [Project Free State](https://freestateproject.org/donate) |\",\n",
       " \"Tipping / Giving Tuesdays - Time to spread the love! :D - First 750 comments get some bitcoin! **SOME TIPPING [SUGGESTIONS](https://www.reddit.com/r/changetip/wiki/suggestions)**\\n\\nWill do it like last time... Those of you who submit great charities or causes that need donations will receive higher gifts from me and have it added to this text! :D\\n\\nThose of you who just want the charity of your own pockets to expand still say Hi :) 100 bits for the first **750** comments!\\n\\n**### PLEASE CONSIDER PASSING MY TIPS ON TO OTHERS OR CHARITIES :D ###**\\n\\n**If the older members spot fake accounts trying to take the charity and twist it for their own selfish reasons - please feel free to down vote it or comment and you will be awarded a bounty! XD**\\n\\n**DONE FOR NOW GUYS WILL TOP UP THE LAST FEW LATER - WILL BUMP THE COMMENT CUT OFF POINT TO 800 NEXT WEEK AND +50 EVERY WEEK AFTER - GOOD NIGHT!**\\n\\n| | | |\\n|-|-|-|\\n[The Water Project](http://thewaterproject.org/donate-bitcoin) | [The Internet Archive](https://archive.org/donate/bitcoin.php) | [Tor Exit Nodes](http://enn.lu/donate/bitcoin)\\n[Wikimedia](http://wikimediafoundation.org/wiki/Ways_to_Give#bitcoin) | [Aphasia Institute](http://www.aphasia.ca) | [GPG Tools](https://gpgtools.org/donate.html)\\n[Seans Outpost](http://www.seansoutpost.com/) | [Water Aid](http://www.wateraid.org/uk) | [Technology for kids](http://one.laptop.org/) | [Edward Snowden Defense](https://www.freesnowden.is/) | \\n[The TOR Project](https://www.torproject.org/) | [Candian Down Syndrome Society](http://www.cdss.ca)| [Tails](https://tails.boum.org/contribute/how/donate/#bitcoin) | [Childs Play](http://www.childsplaycharity.org) | [War Child](http://www.warchild.ca/bitcoin) | [Blender Open Source](http://www.blender.org/foundation/donation-payment/)\\n[RNLI](https://rnli.org/howtosupportus/donatenow/Pages/bitcoin.aspx?utm_source=rnli-website-redirect&amp;amp;utm_medium=vanity-urls&amp;amp;utm_campaign=bitcoin) | [Khan Academy](https://www.khanacademy.org/donate) | [Alzeimer's Association](http://www.alz.org)\\n[Save The Trees](http://www.evergreen.ca/en/) | [New Technology to Cure Hunger](http://www.new-harvest.org/) | [Ending Poverty](http://ajws.org/)\\n[Save The Seas](http://www.seashepherd.org/) | [Without Regrets](http://www.withoutregrets.org/) | [Make a millionaire](https://np.reddit.com/r/millionairemakers/comments/2q9ung/santa_is_real_thank_you_all_so_much_i_am_still_in/) | [Protect The Earth](http://www.generationgreen.com/) | [Doctors of the World UK](http://www.doctorsoftheworld.org.uk)\\n[Songs Of Love](http://www.songsoflove.org/bitcoins/) | [Non-Profit Tech Resources](http://ntrweb.org/support-ntr/#bitcoin) | [Fight Cancer](http://donate.thon.org/)\\n[Bitcoin Research Comparables](http://suitpossum.blogspot.co.uk/2014/12/academic-bitcoin-research.html) | [United Way](http://www.unitedway.org/pages/donate-bitcoin-to-united-way) | [Engineers without Borders](https://ssl.charityweb.net/ewbusa/)\\n[MAPS](http://maps.org/) | [Mesothelioma Research](http://www.curemeso.org/site/c.duIWJfNQKiL8G/b.9195907/k.6887/Bitcoin_Donation_Form.htm) | [Bone Marrow Help](http://www.bethematch.org/) | [Bitcoin Against Ebola](https://bitcoinagainstebola.org/#!/) | [Childrens Medical Center of Dallas](https://give.childrens.com/)\\n[Education](http://www.pathwaystoeducation.ca/) | [The Planetary Society](http://www.planetary.org/become-a-member/other-ways-to-give/donate-bitcoin.html) | [Bread For The City](http://www.breadforthecity.org/bitcoin-donation-page/) |\\n[Give A Mile](http://giveamile.org/donate/) | [Stop Domestic Violence](http://sigilsocial.org/donate/) | [Fight Malaria](https://www.againstmalaria.com/) | [Help Foster Kids](http://www.generationsofhope.org/donate/) | [Womens Centre](http://www.womenscentrecalgary.org/donate/donate-with-bitcoin/) | [Save The Children Ebola Fund](https://bitpay.com/615074/donate) | [OK Foster Wishes](http://www.okfosterwishes.com/)\\n[Legalise Marijuana](http://dcmj.org/donate/) | [Anza](http://www.anza.co.com/) | [Help Kids](https://www.helpsdkids.org/donate)\\n[LibreOffice](http://www.libreoffice.org/donate/) | [Mozilla Foundation](https://sendto.mozilla.org/page/content/give-bitcoin/) | [Darkcoin Foundation](https://www.darkcoinfoundation.org/)\\n[United Sikhs](http://unitedsikhs.org/) | [Cancer Support](http://www.macmillan.org.uk/Home.aspx) | [Operation Fistula](http://www.opfistula.org/donate/)\\n[BitGive Foundation](http://bitgivefoundation.org/donate-now/) | [WikiLeaks](https://shop.wikileaks.org/donate#dbitcoin) | [Hotspot Community Resource Center](http://www.seatoskycommunity.org/donate/)\\n[Antiwar.com](http://www.antiwar.com) | [Free Software Foundation](https://my.fsf.org/civicrm/contribute/transact?reset=1&amp;amp;id=14) | [Saving Girls](http://www.savinginnocence.org/) | [Electric Frontier Foundation](https://supporters.eff.org/donate) | [Reporters Without Borders](http://en.rsf.org/)\\n[The Tenth Amendment Center](http://shop.tenthamendmentcenter.com/product/pledge/) | [Young Minds](http://www.youngminds.org.uk/) | [The Bitcoin Foundation](https://bitcoinfoundation.org/donate/)\\n[GPG Project](https://www.wauland.de/en/donation.html#61) | [Apache Software Foundation](http://www.apache.org/foundation/contributing.html) | [The Food Democracy](http://www.fooddemocracynow.org/)\\n[Skateistan](http://skateistan.org/) | [Ronald McDonald House Charities of the Capital Region](http://www.rmhcofalbany.org/) | [Catalyst Foundation](http://www.catalystfoundation.org/) \\n[Dark Wallet](https://www.darkwallet.is/) | [Sea Shepherd](https://www.seashepherd.org.au/support-us/support-us.html) | [Kitty Safe Haven](http://www.kittysafehaven.org)\\n[Tempe Bicycle Action Group](http://www.biketempe.org) | [Free Ross](http://freeross.org/donate-now-2/) | [Charity Water](https://www.charitywater.org/) |\\n[Open Bazaar](https://openbazaar.org/) | [Krono Labs](https://www.kronolabs.com/) | [The Northern California DX Foundation](http://ncdxf.org/pages/contribute.html) |\\n[Calgary Womens Centre](http://www.womenscentrecalgary.org/donate/donate-with-bitcoin/) | [Pathways Canada](http://www.pathwayscanada.ca/bitcoin) | [Help Rescue Animals](http://ru4mepetrescue.rescuegroups.org/info/donate) |\\n[Pathways To Education](http://pathwaystoeducation.ca/) | [Exponential Education](http://www.exponentialeducationprogram.org/) | [Peace Geeks](http://peacegeeks.org/) |\\n[Abolitionist Law Centre](http://abolitionistlawcenter.org/) | [100%](http://100percent.org.nz/) | [Epic Change](http://epicchangeblog.org/)\\n| [Generations Of Hope](http://www.generationsofhope.org/donate/) | [Methuselah Foundation](http://mfoundation.org/) | [SETI](http://setiathome.berkeley.edu/sah_donate.php) \\n| [Bitcoins Not Bombs](http://www.bitcoinnotbombs.com/projects/hoodie-the-homeless/) | [Erowid](https://www.erowid.org/donations/donations_cryptocurrency.php) | [World Builders](https://twitter.com/worldbuilders_) |\",\n",
       " \"Tipping / Giving Tuesday is here, first 1000 comments get some Bitcoin! **SOME TIPPING [SUGGESTIONS](https://www.reddit.com/r/changetip/wiki/suggestions)**\\n\\n[Millionaire Makers](www.reddit.com/r/millionairemakers)\\n\\nWill do it like last time... Those of you who submit great charities or causes that need donations will receive higher gifts from me and have it added to this text! :D\\n\\nThose of you who just want the charity of your own pockets to expand still say Hi :) 100 bits for the first **1000** comments!\\n\\n**### PLEASE CONSIDER PASSING MY TIPS ON TO OTHERS OR CHARITIES :D ###**\\n\\n**If the older members spot fake accounts trying to take the charity and twist it for their own selfish reasons - please feel free to down vote it or comment and you will be awarded a bounty! XD**\\n\\n\\n\\n| | | |\\n|-|-|-|\\n[The Water Project](http://thewaterproject.org/donate-bitcoin) | [The Bitcoin Movement](http://thebitcoinmovement.com/donate-2/) |[The Internet Archive](https://archive.org/donate/bitcoin.php) | [Tor Exit Nodes](http://enn.lu/donate/bitcoin)\\n[Wikimedia](http://wikimediafoundation.org/wiki/Ways_to_Give#bitcoin) | [Aphasia Institute](http://www.aphasia.ca) | [GPG Tools](https://gpgtools.org/donate.html)\\n[Seans Outpost](http://www.seansoutpost.com/) | [Water Aid](http://www.wateraid.org/uk) | [Technology for kids](http://one.laptop.org/) | [Edward Snowden Defense](https://www.freesnowden.is/) | \\n[The TOR Project](https://www.torproject.org/) | [Candian Down Syndrome Society](http://www.cdss.ca)| [Tails](https://tails.boum.org/contribute/how/donate/#bitcoin) | [Childs Play](http://www.childsplaycharity.org) | [War Child](http://www.warchild.ca/bitcoin) | [Blender Open Source](http://www.blender.org/foundation/donation-payment/)\\n[RNLI](https://rnli.org/howtosupportus/donatenow/Pages/bitcoin.aspx?utm_source=rnli-website-redirect&amp;amp;utm_medium=vanity-urls&amp;amp;utm_campaign=bitcoin) | [Khan Academy](https://www.khanacademy.org/donate) | [Alzeimer's Association](http://www.alz.org)\\n[Save The Trees](http://www.evergreen.ca/en/) | [New Technology to Cure Hunger](http://www.new-harvest.org/) | [Ending Poverty](http://ajws.org/)\\n[Save The Seas](http://www.seashepherd.org/) | [Without Regrets](http://www.withoutregrets.org/) | [Make a millionaire](https://np.reddit.com/r/millionairemakers/comments/2q9ung/santa_is_real_thank_you_all_so_much_i_am_still_in/) | [Protect The Earth](http://www.generationgreen.com/) | [Doctors of the World UK](http://www.doctorsoftheworld.org.uk)\\n[Songs Of Love](http://www.songsoflove.org/bitcoins/) | [Non-Profit Tech Resources](http://ntrweb.org/support-ntr/#bitcoin) | [Fight Cancer](http://donate.thon.org/)\\n[Bitcoin Research Comparables](http://suitpossum.blogspot.co.uk/2014/12/academic-bitcoin-research.html) | [United Way](http://www.unitedway.org/pages/donate-bitcoin-to-united-way) | [Engineers without Borders](https://ssl.charityweb.net/ewbusa/)\\n[MAPS](http://maps.org/) | [Mesothelioma Research](http://www.curemeso.org/site/c.duIWJfNQKiL8G/b.9195907/k.6887/Bitcoin_Donation_Form.htm) | [Bone Marrow Help](http://www.bethematch.org/) | [Bitcoin Against Ebola](https://bitcoinagainstebola.org/#!/) | [Childrens Medical Center of Dallas](https://give.childrens.com/)\\n[Education](http://www.pathwaystoeducation.ca/) | [The Planetary Society](http://www.planetary.org/become-a-member/other-ways-to-give/donate-bitcoin.html) | [Bread For The City](http://www.breadforthecity.org/bitcoin-donation-page/) |\\n[Give A Mile](http://giveamile.org/donate/) | [Stop Domestic Violence](http://sigilsocial.org/donate/) | [Fight Malaria](https://www.againstmalaria.com/) | [Help Foster Kids](http://www.generationsofhope.org/donate/) | [Womens Centre](http://www.womenscentrecalgary.org/donate/donate-with-bitcoin/) | [Save The Children Ebola Fund](https://bitpay.com/615074/donate) | [OK Foster Wishes](http://www.okfosterwishes.com/)\\n[Legalise Marijuana](http://dcmj.org/donate/) | [Anza](http://www.anza.co.com/) | [Help Kids](https://www.helpsdkids.org/donate)\\n[LibreOffice](http://www.libreoffice.org/donate/) | [Mozilla Foundation](https://sendto.mozilla.org/page/content/give-bitcoin/) | [Darkcoin Foundation](https://www.darkcoinfoundation.org/)\\n[United Sikhs](http://unitedsikhs.org/) | [Cancer Support](http://www.macmillan.org.uk/Home.aspx) | [Operation Fistula](http://www.opfistula.org/donate/)\\n[BitGive Foundation](http://bitgivefoundation.org/donate-now/) | [WikiLeaks](https://shop.wikileaks.org/donate#dbitcoin) | [Hotspot Community Resource Center](http://www.seatoskycommunity.org/donate/)\\n[Antiwar.com](http://www.antiwar.com) | [Free Software Foundation](https://my.fsf.org/civicrm/contribute/transact?reset=1&amp;amp;id=14) | [Saving Girls](http://www.savinginnocence.org/) | [Electric Frontier Foundation](https://supporters.eff.org/donate) | [Reporters Without Borders](http://en.rsf.org/)\\n[The Tenth Amendment Center](http://shop.tenthamendmentcenter.com/product/pledge/) | [Young Minds](http://www.youngminds.org.uk/) | [The Bitcoin Foundation](https://bitcoinfoundation.org/donate/)\\n[GPG Project](https://www.wauland.de/en/donation.html#61) | [Apache Software Foundation](http://www.apache.org/foundation/contributing.html) | [The Food Democracy](http://www.fooddemocracynow.org/)\\n[Skateistan](http://skateistan.org/) | [Ronald McDonald House Charities of the Capital Region](http://www.rmhcofalbany.org/) | [Catalyst Foundation](http://www.catalystfoundation.org/) \\n[Dark Wallet](https://www.darkwallet.is/) | [Sea Shepherd](https://www.seashepherd.org.au/support-us/support-us.html) | [Kitty Safe Haven](http://www.kittysafehaven.org)\\n[Tempe Bicycle Action Group](http://www.biketempe.org) | [Free Ross](http://freeross.org/donate-now-2/) | [Charity Water](https://www.charitywater.org/) |\\n[Open Bazaar](https://openbazaar.org/) | [Krono Labs](https://www.kronolabs.com/) | [The Northern California DX Foundation](http://ncdxf.org/pages/contribute.html) |\\n[Calgary Womens Centre](http://www.womenscentrecalgary.org/donate/donate-with-bitcoin/) | [Pathways Canada](http://www.pathwayscanada.ca/bitcoin) | [Help Rescue Animals](http://ru4mepetrescue.rescuegroups.org/info/donate) |\\n[Pathways To Education](http://pathwaystoeducation.ca/) | [Exponential Education](http://www.exponentialeducationprogram.org/) | [Peace Geeks](http://peacegeeks.org/) |\\n[Abolitionist Law Centre](http://abolitionistlawcenter.org/) | [100%](http://100percent.org.nz/) | [Epic Change](http://epicchangeblog.org/)\\n| [Generations Of Hope](http://www.generationsofhope.org/donate/) | [Methuselah Foundation](http://mfoundation.org/) | [SETI](http://setiathome.berkeley.edu/sah_donate.php) \\n| [Bitcoins Not Bombs](http://www.bitcoinnotbombs.com/projects/hoodie-the-homeless/) | [Erowid](https://www.erowid.org/donations/donations_cryptocurrency.php) | [World Builders](https://twitter.com/worldbuilders_) \\n| [Wau Holland Foundation](https://www.wauland.de/en/donation.html#61) | [Rise up](https://help.riseup.net/en/donate#bitcoin) | [World Aid](https://worldaid.org/donations-for-homeless-children/) \\n| [Pathways To Education](http://www.pathwaystoeducation.ca/bitcoin) | www.awanj.org | [Solar Cookers](http://www.solarcookers.org/donate/giving-options/) \\n| [Project Free State](https://freestateproject.org/donate) |\",\n",
       " 'Wanderwierd is now accepting bitcoins for his book Remember http://i.imgur.com/yGJrvGWh.jpg  \\n\\nhttp://m.imgur.com/a/I5VVg#0 \\n\\nwww.wanderweird.com/rememberpages.html',\n",
       " \"Tipping / Giving Tuesday - first 1000 comments get free Bitcoin! **SOME TIPPING [SUGGESTIONS](https://www.reddit.com/r/changetip/wiki/suggestions)**\\n\\nWill do it like last time... Those of you who submit great charities or causes that need donations will receive higher gifts from me and have it added to this text! :D\\n\\nThose of you who just want the charity of your own pockets to expand still say Hi :) 100 bits for the first **1000** comments!\\n\\n**### PLEASE CONSIDER PASSING MY TIPS ON TO OTHERS OR CHARITIES :D ###**\\n\\n**If the older members spot fake accounts trying to take the charity and twist it for their own selfish reasons - please feel free to down vote it or comment and you will be awarded a bounty! XD**\\n\\n\\n\\n| | | |\\n|-|-|-|\\n[The Water Project](http://thewaterproject.org/donate-bitcoin) | [The Bitcoin Movement](http://thebitcoinmovement.com/donate-2/) |[The Internet Archive](https://archive.org/donate/bitcoin.php) | [Tor Exit Nodes](http://enn.lu/donate/bitcoin)\\n[Wikimedia](http://wikimediafoundation.org/wiki/Ways_to_Give#bitcoin) | [Aphasia Institute](http://www.aphasia.ca) | [GPG Tools](https://gpgtools.org/donate.html)\\n[Seans Outpost](http://www.seansoutpost.com/) | [Water Aid](http://www.wateraid.org/uk) | [Technology for kids](http://one.laptop.org/) | [Edward Snowden Defense](https://www.freesnowden.is/) | \\n[The TOR Project](https://www.torproject.org/) | [Candian Down Syndrome Society](http://www.cdss.ca)| [Tails](https://tails.boum.org/contribute/how/donate/#bitcoin) | [Childs Play](http://www.childsplaycharity.org) | [War Child](http://www.warchild.ca/bitcoin) | [Blender Open Source](http://www.blender.org/foundation/donation-payment/)\\n[RNLI](https://rnli.org/howtosupportus/donatenow/Pages/bitcoin.aspx?utm_source=rnli-website-redirect&amp;amp;utm_medium=vanity-urls&amp;amp;utm_campaign=bitcoin) | [Khan Academy](https://www.khanacademy.org/donate) | [Alzeimer's Association](http://www.alz.org)\\n[Save The Trees](http://www.evergreen.ca/en/) | [New Technology to Cure Hunger](http://www.new-harvest.org/) | [Ending Poverty](http://ajws.org/)\\n[Save The Seas](http://www.seashepherd.org/) | [Without Regrets](http://www.withoutregrets.org/) | [Make a millionaire](https://np.reddit.com/r/millionairemakers/comments/2q9ung/santa_is_real_thank_you_all_so_much_i_am_still_in/) | [Protect The Earth](http://www.generationgreen.com/) | [Doctors of the World UK](http://www.doctorsoftheworld.org.uk)\\n[Songs Of Love](http://www.songsoflove.org/bitcoins/) | [Non-Profit Tech Resources](http://ntrweb.org/support-ntr/#bitcoin) | [Fight Cancer](http://donate.thon.org/)\\n[Bitcoin Research Comparables](http://suitpossum.blogspot.co.uk/2014/12/academic-bitcoin-research.html) | [United Way](http://www.unitedway.org/pages/donate-bitcoin-to-united-way) | [Engineers without Borders](https://ssl.charityweb.net/ewbusa/)\\n[MAPS](http://maps.org/) | [Mesothelioma Research](http://www.curemeso.org/site/c.duIWJfNQKiL8G/b.9195907/k.6887/Bitcoin_Donation_Form.htm) | [Bone Marrow Help](http://www.bethematch.org/) | [Bitcoin Against Ebola](https://bitcoinagainstebola.org/#!/) | [Childrens Medical Center of Dallas](https://give.childrens.com/)\\n[Education](http://www.pathwaystoeducation.ca/) | [The Planetary Society](http://www.planetary.org/become-a-member/other-ways-to-give/donate-bitcoin.html) | [Bread For The City](http://www.breadforthecity.org/bitcoin-donation-page/) |\\n[Give A Mile](http://giveamile.org/donate/) | [Stop Domestic Violence](http://sigilsocial.org/donate/) | [Fight Malaria](https://www.againstmalaria.com/) | [Help Foster Kids](http://www.generationsofhope.org/donate/) | [Womens Centre](http://www.womenscentrecalgary.org/donate/donate-with-bitcoin/) | [Save The Children Ebola Fund](https://bitpay.com/615074/donate) | [OK Foster Wishes](http://www.okfosterwishes.com/)\\n[Legalise Marijuana](http://dcmj.org/donate/) | [Anza](http://www.anza.co.com/) | [Help Kids](https://www.helpsdkids.org/donate)\\n[LibreOffice](http://www.libreoffice.org/donate/) | [Mozilla Foundation](https://sendto.mozilla.org/page/content/give-bitcoin/) | [Darkcoin Foundation](https://www.darkcoinfoundation.org/)\\n[United Sikhs](http://unitedsikhs.org/) | [Cancer Support](http://www.macmillan.org.uk/Home.aspx) | [Operation Fistula](http://www.opfistula.org/donate/)\\n[BitGive Foundation](http://bitgivefoundation.org/donate-now/) | [WikiLeaks](https://shop.wikileaks.org/donate#dbitcoin) | [Hotspot Community Resource Center](http://www.seatoskycommunity.org/donate/)\\n[Antiwar.com](http://www.antiwar.com) | [Free Software Foundation](https://my.fsf.org/civicrm/contribute/transact?reset=1&amp;amp;id=14) | [Saving Girls](http://www.savinginnocence.org/) | [Electric Frontier Foundation](https://supporters.eff.org/donate) | [Reporters Without Borders](http://en.rsf.org/)\\n[The Tenth Amendment Center](http://shop.tenthamendmentcenter.com/product/pledge/) | [Young Minds](http://www.youngminds.org.uk/) | [The Bitcoin Foundation](https://bitcoinfoundation.org/donate/)\\n[GPG Project](https://www.wauland.de/en/donation.html#61) | [Apache Software Foundation](http://www.apache.org/foundation/contributing.html) | [The Food Democracy](http://www.fooddemocracynow.org/)\\n[Skateistan](http://skateistan.org/) | [Ronald McDonald House Charities of the Capital Region](http://www.rmhcofalbany.org/) | [Catalyst Foundation](http://www.catalystfoundation.org/) \\n[Dark Wallet](https://www.darkwallet.is/) | [Sea Shepherd](https://www.seashepherd.org.au/support-us/support-us.html) | [Kitty Safe Haven](http://www.kittysafehaven.org)\\n[Tempe Bicycle Action Group](http://www.biketempe.org) | [Free Ross](http://freeross.org/donate-now-2/) | [Charity Water](https://www.charitywater.org/) |\\n[Open Bazaar](https://openbazaar.org/) | [Krono Labs](https://www.kronolabs.com/) | [The Northern California DX Foundation](http://ncdxf.org/pages/contribute.html) |\\n[Calgary Womens Centre](http://www.womenscentrecalgary.org/donate/donate-with-bitcoin/) | [Pathways Canada](http://www.pathwayscanada.ca/bitcoin) | [Help Rescue Animals](http://ru4mepetrescue.rescuegroups.org/info/donate) |\\n[Pathways To Education](http://pathwaystoeducation.ca/) | [Exponential Education](http://www.exponentialeducationprogram.org/) | [Peace Geeks](http://peacegeeks.org/) |\\n[Abolitionist Law Centre](http://abolitionistlawcenter.org/) | [100%](http://100percent.org.nz/) | [Epic Change](http://epicchangeblog.org/)\\n| [Generations Of Hope](http://www.generationsofhope.org/donate/) | [Methuselah Foundation](http://mfoundation.org/) | [SETI](http://setiathome.berkeley.edu/sah_donate.php) \\n| [Bitcoins Not Bombs](http://www.bitcoinnotbombs.com/projects/hoodie-the-homeless/) | [Erowid](https://www.erowid.org/donations/donations_cryptocurrency.php) | [World Builders](https://twitter.com/worldbuilders_) \\n| [Wau Holland Foundation](https://www.wauland.de/en/donation.html#61) | [Rise up](https://help.riseup.net/en/donate#bitcoin) | [World Aid](https://worldaid.org/donations-for-homeless-children/) \\n| [Pathways To Education](http://www.pathwaystoeducation.ca/bitcoin) | www.awanj.org | [Solar Cookers](http://www.solarcookers.org/donate/giving-options/) \\n| [Project Free State](https://freestateproject.org/donate) |\",\n",
       " 'Visually Follow Funds From Bter.com Hack [Flow Visualization](http://i.imgur.com/eiXjMMr.png)\\n[Tracker Tool](http://tracker.coinalytics.co/)',\n",
       " \"Tipping / Giving Tuesdays - first 1000 comments get some free bitcoin! (Please consider passing it on!) **SOME TIPPING [SUGGESTIONS](https://www.reddit.com/r/changetip/wiki/suggestions)**\\n\\n**IF ANYONE WOULD CONSIDER ORGANIZING THESE TABLES INTO CATEGORIES PLEASE MESSAGE ME FOR COMPENSATION PRIVATELY**\\n\\nWill do it like last time... Those of you who submit great charities or causes that need donations will receive higher gifts from me and have it added to this text! :D\\n\\nThose of you who just want the charity of your own pockets to expand still say Hi :) 100 bits for the first **1000** comments!\\n\\n**### PLEASE CONSIDER PASSING MY TIPS ON TO OTHERS OR CHARITIES :D ###**\\n\\n**If the older members spot fake accounts trying to take the charity and twist it for their own selfish reasons - please feel free to down vote it or comment and you will be awarded a bounty! XD**\\n\\n| | | |\\n|-|-|-|\\n[The Water Project](http://thewaterproject.org/donate-bitcoin) | [The Bitcoin Movement](http://thebitcoinmovement.com/donate-2/) |[The Internet Archive](https://archive.org/donate/bitcoin.php) | [Tor Exit Nodes](http://enn.lu/donate/bitcoin)\\n[Wikimedia](http://wikimediafoundation.org/wiki/Ways_to_Give#bitcoin) | [Aphasia Institute](http://www.aphasia.ca) | [GPG Tools](https://gpgtools.org/donate.html)\\n[Seans Outpost](http://www.seansoutpost.com/) | [Water Aid](http://www.wateraid.org/uk) | [Technology for kids](http://one.laptop.org/) | [Edward Snowden Defense](https://www.freesnowden.is/) | \\n[The TOR Project](https://www.torproject.org/) | [Candian Down Syndrome Society](http://www.cdss.ca)| [Tails](https://tails.boum.org/contribute/how/donate/#bitcoin) | [Childs Play](http://www.childsplaycharity.org) | [War Child](http://www.warchild.ca/bitcoin) | [Blender Open Source](http://www.blender.org/foundation/donation-payment/)\\n[RNLI](https://rnli.org/howtosupportus/donatenow/Pages/bitcoin.aspx?utm_source=rnli-website-redirect&amp;amp;utm_medium=vanity-urls&amp;amp;utm_campaign=bitcoin) | [Khan Academy](https://www.khanacademy.org/donate) | [Alzeimer's Association](http://www.alz.org)\\n[Save The Trees](http://www.evergreen.ca/en/) | [New Technology to Cure Hunger](http://www.new-harvest.org/) | [Ending Poverty](http://ajws.org/)\\n[Save The Seas](http://www.seashepherd.org/) | [Without Regrets](http://www.withoutregrets.org/) | [Watsi](https://watsi.org/) | [Doctors of the World UK](http://www.doctorsoftheworld.org.uk)\\n[Songs Of Love](http://www.songsoflove.org/bitcoins/) | [Non-Profit Tech Resources](http://ntrweb.org/support-ntr/#bitcoin) | [Fight Cancer](http://donate.thon.org/)\\n[Bitcoin Research Comparables](http://suitpossum.blogspot.co.uk/2014/12/academic-bitcoin-research.html) | [United Way](http://www.unitedway.org/pages/donate-bitcoin-to-united-way) | [Engineers without Borders](https://ssl.charityweb.net/ewbusa/)\\n[MAPS](http://maps.org/) | [Mesothelioma Research](http://www.curemeso.org/site/c.duIWJfNQKiL8G/b.9195907/k.6887/Bitcoin_Donation_Form.htm) | [Bone Marrow Help](http://www.bethematch.org/) | [Bitcoin Against Ebola](https://bitcoinagainstebola.org/#!/) | [Childrens Medical Center of Dallas](https://give.childrens.com/)\\n[Education](http://www.pathwaystoeducation.ca/) | [The Planetary Society](http://www.planetary.org/become-a-member/other-ways-to-give/donate-bitcoin.html) | [Bread For The City](http://www.breadforthecity.org/bitcoin-donation-page/) |\\n[Give A Mile](http://giveamile.org/donate/) | [Stop Domestic Violence](http://sigilsocial.org/donate/) | [Fight Malaria](https://www.againstmalaria.com/) | [Help Foster Kids](http://www.generationsofhope.org/donate/) | [Womens Centre](http://www.womenscentrecalgary.org/donate/donate-with-bitcoin/) | [Save The Children Ebola Fund](https://bitpay.com/615074/donate) | [OK Foster Wishes](http://www.okfosterwishes.com/)\\n[Legalise Marijuana](http://dcmj.org/donate/) | [Anza](http://www.anza.co.com/) | [Help Kids](https://www.helpsdkids.org/donate)\\n[LibreOffice](http://www.libreoffice.org/donate/) | [Mozilla Foundation](https://sendto.mozilla.org/page/content/give-bitcoin/) | [Darkcoin Foundation](https://www.darkcoinfoundation.org/)\\n[United Sikhs](http://unitedsikhs.org/) | [Cancer Support](http://www.macmillan.org.uk/Home.aspx) | [Operation Fistula](http://www.opfistula.org/donate/)\\n[BitGive Foundation](http://bitgivefoundation.org/donate-now/) | [WikiLeaks](https://shop.wikileaks.org/donate#dbitcoin) | [Hotspot Community Resource Center](http://www.seatoskycommunity.org/donate/)\\n[Antiwar.com](http://www.antiwar.com) | [Free Software Foundation](https://my.fsf.org/civicrm/contribute/transact?reset=1&amp;amp;id=14) | [Saving Girls](http://www.savinginnocence.org/) | [Electric Frontier Foundation](https://supporters.eff.org/donate) | [Reporters Without Borders](http://en.rsf.org/)\\n[The Tenth Amendment Center](http://shop.tenthamendmentcenter.com/product/pledge/) | [Young Minds](http://www.youngminds.org.uk/) | [The Bitcoin Foundation](https://bitcoinfoundation.org/donate/)\\n[GPG Project](https://www.wauland.de/en/donation.html#61) | [Apache Software Foundation](http://www.apache.org/foundation/contributing.html) | [The Food Democracy](http://www.fooddemocracynow.org/)\\n[Skateistan](http://skateistan.org/) | [Ronald McDonald House Charities of the Capital Region](http://www.rmhcofalbany.org/) | [Catalyst Foundation](http://www.catalystfoundation.org/) \\n[Dark Wallet](https://www.darkwallet.is/) | [Sea Shepherd](https://www.seashepherd.org.au/support-us/support-us.html) | [Kitty Safe Haven](http://www.kittysafehaven.org)\\n[Tempe Bicycle Action Group](http://www.biketempe.org) | [Free Ross](http://freeross.org/donate-now-2/) | [Charity Water](https://www.charitywater.org/) |\\n[Open Bazaar](https://openbazaar.org/) | [Krono Labs](https://www.kronolabs.com/) | [The Northern California DX Foundation](http://ncdxf.org/pages/contribute.html) |\\n[Calgary Womens Centre](http://www.womenscentrecalgary.org/donate/donate-with-bitcoin/) | [Pathways Canada](http://www.pathwayscanada.ca/bitcoin) | [Help Rescue Animals](http://ru4mepetrescue.rescuegroups.org/info/donate) |\\n[Pathways To Education](http://pathwaystoeducation.ca/) | [Exponential Education](http://www.exponentialeducationprogram.org/) | [Peace Geeks](http://peacegeeks.org/) |\\n[Abolitionist Law Centre](http://abolitionistlawcenter.org/) | [100%](http://100percent.org.nz/) | [Epic Change](http://epicchangeblog.org/)\\n| [Generations Of Hope](http://www.generationsofhope.org/donate/) | [Methuselah Foundation](http://mfoundation.org/) | [SETI](http://setiathome.berkeley.edu/sah_donate.php) \\n| [Bitcoins Not Bombs](http://www.bitcoinnotbombs.com/projects/hoodie-the-homeless/) | [Erowid](https://www.erowid.org/donations/donations_cryptocurrency.php) | [World Builders](https://twitter.com/worldbuilders_) \\n| [Wau Holland Foundation](https://www.wauland.de/en/donation.html#61) | [Rise up](https://help.riseup.net/en/donate#bitcoin) | [World Aid](https://worldaid.org/donations-for-homeless-children/) \\n| [Pathways To Education](http://www.pathwaystoeducation.ca/bitcoin) | www.awanj.org | [Solar Cookers](http://www.solarcookers.org/donate/giving-options/) \\n| [Project Free State](https://freestateproject.org/donate) | [Blender Open Source](http://www.blender.org/foundation/history/) | www.coincenter.org |\\n| [Reef Check](http://reefcheck.org/news/news_detail.php?id=1051) |\",\n",
       " 'Not much activity http://www.marketwatch.com/investing/stock/btcv',\n",
       " 'So, my friends made this to me. thanks.\\nme\\nhttp://imgur.com/nhurlbx\\n\\nmy friends\\nhttp://imgur.com/EN8ReP4\\n',\n",
       " 'Intel Labs is posting some interesting jobs related to BTC & distributed systems... https://coinality.com/jobs/distributed-systems-researcher-intel-hillsboro-or/\\n\\nhttps://coinality.com/jobs/cryptographic-researcher-intel-hillsboro-or/\\n\\nhttps://coinality.com/jobs/market-research-intern-intel-labs-intel-hillsboro-or/',\n",
       " \"Tipping / Giving Tuesday - first 1000 comments get free bitcoin - stop in and say hi! **SOME TIPPING [SUGGESTIONS](https://www.reddit.com/r/changetip/wiki/suggestions)**\\n\\nWill do it like last time... Those of you who submit great charities or causes that need donations will receive higher gifts from me and have it added to this text! :D\\n\\nThose of you who just want the charity of your own pockets to expand still say Hi :) **100-1000 bits** for the first **1000** comments!\\n\\n**### PLEASE CONSIDER PASSING MY TIPS ON TO OTHERS OR CHARITIES :D ###**\\n\\n##Charities Accepting Bitcoin##\\n- **Public Services**\\n\\n\\n [RNLI](https://rnli.org/howtosupportus/donatenow/Pages/bitcoin.aspx?utm_source=rnli-website-redirect&amp;amp;utm_medium=vanity-urls&amp;amp;utm_campaign=bitcoin) | [Bread For The City](http://www.breadforthecity.org/bitcoin-donation-page/) |\\n[Give A Mile](http://giveamile.org/donate/) | [Legalise Marijuana](http://dcmj.org/donate/) | [Hotspot Community Resource Center](http://www.seatoskycommunity.org/donate/) |\\n[Antiwar.com](http://www.antiwar.com) | [Tempe Bicycle Action Group](http://www.biketempe.org) | [Free Ross](http://freeross.org/donate-now-2/) | \\n\\n- **Social Services**\\n\\n [Stop Domestic Violence](http://sigilsocial.org/donate/) | [Anza](http://www.anza.co.com/) | [Operation Fistula](http://www.opfistula.org/donate/) | [Free Ross](http://freeross.org/donate-now-2/) | [The Northern California DX Foundation](http://ncdxf.org/pages/contribute.html) | [Calgary Womens Centre](http://www.womenscentrecalgary.org/donate/donate-with-bitcoin/) | [Abolitionist Law Centre](http://abolitionistlawcenter.org/) | [Generations Of Hope](http://www.generationsofhope.org/donate/) | [Bitcoins Not Bombs](http://www.bitcoinnotbombs.com/projects/hoodie-the-homeless/) | [Project Free State](https://freestateproject.org/donate) | [Seans Outpost](http://www.seansoutpost.com/) | [Without Regrets](http://www.withoutregrets.org/) | [Epic Change](http://epicchangeblog.org/) |\\n\\n- **Online Services**\\n\\n [The Bitcoin Movement](http://thebitcoinmovement.com/donate-2/) |[The Internet Archive](https://archive.org/donate/bitcoin.php) | [Tor Exit Nodes](http://enn.lu/donate/bitcoin)\\n[Wikimedia](http://wikimediafoundation.org/wiki/Ways_to_Give#bitcoin) | [The TOR Project](https://www.torproject.org/) | [Bitcoin Research Comparables](http://suitpossum.blogspot.co.uk/2014/12/academic-bitcoin-research.html) | [LibreOffice](http://www.libreoffice.org/donate/) | [Mozilla Foundation](https://sendto.mozilla.org/page/content/give-bitcoin/) | [Darkcoin Foundation](https://www.darkcoinfoundation.org/) | [WikiLeaks](https://shop.wikileaks.org/donate#dbitcoin) | [Free Software Foundation](https://my.fsf.org/civicrm/contribute/transact?reset=1&amp;amp;id=14) | [The Bitcoin Foundation](https://bitcoinfoundation.org/donate/) | [Apache Software Foundation](http://www.apache.org/foundation/contributing.html) | [Dark Wallet](https://www.darkwallet.is/) | \\n\\n- **Health Services**\\n\\n [Tails](https://tails.boum.org/contribute/how/donate/#bitcoin) | [Mesothelioma Research](http://www.curemeso.org/site/c.duIWJfNQKiL8G/b.9195907/k.6887/Bitcoin_Donation_Form.htm) | [BitGive Foundation](http://bitgivefoundation.org/donate-now/) | [SENS](http://sens.org/donate) | [Erowid](https://www.erowid.org/donations/donations_cryptocurrency.php) | [Save The Children Ebola Fund](https://bitpay.com/615074/donate) | \\n\\n- **Education Services**\\n\\n [Khan Academy](https://www.khanacademy.org/donate) | [Non-Profit Tech Resources](http://ntrweb.org/support-ntr/#bitcoin) | [United Way](http://www.unitedway.org/pages/donate-bitcoin-to-united-way) | [The Tenth Amendment Center](http://shop.tenthamendmentcenter.com/product/pledge/) | [Pathways Canada](http://www.pathwayscanada.ca/bitcoin) | [100%](http://100percent.org.nz/) |\\n\\n- **Help the Children**\\n\\n [Songs Of Love](http://www.songsoflove.org/bitcoins/) | [Ronald McDonald House Charities of the Capital Region](http://www.rmhcofalbany.org/) | [World Aid](https://worldaid.org/donations-for-homeless-children/) | \\n\\n- **Other Charities**\\n\\n [The Water Project](http://thewaterproject.org/donate-bitcoin) | [GPG Tools](https://gpgtools.org/donate.html) | [Krono Labs](https://www.kronolabs.com/) | [Rise up](https://help.riseup.net/en/donate#bitcoin) | [New Technology to Cure Hunger](http://www.new-harvest.org/) | [Kitty Safe Haven](http://www.kittysafehaven.org) | [Help Rescue Animals](http://ru4mepetrescue.rescuegroups.org/info/donate) | [Edward Snowden Defense](https://www.freesnowden.is/) |\\n\\n##No Bitcoin? Help these Charities##\\n- **Social Services**\\n  [Ending Poverty](http://ajws.org/) |  [Engineers without Borders](https://ssl.charityweb.net/ewbusa/) | [United Sikhs](http://unitedsikhs.org/) | [Saving Girls](http://www.savinginnocence.org/) | [The Food Democracy](http://www.fooddemocracynow.org/) | [Catalyst Foundation](http://www.catalystfoundation.org/) | [Skateistan](http://skateistan.org/) | [World Builders](https://twitter.com/worldbuilders_) |\\n\\n- **Health Services**\\n [Aphasia Institute](http://www.aphasia.ca) | [Canadian Down Syndrome Society](http://www.cdss.ca)| [Alzeimer's Association](http://www.alz.org) | [Fight Cancer](http://donate.thon.org/) | [MAPS](http://maps.org/) | [Bone Marrow Help](http://www.bethematch.org/) | [Fight Malaria](https://www.againstmalaria.com/) | [Cancer Support](http://www.macmillan.org.uk/Home.aspx) | [Young Minds](http://www.youngminds.org.uk/) | \\n\\n- **Education/Children**\\n [Pathways To Education](http://pathwaystoeducation.ca/) | [Exponential Education](http://www.exponentialeducationprogram.org/) | [Technology for kids](http://one.laptop.org/) |  [Help Kids](https://www.helpsdkids.org/donate) | [Help Foster Kids](http://www.generationsofhope.org/donate/) |  [OK Foster Wishes](http://www.okfosterwishes.com/) |\\n\\n- **Other Charities**\\n\\n\\n\\n [Water Aid](http://www.wateraid.org/uk) | [Charity Water](https://www.charitywater.org/) | [Free Software Foundation](https://my.fsf.org/civicrm/contribute/transact?reset=1&amp;amp;id=14) | [Awanj](www.awanj.org) | [Save The Seas](http://www.seashepherd.org/) | [Save The Trees](http://www.evergreen.ca/en/) | [Peace Geeks](http://peacegeeks.org/) | \\n\",\n",
       " \"Tipping / Giving Tuesdays - first 1000 comments get some free bitcoin! stop in and say hi **SOME TIPPING [SUGGESTIONS](https://www.reddit.com/r/changetip/wiki/suggestions)**\\n\\nThose of you who just want the charity of your own pockets to expand still say Hi :) **100-1000 bits** for the first **1000** comments!\\n\\nSPECIAL THANKS TO **/u/johnybravo42**  FOR HELPING TO ORGANIZE THE LIST - BOUNTY OF 25,000 BITS PAID\\n\\n**### PLEASE CONSIDER PASSING MY TIPS ON TO OTHERS OR CHARITIES :D ###**\\n\\nIf you spot fake accounts trying to take the charity and twist it for their own selfish reasons - please feel free to down vote it/comment and you will be awarded a 500 bit bounty! XD\\n\\n\\n##Charities Accepting Bitcoins##\\n- **Public Services**\\n\\n\\n [RNLI](https://rnli.org/howtosupportus/donatenow/Pages/bitcoin.aspx?utm_source=rnli-website-redirect&amp;amp;utm_medium=vanity-urls&amp;amp;utm_campaign=bitcoin) | [Bread For The City](http://www.breadforthecity.org/bitcoin-donation-page/) |\\n[Give A Mile](http://giveamile.org/donate/) | [Legalise Marijuana](http://dcmj.org/donate/) | [Hotspot Community Resource Center](http://www.seatoskycommunity.org/donate/) |\\n[Antiwar.com](http://www.antiwar.com) | [Tempe Bicycle Action Group](http://www.biketempe.org) | [Free Ross](http://freeross.org/donate-now-2/) | \\n\\n- **Social Services**\\n\\n [Stop Domestic Violence](http://sigilsocial.org/donate/) | [Anza](http://www.anza.co.com/) | [Operation Fistula](http://www.opfistula.org/donate/) | [Free Ross](http://freeross.org/donate-now-2/) | [The Northern California DX Foundation](http://ncdxf.org/pages/contribute.html) | [Calgary Womens Centre](http://www.womenscentrecalgary.org/donate/donate-with-bitcoin/) | [Abolitionist Law Centre](http://abolitionistlawcenter.org/) | [Generations Of Hope](http://www.generationsofhope.org/donate/) | [Bitcoins Not Bombs](http://www.bitcoinnotbombs.com/projects/hoodie-the-homeless/) | [Project Free State](https://freestateproject.org/donate) | [Seans Outpost](http://www.seansoutpost.com/) | [Without Regrets](http://www.withoutregrets.org/) | [Epic Change](http://epicchangeblog.org/) |\\n\\n- **Online Services**\\n\\n [The Bitcoin Movement](http://thebitcoinmovement.com/donate-2/) |[The Internet Archive](https://archive.org/donate/bitcoin.php) | [Tor Exit Nodes](http://enn.lu/donate/bitcoin)\\n[Wikimedia](http://wikimediafoundation.org/wiki/Ways_to_Give#bitcoin) | [The TOR Project](https://www.torproject.org/) | [Make a millionaire](https://np.reddit.com/r/millionairemakers/comments/2q9ung/santa_is_real_thank_you_all_so_much_i_am_still_in/) | [Bitcoin Research Comparables](http://suitpossum.blogspot.co.uk/2014/12/academic-bitcoin-research.html) | [LibreOffice](http://www.libreoffice.org/donate/) | [Mozilla Foundation](https://sendto.mozilla.org/page/content/give-bitcoin/) | [Darkcoin Foundation](https://www.darkcoinfoundation.org/) | [WikiLeaks](https://shop.wikileaks.org/donate#dbitcoin) | [Free Software Foundation](https://my.fsf.org/civicrm/contribute/transact?reset=1&amp;amp;id=14) | [The Bitcoin Foundation](https://bitcoinfoundation.org/donate/) | [Apache Software Foundation](http://www.apache.org/foundation/contributing.html) | [Dark Wallet](https://www.darkwallet.is/) | \\n\\n- **Health Services**\\n\\n [Tails](https://tails.boum.org/contribute/how/donate/#bitcoin) | [Mesothelioma Research](http://www.curemeso.org/site/c.duIWJfNQKiL8G/b.9195907/k.6887/Bitcoin_Donation_Form.htm) | [BitGive Foundation](http://bitgivefoundation.org/donate-now/) | [SENS](http://sens.org/donate) | [Erowid](https://www.erowid.org/donations/donations_cryptocurrency.php) | [Save The Children Ebola Fund](https://bitpay.com/615074/donate) | \\n\\n- **Education Services**\\n\\n [Khan Academy](https://www.khanacademy.org/donate) | [Non-Profit Tech Resources](http://ntrweb.org/support-ntr/#bitcoin) | [United Way](http://www.unitedway.org/pages/donate-bitcoin-to-united-way) | [The Tenth Amendment Center](http://shop.tenthamendmentcenter.com/product/pledge/) | [Pathways Canada](http://www.pathwayscanada.ca/bitcoin) | [100%](http://100percent.org.nz/) |\\n\\n- **Help the Children**\\n\\n [Songs Of Love](http://www.songsoflove.org/bitcoins/) | [Ronald McDonald House Charities of the Capital Region](http://www.rmhcofalbany.org/) | [World Aid](https://worldaid.org/donations-for-homeless-children/) | \\n\\n- **Other Charities**\\n\\n [The Water Project](http://thewaterproject.org/donate-bitcoin) | [GPG Tools](https://gpgtools.org/donate.html) | [The Planetary Society](http://www.planetary.org/become-a-member/other-ways-to-give/donate-bitcoin.html) | [Krono Labs](https://www.kronolabs.com/) | [Rise up](https://help.riseup.net/en/donate#bitcoin) | [New Technology to Cure Hunger](http://www.new-harvest.org/) | [Kitty Safe Haven](http://www.kittysafehaven.org) | [Help Rescue Animals](http://ru4mepetrescue.rescuegroups.org/info/donate) | [Edward Snowden Defense](https://www.freesnowden.is/) |\\n\\n##No Bitcoins? Help these Charities##\\n- **Social Services**\\n  [Ending Poverty](http://ajws.org/) |  [Engineers without Borders](https://ssl.charityweb.net/ewbusa/) | [United Sikhs](http://unitedsikhs.org/) | [Saving Girls](http://www.savinginnocence.org/) | [The Food Democracy](http://www.fooddemocracynow.org/) | [Catalyst Foundation](http://www.catalystfoundation.org/) | [Skateistan](http://skateistan.org/) | [World Builders](https://twitter.com/worldbuilders_) |\\n\\n- **Health Services**\\n [Aphasia Institute](http://www.aphasia.ca) | [Canadian Down Syndrome Society](http://www.cdss.ca)| [Alzeimer's Association](http://www.alz.org) | [Fight Cancer](http://donate.thon.org/) | [MAPS](http://maps.org/) | [Bone Marrow Help](http://www.bethematch.org/) | [Fight Malaria](https://www.againstmalaria.com/) | [Cancer Support](http://www.macmillan.org.uk/Home.aspx) | [Young Minds](http://www.youngminds.org.uk/) | \\n\\n- **Education/Children**\\n [Pathways To Education](http://pathwaystoeducation.ca/) | [Exponential Education](http://www.exponentialeducationprogram.org/) | [Technology for kids](http://one.laptop.org/) |  [Help Kids](https://www.helpsdkids.org/donate) | [Help Foster Kids](http://www.generationsofhope.org/donate/) |  [OK Foster Wishes](http://www.okfosterwishes.com/) |\\n\\n- **Other Charities**\\n\\n\\n\\n [Water Aid](http://www.wateraid.org/uk) | [Charity Water](https://www.charitywater.org/) | [Free Software Foundation](https://my.fsf.org/civicrm/contribute/transact?reset=1&amp;amp;id=14) | www.awanj.org | [Save The Seas](http://www.seashepherd.org/) | [Save The Trees](http://www.evergreen.ca/en/) | [Peace Geeks](http://peacegeeks.org/) | \\n\",\n",
       " 'Mycelium Entropy T-Shirt http://imgur.com/9Tokbsh\\nhttp://imgur.com/o41LM5y\\n\\nKeep up the great work guys!',\n",
       " \"Tipping / Giving Tuesday's - first 1000 comments get free Bitcoin (bonus for any great jokes) **SOME TIPPING [SUGGESTIONS](https://www.reddit.com/r/changetip/wiki/suggestions)**\\n\\nWill do it like last time... Those of you who submit great charities or causes that need donations will receive higher gifts from me and have it added to this text! :D\\n\\nThose of you who just want the charity of your own pockets to expand still say Hi :) **100-1000 bits** for the first **1000** comments!\\n\\n**### PLEASE CONSIDER PASSING MY TIPS ON TO OTHERS OR CHARITIES :D ###**\\n\\n##Charities Accepting Bitcoin##\\n- **Public Services**\\n\\n\\n [RNLI](https://rnli.org/howtosupportus/donatenow/Pages/bitcoin.aspx?utm_source=rnli-website-redirect&amp;amp;utm_medium=vanity-urls&amp;amp;utm_campaign=bitcoin) | [Bread For The City](http://www.breadforthecity.org/bitcoin-donation-page/) |\\n[Give A Mile](http://giveamile.org/donate/) | [Legalise Marijuana](http://dcmj.org/donate/) | [Hotspot Community Resource Center](http://www.seatoskycommunity.org/donate/) |\\n[Antiwar.com](http://www.antiwar.com) | [Tempe Bicycle Action Group](http://www.biketempe.org) | [Free Ross](http://freeross.org/donate-now-2/) | \\n\\n- **Social Services**\\n\\n [Stop Domestic Violence](http://sigilsocial.org/donate/) | [Anza](http://www.anza.co.com/) | [Operation Fistula](http://www.opfistula.org/donate/) | [Free Ross](http://freeross.org/donate-now-2/) | [The Northern California DX Foundation](http://ncdxf.org/pages/contribute.html) | [Calgary Womens Centre](http://www.womenscentrecalgary.org/donate/donate-with-bitcoin/) | [Abolitionist Law Centre](http://abolitionistlawcenter.org/) | [Generations Of Hope](http://www.generationsofhope.org/donate/) | [Bitcoins Not Bombs](http://www.bitcoinnotbombs.com/projects/hoodie-the-homeless/) | [Project Free State](https://freestateproject.org/donate) | [Seans Outpost](http://www.seansoutpost.com/) | [Without Regrets](http://www.withoutregrets.org/) | [Epic Change](http://epicchangeblog.org/) |\\n\\n- **Online Services**\\n\\n [The Bitcoin Movement](http://thebitcoinmovement.com/donate-2/) |[The Internet Archive](https://archive.org/donate/bitcoin.php) | [Tor Exit Nodes](http://enn.lu/donate/bitcoin)\\n[Wikimedia](http://wikimediafoundation.org/wiki/Ways_to_Give#bitcoin) | [The TOR Project](https://www.torproject.org/) | [Bitcoin Research Comparables](http://suitpossum.blogspot.co.uk/2014/12/academic-bitcoin-research.html) | [LibreOffice](http://www.libreoffice.org/donate/) | [Mozilla Foundation](https://sendto.mozilla.org/page/content/give-bitcoin/) | [Darkcoin Foundation](https://www.darkcoinfoundation.org/) | [WikiLeaks](https://shop.wikileaks.org/donate#dbitcoin) | [Free Software Foundation](https://my.fsf.org/civicrm/contribute/transact?reset=1&amp;amp;id=14) | [The Bitcoin Foundation](https://bitcoinfoundation.org/donate/) | [Apache Software Foundation](http://www.apache.org/foundation/contributing.html) | [Dark Wallet](https://www.darkwallet.is/) | \\n\\n- **Health Services**\\n\\n [Tails](https://tails.boum.org/contribute/how/donate/#bitcoin) | [Mesothelioma Research](http://www.curemeso.org/site/c.duIWJfNQKiL8G/b.9195907/k.6887/Bitcoin_Donation_Form.htm) | [BitGive Foundation](http://bitgivefoundation.org/donate-now/) | [SENS](http://sens.org/donate) | [Erowid](https://www.erowid.org/donations/donations_cryptocurrency.php) | [Save The Children Ebola Fund](https://bitpay.com/615074/donate) | \\n\\n- **Education Services**\\n\\n [Khan Academy](https://www.khanacademy.org/donate) | [Non-Profit Tech Resources](http://ntrweb.org/support-ntr/#bitcoin) | [United Way](http://www.unitedway.org/pages/donate-bitcoin-to-united-way) | [The Tenth Amendment Center](http://shop.tenthamendmentcenter.com/product/pledge/) | [Pathways Canada](http://www.pathwayscanada.ca/bitcoin) | [100%](http://100percent.org.nz/) |\\n\\n- **Help the Children**\\n\\n [Songs Of Love](http://www.songsoflove.org/bitcoins/) | [Ronald McDonald House Charities of the Capital Region](http://www.rmhcofalbany.org/) | [World Aid](https://worldaid.org/donations-for-homeless-children/) | \\n\\n- **Other Charities**\\n\\n [The Water Project](http://thewaterproject.org/donate-bitcoin) | [GPG Tools](https://gpgtools.org/donate.html) | [Krono Labs](https://www.kronolabs.com/) | [Rise up](https://help.riseup.net/en/donate#bitcoin) | [New Technology to Cure Hunger](http://www.new-harvest.org/) | [Kitty Safe Haven](http://www.kittysafehaven.org) | [Help Rescue Animals](http://ru4mepetrescue.rescuegroups.org/info/donate) | [Edward Snowden Defense](https://www.freesnowden.is/) |\\n\\n##No Bitcoin? Help these Charities##\\n- **Social Services**\\n  [Ending Poverty](http://ajws.org/) |  [Engineers without Borders](https://ssl.charityweb.net/ewbusa/) | [United Sikhs](http://unitedsikhs.org/) | [Saving Girls](http://www.savinginnocence.org/) | [The Food Democracy](http://www.fooddemocracynow.org/) | [Catalyst Foundation](http://www.catalystfoundation.org/) | [Skateistan](http://skateistan.org/) | [World Builders](https://twitter.com/worldbuilders_) |\\n\\n- **Health Services**\\n [Aphasia Institute](http://www.aphasia.ca) | [Canadian Down Syndrome Society](http://www.cdss.ca)| [Alzeimer's Association](http://www.alz.org) | [Fight Cancer](http://donate.thon.org/) | [MAPS](http://maps.org/) | [Bone Marrow Help](http://www.bethematch.org/) | [Fight Malaria](https://www.againstmalaria.com/) | [Cancer Support](http://www.macmillan.org.uk/Home.aspx) | [Young Minds](http://www.youngminds.org.uk/) | \\n\\n- **Education/Children**\\n [Pathways To Education](http://pathwaystoeducation.ca/) | [Exponential Education](http://www.exponentialeducationprogram.org/) | [Technology for kids](http://one.laptop.org/) |  [Help Kids](https://www.helpsdkids.org/donate) | [Help Foster Kids](http://www.generationsofhope.org/donate/) |  [OK Foster Wishes](http://www.okfosterwishes.com/) |\\n\\n- **Other Charities**\\n\\n\\n\\n [Water Aid](http://www.wateraid.org/uk) | [Charity Water](https://www.charitywater.org/) | [Free Software Foundation](https://my.fsf.org/civicrm/contribute/transact?reset=1&amp;amp;id=14) | [Awanj](www.awanj.org) | [Save The Seas](http://www.seashepherd.org/) | [Save The Trees](http://www.evergreen.ca/en/) | [Peace Geeks](http://peacegeeks.org/) | \\n\",\n",
       " 'Do You Vape? Bitcoin Accepted Here! 70 Vendors and Counting! ==================================================\\n==================================================\\n*** *VENDORS OFFERING A BTC-ONLY DISCOUNT* ***\\n==================================================\\n==================================================\\n\\n[Juicehead Vapor](http://juiceheadvapor.com/) **10% auto-discount w/ btc payment**\\n\\n==================================================\\n==================================================\\n*** *YOUR LOCAL BRICK & MORTAR SUPPLIER* ***\\n==================================================\\n==================================================\\n\\n[BukuVapor](http://www.bukuvapor.com/) (in-store only) Shreveport, LA\\n\\n[High Desert Vapes](https://highdesertvapes.com/) Albuquerque, NM\\n\\n[Marietta Vape Bar](http://www.myvapebar.com/) (in-store only) Marietta, GA\\n\\n[NOLA Vape](http://www.nolavape.com/) New Orleans, LA\\n\\n[Southern Vapory](http://www.southernvapory.com/) Oxford, MS\\n\\n[Sun-Vapers](http://www.sun-vapers.com/) Santee, CA - 10% off (orders over $60) w/ \"FOOLISH\"\\n\\n==================================================\\n==================================================\\n*** *JUICE SPECIALISTS* ***\\n==================================================\\n==================================================\\n\\n[Adirondack Vapor](http://www.adirondackvapor.com/) 10% off w/ \"Redditlove\" \\n\\n[Ahlusion](https://www.ahlusion.us/)\\n\\n[Black Axis Juice Co](http://blackaxisjuice.com/) (Contact site admins; manual btc processing)\\n\\n[Blue Dot Vapors](http://www.bluedotvapors.com/) 10% off w/ \"reddit10\"\\n\\n[Cloud Alchemist](http://www.cloudalchemist.com/) 10% off w/ \"REDDIT\"\\n\\n[Cloud Provisions](http://cloudprovisions.com/) 10% off w/ \"reddit10\"\\n\\n[Crypto Juicestore](https://cryptojuicestore.com/) 15% off w/ \"BTC\"\\n\\n[Digital Cloud Vapor](http://digitalcloudvapor.com/) 20% off w/ \"Bit coin\"\\n\\n[Dreamy Vapor Co](http://www.dreamyvapor.co/)\\n\\n[Frontier Vapor](http://frontiervapor.com/) 10% off w/ \"reddit\"\\n\\n[Galactic Vapors](http://www.galacticvapors.com/) 12% off w/ \"Reddit Love\"\\n\\n[Gordana Vape](http://gordonavapes.com/) 15% off w/ \"REDDIT\"\\n\\n[Jaxx Juice](http://www.jaxxjuice.com/) 15% off w/ \"jaxx30ml\"\\n\\n[JuiceHead Vapor](http://juiceheadvapor.com/) **10% auto-discount w/ btc payment**\\n\\n[Keystone Vapor](http://www.keystonevapor.com/)\\n\\n[Open Source Vapor](http://www.opensourcevapor.com/)\\n\\n[Sloth Sauce](http://shop.slothsauce.com/)\\n\\n[Steeped Monkey Brains](http://www.steepedmonkeybrains.com)\\n\\n[The Flavor Apprentice](https://shop.perfumersapprentice.com/c-108-the-flavor-apprentice-world-of-flavors.aspx) (DIY juice)\\n\\n[The Steam Co](http://www.thesteamco.com/)\\n\\n[Twisted Cigs](http://www.twistedcigs.com/)\\n\\n[Value Vapor](https://www.valuevapor.com/)\\n\\n[Velvet Cloud](http://www.velvetcloud.com/) 15% off w/ \"reddit\"\\n\\n[Zodist](http://www.zodist.com/)\\n\\n==================================================\\n==================================================\\n*** *MODS, BATTERIES, JUICE, AND MORE* ***\\n==================================================\\n==================================================\\n\\n[Captain Kanger](http://captainkanger.com/)\\n\\n[Cool Vape](http://coolvape.com/)\\n\\n[Coval Vapes](http://covalvapes.com/) 10% off w/ \"Reddit\"\\n\\n[FastTech](https://www.fasttech.com/)\\n\\n[ForVaping.com](https://forvaping.com)\\n\\n[Go! Electronic Cigarette](http://www.goelectroniccigarette.com/)\\n\\n[Hookah On Mars](https://www.hookahonmars.com/)\\n\\n[Jake\\'s Vapes](http://jakesvapes.com/)\\n\\n[Mini Vape Shop](https://minivapeshop.com/)\\n\\n[Mist Hub](http://www.misthub.com/) 15% off w/ \"Reddit15\"\\n\\n[Paradise Vape](http://www.paradisevape.net/)\\n\\n[Savannah Ecig](http://savannahecig.com/)\\n\\n[Shop MasterVape](http://shopmastervape.com/)\\n\\n[Shop MVG](http://www.shopmvg.com/)\\n\\n[Sick Clouds](http://www.sickclouds.com/)\\n\\n[Sick Vapes](http://sickvapes.net/) 15% off w/ \"reddit15\"\\n\\n[Silk Vapes](http://silkvap.es/)\\n\\n[Silver Dragon Vape Shop](http://www.silverdragonvapeshop.com/)\\n\\n[Sure Vapes](http://www.surevapes.com/)\\n\\n[Vaper\\'s Mark](http://www.vapersmark.net/)\\n\\n[Vapes.com](http://www.vapes.com/)\\n\\n[Vape Overlord](http://www.vapeoverload.com/)\\n\\n[Vape-Today](http://www.vape-today.com/)\\n\\n[Vapor Palace](http://www.vaporpalace.com/)\\n\\n[Vapor Station](http://www.vaporstation.com/)\\n\\n[Vapor Vapes](http://vaporvapes.com/)\\n\\n[Vaporshark](http://www.vaporshark.com/)\\n\\n[Vivid Smoke](http://www.vividsmoke.com/)\\n\\n[Volttron Vapes](http://www.volttron.com/)\\n\\n[We Vape Here](http://wevapehere.com/) 10% off (all eLiquid) w/ \"tenoff\"\\n\\n[123Hookahs](http://www.123hookahs.com)\\n\\n==================================================\\n==================================================\\n*** *CIG-ALIKES* ***\\n==================================================\\n==================================================\\n\\n[Blackout Ecig](http://blackoutcigs.com/)\\n\\n==================================================\\n==================================================\\n*** *FOR THE ENTS* ***\\n==================================================\\n==================================================\\n\\n[Afrosmoke](http://www.afrosmoke.com/)\\n\\n[Azurias](https://secure.azarius.net/) (Amsterdam)\\n\\n[California Sea](http://californiasea.com/)\\n\\n[Dank Stop](http://dankstop.com/)\\n\\n[Epik Herbs](http://epikherbs.com/)\\n\\n[Get Lifted (CA)](http://www.getlifted.ca/)\\n\\n[Grass City](http://www.grasscity.com/us_en/)\\n\\n[Hot Box Vapors](http://hotboxvapors.com/)\\n\\n[Minty Vapes](http://mintyvapes.com/)\\n\\n[Open Vape](http://www.openvape.com/)\\n\\n[Puffitup](http://www.puffitup.com/)\\n\\n[Retroactive Smokeshop](http://www.retroactivesmokeshop.com/)\\n\\n[Smoke Cartel](http://smokecartel.com/)\\n\\n[Source Vapes](http://www.sourcevapes.com/)\\n\\n[Vape Cloud Plus](http://www.vaporcloudplus.com/) 15% off w/ \"REDDITCLOUDS\"\\n\\n[Vapor Warehouse](http://www.vaporwarehouse.com/)\\n\\n[Vapor Pens](http://www.vaporpens.com/)\\n\\n==================================================\\n==================================================\\n*** *ACROSS THE POND* ***\\n==================================================\\n==================================================\\n\\n[8bit Vape](https://8bitvape.co.uk/lindex.php?)\\n\\n[Black Forest Vapes](http://blackforestvapes.com/)\\n\\n[Ciggy Juice](http://www.ciggyjuice.co.uk/)\\n\\n[Cool Vape](http://coolvape.co.uk/)\\n\\n[E-Liquid UK Store](https://www.eliquidukstore.com/) 10% off w/ \"REDDIT\"\\n\\n[Fog On The Tyne](http://www.e-liquid-e-liquid.com/)\\n\\n[Lunar Vape](https://lunar-vape.com/)\\n\\n[Stealth Vapes](http://stealthvape.co.uk/)\\n\\n[VapourDepot](https://vapourdepot.com/) 10% off w/ \"reddit10\"\\n\\n[The Vape Lab](http://www.thevapelab.co.uk/)\\n\\n[VapeBoy](https://www.vapeboy.com/)\\n\\n[Vape & Juice](http://vapeandjuice.co.uk/)\\n\\n[Vapor Quip](http://www.vaporquip.co.uk/)\\n\\n==================================================\\n==================================================\\n*** *AMERICA\\'S HAT* ***\\n==================================================\\n==================================================\\n\\n[Rainy Vapes](http://www.rainyvapes.ca/)\\n\\n[Vapetropolis](http://www.vapetropolis.ca/)\\n\\n[Vaped](http://vaped.ca/)\\n\\n[VapeXcape](https://vapexcape.ca/)\\n\\n[Vapor Jedi Ecigs &amp; Eliquid](http://www.vaporjedi.com)\\n\\n[White Rabbit](https://vapeme.net)\\n\\n==================================================\\n==================================================\\n*** *DOWN UNDER* ***\\n==================================================\\n==================================================\\n\\n[Vaporize](http://www.vaporize.com.au)',\n",
       " \"Bitcoin Children's Book http://www.amazon.com/Bitcoin-Adventure-Childrens-Story-ebook/dp/B00USBH6D0/ref=sr_1_1?ie=UTF8&qid=1426809773&sr=8-1&keywords=bitcoin+adventure\",\n",
       " \"Tipping / Giving Tuesdays - First 1000 comments get free bitcoin - Next week we will be doing a food drive for the homeless & under privileged in Barbados all paid for in Bitcoin. **SOME TIPPING [SUGGESTIONS](https://www.reddit.com/r/changetip/wiki/suggestions)**\\n\\nWill do it like last time... Those of you who submit great charities or causes that need donations will receive higher gifts from me and have it added to this text! :D\\n\\nThose of you who just want the charity of your own pockets to expand still say Hi :) **100-1000 bits** for the first **1000** comments!\\n\\n**### PLEASE CONSIDER PASSING MY TIPS ON TO OTHERS OR CHARITIES :D ###**\\n\\n\\n\\n##Charities Accepting Bitcoins##\\n- **Public Services**\\n\\n\\n [RNLI](https://rnli.org/howtosupportus/donatenow/Pages/bitcoin.aspx?utm_source=rnli-website-redirect&amp;amp;utm_medium=vanity-urls&amp;amp;utm_campaign=bitcoin) | [Bread For The City](http://www.breadforthecity.org/bitcoin-donation-page/) |\\n[Give A Mile](http://giveamile.org/donate/) | [Legalise Marijuana](http://dcmj.org/donate/) | [Hotspot Community Resource Center](http://www.seatoskycommunity.org/donate/) |\\n[Antiwar.com](http://www.antiwar.com) | [Tempe Bicycle Action Group](http://www.biketempe.org) | [Free Ross](http://freeross.org/donate-now-2/) | \\n\\n- **Social Services**\\n\\n [Stop Domestic Violence](http://sigilsocial.org/donate/) | [Anza](http://www.anza.co.com/) | [Operation Fistula](http://www.opfistula.org/donate/) | [Free Ross](http://freeross.org/donate-now-2/) | [The Northern California DX Foundation](http://ncdxf.org/pages/contribute.html) | [Calgary Womens Centre](http://www.womenscentrecalgary.org/donate/donate-with-bitcoin/) | [Abolitionist Law Centre](http://abolitionistlawcenter.org/) | [Generations Of Hope](http://www.generationsofhope.org/donate/) | [Bitcoins Not Bombs](http://www.bitcoinnotbombs.com/projects/hoodie-the-homeless/) | [Project Free State](https://freestateproject.org/donate) | [Seans Outpost](http://www.seansoutpost.com/) | [Without Regrets](http://www.withoutregrets.org/) | [Epic Change](http://epicchangeblog.org/) |\\n\\n- **Online Services**\\n\\n |  [Tails](https://tails.boum.org/contribute/how/donate/#bitcoin) | [The Bitcoin Movement](http://thebitcoinmovement.com/donate-2/) |[The Internet Archive](https://archive.org/donate/bitcoin.php) | [Tor Exit Nodes](http://enn.lu/donate/bitcoin)\\n[Wikimedia](http://wikimediafoundation.org/wiki/Ways_to_Give#bitcoin) | [The TOR Project](https://www.torproject.org/) | [Make a millionaire](https://np.reddit.com/r/millionairemakers/comments/2q9ung/santa_is_real_thank_you_all_so_much_i_am_still_in/) | [Bitcoin Research Comparables](http://suitpossum.blogspot.co.uk/2014/12/academic-bitcoin-research.html) | [LibreOffice](http://www.libreoffice.org/donate/) | [Mozilla Foundation](https://sendto.mozilla.org/page/content/give-bitcoin/) | [Darkcoin Foundation](https://www.darkcoinfoundation.org/) | [WikiLeaks](https://shop.wikileaks.org/donate#dbitcoin) | [Free Software Foundation](https://my.fsf.org/civicrm/contribute/transact?reset=1&amp;amp;id=14) | [The Bitcoin Foundation](https://bitcoinfoundation.org/donate/) | [Apache Software Foundation](http://www.apache.org/foundation/contributing.html) | [Dark Wallet](https://www.darkwallet.is/) | [Non Profit Internet Service Provider](https://www.chebucto.ns.ca/Bitcoin.shtml) | [Jovial Concepts](http://jovialconcepts.org/donate/) | [Ignitas](http://dignitasinternational.org/donate/bitcoin/) |\\n\\n- **Health Services**\\n\\n [Mesothelioma Research](http://www.curemeso.org/site/c.duIWJfNQKiL8G/b.9195907/k.6887/Bitcoin_Donation_Form.htm) | [BitGive Foundation](http://bitgivefoundation.org/donate-now/) | [SENS](http://sens.org/donate) | [Erowid](https://www.erowid.org/donations/donations_cryptocurrency.php) | [Save The Children Ebola Fund](https://bitpay.com/615074/donate) | \\n\\n- **Education Services**\\n\\n [Khan Academy](https://www.khanacademy.org/donate) | [Non-Profit Tech Resources](http://ntrweb.org/support-ntr/#bitcoin) | [United Way](http://www.unitedway.org/pages/donate-bitcoin-to-united-way) | [The Tenth Amendment Center](http://shop.tenthamendmentcenter.com/product/pledge/) | [Pathways Canada](http://www.pathwayscanada.ca/bitcoin) | [100%](http://100percent.org.nz/) |\\n\\n- **Help the Children**\\n\\n [Songs Of Love](http://www.songsoflove.org/bitcoins/) | [Ronald McDonald House Charities of the Capital Region](http://www.rmhcofalbany.org/) | [World Aid](https://worldaid.org/donations-for-homeless-children/) | \\n\\n- **Other Charities**\\n\\n [The Water Project](http://thewaterproject.org/donate-bitcoin) | [GPG Tools](https://gpgtools.org/donate.html) | [The Planetary Society](http://www.planetary.org/become-a-member/other-ways-to-give/donate-bitcoin.html) | [Krono Labs](https://www.kronolabs.com/) | [Rise up](https://help.riseup.net/en/donate#bitcoin) | [New Technology to Cure Hunger](http://www.new-harvest.org/) | [Kitty Safe Haven](http://www.kittysafehaven.org) | [Help Rescue Animals](http://ru4mepetrescue.rescuegroups.org/info/donate) | [Edward Snowden Defense](https://www.freesnowden.is/) | [MIRI](https://intelligence.org/donate/) |\\n\\n##No Bitcoins? Help these Charities##\\n- **Social Services**\\n  [Ending Poverty](http://ajws.org/) |  [Engineers without Borders](https://ssl.charityweb.net/ewbusa/) | [United Sikhs](http://unitedsikhs.org/) | [Saving Girls](http://www.savinginnocence.org/) | [The Food Democracy](http://www.fooddemocracynow.org/) | [Catalyst Foundation](http://www.catalystfoundation.org/) | [Skateistan](http://skateistan.org/) | [World Builders](https://twitter.com/worldbuilders_) |\\n\\n- **Health Services**\\n [Aphasia Institute](http://www.aphasia.ca) | [Canadian Down Syndrome Society](http://www.cdss.ca)| [Alzeimer's Association](http://www.alz.org) | [Fight Cancer](http://donate.thon.org/) | [MAPS](http://maps.org/) | [Bone Marrow Help](http://www.bethematch.org/) | [Fight Malaria](https://www.againstmalaria.com/) | [Cancer Support](http://www.macmillan.org.uk/Home.aspx) | [Young Minds](http://www.youngminds.org.uk/) | \\n\\n- **Education/Children**\\n [Pathways To Education](http://pathwaystoeducation.ca/) | [Exponential Education](http://www.exponentialeducationprogram.org/) | [Technology for kids](http://one.laptop.org/) |  [Help Kids](https://www.helpsdkids.org/donate) | [Help Foster Kids](http://www.generationsofhope.org/donate/) |  [OK Foster Wishes](http://www.okfosterwishes.com/) |\\n\\n- **Other Charities**\\n\\n\\n\\n [Water Aid](http://www.wateraid.org/uk) | [Charity Water](https://www.charitywater.org/) | [Free Software Foundation](https://my.fsf.org/civicrm/contribute/transact?reset=1&amp;amp;id=14) | www.awanj.org | [Save The Seas](http://www.seashepherd.org/) | [Save The Trees](http://www.evergreen.ca/en/) | [Peace Geeks](http://peacegeeks.org/) | \\n\",\n",
       " \"Tipping / Giving Tuesday - First 1000 comments get free bitcoin! Minimum tip today is 200 bits thanks to SirBitts donation yesterday! **SOME TIPPING [SUGGESTIONS](https://www.reddit.com/r/changetip/wiki/suggestions)**\\n\\nWill do it like last time... Those of you who submit great charities or causes that need donations will receive higher gifts from me and have it added to this text! :D\\n\\nThose of you who just want the charity of your own pockets to expand still say Hi :) **200-1000 bits** for the first **1000** comments!\\n\\n**### PLEASE CONSIDER PASSING MY TIPS ON TO OTHERS OR CHARITIES :D ###**\\n\\n\\n\\n##Charities Accepting Bitcoins##\\n- **Public Services**\\n\\n\\n [RNLI](https://rnli.org/howtosupportus/donatenow/Pages/bitcoin.aspx?utm_source=rnli-website-redirect&amp;amp;utm_medium=vanity-urls&amp;amp;utm_campaign=bitcoin) | [Bread For The City](http://www.breadforthecity.org/bitcoin-donation-page/) |\\n[Give A Mile](http://giveamile.org/donate/) | [Legalise Marijuana](http://dcmj.org/donate/) | [Hotspot Community Resource Center](http://www.seatoskycommunity.org/donate/) |\\n[Antiwar.com](http://www.antiwar.com) | [Tempe Bicycle Action Group](http://www.biketempe.org) | [Free Ross](http://freeross.org/donate-now-2/) | \\n\\n- **Social Services**\\n\\n [Stop Domestic Violence](http://sigilsocial.org/donate/) | [Anza](http://www.anza.co.com/) | [Operation Fistula](http://www.opfistula.org/donate/) | [Free Ross](http://freeross.org/donate-now-2/) | [The Northern California DX Foundation](http://ncdxf.org/pages/contribute.html) | [Calgary Womens Centre](http://www.womenscentrecalgary.org/donate/donate-with-bitcoin/) | [Abolitionist Law Centre](http://abolitionistlawcenter.org/) | [Generations Of Hope](http://www.generationsofhope.org/donate/) | [Bitcoins Not Bombs](http://www.bitcoinnotbombs.com/projects/hoodie-the-homeless/) | [Project Free State](https://freestateproject.org/donate) | [Seans Outpost](http://www.seansoutpost.com/) | [Without Regrets](http://www.withoutregrets.org/) | [Epic Change](http://epicchangeblog.org/) |\\n\\n- **Online Services**\\n\\n [The Bitcoin Movement](http://thebitcoinmovement.com/donate-2/) |[The Internet Archive](https://archive.org/donate/bitcoin.php) | [Tor Exit Nodes](http://enn.lu/donate/bitcoin)\\n[Wikimedia](http://wikimediafoundation.org/wiki/Ways_to_Give#bitcoin) | [The TOR Project](https://www.torproject.org/) | [Make a millionaire](https://np.reddit.com/r/millionairemakers/comments/2q9ung/santa_is_real_thank_you_all_so_much_i_am_still_in/) | [Bitcoin Research Comparables](http://suitpossum.blogspot.co.uk/2014/12/academic-bitcoin-research.html) | [LibreOffice](http://www.libreoffice.org/donate/) | [Mozilla Foundation](https://sendto.mozilla.org/page/content/give-bitcoin/) | [Darkcoin Foundation](https://www.darkcoinfoundation.org/) | [WikiLeaks](https://shop.wikileaks.org/donate#dbitcoin) | [Free Software Foundation](https://my.fsf.org/civicrm/contribute/transact?reset=1&amp;amp;id=14) | [The Bitcoin Foundation](https://bitcoinfoundation.org/donate/) | [Apache Software Foundation](http://www.apache.org/foundation/contributing.html) | [Dark Wallet](https://www.darkwallet.is/) | [Non Profit Internet Service Provider](https://www.chebucto.ns.ca/Bitcoin.shtml) | [Jovial Concepts](http://jovialconcepts.org/donate/) |\\n\\n- **Health Services**\\n\\n [Tails](https://tails.boum.org/contribute/how/donate/#bitcoin) | [Mesothelioma Research](http://www.curemeso.org/site/c.duIWJfNQKiL8G/b.9195907/k.6887/Bitcoin_Donation_Form.htm) | [BitGive Foundation](http://bitgivefoundation.org/donate-now/) | [SENS](http://sens.org/donate) | [Erowid](https://www.erowid.org/donations/donations_cryptocurrency.php) | [Save The Children Ebola Fund](https://bitpay.com/615074/donate) | \\n\\n- **Education Services**\\n\\n [Khan Academy](https://www.khanacademy.org/donate) | [Non-Profit Tech Resources](http://ntrweb.org/support-ntr/#bitcoin) | [United Way](http://www.unitedway.org/pages/donate-bitcoin-to-united-way) | [The Tenth Amendment Center](http://shop.tenthamendmentcenter.com/product/pledge/) | [Pathways Canada](http://www.pathwayscanada.ca/bitcoin) | [100%](http://100percent.org.nz/) |\\n\\n- **Help the Children**\\n\\n [Songs Of Love](http://www.songsoflove.org/bitcoins/) | [Ronald McDonald House Charities of the Capital Region](http://www.rmhcofalbany.org/) | [World Aid](https://worldaid.org/donations-for-homeless-children/) | \\n\\n- **Other Charities**\\n\\n [The Water Project](http://thewaterproject.org/donate-bitcoin) | [GPG Tools](https://gpgtools.org/donate.html) | [The Planetary Society](http://www.planetary.org/become-a-member/other-ways-to-give/donate-bitcoin.html) | [Krono Labs](https://www.kronolabs.com/) | [Rise up](https://help.riseup.net/en/donate#bitcoin) | [New Technology to Cure Hunger](http://www.new-harvest.org/) | [Kitty Safe Haven](http://www.kittysafehaven.org) | [Help Rescue Animals](http://ru4mepetrescue.rescuegroups.org/info/donate) | [Edward Snowden Defense](https://www.freesnowden.is/) |\\n\\n##No Bitcoins? Help these Charities##\\n- **Social Services**\\n  [Ending Poverty](http://ajws.org/) |  [Engineers without Borders](https://ssl.charityweb.net/ewbusa/) | [United Sikhs](http://unitedsikhs.org/) | [Saving Girls](http://www.savinginnocence.org/) | [The Food Democracy](http://www.fooddemocracynow.org/) | [Catalyst Foundation](http://www.catalystfoundation.org/) | [Skateistan](http://skateistan.org/) | [World Builders](https://twitter.com/worldbuilders_) |\\n\\n- **Health Services**\\n [Aphasia Institute](http://www.aphasia.ca) | [Canadian Down Syndrome Society](http://www.cdss.ca)| [Alzeimer's Association](http://www.alz.org) | [Fight Cancer](http://donate.thon.org/) | [MAPS](http://maps.org/) | [Bone Marrow Help](http://www.bethematch.org/) | [Fight Malaria](https://www.againstmalaria.com/) | [Cancer Support](http://www.macmillan.org.uk/Home.aspx) | [Young Minds](http://www.youngminds.org.uk/) | \\n\\n- **Education/Children**\\n [Pathways To Education](http://pathwaystoeducation.ca/) | [Exponential Education](http://www.exponentialeducationprogram.org/) | [Technology for kids](http://one.laptop.org/) |  [Help Kids](https://www.helpsdkids.org/donate) | [Help Foster Kids](http://www.generationsofhope.org/donate/) |  [OK Foster Wishes](http://www.okfosterwishes.com/) |\\n\\n- **Other Charities**\\n\\n\\n\\n [Water Aid](http://www.wateraid.org/uk) | [Charity Water](https://www.charitywater.org/) | [Free Software Foundation](https://my.fsf.org/civicrm/contribute/transact?reset=1&amp;amp;id=14) | [Awanj](www.awanj.org) | [Save The Seas](http://www.seashepherd.org/) | [Save The Trees](http://www.evergreen.ca/en/) | [Peace Geeks](http://peacegeeks.org/) | \\n\",\n",
       " 'The Big List of BTC-Accepting Vape Vendors, 90 Strong and Growing! ==================================================\\n==================================================\\n*** *VENDORS OFFERING A BTC-ONLY DISCOUNT* ***\\n==================================================\\n==================================================\\n\\n[Juicehead Vapor](http://juiceheadvapor.com/) **10% auto-discount w/ btc payment**\\n\\n==================================================\\n==================================================\\n*** *YOUR LOCAL BRICK & MORTAR SUPPLIER* ***\\n==================================================\\n==================================================\\n\\n[BukuVapor](http://www.bukuvapor.com/) (in-store only) Shreveport, LA\\n\\n[High Desert Vapes](https://highdesertvapes.com/) Albuquerque, NM\\n\\n[Marietta Vape Bar](http://www.myvapebar.com/) (in-store only) Marietta, GA\\n\\n[NOLA Vape](http://www.nolavape.com/) New Orleans, LA\\n\\n[Southern Vapory](http://www.southernvapory.com/) Oxford, MS\\n\\n[Sun-Vapers](http://www.sun-vapers.com/) Santee, CA - 10% off (orders over $60) w/ \"FOOLISH\"\\n\\n==================================================\\n==================================================\\n*** *JUICE SPECIALISTS* ***\\n==================================================\\n==================================================\\n\\n[Adirondack Vapor](http://www.adirondackvapor.com/) 10% off w/ \"Redditlove\" \\n\\n[Ahlusion](https://www.ahlusion.us/)\\n\\n[Black Axis Juice Co](http://blackaxisjuice.com/)\\n\\n[Cloud Alchemist](http://www.cloudalchemist.com/) 10% off w/ \"REDDIT\"\\n\\n[Cloud Provisions](http://cloudprovisions.com/) 10% off w/ \"reddit10\"\\n\\n[Crypto Juicestore](https://cryptojuicestore.com/) 15% off w/ \"BTC\"\\n\\n[Digital Cloud Vapor](http://digitalcloudvapor.com/) 20% off w/ \"Bit coin\"\\n\\n[Dreamy Vapor Co](http://www.dreamyvapor.co/)\\n\\n[Frontier Vapor](http://frontiervapor.com/) 10% off w/ \"reddit\"\\n\\n[Galactic Vapors](http://www.galacticvapors.com/) 12% off w/ \"Reddit Love\"\\n\\n[Jaxx Juice](http://www.jaxxjuice.com/) 15% off w/ \"jaxx30ml\"\\n\\n[JuiceHead Vapor](http://juiceheadvapor.com/) **10% auto-discount w/ btc payment**\\n\\n[Keystone Vapor](http://www.keystonevapor.com/)\\n\\n[Open Source Vapor](http://www.opensourcevapor.com/)\\n\\n[Sloth Sauce](http://shop.slothsauce.com/)\\n\\n[Steeped Monkey Brains](http://www.steepedmonkeybrains.com)\\n\\n[The Flavor Apprentice](https://shop.perfumersapprentice.com/c-108-the-flavor-apprentice-world-of-flavors.aspx) (DIY juice)\\n\\n[The Steam Co](http://www.thesteamco.com/)\\n\\n[Twisted Cigs](http://www.twistedcigs.com/)\\n\\n[Value Vapor](https://www.valuevapor.com/)\\n\\n[Velvet Cloud](http://www.velvetcloud.com/) 15% off w/ \"reddit\"\\n\\n[Zodist](http://www.zodist.com/)\\n\\n==================================================\\n==================================================\\n*** *MODS, BATTERIES, JUICE, AND MORE* ***\\n==================================================\\n==================================================\\n\\n[Captain Kanger](http://captainkanger.com/)\\n\\n[Cool Vape](http://coolvape.com/)\\n\\n[Coval Vapes](http://covalvapes.com/) 10% off w/ \"Reddit\"\\n\\n[Eciggity](http://www.eciggity.com/) 10% off w/ \"reddit10\"\\n\\n[FastTech](https://www.fasttech.com/)\\n\\n[ForVaping.com](https://forvaping.com)\\n\\n[Go! Electronic Cigarette](http://www.goelectroniccigarette.com/)\\n\\n[Hookah On Mars](https://www.hookahonmars.com/)\\n\\n[Jake\\'s Vapes](http://jakesvapes.com/)\\n\\n[Mini Vape Shop](https://minivapeshop.com/)\\n\\n[Mist Hub](http://www.misthub.com/) 15% off w/ \"Reddit15\"\\n\\n[Paradise Vape](http://www.paradisevape.net/)\\n\\n[Savannah Ecig](http://savannahecig.com/)\\n\\n[Shop MasterVape](http://shopmastervape.com/)\\n\\n[Shop MVG](http://www.shopmvg.com/)\\n\\n[Sick Clouds](http://www.sickclouds.com/)\\n\\n[Sick Vapes](http://sickvapes.net/) 15% off w/ \"reddit15\"\\n\\n[Silk Vapes](http://silkvap.es/)\\n\\n[Silver Dragon Vape Shop](http://www.silverdragonvapeshop.com/)\\n\\n[Sure Vapes](http://www.surevapes.com/)\\n\\n[Vaper\\'s Mark](http://www.vapersmark.net/)\\n\\n[Vapes.com](http://www.vapes.com/)\\n\\n[Vape Overlord](http://www.vapeoverload.com/)\\n\\n[Vape-Today](http://www.vape-today.com/)\\n\\n[Vapor Palace](http://www.vaporpalace.com/)\\n\\n[Vapor Station](http://www.vaporstation.com/)\\n\\n[Vapor Vapes](http://vaporvapes.com/)\\n\\n[Vaporshark](http://www.vaporshark.com/)\\n\\n[Vivid Smoke](http://www.vividsmoke.com/)\\n\\n[Volttron Vapes](http://www.volttron.com/)\\n\\n[We Vape Here](http://wevapehere.com/) 10% off (all eLiquid) w/ \"tenoff\"\\n\\n[123Hookahs](http://www.123hookahs.com)\\n\\n==================================================\\n==================================================\\n*** *CIG-ALIKES* ***\\n==================================================\\n==================================================\\n\\n[Blackout Ecig](http://blackoutcigs.com/)\\n\\n==================================================\\n==================================================\\n*** *FOR THE ENTS* ***\\n==================================================\\n==================================================\\n\\n[Afrosmoke](http://www.afrosmoke.com/)\\n\\n[Azurias](https://secure.azarius.net/) (Amsterdam)\\n\\n[California Sea](http://californiasea.com/)\\n\\n[Dank Stop](http://dankstop.com/)\\n\\n[Epik Herbs](http://epikherbs.com/)\\n\\n[Get Lifted (CA)](http://www.getlifted.ca/)\\n\\n[Grass City](http://www.grasscity.com/us_en/)\\n\\n[Hot Box Vapors](http://hotboxvapors.com/)\\n\\n[Minty Vapes](http://mintyvapes.com/)\\n\\n[Open Vape](http://www.openvape.com/)\\n\\n[Puffitup](http://www.puffitup.com/)\\n\\n[Retroactive Smokeshop](http://www.retroactivesmokeshop.com/)\\n\\n[Smoke Cartel](http://smokecartel.com/)\\n\\n[Source Vapes](http://www.sourcevapes.com/)\\n\\n[Vape Cloud Plus](http://www.vaporcloudplus.com/) 15% off w/ \"REDDITCLOUDS\"\\n\\n[Vapor Warehouse](http://www.vaporwarehouse.com/)\\n\\n[Vapor Pens](http://www.vaporpens.com/)\\n\\n==================================================\\n==================================================\\n*** *ACROSS THE POND* ***\\n==================================================\\n==================================================\\n\\n[8bit Vape](https://8bitvape.co.uk/lindex.php?)\\n\\n[Black Forest Vapes](http://blackforestvapes.com/)\\n\\n[Ciggy Juice](http://www.ciggyjuice.co.uk/)\\n\\n[Cool Vape](http://coolvape.co.uk/)\\n\\n[E-Liquid UK Store](https://www.eliquidukstore.com/) 10% off w/ \"REDDIT\"\\n\\n[Fog On The Tyne](http://www.e-liquid-e-liquid.com/)\\n\\n[Lunar Vape](https://lunar-vape.com/)\\n\\n[The Vape Lab](http://www.thevapelab.co.uk/)\\n\\n[VapeBoy](https://www.vapeboy.com/)\\n\\n[Vape & Juice](http://vapeandjuice.co.uk/)\\n\\n[Vapor Quip](http://www.vaporquip.co.uk/)\\n\\n==================================================\\n==================================================\\n*** *AMERICA\\'S HAT* ***\\n==================================================\\n==================================================\\n\\n[Rainy Vapes](http://www.rainyvapes.ca/)\\n\\n[Vapetropolis](http://www.vapetropolis.ca/)\\n\\n[Vaped](http://vaped.ca/)\\n\\n[VapeXcape](https://vapexcape.ca/)\\n\\n[Vapor Jedi Ecigs &amp; Eliquid](http://www.vaporjedi.com)\\n\\n[White Rabbit](https://vapeme.net)\\n\\n==================================================\\n==================================================\\n*** *DOWN UNDER* ***\\n==================================================\\n==================================================\\n\\n[Vaporize](http://www.vaporize.com.au)',\n",
       " 'Google trends - look at that huge increase (Venezuela, Pakistan, Brazil, Philippines, Ukraine, Argentina, Thainland) Venezuela - https://www.google.com/trends/explore#q=bitcoin&geo=VE&cmpt=q&tz=\\n\\nPakistan - https://www.google.com/trends/explore#q=bitcoin&geo=PK&cmpt=q&tz=\\n\\nBrazil - https://www.google.com/trends/explore#q=bitcoin&geo=BR&cmpt=q&tz=\\n\\nPhilippines - https://www.google.com/trends/explore#q=bitcoin&geo=PH&cmpt=q&tz=\\n\\nUkraine - https://www.google.com/trends/explore#q=bitcoin&geo=UA&cmpt=q&tz=\\n\\nArgentina - https://www.google.com/trends/explore#q=bitcoin&geo=AR&cmpt=q&tz=\\n\\nThailand - https://www.google.com/trends/explore#q=bitcoin&geo=TH&cmpt=q&tz=',\n",
       " \"Has anyone compiled a list of bitcoin remittance processors and the markets they serve? It would be good to have a place to send people that regularly send/receive funds to/from their families via [international remittance](http://bitcoinmoney.com/image/43984456509). It seems that the mechanisms are in place, but the word hasn't gotten out.\\n\\n[EDIT:] [rebittance.org](http://rebittance.org) and others list the following:\\n\\n* Philippines ([Rebit](https://rebit.ph/), [Sendmoney](https://sendmoney.ph/), [Xoom](https://www.xoom.com/), [CoinPip](http://coinpip.com/), [Abra](https://www.goabra.com/))\\n* Hong Kong ([Bitspark](https://bitspark.io/), [CoinPip](http://coinpip.com/), [Abra](https://www.goabra.com/))\\n* Indonesia ([Artabit](https://artabit.com/))\\n* Mexico ([Volabit](https://volabit.com/), [SendBitcoin](https://sendbitcoin.mx/), [Bitso](https://bitso.com/))\\n* Kenya  ([BitPesa](https://bitpesa.co/))\\n* South Africa ([PayFast](https://www.payfast.co.za/))\\n* Ghana ([Beam](https://beamremit.com/))\\n* Spain ([Bit2Me](https://bit2me.com/))\\n* Vietnam ([Cash2VN](https://www.cash2vn.com/))\\n* Singapore ([CoinPip](http://coinpip.com/), [Abra](https://www.goabra.com/))\\n* Indonesia ([CoinPip](http://coinpip.com/), [Abra](https://www.goabra.com/))\\n* China ([CoinPip](http://coinpip.com/), [Abra](https://www.goabra.com/))\\n* Pakistan ([CoinPip](http://coinpip.com/), [Abra](https://www.goabra.com/))\\n* Argentina ([CoinPip](http://coinpip.com/), [Abra](https://www.goabra.com/))\\n\\n[Chip Chap](https://chip-chap.com/en) mentions Spain, France, England and Mexico (possibly Poland), but it's not clear that they handle remittances (cross-border, cross-currency transfers)\\n\\n[Bitpagos](https://www.bitpagos.com/en/)?\\n\\n[Volabit](https://www.volabit.com/en): Mexico <=> Argentina\\n\\n[Align](https://www.aligncommerce.com/) Commercial only?\\n\\n[CoinPip](http://coinpip.com/) {US, UK, Singapore, Hong Kong (Japan, Europe)} => {US, UK, Singapore, Hong Kong, Indonesia, China, Pakistan, Argentina, Philippines}\\n\\nOthers (what about #1 India)?\",\n",
       " 'New Project! Physical BTC BAR! [Imgur](http://i.imgur.com/LF4fVys.png)\\n\\n\\nhttp://finitebydesign.net/?p=741',\n",
       " 'What do you think of http://coloredcoins.org/ ? http://coloredcoins.org/',\n",
       " 'YouTube pre-roll ad for Nadex shows Bitcoin http://imgur.com/Pt3UfU6\\n\\nhttp://imgur.com/n7A9r6V',\n",
       " 'Cool Idea A crypto/barter crowdfunding site http://www.bartertocf.com/\\n\\nhttps://www.facebook.com/barterocf',\n",
       " '20 Blackswans! [Unique-Handmade-Limited edition](http://i.imgur.com/PSC49Pr.gif?1)\\n\\nMore info [here>>](http://swancoin.tumblr.com/)',\n",
       " 'Localbitcoins.com INDIA, RUSSIA, SWEDEN, SOUTH AFRICA - all saw record-breaking volume this week. [India](http://bitcoincharts.com/charts/chart.png?width=740&m=localbtcINR&SubmitButton=Draw&r=&i=Weekly&c=0&s=&e=&Prev=&Next=&t=&b=&a1=&m1=10&a2=&m2=25&x=0&i1=&i2=&i3=&i4=&v=1&cv=1&ps=0&l=0&p=0&)\\n\\n[Russia](http://bitcoincharts.com/charts/chart.png?width=740&m=localbtcRUB&SubmitButton=Draw&r=&i=Weekly&c=0&s=&e=&Prev=&Next=&t=&b=&a1=&m1=10&a2=&m2=25&x=0&i1=&i2=&i3=&i4=&v=1&cv=1&ps=0&l=0&p=0&)\\n\\n[Sweden](http://bitcoincharts.com/charts/chart.png?width=740&m=localbtcSEK&SubmitButton=Draw&r=&i=Weekly&c=0&s=&e=&Prev=&Next=&t=&b=&a1=&m1=10&a2=&m2=25&x=0&i1=&i2=&i3=&i4=&v=1&cv=1&ps=0&l=0&p=0&)\\n\\n[South Africa](http://bitcoincharts.com/charts/chart.png?width=740&m=localbtcZAR&SubmitButton=Draw&r=&i=Weekly&c=0&s=&e=&Prev=&Next=&t=&b=&a1=&m1=10&a2=&m2=25&x=0&i1=&i2=&i3=&i4=&v=1&cv=1&ps=0&l=0&p=0&)',\n",
       " 'ChiNext is taking a shiiiit! https://en.wikipedia.org/wiki/ChiNext\\n\\nhttps://www.google.com/finance?q=CHINEXT+COMPOSITE&ei=2tSMVdmvLIu2iALN_57IAQ',\n",
       " '99 Bitcoin Accepting Vape Vendors on the Wall, 99 Bitcoin Accepting Vape Vendors... ==================================================\\n==================================================\\n*** *VENDORS OFFERING A BTC-ONLY DISCOUNT* ***\\n==================================================\\n==================================================\\n\\n[Juicehead Vapor](http://juiceheadvapor.com/) **10% auto-discount w/ btc payment**\\n\\n==================================================\\n==================================================\\n*** *YOUR LOCAL BRICK & MORTAR SUPPLIER* ***\\n==================================================\\n==================================================\\n\\n[BukuVapor](http://www.bukuvapor.com/) (in-store only) Shreveport, LA\\n\\n[High Desert Vapes](https://highdesertvapes.com/) Albuquerque, NM\\n\\n[Marietta Vape Bar](http://www.myvapebar.com/) (in-store only) Marietta, GA\\n\\n[NOLA Vape](http://www.nolavape.com/) New Orleans, LA\\n\\n[Southern Vapory](http://www.southernvapory.com/) Oxford, MS\\n\\n[Sun-Vapers](http://www.sun-vapers.com/) Santee, CA - 10% off (orders over $60) w/ \"FOOLISH\"\\n\\n==================================================\\n==================================================\\n*** *JUICE SPECIALISTS* ***\\n==================================================\\n==================================================\\n\\n[Adirondack Vapor](http://www.adirondackvapor.com/) 10% off w/ \"Redditlove\" \\n\\n[Ahlusion](https://www.ahlusion.us/)\\n\\n[Black Axis Juice Co](http://blackaxisjuice.com/) (Contact site admins; manual btc processing)\\n\\n[Blue Dot Vapors](http://www.bluedotvapors.com/) 10% off w/ \"reddit10\"\\n\\n[Cloud Alchemist](http://www.cloudalchemist.com/) 10% off w/ \"REDDIT\"\\n\\n[Cloud Provisions](http://cloudprovisions.com/) 10% off w/ \"reddit10\"\\n\\n[Crypto Juicestore](https://cryptojuicestore.com/) 15% off w/ \"BTC\"\\n\\n[Digital Cloud Vapor](http://digitalcloudvapor.com/) 20% off w/ \"Bit coin\"\\n\\n[Dreamy Vapor Co](http://www.dreamyvapor.co/)\\n\\n[Frontier Vapor](http://frontiervapor.com/) 10% off w/ \"reddit\"\\n\\n[Galactic Vapors](http://www.galacticvapors.com/) 12% off w/ \"Reddit Love\"\\n\\n[Gordana Vape](http://gordonavapes.com/) 15% off w/ \"REDDIT\"\\n\\n[Jaxx Juice](http://www.jaxxjuice.com/) 15% off w/ \"jaxx30ml\"\\n\\n[JuiceHead Vapor](http://juiceheadvapor.com/) **10% auto-discount w/ btc payment**\\n\\n[Keystone Vapor](http://www.keystonevapor.com/)\\n\\n[Open Source Vapor](http://www.opensourcevapor.com/)\\n\\n[Sloth Sauce](http://shop.slothsauce.com/)\\n\\n[Steeped Monkey Brains](http://www.steepedmonkeybrains.com)\\n\\n[The Flavor Apprentice](https://shop.perfumersapprentice.com/c-108-the-flavor-apprentice-world-of-flavors.aspx) (DIY juice)\\n\\n[The Steam Co](http://www.thesteamco.com/)\\n\\n[Twisted Cigs](http://www.twistedcigs.com/)\\n\\n[Value Vapor](https://www.valuevapor.com/)\\n\\n[Velvet Cloud](http://www.velvetcloud.com/) 15% off w/ \"reddit\"\\n\\n[Zodist](http://www.zodist.com/)\\n\\n==================================================\\n==================================================\\n*** *MODS, BATTERIES, JUICE, AND MORE* ***\\n==================================================\\n==================================================\\n\\n[Captain Kanger](http://captainkanger.com/)\\n\\n[Cool Vape](http://coolvape.com/)\\n\\n[Coval Vapes](http://covalvapes.com/) 10% off w/ \"Reddit\"\\n\\n[FastTech](https://www.fasttech.com/)\\n\\n[ForVaping.com](https://forvaping.com)\\n\\n[Go! Electronic Cigarette](http://www.goelectroniccigarette.com/)\\n\\n[Hookah On Mars](https://www.hookahonmars.com/)\\n\\n[Jake\\'s Vapes](http://jakesvapes.com/)\\n\\n[Mini Vape Shop](https://minivapeshop.com/)\\n\\n[Mist Hub](http://www.misthub.com/) 15% off w/ \"Reddit15\"\\n\\n[Mt Baker Vapor](http://www.mtbakervapor.com/)\\n\\n[Paradise Vape](http://www.paradisevape.net/)\\n\\n[Savannah Ecig](http://savannahecig.com/)\\n\\n[Shop MasterVape](http://shopmastervape.com/)\\n\\n[Shop MVG](http://www.shopmvg.com/)\\n\\n[Sick Clouds](http://www.sickclouds.com/)\\n\\n[Sick Vapes](http://sickvapes.net/) 15% off w/ \"reddit15\"\\n\\n[Silk Vapes](http://silkvap.es/)\\n\\n[Silver Dragon Vape Shop](http://www.silverdragonvapeshop.com/)\\n\\n[Sure Vapes](http://www.surevapes.com/)\\n\\n[Vaper\\'s Mark](http://www.vapersmark.net/)\\n\\n[Vapes.com](http://www.vapes.com/)\\n\\n[Vape Overlord](http://www.vapeoverload.com/)\\n\\n[Vape-Today](http://www.vape-today.com/)\\n\\n[Vapor Palace](http://www.vaporpalace.com/)\\n\\n[Vapor Station](http://www.vaporstation.com/)\\n\\n[Vapor Vapes](http://vaporvapes.com/)\\n\\n[Vaporshark](http://www.vaporshark.com/)\\n\\n[Vivid Smoke](http://www.vividsmoke.com/)\\n\\n[Volttron Vapes](http://www.volttron.com/)\\n\\n[We Vape Here](http://wevapehere.com/) 10% off (all eLiquid) w/ \"tenoff\"\\n\\n[123Hookahs](http://www.123hookahs.com)\\n\\n==================================================\\n==================================================\\n*** *CIG-ALIKES* ***\\n==================================================\\n==================================================\\n\\n[Blackout Ecig](http://blackoutcigs.com/)\\n\\n==================================================\\n==================================================\\n*** *FOR THE ENTS* ***\\n==================================================\\n==================================================\\n\\n[Afrosmoke](http://www.afrosmoke.com/)\\n\\n[Azurias](https://secure.azarius.net/) (Amsterdam)\\n\\n[California Sea](http://californiasea.com/)\\n\\n[Dank Geek](http://dankgeek.com)\\n\\n[Dank Stop](http://dankstop.com/)\\n\\n[Epik Herbs](http://epikherbs.com/)\\n\\n[Get Lifted (CA)](http://www.getlifted.ca/)\\n\\n[Grass City](http://www.grasscity.com/us_en/)\\n\\n[Hot Box Vapors](http://hotboxvapors.com/)\\n\\n[Minty Vapes](http://mintyvapes.com/)\\n\\n[Open Vape](http://www.openvape.com/)\\n\\n[Puffitup](http://www.puffitup.com/)\\n\\n[Retroactive Smokeshop](http://www.retroactivesmokeshop.com/)\\n\\n[Smoke Cartel](http://smokecartel.com/)\\n\\n[Source Vapes](http://www.sourcevapes.com/)\\n\\n[Vape Cloud Plus](http://www.vaporcloudplus.com/) 15% off w/ \"REDDITCLOUDS\"\\n\\n[Vapor Warehouse](http://www.vaporwarehouse.com/)\\n\\n[Vapor Pens](http://www.vaporpens.com/)\\n\\n==================================================\\n==================================================\\n*** *ACROSS THE POND* ***\\n==================================================\\n==================================================\\n\\n[8bit Vape](https://8bitvape.co.uk/lindex.php?)\\n\\n[Black Forest Vapes](http://blackforestvapes.com/)\\n\\n[Ciggy Juice](http://www.ciggyjuice.co.uk/)\\n\\n[Cool Vape](http://coolvape.co.uk/)\\n\\n[E-Liquid UK Store](https://www.eliquidukstore.com/) 10% off w/ \"REDDIT\"\\n\\n[Fog On The Tyne](http://www.e-liquid-e-liquid.com/)\\n\\n[Lunar Vape](https://lunar-vape.com/)\\n\\n[Stealth Vapes](http://stealthvape.co.uk/)\\n\\n[VapourDepot](https://vapourdepot.com/) 10% off w/ \"reddit10\"\\n\\n[The Vape Lab](http://www.thevapelab.co.uk/)\\n\\n[VapeBoy](https://www.vapeboy.com/)\\n\\n[Vape & Juice](http://vapeandjuice.co.uk/)\\n\\n[Vapor Quip](http://www.vaporquip.co.uk/)\\n\\n==================================================\\n==================================================\\n*** *AMERICA\\'S HAT* ***\\n==================================================\\n==================================================\\n\\n[Rainy Vapes](http://www.rainyvapes.ca/)\\n\\n[Vapetropolis](http://www.vapetropolis.ca/)\\n\\n[Vaped](http://vaped.ca/)\\n\\n[VapeXcape](https://vapexcape.ca/)\\n\\n[Vapor Jedi Ecigs &amp; Eliquid](http://www.vaporjedi.com)\\n\\n[White Rabbit](https://vapeme.net)\\n\\n==================================================\\n==================================================\\n*** *DOWN UNDER* ***\\n==================================================\\n==================================================\\n\\n[Vaporize](http://www.vaporize.com.au)',\n",
       " 'Choose your Ledger * [Debt Ledger](http://www.usdebtclock.org/)\\n\\n* [Asset Ledger](https://tradeblock.com/blockchain/)',\n",
       " \"A list of Block Explorers, more than 10 alternatives of blockchain.info **Thanks for contributing to this list**\\n\\n**You can redirect someone to this post using this link http://bit.ly/blockexplorers**\\n\\nhttps://insight.bitpay.com/\\n\\nhttps://www.blockonomics.co/\\n\\nhttp://blockr.io/\\n\\nhttps://chain.so/\\n\\nhttps://www.biteasy.com/\\n\\nhttps://www.blocktrail.com/BTC\\n\\nhttp://blockinfo.org/\\n\\nhttps://www.walletexplorer.com/\\n\\nhttps://bitcoinchain.com/block_explorer\\n\\nhttps://live.blockcypher.com/btc/\\n\\nhttp://blockchains.io/\\n\\nhttp://chainflyer.bitflyer.jp\\n\\nhttps://bitinfocharts.com/bitcoin/explorer/\\n\\nhttps://www.coinprism.info/\\n\\nhttps://www.coinbase.com/network/blocks/\\n\\nhttps://www.blockseer.com/\\n\\nhttps://goochain.net/index.php\\n\\nhttp://srv1.yogh.io/\\n\\nhttps://www.smartbit.com.au/\\n\\nhttp://insight.thebit.info/\\n\\nhttp://explorer.coinpayments.net/index.php?chain=1\\n\\nhttps://bcnotes.org/\\n\\nhttp://explorer.chain.com/\\n\\nhttps://t0.com/explorer\\n\\nhttp://webbtc.com/\\n\\nhttps://tradeblock.com/blockchain\\n\\nhttps://www.scorechain.com/\\n\\nhttps://chain.localbitcoins.com/\\n\\nhttp://block.oklink.com/\\n\\nhttp://bitcoin-p2pool.com/bitcoin_block_explorer/\\n\\nhttp://blockmeta.com/home?lang=en\\n\\nhttps://blockexplorer.com/\\n\\n/////////\\n\\nForgot any block explorer, tell me I'll add to list?\\n\\nEDIT: Added new block explorer.\",\n",
       " 'https://medium.com/@octskyward/why-is-bitcoin-forking-d647312d22c1',\n",
       " '101 Bitcoin Accepting Vape Vendors! ==================================================\\n==================================================\\n*** *VENDORS OFFERING A BTC-ONLY DISCOUNT* ***\\n==================================================\\n==================================================\\n\\n[Juicehead Vapor](http://juiceheadvapor.com/) **10% auto-discount w/ btc payment**\\n\\n\\n==================================================\\n==================================================\\n*** *YOUR LOCAL BRICK & MORTAR SUPPLIER* ***\\n==================================================\\n==================================================\\n\\n[BukuVapor](http://www.bukuvapor.com/) (in-store only) Shreveport, LA\\n\\n[High Desert Vapes](https://highdesertvapes.com/) Albuquerque, NM\\n\\n[Marietta Vape Bar](http://www.myvapebar.com/) (in-store only) Marietta, GA\\n\\n[NOLA Vape](http://www.nolavape.com/) New Orleans, LA\\n\\n[Sun-Vapers](http://www.sun-vapers.com/) Santee, CA - 10% off (orders over $60) w/ \"FOOLISH\"\\n\\n[Vapor Juice](http://www.vaperjungle.com/) Denver, CO (Bitcoin ATM inside!)\\n\\n==================================================\\n==================================================\\n*** *JUICE SPECIALISTS* ***\\n==================================================\\n==================================================\\n\\n[Adirondack Vapor](http://www.adirondackvapor.com/) 10% off w/ \"Redditlove\" \\n\\n[Ahlusion](https://www.ahlusion.us/)\\n\\n[Black Axis Juice Co](http://blackaxisjuice.com/) (Contact site admins; manual btc processing)\\n\\n[Blue Dot Vapors](http://www.bluedotvapors.com/) 10% off w/ \"reddit10\"\\n\\n[Cloud Alchemist](http://www.cloudalchemist.com/) 10% off w/ \"REDDIT\"\\n\\n[Cloud Provisions](http://cloudprovisions.com/) 10% off w/ \"reddit10\"\\n\\n[Crypto Juicestore](https://cryptojuicestore.com/) 15% off w/ \"BTC\"\\n\\n[Digital Cloud Vapor](http://digitalcloudvapor.com/) 20% off w/ \"Bit coin\"\\n\\n[Dreamy Vapor Co](http://www.dreamyvapor.co/)\\n\\n[Frontier Vapor](http://frontiervapor.com/) 10% off w/ \"reddit\"\\n\\n[Galactic Vapors](http://www.galacticvapors.com/) 12% off w/ \"Reddit Love\"\\n\\n[Gordana Vape](http://gordonavapes.com/) 15% off w/ \"REDDIT\"\\n\\n[Jaxx Juice](http://www.jaxxjuice.com/) 15% off w/ \"jaxx30ml\"\\n\\n[JuiceHead Vapor](http://juiceheadvapor.com/) **10% auto-discount w/ btc payment**\\n\\n[Keystone Vapor](http://www.keystonevapor.com/)\\n\\n[Open Source Vapor](http://www.opensourcevapor.com/)\\n\\n[Sloth Sauce](http://shop.slothsauce.com/)\\n\\n[Steeped Monkey Brains](http://www.steepedmonkeybrains.com)\\n\\n[The Flavor Apprentice](https://shop.perfumersapprentice.com/c-108-the-flavor-apprentice-world-of-flavors.aspx) (DIY juice)\\n\\n[The Steam Co](http://www.thesteamco.com/)\\n\\n[Twisted Cigs](http://www.twistedcigs.com/)\\n\\n[Value Vapor](https://www.valuevapor.com/)\\n\\n[Velvet Cloud](http://www.velvetcloud.com/) 15% off w/ \"reddit\"\\n\\n[Zodist](http://www.zodist.com/)\\n\\n==================================================\\n==================================================\\n*** *MODS, BATTERIES, JUICE, AND MORE* ***\\n==================================================\\n==================================================\\n\\n[Captain Kanger](http://captainkanger.com/)\\n\\n[Cool Vape](http://coolvape.com/)\\n\\n[FastTech](https://www.fasttech.com/)\\n\\n[ForVaping.com](https://forvaping.com)\\n\\n[Go! Electronic Cigarette](http://www.goelectroniccigarette.com/)\\n\\n[Jake\\'s Vapes](http://jakesvapes.com/)\\n\\n[Mini Vape Shop](https://minivapeshop.com/)\\n\\n[Mist Hub](http://www.misthub.com/) 15% off w/ \"Reddit15\"\\n\\n[Mt Baker Vapor](http://www.mtbakervapor.com/)\\n\\n[Paradise Vape](http://www.paradisevape.net/)\\n\\n[Savannah Ecig](http://savannahecig.com/)\\n\\n[Shop MasterVape](http://shopmastervape.com/)\\n\\n[Shop MVG](http://www.shopmvg.com/)\\n\\n[Sick Clouds](http://www.sickclouds.com/)\\n\\n[Sick Vapes](http://sickvapes.net/) 15% off w/ \"reddit15\"\\n\\n[Silk Vapes](http://silkvap.es/)\\n\\n[Silver Dragon Vape Shop](http://www.silverdragonvapeshop.com/)\\n\\n[Sure Vapes](http://www.surevapes.com/)\\n\\n[Vaper\\'s Mark](http://www.vapersmark.net/)\\n\\n[Vapes.com](http://www.vapes.com/)\\n\\n[Vape Overlord](http://www.vapeoverload.com/)\\n\\n[Vape-Today](http://www.vape-today.com/)\\n\\n[Vapor Palace](http://www.vaporpalace.com/)\\n\\n[Vapor Station](http://www.vaporstation.com/)\\n\\n[Vapor Vapes](http://vaporvapes.com/)\\n\\n[Vaporshark](http://www.vaporshark.com/)\\n\\n[Vivid Smoke](http://www.vividsmoke.com/)\\n\\n[Volttron Vapes](http://www.volttron.com/)\\n\\n[We Vape Here](http://wevapehere.com/) 10% off (all eLiquid) w/ \"tenoff\"\\n\\n[123Hookahs](http://www.123hookahs.com)\\n\\n==================================================\\n==================================================\\n*** *CIG-ALIKES* ***\\n==================================================\\n==================================================\\n\\n[Blackout Ecig](http://blackoutcigs.com/)\\n\\n==================================================\\n==================================================\\n*** *FOR THE ENTS* ***\\n==================================================\\n==================================================\\n\\n[Afrosmoke](http://www.afrosmoke.com/)\\n\\n[Azurias](https://secure.azarius.net/) (Amsterdam)\\n\\n[California Sea](http://californiasea.com/)\\n\\n[Dank Geek](http://dankgeek.com) **10% auto-discount w/ btc payment**\\n\\n[Dank Stop](http://dankstop.com/)\\n\\n[Epik Herbs](http://epikherbs.com/)\\n\\n[Get Lifted (CA)](http://www.getlifted.ca/)\\n\\n[Grass City](http://www.grasscity.com/us_en/)\\n\\n[Hot Box Vapors](http://hotboxvapors.com/)\\n\\n[Minty Vapes](http://mintyvapes.com/)\\n\\n[Open Vape](http://www.openvape.com/)\\n\\n[Puffitup](http://www.puffitup.com/)\\n\\n[Retroactive Smokeshop](http://www.retroactivesmokeshop.com/)\\n\\n[Smoke Cartel](http://smokecartel.com/)\\n\\n[Source Vapes](http://www.sourcevapes.com/)\\n\\n[Vape Cloud Plus](http://www.vaporcloudplus.com/) 15% off w/ \"REDDITCLOUDS\"\\n\\n[Vapor Warehouse](http://www.vaporwarehouse.com/)\\n\\n[Vapor Pens](http://www.vaporpens.com/)\\n\\n==================================================\\n==================================================\\n*** *ACROSS THE POND* ***\\n==================================================\\n==================================================\\n\\n[8bit Vape](https://8bitvape.co.uk/lindex.php?)\\n\\n[Black Forest Vapes](http://blackforestvapes.com/)\\n\\n[Ciggy Juice](http://www.ciggyjuice.co.uk/)\\n\\n[Cool Vape](http://coolvape.co.uk/)\\n\\n[E-Liquid UK Store](https://www.eliquidukstore.com/) 10% off w/ \"REDDIT\"\\n\\n[Fog On The Tyne](http://www.e-liquid-e-liquid.com/)\\n\\n[Lunar Vape](https://lunar-vape.com/)\\n\\n[Stealth Vapes](http://stealthvape.co.uk/)\\n\\n[VapourDepot](https://vapourdepot.com/) 10% off w/ \"reddit10\"\\n\\n[The Vape Lab](http://www.thevapelab.co.uk/)\\n\\n[VapeBoy](https://www.vapeboy.com/)\\n\\n[Vape & Juice](http://vapeandjuice.co.uk/)\\n\\n[Vapor Quip](http://www.vaporquip.co.uk/)\\n\\n==================================================\\n==================================================\\n*** *AMERICA\\'S HAT* ***\\n==================================================\\n==================================================\\n\\n[Rainy Vapes](http://www.rainyvapes.ca/)\\n\\n[Vapetropolis](http://www.vapetropolis.ca/)\\n\\n[Vaped](http://vaped.ca/)\\n\\n[VapeXcape](https://vapexcape.ca/)\\n\\n[Vapor Jedi Ecigs &amp; Eliquid](http://www.vaporjedi.com)\\n\\n[White Rabbit](https://vapeme.net)\\n\\n==================================================\\n==================================================\\n*** *AFRICA[!](http://i.imgur.com/2t6r2Jo.gif)* ***\\n==================================================\\n==================================================\\n\\n[Sky Blue](http://www.skybluevaping.co.za/)\\n\\n[Sir Vape](http://www.sirvape.co.za/)\\n\\n[Vape King](http://www.vapeking.co.za/)\\n\\n==================================================\\n==================================================\\n*** *DOWN UNDER* ***\\n==================================================\\n==================================================\\n\\n[Vaporize](http://www.vaporize.com.au)',\n",
       " 'Bitcoin cash-out remittance companies Below are companies where Bitcoin can be cashed-out in a local currency for remittances:\\n\\n* [BitPesa](https://www.bitpesa.co/) Kenya, Tanzania\\n* [Living Room of Satoshi](https://www.livingroomofsatoshi.com/) Australia\\n* [Rebit](https://rebit.ph) Phillipines\\n* [Coins Ph](https://coins.ph) Phillipines\\n* [Palarin](https://palarin.com) Phillipines\\n* [Bit2Me](https://bit2me.com) Spain, Romania\\n* [BeamRemit](https://vip.beamremit.com) Ghana\\n* [Coins.co.th](https://coins.co.th) Thailand\\n* [Bitwire](https://www.bitwire.co) South Korea\\n* [Cash2vn](https://cash2vn.com) Vietnam\\n* [Bitwala](https://bitwa.la) Eurozone\\n\\nAdditions welcome.',\n",
       " 'Which movies feature/mention Bitcoin? \\nDope https://www.youtube.com/watch?v=L41xwM8tIRQ\\n\\nAlmost Human https://www.youtube.com/watch?v=ielOxpGQDYc\\n\\nGood Wife https://www.youtube.com/watch?v=-fazu1rgr9k\\n\\nSimpsons https://www.youtube.com/watch?v=8ovL20iGEac',\n",
       " 'Coinalytics, Abra, ShapeShift, Paymium, Filament, bitFlyer, Revel. $ 38.3 m raised in the last 30 days http://www.coindesk.com/coinalytics-raises-1-1-million-for-blockchain-data-platform/\\n\\nhttp://www.coindesk.com/bitcoin-to-cash-app-abra-raises-12-million-series-a/\\n\\nhttps://bitcoinmagazine.com/21874/instant-cryptocurrency-exchange-shapeshift-raises-1-6-million/\\n\\nhttp://www.financemagnates.com/cryptocurrency/news/french-bitcoin-payment-services-startup-paymium-raises-e1-million/\\n\\nhttp://www.econotimes.com/Filament-raises-$5-Million-to-bring-the-blockchain-to-the-Internet-of-things-78315\\n\\nhttp://www.benzinga.com/news/15/08/5770631/mt-gox-who-bitflyer-wipes-the-slate-clean-in-japan#/null\\n\\nhttp://bitcoinist.net/point-of-sale-company-revel-raises-13-5m-for-asian-and-european-expansion/\\n\\nBonus track: http://bravenewcoin.com/news/spells-of-genesis-raises-over-240-bitcoin-in-2-hours/',\n",
       " 'Cypherpoker - Mental Poker - Alpha Code: https://github.com/monicanagent/cypherpoker\\n\\nBlog: http://patrickbay.ca/blog/?p=650\\n\\nBlog2: http://www.torontocitylife.com/2015/09/19/totally-mental-poker/\\n\\nReddit: https://np.reddit.com/r/cypherpoker/',\n",
       " 'What ASIC miner is this, Antminer S? ? http://i.imgur.com/TqFAQOb.png\\n\\nhttp://i.imgur.com/BXjtbFw.png\\n\\nhttp://i.imgur.com/KefcNNY.png\\n',\n",
       " 'Paypal + Bitcoin [Pic](https://imgur.com/nFmgv9v)',\n",
       " 'FourDeltaOne.net source code and more FourDeltaOne.net source code, database, IW4Tool, aIW3 source code and more\\n\\nhttp://satoshibox.com/5623f02c12fb6d70668b456b\\nhttp://satoshibox.com/5623ef5f12fb6d694a8b457a\\nhttp://satoshibox.com/5623f13512fb6def488b4578\\nhttp://satoshibox.com/5623ea6412fb6d70668b456a',\n",
       " 'Bitcoin XBT soaring 18% and GBTC 14% today **XBT**\\n\\nhttp://www.nasdaqomxnordic.com/etp/etn\\n\\n**GBTC**\\n\\nhttps://finance.yahoo.com/q?s=GBTC',\n",
       " 'blockchain.info down for maintenance https://twitter.com/blockchain/status/658629493280612352\\n\\nhttps://archive.is/IenEc',\n",
       " 'What do you guys think of bitcoin-ng? \\nhttps://scalingbitcoin.org/montreal2015/presentations/Day1/8-Ittay-eyal-testbed-for-bitcoin-scaling.pdf\\n\\nhttps://epicenterbitcoin.com/podcast/103/',\n",
       " 'Bear trap? http://www.investopedia.com/terms/b/beartrap.asp',\n",
       " 'Craig had cancer http://cypherpunks.venona.com/date/1996/09/msg01451.html\\n\\nhttps://www.youtube.com/channel/UC_K0S2GbXYI9Fc77d6oRE7w?&ab_channel=durianrider',\n",
       " 'People are busy with Bitcoin-Christmas! A fast google search show me this:\\n\\nhttps://bitcoinpaperwallet.com/holiday-design/\\n\\nhttp://www.coindesk.com/10-christmas-gifts-with-bitcoin/\\n\\nhttp://www.coindesk.com/send-bitcoin-with-your-christmas-cards/\\n\\nhttp://www.gogivecoin.com/\\n\\nhttps://99bitcoins.com/give-the-gift-of-bitcoin-for-christmas/\\n\\nDo you find more?',\n",
       " 'Re-watch the three Brookings Institution videos on Bitcoin/Blockchain - very informative https://www.youtube.com/watch?v=c9CjWz2N5Hs\\nhttps://www.youtube.com/watch?v=TNToS1xR8C4\\nhttps://www.youtube.com/watch?v=rI9sPa6ulTc',\n",
       " 'A protocol for applications VS a service for users A protocol for applications **vs** a service for users\\n\\nConsensus **vs** democracy\\n\\nAdversarial assumptions **vs** finger-crossing\\n\\nAn inflation-free, censorship-resistant & bearer asset **vs** an open, cheap & fast payment system\\n\\n[Disrupting national currencies, central banks & finance](http://www.coindesk.com/barbados-central-bank/) **vs** Disrupting VISA, MasterCard & Paypal\\n\\n[Samson Mow](https://imgur.com/GX9pMcy) **vs** [Brian Armstrong](http://imgur.com/Dte5kYg)\\n\\nDecentralized infrastructure **vs** [Cloud infrastructure](https://imgur.com/VEwmU2b)\\n\\n[Trace Mayer](https://youtu.be/uHXfEJD6DUk?t=8m48s) **vs** [Roger Ver](https://www.youtube.com/watch?v=UP1YsMlrfF0)\\n\\n[Nick Szabo](https://twitter.com/NickSzabo4/status/706111380449984513), [Bram Cohen](https://twitter.com/bramcohen/status/697705876337995776) & [Joi Ito](http://joi.ito.com/weblog/2016/02/22/my-view-on-the-.html) **vs** [Rick Falkvinge](https://twitter.com/Falkvinge/status/705869918743470080)\\n\\n[Adam Back](https://en.wikipedia.org/wiki/Adam_Back) **vs** [Olivier Janssens](https://en.wikipedia.org/w/index.php?search=Olivier+Janssens&title=Special%3ASearch&go=Go)\\n\\n[The open-source community](http://www.scribd.com/doc/277516532/An-Open-Letter-to-the-Bitcoin-Community) **vs** [\"the industry\"](https://bitcoinxt.software/industry-letter.pdf)\\n\\n[bitcoin.org](https://bitcoin.org/en/about-us) **vs** [bitcoin.com](https://www.bitcoin.com/advertise)\\n\\n[An experienced team](https://imgur.com/2zMhDic) open to [anyone](https://imgur.com/RioLQab) to contribute **vs** [a new team where the misfits get erased](https://imgur.com/4yasMbt)\\n\\n[Technical merit](https://pbs.twimg.com/media/CZ3lzCyW0AAw0BJ.jpg) **vs** [lobbying](https://lists.linuxfoundation.org/pipermail/bitcoin-dev/2015-May/007905.html)\\n\\n94% **vs** 6%\\n',\n",
       " 'Bitcoin Reward Halving Date Estimates now Converting to July 11th http://bitcoinclock.com/\\n\\nhttp://www.bitcoinblockhalf.com/\\n\\nhttp://nextdifficulty.com/',\n",
       " '[RU] Russia is planning its own national cryptocurrency. The news is all over Russian mass media. All links are in Russian.\\n\\nhttp://www.kp.ru/online/news/2405005/\\n\\nhttp://ria.ru/economy/20160527/1439851475.html\\n\\ntass.ru/ekonomika/3317646a\\n\\nhttp://www.rbc.ru/finances/27/05/2016/574784d69a7947616b005c50\\n\\nhttp://www.kommersant.ru/doc/2997059\\n\\nhttp://www.vedomosti.ru/finance/news/2016/05/27/642663-rossii-kriptovalyuti\\n\\nEdit: Added a source in English \\n\\nhttp://sputniknews.com/russia/20160527/1040338067/russia-cryptocurrency-finances-national.html',\n",
       " 'Some say there is no spam, but how is that not spam? 7 month old transactions with 1 sat/B fee are bloating my mempool. 19 MBytes and counting. Just an excerpt, there are 1200+ such transactions in my mempool:\\n\\n* https://tradeblock.com/bitcoin/tx/d4c2b760cffa82787f73e8c5280a519b002e28d4b7d7f6c33e0e2ee5e68db627\\n* https://tradeblock.com/bitcoin/tx/8199db89de323e8607a87c29b7028f6287947f21579120f0d379f54e72b06a10\\n* https://tradeblock.com/bitcoin/tx/1618bb496fd7642224c1aadbb6fc1a7ec38bbb857deecc775fafa2ca00237ba4\\n* https://tradeblock.com/bitcoin/tx/ecb87886a9b9ced597e113098206812bba7e8ff015a88cf25a30a464d99a76ac\\n* https://tradeblock.com/bitcoin/tx/49b35fa3091aa2f0723c00bf7ed2bae3d813f0080edce8bfc1d435f91b74f4ac\\n* https://tradeblock.com/bitcoin/tx/f35732914cf9ae01176a682d5a6c74e3d493276c69f0c7b196ab36030b480729\\n* https://tradeblock.com/bitcoin/tx/01d438a7778f5c6a9e65d49e5a084e370ed2b4759860e8068f8012eb96f679bc\\n* https://tradeblock.com/bitcoin/tx/9f09115c3ebc9058c0bfc9fbdd131727e797eb21c1e33e718fb31ad21c7465b0\\n* https://tradeblock.com/bitcoin/tx/53978ad2932c9545e5cdcbe1e12fa53bc53347b7ecdfc52125f2039a792fb4b3\\n* https://tradeblock.com/bitcoin/tx/fd31811d35b6b1a7c4a10786277fd63e829a3ea1d9a9523ae9ac3ac491c86073\\n* https://tradeblock.com/bitcoin/tx/22eb304aee5ae76dd2581edc189ab501fc832b543178847e2c1107925a2fcbe4\\n* https://tradeblock.com/bitcoin/tx/c9f5873b1fabc58431220e7813c89c3a33b7b3004946a482ce34c18d7643f540\\n* https://tradeblock.com/bitcoin/tx/a7750f53c4341a513c33aa44dddb21342e8d0f44aab5529d9d3550be9ea02d07\\n* https://tradeblock.com/bitcoin/tx/e684a2fd2ad3906a37fc06a0cb8d71caff0d9d062c9b99e9b0af8ea101ded7f1\\n* https://tradeblock.com/bitcoin/tx/d7439590dedae751d443ba794cb06889494c824b4b2d422e07cc0af9b3c94f05\\n* https://tradeblock.com/bitcoin/tx/29915e0406ec6709c407c86840f72d8835f0ebea506cbd7c81200f8256febe94\\n* https://tradeblock.com/bitcoin/tx/08b48b42f2a6b12291ab66095eba131a3d299407b154298aedd2652dd41b37a3\\n* https://tradeblock.com/bitcoin/tx/39c1b34f93550993d4b10db82463f0a1f6e490e153312c298bf69dc203c2a121\\n* https://tradeblock.com/bitcoin/tx/0f1f10183cc924efbbc471034cd7518e14961d9e04d2731e97096f9ca43b02df\\n* https://tradeblock.com/bitcoin/tx/5bcb3404851b4e64971a504d1461b5b5f6291337a100c4957bdadff1a49523bd\\n* https://tradeblock.com/bitcoin/tx/0e77a1d9cf180ebf4ef4a83cea97071f3ca29f6404fd9d1beccc9698a05ba657\\n* https://tradeblock.com/bitcoin/tx/e110fdcdc649483ab1fb4de61518635b4e24fb99cacecd9d38bd913af5ba5397\\n* https://tradeblock.com/bitcoin/tx/97a26eeddea00e40ac81cdb15fafdbbc39edb69339a73a1638a22e9e50311651\\n* https://tradeblock.com/bitcoin/tx/ba8284bedaf48dfe96ebcf07df99e7477c7835ac983bd2da055702d2815710ec\\n* https://tradeblock.com/bitcoin/tx/1f5f0f2911d7a26c982ff6ddd3523a2fb569ce2b97b9c1104b396008b17c7321\\n* https://tradeblock.com/bitcoin/tx/c35da29ee3ff68a6bfda7c5bc083ec8c34865a87e614b4346dc9e61aed87a42b\\n* https://tradeblock.com/bitcoin/tx/8f8d9388c9fe129a28378efa0cc2d1866474b0cb1ad448ed73b42d808ea52762\\n* https://tradeblock.com/bitcoin/tx/58febea0aecdfb76dc1726f83b2e44dedc465727f654350954caefacd7556156',\n",
       " 'LOL Vinny Lingham June 14, 2016:\\nhttps://twitter.com/VinnyLingham/status/742773409193435136\\n\\n\\nJune 15, 2016:\\nhttps://twitter.com/VinnyLingham/status/743257965700874240',\n",
       " 'Deloitte: Bitcoin to cause global warming See \\n\\nhttp://blog.deloitte.com.au/greendot/2016/06/19/bitcoin-wasteful/?utm_source=t.co&utm_medium=social&utm_campaign=con-payments-0616&utm_content=blog\\n\\nAnd \\n\\nhttp://www.abc.net.au/radionational/programs/futuretense/lets-not-get-too-excited-about-blockchain/7529036',\n",
       " 'Short-stay rents on OpenBazaar * [France](https://duosear.ch/b70add1196fb27d17b9c469dda604313424dcc81/listing/7ad3cb237aff546a5fc5abf27c7177b4aa8395b4)\\n* [Canada](https://duosear.ch/139b7d2f214a59e0098f988ea7bf25ffc16b84f3/listing/e1364f8418de803bbe39d554c21359f32eb52f11)\\n* [Taiwan](https://duosear.ch/@edstar/listing/daace7924798631e77168fdd923658b20717a3d0)\\n* [Netherlands](https://duosear.ch/@lapingvino/listing/944ee9459b6bb6446f3527c571ffc21eed1c0b2a)\\n* [Spain](https://duosear.ch/355024271d93f7c987e42bb73894c842a0b4ac7e/listing/ed989d10ca2682dfce6e5753f2cf5de0e03763dd)\\n* [Israel](https://duosear.ch/f3d8cafad77028831e842b6635ea9131f0106a9b/listing/fb6bb6619c2730e7eef17ba96ae2141239d2fb40)\\n\\n(For comparison, Airbnb has 1,500,000+ listings.)',\n",
       " 'Two desktop multi-asset wallets \"Be Your Own bank\"\\n\\nhttps://altaapps.io/wallet/index.html\\n\\nvs\\n\\nhttp://www.exodus.io/releases/',\n",
       " 'Bitfinex Is UP http://bitfinex.com',\n",
       " 'Say my name. https://imgflip.com/i/18f9qy\\n\\nhttps://imgflip.com/i/18f9wq\\n\\nhttps://imgflip.com/i/18fa2t\\n\\n;-)',\n",
       " 'Can anyone spare a second for some feedback on a new landing pages for Bitcoin IRA? Much appreciated. Old:\\n\\n* https://bitcoinira.com/\\n\\nNew:\\n\\n* https://bitcoinira.com/ct1?newnav\\n* https://bitcoinira.com/ct2?newnav\\n* https://bitcoinira.com/ct3?newnav\\n* https://bitcoinira.com/ct4?newnav\\n* https://bitcoinira.com/ct5?newnav\\n* https://bitcoinira.com/ct6?newnav',\n",
       " 'https://youtu.be/hb3AWedkdwo Lmfao\\nJP  Morgan fail!: https://youtu.be/hb3AWedkdwo\\n\\nWhat is the internet: https://youtu.be/UlJku_CSyNg\\n\\nThis asshat: https://youtu.be/wGIGDsuWgMY',\n",
       " '$700!! [bitcoinity screenshot](http://i.imgur.com/ze3miUV.png)',\n",
       " 'IODB storage engine https://iohk.io/blog/scorex/iodb-storage-engine/',\n",
       " 'LaBITconf Videos * [November 4, 2016](https://www.youtube.com/watch?v=xJhXtyrgajI)\\n* [November 5, 2016](https://www.youtube.com/watch?v=rzKsPuuoohw)\\n\\n[Schedule](http://www.labitconf.com/#schedule)',\n",
       " 'Let the SegWit signalling begin! It has officially started!\\n\\nhttp://bitcoin.sipa.be/ver9-10k.png\\n\\nhttps://blockchain.info/charts/bip-9-segwit',\n",
       " 'List of alternative bitcoin nodes that needs funding. >https://bitcoincore.org/en/2015/09/01/open-letter/\\n\\n>An Open Letter to the Bitcoin Community^\\n\\n* https://github.com/btcsuite/btcd\\n* https://github.com/bcoin-org/bcoin\\n* https://github.com/bitpay/bitcore-node\\n* https://github.com/libbitcoin/libbitcoin-node\\n* https://github.com/bitcoinj/bitcoinj\\n* https://github.com/jgarzik/picocoin\\n* https://github.com/libbitcoin/libbitcoin-node\\n* https://github.com/samrushing/caesure\\n* https://github.com/bitpay/bitcore-node\\n* https://github.com/spesmilo/electrum-server\\n* https://github.com/bitsofproof/supernode\\n\\nThis is the vision of decentralization. **Not** direct bitcoind forks, and consensus rules changes via political methods (ie: [letters being signed behind our backs!](https://bitcoindevelopmentgrant.com/en/))\\n',\n",
       " 'Be reasonable. List your reasons for using bitcoin. [Reason #8](https://duosear.ch/bfd68a98cea4461a8dbe5cef05e21d5be642a1da/listing/6dfdedb789ebb5b41083b5e9e937cdcbe049e67f)\\n\\n\\n[Reason #29](https://duosear.ch/bfd68a98cea4461a8dbe5cef05e21d5be642a1da/listing/f09adf1ad34e712a22c0ffd4ca5d913f4576b269)\\n\\n\\n[Reason #66]\\n(https://duosear.ch/bfd68a98cea4461a8dbe5cef05e21d5be642a1da/listing/710df165117f1802c8adb5b3078eb7d75e72b645)\\n\\n\\n[Reason #67](https://duosear.ch/bfd68a98cea4461a8dbe5cef05e21d5be642a1da/listing/71dd449f1906dbfd3a503c87765da91c0995cadc)\\n\\n\\n[Reason #70](https://duosear.ch/bfd68a98cea4461a8dbe5cef05e21d5be642a1da/listing/2c9ca4126b19dcb81933badf5642fcef1a542746)',\n",
       " 'Coinbase: Why we should resist financial surveillance Coinbase, please do not hide anymore behind the \"regulations\" you have to \"comply\".  \\nOthers did it in a nice manner to respect their users: http://imgur.com/a/zz1DU (aka Signal app on the surveillance inquiry of their users).  \\nAlso AA pointed very clearly here: https://youtu.be/KBFedmrDTQw?list=PLPQwGV1aLnTsHvzevl9BAUlfsfwFfU7aP  \\nSo please, stop being an asshole [company funded by banksters](https://www.bbva.com/en/news/economy/corporate/bbva-ventures-invests-in-leading-bitcoin-platform-coinbase/) that give up user data to the govs and banksters and making a nightmare for users to use BTC...  \\nhttps://www.bbva.com/en/news/economy/corporate/bbva-ventures-invests-in-leading-bitcoin-platform-coinbase/  \\nhttps://np.reddit.com/r/Bitcoin/comments/3xksss/coinbase_bans_me_after_i_help_them_fix_major/  \\nhttps://np.reddit.com/r/Bitcoin/comments/4bwqsq/sold_5800_worth_of_btc_through_coinbase_this_week/  \\nhttps://np.reddit.com/r/Bitcoin/comments/4t3444/coinbase_is_silently_tracking_how_you_spend_you/  \\nhttps://np.reddit.com/r/Bitcoin/comments/4t4lir/instead_of_weekly_complaints_about_coinbase_or/  \\nhttps://news.bitcoin.com/us-secret-service-seizes-coinbase/  \\nhttps://np.reddit.com/r/Bitcoin/comments/2w9mrd/nosy_nosy_coinbase/  \\nhttps://np.reddit.com/r/Bitcoin/comments/53i635/coinbase_direct_transfer_transaction_vanished/  \\nhttps://np.reddit.com/r/Bitcoin/comments/53hxog/looking_for_an_alterative_to_coinbase/  \\nhttps://np.reddit.com/r/Bitcoin/comments/53l4jh/coinbase_closed_account_after_three_years_cs/  \\nhttps://np.reddit.com/r/Bitcoin/comments/53o13q/coinbase_closed_account_with_05_btc_still_in_it/  \\nhttps://np.reddit.com/r/Bitcoin/comments/53vsz0/coinbase_support_unresponsive/  \\nhttps://np.reddit.com/r/Bitcoin/comments/542ruj/coinbase_not_withdrawing_my_money/  \\nhttps://np.reddit.com/r/Bitcoin/comments/541qye/withdrew_money_on_sunday_still_not_in_my_bank/  \\nhttps://np.reddit.com/r/Bitcoin/comments/543jls/wtf_i_ordered_some_bitcoin_of_coinbase_for_550/  \\nhttps://np.reddit.com/r/Bitcoin/comments/543t4h/coinbase_has_locked_my_account_without_cause/  \\nhttps://np.reddit.com/r/Bitcoin/comments/546dk3/coinbase_sell_pending/  \\nhttps://np.reddit.com/r/Bitcoin/comments/548ffq/coinbase/  \\nhttps://np.reddit.com/r/Bitcoin/comments/54lod4/coinbase_stopped_responding_and_left_me_locked/  \\nhttps://np.reddit.com/r/Bitcoin/comments/54pa7b/coinbase_withdrawal_funds_missing/  \\nhttps://np.reddit.com/r/btc/comments/54qfqc/if_youre_using_circle_i_strongly_suggest_you_stop/  \\nhttps://np.reddit.com/r/Bitcoin/comments/54uxov/coinbase_sucks/  \\nhttp://imgur.com/a/FEVAl  \\nhttps://np.reddit.com/r/Bitcoin/comments/553asy/coinbase_limits_suddenly_lowered/  \\nhttps://np.reddit.com/r/Bitcoin/comments/579vcu/coinbase_closed_my_account_because_i_bought/  \\nhttps://np.reddit.com/r/Bitcoin/comments/57clwy/bitcoin_closed_my_account_during_money_transfer/  \\nhttps://np.reddit.com/r/Bitcoin/comments/57l7gs/coinbase_support_is_ignoring_me/  \\nhttps://np.reddit.com/r/Bitcoin/comments/57wh65/20_days_have_gone_past_but_coinbase_support_hasnt/  \\nhttps://np.reddit.com/r/Bitcoin/comments/58on48/coinbase_i_used_to_be_able_to_buy_1_btc_instantly/  \\nhttps://np.reddit.com/r/Bitcoin/comments/59utwc/coinbase_sucks_its_been_30_days_now_since_these/  \\nhttps://np.reddit.com/r/Bitcoin/comments/5a0jqj/beware_of_this_coinbase_scam_they_will_disable/  \\nhttps://np.reddit.com/r/Bitcoin/comments/5aq3jz/coinbase_lowered_my_limit_and_now_theyre_closing/  \\nhttps://np.reddit.com/r/Bitcoin/comments/5bmgpd/coinbase_just_screwed_me/  \\nhttps://np.reddit.com/r/Bitcoin/comments/5brg9d/having_issues_with_coinbase_anyone_have_anything/  \\nhttps://np.reddit.com/r/Bitcoin/comments/5bykeb/venting_frustrations_with_coinbase_and_circle/  \\nhttps://np.reddit.com/r/Bitcoin/comments/5c2olp/since_public_shaming_seems_to_be_the_only_way_to/  \\nhttps://np.reddit.com/r/Bitcoin/comments/5c959z/i_have_lost_access_to_my_coinbase_account_at_a/\\n',\n",
       " \"Bitcoin hitting $1000 (~68k Rupees) on Indian exchanges! http://i.imgur.com/va11vpk.png\\n\\nhttps://www.zebpay.com/\\n\\nhttps://www.unocoin.com/\\n\\ngranted the volumes aren't that insane.\",\n",
       " 'FT piece today http://imgur.com/uhaEP70',\n",
       " '1100! http://imgur.com/a/itYzR',\n",
       " 'Kraken €1000! https://bitcoinwisdom.com/markets/kraken/btceur\\n\\nHODL!',\n",
       " 'Roger Ver Unsuspended https://www.reddit.com/user/memorydealers',\n",
       " 'Rock and Roll \\n\\nhttp://www.bitcoin.kn/2017/01/andreas-antonoplous-masteringbitcoin/',\n",
       " 'Kraken went down?? https://i.imgur.com/0ccbobz.png',\n",
       " 'Bitcoin broke $1,103! https://poloniex.com/exchange#usdt_btc',\n",
       " 'When is Bitcoin going to break the all time high of $2200? https://www.reddit.com/r/Bitcoin/comments/3sry1m/bitcoin_price_scyrockets_to_2200_on_gemini/\\n\\nhttps://www.reddit.com/r/Bitcoin/comments/3sqjrf/gemini_2200_per_bitcoin_are_they_out_of_bitcoin/\\n\\nhttps://www.reddit.com/r/Bitcoin/comments/3ss945/just_got_this_email_from_gemini_about_the_2200/',\n",
       " 'Possible Coinbase Outage Right Now There is a possible coinbase outage right now\\n\\nhttps://community.coinbase.com/t/where-is-my-bitcoin/13808/8\\n\\nhttps://community.coinbase.com/t/send-4-btc-to-coinbase-and-still-did-not-receive-it-on-my-transaction-list/13807\\n\\nhttps://community.coinbase.com/t/pending-double-you-tee-eff/13809\\n\\nhttps://community.coinbase.com/t/coins-received-but-is-not-showing-in-my-balance/13799\\n\\nhttps://community.coinbase.com/t/send-bitcoin-but-not-received/13806\\n\\nhttps://www.reddit.com/r/CoinBase/comments/5xf5s7/coinbase_instant_buy_is_not_so_instant_at_the/\\n\\nhttps://www.reddit.com/r/CoinBase/comments/5xf21a/pending_pending_pending/\\n\\nhttps://www.reddit.com/r/CoinBase/comments/5xdxj1/pending_transaction_disappeared_from_account/\\n\\nhttps://www.reddit.com/r/CoinBase/comments/5xf6rg/send_bitcoin_but_not_received/',\n",
       " 'DDOS! https://twitter.com/Poloniex',\n",
       " 'INTERESTING READ https://medium.com/wetrust-blog/an-interview-with-michael-casey-wetrust-fintech-advisor-a6f2d0ed0edc#.jh6mvho74',\n",
       " 'Social Media Scams https://www.cryptocoinsnews.com/report-rise-bitcoin-related-scams-social-media/',\n",
       " 'BTU added to a really small exchange > https://yobit.net/en/trade/BTU/BTC\\n\\nhttps://twitter.com/ubiqcoinbot/status/843243377273458688',\n",
       " 'Correlation, causation? https://arstechnica.com/tech-policy/2017/04/feds-deliver-fatal-blow-to-botnet-that-menaced-world-for-7-years/\\n\\nhttps://coin.dance/nodes\\n\\n100 BU nodes are gone.',\n",
       " 'Bitcoin on Mars? https://www.reddit.com/r/Futurology/comments/63fpr8/your_dollars_wont_get_very_far_on_mars/?st=J13UHNXP&sh=54114d51',\n",
       " '50.21% of addresses are reused. [Imgur](http://i.imgur.com/3DwSiWL.png)\\n\\nhttps://oxt.me/charts',\n",
       " 'Honey... https://youtu.be/4r7wHMg5Yjg',\n",
       " 'Surges Again http://www.zerohedge.com/news/2017-05-04/bitcoin-soars-above-1600-relentless-japanese-buying-frenzy',\n",
       " 'Coinbase Down....again.... https://www.coinbase.com/503.html',\n",
       " 'Coinbase is down http://status.coinbase.com',\n",
       " 'Understanding the basics https://www.ted.com/talks/don_tapscott_how_the_blockchain_is_changing_money_and_business\\n\\nhttps://www.ted.com/talks/neha_narula_the_future_of_money#t-964593',\n",
       " '4th bday Primedice live stream now!!! https://twitch.tv/primeedd https://twitch.tv/primeedd',\n",
       " 'I love the graph in the metro! http://metro.co.uk/2017/05/15/what-is-bitcoin-how-do-i-buy-it-and-why-do-ransomware-criminals-want-them-6638325/ http://metro.co.uk/2017/05/15/what-is-bitcoin-how-do-i-buy-it-and-why-do-ransomware-criminals-want-them-6638325/',\n",
       " 'Bitcoin vs Petrodollar https://youtu.be/3_Ig9R5GC7A\\n',\n",
       " 'TIL Craig Wright also attempted to bamboozle Andreas, Charlie, and Zooko https://twitter.com/zooko/status/728646183690895360\\n\\nhttps://twitter.com/aantonop/status/728649771213295616\\n\\nhttps://twitter.com/charlieshrem/status/881661776378703874',\n",
       " '20 BTC? https://blockchain.info/en/tx/1d7154817cf8bdb42d2b7e22d95d62518667f7d1f836b8a562b3ba02e2ebd175',\n",
       " 'Bitcoin.com not signaling anymore. Last 6/10 blocks not signaling [https://btc.com/stats/pool/Bitcoin.com](https://btc.com/stats/pool/Bitcoin.com)\\n\\n[https://www.xbt.eu/](https://www.xbt.eu/)\\n',\n",
       " 'must watch for miners : decentralization in nature https://youtu.be/wdsHegIujMg\\nhttps://www.nature.com/news/ant-colonies-flow-like-fluid-to-build-tall-towers-1.22290\\nthen in robots\\nhttps://www.youtube.com/watch?v=gM_ED05TNfY',\n",
       " 'Bitcoin v. Gold http://imgur.com/a/dbUeA',\n",
       " 'BITSTAMP AND SWISSQUOTE PARTNER UP! https://www.bitstamp.net/article/bitstamp-and-swissquote-partner/\\n\\nhttps://www.financemagnates.com/forex/brokers/swissquote-partners-bitstamp-launch-bitcoin-trading/',\n",
       " 'This spam transaction was worth $50,000,000 same transaction, different block explorers.\\n\\nhttps://blockchain.info/tx/0a7ac60e01356f7275bb173df06d9cd97495b4dec8f60b1e87962c948f2bb5c5\\n\\nhttps://counterpartychain.io/transaction/0a7ac60e01356f7275bb173df06d9cd97495b4dec8f60b1e87962c948f2bb5c5\\n\\nhttp://coinmarketcap.com/assets/storjcoin-x/',\n",
       " 'BTCe hacked Mt Gox. https://twitter.com/CharlieShrem/status/890254097009565697\\n\\nhttps://twitter.com/kyletorpey/status/890253492190945285\\n\\nhttps://twitter.com/coindesk/status/890256080965599232\\n\\nhttp://blog.wizsec.jp/2017/07/breaking-open-mtgox-1.html\\n\\nhttps://www.fincen.gov/news/news-releases/fincen-fines-btc-e-virtual-currency-exchange-110-million-facilitating-ransomware\\n\\nhttps://www.justice.gov/usao-ndca/pr/russian-national-and-bitcoin-exchange-charged-21-count-indictment-operating-alleged',\n",
       " 'Bitcoin Trending on Yahoo - http://imgur.com/a/nDZOn http://imgur.com/a/nDZOn',\n",
       " 'Telco214 signaling BIP91 https://www.xbt.eu/',\n",
       " 'How to HODL [IMG]https://i.imgur.com/RpEpN0t_d.jpg?maxwidth=640&shape=thumb&fidelity=high[/IMG]',\n",
       " 'https://www.theregister.co.uk/2017/08/08/bitcoin_core_fork_cryptocurrency/ https://www.theregister.co.uk/2017/08/08/bitcoin_core_fork_cryptocurrency/\\n\\nTime to watch.  Not invest. ',\n",
       " 'SEGWIT locked in! http://segwit.co/',\n",
       " 'Hawaii Hodlers https://www.meetup.com/FinTech-Cryptocurrency-Innovations/events/242185166/',\n",
       " 'Atten: Hawaii HODLERS! https://www.meetup.com/FinTech-Cryptocurrency-Innovations/events/242185166/',\n",
       " 'Ever wondered how mempool spam looks like? https://blockchain.info/address/1Enjoy1C4bYBr3tN4sMKxvvJDqG8NkdR4Z  https://blockchain.info/address/1FFirnLctcZxVx5otnLNZ4dDGUkMBM4vNr  https://blockchain.info/address/1NwKxTBrqrfa1YFLB44gyJEj2GanZ2qtDK  https://blockchain.info/address/1SochiWwFFySPjQoi2biVftXn8NRPCSQC  ',\n",
       " 'Cryptocurrency Raffles Anyone? https://www.reddit.com/r/CryptocurrencyRaffle/',\n",
       " 'https://www.btcforkmonitor.info/ online again!',\n",
       " 'bitnodes.21.co/nodes/ - just interesting to watch right now... https://bitnodes.21.co/nodes/',\n",
       " 'one minute to go..\\nhttps://coin.dance/',\n",
       " 'What? [this](http://www.investopedia.com/news/bitcoin-form-third-currency-when-does-it-end/?utm_campaign=fb_main_page&utm_source=facebook&utm_medium=social)',\n",
       " 'Visa, IBM, Microsoft and USAA have all posted jobs in the past week looking for Bitcoin/Blockchain [IBM](https://krb-sjobs.brassring.com/TGnewUI/Search/home/HomeWithPreLoad?PageType=JobDetails&jobId=109272&PartnerId=26059&SiteId=5034&JobReqLang=141&recordstart=1&JobSiteId=5034&JobSiteInfo=109272_5034&gqid=221&JB_IndeedSponsored#jobDetails=undefined)\\n\\n[Microsoft](https://careers.microsoft.com/jobdetails.aspx?jid=304340&job_id=1061613&utm_source=Indeed&show_desc=0)\\n\\n[USAA](https://search.usaajobs.com/us/en-US/Job-Details/Lead-Blockchain-Developer-Job/San-Antonio-TX/xjdp-jf837-ct104374-jid76893194?s_cid=indeedSponsored&utm_source=indeed.com&utm_campaign=sem_campaign_usaa&utm_medium=job_aggregator&utm_content=paid_search&ss=paid)\\n\\n[VISA](https://jobs.smartrecruiters.com/Visa/743999657361661-blockchain-engineer?src=JB-10081)',\n",
       " 'The \"Vladimir Club\" https://bitcointalk.org/index.php?topic=98239.0',\n",
       " 'Most Accurate Bitcoin price predictions so far: Here are the MOST ACCURATE bitcoin price predictions so far, thanks to the guys who predicted (sorted by prediction date);\\n\\nhttps://www.tradingview.com/chart/BTCUSD/Ki6WsoTb-BTC-20K-ROAD-TO-2020/ (july 2016)\\n\\nhttps://www.tradingview.com/chart/BTCUSD/MrwPhbog-Long-Term-Bitcoin-price-extrapolation/ (october 2016)\\n\\nhttps://www.tradingview.com/chart/BTCUSD/pwA4bThM-Baloon-Animals/ (november 2016)\\n\\nhttps://www.tradingview.com/chart/BTCUSD/3OZUN78H-Audacious-Predictions-For-2018/ (december 2016)\\n\\nhttps://www.tradingview.com/chart/BTCUSD/lLSMXsGW-BTC-longtime-log-chart-12-25k-in-2017/ (january 2017)\\n\\nhttps://www.tradingview.com/chart/BTCUSD/sfAghOcR-The-most-epic-bullrun-in-history-The-Age-of-Bitcoin/ (february 2017)\\n\\nhttps://www.tradingview.com/chart/BLX/W5wwj74c-Bitcoin-Long-Term-Trend-Analysis-A-near-term-clue-BLX-Update/ (may 2017)\\n\\nhttps://www.tradingview.com/chart/BTCUSD/OMwCwpGT-100-realistic-trading-plan-for-bitcoin/ (may 2017)\\n\\nhttps://www.tradingview.com/chart/BTCUSD/YRZvdurN-The-target-of-current-bubble-lays-between-40k-and-110k/ (may 2017)\\n\\nhttps://www.tradingview.com/chart/BLX/9Mf2K968-BTC-Make-a-move/ (july 2017)\\n\\nhttps://www.tradingview.com/chart/BTCUSD/xs9UcVdJ-BTCUSD-Bottom-s-in-Expecting-Segwit-activation-and-no-split/ (july 2017)\\n',\n",
       " 'Bitcoin full node recipe How i heard about this:\\n\\nhttps://bitcointalk.org/index.php?topic=567069.msg16988409#msg16988409\\n\\nWhat i bought:\\n\\nhttps://www.aliexpress.com/snapshot/0.html?spm=a2g0s.9042647.6.2.K8tvMl&orderId=85750650909417&productId=32778878699\\n\\nhttp://www.newegg.com/Product/Product.aspx?Item=N82E16822178872&nm_mc=TEMC-RMA-Approvel&cm_mmc=TEMC-RMA-Approvel-_-Content-_-text-_-\\n\\nhttps://www.amazon.com/gp/product/B006YG8X9Y/ref=oh_aui_detailpage_o01_s00?ie=UTF8&psc=1\\n\\nhttps://www.amazon.com/gp/product/B00LLEN5FQ/ref=oh_aui_detailpage_o00_s00?ie=UTF8&psc=1\\n\\nA quick link to Github page:\\n\\nhttps://github.com/mmgen/MMGenLive\\n\\n#BTC',\n",
       " 'Bitcoin please hold https://imgur.com/gallery/4hvlv',\n",
       " 'CNBC is currently executing a massive Bitcoin witch hunt. But with what purpose? Some of the CNBC reports of the past 48 hours:\\n\\nhttps://www.cnbc.com/2017/09/06/economist-robert-shiller-explains-how-bitcoin-resembles-past-bubbles.html\\n\\nhttps://youtu.be/4z401vv_3S4\\n\\nhttps://youtu.be/kjf72zOySf4\\n\\nhttps://www.cnbc.com/2017/09/13/bitcoin-price-falls-on-worries-about-china-exchange-crackdown.html\\n\\nhttps://www.cnbc.com/2017/09/12/jpmorgan-ceo-jamie-dimon-raises-flag-on-trading-revenue-sees-20-percent-fall-for-the-third-quarter.html\\n\\n\\n\\n',\n",
       " 'Exchangex hacked? https://news.bitcoin.com/north-korean-hackers-accused-of-hacking-south-korean-exchanges/',\n",
       " 'IMF digital currency? https://www.cnbc.com/2017/10/13/bitcoin-get-serious-about-digital-currency-imf-christine-lagarde-says.html',\n",
       " 'Told you so https://www.reddit.com/r/Bitcoin/comments/77e4ib/top_mainstream_finance_guy_most_conservative/dolwlmb/',\n",
       " 'Bter.com becomes gate.io https://i.imgur.com/gFtUc9C.png\\nhttps://i.imgur.com/D9p6jUM.png\\n\\nhttps://twitter.com/btercom/status/918906123419373568\\n\\na lot more to follow I suppose',\n",
       " \"Bitcoin's theme song. http://youtu.be/MYcqToQzzGY\",\n",
       " 'Pure Evil https://i.imgur.com/FGU2NH1.png',\n",
       " 'iancoleman.github.io/bip39 has moved to iancoleman.io/bip39 iancoleman.github.io/bip39 has moved to iancoleman.io/bip39',\n",
       " 'What will happen to bitcoin if the chinese bubble explodes these next couple of years? http://www.zerohedge.com/news/2017-03-17/why-fate-world-economy-hands-chinas-housing-bubble\\n\\nhttp://www.zerohedge.com/news/2017-10-21/unprecedented-housing-bailout-revealed-china-property-sales-drop-first-time-30-month\\n\\nhttp://www.businessinsider.com/chinas-richest-man-chinese-real-estate-biggest-bubble-in-history-2016-9 \\n\\nhttp://money.cnn.com/2016/09/28/investing/china-wang-jianlin-real-estate-bubble/index.html\\n\\nhttp://www.businessinsider.com/chinese-debt-risk-to-financial-stability-2017-9 \\n\\nhttps://www.wsj.com/articles/chinas-latest-bubble-is-its-most-serious-yet-1501759298',\n",
       " 'Money comes in https://www.youtube.com/watch?v=8Dj38lA64QY',\n",
       " 'https://twitter.com/xentagz/status/930518112272777218',\n",
       " 'https://www.reddit.com/r/btc/comments/7cw54z/saw_a_post_asking_theymos_where_the_donated_6900/?st=J9ZRKLEV&sh=00b2bac8',\n",
       " \"I'm doing my part. I'm running a node right now. Fire them up.\\nEDIT: https://bitcoin.org/en/full-node#mac-os-x-instructions\\n\\nhttps://bitcoin.org/en/full-node#windows-10\\n\\nhttps://www.reddit.com/r/Bitcoin/comments/7atxs8/howto_setup_a_full_core_node_on_your_synology/\",\n",
       " 'Tulip Bulb Mania https://www.cnbc.com/2017/11/27/citadels-griffin-says-bitcoin-has-elements-of-the-tulip-bulb-mania.html',\n",
       " 'Some people are having a laugh https://coinmarketcap.com/currencies/bitcoindark/\\n\\nhttps://coinmarketcap.com/currencies/bitcoin-plus/\\n\\nhttps://coinmarketcap.com/currencies/bitcoincashscrypt/\\n\\nhttps://coinmarketcap.com/currencies/ebtcnew/\\n\\nhttps://coinmarketcap.com/currencies/bitcoinz/\\n\\nhttps://coinmarketcap.com/currencies/bitcoin-red/\\n\\nhttps://coinmarketcap.com/currencies/bitcoinfast/\\n\\nhttps://coinmarketcap.com/currencies/bitcoin-scrypt/\\n\\nhttps://coinmarketcap.com/currencies/ebitcoin-cash/\\n\\nhttps://coinmarketcap.com/currencies/litebitcoin/\\n\\nhttps://coinmarketcap.com/currencies/antibitcoin/\\n\\nhttps://coinmarketcap.com/currencies/bitcoin-21/\\n\\nhttps://coinmarketcap.com/currencies/bitcoin-planet/\\n\\nhttps://coinmarketcap.com/currencies/bitcoin-diamond/\\n\\nhttps://coinmarketcap.com/currencies/bitcoin-unlimited/\\n\\nhttps://coinmarketcap.com/currencies/bitcoin-silver/\\n\\nhttps://coinmarketcap.com/currencies/bitcoin2x/\\n\\nhttps://coinmarketcap.com/currencies/first-bitcoin/\\n\\nhttps://coinmarketcap.com/currencies/first-bitcoin-capital/',\n",
       " 'Bing! [caption](http://imgur.com/F7VgKwX.jpg)',\n",
       " 'I say it here many times... [Here](https://np.reddit.com/r/Bitcoin/comments/6gth4k/bitcoins_price_could_cross_100000_in_10_years/ditbtmz/)...  \\n[Here](https://np.reddit.com/r/Bitcoin/comments/6flvqo/can_bitcoin_really_go_up_forever/dij4dmd/)...',\n",
       " 'Mempool is extremely congested. Source:\\n\\nhttps://jochen-hoenicke.de/queue/\\n\\nhttps://blockchain.info/unconfirmed-transactions',\n",
       " 'Bitcoinity 15K gif https://i.imgur.com/kkVYK3y.gif',\n",
       " 'org v com https://bitcoin.org/en/getting-started\\n\\nhttps://www.bitcoin.com/getting-started/',\n",
       " 'The very few people mentioned by Satoshi Nakamoto in his white paper [Wei Dai](https://en.bitcoin.it/wiki/Wei_Dai) \\n\\n[Henri Massias](https://bitcoinsaints.blogspot.ch/2017/03/henri-massias.html) \\n\\n[Xavier Serret-Avila](https://bitcoinsaints.blogspot.ch/2017/03/xavier-serret-avila.html) \\n\\n[Jean-Jacques Quisquater](https://en.wikipedia.org/wiki/Jean-Jacques_Quisquater) \\n\\n[Dave Bayer](https://en.wikipedia.org/wiki/Dave_Bayer) \\n\\n[Stuart Haber](https://www.linkedin.com/in/stuart-haber/) \\n\\n[W. Scott Stornetta](https://www.linkedin.com/in/w-scott-stornetta-25186120/) \\n\\n[Adam Back](https://en.wikipedia.org/wiki/Adam_Back) \\n\\n[Ralph C. Merkle](https://en.wikipedia.org/wiki/Ralph_Merkle) \\n\\n[William Feller](https://en.wikipedia.org/wiki/William_Feller) \\n',\n",
       " 'CNN Money https://www.youtube.com/watch?v=4jMxz-m5iLc',\n",
       " 'Venezuela creating El Petro Virtual Currency https://g1.globo.com/mundo/noticia/maduro-anuncia-que-venezuela-criara-el-petro-moeda-virtual-similar-ao-bitcoin.ghtml\\n\\nhttps://tn.com.ar/internacional/nicolas-maduro-presento-petro-la-moneda-virtual-de-venezuela_837935\\n\\n',\n",
       " 'Bitcoin = Pokemon https://www.facebook.com/barstoolsports/videos/10156054191677502/',\n",
       " 'FB is FUDDING hard right now [Top 3 on Trending](https://i.imgur.com/n3eYXbh.png)\\n\\n[Top Result After Clicking](https://i.imgur.com/8SuFH3y.png)\\n\\n[Second Result](https://i.imgur.com/PhjgIPK.png)\\n\\n[Third Result](https://i.imgur.com/KfbwB62.png)',\n",
       " 'Bitcoin vs S&P 500 [https://imgur.com/a/0DC7U](https://imgur.com/a/0DC7U)',\n",
       " '10000 on Gemini! https://cryptowat.ch/gemini/btcusd',\n",
       " 'Bitcoin. Moon. https://media.giphy.com/media/BT33Hk6FMYHV6/giphy.gif',\n",
       " 'Net neutrality ruling http://www.cbc.ca/news/business/net-neutrality-ruling-1.4449904',\n",
       " \"Implementation of MAST proposal is finished (BIP 98/116/117) What's MAST?  \\nhttps://bitcoinmagazine.com/articles/the-next-step-to-improve-bitcoin-s-flexibility-scalability-and-privacy-is-called-mast-1476388597/\\n\\nSource:  \\nhttps://github.com/maaku/bitcoin/tree/merkle-branch-verify  \\nhttps://github.com/maaku/bitcoin/tree/tail-call-semantics \\n\\nBIP 98: https://github.com/bitcoin/bips/blob/master/bip-0098.mediawiki  \\nBIP 116: https://github.com/bitcoin/bips/blob/master/bip-0116.mediawiki  \\nBIP 117:  https://github.com/bitcoin/bips/blob/master/bip-0117.mediawiki\",\n",
       " 'RIP Volatility http://www.cboe.com/delayedquote/advanced-charts?ticker=XBT%2fF8',\n",
       " 'Whoops https://twitter.com/SPYJared/status/939998571415425024',\n",
       " 'Hodl. http://www.mythman.com/zeus24j2.jpg',\n",
       " 'Whatever happens https://imgur.com/a/rE2Gf',\n",
       " 'Shine on! https://www.youtube.com/watch?v=8UXircX3VdM#t=8m42s',\n",
       " 'Theme of the Day [Click Here](https://www.youtube.com/watch?v=RGFXcN0vYeA)\\n\\n[Then Click Here](https://www.gdax.com/trade/BTC-USD)\\n\\n',\n",
       " '0 confirmations https://blockchain.info/unconfirmed-transactions',\n",
       " 'Never gets old... https://www.youtube.com/watch?v=dZPQdZLyHYE',\n",
       " 'Money well spent? https://image.prntscr.com/image/ZA9ApAr4QoGxfzlHlPZVBw.png\\n\\nSource: http://www.ohmycoins.xyz/',\n",
       " 'I need help compiling a list for a cryptocurrency version of \"mean tweets\"! Wouldn\\'t you say that the cryptocurrency community could use a little bit more humor in it?  \\n\\nHelp us create a \"mean tweets\" version for cryptocurrency by linking your favorite mean tweet that you\\'d like your favorite cryptopersonality to read.  I\\'m sure there\\'s no shortage of them.  :-P\\n\\nHere\\'s a general idea of who we\\'re looking for:\\n\\nhttps://twitter.com/SatoshiLite\\n\\nhttps://twitter.com/AmberBaldet\\n\\nhttps://twitter.com/bitcoinmom\\n\\nhttps://twitter.com/conniegallippi\\n\\nhttps://twitter.com/WolfOfPoloniex\\n\\nhttps://twitter.com/madbitcoins, \\n\\nhttps://twitter.com/krakenfx\\n\\nhttps://twitter.com/myetherwallet\\n\\nhttps://twitter.com/TREZOR\\n\\nhttps://twitter.com/BITCOlNCASH\\n\\nhttps://twitter.com/VinnyLingham\\n\\nhttps://twitter.com/officialmcafee\\n\\nhttps://twitter.com/Excellion\\n\\nhttps://twitter.com/starkness\\n\\nhttps://twitter.com/laurashin\\n\\nhttps://twitter.com/ljxie\\n\\nhttps://twitter.com/WhalePanda\\n\\nhttps://twitter.com/jimmysong\\n\\nhttps://twitter.com/lopp\\n\\nhttps://twitter.com/adam3us\\n\\nhttps://twitter.com/rogerkver\\n\\nhttps://twitter.com/TuurDemeester\\n\\nFeel free to include anyone you\\'d like.\\n\\nThanks in advance!\\n',\n",
       " 'Bitcoin demystified https://kashmirnarrative.com/amp/2017/12/31/bitcoin-demystified/',\n",
       " \"At one point there are no more coins to sell, that's the hard floor. There are millions of bitcoins out of the market (for many reasons) and millions more in the hands of Hodlers. That hard floor gives BTC a price around $10,000. Bitcoin is a very scarce asset, much more so than gold and the overvalued stocks. Just zoom-out, watch the big picture and logarithmic scales and enjoy the ride up after every dip/correction.\\n\\nLook at these perspectives:\\n\\nhttps://gyazo.com/f8edfe04e99332fc45eaef71f76d156b\\n\\nhttps://gyazo.com/8de2e5fec691a72894217c97b739bc75\\n\\nhttps://gyazo.com/0dd3e767a50a82fbae8eacbc83fda12c\\n\\nhttps://gyazo.com/d3c307aa8a330d3c33766bb8339731df\\n\\nhttps://gyazo.com/b81fa5bd7ca843b31092be016472bb79\\n\\nhttps://gyazo.com/45a3a7b48da3a79323bdca3a0f00748d\\n\\nhttps://gyazo.com/ec624161254284650222802e44675496\\n\\nhttps://gyazo.com/d419d09258b91d7584e52b13398b9f53\\n\\nhttps://gyazo.com/9f3f89afd10f83970a3ed1ff8429f0a1\\n\\nhttps://gyazo.com/14d3f851f40e1b8a90a934bbdf7b022a\\n\\nhttps://gyazo.com/cf07e1007a3e5d061c1d410dcfbabff4\\n\\nhttps://gyazo.com/ba3b52cb5c0bb960e85ab4919cca5b28\\n\\nhttps://gyazo.com/d8898903fa6091edd297b651a4d765b4\\n\\nhttps://gyazo.com/14bfded655fe8983993967c0b6575b2c\\n\\n\\nhttps://gyazo.com/71494f1885cbe5f1a13a6b526d3a1635\\n\\nhttps://gyazo.com/982cf568df87f70f5b450a16086a11af\\n\\nhttps://gyazo.com/778b38bb5f2347a5944749478ee87028\\n\\nhttps://gyazo.com/d7d11400854baf00ef587a5a246f780d\\n\\nhttps://gyazo.com/fb244f31b8d00175959581e347bd4f7d\\n\\n\\nhttps://gyazo.com/2455e68f6444c0442cb6f898e7c080ec\\n\\n\\nhttps://gyazo.com/75e70c1ababfc9d833265082f640339e\\n\\nhttps://imgur.com/uA5r9U6\\n\\nhttps://gyazo.com/a97a5fcd669e223f8e04a58d57e8481d\\n\\nhttps://gyazo.com/b421f388d4685a0d594825bb7bdcf37e\\n\\nhttps://gyazo.com/70a944e267f64214a5be405833e232a5\\n\\nhttps://gyazo.com/d8684be35bbaaad016d47614503ee583\\n\\nhttps://gyazo.com/48a87c3ce07dcb6a9be456d920b3b1f3\",\n",
       " 'Mu bitcoin prediction https://imgur.com/a/PX40r',\n",
       " 'Blockchain in healthcare https://bountyhealthnexus.herokuapp.com/register?invite_code=92c2d94e-1e46-47d8-a332-81e1d5bb03c5',\n",
       " 'Can you guess what is next? LINK:\\nhttps://s14.postimg.org/3yye7pu0x/guess.jpg\\nHINT:\\nhttps://s14.postimg.org/rd6djtjpt/hint.jpg\\nSPOILER: bulltrap.',\n",
       " 'Breaking Bitcoin https://youtu.be/Egr5YHeznbY',\n",
       " '11K! https://imgur.com/a/8ZVOv\\n',\n",
       " 'Is it possible this company holds the patents for Blockchain? https://patents.google.com/patent/US9450923?oq=daren+klum\\n\\nhttps://patents.google.com/patent/US9769130?oq=daren+klum\\n\\nhttps://patents.google.com/patent/EP2918038B1/en?oq=daren+klum',\n",
       " 'Bitcoin accepted in Auckland (NZ) bar [https://i.imgur.com/tgfKCnF.jpg](https://i.imgur.com/tgfKCnF.jpg)',\n",
       " \"Hardware vulnerability in Keepkey's STM32F205RGT6 https://www.keepkey.com/2018/03/21/security-update-release-notes-v5-1-0/\\n\\nhttps://np.reddit.com/r/keepkey/comments/88zxeq/firmware_update_information_for_custom_firmware/\\n\\nSee also my old review\\n\\nhttps://medium.com/@AussieHash/keepkey-under-the-hood-3beac31e1064\\n\",\n",
       " 'Recommended Listening https://twitter.com/NodedPodcast/status/979848416128888832?s=19',\n",
       " \"Updated Merchant list that accept Bitcoin - Keep adding* Lets make a mega thread of all stores online that accept bitcoin. We can eventually compile it into a web directory once this list grows, But here goes.Remember to mention the country it ships to or if it's worldwide.\\n\\nWorldwide delivery:\\n___________________________________________________________________________________________\\n*https://bitcoinsuperstore.us/ - Amazon gift cards and goods \\n\\n*https://www.fasttech.com/ - Chinese goods \\n\\n*https://stakebox.org - Raspberry pi / staking boxes \\n\\n*https://myjapanbox.com - Japan Subscription boxes\\n\\n*https://www.ledgerwallet.com/ - Crypto Hardware wallet \\n\\n*http://drapis.com - Honey from Portugal\\n\\n*https://uk.lush.com/ - Organic Body Products\\n\\n*https://www.nuciya.com/ - Organic Body Products\\n\\n*https://whiterabbitjapan.com - Japanese Goods\\n\\n*https://pi-supply.com - Raspberry PI goods\\n\\n*https://shopawl.com/ - Buy from major retailers and pay with BTC\\n\\n*https://bitstickers.net - Bitcoin and crypto stickers\\n\\n*https://allthingsdecentral.com/- Crypto goods and gear\\n\\n*https://www.humblebundle.com - Game keys\\n\\n*https://www.coolstuffjapan.com - Japanese Goods\\n\\n*https://www.myjapanbox.com - Japan subscription box\\n\\nSouth Africa:\\n___________________________________________________________________________________________\\n*https://bidorbuy.co.za - everything bidding \\n\\n*https://subwear.co.za - Clothing\\n\\n*https://www.takealot.com/ - General Goods\\n\\n*https://thebcase.co.za/ - Book subscription store\\n\\n*http://www.mnandioils.co.za/ - Aromatherapy goods\\n\\n*https://embracelife.co.za/ - Health Products\\n\\n*http://www.healthbasket.co.za/ - Health Products\\n\\n*https://planet54.com - Clothing\\n\\n*https://myperfumeshop.co.za - Perfume for men and women\\n\\n*https://somatcha.co.za - Match tea\\n\\n*https://himalayanhandmades.co.za - Himalayan clothing\\n\\n*https://sa-back2nature.com - Organic Products\\n\\n*https://firsttech.co.za - PC components and laptops\\n\\n*https://raru.co.za - General Goods\\n\\n*https://loot.co.za - General Goods\\n\\n*https://charmsa.co.za - Custom Charm Bracelets\\n\\n*https://thecodersbar.co.za - Web Design\\n\\n*https://dialsandstyles.co.za - Watches\\n\\n*https://xiiskate.co.za - Skating \\n\\n*https://fitfoot.co.za - Ladies shoes\\n\\n*https://swagz.co - Jewelry \\n\\n*https://www.charisjewelry.co.za/ - Jewelry \\n\\n*https://www.realpet.co.za/ - Pet food\\n\\n*https://kinshop.co.za/ - Art\\n\\n*https://za.ciovita.com/ - Cycling atire\\n\\n*https://ohsoglamorous.co.za/ - Wedding gifts etc\\n\\n*https://snatcher.co.za/ - General goods\\n\\n*https://michelleludek.co.za/ - Female designer clothing\\n\\n\",\n",
       " 'All four of Andreas Antonopoulos’ appearances on the Joe Rogan Experience https://youtu.be/1cexawnOlR8\\n\\nhttps://youtu.be/EnhGlgCm4MU\\n\\nhttps://youtu.be/5wwbzwUXfgc\\n\\nhttps://youtu.be/1sOxtBiBpE4\\n',\n",
       " 'Google SEO: Buy bitcoin [https://www.google.com/search?hl=en&q=buy&#37;20bitcoin](https://www.google.com/search?hl=en&q=buy%20bitcoin)\\n\\n[bitcoin.com](https://bitcoin.com) and [buy.bitcoin.com](https://buy.bitcoin.com) is listet before [bitcoin.org](https://bitcoin.org). \\n\\nCheck by browsing in Private/Incognito window',\n",
       " 'Bank of America closing accounts linked to Crypto [https://www.coindesk.com/bank\\\\-america\\\\-closing\\\\-three\\\\-year\\\\-olds\\\\-account\\\\-crypto/](https://www.coindesk.com/bank-america-closing-three-year-olds-account-crypto/)',\n",
       " 'BTC Live Panel Discussion (Starting at 12:30 EST) [https://go.bloomberg.com/attend/invite/bitcoinliveviewing/](https://go.bloomberg.com/attend/invite/bitcoinliveviewing/)',\n",
       " 'http://uofmississippi.qualtrics.com/jfe/form/SV_bJmjxl2dBSPCCRT Please take my survey for a college research paper on cryptocurrency! Thanks!\\n\\n[http://uofmississippi.qualtrics.com/jfe/form/SV\\\\_bJmjxl2dBSPCCRT](http://uofmississippi.qualtrics.com/jfe/form/SV_bJmjxl2dBSPCCRT)',\n",
       " 'For your listening pleasure Here is my bitcoin music selections \\n\\nhttps://www.youtube.com/watch?v=xpfKcDGWlqo\\n\\nhttps://www.youtube.com/watch?v=4Yu6dA603uw\\n\\nhttps://www.youtube.com/watch?v=UG7zLhEWanc\\n',\n",
       " 'https://cointelegraph.com/news/firm-to-map-out-manufacturing-capacity-worldwide-with-new-blockchain-based-ecosystem',\n",
       " 'Asic mining shirt that I designed on Amazon.  [https://www.amazon.com/dp/B07CRPQYJT](https://www.amazon.com/dp/B07CRPQYJT) \\n\\nhttps://preview.redd.it/ha2zrh2k1dv01.jpg?width=423&format=pjpg&auto=webp&s=bd712cc65c1672664f28a6884eace4a597b561aa',\n",
       " \"Consensus 2018: What We Learned from the Cryptoforum of the Year IT'S A SUCCESS\\n\\n[https://shitcoinoffering.com/consensus\\\\-2018\\\\-what\\\\-we\\\\-learned\\\\-from\\\\-the\\\\-cryptoforum\\\\-of\\\\-the\\\\-year/](https://shitcoinoffering.com/consensus-2018-what-we-learned-from-the-cryptoforum-of-the-year/)\\n\\nhttps://preview.redd.it/ffpzbqimd8z01.jpg?width=320&format=pjpg&auto=webp&s=f2d25e942d216f26556c12eb8f498bd548035e11\",\n",
       " 'Analysis of Roger? (Thanos Infinity War) [https://np.reddit.com/r/marvelstudios/comments/8jur9m/why\\\\_thanos\\\\_plan\\\\_makes\\\\_him\\\\_one\\\\_of\\\\_the\\\\_most/](https://np.reddit.com/r/marvelstudios/comments/8jur9m/why_thanos_plan_makes_him_one_of_the_most/)',\n",
       " 'Will 2019 be the Year when Bitcoin and Altcoins go Mainstream? [http://bitcoinist.com/will\\\\-2019\\\\-signal\\\\-the\\\\-dawn\\\\-of\\\\-the\\\\-cryptocurrency\\\\-awakening/](http://bitcoinist.com/will-2019-signal-the-dawn-of-the-cryptocurrency-awakening/)\\n\\nhttps://preview.redd.it/rcd8dx8ijj111.jpg?width=1920&format=pjpg&auto=webp&s=12f0cb8c9a9bd976a190e5e8705cdfa016acc972',\n",
       " 'Earn Bitcoins by Playing Mobile Games. [http://bitcoinist.com/play\\\\-video\\\\-games\\\\-earn\\\\-bitcoin\\\\-gmo\\\\-launches\\\\-cryptochips/](http://bitcoinist.com/play-video-games-earn-bitcoin-gmo-launches-cryptochips/)\\n\\nhttps://preview.redd.it/gq0t9s4ghj111.png?width=480&format=png&auto=webp&s=9ad00e54ba2310bbac062baa5fd88a1ab495987a',\n",
       " 'Bitcoin Prices are Being Manipulated [http://bitcoinist.com/bitcoin\\\\-price\\\\-manipulated\\\\-forbes\\\\-macroeconomist/](http://bitcoinist.com/bitcoin-price-manipulated-forbes-macroeconomist/)',\n",
       " '1979 Computer Store Manager Predicts Future Sound familiar?\\n\\n[https://www.youtube.com/watch?v=eNT1L3jGjbA](https://www.youtube.com/watch?v=eNT1L3jGjbA)',\n",
       " 'Art with bitcoin https://preview.redd.it/ij9pnok539011.jpg?width=750&format=pjpg&auto=webp&s=abc6d406dd2f5a2de57a39926cda66e542b9e912\\n\\nhttps://preview.redd.it/huewrnw439011.jpg?width=960&format=pjpg&auto=webp&s=8c813b12a01750ff3175b62607d45a887e558d29\\n\\nhttps://preview.redd.it/kqm6qrt339011.jpg?width=615&format=pjpg&auto=webp&s=db0cce92c64f939f660a9653b579e360dec66769\\n\\nhttps://preview.redd.it/k2s40m2339011.jpg?width=720&format=pjpg&auto=webp&s=607ba8a25c2cbc7224a5dc65a4d412a4fb2b2e89',\n",
       " 'Making Money With Bitcoin: 33 Super Helpful Q&As [https://www.finstead.com/posts/make\\\\-money\\\\-with\\\\-bitcoin](https://www.finstead.com/posts/make-money-with-bitcoin)',\n",
       " 'Bitcoin ETFs on the Horizon [http://bitcoinist.com/bitcoin\\\\-etfs\\\\-may\\\\-coming\\\\-soon\\\\-2\\\\-prominent\\\\-firms\\\\-collaborate/](http://bitcoinist.com/bitcoin-etfs-may-coming-soon-2-prominent-firms-collaborate/)',\n",
       " 'Cryptocurrency Market Gains Stability, Volume Still Low But More Bullish [https://cryptocrushr.com/cryptocurrency\\\\-market\\\\-gains\\\\-stability\\\\-volume\\\\-still\\\\-low\\\\-but\\\\-more\\\\-bullish/](https://cryptocrushr.com/cryptocurrency-market-gains-stability-volume-still-low-but-more-bullish/)\\n\\nhttps://preview.redd.it/kwdshwwtaw211.jpg?width=760&format=pjpg&auto=webp&s=52a33f6437c6e2e2dd6946fd4f75c3b2a6db9e76',\n",
       " 'Andreas eloquently explains why Bitcoin is the great invention, not blockchain tech. [https://www.youtube.com/watch?v=r2f0HlaRdgo&t=254s](https://www.youtube.com/watch?v=r2f0HlaRdgo&t=254s)\\n\\n[http://fortune.com/2018/06/07/blockchain\\\\-firm\\\\-r3\\\\-is\\\\-running\\\\-out\\\\-of\\\\-money\\\\-sources\\\\-say/](http://fortune.com/2018/06/07/blockchain-firm-r3-is-running-out-of-money-sources-say/)',\n",
       " 'Jump Trading Debuts Electronic OTC Bitcoin Trading [http://bitcoinist.com/electronic\\\\-bitcoin\\\\-otc\\\\-platform/](http://bitcoinist.com/electronic-bitcoin-otc-platform/)\\n\\nhttps://preview.redd.it/qwl427u34j211.png?width=480&format=png&auto=webp&s=8da257048c6483b9957c4ea796c457367e8ebe9d',\n",
       " 'Vietnam Set to Ban Bitcoin Mining Rigs [http://bitcoinist.com/vietnam\\\\-finance\\\\-minister\\\\-wants\\\\-ban\\\\-bitcoin\\\\-mining\\\\-rigs/](http://bitcoinist.com/vietnam-finance-minister-wants-ban-bitcoin-mining-rigs/)\\n\\nhttps://preview.redd.it/m3n95ni2fc211.jpg?width=640&format=pjpg&auto=webp&s=2fa136f17b1de4a49f6fd99c043d3d4c0061b93b',\n",
       " 'Examining the Google Ban on Bitcoin and Cryptocurrency Ads [http://bitcoinist.com/ulterior\\\\-motives\\\\-likely\\\\-behind\\\\-googles\\\\-blanket\\\\-ban\\\\-cryptocurrency\\\\-ads\\\\-says\\\\-experts/](http://bitcoinist.com/ulterior-motives-likely-behind-googles-blanket-ban-cryptocurrency-ads-says-experts/)\\n\\nhttps://preview.redd.it/dth8ov5dc1211.jpg?width=1920&format=pjpg&auto=webp&s=50bfd80df96334fae751a3264240d6fc3bc0e015',\n",
       " 'New Bitcoin Core v 16.1 - 9 engines detected this file ? Decided to get new New Bitcoin Core v 16.1 from [https://bitcoin.org/ru/download](https://bitcoin.org/ru/download).\\n\\nFirst tested via VirusTotal:  \\t\\n\\n[https://bitcoin.org/bin/bitcoin-core-0.16.1/bitcoin-0.16.1-win64.zip](https://bitcoin.org/bin/bitcoin-core-0.16.1/bitcoin-0.16.1-win64.zip)\\n\\n[https://www.virustotal.com/#/url/93d5f10c6383f56e900f30637f2b5d3d3d84ad5638f6b7740f4e5bcc7b1afbe4/detection](https://www.virustotal.com/#/url/93d5f10c6383f56e900f30637f2b5d3d3d84ad5638f6b7740f4e5bcc7b1afbe4/detection) \\n\\nLooks fine. \\n\\nThen downloaded [bitcoin-0.16.1-win64.zip](https://bitcoin-0.16.1-win64.zip) and tested this file again:\\n\\n[https://www.virustotal.com/#/file/c4d7a9276f32547a0561fde301c9159a3a1264009dee2910c990f4a06775ab27/detection](https://www.virustotal.com/#/file/c4d7a9276f32547a0561fde301c9159a3a1264009dee2910c990f4a06775ab27/detection)\\n\\n9 engines detected in this file... why? \\n\\nhttps://preview.redd.it/62de4e97cx511.jpg?width=1362&format=pjpg&auto=webp&s=ee6ccbab9a0734d88ea104ab6d56d72c3b5c6afb\\n\\nSHA-256\\tcheck sum c4d7a9276f32547a0561fde301c9159a3a1264009dee2910c990f4a06775ab27 - is the same like in original check sum \\n\\n[https://bitcoin.org/bin/bitcoin-core-0.16.1/SHA256SUMS.asc](https://bitcoin.org/bin/bitcoin-core-0.16.1/SHA256SUMS.asc)',\n",
       " 'Likely Price Trajectory for Bitcoin in 2018 Thoughts?\\n\\n[https://medium.com/@amavashev/possible-price-trajectory-for-bitcoin-in-2018-582ea6a14706](https://medium.com/@amavashev/possible-price-trajectory-for-bitcoin-in-2018-582ea6a14706)',\n",
       " 'Federal Reserve Branch Cryptocurrency Price Indexes [https://nz.finance.yahoo.com/news/federal-branch-adds-cryptocurrency-price-134416334.html](https://nz.finance.yahoo.com/news/federal-branch-adds-cryptocurrency-price-134416334.html)',\n",
       " 'CY 1 - Hardware wallet in the form of a mobile case [https://www.youtube.com/watch?v=zNZikfvheT4](https://www.youtube.com/watch?v=zNZikfvheT4)  \\n\\n\\nWebsite - [https://cypherock.com](https://cypherock.com)\\n\\nhttps://preview.redd.it/bctnlm57id411.png?width=1024&format=png&auto=webp&s=a285c667d5ba27d3cc6722ea6f554f630b389371',\n",
       " 'Crypto Tycoons Spar Over Alleged 30,000 Bitcoin Debt [https://www.coindesk.com/crypto-tycoon-may-sue-over-30000-bitcoin-debt-defamation/](https://www.coindesk.com/crypto-tycoon-may-sue-over-30000-bitcoin-debt-defamation/)',\n",
       " 'Bitcoin Price was manipulated to hit 20k [https://www.theverge.com/2018/6/13/17461392/bitcoin\\\\-tether\\\\-bitfinex\\\\-university\\\\-texas\\\\-report\\\\-fraud\\\\-price\\\\-manipulation](https://www.theverge.com/2018/6/13/17461392/bitcoin-tether-bitfinex-university-texas-report-fraud-price-manipulation)',\n",
       " 'Bankers will be bankers [https://www.irishtimes.com/business/financial-services/danske-bank-shares-fall-on-money-laundering-allegations-1.3553816](https://www.irishtimes.com/business/financial-services/danske-bank-shares-fall-on-money-laundering-allegations-1.3553816)',\n",
       " 'MATRIX: Start To Evolution (To Huobi.Pro) [https://www.reddit.com/user/MatrixAiTurkey/comments/8w48i8/matrix\\\\_start\\\\_to\\\\_evolution\\\\_to\\\\_huobipro/](https://www.reddit.com/user/MatrixAiTurkey/comments/8w48i8/matrix_start_to_evolution_to_huobipro/)',\n",
       " 'Baanx – NewsWatch Review [https://www.youtube.com/watch?v=Os9Homl6Y\\\\_M](https://www.youtube.com/watch?v=Os9Homl6Y_M)',\n",
       " 'The Coinbase review every beginner should have [https://www.smartbitcoininvestments.com/coinbase-review/](https://www.smartbitcoininvestments.com/coinbase-review/)',\n",
       " \"Trading bitcoin on huobi pro is very dangerous Huobi pro is an overseas bitcoin platform owned by huobi. As long as bitcoin prices decrease huobi's website and app will not be able to open on a regular basis which caused a huge loss to many users! Do not abide by the contract with other companies, malicious breach of faith, huobi’s credit is really worrying! Take a look at users' complaints against:\\n\\nhttps://preview.redd.it/vteinbb826711.png?width=870&format=png&auto=webp&s=de7dd95cf0fdeeca74699625a3e1c08aa972d725\\n\\nhttps://preview.redd.it/d9z6vcb826711.png?width=973&format=png&auto=webp&s=04b27616d3b377bad27e88f830e3968d3299ccfc\\n\\nhttps://preview.redd.it/uczat2g826711.png?width=888&format=png&auto=webp&s=63e83211daaa4780263babf5b55df7b5153b6ed2\\n\\nhttps://preview.redd.it/rggy36f826711.png?width=923&format=png&auto=webp&s=6390cf67f1b1586965f574c35baf7904fff11437\\n\\nhttps://preview.redd.it/mzaqcrd826711.png?width=579&format=png&auto=webp&s=a0d03e254c8a378f23f23a85a0d68a0032f20823\\n\\nhttps://preview.redd.it/9jmxa8g826711.png?width=939&format=png&auto=webp&s=9d7f348b29a3bd0e733cb5d5496eff3c7c8861fe\\n\\nhttps://preview.redd.it/jhqoc4g826711.png?width=904&format=png&auto=webp&s=0dd2b8f0bd4657222fb6675fb95d1d053b1657d3\\n\\nhttps://preview.redd.it/p317vrd826711.png?width=945&format=png&auto=webp&s=33d34942d6e85f3ff8ee5bc48c479aa5e97f8c1d\\n\\nhttps://preview.redd.it/b3fwj3e826711.png?width=884&format=png&auto=webp&s=b68dc4cab4b9ef819362e79c94e86e00dca9f5df\\n\\nhttps://preview.redd.it/apk42hg826711.png?width=926&format=png&auto=webp&s=4b866b8ddbe12a451f2f95a12d79ba9ffd706155\\n\\nhttps://preview.redd.it/89t9i1g826711.png?width=973&format=png&auto=webp&s=3d66fd838e70a4ee4ee63d9242ca9817e3c543da\\n\\nhttps://preview.redd.it/k36t5hg826711.png?width=888&format=png&auto=webp&s=8032d883bb1b24587734460b4eb9259894892307\\n\\nhttps://preview.redd.it/c2acm2g826711.png?width=895&format=png&auto=webp&s=8df1f59362e20cac2b71e51f0a3a619e79fbb55a\\n\\nhttps://preview.redd.it/q9nev3g826711.png?width=928&format=png&auto=webp&s=bdc1852034fad05806ec5de7a213a92bbed58362\\n\\nhttps://preview.redd.it/f1jt55g826711.png?width=914&format=png&auto=webp&s=5e9e551c11cde250a48dfe51aca6234841a24bd9\\n\\nhttps://preview.redd.it/n4izs4g826711.png?width=890&format=png&auto=webp&s=64567daf67dd48995203c93b9197cb22419dedf8\",\n",
       " 'www.bitaddress.org down ? any infos on that ?\\n\\n[https://www.bitaddress.org/](https://www.bitaddress.org/)',\n",
       " \"Smart Contracts - What's your view? [https://baanx.com/blockchain-cryptocurrency-and-smart-contracts](https://baanx.com/blockchain-cryptocurrency-and-smart-contracts)\",\n",
       " 'Bannon backs Bitcoin [https://baanx.com/steve-bannon-backs-bitcoin](https://baanx.com/steve-bannon-backs-bitcoin)',\n",
       " 'Reserve Bank executive has owned Bitcoin since 2014 [http://micky.com.au/reserve-bank-executive-bought-and-used-bitcoin/](http://micky.com.au/reserve-bank-executive-bought-and-used-bitcoin/)',\n",
       " 'Does Kraken now really own a Lightning node? **LN1.KRAKEN.COM**\\n\\n[https://1ml.com/node/03625c8adbff543a3a89395e3d2e600acd6da724887d58e0feb364c2860756b7ad](https://1ml.com/node/03625c8adbff543a3a89395e3d2e600acd6da724887d58e0feb364c2860756b7ad)',\n",
       " 'Bitcoin attestation with MainStay Appreciate any feedback\\n\\n[https://blog.commerceblock.com/attestation-with-mainstay-78f06feb3aea](https://blog.commerceblock.com/attestation-with-mainstay-78f06feb3aea)',\n",
       " 'Are Your Emotions Making You Lose Money?! [https://www.blockdelta.io/are-your-emotions-making-you-lose-money/](https://www.blockdelta.io/are-your-emotions-making-you-lose-money/)',\n",
       " 'What if I told you.... [https://www.independent.co.uk/voices/bitcoin-environment-damage-electricity-energy-cash-coins-zinc-mining-servers-a8210591.html](https://www.independent.co.uk/voices/bitcoin-environment-damage-electricity-energy-cash-coins-zinc-mining-servers-a8210591.html)\\n\\n[https://hackernoon.com/the-bitcoin-vs-visa-electricity-consumption-fallacy-8cf194987a50](https://hackernoon.com/the-bitcoin-vs-visa-electricity-consumption-fallacy-8cf194987a50)\\n\\nhttps://preview.redd.it/tswsfi5ccc911.png?width=500&format=png&auto=webp&s=75c0da825bf8ffe9da33328af382abf8ade33df4',\n",
       " 'Mobile Membership Trending [http://fnclicks.live/mobile35](http://fnclicks.live/mobile35)',\n",
       " 'r/Bitcoin targeted advertising https://preview.redd.it/7ud0l5obmec11.jpg?width=1900&format=pjpg&auto=webp&s=087f4ccbb5a7dafad2345e251433cc30b4536b2d',\n",
       " \"All Adult Sites for Bitcoins Hello! I want to collect all adult sites for Bitcoins.\\n\\nHere can be Porno video, Video Chat rooms, Photos ...\\n\\nHere's what I found: \\n\\n[https://duckduckporn.com/cams-for-btc/](https://duckduckporn.com/cams-for-btc/)\\n\\n[https://en.lustfire.net](https://en.lustfire.net)\\n\\n[https://www.supergirl.cam/en/](https://www.supergirl.cam/en/chat/KylieClark)\\n\\n[https://supergirls.live](https://supergirls.live)\",\n",
       " 'daily updates [https://www.blockdelta.io/crypto-market-highlights-and-btc-price-update-august-2nd/](https://www.blockdelta.io/crypto-market-highlights-and-btc-price-update-august-2nd/)',\n",
       " 'What Happens If Singapore Decides To Regulate Bitcoin? [https://www.cryptaw.com/blog/what-happens-if-singapore-decides-to-regulate-bitcoin/](https://www.cryptaw.com/blog/what-happens-if-singapore-decides-to-regulate-bitcoin/)',\n",
       " 'Godspeed Inverted Bart Warriors May the force be with you. [https://cdn.drawception.com/images/panels/2016/3-21/5g489dh9bk-9.png](https://cdn.drawception.com/images/panels/2016/3-21/5g489dh9bk-9.png)\\n\\nhttps://preview.redd.it/55o8fp9315d11.png?width=2466&format=png&auto=webp&s=1494cc01f26a96d34f64ea032306c95ba276389a',\n",
       " '#Engage #Educate #Earn https://preview.redd.it/t5zqyuojg4d11.png?width=960&format=png&auto=webp&s=e9676260fbfef1d706b393a98feef490842dcb71',\n",
       " 'Banks vs Bitcoin https://preview.redd.it/yoiz87fknoc11.jpg?width=913&format=pjpg&auto=webp&s=ebcd5e78af2c40ce99961f415fd895ae8b56779a',\n",
       " 'The inconvenient truth about bitcoin ETFs [https://medium.com/wyre-capital/the-inconvenient-truth-about-bitcoin-etfs-9f9036cbf686](https://medium.com/wyre-capital/the-inconvenient-truth-about-bitcoin-etfs-9f9036cbf686)',\n",
       " 'SEC regulation to come for crypto... [https://www.forbes.com/sites/astanley/2018/07/27/with-crypto-regulators-understand-more-than-theyre-given-credit-for/#710d9189316d](https://www.forbes.com/sites/astanley/2018/07/27/with-crypto-regulators-understand-more-than-theyre-given-credit-for/#710d9189316d)',\n",
       " 'Andreas Antonopoulos Believes Bitcoin ETFs are a Terrible Idea [http://www.cryptocapinfo.com/bitcoin-etfs-are-a-terrible-idea-andreas-antonopoulos/](http://www.cryptocapinfo.com/bitcoin-etfs-are-a-terrible-idea-andreas-antonopoulos/)\\n\\nhttps://preview.redd.it/oowaoh22iug11.jpg?width=819&format=pjpg&auto=webp&s=5bbed99338b5795f8788e2f092b6ae4b9ba17377',\n",
       " 'Zero-Fee Crypto Trading: Coinberry and Swiss-based BRD announced a partnership [http://www.cryptocapinfo.com/no-fee-crypto-trading-coinberry-and-swiss-based-brd-announced-a-partnership/](http://www.cryptocapinfo.com/no-fee-crypto-trading-coinberry-and-swiss-based-brd-announced-a-partnership/)\\n\\nhttps://preview.redd.it/926md89hftg11.png?width=742&format=png&auto=webp&s=14695f98af2bea7a8a4197714aeb98299f4dc582',\n",
       " 'Bitcoin (BTC) Price Watch: Could This Be a Reversal Pattern? [http://www.cryptocapinfo.com/bitcoin-btc-price-watch-could-this-be-a-reversal-pattern/](http://www.cryptocapinfo.com/bitcoin-btc-price-watch-could-this-be-a-reversal-pattern/)\\n\\nhttps://preview.redd.it/8nul1wvw7lg11.png?width=1189&format=png&auto=webp&s=92d029ae46709fc00f82f0033aa391eca6f7edcb',\n",
       " 'Bitcoin Could Go As Low as $800, Says CNBC’s Jim Cramer [http://www.cryptocapinfo.com/bitcoin-could-go-as-low-as-800-says-cnbcs-jim-cramer/](http://www.cryptocapinfo.com/bitcoin-could-go-as-low-as-800-says-cnbcs-jim-cramer/)\\n\\nhttps://preview.redd.it/eshgaq3qrig11.jpg?width=1920&format=pjpg&auto=webp&s=bc3cc5a5fea86fb3589226a3e16323afbef90194',\n",
       " 'Bitcoin Technicals: “Reason to believe that bullish momentum may remain if support holds…” [http://www.cryptocapinfo.com/bitcoin-technicals-reason-to-believe-that-bullish-momentum-may-remain-if-support-holds/](http://www.cryptocapinfo.com/bitcoin-technicals-reason-to-believe-that-bullish-momentum-may-remain-if-support-holds/)\\n\\nhttps://preview.redd.it/g1g83u84thg11.jpg?width=815&format=pjpg&auto=webp&s=30602d3eb68e854198114367a83073546bc776f8',\n",
       " 'You can now get paid using Lightning Network [https://www.coindesk.com/you-can-now-get-paid-a-little-for-using-bitcoins-lightning-network/](https://www.coindesk.com/you-can-now-get-paid-a-little-for-using-bitcoins-lightning-network/)',\n",
       " 'Bitcoin Futures Settlement Calendar Links CBOE - [http://cfe.cboe.com/cfe-products/xbt-cboe-bitcoin-futures](http://cfe.cboe.com/cfe-products/xbt-cboe-bitcoin-futures)\\n\\nCME - [https://www.cmegroup.com/trading/equity-index/us-index/bitcoin\\\\_product\\\\_calendar\\\\_futures.html](https://www.cmegroup.com/trading/equity-index/us-index/bitcoin_product_calendar_futures.html)',\n",
       " 'South Korea Budgets a Trillion Won for Blockchain Tech in 2019 [http://www.cryptocapinfo.com/south-korea-budgets-a-trillion-won-for-blockchain-tech-in-2019/](http://www.cryptocapinfo.com/south-korea-budgets-a-trillion-won-for-blockchain-tech-in-2019/)\\n\\n[S.Korea](https://preview.redd.it/c6oailwnz8g11.jpg?width=754&format=pjpg&auto=webp&s=4e4a3915cae14d70201a5171aa9336e30b236864)',\n",
       " 'Blockchain message Op_return  Hello, Navalny :) \\n\\n[https://apirone.com/btc/tx/7da16a22839e3aa956bd90d84e63133eedea8d753b5a761967fe8b91abecb5b8](https://apirone.com/btc/tx/7da16a22839e3aa956bd90d84e63133eedea8d753b5a761967fe8b91abecb5b8)',\n",
       " \"Why I'm Not Against Bitcoin Custodians [https://medium.com/@yaddlezap818/why-im-not-against-bitcoin-custodians-1ebf83f4957](https://medium.com/@yaddlezap818/why-im-not-against-bitcoin-custodians-1ebf83f4957)\",\n",
       " 'Bitcoin Price Move Past $6.5K Would Boost Upside Potential [http://www.cryptocapinfo.com/bitcoin-price-move-past-6-5k-would-boost-upside-potential/](http://www.cryptocapinfo.com/bitcoin-price-move-past-6-5k-would-boost-upside-potential/)\\n\\nhttps://preview.redd.it/8w34z13invf11.jpg?width=1920&format=pjpg&auto=webp&s=dc4a978b00c940c3ae89c99c5e76880fcadfe8c6',\n",
       " 'The Case For Selling FAANG And Buying BEEStMoD [https://www.zerohedge.com/news/2018-08-13/case-selling-faang-and-buying-beestmod](https://www.zerohedge.com/news/2018-08-13/case-selling-faang-and-buying-beestmod)',\n",
       " 'BLOCKCHAINIAN RHAPSODY - “Bohemian Rhapsody-Queen” Crypto Parody [https://www.youtube.com/watch?time\\\\_continue=67&v=EzXM2x6rQhs](https://www.youtube.com/watch?time_continue=67&v=EzXM2x6rQhs)',\n",
       " 'Bitcoin Price Analysis: Is BTC ‘leash’ to USDT? [http://www.cryptocapinfo.com/bitcoin-price-analysis-is-btc-leash-to-usdt/](http://www.cryptocapinfo.com/bitcoin-price-analysis-is-btc-leash-to-usdt/)\\n\\n[BTC Price](https://preview.redd.it/nuspmv9y3pf11.jpg?width=890&format=pjpg&auto=webp&s=7f0dc468f7bc1dba22c5b9db8348e18fc67c9bd1)',\n",
       " 'Throwback: /r/Bitcoin logos http://i.imgur.com/CD8OO.png\\nhttp://i.imgur.com/t2FYb.png\\n\\nand finally this one was picked\\nhttps://imgur.com/QkgRR\\n\\nYou can read the full thread here:\\n\\nhttps://www.reddit.com/r/Bitcoin/comments/hgegb/finals_we_need_a_quality_logo_contest_10_btc/\\n\\nEnjoy this throwback!',\n",
       " 'Bitcoin Price Weekly Analysis: BTC/USD Could Correct Above $6,400 [http://www.cryptocapinfo.com/bitcoin-price-weekly-analysis-btc-usd-could-correct-above-6400/](http://www.cryptocapinfo.com/bitcoin-price-weekly-analysis-btc-usd-could-correct-above-6400/)\\n\\n[Bitcoin Price Weekly Analysis](https://preview.redd.it/yd00z0h58mf11.jpg?width=1200&format=pjpg&auto=webp&s=912ec461feef9317c83cc70d0d6d938e1fe377be)',\n",
       " 'South Korean Government to Promote Blockchain Training as Part of ‘4th Industrial Revolution’ [http://www.cryptocapinfo.com/south-korean-government-to-promote-blockchain-training-as-part-of-4th-industrial-revolution/](http://www.cryptocapinfo.com/south-korean-government-to-promote-blockchain-training-as-part-of-4th-industrial-revolution/)\\n\\nhttps://preview.redd.it/hbdu5xrazhf11.jpg?width=882&format=pjpg&auto=webp&s=05df14fbee461e348bbbd5674fb7a0985d817ab1',\n",
       " 'Bitcoin Weakness is Rubbing off on Alts… Oh Crypto Bubbles, You Never Change [http://www.cryptocapinfo.com/bitcoin-weakness-is-rubbing-off-on-alts-oh-crypto-bubbles-you-never-change/](http://www.cryptocapinfo.com/bitcoin-weakness-is-rubbing-off-on-alts-oh-crypto-bubbles-you-never-change/)\\n\\nhttps://preview.redd.it/5wagnjyziff11.jpg?width=1044&format=pjpg&auto=webp&s=8abf25a4cec8d669baa1ac7a6e64ea5a582f8eb9',\n",
       " 'DIY-Arduino Programming: Bitcoin Vending machine [https://create.arduino.cc/projecthub/elkrem/arduino-based-bitcoin-candy-vending-machine-9f53d8?f=1](https://create.arduino.cc/projecthub/elkrem/arduino-based-bitcoin-candy-vending-machine-9f53d8?f=1)\\n\\nlooks great!',\n",
       " 'Bitcoin Price Watch: BTC/USD Buyers In Control, $7,300 Next? [http://www.cryptocapinfo.com/bitcoin-price-watch-btc-usd-buyers-in-control-7300-next/](http://www.cryptocapinfo.com/bitcoin-price-watch-btc-usd-buyers-in-control-7300-next/)\\n\\n&#x200B;\\n\\nhttps://preview.redd.it/72vjh9y3r0j11.jpg?width=1005&format=pjpg&auto=webp&s=35c20837c4019fb71a5b9490b0efe7434b71ebe3',\n",
       " 'Where To Buy Bitcoin for God? Eternal Values for Bad Ideas [https://shitcoinoffering.com/where-to-buy-bitcoin-for-god-eternal-values-for-bad-ideas/](https://shitcoinoffering.com/where-to-buy-bitcoin-for-god-eternal-values-for-bad-ideas/)\\n\\n&#x200B;\\n\\nhttps://preview.redd.it/sx7g8amejui11.jpg?width=1280&format=pjpg&auto=webp&s=f9d5a488f8df7ab427e41deffde4a26c6d2cd13e',\n",
       " 'Bitcoin (BTC) Price Analysis: Long-Term Reversal Signal? [http://www.cryptocapinfo.com/bitcoin-btc-price-analysis-long-term-reversal-signal/](http://www.cryptocapinfo.com/bitcoin-btc-price-analysis-long-term-reversal-signal/)\\n\\n&#x200B;\\n\\nhttps://preview.redd.it/qo2dq6vj0si11.jpg?width=300&format=pjpg&auto=webp&s=2caa5c0b4b841abf3ccd4571c5adbc0ab5cc9e52',\n",
       " 'Bitcoin Investors Have Been Brainwashed: ‘Wolf of Wall Street’ [http://www.cryptocapinfo.com/bitcoin-investors-have-been-brainwashed-wolf-of-wall-street/](http://www.cryptocapinfo.com/bitcoin-investors-have-been-brainwashed-wolf-of-wall-street/)\\n\\nhttps://preview.redd.it/xn6sk05vfoi11.jpg?width=864&format=pjpg&auto=webp&s=33751d9c1ec042c9d01eedd056403d063dd11bf5',\n",
       " 'Screw BTC ETF and focus on Bakkt &#x200B;\\n\\n&#x200B;\\n\\n&#x200B;\\n\\n[https://www.youtube.com/watch?v=ryBIdpqrDQ8&t=1s](https://www.youtube.com/watch?v=ryBIdpqrDQ8&t=1s)',\n",
       " 'Bitcoin Mining is Big Business in Montana: US Senator Defends Bitcoin Mining [http://www.cryptocapinfo.com/bitcoin-mining-is-big-business-in-montana-us-senator-defends-bitcoin-mining/](http://www.cryptocapinfo.com/bitcoin-mining-is-big-business-in-montana-us-senator-defends-bitcoin-mining/)\\n\\nhttps://preview.redd.it/g448vr1dyli11.jpg?width=903&format=pjpg&auto=webp&s=236d962b70f6dac2939d1b2b14a59881fb11c2da',\n",
       " 'Bitcoin Price Weekly Analysis: BTC/USD is likely to trade towards $7,000 [http://www.cryptocapinfo.com/bitcoin-price-weekly-analysis-btc-usd-is-likely-to-trade-towards-7000/](http://www.cryptocapinfo.com/bitcoin-price-weekly-analysis-btc-usd-is-likely-to-trade-towards-7000/)\\n\\n&#x200B;\\n\\nhttps://preview.redd.it/tldg4l8s3ei11.jpg?width=864&format=pjpg&auto=webp&s=d8758352e8d8503d09f1917b3a5415da702bfee8',\n",
       " 'Bitcoin Price Technical Analysis: BTCUSD stable upside, forecast for longest bull market [http://www.cryptocapinfo.com/bitcoin-price-technical-analysis-btcusd-stable-upside-forecast-for-longest-bull-market/](http://www.cryptocapinfo.com/bitcoin-price-technical-analysis-btcusd-stable-upside-forecast-for-longest-bull-market/)\\n\\n&#x200B;\\n\\nhttps://preview.redd.it/zfumly10y2i11.jpg?width=890&format=pjpg&auto=webp&s=2577b1999bfa535e4c7d4489dc5af2c7ae6f409f',\n",
       " 'Something to lighten your day... [https://twitter.com/WallStrWhales/status/1032701353917865985](https://twitter.com/WallStrWhales/status/1032701353917865985)',\n",
       " 'New Rewards Platform Pays You Bitcoin to Shop Online [http://www.cryptocapinfo.com/new-rewards-platform-pays-you-bitcoin-to-shop-online/](http://www.cryptocapinfo.com/new-rewards-platform-pays-you-bitcoin-to-shop-online/)\\n\\n&#x200B;\\n\\nhttps://preview.redd.it/m1vtep4c5xh11.jpg?width=800&format=pjpg&auto=webp&s=d21472f4ce156b5161fb85e5bfec4d4c1eed8049',\n",
       " 'Mass adoption may kill Bitcoin [https://medium.com/@lambolife/crypto-not-ready-for-mass-adoption-64b7b830258d](https://medium.com/@lambolife/crypto-not-ready-for-mass-adoption-64b7b830258d)',\n",
       " 'Crypto 101: How Trading Bots Influence Cryptocurrency Markets [https://intelligenttrading.org/guides/how-trading-bots-influence-cryptocurrency-markets/?utm\\\\_source=BitcoinSubreddit](https://intelligenttrading.org/guides/how-trading-bots-influence-cryptocurrency-markets/?utm_source=BitcoinSubreddit)',\n",
       " 'According to Researcher, Banks Consume Over Three Times More Energy Than Bitcoin [http://www.cryptocapinfo.com/according-to-researcher-banks-consume-over-three-times-more-energy-than-bitcoin/](http://www.cryptocapinfo.com/according-to-researcher-banks-consume-over-three-times-more-energy-than-bitcoin/)\\n\\n&#x200B;\\n\\nhttps://preview.redd.it/h3i1z3iwlth11.jpg?width=719&format=pjpg&auto=webp&s=9abb483ea00a69f30f64dd1b36b77a4232ec6377',\n",
       " 'An old screenshot. &#x200B;\\n\\nhttps://preview.redd.it/qcbtezuolqh11.png?width=767&format=png&auto=webp&s=645b91bac65774dc2a9d80f5fb7c72a8fcb826d2',\n",
       " 'Bitcoin Price Analysis: Will the SEC Approve the ProShares Bitcoin-ETF? [http://www.cryptocapinfo.com/bitcoin-price-analysis-will-the-sec-approve-the-proshares-bitcoin-etf/](http://www.cryptocapinfo.com/bitcoin-price-analysis-will-the-sec-approve-the-proshares-bitcoin-etf/)\\n\\nhttps://preview.redd.it/gdd0hkr14nh11.jpg?width=696&format=pjpg&auto=webp&s=a50847634e007f561f6781692b500fcd2d64c645',\n",
       " 'Newsflash: Bitcoin Price Spikes Near $6,900 as BitMEX Goes Offline [http://www.cryptocapinfo.com/newsflash-bitcoin-price-spikes-near-6900-as-bitmex-goes-offline/](http://www.cryptocapinfo.com/newsflash-bitcoin-price-spikes-near-6900-as-bitmex-goes-offline/)\\n\\n&#x200B;\\n\\nhttps://preview.redd.it/4zcqzb1adkh11.jpg?width=760&format=pjpg&auto=webp&s=fdeb64514e950fbc28f4aa9c0a26a555e6aef30a',\n",
       " 'Bitmain 51% attack funded by an IPO? [https://www.blockdelta.io/bitmain-51-attack-funded-by-an-ipo/](https://www.blockdelta.io/bitmain-51-attack-funded-by-an-ipo/)',\n",
       " 'Bets Against Bitcoin’s Price Near Record Highs [http://www.cryptocapinfo.com/bets-against-bitcoins-price-near-record-highs/](http://www.cryptocapinfo.com/bets-against-bitcoins-price-near-record-highs/)\\n\\n&#x200B;\\n\\nhttps://preview.redd.it/n75e0nwwcih11.jpg?width=974&format=pjpg&auto=webp&s=e965d13fa0e4213b426000d6c1f88d5ca8b40f54',\n",
       " 'Bitcoin Stable at $6,500; Tokens Record Losses as Major Cryptos Struggle [http://www.cryptocapinfo.com/bitcoin-stable-at-6500-tokens-record-losses-as-major-cryptos-struggle/](http://www.cryptocapinfo.com/bitcoin-stable-at-6500-tokens-record-losses-as-major-cryptos-struggle/)\\n\\nhttps://preview.redd.it/qem6ll6chhh11.jpg?width=760&format=pjpg&auto=webp&s=ba1e32d8260bbded3bd8e943d615d2c0e4b4e3d6',\n",
       " 'Politics and Bitcoin: The Worldviews of Upcoming Schools of Thought [http://www.cryptocapinfo.com/politics-and-bitcoin-the-worldviews-of-upcoming-schools-of-thought/](http://www.cryptocapinfo.com/politics-and-bitcoin-the-worldviews-of-upcoming-schools-of-thought/)\\n\\nhttps://preview.redd.it/ayvcv9tw3gh11.jpg?width=824&format=pjpg&auto=webp&s=1771ba3db44e6f3a178d17a35901b35d6d36466f',\n",
       " 'Trump vs Erdoğan: Bitcoin Is the Answer to Turkey’s Financial Chaos [http://www.cryptocapinfo.com/trump-vs-erdogan-bitcoin-is-the-answer-to-turkeys-financial-chaos/](http://www.cryptocapinfo.com/trump-vs-erdogan-bitcoin-is-the-answer-to-turkeys-financial-chaos/)\\n\\nhttps://preview.redd.it/hc4mend9oeh11.jpg?width=1600&format=pjpg&auto=webp&s=669e28274c0b1561c50de675add8966895327909',\n",
       " 'NYSE Owner’s Bitcoin Market May Have ‘Hidden Leverage,’ Wall Street Vet Warns [http://www.cryptocapinfo.com/nyse-owners-bitcoin-market-may-have-hidden-leverage-wall-street-vet-warns/](http://www.cryptocapinfo.com/nyse-owners-bitcoin-market-may-have-hidden-leverage-wall-street-vet-warns/)\\n\\nhttps://preview.redd.it/pnkb873zodh11.jpg?width=763&format=pjpg&auto=webp&s=fb96874e810f2fd9fb22524c938ff5f6910a9f09',\n",
       " 'Bitcoin: Blockade Runner of the Information Age [https://www.blockdelta.io/bitcoin-blockade-runner-of-the-information-age/](https://www.blockdelta.io/bitcoin-blockade-runner-of-the-information-age/)',\n",
       " 'Bitcoin Price Intraday Analysis: BTCUSD Could Attempt Breakout [http://www.cryptocapinfo.com/bitcoin-price-intraday-analysis-btcusd-could-attempt-breakout/](http://www.cryptocapinfo.com/bitcoin-price-intraday-analysis-btcusd-could-attempt-breakout/)\\n\\nhttps://preview.redd.it/h6fid60lrbh11.jpg?width=760&format=pjpg&auto=webp&s=9d959424a29e0c89a2832db877a53aad9b469802',\n",
       " 'Bitcoin Awaits Decisive Move as Price Range Tightens [http://www.cryptocapinfo.com/bitcoin-awaits-decisive-move-as-price-range-tightens/](http://www.cryptocapinfo.com/bitcoin-awaits-decisive-move-as-price-range-tightens/)\\n\\nhttps://preview.redd.it/av61r88j5ah11.jpg?width=1091&format=pjpg&auto=webp&s=28fba3d8f52e8ec891e6b2d87d0f21364eed59c3',\n",
       " 'Coinhako launches Indonesian Rupiah (IDR) pairings with Bitcoin (BTC) Bitcoin (BTC) can now be traded with the Indonesian Rupiah (IDR) at [Coinhako.com](https://coinhako.com/) with our latest IDR/BTC pairing.\\n\\nGet an account with us today [https://www.coinhako.com/users/sign\\\\_up](https://www.coinhako.com/users/sign_up)\\n\\nFind out more here: [http://blog.coinhako.com/coinhako-officially-launched-in-indonesia/](http://blog.coinhako.com/coinhako-officially-launched-in-indonesia/)\\n\\nCoinhako is the easiest way to buy, sell and store digital assets in Asia.\\n\\nWebsite: [https://www.Coinhako.com](https://www.coinhako.com/) |Facebook: [https://www.facebook.com/coinhako/](https://www.facebook.com/coinhako/) |Linkedin: [https://www.linkedin.com/company/coinhako/](https://www.linkedin.com/company/coinhako/) |Coinhako Indonesia Instagram: [https://www.instagram.com/coinhako.id/](https://www.instagram.com/coinhako.id/)',\n",
       " 'SIX Group Executive Says Bitcoin is a Lot of ‘Hope and Hype’ [http://www.cryptocapinfo.com/six-group-executive-says-bitcoin-is-a-lot-of-hope-and-hype/](http://www.cryptocapinfo.com/six-group-executive-says-bitcoin-is-a-lot-of-hope-and-hype/)\\n\\nhttps://preview.redd.it/1cwbpay965h11.jpg?width=850&format=pjpg&auto=webp&s=fe0d081be2e571a1846f344158c704eabb389757',\n",
       " 'John McAfee’s Bitcoin Wallet Gets Hacked [http://www.cryptocapinfo.com/john-mcafees-bitcoin-wallet-gets-hacked/](http://www.cryptocapinfo.com/john-mcafees-bitcoin-wallet-gets-hacked/)\\n\\nhttps://preview.redd.it/551xikqyy4h11.jpg?width=753&format=pjpg&auto=webp&s=f4fdf63b1d942a7c2d4bcde6c8593e3701794e7d',\n",
       " 'future of world https://preview.redd.it/fzru1gk1d2h11.png?width=398&format=png&auto=webp&s=e97aa952a60a857c1192cf60d4328f3fadb315ee',\n",
       " 'Bitcoin Price Weekly Analysis: BTC/USD Failed Again Near $6,600, Now What? [http://www.cryptocapinfo.com/bitcoin-price-weekly-analysis-btc-usd-failed-again-near-6600-now-what/](http://www.cryptocapinfo.com/bitcoin-price-weekly-analysis-btc-usd-failed-again-near-6600-now-what/)\\n\\nhttps://preview.redd.it/v1cztv51d0h11.jpg?width=864&format=pjpg&auto=webp&s=ed4c0394e2835996933b55ea94e71a7264b6c6bb',\n",
       " 'The Major Exchange CEO: Despite Correction, Demand For Bitcoin Has Not Declined [http://www.cryptocapinfo.com/the-major-exchange-ceo-despite-correction-demand-for-bitcoin-has-not-declined/](http://www.cryptocapinfo.com/the-major-exchange-ceo-despite-correction-demand-for-bitcoin-has-not-declined/)\\n\\nhttps://preview.redd.it/ipx2hp3knxg11.jpg?width=864&format=pjpg&auto=webp&s=59fb98a8c12447b4dd2fa9bdb9f6f0a383275b35',\n",
       " 'Own Bitcoin Payments for $6 a Month: No More Coinbase and BitPay [http://www.cryptocapinfo.com/own-bitcoin-payments-for-6-a-month-no-more-coinbase-and-bitpay/](http://www.cryptocapinfo.com/own-bitcoin-payments-for-6-a-month-no-more-coinbase-and-bitpay/)\\n\\nhttps://preview.redd.it/l6ytfvrfbxg11.jpg?width=860&format=pjpg&auto=webp&s=4fbe293f9a959790cb3197060bab65a90c24cd4d',\n",
       " 'The Halving Factor To Hit Bitcoin? New Chart Forecasts $3K BTC By 2020 [http://www.cryptocapinfo.com/the-halving-factor-to-hit-bitcoin-new-chart-forecasts-3k-btc-by-2020/](http://www.cryptocapinfo.com/the-halving-factor-to-hit-bitcoin-new-chart-forecasts-3k-btc-by-2020/)\\n\\nhttps://preview.redd.it/hhssnlhxqwg11.jpg?width=757&format=pjpg&auto=webp&s=c8518dbb7575d348931992cc07603fc126a72b49',\n",
       " 'Tow Persons was arrested with $150 Million Bitcoin Ponzi by Indian Police [http://www.cryptocapinfo.com/tow-persons-was-arrested-with-150-million-bitcoin-ponzi-by-indian-police/](http://www.cryptocapinfo.com/tow-persons-was-arrested-with-150-million-bitcoin-ponzi-by-indian-police/)\\n\\nhttps://preview.redd.it/aa7za5xa6vg11.jpg?width=922&format=pjpg&auto=webp&s=cc754ef50907fce5dd49baac534b4f898fcd76f3',\n",
       " 'Wall Street has helped bitcoin? Not a bad read.\\n\\n[https://www.businessinsider.com/wall-street-firms-are-making-bitcoin-more-stable-2018-8](https://www.businessinsider.com/wall-street-firms-are-making-bitcoin-more-stable-2018-8)',\n",
       " 'Exchange Bitcoin over the Lightning Network: New Off-Line Wallet [http://www.cryptocapinfo.com/exchange-bitcoin-over-the-lightning-network-new-off-line-wallet/](http://www.cryptocapinfo.com/exchange-bitcoin-over-the-lightning-network-new-off-line-wallet/)\\n\\n&#x200B;\\n\\nhttps://preview.redd.it/l9zccehge7j11.jpg?width=770&format=pjpg&auto=webp&s=e7dcb4f3420334b64c7dd2d3bb6b674c37e573b1',\n",
       " 'Is Bitcoin reach new possibly highs in this year, can it? [http://www.cryptocapinfo.com/is-bitcoin-reach-new-possibly-highs-in-this-year-can-it/](http://www.cryptocapinfo.com/is-bitcoin-reach-new-possibly-highs-in-this-year-can-it/)\\n\\n&#x200B;\\n\\nhttps://preview.redd.it/urtd4rpiu3j11.jpg?width=800&format=pjpg&auto=webp&s=f91262e166c6fd2a21235ae5ab4df24d0e28f03f',\n",
       " 'All is fine. &#x200B;\\n\\nhttps://preview.redd.it/2ip9df85z8n11.png?width=1919&format=png&auto=webp&s=f0835dca7a5a5ad6944dad35ca5d9d35f794a2b2',\n",
       " 'Cryptocurrencies and blockchain projects with Real Products [https://mycryptocracy.com/criptomonedas-y-proyectos-blockchain-con-producto-real-y-operativo/](https://mycryptocracy.com/criptomonedas-y-proyectos-blockchain-con-producto-real-y-operativo/)',\n",
       " 'The Mystery of Satoshi Nakamoto (Spanish) [http://mycryptocracy.com/el-misterio-de-satoshi-nakamoto-el-creador-de-bitcoin/](http://mycryptocracy.com/el-misterio-de-satoshi-nakamoto-el-creador-de-bitcoin/)',\n",
       " 'Current bitcoin situation [https://www.blockdelta.io/bitcoin-levels-2/](https://www.blockdelta.io/bitcoin-levels-2/)',\n",
       " 'The Satoshi Nakamoto mystery (Spanish) [http://mycryptocracy.com/el-misterio-de-satoshi-nakamoto-el-creador-de-bitcoin/](http://mycryptocracy.com/el-misterio-de-satoshi-nakamoto-el-creador-de-bitcoin/)',\n",
       " 'Novogratz calls the bottom [https://twitter.com/novogratz/status/1040288811643809798](https://twitter.com/novogratz/status/1040288811643809798)\\n\\nWhat do you guys think?',\n",
       " 'The HODLers dream &#x200B;\\n\\nhttps://preview.redd.it/q52qvkviikl11.jpg?width=500&format=pjpg&auto=webp&s=0272cb7458f2bb816f9741ada06cd646d43e32a3',\n",
       " 'Bitcoin puzzle https://youtu.be/XTy38rkPmWw',\n",
       " 'Tips for Diversifiying your Portfolio -Spanish- [https://mycryptocracy.com/estrategias-para-diversificar-un-portfolio-de-criptomonedas/](https://mycryptocracy.com/estrategias-para-diversificar-un-portfolio-de-criptomonedas/)',\n",
       " 'Banking and Blockchain Thanks for your time spending reading this article, deeply appreciated.\\n\\n[https://blocknews.ge/knowledge/banking-blockchain/-ea/](https://blocknews.ge/knowledge/banking-blockchain/-ea/)\\n\\nhttps://preview.redd.it/quycis8ailn11.jpg?width=640&format=pjpg&auto=webp&s=efa32aa2cadac724a8bce6b84b436853031fa3ea',\n",
       " 'Exploring the Cryptocurrency and Blockchain Ecosystem!  [https://www.banking.senate.gov/hearings/exploring-the-cryptocurrency-and-blockchain-ecosystem](https://www.banking.senate.gov/hearings/exploring-the-cryptocurrency-and-blockchain-ecosystem)\\n\\n# ',\n",
       " 'A prediction from a Vietnamese trader &#x200B;\\n\\n[Anyone translate it!!!](https://preview.redd.it/7d3m87b5ckr11.jpg?width=1274&format=pjpg&auto=webp&s=9a38cbd1bce8b3c35127b9fca0038e3b0392f760)\\n\\nSource: [https://twitter.com/nobita109/status/1037925662638526464](https://twitter.com/nobita109/status/1037925662638526464)',\n",
       " 'What will you pick first? The Lady or the Crypto Coins? [https://www.reddit.com/r/bitkubofficial/comments/9mx5al/what\\\\_will\\\\_you\\\\_pick\\\\_first\\\\_the\\\\_lady\\\\_or\\\\_the\\\\_crypto/](https://www.reddit.com/r/bitkubofficial/comments/9mx5al/what_will_you_pick_first_the_lady_or_the_crypto/)\\n\\nhttps://preview.redd.it/82xec5wg2br11.jpg?width=960&format=pjpg&auto=webp&s=b3f376b0809b7ac9fb8a71aba8f37001a9c58226',\n",
       " 'Bitcoin ATM Scam Targets Immigrants in Australia [https://www.investing.com/news/cryptocurrency-news/bitcoin-btc-atm-scam-targets-immigrants-in-australia-1635800](https://www.investing.com/news/cryptocurrency-news/bitcoin-btc-atm-scam-targets-immigrants-in-australia-1635800)',\n",
       " 'BitcoinJesus just arrived &#x200B;\\n\\nhttps://preview.redd.it/nstlt6s1mqq11.png?width=595&format=png&auto=webp&s=97db183eca86dc715a4e6ca96d196032a4a85a75',\n",
       " 'How to make passive income from crypto (Spanish) [https://mycryptocracy.com/criptomonedas-para-generar-ingresos-pasivos/](https://mycryptocracy.com/criptomonedas-para-generar-ingresos-pasivos/)',\n",
       " 'Looking for Satoshi Nakamoto (Spanish review) [https://mycryptocracy.com/el-misterio-de-satoshi-nakamoto-el-creador-de-bitcoin/](https://mycryptocracy.com/el-misterio-de-satoshi-nakamoto-el-creador-de-bitcoin/)',\n",
       " 'Undervalued cryptos (Spanish) [https://mycryptocracy.com/criptomonedas-infravaloradas-en-las-que-invertir/](https://mycryptocracy.com/criptomonedas-infravaloradas-en-las-que-invertir/)',\n",
       " 'Default Coinlib homepage in 5 years from now &#x200B;\\n\\n[fiat currencies](https://preview.redd.it/vlctz716zrp11.png?width=404&format=png&auto=webp&s=0746eb4bb714776fb9431cc90fb95f48deee67d9)\\n\\nSource: [https://coinlib.io/fiat](https://coinlib.io/fiat)',\n",
       " 'Winter is coming. &#x200B;\\n\\nhttps://preview.redd.it/olm0jktwoqp11.png?width=902&format=png&auto=webp&s=342d04f467861fc3e39df57953aed4bc52a9f505',\n",
       " 'Bitcoin Technical Analysis 1st week 2018 [https://www.cryptoseeks.com/2018/10/bitcoin-price-technical-analysis.html](https://www.cryptoseeks.com/2018/10/bitcoin-price-technical-analysis.html)',\n",
       " 'TOP 3 crypto blogs ....START! [https://www.reddit.com/r/CryptoCurrency/](https://www.reddit.com/r/CryptoCurrency/)\\n\\n&#x200B;\\n\\n[https://www.ccn.com/](https://www.ccn.com/)\\n\\n&#x200B;\\n\\n[http://www.cryptoboathouse.com/](http://www.cryptoboathouse.com/)\\n\\n&#x200B;\\n\\n&#x200B;',\n",
       " 'The Nouriel Phenomenon https://medium.com/@jontyndal/the-nouriel-phenomenon-1cb716c2db7e?_branch_match_id=515267689954785583',\n",
       " 'Bakkt Postponed To Dec 12th 2018 **Rumour\\'s**\\n\\n\"Bakkt Maybe Delayed to Dec 12th 2018!!!\"\\n\\n&#x200B;\\n\\n**Link\\'s:**\\n\\n1. [https://www.forbes.com/sites/billybambrough/2018/09/04/bitcoin-experts-pin-price-hopes-on-early-november-heres-why/#6234832a2256](https://www.forbes.com/sites/billybambrough/2018/09/04/bitcoin-experts-pin-price-hopes-on-early-november-heres-why/#6234832a2256)\\n\\n2.[https://theblockcrypto.com/2018/10/18/goldman-sachs-will-not-rely-on-bakkt-for-a-crypto-custody-product-but-it-might-trade-on-the-platform/](https://theblockcrypto.com/2018/10/18/goldman-sachs-will-not-rely-on-bakkt-for-a-crypto-custody-product-but-it-might-trade-on-the-platform/)',\n",
       " 'Buyers beware. How to spot Fake Casascius Physical Bitcoins. https://bitcointalk.org/index.php?topic=3257048.0\\n\\nhttps://casascius.wordpress.com/2013/12/10/possible-counterfeits-to-be-aware-of/\\n\\nhttps://bitcointalk.org/index.php?topic=2584758.0\\n\\n',\n",
       " 'Bitcoin Price Analysis [https://www.bitcanuck.ca/blog/icos/bitcoin-price-analysis-september/](https://www.bitcanuck.ca/blog/icos/bitcoin-price-analysis-september/)',\n",
       " \"Scared Tether will bring BTC down? Here's good hopium to help cope with that. [https://twitter.com/BryceWeiner/status/1052259084441772034](https://twitter.com/BryceWeiner/status/1052259084441772034)\\n\\n[https://twitter.com/BryceWeiner/status/1052096646790623232](https://twitter.com/BryceWeiner/status/1052096646790623232)\",\n",
       " 'Moon? What do you think?\\n\\n&#x200B;\\n\\nhttps://preview.redd.it/j6voqppl5is11.png?width=1442&format=png&auto=webp&s=cf1bb52f7af2467cceeb2d807c94082f977da0cb\\n\\nhttps://preview.redd.it/deuvwetk5is11.png?width=1529&format=png&auto=webp&s=b8d77ff07cdfea6ccfba15890e28cf698c351f05',\n",
       " 'NOURIEL ROUBINI SCANDAL: The Bitcoin skeptic’s ‘lost’ tweet [https://micky.com.au/nouriel-roubini-scandal-the-bitcoin-skeptics-lost-tweet/](https://micky.com.au/nouriel-roubini-scandal-the-bitcoin-skeptics-lost-tweet/)',\n",
       " 'SEC expands cryptocurrency crackdown with nationwide sweep [https://www.politico.com/story/2018/11/01/sec-cryptocurrency-910135](https://www.politico.com/story/2018/11/01/sec-cryptocurrency-910135) ',\n",
       " \"THE INTERVIEW: 'Why Bitcoin will reach $10M' [https://micky.com.au/the-interview-why-bitcoin-will-reach-10m/](https://micky.com.au/the-interview-why-bitcoin-will-reach-10m/)\",\n",
       " 'Things You Didn’t Know You Can Buy with Bitcoin Today [https://medium.com/@Sophiecosmic/things-you-didnt-know-you-can-buy-with-bitcoin-today-bfc59e4261fa](https://medium.com/@Sophiecosmic/things-you-didnt-know-you-can-buy-with-bitcoin-today-bfc59e4261fa)\\n\\n&#x200B;\\n\\n&#x200B;\\n\\nhttps://preview.redd.it/0l3qfe2y5pv11.jpg?width=564&format=pjpg&auto=webp&s=9a325556ad5b6c2c5aeeb7448cb33c604788aac4',\n",
       " 'http://quickmining.io/ #Quick Mining',\n",
       " 'Johnny Dapps week in crypto (rejected by mcafee) [https://hacked.com/johnny-depps-week-in-crypto-rejected-by-mcafee-signed-up-by-tatatu-ttu/](https://hacked.com/johnny-depps-week-in-crypto-rejected-by-mcafee-signed-up-by-tatatu-ttu/)  \\n\\n\\nhttps://preview.redd.it/xsqx9bwmwzu11.jpg?width=1280&format=pjpg&auto=webp&s=3b2f3419f0ddb376b3c29db2d641b781b22dde3c',\n",
       " 'Bitcoin Analysis [https://www.coindesk.com/bitcoin-price-still-seeking-buyers-despite-passing-key-trendline/](https://www.coindesk.com/bitcoin-price-still-seeking-buyers-despite-passing-key-trendline/)',\n",
       " \"1000 BTC Ramsom to Malaysian's Largest Media Group [https://www.thestar.com.my/news/nation/2018/11/13/media-prima-hit-by-ransomware-hackers-demand-rm26mil-in-bitcoins-says-report/?fbclid=IwAR3yGZlwmnKca4PEgKu\\\\_RfScNl23saX-UheCDoQclhhLZ\\\\_3LbM0qTWOGiFg](https://www.thestar.com.my/news/nation/2018/11/13/media-prima-hit-by-ransomware-hackers-demand-rm26mil-in-bitcoins-says-report/?fbclid=IwAR3yGZlwmnKca4PEgKu_RfScNl23saX-UheCDoQclhhLZ_3LbM0qTWOGiFg)\",\n",
       " 'Ocean alternative to Liquid SideChain [https://blog.commerceblock.com/liquid-to-ocean-4515c93d5574](https://blog.commerceblock.com/liquid-to-ocean-4515c93d5574)',\n",
       " 'Step-by-step guide to building Bitcoin networks for research and development Part 1 [https://medium.com/bloxroute/terraforming-bitcoin-testnets-part-1-3-40460946d4ef](https://medium.com/bloxroute/terraforming-bitcoin-testnets-part-1-3-40460946d4ef) \\n\\nPart 2 [https://medium.com/bloxroute/terraforming-bitcoin-testnets-part-2-3-510ca4a0fff1](https://medium.com/bloxroute/terraforming-bitcoin-testnets-part-2-3-510ca4a0fff1)',\n",
       " 'Coinscious Market Analysis Report Biweekly Report Available\\\\~! \\n\\n[https://coinscious.io/wp-content/uploads/2018/11/Coinscious-Market-Report-2018-11-23.pdf](https://coinscious.io/wp-content/uploads/2018/11/Coinscious-Market-Report-2018-11-23.pdf)',\n",
       " 'Rather than looking at Bitcoin/USD price each hour, take that hour to look at this (thank you aantonop) * Disrupt Conference - What is Bitcoin? [https://www.youtube.com/watch?v=LA9A1RyXv9s](https://www.youtube.com/watch?v=LA9A1RyXv9s)\\n* Bitcoin: Dumb Networks, Innovation and the Festival of the Commons  [https://www.youtube.com/watch?v=x8FCRZ0BUCw](https://www.youtube.com/watch?v=x8FCRZ0BUCw)\\n* Bitcoin is punk rock - deal with it! [https://www.youtube.com/watch?v=\\\\_0mykANOMGQ](https://www.youtube.com/watch?v=_0mykANOMGQ)\\n* Measuring Success: Price or Principle : [https://www.youtube.com/watch?v=mPMsbgWl9p4&t=3s](https://www.youtube.com/watch?v=mPMsbgWl9p4&t=3s)\\n* Innovators, Disruptors, Misfits and Bitcoin [https://www.youtube.com/watch?v=LeclUjKm408](https://www.youtube.com/watch?v=LeclUjKm408)\\n* Peer-to-Peer money in a historical context [https://www.youtube.com/watch?v=n-EpKQ6xIJs](https://www.youtube.com/watch?v=n-EpKQ6xIJs)\\n* Consensus Algorithms, Blockchain Technology and Bitcoin [https://www.youtube.com/watch?v=fw3WkySh\\\\_Ho](https://www.youtube.com/watch?v=fw3WkySh_Ho)\\n* Investing in Education Instead of Speculation [https://www.youtube.com/watch?v=6uXAbJQoZlE&t=745s](https://www.youtube.com/watch?v=6uXAbJQoZlE&t=745s)\\n\\n&#x200B;\\n\\nPlease share it, spread it. Archived post : [https://www.reddit.com/r/Bitcoin/comments/7hy5rf/thankyouandreas/](https://www.reddit.com/r/Bitcoin/comments/7hy5rf/thankyouandreas/)\\n\\n&#x200B;\\n\\n&#x200B;\\n\\n&#x200B;',\n",
       " 'Ice - Bakkt Launch Notice [https://www.theice.com/publicdocs/futures\\\\_us/exchange\\\\_notices/ICE\\\\_Futures\\\\_US-Notice\\\\_BitcoinLaunch20181120.pdf](https://www.theice.com/publicdocs/futures_us/exchange_notices/ICE_Futures_US-Notice_BitcoinLaunch20181120.pdf)',\n",
       " 'Explain Bitcoin Like I’m Five &#x200B;\\n\\n&#x200B;\\n\\n[https://medium.freecodecamp.org/explain-bitcoin-like-im-five-73b4257ac833](https://medium.freecodecamp.org/explain-bitcoin-like-im-five-73b4257ac833)',\n",
       " 'Get on the train...NOW [https://media.giphy.com/media/1r8YxDQIK6CZA3s97Q/giphy.gif](https://media.giphy.com/media/1r8YxDQIK6CZA3s97Q/giphy.gif)',\n",
       " 'Nice Video explaining the concept if bitcoin [https://www.youtube.com/watch?v=CVxlsGVrSdY](https://www.youtube.com/watch?v=CVxlsGVrSdY)',\n",
       " 'The Bitcoin Problem &#x200B;\\n\\nhttps://preview.redd.it/gc5y2a8cwa221.jpg?width=1240&format=pjpg&auto=webp&s=fe9b870eb58e461a528f964ffa061ab3002eaa8b',\n",
       " 'CryptoLux Challenge 1st Nov - 31st Dec 2018 [https://www.youtube.com/watch?v=vpbJBaVaAtc](https://www.youtube.com/watch?v=vpbJBaVaAtc)\\n\\n&#x200B;\\n\\n[https://www.cryptolux.io/?sponsor=mandarinaland](https://www.cryptolux.io/?sponsor=mandarinaland)\\n\\n&#x200B;\\n\\n\\\\#clxchallenge#cryptocurrencies#investment#bitcoin#CLX#cryptolux',\n",
       " \"Alive or kickin'? &#x200B;\\n\\nhttps://preview.redd.it/qhcunexzr3121.jpg?width=1200&format=pjpg&auto=webp&s=48524fd6455219ac6a11ce803a242116aa68c5a6\",\n",
       " 'Ready to take-off &#x200B;\\n\\nhttps://preview.redd.it/nohnootzsq021.jpg?width=1024&format=pjpg&auto=webp&s=04a9bd6447bbe9983046d267cf1e49d3e35386cd',\n",
       " 'Lightning Network at Quebec city Crypto show (FRENCH) Full on stage Lightning Network Presentation:  [https://youtu.be/zHKV949g5BQ](https://youtu.be/zHKV949g5BQ) \\n\\n&#x200B;\\n\\nLightning Network Interview @LaBulleCrypto : [https://www.youtube.com/watch?v=RBiIyUIalYg&feature=youtu.be&t=41&fbclid=IwAR3om57x1NSKMuTxfZL9OldXALOFZRqMKjAeUbmktbsdVJ0linmHSK4mCMI](https://www.youtube.com/watch?v=RBiIyUIalYg&feature=youtu.be&t=41&fbclid=IwAR3om57x1NSKMuTxfZL9OldXALOFZRqMKjAeUbmktbsdVJ0linmHSK4mCMI)  \\n\\n  \\nLightning Network Demo (Interview MiningCave) :   [https://youtu.be/1Z6fInSYEe0?t=624](https://youtu.be/1Z6fInSYEe0?t=624)  \\n\\n&#x200B;\\n\\n[\\\\#](https://www.facebook.com/hashtag/lightningnetwork?source=feed_text)[LightningNetwork](https://www.facebook.com/hashtag/lightningnetwork?source=feed_text) [\\\\#](https://www.facebook.com/hashtag/bitcoin?source=feed_text)[Bitcoin](https://www.facebook.com/hashtag/bitcoin?source=feed_text) @salondelacrypto [\\\\#](https://www.facebook.com/hashtag/lightninghackday?source=feed_text)[LightningHackday](https://www.facebook.com/hashtag/lightninghackday?source=feed_text) [\\\\#](https://www.facebook.com/hashtag/donotunderestimatebitcoin?source=feed_text)[DoNotUnderEstimateBitcoin](https://www.facebook.com/hashtag/donotunderestimatebitcoin?source=feed_text)',\n",
       " 'Cryptocurrency Development company [cryptocurrency development company](https://finoserv.com/blockchain/cryptocurrency-services.php)\\n\\n[cryptocurrenct development](https://preview.redd.it/9k0ggfloym021.png?width=637&format=png&auto=webp&s=fc4c1860ba4ad29a7d84257752163e543376cff4)',\n",
       " '2011 anyone? &#x200B;\\n\\nhttps://preview.redd.it/xyef114y2k021.png?width=1618&format=png&auto=webp&s=70185822a5f3a3de9d3f1a3fa9f3a6801435a794',\n",
       " 'I will just leave this here [https://youtu.be/E651faXXGsw](https://youtu.be/E651faXXGsw)',\n",
       " 'Bitcoin exchange boss says institutional investors are coming [https://micky.com.au/how-institutional-investors-are-embracing-cryptocurrency/](https://micky.com.au/how-institutional-investors-are-embracing-cryptocurrency/)',\n",
       " 'Ohio is on the map for crypto innovation. [https://cryptobriefing.com/ohio-silicon-valley-crypto/](https://cryptobriefing.com/ohio-silicon-valley-crypto/)',\n",
       " 'Backed By Volume, Bitcoin’s Eyes $4.4K Price Target [https://www.cityfalcon.com/watchlists#modal](https://www.cityfalcon.com/watchlists#modal)',\n",
       " 'Zap Wallet 0.3.0 Release bear market vs builders:\\n\\n&#x200B;\\n\\n[https://medium.com/@JimmyMow/announcing-zap-desktop-0-3-0-beta-7eb3b7df4a8c](https://medium.com/@JimmyMow/announcing-zap-desktop-0-3-0-beta-7eb3b7df4a8c)',\n",
       " 'Principles for Crypto Investment, An Intelligent Approach [https://medium.com/@CryptoLema/principles-for-crypto-investment-an-intelligent-approach-f500a86b5f83](https://medium.com/@CryptoLema/principles-for-crypto-investment-an-intelligent-approach-f500a86b5f83)',\n",
       " 'Has somebody tried the Shango lightning wallet? [http://www.shangoapp.com/](http://www.shangoapp.com/) on GitHub:  [https://github.com/gcomte/shango-lightning-wallet](https://github.com/gcomte/shango-lightning-wallet)\\n\\n  \\n',\n",
       " 'Consequences of Bitcoin Hash Rate Drop [https://coinedtimes.com/consequences-of-bitcoin-hash-rate-drop/](https://coinedtimes.com/consequences-of-bitcoin-hash-rate-drop/)',\n",
       " 'Russia Now Entered Crypto,Official Proof Here &#x200B;\\n\\nhttps://preview.redd.it/v6qx492iywa21.png?width=594&format=png&auto=webp&s=bc5722f2b62bd656c5093735208b7aaa6c0f2227\\n\\nhttps://preview.redd.it/cmzxr82iywa21.png?width=598&format=png&auto=webp&s=59eebb8b6afb2d01afae11e57ae4871bc88427f2',\n",
       " 'Blockchain is the future..Also in the automotive industry! [https://coincentral.com/blockchain-automotive/](https://coincentral.com/blockchain-automotive/)',\n",
       " 'Original [https://www.reddit.com/r/cryptorevs/comments/afv2cp/why\\\\_did\\\\_the\\\\_bitcoin\\\\_cross\\\\_the\\\\_road/](https://www.reddit.com/r/cryptorevs/comments/afv2cp/why_did_the_bitcoin_cross_the_road/)',\n",
       " 'Bitcoin Will Still Bite the Dust [https://www.coindesk.com/bitcoin-will-still-bite-the-dust](https://www.coindesk.com/bitcoin-will-still-bite-the-dust)\\n\\n&#x200B;\\n\\nThoughts?',\n",
       " \"Why is the 'tour de satoshi' not getting any love? I follow Vitus' tour, and I love how much effort and strength he puts into promoting bitcoin. I just checked reddit and he gets \\\\~10 upvotes on each leg where he fights the winter and the non bitcoin accepting economy every day. Is that all the support the community can muster?\\n\\n[https://www.reddit.com/r/Bitcoin/comments/acfsdm/summary\\\\_on\\\\_day\\\\_1\\\\_of\\\\_tour\\\\_de\\\\_satoshi\\\\_hard\\\\_cycling/](https://www.reddit.com/r/Bitcoin/comments/acfsdm/summary_on_day_1_of_tour_de_satoshi_hard_cycling/) \\n\\n[https://www.reddit.com/r/Bitcoin/comments/ad4050/summary\\\\_on\\\\_day\\\\_3\\\\_of\\\\_tour\\\\_de\\\\_satoshi\\\\_bitcoin\\\\_21/](https://www.reddit.com/r/Bitcoin/comments/ad4050/summary_on_day_3_of_tour_de_satoshi_bitcoin_21/)\\n\\n[https://www.reddit.com/r/Bitcoin/comments/adfr37/summary\\\\_on\\\\_day\\\\_4\\\\_of\\\\_tour\\\\_de\\\\_satoshi\\\\_another\\\\_win/](https://www.reddit.com/r/Bitcoin/comments/adfr37/summary_on_day_4_of_tour_de_satoshi_another_win/) \\n\\n[https://www.reddit.com/r/Bitcoin/comments/adsiqu/summary\\\\_of\\\\_day\\\\_5\\\\_of\\\\_tour\\\\_de\\\\_satoshi\\\\_testing\\\\_my/](https://www.reddit.com/r/Bitcoin/comments/adsiqu/summary_of_day_5_of_tour_de_satoshi_testing_my/)\\n\\n [https://www.reddit.com/r/Bitcoin/comments/ae4zkk/summary\\\\_of\\\\_day\\\\_6\\\\_of\\\\_tour\\\\_de\\\\_satoshi\\\\_bitcoin\\\\_wins/](https://www.reddit.com/r/Bitcoin/comments/ae4zkk/summary_of_day_6_of_tour_de_satoshi_bitcoin_wins/)\\n\\n [https://www.reddit.com/r/Bitcoin/comments/aehcpl/summary\\\\_of\\\\_day\\\\_7\\\\_of\\\\_tour\\\\_de\\\\_satoshi\\\\_bitcoin\\\\_is\\\\_on/](https://www.reddit.com/r/Bitcoin/comments/aehcpl/summary_of_day_7_of_tour_de_satoshi_bitcoin_is_on/) \\n\\n[https://www.reddit.com/r/Bitcoin/comments/aet7ia/summary\\\\_of\\\\_day\\\\_8\\\\_of\\\\_tour\\\\_de\\\\_satoshi\\\\_bitcoin/](https://www.reddit.com/r/Bitcoin/comments/aet7ia/summary_of_day_8_of_tour_de_satoshi_bitcoin/) [https://www.reddit.com/r/Bitcoin/comments/af5m6o/summary\\\\_of\\\\_day\\\\_9\\\\_of\\\\_tour\\\\_de\\\\_satoshi\\\\_final\\\\_score/](https://www.reddit.com/r/Bitcoin/comments/af5m6o/summary_of_day_9_of_tour_de_satoshi_final_score/)\",\n",
       " '10 years of Bitcoin - block size [Block size in last 10 years](https://preview.redd.it/ujdrzd2sfm921.png?width=2600&format=png&auto=webp&s=a2ed13580a68d27998002f7095d3febbdb93f7dd)\\n\\n&#x200B;\\n\\n[https://medium.com/@valerio.vaccaro/10-years-of-bitcoin-6e36ebcfea48](https://medium.com/@valerio.vaccaro/10-years-of-bitcoin-6e36ebcfea48)',\n",
       " 'Reversing normies \"blockchain\" brainwash [https://medium.com/efficient-frontier/three-reasons-blockchain-is-so-confusing-b0a5d3c33800](https://medium.com/efficient-frontier/three-reasons-blockchain-is-so-confusing-b0a5d3c33800)',\n",
       " 'its something &#x200B;\\n\\nhttps://preview.redd.it/w6s5uutu1ad21.jpg?width=595&format=pjpg&auto=webp&s=6857fee1a4fa5a5178ad78608a4f586dda448d41',\n",
       " 'Send messages into space with lightning spacebit.live [http://spacebit.live](http://spacebit.live)\\n\\nhttps://preview.redd.it/6nmotw3030d21.jpg?width=1459&format=pjpg&auto=webp&s=52496d22b98ea878a18ec0e973c43c5524561ed8',\n",
       " 'A dependence on society [https://twitter.com/DataLightMe/status/1087817260109086720](https://twitter.com/DataLightMe/status/1087817260109086720)',\n",
       " 'The Kraken websockets public API is launching soon! [https://blog.kraken.com/post/2019/websockets-public-api-launching-soon/](https://blog.kraken.com/post/2019/websockets-public-api-launching-soon/)',\n",
       " 'Analysis of BTC nonce space by the team @TheTokenAnalyst [https://twitter.com/thetokenanalyst/status/1088089850782367746](https://twitter.com/thetokenanalyst/status/1088089850782367746)\\n\\n&#x200B;\\n\\nhttps://preview.redd.it/kwpmtdtzx6c21.png?width=2250&format=png&auto=webp&s=c2a47f2d3dcb0704b29118aa9d219e67548bf43c',\n",
       " 'CoinEX, viaBTC Founder Haipo Yang Released from Prison [https://coinspice.io/news/exclusive-coinex-viabtc-founder-haipo-yang-released-from-prison-in-china/](https://coinspice.io/news/exclusive-coinex-viabtc-founder-haipo-yang-released-from-prison-in-china/)',\n",
       " 'Wasabi Wallet got listed on bitcoin.org! The privacy oriented [Wasabi Wallet](https://www.reddit.com/r/WasabiWallet) got listed among the suggested Bitcoin wallets by [bitcoin.org](https://bitcoin.org).\\n\\n[https://bitcoin.org/en/wallets/desktop/windows/wasabi/](https://bitcoin.org/en/wallets/desktop/windows/wasabi/)\\n\\n&#x200B;\\n\\nhttps://preview.redd.it/msrvcfp8hbf21.jpg?width=990&format=pjpg&auto=webp&s=13a17ed907c74f6978106db584fcd823fa2f3c1f',\n",
       " 'Handcrafted Bitcoin Cold Storage [https://www.youtube.com/watch?v=EeuuOUBS6sM](https://www.youtube.com/watch?v=EeuuOUBS6sM)',\n",
       " 'You are doing it wrong: Wikimedia Foundation [https://donate.wikimedia.org/wiki/Ways\\\\_to\\\\_Give#Bitcoin](https://donate.wikimedia.org/wiki/Ways_to_Give#Bitcoin)\\n\\n&#x200B;\\n\\nuse BTCPayServer instead! https://btcpayserver.org',\n",
       " 'Money: past, present, and future [https://www.youtube.com/watch?v=ui31RaMZ7zs&t=13s](https://www.youtube.com/watch?v=ui31RaMZ7zs&t=13s)',\n",
       " 'J.P. Morgan Creates Digital Coin for Payments [https://www.jpmorgan.com/global/news/digital-coin-payments](https://www.jpmorgan.com/global/news/digital-coin-payments)',\n",
       " 'Pieter Wuille: Miniscript will improve bitcoin scripts [http://diyhpl.us/diyhpluswiki/transcripts/stanford-blockchain-conference/2019/miniscript/](http://diyhpl.us/diyhpluswiki/transcripts/stanford-blockchain-conference/2019/miniscript/)',\n",
       " 'An incomplete survey of Bitcoin privacy technologies [http://hongchao.me/bitcoin-privacy/](http://hongchao.me/bitcoin-privacy/)',\n",
       " 'Something is moving on Liquid Sidechain :) [https://blockstream.info/liquid/](https://blockstream.info/liquid/)\\n\\n[https://liquid.horse/](https://liquid.horse/)',\n",
       " '$4150 Feeling soooo like [https://www.youtube.com/watch?v=Zq9gy6MFrl4](https://www.youtube.com/watch?v=Zq9gy6MFrl4)',\n",
       " 'Hodl Hodl’s First Birthday [https://medium.com/@hodlhodl/hodl-hodls-first-birthday-eb1093e963f5](https://medium.com/@hodlhodl/hodl-hodls-first-birthday-eb1093e963f5)\\n\\nhttps://preview.redd.it/tuy13vn0o5i21.png?width=2000&format=png&auto=webp&s=8f19de3048b8fe474b658064e1759f5bbe6177d2',\n",
       " 'Reckless review \\nhttp://www.recklessreview.horse/263522/988462-lightning-exchanges-hardware-wallets-and-gambling-your-life-away',\n",
       " 'Examples on PHP for wallet API Examples on PHP for wallet API:\\n\\n[https://github.com/bitaps-com/wallet-api-examples/tree/master/php](https://github.com/bitaps-com/wallet-api-examples/tree/master/php)\\n\\n[https://developer.bitaps.com/wallet](https://developer.bitaps.com/wallet)\\n\\n&#x200B;',\n",
       " 'Crypto Movie! [https://www.youtube.com/watch?v=kYZut3DWvek](https://www.youtube.com/watch?v=kYZut3DWvek)\\n\\n&#x200B;\\n\\nCrypto getting more known.',\n",
       " 'Bitcoin as global money [https://www.youtube.com/watch?v=F9TswUZtlgw&t=61s](https://www.youtube.com/watch?v=F9TswUZtlgw&t=61s)',\n",
       " 'Crypto Matrix Is there a Crypto Matrix?  \\n\\n\\n[https://cryptobutcher.org/wp/2019/02/13/could-there-be-a-crypto-matrix/](https://cryptobutcher.org/wp/2019/02/13/could-there-be-a-crypto-matrix/)',\n",
       " 'Ultimatum Given by Supreme court of India regarding cryptocurrency. [https://blog.cxihub.com/ultimatum-given-by-the-supreme-court-regadring-cryptocurrency/](https://blog.cxihub.com/ultimatum-given-by-the-supreme-court-regadring-cryptocurrency/)\\n\\nhttps://preview.redd.it/qwd89balc2l21.png?width=1920&format=png&auto=webp&s=1b955ac5aa3fe062d7630c37c7ff20d8fb992aea',\n",
       " 'Some PHP and Bitcoin 101 RPC development [https://bitcoindev.network/accessing-bitcoins-rpc-service-from-php/](https://bitcoindev.network/accessing-bitcoins-rpc-service-from-php/)',\n",
       " 'we use btc &#x200B;\\n\\nhttps://preview.redd.it/oxerqxx97fk21.jpg?width=1080&format=pjpg&auto=webp&s=312850d6de623d2ff6b05e87271351a5d59fdbc3',\n",
       " 'Hyper-minimalist satoshi symbol | LN Original: [https://i.imgur.com/ZYTwfcW.png](https://i.imgur.com/ZYTwfcW.png)  \\n\\\\---------------------------------------------------------------  \\nWhy it is perfect?  \\nThunder: [https://imgur.com/a/PxQIDcJ](https://imgur.com/a/PxQIDcJ)  \\nS symbol: [https://imgur.com/a/pPdQaQm](https://imgur.com/a/pPdQaQm)',\n",
       " '7000 nodes!! [https://1ml.com/](https://1ml.com/)\\n\\n&#x200B;',\n",
       " 'Bring Ross home! Sign this petition for clemency. [https://www.change.org/p/president-of-the-united-states-clemency-for-ross-ulbricht-serving-double-life-for-a-website](https://www.change.org/p/president-of-the-united-states-clemency-for-ross-ulbricht-serving-double-life-for-a-website)',\n",
       " 'Bitcoin Halving – Will Halving Boost the Price? [https://www.coinblogger.org/bitcoin-halving/](https://www.coinblogger.org/bitcoin-halving/)',\n",
       " 'Spanish Hotels will accept Bitcoin payments! [Read more:](https://trastra.com/hooray-spanish-hotels-will-accept-bitcoin-payments/?fbclid=IwAR3jTg1OcGZLCQFphBppLmVODLcWY2xWD4KetAA9DIj8__fRrIJHaUqlKEE)\\n\\n&#x200B;\\n\\nhttps://preview.redd.it/cgao44uyx2n21.png?width=424&format=png&auto=webp&s=efcae07c9d8f937ea0375985cf7053ababb87732',\n",
       " 'Hi Mrs vertical. &#x200B;\\n\\nhttps://preview.redd.it/vusoma0tgsp21.png?width=991&format=png&auto=webp&s=72b7379b9c6b1f2f5f5614e03f120835a51c0a36',\n",
       " \"House of The Rekt - Crypto/Bitcoin Comedy Video WokeChain's first crypto comedy video of many. \\n\\nGoing to grow massively in the bull market.\\n\\n&#x200B;\\n\\n[https://youtu.be/tX90mK0qR0o](https://youtu.be/tX90mK0qR0o)\\n\\n&#x200B;\\n\\nSocial Media:\\n\\n[Twitter.com/WokeChain](https://Twitter.com/WokeChain)\\n\\n[Instagram.com/WokeChain](https://Instagram.com/WokeChain)\\n\\n[YouTube.com/WokeChain](https://YouTube.com/WokeChain)\\n\\n[YouTube.com/WokeVlogs](https://YouTube.com/WokeVlogs)\",\n",
       " 'Bullish Sentiment seems to be building for $BTC [https://lunarcrush.com/coins/btc/bitcoin/insights/bullish-sentiment?interval=1%20Week](https://lunarcrush.com/coins/btc/bitcoin/insights/bullish-sentiment?interval=1%20Week)\\n\\n[Bullish Sentiment across Social Media](https://preview.redd.it/ns6f7wbeezo21.png?width=2676&format=png&auto=webp&s=31f6ea89feffd24df7c9aae2c59d9435d69c7147)\\n\\n&#x200B;',\n",
       " 'This guy knows the true about banks Time: 1:00:43\\n\\n&#x200B;\\n\\n[https://youtu.be/L0fW2uOwvTM?t=3643](https://youtu.be/L0fW2uOwvTM?t=3643)',\n",
       " 'Bitcoin testnet explorer Dark theme released &#x200B;\\n\\nhttps://preview.redd.it/xcpak02qlio21.png?width=2150&format=png&auto=webp&s=6a598ff456535b92942b57b96d9ee4c1922ca4ab\\n\\nBitcoin testnet explorer Dark theme released! [https://tbtc.bitaps.com](https://t.co/ruEtIx8uQW)',\n",
       " 'Bitcoin VS Corruption &#x200B;\\n\\nhttps://preview.redd.it/3injv2utego21.png?width=1366&format=png&auto=webp&s=4551d318b1012c45d75e893b9bdc641b035f0c5e\\n\\n[Audio](https://soundcloud.com/stilldangero/assassins-creed-3-fight-club-extended-hd)',\n",
       " 'Easy to understand bitcoin Easy to understand bitcoin\\n\\n&#x200B;\\n\\n[https://youtu.be/MISXg6YHAzU](https://youtu.be/MISXg6YHAzU)',\n",
       " 'Is this real?  [https://lbc.cryptoguru.org/trophies](https://lbc.cryptoguru.org/trophies)',\n",
       " \"Support Hodlonaut with merchandise benefiting his legal fund at BITCOINTEL.PRO Hey guys, I've been working with the team to make a whole category in my merch store of rad stuff you can buy. **ALL profits will go to Hodlonaut's legal defense fund.**\\n\\n&#x200B;\\n\\nShop here: [**https://bitcointel.pro/collections/all/weareallhodlonaut**](https://bitcointel.pro/collections/all/weareallhodlonaut)\\n\\nDonate directly here:  [**https://weareallhodlonaut.com/**](https://weareallhodlonaut.com/)\\n\\nhttps://preview.redd.it/o6y28yi4h2s21.jpg?width=1200&format=pjpg&auto=webp&s=f4127b4f707a1ca202965508c32bb8a8873d837f\\n\\nhttps://preview.redd.it/nbxliri4h2s21.jpg?width=1000&format=pjpg&auto=webp&s=a00505c5d2b1003ab861d4119b1c18c8776529c2\\n\\nhttps://preview.redd.it/8x5d4lh4h2s21.jpg?width=1000&format=pjpg&auto=webp&s=86bba9ffb36cf50f08b59f216040324c39221b45\\n\\nhttps://preview.redd.it/pa048nh4h2s21.jpg?width=1200&format=pjpg&auto=webp&s=550a5d0647a72c6c0283ba6867a2e0a31dcb81fd\\n\\nhttps://preview.redd.it/rnc3nti4h2s21.png?width=1024&format=png&auto=webp&s=c9d5adfdd06e923c4d275b75237fe301068d0d40\\n\\nhttps://preview.redd.it/b08i8pi4h2s21.jpg?width=1000&format=pjpg&auto=webp&s=2a7fc3b0fb35b6746147af5674f7bec3b442cbca\\n\\nhttps://preview.redd.it/98vtljh4h2s21.jpg?width=1000&format=pjpg&auto=webp&s=98bdaac102af667dff4e145f690ea6e5eb265f7a\\n\\nhttps://preview.redd.it/v94i6nh4h2s21.jpg?width=1000&format=pjpg&auto=webp&s=277dd49d50e920d189a740dee4e6317e2d633003\",\n",
       " 'https://www.change.org/p/rcmp-exhume-gerry-cotten  [https://www.change.org/p/rcmp-exhume-gerry-cotten](https://www.change.org/p/rcmp-exhume-gerry-cotten)',\n",
       " 'BTC.com is seeking the logo design of Lightning Network &#x200B;\\n\\nhttps://preview.redd.it/qj90irlb7gr21.jpg?width=1202&format=pjpg&auto=webp&s=8c9fda3618338f1c89221d2a02c57193649091bb\\n\\n[www.btc.com](https://www.btc.com)',\n",
       " 'The Crypto Lisa | A Modern Art Masterpiece? [https://www.thecryptolisa.com/](https://www.thecryptolisa.com/)\\n\\nhttps://preview.redd.it/gjug3yc71xq21.png?width=4000&format=png&auto=webp&s=4c40baba18988f7c30b654eb57db28681c38bdbe',\n",
       " 'In this video I managed to unite: Andreas, Mcafee, Warren, Peter Schiff, Jamie Dimon and any other [https://youtu.be/mAWpKWRSepY](https://youtu.be/mAWpKWRSepY)  \\n\\n\\nHeros: [**aantonop**](https://twitter.com/aantonop), [**officialmcafee**](https://twitter.com/officialmcafee), [**IOHK\\\\_Charles**](https://twitter.com/IOHK_Charles), Bitcoin Sign Guy and [**DanielFragaBR**](https://twitter.com/DanielFragaBR)     \\n\\n\\nVillains: [**JanetYellenBlog**](https://twitter.com/JanetYellenBlog), [**wolfofwallst**](https://twitter.com/wolfofwallst), Jamie Dimon, [**danspena**](https://twitter.com/danspena), [**WarrenBuffett**](https://twitter.com/WarrenBuffett), [**PeterSchiff**](https://twitter.com/PeterSchiff) and [**izzynobre**](https://twitter.com/izzynobre)',\n",
       " 'BTC vs Gold [https://www.coinblogger.org/bitcoin-vs-gold-a-relative-comparison/](https://www.coinblogger.org/bitcoin-vs-gold-a-relative-comparison/)',\n",
       " 'Bitcoin price animation/visualisation on linear chart [http://www.bullshit.se/btc/](http://www.bullshit.se/btc/)',\n",
       " \"My new response to Lightning Doesn't Work [https://imgur.com/SqDdYlS](https://imgur.com/SqDdYlS.jpg)\",\n",
       " \"Bitfinex withdrawal issues: where did the money go? Many users here have defended Bitfinex and blamed the banks for Bitfinex not having liquidity to cover their depositors, but is that really fair...?  (1) Bitfinex has had major delays and lack of communication with depositors for years, long before the current issue with the NY AG, and (2) What did Bitfinex do with all of the depositor funds they had accepted? If they are simply holding funds for clients as a service, why would funds be missing, making them delay withdrawals for months as they have to so many depositors?  Forget the current issue with frozen accounts for a minute, as they had issues with delays long before now.  Personally, I still have my doubts about the 2016 hack and wonder if that might not have been an inside job (admittedly that's just speculation, but something about Bitfinex smells off, and it has for a long time).\\n\\n[https://www.reddit.com/r/bitfinex/comments/as5yi2/waiting\\\\_2\\\\_months\\\\_for\\\\_a\\\\_serius\\\\_answer/](https://www.reddit.com/r/bitfinex/comments/as5yi2/waiting_2_months_for_a_serius_answer/)\\n\\n[https://www.reddit.com/r/bitfinex/comments/b2h94l/bitfinex\\\\_huge\\\\_problem\\\\_big\\\\_money\\\\_loss/](https://www.reddit.com/r/bitfinex/comments/b2h94l/bitfinex_huge_problem_big_money_loss/)\\n\\n[https://www.reddit.com/r/bitfinex/comments/azv90z/my\\\\_account\\\\_with\\\\_money\\\\_has\\\\_been\\\\_frozen\\\\_for\\\\_6\\\\_month/](https://www.reddit.com/r/bitfinex/comments/azv90z/my_account_with_money_has_been_frozen_for_6_month/)\\n\\n[https://www.reddit.com/r/bitfinex/comments/ak1sem/i\\\\_demand\\\\_my\\\\_16k\\\\_back\\\\_from\\\\_bitfinex\\\\_follow\\\\_my/](https://www.reddit.com/r/bitfinex/comments/ak1sem/i_demand_my_16k_back_from_bitfinex_follow_my/)\\n\\n[https://www.reddit.com/r/bitfinex/comments/bayr0j/am\\\\_i\\\\_alone\\\\_in\\\\_having\\\\_delays\\\\_in\\\\_wire\\\\_withdrawals/](https://www.reddit.com/r/bitfinex/comments/bayr0j/am_i_alone_in_having_delays_in_wire_withdrawals/)\\n\\n[https://www.reddit.com/r/bitfinex/comments/bc08um/i\\\\_have\\\\_been\\\\_trying\\\\_to\\\\_withdraw\\\\_my\\\\_funds\\\\_for\\\\_2/](https://www.reddit.com/r/bitfinex/comments/bc08um/i_have_been_trying_to_withdraw_my_funds_for_2/)\\n\\n[https://www.reddit.com/r/bitfinex/comments/ba5mnr/expedited\\\\_24\\\\_hr\\\\_withdrawl\\\\_has\\\\_not\\\\_happened\\\\_very/](https://www.reddit.com/r/bitfinex/comments/ba5mnr/expedited_24_hr_withdrawl_has_not_happened_very/)\\n\\n[https://www.reddit.com/r/bitfinex/comments/ajomdq/funds\\\\_have\\\\_not\\\\_been\\\\_recieved\\\\_for\\\\_over\\\\_3\\\\_months/](https://www.reddit.com/r/bitfinex/comments/ajomdq/funds_have_not_been_recieved_for_over_3_months/)\\n\\n[https://www.reddit.com/r/bitfinex/comments/b8lcxq/hey\\\\_bitfinex\\\\_i\\\\_asked\\\\_for\\\\_a\\\\_wire\\\\_to\\\\_withdraw\\\\_funds/](https://www.reddit.com/r/bitfinex/comments/b8lcxq/hey_bitfinex_i_asked_for_a_wire_to_withdraw_funds/)\\n\\n[https://www.reddit.com/r/bitfinex/comments/aw91zw/my\\\\_bitfinex\\\\_withdraw\\\\_is\\\\_locked\\\\_they\\\\_ask\\\\_me\\\\_the/](https://www.reddit.com/r/bitfinex/comments/aw91zw/my_bitfinex_withdraw_is_locked_they_ask_me_the/)\\n\\n[https://www.reddit.com/r/bitfinex/comments/az3a4b/withdraw\\\\_stuck\\\\_on\\\\_processing/](https://www.reddit.com/r/bitfinex/comments/az3a4b/withdraw_stuck_on_processing/)\\n\\n[https://www.reddit.com/r/bitfinex/comments/as7iug/btc\\\\_deposited\\\\_to\\\\_usdt\\\\_wallet\\\\_8\\\\_months\\\\_ago\\\\_jun/](https://www.reddit.com/r/bitfinex/comments/as7iug/btc_deposited_to_usdt_wallet_8_months_ago_jun/)\\n\\n[https://www.reddit.com/r/bitfinex/comments/b83jrs/3\\\\_days\\\\_crypto\\\\_withdrawals\\\\_from\\\\_my\\\\_bifinexethfinex/](https://www.reddit.com/r/bitfinex/comments/b83jrs/3_days_crypto_withdrawals_from_my_bifinexethfinex/)\\n\\n[https://www.reddit.com/r/bitfinex/comments/b7gtn1/didnt\\\\_recieve\\\\_iqx\\\\_withdrawn/](https://www.reddit.com/r/bitfinex/comments/b7gtn1/didnt_recieve_iqx_withdrawn/)\\n\\n[https://www.reddit.com/r/bitfinex/comments/afxjv2/my\\\\_usd\\\\_withdraw\\\\_passed\\\\_15\\\\_months\\\\_cancelled\\\\_and/](https://www.reddit.com/r/bitfinex/comments/afxjv2/my_usd_withdraw_passed_15_months_cancelled_and/)\\n\\n[https://www.reddit.com/r/bitfinex/comments/b5oidt/bitfinex\\\\_lost\\\\_my\\\\_150\\\\_zec8400\\\\_during\\\\_withdrawal/](https://www.reddit.com/r/bitfinex/comments/b5oidt/bitfinex_lost_my_150_zec8400_during_withdrawal/)\\n\\n[https://www.reddit.com/r/bitfinex/comments/aj1xxm/withdrawal\\\\_no\\\\_credited\\\\_since\\\\_december\\\\_20th/](https://www.reddit.com/r/bitfinex/comments/aj1xxm/withdrawal_no_credited_since_december_20th/)\\n\\n[https://www.reddit.com/r/bitfinex/comments/ahed8t/bitfinex\\\\_please\\\\_tell\\\\_me\\\\_where\\\\_my\\\\_2\\\\_whidrawals\\\\_are/](https://www.reddit.com/r/bitfinex/comments/ahed8t/bitfinex_please_tell_me_where_my_2_whidrawals_are/)\\n\\n[https://www.reddit.com/r/bitfinex/comments/afpagw/withdrawals/](https://www.reddit.com/r/bitfinex/comments/afpagw/withdrawals/)\\n\\n[https://www.reddit.com/r/bitfinex/comments/af4c2p/usd\\\\_withdraw\\\\_canceled\\\\_by\\\\_adminsupport\\\\_team\\\\_not/](https://www.reddit.com/r/bitfinex/comments/af4c2p/usd_withdraw_canceled_by_adminsupport_team_not/)\\n\\n[https://www.reddit.com/r/bitfinex/comments/abelfj/fiat\\\\_withdraw\\\\_canceled\\\\_by\\\\_admin/](https://www.reddit.com/r/bitfinex/comments/abelfj/fiat_withdraw_canceled_by_admin/)\\n\\n[https://www.reddit.com/r/bitfinex/comments/ab55tn/why\\\\_my\\\\_usd\\\\_withdrawal\\\\_been\\\\_canceled\\\\_by\\\\_admin/](https://www.reddit.com/r/bitfinex/comments/ab55tn/why_my_usd_withdrawal_been_canceled_by_admin/)\\n\\n[https://www.reddit.com/r/bitfinex/comments/aa1th0/eur\\\\_withdrawal\\\\_117323/](https://www.reddit.com/r/bitfinex/comments/aa1th0/eur_withdrawal_117323/)\\n\\n[https://www.reddit.com/r/bitfinex/comments/a7vf0t/bch\\\\_deposit\\\\_not\\\\_credited\\\\_since\\\\_a\\\\_month/](https://www.reddit.com/r/bitfinex/comments/a7vf0t/bch_deposit_not_credited_since_a_month/)\\n\\n[https://www.reddit.com/r/bitfinex/comments/a7a84a/4\\\\_weeks\\\\_with\\\\_no\\\\_response/](https://www.reddit.com/r/bitfinex/comments/a7a84a/4_weeks_with_no_response/)\\n\\n[https://www.reddit.com/r/bitfinex/comments/a79olk/2\\\\_months\\\\_withdrawal\\\\_never\\\\_received\\\\_money\\\\_request/](https://www.reddit.com/r/bitfinex/comments/a79olk/2_months_withdrawal_never_received_money_request/)\",\n",
       " 'Fidelity Will Offer Cryptocurrency Trading Within a Few Weeks??? [https://www.bloomberg.com/news/articles/2019-05-06/fidelity-said-to-offer-cryptocurrency-trading-within-a-few-weeks](https://www.bloomberg.com/news/articles/2019-05-06/fidelity-said-to-offer-cryptocurrency-trading-within-a-few-weeks)\\n\\n&#x200B;\\n\\nhttps://preview.redd.it/7opfzcvqjpw21.png?width=1394&format=png&auto=webp&s=570db404bba70262904538353db49f49570e974b\\n\\nhttps://preview.redd.it/yxzykgm2ipw21.png?width=970&format=png&auto=webp&s=7d965212d874f6a50b86e46bb1f36fbbd5f204d0\\n\\nWow, seems like a big news...',\n",
       " 'The Crypto Collection – Medium [https://medium.com/s/the-crypto-collection](https://medium.com/s/the-crypto-collection)',\n",
       " 'BitCoin Scam in the Philippines Expose [https://youtu.be/SnavXHYv0ow](https://youtu.be/SnavXHYv0ow)',\n",
       " 'What are your thoughts on https://coinb.in/ browser based multi sig wallet? Link: [https://coinb.in/](https://coinb.in/)',\n",
       " 'Comment acheter des bitcoins [https://hiddenwiki.fr/index.php?id=acheter-des-bitcoins](https://hiddenwiki.fr/index.php?id=acheter-des-bitcoins)',\n",
       " 'Does BTC have any value?  [https://www.theancientbabylonians.com/does-bitcoin-have-any-value-the-history-of-money/](https://www.theancientbabylonians.com/does-bitcoin-have-any-value-the-history-of-money/)',\n",
       " 'Buy Bitcoin in Ireland Local Bitcoin Exchange:\\n\\n&#x200B;\\n\\n[https://www.youtube.com/watch?v=etbY6SW6DkI](https://www.youtube.com/watch?v=etbY6SW6DkI&feature=youtu.be)',\n",
       " \"Kraken, Coinsquare and TD Securities Responses to Consultation Paper 21-402 Proposed Framework for Crypto-Asset Trading Platform Context: \\n\\nhttps://www.osc.gov.on.ca/documents/en/Securities-Category2/csa_20190314_21-402_crypto-asset-trading-platforms.pdf\\n\\n.\\n\\nKrakens Response:\\n\\nhttps://docs.iiroc.ca/DisplayDocument.aspx?DocumentID=6475721B496B4F55A4BC7603260BFA9E&Language=en\\n\\n.\\n\\nCoinsquares response: \\n\\nhttps://docs.iiroc.ca/DisplayDocument.aspx?DocumentID=3DCEF8EDCA2243A7ADCAF339D09F71BA&Language=en\\n\\n.\\n\\nTD Securities response: \\n\\nhttps://docs.iiroc.ca/DisplayDocument.aspx?DocumentID=3D210E32AA4546F6BE283F2DF24DB2E9&Language=en\\n\\n.\\n\\nr/BitcoinCA's response:\\n\\nhttps://docs.iiroc.ca/DisplayDocument.aspx?DocumentID=6E6AF458E9C3448984AFA4458DED56F7&Language=en\\n\\n.\\n\\nSome other responses: https://www.osc.gov.on.ca/en/59631.htm\",\n",
       " 'Bitcoin price analysis [https://www.daytrade-profit.com/2019/05/are-we-anticipating-return-of-bitcoin.html](https://www.daytrade-profit.com/2019/05/are-we-anticipating-return-of-bitcoin.html)\\n\\nhttps://preview.redd.it/6yk5qe1ad4y21.png?width=1904&format=png&auto=webp&s=b240a7a7aacf488b36327a7b1dd332e7fcc312bf',\n",
       " '₿$ &#x200B;\\n\\nhttps://preview.redd.it/7raxcas4g3y21.jpg?width=1000&format=pjpg&auto=webp&s=0b7fd39a1fba8761f7af40e10501636c057c3633',\n",
       " 'Alerts Ready [Tothemoon](https://i.imgur.com/iMCIDlU.jpg)',\n",
       " \"Don't be greedy like this guy [https://www.youtube.com/watch?v=DxAguzN5OJQ&list=WL&index=4&t=0s](https://www.youtube.com/watch?v=DxAguzN5OJQ&list=WL&index=4&t=0s)\",\n",
       " 'This is healthy &#x200B;\\n\\nhttps://preview.redd.it/9f6wn69wwsx21.png?width=1870&format=png&auto=webp&s=a73d0440e8c9436e1bd3d84c992f7866e7b5c8ee',\n",
       " 'looks like our boy gingerbreadfutters did pretty good. [https://www.reddit.com/r/Bitcoin/comments/6a3lvd/today\\\\_i\\\\_took\\\\_out\\\\_a\\\\_325239\\\\_equity\\\\_loan\\\\_on\\\\_my\\\\_house/dhbhrnq/](https://www.reddit.com/r/Bitcoin/comments/6a3lvd/today_i_took_out_a_325239_equity_loan_on_my_house/dhbhrnq/)',\n",
       " 'This is some interesting shit. Good reporting [https://www.investinblockchain.com/new-evidence-suggests-satoshi-nakamoto-is-paul-solotshi-the-creator-of-encryption-software-e4m-and-truecrypt/](https://www.investinblockchain.com/new-evidence-suggests-satoshi-nakamoto-is-paul-solotshi-the-creator-of-encryption-software-e4m-and-truecrypt/)',\n",
       " 'The biometric hardware wallet for cryptocurrency [https://medium.com/@UnikeysTeam/how-unikeys-is-looking-to-change-the-game-1dfee57dd7e4](https://medium.com/@UnikeysTeam/how-unikeys-is-looking-to-change-the-game-1dfee57dd7e4)',\n",
       " 'Papercrypto https://www.papercrypto.io/app/contests/5cdee56b67f8e400116a3873',\n",
       " 'Looks like New Zealand is next [https://www.btcvsgdp.com/](https://www.btcvsgdp.com/)',\n",
       " 'Overall \"buy\" sentiment from Bitcoin technical indicators. &#x200B;\\n\\nhttps://preview.redd.it/5k6atu8bnj531.jpg?width=2400&format=pjpg&auto=webp&s=1726f00f3a1810c90ef89e4211ec7cbcf74c26b6\\n\\nTrack real-time performance: [https://terminal.coinscious.io/](https://terminal.coinscious.io/details/BTC/en)',\n",
       " 'BitBay.net Exchange Introduces GBP With Special June Promotion! &#x200B;\\n\\nhttps://preview.redd.it/akhd9lt1q9531.png?width=1200&format=png&auto=webp&s=7589225d48037f27ec49c4535936826b475fc54b\\n\\n&#x200B;\\n\\n[https://www.ccn.com/sponsored-stories/bitbaynet-exchange-introduces-gbp-with-special-june-promotion/2019/06/18/](https://www.ccn.com/sponsored-stories/bitbaynet-exchange-introduces-gbp-with-special-june-promotion/2019/06/18/)',\n",
       " 'New Bullish Sign &#x200B;\\n\\nhttps://preview.redd.it/xv57sqofwy431.png?width=988&format=png&auto=webp&s=39345c1cc4bc30cf5095d0b04dbf67ae26dfb2c9',\n",
       " \"Italy's Parallel Currency - mini-BOT (June 7, 2019) [https://www.bloomberg.com/opinion/articles/2019-06-07/italy-s-scary-alternative-currency-idea-the-mini-bot](https://www.bloomberg.com/opinion/articles/2019-06-07/italy-s-scary-alternative-currency-idea-the-mini-bot)\",\n",
       " 'May 2019 Crypto Exchange Analytics and Research | Corindex Report This\\xa0is\\xa0the\\xa0eighth\\xa0report\\xa0in\\xa0a\\xa0series\\xa0of\\xa0reviews\\xa0of\\xa0the\\xa0crypto\\xa0exchanges\\xa0widely considered\\xa0to\\xa0be\\xa0leaders\\xa0in\\xa0the\\xa0field.\\xa0In\\xa0it,\\xa0COR\\xa0analyzes\\xa0chief\\xa0criteria\\xa0used\\xa0to\\xa0select crypto\\xa0exchanges,\\xa0their\\xa0main\\xa0indicators,\\xa0and\\xa0publicly\\xa0available\\xa0information\\xa0about\\xa0the exchanges.   \\n\\n\\nhttps://preview.redd.it/lab8qp754y431.jpg?width=690&format=pjpg&auto=webp&s=038dff3b2525571806a7696e8f2c9fec1aa646c2\\n\\nOn platform:  [https://corindex.com/report/2019/May](https://corindex.com/report/2019/May)   \\nPDF:  [https://corindex.com/uploads/May\\\\_2019\\\\_Crypto\\\\_Exchange\\\\_Analytics.pdf](https://corindex.com/uploads/May_2019_Crypto_Exchange_Analytics.pdf)   \\nLite Ver.:  [https://corindex.com/reportShort/2019/May](https://corindex.com/reportShort/2019/May)',\n",
       " 'Tim Draper on BTC [https://www.dropbox.com/s/qjkor6vjeotrpz6/Draper%20Associates.mov?dl=0](https://www.dropbox.com/s/qjkor6vjeotrpz6/Draper%20Associates.mov?dl=0)',\n",
       " 'Unlimited gold https://www.thesun.co.uk/tech/9378480/giant-golden-asteroid-psyche-61-billionaire-nasa-2022/',\n",
       " 'WTF Coinbase &#x200B;\\n\\nhttps://preview.redd.it/y0cly28k90731.jpg?width=1043&format=pjpg&auto=webp&s=32a485f188958e0d1fe0ff742ad2ef6e28867ec0',\n",
       " 'Bitcoin’s Inevitability Thesis https://decentralize.today/technology/getting-started-with-a-i-in-content-marketing?fbclid=IwAR3lvDqpEL37Naz3TTfmAcdKdoZKmqC5XH3jFKO6dBOTQWKX_lTFED5fqzQ',\n",
       " 'Bitcoin mass adoption map Hi, everybody!\\n\\nWe prepared  \"**Bitcoin mass adoption map**\" based on our 1800+ merchants base\\n\\nMap >>> [https://cryptwerk.com/coinmap/btc/](https://cryptwerk.com/coinmap/btc/)\\n\\nhttps://preview.redd.it/c6zudb4yex631.png?width=1244&format=png&auto=webp&s=cd8da03abbef74099d56eab7319253c9c16c3acf\\n\\nAnd **Bitcoin merchants directory**\\n\\nLink >>> [https://cryptwerk.com/pay-with/btc/](https://cryptwerk.com/pay-with/btc/)\\n\\nhttps://preview.redd.it/7ahoijv1fx631.png?width=996&format=png&auto=webp&s=4d8ac5c862152774366a16d4045569eab6dbc37d',\n",
       " 'Happy, 12k, 13,, 14k.... [https://www.youtube.com/watch?v=0-JJuHpfN5g](https://www.youtube.com/watch?v=0-JJuHpfN5g)',\n",
       " 'Bitcoin pls go to moon [https://www.youtube.com/watch?v=\\\\_PXU0thDHCU](https://www.youtube.com/watch?v=_PXU0thDHCU)',\n",
       " 'Altcoiners nowadays... &#x200B;\\n\\nhttps://preview.redd.it/wiscnf1hjg631.jpg?width=1575&format=pjpg&auto=webp&s=5091235f6b6d82daf5ee4dcd8a4bc8890cfc0c02',\n",
       " 'Huge Short Liquidation muahahhahahah\\n\\nhttps://preview.redd.it/z872tzqkmw531.png?width=640&format=png&auto=webp&s=cec1b5ea4dc3ac922a5dc54cd1795af7229f3839',\n",
       " 'Coin360 easter egg https://coin360.com',\n",
       " 'The early bird gets the worm! [https://www.reddit.com/r/CryptoCurrency/comments/bzolnr/a\\\\_bank\\\\_in\\\\_liechtenstein\\\\_grew\\\\_its\\\\_traffic\\\\_by\\\\_900/?utm\\\\_source=share&utm\\\\_medium=web2x](https://www.reddit.com/r/CryptoCurrency/comments/bzolnr/a_bank_in_liechtenstein_grew_its_traffic_by_900/?utm_source=share&utm_medium=web2x)',\n",
       " 'Small webpage I made for BTC price fluctuations [http://stonks.money/moon](http://stonks.money/moon)\\n\\n[http://stonks.money/rekt](http://stonks.money/rekt)',\n",
       " 'All-time-low BTC shorts?? &#x200B;\\n\\nhttps://preview.redd.it/wmtddtnlwo931.png?width=1542&format=png&auto=webp&s=301720746a623a61ac6d47852e8f56205da3cc94',\n",
       " 'Bitcoin vs Gold. Nasa, space and Asteroids  [https://medium.com/@GeoffreyGardiner/bitcoin-vs-gold-6016bef863c5](https://medium.com/@GeoffreyGardiner/bitcoin-vs-gold-6016bef863c5)',\n",
       " 'Weekend reminder! Stack sats, mix utxos, open lightning channels! Network fees are low! [Fee discovery](https://spookiestevie.com/bitcoin/)\\n\\nMake the most of it!\\n\\n# Ideas:\\n\\n* Mix your bitcoins for increased fungibility and anonymity via samourai [Whirlpool](https://samouraiwallet.com/whirlpool)\\n* Open lightning channels! [https://1ml.com/](https://1ml.com/)\\n* Hodl ur bitcoins: [https://www.cardwallet.com/en/home/](https://www.cardwallet.com/en/home/) [https://coldcardwallet.com/](https://coldcardwallet.com/) [https://www.ledger.com/](https://www.ledger.com/)\\n* Spend ur bitcoins [https://lightningnetworkstores.com/](https://lightningnetworkstores.com/)\\n\\n:)',\n",
       " 'Currency and the Collapse of the Roman Empire. &#x200B;\\n\\nhttps://preview.redd.it/tvhotrtugi831.png?width=1344&format=png&auto=webp&s=387898864b97266de9a0f45e37417d34abfd0f3c\\n\\nhttps://preview.redd.it/hf5nvb3vgi831.png?width=1342&format=png&auto=webp&s=6bee576a8cf623708a47ec2228051fda16b8f324\\n\\nhttps://preview.redd.it/mmok07yvgi831.png?width=1344&format=png&auto=webp&s=8bd4c717ed4d7a2ad34c639c72c9ffec624a4974\\n\\nhttps://preview.redd.it/a1ls2f9wgi831.png?width=1344&format=png&auto=webp&s=cf3a60482fb65c6f52976125e312f2b748268383\\n\\nhttps://preview.redd.it/6ihmmnnwgi831.png?width=1352&format=png&auto=webp&s=14ad4013318a94fdf95929b2776fb6a0c487173c\\n\\nhttps://preview.redd.it/gpnkcg0xgi831.png?width=1346&format=png&auto=webp&s=f74c80c8a58152723b114890d63f62730dde3c7b\\n\\nhttps://preview.redd.it/wxia1plxgi831.png?width=1344&format=png&auto=webp&s=f25957b2f4431299a8017edced2e4bcc74330106\\n\\nhttps://preview.redd.it/60mxoldygi831.png?width=1352&format=png&auto=webp&s=78b148bf55acc3ccc42b12917bb86af9dcd495a9\\n\\nhttps://preview.redd.it/tsw33lpygi831.png?width=1350&format=png&auto=webp&s=387dc44d5470c2e12788220c7d9025527d3861c2',\n",
       " 'Edward Snowden calls into Bitcoin Conference [https://beth.technology/bitcoin-edward-snowden/](https://beth.technology/bitcoin-edward-snowden/)',\n",
       " 'Nouriel VS Arthur debate transcription  [https://fr.scribd.com/document/415402871/The-Tangle-in-Taipei-Arthur-Hayes-vs-Nouriel-Roubini](https://fr.scribd.com/document/415402871/The-Tangle-in-Taipei-Arthur-Hayes-vs-Nouriel-Roubini)',\n",
       " 'BAKKT opens today!  [https://medium.com/bakkt-blog/putting-bakks-bitcoin-futures-to-the-test-47e381b7dda1](https://medium.com/bakkt-blog/putting-bakks-bitcoin-futures-to-the-test-47e381b7dda1)',\n",
       " 'Best crypto merchandise you can buy. [https://wunderbit.co/blog/best-crypto-merchandise-you-can-buy](https://wunderbit.co/blog/best-crypto-merchandise-you-can-buy)\\n\\nhttps://preview.redd.it/ijyjvjizf9b31.jpg?width=2265&format=pjpg&auto=webp&s=1779d60432b4c1ef0890c192ffda8646bf15d3af',\n",
       " 'Bitmex! &#x200B;\\n\\nhttps://preview.redd.it/yn9xchz398b31.jpg?width=1125&format=pjpg&auto=webp&s=a7820dd34770510aa3daa589b2f881cbe8129d71',\n",
       " 'Big news for cryptos in Finland and Europe [https://coinmotion.com/blog/leading-cryptocurrency-broker-in-the-nordics-prasos-ltd-receives-payment-institution-licence/](https://coinmotion.com/blog/leading-cryptocurrency-broker-in-the-nordics-prasos-ltd-receives-payment-institution-licence/)',\n",
       " \"Bitcoin graffiti Hi guys, do you think its good for bitcoin to be painted on walls ? I'm a graffiti enthusiast and i'm wondering what the community is thinking about theses :\\n\\n&#x200B;\\n\\n [https://pbs.twimg.com/media/DWe9BydWsAE3CRs.jpg](https://pbs.twimg.com/media/DWe9BydWsAE3CRs.jpg) \\n\\n [https://news.bitcoin.com/wp-content/uploads/2018/07/020-1024x683.jpg](https://news.bitcoin.com/wp-content/uploads/2018/07/020-1024x683.jpg) \\n\\n [https://news.bitcoin.com/wp-content/uploads/2018/07/DM4MI92VwAElQnP.jpg](https://news.bitcoin.com/wp-content/uploads/2018/07/DM4MI92VwAElQnP.jpg) \\n\\n [https://encrypted-tbn0.gstatic.com/images?q=tbn:ANd9GcRKZBuZQumrMDYVxbjcANCmNj2iCqK7KYzEby1A8IXMPkhIw3vXzg](https://encrypted-tbn0.gstatic.com/images?q=tbn:ANd9GcRKZBuZQumrMDYVxbjcANCmNj2iCqK7KYzEby1A8IXMPkhIw3vXzg) \\n\\n [https://cdn.images.express.co.uk/img/dynamic/22/590x/Bitcoin-graffiti-918672.jpg](https://cdn.images.express.co.uk/img/dynamic/22/590x/Bitcoin-graffiti-918672.jpg) \\n\\n [https://bit4coin.net/bitcoin-photo-contest/uploads/photo/image/238/desktop\\\\_Black\\\\_Swan\\\\_-\\\\_screensaver.jpg](https://bit4coin.net/bitcoin-photo-contest/uploads/photo/image/238/desktop_Black_Swan_-_screensaver.jpg)\",\n",
       " 'SATOSHI logo DESIGN &#x200B;\\n\\nhttps://preview.redd.it/zng54q6gk7e31.jpg?width=1920&format=pjpg&auto=webp&s=2da84b47cdaf2aef4ca60b3a1c1d24892cc8cbcd',\n",
       " 'Citadel? https://www.nytimes.com/2018/11/01/technology/nevada-bitcoin-blockchain-society.html',\n",
       " 'Bank of China Infographic This is clearer version. Original image here: [https://t.co/1ttC2kTA8t?amp=1](https://t.co/1ttC2kTA8t?amp=1)\\n\\nhttps://preview.redd.it/ipi2qg41vuc31.jpg?width=750&format=pjpg&auto=webp&s=bf99d76f105e7a7882b1bca094ffdcc55ea28e64',\n",
       " 'Always on time！ &#x200B;\\n\\nhttps://preview.redd.it/p11xdsgf1dc31.jpg?width=750&format=pjpg&auto=webp&s=4a8a52b90f4cadf3c886a1cf91224d0f9a78be7b',\n",
       " 'According to inspirobot.me &#x200B;\\n\\nhttps://preview.redd.it/rladwqedohg31.jpg?width=650&format=pjpg&auto=webp&s=46c00a57c41105d7d1ddd8710a7436cfd8feaf74',\n",
       " 'What Can a Crypto Exchange Do in 5 Days? &#x200B;\\n\\nhttps://preview.redd.it/v9cfn8kntdf31.png?width=700&format=png&auto=webp&s=5fdbefe017783675df75fc6807beeedfc3793f31\\n\\n&#x200B;\\n\\n[**https://medium.com/bitbay-exchange-blog/what-can-a-crypto-exchange-do-in-5-days-c7443cdbdbe6**](https://medium.com/bitbay-exchange-blog/what-can-a-crypto-exchange-do-in-5-days-c7443cdbdbe6)',\n",
       " 'Almost Reddit almost :)\\n\\nhttps://preview.redd.it/lex7g5bbaaf31.png?width=720&format=png&auto=webp&s=f0532ab9e872b646e823eac9cc4e359272f68d62',\n",
       " \"Bitcoin JSON RPC API (bitcoin-cli) in your web browser! [new launch for core 0.18.0] Very excited to announce the all-new [https://ChainQuery.com](https://ChainQuery.com) \\n\\nEntirely up to date with Bitcoin Core 0.18.0 and sporting sexy new navigation, advanced search, category filtering, and a great new UI.\\n\\nChainQuery includes full documentation on all 140 Bitcoin RPCs along with the unique ability to run commands in your browser for 27 commands and growing.\\n\\nBitcoin core 0.18.0 included a significant RPC update outlined below:\\n\\nNew RPCs added in 0.18.0:\\n\\n* getnodeaddresses [https://chainquery.com/bitcoin-cli/getnodeaddresses](https://chainquery.com/bitcoin-cli/getnodeaddresses)\\n* listwalletdir [https://chainquery.com/bitcoin-cli/listwalletdir](https://chainquery.com/bitcoin-cli/listwalletdir)\\n* getrpcinfo [https://chainquery.com/bitcoin-cli/getrpcinfo](https://chainquery.com/bitcoin-cli/getrpcinfo)\\n* deriveaddresses [https://chainquery.com/bitcoin-cli/deriveaddresses](https://chainquery.com/bitcoin-cli/deriveaddresses)\\n* getdescriptorinfo [https://chainquery.com/bitcoin-cli/getdescriptorinfo](https://chainquery.com/bitcoin-cli/getdescriptorinfo)\\n* joinpsbts [https://chainquery.com/bitcoin-cli/joinpsbts](https://chainquery.com/bitcoin-cli/joinpsbts)\\n* analyzepsbt [https://chainquery.com/bitcoin-cli/analyzepsbt](https://chainquery.com/bitcoin-cli/analyzepsbt)\\n* utxoupdatepsbt [https://chainquery.com/bitcoin-cli/utxoupdatepsbt](https://chainquery.com/bitcoin-cli/utxoupdatepsbt)\\n\\nUpdated RPC's in 0.18.0:\\n\\n* getpeerinfo [https://chainquery.com/bitcoin-cli/getpeerinfo](https://chainquery.com/bitcoin-cli/getpeerinfo)\\n* getrawmempool [https://chainquery.com/bitcoin-cli/getrawmempool](https://chainquery.com/bitcoin-cli/getrawmempool)\\n* getmempoolancestors [https://chainquery.com/bitcoin-cli/getmempoolancestors](https://chainquery.com/bitcoin-cli/getmempoolancestors)\\n* getmempooldescendants  [https://chainquery.com/bitcoin-cli/getmempooldescendants](https://chainquery.com/bitcoin-cli/getmempooldescendants)\\n* getmempoolentry [https://chainquery.com/bitcoin-cli/getmempoolentry](https://chainquery.com/bitcoin-cli/getmempoolentry)\\n* getrawmempool [https://chainquery.com/bitcoin-cli/getrawmempool](https://chainquery.com/bitcoin-cli/getrawmempool)\\n* settxfee [https://chainquery.com/bitcoin-cli/settxfee](https://chainquery.com/bitcoin-cli/settxfee)\\n* getaddressinfo [https://chainquery.com/bitcoin-cli/getaddressinfo](https://chainquery.com/bitcoin-cli/getaddressinfo)\\n* importmulti [https://chainquery.com/bitcoin-cli/importmulti](https://chainquery.com/bitcoin-cli/importmulti)\\n* importprivkey [https://chainquery.com/bitcoin-cli/importprivkey](https://chainquery.com/bitcoin-cli/importprivkey)\\n* getblocktemplate [https://chainquery.com/bitcoin-cli/getblocktemplate](https://chainquery.com/bitcoin-cli/getblocktemplate)\\n* getmininginfo [https://chainquery.com/bitcoin-cli/getmininginfo](https://chainquery.com/bitcoin-cli/getmininginfo)\\n* getrawtransaction [https://chainquery.com/bitcoin-cli/getrawtransaction](https://chainquery.com/bitcoin-cli/getrawtransaction)\\n* unloadwallet [https://chainquery.com/bitcoin-cli/unloadwallet](https://chainquery.com/bitcoin-cli/unloadwallet)\\n* listunspent [https://chainquery.com/bitcoin-cli/listunspent](https://chainquery.com/bitcoin-cli/listunspent)\\n* createwallet [https://chainquery.com/bitcoin-cli/createwallet](https://chainquery.com/bitcoin-cli/createwallet)\\n\\nDeprecated RPCs in 0.18.0:\\n\\nAll depecated RPC's from 0.18.0 onward can be found here: [https://chainquery.com/bitcoin-cli#deprecated](https://chainquery.com/bitcoin-cli#deprecated)\\n\\n* signrawtransaction\\n* addwitnessaddress\\n* generate\\n* validateaddress (partial)\\n* getaccount\\n* getaccountaddress\\n* getaddressbyaccount\\n* listaccounts\\n* listreceivedbyaccount\\n* move\\n* sendfrom\\n* setaccount\\n\\nCheck it out and let me know what you think!\",\n",
       " 'Bitcoin TA to 15K +MemeReview [https://youtu.be/u2VUCSZAZrU](https://youtu.be/u2VUCSZAZrU)',\n",
       " 'Crypto Watch! My birthday is coming up.... [https://www.franckmuller.com/news/vanguard-encrypto-limited-edition](https://www.franckmuller.com/news/vanguard-encrypto-limited-edition)',\n",
       " 'biladdress.org phishing scam website I found this phishing-scam website [https://biladdress.org](https://biladdress.org) that disguises as the famous paper-wallet generator [bitaddress.org](https://bitaddress.org) . The code picks a public address from a pre-defined list, unrelated to the private key that it displays. i.e. if you transfer bitcoins to the address you no longer have any control over them.\\n\\nI won\\'t be surprised if the owner of this website changes the internal list of public-addresses every time someone falls into the trap, to hide evidences.\\n\\nI\\'ve reported on this domain and after few hours it showed a \"Phishing Warning\" for some time, but then everything returned back to normal. The scammer probably changed the hosting provider or something.\\n\\nI also found many domains that look like [bitaddress.org](https://bitaddress.org) with spelling mistakes (duplicated letters, missing letters, reordered letters, letters that are replaced with close keyboard keys), that redirect to [biladdress.org](https://biladdress.org) :\\n\\n* [http://www.b8itaddress.org](http://www.b8itaddress.org)\\n* [http://www.b8taddress.org](http://www.b8taddress.org)\\n* [http://www.b9itaddress.org](http://www.b9itaddress.org)\\n* [http://www.b9taddress.org](http://www.b9taddress.org)\\n* [http://www.bbitaddress.org](http://www.bbitaddress.org)\\n* [http://www.bi5address.org](http://www.bi5address.org)\\n* [http://www.bi5taddress.org](http://www.bi5taddress.org)\\n* [http://www.bi6address.org](http://www.bi6address.org)\\n* [http://www.bi6taddress.org](http://www.bi6taddress.org)\\n* [http://www.bi8taddress.org](http://www.bi8taddress.org)\\n* [http://www.bi9taddress.org](http://www.bi9taddress.org)\\n* [http://www.biaddress.org](http://www.biaddress.org)\\n* [http://www.biatddress.org](http://www.biatddress.org)\\n* [http://www.bifaddress.org](http://www.bifaddress.org)\\n* [http://www.biftaddress.org](http://www.biftaddress.org)\\n* [http://www.bigtaddress.org](http://www.bigtaddress.org)\\n* [http://www.biitaddress.org](http://www.biitaddress.org)\\n* [http://www.bijtaddress.org](http://www.bijtaddress.org)\\n* [http://www.biktaddress.org](http://www.biktaddress.org)\\n* [http://www.biotaddress.org](http://www.biotaddress.org)\\n* [http://www.biraddress.org](http://www.biraddress.org)\\n* [http://www.birtaddress.org](http://www.birtaddress.org)\\n* [http://www.bit2address.org](http://www.bit2address.org)\\n* [http://www.bit5address.org](http://www.bit5address.org)\\n* [http://www.bit6address.org](http://www.bit6address.org)\\n* [http://www.bita2ddress.org](http://www.bita2ddress.org)\\n* [http://www.bitaaddress.org](http://www.bitaaddress.org)\\n* [http://www.bitacddress.org](http://www.bitacddress.org)\\n* [http://www.bitacdress.org](http://www.bitacdress.org)\\n* [http://www.bitadcdress.org](http://www.bitadcdress.org)\\n* [http://www.bitadcress.org](http://www.bitadcress.org)\\n* [http://www.bitadd4ess.org](http://www.bitadd4ess.org)\\n* [http://www.bitadd4ress.org](http://www.bitadd4ress.org)\\n* [http://www.bitadd5ess.org](http://www.bitadd5ess.org)\\n* [http://www.bitadd5ress.org](http://www.bitadd5ress.org)\\n* [http://www.bitaddcress.org](http://www.bitaddcress.org)\\n* [http://www.bitadddess.org](http://www.bitadddess.org)\\n* [http://www.bitadddress.org](http://www.bitadddress.org)\\n* [http://www.bitaddeess.org](http://www.bitaddeess.org)\\n* [http://www.bitadderess.org](http://www.bitadderess.org)\\n* [http://www.bitaddess.org](http://www.bitaddess.org)\\n* [http://www.bitaddfess.org](http://www.bitaddfess.org)\\n* [http://www.bitaddfress.org](http://www.bitaddfress.org)\\n* [http://www.bitaddiress.org](http://www.bitaddiress.org)\\n* [http://www.bitaddlress.org](http://www.bitaddlress.org)\\n* [http://www.bitaddr3ess.org](http://www.bitaddr3ess.org)\\n* [http://www.bitaddr3ss.org](http://www.bitaddr3ss.org)\\n* [http://www.bitaddr4ess.org](http://www.bitaddr4ess.org)\\n* [http://www.bitaddr4ss.org](http://www.bitaddr4ss.org)\\n* [http://www.bitaddr5ess.org](http://www.bitaddr5ess.org)\\n* [http://www.bitaddrdess.org](http://www.bitaddrdess.org)\\n* [http://www.bitaddrdss.org](http://www.bitaddrdss.org)\\n* [http://www.bitaddre3ss.org](http://www.bitaddre3ss.org)\\n* [http://www.bitaddre4ss.org](http://www.bitaddre4ss.org)\\n* [http://www.bitaddreas.org](http://www.bitaddreas.org)\\n* [http://www.bitaddreass.org](http://www.bitaddreass.org)\\n* [http://www.bitaddreds.org](http://www.bitaddreds.org)\\n* [http://www.bitaddrees.org](http://www.bitaddrees.org)\\n* [http://www.bitaddreess.org](http://www.bitaddreess.org)\\n* [http://www.bitaddreqss.org](http://www.bitaddreqss.org)\\n* [http://www.bitaddrerss.org](http://www.bitaddrerss.org)\\n* [http://www.bitaddresa.org](http://www.bitaddresa.org)\\n* [http://www.bitaddresd.org](http://www.bitaddresd.org)\\n* [http://www.bitaddresds.org](http://www.bitaddresds.org)\\n* [http://www.bitaddrese.org](http://www.bitaddrese.org)\\n* [http://www.bitaddresqs.org](http://www.bitaddresqs.org)\\n* [http://www.bitaddresss.org](http://www.bitaddresss.org)\\n* [http://www.bitaddresws.org](http://www.bitaddresws.org)\\n* [http://www.bitaddresx.org](http://www.bitaddresx.org)\\n* [http://www.bitaddresxs.org](http://www.bitaddresxs.org)\\n* [http://www.bitaddresys.org](http://www.bitaddresys.org)\\n* [http://www.bitaddreszs.org](http://www.bitaddreszs.org)\\n* [http://www.bitaddrewss.org](http://www.bitaddrewss.org)\\n* [http://www.bitaddrexs.org](http://www.bitaddrexs.org)\\n* [http://www.bitaddrexss.org](http://www.bitaddrexss.org)\\n* [http://www.bitaddreyss.org](http://www.bitaddreyss.org)\\n* [http://www.bitaddrezs.org](http://www.bitaddrezs.org)\\n* [http://www.bitaddrezss.org](http://www.bitaddrezss.org)\\n* [http://www.bitaddrrss.org](http://www.bitaddrrss.org)\\n* [http://www.bitaddrses.org](http://www.bitaddrses.org)\\n* [http://www.bitaddrsess.org](http://www.bitaddrsess.org)\\n* [http://www.bitaddrss.org](http://www.bitaddrss.org)\\n* [http://www.bitaddrsss.org](http://www.bitaddrsss.org)\\n* [http://www.bitaddrtess.org](http://www.bitaddrtess.org)\\n* [http://www.bitaddrwess.org](http://www.bitaddrwess.org)\\n* [http://www.bitaddrwss.org](http://www.bitaddrwss.org)\\n* [http://www.bitaddsress.org](http://www.bitaddsress.org)\\n* [http://www.bitaddtess.org](http://www.bitaddtess.org)\\n* [http://www.bitaddtress.org](http://www.bitaddtress.org)\\n* [http://www.bitaddxress.org](http://www.bitaddxress.org)\\n* [http://www.bitadedress.org](http://www.bitadedress.org)\\n* [http://www.bitadfdress.org](http://www.bitadfdress.org)\\n* [http://www.bitadidress.org](http://www.bitadidress.org)\\n* [http://www.bitadldress.org](http://www.bitadldress.org)\\n* [http://www.bitadrdess.org](http://www.bitadrdess.org)\\n* [http://www.bitadrdress.org](http://www.bitadrdress.org)\\n* [http://www.bitadrress.org](http://www.bitadrress.org)\\n* [http://www.bitadsdress.org](http://www.bitadsdress.org)\\n* [http://www.bitadsress.org](http://www.bitadsress.org)\\n* [http://www.bitadxdress.org](http://www.bitadxdress.org)\\n* [http://www.bitadxress.org](http://www.bitadxress.org)\\n* [http://www.bitaeddress.org](http://www.bitaeddress.org)\\n* [http://www.bitafddress.org](http://www.bitafddress.org)\\n* [http://www.bitaqddress.org](http://www.bitaqddress.org)\\n* [http://www.bitarddress.org](http://www.bitarddress.org)\\n* [http://www.bitardress.org](http://www.bitardress.org)\\n* [http://www.bitasddress.org](http://www.bitasddress.org)\\n* [http://www.bitasdress.org](http://www.bitasdress.org)\\n* [http://www.bitawddress.org](http://www.bitawddress.org)\\n* [http://www.bitaxddress.org](http://www.bitaxddress.org)\\n* [http://www.bitaxdress.org](http://www.bitaxdress.org)\\n* [http://www.bitayddress.org](http://www.bitayddress.org)\\n* [http://www.bitazddress.org](http://www.bitazddress.org)\\n* [http://www.bitdadress.org](http://www.bitdadress.org)\\n* [http://www.bitddress.org](http://www.bitddress.org)\\n* [http://www.bitfaddress.org](http://www.bitfaddress.org)\\n* [http://www.bitgaddress.org](http://www.bitgaddress.org)\\n* [http://www.bitqaddress.org](http://www.bitqaddress.org)\\n* [http://www.bitraddress.org](http://www.bitraddress.org)\\n* [http://www.bitsddress.org](http://www.bitsddress.org)\\n* [http://www.bitwaddress.org](http://www.bitwaddress.org)\\n* [http://www.bitwddress.org](http://www.bitwddress.org)\\n* [http://www.bityaddress.org](http://www.bityaddress.org)\\n* [http://www.bitzaddress.org](http://www.bitzaddress.org)\\n* [http://www.bitzddress.org](http://www.bitzddress.org)\\n* [http://www.biutaddress.org](http://www.biutaddress.org)\\n* [http://www.biyaddress.org](http://www.biyaddress.org)\\n* [http://www.biytaddress.org](http://www.biytaddress.org)\\n* [http://www.biztaddress.org](http://www.biztaddress.org)\\n* [http://www.bjitaddress.org](http://www.bjitaddress.org)\\n* [http://www.bjtaddress.org](http://www.bjtaddress.org)\\n* [http://www.bkitaddress.org](http://www.bkitaddress.org)\\n* [http://www.boitaddress.org](http://www.boitaddress.org)\\n* [http://www.botaddress.org](http://www.botaddress.org)\\n* [http://www.btaddress.org](http://www.btaddress.org)\\n* [http://www.btiaddress.org](http://www.btiaddress.org)\\n* [http://www.buitaddress.org](http://www.buitaddress.org)\\n* [http://www.butaddress.org](http://www.butaddress.org)\\n* [http://www.gitaddress.org](http://www.gitaddress.org)\\n* [http://www.hitaddress.org](http://www.hitaddress.org)\\n* [http://www.ibitaddress.org](http://www.ibitaddress.org)\\n* [http://www.ibtaddress.org](http://www.ibtaddress.org)\\n* [http://www.itaddress.org](http://www.itaddress.org)\\n* [http://www.lbitaddress.org](http://www.lbitaddress.org)\\n* [http://www.nitaddress.org](http://www.nitaddress.org)\\n* [http://www.vitaddress.org](http://www.vitaddress.org)\\n\\n&#x200B;\\n\\n\\\\--- UPDATE 1 ---\\n\\nIt looks like the scammer is switching all the redirects to [btaddress.org](https://btaddress.org) instead of [biladdress.org](https://biladdress.org) . I wonder how much money he makes out of this scam, he surely puts a lot of effort into all of this.\\n\\n\\\\--- UPDATE 2 ---\\n\\nFound even more domains - with close-by keyboard letters inserted in the middle of the word instead of replacing one of the letters. In total 146 domains.\\n\\n\\\\--- UPDATE 3 ---\\n\\nI\\'ve kept the list of fake addresses that the website generated, and checked them periodically ( [www.blockonomics.co](https://www.blockonomics.co/api/searchhistory) has a really nice api to check lists of addresses ). One of the addresses was [17enLuBndzRKonLEFwVy7jk3PaUn16dbnU](https://www.blockchain.com/btc/address/17enLuBndzRKonLEFwVy7jk3PaUn16dbnU)  . **It looks like the scammer stole over 30 btc** (or used his address for another purpose? I don\\'t think so). Other addresses also received bitcoin: 1xKZMWfAoNi2AgByn6YmSJF5QcwM98EG3, 1BzP2BY7g2DBiPJigud86Gz8UdTW5uhojk .\\n\\nP.S. I\\'ve reported [btaddress.org](https://btaddress.org) so now all the other addresses forward to [bifaddress.org](https://bifaddress.org) . This is silly, I\\'m not going to report every address one by one. Any Americans here? Please make a phone call to [NameSilo](https://www.namesilo.com/contact_us.php) : 602-492-8198. It\\'s an expensive international phone call for me. Tell them to close \\\\*all\\\\* the domains in the list above, and tell them to report the police if they have any information about the owner of these domains.',\n",
       " 'bitcoin vs the Fed  [https://www.youtube.com/watch?v=PUT4bjimZfk](https://www.youtube.com/watch?v=PUT4bjimZfk)',\n",
       " 'New YouTube update of SOHODLERS &#x200B;\\n\\nhttps://preview.redd.it/jvpjol7f8kj31.jpg?width=1095&format=pjpg&auto=webp&s=b1be3c0c0ec1307a5a1d456a671ad4c84cc8ab71\\n\\nCheck out our new YouTube video [https://youtu.be/fMb6IA7LZqk](https://youtu.be/fMb6IA7LZqk)',\n",
       " 'Study: Cash burn-rate of Crypto startups [https://www.inwara.com/inwara-research-cash-burnrate-blockchain-startups-token-sale](https://www.inwara.com/inwara-research-cash-burnrate-blockchain-startups-token-sale)',\n",
       " 'Tracking hacked Binance BTC and addressing allegations (CoinGate) [https://blog.coingate.com/2019/08/tracking-hacked-binance-btc-addressing-allegations/](https://blog.coingate.com/2019/08/tracking-hacked-binance-btc-addressing-allegations/)',\n",
       " 'ECB decides on Infinite Quantitative Easing. Long Bitcoin! ECB cuts rates, leaves QE open ended. Long Bitcoin!\\n\\n[https://www.ecb.europa.eu/press/pr/date/2019/html/ecb.mp190912\\\\~08de50b4d2.en.html](https://www.ecb.europa.eu/press/pr/date/2019/html/ecb.mp190912~08de50b4d2.en.html)\\n\\n[https://www.bloomberg.com/news/articles/2019-09-12/ecb-cuts-rates-restarts-qe-to-fight-slowdown-as-draghi-era-ends](https://www.bloomberg.com/news/articles/2019-09-12/ecb-cuts-rates-restarts-qe-to-fight-slowdown-as-draghi-era-ends)',\n",
       " \"Warren 'Grandpa' Buffet &#x200B;\\n\\nhttps://preview.redd.it/g6p0f7w5d9l31.jpg?width=1000&format=pjpg&auto=webp&s=a003fb7992bf4a2e5e04e74696179c2b6dd79532\",\n",
       " 'Satoshi Design Concept &#x200B;\\n\\nhttps://preview.redd.it/rsx8eklmp3l31.png?width=1081&format=png&auto=webp&s=59520766a61aab9f91f0b051984c4a2092bfb529\\n\\n[https://www.brandsoftheworld.com/logo/satoshi](https://www.brandsoftheworld.com/logo/satoshi)\\n\\n [https://www.brandsoftheworld.com/logo/bitcoin-2](https://www.brandsoftheworld.com/logo/bitcoin-2)',\n",
       " 'Max Bitcoin 6.15 &#x200B;\\n\\nhttps://preview.redd.it/lkyoea9bx5p31.png?width=1200&format=png&auto=webp&s=9faaf598e4b0054d2eddfbcf40277db305c13ccd',\n",
       " 'Area 51 Raid means bitcoin wins? [https://bitcoinmagazine.com/articles/op-ed-hear-me-out-in-a-post-area-51-world-bitcoin-could-be-our-best-hope-for-alien-interaction](https://bitcoinmagazine.com/articles/op-ed-hear-me-out-in-a-post-area-51-world-bitcoin-could-be-our-best-hope-for-alien-interaction)',\n",
       " 'Espírito Santo Pet Shop that accepts bitcoin makes outdoor advertising  [https://portaldobitcoin.com/pet-shop-do-espirito-santo-que-aceita-bitcoin-faz-anuncio-em-outdoor/](https://portaldobitcoin.com/pet-shop-do-espirito-santo-que-aceita-bitcoin-faz-anuncio-em-outdoor/)  \\n\\n&#x200B;\\n\\nhttps://preview.redd.it/0epy79mz5mp31.png?width=1075&format=png&auto=webp&s=eb275d0557d01b3a230ab9f274b2f15955943d34\\n\\n&#x200B;\\n\\nhttps://preview.redd.it/a2fzstz26mp31.png?width=719&format=png&auto=webp&s=e1662b8165f0caadd78fc4cc84c9c81b3b775159',\n",
       " 'Nonprofits explore the newest fundraising frontier: Cryptocurrency [https://www.devex.com/news/nonprofits-explore-the-newest-fundraising-frontier-cryptocurrency-95789](https://www.devex.com/news/nonprofits-explore-the-newest-fundraising-frontier-cryptocurrency-95789)',\n",
       " '\"What is a crypto wallet\" for newbies. [https://plark.io/blog/what-is-a-crypto-currency-wallet-20191009](https://plark.io/blog/what-is-a-crypto-currency-wallet-20191009)',\n",
       " 'UNICEF launches Cryptocurrency Fund  [https://www.unicef.org/press-releases/unicef-launches-cryptocurrency-fund](https://www.unicef.org/press-releases/unicef-launches-cryptocurrency-fund)',\n",
       " 'Huge News? [https://www.coindesk.com/tiny-217-options-trade-on-bitcoin-blockchain-could-be-wall-streets-death-knell](https://www.coindesk.com/tiny-217-options-trade-on-bitcoin-blockchain-could-be-wall-streets-death-knell)',\n",
       " \"Fiat isn't Money, but Bitcoin is. [https://youtu.be/DMhjlz1-bsE](https://youtu.be/DMhjlz1-bsE)\",\n",
       " 'Blockchain.io Rest API officially released today  [https://blockchain.io/api/](https://blockchain.io/api/)',\n",
       " 'Watch the comics for a moment and learn about the \"decentralization\" of Bitcoin &#x200B;\\n\\nhttps://preview.redd.it/4z3wpp29vut31.jpg?width=720&format=pjpg&auto=webp&s=261cb4e03f1ab6c6a1b3d18e106b54fde1308b1f\\n\\nhttps://preview.redd.it/z2ya4e38vut31.jpg?width=720&format=pjpg&auto=webp&s=9545a7e23e49e5abf2d0fe8139ab882ef14e9596\\n\\nhttps://preview.redd.it/n9pwoya7vut31.jpg?width=720&format=pjpg&auto=webp&s=a74251105abc22bcc99191f85a60583b03828560\\n\\nhttps://preview.redd.it/k1bcpyk5vut31.jpg?width=720&format=pjpg&auto=webp&s=65f125ae8666a8cec922d0dbff8b2bbf4b3529f8\\n\\nhttps://preview.redd.it/5twdcyl4vut31.jpg?width=720&format=pjpg&auto=webp&s=22cea90365c0e19c696dd99a212cc6b85dc2e472\\n\\nhttps://preview.redd.it/17rxuqs3vut31.jpg?width=720&format=pjpg&auto=webp&s=59aa1554cb803c7da4c731b60747edf2340ddabe\\n\\nhttps://preview.redd.it/ewnekto2vut31.jpg?width=720&format=pjpg&auto=webp&s=4391521c7e7586d85a64f29a6569dc86f32e4cc4\\n\\nhttps://preview.redd.it/h0kkj4s1vut31.jpg?width=720&format=pjpg&auto=webp&s=5e88585d084766c16e9bcf3a95e71ee8d8d4fc38\\n\\n[www.zeusbtc.com](https://preview.redd.it/f314wb01vut31.jpg?width=720&format=pjpg&auto=webp&s=94d94a923ce66bffe16d030f99722e335afa7444)',\n",
       " \"PSA : Lightning Faucet found this on Y'alls -\\n\\n[https://lightning-faucet.com/](https://lightning-faucet.com/)\",\n",
       " 'The XAU of Xi: Strategies For Trading Gold &#x200B;\\n\\nhttps://preview.redd.it/03781ecssrv31.jpg?width=1920&format=pjpg&auto=webp&s=ae2c9dbe2ee3df4b9f55fd48a6da4864765755fd\\n\\n[https://blog.emx.com/the-xau-of-xi-strategies-for-trading-gold](https://blog.emx.com/the-xau-of-xi-strategies-for-trading-gold)',\n",
       " 'How to Build a Bulletproof Lightning Node [https://medium.com/muunwallet/how-to-build-a-bulletproof-lightning-node-8e740dac31fa](https://medium.com/muunwallet/how-to-build-a-bulletproof-lightning-node-8e740dac31fa)',\n",
       " 'New Design: The Fiateater We added a new Bitcoin-themed Design to our shop. What do you think?\\n\\n[https://satoshigoods.com/en/clothing/bitcoin/fiat-eater/?sPartner=smori](https://satoshigoods.com/en/clothing/bitcoin/fiat-eater/?sPartner=smori) \\n\\nhttps://preview.redd.it/p49m8z0lmqv31.jpg?width=1200&format=pjpg&auto=webp&s=5a5cfe99e92fb1c0da06c06183dd793f2682bcb6\\n\\n&#x200B;\\n\\nhttps://preview.redd.it/d5mu8yvpmqv31.jpg?width=1280&format=pjpg&auto=webp&s=fe4079524736efd79d9878425e0b35a134c13cf0',\n",
       " 'BTC 747 &#x200B;\\n\\nhttps://preview.redd.it/zz335x6i62041.png?width=1280&format=png&auto=webp&s=a3622549f5a13a2c4c96e35f0883a2777cc8753f',\n",
       " \"Seriously the best Bitcoin rap I've heard [https://youtu.be/tvpOdef8CCc](https://youtu.be/tvpOdef8CCc)\",\n",
       " 'FOSS version of any3words using BIP39 word list! &#x200B;\\n\\nhttps://preview.redd.it/bw863kpkigy31.png?width=1491&format=png&auto=webp&s=5151fadbf80775dec6736bc7c1f7e701ffb93ee1\\n\\n[https://where39.com](https://where39.com)\\n\\n[https://github.com/arcbtc/where39](https://github.com/arcbtc/where39)\\n\\n[https://twitter.com/BTCSocialist/status/1194425013316788225](https://twitter.com/BTCSocialist/status/1194425013316788225)',\n",
       " 'Towards a singular payment protocol [https://cypherpunk.org/2019/11/10/towards-a-singular-payment-protocol/](https://cypherpunk.org/2019/11/10/towards-a-singular-payment-protocol/)',\n",
       " \"Canada's largest bank to launch crypto exchange???  [https://twitter.com/MikeNasser91/status/1194224991220486145](https://twitter.com/MikeNasser91/status/1194224991220486145)\",\n",
       " 'Yess  [https://www.youtube.com/watch?v=IIqqMTT-ne0&feature=youtu.be](https://www.youtube.com/watch?v=IIqqMTT-ne0&feature=youtu.be)',\n",
       " 'Thoughts on SFOX?  [https://www.sfox.com](https://www.sfox.com/) \\n\\n[https://www.coindesk.com/new-exchange-sfox-aims-find-traders-best-bitcoin-price](https://www.coindesk.com/new-exchange-sfox-aims-find-traders-best-bitcoin-price)',\n",
       " 'Anyone familiar with https://bitnodes.earn.com/nodes/live-map/ ? Can someone ELI5 please? edit: [https://bitnodes.earn.com/nodes/live-map/](https://bitnodes.earn.com/nodes/live-map/)',\n",
       " 'Blockchain in Space: International Space Station to Test Bitcoin Hardware Wallet &#x200B;\\n\\nhttps://preview.redd.it/omn49ltury241.jpg?width=2100&format=pjpg&auto=webp&s=4532e362184f5dbdc0cd3dabf3fecf02128a186f\\n\\n[**https://twitter.com/myfirstsatellit/status/1202822330118000640**](https://twitter.com/myfirstsatellit/status/1202822330118000640)',\n",
       " \"What sense do you make out of this? I don't even mention the top volumes. &#x200B;\\n\\nhttps://preview.redd.it/cuae4l6exn241.png?width=272&format=png&auto=webp&s=4833b03f186e086b3292366e4795cf39a0de749d\\n\\nhttps://preview.redd.it/cmqmnbvoxn241.png?width=268&format=png&auto=webp&s=3dff03f762137466190b3bf1bbe8bd5c4a54f4d9\\n\\nhttps://preview.redd.it/0uthcmf2yn241.png?width=269&format=png&auto=webp&s=4edd1555f39b8f1f7b82319a4b9ff9136ad5fd31\\n\\nhttps://preview.redd.it/y39y7nf8yn241.png?width=270&format=png&auto=webp&s=b30b4a7873068aa25397aebd19867d1040a6884d\\n\\nhttps://preview.redd.it/fea5qmyfyn241.png?width=267&format=png&auto=webp&s=34f17b7929078ae6c918aa2e1b50d9882909142e\",\n",
       " 'Bakkt CEO Appointed to US Senate [https://www.coindesk.com/georgia-governor-appoints-bakkt-ceo-loeffler-as-new-us-senator](https://www.coindesk.com/georgia-governor-appoints-bakkt-ceo-loeffler-as-new-us-senator)',\n",
       " 'The Digital Dollar Continues to be Pushed by Former CFTC Chair  [https://blockchain.news/Post?id=the-digital-dollar-continues-to-be-pushed-by-former-cftc-chair](https://blockchain.news/Post?id=the-digital-dollar-continues-to-be-pushed-by-former-cftc-chair) \\n\\nhttps://preview.redd.it/0eef238l4l241.png?width=1200&format=png&auto=webp&s=582e58a0a6022920be5c2dc6ac611f1041ac9833',\n",
       " 'Baby Yoda Memes Drag Craig Wright (With a social good twist) #GivingTuesday [https://imgur.com/a/gMObWFA](https://imgur.com/a/gMObWFA)\\n\\nhttps://preview.redd.it/jomroduw3j241.png?width=1024&format=png&auto=webp&s=71f55ac21c06ebb7fc35f3bd0d524c43573d13d2',\n",
       " 'Second Prediction since 2017 is now successful! [https://www.reddit.com/r/Bitcoin/comments/abjtd5/2019\\\\_year\\\\_of\\\\_institutional\\\\_money/?utm\\\\_source=share&utm\\\\_medium=web2x](https://www.reddit.com/r/Bitcoin/comments/abjtd5/2019_year_of_institutional_money/?utm_source=share&utm_medium=web2x)',\n",
       " 'Bitcoin Halving Block Reward Countdown  [https://www.cryptozink.io/bitcoin-halving-block-reward-2020-countdown/](https://www.cryptozink.io/bitcoin-halving-block-reward-2020-countdown/)',\n",
       " 'blockchain hashrate api is down [https://blockchain.info/q/hashrate](https://blockchain.info/q/hashrate) from the api documentation link:\\n\\n\\\\--> [https://www.blockchain.com/api/charts\\\\_api](https://www.blockchain.com/api/charts_api)\\n\\nWho can we contact to get this fixed?',\n",
       " 'Easy Is Best. https://decrypt.co/14628/this-bitcoin-wallet-makes-lightning-much-more-user-friendly?amp=1',\n",
       " 'Get a Piece of Bitcoin History With Slush Pool! [https://twitter.com/slush\\\\_pool/status/1213071213246988288?s=20](https://twitter.com/slush_pool/status/1213071213246988288?s=20)\\n\\nhttps://preview.redd.it/7a3mhd0bol841.jpg?width=581&format=pjpg&auto=webp&s=500a4ec192bb2e6ead6316d7acb41905a37d7e4c',\n",
       " \"Bitcoin's Lightning Network [https://blog.dshr.org/2020/01/bitcoins-lightning-network.html](https://blog.dshr.org/2020/01/bitcoins-lightning-network.html)\",\n",
       " 'Interesting BTC Info \\nhttps://blog.coinbase.com/charting-the-course-of-bitcoin-11-years-and-counting-b4e17969d4e1',\n",
       " 'Are digital currencies the future of money? [https://www.debatingeurope.eu/2020/02/05/are-cryptocurrencies-the-future-of-money/](https://www.debatingeurope.eu/2020/02/05/are-cryptocurrencies-the-future-of-money/)',\n",
       " 'Latest news from Craig Wright: More bullshit. [https://bitcoinist.com/craig-wright-bonded-courier-lawsuit/](https://bitcoinist.com/craig-wright-bonded-courier-lawsuit/)',\n",
       " 'Crooks https://cointelegraph.com/news/some-coinbase-users-cant-withdraw-more-than-10-in-bitcoin-a-day',\n",
       " 'Bitcoin Treasure Hunt  [https://www.coindesk.com/minecraft-players-can-win-bitcoin-on-new-treasure-hunt-server](https://www.coindesk.com/minecraft-players-can-win-bitcoin-on-new-treasure-hunt-server)',\n",
       " 'Bitcoin Mantra TTM :)  [\\\\#BitcoinMantraTTM](https://twitter.com/hashtag/BitcoinMantraTTM?src=hashtag_click) [\\\\#Bitcoin](https://twitter.com/hashtag/Bitcoin?src=hashtag_click) [@shakira](https://twitter.com/shakira)\\n\\n&#x200B;\\n\\nhttps://reddit.com/link/ey8zoo/video/2lcitxqgcqe41/player\\n\\n [https://www.youtube.com/channel/UCRzqHl5MGQ97NBfOPTS2Yrw/videos](https://www.youtube.com/channel/UCRzqHl5MGQ97NBfOPTS2Yrw/videos)',\n",
       " 'The Bitcoin disease... &#x200B;\\n\\nhttps://preview.redd.it/q90rmgvj4qe41.png?width=1087&format=png&auto=webp&s=c12e67203930f8805306f48526fc05306eaaaa8b',\n",
       " 'Vazebit: New Exchange Site Scam?? Is this a scam; if so, any way to catch this guy?\\n\\n[https://www.whois.com/whois/vazebit.com](https://www.whois.com/whois/vazebit.com)\\n\\n[https://vazebit.com/en](https://vazebit.com/en)\\n\\n&#x200B;\\n\\nhttps://preview.redd.it/got5svw020e41.png?width=952&format=png&auto=webp&s=9cc07def4f5c7ea9e4764ca10635996a547241cd',\n",
       " 'Scammy Awards! Voting Now Open Scammer of the Year!  Really tough choice this year.... Probably going to be a nailbiter\\n\\nhttps://preview.redd.it/w4vn4pr530h41.png?width=1186&format=png&auto=webp&s=89ff7984e3e3195b644333e73650fea57b01ccc7\\n\\n[https://twitter.com/unconfiscatable/status/1228470559102644224?s=20](https://twitter.com/unconfiscatable/status/1228470559102644224?s=20)\\n\\n[www.unconfiscatable.com](https://www.unconfiscatable.com)',\n",
       " 'Hello Satorify! [https://blog.coinclaim.io/say-hello-to-satorify-coinclaims-improved-earning-platform/](https://blog.coinclaim.io/say-hello-to-satorify-coinclaims-improved-earning-platform/)',\n",
       " 'Bitmex trading Goliquid a Bitmex Trading app \\n\\n[https://goliquid.app/](https://goliquid.app/)\\n\\nApp store : [https://apps.apple.com/us/app/l1qu1d/id1482273711?ls=1](https://apps.apple.com/us/app/l1qu1d/id1482273711?ls=1)\\n\\nAndroid : [https://play.google.com/store/apps/details?id=com.bitmex\\\\_trading](https://play.google.com/store/apps/details?id=com.bitmex_trading)\\n\\nGithub build from source : [https://github.com/goliquidapp/source](https://github.com/goliquidapp/source)',\n",
       " 'Bitcoin in the last couple of days  [https://www.youtube.com/watch?v=LODkVkpaVQA](https://www.youtube.com/watch?v=LODkVkpaVQA)',\n",
       " 'Bitcoin Gorilla 1 Year Later [https://www.youtube.com/watch?v=Yaxq3iggMdM](https://www.youtube.com/watch?v=Yaxq3iggMdM)',\n",
       " 'Good video and content on bitcoin timestamping [https://youtu.be/b2NQWgwRb54](https://youtu.be/b2NQWgwRb54)',\n",
       " 'Best writers on Bitcoin? Shill me your best writers of Bitcoin articles, I may add them to the list. Not just people who write about Bitcoin but those who absolutely kill it.\\n\\n[Beautyon](https://hackernoon.com/@beautyon_)\\n\\n[Marty Bent](https://tftc.io/martys-bent/)\\n\\n[Vijay Boyapati](https://medium.com/@vijayboyapati)\\n\\n[Robert Breedlove](https://www.parallaxdigital.io/blog)\\n\\n[Conner Brown](https://medium.com/@Conner_)\\n\\n[Nic Carter](https://medium.com/@nic__carter)\\n\\n[StopAndDecrypt](https://medium.com/@StopAndDecrypt)\\n\\n[Tuur Demeester](https://docsend.com/view/ijd8qrs)\\n\\n[Gigi](https://dergigi.com/)\\n\\n[Hasu](https://uncommoncore.co/blog/)\\n\\n[Dan Held](https://www.danheld.com/blog/)\\n\\n[Daniel Jeffries](https://hackernoon.com/@daniel-jeffries)\\n\\n[Ben Kaufman](https://medium.com/@ben_kaufman)\\n\\n[Parker Lewis](https://unchained-capital.com/blog/author/plewis/)\\n\\n[Hugo Nguyen](https://medium.com/@hugonguyen)\\n\\n[Brandon Quittem](https://medium.com/@BrandonQuittem)\\n\\n[Shinobi \\\\[SHI256\\\\]](https://medium.com/@thepiratewhocantbenamed)\\n\\n[Jimmy Song](https://medium.com/@jimmysong)\\n\\n[Aleksandar Svetski](https://medium.com/@AleksSvetski)\\n\\n[Nick Szabo](https://unenumerated.blogspot.com/)\\n\\n[Eric Wall](https://medium.com/@ercwl)\\n\\n[Su Zhu](https://uncommoncore.co/blog/)\\n\\n[Giacomo Zucco](https://bitcoinmagazine.com/authors/giacamozucco)',\n",
       " 'New Zealand Plans to Drop ‘Unfavorable’ Sales Tax Treatment of Cryptocurrencies  [https://www.coindesk.com/new-zealand-plans-to-drop-unfavorable-sales-tax-treatment-of-cryptocurrencies](https://www.coindesk.com/new-zealand-plans-to-drop-unfavorable-sales-tax-treatment-of-cryptocurrencies) \\n\\nhttps://preview.redd.it/qkhuvomm18j41.png?width=710&format=png&auto=webp&s=9bdfd581d71a5742089927561a27d6f4a25f6fc1',\n",
       " 'https://www.cryptopolitan.com/reddit-crypto-manipulation-is-real/ &#x200B;\\n\\nhttps://preview.redd.it/4iivsrysd7j41.png?width=146&format=png&auto=webp&s=e839593facd892ba4d72591783beeff26dafd37e',\n",
       " 'Explaining Hyperbitcoinization &#x200B;\\n\\n[#bitcoin](https://preview.redd.it/wj0i4etrfxi41.png?width=1696&format=png&auto=webp&s=6528d15193091f3485e9fce9a496e2fccb182890)',\n",
       " 'Research shows Lightning Network vulnerable to split attacks. Congestion attacks can disrupt LN for 4000$ A summary : \\n[https://www.coindesk.com/bitcoins-lightning-network-is-growing-increasingly-centralized-researchers-find](https://www.coindesk.com/bitcoins-lightning-network-is-growing-increasingly-centralized-researchers-find)\\n\\nThe split attack paper : \\n[https://arxiv.org/pdf/2002.02819.pdf](https://arxiv.org/pdf/2002.02819.pdf)\\n\\nThe congestion attack Medium summary : \\n[https://medium.com/@ayelem02/congestion-attacks-in-payment-channel-networks-b7ac37208389](https://medium.com/@ayelem02/congestion-attacks-in-payment-channel-networks-b7ac37208389)\\n\\nThe congestion attack paper : \\n[https://arxiv.org/pdf/2002.06564.pdf](https://arxiv.org/pdf/2002.06564.pdf)\\n\\ncredit : u/Live_Magnetic_Air',\n",
       " 'Bitcoin competition https://www.coindesk.com/brazils-central-bank-to-launch-near-instant-payments-as-a-response-to-cryptocurrencies',\n",
       " 'Faketoshi: Bitcoin Core Infringes My ‘Database Rights’ [https://thebitcoinnews.com/craig-wrights-100b-theft-claim-btc-and-bch-used-his-database-without-permission/](https://thebitcoinnews.com/craig-wrights-100b-theft-claim-btc-and-bch-used-his-database-without-permission/)',\n",
       " 'Nothing unusual, just surfing with the log scale.  [https://bitcoincharts.com/charts/bitstampUSD#tgMzm1g10zm2g25zvzl](https://bitcoincharts.com/charts/bitstampUSD#tgMzm1g10zm2g25zvzl) \\n\\nhttps://preview.redd.it/animg9s21ml41.png?width=1222&format=png&auto=webp&s=5ac81f8292caf15f82e349af90413018a5fd1bb9',\n",
       " 'What bitcoin stores do you use the most? Here a list of stores\\n\\nLightning  \\n[https://joltfun.com/](https://joltfun.com/) \\\\- videogames\\n\\n[https://www.bitrefill.com/](https://www.bitrefill.com/) \\\\- services and gift cards\\n\\n[https://bitcoinshirt.co/](https://bitcoinshirt.co/) \\\\- shirts\\n\\n[https://yalls.org/](https://yalls.org/) \\\\- articles\\n\\n[https://quesoselpilar.com/](https://quesoselpilar.com/) \\\\- cheese (delivers to europe)\\n\\nOn the Blockchain\\n\\n[https://purse.io/shop](https://purse.io/shop) \\\\- amazon\\n\\n[https://travala.com](https://travala.com) \\\\- hotel booking\\n\\nlet me know your favorite stores please.',\n",
       " 'Litmus Test. https://www.coindesk.com/indian-crypto-exchange-adds-bank-transfers-hours-after-rbi-ban-lifted',\n",
       " 'Interesting. https://www.coindesk.com/htcs-new-5g-router-can-host-a-full-bitcoin-node',\n",
       " 'Bitcoin is a store of value [YouTube Video] [https://www.youtube.com/watch?v=TYyTeijxUXI](https://www.youtube.com/watch?v=TYyTeijxUXI)',\n",
       " 'finCEN LAWS! https://www.fincen.gov/sites/default/files/advisory/2019-05-10/FinCEN%20Advisory%20CVC%20FINAL%20508.pdf',\n",
       " \"Bullish on Dorsey's crypto involvement [https://bitcoinist.com/jack-dorseys-square-bank-will-open-2021/](https://bitcoinist.com/jack-dorseys-square-bank-will-open-2021/)\",\n",
       " 'Look at how they lie.  [https://www.cnn.com/2020/03/18/economy/banks-cash-coronavirus/index.html](https://www.cnn.com/2020/03/18/economy/banks-cash-coronavirus/index.html)',\n",
       " 'Keep your BTC value in a downturn market！ [https://support.cobo.com/hc/en-us/articles/360044642614-BTC-Hedging](https://support.cobo.com/hc/en-us/articles/360044642614-BTC-Hedging)',\n",
       " 'No Shit Sherlock! https://cryptoslate.com/trader-warns-institutions-wont-ever-invest-in-bitcoin-large-scale-due-to-the-overnight-plunge/',\n",
       " \"Actually getting f'd &#x200B;\\n\\nhttps://preview.redd.it/k56tdmrkchm41.png?width=1061&format=png&auto=webp&s=589280c7b2735c3159b865f069e1c98d1721a955\",\n",
       " 'A GOOD video to watch right now  [https://www.youtube.com/watch?v=svdwRThqKwU](https://www.youtube.com/watch?v=svdwRThqKwU)',\n",
       " 'Prediction from last year coming true [https://www.reddit.com/r/Bitcoin/comments/aamc1w/bitcoin\\\\_engineered\\\\_economic\\\\_collapse\\\\_and\\\\_imf](https://www.reddit.com/r/Bitcoin/comments/aamc1w/bitcoin_engineered_economic_collapse_and_imf/?utm_source=share&utm_medium=web2x)\\n\\nLook at that.',\n",
       " 'Follow the war, live [http://dave.freeinforadar.ch/btcwars/](http://dave.freeinforadar.ch/btcwars/)',\n",
       " \"DON'T BUY BITCOIN!  [https://medium.com/satstreet/dont-buy-bitcoin-buy-sats-633c3eea8eff](https://medium.com/satstreet/dont-buy-bitcoin-buy-sats-633c3eea8eff) \\n\\n [https://twitter.com/MikeNasser91/status/1237755460540760067?s=20](https://twitter.com/MikeNasser91/status/1237755460540760067?s=20)\",\n",
       " 'Low Demand! https://www.coindesk.com/bitcoins-plunge-was-foreshadowed-by-miner-inventory-data',\n",
       " 'How do Bitcoin ATMs work? (Bitcoin Basics Podcast) [https://www.youtube.com/watch?v=IGAIo5HDfs8](https://www.youtube.com/watch?v=IGAIo5HDfs8)',\n",
       " 'slushpool [removed]\\n\\n[View Poll](https://www.reddit.com/poll/fsgnqd)',\n",
       " 'Bitcoin in 2020 &#x200B;\\n\\nhttps://reddit.com/link/fqtfzj/video/dcmcb63mihp41/player',\n",
       " 'Digital Dollar (FED coin) is coming LET US BE READY FOR A NEW \"GLOBAL CURRENCY\" ROLL OUT including digital wallet with complete mass surveillance and eternal inflation built-in\\n\\nhttps://www.forbes.com/sites/rhockett/2020/03/24/how-to-keep-the-digital-dollar-democratic-a-treasury-dollar-bill--treasury-direct-plan/#27b264d937c8\\n\\nhttps://www.forbes.com/sites/jasonbrett/2020/03/23/new-coronavirus-stimulus-bill-introduces-digital-dollar-and-digital-dollar-wallets/#ae229424bea3\\n\\nhttps://www.fastcompany.com/90323550/digital-money-is-here-will-it-make-us-more-free-or-less\\n\\nhttps://www.cato.org/blog/darn-coin\\n\\nhttps://bitcoinist.com/federal-reserve-ponders-fedcoin/\\n\\nhttps://www.forbes.com/sites/davidblack/2020/03/01/who-needs-cryptocurrency-fedcoin-when-we-already-have-a-national-digital-currency/#7e1edb7c4951',\n",
       " 'Bitcoin in 2020 https://reddit-uploaded-video.s3-accelerate.amazonaws.com/t2_11gdou%2Fm5upco9ug7o41',\n",
       " 'Blockchain.info/com - login page is blank. [https://www.blockchain.com/](https://www.blockchain.com/) \\\\- Hit the Login button.',\n",
       " 'Bisq hacked, $250,000 stolen [https://www.coindesk.com/hacker-exploits-flaw-in-decentralized-exchange-bisq-to-steal-250k](https://www.coindesk.com/hacker-exploits-flaw-in-decentralized-exchange-bisq-to-steal-250k)',\n",
       " 'is https://www.nicehash.com/ legit?',\n",
       " 'As CoinMarketCap is being Acquired by Binance, Here is a List of Alternatives... 1. https://CoinRanking.com\\n\\n2. https://CoinCap.io\\n\\n3. https://CoinGecko.com\\n\\n4. https://OnChainFx.com\\n\\n5. https://CoinMarketBook.cc\\n\\n6. https://LiveCoinWatch.com\\n\\n7. https://CoinPaprika.com\\n\\n8. https://Nomics.com\\n\\n9. https://CoinLib.io\\n\\n10. https://CMC.io\\n\\n*...tell me more.*',\n",
       " 'Build your own node  [https://blog.keys.casa/build-your-own-casa-node/?mc\\\\_cid=5660f5e398](https://blog.keys.casa/build-your-own-casa-node/?mc_cid=5660f5e398)',\n",
       " 'Just get in and explore [https://www.reddit.com/user/achilles\\\\_04/comments/futyjl/if\\\\_you\\\\_want\\\\_to\\\\_have\\\\_fun/?utm\\\\_source=share&utm\\\\_medium=web2x](https://www.reddit.com/user/achilles_04/comments/futyjl/if_you_want_to_have_fun/?utm_source=share&utm_medium=web2x)',\n",
       " 'Bitcoin sentiment picks up again [https://www.augmento.ai/bitcoin-sentiment/](https://www.augmento.ai/bitcoin-sentiment/)',\n",
       " 'What is Bitcoin Halving? Great article 🤯 [https://www.cryptoaims.net/what-is-bitcoin-halving/](https://www.cryptoaims.net/what-is-bitcoin-halving/)',\n",
       " 'A guide on The best crypto credit cards in 2020 [https://twitter.com/cryptotesters/status/1250701474453061633?s=20](https://twitter.com/cryptotesters/status/1250701474453061633?s=20)  \\n\\n\\n  \\n[https://cryptotesters.com/blog/the-best-crypto-cards/](https://cryptotesters.com/blog/the-best-crypto-cards/)',\n",
       " '450+ different useful internet services accepting Bitcoin Different useful internet services accepting Bitcoin as a payment.\\n\\n[ALL SERVICES](https://cryptwerk.com/companies/internet/btc) \\\\>>> (460)\\n\\n[Ads](https://cryptwerk.com/companies/advertising/btc/) \\\\>>> (54)\\n\\n[Pay bills](https://cryptwerk.com/companies/bills/btc/) \\\\>>> (9)\\n\\n[Cloud](https://cryptwerk.com/companies/cloud/btc/) \\\\>>> (60)\\n\\n[Different](https://cryptwerk.com/companies/different/btc/) \\\\>>> (12)\\n\\n[Domains](https://cryptwerk.com/companies/domains/btc/) \\\\>>> (108)\\n\\n[Education](https://cryptwerk.com/companies/edu/btc/) \\\\>>> (8)\\n\\n[Email](https://cryptwerk.com/companies/email/btc/) \\\\>>> (37)\\n\\n[Hosting](https://cryptwerk.com/companies/hosting/btc/) \\\\>>> (224)\\n\\n[Proxy](https://cryptwerk.com/companies/proxy/btc/) \\\\>>> (16)\\n\\n[Refill](https://cryptwerk.com/companies/refill-mobile/btc/) \\\\>>> (13)\\n\\n[Security](https://cryptwerk.com/companies/security/btc/) \\\\>>> (5)\\n\\n[Services](https://cryptwerk.com/companies/web-services/btc/) \\\\>>> (65)\\n\\n[SMS](https://cryptwerk.com/companies/sms/btc/) \\\\>>> (23)\\n\\n[SSL](https://cryptwerk.com/companies/ssl/btc/) \\\\>>> (26)\\n\\n[VoIP](https://cryptwerk.com/companies/voip/btc/) \\\\>>> (12)\\n\\n[VPN](https://cryptwerk.com/companies/vpn/btc/) \\\\>>> (62)',\n",
       " 'Reading Cryptocurrency and Blockchain news live [https://www.facebook.com/zoransp.markt/videos/10222058706716427/](https://www.facebook.com/zoransp.markt/videos/10222058706716427/)  \\n[https://steamcommunity.com/broadcast/watch/76561198005182881](https://steamcommunity.com/broadcast/watch/76561198005182881)  \\n[https://www.twitch.tv/spirkovski](https://www.twitch.tv/spirkovski)  \\n[https://mixer.com/165279440?origin=beam](https://mixer.com/165279440?origin=beam)  \\n[https://www.youtube.com/channel/UC2\\\\_Bc50dSTpiqKESQ\\\\_caEEQ/live](https://www.youtube.com/channel/UC2_Bc50dSTpiqKESQ_caEEQ/live)  \\n[https://www.periscope.tv/SpirkovskiZoran/1MYxNkpAzXwKw](https://www.periscope.tv/SpirkovskiZoran/1MYxNkpAzXwKw)  \\n[http://bj.afreecatv.com/zoransp](http://bj.afreecatv.com/zoransp)  \\n[https://dlive.tv/ZoranSpirkovski](https://dlive.tv/ZoranSpirkovski)  \\n[https://twitter.com/SpirkovskiZoran/status/1249310192417865728](https://twitter.com/SpirkovskiZoran/status/1249310192417865728)  \\n\\n\\nAll of these links lead to my stream on various platforms. Any support is appreciated',\n",
       " 'A Bizonacci-styled tribute to the Federal Reserve & Bitcoin [https://www.youtube.com/watch?v=Hk3T1FSlkYw](https://www.youtube.com/watch?v=Hk3T1FSlkYw)\\n\\nhttps://preview.redd.it/l97js92904w41.png?width=318&format=png&auto=webp&s=53c4994b734eb33769df6809752c4acc0fbd4628',\n",
       " 'Nocoiner is a decease [https://maturitycurve.org/bitcoin/i-am-stupid-without-bitcoin/](https://maturitycurve.org/bitcoin/i-am-stupid-without-bitcoin/)',\n",
       " 'Bitcoin analytics in retail usage Hi,\\n\\nwe prepared new feature, that could be interesting for the BTC community\\n\\n[**Bitcoin mass adoption analytics >>>**](https://cryptwerk.com/analytics/bitcoin/)\\n\\nall data for the charts is taken from our database ( [business accepting Bitcoin](https://cryptwerk.com/pay-with/btc/))\\n\\n&#x200B;\\n\\nhttps://preview.redd.it/6z2b3w0k2rv41.png?width=400&format=png&auto=webp&s=00683847f1c5a5db7180753893de7f37cc8f18e9\\n\\nhttps://preview.redd.it/heyndo0k2rv41.png?width=401&format=png&auto=webp&s=fd4e2ea947ea695677f6fecffa8e584ea02b724f\\n\\nhttps://preview.redd.it/6e66se1k2rv41.png?width=399&format=png&auto=webp&s=b195a68a1309c9c62e3145ba539447d5b0c22db1\\n\\nhttps://preview.redd.it/1m9bgd1k2rv41.png?width=577&format=png&auto=webp&s=8dee4d351d0b331f2e7341bc1871004b3ee1771b\\n\\nhttps://preview.redd.it/skvf2i2k2rv41.png?width=576&format=png&auto=webp&s=1767c96c4c34812ad50edf40cdb006b6c3436185\\n\\nhttps://preview.redd.it/qxgccg1k2rv41.png?width=579&format=png&auto=webp&s=e3e97dd1b97896c4056cfe46fc09ffbe8129e5ca\\n\\nhttps://preview.redd.it/uiyeic3k2rv41.png?width=577&format=png&auto=webp&s=f788036f9ae65344871bc6990eaff06cbc49dbe2\\n\\nhttps://preview.redd.it/06nh9o3k2rv41.png?width=579&format=png&auto=webp&s=fadf08811703e9948931e66b6666066bb257a5fe\\n\\nhttps://preview.redd.it/26hxyo3k2rv41.png?width=579&format=png&auto=webp&s=66665a0f9a6105f756d0e9117d177aa15d067cf6',\n",
       " 'Free Trading Resources [https://docs.google.com/document/d/1o43ZNYoN-H5tdfr0-7zdb3ANQ0289PxeUESoCeKee78/](https://docs.google.com/document/d/1o43ZNYoN-H5tdfr0-7zdb3ANQ0289PxeUESoCeKee78/preview)\\n\\n[https://www.youtube.com/user/Trading212/videos](https://www.youtube.com/user/Trading212/videos)\\n\\n[https://twitter.com/cryptoflow\\\\_vip/status/1253747225429041152](https://twitter.com/cryptoflow_vip/status/1253747225429041152)\\n\\nIts about 90 hours worth. After the 2 weeks you will be like neo.\\n\\nhttps://preview.redd.it/le35exce7tu41.jpg?width=577&format=pjpg&auto=webp&s=86cd76e31a2b60f2cbdc9d774e39ac7121df8342\\n\\nTry and use the techniques live in a demo trade before you go full monty.',\n",
       " 'I cannot stop watching it ! [https://www.youtube.com/watch?v=Hk3T1FSlkYw](https://www.youtube.com/watch?v=Hk3T1FSlkYw)',\n",
       " \"dYdX's BTC Perpetual Market is Live [https://integral.dydx.exchange/btc-perpetual-contract-market-is-live/](https://integral.dydx.exchange/btc-perpetual-contract-market-is-live/)\",\n",
       " 'Final Countdown [https://www.youtube.com/watch?v=w9km01hvP4w](https://www.youtube.com/watch?v=w9km01hvP4w)',\n",
       " 'Less than 500 blocks left to halving. Different countdown timers are predicting different time. 1. https://CPDproject.com/\\n\\n2. https://TheHalvening.com/\\n\\n3. https://BitcoinBlockHalf.com/\\n\\n4. https://Binance.Vision/halving/\\n\\n5. https://BTC.com/stats/halving/\\n\\n6. https://CoinMarketCap.com/halving/bitcoin/\\n\\n7. https://BuyBitcoinWorldwide.com/bitcoin-clock/\\n\\n8. https://BlockChair.com/tools/halving-countdown/\\n\\n9. https://CoinGecko.com/en/explain/bitcoin_halving/',\n",
       " 'Brrrrrrrr https://www.forbes.com/sites/ryanguina/2020/04/22/stimulus-proposal-2000-payment-plus-1000-per-month-until-1-year-after-crisis-ends/#135de0996fa5',\n",
       " 'The halvation https://i.imgflip.com/40m8ax.jpg',\n",
       " 'Complete List of Bitcoin DCA Platforms (Globally) Inspired by [this tweet](https://twitter.com/FriarHass/status/1254050840182009856?s=20) about Bitcoin DCA platforms, I want to create a resource for Bitcoiners looking to dollar-cost average split by region.\\n\\nI will add to it as more feedback comes in as I probably won’t find all of them on the first go. Given that quite a few exchanges also offer some form of DCA now, the list will probably end up quite long.\\n\\n## Asia/Pacific\\n\\nAmber App (Australia) [https://www.getamber.io/](https://www.getamber.io/)\\n\\nBitdroplet (India) [https://bitdroplet.com/](https://bitdroplet.com/)\\n\\nBitaroo (Australia) [https://www.bitaroo.com.au/](https://www.bitaroo.com.au/)\\n\\nIndependent Reserve (Australia) [https://www.independentreserve.com](https://www.independentreserve.com)\\n\\nVimba (New Zealand) [https://vimba.co/](https://vimba.co/)\\n\\n## Canada\\n\\nBullBitcoin [https://bullbitcoin.com/](https://bullbitcoin.com/)\\n\\n## Europe\\n\\nBitPanda [https://www.bitpanda.com/en](https://www.bitpanda.com/en)\\n\\nVimba [https://vimba.co/](https://vimba.co/)\\n\\n## UK\\n\\nCoinFloor [https://coinfloor.co.uk/hodl/](https://coinfloor.co.uk/hodl/)\\n\\nVimba [https://vimba.co/](https://vimba.co/)\\n\\n## US\\n\\nCashApp [https://cash.app/](https://cash.app/)\\n\\nDonutApp [https://www.donut.app/](https://www.donut.app/)\\n\\nRiver Financial [https://river.com/](https://river.com/)\\n\\nSwanBitcoin [http://swanbitcoin.com/](http://swanbitcoin.com/)\\n\\n*\\\\*\\\\*\\\\*All feedback appreciated. I plan to update this list regularly (provided people care:).\\\\*\\\\*\\\\**',\n",
       " 'Where to track the halving, halvation, halvening, halfinning? &#x200B;\\n\\nhttps://preview.redd.it/sy20nan92dx41.png?width=1261&format=png&auto=webp&s=c34ec779a178489acbcc925a8449000be94efea2\\n\\n[https://www.thehalvening.com/](https://www.thehalvening.com/)\\n\\n&#x200B;\\n\\nhttps://preview.redd.it/c96an3ic2dx41.png?width=1052&format=png&auto=webp&s=e6b0428166ac33d66beb044fcafeff29f5016945\\n\\n[https://mempool.space/](https://mempool.space/)\\n\\n&#x200B;\\n\\n&#x200B;\\n\\nhttps://preview.redd.it/n86ulglg2dx41.png?width=947&format=png&auto=webp&s=7074aa00f1f7c446a550bde457be5794716e12d1\\n\\n[https://spookiestevie.com/bitcoin/](https://spookiestevie.com/bitcoin/)\\n\\n&#x200B;\\n\\n&#x200B;\\n\\nhttps://preview.redd.it/wp1uro3v2dx41.png?width=1209&format=png&auto=webp&s=d9772cd86c36e367c0d74cd609491f6657b69890\\n\\nand finally, on your own node!!! this gui is available for free on  [https://mynodebtc.com/](https://mynodebtc.com/)\\n\\nBookmark it, save it, share it, see you at block #630000\\n\\nAdd other halving trackers in the comments!',\n",
       " 'Nice Try &#x200B;\\n\\nhttps://preview.redd.it/ipkzoohm3bx41.jpg?width=500&format=pjpg&auto=webp&s=cdc461cd8ce9897cb5a33752cbdcdc4d2de35f66',\n",
       " 'LETS GOOOOOOO [https://coinmarketcap.com/halving/bitcoin](https://coinmarketcap.com/halving/bitcoin)',\n",
       " 'Love You Like A Bitcoin (2012) [https://www.youtube.com/watch?v=WdrSP0V-KLg](https://www.youtube.com/watch?v=WdrSP0V-KLg)',\n",
       " \"PSA: Defipulse.exchange SCAM (lots of fun story) Hi Folks, \\n\\nThought I'd let you know that if anyone gets in touch with you over Telegram about unlocking a deposit on [defipulse.exchange](https://defipulse.exchange), it's a SCAM. In honour of the great entertainer [https://www.twitch.tv/kitboga](https://www.twitch.tv/kitboga), I decided I'd have a little fun with this one, to see how it worked. \\n\\nEnjoy!\\n\\n&#x200B;\\n\\nhttps://preview.redd.it/qp7n2adgmb051.png?width=828&format=png&auto=webp&s=a0986d8bc76dea05f8adac50288c81468e294242\\n\\n&#x200B;\\n\\nhttps://preview.redd.it/yoj01q7jmb051.png?width=828&format=png&auto=webp&s=1e3c3170967bb09dec7e3ccccb4436fac18759d0\\n\\nhttps://preview.redd.it/lu115u7jmb051.png?width=828&format=png&auto=webp&s=4388033a3a89d8da55a4f730a9a95ed0a1d5f577\\n\\nhttps://preview.redd.it/tol6qz7jmb051.png?width=828&format=png&auto=webp&s=ed466476067ec2d9ebdbd2133afac2100b6eebca\\n\\nhttps://preview.redd.it/ynq5ey7jmb051.png?width=828&format=png&auto=webp&s=dee636b565939a1ef7e4ec445a802e5b410281b5\\n\\nhttps://preview.redd.it/szjliy7jmb051.png?width=828&format=png&auto=webp&s=cffe720154ad1341d560a94acd60187d1a5a1603\\n\\nhttps://preview.redd.it/kxzwdt7jmb051.png?width=828&format=png&auto=webp&s=c3c4539398a57e3d18041d3895ae12c6544c3361\\n\\nhttps://preview.redd.it/vspug58jmb051.png?width=828&format=png&auto=webp&s=b3a497b22675d2118ca0d223741d600df035124a\\n\\nhttps://preview.redd.it/ghlc968jmb051.png?width=828&format=png&auto=webp&s=3913ed4276bf2ae7ae49aef79ddd8f317439b25a\\n\\nhttps://preview.redd.it/lfc22s7jmb051.png?width=828&format=png&auto=webp&s=8ea7feca68caab5c266647e6961ffc91bb40aadf\\n\\nhttps://preview.redd.it/9j189w7jmb051.png?width=828&format=png&auto=webp&s=dee7291449329fa47e362c5e8189fcd0157a1e7d\\n\\nhttps://preview.redd.it/rch77s7jmb051.png?width=828&format=png&auto=webp&s=9db9d79f80024da027a07809d96b06854911dd7b\\n\\nhttps://preview.redd.it/ns0h6v7jmb051.png?width=828&format=png&auto=webp&s=4264dbb95b3c58a001dc028551143050d2d740cf\",\n",
       " \"Seriously cant choose. Edit, \\n\\nthe time is Nigh\\n\\n[https://i.imgur.com/BKzQTqZ.jpg](https://i.imgur.com/BKzQTqZ.jpg)\\n\\n&#x200B;\\n\\nhttps://preview.redd.it/u9fdw2byjd051.jpg?width=2252&format=pjpg&auto=webp&s=0f599745047d6b1cc557408604e83066c069e973\\n\\nTrezor vs Ledger\\n\\nim an android and windows 10 user.\\n\\n[https://i.imgur.com/P5uKty2.jpg](https://i.imgur.com/P5uKty2.jpg)\\n\\n[https://i.imgur.com/MiQqa9k.jpg](https://i.imgur.com/MiQqa9k.jpg)\\n\\nim having such a hard time picking\\n\\ndont know why its such a large issue for me...\\n\\nok y'all\\n\\ni took the plunge\\n\\nthank you\\n\\n\\\\[Imgur\\\\]([https://i.imgur.com/5QMx7nO.jpg](https://i.imgur.com/5QMx7nO.jpg))\\n\\n&#x200B;\",\n",
       " 'Hodling is Good [https://www.youtube.com/watch?v=w9GZMAcmsQo](https://www.youtube.com/watch?v=w9GZMAcmsQo)',\n",
       " 'Interesting... [https://www.reddit.com/r/mydrugofchoice/comments/gvgpz7/has\\\\_anyone\\\\_ever\\\\_used\\\\_bitcoin\\\\_or\\\\_other\\\\_crytpo/](https://www.reddit.com/r/mydrugofchoice/comments/gvgpz7/has_anyone_ever_used_bitcoin_or_other_crytpo/)',\n",
       " 'Jebitcoinwhalebaited. &#x200B;\\n\\nhttps://preview.redd.it/5iqc7fahti251.png?width=582&format=png&auto=webp&s=d14acf09b77c14eb3d419d411454b2017b84b8b8',\n",
       " 'Legit lol \\n\\nhttps://preview.redd.it/ujvcdtagfi251.png?width=1850&format=png&auto=webp&s=1ee17529015fc9e31fecc692aa6e9f37f4c50d1c',\n",
       " 'Crypto Exchanges Are Now The Enemy of Bitcoin [https://rusty.ozlabs.org/?p=607](https://rusty.ozlabs.org/?p=607)',\n",
       " 'SATOSHI IN HIS TOWER (animated artwork) Sold on SuperRare\\n\\n[https://superrare.co/artwork-v2/satoshi-in-his-tower-9282](https://superrare.co/artwork-v2/satoshi-in-his-tower-9282)\\n\\n[https://twitter.com/primal\\\\_cypher](https://twitter.com/primal_cypher)\\n\\nhttps://i.redd.it/oy4avx4uos151.gif',\n",
       " '\"We have very, very few request for accepting cryptocurrencies.\" Framasoft, the authors of PeerTube, only accept donations through PayPal or credit cards. They say it\\'s because nobody asks for crypto. Let\\'s fix that, shall we?\\n\\n[https://www.facebook.com/framasoft](https://www.facebook.com/framasoft)\\n\\n[https://twitter.com/framasoft](https://twitter.com/framasoft)\\n\\n[https://framapiaf.org/@Framasoft/](https://framapiaf.org/@Framasoft/)\\n\\n[https://framasphere.org/u/framasoft](https://framasphere.org/u/framasoft)',\n",
       " 'Cryptofunding tomorrow https://www.tarshub.org/',\n",
       " 'Blockchain Concept Module  [https://indianblockchaininstitute.com/](https://indianblockchaininstitute.com/) \\n\\nhttps://preview.redd.it/2f574ghlyb151.png?width=768&format=png&auto=webp&s=ecdc68c608216d2bf4b2f2c22b2c4e1e6279f280',\n",
       " 'Again the same....  [https://www.reddit.com/r/Bitcoin/comments/gx98id/forecast\\\\_for\\\\_the\\\\_next\\\\_100\\\\_days\\\\_05\\\\_daily\\\\_so\\\\_boring/](https://www.reddit.com/r/Bitcoin/comments/gx98id/forecast_for_the_next_100_days_05_daily_so_boring/)',\n",
       " 'Bitfinex Hack 2016 stolen funds are getting moved in \"small\" pieces &#x200B;\\n\\nhttps://preview.redd.it/wjrifr3w46451.png?width=371&format=png&auto=webp&s=1eeac4d726ed6fea3c5bd963c70b85f77cac401e\\n\\nhttps://preview.redd.it/8xyxhk8356451.png?width=491&format=png&auto=webp&s=9dd0f1fdb2c22c8b8c27f6898f8a72e9bb7c8e64\\n\\nhttps://preview.redd.it/2450qe9556451.png?width=437&format=png&auto=webp&s=6b532ea8d1a6213e975f1d8e439b19a6e7ecf82a\\n\\nhttps://preview.redd.it/8ye4tus756451.png?width=437&format=png&auto=webp&s=ad24e91b0594b1a1d8feff227cfa6380349d0d09',\n",
       " 'Bowser, DIY hardware wallet hiding behind Tetris, with Morse code passphrase &#x200B;\\n\\nhttps://reddit.com/link/gy1gg5/video/91ex2vc4kd351/player\\n\\nFull tutorial \\n\\n[youtube.com/watch?v=DG1zrlAVdys](https://youtube.com/watch?v=DG1zrlAVdys)\\n\\nGithub\\n\\n[https://github.com/arcbtc/bowser-bitcoin-hardware-wallet/blob/master/README.md](https://github.com/arcbtc/bowser-bitcoin-hardware-wallet/blob/master/README.md)',\n",
       " '#DeleteCoinbase is trending again! JOIN US! &#x200B;\\n\\nhttps://preview.redd.it/wb51k27kc7351.png?width=598&format=png&auto=webp&s=3e94a6ca74817381d7a0431acc4b202f105962ba\\n\\nhttps://preview.redd.it/q1on437kc7351.png?width=598&format=png&auto=webp&s=323e7bf7c7e2dda3510b663db714be34529da582\\n\\nhttps://preview.redd.it/yp5jq77kc7351.png?width=598&format=png&auto=webp&s=7283cbc88e58d8c0f33d9921bda6f6148ee2d9e7\\n\\n[https://twitter.com/CryptoCharles\\\\_\\\\_/status/1269069378210852864](https://twitter.com/CryptoCharles__/status/1269069378210852864)  \\n\\n\\n[https://twitter.com/BitcoinJake09/status/1269072320594939904](https://twitter.com/BitcoinJake09/status/1269072320594939904)  \\n\\n\\n[https://twitter.com/SavageMine/status/1269091146292215814](https://twitter.com/SavageMine/status/1269091146292215814)',\n",
       " 'Online tool Bitcoin transaction constructor released Online tool Bitcoin  transaction constructor released. \\n\\n[https://github.com/bitaps-com/jsbtc](https://github.com/bitaps-com/jsbtc)\\n\\nPowered by [https://github.com/bitaps-com/jsbtc](https://github.com/bitaps-com/jsbtc) library\\n\\nSupported P2PKH, P2SH\\\\_P2WPKH and P2WPKH addresses. \\n\\nhttps://preview.redd.it/pkf6m3pbgx651.png?width=2070&format=png&auto=webp&s=6d772de22262f3201aba0d395c279bc7a0b97f91',\n",
       " \"That's right! BRRRRRRRRRRR &#x200B;\\n\\nhttps://preview.redd.it/ujur80ryfq551.png?width=680&format=png&auto=webp&s=0ed6b783935d935dee7105d96de06730210f622d\",\n",
       " 'Building an investment portfolio including Bitcoin [https://newbitcoinuser.com/2020/07/how-to-build-a-diversified-investment-portfolio/](https://newbitcoinuser.com/2020/07/how-to-build-a-diversified-investment-portfolio/)',\n",
       " 'Wow, look at this legend go. Props.  [https://www.reuters.com/article/us-ukraine-cenbank/ukraine-central-bank-chief-i-quit-over-smears-and-pressure-to-take-bad-decisions-idUSKBN2441WX](https://www.reuters.com/article/us-ukraine-cenbank/ukraine-central-bank-chief-i-quit-over-smears-and-pressure-to-take-bad-decisions-idUSKBN2441WX)',\n",
       " 'Bitcoin charity video https://youtu.be/Djtvt6Q6A-w',\n",
       " 'How to withdraw from https://tippin.me/ to electrum? This for some reason doesnt work [https://prnt.sc/tj72tu](https://prnt.sc/tj72tu) \\\\--> [**https://prnt.sc/tj738g**](https://prnt.sc/tj738g)',\n",
       " '12 hours no confirmation???? Any help please?\\n\\n [https://www.blockchain.com/btc/tx/2eecf0fbb06fd08576131a10adfc439f69e2150094344b444dbe26a67a7069b5](https://www.blockchain.com/btc/tx/2eecf0fbb06fd08576131a10adfc439f69e2150094344b444dbe26a67a7069b5)',\n",
       " \"CZ, Binance, Gemini, Coinbase and Other Twitter Accounts Have Been Hacked **DO NOT CLICK THE URL IN TWITTER POSTS !!!**\\n\\nCrypto accounts:\\n\\n* CZ: [https://twitter.com/cz\\\\_binance/status/1283483063117283329](https://twitter.com/cz_binance/status/1283483063117283329)\\n* Binance: [https://twitter.com/binance/status/1283479863840722944](https://twitter.com/binance/status/1283479863840722944)\\n* Gemini: [https://twitter.com/Gemini/status/1283483560087871488](https://twitter.com/Gemini/status/1283483560087871488)\\n* Kucoin: [https://twitter.com/kucoincom/status/1283486574089560064](https://twitter.com/kucoincom/status/1283486574089560064)\\n* Tron: [https://twitter.com/Tronfoundation/status/1283489453206573057](https://twitter.com/Tronfoundation/status/1283489453206573057)\\n* Justin Sun: [https://twitter.com/justinsuntron/status/1283488566497153034](https://twitter.com/justinsuntron/status/1283488566497153034)\\n* Bitfinex: [https://twitter.com/bitfinex/status/1283492695193812999](https://twitter.com/bitfinex/status/1283492695193812999)\\n* Charlie Lee: [https://twitter.com/SatoshiLite/status/1283490058536914947](https://twitter.com/SatoshiLite/status/1283490058536914947)\\n* Ripple:  [https://twitter.com/Ripple/status/1283494724637282304](https://twitter.com/Ripple/status/1283494724637282304)\\n\\nNon-crypto accounts:\\n\\n* Elon Musk: [https://twitter.com/elonmusk/status/1283495825998520320](https://twitter.com/elonmusk/status/1283495825998520320)\\n* Bill Gates:  [https://twitter.com/BillGates/status/1283500266743111680](https://twitter.com/BillGates/status/1283500266743111680)\\n* Uber: [https://twitter.com/Uber/status/1283505393679970304](https://twitter.com/Uber/status/1283505393679970304)\\n* Jeff Bezos: [https://twitter.com/JeffBezos/status/1283508547897171969?s=20](https://twitter.com/JeffBezos/status/1283508547897171969?s=20)\\n* Mike Bloomberg:  [https://twitter.com/MikeBloomberg/status/1283510019410071555](https://twitter.com/MikeBloomberg/status/1283510019410071555) \\n* Twitter Support (lol): https://imgur.com/gallery/avwFYR0\\n\\nHackers received so far: 13.41 btc ([link1](https://www.blockchain.com/btc/address/bc1qxy2kgdygjrsqtzq2n0yrf2493p83kkfjhx0wlh), [link2](https://www.blockchain.com/btc/address/bc1qwr30ddc04zqp878c0evdrqfx564mmf0dy2w39l))\\n\\nLooks like the drama is over for now. Let's see what will be the next move because it would be very silly for hackers to waste such an opportunity for 13.41 BTC.\\n \\n⚡️Get crypto educated to avoid being fooled: https://desentra.com\\n\\nEdits: new links\\n\\n\\nhttps://preview.redd.it/05gbcmrbs2b51.png?width=783&amp;amp;amp;amp;amp;format=png&amp;amp;amp;amp;amp;auto=webp&amp;amp;amp;amp;amp;s=aa2efd7606bb18b1c5f88f215a59a72b44c9b4a2\",\n",
       " 'Great BTC hype video [https://youtu.be/lbJxuxIpc\\\\_g](https://youtu.be/lbJxuxIpc_g)',\n",
       " \"Aaaaand we're back. &#x200B;\\n\\nhttps://preview.redd.it/cnewfkkc23g51.png?width=1030&format=png&auto=webp&s=908a90e0493381fa5dd1852428a6a799401514f0\",\n",
       " 'Check how to buy Bitcoin and other cryptocurrencies with a card. &#x200B;\\n\\nhttps://preview.redd.it/rfguw4ur7df51.png?width=1200&format=png&auto=webp&s=55727516edeb688f0096856032740bdacfac5fd7\\n\\n[**https://bitbay.net/en/helpdesk/payments-and-withdrawals/how-to-buy-cryptocurrencies-with-a-credit-or-debit-card**](https://bitbay.net/en/helpdesk/payments-and-withdrawals/how-to-buy-cryptocurrencies-with-a-credit-or-debit-card?fbclid=IwAR2PrQLN2oFU9PbV6L9uBwGyA9oTavVdOyxQnX_d2bcZJJiaRKggeiThOEI)',\n",
       " '1000 AUD! &#x200B;\\n\\nhttps://preview.redd.it/i1icah2wxhe51.png?width=4094&format=png&auto=webp&s=a47089b0488266d5f3fce9bd1ba9866fd9f88f7a',\n",
       " 'August 28, 2020 [https://www.youtube.com/watch?v=GY0Qh2gF0ZQ&feature=youtu.be](https://www.youtube.com/watch?v=GY0Qh2gF0ZQ&feature=youtu.be)',\n",
       " 'August 28,2020 [https://www.youtube.com/watch?v=xXnkMXnTZt0&feature=youtu.be](https://www.youtube.com/watch?v=xXnkMXnTZt0&feature=youtu.be)',\n",
       " 'Singapore industry  [https://cryptog.net/central-bank-of-singapore-is-to-conduct-new-code-of-practice-for-blockchain-companies/](https://cryptog.net/central-bank-of-singapore-is-to-conduct-new-code-of-practice-for-blockchain-companies/)',\n",
       " 'Paxful scam users? &#x200B;\\n\\nhttps://preview.redd.it/tzsbg0y0jtl51.png?width=273&format=png&auto=webp&s=4493b02b50a8c7ab9e5194442841e856b9433151\\n\\nhttps://preview.redd.it/cu4aliz0jtl51.png?width=287&format=png&auto=webp&s=3454415a77b21c6d4c15e25a661a78ae43f83b1d\\n\\nhttps://preview.redd.it/jukt4601jtl51.png?width=630&format=png&auto=webp&s=95c50719ef6e6ed7c1950adf80fcfd88e07daa6e\\n\\n&#x200B;\\n\\n[Paxful site scam users](https://preview.redd.it/ssq6dl7j5xl51.png?width=616&format=png&auto=webp&s=025a70729ba468129590b3a00d6b10580fc0b963)\\n\\nThey dont let you option close account and withdraw funds from their wallet?\\n\\n[https://twitter.com/aber74802859](https://twitter.com/aber74802859)',\n",
       " 'This guy just lost 1,400 BTC [https://github.com/spesmilo/electrum/issues/5072#issuecomment-683356052](https://github.com/spesmilo/electrum/issues/5072#issuecomment-683356052)',\n",
       " 'Relax bois &#x200B;\\n\\nhttps://preview.redd.it/awhqy7hjsyk51.png?width=620&format=png&auto=webp&s=032b6721f31ec483adf480fbd743ed565c6b8aef',\n",
       " 'September 2nd, 2020 [https://www.youtube.com/watch?v=L5HuVtaWzmM&feature=youtu.be](https://www.youtube.com/watch?v=L5HuVtaWzmM&feature=youtu.be)',\n",
       " 'Halvening countdown, which countdown clock is correct? different number of days on each countdown clock\\n\\n[https://coinmarketcap.com/halving/bitcoin/](https://coinmarketcap.com/halving/bitcoin/)\\n\\n[https://www.bitcoinblockhalf.com/](https://www.bitcoinblockhalf.com/)\\n\\n[https://academy.binance.com/halving](https://academy.binance.com/halving)',\n",
       " 'These few web hosting services which accept cryptocurrency may be of value to you See on BitcoinWide:\\n\\n**Impreza Host**\\n\\n🌐 [https://bitcoinwide.com/impreza-host-2000a4f5-d2db-4bb3-a4f1-9de814bb7106](https://bitcoinwide.com/impreza-host-2000a4f5-d2db-4bb3-a4f1-9de814bb7106)\\n\\n**Rad Web Host**\\n\\n🌐 [https://bitcoinwide.com/rad-web-hosting-230c13b1-c6d2-48a7-aa61-8e7026a7e3e3](https://bitcoinwide.com/rad-web-hosting-230c13b1-c6d2-48a7-aa61-8e7026a7e3e3)\\n\\n**Web World**\\n\\n🌐 [https://bitcoinwide.com/web-world-55bb713d-f193-498b-9d8e-b6775406300c](https://bitcoinwide.com/web-world-55bb713d-f193-498b-9d8e-b6775406300c)\\n\\n \\n\\nSubscribe to BitcoinWide Telegram channel: [https://t.me/BitcoinWide](https://t.me/BitcoinWide)',\n",
       " 'Bitcoin In 2020 &#x200B;\\n\\nhttps://preview.redd.it/5vbydjcyfmq51.jpg?width=1080&format=pjpg&auto=webp&s=e3b482b5ff03e942853c8fe4fd407e9c69d9aeea',\n",
       " 'Securing the Future with the Past and Present of Bitcoin [https://cryptotapas.com/securing-the-future-with-the-past-and-present-of-bitcoin/](https://cryptotapas.com/securing-the-future-with-the-past-and-present-of-bitcoin/)\\n\\n&#x200B;\\n\\nhttps://preview.redd.it/3ftlcrafc1q51.png?width=1280&format=png&auto=webp&s=ad9417b1ba9c80c254ecc2403f1f1c54c8df7b3b',\n",
       " 'bitpaintVR - bitcoin art gallery & more... join for free anytime from the website launch from [bitpant.club](https://bitpant.club)\\n\\nyou need to install vrchat before\\n\\n&#x200B;\\n\\n[Rob Mitchell](https://preview.redd.it/22qz06vs95p51.png?width=2560&format=png&auto=webp&s=3ef0fa2a3a4b9acddd4e65dc45906c5dd89b4e24)\\n\\n[phneep](https://preview.redd.it/glbcupvs95p51.png?width=2560&format=png&auto=webp&s=d321fa01e819beb0e833a2fab74517ed74230928)\\n\\n[primal cypher](https://preview.redd.it/qz9eydvs95p51.png?width=2560&format=png&auto=webp&s=fcf939ae88ae65581b387c0f8f0aea04a9ed49fa)\\n\\n[xpub bar](https://preview.redd.it/qzfkc3vs95p51.png?width=609&format=png&auto=webp&s=5fa7ad29056aa9e8bc2dfd5a0ed0c8e65d554cfa)\\n\\n[conference room](https://preview.redd.it/v0k9hdvs95p51.png?width=2560&format=png&auto=webp&s=4d70c528b1fed93d53a9ff69dfa99d13e8be6bc6)',\n",
       " 'Harmonic Trading Patterns Harmonic Trading Patterns\\t\\n\\n[https://www.harmonicstraders.com/](https://www.harmonicstraders.com/)',\n",
       " 'BITCOIN Q&A - CRYPTO-CURRENCY AS AN INVESTMENT? &#x200B;\\n\\nhttps://preview.redd.it/d5s2gvu61ts51.jpg?width=480&format=pjpg&auto=webp&s=a11c9b18625e0e471b90c6113fa03563ef4cf52f\\n\\nRead more here: [https://www.youtube.com/watch?v=edUXUoJ92kQ](https://www.youtube.com/watch?v=edUXUoJ92kQ)',\n",
       " \"Yep! I've $21m. &#x200B;\\n\\nhttps://preview.redd.it/1vhngsmzbqs51.png?width=1080&format=png&auto=webp&s=b6d90a16f5bd24975d8ed55a94a138c5f766f110\",\n",
       " 'https://www.coindesk.com/bitcoin-news-roundup-for-oct-6-2020 https://www.coindesk.com/bitcoin-news-roundup-for-oct-6-2020',\n",
       " 'Lies They Tell..... &#x200B;\\n\\nhttps://preview.redd.it/kbifgnft2fr51.jpg?width=2480&format=pjpg&auto=webp&s=3bd0eb7179018a33a5f7f4299e46d225df8ecaf9',\n",
       " 'How Bitcoin transactions will be like on PayPal. Hahaha! [https://twitter.com/CryptoWhale/status/1319365339126386690/photo/1](https://twitter.com/CryptoWhale/status/1319365339126386690/photo/1)\\n\\nhttps://preview.redd.it/1sff0fk5cqu51.jpg?width=1106&format=pjpg&auto=webp&s=b1d16fe02baa3e9d328ffe60ed54b9de1442463e',\n",
       " 'IMF calls for Bretton Woods Monetary Renegotiation [https://www.youtube.com/watch?v=enmHW4gCkAY](https://www.youtube.com/watch?v=enmHW4gCkAY)',\n",
       " \"CoinBureau's exchange review of BlockSettle [https://www.coinbureau.com/review/blocksettle/](https://www.coinbureau.com/review/blocksettle/)\",\n",
       " 'Currently in Bitcoin &#x200B;\\n\\nhttps://preview.redd.it/f7qny0717bw51.jpg?width=226&format=pjpg&auto=webp&s=61a273f9194e9e64039d175f0b4cadf8173a1281',\n",
       " 'Paypal make Crypto ready for mass adoption [https://www.youtube.com/watch?v=oczwZMBV7D4](https://www.youtube.com/watch?v=oczwZMBV7D4)',\n",
       " 'Ringo knew [https://www.youtube.com/watch?v=vkR7u\\\\_sOtHI](https://www.youtube.com/watch?v=vkR7u_sOtHI)',\n",
       " 'Bitcoin is mainstream! [https://www.wsj.com/articles/a-big-chinese-bank-is-selling-bonds-that-can-be-bought-with-cash-or-bitcoin-11605069043](https://www.wsj.com/articles/a-big-chinese-bank-is-selling-bonds-that-can-be-bought-with-cash-or-bitcoin-11605069043)',\n",
       " 'Green Wallet Tutorial ! What do you think? [https://www.youtube.com/watch?v=MwqMTu2LB3k](https://www.youtube.com/watch?v=MwqMTu2LB3k)',\n",
       " 'How to use your Electrum Wallet with your own node (article and video) The article:\\n\\n[https://armantheparman.com/connect-electrum-desktop-wallet-to-your-bitcoin-node/](https://armantheparman.com/connect-electrum-desktop-wallet-to-your-bitcoin-node/)\\n\\nThe video:\\n\\n[https://www.youtube.com/watch?v=wHmQNcRWdHM&t=10s](https://www.youtube.com/watch?v=wHmQNcRWdHM&t=10s)',\n",
       " 'HOW DO WE PREVENT A WALLED CRYPTO? [https://twitter.com/brian\\\\_armstrong/status/1331744884856741888?s=08](https://twitter.com/brian_armstrong/status/1331744884856741888?s=08)',\n",
       " 'This guy is ready for 20k https://i.redd.it/6d84q5bfjq531.jpg https://i.redd.it/6d84q5bfjq531.jpg',\n",
       " 'This meme aged well [https://www.youtube.com/watch?v=dYJH3li2zgQ](https://www.youtube.com/watch?v=dYJH3li2zgQ)',\n",
       " \"KOK PLAY's 1st Anniversary Online Conference KOK PLAY's 1st Anniversary Online Conference\\n\\n[https://kok-play.io/bb/media/0/article/650/?lang=e](https://kok-play.io/bb/media/0/article/650/?lang=e&fbclid=IwAR2UvCKXwmuzNCFbeWTgbJFolmmKSKc_AolAMTFp9wLR3dlsSN3M9wHdm4M)\\n\\n[\\\\#KOK](https://www.facebook.com/hashtag/kok?__eep__=6&fref=mentions) [\\\\#KOK\\\\_Foundation](https://www.facebook.com/hashtag/kok_foundation?__eep__=6&fref=mentions) [\\\\#KOK\\\\_Play](https://www.facebook.com/hashtag/kok_play?__eep__=6&fref=mentions) [\\\\#KOK\\\\_Token](https://www.facebook.com/hashtag/kok_token?__eep__=6&fref=mentions) [\\\\#KOK\\\\_Coin](https://www.facebook.com/hashtag/kok_coin?__eep__=6&fref=mentions) [\\\\#ZBG](https://www.facebook.com/hashtag/zbg?__eep__=6&fref=mentions) [\\\\#Bithumb\\\\_Global](https://www.facebook.com/hashtag/bithumb_global?__eep__=6&fref=mentions) [\\\\#Blockchain](https://www.facebook.com/hashtag/blockchain?__eep__=6&fref=mentions) [\\\\#ERC20](https://www.facebook.com/hashtag/erc20?__eep__=6&fref=mentions) [\\\\#Bitcoin](https://www.facebook.com/hashtag/bitcoin?__eep__=6&fref=mentions) [\\\\#Cryptocurrency](https://www.facebook.com/hashtag/cryptocurrency?__eep__=6&fref=mentions) [\\\\#Digital\\\\_contents\\\\_platform](https://www.facebook.com/hashtag/digital_contents_platform?__eep__=6&fref=mentions) [\\\\#Decentralization](https://www.facebook.com/hashtag/decentralization?__eep__=6&fref=mentions)\",\n",
       " 'BTC amount in different address sizes Top 2.49% of all addresses own 1 BTC+!\\n\\n[https://bitinfocharts.com/top-100-richest-bitcoin-addresses.html](https://bitinfocharts.com/top-100-richest-bitcoin-addresses.html)\\n\\nhttps://preview.redd.it/8sle778svf061.png?width=1133&format=png&auto=webp&s=d2494e6ea5fd960d1abe07af8b9d4bbe83fb67a2',\n",
       " 'BlackFriday with Bitcoin 2 resourses that will help you during BlackFriday\\n\\n&#x200B;\\n\\n1. **Bitcoin promos from Cryptwerk**\\n\\n370 promo codes and special offers from merchants accepting Bitcoin\\n\\n[https://cryptwerk.com/discounts/bitcoin/](https://cryptwerk.com/discounts/bitcoin/)\\n\\n&#x200B;\\n\\nhttps://preview.redd.it/ybq9kkyewd061.png?width=1093&format=png&auto=webp&s=79428da59490371e8254503f184220d97e4aa980\\n\\n**2. Bitcoin Black Friday**\\n\\n[https://www.bitcoinblackfriday.com](https://www.bitcoinblackfriday.com)\\n\\n&#x200B;\\n\\nhttps://preview.redd.it/wq4gvyxkwd061.png?width=1041&format=png&auto=webp&s=e21ce19642e109d27e95833a522bf7d4135a7b37',\n",
       " 'Daily Bitcoin News Nov 19th, 2020  Everything [\\\\#Bitcoin](https://twitter.com/hashtag/Bitcoin?src=hashtag_click) for November 18th 2020  \\n\\nProof to finally debunk the [\\\\#BTC](https://twitter.com/hashtag/BTC?src=hashtag_click)\\n\\nmining centralization FUD  \\n\\n[@Timcast](https://twitter.com/Timcast) bullish on Bitcoin \\n\\nMuch More  \\n\\nSpecial Guest: \\n\\n[@pierre\\\\_rochard](https://twitter.com/pierre_rochard)\\n\\n  Hosts: \\n\\n[@BITVOLT7](https://twitter.com/BITVOLT7)\\n\\n[@Coinicarus](https://twitter.com/Coinicarus)\\n\\n Sponsor: \\n\\n[@CryptoCloaks](https://twitter.com/CryptoCloaks)\\n\\n&#x200B;\\n\\n[https://www.youtube.com/watch?v=i9olPVbxOBM&feature=youtu.be](https://www.youtube.com/watch?v=i9olPVbxOBM&feature=youtu.be)',\n",
       " 'Nothing has change HOOOOOLD!!! [https://www.youtube.com/watch?v=iDVuQi4gdtk&feature=youtu.be&fbclid=IwAR3RbdypM6e2dQwZm74\\\\_oyE--ZJpSwp-IFwt-LEFWNaeZjRjAwo2YnPS2LM](https://www.youtube.com/watch?v=iDVuQi4gdtk&feature=youtu.be&fbclid=IwAR3RbdypM6e2dQwZm74_oyE--ZJpSwp-IFwt-LEFWNaeZjRjAwo2YnPS2LM)',\n",
       " 'Where I think the market is headed [https://youtu.be/0ATdhWnMmjs](https://youtu.be/0ATdhWnMmjs)',\n",
       " 'https://www.coindesk.com/fixing-this-bitcoin-killing-bug-will-eventually-require-a-hard-fork',\n",
       " 'This aged poorly https://www.fool.com/investing/general/2013/05/30/bitcoins-are-just-the-worst-idea-ever.aspx',\n",
       " 'Bitcoin explained [https://medium.com/@playful\\\\_capri\\\\_mouse\\\\_68/what-is-bitcoin-63d073883212](https://medium.com/@playful_capri_mouse_68/what-is-bitcoin-63d073883212)',\n",
       " 'Last day for OKCoin Holiday Referral Promotion! [https://blog.okcoin.com/2020/11/19/gift-bitcoin-before-the-end-of-november-and-get-3x-referral-bonus/](https://blog.okcoin.com/2020/11/19/gift-bitcoin-before-the-end-of-november-and-get-3x-referral-bonus/)',\n",
       " 'Software PacMan [https://a16z.com/2011/08/20/why-software-is-eating-the-world/](https://a16z.com/2011/08/20/why-software-is-eating-the-world/)',\n",
       " 'Fiat Wallet Recovery Agency [https://www.youtube.com/watch?v=trZmMCsgxUw](https://www.youtube.com/watch?v=trZmMCsgxUw)',\n",
       " 'Why bitcoin is falling and rising and what journalists think about it. [https://www.forbes.com/sites/robisbitts2/2020/12/13/why-bitcoin-is-falling-and-what-it-means/?sh=124561f5100c](https://www.forbes.com/sites/robisbitts2/2020/12/13/why-bitcoin-is-falling-and-what-it-means/?sh=124561f5100c)\\n\\n[https://www.msn.com/en-us/money/news/as-bitcoin-again-surpasses-19k-analysts-eye-20k-level/ar-BB1bTqZU](https://www.msn.com/en-us/money/news/as-bitcoin-again-surpasses-19k-analysts-eye-20k-level/ar-BB1bTqZU)',\n",
       " \"New lightning Call of Duty: Warzone tournaments live this weekend⚡ Hello,\\n\\nWe're HangarSix, a lightning based Call of Duty: Warzone tournament platform, and we have a few new tournaments this weekend. Cross-platform, free to enter:\\n\\n&#x200B;\\n\\nSOLO's[https://www.hangarsixgaming.com/tournament/lone-wolf-4-68780](https://www.hangarsixgaming.com/tournament/lone-wolf-4-68780)\\n\\nDUO's[https://www.hangarsixgaming.com/tournament/twosome-3-56012](https://www.hangarsixgaming.com/tournament/twosome-3-56012)\\n\\nTRIO's[https://www.hangarsixgaming.com/tournament/trinity-2-76436](https://www.hangarsixgaming.com/tournament/trinity-2-76436)\\n\\n&#x200B;\\n\\nSee the following link on how to participate:[https://www.hangarsixgaming.com/howtoplay](https://www.hangarsixgaming.com/howtoplay)\\n\\n&#x200B;\\n\\nJoin the Discord server: [https://discord.gg/mhTjEcRUeh](https://discord.gg/mhTjEcRUeh)\\n\\n\\\\- HangarSix\",\n",
       " 'Understand bitcoin in just 5 minutes [https://guptaarnish-it.medium.com/11-things-you-must-know-about-bitcoin-60bcfa735470](https://guptaarnish-it.medium.com/11-things-you-must-know-about-bitcoin-60bcfa735470)',\n",
       " 'Massmutual buys $100m bitcoin [https://www.wsj.com/articles/massmutual-joins-the-bitcoin-club-with-100-million-purchase-11607626800](https://www.wsj.com/articles/massmutual-joins-the-bitcoin-club-with-100-million-purchase-11607626800)',\n",
       " 'Time to celebrate my dream lol [https://www.reddit.com/r/Bitcoin/comments/k2qb27/i\\\\_had\\\\_a\\\\_dream\\\\_btc\\\\_spiked\\\\_to\\\\_26k\\\\_from\\\\_19k\\\\_for\\\\_some/?utm\\\\_source=share&utm\\\\_medium=web2x&context=3](https://www.reddit.com/r/Bitcoin/comments/k2qb27/i_had_a_dream_btc_spiked_to_26k_from_19k_for_some/?utm_source=share&utm_medium=web2x&context=3)',\n",
       " 'Bitcoiners right now... https://youtu.be/WEMCYBPUR00',\n",
       " 'Bitcoin Art: Hodlonaut Artwork by Lynx Art Collection [https://lynxartcollection.com/collections/crypto-artwork/products/hodlonaut-artwork-100-proceeds-donated-crypto-art-poster-artwork-btc-design-limited-to-21](https://lynxartcollection.com/collections/crypto-artwork/products/hodlonaut-artwork-100-proceeds-donated-crypto-art-poster-artwork-btc-design-limited-to-21)\\n\\nhttps://preview.redd.it/vm7s6w3gnm761.png?width=1600&format=png&auto=webp&s=ae9793394354c4e39c1e8d27489993cee1098c92',\n",
       " 'No bear market? [https://youtu.be/TDQrMlJFDrg](https://youtu.be/TDQrMlJFDrg)',\n",
       " '2021 will be the institutional equivalent of the 2017 bull run. [https://www.bitcointreasurycharts.com/](https://www.bitcointreasurycharts.com/)\\n\\nhttps://preview.redd.it/lmmdvzzwsw961.png?width=1039&format=png&auto=webp&s=82791ad3779ff07bcd1d553deb6461739777719d',\n",
       " 'Tough one: &#x200B;\\n\\nhttps://preview.redd.it/fabl1klnpv961.jpg?width=552&format=pjpg&auto=webp&s=36ddf34fdc59967b4727c995d6e4c7e7b94e13cb',\n",
       " 'To The Moon please &#x200B;\\n\\nhttps://preview.redd.it/wtvx160pns961.jpg?width=698&format=pjpg&auto=webp&s=4325a6d80b16e1f1cb5a2db22e97eb255937b868\\n\\n[http://classystrip.com/strip/to-the-moon-please/](http://classystrip.com/strip/to-the-moon-please/)',\n",
       " 'Lyn Alden on Bitcoin [https://twitter.com/efrontier\\\\_io/status/1346888977081626628](https://twitter.com/efrontier_io/status/1346888977081626628)',\n",
       " 'I bought BTC &#x200B;\\n\\nhttps://preview.redd.it/j086kvwqe5961.jpg?width=840&format=pjpg&auto=webp&s=d4d3b2bc9aa0bf197f23bc7677ed34e03aee0e67',\n",
       " 'With Bitcoin rising, consider setting up a full node to support the network. There are many online guides, some including lightning nodes as well.\\n\\nHere are a few:\\n\\n[https://medium.com/coinmonks/how-to-run-a-bitcoin-full-node-in-6-simple-steps-a243189a5750](https://medium.com/coinmonks/how-to-run-a-bitcoin-full-node-in-6-simple-steps-a243189a5750)\\n\\n[https://medium.com/@meeDamian/bitcoin-full-node-on-rbp3-revised-88bb7c8ef1d1](https://medium.com/@meeDamian/bitcoin-full-node-on-rbp3-revised-88bb7c8ef1d1)\\n\\nIf you want to purchase hardware:\\n\\n[https://lightninginabox.co/shop/](https://lightninginabox.co/shop/)\\n\\n[https://mynodebtc.com/order\\\\_now](https://mynodebtc.com/order_now)\\n\\n[https://shop.fulmo.org/](https://shop.fulmo.org/)',\n",
       " '36000 BTCs moved just now https://www.blockchain.com/btc/tx/18f39d45b4291c6e264a61be4d80b4a7e9e0a35dafe952d96e23d3855f021c3c\\n\\nhttps://www.blockchain.com/btc/tx/7223e9eed71b2d501b90eccbf70c342071df2d8bb2e955bcb13d00f58d94d2ef\\n\\nhttps://www.blockchain.com/btc/tx/1ac1d18e231764c57115504ab26796705e408d1490ed9f16686a30eea41ae340',\n",
       " 'Bitcoin surpasses Berkshire Hathaway (Warren Buffet) in Marketcap [https://assetdash.com/](https://assetdash.com/)',\n",
       " 'Call me maybe http://youtu.be/ncXAIo9CJvs',\n",
       " 'Cheap family fun http://www.doingdishesmakingwishes.com/?cat=6',\n",
       " 'Fighting Racism https://sueannporter.com/2017/08/29/if-you-really-want-to-combat-racism-read-to-a-child-reading-children-racism-family-kids/',\n",
       " 'COOL FAMILY CHALLENGES https://youtu.be/RcZuP6C9LMM',\n",
       " 'Sport https://osraty2.blogspot.com/2017/09/blog-post.html?m=1',\n",
       " 'Family Gathering Bingo http://introvertdoodles.com/comic/family-gathering-bingo/',\n",
       " 'Help! https://gogetfunding.com/brung-daddy-home/',\n",
       " 'Hope  https://gogetfunding.com/my-son-right/',\n",
       " 'My little sisters seem to be fighting 24/7... [https://www.youtube.com/watch?v=xkoWcWuD2Qg&feature=youtu.be](https://www.youtube.com/watch?v=xkoWcWuD2Qg&feature=youtu.be)',\n",
       " 'BETTER SAFE THAN SORRY... [http://shuharido.com/blog1/2018/05/12/unsafe\\\\-pop\\\\-culture\\\\-patterns/](http://shuharido.com/blog1/2018/05/12/unsafe-pop-culture-patterns/)',\n",
       " 'Importance of Family https://m.youtube.com/watch?v=y0HIIfcnAtI',\n",
       " 'The Feelings that Family Give You [https://www.youtube.com/watch?v=jhuPoZNy190](https://www.youtube.com/watch?v=jhuPoZNy190)',\n",
       " \"The Best Family Video I've ever made [https://www.youtube.com/watch?v=jhuPoZNy190](https://www.youtube.com/watch?v=jhuPoZNy190)\",\n",
       " 'Types of siblings https://youtu.be/D1aqu8MY0fQ',\n",
       " 'HOW TO GET PREGNANT QUICKLY! [https://www.youtube.com/watch?v=nosH7gWTP58&t=300s](https://www.youtube.com/watch?v=nosH7gWTP58&t=300s)',\n",
       " 'Playing Hide and Seek with my Niece [https://www.youtube.com/watch?v=0zqR66ovM5A](https://www.youtube.com/watch?v=0zqR66ovM5A&t=127s)',\n",
       " 'I do not ever arrive late [https://www.youtube.com/watch?v=oXWYAyJ2NOA](https://www.youtube.com/watch?v=oXWYAyJ2NOA)',\n",
       " 'ARE YOU READY FOR SUMMER? [https://www.youtube.com/watch?v=1UfB6GJeNdY](https://www.youtube.com/watch?v=1UfB6GJeNdY)',\n",
       " 'Bella https://redclayponderings.com/2019/03/06/bella/\\n',\n",
       " 'So lovely and warm hearted Repost\\n\\n[https://www.reddit.com/r/aww/comments/bkftnn/this\\\\_cat\\\\_walks\\\\_this\\\\_elderly\\\\_woman\\\\_home\\\\_every\\\\_day/?utm\\\\_source=share&utm\\\\_medium=web2x](https://www.reddit.com/r/aww/comments/bkftnn/this_cat_walks_this_elderly_woman_home_every_day/?utm_source=share&utm_medium=web2x)',\n",
       " 'THE REASON YOU SHOULD NEVER HAVE CHILDREN [https://medium.com/@filip.poutintsev/why-i-never-want-to-have-a-children-30bc3b1b47a2](https://medium.com/@filip.poutintsev/why-i-never-want-to-have-a-children-30bc3b1b47a2)',\n",
       " \"Great Fun Fit Activities for the Whole Family  [\\\\#Summer](https://www.facebook.com/hashtag/summer?source=feed_text&epa=HASHTAG) is almost here! Time for you & the family to get out there & enjoy it. Check out [Temple Display](https://www.facebook.com/temple.display?__tn__=%2CdK-R-R&eid=ARBBLvECxiDEhjaAaevJQBYBVDUWmCTeGS-TONhMvJWk3ogkGrqzYXODGhFyJvuGj5ZDl82jhFrHFjyY&fref=mentions)'s blog: [http://templedisplay.com/activities/](http://templedisplay.com/activities/?fbclid=IwAR0mwUL6ExE40qIfYUZBYz11Q30ZHJBM4k4OApe7qg3zlXX43rygg6UGKZU) & discover Great Fun Fit Activities for the Whole Family. [\\\\#familyfun](https://www.facebook.com/hashtag/familyfun?source=feed_text&epa=HASHTAG) [\\\\#getfit](https://www.facebook.com/hashtag/getfit?source=feed_text&epa=HASHTAG) [\\\\#summerplease](https://www.facebook.com/hashtag/summerplease?source=feed_text&epa=HASHTAG) [\\\\#NeverStopPlaying](https://www.facebook.com/hashtag/neverstopplaying?source=feed_text&epa=HASHTAG) [http://templedisplay.com](http://templedisplay.com/?fbclid=IwAR02Lua2iTbFt7K4DPGuO2DS2ap3QNrDQyaeC_sNrDehBW0WD2jOgmRnRG8)\",\n",
       " \"It wasn't my fault !!!!!! right here :\\n\\n[https://youtu.be/v4g0KatEmGs](https://youtu.be/v4g0KatEmGs)\",\n",
       " \"5 mistakes shouldn't parents punish child for it [https://www.ibrascorner.com/2019/10/mistakes-shouldnt-punish-your-kids-for.html](https://www.ibrascorner.com/2019/10/mistakes-shouldnt-punish-your-kids-for.html)\",\n",
       " 'The Young Brothers  [https://www.youtube.com/watch?v=dFujb2y-evo](https://www.youtube.com/watch?v=dFujb2y-evo)',\n",
       " 'What is love? anxiousacoa.wordpress.com/2020/02/11/what-is-love/',\n",
       " 'Abide in Christ. https://abide.co/prayer/j1kbyg',\n",
       " 'Red alert!http://bit.ly/2PAPikn',\n",
       " 'Family Finger Song Goes Very Wrong!!! [https://youtu.be/ZlgQDof1Uys](https://youtu.be/ZlgQDof1Uys)',\n",
       " 'THE FAMILY FINGER SONG gone wrong. [https://youtu.be/ZlgQDof1Uys](https://youtu.be/ZlgQDof1Uys)',\n",
       " 'Create family time and enhances bonds  [http://dive-inagameofmindfulawareness.com/](http://dive-inagameofmindfulawareness.com/)',\n",
       " 'A free community game for families in self-isolation [https://imgur.com/gallery/GbffzHM](https://imgur.com/gallery/GbffzHM)',\n",
       " 'Good tips for family budgeting! [https://www.remitbee.com/blog/you-need-to-know-how-to-budget-differently-when-starting-a-family](https://www.remitbee.com/blog/you-need-to-know-how-to-budget-differently-when-starting-a-family)',\n",
       " 'child contact centres [http://chng.it/C4SJDY4P](http://chng.it/C4SJDY4P)',\n",
       " 'lullaby for babies to go to sleep  [https://www.youtube.com/watch?v=aJKHqneLrcE&feature=youtu.be&fbclid=IwAR2bO7nAlF\\\\_JzlZLXSZ5EbDwcE55XdXcVZ2eKgE9PnWjNBM4EAdyHYyA7dE](https://www.youtube.com/watch?v=aJKHqneLrcE&feature=youtu.be&fbclid=IwAR2bO7nAlF_JzlZLXSZ5EbDwcE55XdXcVZ2eKgE9PnWjNBM4EAdyHYyA7dE)',\n",
       " 'Survey https://docs.google.com/forms/d/e/1FAIpQLSevAt-5n3_I2BCkw_st6hYMjcx5c3kYtCm2u0u5vuu9nQuUIg/viewform?usp=sf_link',\n",
       " \"A Founding Father's Fathers Day Post [https://www.linkedin.com/pulse/founding-fathers-day-story-alan-kay](https://www.linkedin.com/pulse/founding-fathers-day-story-alan-kay)\",\n",
       " 'Elderly couple models unclaimed clothes in their laundromat [https://www.parentherald.com/articles/102907/20200728/elderly-couple-models-unclaimed-clothes-laundromat-viral-photos.htm](https://www.parentherald.com/articles/102907/20200728/elderly-couple-models-unclaimed-clothes-laundromat-viral-photos.htm)',\n",
       " 'Be like the fruit tree [https://read.cash/@M3i/be-like-the-fruit-tree-7ccef5c5](https://read.cash/@M3i/be-like-the-fruit-tree-7ccef5c5)',\n",
       " 'How to deal with family problem. [https://read.cash/@Kloverztel28/how-to-deal-with-family-problem-e73822d3](https://read.cash/@Kloverztel28/how-to-deal-with-family-problem-e73822d3)',\n",
       " 'this guys talks about family. mustwatch [https://youtu.be/kdkI7iORGvQ](https://youtu.be/kdkI7iORGvQ)',\n",
       " 'Strive to mend broken fences [https://read.cash/@M3i/strive-to-mend-broken-fences-d4d625cc](https://read.cash/@M3i/strive-to-mend-broken-fences-d4d625cc)',\n",
       " 'When did you last have a digital detox [https://read.cash/@M3i/its-time-for-a-digital-detox-e8a4aed1](https://read.cash/@M3i/its-time-for-a-digital-detox-e8a4aed1)',\n",
       " 'How To Put the \"Fun\" in Funeral [https://medium.com/@crashferguson/how-to-put-the-fun-in-funeral-a559a73b6b4c](https://medium.com/@crashferguson/how-to-put-the-fun-in-funeral-a559a73b6b4c)',\n",
       " 'How To Put the \"Fun\" in Funeral [https://medium.com/@crashferguson/how-to-put-the-fun-in-funeral-a559a73b6b4c](https://medium.com/@crashferguson/how-to-put-the-fun-in-funeral-a559a73b6b4c)',\n",
       " 'Amazing Story - You can do it -2020 [https://youtu.be/kYcjVKrPd0U](https://youtu.be/kYcjVKrPd0U)',\n",
       " 'Wholesome Family-friendly Content! CHUBBY BUNNY CHALLENGE *cute/funny* [https://youtu.be/C1Qju5MQLd4](https://youtu.be/C1Qju5MQLd4)',\n",
       " 'Rules to Teach your Son [https://thevirginnews.com/rules-to-teach-your-son-manners-maketh-man/](https://thevirginnews.com/rules-to-teach-your-son-manners-maketh-man/)',\n",
       " \"CHILDREN SEE SANTA'S SCOUT REINDEER OUTSIDE! WWW.LOOKOUTFORSCOUT.COM [https://www.youtube.com/watch?v=uQ0WVNd-ZAM&feature=share](https://www.youtube.com/watch?v=uQ0WVNd-ZAM&feature=share)\",\n",
       " 'game [Acid man](https://www.youtube.com/watch?v=HCNL_gPvSpU&feature=share)',\n",
       " 'Assistance to Families in the Gambia [http://sannasfoundation.org/](http://sannasfoundation.org/)',\n",
       " 'A Conservative Christmas https://www.bpntoday.com/politics-1/a-conservative-christmas']"
      ]
     },
     "execution_count": 148,
     "metadata": {},
     "output_type": "execute_result"
    }
   ],
   "source": [
    "list(df[df[\"url_ratio\"] > .2][\"text\"])"
   ]
  },
  {
   "cell_type": "code",
   "execution_count": 112,
   "id": "af3e6427",
   "metadata": {},
   "outputs": [],
   "source": [
    "url1 = \"here is a url: [https://i.imgur.com/0SABf5L.jpg\\nhttps://i.imgur.com/kSABf5L.jpg]\""
   ]
  },
  {
   "cell_type": "code",
   "execution_count": 136,
   "id": "6ae7a600",
   "metadata": {},
   "outputs": [
    {
     "data": {
      "text/plain": [
       "'Does my right thumbnail look clubbed? Male. 24. 6’2[photo 1](https://i.imgur.com/0SABf5L.jpg) \\n[photo 2](https://i.imgur.com/YowoDWv.jpg) \\n\\n\\n[other thumb](https://i.imgur.com/gfuHje3.jpg)'"
      ]
     },
     "execution_count": 136,
     "metadata": {},
     "output_type": "execute_result"
    }
   ],
   "source": [
    "url2 = \"Does my right thumbnail look clubbed? Male. 24. 6’2[photo 1](https://i.imgur.com/0SABf5L.jpg) \\n[photo 2](https://i.imgur.com/YowoDWv.jpg) \\n\\n\\n[other thumb](https://i.imgur.com/gfuHje3.jpg)\"\n",
    "url2"
   ]
  },
  {
   "cell_type": "code",
   "execution_count": 151,
   "id": "2bb322c3",
   "metadata": {},
   "outputs": [
    {
     "data": {
      "text/plain": [
       "'my url is [http://imgur.com/a/MKKbsXK](http://imgur.com/a/MKKbsXK)'"
      ]
     },
     "execution_count": 151,
     "metadata": {},
     "output_type": "execute_result"
    }
   ],
   "source": [
    "url3 = \"my url is [http://imgur.com/a/MKKbsXK](http://imgur.com/a/MKKbsXK)\"\n",
    "url3"
   ]
  },
  {
   "cell_type": "code",
   "execution_count": 155,
   "id": "1256cae2",
   "metadata": {},
   "outputs": [
    {
     "data": {
      "text/plain": [
       "'my url is [http://imgur.com/a/MKKbsXK]'"
      ]
     },
     "execution_count": 155,
     "metadata": {},
     "output_type": "execute_result"
    }
   ],
   "source": [
    "url4 = \"my url is [http://imgur.com/a/MKKbsXK]\"\n",
    "url4"
   ]
  },
  {
   "cell_type": "code",
   "execution_count": 156,
   "id": "348af7be",
   "metadata": {},
   "outputs": [
    {
     "data": {
      "text/plain": [
       "['http://imgur.com/a/MKKbsXK]']"
      ]
     },
     "execution_count": 156,
     "metadata": {},
     "output_type": "execute_result"
    }
   ],
   "source": [
    "re.findall(\"http[s]?://(?:[a-zA-Z]|[0-9]|[$-_@.&+]|[!*\\(\\),]|(?:%[0-9a-fA-F][0-9a-fA-F]))+\", url4)  "
   ]
  },
  {
   "cell_type": "code",
   "execution_count": 161,
   "id": "d712a4df",
   "metadata": {},
   "outputs": [
    {
     "data": {
      "text/plain": [
       "['http://imgur.com/a/MKKbsXK', 'http://imgur.com/a/MKKbsXK']"
      ]
     },
     "execution_count": 161,
     "metadata": {},
     "output_type": "execute_result"
    }
   ],
   "source": [
    "re.findall(r\"(?i)\\b((?:https?://|www\\d{0,3}[.]|[a-z0-9.\\-]+[.][a-z]{2,4}/)(?:[^\\s()<>\\]]+))\", url3)"
   ]
  },
  {
   "cell_type": "code",
   "execution_count": 157,
   "id": "b3a04f3e",
   "metadata": {},
   "outputs": [
    {
     "data": {
      "text/plain": [
       "['http://imgur.com/a/MKKbsXK]']"
      ]
     },
     "execution_count": 157,
     "metadata": {},
     "output_type": "execute_result"
    }
   ],
   "source": [
    "# use this one!!\n",
    "re.findall(r\"(?i)\\b((?:https?://|www\\d{0,3}[.]|[a-z0-9.\\-]+[.][a-z]{2,4}/)(?:[^\\s()<>]+))\", url4)"
   ]
  },
  {
   "cell_type": "code",
   "execution_count": 154,
   "id": "72a5a6c8",
   "metadata": {},
   "outputs": [
    {
     "data": {
      "text/plain": [
       "'my url is [http://imgur.com(http://imgur.com)'"
      ]
     },
     "execution_count": 154,
     "metadata": {},
     "output_type": "execute_result"
    }
   ],
   "source": [
    "re.sub(r\"(?i)\\b((?:https?://|www\\d{0,3}[.]|[a-z0-9.\\-]+[.][a-z]{2,4}/)(?:[^\\s()<>]+))\", chop_url, url3)"
   ]
  },
  {
   "cell_type": "code",
   "execution_count": 134,
   "id": "b375ff6a",
   "metadata": {},
   "outputs": [],
   "source": [
    "def chop_url(url_match):\n",
    "    url_str = url_match.group(0)\n",
    "    return \"/\".join(url_str.split(\"/\")[:3])"
   ]
  },
  {
   "cell_type": "code",
   "execution_count": 92,
   "id": "69763f60",
   "metadata": {},
   "outputs": [
    {
     "data": {
      "text/plain": [
       "'https://i.imgur.com'"
      ]
     },
     "execution_count": 92,
     "metadata": {},
     "output_type": "execute_result"
    }
   ],
   "source": [
    "chop_url(url)"
   ]
  },
  {
   "cell_type": "markdown",
   "id": "670c3cc9",
   "metadata": {},
   "source": [
    "### Handle Other Special Chars"
   ]
  },
  {
   "cell_type": "code",
   "execution_count": 173,
   "id": "45a1205e",
   "metadata": {},
   "outputs": [
    {
     "data": {
      "text/html": [
       "<div>\n",
       "<style scoped>\n",
       "    .dataframe tbody tr th:only-of-type {\n",
       "        vertical-align: middle;\n",
       "    }\n",
       "\n",
       "    .dataframe tbody tr th {\n",
       "        vertical-align: top;\n",
       "    }\n",
       "\n",
       "    .dataframe thead th {\n",
       "        text-align: right;\n",
       "    }\n",
       "</style>\n",
       "<table border=\"1\" class=\"dataframe\">\n",
       "  <thead>\n",
       "    <tr style=\"text-align: right;\">\n",
       "      <th></th>\n",
       "      <th>_reddit</th>\n",
       "      <th>approved_at_utc</th>\n",
       "      <th>subreddit</th>\n",
       "      <th>selftext</th>\n",
       "      <th>user_reports</th>\n",
       "      <th>saved</th>\n",
       "      <th>mod_reason_title</th>\n",
       "      <th>gilded</th>\n",
       "      <th>clicked</th>\n",
       "      <th>title</th>\n",
       "      <th>...</th>\n",
       "      <th>media_metadata</th>\n",
       "      <th>poll_data</th>\n",
       "      <th>is_gallery</th>\n",
       "      <th>gallery_data</th>\n",
       "      <th>text</th>\n",
       "      <th>url_count</th>\n",
       "      <th>word_count</th>\n",
       "      <th>url_ratio</th>\n",
       "      <th>new_text2</th>\n",
       "      <th>new_text</th>\n",
       "    </tr>\n",
       "    <tr>\n",
       "      <th>id</th>\n",
       "      <th></th>\n",
       "      <th></th>\n",
       "      <th></th>\n",
       "      <th></th>\n",
       "      <th></th>\n",
       "      <th></th>\n",
       "      <th></th>\n",
       "      <th></th>\n",
       "      <th></th>\n",
       "      <th></th>\n",
       "      <th></th>\n",
       "      <th></th>\n",
       "      <th></th>\n",
       "      <th></th>\n",
       "      <th></th>\n",
       "      <th></th>\n",
       "      <th></th>\n",
       "      <th></th>\n",
       "      <th></th>\n",
       "      <th></th>\n",
       "      <th></th>\n",
       "    </tr>\n",
       "  </thead>\n",
       "  <tbody>\n",
       "    <tr>\n",
       "      <th>2s3ge4</th>\n",
       "      <td>&lt;praw.reddit.Reddit object at 0x7f2e8c6c9070&gt;</td>\n",
       "      <td>NaN</td>\n",
       "      <td>AskDocs</td>\n",
       "      <td>36 yr Caucasian female, 5'9\" 240lb. I live on ...</td>\n",
       "      <td>[]</td>\n",
       "      <td>False</td>\n",
       "      <td>NaN</td>\n",
       "      <td>0</td>\n",
       "      <td>False</td>\n",
       "      <td>Debilitating sensitivity to pressure on flesh</td>\n",
       "      <td>...</td>\n",
       "      <td>NaN</td>\n",
       "      <td>NaN</td>\n",
       "      <td>NaN</td>\n",
       "      <td>NaN</td>\n",
       "      <td>Debilitating sensitivity to pressure on flesh ...</td>\n",
       "      <td>0</td>\n",
       "      <td>220</td>\n",
       "      <td>0.000000</td>\n",
       "      <td>Debilitating sensitivity to pressure on flesh ...</td>\n",
       "      <td>Debilitating sensitivity to pressure on flesh ...</td>\n",
       "    </tr>\n",
       "    <tr>\n",
       "      <th>2s3g4a</th>\n",
       "      <td>&lt;praw.reddit.Reddit object at 0x7f2e8c6c9070&gt;</td>\n",
       "      <td>NaN</td>\n",
       "      <td>AskDocs</td>\n",
       "      <td>So hi, I'm an idiot and I drop my giant Galaxy...</td>\n",
       "      <td>[]</td>\n",
       "      <td>False</td>\n",
       "      <td>NaN</td>\n",
       "      <td>0</td>\n",
       "      <td>False</td>\n",
       "      <td>Marks on X-Ray - blurry or actually mean somet...</td>\n",
       "      <td>...</td>\n",
       "      <td>NaN</td>\n",
       "      <td>NaN</td>\n",
       "      <td>NaN</td>\n",
       "      <td>NaN</td>\n",
       "      <td>Marks on X-Ray - blurry or actually mean somet...</td>\n",
       "      <td>1</td>\n",
       "      <td>222</td>\n",
       "      <td>0.004505</td>\n",
       "      <td>Marks on X-Ray - blurry or actually mean somet...</td>\n",
       "      <td>Marks on X-Ray - blurry or actually mean somet...</td>\n",
       "    </tr>\n",
       "    <tr>\n",
       "      <th>2s3g3p</th>\n",
       "      <td>&lt;praw.reddit.Reddit object at 0x7f2e8c6c9070&gt;</td>\n",
       "      <td>NaN</td>\n",
       "      <td>AskDocs</td>\n",
       "      <td>So, on the night of Christmas Day I started ge...</td>\n",
       "      <td>[]</td>\n",
       "      <td>False</td>\n",
       "      <td>NaN</td>\n",
       "      <td>0</td>\n",
       "      <td>False</td>\n",
       "      <td>Stomach ache after eating, painkillers not hel...</td>\n",
       "      <td>...</td>\n",
       "      <td>NaN</td>\n",
       "      <td>NaN</td>\n",
       "      <td>NaN</td>\n",
       "      <td>NaN</td>\n",
       "      <td>Stomach ache after eating, painkillers not hel...</td>\n",
       "      <td>0</td>\n",
       "      <td>225</td>\n",
       "      <td>0.000000</td>\n",
       "      <td>Stomach ache after eating, painkillers not hel...</td>\n",
       "      <td>Stomach ache after eating, painkillers not hel...</td>\n",
       "    </tr>\n",
       "  </tbody>\n",
       "</table>\n",
       "<p>3 rows × 125 columns</p>\n",
       "</div>"
      ],
      "text/plain": [
       "                                              _reddit approved_at_utc  \\\n",
       "id                                                                      \n",
       "2s3ge4  <praw.reddit.Reddit object at 0x7f2e8c6c9070>             NaN   \n",
       "2s3g4a  <praw.reddit.Reddit object at 0x7f2e8c6c9070>             NaN   \n",
       "2s3g3p  <praw.reddit.Reddit object at 0x7f2e8c6c9070>             NaN   \n",
       "\n",
       "       subreddit                                           selftext  \\\n",
       "id                                                                    \n",
       "2s3ge4   AskDocs  36 yr Caucasian female, 5'9\" 240lb. I live on ...   \n",
       "2s3g4a   AskDocs  So hi, I'm an idiot and I drop my giant Galaxy...   \n",
       "2s3g3p   AskDocs  So, on the night of Christmas Day I started ge...   \n",
       "\n",
       "       user_reports  saved mod_reason_title gilded clicked  \\\n",
       "id                                                           \n",
       "2s3ge4           []  False              NaN      0   False   \n",
       "2s3g4a           []  False              NaN      0   False   \n",
       "2s3g3p           []  False              NaN      0   False   \n",
       "\n",
       "                                                    title  ... media_metadata  \\\n",
       "id                                                         ...                  \n",
       "2s3ge4      Debilitating sensitivity to pressure on flesh  ...            NaN   \n",
       "2s3g4a  Marks on X-Ray - blurry or actually mean somet...  ...            NaN   \n",
       "2s3g3p  Stomach ache after eating, painkillers not hel...  ...            NaN   \n",
       "\n",
       "       poll_data is_gallery  gallery_data  \\\n",
       "id                                          \n",
       "2s3ge4       NaN        NaN           NaN   \n",
       "2s3g4a       NaN        NaN           NaN   \n",
       "2s3g3p       NaN        NaN           NaN   \n",
       "\n",
       "                                                     text url_count  \\\n",
       "id                                                                    \n",
       "2s3ge4  Debilitating sensitivity to pressure on flesh ...         0   \n",
       "2s3g4a  Marks on X-Ray - blurry or actually mean somet...         1   \n",
       "2s3g3p  Stomach ache after eating, painkillers not hel...         0   \n",
       "\n",
       "       word_count url_ratio  \\\n",
       "id                            \n",
       "2s3ge4        220  0.000000   \n",
       "2s3g4a        222  0.004505   \n",
       "2s3g3p        225  0.000000   \n",
       "\n",
       "                                                new_text2  \\\n",
       "id                                                          \n",
       "2s3ge4  Debilitating sensitivity to pressure on flesh ...   \n",
       "2s3g4a  Marks on X-Ray - blurry or actually mean somet...   \n",
       "2s3g3p  Stomach ache after eating, painkillers not hel...   \n",
       "\n",
       "                                                 new_text  \n",
       "id                                                         \n",
       "2s3ge4  Debilitating sensitivity to pressure on flesh ...  \n",
       "2s3g4a  Marks on X-Ray - blurry or actually mean somet...  \n",
       "2s3g3p  Stomach ache after eating, painkillers not hel...  \n",
       "\n",
       "[3 rows x 125 columns]"
      ]
     },
     "execution_count": 173,
     "metadata": {},
     "output_type": "execute_result"
    }
   ],
   "source": [
    "new_df.head(3)"
   ]
  },
  {
   "cell_type": "code",
   "execution_count": 189,
   "id": "b8af9ed9",
   "metadata": {},
   "outputs": [],
   "source": [
    "has_bullet = new_df[[re.search('&amp;#x200B;', x) is not None for x in new_df[\"new_text\"]]]"
   ]
  },
  {
   "cell_type": "code",
   "execution_count": 190,
   "id": "61e0263f",
   "metadata": {},
   "outputs": [
    {
     "name": "stdout",
     "output_type": "stream",
     "text": [
      "8/378494=0.002113639846338383% of posts have bullet\n"
     ]
    }
   ],
   "source": [
    "print(\"{}/{}={}% of posts have bullet\".format(len(has_bullet), len(new_df), len(has_bullet)*100/len(new_df)))"
   ]
  },
  {
   "cell_type": "code",
   "execution_count": 191,
   "id": "320d5bd4",
   "metadata": {},
   "outputs": [
    {
     "data": {
      "text/plain": [
       "['Unsure if normal period discharge? * Age: 22\\n* Sex: Female\\n* Height: 5\\'4\"  (162cm)\\n* Weight: 112lbs  (51kg)\\n* Race: White American\\n* Duration of complaint: Today\\n* Location (Geographic and on body): Ireland, reproductive organs (?)\\n* Any existing relevant medical issues (if any): Retrograde menstruation, possible endometriosis, undiagnosed bowel issues (cramps all day everyday)\\n* Current medications (if any): Ovreena (period every 3 months), marijuana (not sure if that is considered medication but I thought it relevant)\\n* [https://imgur.com](https://imgur.com)\\n\\nIn case there is any confusion about retrograde menstruation (my GP hadn\\'t even heard of it when I was diagnosed), in my case I had a laparoscopy in January for possible appendicitis, when the surgeons were down there they saw blood floating around my pelvis which they attributed to being menstrual blood but they didn\\'t test it. However I had just had a period lasting nearly 2 weeks because I could not get a new prescription for Ovreena at the time and it would also explain range of other issues/symptoms lasting years that cleared up after I had the surgery. So they diagnosed me with retrograde menstruation. \\n\\n&amp;#x200B;\\n\\nSo I ran out of Ovreena last Tuesday and saw my GP on Thursday, (BP etc was normal, did a pregnancy test for good measure, not pregnant) got my prescription filled and back on the pill on Friday. Unfortunately I started getting cramps that day and started bleeding on Saturday. I had god awful cramps yesterday (Sunday) so bad that I could barely stand up in the shower. I haven\\'t had cramps that bad since before I started the pill at 18. I found this thing on my pad this morning, at first I thought it was just a big clot but I noticed it was pink and kind of fleshy. I haven\\'t really bled at all today, however I am still getting pretty bad cramps. So now I have this thing in a ziploc bag in a sealed container in my fridge because I\\'m not sure if I should ask my GP to get it tested or if it\\'s just a blood clot or something. Or a possible miscarriage that didn\\'t come out right away? I haven\\'t had sex in over two weeks, I take the pill religiously and he pulls out.\\n\\n&amp;#x200B;\\n\\nAnyway sorry if there is any confusion, I\\'m not really sure if it\\'s even important but this kind fo thing hasn\\'t happened to me before and I\\'ve been getting my period since I was 14.',\n",
       " \"I desperately need help. I am deteriorating. **- Age:** 18 \\n\\n**- Sex:** Male\\n\\n**- Height:** 6 ft\\n\\n**-Weight:** 147 lb\\n\\n\\\\- **Race:** Caucasian\\n\\n\\\\- **Duration of complaint:** two years and progressing.\\n\\n\\\\- **Location:** Europe\\n\\n\\\\- **Diagnosed:** Raynaud's, Sicca, photosensitivity, rashes. \\n\\n\\\\- **Current medications:** Propranolol 10 mg daily. (Raynauds and photosensitivity started years before.) \\n\\n\\\\- Photos: https://imgur.com\\n\\n&amp;#x200B;\\n\\nDisclaimer: I don't care if I am stressed, depressed, anxious or have an organic disease. I just need answers, clues and help. I want to get better. \\n\\n**Sibling with an autoimmune disease.** \\n\\n&amp;#x200B;\\n\\n2017 FALL:  Mucus starts leaking out of my ass during the day. I develop fissures somewhere in the rectum. I go to the pharmacy for a fissure cream. Lasts for 2 months. Bleeding sometimes with bowel movement. Stomach swells to the size of a balloon sometimes. Waking up at night to screaming abdominal pain. \\n\\n&amp;#x200B;\\n\\n2018 Winter: Couple canker sores in mouth. Daily low grade fevers. I get a panic attack, because of hypnagogia. I get normal again.\\n\\n&amp;#x200B;\\n\\n2018 Summer: Episode lasting two weeks. Loose stool, dilated pupils, intense fear and anxiety, photophobia, sensitivity to  sound. Ends in lowgrade fever and sore throat. I recover like the snap of a finger. \\n\\n&amp;#x200B;\\n\\n2018 Fall: Joint pain in large joints lasting for two months **(no redness).** Rashes that come and go. Allodynia, icepick headaches, lowgrade fever for the majority of three months. Pericarditis like pains. Dry cough. I take magnesium for severe myokymia. Lyme disease ELISA: IgM equivocal and positive IgG= no lyme. Elevated WBC. Things get better. No ANAs. Normal adrenaline and cortisol. \\n\\n&amp;#x200B;\\n\\n2019 winter: I become hypertensive at 150/100. Resting heart rate 100. I get hospitalized in Neurology. \\n\\n\\\\- Very brisk knees. Minor weakness in right leg. \\n\\n\\\\- Positive hoffman's in left arm. \\n\\n\\\\- Get diagnosed with cognitive impairment.\\n\\n\\\\- MRI without contrast shows nonspecific white matter hyperintensities. \\n\\n\\\\- mild Paresthesias. \\n\\n\\\\- Feeling like cement. \\n\\n\\\\- Fatigue. \\n\\n\\\\- Negative borrelia. \\n\\n\\\\- Again elevated WBC. \\n\\n\\\\- Gait: Extension thrust gait. \\n\\n\\\\- Unwanted rapid flexing of the head, arms and legs. \\n\\n\\\\- Poor balance. \\n\\n&amp;#x200B;\\n\\nESR stays normal. TSH normal. B12 normal. \\n\\nMy cognition hasn't improved, but that flare up of symptoms is mostly over.\\n\\nPsychiatrists say I'm not depressed, but I do have anxiety. They don't think this is purely somatization. No one knows what is going on, please give me some clues.\",\n",
       " 'Copper IUD may have shifted during flight.  27 Female, 5\\'4\" 145 lbs, non-smoker on adderall xr 2x daily, and the copper IUD. No pre-existing conditions. \\\\[Cross posted from OBGYN\\\\] \\n\\nSo I got a new partner, who told me right off the bat he’s knocked around IUD’s before. To which I laughed, because I’ve had people tell me that and my IUD has stayed securely in place. We had sex yesterday which made me suspect he did. \\\\[June 12\\\\].\\n\\nToward the end of having sex I felt a snap. I had only felt the sensation once before while doing cardio after just getting the IUD. It didn’t seem incredibly obvious that it shifted or anything. After sex the only thing that tipped me off was my entire belt region \\\\[between my hip bones\\\\] seemed to seize up in massive cramp. This cramp stayed for about 2-3 hours and tapered off toward the end. My right side maintained being sore and cramped though.\\n\\nWhile pacing and talking on the phone yesterday I felt like something was prodding the side that was tender. After that I began bleeding on day 20 of my cycle. The past 3 months my period has been off, its normally between 26-28 days but I\\'ve had 30+ day cycles. I have been trying to get an appointment to actually get on some different birth control but couldn’t get through.\\n\\nThe bleeding intensifies when I move around and if I sit still its not so bad. There’s random soreness on my right side. Normally I’d just go to the ER, but I’ve been there over 6 times for my copper IUD alone since I got it in February of 2018. Each visit takes over 8 hours so it\\'s not something I\\'m overly fond of.\\n\\nRight now I have an appointment for Monday \\\\[6/17\\\\]. I was honestly just curious if there is any actual urgency for me to go to the ER?  Is there anything I should be aware of ? Like reasons to go to the ER? \\n\\n&amp;#x200B;\\n\\nUnder a month ago I took a pregnancy test that came back negative. I could not find the strings, but I may need to double check due to angle.\\n\\nThank you\\n\\n**TL;DR I felt a snap during sex yesterday and then the area between my hips cramped severely for about 2-3 hours. When walking for 20 minutes I felt a prodding on my side and started bleeding \\\\[day 20 of my cycle\\\\]. ** \\n\\n**When should I go to the ER? Can I wait until my Dr Appointment on Monday?**\\n\\nEdit: I can feel one string',\n",
       " \"Foot pain and fatigue Age: 19\\n\\nSex: Female \\n\\nHeight: 4 foot 11\\n\\nWeight: 162lbs(Exercising regularly but struggles with binge eating)\\n\\nRace: Caucasion\\n\\nDuration of complaint: about 3 weeks\\n\\nExisting conditions: Diagnosed with Tourette syndrome, ASD, PMMD, Anxiety disorder NOS, depressive disorder NOS, OCD, excoriation disorder, ADHD, and GERD. \\n\\nMedications: Zyrtec, Guanfacine(2mg), Escitalopram(20mg), Esomeprazole Magnesium(20mg), Melatonin(5mg). \\n\\nLocation: SC, legs, back, head, and skin. \\n\\n My problem started in mid-June. I went on a college orientation and upon arriving experienced muscle pain and stiffness(I had not recently exercised) along with a severe throbbing headache. Two days after this I noticed a spot on on the side of my lower right calf([https://i.postimg.cc](https://i.postimg.cc)). It was not itchy, tender, warm, or painful and it disappeared within a couple of hours. Ever since then I have been extremely fatigued(at one point sleeping 12 hours straight and still being tired), had pain and stiffness in my feet when I first get up, and experienced shooting bilateral pains in my ankles(only when sitting). I've also experienced some lower back pain(something I've never really had before).\\n\\n&amp;#x200B;\",\n",
       " 'Bladder irritation and anxiety after eating 31M, 6\\'2\", 195ibs, caucasian, duration of complaint is 6 weeks.\\n\\n&amp;#x200B;\\n\\nSo I got really sick over the Christmas period. Had all the classic signs of a UTI, then I got a bad flu. Drank way too much alcohol trying to self-medicate to make myself feel better temporarily but it made me feel way worse in the end. I literally felt like I was gonna die on a couple of days.\\n\\nFinished a second course of antibiotics and a course of steroids a few days ago. Feeling a lot better but energy isn’t 100% yet. However, I\\'m limited to eating foods like cheese, ham, bread and chicken or else I start feeling an irritation in my bladder and bowel and start feeling quite anxious. Havent drank any alcohol in 2 weeks but when I did, moreso with spirits, it led to burning diarrhea within about an hour.\\n\\nWhat could actually be wrong here? It\\'s like as if I\\'ve burned my insides or my bowel and bladder are really inflamed or something. Cystitis? Noticing small but very slow improvements.',\n",
       " \"25F Kindey Urine Analysis Help - Urine Creatinine level 2.94 mmol/L & ACR <1.0 mg/mmol - no reference range provided on lab work Hello, 25 Female. North America, Caucasion. Generally healthy. High blood pressure lately (being monitored by me and my doctor). I only have one kidney and having eye issues lately. I got some results back but they don't have a reference range and if I don't need to go to the doctor I don't want to. (High COVID 19 area).\\n\\n **Is this good kidney function?** \\n\\n*Urine Creatinine level: 2.94 mmol/L* \\n\\n*ACR (microalbumin/creatinine ratio): &lt;1.0 mg/mmol*\\n\\n&amp;#x200B;\\n\\nBased on mid stream regular urine sample (not a 24 hour test) \\n\\nBlood pressure yesterday was 126/82 but I read 150/85 today. No difference in time of day, location, exercise etc. for the most part similar conditions. \\n\\n&amp;#x200B;\\n\\nDo I need to seek further help regarding the urine analysis alone? Is this good, fair, poor, urgent? Thank you!\",\n",
       " 'Can Someone Explain these Upper Right Quadrant Ultrasound Results to me? particularly the live and kidney findings. *liver \\n\\n41F, 5\\'5\", 150lbs, white, stomach pain going on 4 months, going for endoscopy next week. Medications: 40mg pantaprazole once daily (first thing in the morning), sucralfate pill 2 hours after the pantaprazole and 1 hour before eating. Primarily GERD diet. No drinking, except occasional sip of hard kombucha once a month or less. No smoking. I do have a medical marijuana prescription for PTSD but I haven\\'t used it in months because I prefer to be clear headed.\\n\\nAn ultrasound of the upper right quadrant was ordered to rule out gallbladder issues. The findings of the gallbladder are normal, I believe. But what concerns me are the 3  hepatic hemangiomata on my liver and the  mild cortical scarring in the midpole the right kidney. The liver hemangiomata were first spotted in 2015 on previous tests.\\n\\nWhat causes these and what do I have to worry about? The doctor\\'s office told me the largest was 6cm when they called me with the results, but this says they are much smaller. Who is right? They said they recommend removing them when they are 5cm or larger and told me to do a follow-up ultrasound in a year.\\n\\nCan these turn into liver cancer?\\n\\nAnd what about the scarring on the kidney?\\n\\nWhat causes all this? What can I do to keep these from becoming problems/cancer, etc?\\n\\nResults pasted below. Thank you kindly for your time.\\n\\n&amp;#x200B;\\n\\n## Study Result\\n\\n## Impression\\n\\n1. 3 hepatic hemangiomata noted, largest measuring approximately 2 cm in the dome of the right lobe of liver, 2 of which are stable from the prior studies.\\n\\nWorkstation performed: PASA18104\\n\\n## Narrative\\n\\nRIGHT UPPER QUADRANT ULTRASOUND\\n\\nINDICATION: K21.9: Gastro-esophageal reflux disease without esophagitis. Right upper quadrant pain\\n\\nCOMPARISON: 8/12/2015; 6/4/2015\\n\\nTECHNIQUE: Real-time ultrasound of the right upper quadrant was performed with a curvilinear transducer with both volumetric sweeps and still imaging techniques.\\n\\nFINDINGS:\\n\\nPANCREAS: Visualized portions of the pancreas are within normal limits.\\n\\nAORTA AND IVC: Visualized portions are normal for patient age.\\n\\nLIVER:Size: Within normal range. The liver measures 14.2 cm in the midclavicular line.Contour: Surface contour is smooth.Parenchyma: Echogenicity and echotexture are within normal limits.There are 3 rounded hyperechoic masses in the right lobe of liver one measuring 1.6 x 1.1 x 1.1 cm on image 24, series 1. More superiorly adjacent to the capsule/dome of the liver is a 1.5 x 2 x 1.4 cm hyperechoic mass on image 31, series 1. A 3rdsmaller 0.7 x 0.8 x 0.6 cm hyperechoic mass is noted more medially in the right lobe of liver, image 36. 2 of these correlate to the previously characterized hemangiomas, stable in appearance when allowing for differences in modality from prior MRI.Limited imaging of the main portal vein shows it to be patent and hepatopetal.\\n\\nBILIARY:No gallbladder findings.No intrahepatic biliary dilatation.CBD measures 1 mm.No choledocholithiasis.\\n\\nKIDNEY:Right kidney measures 10.6 cm.No hydronephrosis. Mild cortical scarring in the midpole the right kidney\\n\\nASCITES: None.\\n\\n&amp;#x200B;\\n\\nHere are the results from 2015, for comparison: \\n\\n MRI OF THE ABDOMEN (LIVER) WITH AND WITHOUT CONTRAST  \\nINDICATION- Liver lesion.  \\nCOMPARISON- Ultrasound 6/30/2015, CT abdomen 6/4/2015  \\nTECHNIQUE- The following pulse sequences were obtained on a 1.5 T  \\nscanner- Coronal and axial T2 with TE of 90 and 180 respectively,  \\naxial T2 with fat saturation, axial FIESTA fat-sat, axial T1-weighted  \\nin-and-out-of phase, pre-contrast axial T1 with fat saturation,  \\npost-contrast dynamic axial T1 with fat saturation at 20, 70, and 180  \\nseconds, followed by coronal and 7 minute delayed axial T1 with fat  \\nsaturation. 10 mL of Gadavist gadolinium was administered  \\nintravenously without immediate complication. Pre- and postcontrast  \\nsubtraction images were also obtained.  \\nFINDINGS-  \\nLIVER-  \\nGeneral- Normal in size and contour. No loss of signal on out-of-phase  \\nimages to suggest hepatic steatosis.  \\nLesions-  \\n2.0 x 0.9 cm subcapsular segment 7 right hepatic lobe nodule nodule  \\nwhich is T1 hypointense and T2 hyperintense.  \\n11 x 9 mm posterior right hepatic lobe segment 6 nodule which is T1  \\nhypointense and T2 hyperintense. Both nodules demonstrate irregular  \\nnodular enhancement on arterial phase imaging and fill in on delayed  \\nimaging in keeping with cavernous hemangiomas.  \\nNo other focal hepatic lesions are seen.  \\nVasculature- Portal and hepatic veins patent without evidence of  \\nthrombosis.  \\nBILIARY TREE- Normal.  \\nGALLBLADDER- Concentrated bile versus sludge. No gallstones.  \\nPANCREAS- Normal.  \\nADRENAL GLANDS- Normal.  \\nSPLEEN- Normal.  \\nKIDNEYS- Normal.  \\nABDOMINAL CAVITY- No lymphadenopathy or ascites.  \\nBOWEL- Unremarkable MRI appearance.  \\nOSSEOUS STRUCTURES- No osseous destruction.  \\nEXTRAHEPATIC VASCULAR STRUCTURES- Visualized vasculature is normal.  \\nABDOMINAL WALL- Mild ventral abdominal wall diastases again seen.  \\nLUNG BASES- Unremarkable MRI appearance.  \\nIMPRESSION-  \\n2 right hepatic lobe cavernous hemangiomas.  \\nTranscribed on- SLT18045RR1M',\n",
       " 'Experience with onboarding 6 friends as new users to Lightning Network via a zoom poker night Onboarded 6 friends as new users to Lightning Network:\\n\\nSent out a call to friend network for a Poker Night using: [https://www.pokernow.club](https://www.pokernow.club)  (everyone loved this site)\\n\\n**Methods:**\\n\\nOnboarding strategy\\n\\nI promised 10,000 satoshis to everyone who played. 10,000 buy in. Winner takes all.\\n\\nI offered iOS links to Breez, and Blue Wallet.\\n\\nPart way though discovered Breez is 0.6GB download.\\n\\nRevised recommendation info had to be sent: Lower security smaller download Blue Wallet, higher security much bigger download Breez (plus still testflight on iOS)\\n\\n**Outcome**: 3 chose Breez, 3 chose Blue Wallet. 1 Breez attempt failure.\\n\\n**Discussion:**\\n\\nComplications\\n\\n1. 1 Breez failure, old phone; struggled with big download/update blockchain.\\n2. My texting abilities were not normal that night due to Tmobile issues.  very slow for me to load someones wallet because i couldn\\'t respond to texts.\\n3. Someone said, why couldn\\'t we just Venmo? I said I don\\'t have Venmo :)\\n4. Settling at end: I told the winner to send out 6 UNIQUE invoices to each of the players to collect her winnings. She wasn\\'t thrilled at the work involved. \\n\\nGood News:\\n\\nI let the losers keep their sats as a consolation prize and paid out the winner directly via an invoice she sent me.\\n\\n**Lessons Learned:**\\n\\nFor onboarding:\\n\\n1. Clarify download size issue with apps in advance. Breez delays in downloading and syncing were a little uncomfortable for new users.\\n2. Have people just directly text me their lightning wallet QR code.  Easier for new users than invoicing.\\n3. Settling at the end:\\n\\nOption 1: Have winner text 10,000 sat Invoice to each player\\n\\nharder, labor intensive, but winner will know who paid up and who didn\\'t \\n\\n&amp;#x200B;\\n\\nFUTURE Option 2: Have winner group text out their unspecified amount QR code\\n\\neasier, but unable to do this with apps currently and no ability for winner to track who is paid up and who is not.\\n\\n&amp;#x200B;\\n\\nEdit: \\n\\nAddendum to Lessons Learned: Breez required 600 satoshis minimum balance, so for onboarding I had to give that much more to those individuals.  \\n\\nAlso Transaction Fees were 15-30x higher on Blue Wallet than Breez. I didn\\'t account for fees when factoring in cost of transaction to settle at the end of the game.  You want to avoid awkward failed transactions because not enough in account or complaints that people didn\\'t \"pay up\" the full amount owed. \\n\\nAlways include 50-100 extra sats for high fees of custodial wallets.']"
      ]
     },
     "execution_count": 191,
     "metadata": {},
     "output_type": "execute_result"
    }
   ],
   "source": [
    "list(has_bullet[\"new_text\"])"
   ]
  },
  {
   "cell_type": "code",
   "execution_count": 179,
   "id": "a58a799d",
   "metadata": {},
   "outputs": [
    {
     "data": {
      "text/plain": [
       "['/r/AskDocs/comments/b89d85/unsure_if_normal_period_discharge/',\n",
       " '/r/AskDocs/comments/bkmsd5/i_desperately_need_help_i_am_deteriorating/',\n",
       " '/r/AskDocs/comments/c0k5f8/copper_iud_may_have_shifted_during_flight/',\n",
       " '/r/AskDocs/comments/cfnds4/foot_pain_and_fatigue/',\n",
       " '/r/AskDocs/comments/eyzk9s/bladder_irritation_and_anxiety_after_eating/',\n",
       " '/r/AskDocs/comments/fwz90h/25f_kindey_urine_analysis_help_urine_creatinine/',\n",
       " '/r/AskDocs/comments/h0xiyb/can_someone_explain_these_upper_right_quadrant/',\n",
       " '/r/Bitcoin/comments/hdxuyc/experience_with_onboarding_6_friends_as_new_users/']"
      ]
     },
     "execution_count": 179,
     "metadata": {},
     "output_type": "execute_result"
    }
   ],
   "source": [
    "list(has_bullet[\"permalink\"])"
   ]
  },
  {
   "cell_type": "code",
   "execution_count": 192,
   "id": "bce8c499",
   "metadata": {},
   "outputs": [],
   "source": [
    "has_st = new_df[[re.search('~', x) is not None for x in new_df[\"new_text\"]]]"
   ]
  },
  {
   "cell_type": "code",
   "execution_count": 193,
   "id": "2757b342",
   "metadata": {},
   "outputs": [
    {
     "name": "stdout",
     "output_type": "stream",
     "text": [
      "10938/378494=2.8898740799061544% of posts have st\n"
     ]
    }
   ],
   "source": [
    "print(\"{}/{}={}% of posts have st\".format(len(has_st), len(new_df), len(has_st)*100/len(new_df)))"
   ]
  },
  {
   "cell_type": "code",
   "execution_count": 194,
   "id": "23f867a3",
   "metadata": {
    "collapsed": true
   },
   "outputs": [
    {
     "data": {
      "text/plain": [
       "['Cramping pain left of belly button for 2 months * Age: 21\\n* Sex: Male\\n* Height: 6\\'1\"\\n* Weight: ~175lbs\\n* Race: Caucasian\\n\\nHey guys, I\\'ve been having some annoying pain for the past couple of months and I\\'m looking for a possible explanation.\\n\\nThe pain is always located in the same place, about an inch to the left of my navel. It\\'s a mild cramping pain, sort of like a backache - more of an inconvenience than anything. It comes and goes at seemingly random times, and it always feels exactly the same. It hasn\\'t gotten any better or worse in the past few months. Although it mostly comes and goes randomly, a bowel movement can sometimes help a little bit, as can stretching. The area in question is a little bit tender when pressing down, but I\\'m not sure how much of that is just because I keep pressing down on it.\\n\\nHere\\'s every other potential problem I can think of: \\n\\n* Although I have at least one bowel movement per day, my stools are usually a little bit on the soft side, sometimes a little flattened (likely due to the softness).\\n* I sometimes get more all-encompassing abdominal pain, or even short bowel spasms. I can sometimes feel pain in my lower left back as well, but this is pretty rare.\\n* Frequent urination, mostly at night. Sometimes I\\'ll seemingly empty my bladder, then a half hour later I\\'ll have to go again, but the second time around my urine looks almost like pure water.\\n* Late at night, I have acid reflux issues. These are alleviated pretty easily by antacids.\\n\\nGoogling for an answer has been pretty useless. It seems like abdominal pain is categorized between the \"upper\" and \"lower\" regions, but my pain is pretty much right in the middle. I\\'ll see a doctor if necessary, but I thought I\\'d get some opinions here first. I just like to know what I might be dealing with before I really have to deal with it.\\n\\nThanks for any help you\\'re able to provide.\\n',\n",
       " 'Question about birth control side effects. Hi, hoping its okay to ask this here. I\\'m a 22 y/o white female (5\\' 9\" and ~160lbs) living in the Chicago suburbs and I\\'ve been on the combination pill (Lutera) for almost 4years. I am not taking any other medications or supplements. Usually my flow lasts for 5 days and is light but definitely noticeable. Over the past 3 or 4 months it has started to lighten significantly. Last time I menstruated for very lightly for 3 days. I know loss of your period is one of the potential side effects of hormonal birth control but I kind of thought that would happen sooner if it was going to happen. \\nI guess my question is: Is it \"normal\" to start losing your period this late into taking combination hormonal birth control or should I set up an appointment to talk to my regular doctor about other possible causes?\\n\\nLet me know if I can answer anymore questions and thank you for your help.\\n\\nTl/Dr: 22 y/o white female experiencing shorter periods after 4 years  on birth control pills wondering if this is \"normal\"\\n\\nNote on Pregnancy: I think it is highly unlikely that I am pregnant since I have no other pregnancy symptoms and my partner and I treat the pill as a back up method, using condoms as our primary source of protection. I am aware that it is still possible and would just like more information before I start jumping to conclusions.',\n",
       " \"Hi. General Medicine/Dermathology maybe. Am I just getting older or what? Male,29,\\n6,01, \\n160,\\nFace,\\nEurope.\\n \\n\\nHey, I was just asking on this reddit because I'm trying to figure out how I should consider all the little symptoms I've been having lately. I don't know what could be relevent or not so I'm puting it all here! (sorry if it's lots of meaningless data).\\n\\nLate 2013, got a really bad sinus infection, never had one before - my face hurt and everything, treated it with antibiotics (diferent types, all perscribed, for the duration the doctors told me for about 2~months I think : although no tests were made before hand, I just described symptoms). Later that year I remember vividly having unusually cold feet, even after covering them up - I only mention it because I thought it very odd at the time.\\nDuring news years eve (2013-2014) more or less I had minor surgery to remove a small cyst I had developed on the eyelid.\\nSometime early last year, after I was already, I think, cured from my sinus infection, I realized my sleeping scheludes went off the hook - I'm talking about waking up at 4:00AM thinking it was time to wake up, only to go back to bed all drowsy. This went on for a month or two maybe. At the same time I developed rhinitis, so the two could be related. I went to a otorhinolaryngologist and did a TAC and the doc said I did have a propensy towards it and I took antihistamines (which I had never taken before in my life) for about 1~2 months.\\nThe rhinitis has been gone for about 9 months now. \\n\\nNow my problems:\\n\\nMy eyecircles, ever since early last year, practically doubled in size and don't seem to abate regartheless of my sleeping schedules.\\nAlso I, in the period of one year, have gone from having a full head of hair, to having severe hair loss, to the point where I am considering having only a very short buzz cut.\\nI've had one medical check up mid june, they required a urine sample and a blood sample. I don't know what the doctors ordered but they all seemed fine. I also tested for the standard STD's and am clean.\\nAh a big one I forgot. I've had psoriasís more or less since I was 15, I treat it usually with cortical steroids applied topically, with much restraint on my part, no more than 3~4 days every time it flares up, which isn't that much. This year however, I realized I have a much more sentive scalp, to the point where it sometimes hurts sleeping on something, so the dermatologist that I go to put me on Psodermil for one month, which just ended.\\n\\nI've also had an acne flare up on my face (never had acne before on my life) since more or less mid last year - initially as a couple of zits that wouldn't go away but then a massive really small zit pattern on my forehead. I took something topical (I don't remember what) and Isotretinoin for 2 months - I discontinued after one month, last friday, because the acne seemed to be gone in like 2 weeks and I was having some nasty headaches, nosebleed and chaffed lips.\\n\\nI'm a generally healthy person but last year was hellish on me - would this all be normal? I'm going back to the dermathologist on monday, mainly because of the hair loss, see if I can fix it. Is this all part of aging or abnormal?\",\n",
       " 'Question about alcohol intolerance and options I\\'m sorry if this isn\\'t the right subreddit. I wasn\\'t sure where to post this question.\\n\\n21F 5\\'4\" ~125lbs Chinese\\n\\nSince the middle of high school I have been unable to drink alcohol without getting sick, including small amounts at family gatherings. I have about half a drink\\'s worth of alcohol and my head hurts to the point where I don\\'t want to get up again for hours. I\\'ve tried beer, wine, hard alcohol, etc. Nothing works. So I\\'ve always just assumed I\\'m alcohol intolerant. I\\'ve heard its a problem not uncommon in Asians. \\n\\nHowever, I\\'ve been drunk once or twice. The time I really remember was when I was younger, about 13 or 14. And it was on Sake. As far as I\\'m aware, I haven\\'t tried Sake since then. I don\\'t know if it was a fluke, if my body wasn\\'t ready to accept I was allergic to alcohol, or if I could drink it because its Asian. \\n\\nDoes anyone have thoughts or input or anything on this? Is there a possibility I can drink only very very specific types of alcohol?\\n\\nAgain, sorry if this is the wrong place to post this.',\n",
       " \"ovarian cysts? I was raped in early september, and in the first week i was in severe pain on the left side of what i would call my uterus(?). It stopped being so severe, it came in waves but still everyday. I went to my gynecologist after about a month, i told her what happened and asked her if she could see if there was any damage. she did an eco during consultation and said everything looked fine, that there didnt seem to be any damage. I had a proper eco later, and all the doctor said is that i have 5 ~3mm cysts, not to be worried because apparently its normal. In the report i also noticed my left ovary is smaller than the right (R 33x20mm L 25x13mm). The tests and everything seemed normal from the reports so i didnt go back to hear what she had to say about them because it was all very invasive for that time in my life, nor can i bear the thought of looking at her any time soon, so im relying just on the fact that there was nothing abnormal in either the eco or bloodwork. The thing is, almost everyday, it still hurts on the left side. Sometimes its so intense i almost cry, can't move and feel like someones ripping out my left ovary. Is this normal with just cysts? And taking into account it started when i was raped, is it possible there was unseen damage? Thank you in advance\\n\\n- 21\\n- Female\\n- 1,70m (google says 5.57742782 feet (5 feet 659⁄64 inches) )\\n- 44kg (97lbs)\\n- Caucasian\\n- 4 months\\n- Left side of uterus, Europe\\n- not relevant, but mitral valve prolapse\\n- Implanon, propranolol 10mg daily, and for the last 2 months have been taking passiflora incarnata for insomnia\"]"
      ]
     },
     "execution_count": 194,
     "metadata": {},
     "output_type": "execute_result"
    }
   ],
   "source": [
    "list(has_st[\"new_text\"][:5])"
   ]
  },
  {
   "cell_type": "code",
   "execution_count": 185,
   "id": "81f92efb",
   "metadata": {
    "scrolled": true
   },
   "outputs": [
    {
     "data": {
      "text/plain": [
       "['/r/AskDocs/comments/2rz5f6/cramping_pain_left_of_belly_button_for_2_months/',\n",
       " '/r/AskDocs/comments/2rytvy/question_about_birth_control_side_effects/',\n",
       " '/r/AskDocs/comments/2ryps0/hi_general_medicinedermathology_maybe_am_i_just/',\n",
       " '/r/AskDocs/comments/2rwelj/question_about_alcohol_intolerance_and_options/',\n",
       " '/r/AskDocs/comments/2rwe5p/ovarian_cysts/']"
      ]
     },
     "execution_count": 185,
     "metadata": {},
     "output_type": "execute_result"
    }
   ],
   "source": [
    "list(has_st[\"permalink\"][:5])"
   ]
  },
  {
   "cell_type": "code",
   "execution_count": 205,
   "id": "d31843e2",
   "metadata": {},
   "outputs": [],
   "source": [
    "has_spoiler = new_df[[re.search(r'!(.*?)!', x) is not None for x in new_df[\"new_text\"]]]"
   ]
  },
  {
   "cell_type": "code",
   "execution_count": 206,
   "id": "305891b8",
   "metadata": {},
   "outputs": [
    {
     "name": "stdout",
     "output_type": "stream",
     "text": [
      "17153/378494=4.531908035530286% of posts have spoiler\n"
     ]
    }
   ],
   "source": [
    "print(\"{}/{}={}% of posts have spoiler\".format(len(has_spoiler), len(new_df), len(has_spoiler)*100/len(new_df)))"
   ]
  },
  {
   "cell_type": "code",
   "execution_count": null,
   "id": "ed9caf65",
   "metadata": {},
   "outputs": [],
   "source": [
    "re.search(r'!(.*?)!', has_spoiler[\"new_text\"].values[0])"
   ]
  },
  {
   "cell_type": "code",
   "execution_count": 207,
   "id": "44539190",
   "metadata": {},
   "outputs": [
    {
     "data": {
      "text/plain": [
       "[\"Body is feeling numb and tingley please help!! Hi, i'd like to first say since new years day Ive been suffering off and on with these symptons. Dizziness/lightheaded, no appetite and everything i do eat makes me feel sick to my stomach, pains in my lower right side of my body usually lasting a few moments only. Always cold, and shivering from pretty uch when I awake until I sleep, unless i start sweating and overheating. My nose hasnt been running, I can barely get any phlem from my throat or nasal, and for about the past 36 hours my body has been  vrry numb and tingley, like im just looking through my eyes but everything ele feels like its not there but I can still move all my body parts. I've slept since feeling numb and tingley but when i awoke the exact feeling is still there. And it makes breathing difficult because It feels like i cant get enough of a breathe feeling numb and tingley Ive been very worried and slightly panicing about it without any sucesss on why its  happening. I went to a clinic and they said I was fine but i definiyely do not feel fine. I have been thinking about calling 911, but with the clinic saying im fine i do not know what too do, please help! \\n20 year old male btw. \",\n",
       " \"A question about oral dicloxacillin absorption I have duodenal ulcers. Some medicines cause me too much discomfort, pain and nausea.  A while ago I discovered I could get enteric-coated capsules.  They are big enough to fit the medicines I find discomforting.  \\n\\nRecently I was prescribed dicloxacillin.  The instructions are : take 4 times a day, 1 hour before food or on an empty stomach.\\n\\nI asked the pharmacist why it had to be on an empty stomach and they really couldn't tell me.  They said food or perhaps acid dilutes the absorption.\\n\\nI tried taking it this way and it was way too painful.  My next solution, because I needed to take it, was to put the tablets in the enteric-coated capsules.  Talking to my hospital pharmacist about this he said:\\n\\n*  No-one seems to know in what part of the gut dicloxacillin is absorbed!!!\\n*  We don't know when, what part of the gut, the enteric-coated capsules dissolve.  \\n\\nIt might be as good as than taking them the recommended way and it might cut down the amount absorbed.\\n\\nI get the enteric-coated capsules from a compounding chemist (pharmacy) in Australia who buy them from a compounding pharmaceuticals supply company called PCCA(?) and apparently the coating is proprietary.  I can't find anything about this supplier or the capsules on line.\\n\\n\\nSo my question is this: does taking dicloxacillin in enteric-coated capsule reduce the absorption and if so by how much?\",\n",
       " \"Fetzima to treat ADD? I'm a 24m, 1st year medical student. Indian, 6'1, 152lbs. I have a hard time focusing when trying to study. I spoke to my doctor about it and he gave me fetzima. When I googled it, it's used to treat Major Depressive Disorder!!\\n\\nIs this the correct medication? I haven't taken it yet.\\n\\nCan anybody give me any suggestions\",\n",
       " \"Sensitive Eyes, Help! Hey, I was at the opticians yesterday, to do an eye test for my learners permit (all good by the way) She noticed my eyes were watery and red and asked what was wrong and I told her that when I'm in the cold outside my eyes water and redden, she said the skin around my eyes is sensitive to the cold. I'm 18, no eye condition or history in my family of eye problems, they've been sensitive for years as I can remember. She told me to put hot compresses on my eyes to clear out any debris, I was wondering if you guys had anything further to add, it's annoying to look like I'm crying after walking outside! Thank you!\",\n",
       " \"Ooo, that smell! Can't you smell that smell?! Well I am just thrilled with this new development in my life. Let me tell you, after you turn 32, it's all down hill from there. \\n\\nAge :32\\nSex  : M\\nHeight : 5'11\\nWeight: 230 lbs\\nRace : italian, puerto rican, french\\nDuration of complaint: few months on and off\\nLocation (Geographic and on body): penis\\nAny existing relevant medical issues (if any) : involuntarily contracting bladder neck (not relevant really. no std's)\\nCurrent medications (if any) : alfuzosin for the bladder neck \\n\\nAnyway, as of late, I've started noticing a fishy aroma coming from my penis. I first noticed this smell after having sex with my wife, but I figured it was just from the juices and I would wake up the next day and shower and go about my day. It seems now though that smell is occurring on its own, and gradually returns after I showered, sex or no sex. I typically shower sometimes daily and sometimes every other day - and when I shower I most certainly always clean my penis. It looks normal (I do not have a foreskin), I have no pain or discomfort and performs its duties as expected. I'm not having issues urinating or ejaculating, and I'm not feeling ill or anything I can think of.\\n\\nIt's just that smell...I cant shake it. I've looked it up online, and I see a variety of issues, most of which point to hygiene or yeast infections. Only really over the last week we realize I have a problem, and I've been trying to fix it, making sure I'm showering every day, and air drying my man bits. My woman says to stop consuming as much sugar as I do (mainly I enjoy cola too much), and that I should buy an anti-fungal cream or athletes foot spray to neutralize the threat. \\n\\nSo that's my story. Any help would be greatly appreciated.\\n\\nCan anyone relate, and if so, does anyone have any remedies?\"]"
      ]
     },
     "execution_count": 207,
     "metadata": {},
     "output_type": "execute_result"
    }
   ],
   "source": [
    "list(has_spoiler[\"new_text\"][:5])"
   ]
  },
  {
   "cell_type": "code",
   "execution_count": 208,
   "id": "d3d02461",
   "metadata": {},
   "outputs": [
    {
     "data": {
      "text/plain": [
       "['/r/AskDocs/comments/2ryaih/body_is_feeling_numb_and_tingley_please_help/',\n",
       " '/r/AskDocs/comments/2rxytu/a_question_about_oral_dicloxacillin_absorption/',\n",
       " '/r/AskDocs/comments/2rwt3e/fetzima_to_treat_add/',\n",
       " '/r/AskDocs/comments/2rskky/sensitive_eyes_help/',\n",
       " '/r/AskDocs/comments/2rpjdi/ooo_that_smell_cant_you_smell_that_smell/']"
      ]
     },
     "execution_count": 208,
     "metadata": {},
     "output_type": "execute_result"
    }
   ],
   "source": [
    "list(has_spoiler[\"permalink\"][:5])"
   ]
  },
  {
   "cell_type": "markdown",
   "id": "498cb34f",
   "metadata": {},
   "source": [
    "## Load Pre-trained Tokenizer"
   ]
  },
  {
   "cell_type": "markdown",
   "id": "e2a2f25b",
   "metadata": {},
   "source": [
    "Confirmed that DistilBertTokenizer and BertTokenizer have same vocab!"
   ]
  },
  {
   "cell_type": "code",
   "execution_count": 22,
   "id": "37e00ac4",
   "metadata": {},
   "outputs": [],
   "source": [
    "from transformers import DistilBertTokenizer, DistilBertModel\n",
    "from transformers import BertTokenizer, BertModel"
   ]
  },
  {
   "cell_type": "code",
   "execution_count": 23,
   "id": "31d15a9e",
   "metadata": {},
   "outputs": [],
   "source": [
    "tokenizer = DistilBertTokenizer.from_pretrained('distilbert-base-uncased')"
   ]
  },
  {
   "cell_type": "code",
   "execution_count": 41,
   "id": "468400dc",
   "metadata": {},
   "outputs": [],
   "source": [
    "def is_ascii(s):\n",
    "    return all(ord(c) < 128 for c in s)"
   ]
  },
  {
   "cell_type": "code",
   "execution_count": 42,
   "id": "8e656078",
   "metadata": {},
   "outputs": [],
   "source": [
    "texts = df[\"text\"].to_numpy()"
   ]
  },
  {
   "cell_type": "code",
   "execution_count": 43,
   "id": "44d41c15",
   "metadata": {},
   "outputs": [
    {
     "name": "stdout",
     "output_type": "stream",
     "text": [
      "i = 3\n",
      "Our mother left her family A public letter to my mother, Bonnie (aka Amber Adams)\n",
      " \n",
      "Dear Mom,\n",
      "\n",
      "Christmas is almost here and all I can think is “I can’t believe we’re celebrating another Christmas without Mom.”  I think the last time I actually saw you was Christmas 2011.  I’ve thought a lot about you over the last year, mostly as I rocked & sang to my daughter.  I sometimes hear your voice singing those same songs to me (she loves “Ants Go Marching” just like I did).  I look at her & think how much you would love her, how much you’re missing.  She’s a lot like me, your youngest daughter, your baby.  I cannot believe that I got pregnant, went through 9 months of pregnancy, gave birth & have had a child of my own for over a year now & you weren’t there for any of it.  That’s when I knew you were really gone, when I found out that you knew I was pregnant & didn’t even attempt to reach out to me.  You have no idea (or maybe you do because you too had your children without your mother around) how much this experience has made me miss you, ache for my own mother now more than ever before.  But you chose a different life, you chose Rising Life (as you now call yourselves) over your family.  You recently wrote a blog including your “story of stepping onto the personal ascension path”.  Well, this is my chance to tell my story of what it was like for me when you stepped onto that path.  Since we have limited ways of communicating with you this was the only way I could think of to make sure you couldn’t ignore me, to make this letter to you public & post it everywhere I can think of, to tell my side of this very painful & private (& somewhat embarrassing) story.  I cannot speak for anyone else.  I don’t know the loved ones of the other people on your team so I make no assumptions about the group or anyone else who is a part of it…this is about you and your family.\n",
      "\n",
      "In 2011 it seemed to us that you started to really drift away (according to your blog, that’s the year you physically connected with “quan yin”).  I was planning a wedding & wondering if my own mother was going to make it.  I was so scared for you & our family that I started doing some research, trying to find other people out there who may have family members involved in the same group that you were involved in.  I reached out on a new age cult website , anonymously, because I didn’t know where else to turn & that’s just how afraid I was for you & our family.  And as it turned out, there were people out there who had bad experiences with the same group.  Well, I guess I didn’t count on this group patrolling the internet for anything with their name in it because I was found out (I guess I wasn’t being as anonymous as I thought).  This was the beginning of the end for me.  This is when I was asked with a threat, albeit vague, of legal action to remove my posts.  I guess something along the lines of “quan yin would hate for you to get dragged into any legal action” isn’t exactly a direct threat but a threat nonetheless.  A day or so later a new message was posted on that anonymous forum from “quan yin” publicly providing my name & state of residence.  When I received that same message in my personal email inbox (therefore confirming that he had somehow gotten a hold of my private email address) and you also supported him on the entire issue I knew that was it.  How could I continue a relationship with someone who, as my mother, was supposed to do all she could to protect me but instead blindly followed someone who threatened her daughter & publicly provided her private information for the world to see?  I could no longer allow you to be in my life as long as you continued to be a part of that group because it was too painful & too dangerous.  I wrote you the last email that I ever sent to you begging you to please seek professional help & telling you that as long as you were affiliated with that group I would consider any more communications from you or them harassment.  I never truly thought that you would abide.  You didn’t totally at first but I stayed strong & never replied to any of your attempts to sweep the whole thing under the rug.  Well the ultimatum backfired because I never really thought that it would actually be goodbye forever.  I mean how could I possibly believe that my own mother would actually willingly walk away from me?  And then cut ties with the rest of her family, including her grandchildren?  It didn’t seem like it was really happening.\n",
      "\n",
      "And now here I am, almost 3 years later with a child of my own wondering what happened, where did my mommy go?  I had an exceptional childhood.  We had wonderful parents who took good care of us.  I had a mother who sang to me every night, did arts & crafts with us, urged me to follow whatever whim I was feeling (piano, violin, soccer, dance, my attempts to save the planet, collect donations for Give A Christmas, etc), who was very involved with my Girl Scouts troop helping sell cookies, going on camping trips, etc.  I look back on my childhood so very fondly & all I can do is thank you because you & dad gave that to me.  And because of that I know the kind of mother that I want to be for my child.  I want to give my child the same wonderful childhood that I had.  However, at the same time, it’s because of you that I know what kind of mother I don’t want to be.  I will never abandon my child, I will never let her feel like she isn’t good enough for me or that she isn’t important enough for me to be in her life.  I will never intentionally leave her when she needs me the most, I will always be there for her no matter what.\n",
      "\n",
      "You’re repeating the cycle you realize.  It may have happened later in life for us but you abandoned us just like your mother abandoned you.  And as I imagine it was for you, it’s so hard because my mother’s not dead.  I know how that must sound but it’s true.  But at least you knew where your mother was.  Before I found the website, we didn’t even know if you were alive or dead or if we’d ever know if you’d fallen ill or passed away.  But, now we know you’re out there somewhere, choosing a life without us & flaunting it all over the internet.  Not only were we never really given a chance to grieve & move on but we are reminded constantly of your choice via the internet.  I’ve never asked them but I’m sure that must be hard for your older granddaughters.  The ones who are on the internet now & who may someday (if they haven’t already) find you out there living your wonderful life full of “love” & “light” & “happiness” without them.  I can’t imagine what it must have been like for them to have such a wonderful loving & devoted Mom Mom in their lives & having her disappear but knowing she’s still alive.  I know they ask why you won't come back and no matter what we say & the oldest cries for you a lot and wishes you hadn't left her.  Thank god for your sister & your ex-boyfriend who have stepped up to the plate & filled the void that you left for them (and for us quite frankly).\n",
      "\n",
      "Anyway, I’m not quite sure what I’m trying to accomplish by writing this to you.  Mostly I just need closure & in my own way this is how to get it, no matter what comes out of this.  Stef & I both often have dreams where we are so angrily screaming & yelling at you & you are still as calm as can be, trying to explain ascension & your lifestyle, why it’s so important & how someday it will all be peace & love.  We both say how incredibly frustrated we are in our dreams because we’re expressing our anger with you so loudly & violently & you have absolutely no reaction to it.  I’m sure that indicates how we feel you don’t seem to care about the pain & hurt that you’ve caused us.  But, I think too it’s our subconscious telling us that the anger will never get us anywhere, that there’s absolutely no point in being so angry because it won’t change anything & will only get us more frustrated & upset in the end.  So, my New Year’s resolution is to work on my anger towards you, to move past the pain & forgive you, and this is my first step in doing that.\n",
      "\n",
      "I guess part of me hopes for a response, part of me hopes you don’t.  Part of me just wants a chance to publicly share my story since you so publicly offer your journey (none of which seems to indicate how incredibly difficult it was to leave your family behind I might add, not sure if that’s because it wasn’t hard for you or because you don’t want people to know the reality of what it might mean to “ascend”).  I’ve been so terrified to share anything publicly because of possible retaliation from your group.  The last time I tried to speak out & find some support for what I was going through I was shut down by the group.  But, if you know me at all you know that I have to share in order to move on.  I know I’d never be able to really heal or relieve some guilt of not trying hard enough unless I had one last ditch effort to communicate with you & plead for you to come home to us.\n",
      "\n",
      "So I beg of you…please, please, please, come home.  We all miss you.  I want you to know my daughter, to be a part of our lives.  I know you think what you’re doing is “the grandest service to others you could ever undertake” but you’ve been on the verge of ascension for years now & every year it’s the same story…”this is a pivotal year for planetary ascension etc etc etc” & every place that you decide to be is “a pivotal place for the work you’re doing etc etc etc”.  Don’t you see that it’s the same thing over & over again year after year?  Nothing ever changes except for some secret invisible thing that apparently only enlightened people can see.  The only thing that is really truly changing is time.  Time is continuing to pass you by & you’re aging & your children & grandchildren are aging & you’re going to realize one day that it’s too late & you missed all of it.  Just because your children are grown, it doesn't mean we don't need our mother.  Children always need their mother, especially daughters & your grandchildren need their Mom Mom.  I know you think that somehow one day when this ascension happens none of that will matter & all will be love & light & peace on earth but when is that supposed to happen?  And what happens if you ascend but your loved ones never do, we just go through our lives in pain & suffering never having the closure you have gotten for yourself?  I understand, it must seem impossible to come home now but the longer you stay away from us the harder it will be to come back.  It’s only been a few years now.  As hard as it might be for everyone we would figure it out together…it’s not too late for you, for us to be a family again, for you to know my daughter & reconnect with your children, grandchildren & the rest of your family.  I’m begging you to please find that tiny part of you that was a mother first, that loved her children (and grandchildren) more than anything & listen to her.  There’s some part of you deep down inside that knows that I might be right.  I know this is all in vain but I have to try.  I know you think you’re doing something that you always thought you were meant to do, something bigger than yourself.  But being a mother & a grandmother is bigger than yourself.  Sacrificing what you think is for the better of the planet because your family needs you is something that’s bigger than yourself.  That itself is actually “the grandest service to others you could ever undertake”.  I’m your daughter, you know me, there’s not an evil, malicious bone in my body…I just love & miss you so very much & I just want my mommy back.  We love you, we miss you, it hurts…please come home. \n",
      "\n",
      "Love,\n",
      "\n",
      "Stacey\n",
      "\n",
      "i = 9\n",
      "Long story about my family. I need advice as I feel my life is stuck in limbo I just need to get some stuff off my chest and i'm in need of some advice. Currently I feel like my life isn't going any places and I need some help. Here's the story put in brief paragraphs.\n",
      "\n",
      "My Mom met my Dad at work. My Dad was married with two kids at the time. Dad and Mom \"fell in love\" whilst father was still married. Dad divorced his Wife at this point roughly.\n",
      "\n",
      "My Mom's Mother didn't approve of my Dad at all. My Dad and Mom had sex on purpose because of this to get pregnant with my now eldest Sister so Mom's Mother had to accept My Dad.\n",
      "\n",
      "My Dad left mostly everything to his Wife and never paid any money towards them after a few months, and moved into a house with my Mom, with my Mom paying for most of the house.\n",
      "\n",
      "My Mom and Dad had me (eldest Son) and then about 350 days later had my younger Sister, who had ulcerative colitis but despite a ton of visits to hospitals/doctors wasn't diagnosed until she was about 7-8 despite starting to go semi-regularly to the hospital at 1-2. She was also diagnosed with ADHD some while later.\n",
      "\n",
      "A short while after my youngest Sister was born, my eldest Sister was pulled from education and we started doing homeschooling.\n",
      "\n",
      "My Mom and Dad tried to have a 4th child but died in her stomach. My Mom said she didn't receive that much support from my Dad at that time. My dad also lost his very high paying job around this time. We used to regularly go to church until this happened as people there, INCLUDING MY DAD said it was \"For the best\" among other things. Safe to say we don't go to church anymore.\n",
      "\n",
      "My Mom finally had her 4th child, my younger Brother. (Born in 2006) Shortly afterward she was playing WoW and got a guy she met online there to come to our house from Slovakia/Slovenia. Lets call him Andrej. She drove Andrej from the airport to her house and made up a story about \"How he couldn't do his exams due to slipping in the bathroom and paralysing him temporarily and how he cant retake them in his country.\" He stayed in our spare room.\n",
      "\n",
      "My Mom cheated with Andrej on the downstairs sofa around early-mid 2007 whilst my Dad was sleeping in the same house. He stayed in the house for about 6 months, oh, and did I mention he was 18 when my mom was 36 at the time? Yeah.... \n",
      "\n",
      "Once Dad found out and got a lot of proof from messenger conversations and looking at them being \"too close in pictures\" among finding out other things my Dad realized what was going on. My Mom quickly rushed Andrej back to the airport and said her last goodbyes.\n",
      "\n",
      "Shortly after my Dad and Mom had a talk about it and my Dad forgave her if she never did it ever again. My Mom started doing it again though and found a 19-23 year old Portuguese guy on WoW. Lets call him Felipe. My Mom met Felipe around 2008. Felipe brought me games quite often and he introduced me to the game that keeps my sanity even to this day.\n",
      "\n",
      "Eventually my Mom and Felipe started talking dirty and doing more beyond that of which I don't know. They knew each other for about 1 1/2 years at this time and my Mom played with Felipe on WoW regularly, playing with each other due to the fact my Dad never played with my Mom. My Dad knew about the 'Dirty Talk' to the fact he was so paranoid about the cheating with Andrej that my Dad put something on her PC before she met Felipe that allowed him to view past conversations on Messenger and the length of Skype calls. My Mom and Felipe kept doing this until very late 2013 - early 2014. Where Felipe went MIA after arguing on skype with my Dad.\n",
      "\n",
      "When my Mom had to take my youngest Sister to the hospital in which she had to be put under anesthetic and have a camera shoved inside her (or something along the lines of) my dad texted my Mom saying not to come home.\n",
      "\n",
      "My Mom was at the hospital with my little Sister for about 2 weeks My Mom had little to no money and only had some food that was given to her at request of my little sister at the hospital.\n",
      "\n",
      "In that two weeks we had the police come over and my Dad brainwashed us about the whole situation and made up a lot of lies. We also had social services come over to check up on us and how we're doing. Because of how it went, if they were to divorce my Dad would be in for a good chance of keeping us. But he told my Mom and said that if they were to divorce he'd change his name and move to another country.\n",
      "\n",
      "My Mom eventually came home and the divorce was cancelled, but things were still bleak. Everything felt like it changed in the way that it was every man for themselves. My Dad begin to hate me and regretted having me and I lost respect for both of my parents in the situation.\n",
      "\n",
      "My Dad wanted to punish me as hard as possible for anything he possibly could and began to ignore me completely. He also blames the game that Felipe told me about for \"Changing my behavior\" and wants to permanently ban me from playing it.\n",
      "\n",
      "It's no CoD, it's not GTA. It's not even 16+. He also takes away my daily pocket money whenever he sees me playing it. We never played together on any game since early 2014. Despite me constantly asking.\n",
      "\n",
      "Around early 2014 my Mom was asked if I wanted to go to the pre-16 college my Sister was going to. I went there and enjoyed my self despite being bullied by a single guy due to my small stature and puberty having a history of taking longer than normal to happen in my family. I didn't mind it though as I made a few friends with it being easier having my elder Sister already being there being in a year ahead of me.\n",
      "\n",
      "Near the end of 2014 though, after an argument about wanting to make my own food due to the fact I felt like I was the worst person in the Cooking course I was doing, my Dad pulled me out of the College. Without even my consent.\n",
      "\n",
      "I lost every single friend I made there except one. I was very quiet and unconfident when I was there and doing this just made me feel like i was caged away from other people and had no confidence in what I ever did except when I was playing games. This got me slightly depressed in the form of having low self-esteem and confidence.\n",
      "\n",
      "They also didn't put any Christmas decorations up this year or even the tree because my Mom and Dad have been too busy playing another MMO together. They don't even bother to homeschool us anymore. Most of my intelligence and my younger brother's intelligence has come from computers and our skill to naturally learn things.\n",
      "\n",
      "We still got presents but it felt so hollow as we didn't do much together except watching a few films every so often and eating Christmas dinner, but even then the air stank of hatred.\n",
      "\n",
      "My younger sister is 13 now and she can't even do basic addition because my Mom and Dad are so lazy. Sometimes I try to help her but she also seems to hate me so I just gave up and kept to myself. Oh, and we also have a £7,000 pound debt that they have to pay off in the summer. \n",
      "\n",
      "Now my days consist of sitting in my room, playing the game Felipe introduced me to. Only really going outside of my room for food and basic bodily functions.\n",
      "\n",
      "I never go outside anymore, neither do I have any sort of talent or skill from my sister and I probably wont get GCSEs. I feel like I have everything a guy my age would want but It feels like I have nothing. No present, no future, no past. And it feels like i'm stuck in limbo with nothing to do or having the confidence to do it. \n",
      "\n",
      "Thank you so much for reading if you got this far.\n",
      "\n",
      "Tl;dr Mum is a slut, Dad is an aggressive dickhead, nearly got divorced, everything feels like it's just downhill from here, family is fucked.\n",
      "\n",
      "\n",
      "\n",
      "\n",
      "\n",
      "\n",
      "\n",
      "\n",
      "\n"
     ]
    }
   ],
   "source": [
    "for i in range(10):\n",
    "    if not is_ascii(texts[i]):\n",
    "        print(\"i = {}\".format(i))\n",
    "        print(texts[i])\n",
    "        print()"
   ]
  },
  {
   "cell_type": "markdown",
   "id": "b8de5015",
   "metadata": {},
   "source": [
    "### Checking how tokenizer handles special chars"
   ]
  },
  {
   "cell_type": "code",
   "execution_count": 199,
   "id": "f925a9cf",
   "metadata": {},
   "outputs": [
    {
     "name": "stdout",
     "output_type": "stream",
     "text": [
      "Staph, impetigo, HSV, armpits, oh my! Age: 24\n",
      "Sex: M\n",
      "Height: 6'1''\n",
      "Weight: 230\n",
      "Race: Caucasian\n",
      "Duration of complaint: 2 weeks\n",
      "Location (Geographic and on body): Pelvis, face, armpit, genitals\n",
      "Current medications (if any): Cephalexin finished today (500mg, 7 days)\n",
      "\n",
      "So my girlfriend and I broke out into this horrible bout of skin lesions and blisters. We went to planned parenthood because we didn't know what it could be, and she said it may have been an STI. We got HIV (1/2, negative), HSV-2 (negative) and the whole suit of \"curable\" things (negative). Her blood tested positive for Staph and my blood tested positive for HSV-1, >1 and &lt;5 igg, and I am confused. The doc there said it is probably impetigo, my doc said it could be herpes or impetigo, dermatologist said it's probably not viral and is probably impetigo or follucitis.\n",
      "\n",
      "I was previously negative and haven't touched anyone but her for the past year. How could that have happened? They said my result indicates an exposure in the last 6 weeks. I've been monogamous for a year!! I'm also a germaphobe and don't touch people or use their things unless I am forced to. I understand it is not a big deal and just a huge unwarranted stigma, but are these test results something to trust 100%? Either way, that's not really my worry.\n",
      "\n",
      "I had lesions and blisters all over my face, all over my pelvis, and had these round \"cuts\" on my genitals. I saw my doctor, he said it was either herpes or impetigo and gave me a week of Cephalexin 500mg that I just finished. Everything cleared up and my genitals got a little better.\n",
      "\n",
      "Today, after everything being mostly cleared up, I found a really large cystic \"zit\" on my armpit, and went to pop it out of compulsion, and it sort of popped backwards (no skin breaking, definitely popped).\n",
      "\n",
      "I noticed another round \"cut\" like the ones I have been getting everywhere on my face today, as well.\n",
      "\n",
      "Could this be HSV-1? (the face) Do I have a severe staph infection? Were the antibiotics not enough?\n",
      "\n",
      "I'm very poor so I am going to monitor the situation and try to avoid the doctors unless it does get any measure of what it was a few weeks ago (lesions on my forearms, pelvis, above lip, nose, lower jaw) then I will see a doctor.\n",
      "\n",
      "Could that armpit cyst have been a staph infection manifestation? Is it just impetigo? Have I just put myself in danger by popping something into my body?\n",
      "\n",
      "I just want to make sure I haven't done anything immediately threatening to my or my girlfriends safety.\n",
      "\n",
      "Also my girlfriend and I abstained from any contact until I finished my antibiotics and she had one day left. Could I have gotten reinfected? I feel like I caught a chest cold or a flu in the past day or two, but that could be me being a completely paranoid ball of anxiety.\n",
      "\n",
      "Thanks for your time.\n"
     ]
    }
   ],
   "source": [
    "test_str = has_spoiler[\"text\"].values[0]\n",
    "print(test_str)"
   ]
  },
  {
   "cell_type": "code",
   "execution_count": 200,
   "id": "9f3d588f",
   "metadata": {},
   "outputs": [
    {
     "name": "stdout",
     "output_type": "stream",
     "text": [
      "[101, 2358, 9331, 2232, 1010, 17727, 20624, 3995, 1010, 26236, 2615, 1010, 2849, 23270, 2015, 1010, 2821, 2026, 999, 2287, 1024, 2484, 3348, 1024, 1049, 4578, 1024, 1020, 1005, 1015, 1005, 1005, 3635, 1024, 11816, 2679, 1024, 23368, 9367, 1997, 12087, 1024, 1016, 3134, 3295, 1006, 9183, 1998, 2006, 2303, 1007, 1024, 21877, 28530, 1010, 2227, 1010, 2849, 23270, 1010, 8991, 18400, 2015, 2783, 20992, 1006, 2065, 2151, 1007, 1024, 8292, 21890, 2571, 20303, 2736, 2651, 1006, 3156, 24798, 1010, 1021, 2420, 1007, 2061, 2026, 6513, 1998, 1045, 3631, 2041, 2046, 2023, 9202, 10094, 1997, 3096, 22520, 1998, 1038, 9863, 2545, 1012, 2057, 2253, 2000, 3740, 6687, 9021, 2138, 2057, 2134, 1005, 1056, 2113, 2054, 2009, 2071, 2022, 1010, 1998, 2016, 2056, 2009, 2089, 2031, 2042, 2019, 2358, 2072, 1012, 2057, 2288, 9820, 1006, 1015, 1013, 1016, 1010, 4997, 1007, 1010, 26236, 2615, 1011, 1016, 1006, 4997, 1007, 1998, 1996, 2878, 4848, 1997, 1000, 12731, 16670, 1000, 2477, 1006, 4997, 1007, 1012, 2014, 2668, 7718, 3893, 2005, 2358, 9331, 2232, 1998, 2026, 2668, 7718, 3893, 2005, 26236, 2615, 1011, 1015, 1010, 1028, 1015, 1998, 1004, 8318, 1025, 1019, 1045, 13871, 1010, 1998, 1045, 2572, 5457, 1012, 1996, 9986, 2045, 2056, 2009, 2003, 2763, 17727, 20624, 3995, 1010, 2026, 9986, 2056, 2009, 2071, 2022, 2014, 10374, 2030, 17727, 20624, 3995, 1010, 4315, 18900, 8662, 2056, 2009, 1005, 1055, 2763, 2025, 13434, 1998, 2003, 2763, 17727, 20624, 3995, 2030, 1042, 14511, 14194, 13706, 1012, 1045, 2001, 3130, 4997, 1998, 4033, 1005, 1056, 5028, 3087, 2021, 2014, 2005, 1996, 2627, 2095, 1012, 2129, 2071, 2008, 2031, 3047, 1029, 2027, 2056, 2026, 2765, 7127, 2019, 7524, 1999, 1996, 2197, 1020, 3134, 1012, 1045, 1005, 2310, 2042, 18847, 22864, 3560, 2005, 1037, 2095, 999, 999, 1045, 1005, 1049, 2036, 1037, 16216, 17830, 8458, 20891, 1998, 2123, 1005, 1056, 3543, 2111, 2030, 2224, 2037, 2477, 4983, 1045, 2572, 3140, 2000, 1012, 1045, 3305, 2009, 2003, 2025, 1037, 2502, 3066, 1998, 2074, 1037, 4121, 4895, 9028, 17884, 2098, 26453, 1010, 2021, 2024, 2122, 3231, 3463, 2242, 2000, 3404, 2531, 1003, 1029, 2593, 2126, 1010, 2008, 1005, 1055, 2025, 2428, 2026, 4737, 1012, 1045, 2018, 22520, 1998, 1038, 9863, 2545, 2035, 2058, 2026, 2227, 1010, 2035, 2058, 2026, 21877, 28530, 1010, 1998, 2018, 2122, 2461, 1000, 7659, 1000, 2006, 2026, 8991, 18400, 2015, 1012, 1045, 2387, 2026, 3460, 1010, 2002, 2056, 2009, 2001, 2593, 2014, 10374, 2030, 17727, 20624, 3995, 1998, 2435, 2033, 1037, 2733, 1997, 8292, 21890, 2571, 20303, 3156, 24798, 2008, 1045, 2074, 2736, 1012, 2673, 5985, 2039, 1998, 2026, 8991, 18400, 2015, 2288, 1037, 2210, 2488, 1012, 2651, 1010, 2044, 2673, 2108, 3262, 5985, 2039, 1010, 1045, 2179, 1037, 2428, 2312, 22330, 10074, 1000, 1062, 4183, 1000, 2006, 2026, 2849, 23270, 1010, 1998, 2253, 2000, 3769, 2009, 2041, 1997, 27638, 1010, 1998, 2009, 4066, 1997, 10538, 11043, 1006, 2053, 3096, 4911, 1010, 5791, 10538, 1007, 1012, 1045, 4384, 2178, 2461, 1000, 3013, 1000, 2066, 1996, 3924, 1045, 2031, 2042, 2893, 7249, 2006, 2026, 2227, 2651, 1010, 2004, 2092, 1012, 2071, 2023, 2022, 26236, 2615, 1011, 1015, 1029, 1006, 1996, 2227, 1007, 2079, 1045, 2031, 1037, 5729, 2358, 9331, 2232, 8985, 1029, 2020, 1996, 24479, 2025, 2438, 1029, 1045, 1005, 1049, 2200, 3532, 2061, 1045, 2572, 2183, 2000, 8080, 1996, 3663, 1998, 3046, 2000, 4468, 1996, 7435, 4983, 2009, 2515, 2131, 2151, 5468, 1997, 2054, 2009, 2001, 1037, 2261, 3134, 3283, 1006, 22520, 2006, 2026, 27323, 1010, 21877, 28530, 1010, 2682, 5423, 1010, 4451, 1010, 2896, 5730, 1007, 2059, 1045, 2097, 2156, 1037, 3460, 1012, 2071, 2008, 2849, 23270, 22330, 3367, 2031, 2042, 1037, 2358, 9331, 2232, 8985, 24491, 1029, 2003, 2009, 2074, 17727, 20624, 3995, 1029, 2031, 1045, 2074, 2404, 2870, 1999, 5473, 2011, 20095, 2242, 2046, 2026, 2303, 1029, 1045, 2074, 2215, 2000, 2191, 2469, 1045, 4033, 1005, 1056, 2589, 2505, 3202, 8701, 2000, 2026, 2030, 2026, 27408, 3808, 1012, 2036, 2026, 6513, 1998, 1045, 14689, 28055, 2013, 2151, 3967, 2127, 1045, 2736, 2026, 24479, 1998, 2016, 2018, 2028, 2154, 2187, 1012, 2071, 1045, 2031, 5407, 27788, 25969, 2098, 1029, 1045, 2514, 2066, 1045, 3236, 1037, 3108, 3147, 2030, 1037, 19857, 1999, 1996, 2627, 2154, 2030, 2048, 1010, 2021, 2008, 2071, 2022, 2033, 2108, 1037, 3294, 19810, 3608, 1997, 10089, 1012, 4283, 2005, 2115, 2051, 1012, 102]\n",
      "['[CLS]', 'st', '##ap', '##h', ',', 'imp', '##eti', '##go', ',', 'hs', '##v', ',', 'arm', '##pit', '##s', ',', 'oh', 'my', '!', 'age', ':', '24', 'sex', ':', 'm', 'height', ':', '6', \"'\", '1', \"'\", \"'\", 'weight', ':', '230', 'race', ':', 'caucasian', 'duration', 'of', 'complaint', ':', '2', 'weeks', 'location', '(', 'geographic', 'and', 'on', 'body', ')', ':', 'pe', '##lvis', ',', 'face', ',', 'arm', '##pit', ',', 'gen', '##ital', '##s', 'current', 'medications', '(', 'if', 'any', ')', ':', 'ce', '##pha', '##le', '##xin', 'finished', 'today', '(', '500', '##mg', ',', '7', 'days', ')', 'so', 'my', 'girlfriend', 'and', 'i', 'broke', 'out', 'into', 'this', 'horrible', 'bout', 'of', 'skin', 'lesions', 'and', 'b', '##list', '##ers', '.', 'we', 'went', 'to', 'planned', 'parent', '##hood', 'because', 'we', 'didn', \"'\", 't', 'know', 'what', 'it', 'could', 'be', ',', 'and', 'she', 'said', 'it', 'may', 'have', 'been', 'an', 'st', '##i', '.', 'we', 'got', 'hiv', '(', '1', '/', '2', ',', 'negative', ')', ',', 'hs', '##v', '-', '2', '(', 'negative', ')', 'and', 'the', 'whole', 'suit', 'of', '\"', 'cu', '##rable', '\"', 'things', '(', 'negative', ')', '.', 'her', 'blood', 'tested', 'positive', 'for', 'st', '##ap', '##h', 'and', 'my', 'blood', 'tested', 'positive', 'for', 'hs', '##v', '-', '1', ',', '>', '1', 'and', '&', 'lt', ';', '5', 'i', '##gg', ',', 'and', 'i', 'am', 'confused', '.', 'the', 'doc', 'there', 'said', 'it', 'is', 'probably', 'imp', '##eti', '##go', ',', 'my', 'doc', 'said', 'it', 'could', 'be', 'her', '##pes', 'or', 'imp', '##eti', '##go', ',', 'der', '##mat', '##ologist', 'said', 'it', \"'\", 's', 'probably', 'not', 'viral', 'and', 'is', 'probably', 'imp', '##eti', '##go', 'or', 'f', '##oll', '##uc', '##itis', '.', 'i', 'was', 'previously', 'negative', 'and', 'haven', \"'\", 't', 'touched', 'anyone', 'but', 'her', 'for', 'the', 'past', 'year', '.', 'how', 'could', 'that', 'have', 'happened', '?', 'they', 'said', 'my', 'result', 'indicates', 'an', 'exposure', 'in', 'the', 'last', '6', 'weeks', '.', 'i', \"'\", 've', 'been', 'mono', '##gam', '##ous', 'for', 'a', 'year', '!', '!', 'i', \"'\", 'm', 'also', 'a', 'ge', '##rma', '##ph', '##obe', 'and', 'don', \"'\", 't', 'touch', 'people', 'or', 'use', 'their', 'things', 'unless', 'i', 'am', 'forced', 'to', '.', 'i', 'understand', 'it', 'is', 'not', 'a', 'big', 'deal', 'and', 'just', 'a', 'huge', 'un', '##war', '##rant', '##ed', 'stigma', ',', 'but', 'are', 'these', 'test', 'results', 'something', 'to', 'trust', '100', '%', '?', 'either', 'way', ',', 'that', \"'\", 's', 'not', 'really', 'my', 'worry', '.', 'i', 'had', 'lesions', 'and', 'b', '##list', '##ers', 'all', 'over', 'my', 'face', ',', 'all', 'over', 'my', 'pe', '##lvis', ',', 'and', 'had', 'these', 'round', '\"', 'cuts', '\"', 'on', 'my', 'gen', '##ital', '##s', '.', 'i', 'saw', 'my', 'doctor', ',', 'he', 'said', 'it', 'was', 'either', 'her', '##pes', 'or', 'imp', '##eti', '##go', 'and', 'gave', 'me', 'a', 'week', 'of', 'ce', '##pha', '##le', '##xin', '500', '##mg', 'that', 'i', 'just', 'finished', '.', 'everything', 'cleared', 'up', 'and', 'my', 'gen', '##ital', '##s', 'got', 'a', 'little', 'better', '.', 'today', ',', 'after', 'everything', 'being', 'mostly', 'cleared', 'up', ',', 'i', 'found', 'a', 'really', 'large', 'cy', '##stic', '\"', 'z', '##it', '\"', 'on', 'my', 'arm', '##pit', ',', 'and', 'went', 'to', 'pop', 'it', 'out', 'of', 'compulsion', ',', 'and', 'it', 'sort', 'of', 'popped', 'backwards', '(', 'no', 'skin', 'breaking', ',', 'definitely', 'popped', ')', '.', 'i', 'noticed', 'another', 'round', '\"', 'cut', '\"', 'like', 'the', 'ones', 'i', 'have', 'been', 'getting', 'everywhere', 'on', 'my', 'face', 'today', ',', 'as', 'well', '.', 'could', 'this', 'be', 'hs', '##v', '-', '1', '?', '(', 'the', 'face', ')', 'do', 'i', 'have', 'a', 'severe', 'st', '##ap', '##h', 'infection', '?', 'were', 'the', 'antibiotics', 'not', 'enough', '?', 'i', \"'\", 'm', 'very', 'poor', 'so', 'i', 'am', 'going', 'to', 'monitor', 'the', 'situation', 'and', 'try', 'to', 'avoid', 'the', 'doctors', 'unless', 'it', 'does', 'get', 'any', 'measure', 'of', 'what', 'it', 'was', 'a', 'few', 'weeks', 'ago', '(', 'lesions', 'on', 'my', 'forearms', ',', 'pe', '##lvis', ',', 'above', 'lip', ',', 'nose', ',', 'lower', 'jaw', ')', 'then', 'i', 'will', 'see', 'a', 'doctor', '.', 'could', 'that', 'arm', '##pit', 'cy', '##st', 'have', 'been', 'a', 'st', '##ap', '##h', 'infection', 'manifestation', '?', 'is', 'it', 'just', 'imp', '##eti', '##go', '?', 'have', 'i', 'just', 'put', 'myself', 'in', 'danger', 'by', 'popping', 'something', 'into', 'my', 'body', '?', 'i', 'just', 'want', 'to', 'make', 'sure', 'i', 'haven', \"'\", 't', 'done', 'anything', 'immediately', 'threatening', 'to', 'my', 'or', 'my', 'girlfriends', 'safety', '.', 'also', 'my', 'girlfriend', 'and', 'i', 'abs', '##tained', 'from', 'any', 'contact', 'until', 'i', 'finished', 'my', 'antibiotics', 'and', 'she', 'had', 'one', 'day', 'left', '.', 'could', 'i', 'have', 'gotten', 'rein', '##fect', '##ed', '?', 'i', 'feel', 'like', 'i', 'caught', 'a', 'chest', 'cold', 'or', 'a', 'flu', 'in', 'the', 'past', 'day', 'or', 'two', ',', 'but', 'that', 'could', 'be', 'me', 'being', 'a', 'completely', 'paranoid', 'ball', 'of', 'anxiety', '.', 'thanks', 'for', 'your', 'time', '.', '[SEP]']\n"
     ]
    }
   ],
   "source": [
    "encoded_str = tokenizer(test_str)\n",
    "print(encoded_str['input_ids'])\n",
    "print(tokenizer.convert_ids_to_tokens(encoded_str['input_ids']))"
   ]
  },
  {
   "cell_type": "code",
   "execution_count": 38,
   "id": "9026e05a",
   "metadata": {},
   "outputs": [
    {
     "name": "stdout",
     "output_type": "stream",
     "text": [
      "[101, 1008, 4931, 2045, 1008, 2016, 2056, 102]\n",
      "['[CLS]', '*', 'hey', 'there', '*', 'she', 'said', '[SEP]']\n"
     ]
    }
   ],
   "source": [
    "encoded_str = tok(test_str)\n",
    "print(encoded_str['input_ids'])\n",
    "print(tok.convert_ids_to_tokens(encoded_str['input_ids']))"
   ]
  }
 ],
 "metadata": {
  "kernelspec": {
   "display_name": "Python 3",
   "language": "python",
   "name": "python3"
  },
  "language_info": {
   "codemirror_mode": {
    "name": "ipython",
    "version": 3
   },
   "file_extension": ".py",
   "mimetype": "text/x-python",
   "name": "python",
   "nbconvert_exporter": "python",
   "pygments_lexer": "ipython3",
   "version": "3.8.10"
  }
 },
 "nbformat": 4,
 "nbformat_minor": 5
}
