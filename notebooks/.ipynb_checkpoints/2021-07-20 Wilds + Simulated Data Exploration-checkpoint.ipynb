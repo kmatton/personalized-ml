{
 "cells": [
  {
   "cell_type": "markdown",
   "id": "ce10436a",
   "metadata": {},
   "source": [
    "## Notes about Amazon product reviews dataset\n",
    "\n",
    "* 539,502 product reviews\n",
    "* 25 product categories\n",
    "* 3,920 users\n",
    "* each user has at least 75 reviews\n",
    "* reviews are from 2000-2021, so can also look at impact of time"
   ]
  },
  {
   "cell_type": "code",
   "execution_count": 23,
   "id": "c072ac88",
   "metadata": {},
   "outputs": [],
   "source": [
    "%load_ext autoreload\n",
    "%autoreload 2"
   ]
  },
  {
   "cell_type": "code",
   "execution_count": 24,
   "id": "f509a366",
   "metadata": {},
   "outputs": [],
   "source": [
    "import numpy as np\n",
    "import pandas as pd\n",
    "import seaborn as sns\n",
    "sns.set_theme()"
   ]
  },
  {
   "cell_type": "markdown",
   "id": "8428e590",
   "metadata": {},
   "source": [
    "### Download dataset and get basic info"
   ]
  },
  {
   "cell_type": "code",
   "execution_count": 1,
   "id": "c59aea02",
   "metadata": {},
   "outputs": [],
   "source": [
    "from wilds import get_dataset"
   ]
  },
  {
   "cell_type": "code",
   "execution_count": 2,
   "id": "59400f82",
   "metadata": {},
   "outputs": [
    {
     "name": "stdout",
     "output_type": "stream",
     "text": [
      "Downloading dataset to data/amazon_v2.0...\n",
      "You can also download the dataset manually at https://wilds.stanford.edu/downloads.\n",
      "Downloading https://worksheets.codalab.org/rest/bundles/0xadbf6198d3a64bdc96fb64d6966b5e79/contents/blob/ to data/amazon_v2.0/archive.tar.gz\n"
     ]
    },
    {
     "data": {
      "application/vnd.jupyter.widget-view+json": {
       "model_id": "14d664c8c36f438e972e8105ab031e26",
       "version_major": 2,
       "version_minor": 0
      },
      "text/plain": [
       "  0%|          | 0/1987523759 [00:00<?, ?Byte/s]"
      ]
     },
     "metadata": {},
     "output_type": "display_data"
    },
    {
     "name": "stdout",
     "output_type": "stream",
     "text": [
      "Extracting data/amazon_v2.0/archive.tar.gz to data/amazon_v2.0\n",
      "It took 8.16 minutes to download and uncompress the dataset.\n"
     ]
    }
   ],
   "source": [
    "dataset = get_dataset(dataset='amazon', download=True)"
   ]
  },
  {
   "cell_type": "code",
   "execution_count": 5,
   "id": "0a557fb5",
   "metadata": {},
   "outputs": [
    {
     "data": {
      "text/plain": [
       "['user', 'product', 'category', 'year', 'y']"
      ]
     },
     "execution_count": 5,
     "metadata": {},
     "output_type": "execute_result"
    }
   ],
   "source": [
    "dataset._metadata_fields"
   ]
  },
  {
   "cell_type": "code",
   "execution_count": 6,
   "id": "18cc5905",
   "metadata": {},
   "outputs": [
    {
     "data": {
      "text/plain": [
       "tensor([[    0,     0,     0,    18,     4],\n",
       "        [ 2204,     0,     0,    17,     4],\n",
       "        [ 2204,     0,     0,    16,     4],\n",
       "        ...,\n",
       "        [ 3320, 89030,    11,    20,     1],\n",
       "        [ 2575, 29864,    11,    21,     4],\n",
       "        [ 3394, 91293,    11,    21,     3]])"
      ]
     },
     "execution_count": 6,
     "metadata": {},
     "output_type": "execute_result"
    }
   ],
   "source": [
    "dataset._metadata_array"
   ]
  },
  {
   "cell_type": "code",
   "execution_count": 22,
   "id": "c255d59f",
   "metadata": {},
   "outputs": [
    {
     "data": {
      "text/plain": [
       "539502"
      ]
     },
     "execution_count": 22,
     "metadata": {},
     "output_type": "execute_result"
    }
   ],
   "source": [
    "len(dataset._input_array)"
   ]
  },
  {
   "cell_type": "code",
   "execution_count": 25,
   "id": "960f0f7c",
   "metadata": {},
   "outputs": [],
   "source": [
    "# plot user counts\n",
    "users = dataset._metadata_array.numpy()[:, 0]\n",
    "users, counts = np.unique(users, return_counts=True)"
   ]
  },
  {
   "cell_type": "code",
   "execution_count": 27,
   "id": "91d839b9",
   "metadata": {},
   "outputs": [
    {
     "name": "stdout",
     "output_type": "stream",
     "text": [
      "75 1340 137.62806122448978 123.91844927092389\n"
     ]
    }
   ],
   "source": [
    "print(min(counts), max(counts), np.mean(counts), np.std(counts))"
   ]
  },
  {
   "cell_type": "code",
   "execution_count": 26,
   "id": "40ca8f76",
   "metadata": {},
   "outputs": [
    {
     "data": {
      "text/plain": [
       "<seaborn.axisgrid.FacetGrid at 0x7f93816d8160>"
      ]
     },
     "execution_count": 26,
     "metadata": {},
     "output_type": "execute_result"
    },
    {
     "data": {
      "image/png": "[encoded data removed]",
      "text/plain": [
       "<Figure size 360x360 with 1 Axes>"
      ]
     },
     "metadata": {},
     "output_type": "display_data"
    }
   ],
   "source": [
    "sns.displot(counts)"
   ]
  },
  {
   "cell_type": "code",
   "execution_count": 30,
   "id": "137d1862",
   "metadata": {},
   "outputs": [
    {
     "data": {
      "text/plain": [
       "{0, 1, 2, 3, 4, 5, 6, 7, 8, 9, 10, 11, 12, 13, 14, 15, 16, 17, 18, 19, 20, 21}"
      ]
     },
     "execution_count": 30,
     "metadata": {},
     "output_type": "execute_result"
    }
   ],
   "source": [
    "set(dataset._metadata_array.numpy()[:, 3])"
   ]
  },
  {
   "cell_type": "markdown",
   "id": "155a7b7d",
   "metadata": {},
   "source": [
    "### Creating Semi-Simulated Data\n",
    "\n",
    "Basic setup:\n",
    "* Start with small vocab (e.g., n=100) and binary classification task (e.g., review is postiive or negative)\n",
    "\n",
    "1. Simulating p($x$)\n",
    "\n",
    "Options for simulating p(x) --> post distributions:\n",
    "(1) Take distributions from actual users or product categories\n",
    "(2) Train topic model and use distributions from learned topics\n",
    "\n",
    "Either way, will likely want to reduce vocab size!\n",
    "\n",
    "Once we have a candidate set of distributions over words, can either have users each associated with a single distribution or have them each associated with a mixture of word distributions, with different mixing proportions.\n",
    "\n",
    "2. Simulating p($y|x$)\n",
    "\n",
    "How to map from $x$ to $y$?\n",
    "\n",
    "Some options:\n",
    "* Associate each n-gram (e.g., unigrams, bigrams, trigrams) with a score. Have p($y = 1$ | $x$) be a linear function of the scores of each n-gram in $x$ (then use sigmoid to get final score).\n",
    "    * For score could use sentiment score returned from sentiment model\n",
    "    \n",
    "    \n",
    "3. Simulating p($y$)\n",
    "\n",
    "We don't really know the direction of the causal process for generating the data, so it's interesting to consider it for both x --> y and y --> x.\n",
    "\n",
    "Here, we can just have each user associated with a different distribution over product reviews.\n",
    "\n",
    "\n",
    "4. Simulating p($x$ | $y$)\n",
    "\n",
    "We can have different distributions p($x$ | $y$ = 1) and p($x$ | $y$ = 0). There can be just one for each or multiple if we want to simulate differences across subjects."
   ]
  },
  {
   "cell_type": "markdown",
   "id": "fa8c2135",
   "metadata": {},
   "source": [
    "### Simulating Different Types of Person Differences\n",
    "\n",
    "1. Co-variate Shift\n",
    "\n",
    "p($x$) is different but the rest of p($x$, $y$) is the same. (i.e., p($y$ | $x$) doesn't change)\n",
    "\n",
    "To implement: each person has different distributions over words that words in each post are sampled from. Function mapping from words in post to review label is the same for all subject.\n",
    "\n",
    "\n",
    "2. Prior Probability Shift\n",
    "\n",
    "p($y$) is different but the rest of p($x$, $y$) is the same. (i.e., p($x$ | $y$) doesn't change)\n",
    "\n",
    "To implement: each subject has a different prior probability of positive review. Given that review is postive (or negative), distribution over words is the same for all subjects.\n",
    "\n",
    "3. Sample Selection Bias\n",
    "\n",
    "There is some variable $v$ that is causally affected by both $x$ and $y$ that influences the probability that the sample is selected and differs across people. (e.g., some users are more likely to publicly post reviews if they perceive that they use postiive language).\n",
    "\n",
    "Graphical model is:\n",
    "x --> y\n",
    "x --> v\n",
    "y --> v\n",
    "\n",
    "Samples are only selected if v = 1.\n",
    "\n",
    "To implement: "
   ]
  }
 ],
 "metadata": {
  "kernelspec": {
   "display_name": "Python 3",
   "language": "python",
   "name": "python3"
  },
  "language_info": {
   "codemirror_mode": {
    "name": "ipython",
    "version": 3
   },
   "file_extension": ".py",
   "mimetype": "text/x-python",
   "name": "python",
   "nbconvert_exporter": "python",
   "pygments_lexer": "ipython3",
   "version": "3.8.10"
  }
 },
 "nbformat": 4,
 "nbformat_minor": 5
}
