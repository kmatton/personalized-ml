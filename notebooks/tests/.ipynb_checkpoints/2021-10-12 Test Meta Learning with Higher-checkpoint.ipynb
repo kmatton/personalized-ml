{
 "cells": [
  {
   "cell_type": "code",
   "execution_count": 2,
   "id": "7c4a6cdc",
   "metadata": {},
   "outputs": [],
   "source": [
    "%load_ext autoreload\n",
    "%autoreload 2"
   ]
  },
  {
   "cell_type": "code",
   "execution_count": 3,
   "id": "e9388aff",
   "metadata": {},
   "outputs": [],
   "source": [
    "import os\n",
    "os.environ[\"CUDA_VISIBLE_DEVICES\"] = \"0,1,2,3\""
   ]
  },
  {
   "cell_type": "code",
   "execution_count": 4,
   "id": "9d9ff366",
   "metadata": {},
   "outputs": [],
   "source": [
    "import torch\n",
    "import torch.nn as nn\n",
    "from torch.utils.data.dataloader import DataLoader\n",
    "import higher"
   ]
  },
  {
   "cell_type": "code",
   "execution_count": 5,
   "id": "743b7d32",
   "metadata": {},
   "outputs": [
    {
     "data": {
      "text/plain": [
       "True"
      ]
     },
     "execution_count": 5,
     "metadata": {},
     "output_type": "execute_result"
    }
   ],
   "source": [
    "torch.cuda.is_available()"
   ]
  },
  {
   "cell_type": "code",
   "execution_count": 6,
   "id": "cca97c38",
   "metadata": {},
   "outputs": [],
   "source": [
    "device = torch.device('cuda')"
   ]
  },
  {
   "cell_type": "code",
   "execution_count": 7,
   "id": "711f688e",
   "metadata": {},
   "outputs": [],
   "source": [
    "input_dim = 10\n",
    "output_dim = 1\n",
    "train_count = 10\n",
    "val_count = 10\n",
    "num_steps = 3"
   ]
  },
  {
   "cell_type": "code",
   "execution_count": 8,
   "id": "56951c8e",
   "metadata": {},
   "outputs": [],
   "source": [
    "# init simple linear model\n",
    "my_model = nn.Sequential(\n",
    "    nn.Linear(input_dim, output_dim),\n",
    ")"
   ]
  },
  {
   "cell_type": "code",
   "execution_count": 9,
   "id": "d6b14ba4",
   "metadata": {},
   "outputs": [],
   "source": [
    "# create train data\n",
    "train_x = torch.rand(train_count, input_dim)\n",
    "temp_y = torch.empty(train_count, output_dim).uniform_(0, 1)\n",
    "train_y = torch.bernoulli(temp_y)\n",
    "\n",
    "# create val data\n",
    "val_x = torch.rand(val_count, input_dim)\n",
    "temp_y = torch.empty(val_count, output_dim).uniform_(0, 1)\n",
    "val_y = torch.bernoulli(temp_y)"
   ]
  },
  {
   "cell_type": "code",
   "execution_count": 10,
   "id": "88d261db",
   "metadata": {},
   "outputs": [],
   "source": [
    "# get data loaders --> NOTE: not using anymore\n",
    "train_dataset = torch.utils.data.TensorDataset(train_x, train_y)\n",
    "train_loader = DataLoader(\n",
    "    dataset=train_dataset,\n",
    "    batch_size=4,\n",
    "    shuffle=False\n",
    ")\n",
    "val_dataset = torch.utils.data.TensorDataset(val_x, val_y)\n",
    "val_loader = DataLoader(\n",
    "    dataset=val_dataset,\n",
    "    batch_size=4,\n",
    "    shuffle=False\n",
    ")"
   ]
  },
  {
   "cell_type": "code",
   "execution_count": 11,
   "id": "32851c46",
   "metadata": {},
   "outputs": [],
   "source": [
    "loss_fn = nn.BCEWithLogitsLoss(reduction='none')"
   ]
  },
  {
   "cell_type": "code",
   "execution_count": 12,
   "id": "8c3133b7",
   "metadata": {},
   "outputs": [],
   "source": [
    "# initialize weights (for now start with sample weights)\n",
    "w = torch.rand((train_count, 1), requires_grad=True)"
   ]
  },
  {
   "cell_type": "code",
   "execution_count": 13,
   "id": "59bb8e2d",
   "metadata": {},
   "outputs": [],
   "source": [
    "meta_opt = torch.optim.SGD([w], lr=1e-2)"
   ]
  },
  {
   "cell_type": "code",
   "execution_count": 15,
   "id": "b828efd6",
   "metadata": {},
   "outputs": [],
   "source": [
    "# meta learning --> just test for one outer loop interation, no model to produce weights\n",
    "opt = torch.optim.SGD(my_model.parameters(), lr=1e-2)\n",
    "meta_opt.zero_grad()\n",
    "with higher.innerloop_ctx(my_model, opt) as (fmodel, diffopt):\n",
    "    # train model\n",
    "    for i in range(num_steps):\n",
    "        logits = fmodel(train_x)\n",
    "        ur_loss = loss_fn(logits, train_y)\n",
    "        loss = (ur_loss * w).sum()\n",
    "        diffopt.step(loss)\n",
    "    # get validation loss\n",
    "    logits = fmodel(val_x)\n",
    "    loss = torch.mean(loss_fn(logits, val_y))\n",
    "    loss.backward()\n",
    "meta_opt.step()"
   ]
  },
  {
   "cell_type": "code",
   "execution_count": null,
   "id": "09d8b9f9",
   "metadata": {},
   "outputs": [],
   "source": []
  },
  {
   "cell_type": "code",
   "execution_count": 17,
   "id": "12906655",
   "metadata": {},
   "outputs": [
    {
     "data": {
      "text/plain": [
       "tensor([[ 0.0031],\n",
       "        [-0.0039],\n",
       "        [-0.0054],\n",
       "        [ 0.0035],\n",
       "        [-0.0043],\n",
       "        [-0.0054],\n",
       "        [-0.0055],\n",
       "        [ 0.0046],\n",
       "        [-0.0049],\n",
       "        [-0.0049]])"
      ]
     },
     "execution_count": 17,
     "metadata": {},
     "output_type": "execute_result"
    }
   ],
   "source": [
    "w.grad"
   ]
  }
 ],
 "metadata": {
  "kernelspec": {
   "display_name": "Python 3",
   "language": "python",
   "name": "python3"
  },
  "language_info": {
   "codemirror_mode": {
    "name": "ipython",
    "version": 3
   },
   "file_extension": ".py",
   "mimetype": "text/x-python",
   "name": "python",
   "nbconvert_exporter": "python",
   "pygments_lexer": "ipython3",
   "version": "3.8.10"
  }
 },
 "nbformat": 4,
 "nbformat_minor": 5
}
