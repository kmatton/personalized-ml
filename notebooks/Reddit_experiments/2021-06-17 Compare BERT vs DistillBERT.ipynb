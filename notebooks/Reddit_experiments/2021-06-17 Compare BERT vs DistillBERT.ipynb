{
 "cells": [
  {
   "cell_type": "code",
   "execution_count": 1,
   "id": "e5dbf427",
   "metadata": {},
   "outputs": [],
   "source": [
    "%load_ext autoreload\n",
    "%autoreload 2"
   ]
  },
  {
   "cell_type": "code",
   "execution_count": 2,
   "id": "e797e2a1",
   "metadata": {},
   "outputs": [],
   "source": [
    "import os\n",
    "import sys\n",
    "sys.path.append(\"../src/\")\n",
    "import json\n",
    "\n",
    "import numpy as np\n",
    "import pandas as pd\n",
    "import math\n",
    "from datasets import Dataset, list_metrics, load_metric\n",
    "from transformers import AutoConfig, AutoTokenizer, AutoModelForMaskedLM, DataCollatorForLanguageModeling, Trainer\n",
    "\n",
    "import matplotlib.pyplot as plt\n",
    "import seaborn as sns\n",
    "sns.set_theme()\n",
    "\n",
    "from results_analysis.analyze_exp_results import ExpAnalyzer"
   ]
  },
  {
   "cell_type": "code",
   "execution_count": 3,
   "id": "46ff2f77",
   "metadata": {},
   "outputs": [],
   "source": [
    "base_result_dir = \"/data/ddmg/redditlanguagemodeling/results/\""
   ]
  },
  {
   "cell_type": "code",
   "execution_count": 7,
   "id": "f8b554ae",
   "metadata": {},
   "outputs": [
    {
     "data": {
      "text/plain": [
       "4.561944444444444"
      ]
     },
     "execution_count": 7,
     "metadata": {},
     "output_type": "execute_result"
    }
   ],
   "source": [
    "16423 / (60*60)"
   ]
  },
  {
   "cell_type": "markdown",
   "id": "46d9b4d7",
   "metadata": {},
   "source": [
    "# Summary of Findings\n",
    "\n",
    "## BERT\n",
    "\n",
    "Resources:\n",
    "* Memory for storing pre-trained model: 421 MB\n",
    "* Memory for storing fine-tuned model + checkpoint: 1.7 GB\n",
    "* Train time: 25987 s = 7.23 hours (fine-tuned)\n",
    "* Eval time: 117 s (pre-trained); 110s (fine-tuned)\n",
    "* Test time: 121 s (pre-trained); 121s (fine-tuned)\n",
    "\n",
    "Performance:\n",
    "* Eval perplexity: 14.7 (pre-trained); 4.88 (fine-tuned)\n",
    "* Test perplexity: 15.2 (pre-trained); 5.05 (fine-tuned)\n",
    "* Test perplexity per subreddit: 14.74 +/- 3.1 (pre-trained); 4.92 +/- 1.2 (fine-tuned)\n",
    "* Test perplexity per author: 18.8 +/- 13.3 (pre-trained); 6.56 +/- 3.9 (fine-tuned)\n",
    "\n",
    "\n",
    "## DistilBERT\n",
    "\n",
    "Resources:\n",
    "* Memory for storing pre-trained model: 257 MB\n",
    "* Memory for storing pre-trained model + checkpoint: 1 GB\n",
    "* Train time: 16423 s = 4.6 hours (fine-tuned)\n",
    "* Eval time: 78 s (pre-trained); 78 s (fine-tuned)\n",
    "* Test time: 78 s (pre-trained); 86 s\n",
    "\n",
    "Performance:\n",
    "* Eval perplexity: 19.21 (pre-trained); 5.97 (fine-tuned)\n",
    "* Test perpleity: 19.6 (pre-trained); 6.07 (fine-tuned)\n",
    "* Test perplexity per subreddit: 18.09 +/- 3.9 (pre-trained)\n",
    "* Test perplexity per author: 23.0 +/- 14.2 (pre-trained)"
   ]
  },
  {
   "cell_type": "markdown",
   "id": "4a7213d3",
   "metadata": {},
   "source": [
    "# Pre-Trained - No Fine-tuning"
   ]
  },
  {
   "cell_type": "markdown",
   "id": "b493e9ec",
   "metadata": {},
   "source": [
    "## BERT"
   ]
  },
  {
   "cell_type": "code",
   "execution_count": 11,
   "id": "252be231",
   "metadata": {},
   "outputs": [],
   "source": [
    "result_dir1 = os.path.join(base_result_dir, \"1_bert_pretrained\")"
   ]
  },
  {
   "cell_type": "code",
   "execution_count": 12,
   "id": "4c43e891",
   "metadata": {},
   "outputs": [],
   "source": [
    "exp_analyzer1 = ExpAnalyzer(result_dir1)"
   ]
  },
  {
   "cell_type": "code",
   "execution_count": 8,
   "id": "ae941b90",
   "metadata": {},
   "outputs": [
    {
     "data": {
      "text/plain": [
       "{'eval_loss': 2.6916542053222656,\n",
       " 'eval_perplexity': 14.75606530411862,\n",
       " 'eval_runtime': 117.3563,\n",
       " 'eval_samples': 7226,\n",
       " 'eval_samples_per_second': 61.573}"
      ]
     },
     "execution_count": 8,
     "metadata": {},
     "output_type": "execute_result"
    }
   ],
   "source": [
    "exp_analyzer1.eval_results"
   ]
  },
  {
   "cell_type": "code",
   "execution_count": 9,
   "id": "8d35471e",
   "metadata": {},
   "outputs": [
    {
     "data": {
      "text/plain": [
       "{'test_loss': 2.7215564250946045,\n",
       " 'test_perplexity': 15.203967675837784,\n",
       " 'test_runtime': 120.5769,\n",
       " 'test_samples': 7884,\n",
       " 'test_samples_per_second': 65.386}"
      ]
     },
     "execution_count": 9,
     "metadata": {},
     "output_type": "execute_result"
    }
   ],
   "source": [
    "exp_analyzer1.test_results"
   ]
  },
  {
   "cell_type": "code",
   "execution_count": 10,
   "id": "8489a807",
   "metadata": {},
   "outputs": [
    {
     "data": {
      "text/html": [
       "<div>\n",
       "<style scoped>\n",
       "    .dataframe tbody tr th:only-of-type {\n",
       "        vertical-align: middle;\n",
       "    }\n",
       "\n",
       "    .dataframe tbody tr th {\n",
       "        vertical-align: top;\n",
       "    }\n",
       "\n",
       "    .dataframe thead th {\n",
       "        text-align: right;\n",
       "    }\n",
       "</style>\n",
       "<table border=\"1\" class=\"dataframe\">\n",
       "  <thead>\n",
       "    <tr style=\"text-align: right;\">\n",
       "      <th></th>\n",
       "      <th>subreddit</th>\n",
       "      <th>loss</th>\n",
       "      <th>perplexity</th>\n",
       "    </tr>\n",
       "  </thead>\n",
       "  <tbody>\n",
       "    <tr>\n",
       "      <th>0</th>\n",
       "      <td>AskDocs</td>\n",
       "      <td>2.801101</td>\n",
       "      <td>16.462758</td>\n",
       "    </tr>\n",
       "    <tr>\n",
       "      <th>1</th>\n",
       "      <td>Bitcoin</td>\n",
       "      <td>2.726657</td>\n",
       "      <td>15.281713</td>\n",
       "    </tr>\n",
       "    <tr>\n",
       "      <th>2</th>\n",
       "      <td>family</td>\n",
       "      <td>2.453645</td>\n",
       "      <td>11.630666</td>\n",
       "    </tr>\n",
       "    <tr>\n",
       "      <th>3</th>\n",
       "      <td>investing</td>\n",
       "      <td>2.748518</td>\n",
       "      <td>15.619470</td>\n",
       "    </tr>\n",
       "    <tr>\n",
       "      <th>4</th>\n",
       "      <td>medical</td>\n",
       "      <td>3.063607</td>\n",
       "      <td>21.404629</td>\n",
       "    </tr>\n",
       "    <tr>\n",
       "      <th>5</th>\n",
       "      <td>mentalhealth</td>\n",
       "      <td>2.660845</td>\n",
       "      <td>14.308375</td>\n",
       "    </tr>\n",
       "    <tr>\n",
       "      <th>6</th>\n",
       "      <td>personalfinance</td>\n",
       "      <td>2.540106</td>\n",
       "      <td>12.681016</td>\n",
       "    </tr>\n",
       "    <tr>\n",
       "      <th>7</th>\n",
       "      <td>relationship_advice</td>\n",
       "      <td>2.670200</td>\n",
       "      <td>14.442859</td>\n",
       "    </tr>\n",
       "    <tr>\n",
       "      <th>8</th>\n",
       "      <td>relationships</td>\n",
       "      <td>2.385309</td>\n",
       "      <td>10.862418</td>\n",
       "    </tr>\n",
       "  </tbody>\n",
       "</table>\n",
       "</div>"
      ],
      "text/plain": [
       "             subreddit      loss  perplexity\n",
       "0              AskDocs  2.801101   16.462758\n",
       "1              Bitcoin  2.726657   15.281713\n",
       "2               family  2.453645   11.630666\n",
       "3            investing  2.748518   15.619470\n",
       "4              medical  3.063607   21.404629\n",
       "5         mentalhealth  2.660845   14.308375\n",
       "6      personalfinance  2.540106   12.681016\n",
       "7  relationship_advice  2.670200   14.442859\n",
       "8        relationships  2.385309   10.862418"
      ]
     },
     "execution_count": 10,
     "metadata": {},
     "output_type": "execute_result"
    }
   ],
   "source": [
    "exp_analyzer1.sr_result_df"
   ]
  },
  {
   "cell_type": "code",
   "execution_count": 13,
   "id": "8cabde3f",
   "metadata": {},
   "outputs": [
    {
     "name": "stdout",
     "output_type": "stream",
     "text": [
      "mean\n",
      "loss           2.672221\n",
      "perplexity    14.743767\n",
      "dtype: float64\n",
      "\n",
      "std\n",
      "loss          0.201947\n",
      "perplexity    3.115878\n",
      "dtype: float64\n"
     ]
    }
   ],
   "source": [
    "print(\"mean\")\n",
    "print(exp_analyzer1.sr_result_df.mean())\n",
    "print(\"\\nstd\")\n",
    "print(exp_analyzer1.sr_result_df.std())"
   ]
  },
  {
   "cell_type": "code",
   "execution_count": 14,
   "id": "c9abbee6",
   "metadata": {},
   "outputs": [
    {
     "name": "stdout",
     "output_type": "stream",
     "text": [
      "mean\n",
      "loss           2.762923\n",
      "perplexity    18.802296\n",
      "dtype: float64\n",
      "\n",
      "std\n",
      "loss           0.564246\n",
      "perplexity    13.278986\n",
      "dtype: float64\n"
     ]
    }
   ],
   "source": [
    "print(\"mean\")\n",
    "print(exp_analyzer1.author_result_df.mean())\n",
    "print(\"\\nstd\")\n",
    "print(exp_analyzer1.author_result_df.std())"
   ]
  },
  {
   "cell_type": "markdown",
   "id": "ed5b0bc4",
   "metadata": {},
   "source": [
    "## DistillBERT"
   ]
  },
  {
   "cell_type": "code",
   "execution_count": 4,
   "id": "596af7d9",
   "metadata": {},
   "outputs": [],
   "source": [
    "result_dir2 = os.path.join(base_result_dir, \"5_bert_distill_pretrained\")"
   ]
  },
  {
   "cell_type": "code",
   "execution_count": 5,
   "id": "96f93fc3",
   "metadata": {},
   "outputs": [],
   "source": [
    "exp_analyzer2 = ExpAnalyzer(result_dir2)"
   ]
  },
  {
   "cell_type": "code",
   "execution_count": 6,
   "id": "78606ca3",
   "metadata": {},
   "outputs": [
    {
     "data": {
      "text/plain": [
       "{'eval_loss': 2.955687999725342,\n",
       " 'eval_perplexity': 19.21493804533937,\n",
       " 'eval_runtime': 77.6626,\n",
       " 'eval_samples': 7226,\n",
       " 'eval_samples_per_second': 93.043,\n",
       " 'eval_time': 77.66602063179016}"
      ]
     },
     "execution_count": 6,
     "metadata": {},
     "output_type": "execute_result"
    }
   ],
   "source": [
    "exp_analyzer2.eval_results"
   ]
  },
  {
   "cell_type": "code",
   "execution_count": 7,
   "id": "98f050a9",
   "metadata": {},
   "outputs": [
    {
     "data": {
      "text/plain": [
       "{'test_loss': 2.9753170013427734,\n",
       " 'test_perplexity': 19.595834170853717,\n",
       " 'test_runtime': 78.5409,\n",
       " 'test_samples': 7884,\n",
       " 'test_samples_per_second': 100.381,\n",
       " 'test_time': 78.54447793960571}"
      ]
     },
     "execution_count": 7,
     "metadata": {},
     "output_type": "execute_result"
    }
   ],
   "source": [
    "exp_analyzer2.test_results"
   ]
  },
  {
   "cell_type": "code",
   "execution_count": 8,
   "id": "db3f7e1f",
   "metadata": {},
   "outputs": [
    {
     "data": {
      "text/html": [
       "<div>\n",
       "<style scoped>\n",
       "    .dataframe tbody tr th:only-of-type {\n",
       "        vertical-align: middle;\n",
       "    }\n",
       "\n",
       "    .dataframe tbody tr th {\n",
       "        vertical-align: top;\n",
       "    }\n",
       "\n",
       "    .dataframe thead th {\n",
       "        text-align: right;\n",
       "    }\n",
       "</style>\n",
       "<table border=\"1\" class=\"dataframe\">\n",
       "  <thead>\n",
       "    <tr style=\"text-align: right;\">\n",
       "      <th></th>\n",
       "      <th>subreddit</th>\n",
       "      <th>loss</th>\n",
       "      <th>perplexity</th>\n",
       "    </tr>\n",
       "  </thead>\n",
       "  <tbody>\n",
       "    <tr>\n",
       "      <th>0</th>\n",
       "      <td>AskDocs</td>\n",
       "      <td>2.937643</td>\n",
       "      <td>18.871315</td>\n",
       "    </tr>\n",
       "    <tr>\n",
       "      <th>1</th>\n",
       "      <td>Bitcoin</td>\n",
       "      <td>3.082758</td>\n",
       "      <td>21.818494</td>\n",
       "    </tr>\n",
       "    <tr>\n",
       "      <th>2</th>\n",
       "      <td>family</td>\n",
       "      <td>2.550174</td>\n",
       "      <td>12.809329</td>\n",
       "    </tr>\n",
       "    <tr>\n",
       "      <th>3</th>\n",
       "      <td>investing</td>\n",
       "      <td>3.011620</td>\n",
       "      <td>20.320298</td>\n",
       "    </tr>\n",
       "    <tr>\n",
       "      <th>4</th>\n",
       "      <td>medical</td>\n",
       "      <td>3.222146</td>\n",
       "      <td>25.081877</td>\n",
       "    </tr>\n",
       "    <tr>\n",
       "      <th>5</th>\n",
       "      <td>mentalhealth</td>\n",
       "      <td>2.685069</td>\n",
       "      <td>14.659207</td>\n",
       "    </tr>\n",
       "    <tr>\n",
       "      <th>6</th>\n",
       "      <td>personalfinance</td>\n",
       "      <td>2.923666</td>\n",
       "      <td>18.609393</td>\n",
       "    </tr>\n",
       "    <tr>\n",
       "      <th>7</th>\n",
       "      <td>relationship_advice</td>\n",
       "      <td>2.775740</td>\n",
       "      <td>16.050502</td>\n",
       "    </tr>\n",
       "    <tr>\n",
       "      <th>8</th>\n",
       "      <td>relationships</td>\n",
       "      <td>2.683210</td>\n",
       "      <td>14.631989</td>\n",
       "    </tr>\n",
       "  </tbody>\n",
       "</table>\n",
       "</div>"
      ],
      "text/plain": [
       "             subreddit      loss  perplexity\n",
       "0              AskDocs  2.937643   18.871315\n",
       "1              Bitcoin  3.082758   21.818494\n",
       "2               family  2.550174   12.809329\n",
       "3            investing  3.011620   20.320298\n",
       "4              medical  3.222146   25.081877\n",
       "5         mentalhealth  2.685069   14.659207\n",
       "6      personalfinance  2.923666   18.609393\n",
       "7  relationship_advice  2.775740   16.050502\n",
       "8        relationships  2.683210   14.631989"
      ]
     },
     "execution_count": 8,
     "metadata": {},
     "output_type": "execute_result"
    }
   ],
   "source": [
    "exp_analyzer2.sr_result_df"
   ]
  },
  {
   "cell_type": "code",
   "execution_count": 9,
   "id": "c67517bf",
   "metadata": {},
   "outputs": [
    {
     "name": "stdout",
     "output_type": "stream",
     "text": [
      "mean\n",
      "loss           2.874670\n",
      "perplexity    18.094712\n",
      "dtype: float64\n",
      "\n",
      "std\n",
      "loss          0.217040\n",
      "perplexity    3.943594\n",
      "dtype: float64\n"
     ]
    }
   ],
   "source": [
    "print(\"mean\")\n",
    "print(exp_analyzer2.sr_result_df.mean())\n",
    "print(\"\\nstd\")\n",
    "print(exp_analyzer2.sr_result_df.std())"
   ]
  },
  {
   "cell_type": "code",
   "execution_count": 10,
   "id": "b303a172",
   "metadata": {},
   "outputs": [
    {
     "name": "stdout",
     "output_type": "stream",
     "text": [
      "mean\n",
      "loss           3.007019\n",
      "perplexity    22.996273\n",
      "dtype: float64\n",
      "\n",
      "std\n",
      "loss           0.481862\n",
      "perplexity    14.204621\n",
      "dtype: float64\n"
     ]
    }
   ],
   "source": [
    "print(\"mean\")\n",
    "print(exp_analyzer2.author_result_df.mean())\n",
    "print(\"\\nstd\")\n",
    "print(exp_analyzer2.author_result_df.std())"
   ]
  },
  {
   "cell_type": "markdown",
   "id": "6bd25e5e",
   "metadata": {},
   "source": [
    "### Compare plots"
   ]
  },
  {
   "cell_type": "code",
   "execution_count": 13,
   "id": "140c747c",
   "metadata": {},
   "outputs": [
    {
     "data": {
      "image/png": "[encoded data removed]",
      "text/plain": [
       "<Figure size 576x288 with 1 Axes>"
      ]
     },
     "metadata": {},
     "output_type": "display_data"
    },
    {
     "data": {
      "text/plain": [
       "<Figure size 432x288 with 0 Axes>"
      ]
     },
     "metadata": {},
     "output_type": "display_data"
    }
   ],
   "source": [
    "exp_analyzer1.plot_perf_by_subreddit(\"perplexity\")"
   ]
  },
  {
   "cell_type": "code",
   "execution_count": 14,
   "id": "5a349249",
   "metadata": {},
   "outputs": [
    {
     "data": {
      "image/png": "[encoded data removed]",
      "text/plain": [
       "<Figure size 576x288 with 1 Axes>"
      ]
     },
     "metadata": {},
     "output_type": "display_data"
    },
    {
     "data": {
      "text/plain": [
       "<Figure size 432x288 with 0 Axes>"
      ]
     },
     "metadata": {},
     "output_type": "display_data"
    }
   ],
   "source": [
    "exp_analyzer2.plot_perf_by_subreddit(\"perplexity\")"
   ]
  },
  {
   "cell_type": "markdown",
   "id": "b9d01c91",
   "metadata": {},
   "source": [
    "## With fine-tuning"
   ]
  },
  {
   "cell_type": "markdown",
   "id": "3e20d437",
   "metadata": {},
   "source": [
    "## BERT"
   ]
  },
  {
   "cell_type": "code",
   "execution_count": 4,
   "id": "d87d86da",
   "metadata": {},
   "outputs": [],
   "source": [
    "result_dir3 = os.path.join(base_result_dir, \"2_bert_finetuned_all\")"
   ]
  },
  {
   "cell_type": "code",
   "execution_count": 5,
   "id": "776abf72",
   "metadata": {},
   "outputs": [],
   "source": [
    "exp_analyzer3 = ExpAnalyzer(result_dir3)"
   ]
  },
  {
   "cell_type": "code",
   "execution_count": 6,
   "id": "75233314",
   "metadata": {},
   "outputs": [
    {
     "data": {
      "text/plain": [
       "25986.8873"
      ]
     },
     "execution_count": 6,
     "metadata": {},
     "output_type": "execute_result"
    }
   ],
   "source": [
    "exp_analyzer3.trainer_state['log_history'][-1]['train_runtime']"
   ]
  },
  {
   "cell_type": "code",
   "execution_count": 18,
   "id": "ab8ef3cb",
   "metadata": {},
   "outputs": [
    {
     "data": {
      "text/plain": [
       "{'epoch': 0.46,\n",
       " 'eval_loss': 1.5852924585342407,\n",
       " 'eval_perplexity': 4.8807185776055295,\n",
       " 'eval_runtime': 109.687,\n",
       " 'eval_samples': 7226,\n",
       " 'eval_samples_per_second': 65.878}"
      ]
     },
     "execution_count": 18,
     "metadata": {},
     "output_type": "execute_result"
    }
   ],
   "source": [
    "exp_analyzer3.eval_results"
   ]
  },
  {
   "cell_type": "code",
   "execution_count": 19,
   "id": "ec8c827d",
   "metadata": {},
   "outputs": [
    {
     "data": {
      "text/plain": [
       "{'epoch': 0.46,\n",
       " 'test_loss': 1.619855284690857,\n",
       " 'test_perplexity': 5.0523591099462495,\n",
       " 'test_runtime': 120.7802,\n",
       " 'test_samples': 7884,\n",
       " 'test_samples_per_second': 65.276}"
      ]
     },
     "execution_count": 19,
     "metadata": {},
     "output_type": "execute_result"
    }
   ],
   "source": [
    "exp_analyzer3.test_results"
   ]
  },
  {
   "cell_type": "code",
   "execution_count": 20,
   "id": "08dbe7e3",
   "metadata": {},
   "outputs": [
    {
     "data": {
      "text/html": [
       "<div>\n",
       "<style scoped>\n",
       "    .dataframe tbody tr th:only-of-type {\n",
       "        vertical-align: middle;\n",
       "    }\n",
       "\n",
       "    .dataframe tbody tr th {\n",
       "        vertical-align: top;\n",
       "    }\n",
       "\n",
       "    .dataframe thead th {\n",
       "        text-align: right;\n",
       "    }\n",
       "</style>\n",
       "<table border=\"1\" class=\"dataframe\">\n",
       "  <thead>\n",
       "    <tr style=\"text-align: right;\">\n",
       "      <th></th>\n",
       "      <th>subreddit</th>\n",
       "      <th>loss</th>\n",
       "      <th>perplexity</th>\n",
       "    </tr>\n",
       "  </thead>\n",
       "  <tbody>\n",
       "    <tr>\n",
       "      <th>0</th>\n",
       "      <td>AskDocs</td>\n",
       "      <td>1.520442</td>\n",
       "      <td>4.574244</td>\n",
       "    </tr>\n",
       "    <tr>\n",
       "      <th>1</th>\n",
       "      <td>Bitcoin</td>\n",
       "      <td>1.847334</td>\n",
       "      <td>6.342889</td>\n",
       "    </tr>\n",
       "    <tr>\n",
       "      <th>2</th>\n",
       "      <td>family</td>\n",
       "      <td>1.488848</td>\n",
       "      <td>4.431989</td>\n",
       "    </tr>\n",
       "    <tr>\n",
       "      <th>3</th>\n",
       "      <td>investing</td>\n",
       "      <td>1.341149</td>\n",
       "      <td>3.823435</td>\n",
       "    </tr>\n",
       "    <tr>\n",
       "      <th>4</th>\n",
       "      <td>medical</td>\n",
       "      <td>2.003002</td>\n",
       "      <td>7.411274</td>\n",
       "    </tr>\n",
       "    <tr>\n",
       "      <th>5</th>\n",
       "      <td>mentalhealth</td>\n",
       "      <td>1.569690</td>\n",
       "      <td>4.805158</td>\n",
       "    </tr>\n",
       "    <tr>\n",
       "      <th>6</th>\n",
       "      <td>personalfinance</td>\n",
       "      <td>1.631887</td>\n",
       "      <td>5.113514</td>\n",
       "    </tr>\n",
       "    <tr>\n",
       "      <th>7</th>\n",
       "      <td>relationship_advice</td>\n",
       "      <td>1.395025</td>\n",
       "      <td>4.035074</td>\n",
       "    </tr>\n",
       "    <tr>\n",
       "      <th>8</th>\n",
       "      <td>relationships</td>\n",
       "      <td>1.329563</td>\n",
       "      <td>3.779390</td>\n",
       "    </tr>\n",
       "  </tbody>\n",
       "</table>\n",
       "</div>"
      ],
      "text/plain": [
       "             subreddit      loss  perplexity\n",
       "0              AskDocs  1.520442    4.574244\n",
       "1              Bitcoin  1.847334    6.342889\n",
       "2               family  1.488848    4.431989\n",
       "3            investing  1.341149    3.823435\n",
       "4              medical  2.003002    7.411274\n",
       "5         mentalhealth  1.569690    4.805158\n",
       "6      personalfinance  1.631887    5.113514\n",
       "7  relationship_advice  1.395025    4.035074\n",
       "8        relationships  1.329563    3.779390"
      ]
     },
     "execution_count": 20,
     "metadata": {},
     "output_type": "execute_result"
    }
   ],
   "source": [
    "exp_analyzer3.sr_result_df"
   ]
  },
  {
   "cell_type": "code",
   "execution_count": 21,
   "id": "5885bb97",
   "metadata": {},
   "outputs": [
    {
     "name": "stdout",
     "output_type": "stream",
     "text": [
      "mean\n",
      "loss          1.569660\n",
      "perplexity    4.924108\n",
      "dtype: float64\n",
      "\n",
      "std\n",
      "loss          0.228603\n",
      "perplexity    1.220952\n",
      "dtype: float64\n"
     ]
    }
   ],
   "source": [
    "print(\"mean\")\n",
    "print(exp_analyzer3.sr_result_df.mean())\n",
    "print(\"\\nstd\")\n",
    "print(exp_analyzer3.sr_result_df.std())"
   ]
  },
  {
   "cell_type": "code",
   "execution_count": 22,
   "id": "56cd67af",
   "metadata": {},
   "outputs": [
    {
     "name": "stdout",
     "output_type": "stream",
     "text": [
      "mean\n",
      "loss          1.758243\n",
      "perplexity    6.563281\n",
      "dtype: float64\n",
      "\n",
      "std\n",
      "loss          0.472632\n",
      "perplexity    3.925941\n",
      "dtype: float64\n"
     ]
    }
   ],
   "source": [
    "print(\"mean\")\n",
    "print(exp_analyzer3.author_result_df.mean())\n",
    "print(\"\\nstd\")\n",
    "print(exp_analyzer3.author_result_df.std())"
   ]
  },
  {
   "cell_type": "markdown",
   "id": "f02b3507",
   "metadata": {},
   "source": [
    "## DistilBERT"
   ]
  },
  {
   "cell_type": "code",
   "execution_count": 4,
   "id": "96400ca7",
   "metadata": {},
   "outputs": [],
   "source": [
    "result_dir4 = os.path.join(base_result_dir, \"6_distilbert_finetuned_all\")"
   ]
  },
  {
   "cell_type": "code",
   "execution_count": 5,
   "id": "6eacc053",
   "metadata": {},
   "outputs": [],
   "source": [
    "exp_analyzer4 = ExpAnalyzer(result_dir4)"
   ]
  },
  {
   "cell_type": "code",
   "execution_count": 6,
   "id": "dd51ea9e",
   "metadata": {},
   "outputs": [
    {
     "data": {
      "text/plain": [
       "16423.2723"
      ]
     },
     "execution_count": 6,
     "metadata": {},
     "output_type": "execute_result"
    }
   ],
   "source": [
    "exp_analyzer4.trainer_state['log_history'][-1]['train_runtime']"
   ]
  },
  {
   "cell_type": "code",
   "execution_count": 8,
   "id": "033ddb44",
   "metadata": {},
   "outputs": [
    {
     "data": {
      "text/plain": [
       "{'epoch': 0.43,\n",
       " 'eval_loss': 1.7871166467666626,\n",
       " 'eval_perplexity': 5.97220763266917,\n",
       " 'eval_runtime': 78.6082,\n",
       " 'eval_samples': 7226,\n",
       " 'eval_samples_per_second': 91.924,\n",
       " 'eval_time': 78.61141443252563}"
      ]
     },
     "execution_count": 8,
     "metadata": {},
     "output_type": "execute_result"
    }
   ],
   "source": [
    "exp_analyzer4.eval_results"
   ]
  },
  {
   "cell_type": "code",
   "execution_count": 9,
   "id": "9a961ee0",
   "metadata": {},
   "outputs": [
    {
     "data": {
      "text/plain": [
       "{'epoch': 0.43,\n",
       " 'test_loss': 1.8038398027420044,\n",
       " 'test_perplexity': 6.072921572731149,\n",
       " 'test_runtime': 85.8863,\n",
       " 'test_samples': 7884,\n",
       " 'test_samples_per_second': 91.796,\n",
       " 'test_time': 85.88980984687805}"
      ]
     },
     "execution_count": 9,
     "metadata": {},
     "output_type": "execute_result"
    }
   ],
   "source": [
    "exp_analyzer4.test_results"
   ]
  }
 ],
 "metadata": {
  "kernelspec": {
   "display_name": "Python 3",
   "language": "python",
   "name": "python3"
  },
  "language_info": {
   "codemirror_mode": {
    "name": "ipython",
    "version": 3
   },
   "file_extension": ".py",
   "mimetype": "text/x-python",
   "name": "python",
   "nbconvert_exporter": "python",
   "pygments_lexer": "ipython3",
   "version": "3.8.10"
  }
 },
 "nbformat": 4,
 "nbformat_minor": 5
}
