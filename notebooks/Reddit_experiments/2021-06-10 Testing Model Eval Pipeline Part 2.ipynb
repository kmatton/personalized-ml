{
 "cells": [
  {
   "cell_type": "code",
   "execution_count": 1,
   "id": "a2ee401d",
   "metadata": {},
   "outputs": [],
   "source": [
    "%load_ext autoreload\n",
    "%autoreload 2"
   ]
  },
  {
   "cell_type": "code",
   "execution_count": 2,
   "id": "249b134c",
   "metadata": {},
   "outputs": [
    {
     "name": "stdout",
     "output_type": "stream",
     "text": [
      "Using GPU:0,1,2,3\n"
     ]
    }
   ],
   "source": [
    "import os\n",
    "import sys\n",
    "sys.path.append(\"../src/\")\n",
    "import json\n",
    "\n",
    "from transformers import HfArgumentParser, TrainingArguments\n",
    "\n",
    "from argument_parsing.model_args import ModelArguments\n",
    "from argument_parsing.data_args import DataArguments\n",
    "from argument_parsing.experiment_args import ExperimentArguments\n",
    "from runners.run_mlm_exp import ExpRunner"
   ]
  },
  {
   "cell_type": "code",
   "execution_count": 3,
   "id": "8aa59724",
   "metadata": {},
   "outputs": [
    {
     "data": {
      "text/plain": [
       "True"
      ]
     },
     "execution_count": 3,
     "metadata": {},
     "output_type": "execute_result"
    }
   ],
   "source": [
    "import torch\n",
    "torch.cuda.is_available()"
   ]
  },
  {
   "cell_type": "code",
   "execution_count": 4,
   "id": "6a96af6c",
   "metadata": {},
   "outputs": [],
   "source": [
    "args_file = \"/data/ddmg/personalizedmentalhealth/reddit_project/reddit-personalized-lm/src/argument_configs/debug.json\""
   ]
  },
  {
   "cell_type": "code",
   "execution_count": 5,
   "id": "be22e51e",
   "metadata": {},
   "outputs": [],
   "source": [
    "args = json.load(open(args_file, 'rb'))"
   ]
  },
  {
   "cell_type": "code",
   "execution_count": 6,
   "id": "610ea711",
   "metadata": {},
   "outputs": [
    {
     "data": {
      "text/plain": [
       "{'model_name_or_path': 'bert-base-uncased',\n",
       " 'config_name_or_path': 'bert-base-uncased',\n",
       " 'tokenizer_name': 'bert-base-uncased',\n",
       " 'cache_dir': '/data/ddmg/personalizedmentalhealth/reddit_project/cached_models',\n",
       " 'dataset_files': ['/data/ddmg/personalizedmentalhealth/reddit_project/data/4_all_data.csv'],\n",
       " 'output_dir': '/data/ddmg/personalizedmentalhealth/reddit_project/results/2_bert_finetuned',\n",
       " 'do_train': True,\n",
       " 'do_eval': True,\n",
       " 'save_total_limit': 5,\n",
       " 'max_train_samples': 100,\n",
       " 'max_eval_samples': 100}"
      ]
     },
     "execution_count": 6,
     "metadata": {},
     "output_type": "execute_result"
    }
   ],
   "source": [
    "args"
   ]
  },
  {
   "cell_type": "code",
   "execution_count": 7,
   "id": "8fd05fec",
   "metadata": {},
   "outputs": [],
   "source": [
    "parser = HfArgumentParser((ModelArguments, DataArguments, TrainingArguments))"
   ]
  },
  {
   "cell_type": "code",
   "execution_count": 8,
   "id": "ca88dd04",
   "metadata": {},
   "outputs": [],
   "source": [
    "model_args, data_args, training_args = parser.parse_json_file(args_file)"
   ]
  },
  {
   "cell_type": "code",
   "execution_count": 9,
   "id": "7bec69bf",
   "metadata": {},
   "outputs": [
    {
     "data": {
      "text/plain": [
       "ModelArguments(model_name_or_path='bert-base-uncased', config_name_or_path='bert-base-uncased', tokenizer_name='bert-base-uncased', cache_dir='/data/ddmg/personalizedmentalhealth/reddit_project/cached_models')"
      ]
     },
     "execution_count": 9,
     "metadata": {},
     "output_type": "execute_result"
    }
   ],
   "source": [
    "model_args"
   ]
  },
  {
   "cell_type": "code",
   "execution_count": 10,
   "id": "18962829",
   "metadata": {},
   "outputs": [
    {
     "data": {
      "text/plain": [
       "DataArguments(dataset_files=['/data/ddmg/personalizedmentalhealth/reddit_project/data/4_all_data.csv'], preprocessing_num_workers=None, mlm_probability=0.15, max_train_samples=100, max_eval_samples=100, eval_data_split='val')"
      ]
     },
     "execution_count": 10,
     "metadata": {},
     "output_type": "execute_result"
    }
   ],
   "source": [
    "data_args"
   ]
  },
  {
   "cell_type": "code",
   "execution_count": 11,
   "id": "64cae433",
   "metadata": {
    "scrolled": true
   },
   "outputs": [
    {
     "name": "stderr",
     "output_type": "stream",
     "text": [
      "Some weights of the model checkpoint at bert-base-uncased were not used when initializing BertForMaskedLM: ['cls.seq_relationship.bias', 'cls.seq_relationship.weight']\n",
      "- This IS expected if you are initializing BertForMaskedLM from the checkpoint of a model trained on another task or with another architecture (e.g. initializing a BertForSequenceClassification model from a BertForPreTraining model).\n",
      "- This IS NOT expected if you are initializing BertForMaskedLM from the checkpoint of a model that you expect to be exactly identical (initializing a BertForSequenceClassification model from a BertForSequenceClassification model).\n"
     ]
    },
    {
     "name": "stdout",
     "output_type": "stream",
     "text": [
      "preparing train data\n"
     ]
    },
    {
     "data": {
      "application/vnd.jupyter.widget-view+json": {
       "model_id": "063cf9acfdd34b469d85fca2e9c3c0a1",
       "version_major": 2,
       "version_minor": 0
      },
      "text/plain": [
       "HBox(children=(FloatProgress(value=0.0, max=1.0), HTML(value='')))"
      ]
     },
     "metadata": {},
     "output_type": "display_data"
    },
    {
     "name": "stdout",
     "output_type": "stream",
     "text": [
      "\n",
      "preparing eval data\n"
     ]
    },
    {
     "data": {
      "application/vnd.jupyter.widget-view+json": {
       "model_id": "fe89cb7c3ba14866b01db35ad2c781e7",
       "version_major": 2,
       "version_minor": 0
      },
      "text/plain": [
       "HBox(children=(FloatProgress(value=0.0, max=1.0), HTML(value='')))"
      ]
     },
     "metadata": {},
     "output_type": "display_data"
    },
    {
     "name": "stdout",
     "output_type": "stream",
     "text": [
      "\n"
     ]
    }
   ],
   "source": [
    "exp_runner = ExpRunner(model_args, data_args, training_args)"
   ]
  },
  {
   "cell_type": "code",
   "execution_count": 18,
   "id": "208cca07",
   "metadata": {},
   "outputs": [
    {
     "name": "stdout",
     "output_type": "stream",
     "text": [
      "Starting model evaluation.\n"
     ]
    },
    {
     "data": {
      "text/html": [
       "\n",
       "    <div>\n",
       "      \n",
       "      <progress value='226' max='226' style='width:300px; height:20px; vertical-align: middle;'></progress>\n",
       "      [226/226 01:33]\n",
       "    </div>\n",
       "    "
      ],
      "text/plain": [
       "<IPython.core.display.HTML object>"
      ]
     },
     "metadata": {},
     "output_type": "display_data"
    }
   ],
   "source": [
    "exp_runner.run()"
   ]
  },
  {
   "cell_type": "code",
   "execution_count": null,
   "id": "74e26b4e",
   "metadata": {},
   "outputs": [],
   "source": [
    "exp_runner.train"
   ]
  }
 ],
 "metadata": {
  "kernelspec": {
   "display_name": "Python 3",
   "language": "python",
   "name": "python3"
  },
  "language_info": {
   "codemirror_mode": {
    "name": "ipython",
    "version": 3
   },
   "file_extension": ".py",
   "mimetype": "text/x-python",
   "name": "python",
   "nbconvert_exporter": "python",
   "pygments_lexer": "ipython3",
   "version": "3.8.10"
  }
 },
 "nbformat": 4,
 "nbformat_minor": 5
}
