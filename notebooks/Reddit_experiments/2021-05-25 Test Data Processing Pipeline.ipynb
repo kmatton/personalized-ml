{
 "cells": [
  {
   "cell_type": "markdown",
   "metadata": {},
   "source": [
    "# Testing Data Preprocessing Pipeline"
   ]
  },
  {
   "cell_type": "code",
   "execution_count": 1,
   "metadata": {},
   "outputs": [],
   "source": [
    "%load_ext autoreload\n",
    "%autoreload 2"
   ]
  },
  {
   "cell_type": "code",
   "execution_count": 18,
   "metadata": {},
   "outputs": [],
   "source": [
    "import os\n",
    "from datetime import datetime\n",
    "import re\n",
    "import sys\n",
    "sys.path.append('../src/')\n",
    "\n",
    "import fasttext\n",
    "import matplotlib as plt\n",
    "import numpy as np\n",
    "np.set_printoptions(precision=3)\n",
    "import pandas as pd\n",
    "import seaborn as sns\n",
    "sns.set_theme()"
   ]
  },
  {
   "cell_type": "code",
   "execution_count": 3,
   "metadata": {},
   "outputs": [],
   "source": [
    "BASE_DATA_PATH = \"/data/ddmg/personalizedmentalhealth/reddit_project/data\"\n",
    "SR_DATA_PATH = \"bitcoin/posts\""
   ]
  },
  {
   "cell_type": "markdown",
   "metadata": {},
   "source": [
    "## Test Post Filtering Steps"
   ]
  },
  {
   "cell_type": "code",
   "execution_count": 4,
   "metadata": {},
   "outputs": [
    {
     "name": "stderr",
     "output_type": "stream",
     "text": [
      "/data/ddmg/users/kmatton/.conda/envs/rlm/lib/python3.8/site-packages/IPython/core/interactiveshell.py:3165: DtypeWarning: Columns (15,18,30,38,45,61,75,80,83,113,114,115,116,117,118,119,120) have mixed types.Specify dtype option on import or set low_memory=False.\n",
      "  has_raised = await self.run_ast_nodes(code_ast.body, cell_name,\n"
     ]
    }
   ],
   "source": [
    "data_df = pd.read_csv(os.path.join(BASE_DATA_PATH, SR_DATA_PATH, \"all.csv\"), index_col=0)"
   ]
  },
  {
   "cell_type": "code",
   "execution_count": 5,
   "metadata": {},
   "outputs": [],
   "source": [
    "del_list = ['[removed]', '[deleted]']\n",
    "data_df = data_df[~data_df[\"selftext\"].isin(del_list)]\n",
    "data_df = data_df[data_df[\"author\"].notnull()]"
   ]
  },
  {
   "cell_type": "code",
   "execution_count": 6,
   "metadata": {},
   "outputs": [],
   "source": [
    "id_counts = data_df['id'].value_counts()\n",
    "assert len(set(id_counts)) == 1 and list(id_counts)[0] == 1"
   ]
  },
  {
   "cell_type": "code",
   "execution_count": 19,
   "metadata": {},
   "outputs": [
    {
     "data": {
      "text/plain": [
       "['_reddit',\n",
       " 'approved_at_utc',\n",
       " 'subreddit',\n",
       " 'selftext',\n",
       " 'author_fullname',\n",
       " 'saved',\n",
       " 'mod_reason_title',\n",
       " 'gilded',\n",
       " 'clicked',\n",
       " 'title',\n",
       " 'link_flair_richtext',\n",
       " 'subreddit_name_prefixed',\n",
       " 'hidden',\n",
       " 'pwls',\n",
       " 'link_flair_css_class',\n",
       " 'downs',\n",
       " 'thumbnail_height',\n",
       " 'top_awarded_type',\n",
       " 'hide_score',\n",
       " 'name',\n",
       " 'quarantine',\n",
       " 'link_flair_text_color',\n",
       " 'upvote_ratio',\n",
       " 'author_flair_background_color',\n",
       " 'subreddit_type',\n",
       " 'ups',\n",
       " 'total_awards_received',\n",
       " 'media_embed',\n",
       " 'thumbnail_width',\n",
       " 'author_flair_template_id',\n",
       " 'is_original_content',\n",
       " 'user_reports',\n",
       " 'secure_media',\n",
       " 'is_reddit_media_domain',\n",
       " 'is_meta',\n",
       " 'category',\n",
       " 'secure_media_embed',\n",
       " 'link_flair_text',\n",
       " 'can_mod_post',\n",
       " 'score',\n",
       " 'approved_by',\n",
       " 'author_premium',\n",
       " 'thumbnail',\n",
       " 'edited',\n",
       " 'author_flair_css_class',\n",
       " 'author_flair_richtext',\n",
       " 'gildings',\n",
       " 'content_categories',\n",
       " 'is_self',\n",
       " 'mod_note',\n",
       " 'created',\n",
       " 'link_flair_type',\n",
       " 'wls',\n",
       " 'removed_by_category',\n",
       " 'banned_by',\n",
       " 'author_flair_type',\n",
       " 'domain',\n",
       " 'allow_live_comments',\n",
       " 'selftext_html',\n",
       " 'likes',\n",
       " 'suggested_sort',\n",
       " 'banned_at_utc',\n",
       " 'view_count',\n",
       " 'archived',\n",
       " 'no_follow',\n",
       " 'is_crosspostable',\n",
       " 'pinned',\n",
       " 'over_18',\n",
       " 'all_awardings',\n",
       " 'awarders',\n",
       " 'media_only',\n",
       " 'can_gild',\n",
       " 'spoiler',\n",
       " 'locked',\n",
       " 'author_flair_text',\n",
       " 'treatment_tags',\n",
       " 'visited',\n",
       " 'removed_by',\n",
       " 'num_reports',\n",
       " 'distinguished',\n",
       " 'subreddit_id',\n",
       " 'mod_reason_by',\n",
       " 'removal_reason',\n",
       " 'link_flair_background_color',\n",
       " 'id',\n",
       " 'is_robot_indexable',\n",
       " 'report_reasons',\n",
       " 'author',\n",
       " 'discussion_type',\n",
       " 'num_comments',\n",
       " 'send_replies',\n",
       " 'whitelist_status',\n",
       " 'contest_mode',\n",
       " 'mod_reports',\n",
       " 'author_patreon_flair',\n",
       " 'author_flair_text_color',\n",
       " 'permalink',\n",
       " 'parent_whitelist_status',\n",
       " 'stickied',\n",
       " 'url',\n",
       " 'subreddit_subscribers',\n",
       " 'created_utc',\n",
       " 'num_crossposts',\n",
       " 'media',\n",
       " 'is_video',\n",
       " '_fetched',\n",
       " 'comment_limit',\n",
       " 'comment_sort',\n",
       " '_comments_by_id',\n",
       " 'post_hint',\n",
       " 'url_overridden_by_dest',\n",
       " 'preview',\n",
       " 'author_cakeday',\n",
       " 'link_flair_template_id',\n",
       " 'crosspost_parent_list',\n",
       " 'crosspost_parent',\n",
       " 'media_metadata',\n",
       " 'poll_data',\n",
       " 'is_gallery',\n",
       " 'gallery_data']"
      ]
     },
     "execution_count": 19,
     "metadata": {},
     "output_type": "execute_result"
    }
   ],
   "source": [
    "list(data_df.columns)"
   ]
  },
  {
   "cell_type": "markdown",
   "metadata": {},
   "source": [
    "# notes on columns:\n",
    "* permalink is url address after reddit.com\n",
    "* url is link to post, but if post is just a link then it is the url that the post links to (and url_overridden_by_dest will have this link)\n",
    "* is_original_content column is always False --> not meaningful\n",
    "* is_video is always False --> Not meaningful\n",
    "* is_gallery and gallery data are always null --> not meaningful\n",
    "* I don't think the selftext_html column is helpful for filtering or text pre-processing\n",
    "* all posts have title, so shouldn't have to worry about that"
   ]
  },
  {
   "cell_type": "code",
   "execution_count": 51,
   "metadata": {},
   "outputs": [
    {
     "data": {
      "text/plain": [
       "['/r/Bitcoin/comments/2s3rgw/sarutobi_has_now_done_more_than_25k_transactions/',\n",
       " '/r/Bitcoin/comments/2s3rb1/what_affects_the_bitcoin_price/',\n",
       " '/r/Bitcoin/comments/2s3qd8/where_did_the_blockchaininfo_firefox_addon_go/',\n",
       " '/r/Bitcoin/comments/2s3lt7/bitstamp_hacker_donated_1btc_to_sarutobi/',\n",
       " '/r/Bitcoin/comments/2s3j5i/if_i_dont_have_a_bank_account_what_are_my_options/']"
      ]
     },
     "execution_count": 51,
     "metadata": {},
     "output_type": "execute_result"
    }
   ],
   "source": [
    "list(data_df.head(5)['permalink'])"
   ]
  },
  {
   "cell_type": "code",
   "execution_count": 25,
   "metadata": {},
   "outputs": [
    {
     "data": {
      "text/plain": [
       "['https://www.reddit.com/r/Bitcoin/comments/2s3lt7/bitstamp_hacker_donated_1btc_to_sarutobi/',\n",
       " 'http://sakurity.com/blog/2015/01/10/hacking-bitcoin-exchanger.html',\n",
       " 'http://bitcoinvox.com/article/1380/bithalo-smart-contract-software-21',\n",
       " 'http://www.btcfeed.net/uncategorized/layoffs/',\n",
       " 'https://coinmarketcap.com/currencies/paycoin2/']"
      ]
     },
     "execution_count": 25,
     "metadata": {},
     "output_type": "execute_result"
    }
   ],
   "source": [
    "list(data_df.iloc[6:11]['url'])"
   ]
  },
  {
   "cell_type": "code",
   "execution_count": 27,
   "metadata": {},
   "outputs": [
    {
     "data": {
      "text/plain": [
       "[nan,\n",
       " 'http://sakurity.com/blog/2015/01/10/hacking-bitcoin-exchanger.html',\n",
       " 'http://bitcoinvox.com/article/1380/bithalo-smart-contract-software-21',\n",
       " 'http://www.btcfeed.net/uncategorized/layoffs/',\n",
       " 'https://coinmarketcap.com/currencies/paycoin2/']"
      ]
     },
     "execution_count": 27,
     "metadata": {},
     "output_type": "execute_result"
    }
   ],
   "source": [
    "list(data_df.iloc[6:11]['url_overridden_by_dest'])"
   ]
  },
  {
   "cell_type": "code",
   "execution_count": 7,
   "metadata": {},
   "outputs": [],
   "source": [
    "data_df = data_df[data_df[\"url_overridden_by_dest\"].isnull()]"
   ]
  },
  {
   "cell_type": "code",
   "execution_count": 53,
   "metadata": {},
   "outputs": [
    {
     "data": {
      "text/plain": [
       "['[First address] (https://blockchain.info/address/17ZgzoQUAiCrCgSieYfGhAvToW9kn6uaLt): 5255 transactions\\n\\n[Second address] (https://blockchain.info/address/1GumHq1f5XVnxBjnz78uRgJad2nyE5TgjS): 6671 transactions\\n\\n[Third (still active) address](https://blockchain.info/address/3MXxfNZoifLYdS8wJTpvfeDNPt9ZWuMAaN): 13164 transactions (and growing fast)\\n\\n']"
      ]
     },
     "execution_count": 53,
     "metadata": {},
     "output_type": "execute_result"
    }
   ],
   "source": [
    "list(data_df.head(1)['selftext'])"
   ]
  },
  {
   "cell_type": "code",
   "execution_count": 54,
   "metadata": {},
   "outputs": [
    {
     "data": {
      "text/plain": [
       "['<!-- SC_OFF --><div class=\"md\"><p><a href=\"https://blockchain.info/address/17ZgzoQUAiCrCgSieYfGhAvToW9kn6uaLt\">First address</a>: 5255 transactions</p>\\n\\n<p><a href=\"https://blockchain.info/address/1GumHq1f5XVnxBjnz78uRgJad2nyE5TgjS\">Second address</a>: 6671 transactions</p>\\n\\n<p><a href=\"https://blockchain.info/address/3MXxfNZoifLYdS8wJTpvfeDNPt9ZWuMAaN\">Third (still active) address</a>: 13164 transactions (and growing fast)</p>\\n</div><!-- SC_ON -->']"
      ]
     },
     "execution_count": 54,
     "metadata": {},
     "output_type": "execute_result"
    }
   ],
   "source": [
    "list(data_df.head(1)['selftext_html'])"
   ]
  },
  {
   "cell_type": "code",
   "execution_count": 8,
   "metadata": {},
   "outputs": [
    {
     "data": {
      "text/html": [
       "<div>\n",
       "<style scoped>\n",
       "    .dataframe tbody tr th:only-of-type {\n",
       "        vertical-align: middle;\n",
       "    }\n",
       "\n",
       "    .dataframe tbody tr th {\n",
       "        vertical-align: top;\n",
       "    }\n",
       "\n",
       "    .dataframe thead th {\n",
       "        text-align: right;\n",
       "    }\n",
       "</style>\n",
       "<table border=\"1\" class=\"dataframe\">\n",
       "  <thead>\n",
       "    <tr style=\"text-align: right;\">\n",
       "      <th></th>\n",
       "      <th>id</th>\n",
       "      <th>author</th>\n",
       "      <th>title</th>\n",
       "      <th>selftext</th>\n",
       "      <th>selftext_html</th>\n",
       "      <th>media</th>\n",
       "      <th>media_metadata</th>\n",
       "    </tr>\n",
       "  </thead>\n",
       "  <tbody>\n",
       "    <tr>\n",
       "      <th>0</th>\n",
       "      <td>2s3rgw</td>\n",
       "      <td>heltok</td>\n",
       "      <td>Sarutobi has now done more than 25k transactions</td>\n",
       "      <td>[First address] (https://blockchain.info/addre...</td>\n",
       "      <td>&lt;!-- SC_OFF --&gt;&lt;div class=\"md\"&gt;&lt;p&gt;&lt;a href=\"htt...</td>\n",
       "      <td>NaN</td>\n",
       "      <td>NaN</td>\n",
       "    </tr>\n",
       "    <tr>\n",
       "      <th>1</th>\n",
       "      <td>2s3rb1</td>\n",
       "      <td>Kimba_Coinarch</td>\n",
       "      <td>What affects the bitcoin price?</td>\n",
       "      <td>The recent Bitstamp hack has led people to que...</td>\n",
       "      <td>&lt;!-- SC_OFF --&gt;&lt;div class=\"md\"&gt;&lt;p&gt;The recent B...</td>\n",
       "      <td>NaN</td>\n",
       "      <td>NaN</td>\n",
       "    </tr>\n",
       "    <tr>\n",
       "      <th>2</th>\n",
       "      <td>2s3qd8</td>\n",
       "      <td>Satirei</td>\n",
       "      <td>Where Did the Blockchain.info Firefox Add-On Go?</td>\n",
       "      <td>I found the github (which I think should be tr...</td>\n",
       "      <td>&lt;!-- SC_OFF --&gt;&lt;div class=\"md\"&gt;&lt;p&gt;I found the ...</td>\n",
       "      <td>NaN</td>\n",
       "      <td>NaN</td>\n",
       "    </tr>\n",
       "    <tr>\n",
       "      <th>6</th>\n",
       "      <td>2s3lt7</td>\n",
       "      <td>heltok</td>\n",
       "      <td>Bitstamp hacker donated 1BTC to Sarutobi</td>\n",
       "      <td>I followed the transactions and found this cha...</td>\n",
       "      <td>&lt;!-- SC_OFF --&gt;&lt;div class=\"md\"&gt;&lt;p&gt;I followed t...</td>\n",
       "      <td>NaN</td>\n",
       "      <td>NaN</td>\n",
       "    </tr>\n",
       "    <tr>\n",
       "      <th>14</th>\n",
       "      <td>2s3j5i</td>\n",
       "      <td>Alex_Engel</td>\n",
       "      <td>If I don't have a bank account what are my opt...</td>\n",
       "      <td>NaN</td>\n",
       "      <td>NaN</td>\n",
       "      <td>NaN</td>\n",
       "      <td>NaN</td>\n",
       "    </tr>\n",
       "    <tr>\n",
       "      <th>...</th>\n",
       "      <td>...</td>\n",
       "      <td>...</td>\n",
       "      <td>...</td>\n",
       "      <td>...</td>\n",
       "      <td>...</td>\n",
       "      <td>...</td>\n",
       "      <td>...</td>\n",
       "    </tr>\n",
       "    <tr>\n",
       "      <th>6629</th>\n",
       "      <td>knedzr</td>\n",
       "      <td>tookthisusersoucant</td>\n",
       "      <td>I created a Bitcoin node too!</td>\n",
       "      <td>&amp;#x200B;\\n\\n[My Bitcoin + Lightning Node](http...</td>\n",
       "      <td>&lt;!-- SC_OFF --&gt;&lt;div class=\"md\"&gt;&lt;p&gt;&amp;#x200B;&lt;/p&gt;...</td>\n",
       "      <td>NaN</td>\n",
       "      <td>{'q9lggv62pe861': {'status': 'valid', 'e': 'Im...</td>\n",
       "    </tr>\n",
       "    <tr>\n",
       "      <th>6631</th>\n",
       "      <td>knecae</td>\n",
       "      <td>sammyaxelrod</td>\n",
       "      <td>Bitcoin market cap now larger than Walmart and...</td>\n",
       "      <td>I know you’re sick of hearing it but I like co...</td>\n",
       "      <td>&lt;!-- SC_OFF --&gt;&lt;div class=\"md\"&gt;&lt;p&gt;I know you’r...</td>\n",
       "      <td>NaN</td>\n",
       "      <td>NaN</td>\n",
       "    </tr>\n",
       "    <tr>\n",
       "      <th>6632</th>\n",
       "      <td>kneaub</td>\n",
       "      <td>Critical_Radio</td>\n",
       "      <td>Will the rise of Bitcoin speed up fiat inflation?</td>\n",
       "      <td>As less people want dollars and other fiat in ...</td>\n",
       "      <td>&lt;!-- SC_OFF --&gt;&lt;div class=\"md\"&gt;&lt;p&gt;As less peop...</td>\n",
       "      <td>NaN</td>\n",
       "      <td>NaN</td>\n",
       "    </tr>\n",
       "    <tr>\n",
       "      <th>6633</th>\n",
       "      <td>kneap0</td>\n",
       "      <td>veletor</td>\n",
       "      <td>29k!!!!</td>\n",
       "      <td>AHHHHHHHHHHH 30 before New Years let’s go</td>\n",
       "      <td>&lt;!-- SC_OFF --&gt;&lt;div class=\"md\"&gt;&lt;p&gt;AHHHHHHHHHHH...</td>\n",
       "      <td>NaN</td>\n",
       "      <td>NaN</td>\n",
       "    </tr>\n",
       "    <tr>\n",
       "      <th>6639</th>\n",
       "      <td>kne606</td>\n",
       "      <td>Benjamin-Piper05</td>\n",
       "      <td>How do you transfer your currency back to U.S ...</td>\n",
       "      <td>So I’ve never used Jaxx before, but I wanted t...</td>\n",
       "      <td>&lt;!-- SC_OFF --&gt;&lt;div class=\"md\"&gt;&lt;p&gt;So I’ve neve...</td>\n",
       "      <td>NaN</td>\n",
       "      <td>NaN</td>\n",
       "    </tr>\n",
       "  </tbody>\n",
       "</table>\n",
       "<p>150798 rows × 7 columns</p>\n",
       "</div>"
      ],
      "text/plain": [
       "          id               author  \\\n",
       "0     2s3rgw               heltok   \n",
       "1     2s3rb1       Kimba_Coinarch   \n",
       "2     2s3qd8              Satirei   \n",
       "6     2s3lt7               heltok   \n",
       "14    2s3j5i           Alex_Engel   \n",
       "...      ...                  ...   \n",
       "6629  knedzr  tookthisusersoucant   \n",
       "6631  knecae         sammyaxelrod   \n",
       "6632  kneaub       Critical_Radio   \n",
       "6633  kneap0              veletor   \n",
       "6639  kne606     Benjamin-Piper05   \n",
       "\n",
       "                                                  title  \\\n",
       "0      Sarutobi has now done more than 25k transactions   \n",
       "1                       What affects the bitcoin price?   \n",
       "2      Where Did the Blockchain.info Firefox Add-On Go?   \n",
       "6              Bitstamp hacker donated 1BTC to Sarutobi   \n",
       "14    If I don't have a bank account what are my opt...   \n",
       "...                                                 ...   \n",
       "6629                      I created a Bitcoin node too!   \n",
       "6631  Bitcoin market cap now larger than Walmart and...   \n",
       "6632  Will the rise of Bitcoin speed up fiat inflation?   \n",
       "6633                                            29k!!!!   \n",
       "6639  How do you transfer your currency back to U.S ...   \n",
       "\n",
       "                                               selftext  \\\n",
       "0     [First address] (https://blockchain.info/addre...   \n",
       "1     The recent Bitstamp hack has led people to que...   \n",
       "2     I found the github (which I think should be tr...   \n",
       "6     I followed the transactions and found this cha...   \n",
       "14                                                  NaN   \n",
       "...                                                 ...   \n",
       "6629  &#x200B;\\n\\n[My Bitcoin + Lightning Node](http...   \n",
       "6631  I know you’re sick of hearing it but I like co...   \n",
       "6632  As less people want dollars and other fiat in ...   \n",
       "6633          AHHHHHHHHHHH 30 before New Years let’s go   \n",
       "6639  So I’ve never used Jaxx before, but I wanted t...   \n",
       "\n",
       "                                          selftext_html media  \\\n",
       "0     <!-- SC_OFF --><div class=\"md\"><p><a href=\"htt...   NaN   \n",
       "1     <!-- SC_OFF --><div class=\"md\"><p>The recent B...   NaN   \n",
       "2     <!-- SC_OFF --><div class=\"md\"><p>I found the ...   NaN   \n",
       "6     <!-- SC_OFF --><div class=\"md\"><p>I followed t...   NaN   \n",
       "14                                                  NaN   NaN   \n",
       "...                                                 ...   ...   \n",
       "6629  <!-- SC_OFF --><div class=\"md\"><p>&#x200B;</p>...   NaN   \n",
       "6631  <!-- SC_OFF --><div class=\"md\"><p>I know you’r...   NaN   \n",
       "6632  <!-- SC_OFF --><div class=\"md\"><p>As less peop...   NaN   \n",
       "6633  <!-- SC_OFF --><div class=\"md\"><p>AHHHHHHHHHHH...   NaN   \n",
       "6639  <!-- SC_OFF --><div class=\"md\"><p>So I’ve neve...   NaN   \n",
       "\n",
       "                                         media_metadata  \n",
       "0                                                   NaN  \n",
       "1                                                   NaN  \n",
       "2                                                   NaN  \n",
       "6                                                   NaN  \n",
       "14                                                  NaN  \n",
       "...                                                 ...  \n",
       "6629  {'q9lggv62pe861': {'status': 'valid', 'e': 'Im...  \n",
       "6631                                                NaN  \n",
       "6632                                                NaN  \n",
       "6633                                                NaN  \n",
       "6639                                                NaN  \n",
       "\n",
       "[150798 rows x 7 columns]"
      ]
     },
     "execution_count": 8,
     "metadata": {},
     "output_type": "execute_result"
    }
   ],
   "source": [
    "keep_columns = ['id', 'author', 'title', 'selftext',\n",
    "                'selftext_html', 'media', 'media_metadata']\n",
    "data_df[keep_columns]"
   ]
  },
  {
   "cell_type": "markdown",
   "metadata": {},
   "source": [
    "## Examine Makeup of Data"
   ]
  },
  {
   "cell_type": "code",
   "execution_count": 30,
   "metadata": {},
   "outputs": [
    {
     "name": "stderr",
     "output_type": "stream",
     "text": [
      "/data/ddmg/users/kmatton/.conda/envs/rlm/lib/python3.8/site-packages/IPython/core/interactiveshell.py:3145: DtypeWarning: Columns (15,18,30,38,45,61,75,80,83,113,114,115,116,117,118,119,120) have mixed types.Specify dtype option on import or set low_memory=False.\n",
      "  has_raised = await self.run_ast_nodes(code_ast.body, cell_name,\n"
     ]
    }
   ],
   "source": [
    "copy_df = pd.read_csv(os.path.join(BASE_DATA_PATH, SR_DATA_PATH, \"all.csv\"), index_col=0)"
   ]
  },
  {
   "cell_type": "code",
   "execution_count": 31,
   "metadata": {},
   "outputs": [
    {
     "name": "stdout",
     "output_type": "stream",
     "text": [
      "total post count 663841\n"
     ]
    }
   ],
   "source": [
    "print(\"total post count\", len(copy_df))"
   ]
  },
  {
   "cell_type": "code",
   "execution_count": 33,
   "metadata": {},
   "outputs": [
    {
     "name": "stdout",
     "output_type": "stream",
     "text": [
      "number of posts that have been deleted/removed: 223204=33.62311155834002%\n"
     ]
    }
   ],
   "source": [
    "# get percentage of posts that have been removed/deleted\n",
    "del_list = ['[removed]', '[deleted]']\n",
    "del_df = copy_df[copy_df[\"selftext\"].isin(del_list)]\n",
    "print(\"number of posts that have been deleted/removed: {}={}%\".format(len(del_df), len(del_df)*100/len(copy_df)))"
   ]
  },
  {
   "cell_type": "code",
   "execution_count": 34,
   "metadata": {},
   "outputs": [
    {
     "name": "stdout",
     "output_type": "stream",
     "text": [
      "number of posts w/o author: 180354=27.168252638809594%\n"
     ]
    }
   ],
   "source": [
    "# get percentage of posts without an author --> note these are pretty much the same as posts that were deleted/removed\n",
    "del_df = copy_df[copy_df[\"author\"].isnull()]\n",
    "print(\"number of posts w/o author: {}={}%\".format(len(del_df), len(del_df)*100/len(copy_df)))"
   ]
  },
  {
   "cell_type": "code",
   "execution_count": 37,
   "metadata": {},
   "outputs": [
    {
     "name": "stdout",
     "output_type": "stream",
     "text": [
      "number of posts w/ url overridden by dest: 351209=52.90559034467591%\n"
     ]
    }
   ],
   "source": [
    "# get percentage of posts with url overridden by dest\n",
    "del_df = copy_df[copy_df[\"url_overridden_by_dest\"].notnull()]\n",
    "print(\"number of posts w/ url overridden by dest: {}={}%\".format(len(del_df), len(del_df)*100/len(copy_df)))"
   ]
  },
  {
   "cell_type": "markdown",
   "metadata": {},
   "source": [
    "## Test Language Detection Models"
   ]
  },
  {
   "cell_type": "markdown",
   "metadata": {},
   "source": [
    "Preprocessing steps needed before applying:\n",
    "* Remove newlines\n",
    "\n",
    "URLs lower confidence, but still is able to predict English correctly."
   ]
  },
  {
   "cell_type": "code",
   "execution_count": 9,
   "metadata": {},
   "outputs": [],
   "source": [
    "model_path = \"/data/ddmg/personalizedmentalhealth/reddit_project/tools/lid.176.bin\"\n",
    "lang_id_model = fasttext.load_model(model_path)"
   ]
  },
  {
   "cell_type": "code",
   "execution_count": 68,
   "metadata": {},
   "outputs": [],
   "source": [
    "def merge_text(row):\n",
    "    text = row[\"title\"]\n",
    "    if isinstance(row[\"selftext\"], str):\n",
    "        text += \" \"\n",
    "        text += row[\"selftext\"]\n",
    "    return text"
   ]
  },
  {
   "cell_type": "code",
   "execution_count": 69,
   "metadata": {},
   "outputs": [],
   "source": [
    "data_df[\"text\"] = data_df.apply(merge_text, axis=1)"
   ]
  },
  {
   "cell_type": "code",
   "execution_count": 76,
   "metadata": {},
   "outputs": [],
   "source": [
    "texts = list(data_df[\"text\"])"
   ]
  },
  {
   "cell_type": "code",
   "execution_count": 77,
   "metadata": {},
   "outputs": [],
   "source": [
    "texts = [re.sub(r'\\n+', ' ', text) for text in texts]"
   ]
  },
  {
   "cell_type": "code",
   "execution_count": 78,
   "metadata": {},
   "outputs": [],
   "source": [
    "lang_preds = lang_id_model.predict(texts)"
   ]
  },
  {
   "cell_type": "code",
   "execution_count": 79,
   "metadata": {},
   "outputs": [
    {
     "name": "stdout",
     "output_type": "stream",
     "text": [
      "Sarutobi has now done more than 25k transactions [First address] (https://blockchain.info/address/17ZgzoQUAiCrCgSieYfGhAvToW9kn6uaLt): 5255 transactions [Second address] (https://blockchain.info/address/1GumHq1f5XVnxBjnz78uRgJad2nyE5TgjS): 6671 transactions [Third (still active) address](https://blockchain.info/address/3MXxfNZoifLYdS8wJTpvfeDNPt9ZWuMAaN): 13164 transactions (and growing fast) \n",
      "['__label__en']\n",
      "[0.643]\n"
     ]
    }
   ],
   "source": [
    "print(texts[0])\n",
    "print(lang_preds[0][0])\n",
    "print(lang_preds[1][0])"
   ]
  },
  {
   "cell_type": "code",
   "execution_count": 83,
   "metadata": {},
   "outputs": [
    {
     "name": "stdout",
     "output_type": "stream",
     "text": [
      "non_eng: 203/150798=0.1346171699889919%\n",
      "post at idx 11125\n",
      "250 Celebrate.\n",
      "\n",
      "post at idx 13282\n",
      "Bitcoin moet het weer op eigen benen doen. Greek en China are not triggers anymore. So lets see if bitcoin can crawl back. Real time not: 275 \n",
      "\n",
      "post at idx 15401\n",
      "Reporte Semanal #2 Septiembre 2015 I Análisis de Mercado de Bitex.la La ultima semana pudimos observar como el precio del Bitcoin tuvo un claro y mantenido movimiento a la baja, tocando un piso en los 223 USD, el pasado Martes, en el día de la fecha el precio parece estar estabilizándose en el nivel de los 228 USD. Para la próxima semana podemos esperar que el precio vuelva a los niveles de la semana pasada si es que logra romper la barrera de los 230 USD. https://cdn-images-1.medium.com/max/1132/1*GuH7WGZ-TrvZUYmtMASB1w.png El director legal del Grupo de Société Générale ha pedido públicamente el establecimiento de un marco regulatorio para el bitcoin a nivel internacional. En un artículo co-escrito por Dominique Bourrinet, el director legal del banco multinacional frances; y su colega Etienne Mauret, se discuten las consecuencias de la situación jurídica indeterminada del bitcoin. Una versión traducida libremente del artículo dice: “En términos de la legislación francesa, que [bitcoin] no entra en ninguna categoría conocida:. No es ni una moneda de curso legal, ni un medio de pago — ni siquiera una moneda electrónica — en el sentido del Código Monetario y Financiero. Esta incertidumbre no ha impedido al gobierno francés establecer un sistema fiscal ad hoc. la cuestión de la aplicación del IVA queda por decidir “. A pesar de los esfuerzos de las autoridades francesas como “loables”, los autores siguen esbozando la necesidad de un marco regulatorio internacional que supervise rápidamente este “dinero nuevo”. La plataforma basada en bitcoin, Bitnexo ha sido anunciada como la ganadora conjunta en la final de la competencia latinoamericana del Open Talent BBVA. La start-up, que tiene la intención de facilitar transferencias de dinero internacionales entre Asia y América Latina, recibirá un premio de € 30.000 ($ 33.939), así como la oportunidad de unirse a un programa de redes de dos semanas en México y Londres. La otra empresa ganadora fue Destacame, una startup chilena que ayuda a las personas a tener acceso al crédito.Hugo Nájera, jefe de la banca digital de BBVA Bancomer, comentó sobre el potencial innovador de las nuevas empresas en la región, diciendo: “Las startups latinoamericanas han demostrado algunas propuestas realmente innovadoras dentro del FinTech.” El concurso Open Talent BBVA cuenta con nueve nuevas empresas de cifrado y se divide en tres finales regionales. Bitwage, Coinalytics, SnapCard y Voatz comenzaron a competir ayer en Nueva York junto a los start-ups de los EE.UU. y otras partes del mundo. La final tendrá lugar hoy. La final europea, que se celebrara en Barcelona, ​​donde Everledger, Safello y Vaultoro competirán, está programada para el 21 y 22 de septiembre. el exchange bitcoin chino BTCChina tiene un nuevo nombre: BTCC .La compañía dijo que la decisión era parte de un esfuerzo de cambio de marca dirigida a internacionalizar su imagen. “Bitcoin es global, y como nosotros lanzamos más productos y servicios para servir a la audiencia global, necesitábamos un nombre más global”, dijo el CEO Bobby Lee, de los cambios. “BTCC es ese nombre.” El exchange también comenzará a utilizar un nuevo logotipo y lanzará una nueva versión de su aplicación para móviles — actualmente en desarrollo — como parte del cambio de marca. Nueve grandes bancos de inversión, incluyendo JP Morgan Chase y Goldman Sachs se han asociado con el start-up de libro mayor distribuido R3CEV. La asociación verá esfuerzos de colaboración entre las instituciones que tomaran forma, el trabajo que incluirá el desarrollo de normas para el uso de la tecnología blockchain dentro de la industria financiera en general. El grupo bancario incluye Credit Suisse, State Street, UBS, Commonwealth Bank of Australia, BBVA, Barclays y Royal Bank of Scotland. Muchos en la lista han anunciado previamente esfuerzos independientes para estudiar la tecnología blockchain, y los bancos se dice que están invirtiendo dinero en R3 como parte del esfuerzo. Los bancos y R3 formarán grupos de trabajo como parte del desarrollo de prototipos blockchain y pruebas de concepto. R3 lleva meses trabajando con las instituciones financieras de Wall Street en la tecnología, un proceso que incluía alojamiento de mesas redondas de la industria y ayudar en las investigaciones internas de los bancos. El CEO de R3 David Rutter, dijo de la asociación: “Esta asociación señala una importante apuesta por parte de los bancos para evaluar conjuntamente y aplicar esta tecnología emergente para el sistema financiero global. Nuestros socios bancarios reconocen la promesa de las tecnologías del libro mayor distribuido y su potencial para transformar las plataformas tecnológicas de los mercados financieros, donde las normas deben ser seguras, escalables y adaptables “. Los representantes de los bancos involucrados, dijo que la asociación ayuda a armonizar el desarrollo de la tecnología en un intento por promover el trabajo más completo. “En este momento, se está viendo dinero y tiempo significativo se gasta en la exploración de estas tecnologías de manera fracturada que carece de la estratégica, coordinada visión tan crítica para el éxito a tiempo. El modelo R3 está cambiando el juego”, dijo Kevin Hanley, director del diseño en el Royal Bank of Scotland. La participación de los bancos, de acuerdo con un representante, es un reflejo del creciente interés entre las grandes instituciones financieras en tecnología blockchain. “Estas nuevas tecnologías pueden transformar la forma en que se registran las transacciones financieras, reconciliados y reportadas — todo con la seguridad adicional, las tasas de error más bajas y una reducción significativa de costos”, dijo Hu Liang, vicepresidente senior de State Street y la cabeza de las tecnologías emergentes. Compra Bitcoin en Pesos en nuestra sucursal. Ya puedes comprar Bitcoin al mejor precio de mercado utilizando las nuevas sucursales de Bitex.la en Buenos Aires y Santiago de Chile . Acércate con tu código personal BITEX y tu DNI, Cédula o Pasaporte y en menos de una hora tienes el saldo acreditado en tu cuenta para comprar bitcoin. Encontra nuestras sucursales! Nos pueden encontrar en: https://bitex.la http://facebook.com/bitex.la http://twitter.com/bitexla https://plus.google.com/+bitexla https://instagram.com/bitex.la https://bitexla.tumblr.com Visita Bitex.la ¿Qué es Bitex.la? Bitex.la es un mercado de compra y venta de Bitcoin lider en Latino America. La plataforma permite operar bitcoin de manera profesional contra dolares americanos. Cuenta con una robusta red financiera que permite a los usuarios operar casi desde cualquier país del mundo sin restricciones. ¿Queres aprender sobre bitcoin? Estamos lanzando un nuevo espacio educativo sobre el bitcoin de una manera simple y amistosa. Si tienes dudas o quieres aportar de alguna manera nos podes contactar en cualquier momento. Visitanos!\n",
      "\n",
      "post at idx 15647\n",
      "Reporte Semanal #1 Septiembre 2015 I Análisis de Mercado de Bitex.la La ultima semana pudimos observar como el precio del Bitcoin siguió recomponiéndose de manera constante hasta alcanzar un tope en los 246 USD. en el día de ayer, para finalmente ajustar hacia los 240 USD en la jornada de hoy. Podemos esperar que la moneda se mantenga en alza durante la semana siguiente y podemos esperar un salto grande hacia la linea de los 260 USD. si es que el precio logra romper con la resistencia de los 250 USD. https://cdn-images-1.medium.com/max/1137/1*M6Yb9i_JZEMWNd-UMtSa-w.png El Dinero en efectivo y las donaciones en especie son los dos tipos principales de alivio cuando se trata de ayudar a aquellos que han sufrido los desastres naturales, pero el bitcoin se está convirtiendo en una opción cada vez más popular. A raíz del tsunami de 2004, más de $ 14 mil millones de dolares fueron prometidos por la comunidad internacional para el socorro y la recuperación de los 14 países afectados por el desastre natural — uno de los más mortíferos registrados en la historia. Paul Currion, un consultor independiente para las organizaciones humanitarias, dijo a CoinDesk que este “enorme outpour de apoyo público” significa a una gran cantidad de organizaciones tener más fondos de los que pueden procesar y distribuir fácilmente. Las donaciones en efectivo pueden ser favorecidas sobre las donaciones en especie, con estas últimas que han sido criticadas en el pasado por lo que es más difícil para que coincida con las necesidades de los destinatarios, y al hacerlo, debilitarlos y amedrentarlos. Según Currion, que actualmente está trabajando con la Red de inicio para explorar el potencial de la tecnología blockchain, una de las mayores caídas de la ayuda en el pasado ha sido debido a el uso de una “respuesta plan maestro” para cada desastre. Él dijo: “Eso obviamente hecho por razones de facilidad — que no tiene que volver a inventar la rueda cada vez que hay un nuevo desastre … por otro lado, lo que eso significa es nuestras opciones son limitadas y que, a su vez, ha limitado las opciones de las personas que han sido afectadas por el desastre “. La oficina de USAID para la Asistencia de Desastres en el Extranjero, Alimentos para la Paz y el Laboratorio de Desarrollo Global se hicieron eco de las afirmaciones de Currion y ese dinero puede ser más beneficioso que los regalos en especie, y señaló que, en las circunstancias apropiadas, las intervenciones basadas en efectivo pueden estimular las economías locales. Actualmente, el efectivo de ayuda se distribuye de forma directa, se transfirió a una cuenta bancaria o en un sistema de dinero móvil, como en Kenia M-Pesa, o mediante el uso de vales, que pueden ser reembolsados en los comercios locales. La Compañía Multinacional de seguros y gestión de activos AXA tiene en la mira al bitcoin para ayudar a simplificar el mercado de remesas. Minh Q Tran( Socio general de la división de Fondo de Riesgo) dijo que AXA Strategic Ventures ,fondo con una recaudación de $ 223m,y su acelerador, AXA factory, están tratando la moneda digital como una “tesis de inversión”. Él dijo: “Creemos que muchos casos de uso relacionados con Bitcoin todavía no se han explorado. En particular, estamos muy interesados ​​en cómo bitcoin, y más en general las cryptocurrencies, podrían ser utilizadas en el mercado de remesas.” Aunque no hay Bitcoin o blockchain startups que hayan recibido fondos de AXA hasta ahora, Tran dijo que la empresa está en conversaciones con varias empresas rebittance ‘que buscan interrumpir el sector de $ 582bn. Más allá de las remesas Aparte del uso de bitcoin en el mercado de remesas, AXA está explorando cómo la tecnología blockchain podría ser utilizada en campos como el inmobiliario, la gestión de la riqueza, la propiedad intelectual y — crucialmente — Seguro. Esta noticia coincide con el anuncio de hoy de Kamet, del banco incubadora de 111m £ ‘InsurTech’. Aunque la banca sigue siendo una industria de aversión al riesgo, muchas empresas de renombre están explorando el potencial de la tecnología a través de sus brazos blockchain VC. Bankinter de España se convirtió en el primer banco en financiar una empresa bitcoin, Coinffeine, en noviembre pasado tras una inversión no revelada de su Fundación para la Innovación. Empresas incluyendo BBVA desde entonces han seguido su ejemplo. Otros están explorando tecnologías personalizados a través de la I + D en la empresa. UBS tiene una residencia de un año en Londres a Nivel incubadora FinTech 39 para trabajar en prueba de conceptos que podrían beneficiar a sus grupos de interés. Mientras tanto, Ken Moore, director de los Laboratorios de Innovación de Citi, reveló que el banco estaba probando su propia criptomoneda, Citicoin. El Servicio de Alguaciles de los Estados Unidos (USMS) ha puesto de manifiesto que es probable que la subasta de los bitcoins restantes confiscados al mastermind de la ruta de la seda Ross Ulbricht ocurra en algún momento de 2015. En total, los USMS incautaron más de 144.000 BTC (entonces por un valor de $ 122 millones) de Ulbricht a finales de 2013, junto con 29.655 BTC en carteras en el mercado negro en línea en el momento de su cierre. El evento será la ultima subasta que implica bitcoins de la investigación de la Ruta de la Seda, con 44.336 BTC ($ 10 millones al cierre de esta edición) que se ofrece a los posibles inversores. Un portavoz de los USMS dijo a CoinDesk: “Todavía no tenemos fechas para anunciar, pero sí esperamos que [la realización del evento] sea antes de que finalice el año.” Hasta la fecha, los USMS ha celebrado tres subastas abiertas a los miembros calificados de la opinión pública estadounidense, en un intento de subastar los activos. El evento más reciente, celebrado en marzo, vio 14 postores compitiendo para comprar 50.000 BTC (entonces por un valor de $ 13,4 millones). Bitcoin Group esta por hacer su tercer intento de IPO este mes de noviembre, después de dos órdenes de detenerlo por parte de la Comisión de Valores e Inversiones de Australia (ASIC). La firma de Melbourne primero anunció que buscaría una oferta pública inicial (OPI) en la Australian Securities Exchange (ASX) en octubre pasado, los retrasos sin embargo, se ha enfrentado a raíz de una reprimenda por parte del regulador en febrero y dos órdenes de stop en su prospecto de los inversores en julio. Según el Sydney Morning Herald, la firma presentó un prospecto actualizado el viernes pasado después de que el ASIC levantó su segunda orden de suspensión. Su fecha de inclusión se establece ahora para el 11 de noviembre. El CEO del Grupo Bitcoin, Sam Lee dijo a la publicación que, como su salida a bolsa sentó un precedente, se exigió revisiones para que los inversionistas puedan ser “plenamente informados”, y agregó: “El papel del ASIC para proteger a los inversores australianos significa que necesitan para entender nuestro modelo de negocio único. Apreciamos la paciencia del ASIC que han llevado a entender lo que hacemos, y agradecemos su cooperación en ayudar a asegurar nuestro prospecto que refleja con precisión la oportunidad actual y futuro del Bitcoin Group “. Aunque otras empresas Bitcoin, incluyendo digitalBTC y Bitcoin Shop han tenido acciones negociadas públicamente, Bitcoin Group se mantiene como la primera empresa de la moneda digital en hacer una salida a bolsa, ya que ha evitado pasar por las llamadas “listas de puerta trasera ‘. Con sede en Melbourne, Bitcoin Group actualmente ofrece el arbitraje de la criptomoneda, pero dijo CoinDesk que la idea sería cambiar a la minería de la moneda si su salida a bolsa es un éxito. Se planea emitir 100 millones de nuevas acciones a 20 ¢ cada uno. Alrededor del 90% de los fondos de la empresa se destinarán a la compra de energía de la CPU. Compra Bitcoin en Pesos en nuestra sucursal. Ya puedes comprar Bitcoin al mejor precio de mercado utilizando las nuevas sucursales de Bitex.la en Buenos Aires y Santiago de Chile . Acércate con tu código personal BITEX y tu DNI, Cédula o Pasaporte y en menos de una hora tienes el saldo acreditado en tu cuenta para comprar bitcoin. Encontra nuestras sucursales! Nos pueden encontrar en: https://bitex.la http://facebook.com/bitex.la http://twitter.com/bitexla https://plus.google.com/+bitexla https://instagram.com/bitex.la https://bitexla.tumblr.com \n",
      "\n",
      "post at idx 15648\n",
      "Reporte Semanal #5 Agosto 2015 I Análisis de Mercado de Bitex.la Durante la ultima semana pudimos observar como el precio del bitcoin se estabilizo manteniéndose en el nivel de los 230 Usd, después de la abrupta caída de la semana anterior vimos como el precio comenzó a escalar levemente hasta alcanzar el nivel de precio actual. Para la siguiente semana podemos esperar que el precio siga repuntando de manera leve pero sostenida si no rompe la resistencia de los 229 Usd. https://cdn-images-1.medium.com/max/1139/1*WT0XVc29sRtYrB_kLOKuIw.png Barclays ha anunciado que va a dar sus primeros pasos hacia el apoyo a la utilización del bitcoin como un método de pago alternativo, al permitir a las organizaciones benéficas aceptar donaciones en la moneda digital. En un nuevo artículo publicado en The Sunday Times, la empresa multinacional de servicios financieros dio a entender que había entrado en asociación con una “plataforma de intercambio de bitcoin o gasto” sin nombre, y que buscaría dar lanzamiento formal al servicio en el año 2016. El jefe de diseño y oficial digital Derek White proporcionó la fuente de noticias con pocos detalles acerca de la asociación, con excepción de afirmar que estaba en desarrollo. White dijo al Times: “Barclays está permitiendo el intercambio de bitcoin para ayudar a organizaciones benéficas a aceptar bitcoin.” El anuncio sigue a otros que sugieren que el banco está aumentando constantemente sus esfuerzos para comprender y aplicar el bitcoin y la tecnología blockchain. A principios de este año, Barclays reveló que estaba llevando a cabo una prueba de concepto con el proveedor de intercambio y servicios europeos Safello, una decisión que siguió a las noticias de marzo que había aceptado tres empresas de la industria en su programa acelerador FinTech. A medida que el debate continúa — dado a que se agrego combustible por la reciente liberación de Bitcoin XT — sobre el tamaño de bloque- Los interesados en bitcoin están eligiendo lados sobre cómo debe escalar la moneda. Ya se trate de un aumento de 8 MB, o un límite dinámico elegido por la elite de minería de la moneda, estamos teniendo en cuenta las decisiones de la industria hasta el momento. Se puede ver los resultados de las 15 organizaciones mineras más grandes y de los 10 proveedores de servicios de bitcoin mejor financiados. El mapa indica también que propuesta ha recibido el mayor apoyo geográficamente. Los usuarios de ChangeTip pueden ahora intercambiar sus consejos de divisas digitales con bienes de la vida real, gracias a la integración con el proveedor de tarjetas de regalo digital, Gyft. El servicio de inflexión bitcoin, que ha recaudado $ 4,25 millones en financiamiento a la fecha, las marcas como un “love button” “para varios redes sociales como Facebook, Twitter y Reddit”. Hasta ahora, los usuarios de ChangeTip podían recargar sus cuentas a través de Coinbase, bitcoin o con tarjeta de crédito / débito, sin embargo sólo podían cobrar en bitcoin. Tras el anuncio de ayer por la tarde , ahora tienen la opción de canjear tarjetas de regalo de Starbucks, iTunes, Xbox y Amazon. que Van desde U$D 1 hasta U$D 2.000. El brazo de riesgo de un importante fondo de pensiones canadiense informa, que esta mirando la realización de inversiones en startups de Bitcoin y blockchain. El Sistema de Retiro de Empleados Municipales de Ontario, o OMERS, es uno de los mayores fondos de pensiones municipales de Canadá. El brazo de riesgo del fondo, OMERS Ventures, recientemente ha descrito en una reciente entrevista con TechVibes, una publicación canadiense que el negocio estaba explorando el uso de los ingresos de $ 260 millones de fondos de CAD para realizar inversiones en el espacio bitcoin. El fondo también ha atraído el apoyo del Banco de Montreal y Cisco Inversiones. El director general Jim Orlando dijo durante la entrevista: “La ciberseguridad es otra área que hemos estado viendo, específicamente en FinTech como Sid mencionado, y en particular lo que bitcoin y la capacidad de la cadena de bloque de traer en términos, oportunidades diferenciadas. Tenemos la esperanza de encontrar un par de las inversiones para el Fondo II relacionadas con el Bitcoin y la blockchain, y el lado de la seguridad de todo ese paradigma “. OMERS Ventures, indicó a principios de esta semana en su sitio web que pondría un fuerte énfasis en las empresas de tecnología financiera, incluyendo aquellas en el espacio bitcoin. Una infografía publicada por la firma incluye una serie de nuevas empresas Bitcoin basadas ​​en Canadá. Compra Bitcoin en Pesos en nuestra sucursal. Ya puedes comprar Bitcoin al mejor precio de mercado utilizando las nuevas sucursales de Bitex.la en Buenos Aires y Santiago de Chile . Acércate con tu código personal BITEX y tu DNI, Cédula o Pasaporte y en menos de una hora tienes el saldo acreditado en tu cuenta para comprar bitcoin. Encontra nuestras sucursales! Nos pueden encontrar en: https://bitex.la http://facebook.com/bitex.la http://twitter.com/bitexla https://plus.google.com/+bitexla https://instagram.com/bitex.la https://bitexla.tumblr.com \n",
      "\n",
      "post at idx 15726\n",
      "bitcoin.de now listed on German Stock Exchange [link, German](http://www.finanzen.net/nachricht/aktien/DGAP-News-Bitcoin-Group-SE-Bitcoin-Group-SE-vormals-AE-Innovative-Capital-SE-uebernimmt-die-Bitcoin-Deutschland-AG-und-erhoeht-Grundkapital-auf-EUR-5-000-0-4539010) Trading in Düsseldorf, more to follow I am sure.\n",
      "\n",
      "post at idx 16997\n",
      "400!!\n",
      "\n",
      "post at idx 17088\n",
      "TO THE MOON HYPE\n",
      "\n",
      "post at idx 17587\n",
      "It's Friday. Am I rich yet? (Just checking...)                                            __                                            _  |  |                        Yye                |_| |--|                     .---.  e           AA | | |  |                    /.--./\\  e        A                   // || \\/\\  e      A                  //|/|| |\\/\\   aa a    |\\o/ o/--                 ///|\\|| | \\/\\ .       ~o \\.'\\.o'                //|\\|/|| | |\\/\\ .      /.` \\o'               //\\|/|\\|| | | \\/\\ ( (  . \\o'       __ __ _//|/|\\|/|| | | |\\/`--' '      __/__/__//|\\|/|\\|| | | | `--'      |\\|/|\\|/|\\|/|\\|/|| | | | |\n",
      "\n",
      "post at idx 18177\n",
      "500$ on Huobi!\n",
      "\n"
     ]
    }
   ],
   "source": [
    "non_eng_count = sum([x[0] != '__label__en' for x in lang_preds[0]])\n",
    "print(\"non_eng: {}/{}={}%\".format(non_eng_count, len(texts), non_eng_count*100/len(texts)))\n",
    "non_eng_idxs = [i for i in range(len(texts)) if lang_preds[0][i][0] != '__label__en']\n",
    "for idx in non_eng_idxs[10:20]:\n",
    "    print(\"post at idx {}\".format(idx))\n",
    "    print(texts[idx])\n",
    "    print()"
   ]
  },
  {
   "cell_type": "markdown",
   "metadata": {},
   "source": [
    "Based on manual inspection, model appears to have high precision at detecting non-English posts (those that are said to be not-English aren't)"
   ]
  },
  {
   "cell_type": "code",
   "execution_count": 84,
   "metadata": {},
   "outputs": [],
   "source": [
    "# check low confidence preds\n",
    "conf_scores = [x[0] for x in lang_preds[1]]"
   ]
  },
  {
   "cell_type": "code",
   "execution_count": 87,
   "metadata": {},
   "outputs": [
    {
     "data": {
      "text/plain": [
       "<AxesSubplot:ylabel='Count'>"
      ]
     },
     "execution_count": 87,
     "metadata": {},
     "output_type": "execute_result"
    },
    {
     "data": {
      "image/png": "[encoded data removed]",
      "text/plain": [
       "<Figure size 432x288 with 1 Axes>"
      ]
     },
     "metadata": {},
     "output_type": "display_data"
    }
   ],
   "source": [
    "sns.histplot(conf_scores)"
   ]
  },
  {
   "cell_type": "code",
   "execution_count": 89,
   "metadata": {},
   "outputs": [
    {
     "name": "stdout",
     "output_type": "stream",
     "text": [
      "post at idx 2772\n",
      "lang: __label__ml\n",
      "conf: 0.045882698148489\n",
      "150000 users\n",
      "\n",
      "post at idx 137203\n",
      "lang: __label__de\n",
      "conf: 0.07228386402130127\n",
      "Legit lol  https://preview.redd.it/ujvcdtagfi251.png?width=1850&format=png&auto=webp&s=1ee17529015fc9e31fecc692aa6e9f37f4c50d1c\n",
      "\n",
      "post at idx 19664\n",
      "lang: __label__uk\n",
      "conf: 0.08601029217243195\n",
      "420!\n",
      "\n",
      "post at idx 56631\n",
      "lang: __label__es\n",
      "conf: 0.08881983906030655\n",
      "Bitcoin music lit muthafuckas ¡Mayday! Murs  [banging on big banks table tops ](https://youtu.be/MUGBVz3RIHM) https://youtu.be/GmuJhxXD_zg\n",
      "\n",
      "post at idx 131443\n",
      "lang: __label__en\n",
      "conf: 0.09308754652738571\n",
      "Good video and content on bitcoin timestamping [https://youtu.be/b2NQWgwRb54](https://youtu.be/b2NQWgwRb54)\n",
      "\n",
      "post at idx 54244\n",
      "lang: __label__uk\n",
      "conf: 0.09428723901510239\n",
      "Go Bitcoin! Go Bitcoin!\n",
      "\n",
      "post at idx 29765\n",
      "lang: __label__en\n",
      "conf: 0.09856415539979935\n",
      "600 yes\n",
      "\n",
      "post at idx 23413\n",
      "lang: __label__en\n",
      "conf: 0.10075394064188004\n",
      "PSA: Machines that run bitcoin nodes will get wallet download attempts I'm probably not the first person to notice this, so this may be a reminder for some of you, but I have a machine that runs a public bitcoin node and its received a scan for wallets. There would need to be some serious misconfiguration for this scan to succeed. This emphasises that its not a good idea to store a wallet on a machine that runs a public bitcoin node. These are failed http requests that occurred in a 24 hour period. (They have bee repeated on subsequent occasions).        /.ssh/authorized_keys: 1 Time(s)        /.ssh/authorized_keys2: 1 Time(s)        /.ssh/config: 1 Time(s)        /.ssh/dsa: 1 Time(s)        /.ssh/id_dsa: 1 Time(s)        /.ssh/id_dsa.2: 1 Time(s)        /.ssh/id_dsa.old: 1 Time(s)        /.ssh/id_dsa.pub: 1 Time(s)        /.ssh/id_dsa_2: 1 Time(s)        /.ssh/id_ecdsa: 1 Time(s)        /.ssh/id_ecdsa.2: 1 Time(s)        /.ssh/id_ecdsa.old: 1 Time(s)        /.ssh/id_ecdsa_2: 1 Time(s)        /.ssh/id_ecdsa_old: 1 Time(s)        /.ssh/id_rsa: 1 Time(s)        /.ssh/id_rsa.2: 1 Time(s)        /.ssh/id_rsa.old: 1 Time(s)        /.ssh/id_rsa.pub: 1 Time(s)        /.ssh/id_rsa_2: 1 Time(s)        /.ssh/identity: 1 Time(s)        /.ssh/key: 1 Time(s)        /.ssh/known_hosts: 1 Time(s)        /.ssh/priv: 1 Time(s)        /.ssh/rsa: 1 Time(s)        /365coin.7z: 1 Time(s)        /365coin.bkp: 1 Time(s)        /365coin.bz2: 1 Time(s)        /365coin.dump: 1 Time(s)        /365coin.gz: 1 Time(s)        /365coin.lzma: 1 Time(s)        /365coin.rar: 1 Time(s)        /365coin.tar: 1 Time(s)        /365coin.tar.bz: 1 Time(s)        /365coin.tar.bz2: 1 Time(s)        /365coin.tar.gz: 1 Time(s)        /365coin.tar.lzma: 1 Time(s)        /365coin.tar.xz: 1 Time(s)        /365coin.tbz: 1 Time(s)        /365coin.tbz2: 1 Time(s)        /365coin.tgz: 1 Time(s)        /365coin.txz: 1 Time(s)        /365coin.xz: 1 Time(s)        /365coin.zip: 1 Time(s)        /authorized_keys: 1 Time(s)        /authorized_keys2: 1 Time(s)        /backup.wallet.7z: 1 Time(s)        /backup.wallet.bkp: 1 Time(s)        /backup.wallet.bz2: 1 Time(s)        /backup.wallet.dump: 1 Time(s)        /backup.wallet.gz: 1 Time(s)        /backup.wallet.lzma: 1 Time(s)        /backup.wallet.rar: 1 Time(s)        /backup.wallet.tar: 1 Time(s)        /backup.wallet.tar.bz: 1 Time(s)        /backup.wallet.tar.bz2: 1 Time(s)        /backup.wallet.tar.gz: 1 Time(s)        /backup.wallet.tar.lzma: 1 Time(s)        /backup.wallet.tar.xz: 1 Time(s)        /backup.wallet.tbz: 1 Time(s)        /backup.wallet.tbz2: 1 Time(s)        /backup.wallet.tgz: 1 Time(s)        /backup.wallet.txz: 1 Time(s)        /backup.wallet.xz: 1 Time(s)        /backup.wallet.zip: 1 Time(s)        /bfgminer.7z: 1 Time(s)        /bfgminer.bkp: 1 Time(s)        /bfgminer.bz2: 1 Time(s)        /bfgminer.dump: 1 Time(s)        /bfgminer.gz: 1 Time(s)        /bfgminer.lzma: 1 Time(s)        /bfgminer.rar: 1 Time(s)        /bfgminer.tar: 1 Time(s)        /bfgminer.tar.bz: 1 Time(s)        /bfgminer.tar.bz2: 1 Time(s)        /bfgminer.tar.gz: 1 Time(s)        /bfgminer.tar.lzma: 1 Time(s)        /bfgminer.tar.xz: 1 Time(s)        /bfgminer.tbz: 1 Time(s)        /bfgminer.tbz2: 1 Time(s)        /bfgminer.tgz: 1 Time(s)        /bfgminer.txz: 1 Time(s)        /bfgminer.xz: 1 Time(s)        /bfgminer.zip: 1 Time(s)        /bitcoin.7z: 1 Time(s)        /bitcoin.bkp: 1 Time(s)        /bitcoin.bz2: 1 Time(s)        /bitcoin.dump: 1 Time(s)        /bitcoin.gz: 1 Time(s)        /bitcoin.lzma: 1 Time(s)        /bitcoin.rar: 1 Time(s)        /bitcoin.tar: 1 Time(s)        /bitcoin.tar.bz: 1 Time(s)        /bitcoin.tar.bz2: 1 Time(s)        /bitcoin.tar.gz: 1 Time(s)        /bitcoin.tar.lzma: 1 Time(s)        /bitcoin.tar.xz: 1 Time(s)        /bitcoin.tbz: 1 Time(s)        /bitcoin.tbz2: 1 Time(s)        /bitcoin.tgz: 1 Time(s)        /bitcoin.txz: 1 Time(s)        /bitcoin.xz: 1 Time(s)        /bitcoin.zip: 1 Time(s)        /bitcoind.7z: 1 Time(s)        /bitcoind.bkp: 1 Time(s)        /bitcoind.bz2: 1 Time(s)        /bitcoind.dump: 1 Time(s)        /bitcoind.gz: 1 Time(s)        /bitcoind.lzma: 1 Time(s)        /bitcoind.rar: 1 Time(s)        /bitcoind.tar: 1 Time(s)        /bitcoind.tar.bz: 1 Time(s)        /bitcoind.tar.bz2: 1 Time(s)        /bitcoind.tar.gz: 1 Time(s)        /bitcoind.tar.lzma: 1 Time(s)        /bitcoind.tar.xz: 1 Time(s)        /bitcoind.tbz: 1 Time(s)        /bitcoind.tbz2: 1 Time(s)        /bitcoind.tgz: 1 Time(s)        /bitcoind.txz: 1 Time(s)        /bitcoind.xz: 1 Time(s)        /bitcoind.zip: 1 Time(s)        /blockchain.7z: 1 Time(s)        /blockchain.bkp: 1 Time(s)        /blockchain.bz2: 1 Time(s)        /blockchain.dump: 1 Time(s)        /blockchain.gz: 1 Time(s)        /blockchain.lzma: 1 Time(s)        /blockchain.rar: 1 Time(s)        /blockchain.tar: 1 Time(s)        /blockchain.tar.bz: 1 Time(s)        /blockchain.tar.bz2: 1 Time(s)        /blockchain.tar.gz: 1 Time(s)        /blockchain.tar.lzma: 1 Time(s)        /blockchain.tar.xz: 1 Time(s)        /blockchain.tbz: 1 Time(s)        /blockchain.tbz2: 1 Time(s)        /blockchain.tgz: 1 Time(s)        /blockchain.txz: 1 Time(s)        /blockchain.xz: 1 Time(s)        /blockchain.zip: 1 Time(s)        /btc.7z: 1 Time(s)        /btc.bkp: 1 Time(s)        /btc.bz2: 1 Time(s)        /btc.dump: 1 Time(s)        /btc.gz: 1 Time(s)        /btc.lzma: 1 Time(s)        /btc.rar: 1 Time(s)        /btc.tar: 1 Time(s)        /btc.tar.bz: 1 Time(s)        /btc.tar.bz2: 1 Time(s)        /btc.tar.gz: 1 Time(s)        /btc.tar.lzma: 1 Time(s)        /btc.tar.xz: 1 Time(s)        /btc.tbz: 1 Time(s)        /btc.tbz2: 1 Time(s)        /btc.tgz: 1 Time(s)        /btc.txz: 1 Time(s)        /btc.xz: 1 Time(s)        /btc.zip: 1 Time(s)        /cgminer.7z: 1 Time(s)        /cgminer.bkp: 1 Time(s)        /cgminer.bz2: 1 Time(s)        /cgminer.dump: 1 Time(s)        /cgminer.gz: 1 Time(s)        /cgminer.lzma: 1 Time(s)        /cgminer.rar: 1 Time(s)        /cgminer.tar: 1 Time(s)        /cgminer.tar.bz: 1 Time(s)        /cgminer.tar.bz2: 1 Time(s)        /cgminer.tar.gz: 1 Time(s)        /cgminer.tar.lzma: 1 Time(s)        /cgminer.tar.xz: 1 Time(s)        /cgminer.tbz: 1 Time(s)        /cgminer.tbz2: 1 Time(s)        /cgminer.tgz: 1 Time(s)        /cgminer.txz: 1 Time(s)        /cgminer.xz: 1 Time(s)        /cgminer.zip: 1 Time(s)        /coin.7z: 1 Time(s)        /coin.bkp: 1 Time(s)        /coin.bz2: 1 Time(s)        /coin.dump: 1 Time(s)        /coin.gz: 1 Time(s)        /coin.lzma: 1 Time(s)        /coin.rar: 1 Time(s)        /coin.tar: 1 Time(s)        /coin.tar.bz: 1 Time(s)        /coin.tar.bz2: 1 Time(s)        /coin.tar.gz: 1 Time(s)        /coin.tar.lzma: 1 Time(s)        /coin.tar.xz: 1 Time(s)        /coin.tbz: 1 Time(s)        /coin.tbz2: 1 Time(s)        /coin.tgz: 1 Time(s)        /coin.txz: 1 Time(s)        /coin.xz: 1 Time(s)        /coin.zip: 1 Time(s)        /coins.7z: 1 Time(s)        /coins.bkp: 1 Time(s)        /coins.bz2: 1 Time(s)        /coins.dump: 1 Time(s)        /coins.gz: 1 Time(s)        /coins.lzma: 1 Time(s)        /coins.rar: 1 Time(s)        /coins.tar: 1 Time(s)        /coins.tar.bz: 1 Time(s)        /coins.tar.bz2: 1 Time(s)        /coins.tar.gz: 1 Time(s)        /coins.tar.lzma: 1 Time(s)        /coins.tar.xz: 1 Time(s)        /coins.tbz: 1 Time(s)        /coins.tbz2: 1 Time(s)        /coins.tgz: 1 Time(s)        /coins.txz: 1 Time(s)        /coins.xz: 1 Time(s)        /coins.zip: 1 Time(s)        /config: 1 Time(s)        /customer/javascript/misc.js: 1 Time(s)        /dsa: 1 Time(s)        /id_dsa: 1 Time(s)        /id_dsa.old: 1 Time(s)        /id_dsa.pub: 1 Time(s)        /id_ecdsa: 1 Time(s)        /id_ecdsa.2: 1 Time(s)        /id_ecdsa.old: 1 Time(s)        /id_ecdsa_2: 1 Time(s)        /id_ecdsa_old: 1 Time(s)        /id_rsa: 1 Time(s)        /id_rsa.old: 1 Time(s)        /id_rsa.pub: 1 Time(s)        /identity: 1 Time(s)        /key: 1 Time(s)        /key.priv: 1 Time(s)        /known_hosts: 1 Time(s)        /litecoin.7z: 1 Time(s)        /litecoin.bkp: 1 Time(s)        /litecoin.bz2: 1 Time(s)        /litecoin.dump: 1 Time(s)        /litecoin.gz: 1 Time(s)        /litecoin.lzma: 1 Time(s)        /litecoin.rar: 1 Time(s)        /litecoin.tar: 1 Time(s)        /litecoin.tar.bz: 1 Time(s)        /litecoin.tar.bz2: 1 Time(s)        /litecoin.tar.gz: 1 Time(s)        /litecoin.tar.lzma: 1 Time(s)        /litecoin.tar.xz: 1 Time(s)        /litecoin.tbz: 1 Time(s)        /litecoin.tbz2: 1 Time(s)        /litecoin.tgz: 1 Time(s)        /litecoin.txz: 1 Time(s)        /litecoin.xz: 1 Time(s)        /litecoin.zip: 1 Time(s)        /money.7z: 1 Time(s)        /money.bkp: 1 Time(s)        /money.bz2: 1 Time(s)        /money.dump: 1 Time(s)        /money.gz: 1 Time(s)        /money.lzma: 1 Time(s)        /money.rar: 1 Time(s)        /money.tar: 1 Time(s)        /money.tar.bz: 1 Time(s)        /money.tar.bz2: 1 Time(s)        /money.tar.gz: 1 Time(s)        /money.tar.lzma: 1 Time(s)        /money.tar.xz: 1 Time(s)        /money.tbz: 1 Time(s)        /money.tbz2: 1 Time(s)        /money.tgz: 1 Time(s)        /money.txz: 1 Time(s)        /money.xz: 1 Time(s)        /money.zip: 1 Time(s)        /namecoin.7z: 1 Time(s)        /namecoin.bkp: 1 Time(s)        /namecoin.bz2: 1 Time(s)        /namecoin.dump: 1 Time(s)        /namecoin.gz: 1 Time(s)        /namecoin.lzma: 1 Time(s)        /namecoin.rar: 1 Time(s)        /namecoin.tar: 1 Time(s)        /namecoin.tar.bz: 1 Time(s)        /namecoin.tar.bz2: 1 Time(s)        /namecoin.tar.gz: 1 Time(s)        /namecoin.tar.lzma: 1 Time(s)        /namecoin.tar.xz: 1 Time(s)        /namecoin.tbz: 1 Time(s)        /namecoin.tbz2: 1 Time(s)        /namecoin.tgz: 1 Time(s)        /namecoin.txz: 1 Time(s)        /namecoin.xz: 1 Time(s)        /namecoin.zip: 1 Time(s)        /novacoin.7z: 1 Time(s)        /novacoin.bkp: 1 Time(s)        /novacoin.bz2: 1 Time(s)        /novacoin.dump: 1 Time(s)        /novacoin.gz: 1 Time(s)        /novacoin.lzma: 1 Time(s)        /novacoin.rar: 1 Time(s)        /novacoin.tar: 1 Time(s)        /novacoin.tar.bz: 1 Time(s)        /novacoin.tar.bz2: 1 Time(s)        /novacoin.tar.gz: 1 Time(s)        /novacoin.tar.lzma: 1 Time(s)        /novacoin.tar.xz: 1 Time(s)        /novacoin.tbz: 1 Time(s)        /novacoin.tbz2: 1 Time(s)        /novacoin.tgz: 1 Time(s)        /novacoin.txz: 1 Time(s)        /novacoin.xz: 1 Time(s)        /novacoin.zip: 1 Time(s)        /ppcoin.7z: 1 Time(s)        /ppcoin.bkp: 1 Time(s)        /ppcoin.bz2: 1 Time(s)        /ppcoin.dump: 1 Time(s)        /ppcoin.gz: 1 Time(s)        /ppcoin.lzma: 1 Time(s)        /ppcoin.rar: 1 Time(s)        /ppcoin.tar: 1 Time(s)        /ppcoin.tar.bz: 1 Time(s)        /ppcoin.tar.bz2: 1 Time(s)        /ppcoin.tar.gz: 1 Time(s)        /ppcoin.tar.lzma: 1 Time(s)        /ppcoin.tar.xz: 1 Time(s)        /ppcoin.tbz: 1 Time(s)        /ppcoin.tbz2: 1 Time(s)        /ppcoin.tgz: 1 Time(s)        /ppcoin.txz: 1 Time(s)        /ppcoin.xz: 1 Time(s)        /ppcoin.zip: 1 Time(s)        /primecoin.7z: 1 Time(s)        /primecoin.bkp: 1 Time(s)        /primecoin.bz2: 1 Time(s)        /primecoin.dump: 1 Time(s)        /primecoin.gz: 1 Time(s)        /primecoin.lzma: 1 Time(s)        /primecoin.rar: 1 Time(s)        /primecoin.tar: 1 Time(s)        /primecoin.tar.bz: 1 Time(s)        /primecoin.tar.bz2: 1 Time(s)        /primecoin.tar.gz: 1 Time(s)        /primecoin.tar.lzma: 1 Time(s)        /primecoin.tar.xz: 1 Time(s)        /primecoin.tbz: 1 Time(s)        /primecoin.tbz2: 1 Time(s)        /primecoin.tgz: 1 Time(s)        /primecoin.txz: 1 Time(s)        /primecoin.xz: 1 Time(s)        /primecoin.zip: 1 Time(s)        /robots.txt: 1 Time(s)        /rsa: 1 Time(s)        /w.7z: 1 Time(s)        /w.bkp: 1 Time(s)        /w.bz2: 1 Time(s)        /w.dump: 1 Time(s)        /w.gz: 1 Time(s)        /w.lzma: 1 Time(s)        /w.rar: 1 Time(s)        /w.tar: 1 Time(s)        /w.tar.bz: 1 Time(s)        /w.tar.bz2: 1 Time(s)        /w.tar.gz: 1 Time(s)        /w.tar.lzma: 1 Time(s)        /w.tar.xz: 1 Time(s)        /w.tbz: 1 Time(s)        /w.tbz2: 1 Time(s)        /w.tgz: 1 Time(s)        /w.txz: 1 Time(s)        /w.xz: 1 Time(s)        /w.zip: 1 Time(s)        /wallet.7z: 1 Time(s)        /wallet.bkp: 1 Time(s)        /wallet.bz2: 1 Time(s)        /wallet.dump: 1 Time(s)        /wallet.gz: 1 Time(s)        /wallet.lzma: 1 Time(s)        /wallet.old.7z: 1 Time(s)        /wallet.old.bkp: 1 Time(s)        /wallet.old.bz2: 1 Time(s)        /wallet.old.dump: 1 Time(s)        /wallet.old.gz: 1 Time(s)        /wallet.old.lzma: 1 Time(s)        /wallet.old.rar: 1 Time(s)        /wallet.old.tar: 1 Time(s)        /wallet.old.tar.bz: 1 Time(s)        /wallet.old.tar.bz2: 1 Time(s)        /wallet.old.tar.gz: 1 Time(s)        /wallet.old.tar.lzma: 1 Time(s)        /wallet.old.tar.xz: 1 Time(s)        /wallet.old.tbz: 1 Time(s)        /wallet.old.tbz2: 1 Time(s)        /wallet.old.tgz: 1 Time(s)        /wallet.old.txz: 1 Time(s)        /wallet.old.xz: 1 Time(s)        /wallet.old.zip: 1 Time(s)        /wallet.rar: 1 Time(s)        /wallet.tar: 1 Time(s)        /wallet.tar.bz: 1 Time(s)        /wallet.tar.bz2: 1 Time(s)        /wallet.tar.gz: 1 Time(s)        /wallet.tar.lzma: 1 Time(s)        /wallet.tar.xz: 1 Time(s)        /wallet.tbz: 1 Time(s)        /wallet.tbz2: 1 Time(s)        /wallet.tgz: 1 Time(s)        /wallet.txz: 1 Time(s)        /wallet.xz: 1 Time(s)        /wallet.zip: 1 Time(s)        /wallets.7z: 1 Time(s)        /wallets.bkp: 1 Time(s)        /wallets.bz2: 1 Time(s)        /wallets.dump: 1 Time(s)        /wallets.gz: 1 Time(s)        /wallets.lzma: 1 Time(s)        /wallets.rar: 1 Time(s)        /wallets.tar: 1 Time(s)        /wallets.tar.bz: 1 Time(s)        /wallets.tar.bz2: 1 Time(s)        /wallets.tar.gz: 1 Time(s)        /wallets.tar.lzma: 1 Time(s)        /wallets.tar.xz: 1 Time(s)        /wallets.tbz: 1 Time(s)        /wallets.tbz2: 1 Time(s)        /wallets.tgz: 1 Time(s)        /wallets.txz: 1 Time(s)        /wallets.xz: 1 Time(s)        /wallets.zip: 1 Time(s) \n",
      "\n",
      "post at idx 109747\n",
      "lang: __label__en\n",
      "conf: 0.10846646875143051\n",
      "Bitcoin puzzle https://youtu.be/XTy38rkPmWw\n",
      "\n",
      "post at idx 54264\n",
      "lang: __label__no\n",
      "conf: 0.10881303250789642\n",
      "Flirting W 2800 doitforlarry\n",
      "\n"
     ]
    }
   ],
   "source": [
    "idxs_by_conf = np.argsort(conf_scores)\n",
    "for i in range(10):\n",
    "    post_idx = idxs_by_conf[i]\n",
    "    print(\"post at idx {}\".format(post_idx))\n",
    "    print(\"lang: {}\".format(lang_preds[0][post_idx][0]))\n",
    "    print(\"conf: {}\".format(lang_preds[1][post_idx][0]))\n",
    "    print(texts[post_idx])\n",
    "    print()"
   ]
  },
  {
   "cell_type": "markdown",
   "metadata": {},
   "source": [
    "Tends to have low confidence for short/weird posts. Could implement confidence threshold! (Although these posts are mainly English) --> but this helps to identify posts that aren't normal text."
   ]
  },
  {
   "cell_type": "code",
   "execution_count": 92,
   "metadata": {},
   "outputs": [
    {
     "name": "stdout",
     "output_type": "stream",
     "text": [
      "post at idx 112859\n",
      "lang: __label__en\n",
      "conf: 0.5496913194656372\n",
      "lightning network withdraw errors Hi, I setup an raspiblitz lightning node, which is amazing and super easy to use. However, I have problems with withdrawing. Btw, for sending lightning payment, everything works perfectly. I tested [https://www.lightningspin.com](https://www.lightningspin.com/). When I tried to withdraw I am getting error. I also tested [https://lightning-roulette.com/](https://lightning-roulette.com/). Again I got an error: Here the error message from [https://lightning-roulette.com/](https://lightning-roulette.com/): unable to route payment to destination: TemporaryChannelFailure(update=(\\*lnwire.ChannelUpdate)(0xc01fb4cbe0)({ Signature: (lnwire.Sig) (len=64 cap=64) { 00000000 38 9b 7d 09 c0 f5 c9 73 e3 4d e0 da c3 80 45 c1 |8.}....s.M....E.| 00000010 87 2c 17 2e 83 5c 49 7d e3 e7 23 29 b3 62 0f ac |.,...\\\\I}..#).b..| 00000020 38 e3 dd 22 14 08 7e 96 c1 1a 00 f8 6f 6d 4b 67 |8..\"..\\~.....omKg| 00000030 eb eb e4 f5 fb 05 0c 74 29 9d 34 ca 43 08 bb 92 |.......t).4.C...| }, ChainHash: (chainhash.Hash) (len=32 cap=32) 000000000019d6689c085ae165831e934ff763ae46a2a6c172b3f1b60a8ce26f, ShortChannelID: (lnwire.ShortChannelID) 553920:1031:1, Timestamp: (uint32) 1544870842, Flags: (lnwire.ChanUpdateFlag) 0, TimeLockDelta: (uint16) 144, HtlcMinimumMsat: (lnwire.MilliSatoshi) 1000 mSAT, BaseFee: (uint32) 1000, FeeRate: (uint32) 1, ExtraOpaqueData: (\\[\\]uint8) <nil> }) ) &#x200B; Can anyone tell me why I cannot get lightning payment ?\n",
      "\n",
      "post at idx 53244\n",
      "lang: __label__en\n",
      "conf: 0.5497931241989136\n",
      "Bittrex to honor bitcoin cash on 1:1 ratio Full release here: https://support.bittrex.com/hc/en-us/articles/115000808991-Statement-on-Bitcoin-Cash-BCC-?mobile_site=true\n",
      "\n",
      "post at idx 136443\n",
      "lang: __label__en\n",
      "conf: 0.5500138401985168\n",
      "Historical bitcoin price on pizza day 2010: $0.0041 2011: $6.47 2012: $5.07 2013: $120.96 2014: $508.41 2015: $238.17 2016: $445.23 2017: $2,136.02 2018: $8,465.99 2019: $7,623.51 2020: $9,205.40 Source: https://twitter.com/RiverFinancial/status/1263912341437067268\n",
      "\n",
      "post at idx 108934\n",
      "lang: __label__en\n",
      "conf: 0.5501759648323059\n",
      "The Halving Factor To Hit Bitcoin? New Chart Forecasts $3K BTC By 2020 [http://www.cryptocapinfo.com/the-halving-factor-to-hit-bitcoin-new-chart-forecasts-3k-btc-by-2020/](http://www.cryptocapinfo.com/the-halving-factor-to-hit-bitcoin-new-chart-forecasts-3k-btc-by-2020/) https://preview.redd.it/hhssnlhxqwg11.jpg?width=757&format=pjpg&auto=webp&s=c8518dbb7575d348931992cc07603fc126a72b49\n",
      "\n",
      "post at idx 4356\n",
      "lang: __label__en\n",
      "conf: 0.5503218770027161\n",
      "minerlink.com not working ?\n",
      "\n",
      "post at idx 1582\n",
      "lang: __label__en\n",
      "conf: 0.5503381490707397\n",
      "Sarutobi hits 30k transactions in one day https://blockchain.info/address/3MXxfNZoifLYdS8wJTpvfeDNPt9ZWuMAaN **Edit: Correction, over 5 days**\n",
      "\n",
      "post at idx 112426\n",
      "lang: __label__en\n",
      "conf: 0.5503711700439453\n",
      "1,000,000 Subscribers!!!!!! Actually 1,000,019 subscribers\n",
      "\n",
      "post at idx 83192\n",
      "lang: __label__en\n",
      "conf: 0.5503913164138794\n",
      "A Haiku One bitcoin equals   Eleven thousand U S   On this blessed day  \n",
      "\n",
      "post at idx 126706\n",
      "lang: __label__en\n",
      "conf: 0.5504667162895203\n",
      "I withdraw money from bank to buy bitcoin &#x200B; https://preview.redd.it/chtbqwamvqs31.png?width=848&format=png&auto=webp&s=2aaa67f320ab7cbd69fbf4e88136d028d7ca70a6\n",
      "\n",
      "post at idx 26748\n",
      "lang: __label__ru\n",
      "conf: 0.5505577921867371\n",
      "700!!\n",
      "\n",
      "post at idx 121473\n",
      "lang: __label__en\n",
      "conf: 0.5505936145782471\n",
      "Remember, Fast Money In = Fast Money Out\n",
      "\n",
      "post at idx 133046\n",
      "lang: __label__en\n",
      "conf: 0.5508594512939453\n",
      "Why bitcoin no moon?\n",
      "\n",
      "post at idx 104553\n",
      "lang: __label__en\n",
      "conf: 0.5510099530220032\n",
      "Version 0.9.8 of the MMGen online/offline software wallet, key management and cold storage solution released! ## **Announcing version 0.9.8 of the MMGen online/offline software wallet** ### Interesting new features: - Bech32 address support [(commit)](https://github.com/mmgen/mmgen/commit/e4114eedf39c0f6a2d159b558122347075dc3dd1) - Stealth mnemonic entry [(commit)](https://github.com/mmgen/mmgen/commit/90ebc94170f8a24b7d71929e93c69bede2d776f7) ### New comprehensive UTF-8 support: - UTF-8 filenames and paths [(commit)](https://github.com/mmgen/mmgen/commit/896c7fe99640179dadefed0b34c96809426cadf9) - UTF-8 tracking wallet comments [(commit)](https://github.com/mmgen/mmgen/commit/d49c8627aa1dd8f7b3219c9d4716be3637960cb5) - UTF-8 wallet labels [(commit)](https://github.com/mmgen/mmgen/commit/21042737fe3f5e102ede0dbec7df0a1e8c6fcb4e) - Proper formatting of CJK strings [(commit)](https://github.com/mmgen/mmgen/commit/ea6629d6441d2cb9ffb1addb20bdcdd8a8afd44f) See the [release notes on Github](https://github.com/mmgen/mmgen/releases/tag/v0.9.8) for details. [**MMGen project repository**](https://github.com/mmgen/mmgen) \n",
      "\n",
      "post at idx 17509\n",
      "lang: __label__en\n",
      "conf: 0.5510888695716858\n",
      "Cryptsy is scammers? ...2,5 weeks money not send. Cryptsy appropriated 13 BTC. Ticket printscreen - http://s016.radikal.ru/i334/1510/03/9c1ad1145e75.jpg ...or link - https://cryptsy.freshdesk.com/support/tickets/210566\n",
      "\n",
      "post at idx 79660\n",
      "lang: __label__en\n",
      "conf: 0.55134516954422\n",
      "Mempool is extremely congested. Source: https://jochen-hoenicke.de/queue/ https://blockchain.info/unconfirmed-transactions\n",
      "\n",
      "post at idx 108340\n",
      "lang: __label__en\n",
      "conf: 0.5514160990715027\n",
      "Typical Bitcoin ETF fan https://reddit.com/link/9633fr/video/7srcqcaji6f11/player\n",
      "\n",
      "post at idx 97573\n",
      "lang: __label__en\n",
      "conf: 0.5515410900115967\n",
      "5 Sat/Byte can get confirm right now. Stop pay more! Proof: https://blockchain.info/tx/7acf079cf779a64d1257ca6f6e6fe444e8efc6cab7e97aa050cf5269216709f9 Only 0.0000113 BTC in fees\n",
      "\n",
      "post at idx 68517\n",
      "lang: __label__en\n",
      "conf: 0.5515567064285278\n",
      "Huge investment plan! SO i'm back! After lurking r/bitcoin for at least 7 years i have finally come to the conclusion of setting up my coinbase wallet. I &nbsp;use a lot of discord to run my servers regardi&nbsp;ng all of the other topics that i&nbsp; cover here on this beautiful site...  &nbsp;&nbsp;&nbsp;&nbsp;&nbsp;&nbsp;&nbsp;&nbsp;&nbsp;&nbsp;&nbsp;&nbsp;&nbsp;&nbsp;&nbsp;&nbsp;&nbsp;&nbsp;&nbsp;&nbsp;&nbsp;&nbsp;&nbsp;&nbsp;&nbsp;&nbsp;&nbsp;&nbsp;&nbsp;&nbsp;&nbsp;&nbsp;&nbsp;&nbsp;&nbsp;&nbsp;&nbsp;&nbsp;&nbsp;&nbsp;&nbsp;&nbsp;&nbsp;&nbsp;&nbsp;&nbsp;&nbsp;&nbsp;&nbsp;&nbsp;&nbsp;&nbsp;&nbsp;&nbsp;&nbsp;&nbsp;&nbsp;&nbsp;&nbsp;&nbsp;&nbsp;&nbsp;&nbsp;&nbsp;&nbsp;&nbsp;&nbsp;&nbsp;&nbsp;&nbsp;&nbsp;&nbsp;&nbsp;&nbsp;&nbsp;&nbsp;&nbsp;&nbsp;&nbsp;&nbsp;&nbsp;&nbsp;&nbsp;&nbsp;&nbsp;&nbsp;&nbsp;&nbsp;&nbsp;&nbsp;&nbsp;&nbsp;&nbsp;&nbsp;&nbsp;&nbsp;&nbsp;&nbsp;&nbsp;&nbsp;&nbsp;&nbsp;&nbsp;&nbsp;&nbsp;&nbsp;&nbsp;&nbsp;&nbsp;&nbsp;&nbsp;&nbsp;&nbsp;&nbsp;&nbsp;&nbsp;&nbsp;&nbsp;&nbsp;&nbsp;&nbsp;&nbsp;&nbsp;&nbsp;&nbsp;&nbsp;&nbsp;&nbsp;&nbsp;&nbsp;&nbsp;&nbsp;&nbsp;&nbsp;&nbsp;&nbsp;&nbsp;&nbsp;&nbsp;&nbsp;&nbsp;&nbsp;&nbsp;&nbsp;&nbsp;&nbsp;&nbsp;&nbsp;&nbsp;&nbsp;&nbsp;&nbsp;&nbsp;&nbsp;&nbsp;&nbsp;&nbsp;&nbsp;&nbsp;&nbsp;&nbsp;&nbsp;&nbsp;&nbsp;&nbsp;&nbsp;&nbsp;&nbsp;&nbsp;&nbsp;&nbsp;&nbsp;&nbsp;&nbsp;&nbsp;&nbsp;&nbsp;&nbsp;&nbsp;&nbsp;&nbsp;&nbsp;&nbsp;&nbsp;&nbsp;&nbsp;&nbsp; &nbsp; &nbsp; &nbsp; &nbsp; &nbsp; &nbsp; &nbsp; and i was looking through coding for discord and i found out that discord has 'discord tokens' so i found out after that, that the tokens have a long string of numbers. I then put 1 and 1 together to make 2 and figures out that you can turn discord tokens into bitcoin but im not sure on how that process would actually transfer!~? Like how  &nbsp;difficult would it be if i wanted to change my discord token into a bitcoin. I'd be filthy rich! 530349BTC? That's an insane amount. I mean i already hoard about 750 BTC, but i'm not sure if i should cash in all of it now or &nbsp;wait until  &nbsp; &nbsp; &nbsp;&nbsp; &nbsp; &nbsp; &nbsp; &nbsp; the market rises even further? No jokers, i'm trying to gauge how to go through this entire process...\n",
      "\n",
      "post at idx 112971\n",
      "lang: __label__en\n",
      "conf: 0.5515646934509277\n",
      "Testing my new lightning setup, 150 sat I created an invoice for 150 sat. Who wants to try it?  &#x200B; lnbc1500n1pwpyyn7pp5w748zg0jnjl3q4r9wz0lljdxhm065zl8j0qya8xyjwtm6vryg72sdqqcqzysh9aws8a8xa4qyxp28zxhfpxmcm2gctuer88q9vggr3ft6n32j30s0uq4uxyaspuysmmfqrl06lw3w6a2mdatjqjjh2ya2wy4sydrz8gqtea8v9 &#x200B;\n",
      "\n",
      "post at idx 29869\n",
      "lang: __label__en\n",
      "conf: 0.5515793561935425\n",
      "Bitfinex allows margin trading for BFX Margin trading / funding now works for BFX Tokens\n",
      "\n",
      "post at idx 133698\n",
      "lang: __label__en\n",
      "conf: 0.551659882068634\n",
      "Blockchain.info/com - login page is blank. [https://www.blockchain.com/](https://www.blockchain.com/) \\- Hit the Login button.\n",
      "\n",
      "post at idx 113656\n",
      "lang: __label__en\n",
      "conf: 0.5518289804458618\n",
      "2018 – Bitcoins best ever year Check out this article : [https://thavash.wordpress.com/2018/12/18/2018-bitcoins-best-ever-year/](https://thavash.wordpress.com/2018/12/18/2018-bitcoins-best-ever-year/) &#x200B;\n",
      "\n",
      "post at idx 116036\n",
      "lang: __label__en\n",
      "conf: 0.5518954396247864\n",
      "Samsung Galaxy S10 Has a Preloaded with Enjin Wallet [https://www.youtube.com/watch?v=yvFLqrvi\\_M4](https://www.youtube.com/watch?v=yvFLqrvi_M4)\n",
      "\n",
      "post at idx 126321\n",
      "lang: __label__en\n",
      "conf: 0.5519006848335266\n",
      "Coinbase Pro triple the fees and made the maker and taker fee the same essentially. &#x200B; [Coinbase Pro new fee structure](https://preview.redd.it/42sbijsc9dq31.png?width=1489&format=png&auto=webp&s=ebbc7daa2c771aa97e39182a9fda846ebe83f8ef)\n",
      "\n",
      "post at idx 138707\n",
      "lang: __label__en\n",
      "conf: 0.5521408915519714\n",
      "Bitcoin social trends just changed dramatically today. Individual social contributors posting Bitcoin-related content have hit 93,124, marking the highest point since the Bitcoin halving on May 11. [https://lunarcrush.com/coins/btc/bitcoin?metric=social\\_contributors&interval=1%20Day](https://lunarcrush.com/coins/btc/bitcoin?metric=social_contributors&interval=1%20Day) https://preview.redd.it/zgiizuq29b951.png?width=2400&format=png&auto=webp&s=a99302c206f7072bb116a9406e96de4dc032f0eb\n",
      "\n",
      "post at idx 110177\n",
      "lang: __label__en\n",
      "conf: 0.552149772644043\n",
      "Binance Locks Down User’s Wallet Holding 1200 BTC   # Binance Locks Down User’s Wallet Holding 1200 BTC [https://ethereumworldnews.com/binance-locks-down-users-wallet-holding-1200-btc/](https://ethereumworldnews.com/binance-locks-down-users-wallet-holding-1200-btc/)\n",
      "\n",
      "post at idx 8350\n",
      "lang: __label__en\n",
      "conf: 0.5524043440818787\n",
      "Diversification - Good or Bad ? https://bitcointalk.org/index.php?topic=998409.0\n",
      "\n",
      "post at idx 42851\n",
      "lang: __label__en\n",
      "conf: 0.5524329543113708\n",
      "The War for Bitcoin Reaches Israel Amidst Growing Chaos  [Attack or Coincidence?](https://www.coinstaker.com/war-bitcoin-reaches-israel-amidst-growing-chaos/)\n",
      "\n",
      "post at idx 96611\n",
      "lang: __label__en\n",
      "conf: 0.5524563789367676\n",
      "Bottom of the Januar Dip - Guesses *January My bet is 9110.99 $ \n",
      "\n",
      "post at idx 129519\n",
      "lang: __label__en\n",
      "conf: 0.5524585843086243\n",
      "Bitcoin Can Overtake Gold When It Reaches This Marketcap **Bitcoin vs Gold**  [https://www.cryptozink.io/bitcoin-vs-gold-btc-can-reach-250k-take-gold-market-shares/](https://www.cryptozink.io/bitcoin-vs-gold-btc-can-reach-250k-take-gold-market-shares/)\n",
      "\n",
      "post at idx 127949\n",
      "lang: __label__en\n",
      "conf: 0.5524790287017822\n",
      "Bitcoin Rockets-Android gaming app https://play.google.com/store/apps/details?id=com.bit.bitcoinrocket\n",
      "\n",
      "post at idx 4252\n",
      "lang: __label__en\n",
      "conf: 0.5525386333465576\n",
      "Tipping / Giving Tuesday - first 1000 comments get free Bitcoin! **SOME TIPPING [SUGGESTIONS](https://www.reddit.com/r/changetip/wiki/suggestions)** Will do it like last time... Those of you who submit great charities or causes that need donations will receive higher gifts from me and have it added to this text! :D Those of you who just want the charity of your own pockets to expand still say Hi :) 100 bits for the first **1000** comments! **### PLEASE CONSIDER PASSING MY TIPS ON TO OTHERS OR CHARITIES :D ###** **If the older members spot fake accounts trying to take the charity and twist it for their own selfish reasons - please feel free to down vote it or comment and you will be awarded a bounty! XD** | | | | |-|-|-| [The Water Project](http://thewaterproject.org/donate-bitcoin) | [The Bitcoin Movement](http://thebitcoinmovement.com/donate-2/) |[The Internet Archive](https://archive.org/donate/bitcoin.php) | [Tor Exit Nodes](http://enn.lu/donate/bitcoin) [Wikimedia](http://wikimediafoundation.org/wiki/Ways_to_Give#bitcoin) | [Aphasia Institute](http://www.aphasia.ca) | [GPG Tools](https://gpgtools.org/donate.html) [Seans Outpost](http://www.seansoutpost.com/) | [Water Aid](http://www.wateraid.org/uk) | [Technology for kids](http://one.laptop.org/) | [Edward Snowden Defense](https://www.freesnowden.is/) |  [The TOR Project](https://www.torproject.org/) | [Candian Down Syndrome Society](http://www.cdss.ca)| [Tails](https://tails.boum.org/contribute/how/donate/#bitcoin) | [Childs Play](http://www.childsplaycharity.org) | [War Child](http://www.warchild.ca/bitcoin) | [Blender Open Source](http://www.blender.org/foundation/donation-payment/) [RNLI](https://rnli.org/howtosupportus/donatenow/Pages/bitcoin.aspx?utm_source=rnli-website-redirect&amp;amp;utm_medium=vanity-urls&amp;amp;utm_campaign=bitcoin) | [Khan Academy](https://www.khanacademy.org/donate) | [Alzeimer's Association](http://www.alz.org) [Save The Trees](http://www.evergreen.ca/en/) | [New Technology to Cure Hunger](http://www.new-harvest.org/) | [Ending Poverty](http://ajws.org/) [Save The Seas](http://www.seashepherd.org/) | [Without Regrets](http://www.withoutregrets.org/) | [Make a millionaire](https://np.reddit.com/r/millionairemakers/comments/2q9ung/santa_is_real_thank_you_all_so_much_i_am_still_in/) | [Protect The Earth](http://www.generationgreen.com/) | [Doctors of the World UK](http://www.doctorsoftheworld.org.uk) [Songs Of Love](http://www.songsoflove.org/bitcoins/) | [Non-Profit Tech Resources](http://ntrweb.org/support-ntr/#bitcoin) | [Fight Cancer](http://donate.thon.org/) [Bitcoin Research Comparables](http://suitpossum.blogspot.co.uk/2014/12/academic-bitcoin-research.html) | [United Way](http://www.unitedway.org/pages/donate-bitcoin-to-united-way) | [Engineers without Borders](https://ssl.charityweb.net/ewbusa/) [MAPS](http://maps.org/) | [Mesothelioma Research](http://www.curemeso.org/site/c.duIWJfNQKiL8G/b.9195907/k.6887/Bitcoin_Donation_Form.htm) | [Bone Marrow Help](http://www.bethematch.org/) | [Bitcoin Against Ebola](https://bitcoinagainstebola.org/#!/) | [Childrens Medical Center of Dallas](https://give.childrens.com/) [Education](http://www.pathwaystoeducation.ca/) | [The Planetary Society](http://www.planetary.org/become-a-member/other-ways-to-give/donate-bitcoin.html) | [Bread For The City](http://www.breadforthecity.org/bitcoin-donation-page/) | [Give A Mile](http://giveamile.org/donate/) | [Stop Domestic Violence](http://sigilsocial.org/donate/) | [Fight Malaria](https://www.againstmalaria.com/) | [Help Foster Kids](http://www.generationsofhope.org/donate/) | [Womens Centre](http://www.womenscentrecalgary.org/donate/donate-with-bitcoin/) | [Save The Children Ebola Fund](https://bitpay.com/615074/donate) | [OK Foster Wishes](http://www.okfosterwishes.com/) [Legalise Marijuana](http://dcmj.org/donate/) | [Anza](http://www.anza.co.com/) | [Help Kids](https://www.helpsdkids.org/donate) [LibreOffice](http://www.libreoffice.org/donate/) | [Mozilla Foundation](https://sendto.mozilla.org/page/content/give-bitcoin/) | [Darkcoin Foundation](https://www.darkcoinfoundation.org/) [United Sikhs](http://unitedsikhs.org/) | [Cancer Support](http://www.macmillan.org.uk/Home.aspx) | [Operation Fistula](http://www.opfistula.org/donate/) [BitGive Foundation](http://bitgivefoundation.org/donate-now/) | [WikiLeaks](https://shop.wikileaks.org/donate#dbitcoin) | [Hotspot Community Resource Center](http://www.seatoskycommunity.org/donate/) [Antiwar.com](http://www.antiwar.com) | [Free Software Foundation](https://my.fsf.org/civicrm/contribute/transact?reset=1&amp;amp;id=14) | [Saving Girls](http://www.savinginnocence.org/) | [Electric Frontier Foundation](https://supporters.eff.org/donate) | [Reporters Without Borders](http://en.rsf.org/) [The Tenth Amendment Center](http://shop.tenthamendmentcenter.com/product/pledge/) | [Young Minds](http://www.youngminds.org.uk/) | [The Bitcoin Foundation](https://bitcoinfoundation.org/donate/) [GPG Project](https://www.wauland.de/en/donation.html#61) | [Apache Software Foundation](http://www.apache.org/foundation/contributing.html) | [The Food Democracy](http://www.fooddemocracynow.org/) [Skateistan](http://skateistan.org/) | [Ronald McDonald House Charities of the Capital Region](http://www.rmhcofalbany.org/) | [Catalyst Foundation](http://www.catalystfoundation.org/)  [Dark Wallet](https://www.darkwallet.is/) | [Sea Shepherd](https://www.seashepherd.org.au/support-us/support-us.html) | [Kitty Safe Haven](http://www.kittysafehaven.org) [Tempe Bicycle Action Group](http://www.biketempe.org) | [Free Ross](http://freeross.org/donate-now-2/) | [Charity Water](https://www.charitywater.org/) | [Open Bazaar](https://openbazaar.org/) | [Krono Labs](https://www.kronolabs.com/) | [The Northern California DX Foundation](http://ncdxf.org/pages/contribute.html) | [Calgary Womens Centre](http://www.womenscentrecalgary.org/donate/donate-with-bitcoin/) | [Pathways Canada](http://www.pathwayscanada.ca/bitcoin) | [Help Rescue Animals](http://ru4mepetrescue.rescuegroups.org/info/donate) | [Pathways To Education](http://pathwaystoeducation.ca/) | [Exponential Education](http://www.exponentialeducationprogram.org/) | [Peace Geeks](http://peacegeeks.org/) | [Abolitionist Law Centre](http://abolitionistlawcenter.org/) | [100%](http://100percent.org.nz/) | [Epic Change](http://epicchangeblog.org/) | [Generations Of Hope](http://www.generationsofhope.org/donate/) | [Methuselah Foundation](http://mfoundation.org/) | [SETI](http://setiathome.berkeley.edu/sah_donate.php)  | [Bitcoins Not Bombs](http://www.bitcoinnotbombs.com/projects/hoodie-the-homeless/) | [Erowid](https://www.erowid.org/donations/donations_cryptocurrency.php) | [World Builders](https://twitter.com/worldbuilders_)  | [Wau Holland Foundation](https://www.wauland.de/en/donation.html#61) | [Rise up](https://help.riseup.net/en/donate#bitcoin) | [World Aid](https://worldaid.org/donations-for-homeless-children/)  | [Pathways To Education](http://www.pathwaystoeducation.ca/bitcoin) | www.awanj.org | [Solar Cookers](http://www.solarcookers.org/donate/giving-options/)  | [Project Free State](https://freestateproject.org/donate) |\n",
      "\n",
      "post at idx 44443\n",
      "lang: __label__en\n",
      "conf: 0.5525911450386047\n",
      "Happy Mother's Day Jihan!\n",
      "\n",
      "post at idx 60656\n",
      "lang: __label__en\n",
      "conf: 0.5526397228240967\n",
      "Malta embraces bitcoin. https://lovinmalta.com/news/local/malta-is-going-crypto-crazy-for-bitcoin [malta goes crazy for bitcoin](https://lovinmalta.com/news/local/malta-is-going-crypto-crazy-for-bitcoin) \n",
      "\n",
      "post at idx 3219\n",
      "lang: __label__en\n",
      "conf: 0.5527518391609192\n",
      "Tipping / Giving Tuesdays - First 1000 comments get free bitcoin! **SOME TIPPING [SUGGESTIONS](https://www.reddit.com/r/changetip/wiki/suggestions)** Will do it like last time... Those of you who submit great charities or causes that need donations will receive higher gifts from me and have it added to this text! :D Those of you who just want the charity of your own pockets to expand still say Hi :) 100 bits for the first **1000** comments! **### PLEASE CONSIDER PASSING MY TIPS ON TO OTHERS OR CHARITIES :D ###** **If the older members spot fake accounts trying to take the charity and twist it for their own selfish reasons - please feel free to down vote it or comment and you will be awarded a bounty! XD** | | | | |-|-|-| [The Water Project](http://thewaterproject.org/donate-bitcoin) | [The Bitcoin Movement](http://thebitcoinmovement.com/donate-2/) |[The Internet Archive](https://archive.org/donate/bitcoin.php) | [Tor Exit Nodes](http://enn.lu/donate/bitcoin) [Wikimedia](http://wikimediafoundation.org/wiki/Ways_to_Give#bitcoin) | [Aphasia Institute](http://www.aphasia.ca) | [GPG Tools](https://gpgtools.org/donate.html) [Seans Outpost](http://www.seansoutpost.com/) | [Water Aid](http://www.wateraid.org/uk) | [Technology for kids](http://one.laptop.org/) | [Edward Snowden Defense](https://www.freesnowden.is/) |  [The TOR Project](https://www.torproject.org/) | [Candian Down Syndrome Society](http://www.cdss.ca)| [Tails](https://tails.boum.org/contribute/how/donate/#bitcoin) | [Childs Play](http://www.childsplaycharity.org) | [War Child](http://www.warchild.ca/bitcoin) | [Blender Open Source](http://www.blender.org/foundation/donation-payment/) [RNLI](https://rnli.org/howtosupportus/donatenow/Pages/bitcoin.aspx?utm_source=rnli-website-redirect&amp;amp;utm_medium=vanity-urls&amp;amp;utm_campaign=bitcoin) | [Khan Academy](https://www.khanacademy.org/donate) | [Alzeimer's Association](http://www.alz.org) [Save The Trees](http://www.evergreen.ca/en/) | [New Technology to Cure Hunger](http://www.new-harvest.org/) | [Ending Poverty](http://ajws.org/) [Save The Seas](http://www.seashepherd.org/) | [Without Regrets](http://www.withoutregrets.org/) | [Make a millionaire](https://np.reddit.com/r/millionairemakers/comments/2q9ung/santa_is_real_thank_you_all_so_much_i_am_still_in/) | [Protect The Earth](http://www.generationgreen.com/) | [Doctors of the World UK](http://www.doctorsoftheworld.org.uk) [Songs Of Love](http://www.songsoflove.org/bitcoins/) | [Non-Profit Tech Resources](http://ntrweb.org/support-ntr/#bitcoin) | [Fight Cancer](http://donate.thon.org/) [Bitcoin Research Comparables](http://suitpossum.blogspot.co.uk/2014/12/academic-bitcoin-research.html) | [United Way](http://www.unitedway.org/pages/donate-bitcoin-to-united-way) | [Engineers without Borders](https://ssl.charityweb.net/ewbusa/) [MAPS](http://maps.org/) | [Mesothelioma Research](http://www.curemeso.org/site/c.duIWJfNQKiL8G/b.9195907/k.6887/Bitcoin_Donation_Form.htm) | [Bone Marrow Help](http://www.bethematch.org/) | [Bitcoin Against Ebola](https://bitcoinagainstebola.org/#!/) | [Childrens Medical Center of Dallas](https://give.childrens.com/) [Education](http://www.pathwaystoeducation.ca/) | [The Planetary Society](http://www.planetary.org/become-a-member/other-ways-to-give/donate-bitcoin.html) | [Bread For The City](http://www.breadforthecity.org/bitcoin-donation-page/) | [Give A Mile](http://giveamile.org/donate/) | [Stop Domestic Violence](http://sigilsocial.org/donate/) | [Fight Malaria](https://www.againstmalaria.com/) | [Help Foster Kids](http://www.generationsofhope.org/donate/) | [Womens Centre](http://www.womenscentrecalgary.org/donate/donate-with-bitcoin/) | [Save The Children Ebola Fund](https://bitpay.com/615074/donate) | [OK Foster Wishes](http://www.okfosterwishes.com/) [Legalise Marijuana](http://dcmj.org/donate/) | [Anza](http://www.anza.co.com/) | [Help Kids](https://www.helpsdkids.org/donate) [LibreOffice](http://www.libreoffice.org/donate/) | [Mozilla Foundation](https://sendto.mozilla.org/page/content/give-bitcoin/) | [Darkcoin Foundation](https://www.darkcoinfoundation.org/) [United Sikhs](http://unitedsikhs.org/) | [Cancer Support](http://www.macmillan.org.uk/Home.aspx) | [Operation Fistula](http://www.opfistula.org/donate/) [BitGive Foundation](http://bitgivefoundation.org/donate-now/) | [WikiLeaks](https://shop.wikileaks.org/donate#dbitcoin) | [Hotspot Community Resource Center](http://www.seatoskycommunity.org/donate/) [Antiwar.com](http://www.antiwar.com) | [Free Software Foundation](https://my.fsf.org/civicrm/contribute/transact?reset=1&amp;amp;id=14) | [Saving Girls](http://www.savinginnocence.org/) | [Electric Frontier Foundation](https://supporters.eff.org/donate) | [Reporters Without Borders](http://en.rsf.org/) [The Tenth Amendment Center](http://shop.tenthamendmentcenter.com/product/pledge/) | [Young Minds](http://www.youngminds.org.uk/) | [The Bitcoin Foundation](https://bitcoinfoundation.org/donate/) [GPG Project](https://www.wauland.de/en/donation.html#61) | [Apache Software Foundation](http://www.apache.org/foundation/contributing.html) | [The Food Democracy](http://www.fooddemocracynow.org/) [Skateistan](http://skateistan.org/) | [Ronald McDonald House Charities of the Capital Region](http://www.rmhcofalbany.org/) | [Catalyst Foundation](http://www.catalystfoundation.org/)  [Dark Wallet](https://www.darkwallet.is/) | [Sea Shepherd](https://www.seashepherd.org.au/support-us/support-us.html) | [Kitty Safe Haven](http://www.kittysafehaven.org) [Tempe Bicycle Action Group](http://www.biketempe.org) | [Free Ross](http://freeross.org/donate-now-2/) | [Charity Water](https://www.charitywater.org/) | [Open Bazaar](https://openbazaar.org/) | [Krono Labs](https://www.kronolabs.com/) | [The Northern California DX Foundation](http://ncdxf.org/pages/contribute.html) | [Calgary Womens Centre](http://www.womenscentrecalgary.org/donate/donate-with-bitcoin/) | [Pathways Canada](http://www.pathwayscanada.ca/bitcoin) | [Help Rescue Animals](http://ru4mepetrescue.rescuegroups.org/info/donate) | [Pathways To Education](http://pathwaystoeducation.ca/) | [Exponential Education](http://www.exponentialeducationprogram.org/) | [Peace Geeks](http://peacegeeks.org/) | [Abolitionist Law Centre](http://abolitionistlawcenter.org/) | [100%](http://100percent.org.nz/) | [Epic Change](http://epicchangeblog.org/) | [Generations Of Hope](http://www.generationsofhope.org/donate/) | [Methuselah Foundation](http://mfoundation.org/) | [SETI](http://setiathome.berkeley.edu/sah_donate.php)  | [Bitcoins Not Bombs](http://www.bitcoinnotbombs.com/projects/hoodie-the-homeless/) | [Erowid](https://www.erowid.org/donations/donations_cryptocurrency.php) | [World Builders](https://twitter.com/worldbuilders_)  | [Wau Holland Foundation](https://www.wauland.de/en/donation.html#61) | [Rise up](https://help.riseup.net/en/donate#bitcoin) | [World Aid](https://worldaid.org/donations-for-homeless-children/)  | [Pathways To Education](http://www.pathwaystoeducation.ca/bitcoin) | www.awanj.org | [Solar Cookers](http://www.solarcookers.org/donate/giving-options/)  | [Project Free State](https://freestateproject.org/donate) |\n",
      "\n",
      "post at idx 79325\n",
      "lang: __label__en\n",
      "conf: 0.5531858205795288\n",
      "Prediction...... 13k on Monday when futures start  \n",
      "\n",
      "post at idx 106595\n",
      "lang: __label__en\n",
      "conf: 0.5532072186470032\n",
      "Advice needed: lnd or c-lightning\n",
      "\n",
      "post at idx 105275\n",
      "lang: __label__en\n",
      "conf: 0.553214967250824\n",
      "Introducing LQDEX: Trading Platform Executes the First Cross Chain Trade  [https://medium.com/lqdex/lqdex\\-a\\-decentralized\\-cross\\-chain\\-trading\\-platform\\-has\\-successfully\\-executed\\-the\\-first\\-trustless\\-f654e48a8d07](https://medium.com/lqdex/lqdex-a-decentralized-cross-chain-trading-platform-has-successfully-executed-the-first-trustless-f654e48a8d07) \n",
      "\n",
      "post at idx 105967\n",
      "lang: __label__en\n",
      "conf: 0.5532292127609253\n",
      "Accept BTC! Coupon & New Service from InstaSmarter.com! Your 6% OFF DISCOUNT COUPON CODE is: smartervip Expire on 2018-06-30 on http://www.instasmarter.com NEW Instagram Automatic Service: Buy Instagram Auto Comments Buy Instagram Auto Video Views Buy Instagram Auto Likes membership NEW Twitter Service: Buy Twitter Poll Votes Buy Twitter Video Views NEW YouTube Service: Buy YouTube Shares New Vimeo Service: Buy Vimeo Views Buy Vimeo Followers NEW LinkedIn Service: Buy LinkedIn Endorsements NEW Musical.ly Service Buy Musical.ly Followers Buy Musical.ly Likes \n",
      "\n",
      "post at idx 127203\n",
      "lang: __label__en\n",
      "conf: 0.5532352924346924\n",
      "Blockchain.io Rest API officially released today  [https://blockchain.io/api/](https://blockchain.io/api/)\n",
      "\n",
      "post at idx 17526\n",
      "lang: __label__en\n",
      "conf: 0.5532978773117065\n",
      "Meta Protocols list Hi, I'm looking to build a full list of known Meta Protocols on top of Bitcoin that utilise OP_RETURN with a prefix. |  Name  |  link  |  OP_RETURN Hex Prefix  | |-------------------|-------------------|-------------------| | Open Asset| https://github.com/OpenAssets/open-assets-protocol/blob/master/address-format.mediawiki | 4f4101 |  | Eternity Wall  | http://eternitywall.it/  | 455720 |  | Factom  | http://factom.org/ | 4661 |  | CoinSpark  | http://coinspark.org/developers/metadata-format/ | 53504b |  | Proof of Existence  | https://www.proofofexistence.com/ | 444f4350524f4f46 |  | University of Nicosia  | http://digitalcurrency.unic.ac.cy/certificates | 554e6963444320 |  | Colu  | http://colu.co/  | 434301 ??|  | Ascribe  | https://www.ascribe.io/  | 41534 ?? |  | Blockchain ID  | https://github.com/blockstack/blockstore  | 6964?? |  Feedback, additions, or corrections on the list above, much appreciated! EDIT: Updates EDIT: More Updates (thanks!) |  Name  |  link  |  OP_RETURN Hex Prefix  | |-------------------|-------------------|-------------------| | Counterparty | https://github.com/CounterpartyXCP/counterparty-lib  | 434e545250525459 |  | Omni Layer | https://github.com/OmniLayer/omnicore/ | 6f6d6e69 |  | Stampery | https://stampery.co/ | 5331 | | Openchain | (https://docs.openchain.org/en/latest/general/anchoring.html#blockchain-anchor-format | 4f43 | \n",
      "\n",
      "post at idx 62665\n",
      "lang: __label__en\n",
      "conf: 0.5533600449562073\n",
      "Iron Gloves What saved my ass ? My iron gloves. \n",
      "\n",
      "post at idx 109625\n",
      "lang: __label__en\n",
      "conf: 0.5533668994903564\n",
      "where did the lighning network visualization go ? the link [https://lnmainnet.gaben.win/](https://lnmainnet.gaben.win/) is dead. is there an alternative ? https://preview.redd.it/48jlwyc11tl11.jpg?width=2880&format=pjpg&auto=webp&s=513f9af5f280f81ecc3cfd872ab4fce90ec2d0dd\n",
      "\n",
      "post at idx 18487\n",
      "lang: __label__en\n",
      "conf: 0.5534998774528503\n",
      "[TUTORIAL] Turn your PC into a Raspberry PI 21 Computer! 1. Download Virtualbox.   2. Emulate the Raspberry PI on the virtualbox: http://dbakevlar.com/2015/08/emulating-a-raspberry-pi-on-virtualbox/   3. Follow this tutorial on how to turn your Raspberry PI into a 21 Bitcoin Computer: https://www.reddit.com/r/Bitcoin/comments/3tdlw2/tutorial_turn_your_35_raspberry_pi_into_a_21/\n",
      "\n",
      "post at idx 4699\n",
      "lang: __label__en\n",
      "conf: 0.5535403490066528\n",
      "Tipping / Giving Tuesdays - first 1000 comments get some free bitcoin! (Please consider passing it on!) **SOME TIPPING [SUGGESTIONS](https://www.reddit.com/r/changetip/wiki/suggestions)** **IF ANYONE WOULD CONSIDER ORGANIZING THESE TABLES INTO CATEGORIES PLEASE MESSAGE ME FOR COMPENSATION PRIVATELY** Will do it like last time... Those of you who submit great charities or causes that need donations will receive higher gifts from me and have it added to this text! :D Those of you who just want the charity of your own pockets to expand still say Hi :) 100 bits for the first **1000** comments! **### PLEASE CONSIDER PASSING MY TIPS ON TO OTHERS OR CHARITIES :D ###** **If the older members spot fake accounts trying to take the charity and twist it for their own selfish reasons - please feel free to down vote it or comment and you will be awarded a bounty! XD** | | | | |-|-|-| [The Water Project](http://thewaterproject.org/donate-bitcoin) | [The Bitcoin Movement](http://thebitcoinmovement.com/donate-2/) |[The Internet Archive](https://archive.org/donate/bitcoin.php) | [Tor Exit Nodes](http://enn.lu/donate/bitcoin) [Wikimedia](http://wikimediafoundation.org/wiki/Ways_to_Give#bitcoin) | [Aphasia Institute](http://www.aphasia.ca) | [GPG Tools](https://gpgtools.org/donate.html) [Seans Outpost](http://www.seansoutpost.com/) | [Water Aid](http://www.wateraid.org/uk) | [Technology for kids](http://one.laptop.org/) | [Edward Snowden Defense](https://www.freesnowden.is/) |  [The TOR Project](https://www.torproject.org/) | [Candian Down Syndrome Society](http://www.cdss.ca)| [Tails](https://tails.boum.org/contribute/how/donate/#bitcoin) | [Childs Play](http://www.childsplaycharity.org) | [War Child](http://www.warchild.ca/bitcoin) | [Blender Open Source](http://www.blender.org/foundation/donation-payment/) [RNLI](https://rnli.org/howtosupportus/donatenow/Pages/bitcoin.aspx?utm_source=rnli-website-redirect&amp;amp;utm_medium=vanity-urls&amp;amp;utm_campaign=bitcoin) | [Khan Academy](https://www.khanacademy.org/donate) | [Alzeimer's Association](http://www.alz.org) [Save The Trees](http://www.evergreen.ca/en/) | [New Technology to Cure Hunger](http://www.new-harvest.org/) | [Ending Poverty](http://ajws.org/) [Save The Seas](http://www.seashepherd.org/) | [Without Regrets](http://www.withoutregrets.org/) | [Watsi](https://watsi.org/) | [Doctors of the World UK](http://www.doctorsoftheworld.org.uk) [Songs Of Love](http://www.songsoflove.org/bitcoins/) | [Non-Profit Tech Resources](http://ntrweb.org/support-ntr/#bitcoin) | [Fight Cancer](http://donate.thon.org/) [Bitcoin Research Comparables](http://suitpossum.blogspot.co.uk/2014/12/academic-bitcoin-research.html) | [United Way](http://www.unitedway.org/pages/donate-bitcoin-to-united-way) | [Engineers without Borders](https://ssl.charityweb.net/ewbusa/) [MAPS](http://maps.org/) | [Mesothelioma Research](http://www.curemeso.org/site/c.duIWJfNQKiL8G/b.9195907/k.6887/Bitcoin_Donation_Form.htm) | [Bone Marrow Help](http://www.bethematch.org/) | [Bitcoin Against Ebola](https://bitcoinagainstebola.org/#!/) | [Childrens Medical Center of Dallas](https://give.childrens.com/) [Education](http://www.pathwaystoeducation.ca/) | [The Planetary Society](http://www.planetary.org/become-a-member/other-ways-to-give/donate-bitcoin.html) | [Bread For The City](http://www.breadforthecity.org/bitcoin-donation-page/) | [Give A Mile](http://giveamile.org/donate/) | [Stop Domestic Violence](http://sigilsocial.org/donate/) | [Fight Malaria](https://www.againstmalaria.com/) | [Help Foster Kids](http://www.generationsofhope.org/donate/) | [Womens Centre](http://www.womenscentrecalgary.org/donate/donate-with-bitcoin/) | [Save The Children Ebola Fund](https://bitpay.com/615074/donate) | [OK Foster Wishes](http://www.okfosterwishes.com/) [Legalise Marijuana](http://dcmj.org/donate/) | [Anza](http://www.anza.co.com/) | [Help Kids](https://www.helpsdkids.org/donate) [LibreOffice](http://www.libreoffice.org/donate/) | [Mozilla Foundation](https://sendto.mozilla.org/page/content/give-bitcoin/) | [Darkcoin Foundation](https://www.darkcoinfoundation.org/) [United Sikhs](http://unitedsikhs.org/) | [Cancer Support](http://www.macmillan.org.uk/Home.aspx) | [Operation Fistula](http://www.opfistula.org/donate/) [BitGive Foundation](http://bitgivefoundation.org/donate-now/) | [WikiLeaks](https://shop.wikileaks.org/donate#dbitcoin) | [Hotspot Community Resource Center](http://www.seatoskycommunity.org/donate/) [Antiwar.com](http://www.antiwar.com) | [Free Software Foundation](https://my.fsf.org/civicrm/contribute/transact?reset=1&amp;amp;id=14) | [Saving Girls](http://www.savinginnocence.org/) | [Electric Frontier Foundation](https://supporters.eff.org/donate) | [Reporters Without Borders](http://en.rsf.org/) [The Tenth Amendment Center](http://shop.tenthamendmentcenter.com/product/pledge/) | [Young Minds](http://www.youngminds.org.uk/) | [The Bitcoin Foundation](https://bitcoinfoundation.org/donate/) [GPG Project](https://www.wauland.de/en/donation.html#61) | [Apache Software Foundation](http://www.apache.org/foundation/contributing.html) | [The Food Democracy](http://www.fooddemocracynow.org/) [Skateistan](http://skateistan.org/) | [Ronald McDonald House Charities of the Capital Region](http://www.rmhcofalbany.org/) | [Catalyst Foundation](http://www.catalystfoundation.org/)  [Dark Wallet](https://www.darkwallet.is/) | [Sea Shepherd](https://www.seashepherd.org.au/support-us/support-us.html) | [Kitty Safe Haven](http://www.kittysafehaven.org) [Tempe Bicycle Action Group](http://www.biketempe.org) | [Free Ross](http://freeross.org/donate-now-2/) | [Charity Water](https://www.charitywater.org/) | [Open Bazaar](https://openbazaar.org/) | [Krono Labs](https://www.kronolabs.com/) | [The Northern California DX Foundation](http://ncdxf.org/pages/contribute.html) | [Calgary Womens Centre](http://www.womenscentrecalgary.org/donate/donate-with-bitcoin/) | [Pathways Canada](http://www.pathwayscanada.ca/bitcoin) | [Help Rescue Animals](http://ru4mepetrescue.rescuegroups.org/info/donate) | [Pathways To Education](http://pathwaystoeducation.ca/) | [Exponential Education](http://www.exponentialeducationprogram.org/) | [Peace Geeks](http://peacegeeks.org/) | [Abolitionist Law Centre](http://abolitionistlawcenter.org/) | [100%](http://100percent.org.nz/) | [Epic Change](http://epicchangeblog.org/) | [Generations Of Hope](http://www.generationsofhope.org/donate/) | [Methuselah Foundation](http://mfoundation.org/) | [SETI](http://setiathome.berkeley.edu/sah_donate.php)  | [Bitcoins Not Bombs](http://www.bitcoinnotbombs.com/projects/hoodie-the-homeless/) | [Erowid](https://www.erowid.org/donations/donations_cryptocurrency.php) | [World Builders](https://twitter.com/worldbuilders_)  | [Wau Holland Foundation](https://www.wauland.de/en/donation.html#61) | [Rise up](https://help.riseup.net/en/donate#bitcoin) | [World Aid](https://worldaid.org/donations-for-homeless-children/)  | [Pathways To Education](http://www.pathwaystoeducation.ca/bitcoin) | www.awanj.org | [Solar Cookers](http://www.solarcookers.org/donate/giving-options/)  | [Project Free State](https://freestateproject.org/donate) | [Blender Open Source](http://www.blender.org/foundation/history/) | www.coincenter.org | | [Reef Check](http://reefcheck.org/news/news_detail.php?id=1051) |\n",
      "\n",
      "post at idx 145570\n",
      "lang: __label__en\n",
      "conf: 0.5536451935768127\n",
      "BTC hits 8210$ for the fist time 20 nov 2017 🚀\n",
      "\n",
      "post at idx 72639\n",
      "lang: __label__en\n",
      "conf: 0.5536729097366333\n",
      "[PSA] START USING A SEGWIT COMPATIBLE WALLET PEOPLE! THEY ARE AVAILABLE AND JUST WAITING FOR YOU TO USE THEM. THE TRANSACTION CAPACITY OF BITCOIN ISNT EVEN SATURATED YET, YOU JUST NEED TO USE SEGWIT TO GET TO 1.7MB EQUIVALENT BLOCKS. SORRY FOR YELLING! Electrum 3.0 is an example  segwit compatible wallet. trezor is a SEGWIT default hardware wallet.  can we get some exposure for this please?! wtf\n",
      "\n",
      "post at idx 69763\n",
      "lang: __label__en\n",
      "conf: 0.5536888837814331\n",
      "Bitcoin Segwit2x a hard fork or Soft fork? Will it change the rising dynamic of Bitcoin?\n",
      "\n",
      "post at idx 147107\n",
      "lang: __label__en\n",
      "conf: 0.5538209080696106\n",
      "21K TWENTY ONE THOUSAND!\n",
      "\n",
      "post at idx 113207\n",
      "lang: __label__en\n",
      "conf: 0.5538464784622192\n",
      "Bitcoin whitepaper on Instagram Tiled it up and put it on Instagram: [https://www.instagram.com/satoshiwhitepaper/](https://www.instagram.com/satoshiwhitepaper/) during Thanksgiving week. Enjoy. &#x200B; &#x200B; https://preview.redd.it/6hzwvdz4yy221.jpg?width=1132&format=pjpg&auto=webp&s=ce56ff68f7c7026ef1aeb57bfd9579de691eb2e4\n",
      "\n",
      "post at idx 10809\n",
      "lang: __label__en\n",
      "conf: 0.5539825558662415\n",
      "BitcoinCore estimatefee for next block currently return 2.2mBTC Thats pricey...     bitcoin-cli  estimatefee 1     0.00221884     bitcoin-cli  estimatefee 2     0.00053475     bitcoin-cli  estimatefee 3     0.00052083     bitcoin-cli  estimatefee 4     0.00044841 (Returns are in BTC) If I compare it with https://bitcoinfees.github.io/, then the blue line (12min) is currently at 40kSatoshis (=0.4mBTC).\n",
      "\n",
      "post at idx 34472\n",
      "lang: __label__en\n",
      "conf: 0.5541245341300964\n",
      "Next psychological price resistance is $10,000. https://mobile.twitter.com/TuurDemeester/status/739932244937052160\n",
      "\n",
      "post at idx 80793\n",
      "lang: __label__en\n",
      "conf: 0.5541270971298218\n",
      "Sellers beware! Hodlers, get your popcorn.\n",
      "\n",
      "post at idx 141400\n",
      "lang: __label__en\n",
      "conf: 0.5543318390846252\n",
      "A Short Perspective If We Are Repeating The Bull of 2016-2017? [https://www.piixpay.com/blog/the-new-bull-market-are-we-there-yet/](https://www.piixpay.com/blog/the-new-bull-market-are-we-there-yet/)\n",
      "\n",
      "post at idx 143455\n",
      "lang: __label__en\n",
      "conf: 0.554349422454834\n",
      "Trezor x BlockSettle 45 second video showcasing how to import your Trezor wallet and then purchase bitcoin vs Euro, where the bitcoin is delivered directly to the Trezor wallet in real-time. [https://youtu.be/FI5zDIZahSE](https://youtu.be/FI5zDIZahSE)\n",
      "\n",
      "post at idx 39199\n",
      "lang: __label__en\n",
      "conf: 0.5546483397483826\n",
      "Bitminter signalled for segwit ?\n",
      "\n",
      "post at idx 146465\n",
      "lang: __label__en\n",
      "conf: 0.5547580122947693\n",
      "Bitcoin reached the new ATH after 1079 days and 84% correction &#x200B; [Bitcoin reached the new ATH after 1079 days and 84&#37; correction](https://preview.redd.it/6r5jwun0yf261.png?width=541&format=png&auto=webp&s=113e4075343dce34acbea868592ce3eb0f7c961a)\n",
      "\n",
      "post at idx 117260\n",
      "lang: __label__en\n",
      "conf: 0.5547721982002258\n",
      "Bitcoin marketcap dominance weighted by real volume Since everybody was talking about how bitcoin reveals a much higher market dominance when exchange liquidity is factored last week... but everybody was also talking about how exchange volume was fake... I decided to recalculate the bitcoin liquidity weighted market dominance using corrected 24 hour volume--just cause you were curious. The result is about the same, with Bitcoin looking only slightly more dominant (81%) when using real volume. &#x200B; Real volume estimates are from [https://messari.io/onchainfx](https://messari.io/onchainfx) |name|realVol24HrUsd|liquidMarketcap|adjustedTxVol24hr|volWeightedMarketcap|txVolWeightedMarketcap|volWeightedDominance|txVolWeightedDominance| |:-|:-|:-|:-|:-|:-|:-|:-| |Bitcoin|122017984|72141483201|1572846427|8.802558e+18|1.134675e+20|0.8136213|0.9517765| |Ethereum|70924929|14818992239|334210994|1.051036e+18|4.952670e+18|0.0971474|0.0415435| |Binance Coin|109078109|2460238687|0|2.683582e+17|0.000000e+00|0.0248044|0.0000000| |XRP|33638764|7092973813|0|2.385989e+17|0.000000e+00|0.0220537|0.0000000| |EOS|43508469|3831788242|0|1.667152e+17|0.000000e+00|0.0154095|0.0000000| |Litecoin|23669525|3703086764|77859607|8.765030e+16|2.883209e+17|0.0081015|0.0024185| |Bitcoin Cash|14836254|2983695462|131640940|4.426686e+16|3.927765e+17|0.0040916|0.0032946| |Cardano|20851057|2117216160|46366980|4.414619e+16|9.816892e+16|0.0040804|0.0008235| |Stellar|7327841|3659764111|0|2.681817e+16|0.000000e+00|0.0024788|0.0000000| |Dash|15249365|949488027|9869981|1.447909e+16|9.371429e+15|0.0013383|0.0000786| |TRON|8233627|1555482026|0|1.280726e+16|0.000000e+00|0.0011838|0.0000000| |Monero|9865966|940652278|0|9.280444e+15|0.000000e+00|0.0008578|0.0000000| |NEO|11028821|800830419|0|8.832216e+15|0.000000e+00|0.0008164|0.0000000| |Ontology|4898809|1192111305|0|5.839926e+15|0.000000e+00|0.0005398|0.0000000| |VeChain|7085467|520728979|0|3.689608e+15|0.000000e+00|0.0003410|0.0000000| |Basic Attention Token|8739747|416478107|0|3.639913e+15|0.000000e+00|0.0003364|0.0000000| |Qtum|12300075|285928449|0|3.516941e+15|0.000000e+00|0.0003251|0.0000000| |Bitcoin SV|2823957|1150414162|0|3.248721e+15|0.000000e+00|0.0003003|0.0000000| |IOTA|3419198|848648588|0|2.901698e+15|0.000000e+00|0.0002682|0.0000000| |Tezos|3309094|711536974|0|2.354543e+15|0.000000e+00|0.0002176|0.0000000| &#x200B;\n",
      "\n",
      "post at idx 49559\n",
      "lang: __label__en\n",
      "conf: 0.5548497438430786\n",
      "What's bitcoins current USD/oz?\n",
      "\n",
      "post at idx 150078\n",
      "lang: __label__en\n",
      "conf: 0.5548680424690247\n",
      "Send me your funniest crypto memes Make me cry tears and piss my pants pls\n",
      "\n",
      "post at idx 128985\n",
      "lang: __label__en\n",
      "conf: 0.5549721717834473\n",
      "Baby Yoda Memes Drag Craig Wright (With a social good twist) #GivingTuesday [https://imgur.com/a/gMObWFA](https://imgur.com/a/gMObWFA) https://preview.redd.it/jomroduw3j241.png?width=1024&format=png&auto=webp&s=71f55ac21c06ebb7fc35f3bd0d524c43573d13d2\n",
      "\n",
      "post at idx 129173\n",
      "lang: __label__en\n",
      "conf: 0.5550057888031006\n",
      "When CoinJoin Day?  https://twitter.com/bittlecat/status/1207621591820951552\n",
      "\n",
      "post at idx 141409\n",
      "lang: __label__en\n",
      "conf: 0.5552077889442444\n",
      "Great Documentary on Bitcoin., A must watch for those interested in the currrency.. [https://youtu.be/igw-gMlaxtc](https://youtu.be/igw-gMlaxtc)\n",
      "\n",
      "post at idx 51830\n",
      "lang: __label__en\n",
      "conf: 0.5552151203155518\n",
      "101 uses for Bitcoin 1. A store of value\n",
      "\n",
      "post at idx 3718\n",
      "lang: __label__en\n",
      "conf: 0.5552504658699036\n",
      "Tipping / Giving Tuesdays - Time to spread the love! :D - First 750 comments get some bitcoin! **SOME TIPPING [SUGGESTIONS](https://www.reddit.com/r/changetip/wiki/suggestions)** Will do it like last time... Those of you who submit great charities or causes that need donations will receive higher gifts from me and have it added to this text! :D Those of you who just want the charity of your own pockets to expand still say Hi :) 100 bits for the first **750** comments! **### PLEASE CONSIDER PASSING MY TIPS ON TO OTHERS OR CHARITIES :D ###** **If the older members spot fake accounts trying to take the charity and twist it for their own selfish reasons - please feel free to down vote it or comment and you will be awarded a bounty! XD** **DONE FOR NOW GUYS WILL TOP UP THE LAST FEW LATER - WILL BUMP THE COMMENT CUT OFF POINT TO 800 NEXT WEEK AND +50 EVERY WEEK AFTER - GOOD NIGHT!** | | | | |-|-|-| [The Water Project](http://thewaterproject.org/donate-bitcoin) | [The Internet Archive](https://archive.org/donate/bitcoin.php) | [Tor Exit Nodes](http://enn.lu/donate/bitcoin) [Wikimedia](http://wikimediafoundation.org/wiki/Ways_to_Give#bitcoin) | [Aphasia Institute](http://www.aphasia.ca) | [GPG Tools](https://gpgtools.org/donate.html) [Seans Outpost](http://www.seansoutpost.com/) | [Water Aid](http://www.wateraid.org/uk) | [Technology for kids](http://one.laptop.org/) | [Edward Snowden Defense](https://www.freesnowden.is/) |  [The TOR Project](https://www.torproject.org/) | [Candian Down Syndrome Society](http://www.cdss.ca)| [Tails](https://tails.boum.org/contribute/how/donate/#bitcoin) | [Childs Play](http://www.childsplaycharity.org) | [War Child](http://www.warchild.ca/bitcoin) | [Blender Open Source](http://www.blender.org/foundation/donation-payment/) [RNLI](https://rnli.org/howtosupportus/donatenow/Pages/bitcoin.aspx?utm_source=rnli-website-redirect&amp;amp;utm_medium=vanity-urls&amp;amp;utm_campaign=bitcoin) | [Khan Academy](https://www.khanacademy.org/donate) | [Alzeimer's Association](http://www.alz.org) [Save The Trees](http://www.evergreen.ca/en/) | [New Technology to Cure Hunger](http://www.new-harvest.org/) | [Ending Poverty](http://ajws.org/) [Save The Seas](http://www.seashepherd.org/) | [Without Regrets](http://www.withoutregrets.org/) | [Make a millionaire](https://np.reddit.com/r/millionairemakers/comments/2q9ung/santa_is_real_thank_you_all_so_much_i_am_still_in/) | [Protect The Earth](http://www.generationgreen.com/) | [Doctors of the World UK](http://www.doctorsoftheworld.org.uk) [Songs Of Love](http://www.songsoflove.org/bitcoins/) | [Non-Profit Tech Resources](http://ntrweb.org/support-ntr/#bitcoin) | [Fight Cancer](http://donate.thon.org/) [Bitcoin Research Comparables](http://suitpossum.blogspot.co.uk/2014/12/academic-bitcoin-research.html) | [United Way](http://www.unitedway.org/pages/donate-bitcoin-to-united-way) | [Engineers without Borders](https://ssl.charityweb.net/ewbusa/) [MAPS](http://maps.org/) | [Mesothelioma Research](http://www.curemeso.org/site/c.duIWJfNQKiL8G/b.9195907/k.6887/Bitcoin_Donation_Form.htm) | [Bone Marrow Help](http://www.bethematch.org/) | [Bitcoin Against Ebola](https://bitcoinagainstebola.org/#!/) | [Childrens Medical Center of Dallas](https://give.childrens.com/) [Education](http://www.pathwaystoeducation.ca/) | [The Planetary Society](http://www.planetary.org/become-a-member/other-ways-to-give/donate-bitcoin.html) | [Bread For The City](http://www.breadforthecity.org/bitcoin-donation-page/) | [Give A Mile](http://giveamile.org/donate/) | [Stop Domestic Violence](http://sigilsocial.org/donate/) | [Fight Malaria](https://www.againstmalaria.com/) | [Help Foster Kids](http://www.generationsofhope.org/donate/) | [Womens Centre](http://www.womenscentrecalgary.org/donate/donate-with-bitcoin/) | [Save The Children Ebola Fund](https://bitpay.com/615074/donate) | [OK Foster Wishes](http://www.okfosterwishes.com/) [Legalise Marijuana](http://dcmj.org/donate/) | [Anza](http://www.anza.co.com/) | [Help Kids](https://www.helpsdkids.org/donate) [LibreOffice](http://www.libreoffice.org/donate/) | [Mozilla Foundation](https://sendto.mozilla.org/page/content/give-bitcoin/) | [Darkcoin Foundation](https://www.darkcoinfoundation.org/) [United Sikhs](http://unitedsikhs.org/) | [Cancer Support](http://www.macmillan.org.uk/Home.aspx) | [Operation Fistula](http://www.opfistula.org/donate/) [BitGive Foundation](http://bitgivefoundation.org/donate-now/) | [WikiLeaks](https://shop.wikileaks.org/donate#dbitcoin) | [Hotspot Community Resource Center](http://www.seatoskycommunity.org/donate/) [Antiwar.com](http://www.antiwar.com) | [Free Software Foundation](https://my.fsf.org/civicrm/contribute/transact?reset=1&amp;amp;id=14) | [Saving Girls](http://www.savinginnocence.org/) | [Electric Frontier Foundation](https://supporters.eff.org/donate) | [Reporters Without Borders](http://en.rsf.org/) [The Tenth Amendment Center](http://shop.tenthamendmentcenter.com/product/pledge/) | [Young Minds](http://www.youngminds.org.uk/) | [The Bitcoin Foundation](https://bitcoinfoundation.org/donate/) [GPG Project](https://www.wauland.de/en/donation.html#61) | [Apache Software Foundation](http://www.apache.org/foundation/contributing.html) | [The Food Democracy](http://www.fooddemocracynow.org/) [Skateistan](http://skateistan.org/) | [Ronald McDonald House Charities of the Capital Region](http://www.rmhcofalbany.org/) | [Catalyst Foundation](http://www.catalystfoundation.org/)  [Dark Wallet](https://www.darkwallet.is/) | [Sea Shepherd](https://www.seashepherd.org.au/support-us/support-us.html) | [Kitty Safe Haven](http://www.kittysafehaven.org) [Tempe Bicycle Action Group](http://www.biketempe.org) | [Free Ross](http://freeross.org/donate-now-2/) | [Charity Water](https://www.charitywater.org/) | [Open Bazaar](https://openbazaar.org/) | [Krono Labs](https://www.kronolabs.com/) | [The Northern California DX Foundation](http://ncdxf.org/pages/contribute.html) | [Calgary Womens Centre](http://www.womenscentrecalgary.org/donate/donate-with-bitcoin/) | [Pathways Canada](http://www.pathwayscanada.ca/bitcoin) | [Help Rescue Animals](http://ru4mepetrescue.rescuegroups.org/info/donate) | [Pathways To Education](http://pathwaystoeducation.ca/) | [Exponential Education](http://www.exponentialeducationprogram.org/) | [Peace Geeks](http://peacegeeks.org/) | [Abolitionist Law Centre](http://abolitionistlawcenter.org/) | [100%](http://100percent.org.nz/) | [Epic Change](http://epicchangeblog.org/) | [Generations Of Hope](http://www.generationsofhope.org/donate/) | [Methuselah Foundation](http://mfoundation.org/) | [SETI](http://setiathome.berkeley.edu/sah_donate.php)  | [Bitcoins Not Bombs](http://www.bitcoinnotbombs.com/projects/hoodie-the-homeless/) | [Erowid](https://www.erowid.org/donations/donations_cryptocurrency.php) | [World Builders](https://twitter.com/worldbuilders_) |\n",
      "\n",
      "post at idx 125657\n",
      "lang: __label__en\n",
      "conf: 0.5552650690078735\n",
      "Soon we will see continued growth of Bitcoin. 14-15.000$! &#x200B; https://preview.redd.it/e03bny19nxk31.jpg?width=1280&format=pjpg&auto=webp&s=71f1d1fea94536fbed4df02d4d8ffdb0fc226778\n",
      "\n",
      "post at idx 118563\n",
      "lang: __label__en\n",
      "conf: 0.5553903579711914\n",
      "Tether 74% backed yet trades at $1.01. This gotta be manipulation.  [https://www.fxstreet.com/cryptocurrencies/news/latest-tether-scandal-only-74-coins-are-backed-by-fiat-201905010144?utm\\_source=tradingview&utm\\_medium=rss&utm\\_campaign=254b9d70-7c4b-481b-a94e-aaac0c60ed14](https://www.fxstreet.com/cryptocurrencies/news/latest-tether-scandal-only-74-coins-are-backed-by-fiat-201905010144?utm_source=tradingview&utm_medium=rss&utm_campaign=254b9d70-7c4b-481b-a94e-aaac0c60ed14)\n",
      "\n",
      "post at idx 38777\n",
      "lang: __label__en\n",
      "conf: 0.5554843544960022\n",
      "When is Bitcoin going to break the all time high of $2200? https://www.reddit.com/r/Bitcoin/comments/3sry1m/bitcoin_price_scyrockets_to_2200_on_gemini/ https://www.reddit.com/r/Bitcoin/comments/3sqjrf/gemini_2200_per_bitcoin_are_they_out_of_bitcoin/ https://www.reddit.com/r/Bitcoin/comments/3ss945/just_got_this_email_from_gemini_about_the_2200/\n",
      "\n",
      "post at idx 55048\n",
      "lang: __label__en\n",
      "conf: 0.5554853081703186\n",
      "When segwit activates will we go to Beta 0.15.0? title\n",
      "\n",
      "post at idx 76975\n",
      "lang: __label__en\n",
      "conf: 0.555557906627655\n",
      "Report Chinese Fishing Site www.gdaxbtc.com www .gdaxbtc. com is a scam site. Please report to Google here: https://safebrowsing.google.com/safebrowsing/report_badware/ Domain name: gdaxbtc.com Registry Domain ID: 2189151412_DOMAIN_COM-VRSN Registrar WHOIS Server: whois.ordertld.com Registrar URL: http://www.ordertld.com Updated Date: 2017-11-19T16:18:29Z Creation Date: 2017-11-19T00:00:00Z Registrar Registration Expiration Date: 2018-11-19T00:00:00Z Registrar: CNOBIN INFORMATION TECHNOLOGY LIMITED Registrar IANA ID: 3254 Registrar Abuse Contact Email:  Registrar Abuse Contact Phone: +852.81926949 Reseller:  Domain Status: clientDeleteProhibited (http://www.icann.org/epp#clientDeleteProhibited) Domain Status: clientTransferProhibited (http://www.icann.org/epp#clientTransferProhibited) Registry Registrant ID: Not Available From Registry Registrant Name: Wuxi Yilian LLC Registrant Organization: Wuxi Yilian LLC Registrant Street: No.1001 Anling Road Registrant City: Xiamen Registrant State/Province: Fujian Registrant Postal Code: 361008 Registrant Country: cn Registrant Phone: +86.5922577888 Registrant Phone Ext:  Registrant Fax: +86.5922179606\n",
      "\n",
      "post at idx 3765\n",
      "lang: __label__en\n",
      "conf: 0.5556925535202026\n",
      "Tipping / Giving Tuesday is here, first 1000 comments get some Bitcoin! **SOME TIPPING [SUGGESTIONS](https://www.reddit.com/r/changetip/wiki/suggestions)** [Millionaire Makers](www.reddit.com/r/millionairemakers) Will do it like last time... Those of you who submit great charities or causes that need donations will receive higher gifts from me and have it added to this text! :D Those of you who just want the charity of your own pockets to expand still say Hi :) 100 bits for the first **1000** comments! **### PLEASE CONSIDER PASSING MY TIPS ON TO OTHERS OR CHARITIES :D ###** **If the older members spot fake accounts trying to take the charity and twist it for their own selfish reasons - please feel free to down vote it or comment and you will be awarded a bounty! XD** | | | | |-|-|-| [The Water Project](http://thewaterproject.org/donate-bitcoin) | [The Bitcoin Movement](http://thebitcoinmovement.com/donate-2/) |[The Internet Archive](https://archive.org/donate/bitcoin.php) | [Tor Exit Nodes](http://enn.lu/donate/bitcoin) [Wikimedia](http://wikimediafoundation.org/wiki/Ways_to_Give#bitcoin) | [Aphasia Institute](http://www.aphasia.ca) | [GPG Tools](https://gpgtools.org/donate.html) [Seans Outpost](http://www.seansoutpost.com/) | [Water Aid](http://www.wateraid.org/uk) | [Technology for kids](http://one.laptop.org/) | [Edward Snowden Defense](https://www.freesnowden.is/) |  [The TOR Project](https://www.torproject.org/) | [Candian Down Syndrome Society](http://www.cdss.ca)| [Tails](https://tails.boum.org/contribute/how/donate/#bitcoin) | [Childs Play](http://www.childsplaycharity.org) | [War Child](http://www.warchild.ca/bitcoin) | [Blender Open Source](http://www.blender.org/foundation/donation-payment/) [RNLI](https://rnli.org/howtosupportus/donatenow/Pages/bitcoin.aspx?utm_source=rnli-website-redirect&amp;amp;utm_medium=vanity-urls&amp;amp;utm_campaign=bitcoin) | [Khan Academy](https://www.khanacademy.org/donate) | [Alzeimer's Association](http://www.alz.org) [Save The Trees](http://www.evergreen.ca/en/) | [New Technology to Cure Hunger](http://www.new-harvest.org/) | [Ending Poverty](http://ajws.org/) [Save The Seas](http://www.seashepherd.org/) | [Without Regrets](http://www.withoutregrets.org/) | [Make a millionaire](https://np.reddit.com/r/millionairemakers/comments/2q9ung/santa_is_real_thank_you_all_so_much_i_am_still_in/) | [Protect The Earth](http://www.generationgreen.com/) | [Doctors of the World UK](http://www.doctorsoftheworld.org.uk) [Songs Of Love](http://www.songsoflove.org/bitcoins/) | [Non-Profit Tech Resources](http://ntrweb.org/support-ntr/#bitcoin) | [Fight Cancer](http://donate.thon.org/) [Bitcoin Research Comparables](http://suitpossum.blogspot.co.uk/2014/12/academic-bitcoin-research.html) | [United Way](http://www.unitedway.org/pages/donate-bitcoin-to-united-way) | [Engineers without Borders](https://ssl.charityweb.net/ewbusa/) [MAPS](http://maps.org/) | [Mesothelioma Research](http://www.curemeso.org/site/c.duIWJfNQKiL8G/b.9195907/k.6887/Bitcoin_Donation_Form.htm) | [Bone Marrow Help](http://www.bethematch.org/) | [Bitcoin Against Ebola](https://bitcoinagainstebola.org/#!/) | [Childrens Medical Center of Dallas](https://give.childrens.com/) [Education](http://www.pathwaystoeducation.ca/) | [The Planetary Society](http://www.planetary.org/become-a-member/other-ways-to-give/donate-bitcoin.html) | [Bread For The City](http://www.breadforthecity.org/bitcoin-donation-page/) | [Give A Mile](http://giveamile.org/donate/) | [Stop Domestic Violence](http://sigilsocial.org/donate/) | [Fight Malaria](https://www.againstmalaria.com/) | [Help Foster Kids](http://www.generationsofhope.org/donate/) | [Womens Centre](http://www.womenscentrecalgary.org/donate/donate-with-bitcoin/) | [Save The Children Ebola Fund](https://bitpay.com/615074/donate) | [OK Foster Wishes](http://www.okfosterwishes.com/) [Legalise Marijuana](http://dcmj.org/donate/) | [Anza](http://www.anza.co.com/) | [Help Kids](https://www.helpsdkids.org/donate) [LibreOffice](http://www.libreoffice.org/donate/) | [Mozilla Foundation](https://sendto.mozilla.org/page/content/give-bitcoin/) | [Darkcoin Foundation](https://www.darkcoinfoundation.org/) [United Sikhs](http://unitedsikhs.org/) | [Cancer Support](http://www.macmillan.org.uk/Home.aspx) | [Operation Fistula](http://www.opfistula.org/donate/) [BitGive Foundation](http://bitgivefoundation.org/donate-now/) | [WikiLeaks](https://shop.wikileaks.org/donate#dbitcoin) | [Hotspot Community Resource Center](http://www.seatoskycommunity.org/donate/) [Antiwar.com](http://www.antiwar.com) | [Free Software Foundation](https://my.fsf.org/civicrm/contribute/transact?reset=1&amp;amp;id=14) | [Saving Girls](http://www.savinginnocence.org/) | [Electric Frontier Foundation](https://supporters.eff.org/donate) | [Reporters Without Borders](http://en.rsf.org/) [The Tenth Amendment Center](http://shop.tenthamendmentcenter.com/product/pledge/) | [Young Minds](http://www.youngminds.org.uk/) | [The Bitcoin Foundation](https://bitcoinfoundation.org/donate/) [GPG Project](https://www.wauland.de/en/donation.html#61) | [Apache Software Foundation](http://www.apache.org/foundation/contributing.html) | [The Food Democracy](http://www.fooddemocracynow.org/) [Skateistan](http://skateistan.org/) | [Ronald McDonald House Charities of the Capital Region](http://www.rmhcofalbany.org/) | [Catalyst Foundation](http://www.catalystfoundation.org/)  [Dark Wallet](https://www.darkwallet.is/) | [Sea Shepherd](https://www.seashepherd.org.au/support-us/support-us.html) | [Kitty Safe Haven](http://www.kittysafehaven.org) [Tempe Bicycle Action Group](http://www.biketempe.org) | [Free Ross](http://freeross.org/donate-now-2/) | [Charity Water](https://www.charitywater.org/) | [Open Bazaar](https://openbazaar.org/) | [Krono Labs](https://www.kronolabs.com/) | [The Northern California DX Foundation](http://ncdxf.org/pages/contribute.html) | [Calgary Womens Centre](http://www.womenscentrecalgary.org/donate/donate-with-bitcoin/) | [Pathways Canada](http://www.pathwayscanada.ca/bitcoin) | [Help Rescue Animals](http://ru4mepetrescue.rescuegroups.org/info/donate) | [Pathways To Education](http://pathwaystoeducation.ca/) | [Exponential Education](http://www.exponentialeducationprogram.org/) | [Peace Geeks](http://peacegeeks.org/) | [Abolitionist Law Centre](http://abolitionistlawcenter.org/) | [100%](http://100percent.org.nz/) | [Epic Change](http://epicchangeblog.org/) | [Generations Of Hope](http://www.generationsofhope.org/donate/) | [Methuselah Foundation](http://mfoundation.org/) | [SETI](http://setiathome.berkeley.edu/sah_donate.php)  | [Bitcoins Not Bombs](http://www.bitcoinnotbombs.com/projects/hoodie-the-homeless/) | [Erowid](https://www.erowid.org/donations/donations_cryptocurrency.php) | [World Builders](https://twitter.com/worldbuilders_)  | [Wau Holland Foundation](https://www.wauland.de/en/donation.html#61) | [Rise up](https://help.riseup.net/en/donate#bitcoin) | [World Aid](https://worldaid.org/donations-for-homeless-children/)  | [Pathways To Education](http://www.pathwaystoeducation.ca/bitcoin) | www.awanj.org | [Solar Cookers](http://www.solarcookers.org/donate/giving-options/)  | [Project Free State](https://freestateproject.org/donate) |\n",
      "\n",
      "post at idx 55128\n",
      "lang: __label__en\n",
      "conf: 0.5557345151901245\n",
      "How to safely split and send bcash from Bitcoin Core I have some BTC in cold storage on an offline laptop. I wanted to split off my Bcash to dump it, but didn't want to install megabytes of un-audited bitcoin-abc code on my cold storage laptop. So I was wondering how to go about signing a raw transaction on the offline laptop without having to install piles of possibly trojaned code there. I eventually came up with this small patch to Bitcoin Core v1.4.2 which allows me to sign a transaction with the `SIGHASH_FORKID` flag simply by using `CASH` as the `sighashtype` (optional 4th argument) when running `signrawtransaction`:     diff --git a/src/core_write.cpp b/src/core_write.cpp     index b0993a1..42b0d42 100644     --- a/src/core_write.cpp     +++ b/src/core_write.cpp     @@ -61,6 +61,7 @@ const std::map<unsigned char, std::string> mapSigHashTypes =          (static_cast<unsigned char>(SIGHASH_NONE|SIGHASH_ANYONECANPAY), std::string(\"NONE|ANYONECANPAY\"))          (static_cast<unsigned char>(SIGHASH_SINGLE), std::string(\"SINGLE\"))          (static_cast<unsigned char>(SIGHASH_SINGLE|SIGHASH_ANYONECANPAY), std::string(\"SINGLE|ANYONECANPAY\"))     +    (static_cast<unsigned char>(SIGHASH_ALL|SIGHASH_FORKID), std::string(\"CASH\"))          ;            /**     diff --git a/src/rpc/rawtransaction.cpp b/src/rpc/rawtransaction.cpp     index 0fabb9f..e7330f7 100644     --- a/src/rpc/rawtransaction.cpp     +++ b/src/rpc/rawtransaction.cpp     @@ -631,6 +631,7 @@ UniValue signrawtransaction(const JSONRPCRequest& request)                  \"       \\\"ALL|ANYONECANPAY\\\"\\n\"                  \"       \\\"NONE|ANYONECANPAY\\\"\\n\"                  \"       \\\"SINGLE|ANYONECANPAY\\\"\\n\"     +            \"       \\\"CASH\\\"\\n\"                        \"\\nResult:\\n\"                  \"{\\n\"     @@ -800,6 +801,7 @@ UniValue signrawtransaction(const JSONRPCRequest& request)                  (string(\"NONE|ANYONECANPAY\"), int(SIGHASH_NONE|SIGHASH_ANYONECANPAY))                  (string(\"SINGLE\"), int(SIGHASH_SINGLE))                  (string(\"SINGLE|ANYONECANPAY\"), int(SIGHASH_SINGLE|SIGHASH_ANYONECANPAY))     +            (string(\"CASH\"), int(SIGHASH_ALL|SIGHASH_FORKID))                  ;              string strHashType = request.params[3].get_str();              if (mapSigHashValues.count(strHashType))     @@ -808,7 +810,7 @@ UniValue signrawtransaction(const JSONRPCRequest& request)                  throw JSONRPCError(RPC_INVALID_PARAMETER, \"Invalid sighash param\");          }           -    bool fHashSingle = ((nHashType & ~SIGHASH_ANYONECANPAY) == SIGHASH_SINGLE);     +    bool fHashSingle = ((nHashType & ~(SIGHASH_ANYONECANPAY | SIGHASH_FORKID)) == SIGHASH_SINGLE);                // Script verification errors          UniValue vErrors(UniValue::VARR);     diff --git a/src/script/interpreter.cpp b/src/script/interpreter.cpp     index f9b7835..080bc44 100644     --- a/src/script/interpreter.cpp     +++ b/src/script/interpreter.cpp     @@ -187,7 +187,7 @@ bool static IsDefinedHashtypeSignature(const valtype &vchSig) {          if (vchSig.size() == 0) {              return false;          }     -    unsigned char nHashType = vchSig[vchSig.size() - 1] & (~(SIGHASH_ANYONECANPAY));     +    unsigned char nHashType = vchSig[vchSig.size() - 1] & (~(SIGHASH_ANYONECANPAY | SIGHASH_FORKID));          if (nHashType < SIGHASH_ALL || nHashType > SIGHASH_SINGLE)              return false;           @@ -1177,7 +1177,7 @@ PrecomputedTransactionData::PrecomputedTransactionData(const CTransaction& txTo)            uint256 SignatureHash(const CScript& scriptCode, const CTransaction& txTo, unsigned int nIn, int nHashType, const CAmount& amount, SigVersion sigversion, const PrecomputedTransactionData* cache)      {     -    if (sigversion == SIGVERSION_WITNESS_V0) {     +    if (sigversion == SIGVERSION_WITNESS_V0 || (nHashType & SIGHASH_FORKID)) {              uint256 hashPrevouts;              uint256 hashSequence;              uint256 hashOutputs;     diff --git a/src/script/interpreter.h b/src/script/interpreter.h     index 79894c5..414e23e 100644     --- a/src/script/interpreter.h     +++ b/src/script/interpreter.h     @@ -24,6 +24,7 @@ enum          SIGHASH_ALL = 1,          SIGHASH_NONE = 2,          SIGHASH_SINGLE = 3,     +    SIGHASH_FORKID = 0x40,          SIGHASH_ANYONECANPAY = 0x80,      };       it only involves editing 7 lines, so can easily be applied by hand to your offline machine if necessary. To test it, here I create and sign a raw transaction using Bitcoin ABC, and then create and sign the same transaction using my patched Bitcoin Core, with the new 'CASH' signature type:     $ hex=$(bch signrawtransaction \\                 $(bch createrawtransaction \\                       '[{\"txid\":\"'$txid'\",\"vout\":'$vout'}]' \\                       '{\"'$dest'\":'$amount'}') \\                 '[{\"txid\":\"'$txid'\",\"vout\":'$vout',\"scriptPubKey\":\"'$pubkey'\"}]' \\                 '[\"'$priv'\"]' |             grep hex |             cut -d'\"' -f4)     $ bcc signrawtransaction \\           $(bcc createrawtransaction \\                 '[{\"txid\":\"'$txid'\",\"vout\":'$vout'}]' \\                 '{\"'$dest'\":'$amount'}') \\           '[{\"txid\":\"'$txid'\",\"vout\":'$vout',\"scriptPubKey\":\"'$pubkey'\"}]' \\           '[\"'$priv'\"]' \\           CASH |       sed \"s/$hex/same/\"     {       \"hex\": \"same\",       \"complete\": true     } (`bcc` is my alias for bitcoin core, and `bch` is my alias for bitcoin cash) The resulting signed transaction is byte-for-byte identical. Hopefully this is useful for others. I notice that the signing code used for `SIGHASH_FORKID` is the same as for `SIGVERSION_WITNESS_V0`, but I don't think that's a problem even after SegWit activates. I tried replaying a testnet Bcash transaction on the BTC testnet (where SegWit is active) and saw:     An error occured:     16: mandatory-script-verify-flag-failed (Signature hash type missing or not understood). Code:-26\n",
      "\n",
      "post at idx 103442\n",
      "lang: __label__en\n",
      "conf: 0.5557484030723572\n",
      "Bitcoin made it in the Wikipedia top 10 researches of 2017. Ready for top 3? Check out @TokenHunters’s Tweet: https://twitter.com/TokenHunters/status/989379331284701184?s=09\n",
      "\n",
      "post at idx 110182\n",
      "lang: __label__en\n",
      "conf: 0.5560652613639832\n",
      "What will you pick first? The Lady or the Crypto Coins? [https://www.reddit.com/r/bitkubofficial/comments/9mx5al/what\\_will\\_you\\_pick\\_first\\_the\\_lady\\_or\\_the\\_crypto/](https://www.reddit.com/r/bitkubofficial/comments/9mx5al/what_will_you_pick_first_the_lady_or_the_crypto/) https://preview.redd.it/82xec5wg2br11.jpg?width=960&format=pjpg&auto=webp&s=b3f376b0809b7ac9fb8a71aba8f37001a9c58226\n",
      "\n",
      "post at idx 36227\n",
      "lang: __label__en\n",
      "conf: 0.556198000907898\n",
      "51,278 Unconfirmed transactions [source](https://blockchain.info/charts/mempool-count) \n",
      "\n",
      "post at idx 134129\n",
      "lang: __label__en\n",
      "conf: 0.5562417507171631\n",
      "Holding up in the middle of it all FOR PROFIT,TRADE,SELL TO BARTER OR CURRENCY OVER THE COUNTER  ON THE NET.STOCK MARKET STILL UP AND STANDING.DIAMOND BITCOIN IN THE ROUGH.\n",
      "\n",
      "post at idx 106155\n",
      "lang: __label__en\n",
      "conf: 0.5562997460365295\n",
      "Building on Bitcoin --- Day 1 --- All the talks 1/13: Bryan Bishop - [State of Bitcoin Over the Years](https://youtu.be/XORDEX-RrAI) - Short summary of the release of the alert key and related exploits 2/13: Adam Ficsor - [Anonymous Bitcoin](https://youtu.be/XORDEX-RrAI?t=1027) - Talks about his personal experience and failures while trying to get privacy to bitcoin  3/13: Jonas Schnelli - [Current state and the future of wallets](https://youtu.be/XORDEX-RrAI?t=3440) - Talks about SPV, the security issues, new proposals, and the new hybrid mode for bitcoin core 4/13: Patrícia Estevão - [Designing Lightning Wallets for the Bitcoin Users](https://youtu.be/XORDEX-RrAI?t=6042) - Talks about UX.  5/13: [Tooling Panel](https://youtu.be/XORDEX-RrAI?t=8613) 6/13: Peter Todd - [Single Use Seals](https://youtu.be/XORDEX-RrAI?t=14650) 7/13: Mustafa Al-Bassam - [Contour](https://youtu.be/XORDEX-RrAI?t=15901) - Talks about timestamping software updates into the blockchain to ensure you're running the same code as others 8/13: Thomas Kerin - [Working with scripts with logical opcodes](https://youtu.be/XORDEX-RrAI?t=17845) 9/13: Nicolas Dorier - [How to make everyone use their own full node](https://youtu.be/XORDEX-RrAI?t=19346) 10/13: Adam Gibson - [CoinJoinXT ... and other techniques for deniable transfers](https://youtu.be/XORDEX-RrAI?t=23359) - Bonus: interesting observations about how transactions can be tracked 11/13: Jonas Nick - [Blind Signatures in Scriptless Scripts](https://youtu.be/XORDEX-RrAI?t=25479) - Explains blind schnorr signatures and potential use cases 12/13: Giulia Fanti - [Dandelion - Privacy-Preserving Transaction Forwarding in Bitcoin's Peer-to-Peer Network](https://youtu.be/XORDEX-RrAI?t=27274) - An overview of the topic 13/13: [Privacy Panel](https://youtu.be/XORDEX-RrAI?t=29143) - Devs views on privacy &nbsp; Edit: Original Tweet - https://twitter.com/SeoulBitcoin/status/1014764341814444032\n",
      "\n",
      "post at idx 113386\n",
      "lang: __label__en\n",
      "conf: 0.5563790798187256\n",
      "Celebrate The 10-Year Anniversary of the Genesis Block: Bitcoin Wednesday, Amsterdam &#x200B; [10-Year Anniversary of the Genesis Block](https://preview.redd.it/5n6l79lsmm621.jpg?width=1440&format=pjpg&auto=webp&s=9e8604731004f7eca0b2e409475f8bb833b8379a) &#x200B; Excellent program with:   nopara73 and the Wasabi, privacy-centric Bitcoin wallet; Iddo Bentov, Chief Scientist of Spacemesh;  Alexander Zaidelson, CEO of Mimblewimble's Beam, and many more. &#x200B; An opening New Year's reception event at Mindspace on the Nieuwzijds voorburgwal.   Check out the [program](https://www.bitcoinwednesday.com/events/bitcoin-wednesday-67/), and [sign up](https://www.bitcoinwednesday.com/events/bitcoin-wednesday-67/)!  Limited places. &#x200B; [BitcoinWednesday.com](https://preview.redd.it/gmxb0gtpnm621.jpg?width=200&format=pjpg&auto=webp&s=67f529ba7a8f468378ca71438d6266032d5c7f87) &#x200B; &#x200B; &#x200B; &#x200B;\n",
      "\n",
      "post at idx 139580\n",
      "lang: __label__en\n",
      "conf: 0.5564143061637878\n",
      "Me, who doubled my BTC holding a week ago. &#x200B; https://preview.redd.it/l13d2r1b5hd51.png?width=385&format=png&auto=webp&s=469e9494ffb4bc46b696d73038623a03db62d955\n",
      "\n",
      "post at idx 39945\n",
      "lang: __label__en\n",
      "conf: 0.556504487991333\n",
      "Bitcoin vs Gold - the First Crossing Only 1% in it http://www.kitco.com/finance/bitcoin/\n",
      "\n",
      "post at idx 14765\n",
      "lang: __label__en\n",
      "conf: 0.5565752983093262\n",
      "Andreas Antonopoulos interview on London Real https://londonrealacademy.com/episodes/andreas-antonopoulos-bitcoin/\n",
      "\n",
      "post at idx 97791\n",
      "lang: __label__en\n",
      "conf: 0.5565922260284424\n",
      "Bitcoin Futures Promoters Defend Them As CFTC Considers Tighter Scrutiny Uh oh.....\n",
      "\n",
      "post at idx 110596\n",
      "lang: __label__en\n",
      "conf: 0.5566182136535645\n",
      "Free BITCOIN extension for Magento 2 [Apirone.com](https://Apirone.com) proud to announce of Bitcoin extension for Magento 2 https://preview.redd.it/y6t2zupxs6t11.png?width=1201&format=png&auto=webp&s=51d48e0a2a3a855dcefad488c3e6ab4f7482c64e Features: \\* No KYC or Docs necessary \\* Payment forwards directly into your bitcoin wallet  \\* All over the world \\* Fixed Fee &#x200B; Site: [https://apirone.com/integrations/magento-2](https://apirone.com/integrations/magento-2) GitHub: [https://github.com/Apirone/Magento2](https://github.com/Apirone/Magento2)\n",
      "\n",
      "post at idx 41455\n",
      "lang: __label__en\n",
      "conf: 0.5566199421882629\n",
      "How to Winklevii 1) Buy 100,000 \"cheap\" BTC 2) Propose ETF 3) Open exchange; collect fees 4) Watch corn pop; collect fees 5) Watch coin drop; collect fees 6) GOTO 4 \n",
      "\n",
      "post at idx 118196\n",
      "lang: __label__en\n",
      "conf: 0.5566402673721313\n",
      "Bitcoin elections 2020 A spent shitload of time on this infographics. Hope you guys enjoy! &#x200B; https://preview.redd.it/t38pf065u8t21.png?width=800&format=png&auto=webp&s=9797c5d8c525470d02153dc02f6e31e33f628893\n",
      "\n",
      "post at idx 32017\n",
      "lang: __label__en\n",
      "conf: 0.5566636323928833\n",
      "Bitcoin version 1.0 Any idea when bitcoin core wallet will move to version 1.0?  \n",
      "\n",
      "post at idx 125359\n",
      "lang: __label__en\n",
      "conf: 0.5566874742507935\n",
      "4 Most Useful Tools to Store Bitcoin Offline\n",
      "\n",
      "post at idx 30415\n",
      "lang: __label__en\n",
      "conf: 0.5567684173583984\n",
      "4th Gemini Auction finished: 1050 BTC at 598.51 USD. https://api.gemini.com/v1/auction/btcusd     {         \"closed_until_ms\": 1474750800000,         \"last_auction_price\": \"598.51\",         \"last_auction_quantity\": \"1050.24982153\",         \"last_highest_bid_price\": \"598.50\",         \"last_lowest_ask_price\": \"598.51\",         \"next_auction_ms\": 1474833600000     }\n",
      "\n",
      "post at idx 122002\n",
      "lang: __label__en\n",
      "conf: 0.5567846894264221\n",
      "The early bird gets the worm! [https://www.reddit.com/r/CryptoCurrency/comments/bzolnr/a\\_bank\\_in\\_liechtenstein\\_grew\\_its\\_traffic\\_by\\_900/?utm\\_source=share&utm\\_medium=web2x](https://www.reddit.com/r/CryptoCurrency/comments/bzolnr/a_bank_in_liechtenstein_grew_its_traffic_by_900/?utm_source=share&utm_medium=web2x)\n",
      "\n",
      "post at idx 117479\n",
      "lang: __label__en\n",
      "conf: 0.556795597076416\n",
      "Daily Crypto Blog: Bitcoin’s fight for the 5,000 USD continues. On Monday, the Bitcoin fell below the 5,000 USD for a short moment. The caution now urges us to take a look downwards. April 16, 2019 at 00:15 am. Blog post: [https://block66.de/en](https://block66.de/en/der-kampf-des-bitcoins-um-die-5-000-usd-geht-unveraendert-weiter/) &#x200B; https://preview.redd.it/6y3t43ixcis21.jpg?width=2000&format=pjpg&auto=webp&s=af22c54e53d0e139280938006b480b8e49d4c117\n",
      "\n",
      "post at idx 81499\n",
      "lang: __label__en\n",
      "conf: 0.5568039417266846\n",
      "Hodl Haiku Numbers Algorithms,   Secure Digital Assets,   Quines Bitcoin Futures\n",
      "\n",
      "post at idx 118034\n",
      "lang: __label__en\n",
      "conf: 0.5568814277648926\n",
      "MITHRA - AntMiner Monitoring System   MITHRA - AntMiner Monitoring System Functions:   There Are Some Of The Functions Which Can Be Executed By MITHRA   1. AntMiner Reboot Via One Click   2. Miner Groups System    3. User Add/Remove System (With Privileges)   4. Automatically Search AntMiners in IP Range And Add In Database (Automatically Detect Miner Type(Model))   5. Error, High Temperature Detect   6. AutoMail System When Error/Warning Detected   7. AJAX Refresh System (Without Whole Page Reload)   8. Authorization System And Still Working On Some New Functions (Like Auto Reboot Function When AntMiner Hashrate Is Lower Than X) Latest Version Is Mithra 5.5 (With More Comfortable Theme Than Old Versions) SUPPORTED ANTMINERS: S9(S9j), L3+, L3, A3, Z9-Mini, T9(T9+), DR3, D3, S7 PRICE IS DEAL.\n",
      "\n",
      "post at idx 134974\n",
      "lang: __label__en\n",
      "conf: 0.5570064187049866\n",
      "Command line halving countdown Dunno why but I did this : A magnificent (as in very ugly) shell script that spits out the number of blocks remaining before lambomoon halving festival     #!/usr/bin/env bash          LANG=en_us_8859_1     block_count=$(bitcoin-cli getblockcount)          current_halving_index=$(($block_count / 210000))     if [ $current_halving_index -gt 33 ]; then       current_halving_power=50000000000     else       current_halving_power=$((2**$current_halving_index))     fi     current_block_subsidy=$((5000000000/$current_halving_power))          next_halving_index=$((1 + $current_halving_index))     next_halving_height=$(($next_halving_index * 210000))          if [ $next_halving_index -gt 33 ]; then       next_halving_power=50000000000     else       next_halving_power=$((2**$next_halving_index))     fi     next_block_subsidy=$((5000000000/$next_halving_power))          echo $(date) :  $((($next_halving_height - $block_count) )) remaining blocks until halving number $next_halving_index     echo At block $next_halving_height, maximum block subsidy will go from $current_block_subsidy satoshis to $next_block_subsidy satoshis      Prints shit like this :     Wed Apr 29 15:37:47 CEST 2020 : 1844 remaining blocks until halving number 3     At block 630000, maximum block subsidy will go from 1250000000 satoshis to 625000000 satoshis You only need to run bitcoind and enjoy an ugly command line message telling you that you'll soon be as rich as a fucking Burger King only diet\n",
      "\n",
      "post at idx 142885\n",
      "lang: __label__en\n",
      "conf: 0.5570255517959595\n",
      "Join us in X:414 Y: 296, We are making a WHOLE BITCOIN   # [Twitch Does Pixel Art](https://www.twitch.tv/twitchdoespixelart) - [https://www.twitch.tv/twitchdoespixelart](https://www.twitch.tv/twitchdoespixelart) https://preview.redd.it/ym5kb46t81s51.png?width=1505&format=png&auto=webp&s=6ac15952f28a0891a31a4455c1809bdffa2102c2\n",
      "\n",
      "post at idx 96526\n",
      "lang: __label__en\n",
      "conf: 0.5570518374443054\n",
      "A sad day for the Crypto world HODL AND BUY. If we survive this, our future will be bright, AHHUU!\n",
      "\n",
      "post at idx 93714\n",
      "lang: __label__en\n",
      "conf: 0.5573554039001465\n",
      "Will the mempool reach 300 000? What do you guys think? Will the mempool reach 300 000 before Christmas? \n",
      "\n",
      "post at idx 26713\n",
      "lang: __label__en\n",
      "conf: 0.5574204325675964\n",
      "XBT Provider's new guarantor So official announcement could come soon? http://digital.di.se/artikel/kritiserat-bitcoinbolag-kan-saljas-till-usa \n",
      "\n",
      "post at idx 117078\n",
      "lang: __label__en\n",
      "conf: 0.5574263334274292\n",
      "Wore my Bitcoin socks on the day of the Rally.... You’re welcome. \n",
      "\n",
      "post at idx 135654\n",
      "lang: __label__fr\n",
      "conf: 0.5574781894683838\n",
      "Transactions are delayed due to blockchain congestion   Transactions are delayed due to blockchain congestion. Please note it can take up to 24-48 hrs for transactions to appear on the blockchain. Les transactions sont retardées en raison de la congestion du blockchain. Notez que cela peut prendre entre 24 à 48 heures pour que les transactions apparaissent sur le blockchain.\n",
      "\n",
      "post at idx 77368\n",
      "lang: __label__en\n",
      "conf: 0.557544469833374\n",
      "Need help btc address generator code How can I implement this sha256(password+n) into python code? A password can be a string or integer. \n",
      "\n"
     ]
    }
   ],
   "source": [
    "for i in range(2000, 2100):\n",
    "    post_idx = idxs_by_conf[i]\n",
    "    print(\"post at idx {}\".format(post_idx))\n",
    "    print(\"lang: {}\".format(lang_preds[0][post_idx][0]))\n",
    "    print(\"conf: {}\".format(lang_preds[1][post_idx][0]))\n",
    "    print(texts[post_idx])\n",
    "    print()"
   ]
  },
  {
   "cell_type": "markdown",
   "metadata": {},
   "source": [
    "May also want to apply this *after* some basic preprocessing steps. e.g., remove links, apply word count min threshold."
   ]
  },
  {
   "cell_type": "markdown",
   "metadata": {},
   "source": [
    "## Removing Special Chars"
   ]
  }
 ],
 "metadata": {
  "kernelspec": {
   "display_name": "Python 3",
   "language": "python",
   "name": "python3"
  },
  "language_info": {
   "codemirror_mode": {
    "name": "ipython",
    "version": 3
   },
   "file_extension": ".py",
   "mimetype": "text/x-python",
   "name": "python",
   "nbconvert_exporter": "python",
   "pygments_lexer": "ipython3",
   "version": "3.8.10"
  }
 },
 "nbformat": 4,
 "nbformat_minor": 4
}
