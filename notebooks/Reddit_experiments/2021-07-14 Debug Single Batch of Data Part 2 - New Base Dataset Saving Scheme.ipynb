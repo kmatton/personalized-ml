{
 "cells": [
  {
   "cell_type": "code",
   "execution_count": 1,
   "id": "650fc024",
   "metadata": {},
   "outputs": [],
   "source": [
    "%load_ext autoreload\n",
    "%autoreload 2"
   ]
  },
  {
   "cell_type": "code",
   "execution_count": 2,
   "id": "2f1ce177",
   "metadata": {},
   "outputs": [],
   "source": [
    "import os\n",
    "import sys\n",
    "sys.path.append(\"../src/\")\n",
    "import json\n",
    "\n",
    "import numpy as np\n",
    "import pandas as pd\n",
    "import math\n",
    "from scipy.stats import ttest_rel, ttest_ind\n",
    "from datasets import Dataset, list_metrics, load_metric\n",
    "from transformers import AutoConfig, AutoTokenizer, AutoModelForMaskedLM, DataCollatorForLanguageModeling, Trainer\n",
    "\n",
    "import matplotlib.pyplot as plt\n",
    "import seaborn as sns\n",
    "sns.set_theme()\n",
    "\n",
    "from results_analysis.analyze_exp_results import ExpAnalyzer\n",
    "from results_analysis.analyze_personalized_exp_results import PerPopulationExpAnalyzer\n",
    "from results_analysis.analysis_utils import plot_user_perf_by_sample_count\n",
    "\n",
    "from runners.runner_utils import loss_to_perplexity"
   ]
  },
  {
   "cell_type": "code",
   "execution_count": 3,
   "id": "19745b66",
   "metadata": {},
   "outputs": [],
   "source": [
    "base_result_dir = \"/data/ddmg/redditlanguagemodeling/results/\""
   ]
  },
  {
   "cell_type": "code",
   "execution_count": 54,
   "id": "742045ed",
   "metadata": {},
   "outputs": [],
   "source": [
    "result_dir = os.path.join(base_result_dir, \"debug/finetune_all_deterministic_test/42\")\n",
    "ea_global = ExpAnalyzer(result_dir)"
   ]
  },
  {
   "cell_type": "code",
   "execution_count": 55,
   "id": "32ee4479",
   "metadata": {},
   "outputs": [
    {
     "data": {
      "text/html": [
       "<div>\n",
       "<style scoped>\n",
       "    .dataframe tbody tr th:only-of-type {\n",
       "        vertical-align: middle;\n",
       "    }\n",
       "\n",
       "    .dataframe tbody tr th {\n",
       "        vertical-align: top;\n",
       "    }\n",
       "\n",
       "    .dataframe thead th {\n",
       "        text-align: right;\n",
       "    }\n",
       "</style>\n",
       "<table border=\"1\" class=\"dataframe\">\n",
       "  <thead>\n",
       "    <tr style=\"text-align: right;\">\n",
       "      <th></th>\n",
       "      <th>step</th>\n",
       "      <th>data</th>\n",
       "      <th>loss</th>\n",
       "      <th>perplexity</th>\n",
       "    </tr>\n",
       "  </thead>\n",
       "  <tbody>\n",
       "    <tr>\n",
       "      <th>0</th>\n",
       "      <td>1</td>\n",
       "      <td>train</td>\n",
       "      <td>2.851500</td>\n",
       "      <td>17.313733</td>\n",
       "    </tr>\n",
       "    <tr>\n",
       "      <th>1</th>\n",
       "      <td>2</td>\n",
       "      <td>train</td>\n",
       "      <td>2.505000</td>\n",
       "      <td>12.243559</td>\n",
       "    </tr>\n",
       "    <tr>\n",
       "      <th>2</th>\n",
       "      <td>3</td>\n",
       "      <td>train</td>\n",
       "      <td>2.900800</td>\n",
       "      <td>18.188691</td>\n",
       "    </tr>\n",
       "    <tr>\n",
       "      <th>3</th>\n",
       "      <td>4</td>\n",
       "      <td>train</td>\n",
       "      <td>1.823200</td>\n",
       "      <td>6.191640</td>\n",
       "    </tr>\n",
       "    <tr>\n",
       "      <th>4</th>\n",
       "      <td>5</td>\n",
       "      <td>train</td>\n",
       "      <td>1.706300</td>\n",
       "      <td>5.508542</td>\n",
       "    </tr>\n",
       "    <tr>\n",
       "      <th>5</th>\n",
       "      <td>6</td>\n",
       "      <td>train</td>\n",
       "      <td>2.182300</td>\n",
       "      <td>8.866676</td>\n",
       "    </tr>\n",
       "    <tr>\n",
       "      <th>6</th>\n",
       "      <td>1</td>\n",
       "      <td>val</td>\n",
       "      <td>2.621380</td>\n",
       "      <td>13.754696</td>\n",
       "    </tr>\n",
       "    <tr>\n",
       "      <th>7</th>\n",
       "      <td>2</td>\n",
       "      <td>val</td>\n",
       "      <td>2.602014</td>\n",
       "      <td>13.490876</td>\n",
       "    </tr>\n",
       "    <tr>\n",
       "      <th>8</th>\n",
       "      <td>3</td>\n",
       "      <td>val</td>\n",
       "      <td>2.609457</td>\n",
       "      <td>13.591675</td>\n",
       "    </tr>\n",
       "    <tr>\n",
       "      <th>9</th>\n",
       "      <td>4</td>\n",
       "      <td>val</td>\n",
       "      <td>2.606499</td>\n",
       "      <td>13.551530</td>\n",
       "    </tr>\n",
       "    <tr>\n",
       "      <th>10</th>\n",
       "      <td>5</td>\n",
       "      <td>val</td>\n",
       "      <td>2.608874</td>\n",
       "      <td>13.583745</td>\n",
       "    </tr>\n",
       "    <tr>\n",
       "      <th>11</th>\n",
       "      <td>6</td>\n",
       "      <td>val</td>\n",
       "      <td>2.623444</td>\n",
       "      <td>13.783106</td>\n",
       "    </tr>\n",
       "  </tbody>\n",
       "</table>\n",
       "</div>"
      ],
      "text/plain": [
       "    step   data      loss  perplexity\n",
       "0      1  train  2.851500   17.313733\n",
       "1      2  train  2.505000   12.243559\n",
       "2      3  train  2.900800   18.188691\n",
       "3      4  train  1.823200    6.191640\n",
       "4      5  train  1.706300    5.508542\n",
       "5      6  train  2.182300    8.866676\n",
       "6      1    val  2.621380   13.754696\n",
       "7      2    val  2.602014   13.490876\n",
       "8      3    val  2.609457   13.591675\n",
       "9      4    val  2.606499   13.551530\n",
       "10     5    val  2.608874   13.583745\n",
       "11     6    val  2.623444   13.783106"
      ]
     },
     "execution_count": 55,
     "metadata": {},
     "output_type": "execute_result"
    }
   ],
   "source": [
    "ea_global.train_hist_df"
   ]
  },
  {
   "cell_type": "code",
   "execution_count": 56,
   "id": "e126315d",
   "metadata": {},
   "outputs": [
    {
     "data": {
      "text/plain": [
       "loss           2.738543\n",
       "perplexity    18.067263\n",
       "dtype: float64"
      ]
     },
     "execution_count": 56,
     "metadata": {},
     "output_type": "execute_result"
    }
   ],
   "source": [
    "ea_global.author_result_df.mean()"
   ]
  },
  {
   "cell_type": "code",
   "execution_count": 57,
   "id": "fb1f8a16",
   "metadata": {},
   "outputs": [
    {
     "data": {
      "text/plain": [
       "loss           0.506300\n",
       "perplexity    14.205811\n",
       "dtype: float64"
      ]
     },
     "execution_count": 57,
     "metadata": {},
     "output_type": "execute_result"
    }
   ],
   "source": [
    "ea_global.author_result_df.std()"
   ]
  },
  {
   "cell_type": "code",
   "execution_count": 58,
   "id": "ade223c1",
   "metadata": {},
   "outputs": [
    {
     "data": {
      "image/png": "[encoded data removed]",
      "text/plain": [
       "<Figure size 432x288 with 1 Axes>"
      ]
     },
     "metadata": {},
     "output_type": "display_data"
    },
    {
     "data": {
      "text/plain": [
       "<Figure size 432x288 with 0 Axes>"
      ]
     },
     "metadata": {},
     "output_type": "display_data"
    }
   ],
   "source": [
    "ea_global.plot_metric_hist(\"perplexity\")"
   ]
  },
  {
   "cell_type": "code",
   "execution_count": 49,
   "id": "17006544",
   "metadata": {},
   "outputs": [],
   "source": [
    "result_dir = os.path.join(base_result_dir, \"debug/sw_deterministic_test_5/42\")\n",
    "ea_sw = ExpAnalyzer(result_dir)"
   ]
  },
  {
   "cell_type": "code",
   "execution_count": 50,
   "id": "5c2aedad",
   "metadata": {},
   "outputs": [
    {
     "data": {
      "text/html": [
       "<div>\n",
       "<style scoped>\n",
       "    .dataframe tbody tr th:only-of-type {\n",
       "        vertical-align: middle;\n",
       "    }\n",
       "\n",
       "    .dataframe tbody tr th {\n",
       "        vertical-align: top;\n",
       "    }\n",
       "\n",
       "    .dataframe thead th {\n",
       "        text-align: right;\n",
       "    }\n",
       "</style>\n",
       "<table border=\"1\" class=\"dataframe\">\n",
       "  <thead>\n",
       "    <tr style=\"text-align: right;\">\n",
       "      <th></th>\n",
       "      <th>step</th>\n",
       "      <th>data</th>\n",
       "      <th>loss</th>\n",
       "      <th>perplexity</th>\n",
       "    </tr>\n",
       "  </thead>\n",
       "  <tbody>\n",
       "    <tr>\n",
       "      <th>0</th>\n",
       "      <td>1</td>\n",
       "      <td>train</td>\n",
       "      <td>2.851500</td>\n",
       "      <td>17.313733</td>\n",
       "    </tr>\n",
       "    <tr>\n",
       "      <th>1</th>\n",
       "      <td>2</td>\n",
       "      <td>train</td>\n",
       "      <td>2.505000</td>\n",
       "      <td>12.243559</td>\n",
       "    </tr>\n",
       "    <tr>\n",
       "      <th>2</th>\n",
       "      <td>3</td>\n",
       "      <td>train</td>\n",
       "      <td>2.900800</td>\n",
       "      <td>18.188691</td>\n",
       "    </tr>\n",
       "    <tr>\n",
       "      <th>3</th>\n",
       "      <td>4</td>\n",
       "      <td>train</td>\n",
       "      <td>1.823200</td>\n",
       "      <td>6.191640</td>\n",
       "    </tr>\n",
       "    <tr>\n",
       "      <th>4</th>\n",
       "      <td>5</td>\n",
       "      <td>train</td>\n",
       "      <td>1.706300</td>\n",
       "      <td>5.508542</td>\n",
       "    </tr>\n",
       "    <tr>\n",
       "      <th>5</th>\n",
       "      <td>6</td>\n",
       "      <td>train</td>\n",
       "      <td>2.182300</td>\n",
       "      <td>8.866676</td>\n",
       "    </tr>\n",
       "    <tr>\n",
       "      <th>6</th>\n",
       "      <td>1</td>\n",
       "      <td>val</td>\n",
       "      <td>2.621380</td>\n",
       "      <td>13.754696</td>\n",
       "    </tr>\n",
       "    <tr>\n",
       "      <th>7</th>\n",
       "      <td>2</td>\n",
       "      <td>val</td>\n",
       "      <td>2.602014</td>\n",
       "      <td>13.490876</td>\n",
       "    </tr>\n",
       "    <tr>\n",
       "      <th>8</th>\n",
       "      <td>3</td>\n",
       "      <td>val</td>\n",
       "      <td>2.609457</td>\n",
       "      <td>13.591675</td>\n",
       "    </tr>\n",
       "    <tr>\n",
       "      <th>9</th>\n",
       "      <td>4</td>\n",
       "      <td>val</td>\n",
       "      <td>2.606499</td>\n",
       "      <td>13.551530</td>\n",
       "    </tr>\n",
       "    <tr>\n",
       "      <th>10</th>\n",
       "      <td>5</td>\n",
       "      <td>val</td>\n",
       "      <td>2.608874</td>\n",
       "      <td>13.583745</td>\n",
       "    </tr>\n",
       "    <tr>\n",
       "      <th>11</th>\n",
       "      <td>6</td>\n",
       "      <td>val</td>\n",
       "      <td>2.623444</td>\n",
       "      <td>13.783106</td>\n",
       "    </tr>\n",
       "  </tbody>\n",
       "</table>\n",
       "</div>"
      ],
      "text/plain": [
       "    step   data      loss  perplexity\n",
       "0      1  train  2.851500   17.313733\n",
       "1      2  train  2.505000   12.243559\n",
       "2      3  train  2.900800   18.188691\n",
       "3      4  train  1.823200    6.191640\n",
       "4      5  train  1.706300    5.508542\n",
       "5      6  train  2.182300    8.866676\n",
       "6      1    val  2.621380   13.754696\n",
       "7      2    val  2.602014   13.490876\n",
       "8      3    val  2.609457   13.591675\n",
       "9      4    val  2.606499   13.551530\n",
       "10     5    val  2.608874   13.583745\n",
       "11     6    val  2.623444   13.783106"
      ]
     },
     "execution_count": 50,
     "metadata": {},
     "output_type": "execute_result"
    }
   ],
   "source": [
    "ea_sw.train_hist_df"
   ]
  },
  {
   "cell_type": "code",
   "execution_count": 51,
   "id": "d348baee",
   "metadata": {},
   "outputs": [
    {
     "data": {
      "text/plain": [
       "loss           2.738543\n",
       "perplexity    18.067263\n",
       "dtype: float64"
      ]
     },
     "execution_count": 51,
     "metadata": {},
     "output_type": "execute_result"
    }
   ],
   "source": [
    "ea_sw.author_result_df.mean()"
   ]
  },
  {
   "cell_type": "code",
   "execution_count": 52,
   "id": "7e769de4",
   "metadata": {},
   "outputs": [
    {
     "data": {
      "text/plain": [
       "loss           0.506300\n",
       "perplexity    14.205811\n",
       "dtype: float64"
      ]
     },
     "execution_count": 52,
     "metadata": {},
     "output_type": "execute_result"
    }
   ],
   "source": [
    "ea_sw.author_result_df.std()"
   ]
  },
  {
   "cell_type": "code",
   "execution_count": 53,
   "id": "278da73d",
   "metadata": {},
   "outputs": [
    {
     "data": {
      "image/png": "[encoded data removed]",
      "text/plain": [
       "<Figure size 432x288 with 1 Axes>"
      ]
     },
     "metadata": {},
     "output_type": "display_data"
    },
    {
     "data": {
      "text/plain": [
       "<Figure size 432x288 with 0 Axes>"
      ]
     },
     "metadata": {},
     "output_type": "display_data"
    }
   ],
   "source": [
    "ea_sw.plot_metric_hist(\"perplexity\")"
   ]
  },
  {
   "cell_type": "code",
   "execution_count": 61,
   "id": "786b3867",
   "metadata": {},
   "outputs": [],
   "source": [
    "result_dir = os.path.join(base_result_dir, \"debug/sw_deterministic_test_9/42\")\n",
    "ea_sw9 = ExpAnalyzer(result_dir)"
   ]
  },
  {
   "cell_type": "code",
   "execution_count": 62,
   "id": "e9a5d853",
   "metadata": {},
   "outputs": [
    {
     "data": {
      "text/html": [
       "<div>\n",
       "<style scoped>\n",
       "    .dataframe tbody tr th:only-of-type {\n",
       "        vertical-align: middle;\n",
       "    }\n",
       "\n",
       "    .dataframe tbody tr th {\n",
       "        vertical-align: top;\n",
       "    }\n",
       "\n",
       "    .dataframe thead th {\n",
       "        text-align: right;\n",
       "    }\n",
       "</style>\n",
       "<table border=\"1\" class=\"dataframe\">\n",
       "  <thead>\n",
       "    <tr style=\"text-align: right;\">\n",
       "      <th></th>\n",
       "      <th>step</th>\n",
       "      <th>data</th>\n",
       "      <th>loss</th>\n",
       "      <th>perplexity</th>\n",
       "    </tr>\n",
       "  </thead>\n",
       "  <tbody>\n",
       "    <tr>\n",
       "      <th>0</th>\n",
       "      <td>1</td>\n",
       "      <td>train</td>\n",
       "      <td>0.316800</td>\n",
       "      <td>1.372728</td>\n",
       "    </tr>\n",
       "    <tr>\n",
       "      <th>1</th>\n",
       "      <td>2</td>\n",
       "      <td>train</td>\n",
       "      <td>1.619100</td>\n",
       "      <td>5.048545</td>\n",
       "    </tr>\n",
       "    <tr>\n",
       "      <th>2</th>\n",
       "      <td>3</td>\n",
       "      <td>train</td>\n",
       "      <td>1.538600</td>\n",
       "      <td>4.658064</td>\n",
       "    </tr>\n",
       "    <tr>\n",
       "      <th>3</th>\n",
       "      <td>4</td>\n",
       "      <td>train</td>\n",
       "      <td>0.205600</td>\n",
       "      <td>1.228262</td>\n",
       "    </tr>\n",
       "    <tr>\n",
       "      <th>4</th>\n",
       "      <td>5</td>\n",
       "      <td>train</td>\n",
       "      <td>1.025900</td>\n",
       "      <td>2.789605</td>\n",
       "    </tr>\n",
       "    <tr>\n",
       "      <th>5</th>\n",
       "      <td>6</td>\n",
       "      <td>train</td>\n",
       "      <td>0.960900</td>\n",
       "      <td>2.614048</td>\n",
       "    </tr>\n",
       "    <tr>\n",
       "      <th>6</th>\n",
       "      <td>1</td>\n",
       "      <td>val</td>\n",
       "      <td>2.621380</td>\n",
       "      <td>13.754696</td>\n",
       "    </tr>\n",
       "    <tr>\n",
       "      <th>7</th>\n",
       "      <td>2</td>\n",
       "      <td>val</td>\n",
       "      <td>2.610982</td>\n",
       "      <td>13.612408</td>\n",
       "    </tr>\n",
       "    <tr>\n",
       "      <th>8</th>\n",
       "      <td>3</td>\n",
       "      <td>val</td>\n",
       "      <td>2.640493</td>\n",
       "      <td>14.020113</td>\n",
       "    </tr>\n",
       "    <tr>\n",
       "      <th>9</th>\n",
       "      <td>4</td>\n",
       "      <td>val</td>\n",
       "      <td>2.640336</td>\n",
       "      <td>14.017910</td>\n",
       "    </tr>\n",
       "    <tr>\n",
       "      <th>10</th>\n",
       "      <td>5</td>\n",
       "      <td>val</td>\n",
       "      <td>2.638785</td>\n",
       "      <td>13.996186</td>\n",
       "    </tr>\n",
       "    <tr>\n",
       "      <th>11</th>\n",
       "      <td>6</td>\n",
       "      <td>val</td>\n",
       "      <td>2.655232</td>\n",
       "      <td>14.228286</td>\n",
       "    </tr>\n",
       "  </tbody>\n",
       "</table>\n",
       "</div>"
      ],
      "text/plain": [
       "    step   data      loss  perplexity\n",
       "0      1  train  0.316800    1.372728\n",
       "1      2  train  1.619100    5.048545\n",
       "2      3  train  1.538600    4.658064\n",
       "3      4  train  0.205600    1.228262\n",
       "4      5  train  1.025900    2.789605\n",
       "5      6  train  0.960900    2.614048\n",
       "6      1    val  2.621380   13.754696\n",
       "7      2    val  2.610982   13.612408\n",
       "8      3    val  2.640493   14.020113\n",
       "9      4    val  2.640336   14.017910\n",
       "10     5    val  2.638785   13.996186\n",
       "11     6    val  2.655232   14.228286"
      ]
     },
     "execution_count": 62,
     "metadata": {},
     "output_type": "execute_result"
    }
   ],
   "source": [
    "ea_sw9.train_hist_df"
   ]
  },
  {
   "cell_type": "code",
   "execution_count": 63,
   "id": "9ccea65f",
   "metadata": {},
   "outputs": [
    {
     "data": {
      "text/plain": [
       "loss           2.751878\n",
       "perplexity    18.370296\n",
       "dtype: float64"
      ]
     },
     "execution_count": 63,
     "metadata": {},
     "output_type": "execute_result"
    }
   ],
   "source": [
    "ea_sw9.author_result_df.mean()"
   ]
  },
  {
   "cell_type": "code",
   "execution_count": 64,
   "id": "c1705c94",
   "metadata": {},
   "outputs": [
    {
     "data": {
      "text/plain": [
       "loss           0.510126\n",
       "perplexity    14.795968\n",
       "dtype: float64"
      ]
     },
     "execution_count": 64,
     "metadata": {},
     "output_type": "execute_result"
    }
   ],
   "source": [
    "ea_sw9.author_result_df.std()"
   ]
  },
  {
   "cell_type": "code",
   "execution_count": 65,
   "id": "b41c5be8",
   "metadata": {},
   "outputs": [
    {
     "data": {
      "image/png": "[encoded data removed]",
      "text/plain": [
       "<Figure size 432x288 with 1 Axes>"
      ]
     },
     "metadata": {},
     "output_type": "display_data"
    },
    {
     "data": {
      "text/plain": [
       "<Figure size 432x288 with 0 Axes>"
      ]
     },
     "metadata": {},
     "output_type": "display_data"
    }
   ],
   "source": [
    "ea_sw9.plot_metric_hist(\"perplexity\")"
   ]
  },
  {
   "cell_type": "code",
   "execution_count": 44,
   "id": "f44dad0d",
   "metadata": {},
   "outputs": [],
   "source": [
    "result_dir = os.path.join(base_result_dir, \"debug/sw_deterministic_test_1/42\")\n",
    "ea_sw1 = ExpAnalyzer(result_dir)"
   ]
  },
  {
   "cell_type": "code",
   "execution_count": 45,
   "id": "92470416",
   "metadata": {},
   "outputs": [
    {
     "data": {
      "text/html": [
       "<div>\n",
       "<style scoped>\n",
       "    .dataframe tbody tr th:only-of-type {\n",
       "        vertical-align: middle;\n",
       "    }\n",
       "\n",
       "    .dataframe tbody tr th {\n",
       "        vertical-align: top;\n",
       "    }\n",
       "\n",
       "    .dataframe thead th {\n",
       "        text-align: right;\n",
       "    }\n",
       "</style>\n",
       "<table border=\"1\" class=\"dataframe\">\n",
       "  <thead>\n",
       "    <tr style=\"text-align: right;\">\n",
       "      <th></th>\n",
       "      <th>step</th>\n",
       "      <th>data</th>\n",
       "      <th>loss</th>\n",
       "      <th>perplexity</th>\n",
       "    </tr>\n",
       "  </thead>\n",
       "  <tbody>\n",
       "    <tr>\n",
       "      <th>0</th>\n",
       "      <td>1</td>\n",
       "      <td>train</td>\n",
       "      <td>0.000000</td>\n",
       "      <td>1.000000</td>\n",
       "    </tr>\n",
       "    <tr>\n",
       "      <th>1</th>\n",
       "      <td>2</td>\n",
       "      <td>train</td>\n",
       "      <td>1.732200</td>\n",
       "      <td>5.653077</td>\n",
       "    </tr>\n",
       "    <tr>\n",
       "      <th>2</th>\n",
       "      <td>3</td>\n",
       "      <td>train</td>\n",
       "      <td>1.383700</td>\n",
       "      <td>3.989636</td>\n",
       "    </tr>\n",
       "    <tr>\n",
       "      <th>3</th>\n",
       "      <td>4</td>\n",
       "      <td>train</td>\n",
       "      <td>0.000000</td>\n",
       "      <td>1.000000</td>\n",
       "    </tr>\n",
       "    <tr>\n",
       "      <th>4</th>\n",
       "      <td>5</td>\n",
       "      <td>train</td>\n",
       "      <td>0.962200</td>\n",
       "      <td>2.617449</td>\n",
       "    </tr>\n",
       "    <tr>\n",
       "      <th>5</th>\n",
       "      <td>6</td>\n",
       "      <td>train</td>\n",
       "      <td>0.747700</td>\n",
       "      <td>2.112137</td>\n",
       "    </tr>\n",
       "    <tr>\n",
       "      <th>6</th>\n",
       "      <td>1</td>\n",
       "      <td>val</td>\n",
       "      <td>2.860363</td>\n",
       "      <td>17.467875</td>\n",
       "    </tr>\n",
       "    <tr>\n",
       "      <th>7</th>\n",
       "      <td>2</td>\n",
       "      <td>val</td>\n",
       "      <td>2.680884</td>\n",
       "      <td>14.597994</td>\n",
       "    </tr>\n",
       "    <tr>\n",
       "      <th>8</th>\n",
       "      <td>3</td>\n",
       "      <td>val</td>\n",
       "      <td>2.638724</td>\n",
       "      <td>13.995332</td>\n",
       "    </tr>\n",
       "    <tr>\n",
       "      <th>9</th>\n",
       "      <td>4</td>\n",
       "      <td>val</td>\n",
       "      <td>2.673349</td>\n",
       "      <td>14.488408</td>\n",
       "    </tr>\n",
       "    <tr>\n",
       "      <th>10</th>\n",
       "      <td>5</td>\n",
       "      <td>val</td>\n",
       "      <td>2.689355</td>\n",
       "      <td>14.722179</td>\n",
       "    </tr>\n",
       "    <tr>\n",
       "      <th>11</th>\n",
       "      <td>6</td>\n",
       "      <td>val</td>\n",
       "      <td>2.703803</td>\n",
       "      <td>14.936424</td>\n",
       "    </tr>\n",
       "  </tbody>\n",
       "</table>\n",
       "</div>"
      ],
      "text/plain": [
       "    step   data      loss  perplexity\n",
       "0      1  train  0.000000    1.000000\n",
       "1      2  train  1.732200    5.653077\n",
       "2      3  train  1.383700    3.989636\n",
       "3      4  train  0.000000    1.000000\n",
       "4      5  train  0.962200    2.617449\n",
       "5      6  train  0.747700    2.112137\n",
       "6      1    val  2.860363   17.467875\n",
       "7      2    val  2.680884   14.597994\n",
       "8      3    val  2.638724   13.995332\n",
       "9      4    val  2.673349   14.488408\n",
       "10     5    val  2.689355   14.722179\n",
       "11     6    val  2.703803   14.936424"
      ]
     },
     "execution_count": 45,
     "metadata": {},
     "output_type": "execute_result"
    }
   ],
   "source": [
    "ea_sw1.train_hist_df"
   ]
  },
  {
   "cell_type": "code",
   "execution_count": 46,
   "id": "e8a48f80",
   "metadata": {},
   "outputs": [
    {
     "data": {
      "text/plain": [
       "loss           2.785843\n",
       "perplexity    18.994905\n",
       "dtype: float64"
      ]
     },
     "execution_count": 46,
     "metadata": {},
     "output_type": "execute_result"
    }
   ],
   "source": [
    "ea_sw1.author_result_df.mean()"
   ]
  },
  {
   "cell_type": "code",
   "execution_count": 47,
   "id": "ff267639",
   "metadata": {},
   "outputs": [
    {
     "data": {
      "text/plain": [
       "loss           0.509931\n",
       "perplexity    15.385457\n",
       "dtype: float64"
      ]
     },
     "execution_count": 47,
     "metadata": {},
     "output_type": "execute_result"
    }
   ],
   "source": [
    "ea_sw1.author_result_df.std()"
   ]
  },
  {
   "cell_type": "code",
   "execution_count": 48,
   "id": "5225c3bf",
   "metadata": {},
   "outputs": [
    {
     "data": {
      "image/png": "[encoded data removed]",
      "text/plain": [
       "<Figure size 432x288 with 1 Axes>"
      ]
     },
     "metadata": {},
     "output_type": "display_data"
    },
    {
     "data": {
      "text/plain": [
       "<Figure size 432x288 with 0 Axes>"
      ]
     },
     "metadata": {},
     "output_type": "display_data"
    }
   ],
   "source": [
    "ea_sw1.plot_metric_hist(\"perplexity\")"
   ]
  },
  {
   "cell_type": "code",
   "execution_count": 36,
   "id": "d197c303",
   "metadata": {},
   "outputs": [],
   "source": [
    "result_dir = os.path.join(base_result_dir, \"debug/finetune_author_deterministic_test/42\")\n",
    "ea_author = ExpAnalyzer(result_dir)"
   ]
  },
  {
   "cell_type": "code",
   "execution_count": 37,
   "id": "bd712924",
   "metadata": {},
   "outputs": [
    {
     "data": {
      "text/html": [
       "<div>\n",
       "<style scoped>\n",
       "    .dataframe tbody tr th:only-of-type {\n",
       "        vertical-align: middle;\n",
       "    }\n",
       "\n",
       "    .dataframe tbody tr th {\n",
       "        vertical-align: top;\n",
       "    }\n",
       "\n",
       "    .dataframe thead th {\n",
       "        text-align: right;\n",
       "    }\n",
       "</style>\n",
       "<table border=\"1\" class=\"dataframe\">\n",
       "  <thead>\n",
       "    <tr style=\"text-align: right;\">\n",
       "      <th></th>\n",
       "      <th>step</th>\n",
       "      <th>data</th>\n",
       "      <th>loss</th>\n",
       "      <th>perplexity</th>\n",
       "    </tr>\n",
       "  </thead>\n",
       "  <tbody>\n",
       "    <tr>\n",
       "      <th>0</th>\n",
       "      <td>1</td>\n",
       "      <td>train</td>\n",
       "      <td>3.153300</td>\n",
       "      <td>23.413201</td>\n",
       "    </tr>\n",
       "    <tr>\n",
       "      <th>1</th>\n",
       "      <td>2</td>\n",
       "      <td>train</td>\n",
       "      <td>2.205300</td>\n",
       "      <td>9.072973</td>\n",
       "    </tr>\n",
       "    <tr>\n",
       "      <th>2</th>\n",
       "      <td>1</td>\n",
       "      <td>val</td>\n",
       "      <td>2.652246</td>\n",
       "      <td>14.185871</td>\n",
       "    </tr>\n",
       "    <tr>\n",
       "      <th>3</th>\n",
       "      <td>2</td>\n",
       "      <td>val</td>\n",
       "      <td>2.659763</td>\n",
       "      <td>14.292903</td>\n",
       "    </tr>\n",
       "  </tbody>\n",
       "</table>\n",
       "</div>"
      ],
      "text/plain": [
       "   step   data      loss  perplexity\n",
       "0     1  train  3.153300   23.413201\n",
       "1     2  train  2.205300    9.072973\n",
       "2     1    val  2.652246   14.185871\n",
       "3     2    val  2.659763   14.292903"
      ]
     },
     "execution_count": 37,
     "metadata": {},
     "output_type": "execute_result"
    }
   ],
   "source": [
    "ea_author.train_hist_df"
   ]
  },
  {
   "cell_type": "code",
   "execution_count": 42,
   "id": "a2dcce47",
   "metadata": {},
   "outputs": [
    {
     "data": {
      "text/plain": [
       "loss           2.767966\n",
       "perplexity    18.797044\n",
       "dtype: float64"
      ]
     },
     "execution_count": 42,
     "metadata": {},
     "output_type": "execute_result"
    }
   ],
   "source": [
    "ea_author.author_result_df.mean()"
   ]
  },
  {
   "cell_type": "code",
   "execution_count": 43,
   "id": "a121b1ff",
   "metadata": {},
   "outputs": [
    {
     "data": {
      "text/plain": [
       "loss           0.517560\n",
       "perplexity    15.762677\n",
       "dtype: float64"
      ]
     },
     "execution_count": 43,
     "metadata": {},
     "output_type": "execute_result"
    }
   ],
   "source": [
    "ea_author.author_result_df.std()"
   ]
  },
  {
   "cell_type": "code",
   "execution_count": 38,
   "id": "943f4cb8",
   "metadata": {},
   "outputs": [
    {
     "data": {
      "image/png": "[encoded data removed]",
      "text/plain": [
       "<Figure size 432x288 with 1 Axes>"
      ]
     },
     "metadata": {},
     "output_type": "display_data"
    },
    {
     "data": {
      "text/plain": [
       "<Figure size 432x288 with 0 Axes>"
      ]
     },
     "metadata": {},
     "output_type": "display_data"
    }
   ],
   "source": [
    "ea_author.plot_metric_hist(\"perplexity\")"
   ]
  }
 ],
 "metadata": {
  "kernelspec": {
   "display_name": "Python 3",
   "language": "python",
   "name": "python3"
  },
  "language_info": {
   "codemirror_mode": {
    "name": "ipython",
    "version": 3
   },
   "file_extension": ".py",
   "mimetype": "text/x-python",
   "name": "python",
   "nbconvert_exporter": "python",
   "pygments_lexer": "ipython3",
   "version": "3.8.10"
  }
 },
 "nbformat": 4,
 "nbformat_minor": 5
}
