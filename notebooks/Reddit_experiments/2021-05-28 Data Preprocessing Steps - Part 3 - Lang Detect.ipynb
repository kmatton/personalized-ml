{
 "cells": [
  {
   "cell_type": "code",
   "execution_count": 2,
   "id": "16a9c36b",
   "metadata": {},
   "outputs": [
    {
     "name": "stdout",
     "output_type": "stream",
     "text": [
      "The autoreload extension is already loaded. To reload it, use:\n",
      "  %reload_ext autoreload\n"
     ]
    }
   ],
   "source": [
    "%load_ext autoreload\n",
    "%autoreload 2"
   ]
  },
  {
   "cell_type": "code",
   "execution_count": 3,
   "id": "4f717f15",
   "metadata": {},
   "outputs": [],
   "source": [
    "import os\n",
    "from datetime import datetime\n",
    "import re\n",
    "import sys\n",
    "sys.path.append('../src/')\n",
    "\n",
    "import fasttext\n",
    "import matplotlib as plt\n",
    "import numpy as np\n",
    "np.set_printoptions(precision=3)\n",
    "import pandas as pd\n",
    "import seaborn as sns\n",
    "sns.set_theme()\n",
    "\n",
    "from data_processor import PostProcessor"
   ]
  },
  {
   "cell_type": "code",
   "execution_count": 4,
   "id": "06c4bf32",
   "metadata": {},
   "outputs": [],
   "source": [
    "BASE_DATA_PATH = \"/data/ddmg/personalizedmentalhealth/reddit_project/data\""
   ]
  },
  {
   "cell_type": "markdown",
   "id": "422a6b4e",
   "metadata": {},
   "source": [
    "# Apply step (1) exclusion criteria and step (2) text preprocessing"
   ]
  },
  {
   "cell_type": "code",
   "execution_count": 5,
   "id": "1d5428c0",
   "metadata": {},
   "outputs": [
    {
     "data": {
      "text/plain": [
       "['Family',\n",
       " 'investing',\n",
       " 'relationships',\n",
       " 'medical',\n",
       " 'mentalhealth',\n",
       " 'bitcoin',\n",
       " 'AskDocs',\n",
       " 'relationship_advice',\n",
       " 'personalfinance']"
      ]
     },
     "execution_count": 5,
     "metadata": {},
     "output_type": "execute_result"
    }
   ],
   "source": [
    "subreddits = os.listdir(BASE_DATA_PATH)\n",
    "subreddits"
   ]
  },
  {
   "cell_type": "code",
   "execution_count": 15,
   "id": "8da54d47",
   "metadata": {},
   "outputs": [
    {
     "name": "stdout",
     "output_type": "stream",
     "text": [
      "Processing Posts in Subreddit: Family\n",
      "Total dataset size: 31586\n",
      "18921 posts=59.903121636167924% excluded because were deleted or removed\n",
      "968 additional posts=7.643110935649427% excluded because no author\n",
      "119 additional posts=1.0173548773189707% excluded because are links to articles\n",
      "Final post 11578, which is 36.65548027607168% of original posts\n",
      "starting processing of post text\n",
      "initial dataset size is 11578\n",
      "322 posts=2.781136638452237% removed because have URL ratio > 0.04\n",
      "24 posts=0.21321961620469082% removed because contain table\n",
      "\n",
      "Processing Posts in Subreddit: investing\n",
      "Total dataset size: 162469\n",
      "83415 posts=51.342102185647725% excluded because were deleted or removed\n",
      "6298 additional posts=7.966706302021403% excluded because no author\n",
      "9 additional posts=0.012370113805047007% excluded because are links to articles\n",
      "Final post 72747, which is 44.77592648443703% of original posts\n",
      "starting processing of post text\n",
      "initial dataset size is 72747\n",
      "5499 posts=7.5590746010144745% removed because have URL ratio > 0.04\n",
      "511 posts=0.759873899595527% removed because contain table\n",
      "\n",
      "Processing Posts in Subreddit: relationships\n",
      "Total dataset size: 1377067\n",
      "1082720 posts=78.62507779214809% excluded because were deleted or removed\n",
      "17330 additional posts=5.887608842624521% excluded because no author\n",
      "6 additional posts=0.002165932054711444% excluded because are links to articles\n",
      "Final post 277011, which is 20.116014689190866% of original posts\n",
      "starting processing of post text\n",
      "initial dataset size is 277011\n",
      "3 posts=0.0010829894841721088% removed because have URL ratio > 0.04\n",
      "182 posts=0.06570207358632242% removed because contain table\n",
      "\n",
      "Processing Posts in Subreddit: medical\n",
      "Total dataset size: 15179\n",
      "6807 posts=44.844851439488764% excluded because were deleted or removed\n",
      "222 additional posts=2.6516961299569997% excluded because no author\n",
      "2846 additional posts=34.920245398773005% excluded because are links to articles\n",
      "Final post 5304, which is 34.94301337374004% of original posts\n",
      "starting processing of post text\n",
      "initial dataset size is 5304\n",
      "51 posts=0.9615384615384616% removed because have URL ratio > 0.04\n",
      "7 posts=0.1332571863696935% removed because contain table\n",
      "\n",
      "Processing Posts in Subreddit: mentalhealth\n",
      "Total dataset size: 216630\n",
      "97244 posts=44.88944282878641% excluded because were deleted or removed\n",
      "10141 additional posts=8.494295813579482% excluded because no author\n",
      "11400 additional posts=10.435260194974598% excluded because are links to articles\n",
      "Final post 97845, which is 45.166874394128236% of original posts\n",
      "starting processing of post text\n",
      "initial dataset size is 97845\n",
      "1612 posts=1.6475037048392867% removed because have URL ratio > 0.04\n",
      "122 posts=0.12677563829455593% removed because contain table\n",
      "\n",
      "Processing Posts in Subreddit: bitcoin\n",
      "Total dataset size: 663841\n",
      "223204 posts=33.62311155834002% excluded because were deleted or removed\n",
      "22140 additional posts=5.024544012418385% excluded because no author\n",
      "267699 additional posts=63.966766786858685% excluded because are links to articles\n",
      "Final post 150798, which is 22.715981688386226% of original posts\n",
      "starting processing of post text\n",
      "initial dataset size is 150798\n",
      "9251 posts=6.134696746641202% removed because have URL ratio > 0.04\n",
      "403 posts=0.2847110853638721% removed because contain table\n",
      "\n",
      "Processing Posts in Subreddit: AskDocs\n",
      "Total dataset size: 654314\n",
      "409158 posts=62.53236213805604% excluded because were deleted or removed\n",
      "17427 additional posts=7.108534973649431% excluded because no author\n",
      "109 additional posts=0.047863908417461104% excluded because are links to articles\n",
      "Final post 227620, which is 34.78757905225931% of original posts\n",
      "starting processing of post text\n",
      "initial dataset size is 227620\n",
      "1929 posts=0.8474650733678939% removed because have URL ratio > 0.04\n",
      "798 posts=0.35358078080207006% removed because contain table\n",
      "\n",
      "Processing Posts in Subreddit: relationship_advice\n",
      "Total dataset size: 1396378\n",
      "848988 posts=60.79929646557021% excluded because were deleted or removed\n",
      "31661 additional posts=5.7839931310400265% excluded because no author\n",
      "1224 additional posts=0.23733394864357055% excluded because are links to articles\n",
      "Final post 514505, which is 36.845682186342096% of original posts\n",
      "starting processing of post text\n",
      "initial dataset size is 514505\n",
      "277 posts=0.05383815511996968% removed because have URL ratio > 0.04\n",
      "290 posts=0.05639521768554027% removed because contain table\n",
      "\n",
      "Processing Posts in Subreddit: personalfinance\n",
      "Total dataset size: 94690\n",
      "41274 posts=43.588552117435846% excluded because were deleted or removed\n",
      "1483 additional posts=2.7763217013628876% excluded because no author\n",
      "302 additional posts=0.5815184949839216% excluded because are links to articles\n",
      "Final post 51631, which is 54.526349139296656% of original posts\n",
      "starting processing of post text\n",
      "initial dataset size is 51631\n",
      "93 posts=0.1801243439019194% removed because have URL ratio > 0.04\n",
      "268 posts=0.5200046567581202% removed because contain table\n",
      "\n"
     ]
    }
   ],
   "source": [
    "# create processed dataframes (only need to run once)\n",
    "df_list = []\n",
    "text_df_list = []\n",
    "for sr in subreddits:\n",
    "    print(\"Processing Posts in Subreddit: {}\".format(sr))\n",
    "    data_dir = os.path.join(BASE_DATA_PATH, sr, \"posts\")\n",
    "    data_path = os.path.join(data_dir, \"all.csv\")\n",
    "    pp = PostProcessor(data_path)\n",
    "    filtered_ids = pp.filter(data_dir)\n",
    "    df_list.append(pp.data_df)\n",
    "    text_df = pp.preprocess_text(data_dir, filtered_ids)\n",
    "    text_df_list.append(text_df)\n",
    "    print()"
   ]
  },
  {
   "cell_type": "code",
   "execution_count": 8,
   "id": "f5612163",
   "metadata": {},
   "outputs": [],
   "source": [
    "# load processed dataframes\n",
    "df_list = []\n",
    "text_df_list = []\n",
    "for sr in subreddits:\n",
    "    data_dir = os.path.join(BASE_DATA_PATH, sr, \"posts\")\n",
    "    data_path = os.path.join(data_dir, \"all.csv\")\n",
    "    data_df = pd.read_csv(data_path, low_memory=False)\n",
    "    data_df.drop(columns=\"Unnamed: 0\", inplace=True)\n",
    "    filtered_id_path = os.path.join(data_dir, \"1_filtered_ids.npy\")\n",
    "    filtered_ids = np.load(filtered_id_path, allow_pickle=True)\n",
    "    data_df = data_df[data_df[\"id\"].isin(filtered_ids)]\n",
    "    df_list.append(data_df)\n",
    "    text_path = os.path.join(data_dir, \"2_processed_text.csv\")\n",
    "    text_df = pd.read_csv(text_path)\n",
    "    text_df.drop(columns=\"Unnamed: 0\", inplace=True)\n",
    "    text_df_list.append(text_df)"
   ]
  },
  {
   "cell_type": "code",
   "execution_count": 9,
   "id": "77a0d438",
   "metadata": {},
   "outputs": [
    {
     "data": {
      "text/html": [
       "<div>\n",
       "<style scoped>\n",
       "    .dataframe tbody tr th:only-of-type {\n",
       "        vertical-align: middle;\n",
       "    }\n",
       "\n",
       "    .dataframe tbody tr th {\n",
       "        vertical-align: top;\n",
       "    }\n",
       "\n",
       "    .dataframe thead th {\n",
       "        text-align: right;\n",
       "    }\n",
       "</style>\n",
       "<table border=\"1\" class=\"dataframe\">\n",
       "  <thead>\n",
       "    <tr style=\"text-align: right;\">\n",
       "      <th></th>\n",
       "      <th>_reddit</th>\n",
       "      <th>approved_at_utc</th>\n",
       "      <th>subreddit</th>\n",
       "      <th>selftext</th>\n",
       "      <th>user_reports</th>\n",
       "      <th>saved</th>\n",
       "      <th>mod_reason_title</th>\n",
       "      <th>gilded</th>\n",
       "      <th>clicked</th>\n",
       "      <th>title</th>\n",
       "      <th>...</th>\n",
       "      <th>post_hint</th>\n",
       "      <th>preview</th>\n",
       "      <th>url_overridden_by_dest</th>\n",
       "      <th>crosspost_parent_list</th>\n",
       "      <th>crosspost_parent</th>\n",
       "      <th>media_metadata</th>\n",
       "      <th>link_flair_template_id</th>\n",
       "      <th>is_gallery</th>\n",
       "      <th>gallery_data</th>\n",
       "      <th>poll_data</th>\n",
       "    </tr>\n",
       "  </thead>\n",
       "  <tbody>\n",
       "    <tr>\n",
       "      <th>3</th>\n",
       "      <td>&lt;praw.reddit.Reddit object at 0x7f7e0d9601f0&gt;</td>\n",
       "      <td>NaN</td>\n",
       "      <td>family</td>\n",
       "      <td>This is weird but I wondered if I could have s...</td>\n",
       "      <td>[]</td>\n",
       "      <td>False</td>\n",
       "      <td>NaN</td>\n",
       "      <td>0</td>\n",
       "      <td>False</td>\n",
       "      <td>My Mum is acting really weird.</td>\n",
       "      <td>...</td>\n",
       "      <td>NaN</td>\n",
       "      <td>NaN</td>\n",
       "      <td>NaN</td>\n",
       "      <td>NaN</td>\n",
       "      <td>NaN</td>\n",
       "      <td>NaN</td>\n",
       "      <td>NaN</td>\n",
       "      <td>NaN</td>\n",
       "      <td>NaN</td>\n",
       "      <td>NaN</td>\n",
       "    </tr>\n",
       "    <tr>\n",
       "      <th>6</th>\n",
       "      <td>&lt;praw.reddit.Reddit object at 0x7f7e0d9601f0&gt;</td>\n",
       "      <td>NaN</td>\n",
       "      <td>family</td>\n",
       "      <td>Hi Everyone! I'm Jay 13 years old, I have a pr...</td>\n",
       "      <td>[]</td>\n",
       "      <td>False</td>\n",
       "      <td>NaN</td>\n",
       "      <td>0</td>\n",
       "      <td>False</td>\n",
       "      <td>Awkward Situations w/ My Dad?</td>\n",
       "      <td>...</td>\n",
       "      <td>NaN</td>\n",
       "      <td>NaN</td>\n",
       "      <td>NaN</td>\n",
       "      <td>NaN</td>\n",
       "      <td>NaN</td>\n",
       "      <td>NaN</td>\n",
       "      <td>NaN</td>\n",
       "      <td>NaN</td>\n",
       "      <td>NaN</td>\n",
       "      <td>NaN</td>\n",
       "    </tr>\n",
       "    <tr>\n",
       "      <th>7</th>\n",
       "      <td>&lt;praw.reddit.Reddit object at 0x7f7e0d9601f0&gt;</td>\n",
       "      <td>NaN</td>\n",
       "      <td>family</td>\n",
       "      <td>So, yesterday I was helping my mother with her...</td>\n",
       "      <td>[]</td>\n",
       "      <td>False</td>\n",
       "      <td>NaN</td>\n",
       "      <td>0</td>\n",
       "      <td>False</td>\n",
       "      <td>Just found out my father isn't my father (afte...</td>\n",
       "      <td>...</td>\n",
       "      <td>NaN</td>\n",
       "      <td>NaN</td>\n",
       "      <td>NaN</td>\n",
       "      <td>NaN</td>\n",
       "      <td>NaN</td>\n",
       "      <td>NaN</td>\n",
       "      <td>NaN</td>\n",
       "      <td>NaN</td>\n",
       "      <td>NaN</td>\n",
       "      <td>NaN</td>\n",
       "    </tr>\n",
       "    <tr>\n",
       "      <th>9</th>\n",
       "      <td>&lt;praw.reddit.Reddit object at 0x7f7e0d9601f0&gt;</td>\n",
       "      <td>NaN</td>\n",
       "      <td>family</td>\n",
       "      <td>A public letter to my mother, Bonnie (aka Ambe...</td>\n",
       "      <td>[]</td>\n",
       "      <td>False</td>\n",
       "      <td>NaN</td>\n",
       "      <td>0</td>\n",
       "      <td>False</td>\n",
       "      <td>Our mother left her family</td>\n",
       "      <td>...</td>\n",
       "      <td>NaN</td>\n",
       "      <td>NaN</td>\n",
       "      <td>NaN</td>\n",
       "      <td>NaN</td>\n",
       "      <td>NaN</td>\n",
       "      <td>NaN</td>\n",
       "      <td>NaN</td>\n",
       "      <td>NaN</td>\n",
       "      <td>NaN</td>\n",
       "      <td>NaN</td>\n",
       "    </tr>\n",
       "    <tr>\n",
       "      <th>10</th>\n",
       "      <td>&lt;praw.reddit.Reddit object at 0x7f7e0d9601f0&gt;</td>\n",
       "      <td>NaN</td>\n",
       "      <td>family</td>\n",
       "      <td>So my sister has 2 kids and is pregnant with a...</td>\n",
       "      <td>[]</td>\n",
       "      <td>False</td>\n",
       "      <td>NaN</td>\n",
       "      <td>0</td>\n",
       "      <td>False</td>\n",
       "      <td>Sister's shit of a \"man\"</td>\n",
       "      <td>...</td>\n",
       "      <td>NaN</td>\n",
       "      <td>NaN</td>\n",
       "      <td>NaN</td>\n",
       "      <td>NaN</td>\n",
       "      <td>NaN</td>\n",
       "      <td>NaN</td>\n",
       "      <td>NaN</td>\n",
       "      <td>NaN</td>\n",
       "      <td>NaN</td>\n",
       "      <td>NaN</td>\n",
       "    </tr>\n",
       "  </tbody>\n",
       "</table>\n",
       "<p>5 rows × 120 columns</p>\n",
       "</div>"
      ],
      "text/plain": [
       "                                          _reddit approved_at_utc subreddit  \\\n",
       "3   <praw.reddit.Reddit object at 0x7f7e0d9601f0>             NaN    family   \n",
       "6   <praw.reddit.Reddit object at 0x7f7e0d9601f0>             NaN    family   \n",
       "7   <praw.reddit.Reddit object at 0x7f7e0d9601f0>             NaN    family   \n",
       "9   <praw.reddit.Reddit object at 0x7f7e0d9601f0>             NaN    family   \n",
       "10  <praw.reddit.Reddit object at 0x7f7e0d9601f0>             NaN    family   \n",
       "\n",
       "                                             selftext user_reports  saved  \\\n",
       "3   This is weird but I wondered if I could have s...           []  False   \n",
       "6   Hi Everyone! I'm Jay 13 years old, I have a pr...           []  False   \n",
       "7   So, yesterday I was helping my mother with her...           []  False   \n",
       "9   A public letter to my mother, Bonnie (aka Ambe...           []  False   \n",
       "10  So my sister has 2 kids and is pregnant with a...           []  False   \n",
       "\n",
       "   mod_reason_title gilded clicked  \\\n",
       "3               NaN      0   False   \n",
       "6               NaN      0   False   \n",
       "7               NaN      0   False   \n",
       "9               NaN      0   False   \n",
       "10              NaN      0   False   \n",
       "\n",
       "                                                title  ... post_hint preview  \\\n",
       "3                      My Mum is acting really weird.  ...       NaN     NaN   \n",
       "6                       Awkward Situations w/ My Dad?  ...       NaN     NaN   \n",
       "7   Just found out my father isn't my father (afte...  ...       NaN     NaN   \n",
       "9                          Our mother left her family  ...       NaN     NaN   \n",
       "10                           Sister's shit of a \"man\"  ...       NaN     NaN   \n",
       "\n",
       "   url_overridden_by_dest  crosspost_parent_list crosspost_parent  \\\n",
       "3                     NaN                    NaN              NaN   \n",
       "6                     NaN                    NaN              NaN   \n",
       "7                     NaN                    NaN              NaN   \n",
       "9                     NaN                    NaN              NaN   \n",
       "10                    NaN                    NaN              NaN   \n",
       "\n",
       "   media_metadata link_flair_template_id is_gallery gallery_data poll_data  \n",
       "3             NaN                    NaN        NaN          NaN       NaN  \n",
       "6             NaN                    NaN        NaN          NaN       NaN  \n",
       "7             NaN                    NaN        NaN          NaN       NaN  \n",
       "9             NaN                    NaN        NaN          NaN       NaN  \n",
       "10            NaN                    NaN        NaN          NaN       NaN  \n",
       "\n",
       "[5 rows x 120 columns]"
      ]
     },
     "execution_count": 9,
     "metadata": {},
     "output_type": "execute_result"
    }
   ],
   "source": [
    "main_df = pd.concat(df_list)\n",
    "main_df.head(5)"
   ]
  },
  {
   "cell_type": "code",
   "execution_count": 10,
   "id": "2b1614d5",
   "metadata": {},
   "outputs": [
    {
     "data": {
      "text/html": [
       "<div>\n",
       "<style scoped>\n",
       "    .dataframe tbody tr th:only-of-type {\n",
       "        vertical-align: middle;\n",
       "    }\n",
       "\n",
       "    .dataframe tbody tr th {\n",
       "        vertical-align: top;\n",
       "    }\n",
       "\n",
       "    .dataframe thead th {\n",
       "        text-align: right;\n",
       "    }\n",
       "</style>\n",
       "<table border=\"1\" class=\"dataframe\">\n",
       "  <thead>\n",
       "    <tr style=\"text-align: right;\">\n",
       "      <th></th>\n",
       "      <th>id</th>\n",
       "      <th>text</th>\n",
       "    </tr>\n",
       "  </thead>\n",
       "  <tbody>\n",
       "    <tr>\n",
       "      <th>0</th>\n",
       "      <td>2rrm7n</td>\n",
       "      <td>My Mum is acting really weird. This is weird b...</td>\n",
       "    </tr>\n",
       "    <tr>\n",
       "      <th>1</th>\n",
       "      <td>2rgc78</td>\n",
       "      <td>Awkward Situations w/ My Dad? Hi Everyone! I'm...</td>\n",
       "    </tr>\n",
       "    <tr>\n",
       "      <th>2</th>\n",
       "      <td>2rdr14</td>\n",
       "      <td>Just found out my father isn't my father (afte...</td>\n",
       "    </tr>\n",
       "    <tr>\n",
       "      <th>3</th>\n",
       "      <td>2rbrfq</td>\n",
       "      <td>Our mother left her family A public letter to ...</td>\n",
       "    </tr>\n",
       "    <tr>\n",
       "      <th>4</th>\n",
       "      <td>2r6afm</td>\n",
       "      <td>Sister's shit of a \"man\" So my sister has 2 ki...</td>\n",
       "    </tr>\n",
       "  </tbody>\n",
       "</table>\n",
       "</div>"
      ],
      "text/plain": [
       "       id                                               text\n",
       "0  2rrm7n  My Mum is acting really weird. This is weird b...\n",
       "1  2rgc78  Awkward Situations w/ My Dad? Hi Everyone! I'm...\n",
       "2  2rdr14  Just found out my father isn't my father (afte...\n",
       "3  2rbrfq  Our mother left her family A public letter to ...\n",
       "4  2r6afm  Sister's shit of a \"man\" So my sister has 2 ki..."
      ]
     },
     "execution_count": 10,
     "metadata": {},
     "output_type": "execute_result"
    }
   ],
   "source": [
    "text_df = pd.concat(text_df_list)\n",
    "text_df.head(5)"
   ]
  },
  {
   "cell_type": "markdown",
   "id": "6906df21",
   "metadata": {},
   "source": [
    "# Examine language detection step"
   ]
  },
  {
   "cell_type": "code",
   "execution_count": 11,
   "id": "80ca8852",
   "metadata": {},
   "outputs": [],
   "source": [
    "model_path = \"/data/ddmg/personalizedmentalhealth/reddit_project/tools/lid.176.bin\"\n",
    "lang_id_model = fasttext.load_model(model_path)"
   ]
  },
  {
   "cell_type": "code",
   "execution_count": 12,
   "id": "35e6c290",
   "metadata": {},
   "outputs": [],
   "source": [
    "# need remove newlines before applying\n",
    "text_df[\"new_text\"] = text_df[\"text\"].apply(lambda x: re.sub(r'\\n+', ' ', x))"
   ]
  },
  {
   "cell_type": "code",
   "execution_count": 13,
   "id": "7bc9f9bb",
   "metadata": {},
   "outputs": [],
   "source": [
    "# get preds\n",
    "texts = list(text_df[\"new_text\"])\n",
    "lang_preds = lang_id_model.predict(texts)"
   ]
  },
  {
   "cell_type": "code",
   "execution_count": 14,
   "id": "2eeda96d",
   "metadata": {},
   "outputs": [
    {
     "data": {
      "text/plain": [
       "[['__label__en'],\n",
       " ['__label__en'],\n",
       " ['__label__en'],\n",
       " ['__label__en'],\n",
       " ['__label__en']]"
      ]
     },
     "execution_count": 14,
     "metadata": {},
     "output_type": "execute_result"
    }
   ],
   "source": [
    "lang_preds[0][:5]"
   ]
  },
  {
   "cell_type": "code",
   "execution_count": 15,
   "id": "82075ec9",
   "metadata": {},
   "outputs": [
    {
     "data": {
      "text/plain": [
       "[array([0.995], dtype=float32),\n",
       " array([0.989], dtype=float32),\n",
       " array([0.995], dtype=float32),\n",
       " array([0.982], dtype=float32),\n",
       " array([0.981], dtype=float32)]"
      ]
     },
     "execution_count": 15,
     "metadata": {},
     "output_type": "execute_result"
    }
   ],
   "source": [
    "lang_preds[1][:5]"
   ]
  },
  {
   "cell_type": "code",
   "execution_count": 16,
   "id": "151f99e2",
   "metadata": {},
   "outputs": [],
   "source": [
    "text_df[\"lang\"] = [x[0] for x in lang_preds[0]]"
   ]
  },
  {
   "cell_type": "code",
   "execution_count": 17,
   "id": "d47e38ff",
   "metadata": {},
   "outputs": [],
   "source": [
    "text_df[\"lang_conf\"] = [x[0] for x in lang_preds[1]]"
   ]
  },
  {
   "cell_type": "code",
   "execution_count": 18,
   "id": "e70d4059",
   "metadata": {},
   "outputs": [
    {
     "data": {
      "text/html": [
       "<div>\n",
       "<style scoped>\n",
       "    .dataframe tbody tr th:only-of-type {\n",
       "        vertical-align: middle;\n",
       "    }\n",
       "\n",
       "    .dataframe tbody tr th {\n",
       "        vertical-align: top;\n",
       "    }\n",
       "\n",
       "    .dataframe thead th {\n",
       "        text-align: right;\n",
       "    }\n",
       "</style>\n",
       "<table border=\"1\" class=\"dataframe\">\n",
       "  <thead>\n",
       "    <tr style=\"text-align: right;\">\n",
       "      <th></th>\n",
       "      <th>id</th>\n",
       "      <th>text</th>\n",
       "      <th>new_text</th>\n",
       "      <th>lang</th>\n",
       "      <th>lang_conf</th>\n",
       "    </tr>\n",
       "  </thead>\n",
       "  <tbody>\n",
       "    <tr>\n",
       "      <th>0</th>\n",
       "      <td>2rrm7n</td>\n",
       "      <td>My Mum is acting really weird. This is weird b...</td>\n",
       "      <td>My Mum is acting really weird. This is weird b...</td>\n",
       "      <td>__label__en</td>\n",
       "      <td>0.995103</td>\n",
       "    </tr>\n",
       "    <tr>\n",
       "      <th>1</th>\n",
       "      <td>2rgc78</td>\n",
       "      <td>Awkward Situations w/ My Dad? Hi Everyone! I'm...</td>\n",
       "      <td>Awkward Situations w/ My Dad? Hi Everyone! I'm...</td>\n",
       "      <td>__label__en</td>\n",
       "      <td>0.988538</td>\n",
       "    </tr>\n",
       "    <tr>\n",
       "      <th>2</th>\n",
       "      <td>2rdr14</td>\n",
       "      <td>Just found out my father isn't my father (afte...</td>\n",
       "      <td>Just found out my father isn't my father (afte...</td>\n",
       "      <td>__label__en</td>\n",
       "      <td>0.994973</td>\n",
       "    </tr>\n",
       "    <tr>\n",
       "      <th>3</th>\n",
       "      <td>2rbrfq</td>\n",
       "      <td>Our mother left her family A public letter to ...</td>\n",
       "      <td>Our mother left her family A public letter to ...</td>\n",
       "      <td>__label__en</td>\n",
       "      <td>0.982227</td>\n",
       "    </tr>\n",
       "    <tr>\n",
       "      <th>4</th>\n",
       "      <td>2r6afm</td>\n",
       "      <td>Sister's shit of a \"man\" So my sister has 2 ki...</td>\n",
       "      <td>Sister's shit of a \"man\" So my sister has 2 ki...</td>\n",
       "      <td>__label__en</td>\n",
       "      <td>0.980811</td>\n",
       "    </tr>\n",
       "  </tbody>\n",
       "</table>\n",
       "</div>"
      ],
      "text/plain": [
       "       id                                               text  \\\n",
       "0  2rrm7n  My Mum is acting really weird. This is weird b...   \n",
       "1  2rgc78  Awkward Situations w/ My Dad? Hi Everyone! I'm...   \n",
       "2  2rdr14  Just found out my father isn't my father (afte...   \n",
       "3  2rbrfq  Our mother left her family A public letter to ...   \n",
       "4  2r6afm  Sister's shit of a \"man\" So my sister has 2 ki...   \n",
       "\n",
       "                                            new_text         lang  lang_conf  \n",
       "0  My Mum is acting really weird. This is weird b...  __label__en   0.995103  \n",
       "1  Awkward Situations w/ My Dad? Hi Everyone! I'm...  __label__en   0.988538  \n",
       "2  Just found out my father isn't my father (afte...  __label__en   0.994973  \n",
       "3  Our mother left her family A public letter to ...  __label__en   0.982227  \n",
       "4  Sister's shit of a \"man\" So my sister has 2 ki...  __label__en   0.980811  "
      ]
     },
     "execution_count": 18,
     "metadata": {},
     "output_type": "execute_result"
    }
   ],
   "source": [
    "text_df.head(5)"
   ]
  },
  {
   "cell_type": "code",
   "execution_count": 19,
   "id": "05cb360a",
   "metadata": {},
   "outputs": [
    {
     "data": {
      "text/plain": [
       "<AxesSubplot:xlabel='lang', ylabel='Count'>"
      ]
     },
     "execution_count": 19,
     "metadata": {},
     "output_type": "execute_result"
    },
    {
     "data": {
      "image/png": "[encoded data removed]",
      "text/plain": [
       "<Figure size 432x288 with 1 Axes>"
      ]
     },
     "metadata": {},
     "output_type": "display_data"
    }
   ],
   "source": [
    "# get stats on how many are english vs not\n",
    "sns.histplot(data=text_df, x=\"lang\")"
   ]
  },
  {
   "cell_type": "code",
   "execution_count": 20,
   "id": "930ded4f",
   "metadata": {},
   "outputs": [
    {
     "data": {
      "text/plain": [
       "<AxesSubplot:xlabel='lang', ylabel='Count'>"
      ]
     },
     "execution_count": 20,
     "metadata": {},
     "output_type": "execute_result"
    },
    {
     "data": {
      "image/png": "[encoded data removed]",
      "text/plain": [
       "<Figure size 432x288 with 1 Axes>"
      ]
     },
     "metadata": {},
     "output_type": "display_data"
    }
   ],
   "source": [
    "ne_df = text_df[text_df[\"lang\"] != \"__label__en\"]\n",
    "sns.histplot(data=ne_df, x=\"lang\")"
   ]
  },
  {
   "cell_type": "code",
   "execution_count": 21,
   "id": "0dd60fd2",
   "metadata": {},
   "outputs": [
    {
     "name": "stdout",
     "output_type": "stream",
     "text": [
      "323/1387397 posts are non-English=0.02328100752704525%\n"
     ]
    }
   ],
   "source": [
    "print(\"{}/{} posts are non-English={}%\".format(len(ne_df), len(text_df), len(ne_df)*100/len(text_df)))"
   ]
  },
  {
   "cell_type": "code",
   "execution_count": 22,
   "id": "a6a0d041",
   "metadata": {},
   "outputs": [],
   "source": [
    "eng_df = text_df[text_df[\"lang\"] == \"__label__en\"]"
   ]
  },
  {
   "cell_type": "code",
   "execution_count": 23,
   "id": "4543d4bb",
   "metadata": {},
   "outputs": [
    {
     "data": {
      "text/plain": [
       "1387074"
      ]
     },
     "execution_count": 23,
     "metadata": {},
     "output_type": "execute_result"
    }
   ],
   "source": [
    "len(eng_df)"
   ]
  },
  {
   "cell_type": "code",
   "execution_count": 24,
   "id": "f738ce88",
   "metadata": {},
   "outputs": [
    {
     "data": {
      "text/plain": [
       "<AxesSubplot:xlabel='lang_conf', ylabel='Count'>"
      ]
     },
     "execution_count": 24,
     "metadata": {},
     "output_type": "execute_result"
    },
    {
     "data": {
      "image/png": "[encoded data removed]",
      "text/plain": [
       "<Figure size 432x288 with 1 Axes>"
      ]
     },
     "metadata": {},
     "output_type": "display_data"
    }
   ],
   "source": [
    "# look at confidence scores + posts with lowest confidence\n",
    "sns.histplot(data=eng_df, x=\"lang_conf\")"
   ]
  },
  {
   "cell_type": "code",
   "execution_count": 26,
   "id": "016186f2",
   "metadata": {},
   "outputs": [
    {
     "data": {
      "text/plain": [
       "<AxesSubplot:xlabel='lang_conf', ylabel='Count'>"
      ]
     },
     "execution_count": 26,
     "metadata": {},
     "output_type": "execute_result"
    },
    {
     "data": {
      "image/png": "[encoded data removed]",
      "text/plain": [
       "<Figure size 432x288 with 1 Axes>"
      ]
     },
     "metadata": {},
     "output_type": "display_data"
    }
   ],
   "source": [
    "sns.histplot(data=eng_df[eng_df[\"lang_conf\"] < .9], x=\"lang_conf\")"
   ]
  },
  {
   "cell_type": "code",
   "execution_count": 27,
   "id": "6843cf0a",
   "metadata": {},
   "outputs": [],
   "source": [
    "lc_df = eng_df[eng_df[\"lang_conf\"] < .5]"
   ]
  },
  {
   "cell_type": "code",
   "execution_count": 28,
   "id": "a1c7c5cf",
   "metadata": {},
   "outputs": [
    {
     "data": {
      "text/html": [
       "<div>\n",
       "<style scoped>\n",
       "    .dataframe tbody tr th:only-of-type {\n",
       "        vertical-align: middle;\n",
       "    }\n",
       "\n",
       "    .dataframe tbody tr th {\n",
       "        vertical-align: top;\n",
       "    }\n",
       "\n",
       "    .dataframe thead th {\n",
       "        text-align: right;\n",
       "    }\n",
       "</style>\n",
       "<table border=\"1\" class=\"dataframe\">\n",
       "  <thead>\n",
       "    <tr style=\"text-align: right;\">\n",
       "      <th></th>\n",
       "      <th>id</th>\n",
       "      <th>text</th>\n",
       "      <th>new_text</th>\n",
       "      <th>lang</th>\n",
       "      <th>lang_conf</th>\n",
       "    </tr>\n",
       "  </thead>\n",
       "  <tbody>\n",
       "    <tr>\n",
       "      <th>34</th>\n",
       "      <td>31ivae</td>\n",
       "      <td>When The Sh*t Hits The Fan</td>\n",
       "      <td>When The Sh*t Hits The Fan</td>\n",
       "      <td>__label__en</td>\n",
       "      <td>0.301578</td>\n",
       "    </tr>\n",
       "    <tr>\n",
       "      <th>2747</th>\n",
       "      <td>9zulax</td>\n",
       "      <td>500 subscriber // Thanksgiving 2018 // Black F...</td>\n",
       "      <td>500 subscriber // Thanksgiving 2018 // Black F...</td>\n",
       "      <td>__label__en</td>\n",
       "      <td>0.210826</td>\n",
       "    </tr>\n",
       "    <tr>\n",
       "      <th>2976</th>\n",
       "      <td>a7jg01</td>\n",
       "      <td>क्या आप जानते है की लाइफ पार्टनर से झगड़ना भी ज...</td>\n",
       "      <td>क्या आप जानते है की लाइफ पार्टनर से झगड़ना भी ज...</td>\n",
       "      <td>__label__en</td>\n",
       "      <td>0.488544</td>\n",
       "    </tr>\n",
       "    <tr>\n",
       "      <th>3166</th>\n",
       "      <td>ahwlva</td>\n",
       "      <td>Sunny Day</td>\n",
       "      <td>Sunny Day</td>\n",
       "      <td>__label__en</td>\n",
       "      <td>0.332599</td>\n",
       "    </tr>\n",
       "    <tr>\n",
       "      <th>4081</th>\n",
       "      <td>c2lx8q</td>\n",
       "      <td>Foster Care</td>\n",
       "      <td>Foster Care</td>\n",
       "      <td>__label__en</td>\n",
       "      <td>0.430619</td>\n",
       "    </tr>\n",
       "    <tr>\n",
       "      <th>...</th>\n",
       "      <td>...</td>\n",
       "      <td>...</td>\n",
       "      <td>...</td>\n",
       "      <td>...</td>\n",
       "      <td>...</td>\n",
       "    </tr>\n",
       "    <tr>\n",
       "      <th>380142</th>\n",
       "      <td>hlnjzd</td>\n",
       "      <td>A Man In Love With You Can't Stay A Day withou...</td>\n",
       "      <td>A Man In Love With You Can't Stay A Day withou...</td>\n",
       "      <td>__label__en</td>\n",
       "      <td>0.232216</td>\n",
       "    </tr>\n",
       "    <tr>\n",
       "      <th>438628</th>\n",
       "      <td>im2dpf</td>\n",
       "      <td>My Girl friend IM 40 AND MY GIRLFRIEND IS A CO...</td>\n",
       "      <td>My Girl friend IM 40 AND MY GIRLFRIEND IS A CO...</td>\n",
       "      <td>__label__en</td>\n",
       "      <td>0.304470</td>\n",
       "    </tr>\n",
       "    <tr>\n",
       "      <th>443460</th>\n",
       "      <td>ivwdxn</td>\n",
       "      <td>I CANT FUCKING STAND MY STEP-FATHER NOT HELPIN...</td>\n",
       "      <td>I CANT FUCKING STAND MY STEP-FATHER NOT HELPIN...</td>\n",
       "      <td>__label__en</td>\n",
       "      <td>0.435185</td>\n",
       "    </tr>\n",
       "    <tr>\n",
       "      <th>455973</th>\n",
       "      <td>iyt154</td>\n",
       "      <td>LOVE SOMEONE HEY I LIKE A BOY...WHO WAS MY STU...</td>\n",
       "      <td>LOVE SOMEONE HEY I LIKE A BOY...WHO WAS MY STU...</td>\n",
       "      <td>__label__en</td>\n",
       "      <td>0.482924</td>\n",
       "    </tr>\n",
       "    <tr>\n",
       "      <th>458643</th>\n",
       "      <td>j9z8l6</td>\n",
       "      <td>unnecessary **NOT COOL MY GIRL ( 30F) AIR OUT ...</td>\n",
       "      <td>unnecessary **NOT COOL MY GIRL ( 30F) AIR OUT ...</td>\n",
       "      <td>__label__en</td>\n",
       "      <td>0.319786</td>\n",
       "    </tr>\n",
       "  </tbody>\n",
       "</table>\n",
       "<p>727 rows × 5 columns</p>\n",
       "</div>"
      ],
      "text/plain": [
       "            id                                               text  \\\n",
       "34      31ivae                         When The Sh*t Hits The Fan   \n",
       "2747    9zulax  500 subscriber // Thanksgiving 2018 // Black F...   \n",
       "2976    a7jg01  क्या आप जानते है की लाइफ पार्टनर से झगड़ना भी ज...   \n",
       "3166    ahwlva                                          Sunny Day   \n",
       "4081    c2lx8q                                        Foster Care   \n",
       "...        ...                                                ...   \n",
       "380142  hlnjzd  A Man In Love With You Can't Stay A Day withou...   \n",
       "438628  im2dpf  My Girl friend IM 40 AND MY GIRLFRIEND IS A CO...   \n",
       "443460  ivwdxn  I CANT FUCKING STAND MY STEP-FATHER NOT HELPIN...   \n",
       "455973  iyt154  LOVE SOMEONE HEY I LIKE A BOY...WHO WAS MY STU...   \n",
       "458643  j9z8l6  unnecessary **NOT COOL MY GIRL ( 30F) AIR OUT ...   \n",
       "\n",
       "                                                 new_text         lang  \\\n",
       "34                             When The Sh*t Hits The Fan  __label__en   \n",
       "2747    500 subscriber // Thanksgiving 2018 // Black F...  __label__en   \n",
       "2976    क्या आप जानते है की लाइफ पार्टनर से झगड़ना भी ज...  __label__en   \n",
       "3166                                            Sunny Day  __label__en   \n",
       "4081                                          Foster Care  __label__en   \n",
       "...                                                   ...          ...   \n",
       "380142  A Man In Love With You Can't Stay A Day withou...  __label__en   \n",
       "438628  My Girl friend IM 40 AND MY GIRLFRIEND IS A CO...  __label__en   \n",
       "443460  I CANT FUCKING STAND MY STEP-FATHER NOT HELPIN...  __label__en   \n",
       "455973  LOVE SOMEONE HEY I LIKE A BOY...WHO WAS MY STU...  __label__en   \n",
       "458643  unnecessary **NOT COOL MY GIRL ( 30F) AIR OUT ...  __label__en   \n",
       "\n",
       "        lang_conf  \n",
       "34       0.301578  \n",
       "2747     0.210826  \n",
       "2976     0.488544  \n",
       "3166     0.332599  \n",
       "4081     0.430619  \n",
       "...           ...  \n",
       "380142   0.232216  \n",
       "438628   0.304470  \n",
       "443460   0.435185  \n",
       "455973   0.482924  \n",
       "458643   0.319786  \n",
       "\n",
       "[727 rows x 5 columns]"
      ]
     },
     "execution_count": 28,
     "metadata": {},
     "output_type": "execute_result"
    }
   ],
   "source": [
    "lc_df"
   ]
  },
  {
   "cell_type": "code",
   "execution_count": 61,
   "id": "49d4eddc",
   "metadata": {},
   "outputs": [
    {
     "name": "stderr",
     "output_type": "stream",
     "text": [
      "<ipython-input-61-b10dd16aec90>:2: SettingWithCopyWarning: \n",
      "A value is trying to be set on a copy of a slice from a DataFrame.\n",
      "Try using .loc[row_indexer,col_indexer] = value instead\n",
      "\n",
      "See the caveats in the documentation: https://pandas.pydata.org/pandas-docs/stable/user_guide/indexing.html#returning-a-view-versus-a-copy\n",
      "  eng_df[\"word_count\"] = eng_df[\"text\"].apply(lambda x: len(x.split(\" \")))\n"
     ]
    }
   ],
   "source": [
    "# low confidence appear to be mainly posts with only a few words --> look at applying threshold first\n",
    "eng_df[\"word_count\"] = eng_df[\"text\"].apply(lambda x: len(x.split(\" \")))"
   ]
  },
  {
   "cell_type": "code",
   "execution_count": 62,
   "id": "fc30bae3",
   "metadata": {},
   "outputs": [
    {
     "data": {
      "text/html": [
       "<div>\n",
       "<style scoped>\n",
       "    .dataframe tbody tr th:only-of-type {\n",
       "        vertical-align: middle;\n",
       "    }\n",
       "\n",
       "    .dataframe tbody tr th {\n",
       "        vertical-align: top;\n",
       "    }\n",
       "\n",
       "    .dataframe thead th {\n",
       "        text-align: right;\n",
       "    }\n",
       "</style>\n",
       "<table border=\"1\" class=\"dataframe\">\n",
       "  <thead>\n",
       "    <tr style=\"text-align: right;\">\n",
       "      <th></th>\n",
       "      <th>id</th>\n",
       "      <th>text</th>\n",
       "      <th>new_text</th>\n",
       "      <th>lang</th>\n",
       "      <th>lang_conf</th>\n",
       "      <th>word_count</th>\n",
       "    </tr>\n",
       "  </thead>\n",
       "  <tbody>\n",
       "    <tr>\n",
       "      <th>0</th>\n",
       "      <td>2rrm7n</td>\n",
       "      <td>My Mum is acting really weird. This is weird b...</td>\n",
       "      <td>My Mum is acting really weird. This is weird b...</td>\n",
       "      <td>__label__en</td>\n",
       "      <td>0.995103</td>\n",
       "      <td>119</td>\n",
       "    </tr>\n",
       "    <tr>\n",
       "      <th>1</th>\n",
       "      <td>2rgc78</td>\n",
       "      <td>Awkward Situations w/ My Dad? Hi Everyone! I'm...</td>\n",
       "      <td>Awkward Situations w/ My Dad? Hi Everyone! I'm...</td>\n",
       "      <td>__label__en</td>\n",
       "      <td>0.988538</td>\n",
       "      <td>302</td>\n",
       "    </tr>\n",
       "    <tr>\n",
       "      <th>2</th>\n",
       "      <td>2rdr14</td>\n",
       "      <td>Just found out my father isn't my father (afte...</td>\n",
       "      <td>Just found out my father isn't my father (afte...</td>\n",
       "      <td>__label__en</td>\n",
       "      <td>0.994973</td>\n",
       "      <td>600</td>\n",
       "    </tr>\n",
       "    <tr>\n",
       "      <th>3</th>\n",
       "      <td>2rbrfq</td>\n",
       "      <td>Our mother left her family A public letter to ...</td>\n",
       "      <td>Our mother left her family A public letter to ...</td>\n",
       "      <td>__label__en</td>\n",
       "      <td>0.982227</td>\n",
       "      <td>2316</td>\n",
       "    </tr>\n",
       "    <tr>\n",
       "      <th>4</th>\n",
       "      <td>2r6afm</td>\n",
       "      <td>Sister's shit of a \"man\" So my sister has 2 ki...</td>\n",
       "      <td>Sister's shit of a \"man\" So my sister has 2 ki...</td>\n",
       "      <td>__label__en</td>\n",
       "      <td>0.980811</td>\n",
       "      <td>367</td>\n",
       "    </tr>\n",
       "  </tbody>\n",
       "</table>\n",
       "</div>"
      ],
      "text/plain": [
       "       id                                               text  \\\n",
       "0  2rrm7n  My Mum is acting really weird. This is weird b...   \n",
       "1  2rgc78  Awkward Situations w/ My Dad? Hi Everyone! I'm...   \n",
       "2  2rdr14  Just found out my father isn't my father (afte...   \n",
       "3  2rbrfq  Our mother left her family A public letter to ...   \n",
       "4  2r6afm  Sister's shit of a \"man\" So my sister has 2 ki...   \n",
       "\n",
       "                                            new_text         lang  lang_conf  \\\n",
       "0  My Mum is acting really weird. This is weird b...  __label__en   0.995103   \n",
       "1  Awkward Situations w/ My Dad? Hi Everyone! I'm...  __label__en   0.988538   \n",
       "2  Just found out my father isn't my father (afte...  __label__en   0.994973   \n",
       "3  Our mother left her family A public letter to ...  __label__en   0.982227   \n",
       "4  Sister's shit of a \"man\" So my sister has 2 ki...  __label__en   0.980811   \n",
       "\n",
       "   word_count  \n",
       "0         119  \n",
       "1         302  \n",
       "2         600  \n",
       "3        2316  \n",
       "4         367  "
      ]
     },
     "execution_count": 62,
     "metadata": {},
     "output_type": "execute_result"
    }
   ],
   "source": [
    "eng_df.head(5)"
   ]
  },
  {
   "cell_type": "code",
   "execution_count": 63,
   "id": "53ce68e9",
   "metadata": {},
   "outputs": [
    {
     "data": {
      "text/plain": [
       "<AxesSubplot:xlabel='word_count', ylabel='Count'>"
      ]
     },
     "execution_count": 63,
     "metadata": {},
     "output_type": "execute_result"
    },
    {
     "data": {
      "image/png": "[encoded data removed]",
      "text/plain": [
       "<Figure size 432x288 with 1 Axes>"
      ]
     },
     "metadata": {},
     "output_type": "display_data"
    }
   ],
   "source": [
    "sns.histplot(data=eng_df, x=\"word_count\")"
   ]
  },
  {
   "cell_type": "code",
   "execution_count": 64,
   "id": "b22cfee5",
   "metadata": {},
   "outputs": [
    {
     "data": {
      "text/plain": [
       "<AxesSubplot:xlabel='word_count', ylabel='Count'>"
      ]
     },
     "execution_count": 64,
     "metadata": {},
     "output_type": "execute_result"
    },
    {
     "data": {
      "image/png": "[encoded data removed]",
      "text/plain": [
       "<Figure size 432x288 with 1 Axes>"
      ]
     },
     "metadata": {},
     "output_type": "display_data"
    }
   ],
   "source": [
    "sns.histplot(data=eng_df[eng_df[\"word_count\"] < 100], x=\"word_count\")"
   ]
  },
  {
   "cell_type": "code",
   "execution_count": 65,
   "id": "195612bd",
   "metadata": {},
   "outputs": [
    {
     "data": {
      "text/plain": [
       "<AxesSubplot:xlabel='word_count', ylabel='Count'>"
      ]
     },
     "execution_count": 65,
     "metadata": {},
     "output_type": "execute_result"
    },
    {
     "data": {
      "image/png": "[encoded data removed]",
      "text/plain": [
       "<Figure size 432x288 with 1 Axes>"
      ]
     },
     "metadata": {},
     "output_type": "display_data"
    }
   ],
   "source": [
    "sns.histplot(data=eng_df[eng_df[\"word_count\"] < 30], x=\"word_count\")"
   ]
  },
  {
   "cell_type": "code",
   "execution_count": 66,
   "id": "7020f9e2",
   "metadata": {},
   "outputs": [],
   "source": [
    "lc_df = eng_df[eng_df[\"word_count\"] < 20]"
   ]
  },
  {
   "cell_type": "code",
   "execution_count": 67,
   "id": "f74f83e5",
   "metadata": {},
   "outputs": [
    {
     "name": "stdout",
     "output_type": "stream",
     "text": [
      "27061/1387074 posts have less than 20 words=1.950941334060043%\n"
     ]
    }
   ],
   "source": [
    "print(\"{}/{} posts have less than 20 words={}%\".format(len(lc_df), len(eng_df), len(lc_df)*100/len(eng_df)))"
   ]
  },
  {
   "cell_type": "code",
   "execution_count": 68,
   "id": "f084f50c",
   "metadata": {},
   "outputs": [
    {
     "name": "stdout",
     "output_type": "stream",
     "text": [
      "15357/1387074 posts have less than 15 words=1.1071507360097588%\n"
     ]
    }
   ],
   "source": [
    "lc_df = eng_df[eng_df[\"word_count\"] < 15]\n",
    "print(\"{}/{} posts have less than 15 words={}%\".format(len(lc_df), len(eng_df), len(lc_df)*100/len(eng_df)))"
   ]
  },
  {
   "cell_type": "code",
   "execution_count": 69,
   "id": "04791360",
   "metadata": {},
   "outputs": [
    {
     "name": "stdout",
     "output_type": "stream",
     "text": [
      "6005/1387074 posts have less than 10 words=0.43292571268728275%\n"
     ]
    }
   ],
   "source": [
    "lc_df = eng_df[eng_df[\"word_count\"] < 10]\n",
    "print(\"{}/{} posts have less than 10 words={}%\".format(len(lc_df), len(eng_df), len(lc_df)*100/len(eng_df)))"
   ]
  },
  {
   "cell_type": "code",
   "execution_count": 70,
   "id": "82a9b905",
   "metadata": {},
   "outputs": [
    {
     "name": "stdout",
     "output_type": "stream",
     "text": [
      "732/1387074 posts have less than 5 words=0.05277295948161381%\n"
     ]
    }
   ],
   "source": [
    "lc_df = eng_df[eng_df[\"word_count\"] < 5]\n",
    "print(\"{}/{} posts have less than 5 words={}%\".format(len(lc_df), len(eng_df), len(lc_df)*100/len(eng_df)))"
   ]
  },
  {
   "cell_type": "code",
   "execution_count": 71,
   "id": "b02222f9",
   "metadata": {},
   "outputs": [],
   "source": [
    "new_df = eng_df[eng_df[\"word_count\"] >= 10]"
   ]
  },
  {
   "cell_type": "code",
   "execution_count": 72,
   "id": "724824f2",
   "metadata": {},
   "outputs": [
    {
     "data": {
      "text/plain": [
       "<AxesSubplot:xlabel='lang_conf', ylabel='Count'>"
      ]
     },
     "execution_count": 72,
     "metadata": {},
     "output_type": "execute_result"
    },
    {
     "data": {
      "image/png": "[encoded data removed]",
      "text/plain": [
       "<Figure size 432x288 with 1 Axes>"
      ]
     },
     "metadata": {},
     "output_type": "display_data"
    }
   ],
   "source": [
    "# now re-examine lang conf score distribution\n",
    "sns.histplot(data=eng_df[eng_df[\"lang_conf\"] < .7], x=\"lang_conf\")"
   ]
  },
  {
   "cell_type": "code",
   "execution_count": 73,
   "id": "11cd84e5",
   "metadata": {},
   "outputs": [
    {
     "data": {
      "text/plain": [
       "<AxesSubplot:xlabel='lang_conf', ylabel='Count'>"
      ]
     },
     "execution_count": 73,
     "metadata": {},
     "output_type": "execute_result"
    },
    {
     "data": {
      "image/png": "[encoded data removed]",
      "text/plain": [
       "<Figure size 432x288 with 1 Axes>"
      ]
     },
     "metadata": {},
     "output_type": "display_data"
    }
   ],
   "source": [
    "sns.histplot(data=new_df[new_df[\"lang_conf\"] < .7], x=\"lang_conf\")"
   ]
  },
  {
   "cell_type": "code",
   "execution_count": 74,
   "id": "01cd0e4a",
   "metadata": {},
   "outputs": [
    {
     "data": {
      "text/plain": [
       "148"
      ]
     },
     "execution_count": 74,
     "metadata": {},
     "output_type": "execute_result"
    }
   ],
   "source": [
    "lc_df = new_df[new_df[\"lang_conf\"] < .4]\n",
    "len(lc_df)"
   ]
  },
  {
   "cell_type": "code",
   "execution_count": 75,
   "id": "456a5f69",
   "metadata": {},
   "outputs": [
    {
     "data": {
      "text/html": [
       "<div>\n",
       "<style scoped>\n",
       "    .dataframe tbody tr th:only-of-type {\n",
       "        vertical-align: middle;\n",
       "    }\n",
       "\n",
       "    .dataframe tbody tr th {\n",
       "        vertical-align: top;\n",
       "    }\n",
       "\n",
       "    .dataframe thead th {\n",
       "        text-align: right;\n",
       "    }\n",
       "</style>\n",
       "<table border=\"1\" class=\"dataframe\">\n",
       "  <thead>\n",
       "    <tr style=\"text-align: right;\">\n",
       "      <th></th>\n",
       "      <th>id</th>\n",
       "      <th>text</th>\n",
       "      <th>new_text</th>\n",
       "      <th>lang</th>\n",
       "      <th>lang_conf</th>\n",
       "      <th>word_count</th>\n",
       "    </tr>\n",
       "  </thead>\n",
       "  <tbody>\n",
       "    <tr>\n",
       "      <th>9939</th>\n",
       "      <td>j29ufi</td>\n",
       "      <td>SURVIVING DYSFUNCTION **THERE ARE PLENTY OF TH...</td>\n",
       "      <td>SURVIVING DYSFUNCTION **THERE ARE PLENTY OF TH...</td>\n",
       "      <td>__label__en</td>\n",
       "      <td>0.363719</td>\n",
       "      <td>76</td>\n",
       "    </tr>\n",
       "    <tr>\n",
       "      <th>9082</th>\n",
       "      <td>4bwskp</td>\n",
       "      <td>How Do You Know When a Stock Hit a Bottom?</td>\n",
       "      <td>How Do You Know When a Stock Hit a Bottom?</td>\n",
       "      <td>__label__en</td>\n",
       "      <td>0.354635</td>\n",
       "      <td>10</td>\n",
       "    </tr>\n",
       "    <tr>\n",
       "      <th>10501</th>\n",
       "      <td>4kzgn7</td>\n",
       "      <td>Laugh the Economy Better [~~Jesus~~ Trump](htt...</td>\n",
       "      <td>Laugh the Economy Better [~~Jesus~~ Trump](htt...</td>\n",
       "      <td>__label__en</td>\n",
       "      <td>0.343657</td>\n",
       "      <td>55</td>\n",
       "    </tr>\n",
       "    <tr>\n",
       "      <th>22631</th>\n",
       "      <td>6yp250</td>\n",
       "      <td>$IGC PENNY STOCK ? Any thoughts on $IGC ??</td>\n",
       "      <td>$IGC PENNY STOCK ? Any thoughts on $IGC ??</td>\n",
       "      <td>__label__en</td>\n",
       "      <td>0.301780</td>\n",
       "      <td>10</td>\n",
       "    </tr>\n",
       "    <tr>\n",
       "      <th>23573</th>\n",
       "      <td>74p997</td>\n",
       "      <td>1 Google stock or 6 Facebook? 1 Google stock o...</td>\n",
       "      <td>1 Google stock or 6 Facebook? 1 Google stock o...</td>\n",
       "      <td>__label__en</td>\n",
       "      <td>0.360664</td>\n",
       "      <td>12</td>\n",
       "    </tr>\n",
       "    <tr>\n",
       "      <th>...</th>\n",
       "      <td>...</td>\n",
       "      <td>...</td>\n",
       "      <td>...</td>\n",
       "      <td>...</td>\n",
       "      <td>...</td>\n",
       "      <td>...</td>\n",
       "    </tr>\n",
       "    <tr>\n",
       "      <th>274100</th>\n",
       "      <td>eln08m</td>\n",
       "      <td>Is it okay for a guy who’s 28 or 29 to date a ...</td>\n",
       "      <td>Is it okay for a guy who’s 28 or 29 to date a ...</td>\n",
       "      <td>__label__en</td>\n",
       "      <td>0.399648</td>\n",
       "      <td>32</td>\n",
       "    </tr>\n",
       "    <tr>\n",
       "      <th>357949</th>\n",
       "      <td>gt9uqt</td>\n",
       "      <td>Your Friendship Your **Friendship**\\n\\nIs Like...</td>\n",
       "      <td>Your Friendship Your **Friendship** Is Like **...</td>\n",
       "      <td>__label__en</td>\n",
       "      <td>0.373242</td>\n",
       "      <td>19</td>\n",
       "    </tr>\n",
       "    <tr>\n",
       "      <th>380142</th>\n",
       "      <td>hlnjzd</td>\n",
       "      <td>A Man In Love With You Can't Stay A Day withou...</td>\n",
       "      <td>A Man In Love With You Can't Stay A Day withou...</td>\n",
       "      <td>__label__en</td>\n",
       "      <td>0.232216</td>\n",
       "      <td>136</td>\n",
       "    </tr>\n",
       "    <tr>\n",
       "      <th>438628</th>\n",
       "      <td>im2dpf</td>\n",
       "      <td>My Girl friend IM 40 AND MY GIRLFRIEND IS A CO...</td>\n",
       "      <td>My Girl friend IM 40 AND MY GIRLFRIEND IS A CO...</td>\n",
       "      <td>__label__en</td>\n",
       "      <td>0.304470</td>\n",
       "      <td>44</td>\n",
       "    </tr>\n",
       "    <tr>\n",
       "      <th>458643</th>\n",
       "      <td>j9z8l6</td>\n",
       "      <td>unnecessary **NOT COOL MY GIRL ( 30F) AIR OUT ...</td>\n",
       "      <td>unnecessary **NOT COOL MY GIRL ( 30F) AIR OUT ...</td>\n",
       "      <td>__label__en</td>\n",
       "      <td>0.319786</td>\n",
       "      <td>36</td>\n",
       "    </tr>\n",
       "  </tbody>\n",
       "</table>\n",
       "<p>148 rows × 6 columns</p>\n",
       "</div>"
      ],
      "text/plain": [
       "            id                                               text  \\\n",
       "9939    j29ufi  SURVIVING DYSFUNCTION **THERE ARE PLENTY OF TH...   \n",
       "9082    4bwskp         How Do You Know When a Stock Hit a Bottom?   \n",
       "10501   4kzgn7  Laugh the Economy Better [~~Jesus~~ Trump](htt...   \n",
       "22631   6yp250        $IGC PENNY STOCK ? Any thoughts on $IGC ??    \n",
       "23573   74p997  1 Google stock or 6 Facebook? 1 Google stock o...   \n",
       "...        ...                                                ...   \n",
       "274100  eln08m  Is it okay for a guy who’s 28 or 29 to date a ...   \n",
       "357949  gt9uqt  Your Friendship Your **Friendship**\\n\\nIs Like...   \n",
       "380142  hlnjzd  A Man In Love With You Can't Stay A Day withou...   \n",
       "438628  im2dpf  My Girl friend IM 40 AND MY GIRLFRIEND IS A CO...   \n",
       "458643  j9z8l6  unnecessary **NOT COOL MY GIRL ( 30F) AIR OUT ...   \n",
       "\n",
       "                                                 new_text         lang  \\\n",
       "9939    SURVIVING DYSFUNCTION **THERE ARE PLENTY OF TH...  __label__en   \n",
       "9082           How Do You Know When a Stock Hit a Bottom?  __label__en   \n",
       "10501   Laugh the Economy Better [~~Jesus~~ Trump](htt...  __label__en   \n",
       "22631         $IGC PENNY STOCK ? Any thoughts on $IGC ??   __label__en   \n",
       "23573   1 Google stock or 6 Facebook? 1 Google stock o...  __label__en   \n",
       "...                                                   ...          ...   \n",
       "274100  Is it okay for a guy who’s 28 or 29 to date a ...  __label__en   \n",
       "357949  Your Friendship Your **Friendship** Is Like **...  __label__en   \n",
       "380142  A Man In Love With You Can't Stay A Day withou...  __label__en   \n",
       "438628  My Girl friend IM 40 AND MY GIRLFRIEND IS A CO...  __label__en   \n",
       "458643  unnecessary **NOT COOL MY GIRL ( 30F) AIR OUT ...  __label__en   \n",
       "\n",
       "        lang_conf  word_count  \n",
       "9939     0.363719          76  \n",
       "9082     0.354635          10  \n",
       "10501    0.343657          55  \n",
       "22631    0.301780          10  \n",
       "23573    0.360664          12  \n",
       "...           ...         ...  \n",
       "274100   0.399648          32  \n",
       "357949   0.373242          19  \n",
       "380142   0.232216         136  \n",
       "438628   0.304470          44  \n",
       "458643   0.319786          36  \n",
       "\n",
       "[148 rows x 6 columns]"
      ]
     },
     "execution_count": 75,
     "metadata": {},
     "output_type": "execute_result"
    }
   ],
   "source": [
    "lc_df"
   ]
  },
  {
   "cell_type": "code",
   "execution_count": 76,
   "id": "de5fe431",
   "metadata": {},
   "outputs": [
    {
     "data": {
      "text/plain": [
       "['SURVIVING DYSFUNCTION **THERE ARE PLENTY OF THINGS TO BE SAID ABOUT FAMILY WE NEVER KNOW WHAT FAMILY WE AARE GOING TO BE BORN INTO BUT NEVERTHELESS WE LOVE THEM ANYWAY NO MATTER HOW CORKY WEIRD LOUD CRAZY OR DYSFUNCTIONAL THEY ARE WE FIGHT TO STAY TOGETHER AND WE LOVE THEM TO NO END I AM A FIRM BELIEVER IN THIS NO ONES FAMILY IS PERFECT HELL THERES NO PERFECT BUT WE LOVE ALL THERE IMPERFECTIONS PERFECTLY**',\n",
       " 'How Do You Know When a Stock Hit a Bottom?',\n",
       " 'Laugh the Economy Better [~~Jesus~~ Trump](http://www.cnbc.com) gonna save us\\n\\nIts Super man. . . .no SpiderMan . . . Alan GreenSPan . . .huh?  Bernanke . . .nuh? . . .YELLEN!!!! . . .\\n\\nHory Shlit itsa   **Tlump** . . . .now all those Tleasulies gonna get sclewed fol good\\n\\n[Beware the +ve news cycle](http://www.cnbc.com)',\n",
       " '$IGC PENNY STOCK ? Any thoughts on $IGC ?? ',\n",
       " '1 Google stock or 6 Facebook? 1 Google stock or 6 Facebook?']"
      ]
     },
     "execution_count": 76,
     "metadata": {},
     "output_type": "execute_result"
    }
   ],
   "source": [
    "list(lc_df.head(5)[\"text\"])"
   ]
  },
  {
   "cell_type": "code",
   "execution_count": 83,
   "id": "c9bacafd",
   "metadata": {},
   "outputs": [
    {
     "name": "stdout",
     "output_type": "stream",
     "text": [
      "34228/1387074 posts have less than .4 lang conf=2.4783700162700053%\n"
     ]
    }
   ],
   "source": [
    "lc_df = new_df[new_df[\"lang_conf\"] < .9]\n",
    "print(\"{}/{} posts have less than .4 lang conf={}%\".format(len(lc_df), len(eng_df), len(lc_df)*100/len(new_df)))"
   ]
  },
  {
   "cell_type": "code",
   "execution_count": 79,
   "id": "91d92690",
   "metadata": {},
   "outputs": [],
   "source": [
    "mc_df = new_df[(new_df[\"lang_conf\"] < .8) & (new_df[\"lang_conf\"] > .7)]"
   ]
  },
  {
   "cell_type": "code",
   "execution_count": 81,
   "id": "09138472",
   "metadata": {},
   "outputs": [
    {
     "data": {
      "text/plain": [
       "['Mind Quotes! The best cure of lonelyness is to get bond w/ your family ;-).\\n\\n\\n#FirstTimer',\n",
       " 'FREE STOYTIME EVENT Hear their side of the story with the Disney Villians Ursella, Cruella Devil, Evil Queen , and Maleficent FREE STOYTIME EVENT\\nHear their side of the story with the Disney Villians\\nUrsella, Cruella Devil, Evil Queen , and Maleficent  \\nOctober 29, 2016 10:00 a.m.-12:00 p.m.\\n6531 Annie Oakley Dr.\\nHenderson, NV 89014\\n702-405-7323\\nhttp://www.glvacademy.com\\n',\n",
       " 'Do your kids fight too much? Do your kids fight too much?',\n",
       " 'kinder-garden When do you prefer to give a kid to the kinder-garden?',\n",
       " \"Family I Just Want To Shout-Out, \\nThat I'm Not Fine, I'm Broken \\nBut In The End Who Even Cares!!??\"]"
      ]
     },
     "execution_count": 81,
     "metadata": {},
     "output_type": "execute_result"
    }
   ],
   "source": [
    "list(mc_df.head(5)[\"text\"])"
   ]
  }
 ],
 "metadata": {
  "kernelspec": {
   "display_name": "Python 3",
   "language": "python",
   "name": "python3"
  },
  "language_info": {
   "codemirror_mode": {
    "name": "ipython",
    "version": 3
   },
   "file_extension": ".py",
   "mimetype": "text/x-python",
   "name": "python",
   "nbconvert_exporter": "python",
   "pygments_lexer": "ipython3",
   "version": "3.8.10"
  }
 },
 "nbformat": 4,
 "nbformat_minor": 5
}
