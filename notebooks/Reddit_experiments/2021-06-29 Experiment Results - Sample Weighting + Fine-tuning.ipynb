{
 "cells": [
  {
   "cell_type": "code",
   "execution_count": 1,
   "id": "a7775cc5",
   "metadata": {},
   "outputs": [],
   "source": [
    "%load_ext autoreload\n",
    "%autoreload 2"
   ]
  },
  {
   "cell_type": "code",
   "execution_count": 2,
   "id": "30b5f6d6",
   "metadata": {},
   "outputs": [],
   "source": [
    "import os\n",
    "import sys\n",
    "sys.path.append(\"../src/\")\n",
    "import json\n",
    "\n",
    "import numpy as np\n",
    "import pandas as pd\n",
    "import math\n",
    "from datasets import Dataset, list_metrics, load_metric\n",
    "from transformers import AutoConfig, AutoTokenizer, AutoModelForMaskedLM, DataCollatorForLanguageModeling, Trainer\n",
    "\n",
    "import matplotlib.pyplot as plt\n",
    "import seaborn as sns\n",
    "sns.set_theme()\n",
    "\n",
    "from results_analysis.analyze_exp_results import ExpAnalyzer\n",
    "from results_analysis.analyze_personalized_exp_results import PerPopulationExpAnalyzer\n",
    "from results_analysis.analysis_utils import plot_user_perf_by_sample_count\n",
    "\n",
    "from runners.runner_utils import loss_to_perplexity"
   ]
  },
  {
   "cell_type": "code",
   "execution_count": 3,
   "id": "05f26dca",
   "metadata": {},
   "outputs": [],
   "source": [
    "base_result_dir = \"/data/ddmg/redditlanguagemodeling/results/\""
   ]
  },
  {
   "cell_type": "code",
   "execution_count": 4,
   "id": "b1618944",
   "metadata": {},
   "outputs": [],
   "source": [
    "data_df = pd.read_csv(\"/data/ddmg/redditlanguagemodeling/data/3_all_data_user_filtered_2021-06-21.csv\")"
   ]
  },
  {
   "cell_type": "code",
   "execution_count": 5,
   "id": "ab38117c",
   "metadata": {},
   "outputs": [
    {
     "data": {
      "text/plain": [
       "50"
      ]
     },
     "execution_count": 5,
     "metadata": {},
     "output_type": "execute_result"
    }
   ],
   "source": [
    "val_df = data_df[data_df[\"data_split\"] == \"val\"]\n",
    "test_users = set(val_df[\"author\"])\n",
    "len(test_users)"
   ]
  },
  {
   "cell_type": "code",
   "execution_count": 6,
   "id": "01dee71d",
   "metadata": {},
   "outputs": [],
   "source": [
    "train_df = data_df[data_df[\"data_split\"] == \"train\"]\n",
    "user_counts = train_df.groupby(\"author\").count()[\"id\"]\n",
    "user_counts = user_counts[user_counts.index.isin(test_users)]"
   ]
  },
  {
   "cell_type": "code",
   "execution_count": 58,
   "id": "c67d4b55",
   "metadata": {},
   "outputs": [],
   "source": [
    "test_df = data_df[data_df[\"data_split\"] == \"test\"]"
   ]
  },
  {
   "cell_type": "markdown",
   "id": "0d06059e",
   "metadata": {},
   "source": [
    "## Fine-Tune All"
   ]
  },
  {
   "cell_type": "code",
   "execution_count": 12,
   "id": "7115c4c7",
   "metadata": {},
   "outputs": [
    {
     "data": {
      "text/html": [
       "<div>\n",
       "<style scoped>\n",
       "    .dataframe tbody tr th:only-of-type {\n",
       "        vertical-align: middle;\n",
       "    }\n",
       "\n",
       "    .dataframe tbody tr th {\n",
       "        vertical-align: top;\n",
       "    }\n",
       "\n",
       "    .dataframe thead th {\n",
       "        text-align: right;\n",
       "    }\n",
       "</style>\n",
       "<table border=\"1\" class=\"dataframe\">\n",
       "  <thead>\n",
       "    <tr style=\"text-align: right;\">\n",
       "      <th></th>\n",
       "      <th>data_split</th>\n",
       "      <th>loss</th>\n",
       "      <th>perplexity</th>\n",
       "    </tr>\n",
       "  </thead>\n",
       "  <tbody>\n",
       "    <tr>\n",
       "      <th>0</th>\n",
       "      <td>train</td>\n",
       "      <td>2.034876</td>\n",
       "      <td>7.651303</td>\n",
       "    </tr>\n",
       "    <tr>\n",
       "      <th>1</th>\n",
       "      <td>eval</td>\n",
       "      <td>2.131445</td>\n",
       "      <td>8.427035</td>\n",
       "    </tr>\n",
       "    <tr>\n",
       "      <th>2</th>\n",
       "      <td>test</td>\n",
       "      <td>2.146064</td>\n",
       "      <td>8.551135</td>\n",
       "    </tr>\n",
       "  </tbody>\n",
       "</table>\n",
       "</div>"
      ],
      "text/plain": [
       "  data_split      loss  perplexity\n",
       "0      train  2.034876    7.651303\n",
       "1       eval  2.131445    8.427035\n",
       "2       test  2.146064    8.551135"
      ]
     },
     "execution_count": 12,
     "metadata": {},
     "output_type": "execute_result"
    }
   ],
   "source": [
    "rd_2b = os.path.join(base_result_dir, \"2b_distilbert_finetuned_constant_lr\")\n",
    "ea_2b = ExpAnalyzer(rd_2b)\n",
    "ea_2b.data_split_perf_df"
   ]
  },
  {
   "cell_type": "code",
   "execution_count": 14,
   "id": "492b5428",
   "metadata": {},
   "outputs": [
    {
     "data": {
      "text/html": [
       "<div>\n",
       "<style scoped>\n",
       "    .dataframe tbody tr th:only-of-type {\n",
       "        vertical-align: middle;\n",
       "    }\n",
       "\n",
       "    .dataframe tbody tr th {\n",
       "        vertical-align: top;\n",
       "    }\n",
       "\n",
       "    .dataframe thead th {\n",
       "        text-align: right;\n",
       "    }\n",
       "</style>\n",
       "<table border=\"1\" class=\"dataframe\">\n",
       "  <thead>\n",
       "    <tr style=\"text-align: right;\">\n",
       "      <th></th>\n",
       "      <th>author</th>\n",
       "      <th>loss</th>\n",
       "      <th>perplexity</th>\n",
       "    </tr>\n",
       "  </thead>\n",
       "  <tbody>\n",
       "    <tr>\n",
       "      <th>0</th>\n",
       "      <td>BRoccoli20</td>\n",
       "      <td>1.992776</td>\n",
       "      <td>7.335873</td>\n",
       "    </tr>\n",
       "    <tr>\n",
       "      <th>1</th>\n",
       "      <td>Chad_arbc</td>\n",
       "      <td>2.293011</td>\n",
       "      <td>9.904718</td>\n",
       "    </tr>\n",
       "    <tr>\n",
       "      <th>2</th>\n",
       "      <td>Creative310</td>\n",
       "      <td>2.572891</td>\n",
       "      <td>13.103652</td>\n",
       "    </tr>\n",
       "    <tr>\n",
       "      <th>3</th>\n",
       "      <td>Dotabjj</td>\n",
       "      <td>3.292901</td>\n",
       "      <td>26.920836</td>\n",
       "    </tr>\n",
       "    <tr>\n",
       "      <th>4</th>\n",
       "      <td>Eriflee</td>\n",
       "      <td>1.929266</td>\n",
       "      <td>6.884453</td>\n",
       "    </tr>\n",
       "    <tr>\n",
       "      <th>5</th>\n",
       "      <td>GaniB</td>\n",
       "      <td>1.782997</td>\n",
       "      <td>5.947657</td>\n",
       "    </tr>\n",
       "    <tr>\n",
       "      <th>6</th>\n",
       "      <td>HelloImLucas</td>\n",
       "      <td>2.221854</td>\n",
       "      <td>9.224417</td>\n",
       "    </tr>\n",
       "    <tr>\n",
       "      <th>7</th>\n",
       "      <td>IckyBelly</td>\n",
       "      <td>2.459537</td>\n",
       "      <td>11.699397</td>\n",
       "    </tr>\n",
       "    <tr>\n",
       "      <th>8</th>\n",
       "      <td>KarmaKingKong</td>\n",
       "      <td>2.015775</td>\n",
       "      <td>7.506542</td>\n",
       "    </tr>\n",
       "    <tr>\n",
       "      <th>9</th>\n",
       "      <td>Kennyv777</td>\n",
       "      <td>2.049708</td>\n",
       "      <td>7.765631</td>\n",
       "    </tr>\n",
       "    <tr>\n",
       "      <th>10</th>\n",
       "      <td>KharnTheBetrayer1997</td>\n",
       "      <td>1.637037</td>\n",
       "      <td>5.139919</td>\n",
       "    </tr>\n",
       "    <tr>\n",
       "      <th>11</th>\n",
       "      <td>MartEden</td>\n",
       "      <td>2.417358</td>\n",
       "      <td>11.216189</td>\n",
       "    </tr>\n",
       "    <tr>\n",
       "      <th>12</th>\n",
       "      <td>Olliebkl</td>\n",
       "      <td>2.226551</td>\n",
       "      <td>9.267849</td>\n",
       "    </tr>\n",
       "    <tr>\n",
       "      <th>13</th>\n",
       "      <td>Ps4gal94</td>\n",
       "      <td>1.962429</td>\n",
       "      <td>7.116594</td>\n",
       "    </tr>\n",
       "    <tr>\n",
       "      <th>14</th>\n",
       "      <td>Thatawkwardhipster</td>\n",
       "      <td>1.409220</td>\n",
       "      <td>4.092760</td>\n",
       "    </tr>\n",
       "    <tr>\n",
       "      <th>15</th>\n",
       "      <td>Tony0x01</td>\n",
       "      <td>1.969148</td>\n",
       "      <td>7.164570</td>\n",
       "    </tr>\n",
       "    <tr>\n",
       "      <th>16</th>\n",
       "      <td>Unclebunt92</td>\n",
       "      <td>2.107210</td>\n",
       "      <td>8.225264</td>\n",
       "    </tr>\n",
       "    <tr>\n",
       "      <th>17</th>\n",
       "      <td>WarKittyKat</td>\n",
       "      <td>2.047520</td>\n",
       "      <td>7.748664</td>\n",
       "    </tr>\n",
       "    <tr>\n",
       "      <th>18</th>\n",
       "      <td>americanpegasus</td>\n",
       "      <td>2.388905</td>\n",
       "      <td>10.901551</td>\n",
       "    </tr>\n",
       "    <tr>\n",
       "      <th>19</th>\n",
       "      <td>anonymous_user_x</td>\n",
       "      <td>2.191260</td>\n",
       "      <td>8.946479</td>\n",
       "    </tr>\n",
       "    <tr>\n",
       "      <th>20</th>\n",
       "      <td>binarygold</td>\n",
       "      <td>2.317368</td>\n",
       "      <td>10.148923</td>\n",
       "    </tr>\n",
       "    <tr>\n",
       "      <th>21</th>\n",
       "      <td>blossbloss</td>\n",
       "      <td>1.862675</td>\n",
       "      <td>6.440942</td>\n",
       "    </tr>\n",
       "    <tr>\n",
       "      <th>22</th>\n",
       "      <td>bluejeans90210</td>\n",
       "      <td>2.336321</td>\n",
       "      <td>10.343110</td>\n",
       "    </tr>\n",
       "    <tr>\n",
       "      <th>23</th>\n",
       "      <td>brookswilliams</td>\n",
       "      <td>2.582997</td>\n",
       "      <td>13.236747</td>\n",
       "    </tr>\n",
       "    <tr>\n",
       "      <th>24</th>\n",
       "      <td>closingbell</td>\n",
       "      <td>2.173624</td>\n",
       "      <td>8.790084</td>\n",
       "    </tr>\n",
       "    <tr>\n",
       "      <th>25</th>\n",
       "      <td>cqm</td>\n",
       "      <td>2.103291</td>\n",
       "      <td>8.193089</td>\n",
       "    </tr>\n",
       "    <tr>\n",
       "      <th>26</th>\n",
       "      <td>cwrace71</td>\n",
       "      <td>2.513392</td>\n",
       "      <td>12.346736</td>\n",
       "    </tr>\n",
       "    <tr>\n",
       "      <th>27</th>\n",
       "      <td>davidcwilliams</td>\n",
       "      <td>2.443172</td>\n",
       "      <td>11.509493</td>\n",
       "    </tr>\n",
       "    <tr>\n",
       "      <th>28</th>\n",
       "      <td>eclecticuniversalas</td>\n",
       "      <td>2.326929</td>\n",
       "      <td>10.246430</td>\n",
       "    </tr>\n",
       "    <tr>\n",
       "      <th>29</th>\n",
       "      <td>eiidunncnsj</td>\n",
       "      <td>2.665329</td>\n",
       "      <td>14.372681</td>\n",
       "    </tr>\n",
       "    <tr>\n",
       "      <th>30</th>\n",
       "      <td>escapevelo</td>\n",
       "      <td>2.221579</td>\n",
       "      <td>9.221881</td>\n",
       "    </tr>\n",
       "    <tr>\n",
       "      <th>31</th>\n",
       "      <td>exab</td>\n",
       "      <td>1.980848</td>\n",
       "      <td>7.248885</td>\n",
       "    </tr>\n",
       "    <tr>\n",
       "      <th>32</th>\n",
       "      <td>frostmas</td>\n",
       "      <td>1.098260</td>\n",
       "      <td>2.998943</td>\n",
       "    </tr>\n",
       "    <tr>\n",
       "      <th>33</th>\n",
       "      <td>glittertoes1</td>\n",
       "      <td>1.874225</td>\n",
       "      <td>6.515768</td>\n",
       "    </tr>\n",
       "    <tr>\n",
       "      <th>34</th>\n",
       "      <td>goodDayM</td>\n",
       "      <td>2.221247</td>\n",
       "      <td>9.218824</td>\n",
       "    </tr>\n",
       "    <tr>\n",
       "      <th>35</th>\n",
       "      <td>goodluckchuck11</td>\n",
       "      <td>1.890897</td>\n",
       "      <td>6.625310</td>\n",
       "    </tr>\n",
       "    <tr>\n",
       "      <th>36</th>\n",
       "      <td>hgmichna</td>\n",
       "      <td>2.336563</td>\n",
       "      <td>10.345614</td>\n",
       "    </tr>\n",
       "    <tr>\n",
       "      <th>37</th>\n",
       "      <td>hrrm</td>\n",
       "      <td>2.145788</td>\n",
       "      <td>8.548775</td>\n",
       "    </tr>\n",
       "    <tr>\n",
       "      <th>38</th>\n",
       "      <td>itsnotthot</td>\n",
       "      <td>2.153338</td>\n",
       "      <td>8.613566</td>\n",
       "    </tr>\n",
       "    <tr>\n",
       "      <th>39</th>\n",
       "      <td>jdino23</td>\n",
       "      <td>1.979608</td>\n",
       "      <td>7.239907</td>\n",
       "    </tr>\n",
       "    <tr>\n",
       "      <th>40</th>\n",
       "      <td>libelulas3v3n</td>\n",
       "      <td>1.264358</td>\n",
       "      <td>3.540817</td>\n",
       "    </tr>\n",
       "    <tr>\n",
       "      <th>41</th>\n",
       "      <td>lightlasertower</td>\n",
       "      <td>2.828722</td>\n",
       "      <td>16.923822</td>\n",
       "    </tr>\n",
       "    <tr>\n",
       "      <th>42</th>\n",
       "      <td>mastermascovich</td>\n",
       "      <td>1.779072</td>\n",
       "      <td>5.924355</td>\n",
       "    </tr>\n",
       "    <tr>\n",
       "      <th>43</th>\n",
       "      <td>peimom123</td>\n",
       "      <td>2.229433</td>\n",
       "      <td>9.294591</td>\n",
       "    </tr>\n",
       "    <tr>\n",
       "      <th>44</th>\n",
       "      <td>retardedinvestor</td>\n",
       "      <td>3.206598</td>\n",
       "      <td>24.694932</td>\n",
       "    </tr>\n",
       "    <tr>\n",
       "      <th>45</th>\n",
       "      <td>robert323445</td>\n",
       "      <td>1.527178</td>\n",
       "      <td>4.605161</td>\n",
       "    </tr>\n",
       "    <tr>\n",
       "      <th>46</th>\n",
       "      <td>skabaw</td>\n",
       "      <td>2.629193</td>\n",
       "      <td>13.862579</td>\n",
       "    </tr>\n",
       "    <tr>\n",
       "      <th>47</th>\n",
       "      <td>svet_sedov</td>\n",
       "      <td>2.214632</td>\n",
       "      <td>9.158034</td>\n",
       "    </tr>\n",
       "    <tr>\n",
       "      <th>48</th>\n",
       "      <td>wsace</td>\n",
       "      <td>1.924790</td>\n",
       "      <td>6.853707</td>\n",
       "    </tr>\n",
       "    <tr>\n",
       "      <th>49</th>\n",
       "      <td>your_godammn_right</td>\n",
       "      <td>2.616271</td>\n",
       "      <td>13.684592</td>\n",
       "    </tr>\n",
       "  </tbody>\n",
       "</table>\n",
       "</div>"
      ],
      "text/plain": [
       "                  author      loss  perplexity\n",
       "0             BRoccoli20  1.992776    7.335873\n",
       "1              Chad_arbc  2.293011    9.904718\n",
       "2            Creative310  2.572891   13.103652\n",
       "3                Dotabjj  3.292901   26.920836\n",
       "4                Eriflee  1.929266    6.884453\n",
       "5                  GaniB  1.782997    5.947657\n",
       "6           HelloImLucas  2.221854    9.224417\n",
       "7              IckyBelly  2.459537   11.699397\n",
       "8          KarmaKingKong  2.015775    7.506542\n",
       "9              Kennyv777  2.049708    7.765631\n",
       "10  KharnTheBetrayer1997  1.637037    5.139919\n",
       "11              MartEden  2.417358   11.216189\n",
       "12              Olliebkl  2.226551    9.267849\n",
       "13              Ps4gal94  1.962429    7.116594\n",
       "14    Thatawkwardhipster  1.409220    4.092760\n",
       "15              Tony0x01  1.969148    7.164570\n",
       "16           Unclebunt92  2.107210    8.225264\n",
       "17           WarKittyKat  2.047520    7.748664\n",
       "18       americanpegasus  2.388905   10.901551\n",
       "19      anonymous_user_x  2.191260    8.946479\n",
       "20            binarygold  2.317368   10.148923\n",
       "21            blossbloss  1.862675    6.440942\n",
       "22        bluejeans90210  2.336321   10.343110\n",
       "23        brookswilliams  2.582997   13.236747\n",
       "24           closingbell  2.173624    8.790084\n",
       "25                   cqm  2.103291    8.193089\n",
       "26              cwrace71  2.513392   12.346736\n",
       "27        davidcwilliams  2.443172   11.509493\n",
       "28   eclecticuniversalas  2.326929   10.246430\n",
       "29           eiidunncnsj  2.665329   14.372681\n",
       "30            escapevelo  2.221579    9.221881\n",
       "31                  exab  1.980848    7.248885\n",
       "32              frostmas  1.098260    2.998943\n",
       "33          glittertoes1  1.874225    6.515768\n",
       "34              goodDayM  2.221247    9.218824\n",
       "35       goodluckchuck11  1.890897    6.625310\n",
       "36              hgmichna  2.336563   10.345614\n",
       "37                  hrrm  2.145788    8.548775\n",
       "38            itsnotthot  2.153338    8.613566\n",
       "39               jdino23  1.979608    7.239907\n",
       "40         libelulas3v3n  1.264358    3.540817\n",
       "41       lightlasertower  2.828722   16.923822\n",
       "42       mastermascovich  1.779072    5.924355\n",
       "43             peimom123  2.229433    9.294591\n",
       "44      retardedinvestor  3.206598   24.694932\n",
       "45          robert323445  1.527178    4.605161\n",
       "46                skabaw  2.629193   13.862579\n",
       "47            svet_sedov  2.214632    9.158034\n",
       "48                 wsace  1.924790    6.853707\n",
       "49    your_godammn_right  2.616271   13.684592"
      ]
     },
     "execution_count": 14,
     "metadata": {},
     "output_type": "execute_result"
    }
   ],
   "source": [
    "ea_2b.author_result_df"
   ]
  },
  {
   "cell_type": "code",
   "execution_count": 21,
   "id": "6f358725",
   "metadata": {},
   "outputs": [
    {
     "data": {
      "text/plain": [
       "loss          2.168301\n",
       "perplexity    9.537226\n",
       "dtype: float64"
      ]
     },
     "execution_count": 21,
     "metadata": {},
     "output_type": "execute_result"
    }
   ],
   "source": [
    "ea_2b.author_result_df.mean()"
   ]
  },
  {
   "cell_type": "code",
   "execution_count": 22,
   "id": "f014bf77",
   "metadata": {},
   "outputs": [
    {
     "data": {
      "text/plain": [
       "loss          0.415313\n",
       "perplexity    4.424397\n",
       "dtype: float64"
      ]
     },
     "execution_count": 22,
     "metadata": {},
     "output_type": "execute_result"
    }
   ],
   "source": [
    "ea_2b.author_result_df.std()"
   ]
  },
  {
   "cell_type": "code",
   "execution_count": 10,
   "id": "89c7cbea",
   "metadata": {},
   "outputs": [
    {
     "data": {
      "text/plain": [
       "loss          2.052559\n",
       "perplexity    7.906884\n",
       "dtype: float64"
      ]
     },
     "execution_count": 10,
     "metadata": {},
     "output_type": "execute_result"
    }
   ],
   "source": [
    "ea_2b.sr_result_df.mean()"
   ]
  },
  {
   "cell_type": "code",
   "execution_count": 11,
   "id": "26bd8827",
   "metadata": {},
   "outputs": [
    {
     "data": {
      "text/plain": [
       "loss          0.192139\n",
       "perplexity    1.489724\n",
       "dtype: float64"
      ]
     },
     "execution_count": 11,
     "metadata": {},
     "output_type": "execute_result"
    }
   ],
   "source": [
    "ea_2b.sr_result_df.std()"
   ]
  },
  {
   "cell_type": "markdown",
   "id": "19ead681",
   "metadata": {},
   "source": [
    "## Fine-Tune User"
   ]
  },
  {
   "cell_type": "code",
   "execution_count": 17,
   "id": "31af125f",
   "metadata": {},
   "outputs": [
    {
     "name": "stdout",
     "output_type": "stream",
     "text": [
      "Found results for 50 sub-populations\n"
     ]
    },
    {
     "data": {
      "text/html": [
       "<div>\n",
       "<style scoped>\n",
       "    .dataframe tbody tr th:only-of-type {\n",
       "        vertical-align: middle;\n",
       "    }\n",
       "\n",
       "    .dataframe tbody tr th {\n",
       "        vertical-align: top;\n",
       "    }\n",
       "\n",
       "    .dataframe thead th {\n",
       "        text-align: right;\n",
       "    }\n",
       "</style>\n",
       "<table border=\"1\" class=\"dataframe\">\n",
       "  <thead>\n",
       "    <tr style=\"text-align: right;\">\n",
       "      <th></th>\n",
       "      <th>data_split</th>\n",
       "      <th>loss</th>\n",
       "      <th>perplexity</th>\n",
       "      <th>author</th>\n",
       "    </tr>\n",
       "  </thead>\n",
       "  <tbody>\n",
       "    <tr>\n",
       "      <th>0</th>\n",
       "      <td>train</td>\n",
       "      <td>2.622854</td>\n",
       "      <td>13.774980</td>\n",
       "      <td>binarygold</td>\n",
       "    </tr>\n",
       "    <tr>\n",
       "      <th>1</th>\n",
       "      <td>eval</td>\n",
       "      <td>2.746658</td>\n",
       "      <td>15.590447</td>\n",
       "      <td>binarygold</td>\n",
       "    </tr>\n",
       "    <tr>\n",
       "      <th>2</th>\n",
       "      <td>test</td>\n",
       "      <td>2.897412</td>\n",
       "      <td>18.127168</td>\n",
       "      <td>binarygold</td>\n",
       "    </tr>\n",
       "    <tr>\n",
       "      <th>0</th>\n",
       "      <td>train</td>\n",
       "      <td>2.455534</td>\n",
       "      <td>11.652651</td>\n",
       "      <td>exab</td>\n",
       "    </tr>\n",
       "    <tr>\n",
       "      <th>1</th>\n",
       "      <td>eval</td>\n",
       "      <td>2.328001</td>\n",
       "      <td>10.257412</td>\n",
       "      <td>exab</td>\n",
       "    </tr>\n",
       "    <tr>\n",
       "      <th>...</th>\n",
       "      <td>...</td>\n",
       "      <td>...</td>\n",
       "      <td>...</td>\n",
       "      <td>...</td>\n",
       "    </tr>\n",
       "    <tr>\n",
       "      <th>1</th>\n",
       "      <td>eval</td>\n",
       "      <td>2.812618</td>\n",
       "      <td>16.653456</td>\n",
       "      <td>Creative310</td>\n",
       "    </tr>\n",
       "    <tr>\n",
       "      <th>2</th>\n",
       "      <td>test</td>\n",
       "      <td>3.080813</td>\n",
       "      <td>21.776103</td>\n",
       "      <td>Creative310</td>\n",
       "    </tr>\n",
       "    <tr>\n",
       "      <th>0</th>\n",
       "      <td>train</td>\n",
       "      <td>4.246050</td>\n",
       "      <td>69.829067</td>\n",
       "      <td>retardedinvestor</td>\n",
       "    </tr>\n",
       "    <tr>\n",
       "      <th>1</th>\n",
       "      <td>eval</td>\n",
       "      <td>3.445839</td>\n",
       "      <td>31.369589</td>\n",
       "      <td>retardedinvestor</td>\n",
       "    </tr>\n",
       "    <tr>\n",
       "      <th>2</th>\n",
       "      <td>test</td>\n",
       "      <td>3.663950</td>\n",
       "      <td>39.015138</td>\n",
       "      <td>retardedinvestor</td>\n",
       "    </tr>\n",
       "  </tbody>\n",
       "</table>\n",
       "<p>150 rows × 4 columns</p>\n",
       "</div>"
      ],
      "text/plain": [
       "   data_split      loss  perplexity            author\n",
       "0       train  2.622854   13.774980        binarygold\n",
       "1        eval  2.746658   15.590447        binarygold\n",
       "2        test  2.897412   18.127168        binarygold\n",
       "0       train  2.455534   11.652651              exab\n",
       "1        eval  2.328001   10.257412              exab\n",
       "..        ...       ...         ...               ...\n",
       "1        eval  2.812618   16.653456       Creative310\n",
       "2        test  3.080813   21.776103       Creative310\n",
       "0       train  4.246050   69.829067  retardedinvestor\n",
       "1        eval  3.445839   31.369589  retardedinvestor\n",
       "2        test  3.663950   39.015138  retardedinvestor\n",
       "\n",
       "[150 rows x 4 columns]"
      ]
     },
     "execution_count": 17,
     "metadata": {},
     "output_type": "execute_result"
    }
   ],
   "source": [
    "rd_3a = os.path.join(base_result_dir, \"3a_distilbert_finetuned_author_constant_lr\")\n",
    "ea_3a = PerPopulationExpAnalyzer(rd_3a, \"author\")\n",
    "ea_3a.data_split_perf_df"
   ]
  },
  {
   "cell_type": "code",
   "execution_count": 18,
   "id": "51e73e2f",
   "metadata": {},
   "outputs": [],
   "source": [
    "test_df_3a = ea_3a.data_split_perf_df[ea_3a.data_split_perf_df[\"data_split\"] == \"test\"]"
   ]
  },
  {
   "cell_type": "code",
   "execution_count": 19,
   "id": "e30e5f04",
   "metadata": {},
   "outputs": [
    {
     "data": {
      "text/plain": [
       "loss           2.578356\n",
       "perplexity    14.790691\n",
       "dtype: float64"
      ]
     },
     "execution_count": 19,
     "metadata": {},
     "output_type": "execute_result"
    }
   ],
   "source": [
    "test_df_3a.mean()"
   ]
  },
  {
   "cell_type": "code",
   "execution_count": 20,
   "id": "ae1caecc",
   "metadata": {},
   "outputs": [
    {
     "data": {
      "text/plain": [
       "loss          0.471111\n",
       "perplexity    8.140301\n",
       "dtype: float64"
      ]
     },
     "execution_count": 20,
     "metadata": {},
     "output_type": "execute_result"
    }
   ],
   "source": [
    "test_df_3a.std()"
   ]
  },
  {
   "cell_type": "markdown",
   "id": "186b8b50",
   "metadata": {},
   "source": [
    "## Fine-Tune Subreddit"
   ]
  },
  {
   "cell_type": "code",
   "execution_count": 23,
   "id": "cc8774a5",
   "metadata": {},
   "outputs": [
    {
     "name": "stdout",
     "output_type": "stream",
     "text": [
      "Found results for 6 sub-populations\n"
     ]
    },
    {
     "data": {
      "text/html": [
       "<div>\n",
       "<style scoped>\n",
       "    .dataframe tbody tr th:only-of-type {\n",
       "        vertical-align: middle;\n",
       "    }\n",
       "\n",
       "    .dataframe tbody tr th {\n",
       "        vertical-align: top;\n",
       "    }\n",
       "\n",
       "    .dataframe thead th {\n",
       "        text-align: right;\n",
       "    }\n",
       "</style>\n",
       "<table border=\"1\" class=\"dataframe\">\n",
       "  <thead>\n",
       "    <tr style=\"text-align: right;\">\n",
       "      <th></th>\n",
       "      <th>data_split</th>\n",
       "      <th>loss</th>\n",
       "      <th>perplexity</th>\n",
       "      <th>subreddit</th>\n",
       "    </tr>\n",
       "  </thead>\n",
       "  <tbody>\n",
       "    <tr>\n",
       "      <th>0</th>\n",
       "      <td>train</td>\n",
       "      <td>1.605824</td>\n",
       "      <td>4.981964</td>\n",
       "      <td>investing</td>\n",
       "    </tr>\n",
       "    <tr>\n",
       "      <th>1</th>\n",
       "      <td>eval</td>\n",
       "      <td>2.367700</td>\n",
       "      <td>10.672818</td>\n",
       "      <td>investing</td>\n",
       "    </tr>\n",
       "    <tr>\n",
       "      <th>2</th>\n",
       "      <td>test</td>\n",
       "      <td>2.260057</td>\n",
       "      <td>9.583633</td>\n",
       "      <td>investing</td>\n",
       "    </tr>\n",
       "    <tr>\n",
       "      <th>0</th>\n",
       "      <td>train</td>\n",
       "      <td>2.151371</td>\n",
       "      <td>8.596637</td>\n",
       "      <td>relationship_advice</td>\n",
       "    </tr>\n",
       "    <tr>\n",
       "      <th>1</th>\n",
       "      <td>eval</td>\n",
       "      <td>2.005614</td>\n",
       "      <td>7.430652</td>\n",
       "      <td>relationship_advice</td>\n",
       "    </tr>\n",
       "    <tr>\n",
       "      <th>2</th>\n",
       "      <td>test</td>\n",
       "      <td>1.914430</td>\n",
       "      <td>6.783074</td>\n",
       "      <td>relationship_advice</td>\n",
       "    </tr>\n",
       "    <tr>\n",
       "      <th>0</th>\n",
       "      <td>train</td>\n",
       "      <td>2.235410</td>\n",
       "      <td>9.350319</td>\n",
       "      <td>AskDocs</td>\n",
       "    </tr>\n",
       "    <tr>\n",
       "      <th>1</th>\n",
       "      <td>eval</td>\n",
       "      <td>1.904507</td>\n",
       "      <td>6.716098</td>\n",
       "      <td>AskDocs</td>\n",
       "    </tr>\n",
       "    <tr>\n",
       "      <th>2</th>\n",
       "      <td>test</td>\n",
       "      <td>2.092766</td>\n",
       "      <td>8.107306</td>\n",
       "      <td>AskDocs</td>\n",
       "    </tr>\n",
       "    <tr>\n",
       "      <th>0</th>\n",
       "      <td>train</td>\n",
       "      <td>2.233693</td>\n",
       "      <td>9.334278</td>\n",
       "      <td>Bitcoin</td>\n",
       "    </tr>\n",
       "    <tr>\n",
       "      <th>1</th>\n",
       "      <td>eval</td>\n",
       "      <td>2.233443</td>\n",
       "      <td>9.331939</td>\n",
       "      <td>Bitcoin</td>\n",
       "    </tr>\n",
       "    <tr>\n",
       "      <th>2</th>\n",
       "      <td>test</td>\n",
       "      <td>2.291697</td>\n",
       "      <td>9.891705</td>\n",
       "      <td>Bitcoin</td>\n",
       "    </tr>\n",
       "    <tr>\n",
       "      <th>0</th>\n",
       "      <td>train</td>\n",
       "      <td>2.242369</td>\n",
       "      <td>9.415614</td>\n",
       "      <td>relationships</td>\n",
       "    </tr>\n",
       "    <tr>\n",
       "      <th>1</th>\n",
       "      <td>eval</td>\n",
       "      <td>2.105975</td>\n",
       "      <td>8.215106</td>\n",
       "      <td>relationships</td>\n",
       "    </tr>\n",
       "    <tr>\n",
       "      <th>2</th>\n",
       "      <td>test</td>\n",
       "      <td>1.984499</td>\n",
       "      <td>7.275399</td>\n",
       "      <td>relationships</td>\n",
       "    </tr>\n",
       "    <tr>\n",
       "      <th>0</th>\n",
       "      <td>train</td>\n",
       "      <td>2.247502</td>\n",
       "      <td>9.464069</td>\n",
       "      <td>mentalhealth</td>\n",
       "    </tr>\n",
       "    <tr>\n",
       "      <th>1</th>\n",
       "      <td>eval</td>\n",
       "      <td>2.133284</td>\n",
       "      <td>8.442547</td>\n",
       "      <td>mentalhealth</td>\n",
       "    </tr>\n",
       "    <tr>\n",
       "      <th>2</th>\n",
       "      <td>test</td>\n",
       "      <td>2.199799</td>\n",
       "      <td>9.023196</td>\n",
       "      <td>mentalhealth</td>\n",
       "    </tr>\n",
       "  </tbody>\n",
       "</table>\n",
       "</div>"
      ],
      "text/plain": [
       "  data_split      loss  perplexity            subreddit\n",
       "0      train  1.605824    4.981964            investing\n",
       "1       eval  2.367700   10.672818            investing\n",
       "2       test  2.260057    9.583633            investing\n",
       "0      train  2.151371    8.596637  relationship_advice\n",
       "1       eval  2.005614    7.430652  relationship_advice\n",
       "2       test  1.914430    6.783074  relationship_advice\n",
       "0      train  2.235410    9.350319              AskDocs\n",
       "1       eval  1.904507    6.716098              AskDocs\n",
       "2       test  2.092766    8.107306              AskDocs\n",
       "0      train  2.233693    9.334278              Bitcoin\n",
       "1       eval  2.233443    9.331939              Bitcoin\n",
       "2       test  2.291697    9.891705              Bitcoin\n",
       "0      train  2.242369    9.415614        relationships\n",
       "1       eval  2.105975    8.215106        relationships\n",
       "2       test  1.984499    7.275399        relationships\n",
       "0      train  2.247502    9.464069         mentalhealth\n",
       "1       eval  2.133284    8.442547         mentalhealth\n",
       "2       test  2.199799    9.023196         mentalhealth"
      ]
     },
     "execution_count": 23,
     "metadata": {},
     "output_type": "execute_result"
    }
   ],
   "source": [
    "rd_4a = os.path.join(base_result_dir, \"4a_distilbert_finetuned_subreddit_constant_lr\")\n",
    "ea_4a = PerPopulationExpAnalyzer(rd_4a, \"subreddit\")\n",
    "ea_4a.data_split_perf_df"
   ]
  },
  {
   "cell_type": "code",
   "execution_count": 24,
   "id": "77a532de",
   "metadata": {},
   "outputs": [],
   "source": [
    "test_df_4a = ea_4a.data_split_perf_df[ea_4a.data_split_perf_df[\"data_split\"] == \"test\"]"
   ]
  },
  {
   "cell_type": "code",
   "execution_count": 25,
   "id": "8677fdef",
   "metadata": {},
   "outputs": [
    {
     "data": {
      "text/plain": [
       "loss          2.123874\n",
       "perplexity    8.444052\n",
       "dtype: float64"
      ]
     },
     "execution_count": 25,
     "metadata": {},
     "output_type": "execute_result"
    }
   ],
   "source": [
    "test_df_4a.mean()"
   ]
  },
  {
   "cell_type": "code",
   "execution_count": 26,
   "id": "cdd416d4",
   "metadata": {},
   "outputs": [
    {
     "data": {
      "text/plain": [
       "loss          0.152797\n",
       "perplexity    1.262359\n",
       "dtype: float64"
      ]
     },
     "execution_count": 26,
     "metadata": {},
     "output_type": "execute_result"
    }
   ],
   "source": [
    "test_df_4a.std()"
   ]
  },
  {
   "cell_type": "markdown",
   "id": "db05b2d8",
   "metadata": {},
   "source": [
    "## Multi-Stage Fine-Tune"
   ]
  },
  {
   "cell_type": "markdown",
   "id": "d77eeb20",
   "metadata": {},
   "source": [
    "#### lr = 5e-05"
   ]
  },
  {
   "cell_type": "code",
   "execution_count": 29,
   "id": "8f874fcc",
   "metadata": {},
   "outputs": [
    {
     "name": "stdout",
     "output_type": "stream",
     "text": [
      "Found results for 50 sub-populations\n"
     ]
    },
    {
     "data": {
      "text/html": [
       "<div>\n",
       "<style scoped>\n",
       "    .dataframe tbody tr th:only-of-type {\n",
       "        vertical-align: middle;\n",
       "    }\n",
       "\n",
       "    .dataframe tbody tr th {\n",
       "        vertical-align: top;\n",
       "    }\n",
       "\n",
       "    .dataframe thead th {\n",
       "        text-align: right;\n",
       "    }\n",
       "</style>\n",
       "<table border=\"1\" class=\"dataframe\">\n",
       "  <thead>\n",
       "    <tr style=\"text-align: right;\">\n",
       "      <th></th>\n",
       "      <th>data_split</th>\n",
       "      <th>loss</th>\n",
       "      <th>perplexity</th>\n",
       "      <th>author</th>\n",
       "    </tr>\n",
       "  </thead>\n",
       "  <tbody>\n",
       "    <tr>\n",
       "      <th>0</th>\n",
       "      <td>train</td>\n",
       "      <td>2.080728</td>\n",
       "      <td>8.010300</td>\n",
       "      <td>wsace</td>\n",
       "    </tr>\n",
       "    <tr>\n",
       "      <th>1</th>\n",
       "      <td>eval</td>\n",
       "      <td>2.226663</td>\n",
       "      <td>9.268881</td>\n",
       "      <td>wsace</td>\n",
       "    </tr>\n",
       "    <tr>\n",
       "      <th>2</th>\n",
       "      <td>test</td>\n",
       "      <td>1.890351</td>\n",
       "      <td>6.621694</td>\n",
       "      <td>wsace</td>\n",
       "    </tr>\n",
       "    <tr>\n",
       "      <th>0</th>\n",
       "      <td>train</td>\n",
       "      <td>2.578425</td>\n",
       "      <td>13.176366</td>\n",
       "      <td>Dotabjj</td>\n",
       "    </tr>\n",
       "    <tr>\n",
       "      <th>1</th>\n",
       "      <td>eval</td>\n",
       "      <td>2.394565</td>\n",
       "      <td>10.963432</td>\n",
       "      <td>Dotabjj</td>\n",
       "    </tr>\n",
       "    <tr>\n",
       "      <th>...</th>\n",
       "      <td>...</td>\n",
       "      <td>...</td>\n",
       "      <td>...</td>\n",
       "      <td>...</td>\n",
       "    </tr>\n",
       "    <tr>\n",
       "      <th>1</th>\n",
       "      <td>eval</td>\n",
       "      <td>1.940132</td>\n",
       "      <td>6.959667</td>\n",
       "      <td>hgmichna</td>\n",
       "    </tr>\n",
       "    <tr>\n",
       "      <th>2</th>\n",
       "      <td>test</td>\n",
       "      <td>2.304577</td>\n",
       "      <td>10.019938</td>\n",
       "      <td>hgmichna</td>\n",
       "    </tr>\n",
       "    <tr>\n",
       "      <th>0</th>\n",
       "      <td>train</td>\n",
       "      <td>1.963913</td>\n",
       "      <td>7.127163</td>\n",
       "      <td>Olliebkl</td>\n",
       "    </tr>\n",
       "    <tr>\n",
       "      <th>1</th>\n",
       "      <td>eval</td>\n",
       "      <td>1.986492</td>\n",
       "      <td>7.289917</td>\n",
       "      <td>Olliebkl</td>\n",
       "    </tr>\n",
       "    <tr>\n",
       "      <th>2</th>\n",
       "      <td>test</td>\n",
       "      <td>2.244430</td>\n",
       "      <td>9.435039</td>\n",
       "      <td>Olliebkl</td>\n",
       "    </tr>\n",
       "  </tbody>\n",
       "</table>\n",
       "<p>150 rows × 4 columns</p>\n",
       "</div>"
      ],
      "text/plain": [
       "   data_split      loss  perplexity    author\n",
       "0       train  2.080728    8.010300     wsace\n",
       "1        eval  2.226663    9.268881     wsace\n",
       "2        test  1.890351    6.621694     wsace\n",
       "0       train  2.578425   13.176366   Dotabjj\n",
       "1        eval  2.394565   10.963432   Dotabjj\n",
       "..        ...       ...         ...       ...\n",
       "1        eval  1.940132    6.959667  hgmichna\n",
       "2        test  2.304577   10.019938  hgmichna\n",
       "0       train  1.963913    7.127163  Olliebkl\n",
       "1        eval  1.986492    7.289917  Olliebkl\n",
       "2        test  2.244430    9.435039  Olliebkl\n",
       "\n",
       "[150 rows x 4 columns]"
      ]
     },
     "execution_count": 29,
     "metadata": {},
     "output_type": "execute_result"
    }
   ],
   "source": [
    "rd_6_55 = os.path.join(base_result_dir, \"6_distilbert_finetuned_all_author\", \"3_3_epochs_lr_5e-5\")\n",
    "ea_6_55 = PerPopulationExpAnalyzer(rd_6_55, \"author\")\n",
    "ea_6_55.data_split_perf_df"
   ]
  },
  {
   "cell_type": "code",
   "execution_count": 30,
   "id": "63ba889c",
   "metadata": {},
   "outputs": [],
   "source": [
    "test_df_6_55 = ea_6_55.data_split_perf_df[ea_6_55.data_split_perf_df[\"data_split\"] == \"test\"]"
   ]
  },
  {
   "cell_type": "code",
   "execution_count": 32,
   "id": "1dea6847",
   "metadata": {},
   "outputs": [
    {
     "data": {
      "text/plain": [
       "loss          2.141876\n",
       "perplexity    9.302310\n",
       "dtype: float64"
      ]
     },
     "execution_count": 32,
     "metadata": {},
     "output_type": "execute_result"
    }
   ],
   "source": [
    "test_df_6_55.mean()"
   ]
  },
  {
   "cell_type": "code",
   "execution_count": 33,
   "id": "e3b37c2a",
   "metadata": {},
   "outputs": [
    {
     "data": {
      "text/plain": [
       "loss          0.420664\n",
       "perplexity    4.291948\n",
       "dtype: float64"
      ]
     },
     "execution_count": 33,
     "metadata": {},
     "output_type": "execute_result"
    }
   ],
   "source": [
    "test_df_6_55.std()"
   ]
  },
  {
   "cell_type": "markdown",
   "id": "76d9cb50",
   "metadata": {},
   "source": [
    "#### lr=1e-05"
   ]
  },
  {
   "cell_type": "code",
   "execution_count": 35,
   "id": "23ed78ee",
   "metadata": {},
   "outputs": [
    {
     "name": "stdout",
     "output_type": "stream",
     "text": [
      "Found results for 50 sub-populations\n"
     ]
    },
    {
     "data": {
      "text/html": [
       "<div>\n",
       "<style scoped>\n",
       "    .dataframe tbody tr th:only-of-type {\n",
       "        vertical-align: middle;\n",
       "    }\n",
       "\n",
       "    .dataframe tbody tr th {\n",
       "        vertical-align: top;\n",
       "    }\n",
       "\n",
       "    .dataframe thead th {\n",
       "        text-align: right;\n",
       "    }\n",
       "</style>\n",
       "<table border=\"1\" class=\"dataframe\">\n",
       "  <thead>\n",
       "    <tr style=\"text-align: right;\">\n",
       "      <th></th>\n",
       "      <th>data_split</th>\n",
       "      <th>loss</th>\n",
       "      <th>perplexity</th>\n",
       "      <th>author</th>\n",
       "    </tr>\n",
       "  </thead>\n",
       "  <tbody>\n",
       "    <tr>\n",
       "      <th>0</th>\n",
       "      <td>train</td>\n",
       "      <td>2.599961</td>\n",
       "      <td>13.463215</td>\n",
       "      <td>lightlasertower</td>\n",
       "    </tr>\n",
       "    <tr>\n",
       "      <th>1</th>\n",
       "      <td>eval</td>\n",
       "      <td>2.205059</td>\n",
       "      <td>9.070785</td>\n",
       "      <td>lightlasertower</td>\n",
       "    </tr>\n",
       "    <tr>\n",
       "      <th>2</th>\n",
       "      <td>test</td>\n",
       "      <td>2.828444</td>\n",
       "      <td>16.919122</td>\n",
       "      <td>lightlasertower</td>\n",
       "    </tr>\n",
       "    <tr>\n",
       "      <th>0</th>\n",
       "      <td>train</td>\n",
       "      <td>2.052993</td>\n",
       "      <td>7.791189</td>\n",
       "      <td>peimom123</td>\n",
       "    </tr>\n",
       "    <tr>\n",
       "      <th>1</th>\n",
       "      <td>eval</td>\n",
       "      <td>1.848669</td>\n",
       "      <td>6.351360</td>\n",
       "      <td>peimom123</td>\n",
       "    </tr>\n",
       "    <tr>\n",
       "      <th>...</th>\n",
       "      <td>...</td>\n",
       "      <td>...</td>\n",
       "      <td>...</td>\n",
       "      <td>...</td>\n",
       "    </tr>\n",
       "    <tr>\n",
       "      <th>1</th>\n",
       "      <td>eval</td>\n",
       "      <td>1.804049</td>\n",
       "      <td>6.074194</td>\n",
       "      <td>Kennyv777</td>\n",
       "    </tr>\n",
       "    <tr>\n",
       "      <th>2</th>\n",
       "      <td>test</td>\n",
       "      <td>2.027661</td>\n",
       "      <td>7.596295</td>\n",
       "      <td>Kennyv777</td>\n",
       "    </tr>\n",
       "    <tr>\n",
       "      <th>0</th>\n",
       "      <td>train</td>\n",
       "      <td>2.120001</td>\n",
       "      <td>8.331147</td>\n",
       "      <td>blossbloss</td>\n",
       "    </tr>\n",
       "    <tr>\n",
       "      <th>1</th>\n",
       "      <td>eval</td>\n",
       "      <td>2.204881</td>\n",
       "      <td>9.069174</td>\n",
       "      <td>blossbloss</td>\n",
       "    </tr>\n",
       "    <tr>\n",
       "      <th>2</th>\n",
       "      <td>test</td>\n",
       "      <td>1.860049</td>\n",
       "      <td>6.424055</td>\n",
       "      <td>blossbloss</td>\n",
       "    </tr>\n",
       "  </tbody>\n",
       "</table>\n",
       "<p>150 rows × 4 columns</p>\n",
       "</div>"
      ],
      "text/plain": [
       "   data_split      loss  perplexity           author\n",
       "0       train  2.599961   13.463215  lightlasertower\n",
       "1        eval  2.205059    9.070785  lightlasertower\n",
       "2        test  2.828444   16.919122  lightlasertower\n",
       "0       train  2.052993    7.791189        peimom123\n",
       "1        eval  1.848669    6.351360        peimom123\n",
       "..        ...       ...         ...              ...\n",
       "1        eval  1.804049    6.074194        Kennyv777\n",
       "2        test  2.027661    7.596295        Kennyv777\n",
       "0       train  2.120001    8.331147       blossbloss\n",
       "1        eval  2.204881    9.069174       blossbloss\n",
       "2        test  1.860049    6.424055       blossbloss\n",
       "\n",
       "[150 rows x 4 columns]"
      ]
     },
     "execution_count": 35,
     "metadata": {},
     "output_type": "execute_result"
    }
   ],
   "source": [
    "rd_6_15 = os.path.join(base_result_dir, \"6_distilbert_finetuned_all_author\", \"3_3_epochs_lr_1e-5\")\n",
    "ea_6_15 = PerPopulationExpAnalyzer(rd_6_15, \"author\")\n",
    "ea_6_15.data_split_perf_df"
   ]
  },
  {
   "cell_type": "code",
   "execution_count": 36,
   "id": "c9997b08",
   "metadata": {},
   "outputs": [],
   "source": [
    "test_df_6_15 = ea_6_15.data_split_perf_df[ea_6_15.data_split_perf_df[\"data_split\"] == \"test\"]"
   ]
  },
  {
   "cell_type": "code",
   "execution_count": 37,
   "id": "b4e2d704",
   "metadata": {},
   "outputs": [
    {
     "data": {
      "text/plain": [
       "loss          2.152483\n",
       "perplexity    9.392736\n",
       "dtype: float64"
      ]
     },
     "execution_count": 37,
     "metadata": {},
     "output_type": "execute_result"
    }
   ],
   "source": [
    "test_df_6_15.mean()"
   ]
  },
  {
   "cell_type": "code",
   "execution_count": 38,
   "id": "119c29c7",
   "metadata": {},
   "outputs": [
    {
     "data": {
      "text/plain": [
       "loss          0.416811\n",
       "perplexity    4.362590\n",
       "dtype: float64"
      ]
     },
     "execution_count": 38,
     "metadata": {},
     "output_type": "execute_result"
    }
   ],
   "source": [
    "test_df_6_15.std()"
   ]
  },
  {
   "cell_type": "markdown",
   "id": "b28ef01c",
   "metadata": {},
   "source": [
    "#### lr=5e-06"
   ]
  },
  {
   "cell_type": "code",
   "execution_count": 39,
   "id": "b4441607",
   "metadata": {},
   "outputs": [
    {
     "name": "stdout",
     "output_type": "stream",
     "text": [
      "Found results for 50 sub-populations\n"
     ]
    },
    {
     "data": {
      "text/html": [
       "<div>\n",
       "<style scoped>\n",
       "    .dataframe tbody tr th:only-of-type {\n",
       "        vertical-align: middle;\n",
       "    }\n",
       "\n",
       "    .dataframe tbody tr th {\n",
       "        vertical-align: top;\n",
       "    }\n",
       "\n",
       "    .dataframe thead th {\n",
       "        text-align: right;\n",
       "    }\n",
       "</style>\n",
       "<table border=\"1\" class=\"dataframe\">\n",
       "  <thead>\n",
       "    <tr style=\"text-align: right;\">\n",
       "      <th></th>\n",
       "      <th>data_split</th>\n",
       "      <th>loss</th>\n",
       "      <th>perplexity</th>\n",
       "      <th>author</th>\n",
       "    </tr>\n",
       "  </thead>\n",
       "  <tbody>\n",
       "    <tr>\n",
       "      <th>0</th>\n",
       "      <td>train</td>\n",
       "      <td>2.252515</td>\n",
       "      <td>9.511629</td>\n",
       "      <td>closingbell</td>\n",
       "    </tr>\n",
       "    <tr>\n",
       "      <th>1</th>\n",
       "      <td>eval</td>\n",
       "      <td>2.020747</td>\n",
       "      <td>7.543958</td>\n",
       "      <td>closingbell</td>\n",
       "    </tr>\n",
       "    <tr>\n",
       "      <th>2</th>\n",
       "      <td>test</td>\n",
       "      <td>2.169914</td>\n",
       "      <td>8.757531</td>\n",
       "      <td>closingbell</td>\n",
       "    </tr>\n",
       "    <tr>\n",
       "      <th>0</th>\n",
       "      <td>train</td>\n",
       "      <td>1.858269</td>\n",
       "      <td>6.412629</td>\n",
       "      <td>HelloImLucas</td>\n",
       "    </tr>\n",
       "    <tr>\n",
       "      <th>1</th>\n",
       "      <td>eval</td>\n",
       "      <td>1.946663</td>\n",
       "      <td>7.005270</td>\n",
       "      <td>HelloImLucas</td>\n",
       "    </tr>\n",
       "    <tr>\n",
       "      <th>...</th>\n",
       "      <td>...</td>\n",
       "      <td>...</td>\n",
       "      <td>...</td>\n",
       "      <td>...</td>\n",
       "    </tr>\n",
       "    <tr>\n",
       "      <th>1</th>\n",
       "      <td>eval</td>\n",
       "      <td>2.223102</td>\n",
       "      <td>9.235939</td>\n",
       "      <td>wsace</td>\n",
       "    </tr>\n",
       "    <tr>\n",
       "      <th>2</th>\n",
       "      <td>test</td>\n",
       "      <td>1.917891</td>\n",
       "      <td>6.806587</td>\n",
       "      <td>wsace</td>\n",
       "    </tr>\n",
       "    <tr>\n",
       "      <th>0</th>\n",
       "      <td>train</td>\n",
       "      <td>2.328436</td>\n",
       "      <td>10.261882</td>\n",
       "      <td>BRoccoli20</td>\n",
       "    </tr>\n",
       "    <tr>\n",
       "      <th>1</th>\n",
       "      <td>eval</td>\n",
       "      <td>2.130356</td>\n",
       "      <td>8.417864</td>\n",
       "      <td>BRoccoli20</td>\n",
       "    </tr>\n",
       "    <tr>\n",
       "      <th>2</th>\n",
       "      <td>test</td>\n",
       "      <td>1.984599</td>\n",
       "      <td>7.276129</td>\n",
       "      <td>BRoccoli20</td>\n",
       "    </tr>\n",
       "  </tbody>\n",
       "</table>\n",
       "<p>150 rows × 4 columns</p>\n",
       "</div>"
      ],
      "text/plain": [
       "   data_split      loss  perplexity        author\n",
       "0       train  2.252515    9.511629   closingbell\n",
       "1        eval  2.020747    7.543958   closingbell\n",
       "2        test  2.169914    8.757531   closingbell\n",
       "0       train  1.858269    6.412629  HelloImLucas\n",
       "1        eval  1.946663    7.005270  HelloImLucas\n",
       "..        ...       ...         ...           ...\n",
       "1        eval  2.223102    9.235939         wsace\n",
       "2        test  1.917891    6.806587         wsace\n",
       "0       train  2.328436   10.261882    BRoccoli20\n",
       "1        eval  2.130356    8.417864    BRoccoli20\n",
       "2        test  1.984599    7.276129    BRoccoli20\n",
       "\n",
       "[150 rows x 4 columns]"
      ]
     },
     "execution_count": 39,
     "metadata": {},
     "output_type": "execute_result"
    }
   ],
   "source": [
    "rd_6_56 = os.path.join(base_result_dir, \"6_distilbert_finetuned_all_author\", \"3_3_epochs_lr_5e-6\")\n",
    "ea_6_56 = PerPopulationExpAnalyzer(rd_6_56, \"author\")\n",
    "ea_6_56.data_split_perf_df"
   ]
  },
  {
   "cell_type": "code",
   "execution_count": 40,
   "id": "e90a6a0d",
   "metadata": {},
   "outputs": [],
   "source": [
    "test_df_6_56 = ea_6_56.data_split_perf_df[ea_6_56.data_split_perf_df[\"data_split\"] == \"test\"]"
   ]
  },
  {
   "cell_type": "code",
   "execution_count": 41,
   "id": "16929bda",
   "metadata": {},
   "outputs": [
    {
     "data": {
      "text/plain": [
       "loss          2.159230\n",
       "perplexity    9.454112\n",
       "dtype: float64"
      ]
     },
     "execution_count": 41,
     "metadata": {},
     "output_type": "execute_result"
    }
   ],
   "source": [
    "test_df_6_56.mean()"
   ]
  },
  {
   "cell_type": "code",
   "execution_count": 42,
   "id": "4b78cf5b",
   "metadata": {},
   "outputs": [
    {
     "data": {
      "text/plain": [
       "loss          0.416104\n",
       "perplexity    4.390839\n",
       "dtype: float64"
      ]
     },
     "execution_count": 42,
     "metadata": {},
     "output_type": "execute_result"
    }
   ],
   "source": [
    "test_df_6_56.std()"
   ]
  },
  {
   "cell_type": "markdown",
   "id": "0394d966",
   "metadata": {},
   "source": [
    "## Fine-tune All Data (just 2 epochs)"
   ]
  },
  {
   "cell_type": "code",
   "execution_count": 43,
   "id": "dc96e596",
   "metadata": {},
   "outputs": [
    {
     "data": {
      "text/html": [
       "<div>\n",
       "<style scoped>\n",
       "    .dataframe tbody tr th:only-of-type {\n",
       "        vertical-align: middle;\n",
       "    }\n",
       "\n",
       "    .dataframe tbody tr th {\n",
       "        vertical-align: top;\n",
       "    }\n",
       "\n",
       "    .dataframe thead th {\n",
       "        text-align: right;\n",
       "    }\n",
       "</style>\n",
       "<table border=\"1\" class=\"dataframe\">\n",
       "  <thead>\n",
       "    <tr style=\"text-align: right;\">\n",
       "      <th></th>\n",
       "      <th>data_split</th>\n",
       "      <th>loss</th>\n",
       "      <th>perplexity</th>\n",
       "    </tr>\n",
       "  </thead>\n",
       "  <tbody>\n",
       "    <tr>\n",
       "      <th>0</th>\n",
       "      <td>train</td>\n",
       "      <td>2.096967</td>\n",
       "      <td>8.141440</td>\n",
       "    </tr>\n",
       "    <tr>\n",
       "      <th>1</th>\n",
       "      <td>eval</td>\n",
       "      <td>2.239995</td>\n",
       "      <td>9.393282</td>\n",
       "    </tr>\n",
       "    <tr>\n",
       "      <th>2</th>\n",
       "      <td>test</td>\n",
       "      <td>2.189264</td>\n",
       "      <td>8.928640</td>\n",
       "    </tr>\n",
       "  </tbody>\n",
       "</table>\n",
       "</div>"
      ],
      "text/plain": [
       "  data_split      loss  perplexity\n",
       "0      train  2.096967    8.141440\n",
       "1       eval  2.239995    9.393282\n",
       "2       test  2.189264    8.928640"
      ]
     },
     "execution_count": 43,
     "metadata": {},
     "output_type": "execute_result"
    }
   ],
   "source": [
    "rd_2b_2e = os.path.join(base_result_dir, \"2b_distilbert_finetuned_constant_lr_2_epochs\")\n",
    "ea_2b_2e = ExpAnalyzer(rd_2b_2e)\n",
    "ea_2b_2e.data_split_perf_df"
   ]
  },
  {
   "cell_type": "code",
   "execution_count": 44,
   "id": "5fb7e681",
   "metadata": {},
   "outputs": [
    {
     "data": {
      "text/plain": [
       "loss          2.216824\n",
       "perplexity    9.983422\n",
       "dtype: float64"
      ]
     },
     "execution_count": 44,
     "metadata": {},
     "output_type": "execute_result"
    }
   ],
   "source": [
    "ea_2b_2e.author_result_df.mean()"
   ]
  },
  {
   "cell_type": "code",
   "execution_count": 46,
   "id": "7e1c3f27",
   "metadata": {},
   "outputs": [
    {
     "data": {
      "text/plain": [
       "loss          0.412176\n",
       "perplexity    4.454463\n",
       "dtype: float64"
      ]
     },
     "execution_count": 46,
     "metadata": {},
     "output_type": "execute_result"
    }
   ],
   "source": [
    "ea_2b_2e.author_result_df.std()"
   ]
  },
  {
   "cell_type": "markdown",
   "id": "f465059a",
   "metadata": {},
   "source": [
    "## Fine-tune all 2 + Fine-tune user 1"
   ]
  },
  {
   "cell_type": "code",
   "execution_count": 47,
   "id": "0171b28c",
   "metadata": {},
   "outputs": [
    {
     "name": "stdout",
     "output_type": "stream",
     "text": [
      "Found results for 50 sub-populations\n"
     ]
    },
    {
     "data": {
      "text/html": [
       "<div>\n",
       "<style scoped>\n",
       "    .dataframe tbody tr th:only-of-type {\n",
       "        vertical-align: middle;\n",
       "    }\n",
       "\n",
       "    .dataframe tbody tr th {\n",
       "        vertical-align: top;\n",
       "    }\n",
       "\n",
       "    .dataframe thead th {\n",
       "        text-align: right;\n",
       "    }\n",
       "</style>\n",
       "<table border=\"1\" class=\"dataframe\">\n",
       "  <thead>\n",
       "    <tr style=\"text-align: right;\">\n",
       "      <th></th>\n",
       "      <th>data_split</th>\n",
       "      <th>loss</th>\n",
       "      <th>perplexity</th>\n",
       "      <th>author</th>\n",
       "    </tr>\n",
       "  </thead>\n",
       "  <tbody>\n",
       "    <tr>\n",
       "      <th>0</th>\n",
       "      <td>train</td>\n",
       "      <td>2.302821</td>\n",
       "      <td>10.002361</td>\n",
       "      <td>BRoccoli20</td>\n",
       "    </tr>\n",
       "    <tr>\n",
       "      <th>1</th>\n",
       "      <td>eval</td>\n",
       "      <td>2.194993</td>\n",
       "      <td>8.979938</td>\n",
       "      <td>BRoccoli20</td>\n",
       "    </tr>\n",
       "    <tr>\n",
       "      <th>2</th>\n",
       "      <td>test</td>\n",
       "      <td>2.007158</td>\n",
       "      <td>7.442139</td>\n",
       "      <td>BRoccoli20</td>\n",
       "    </tr>\n",
       "    <tr>\n",
       "      <th>0</th>\n",
       "      <td>train</td>\n",
       "      <td>2.634305</td>\n",
       "      <td>13.933625</td>\n",
       "      <td>lightlasertower</td>\n",
       "    </tr>\n",
       "    <tr>\n",
       "      <th>1</th>\n",
       "      <td>eval</td>\n",
       "      <td>3.119262</td>\n",
       "      <td>22.629667</td>\n",
       "      <td>lightlasertower</td>\n",
       "    </tr>\n",
       "    <tr>\n",
       "      <th>...</th>\n",
       "      <td>...</td>\n",
       "      <td>...</td>\n",
       "      <td>...</td>\n",
       "      <td>...</td>\n",
       "    </tr>\n",
       "    <tr>\n",
       "      <th>1</th>\n",
       "      <td>eval</td>\n",
       "      <td>2.485313</td>\n",
       "      <td>12.004882</td>\n",
       "      <td>hrrm</td>\n",
       "    </tr>\n",
       "    <tr>\n",
       "      <th>2</th>\n",
       "      <td>test</td>\n",
       "      <td>2.172009</td>\n",
       "      <td>8.775893</td>\n",
       "      <td>hrrm</td>\n",
       "    </tr>\n",
       "    <tr>\n",
       "      <th>0</th>\n",
       "      <td>train</td>\n",
       "      <td>2.464687</td>\n",
       "      <td>11.759801</td>\n",
       "      <td>KarmaKingKong</td>\n",
       "    </tr>\n",
       "    <tr>\n",
       "      <th>1</th>\n",
       "      <td>eval</td>\n",
       "      <td>2.304032</td>\n",
       "      <td>10.014476</td>\n",
       "      <td>KarmaKingKong</td>\n",
       "    </tr>\n",
       "    <tr>\n",
       "      <th>2</th>\n",
       "      <td>test</td>\n",
       "      <td>2.080423</td>\n",
       "      <td>8.007853</td>\n",
       "      <td>KarmaKingKong</td>\n",
       "    </tr>\n",
       "  </tbody>\n",
       "</table>\n",
       "<p>150 rows × 4 columns</p>\n",
       "</div>"
      ],
      "text/plain": [
       "   data_split      loss  perplexity           author\n",
       "0       train  2.302821   10.002361       BRoccoli20\n",
       "1        eval  2.194993    8.979938       BRoccoli20\n",
       "2        test  2.007158    7.442139       BRoccoli20\n",
       "0       train  2.634305   13.933625  lightlasertower\n",
       "1        eval  3.119262   22.629667  lightlasertower\n",
       "..        ...       ...         ...              ...\n",
       "1        eval  2.485313   12.004882             hrrm\n",
       "2        test  2.172009    8.775893             hrrm\n",
       "0       train  2.464687   11.759801    KarmaKingKong\n",
       "1        eval  2.304032   10.014476    KarmaKingKong\n",
       "2        test  2.080423    8.007853    KarmaKingKong\n",
       "\n",
       "[150 rows x 4 columns]"
      ]
     },
     "execution_count": 47,
     "metadata": {},
     "output_type": "execute_result"
    }
   ],
   "source": [
    "rd_6_21 = os.path.join(base_result_dir, \"6_distilbert_finetuned_all_author\", \"2_1_epochs_lr_5e-5\")\n",
    "ea_6_21 = PerPopulationExpAnalyzer(rd_6_21, \"author\")\n",
    "ea_6_21.data_split_perf_df"
   ]
  },
  {
   "cell_type": "code",
   "execution_count": 48,
   "id": "668c4920",
   "metadata": {},
   "outputs": [],
   "source": [
    "test_df_6_21 = ea_6_21.data_split_perf_df[ea_6_21.data_split_perf_df[\"data_split\"] == \"test\"]"
   ]
  },
  {
   "cell_type": "code",
   "execution_count": 49,
   "id": "0c6579a6",
   "metadata": {},
   "outputs": [
    {
     "data": {
      "text/plain": [
       "loss          2.201611\n",
       "perplexity    9.846082\n",
       "dtype: float64"
      ]
     },
     "execution_count": 49,
     "metadata": {},
     "output_type": "execute_result"
    }
   ],
   "source": [
    "test_df_6_21.mean()"
   ]
  },
  {
   "cell_type": "code",
   "execution_count": 50,
   "id": "b2319769",
   "metadata": {},
   "outputs": [
    {
     "data": {
      "text/plain": [
       "loss          0.414254\n",
       "perplexity    4.437918\n",
       "dtype: float64"
      ]
     },
     "execution_count": 50,
     "metadata": {},
     "output_type": "execute_result"
    }
   ],
   "source": [
    "test_df_6_21.std()"
   ]
  },
  {
   "cell_type": "code",
   "execution_count": null,
   "id": "13595eb2",
   "metadata": {},
   "outputs": [],
   "source": []
  },
  {
   "cell_type": "markdown",
   "id": "42f9d9d5",
   "metadata": {},
   "source": [
    "## Fine-Tune All 6 epochs"
   ]
  },
  {
   "cell_type": "code",
   "execution_count": 52,
   "id": "27c086e9",
   "metadata": {},
   "outputs": [
    {
     "data": {
      "text/html": [
       "<div>\n",
       "<style scoped>\n",
       "    .dataframe tbody tr th:only-of-type {\n",
       "        vertical-align: middle;\n",
       "    }\n",
       "\n",
       "    .dataframe tbody tr th {\n",
       "        vertical-align: top;\n",
       "    }\n",
       "\n",
       "    .dataframe thead th {\n",
       "        text-align: right;\n",
       "    }\n",
       "</style>\n",
       "<table border=\"1\" class=\"dataframe\">\n",
       "  <thead>\n",
       "    <tr style=\"text-align: right;\">\n",
       "      <th></th>\n",
       "      <th>data_split</th>\n",
       "      <th>loss</th>\n",
       "      <th>perplexity</th>\n",
       "    </tr>\n",
       "  </thead>\n",
       "  <tbody>\n",
       "    <tr>\n",
       "      <th>0</th>\n",
       "      <td>train</td>\n",
       "      <td>1.926833</td>\n",
       "      <td>6.867727</td>\n",
       "    </tr>\n",
       "    <tr>\n",
       "      <th>1</th>\n",
       "      <td>eval</td>\n",
       "      <td>2.095439</td>\n",
       "      <td>8.129012</td>\n",
       "    </tr>\n",
       "    <tr>\n",
       "      <th>2</th>\n",
       "      <td>test</td>\n",
       "      <td>2.075626</td>\n",
       "      <td>7.969537</td>\n",
       "    </tr>\n",
       "  </tbody>\n",
       "</table>\n",
       "</div>"
      ],
      "text/plain": [
       "  data_split      loss  perplexity\n",
       "0      train  1.926833    6.867727\n",
       "1       eval  2.095439    8.129012\n",
       "2       test  2.075626    7.969537"
      ]
     },
     "execution_count": 52,
     "metadata": {},
     "output_type": "execute_result"
    }
   ],
   "source": [
    "rd_2c = os.path.join(base_result_dir, \"2c_distilbert_finetuned_all_6_epochs\")\n",
    "ea_2c = ExpAnalyzer(rd_2c)\n",
    "ea_2c.data_split_perf_df"
   ]
  },
  {
   "cell_type": "code",
   "execution_count": 53,
   "id": "0618ce7d",
   "metadata": {},
   "outputs": [
    {
     "data": {
      "text/plain": [
       "loss          2.094127\n",
       "perplexity    8.878195\n",
       "dtype: float64"
      ]
     },
     "execution_count": 53,
     "metadata": {},
     "output_type": "execute_result"
    }
   ],
   "source": [
    "ea_2c.author_result_df.mean()"
   ]
  },
  {
   "cell_type": "code",
   "execution_count": 54,
   "id": "d61ddbed",
   "metadata": {},
   "outputs": [
    {
     "data": {
      "text/plain": [
       "loss          0.422024\n",
       "perplexity    4.215700\n",
       "dtype: float64"
      ]
     },
     "execution_count": 54,
     "metadata": {},
     "output_type": "execute_result"
    }
   ],
   "source": [
    "ea_2c.author_result_df.std()"
   ]
  },
  {
   "cell_type": "markdown",
   "id": "9e461e1d",
   "metadata": {},
   "source": [
    "## Subreddit Fine-Tune - Per Sample Losses"
   ]
  },
  {
   "cell_type": "code",
   "execution_count": 61,
   "id": "70c80def",
   "metadata": {},
   "outputs": [
    {
     "name": "stdout",
     "output_type": "stream",
     "text": [
      "Found results for 6 sub-populations\n"
     ]
    },
    {
     "data": {
      "text/html": [
       "<div>\n",
       "<style scoped>\n",
       "    .dataframe tbody tr th:only-of-type {\n",
       "        vertical-align: middle;\n",
       "    }\n",
       "\n",
       "    .dataframe tbody tr th {\n",
       "        vertical-align: top;\n",
       "    }\n",
       "\n",
       "    .dataframe thead th {\n",
       "        text-align: right;\n",
       "    }\n",
       "</style>\n",
       "<table border=\"1\" class=\"dataframe\">\n",
       "  <thead>\n",
       "    <tr style=\"text-align: right;\">\n",
       "      <th></th>\n",
       "      <th>data_split</th>\n",
       "      <th>loss</th>\n",
       "      <th>perplexity</th>\n",
       "      <th>subreddit</th>\n",
       "    </tr>\n",
       "  </thead>\n",
       "  <tbody>\n",
       "    <tr>\n",
       "      <th>0</th>\n",
       "      <td>test</td>\n",
       "      <td>1.984499</td>\n",
       "      <td>7.275399</td>\n",
       "      <td>relationships</td>\n",
       "    </tr>\n",
       "    <tr>\n",
       "      <th>0</th>\n",
       "      <td>test</td>\n",
       "      <td>2.199799</td>\n",
       "      <td>9.023196</td>\n",
       "      <td>mentalhealth</td>\n",
       "    </tr>\n",
       "    <tr>\n",
       "      <th>0</th>\n",
       "      <td>test</td>\n",
       "      <td>1.914430</td>\n",
       "      <td>6.783074</td>\n",
       "      <td>relationship_advice</td>\n",
       "    </tr>\n",
       "    <tr>\n",
       "      <th>0</th>\n",
       "      <td>test</td>\n",
       "      <td>2.260057</td>\n",
       "      <td>9.583633</td>\n",
       "      <td>investing</td>\n",
       "    </tr>\n",
       "    <tr>\n",
       "      <th>0</th>\n",
       "      <td>test</td>\n",
       "      <td>2.291697</td>\n",
       "      <td>9.891705</td>\n",
       "      <td>Bitcoin</td>\n",
       "    </tr>\n",
       "    <tr>\n",
       "      <th>0</th>\n",
       "      <td>test</td>\n",
       "      <td>2.092766</td>\n",
       "      <td>8.107306</td>\n",
       "      <td>AskDocs</td>\n",
       "    </tr>\n",
       "  </tbody>\n",
       "</table>\n",
       "</div>"
      ],
      "text/plain": [
       "  data_split      loss  perplexity            subreddit\n",
       "0       test  1.984499    7.275399        relationships\n",
       "0       test  2.199799    9.023196         mentalhealth\n",
       "0       test  1.914430    6.783074  relationship_advice\n",
       "0       test  2.260057    9.583633            investing\n",
       "0       test  2.291697    9.891705              Bitcoin\n",
       "0       test  2.092766    8.107306              AskDocs"
      ]
     },
     "execution_count": 61,
     "metadata": {},
     "output_type": "execute_result"
    }
   ],
   "source": [
    "rd_4b = os.path.join(base_result_dir, \"4b_distilbert_finetuned_subreddit_sample_eval\")\n",
    "ea_4b = PerPopulationExpAnalyzer(rd_4b, \"subreddit\")\n",
    "ea_4b.data_split_perf_df"
   ]
  },
  {
   "cell_type": "code",
   "execution_count": 62,
   "id": "45a84f18",
   "metadata": {},
   "outputs": [
    {
     "data": {
      "text/html": [
       "<div>\n",
       "<style scoped>\n",
       "    .dataframe tbody tr th:only-of-type {\n",
       "        vertical-align: middle;\n",
       "    }\n",
       "\n",
       "    .dataframe tbody tr th {\n",
       "        vertical-align: top;\n",
       "    }\n",
       "\n",
       "    .dataframe thead th {\n",
       "        text-align: right;\n",
       "    }\n",
       "</style>\n",
       "<table border=\"1\" class=\"dataframe\">\n",
       "  <thead>\n",
       "    <tr style=\"text-align: right;\">\n",
       "      <th></th>\n",
       "      <th>Unnamed: 0</th>\n",
       "      <th>id</th>\n",
       "      <th>loss</th>\n",
       "      <th>subreddit</th>\n",
       "    </tr>\n",
       "  </thead>\n",
       "  <tbody>\n",
       "    <tr>\n",
       "      <th>0</th>\n",
       "      <td>0</td>\n",
       "      <td>3k1pb8</td>\n",
       "      <td>2.197476</td>\n",
       "      <td>relationships</td>\n",
       "    </tr>\n",
       "    <tr>\n",
       "      <th>1</th>\n",
       "      <td>1</td>\n",
       "      <td>3qx8q8</td>\n",
       "      <td>1.726905</td>\n",
       "      <td>relationships</td>\n",
       "    </tr>\n",
       "    <tr>\n",
       "      <th>2</th>\n",
       "      <td>2</td>\n",
       "      <td>3s4h59</td>\n",
       "      <td>1.331028</td>\n",
       "      <td>relationships</td>\n",
       "    </tr>\n",
       "    <tr>\n",
       "      <th>3</th>\n",
       "      <td>3</td>\n",
       "      <td>4i9hbw</td>\n",
       "      <td>2.645278</td>\n",
       "      <td>relationships</td>\n",
       "    </tr>\n",
       "    <tr>\n",
       "      <th>4</th>\n",
       "      <td>4</td>\n",
       "      <td>5sz6u7</td>\n",
       "      <td>2.322477</td>\n",
       "      <td>relationships</td>\n",
       "    </tr>\n",
       "    <tr>\n",
       "      <th>...</th>\n",
       "      <td>...</td>\n",
       "      <td>...</td>\n",
       "      <td>...</td>\n",
       "      <td>...</td>\n",
       "    </tr>\n",
       "    <tr>\n",
       "      <th>71</th>\n",
       "      <td>71</td>\n",
       "      <td>jlz5y6</td>\n",
       "      <td>1.971650</td>\n",
       "      <td>AskDocs</td>\n",
       "    </tr>\n",
       "    <tr>\n",
       "      <th>72</th>\n",
       "      <td>72</td>\n",
       "      <td>jyjrz1</td>\n",
       "      <td>2.721585</td>\n",
       "      <td>AskDocs</td>\n",
       "    </tr>\n",
       "    <tr>\n",
       "      <th>73</th>\n",
       "      <td>73</td>\n",
       "      <td>k2vcqn</td>\n",
       "      <td>0.954532</td>\n",
       "      <td>AskDocs</td>\n",
       "    </tr>\n",
       "    <tr>\n",
       "      <th>74</th>\n",
       "      <td>74</td>\n",
       "      <td>kdp5wv</td>\n",
       "      <td>2.133715</td>\n",
       "      <td>AskDocs</td>\n",
       "    </tr>\n",
       "    <tr>\n",
       "      <th>75</th>\n",
       "      <td>75</td>\n",
       "      <td>kkjrlh</td>\n",
       "      <td>2.837158</td>\n",
       "      <td>AskDocs</td>\n",
       "    </tr>\n",
       "  </tbody>\n",
       "</table>\n",
       "<p>521 rows × 4 columns</p>\n",
       "</div>"
      ],
      "text/plain": [
       "    Unnamed: 0      id      loss      subreddit\n",
       "0            0  3k1pb8  2.197476  relationships\n",
       "1            1  3qx8q8  1.726905  relationships\n",
       "2            2  3s4h59  1.331028  relationships\n",
       "3            3  4i9hbw  2.645278  relationships\n",
       "4            4  5sz6u7  2.322477  relationships\n",
       "..         ...     ...       ...            ...\n",
       "71          71  jlz5y6  1.971650        AskDocs\n",
       "72          72  jyjrz1  2.721585        AskDocs\n",
       "73          73  k2vcqn  0.954532        AskDocs\n",
       "74          74  kdp5wv  2.133715        AskDocs\n",
       "75          75  kkjrlh  2.837158        AskDocs\n",
       "\n",
       "[521 rows x 4 columns]"
      ]
     },
     "execution_count": 62,
     "metadata": {},
     "output_type": "execute_result"
    }
   ],
   "source": [
    "ea_4b.sample_losses_df"
   ]
  },
  {
   "cell_type": "code",
   "execution_count": 63,
   "id": "f815f2b4",
   "metadata": {},
   "outputs": [],
   "source": [
    "merged_df_4b = ea_4b.sample_losses_df.merge(test_df, on=\"id\", how=\"inner\")"
   ]
  },
  {
   "cell_type": "code",
   "execution_count": 64,
   "id": "f5a744d7",
   "metadata": {},
   "outputs": [
    {
     "data": {
      "text/plain": [
       "521"
      ]
     },
     "execution_count": 64,
     "metadata": {},
     "output_type": "execute_result"
    }
   ],
   "source": [
    "len(merged_df_4b)"
   ]
  },
  {
   "cell_type": "code",
   "execution_count": 72,
   "id": "9d773d30",
   "metadata": {},
   "outputs": [],
   "source": [
    "user_results_4b = merged_df_4b.groupby(\"author\").mean()[\"loss\"].to_frame()"
   ]
  },
  {
   "cell_type": "code",
   "execution_count": 75,
   "id": "9188c7c2",
   "metadata": {},
   "outputs": [],
   "source": [
    "user_results_4b[\"perplexity\"] = user_results_4b[\"loss\"].apply(lambda x: loss_to_perplexity(x))"
   ]
  },
  {
   "cell_type": "code",
   "execution_count": 77,
   "id": "47f0cf28",
   "metadata": {},
   "outputs": [
    {
     "data": {
      "text/plain": [
       "10.230638442759604"
      ]
     },
     "execution_count": 77,
     "metadata": {},
     "output_type": "execute_result"
    }
   ],
   "source": [
    "user_results_4b[\"perplexity\"].mean()"
   ]
  },
  {
   "cell_type": "code",
   "execution_count": 78,
   "id": "998444c6",
   "metadata": {},
   "outputs": [
    {
     "data": {
      "text/plain": [
       "5.537939771852542"
      ]
     },
     "execution_count": 78,
     "metadata": {},
     "output_type": "execute_result"
    }
   ],
   "source": [
    "user_results_4b[\"perplexity\"].std()"
   ]
  },
  {
   "cell_type": "markdown",
   "id": "742a6761",
   "metadata": {},
   "source": [
    "## Sample Weighting - .5"
   ]
  },
  {
   "cell_type": "code",
   "execution_count": 8,
   "id": "f1b72674",
   "metadata": {},
   "outputs": [
    {
     "name": "stdout",
     "output_type": "stream",
     "text": [
      "Found results for 50 sub-populations\n"
     ]
    },
    {
     "data": {
      "text/html": [
       "<div>\n",
       "<style scoped>\n",
       "    .dataframe tbody tr th:only-of-type {\n",
       "        vertical-align: middle;\n",
       "    }\n",
       "\n",
       "    .dataframe tbody tr th {\n",
       "        vertical-align: top;\n",
       "    }\n",
       "\n",
       "    .dataframe thead th {\n",
       "        text-align: right;\n",
       "    }\n",
       "</style>\n",
       "<table border=\"1\" class=\"dataframe\">\n",
       "  <thead>\n",
       "    <tr style=\"text-align: right;\">\n",
       "      <th></th>\n",
       "      <th>data_split</th>\n",
       "      <th>loss</th>\n",
       "      <th>perplexity</th>\n",
       "      <th>author</th>\n",
       "    </tr>\n",
       "  </thead>\n",
       "  <tbody>\n",
       "    <tr>\n",
       "      <th>0</th>\n",
       "      <td>train</td>\n",
       "      <td>NaN</td>\n",
       "      <td>NaN</td>\n",
       "      <td>glittertoes1</td>\n",
       "    </tr>\n",
       "    <tr>\n",
       "      <th>1</th>\n",
       "      <td>eval</td>\n",
       "      <td>1.714517</td>\n",
       "      <td>5.553990</td>\n",
       "      <td>glittertoes1</td>\n",
       "    </tr>\n",
       "    <tr>\n",
       "      <th>2</th>\n",
       "      <td>test</td>\n",
       "      <td>1.913946</td>\n",
       "      <td>6.779786</td>\n",
       "      <td>glittertoes1</td>\n",
       "    </tr>\n",
       "    <tr>\n",
       "      <th>0</th>\n",
       "      <td>train</td>\n",
       "      <td>NaN</td>\n",
       "      <td>NaN</td>\n",
       "      <td>exab</td>\n",
       "    </tr>\n",
       "    <tr>\n",
       "      <th>1</th>\n",
       "      <td>eval</td>\n",
       "      <td>2.010414</td>\n",
       "      <td>7.466405</td>\n",
       "      <td>exab</td>\n",
       "    </tr>\n",
       "    <tr>\n",
       "      <th>...</th>\n",
       "      <td>...</td>\n",
       "      <td>...</td>\n",
       "      <td>...</td>\n",
       "      <td>...</td>\n",
       "    </tr>\n",
       "    <tr>\n",
       "      <th>1</th>\n",
       "      <td>eval</td>\n",
       "      <td>1.746887</td>\n",
       "      <td>5.736717</td>\n",
       "      <td>goodluckchuck11</td>\n",
       "    </tr>\n",
       "    <tr>\n",
       "      <th>2</th>\n",
       "      <td>test</td>\n",
       "      <td>1.872536</td>\n",
       "      <td>6.504774</td>\n",
       "      <td>goodluckchuck11</td>\n",
       "    </tr>\n",
       "    <tr>\n",
       "      <th>0</th>\n",
       "      <td>train</td>\n",
       "      <td>NaN</td>\n",
       "      <td>NaN</td>\n",
       "      <td>Olliebkl</td>\n",
       "    </tr>\n",
       "    <tr>\n",
       "      <th>1</th>\n",
       "      <td>eval</td>\n",
       "      <td>2.026592</td>\n",
       "      <td>7.588184</td>\n",
       "      <td>Olliebkl</td>\n",
       "    </tr>\n",
       "    <tr>\n",
       "      <th>2</th>\n",
       "      <td>test</td>\n",
       "      <td>2.241550</td>\n",
       "      <td>9.407904</td>\n",
       "      <td>Olliebkl</td>\n",
       "    </tr>\n",
       "  </tbody>\n",
       "</table>\n",
       "<p>150 rows × 4 columns</p>\n",
       "</div>"
      ],
      "text/plain": [
       "   data_split      loss  perplexity           author\n",
       "0       train       NaN         NaN     glittertoes1\n",
       "1        eval  1.714517    5.553990     glittertoes1\n",
       "2        test  1.913946    6.779786     glittertoes1\n",
       "0       train       NaN         NaN             exab\n",
       "1        eval  2.010414    7.466405             exab\n",
       "..        ...       ...         ...              ...\n",
       "1        eval  1.746887    5.736717  goodluckchuck11\n",
       "2        test  1.872536    6.504774  goodluckchuck11\n",
       "0       train       NaN         NaN         Olliebkl\n",
       "1        eval  2.026592    7.588184         Olliebkl\n",
       "2        test  2.241550    9.407904         Olliebkl\n",
       "\n",
       "[150 rows x 4 columns]"
      ]
     },
     "execution_count": 8,
     "metadata": {},
     "output_type": "execute_result"
    }
   ],
   "source": [
    "rd_5 = os.path.join(base_result_dir, \"5_distilbert_sw_author_.9\")\n",
    "ea_5 = PerPopulationExpAnalyzer(rd_5, \"author\")\n",
    "ea_5.data_split_perf_df"
   ]
  },
  {
   "cell_type": "code",
   "execution_count": 9,
   "id": "1d462d7f",
   "metadata": {},
   "outputs": [],
   "source": [
    "test_df_5 = ea_5.data_split_perf_df[ea_5.data_split_perf_df[\"data_split\"] == \"test\"]"
   ]
  },
  {
   "cell_type": "code",
   "execution_count": 10,
   "id": "96d04a5f",
   "metadata": {},
   "outputs": [
    {
     "data": {
      "text/plain": [
       "loss           2.233980\n",
       "perplexity    10.195263\n",
       "dtype: float64"
      ]
     },
     "execution_count": 10,
     "metadata": {},
     "output_type": "execute_result"
    }
   ],
   "source": [
    "test_df_5.mean()"
   ]
  },
  {
   "cell_type": "code",
   "execution_count": 11,
   "id": "9d52fabf",
   "metadata": {},
   "outputs": [
    {
     "data": {
      "text/plain": [
       "loss          0.419709\n",
       "perplexity    4.689084\n",
       "dtype: float64"
      ]
     },
     "execution_count": 11,
     "metadata": {},
     "output_type": "execute_result"
    }
   ],
   "source": [
    "test_df_5.std()"
   ]
  }
 ],
 "metadata": {
  "kernelspec": {
   "display_name": "Python 3",
   "language": "python",
   "name": "python3"
  },
  "language_info": {
   "codemirror_mode": {
    "name": "ipython",
    "version": 3
   },
   "file_extension": ".py",
   "mimetype": "text/x-python",
   "name": "python",
   "nbconvert_exporter": "python",
   "pygments_lexer": "ipython3",
   "version": "3.8.10"
  }
 },
 "nbformat": 4,
 "nbformat_minor": 5
}
