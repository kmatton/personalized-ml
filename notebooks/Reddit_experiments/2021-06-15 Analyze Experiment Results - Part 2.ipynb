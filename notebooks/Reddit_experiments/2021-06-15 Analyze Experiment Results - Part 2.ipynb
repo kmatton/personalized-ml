{
 "cells": [
  {
   "cell_type": "code",
   "execution_count": 1,
   "id": "7b8d6cde",
   "metadata": {},
   "outputs": [],
   "source": [
    "%load_ext autoreload\n",
    "%autoreload 2"
   ]
  },
  {
   "cell_type": "code",
   "execution_count": 2,
   "id": "f159a49e",
   "metadata": {},
   "outputs": [],
   "source": [
    "import os\n",
    "import sys\n",
    "sys.path.append(\"../src/\")\n",
    "import json\n",
    "\n",
    "import numpy as np\n",
    "import pandas as pd\n",
    "import math\n",
    "from datasets import Dataset, list_metrics, load_metric\n",
    "from transformers import AutoConfig, AutoTokenizer, AutoModelForMaskedLM, DataCollatorForLanguageModeling, Trainer\n",
    "\n",
    "import matplotlib.pyplot as plt\n",
    "import seaborn as sns\n",
    "sns.set_theme()\n",
    "\n",
    "from results_analysis.analyze_exp_results import ExpAnalyzer"
   ]
  },
  {
   "cell_type": "code",
   "execution_count": 3,
   "id": "b6cf8683",
   "metadata": {},
   "outputs": [],
   "source": [
    "base_result_dir = \"/data/ddmg/redditlanguagemodeling/results/\""
   ]
  },
  {
   "cell_type": "markdown",
   "id": "7fbdd967",
   "metadata": {},
   "source": [
    "## Pre-trained BERT results"
   ]
  },
  {
   "cell_type": "code",
   "execution_count": 4,
   "id": "2cbcd2ef",
   "metadata": {},
   "outputs": [],
   "source": [
    "result_dir1 = os.path.join(base_result_dir, \"1_bert_pretrained\")"
   ]
  },
  {
   "cell_type": "code",
   "execution_count": 16,
   "id": "a0ba14b8",
   "metadata": {},
   "outputs": [],
   "source": [
    "exp_analyzer1 = ExpAnalyzer(result_dir1)"
   ]
  },
  {
   "cell_type": "code",
   "execution_count": 6,
   "id": "fb645177",
   "metadata": {},
   "outputs": [
    {
     "data": {
      "text/html": [
       "<div>\n",
       "<style scoped>\n",
       "    .dataframe tbody tr th:only-of-type {\n",
       "        vertical-align: middle;\n",
       "    }\n",
       "\n",
       "    .dataframe tbody tr th {\n",
       "        vertical-align: top;\n",
       "    }\n",
       "\n",
       "    .dataframe thead th {\n",
       "        text-align: right;\n",
       "    }\n",
       "</style>\n",
       "<table border=\"1\" class=\"dataframe\">\n",
       "  <thead>\n",
       "    <tr style=\"text-align: right;\">\n",
       "      <th></th>\n",
       "      <th>data_split</th>\n",
       "      <th>loss</th>\n",
       "      <th>perplexity</th>\n",
       "    </tr>\n",
       "  </thead>\n",
       "  <tbody>\n",
       "    <tr>\n",
       "      <th>0</th>\n",
       "      <td>eval</td>\n",
       "      <td>2.691654</td>\n",
       "      <td>14.756065</td>\n",
       "    </tr>\n",
       "    <tr>\n",
       "      <th>1</th>\n",
       "      <td>test</td>\n",
       "      <td>2.721556</td>\n",
       "      <td>15.203968</td>\n",
       "    </tr>\n",
       "  </tbody>\n",
       "</table>\n",
       "</div>"
      ],
      "text/plain": [
       "  data_split      loss  perplexity\n",
       "0       eval  2.691654   14.756065\n",
       "1       test  2.721556   15.203968"
      ]
     },
     "execution_count": 6,
     "metadata": {},
     "output_type": "execute_result"
    }
   ],
   "source": [
    "exp_analyzer1.data_split_perf_df"
   ]
  },
  {
   "cell_type": "code",
   "execution_count": 7,
   "id": "f82e96b7",
   "metadata": {},
   "outputs": [
    {
     "data": {
      "text/html": [
       "<div>\n",
       "<style scoped>\n",
       "    .dataframe tbody tr th:only-of-type {\n",
       "        vertical-align: middle;\n",
       "    }\n",
       "\n",
       "    .dataframe tbody tr th {\n",
       "        vertical-align: top;\n",
       "    }\n",
       "\n",
       "    .dataframe thead th {\n",
       "        text-align: right;\n",
       "    }\n",
       "</style>\n",
       "<table border=\"1\" class=\"dataframe\">\n",
       "  <thead>\n",
       "    <tr style=\"text-align: right;\">\n",
       "      <th></th>\n",
       "      <th>subreddit</th>\n",
       "      <th>loss</th>\n",
       "      <th>perplexity</th>\n",
       "    </tr>\n",
       "  </thead>\n",
       "  <tbody>\n",
       "    <tr>\n",
       "      <th>0</th>\n",
       "      <td>AskDocs</td>\n",
       "      <td>2.801101</td>\n",
       "      <td>16.462758</td>\n",
       "    </tr>\n",
       "    <tr>\n",
       "      <th>1</th>\n",
       "      <td>Bitcoin</td>\n",
       "      <td>2.726657</td>\n",
       "      <td>15.281713</td>\n",
       "    </tr>\n",
       "    <tr>\n",
       "      <th>2</th>\n",
       "      <td>family</td>\n",
       "      <td>2.453645</td>\n",
       "      <td>11.630666</td>\n",
       "    </tr>\n",
       "    <tr>\n",
       "      <th>3</th>\n",
       "      <td>investing</td>\n",
       "      <td>2.748518</td>\n",
       "      <td>15.619470</td>\n",
       "    </tr>\n",
       "    <tr>\n",
       "      <th>4</th>\n",
       "      <td>medical</td>\n",
       "      <td>3.063607</td>\n",
       "      <td>21.404629</td>\n",
       "    </tr>\n",
       "    <tr>\n",
       "      <th>5</th>\n",
       "      <td>mentalhealth</td>\n",
       "      <td>2.660845</td>\n",
       "      <td>14.308375</td>\n",
       "    </tr>\n",
       "    <tr>\n",
       "      <th>6</th>\n",
       "      <td>personalfinance</td>\n",
       "      <td>2.540106</td>\n",
       "      <td>12.681016</td>\n",
       "    </tr>\n",
       "    <tr>\n",
       "      <th>7</th>\n",
       "      <td>relationship_advice</td>\n",
       "      <td>2.670200</td>\n",
       "      <td>14.442859</td>\n",
       "    </tr>\n",
       "    <tr>\n",
       "      <th>8</th>\n",
       "      <td>relationships</td>\n",
       "      <td>2.385309</td>\n",
       "      <td>10.862418</td>\n",
       "    </tr>\n",
       "  </tbody>\n",
       "</table>\n",
       "</div>"
      ],
      "text/plain": [
       "             subreddit      loss  perplexity\n",
       "0              AskDocs  2.801101   16.462758\n",
       "1              Bitcoin  2.726657   15.281713\n",
       "2               family  2.453645   11.630666\n",
       "3            investing  2.748518   15.619470\n",
       "4              medical  3.063607   21.404629\n",
       "5         mentalhealth  2.660845   14.308375\n",
       "6      personalfinance  2.540106   12.681016\n",
       "7  relationship_advice  2.670200   14.442859\n",
       "8        relationships  2.385309   10.862418"
      ]
     },
     "execution_count": 7,
     "metadata": {},
     "output_type": "execute_result"
    }
   ],
   "source": [
    "exp_analyzer1.sr_result_df"
   ]
  },
  {
   "cell_type": "code",
   "execution_count": 9,
   "id": "abffe102",
   "metadata": {},
   "outputs": [
    {
     "data": {
      "text/plain": [
       "loss           2.672221\n",
       "perplexity    14.743767\n",
       "dtype: float64"
      ]
     },
     "execution_count": 9,
     "metadata": {},
     "output_type": "execute_result"
    }
   ],
   "source": [
    "exp_analyzer1.sr_result_df.mean()"
   ]
  },
  {
   "cell_type": "code",
   "execution_count": 11,
   "id": "ae88a57a",
   "metadata": {},
   "outputs": [
    {
     "data": {
      "text/plain": [
       "loss          0.201947\n",
       "perplexity    3.115878\n",
       "dtype: float64"
      ]
     },
     "execution_count": 11,
     "metadata": {},
     "output_type": "execute_result"
    }
   ],
   "source": [
    "exp_analyzer1.sr_result_df.std()"
   ]
  },
  {
   "cell_type": "code",
   "execution_count": 8,
   "id": "da8b8953",
   "metadata": {},
   "outputs": [
    {
     "data": {
      "image/png": "[encoded data removed]",
      "text/plain": [
       "<Figure size 576x288 with 1 Axes>"
      ]
     },
     "metadata": {},
     "output_type": "display_data"
    },
    {
     "data": {
      "text/plain": [
       "<Figure size 432x288 with 0 Axes>"
      ]
     },
     "metadata": {},
     "output_type": "display_data"
    }
   ],
   "source": [
    "exp_analyzer1.plot_perf_by_subreddit(\"loss\")"
   ]
  },
  {
   "cell_type": "code",
   "execution_count": 12,
   "id": "62002ae7",
   "metadata": {},
   "outputs": [
    {
     "data": {
      "image/png": "[encoded data removed]",
      "text/plain": [
       "<Figure size 576x288 with 1 Axes>"
      ]
     },
     "metadata": {},
     "output_type": "display_data"
    },
    {
     "data": {
      "text/plain": [
       "<Figure size 432x288 with 0 Axes>"
      ]
     },
     "metadata": {},
     "output_type": "display_data"
    }
   ],
   "source": [
    "exp_analyzer1.plot_perf_by_subreddit(\"perplexity\")"
   ]
  },
  {
   "cell_type": "code",
   "execution_count": 6,
   "id": "46ea1c74",
   "metadata": {},
   "outputs": [
    {
     "data": {
      "text/html": [
       "<div>\n",
       "<style scoped>\n",
       "    .dataframe tbody tr th:only-of-type {\n",
       "        vertical-align: middle;\n",
       "    }\n",
       "\n",
       "    .dataframe tbody tr th {\n",
       "        vertical-align: top;\n",
       "    }\n",
       "\n",
       "    .dataframe thead th {\n",
       "        text-align: right;\n",
       "    }\n",
       "</style>\n",
       "<table border=\"1\" class=\"dataframe\">\n",
       "  <thead>\n",
       "    <tr style=\"text-align: right;\">\n",
       "      <th></th>\n",
       "      <th>author</th>\n",
       "      <th>loss</th>\n",
       "      <th>perplexity</th>\n",
       "    </tr>\n",
       "  </thead>\n",
       "  <tbody>\n",
       "    <tr>\n",
       "      <th>0</th>\n",
       "      <td>101111</td>\n",
       "      <td>4.408317</td>\n",
       "      <td>82.131089</td>\n",
       "    </tr>\n",
       "    <tr>\n",
       "      <th>1</th>\n",
       "      <td>123wanderlust</td>\n",
       "      <td>3.090852</td>\n",
       "      <td>21.995821</td>\n",
       "    </tr>\n",
       "    <tr>\n",
       "      <th>2</th>\n",
       "      <td>19931</td>\n",
       "      <td>2.140934</td>\n",
       "      <td>8.507380</td>\n",
       "    </tr>\n",
       "    <tr>\n",
       "      <th>3</th>\n",
       "      <td>1blockologist</td>\n",
       "      <td>2.743612</td>\n",
       "      <td>15.543026</td>\n",
       "    </tr>\n",
       "    <tr>\n",
       "      <th>4</th>\n",
       "      <td>1gudboi</td>\n",
       "      <td>2.220131</td>\n",
       "      <td>9.208541</td>\n",
       "    </tr>\n",
       "    <tr>\n",
       "      <th>...</th>\n",
       "      <td>...</td>\n",
       "      <td>...</td>\n",
       "      <td>...</td>\n",
       "    </tr>\n",
       "    <tr>\n",
       "      <th>591</th>\n",
       "      <td>your_godammn_right</td>\n",
       "      <td>2.511896</td>\n",
       "      <td>12.328284</td>\n",
       "    </tr>\n",
       "    <tr>\n",
       "      <th>592</th>\n",
       "      <td>zcc0nonA</td>\n",
       "      <td>2.961980</td>\n",
       "      <td>19.336226</td>\n",
       "    </tr>\n",
       "    <tr>\n",
       "      <th>593</th>\n",
       "      <td>zomgitsduke</td>\n",
       "      <td>2.430256</td>\n",
       "      <td>11.361786</td>\n",
       "    </tr>\n",
       "    <tr>\n",
       "      <th>594</th>\n",
       "      <td>ztsmart</td>\n",
       "      <td>2.536563</td>\n",
       "      <td>12.636171</td>\n",
       "    </tr>\n",
       "    <tr>\n",
       "      <th>595</th>\n",
       "      <td>zuelearth</td>\n",
       "      <td>2.727116</td>\n",
       "      <td>15.288736</td>\n",
       "    </tr>\n",
       "  </tbody>\n",
       "</table>\n",
       "<p>596 rows × 3 columns</p>\n",
       "</div>"
      ],
      "text/plain": [
       "                 author      loss  perplexity\n",
       "0                101111  4.408317   82.131089\n",
       "1         123wanderlust  3.090852   21.995821\n",
       "2                 19931  2.140934    8.507380\n",
       "3         1blockologist  2.743612   15.543026\n",
       "4               1gudboi  2.220131    9.208541\n",
       "..                  ...       ...         ...\n",
       "591  your_godammn_right  2.511896   12.328284\n",
       "592            zcc0nonA  2.961980   19.336226\n",
       "593         zomgitsduke  2.430256   11.361786\n",
       "594             ztsmart  2.536563   12.636171\n",
       "595           zuelearth  2.727116   15.288736\n",
       "\n",
       "[596 rows x 3 columns]"
      ]
     },
     "execution_count": 6,
     "metadata": {},
     "output_type": "execute_result"
    }
   ],
   "source": [
    "exp_analyzer1.author_result_df"
   ]
  },
  {
   "cell_type": "code",
   "execution_count": 14,
   "id": "9e91bd5d",
   "metadata": {},
   "outputs": [
    {
     "data": {
      "text/plain": [
       "loss           2.762923\n",
       "perplexity    18.802296\n",
       "dtype: float64"
      ]
     },
     "execution_count": 14,
     "metadata": {},
     "output_type": "execute_result"
    }
   ],
   "source": [
    "exp_analyzer1.author_result_df.mean()"
   ]
  },
  {
   "cell_type": "code",
   "execution_count": 15,
   "id": "1cbae9eb",
   "metadata": {},
   "outputs": [
    {
     "data": {
      "text/plain": [
       "loss           0.564246\n",
       "perplexity    13.278986\n",
       "dtype: float64"
      ]
     },
     "execution_count": 15,
     "metadata": {},
     "output_type": "execute_result"
    }
   ],
   "source": [
    "exp_analyzer1.author_result_df.std()"
   ]
  },
  {
   "cell_type": "code",
   "execution_count": 17,
   "id": "92e1e44f",
   "metadata": {},
   "outputs": [
    {
     "data": {
      "image/png": "[encoded data removed]",
      "text/plain": [
       "<Figure size 1152x576 with 1 Axes>"
      ]
     },
     "metadata": {},
     "output_type": "display_data"
    },
    {
     "data": {
      "text/plain": [
       "<Figure size 432x288 with 0 Axes>"
      ]
     },
     "metadata": {},
     "output_type": "display_data"
    }
   ],
   "source": [
    "exp_analyzer1.plot_perf_by_author(\"perplexity\")"
   ]
  },
  {
   "cell_type": "markdown",
   "id": "235424a6",
   "metadata": {},
   "source": [
    "## BERT + Fine-tune on All Reddit Results"
   ]
  },
  {
   "cell_type": "code",
   "execution_count": 8,
   "id": "3613d2fb",
   "metadata": {},
   "outputs": [],
   "source": [
    "result_dir2 = os.path.join(base_result_dir, \"2_bert_finetuned\")"
   ]
  },
  {
   "cell_type": "code",
   "execution_count": 9,
   "id": "2a1de3ec",
   "metadata": {},
   "outputs": [],
   "source": [
    "exp_analyzer2 = ExpAnalyzer(result_dir2)"
   ]
  },
  {
   "cell_type": "code",
   "execution_count": 10,
   "id": "b679dffd",
   "metadata": {},
   "outputs": [
    {
     "data": {
      "text/html": [
       "<div>\n",
       "<style scoped>\n",
       "    .dataframe tbody tr th:only-of-type {\n",
       "        vertical-align: middle;\n",
       "    }\n",
       "\n",
       "    .dataframe tbody tr th {\n",
       "        vertical-align: top;\n",
       "    }\n",
       "\n",
       "    .dataframe thead th {\n",
       "        text-align: right;\n",
       "    }\n",
       "</style>\n",
       "<table border=\"1\" class=\"dataframe\">\n",
       "  <thead>\n",
       "    <tr style=\"text-align: right;\">\n",
       "      <th></th>\n",
       "      <th>data_split</th>\n",
       "      <th>loss</th>\n",
       "      <th>perplexity</th>\n",
       "    </tr>\n",
       "  </thead>\n",
       "  <tbody>\n",
       "    <tr>\n",
       "      <th>0</th>\n",
       "      <td>train</td>\n",
       "      <td>1.586269</td>\n",
       "      <td>4.885485</td>\n",
       "    </tr>\n",
       "    <tr>\n",
       "      <th>1</th>\n",
       "      <td>eval</td>\n",
       "      <td>1.585292</td>\n",
       "      <td>4.880719</td>\n",
       "    </tr>\n",
       "    <tr>\n",
       "      <th>2</th>\n",
       "      <td>test</td>\n",
       "      <td>1.619855</td>\n",
       "      <td>5.052359</td>\n",
       "    </tr>\n",
       "  </tbody>\n",
       "</table>\n",
       "</div>"
      ],
      "text/plain": [
       "  data_split      loss  perplexity\n",
       "0      train  1.586269    4.885485\n",
       "1       eval  1.585292    4.880719\n",
       "2       test  1.619855    5.052359"
      ]
     },
     "execution_count": 10,
     "metadata": {},
     "output_type": "execute_result"
    }
   ],
   "source": [
    "exp_analyzer2.data_split_perf_df"
   ]
  },
  {
   "cell_type": "code",
   "execution_count": 11,
   "id": "bce0fa86",
   "metadata": {},
   "outputs": [
    {
     "data": {
      "text/html": [
       "<div>\n",
       "<style scoped>\n",
       "    .dataframe tbody tr th:only-of-type {\n",
       "        vertical-align: middle;\n",
       "    }\n",
       "\n",
       "    .dataframe tbody tr th {\n",
       "        vertical-align: top;\n",
       "    }\n",
       "\n",
       "    .dataframe thead th {\n",
       "        text-align: right;\n",
       "    }\n",
       "</style>\n",
       "<table border=\"1\" class=\"dataframe\">\n",
       "  <thead>\n",
       "    <tr style=\"text-align: right;\">\n",
       "      <th></th>\n",
       "      <th>subreddit</th>\n",
       "      <th>loss</th>\n",
       "      <th>perplexity</th>\n",
       "    </tr>\n",
       "  </thead>\n",
       "  <tbody>\n",
       "    <tr>\n",
       "      <th>0</th>\n",
       "      <td>AskDocs</td>\n",
       "      <td>1.520442</td>\n",
       "      <td>4.574244</td>\n",
       "    </tr>\n",
       "    <tr>\n",
       "      <th>1</th>\n",
       "      <td>Bitcoin</td>\n",
       "      <td>1.847334</td>\n",
       "      <td>6.342889</td>\n",
       "    </tr>\n",
       "    <tr>\n",
       "      <th>2</th>\n",
       "      <td>family</td>\n",
       "      <td>1.488848</td>\n",
       "      <td>4.431989</td>\n",
       "    </tr>\n",
       "    <tr>\n",
       "      <th>3</th>\n",
       "      <td>investing</td>\n",
       "      <td>1.341149</td>\n",
       "      <td>3.823435</td>\n",
       "    </tr>\n",
       "    <tr>\n",
       "      <th>4</th>\n",
       "      <td>medical</td>\n",
       "      <td>2.003002</td>\n",
       "      <td>7.411274</td>\n",
       "    </tr>\n",
       "    <tr>\n",
       "      <th>5</th>\n",
       "      <td>mentalhealth</td>\n",
       "      <td>1.569690</td>\n",
       "      <td>4.805158</td>\n",
       "    </tr>\n",
       "    <tr>\n",
       "      <th>6</th>\n",
       "      <td>personalfinance</td>\n",
       "      <td>1.631887</td>\n",
       "      <td>5.113514</td>\n",
       "    </tr>\n",
       "    <tr>\n",
       "      <th>7</th>\n",
       "      <td>relationship_advice</td>\n",
       "      <td>1.395025</td>\n",
       "      <td>4.035074</td>\n",
       "    </tr>\n",
       "    <tr>\n",
       "      <th>8</th>\n",
       "      <td>relationships</td>\n",
       "      <td>1.329563</td>\n",
       "      <td>3.779390</td>\n",
       "    </tr>\n",
       "  </tbody>\n",
       "</table>\n",
       "</div>"
      ],
      "text/plain": [
       "             subreddit      loss  perplexity\n",
       "0              AskDocs  1.520442    4.574244\n",
       "1              Bitcoin  1.847334    6.342889\n",
       "2               family  1.488848    4.431989\n",
       "3            investing  1.341149    3.823435\n",
       "4              medical  2.003002    7.411274\n",
       "5         mentalhealth  1.569690    4.805158\n",
       "6      personalfinance  1.631887    5.113514\n",
       "7  relationship_advice  1.395025    4.035074\n",
       "8        relationships  1.329563    3.779390"
      ]
     },
     "execution_count": 11,
     "metadata": {},
     "output_type": "execute_result"
    }
   ],
   "source": [
    "exp_analyzer2.sr_result_df"
   ]
  },
  {
   "cell_type": "code",
   "execution_count": 12,
   "id": "fd7bfe40",
   "metadata": {},
   "outputs": [
    {
     "data": {
      "text/plain": [
       "loss          1.569660\n",
       "perplexity    4.924108\n",
       "dtype: float64"
      ]
     },
     "execution_count": 12,
     "metadata": {},
     "output_type": "execute_result"
    }
   ],
   "source": [
    "exp_analyzer2.sr_result_df.mean()"
   ]
  },
  {
   "cell_type": "code",
   "execution_count": 13,
   "id": "11d6eb0d",
   "metadata": {},
   "outputs": [
    {
     "data": {
      "text/plain": [
       "loss          0.228603\n",
       "perplexity    1.220952\n",
       "dtype: float64"
      ]
     },
     "execution_count": 13,
     "metadata": {},
     "output_type": "execute_result"
    }
   ],
   "source": [
    "exp_analyzer2.sr_result_df.std()"
   ]
  },
  {
   "cell_type": "code",
   "execution_count": 14,
   "id": "7127ae5e",
   "metadata": {},
   "outputs": [
    {
     "data": {
      "image/png": "[encoded data removed]",
      "text/plain": [
       "<Figure size 576x288 with 1 Axes>"
      ]
     },
     "metadata": {},
     "output_type": "display_data"
    },
    {
     "data": {
      "text/plain": [
       "<Figure size 432x288 with 0 Axes>"
      ]
     },
     "metadata": {},
     "output_type": "display_data"
    }
   ],
   "source": [
    "exp_analyzer2.plot_perf_by_subreddit(\"perplexity\")"
   ]
  },
  {
   "cell_type": "code",
   "execution_count": 15,
   "id": "808433c5",
   "metadata": {},
   "outputs": [
    {
     "data": {
      "text/html": [
       "<div>\n",
       "<style scoped>\n",
       "    .dataframe tbody tr th:only-of-type {\n",
       "        vertical-align: middle;\n",
       "    }\n",
       "\n",
       "    .dataframe tbody tr th {\n",
       "        vertical-align: top;\n",
       "    }\n",
       "\n",
       "    .dataframe thead th {\n",
       "        text-align: right;\n",
       "    }\n",
       "</style>\n",
       "<table border=\"1\" class=\"dataframe\">\n",
       "  <thead>\n",
       "    <tr style=\"text-align: right;\">\n",
       "      <th></th>\n",
       "      <th>author</th>\n",
       "      <th>loss</th>\n",
       "      <th>perplexity</th>\n",
       "    </tr>\n",
       "  </thead>\n",
       "  <tbody>\n",
       "    <tr>\n",
       "      <th>0</th>\n",
       "      <td>101111</td>\n",
       "      <td>1.994584</td>\n",
       "      <td>7.349148</td>\n",
       "    </tr>\n",
       "    <tr>\n",
       "      <th>1</th>\n",
       "      <td>123wanderlust</td>\n",
       "      <td>2.767086</td>\n",
       "      <td>15.912195</td>\n",
       "    </tr>\n",
       "    <tr>\n",
       "      <th>2</th>\n",
       "      <td>19931</td>\n",
       "      <td>1.532237</td>\n",
       "      <td>4.628518</td>\n",
       "    </tr>\n",
       "    <tr>\n",
       "      <th>3</th>\n",
       "      <td>1blockologist</td>\n",
       "      <td>1.962229</td>\n",
       "      <td>7.115171</td>\n",
       "    </tr>\n",
       "    <tr>\n",
       "      <th>4</th>\n",
       "      <td>1gudboi</td>\n",
       "      <td>1.739380</td>\n",
       "      <td>5.693814</td>\n",
       "    </tr>\n",
       "    <tr>\n",
       "      <th>...</th>\n",
       "      <td>...</td>\n",
       "      <td>...</td>\n",
       "      <td>...</td>\n",
       "    </tr>\n",
       "    <tr>\n",
       "      <th>591</th>\n",
       "      <td>your_godammn_right</td>\n",
       "      <td>1.579458</td>\n",
       "      <td>4.852326</td>\n",
       "    </tr>\n",
       "    <tr>\n",
       "      <th>592</th>\n",
       "      <td>zcc0nonA</td>\n",
       "      <td>1.941078</td>\n",
       "      <td>6.966254</td>\n",
       "    </tr>\n",
       "    <tr>\n",
       "      <th>593</th>\n",
       "      <td>zomgitsduke</td>\n",
       "      <td>1.955971</td>\n",
       "      <td>7.070779</td>\n",
       "    </tr>\n",
       "    <tr>\n",
       "      <th>594</th>\n",
       "      <td>ztsmart</td>\n",
       "      <td>2.010419</td>\n",
       "      <td>7.466443</td>\n",
       "    </tr>\n",
       "    <tr>\n",
       "      <th>595</th>\n",
       "      <td>zuelearth</td>\n",
       "      <td>2.629870</td>\n",
       "      <td>13.871969</td>\n",
       "    </tr>\n",
       "  </tbody>\n",
       "</table>\n",
       "<p>596 rows × 3 columns</p>\n",
       "</div>"
      ],
      "text/plain": [
       "                 author      loss  perplexity\n",
       "0                101111  1.994584    7.349148\n",
       "1         123wanderlust  2.767086   15.912195\n",
       "2                 19931  1.532237    4.628518\n",
       "3         1blockologist  1.962229    7.115171\n",
       "4               1gudboi  1.739380    5.693814\n",
       "..                  ...       ...         ...\n",
       "591  your_godammn_right  1.579458    4.852326\n",
       "592            zcc0nonA  1.941078    6.966254\n",
       "593         zomgitsduke  1.955971    7.070779\n",
       "594             ztsmart  2.010419    7.466443\n",
       "595           zuelearth  2.629870   13.871969\n",
       "\n",
       "[596 rows x 3 columns]"
      ]
     },
     "execution_count": 15,
     "metadata": {},
     "output_type": "execute_result"
    }
   ],
   "source": [
    "exp_analyzer2.author_result_df"
   ]
  },
  {
   "cell_type": "code",
   "execution_count": 19,
   "id": "d5cf5595",
   "metadata": {},
   "outputs": [
    {
     "data": {
      "text/html": [
       "<div>\n",
       "<style scoped>\n",
       "    .dataframe tbody tr th:only-of-type {\n",
       "        vertical-align: middle;\n",
       "    }\n",
       "\n",
       "    .dataframe tbody tr th {\n",
       "        vertical-align: top;\n",
       "    }\n",
       "\n",
       "    .dataframe thead th {\n",
       "        text-align: right;\n",
       "    }\n",
       "</style>\n",
       "<table border=\"1\" class=\"dataframe\">\n",
       "  <thead>\n",
       "    <tr style=\"text-align: right;\">\n",
       "      <th></th>\n",
       "      <th>author</th>\n",
       "      <th>loss</th>\n",
       "      <th>perplexity</th>\n",
       "    </tr>\n",
       "  </thead>\n",
       "  <tbody>\n",
       "    <tr>\n",
       "      <th>529</th>\n",
       "      <td>slvbtc</td>\n",
       "      <td>1.883989</td>\n",
       "      <td>6.5797</td>\n",
       "    </tr>\n",
       "  </tbody>\n",
       "</table>\n",
       "</div>"
      ],
      "text/plain": [
       "     author      loss  perplexity\n",
       "529  slvbtc  1.883989      6.5797"
      ]
     },
     "execution_count": 19,
     "metadata": {},
     "output_type": "execute_result"
    }
   ],
   "source": [
    "exp_analyzer2.author_result_df[exp_analyzer2.author_result_df[\"author\"] == \"slvbtc\"]"
   ]
  },
  {
   "cell_type": "code",
   "execution_count": 29,
   "id": "d2348e74",
   "metadata": {},
   "outputs": [
    {
     "data": {
      "text/plain": [
       "loss          1.758243\n",
       "perplexity    6.563281\n",
       "dtype: float64"
      ]
     },
     "execution_count": 29,
     "metadata": {},
     "output_type": "execute_result"
    }
   ],
   "source": [
    "exp_analyzer2.author_result_df.mean()"
   ]
  },
  {
   "cell_type": "code",
   "execution_count": 30,
   "id": "9d84e6c2",
   "metadata": {},
   "outputs": [
    {
     "data": {
      "text/plain": [
       "loss          0.472632\n",
       "perplexity    3.925941\n",
       "dtype: float64"
      ]
     },
     "execution_count": 30,
     "metadata": {},
     "output_type": "execute_result"
    }
   ],
   "source": [
    "exp_analyzer2.author_result_df.std()"
   ]
  },
  {
   "cell_type": "code",
   "execution_count": 31,
   "id": "db5bdec7",
   "metadata": {},
   "outputs": [
    {
     "data": {
      "image/png": "[encoded data removed]",
      "text/plain": [
       "<Figure size 1152x576 with 1 Axes>"
      ]
     },
     "metadata": {},
     "output_type": "display_data"
    },
    {
     "data": {
      "text/plain": [
       "<Figure size 432x288 with 0 Axes>"
      ]
     },
     "metadata": {},
     "output_type": "display_data"
    }
   ],
   "source": [
    "exp_analyzer2.plot_perf_by_author(\"perplexity\")"
   ]
  },
  {
   "cell_type": "markdown",
   "id": "39ce9de6",
   "metadata": {},
   "source": [
    "## BERT + finetune all Reddit + subreddit specific fine-tune"
   ]
  },
  {
   "cell_type": "code",
   "execution_count": 4,
   "id": "ace64d59",
   "metadata": {},
   "outputs": [],
   "source": [
    "result_dir3 = os.path.join(base_result_dir, \"3_bert_finetuned\")"
   ]
  },
  {
   "cell_type": "markdown",
   "id": "d3a40d17",
   "metadata": {},
   "source": [
    "### AskDocs Subreddit"
   ]
  },
  {
   "cell_type": "code",
   "execution_count": 33,
   "id": "926fff4d",
   "metadata": {},
   "outputs": [],
   "source": [
    "ad_dir = os.path.join(result_dir3, \"subreddit\", \"AskDocs\")"
   ]
  },
  {
   "cell_type": "code",
   "execution_count": 34,
   "id": "df0bac5d",
   "metadata": {},
   "outputs": [],
   "source": [
    "exp_analyzer3_ad = ExpAnalyzer(ad_dir)"
   ]
  },
  {
   "cell_type": "code",
   "execution_count": 36,
   "id": "f0ff168b",
   "metadata": {},
   "outputs": [
    {
     "data": {
      "text/html": [
       "<div>\n",
       "<style scoped>\n",
       "    .dataframe tbody tr th:only-of-type {\n",
       "        vertical-align: middle;\n",
       "    }\n",
       "\n",
       "    .dataframe tbody tr th {\n",
       "        vertical-align: top;\n",
       "    }\n",
       "\n",
       "    .dataframe thead th {\n",
       "        text-align: right;\n",
       "    }\n",
       "</style>\n",
       "<table border=\"1\" class=\"dataframe\">\n",
       "  <thead>\n",
       "    <tr style=\"text-align: right;\">\n",
       "      <th></th>\n",
       "      <th>data_split</th>\n",
       "      <th>loss</th>\n",
       "      <th>perplexity</th>\n",
       "    </tr>\n",
       "  </thead>\n",
       "  <tbody>\n",
       "    <tr>\n",
       "      <th>0</th>\n",
       "      <td>train</td>\n",
       "      <td>1.523691</td>\n",
       "      <td>4.589133</td>\n",
       "    </tr>\n",
       "    <tr>\n",
       "      <th>1</th>\n",
       "      <td>eval</td>\n",
       "      <td>1.418512</td>\n",
       "      <td>4.130970</td>\n",
       "    </tr>\n",
       "    <tr>\n",
       "      <th>2</th>\n",
       "      <td>test</td>\n",
       "      <td>1.432229</td>\n",
       "      <td>4.188024</td>\n",
       "    </tr>\n",
       "  </tbody>\n",
       "</table>\n",
       "</div>"
      ],
      "text/plain": [
       "  data_split      loss  perplexity\n",
       "0      train  1.523691    4.589133\n",
       "1       eval  1.418512    4.130970\n",
       "2       test  1.432229    4.188024"
      ]
     },
     "execution_count": 36,
     "metadata": {},
     "output_type": "execute_result"
    }
   ],
   "source": [
    "exp_analyzer3_ad.data_split_perf_df"
   ]
  },
  {
   "cell_type": "markdown",
   "id": "43388682",
   "metadata": {},
   "source": [
    "### Bitcoin Subreddit"
   ]
  },
  {
   "cell_type": "code",
   "execution_count": 5,
   "id": "e37b7b55",
   "metadata": {},
   "outputs": [],
   "source": [
    "bc_dir = os.path.join(result_dir3, \"subreddit\", \"Bitcoin\")"
   ]
  },
  {
   "cell_type": "code",
   "execution_count": 6,
   "id": "dfeeec10",
   "metadata": {},
   "outputs": [],
   "source": [
    "exp_analyzer3_bc = ExpAnalyzer(bc_dir)"
   ]
  },
  {
   "cell_type": "code",
   "execution_count": 7,
   "id": "fe156686",
   "metadata": {},
   "outputs": [
    {
     "data": {
      "text/html": [
       "<div>\n",
       "<style scoped>\n",
       "    .dataframe tbody tr th:only-of-type {\n",
       "        vertical-align: middle;\n",
       "    }\n",
       "\n",
       "    .dataframe tbody tr th {\n",
       "        vertical-align: top;\n",
       "    }\n",
       "\n",
       "    .dataframe thead th {\n",
       "        text-align: right;\n",
       "    }\n",
       "</style>\n",
       "<table border=\"1\" class=\"dataframe\">\n",
       "  <thead>\n",
       "    <tr style=\"text-align: right;\">\n",
       "      <th></th>\n",
       "      <th>data_split</th>\n",
       "      <th>loss</th>\n",
       "      <th>perplexity</th>\n",
       "    </tr>\n",
       "  </thead>\n",
       "  <tbody>\n",
       "    <tr>\n",
       "      <th>0</th>\n",
       "      <td>train</td>\n",
       "      <td>1.758674</td>\n",
       "      <td>5.804735</td>\n",
       "    </tr>\n",
       "    <tr>\n",
       "      <th>1</th>\n",
       "      <td>eval</td>\n",
       "      <td>1.592692</td>\n",
       "      <td>4.916969</td>\n",
       "    </tr>\n",
       "    <tr>\n",
       "      <th>2</th>\n",
       "      <td>test</td>\n",
       "      <td>1.606209</td>\n",
       "      <td>4.983880</td>\n",
       "    </tr>\n",
       "  </tbody>\n",
       "</table>\n",
       "</div>"
      ],
      "text/plain": [
       "  data_split      loss  perplexity\n",
       "0      train  1.758674    5.804735\n",
       "1       eval  1.592692    4.916969\n",
       "2       test  1.606209    4.983880"
      ]
     },
     "execution_count": 7,
     "metadata": {},
     "output_type": "execute_result"
    }
   ],
   "source": [
    "exp_analyzer3_bc.data_split_perf_df"
   ]
  },
  {
   "cell_type": "markdown",
   "id": "25c6d08e",
   "metadata": {},
   "source": [
    "## BERT + finetune all Reddit + author specific fine-tune"
   ]
  },
  {
   "cell_type": "code",
   "execution_count": 5,
   "id": "54ef5183",
   "metadata": {},
   "outputs": [],
   "source": [
    "a1_dir = os.path.join(result_dir3, \"author\", \"itsnotthot\")"
   ]
  },
  {
   "cell_type": "code",
   "execution_count": 6,
   "id": "c78e533a",
   "metadata": {},
   "outputs": [],
   "source": [
    "exp_analyzer3_a1 = ExpAnalyzer(a1_dir)"
   ]
  },
  {
   "cell_type": "code",
   "execution_count": 7,
   "id": "2955f657",
   "metadata": {},
   "outputs": [
    {
     "data": {
      "text/html": [
       "<div>\n",
       "<style scoped>\n",
       "    .dataframe tbody tr th:only-of-type {\n",
       "        vertical-align: middle;\n",
       "    }\n",
       "\n",
       "    .dataframe tbody tr th {\n",
       "        vertical-align: top;\n",
       "    }\n",
       "\n",
       "    .dataframe thead th {\n",
       "        text-align: right;\n",
       "    }\n",
       "</style>\n",
       "<table border=\"1\" class=\"dataframe\">\n",
       "  <thead>\n",
       "    <tr style=\"text-align: right;\">\n",
       "      <th></th>\n",
       "      <th>data_split</th>\n",
       "      <th>loss</th>\n",
       "      <th>perplexity</th>\n",
       "    </tr>\n",
       "  </thead>\n",
       "  <tbody>\n",
       "    <tr>\n",
       "      <th>0</th>\n",
       "      <td>train</td>\n",
       "      <td>1.591197</td>\n",
       "      <td>4.909622</td>\n",
       "    </tr>\n",
       "    <tr>\n",
       "      <th>1</th>\n",
       "      <td>eval</td>\n",
       "      <td>1.819716</td>\n",
       "      <td>6.170108</td>\n",
       "    </tr>\n",
       "    <tr>\n",
       "      <th>2</th>\n",
       "      <td>test</td>\n",
       "      <td>1.569111</td>\n",
       "      <td>4.802377</td>\n",
       "    </tr>\n",
       "  </tbody>\n",
       "</table>\n",
       "</div>"
      ],
      "text/plain": [
       "  data_split      loss  perplexity\n",
       "0      train  1.591197    4.909622\n",
       "1       eval  1.819716    6.170108\n",
       "2       test  1.569111    4.802377"
      ]
     },
     "execution_count": 7,
     "metadata": {},
     "output_type": "execute_result"
    }
   ],
   "source": [
    "exp_analyzer3_a1.data_split_perf_df"
   ]
  },
  {
   "cell_type": "code",
   "execution_count": 18,
   "id": "25477b1b",
   "metadata": {},
   "outputs": [
    {
     "data": {
      "text/html": [
       "<div>\n",
       "<style scoped>\n",
       "    .dataframe tbody tr th:only-of-type {\n",
       "        vertical-align: middle;\n",
       "    }\n",
       "\n",
       "    .dataframe tbody tr th {\n",
       "        vertical-align: top;\n",
       "    }\n",
       "\n",
       "    .dataframe thead th {\n",
       "        text-align: right;\n",
       "    }\n",
       "</style>\n",
       "<table border=\"1\" class=\"dataframe\">\n",
       "  <thead>\n",
       "    <tr style=\"text-align: right;\">\n",
       "      <th></th>\n",
       "      <th>data_split</th>\n",
       "      <th>loss</th>\n",
       "      <th>perplexity</th>\n",
       "    </tr>\n",
       "  </thead>\n",
       "  <tbody>\n",
       "    <tr>\n",
       "      <th>0</th>\n",
       "      <td>train</td>\n",
       "      <td>1.980919</td>\n",
       "      <td>7.249400</td>\n",
       "    </tr>\n",
       "    <tr>\n",
       "      <th>1</th>\n",
       "      <td>eval</td>\n",
       "      <td>1.849349</td>\n",
       "      <td>6.355684</td>\n",
       "    </tr>\n",
       "    <tr>\n",
       "      <th>2</th>\n",
       "      <td>test</td>\n",
       "      <td>1.858409</td>\n",
       "      <td>6.413527</td>\n",
       "    </tr>\n",
       "  </tbody>\n",
       "</table>\n",
       "</div>"
      ],
      "text/plain": [
       "  data_split      loss  perplexity\n",
       "0      train  1.980919    7.249400\n",
       "1       eval  1.849349    6.355684\n",
       "2       test  1.858409    6.413527"
      ]
     },
     "execution_count": 18,
     "metadata": {},
     "output_type": "execute_result"
    }
   ],
   "source": [
    "a2_dir = os.path.join(result_dir3, \"author\", \"slvbtc\")\n",
    "exp_analyzer3_a2 = ExpAnalyzer(a2_dir)\n",
    "exp_analyzer3_a2.data_split_perf_df"
   ]
  }
 ],
 "metadata": {
  "kernelspec": {
   "display_name": "Python 3",
   "language": "python",
   "name": "python3"
  },
  "language_info": {
   "codemirror_mode": {
    "name": "ipython",
    "version": 3
   },
   "file_extension": ".py",
   "mimetype": "text/x-python",
   "name": "python",
   "nbconvert_exporter": "python",
   "pygments_lexer": "ipython3",
   "version": "3.8.10"
  }
 },
 "nbformat": 4,
 "nbformat_minor": 5
}
