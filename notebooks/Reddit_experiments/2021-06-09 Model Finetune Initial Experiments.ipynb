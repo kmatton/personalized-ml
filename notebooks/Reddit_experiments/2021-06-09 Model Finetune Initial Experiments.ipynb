{
 "cells": [
  {
   "cell_type": "code",
   "execution_count": 1,
   "id": "4d3626a1",
   "metadata": {},
   "outputs": [],
   "source": [
    "%load_ext autoreload\n",
    "%autoreload 2"
   ]
  },
  {
   "cell_type": "code",
   "execution_count": 45,
   "id": "82015b21",
   "metadata": {},
   "outputs": [],
   "source": [
    "import os\n",
    "import pandas as pd\n",
    "import torch\n",
    "import math\n",
    "from datasets import Dataset\n",
    "from transformers import AutoConfig, AutoTokenizer, AutoModelForMaskedLM, DataCollatorForLanguageModeling, Trainer\n",
    "\n",
    "import matplotlib as plt\n",
    "import seaborn as sns\n",
    "sns.set_theme()"
   ]
  },
  {
   "cell_type": "code",
   "execution_count": 3,
   "id": "5405fedb",
   "metadata": {},
   "outputs": [
    {
     "name": "stdout",
     "output_type": "stream",
     "text": [
      "Using GPU:0,1,2,3\n"
     ]
    }
   ],
   "source": [
    "gpuids = [0, 1, 2, 3]\n",
    "\n",
    "if gpuids is None or len(gpuids) == 0:\n",
    "    os.environ[\"CUDA_VISIBLE_DEVICES\"] = \"\"\n",
    "    print(\"Using CPU\")\n",
    "else:\n",
    "    gpuid_str = str(gpuids[0])\n",
    "    for gpuid in gpuids[1:]:\n",
    "        gpuid_str += \",{}\".format(gpuid)\n",
    "    os.environ[\"CUDA_VISIBLE_DEVICES\"] = gpuid_str\n",
    "    print(\"Using GPU:{}\".format(gpuid_str))"
   ]
  },
  {
   "cell_type": "code",
   "execution_count": 4,
   "id": "b8690d27",
   "metadata": {},
   "outputs": [
    {
     "data": {
      "text/plain": [
       "True"
      ]
     },
     "execution_count": 4,
     "metadata": {},
     "output_type": "execute_result"
    }
   ],
   "source": [
    "import torch\n",
    "torch.cuda.is_available()"
   ]
  },
  {
   "cell_type": "code",
   "execution_count": 6,
   "id": "8cf67562",
   "metadata": {},
   "outputs": [],
   "source": [
    "df_list = []\n",
    "for data_path in data_args[\"data_files\"]:\n",
    "    df = pd.read_csv(data_path)\n",
    "    df.drop(columns=\"Unnamed: 0\", inplace=True)\n",
    "    df_list.append(df)\n",
    "data_df = pd.concat(df_list)\n",
    "if data_args[\"data_split\"] is not None:\n",
    "    data_df = data_df[data_df[\"data_split\"] == data_args[\"data_split\"]]"
   ]
  },
  {
   "cell_type": "code",
   "execution_count": 8,
   "id": "8e6b6cc0",
   "metadata": {},
   "outputs": [],
   "source": [
    "dataset = Dataset.from_pandas(data_df)"
   ]
  },
  {
   "cell_type": "code",
   "execution_count": 9,
   "id": "c7999443",
   "metadata": {},
   "outputs": [],
   "source": [
    "tokenizer_kwargs = {\n",
    "    \"use_fast\": model_args[\"use_fast_tokenizer\"],\n",
    "    \"cache_dir\": model_args[\"cache_dir\"]\n",
    "}\n",
    "\n",
    "tokenizer = AutoTokenizer.from_pretrained(model_args[\"tokenizer_name\"], **tokenizer_kwargs)"
   ]
  },
  {
   "cell_type": "code",
   "execution_count": 14,
   "id": "4bd97db0",
   "metadata": {},
   "outputs": [],
   "source": [
    "def tokenize_func(examples):\n",
    "    return tokenizer(\n",
    "        examples[\"text\"],\n",
    "        padding=False,  # do dynamic padding to longest sequence in batch later\n",
    "        truncation=True,\n",
    "        # We use this option because DataCollatorForLanguageModeling (see below) is more efficient when it\n",
    "        # receives the `special_tokens_mask`.\n",
    "        return_special_tokens_mask=True\n",
    "    )"
   ]
  },
  {
   "cell_type": "code",
   "execution_count": 15,
   "id": "99fb2873",
   "metadata": {},
   "outputs": [
    {
     "data": {
      "application/vnd.jupyter.widget-view+json": {
       "model_id": "365b0898de3b489190fce22cb3644451",
       "version_major": 2,
       "version_minor": 0
      },
      "text/plain": [
       "HBox(children=(FloatProgress(value=0.0, max=8.0), HTML(value='')))"
      ]
     },
     "metadata": {},
     "output_type": "display_data"
    },
    {
     "name": "stdout",
     "output_type": "stream",
     "text": [
      "\n"
     ]
    }
   ],
   "source": [
    "tokenized_dataset = dataset.map(\n",
    "    tokenize_func,\n",
    "    batched=True,\n",
    "    num_proc=data_args[\"preprocessing_num_workers\"]\n",
    ")"
   ]
  },
  {
   "cell_type": "code",
   "execution_count": 16,
   "id": "7c5eb481",
   "metadata": {},
   "outputs": [],
   "source": [
    "data_collator = DataCollatorForLanguageModeling(\n",
    "    tokenizer=tokenizer,\n",
    "    mlm_probability=data_args[\"mlm_probability\"],\n",
    ")"
   ]
  },
  {
   "cell_type": "markdown",
   "id": "09e1a276",
   "metadata": {},
   "source": [
    "## Things that need to be rerun for new checkpoints"
   ]
  },
  {
   "cell_type": "code",
   "execution_count": 27,
   "id": "2b57b421",
   "metadata": {},
   "outputs": [],
   "source": [
    "checkpoint_num = 46000"
   ]
  },
  {
   "cell_type": "code",
   "execution_count": 28,
   "id": "1b9281f6",
   "metadata": {},
   "outputs": [],
   "source": [
    "model_args = {\n",
    "    \"model_name_or_path\": \"/data/ddmg/personalizedmentalhealth/reddit_project/reddit-personalized-lm/notebooks/tmp_trainer/checkpoint-{}/pytorch_model.bin\".format(checkpoint_num),\n",
    "    \"tokenizer_name\": \"bert-base-uncased\",\n",
    "    \"cache_dir\": \"/data/ddmg/personalizedmentalhealth/reddit_project/cached_models\",\n",
    "    \"use_fast_tokenizer\": True,\n",
    "    \"config_name_or_path\": \"/data/ddmg/personalizedmentalhealth/reddit_project/reddit-personalized-lm/notebooks/tmp_trainer/checkpoint-{}/config.json\".format(checkpoint_num),\n",
    "}\n",
    "\n",
    "data_args = {\n",
    "    \"data_files\": [\"/data/ddmg/personalizedmentalhealth/reddit_project/data/4_all_data.csv\"],\n",
    "    \"preprocessing_num_workers\": None,  # number of processes to use for the preprocessing\n",
    "    \"mlm_probability\": 0.15,  # ratio of tokens to mask for MLM loss\n",
    "    \"max_eval_samples\": None,  # for debugging purposes, truncate # of evaluation samples to this value if set,\n",
    "    \"data_split\": \"val\",  # evaluate just on this split of data (or all data if None)\n",
    "}"
   ]
  },
  {
   "cell_type": "code",
   "execution_count": 29,
   "id": "bde4549a",
   "metadata": {},
   "outputs": [],
   "source": [
    "config_kwargs = {\n",
    "    \"cache_dir\": model_args[\"cache_dir\"]\n",
    "}\n",
    "\n",
    "config = AutoConfig.from_pretrained(model_args[\"config_name_or_path\"])"
   ]
  },
  {
   "cell_type": "code",
   "execution_count": 30,
   "id": "06203393",
   "metadata": {},
   "outputs": [],
   "source": [
    "model = AutoModelForMaskedLM.from_pretrained(\n",
    "    model_args[\"model_name_or_path\"],\n",
    "    config=config,\n",
    "    cache_dir=model_args[\"cache_dir\"]\n",
    ")"
   ]
  },
  {
   "cell_type": "code",
   "execution_count": 31,
   "id": "8967f9ba",
   "metadata": {},
   "outputs": [],
   "source": [
    "trainer = Trainer(\n",
    "    model=model,\n",
    "    eval_dataset=tokenized_dataset,\n",
    "    tokenizer=tokenizer,\n",
    "    data_collator=data_collator\n",
    ")"
   ]
  },
  {
   "cell_type": "code",
   "execution_count": 32,
   "id": "38cf7e31",
   "metadata": {},
   "outputs": [
    {
     "data": {
      "text/html": [
       "\n",
       "    <div>\n",
       "      \n",
       "      <progress value='226' max='226' style='width:300px; height:20px; vertical-align: middle;'></progress>\n",
       "      [226/226 01:32]\n",
       "    </div>\n",
       "    "
      ],
      "text/plain": [
       "<IPython.core.display.HTML object>"
      ]
     },
     "metadata": {},
     "output_type": "display_data"
    }
   ],
   "source": [
    "metrics = trainer.evaluate()\n",
    "max_eval_samples = data_args[\"max_eval_samples\"] if data_args[\"max_eval_samples\"] is not None else len(dataset)\n",
    "metrics[\"eval_samples\"] = min(max_eval_samples, len(dataset))\n",
    "try:\n",
    "    perplexity = math.exp(metrics[\"eval_loss\"])\n",
    "except OverflowError:\n",
    "    perplexity = float(\"inf\")\n",
    "metrics[\"perplexity\"] = perplexity\n",
    "trainer.log_metrics(\"eval\", metrics)\n",
    "trainer.save_metrics(\"eval\", metrics)"
   ]
  },
  {
   "cell_type": "code",
   "execution_count": 33,
   "id": "34769335",
   "metadata": {},
   "outputs": [
    {
     "data": {
      "text/plain": [
       "{'eval_loss': 1.4987913370132446,\n",
       " 'eval_runtime': 93.1571,\n",
       " 'eval_samples_per_second': 77.568,\n",
       " 'eval_samples': 7226,\n",
       " 'perplexity': 4.476275490896192}"
      ]
     },
     "execution_count": 33,
     "metadata": {},
     "output_type": "execute_result"
    }
   ],
   "source": [
    "metrics"
   ]
  },
  {
   "cell_type": "markdown",
   "id": "a2261f34",
   "metadata": {},
   "source": [
    "## Plotting Results"
   ]
  },
  {
   "cell_type": "code",
   "execution_count": 34,
   "id": "e1aa3d43",
   "metadata": {},
   "outputs": [],
   "source": [
    "def get_checkpoint_results(checkpoint_num):\n",
    "    model_args = {\n",
    "        \"model_name_or_path\": \"/data/ddmg/personalizedmentalhealth/reddit_project/reddit-personalized-lm/notebooks/tmp_trainer/checkpoint-{}/pytorch_model.bin\".format(checkpoint_num),\n",
    "        \"tokenizer_name\": \"bert-base-uncased\",\n",
    "        \"cache_dir\": \"/data/ddmg/personalizedmentalhealth/reddit_project/cached_models\",\n",
    "        \"use_fast_tokenizer\": True,\n",
    "        \"config_name_or_path\": \"/data/ddmg/personalizedmentalhealth/reddit_project/reddit-personalized-lm/notebooks/tmp_trainer/checkpoint-{}/config.json\".format(checkpoint_num),\n",
    "    }\n",
    "\n",
    "    data_args = {\n",
    "        \"data_files\": [\"/data/ddmg/personalizedmentalhealth/reddit_project/data/4_all_data.csv\"],\n",
    "        \"preprocessing_num_workers\": None,  # number of processes to use for the preprocessing\n",
    "        \"mlm_probability\": 0.15,  # ratio of tokens to mask for MLM loss\n",
    "        \"max_eval_samples\": None,  # for debugging purposes, truncate # of evaluation samples to this value if set,\n",
    "        \"data_split\": \"val\",  # evaluate just on this split of data (or all data if None)\n",
    "    }\n",
    "    config_kwargs = {\n",
    "        \"cache_dir\": model_args[\"cache_dir\"]\n",
    "    }\n",
    "\n",
    "    config = AutoConfig.from_pretrained(model_args[\"config_name_or_path\"])\n",
    "    model = AutoModelForMaskedLM.from_pretrained(\n",
    "        model_args[\"model_name_or_path\"],\n",
    "        config=config,\n",
    "        cache_dir=model_args[\"cache_dir\"]\n",
    "    )\n",
    "    trainer = Trainer(\n",
    "        model=model,\n",
    "        eval_dataset=tokenized_dataset,\n",
    "        tokenizer=tokenizer,\n",
    "        data_collator=data_collator\n",
    "    )\n",
    "    metrics = trainer.evaluate()\n",
    "    max_eval_samples = data_args[\"max_eval_samples\"] if data_args[\"max_eval_samples\"] is not None else len(dataset)\n",
    "    metrics[\"eval_samples\"] = min(max_eval_samples, len(dataset))\n",
    "    try:\n",
    "        perplexity = math.exp(metrics[\"eval_loss\"])\n",
    "    except OverflowError:\n",
    "        perplexity = float(\"inf\")\n",
    "    metrics[\"perplexity\"] = perplexity\n",
    "    trainer.log_metrics(\"eval\", metrics)\n",
    "    trainer.save_metrics(\"eval\", metrics)\n",
    "    return perplexity"
   ]
  },
  {
   "cell_type": "code",
   "execution_count": 37,
   "id": "0e41c0e2",
   "metadata": {},
   "outputs": [],
   "source": [
    "checkpoint_nums = os.listdir(\"/data/ddmg/personalizedmentalhealth/reddit_project/reddit-personalized-lm/notebooks/tmp_trainer\")\n",
    "checkpoint_nums = [x.split('-')[1] for x in checkpoint_nums if \"checkpoint\" in x]"
   ]
  },
  {
   "cell_type": "code",
   "execution_count": 40,
   "id": "e836ac64",
   "metadata": {},
   "outputs": [],
   "source": [
    "checkpoint_nums = [int(x) for x in checkpoint_nums]\n",
    "checkpoint_nums = sorted(checkpoint_nums)"
   ]
  },
  {
   "cell_type": "code",
   "execution_count": 41,
   "id": "23131c44",
   "metadata": {},
   "outputs": [
    {
     "data": {
      "text/plain": [
       "49"
      ]
     },
     "execution_count": 41,
     "metadata": {},
     "output_type": "execute_result"
    }
   ],
   "source": [
    "len(checkpoint_nums)"
   ]
  },
  {
   "cell_type": "code",
   "execution_count": 42,
   "id": "3537aef8",
   "metadata": {},
   "outputs": [
    {
     "data": {
      "text/html": [
       "\n",
       "    <div>\n",
       "      \n",
       "      <progress value='226' max='226' style='width:300px; height:20px; vertical-align: middle;'></progress>\n",
       "      [226/226 01:33]\n",
       "    </div>\n",
       "    "
      ],
      "text/plain": [
       "<IPython.core.display.HTML object>"
      ]
     },
     "metadata": {},
     "output_type": "display_data"
    },
    {
     "data": {
      "text/html": [
       "\n",
       "    <div>\n",
       "      \n",
       "      <progress value='226' max='226' style='width:300px; height:20px; vertical-align: middle;'></progress>\n",
       "      [226/226 01:33]\n",
       "    </div>\n",
       "    "
      ],
      "text/plain": [
       "<IPython.core.display.HTML object>"
      ]
     },
     "metadata": {},
     "output_type": "display_data"
    },
    {
     "data": {
      "text/html": [
       "\n",
       "    <div>\n",
       "      \n",
       "      <progress value='226' max='226' style='width:300px; height:20px; vertical-align: middle;'></progress>\n",
       "      [226/226 01:33]\n",
       "    </div>\n",
       "    "
      ],
      "text/plain": [
       "<IPython.core.display.HTML object>"
      ]
     },
     "metadata": {},
     "output_type": "display_data"
    },
    {
     "data": {
      "text/html": [
       "\n",
       "    <div>\n",
       "      \n",
       "      <progress value='226' max='226' style='width:300px; height:20px; vertical-align: middle;'></progress>\n",
       "      [226/226 01:33]\n",
       "    </div>\n",
       "    "
      ],
      "text/plain": [
       "<IPython.core.display.HTML object>"
      ]
     },
     "metadata": {},
     "output_type": "display_data"
    },
    {
     "data": {
      "text/html": [
       "\n",
       "    <div>\n",
       "      \n",
       "      <progress value='226' max='226' style='width:300px; height:20px; vertical-align: middle;'></progress>\n",
       "      [226/226 01:33]\n",
       "    </div>\n",
       "    "
      ],
      "text/plain": [
       "<IPython.core.display.HTML object>"
      ]
     },
     "metadata": {},
     "output_type": "display_data"
    },
    {
     "data": {
      "text/html": [
       "\n",
       "    <div>\n",
       "      \n",
       "      <progress value='226' max='226' style='width:300px; height:20px; vertical-align: middle;'></progress>\n",
       "      [226/226 01:33]\n",
       "    </div>\n",
       "    "
      ],
      "text/plain": [
       "<IPython.core.display.HTML object>"
      ]
     },
     "metadata": {},
     "output_type": "display_data"
    },
    {
     "data": {
      "text/html": [
       "\n",
       "    <div>\n",
       "      \n",
       "      <progress value='226' max='226' style='width:300px; height:20px; vertical-align: middle;'></progress>\n",
       "      [226/226 01:33]\n",
       "    </div>\n",
       "    "
      ],
      "text/plain": [
       "<IPython.core.display.HTML object>"
      ]
     },
     "metadata": {},
     "output_type": "display_data"
    },
    {
     "data": {
      "text/html": [
       "\n",
       "    <div>\n",
       "      \n",
       "      <progress value='226' max='226' style='width:300px; height:20px; vertical-align: middle;'></progress>\n",
       "      [226/226 01:33]\n",
       "    </div>\n",
       "    "
      ],
      "text/plain": [
       "<IPython.core.display.HTML object>"
      ]
     },
     "metadata": {},
     "output_type": "display_data"
    },
    {
     "data": {
      "text/html": [
       "\n",
       "    <div>\n",
       "      \n",
       "      <progress value='226' max='226' style='width:300px; height:20px; vertical-align: middle;'></progress>\n",
       "      [226/226 01:33]\n",
       "    </div>\n",
       "    "
      ],
      "text/plain": [
       "<IPython.core.display.HTML object>"
      ]
     },
     "metadata": {},
     "output_type": "display_data"
    },
    {
     "data": {
      "text/html": [
       "\n",
       "    <div>\n",
       "      \n",
       "      <progress value='226' max='226' style='width:300px; height:20px; vertical-align: middle;'></progress>\n",
       "      [226/226 01:33]\n",
       "    </div>\n",
       "    "
      ],
      "text/plain": [
       "<IPython.core.display.HTML object>"
      ]
     },
     "metadata": {},
     "output_type": "display_data"
    }
   ],
   "source": [
    "perplexities = []\n",
    "steps = []\n",
    "for i in range(0, 50, 5):\n",
    "    checkpoint_num = checkpoint_nums[i]\n",
    "    steps.append(checkpoint_num)\n",
    "    eval_perplexity = get_checkpoint_results(checkpoint_num)\n",
    "    perplexities.append(eval_perplexity)"
   ]
  },
  {
   "cell_type": "code",
   "execution_count": 43,
   "id": "a3b29793",
   "metadata": {},
   "outputs": [
    {
     "data": {
      "text/plain": [
       "[7.769476957891647,\n",
       " 5.890491205788494,\n",
       " 5.559376326304406,\n",
       " 4.695809131828352,\n",
       " 4.653905375228195,\n",
       " 4.634502254431302,\n",
       " 4.57620462610829,\n",
       " 4.556685986827448,\n",
       " 4.514396033478065,\n",
       " 4.490805307891601]"
      ]
     },
     "execution_count": 43,
     "metadata": {},
     "output_type": "execute_result"
    }
   ],
   "source": [
    "perplexities"
   ]
  },
  {
   "cell_type": "code",
   "execution_count": 46,
   "id": "b121837e",
   "metadata": {},
   "outputs": [
    {
     "data": {
      "text/plain": [
       "<AxesSubplot:>"
      ]
     },
     "execution_count": 46,
     "metadata": {},
     "output_type": "execute_result"
    },
    {
     "data": {
      "image/png": "[encoded data removed]",
      "text/plain": [
       "<Figure size 432x288 with 1 Axes>"
      ]
     },
     "metadata": {},
     "output_type": "display_data"
    }
   ],
   "source": [
    "sns.lineplot(x=steps, y=perplexities)"
   ]
  },
  {
   "cell_type": "code",
   "execution_count": null,
   "id": "3b05ad4b",
   "metadata": {},
   "outputs": [],
   "source": [
    "# get train historys"
   ]
  }
 ],
 "metadata": {
  "kernelspec": {
   "display_name": "Python 3",
   "language": "python",
   "name": "python3"
  },
  "language_info": {
   "codemirror_mode": {
    "name": "ipython",
    "version": 3
   },
   "file_extension": ".py",
   "mimetype": "text/x-python",
   "name": "python",
   "nbconvert_exporter": "python",
   "pygments_lexer": "ipython3",
   "version": "3.8.10"
  }
 },
 "nbformat": 4,
 "nbformat_minor": 5
}
