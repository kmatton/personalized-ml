{
 "cells": [
  {
   "cell_type": "code",
   "execution_count": 1,
   "id": "91903e66",
   "metadata": {},
   "outputs": [],
   "source": [
    "%load_ext autoreload\n",
    "%autoreload 2"
   ]
  },
  {
   "cell_type": "code",
   "execution_count": 87,
   "id": "15311e4d",
   "metadata": {},
   "outputs": [],
   "source": [
    "import os\n",
    "import sys\n",
    "sys.path.append(\"../src/\")\n",
    "import json\n",
    "\n",
    "import numpy as np\n",
    "import pandas as pd\n",
    "import math\n",
    "from datasets import Dataset, list_metrics, load_metric\n",
    "from transformers import AutoConfig, AutoTokenizer, AutoModelForMaskedLM, DataCollatorForLanguageModeling, Trainer\n",
    "\n",
    "import matplotlib.pyplot as plt\n",
    "import seaborn as sns\n",
    "sns.set_theme()\n",
    "\n",
    "from results_analysis.analyze_exp_results import ExpAnalyzer\n",
    "from results_analysis.analyze_personalized_exp_results import PerPopulationExpAnalyzer\n",
    "from results_analysis.analysis_utils import plot_user_perf_by_sample_count"
   ]
  },
  {
   "cell_type": "code",
   "execution_count": 3,
   "id": "130a8c10",
   "metadata": {},
   "outputs": [],
   "source": [
    "base_result_dir = \"/data/ddmg/redditlanguagemodeling/results/\""
   ]
  },
  {
   "cell_type": "code",
   "execution_count": 4,
   "id": "7eba60b2",
   "metadata": {},
   "outputs": [],
   "source": [
    "data_df = pd.read_csv(\"/data/ddmg/redditlanguagemodeling/data/3_all_data_user_filtered_2021-06-21.csv\")"
   ]
  },
  {
   "cell_type": "code",
   "execution_count": 48,
   "id": "6727d2cf",
   "metadata": {},
   "outputs": [
    {
     "data": {
      "text/plain": [
       "50"
      ]
     },
     "execution_count": 48,
     "metadata": {},
     "output_type": "execute_result"
    }
   ],
   "source": [
    "val_df = data_df[data_df[\"data_split\"] == \"val\"]\n",
    "test_users = set(val_df[\"author\"])\n",
    "len(test_users)"
   ]
  },
  {
   "cell_type": "code",
   "execution_count": 49,
   "id": "770dcf80",
   "metadata": {},
   "outputs": [],
   "source": [
    "train_df = data_df[data_df[\"data_split\"] == \"train\"]\n",
    "user_counts = train_df.groupby(\"author\").count()[\"id\"]\n",
    "user_counts = user_counts[user_counts.index.isin(test_users)]"
   ]
  },
  {
   "cell_type": "code",
   "execution_count": 76,
   "id": "327d2216",
   "metadata": {},
   "outputs": [
    {
     "data": {
      "text/plain": [
       "array(['AskDocs', 'Bitcoin', 'investing', 'mentalhealth',\n",
       "       'relationship_advice', 'relationships'], dtype=object)"
      ]
     },
     "execution_count": 76,
     "metadata": {},
     "output_type": "execute_result"
    }
   ],
   "source": [
    "train_df.subreddit.unique()"
   ]
  },
  {
   "cell_type": "markdown",
   "id": "68422188",
   "metadata": {},
   "source": [
    "## Fine-tune all - 3 epochs / 2034 steps"
   ]
  },
  {
   "cell_type": "code",
   "execution_count": 105,
   "id": "8a7d299b",
   "metadata": {},
   "outputs": [
    {
     "data": {
      "text/html": [
       "<div>\n",
       "<style scoped>\n",
       "    .dataframe tbody tr th:only-of-type {\n",
       "        vertical-align: middle;\n",
       "    }\n",
       "\n",
       "    .dataframe tbody tr th {\n",
       "        vertical-align: top;\n",
       "    }\n",
       "\n",
       "    .dataframe thead th {\n",
       "        text-align: right;\n",
       "    }\n",
       "</style>\n",
       "<table border=\"1\" class=\"dataframe\">\n",
       "  <thead>\n",
       "    <tr style=\"text-align: right;\">\n",
       "      <th></th>\n",
       "      <th>data_split</th>\n",
       "      <th>loss</th>\n",
       "      <th>perplexity</th>\n",
       "    </tr>\n",
       "  </thead>\n",
       "  <tbody>\n",
       "    <tr>\n",
       "      <th>0</th>\n",
       "      <td>train</td>\n",
       "      <td>2.034210</td>\n",
       "      <td>7.646207</td>\n",
       "    </tr>\n",
       "    <tr>\n",
       "      <th>1</th>\n",
       "      <td>eval</td>\n",
       "      <td>2.162993</td>\n",
       "      <td>8.697127</td>\n",
       "    </tr>\n",
       "    <tr>\n",
       "      <th>2</th>\n",
       "      <td>test</td>\n",
       "      <td>2.170424</td>\n",
       "      <td>8.762000</td>\n",
       "    </tr>\n",
       "  </tbody>\n",
       "</table>\n",
       "</div>"
      ],
      "text/plain": [
       "  data_split      loss  perplexity\n",
       "0      train  2.034210    7.646207\n",
       "1       eval  2.162993    8.697127\n",
       "2       test  2.170424    8.762000"
      ]
     },
     "execution_count": 105,
     "metadata": {},
     "output_type": "execute_result"
    }
   ],
   "source": [
    "# this is performance after 1500 steps\n",
    "rd1 = os.path.join(base_result_dir, \"2_distilbert_finetuned_all\")\n",
    "ea1 = ExpAnalyzer(rd1)\n",
    "ea1.data_split_perf_df"
   ]
  },
  {
   "cell_type": "code",
   "execution_count": 82,
   "id": "2ee09126",
   "metadata": {},
   "outputs": [
    {
     "data": {
      "text/html": [
       "<div>\n",
       "<style scoped>\n",
       "    .dataframe tbody tr th:only-of-type {\n",
       "        vertical-align: middle;\n",
       "    }\n",
       "\n",
       "    .dataframe tbody tr th {\n",
       "        vertical-align: top;\n",
       "    }\n",
       "\n",
       "    .dataframe thead th {\n",
       "        text-align: right;\n",
       "    }\n",
       "</style>\n",
       "<table border=\"1\" class=\"dataframe\">\n",
       "  <thead>\n",
       "    <tr style=\"text-align: right;\">\n",
       "      <th></th>\n",
       "      <th>data_split</th>\n",
       "      <th>loss</th>\n",
       "      <th>perplexity</th>\n",
       "    </tr>\n",
       "  </thead>\n",
       "  <tbody>\n",
       "    <tr>\n",
       "      <th>0</th>\n",
       "      <td>test</td>\n",
       "      <td>2.150127</td>\n",
       "      <td>8.585946</td>\n",
       "    </tr>\n",
       "  </tbody>\n",
       "</table>\n",
       "</div>"
      ],
      "text/plain": [
       "  data_split      loss  perplexity\n",
       "0       test  2.150127    8.585946"
      ]
     },
     "execution_count": 82,
     "metadata": {},
     "output_type": "execute_result"
    }
   ],
   "source": [
    "# this is performance after 2000 steps (not actually fully 2034 - don't have that)\n",
    "rd2 = os.path.join(base_result_dir, \"2a_distilbert_finetuned_all_eval\")\n",
    "ea2 = ExpAnalyzer(rd2)\n",
    "ea2.data_split_perf_df"
   ]
  },
  {
   "cell_type": "code",
   "execution_count": 27,
   "id": "3e5c24ab",
   "metadata": {},
   "outputs": [
    {
     "data": {
      "text/plain": [
       "loss          2.173321\n",
       "perplexity    9.613068\n",
       "dtype: float64"
      ]
     },
     "execution_count": 27,
     "metadata": {},
     "output_type": "execute_result"
    }
   ],
   "source": [
    "ea2.author_result_df.mean()"
   ]
  },
  {
   "cell_type": "code",
   "execution_count": 28,
   "id": "cb4d15a8",
   "metadata": {},
   "outputs": [
    {
     "data": {
      "text/plain": [
       "loss          0.420859\n",
       "perplexity    4.586378\n",
       "dtype: float64"
      ]
     },
     "execution_count": 28,
     "metadata": {},
     "output_type": "execute_result"
    }
   ],
   "source": [
    "ea2.author_result_df.std()"
   ]
  },
  {
   "cell_type": "code",
   "execution_count": 83,
   "id": "5a1c13cd",
   "metadata": {},
   "outputs": [
    {
     "data": {
      "text/plain": [
       "loss          2.053389\n",
       "perplexity    7.912728\n",
       "dtype: float64"
      ]
     },
     "execution_count": 83,
     "metadata": {},
     "output_type": "execute_result"
    }
   ],
   "source": [
    "ea2.sr_result_df.mean()"
   ]
  },
  {
   "cell_type": "code",
   "execution_count": 84,
   "id": "35dd17ae",
   "metadata": {},
   "outputs": [
    {
     "data": {
      "text/plain": [
       "loss          0.191044\n",
       "perplexity    1.494710\n",
       "dtype: float64"
      ]
     },
     "execution_count": 84,
     "metadata": {},
     "output_type": "execute_result"
    }
   ],
   "source": [
    "ea2.sr_result_df.std()"
   ]
  },
  {
   "cell_type": "code",
   "execution_count": 29,
   "id": "f586c5a0",
   "metadata": {},
   "outputs": [
    {
     "data": {
      "image/png": "[encoded data removed]",
      "text/plain": [
       "<Figure size 432x288 with 1 Axes>"
      ]
     },
     "metadata": {},
     "output_type": "display_data"
    },
    {
     "data": {
      "text/plain": [
       "<Figure size 432x288 with 0 Axes>"
      ]
     },
     "metadata": {},
     "output_type": "display_data"
    }
   ],
   "source": [
    "ea1.plot_metric_hist(\"perplexity\")"
   ]
  },
  {
   "cell_type": "code",
   "execution_count": 47,
   "id": "c88c7eb3",
   "metadata": {},
   "outputs": [
    {
     "data": {
      "image/png": "[encoded data removed]",
      "text/plain": [
       "<Figure size 1152x576 with 1 Axes>"
      ]
     },
     "metadata": {},
     "output_type": "display_data"
    },
    {
     "data": {
      "text/plain": [
       "<Figure size 432x288 with 0 Axes>"
      ]
     },
     "metadata": {},
     "output_type": "display_data"
    }
   ],
   "source": [
    "ea2.plot_perf_by_author(\"perplexity\")"
   ]
  },
  {
   "cell_type": "code",
   "execution_count": null,
   "id": "b047313e",
   "metadata": {},
   "outputs": [],
   "source": [
    "plot_user_perf_by_sample_count(ea2.author_result_df, user_counts, \"perplexity\")"
   ]
  },
  {
   "cell_type": "code",
   "execution_count": 50,
   "id": "63bf243f",
   "metadata": {},
   "outputs": [
    {
     "name": "stdout",
     "output_type": "stream",
     "text": [
      "r=-0.08604049118822453, p=0.5524362349920809\n"
     ]
    },
    {
     "data": {
      "image/png": "[encoded data removed]",
      "text/plain": [
       "<Figure size 432x288 with 1 Axes>"
      ]
     },
     "metadata": {},
     "output_type": "display_data"
    },
    {
     "data": {
      "text/plain": [
       "<Figure size 432x288 with 0 Axes>"
      ]
     },
     "metadata": {},
     "output_type": "display_data"
    }
   ],
   "source": [
    "plot_user_perf_by_sample_count(ea2.author_result_df, user_counts, \"perplexity\")"
   ]
  },
  {
   "cell_type": "markdown",
   "id": "6909a4f3",
   "metadata": {},
   "source": [
    "## Subject Fine-tune - 3 epochs + variable of steps\n",
    "\n",
    "Experiment where # of times each sample is seen is consistent with prior experiment."
   ]
  },
  {
   "cell_type": "code",
   "execution_count": 54,
   "id": "da0b86a0",
   "metadata": {},
   "outputs": [],
   "source": [
    "result_dir3 = os.path.join(base_result_dir, \"3_distilbert_finetuned_author/epoch_3_run\")"
   ]
  },
  {
   "cell_type": "code",
   "execution_count": 55,
   "id": "b7eebb1d",
   "metadata": {},
   "outputs": [
    {
     "name": "stdout",
     "output_type": "stream",
     "text": [
      "Found results for 50 users\n"
     ]
    }
   ],
   "source": [
    "exp_analyzer3 = PerUserExpAnalyzer(result_dir3)"
   ]
  },
  {
   "cell_type": "code",
   "execution_count": 56,
   "id": "59c3fa32",
   "metadata": {},
   "outputs": [
    {
     "data": {
      "text/html": [
       "<div>\n",
       "<style scoped>\n",
       "    .dataframe tbody tr th:only-of-type {\n",
       "        vertical-align: middle;\n",
       "    }\n",
       "\n",
       "    .dataframe tbody tr th {\n",
       "        vertical-align: top;\n",
       "    }\n",
       "\n",
       "    .dataframe thead th {\n",
       "        text-align: right;\n",
       "    }\n",
       "</style>\n",
       "<table border=\"1\" class=\"dataframe\">\n",
       "  <thead>\n",
       "    <tr style=\"text-align: right;\">\n",
       "      <th></th>\n",
       "      <th>data_split</th>\n",
       "      <th>loss</th>\n",
       "      <th>perplexity</th>\n",
       "      <th>author</th>\n",
       "    </tr>\n",
       "  </thead>\n",
       "  <tbody>\n",
       "    <tr>\n",
       "      <th>0</th>\n",
       "      <td>train</td>\n",
       "      <td>2.446107</td>\n",
       "      <td>11.543318</td>\n",
       "      <td>goodluckchuck11</td>\n",
       "    </tr>\n",
       "    <tr>\n",
       "      <th>1</th>\n",
       "      <td>eval</td>\n",
       "      <td>2.512982</td>\n",
       "      <td>12.341674</td>\n",
       "      <td>goodluckchuck11</td>\n",
       "    </tr>\n",
       "    <tr>\n",
       "      <th>2</th>\n",
       "      <td>test</td>\n",
       "      <td>2.500099</td>\n",
       "      <td>12.183702</td>\n",
       "      <td>goodluckchuck11</td>\n",
       "    </tr>\n",
       "    <tr>\n",
       "      <th>0</th>\n",
       "      <td>train</td>\n",
       "      <td>2.627633</td>\n",
       "      <td>13.840970</td>\n",
       "      <td>binarygold</td>\n",
       "    </tr>\n",
       "    <tr>\n",
       "      <th>1</th>\n",
       "      <td>eval</td>\n",
       "      <td>2.747965</td>\n",
       "      <td>15.610829</td>\n",
       "      <td>binarygold</td>\n",
       "    </tr>\n",
       "    <tr>\n",
       "      <th>...</th>\n",
       "      <td>...</td>\n",
       "      <td>...</td>\n",
       "      <td>...</td>\n",
       "      <td>...</td>\n",
       "    </tr>\n",
       "    <tr>\n",
       "      <th>1</th>\n",
       "      <td>eval</td>\n",
       "      <td>2.205610</td>\n",
       "      <td>9.075786</td>\n",
       "      <td>goodDayM</td>\n",
       "    </tr>\n",
       "    <tr>\n",
       "      <th>2</th>\n",
       "      <td>test</td>\n",
       "      <td>2.615734</td>\n",
       "      <td>13.677253</td>\n",
       "      <td>goodDayM</td>\n",
       "    </tr>\n",
       "    <tr>\n",
       "      <th>0</th>\n",
       "      <td>train</td>\n",
       "      <td>2.521257</td>\n",
       "      <td>12.444228</td>\n",
       "      <td>HelloImLucas</td>\n",
       "    </tr>\n",
       "    <tr>\n",
       "      <th>1</th>\n",
       "      <td>eval</td>\n",
       "      <td>2.639590</td>\n",
       "      <td>14.007453</td>\n",
       "      <td>HelloImLucas</td>\n",
       "    </tr>\n",
       "    <tr>\n",
       "      <th>2</th>\n",
       "      <td>test</td>\n",
       "      <td>2.679849</td>\n",
       "      <td>14.582886</td>\n",
       "      <td>HelloImLucas</td>\n",
       "    </tr>\n",
       "  </tbody>\n",
       "</table>\n",
       "<p>150 rows × 4 columns</p>\n",
       "</div>"
      ],
      "text/plain": [
       "   data_split      loss  perplexity           author\n",
       "0       train  2.446107   11.543318  goodluckchuck11\n",
       "1        eval  2.512982   12.341674  goodluckchuck11\n",
       "2        test  2.500099   12.183702  goodluckchuck11\n",
       "0       train  2.627633   13.840970       binarygold\n",
       "1        eval  2.747965   15.610829       binarygold\n",
       "..        ...       ...         ...              ...\n",
       "1        eval  2.205610    9.075786         goodDayM\n",
       "2        test  2.615734   13.677253         goodDayM\n",
       "0       train  2.521257   12.444228     HelloImLucas\n",
       "1        eval  2.639590   14.007453     HelloImLucas\n",
       "2        test  2.679849   14.582886     HelloImLucas\n",
       "\n",
       "[150 rows x 4 columns]"
      ]
     },
     "execution_count": 56,
     "metadata": {},
     "output_type": "execute_result"
    }
   ],
   "source": [
    "exp_analyzer3.data_split_perf_df"
   ]
  },
  {
   "cell_type": "code",
   "execution_count": 57,
   "id": "d5c43ea9",
   "metadata": {},
   "outputs": [],
   "source": [
    "test_df = exp_analyzer3.data_split_perf_df[exp_analyzer3.data_split_perf_df[\"data_split\"] == \"test\"]"
   ]
  },
  {
   "cell_type": "code",
   "execution_count": 58,
   "id": "fff4babf",
   "metadata": {},
   "outputs": [
    {
     "data": {
      "text/plain": [
       "loss           2.591453\n",
       "perplexity    14.962729\n",
       "dtype: float64"
      ]
     },
     "execution_count": 58,
     "metadata": {},
     "output_type": "execute_result"
    }
   ],
   "source": [
    "test_df.mean()"
   ]
  },
  {
   "cell_type": "code",
   "execution_count": 59,
   "id": "571777ad",
   "metadata": {},
   "outputs": [
    {
     "data": {
      "text/plain": [
       "loss          0.465484\n",
       "perplexity    8.287779\n",
       "dtype: float64"
      ]
     },
     "execution_count": 59,
     "metadata": {},
     "output_type": "execute_result"
    }
   ],
   "source": [
    "test_df.std()"
   ]
  },
  {
   "cell_type": "code",
   "execution_count": 60,
   "id": "3e5a076e",
   "metadata": {},
   "outputs": [
    {
     "data": {
      "image/png": "[encoded data removed]",
      "text/plain": [
       "<Figure size 432x288 with 1 Axes>"
      ]
     },
     "metadata": {},
     "output_type": "display_data"
    },
    {
     "data": {
      "text/plain": [
       "<Figure size 432x288 with 0 Axes>"
      ]
     },
     "metadata": {},
     "output_type": "display_data"
    }
   ],
   "source": [
    "exp_analyzer3.plot_metric_hist(\"perplexity\")"
   ]
  },
  {
   "cell_type": "markdown",
   "id": "b995873d",
   "metadata": {},
   "source": [
    "# Subject Fine-tune - 2000 steps + variable number of epochs\n",
    "\n",
    "Experiment where # training steps is consistents but # of times each sample is seen varies."
   ]
  },
  {
   "cell_type": "markdown",
   "id": "df08cc52",
   "metadata": {},
   "source": [
    "### Results for single user with 85 training examples (exab)"
   ]
  },
  {
   "cell_type": "code",
   "execution_count": 61,
   "id": "b957f576",
   "metadata": {},
   "outputs": [
    {
     "data": {
      "text/html": [
       "<div>\n",
       "<style scoped>\n",
       "    .dataframe tbody tr th:only-of-type {\n",
       "        vertical-align: middle;\n",
       "    }\n",
       "\n",
       "    .dataframe tbody tr th {\n",
       "        vertical-align: top;\n",
       "    }\n",
       "\n",
       "    .dataframe thead th {\n",
       "        text-align: right;\n",
       "    }\n",
       "</style>\n",
       "<table border=\"1\" class=\"dataframe\">\n",
       "  <thead>\n",
       "    <tr style=\"text-align: right;\">\n",
       "      <th></th>\n",
       "      <th>data_split</th>\n",
       "      <th>loss</th>\n",
       "      <th>perplexity</th>\n",
       "    </tr>\n",
       "  </thead>\n",
       "  <tbody>\n",
       "    <tr>\n",
       "      <th>0</th>\n",
       "      <td>train</td>\n",
       "      <td>0.314765</td>\n",
       "      <td>1.369938</td>\n",
       "    </tr>\n",
       "    <tr>\n",
       "      <th>1</th>\n",
       "      <td>eval</td>\n",
       "      <td>2.835886</td>\n",
       "      <td>17.045496</td>\n",
       "    </tr>\n",
       "    <tr>\n",
       "      <th>2</th>\n",
       "      <td>test</td>\n",
       "      <td>2.856753</td>\n",
       "      <td>17.404927</td>\n",
       "    </tr>\n",
       "  </tbody>\n",
       "</table>\n",
       "</div>"
      ],
      "text/plain": [
       "  data_split      loss  perplexity\n",
       "0      train  0.314765    1.369938\n",
       "1       eval  2.835886   17.045496\n",
       "2       test  2.856753   17.404927"
      ]
     },
     "execution_count": 61,
     "metadata": {},
     "output_type": "execute_result"
    }
   ],
   "source": [
    "result_dir4 = os.path.join(base_result_dir, \"3_distilbert_finetuned_author/exab\")\n",
    "ea4 = ExpAnalyzer(result_dir4)\n",
    "ea4.data_split_perf_df"
   ]
  },
  {
   "cell_type": "code",
   "execution_count": 63,
   "id": "174bb497",
   "metadata": {},
   "outputs": [
    {
     "data": {
      "image/png": "[encoded data removed]",
      "text/plain": [
       "<Figure size 432x288 with 1 Axes>"
      ]
     },
     "metadata": {},
     "output_type": "display_data"
    },
    {
     "data": {
      "text/plain": [
       "<Figure size 432x288 with 0 Axes>"
      ]
     },
     "metadata": {},
     "output_type": "display_data"
    }
   ],
   "source": [
    "ea4.plot_metric_hist(\"perplexity\")"
   ]
  },
  {
   "cell_type": "code",
   "execution_count": 66,
   "id": "a615e791",
   "metadata": {},
   "outputs": [
    {
     "data": {
      "text/html": [
       "<div>\n",
       "<style scoped>\n",
       "    .dataframe tbody tr th:only-of-type {\n",
       "        vertical-align: middle;\n",
       "    }\n",
       "\n",
       "    .dataframe tbody tr th {\n",
       "        vertical-align: top;\n",
       "    }\n",
       "\n",
       "    .dataframe thead th {\n",
       "        text-align: right;\n",
       "    }\n",
       "</style>\n",
       "<table border=\"1\" class=\"dataframe\">\n",
       "  <thead>\n",
       "    <tr style=\"text-align: right;\">\n",
       "      <th></th>\n",
       "      <th>data_split</th>\n",
       "      <th>loss</th>\n",
       "      <th>perplexity</th>\n",
       "    </tr>\n",
       "  </thead>\n",
       "  <tbody>\n",
       "    <tr>\n",
       "      <th>0</th>\n",
       "      <td>train</td>\n",
       "      <td>2.464414</td>\n",
       "      <td>11.756593</td>\n",
       "    </tr>\n",
       "    <tr>\n",
       "      <th>1</th>\n",
       "      <td>eval</td>\n",
       "      <td>2.353150</td>\n",
       "      <td>10.518653</td>\n",
       "    </tr>\n",
       "    <tr>\n",
       "      <th>2</th>\n",
       "      <td>test</td>\n",
       "      <td>2.533715</td>\n",
       "      <td>12.600226</td>\n",
       "    </tr>\n",
       "  </tbody>\n",
       "</table>\n",
       "</div>"
      ],
      "text/plain": [
       "  data_split      loss  perplexity\n",
       "0      train  2.464414   11.756593\n",
       "1       eval  2.353150   10.518653\n",
       "2       test  2.533715   12.600226"
      ]
     },
     "execution_count": 66,
     "metadata": {},
     "output_type": "execute_result"
    }
   ],
   "source": [
    "result_dir5 = os.path.join(base_result_dir, \"3_distilbert_finetuned_author/epoch_3_run/exab\")\n",
    "ea5 = ExpAnalyzer(result_dir5)\n",
    "ea5.data_split_perf_df"
   ]
  },
  {
   "cell_type": "code",
   "execution_count": 67,
   "id": "80f3c930",
   "metadata": {},
   "outputs": [
    {
     "data": {
      "image/png": "[encoded data removed]",
      "text/plain": [
       "<Figure size 432x288 with 1 Axes>"
      ]
     },
     "metadata": {},
     "output_type": "display_data"
    },
    {
     "data": {
      "text/plain": [
       "<Figure size 432x288 with 0 Axes>"
      ]
     },
     "metadata": {},
     "output_type": "display_data"
    }
   ],
   "source": [
    "ea5.plot_metric_hist(\"perplexity\")"
   ]
  },
  {
   "cell_type": "code",
   "execution_count": 68,
   "id": "ebb0e50e",
   "metadata": {},
   "outputs": [
    {
     "data": {
      "text/html": [
       "<div>\n",
       "<style scoped>\n",
       "    .dataframe tbody tr th:only-of-type {\n",
       "        vertical-align: middle;\n",
       "    }\n",
       "\n",
       "    .dataframe tbody tr th {\n",
       "        vertical-align: top;\n",
       "    }\n",
       "\n",
       "    .dataframe thead th {\n",
       "        text-align: right;\n",
       "    }\n",
       "</style>\n",
       "<table border=\"1\" class=\"dataframe\">\n",
       "  <thead>\n",
       "    <tr style=\"text-align: right;\">\n",
       "      <th></th>\n",
       "      <th>data_split</th>\n",
       "      <th>loss</th>\n",
       "      <th>perplexity</th>\n",
       "    </tr>\n",
       "  </thead>\n",
       "  <tbody>\n",
       "    <tr>\n",
       "      <th>0</th>\n",
       "      <td>train</td>\n",
       "      <td>0.146799</td>\n",
       "      <td>1.158121</td>\n",
       "    </tr>\n",
       "    <tr>\n",
       "      <th>1</th>\n",
       "      <td>eval</td>\n",
       "      <td>3.676287</td>\n",
       "      <td>39.499448</td>\n",
       "    </tr>\n",
       "    <tr>\n",
       "      <th>2</th>\n",
       "      <td>test</td>\n",
       "      <td>3.336973</td>\n",
       "      <td>28.133828</td>\n",
       "    </tr>\n",
       "  </tbody>\n",
       "</table>\n",
       "</div>"
      ],
      "text/plain": [
       "  data_split      loss  perplexity\n",
       "0      train  0.146799    1.158121\n",
       "1       eval  3.676287   39.499448\n",
       "2       test  3.336973   28.133828"
      ]
     },
     "execution_count": 68,
     "metadata": {},
     "output_type": "execute_result"
    }
   ],
   "source": [
    "result_dir6 = os.path.join(base_result_dir, \"3_distilbert_finetuned_author/Eriflee\")\n",
    "ea6 = ExpAnalyzer(result_dir6)\n",
    "ea6.data_split_perf_df"
   ]
  },
  {
   "cell_type": "code",
   "execution_count": 69,
   "id": "c088a949",
   "metadata": {},
   "outputs": [
    {
     "data": {
      "image/png": "[encoded data removed]",
      "text/plain": [
       "<Figure size 432x288 with 1 Axes>"
      ]
     },
     "metadata": {},
     "output_type": "display_data"
    },
    {
     "data": {
      "text/plain": [
       "<Figure size 432x288 with 0 Axes>"
      ]
     },
     "metadata": {},
     "output_type": "display_data"
    }
   ],
   "source": [
    "ea6.plot_metric_hist(\"perplexity\")"
   ]
  },
  {
   "cell_type": "code",
   "execution_count": 71,
   "id": "da08f46f",
   "metadata": {},
   "outputs": [
    {
     "data": {
      "text/html": [
       "<div>\n",
       "<style scoped>\n",
       "    .dataframe tbody tr th:only-of-type {\n",
       "        vertical-align: middle;\n",
       "    }\n",
       "\n",
       "    .dataframe tbody tr th {\n",
       "        vertical-align: top;\n",
       "    }\n",
       "\n",
       "    .dataframe thead th {\n",
       "        text-align: right;\n",
       "    }\n",
       "</style>\n",
       "<table border=\"1\" class=\"dataframe\">\n",
       "  <thead>\n",
       "    <tr style=\"text-align: right;\">\n",
       "      <th></th>\n",
       "      <th>data_split</th>\n",
       "      <th>loss</th>\n",
       "      <th>perplexity</th>\n",
       "    </tr>\n",
       "  </thead>\n",
       "  <tbody>\n",
       "    <tr>\n",
       "      <th>0</th>\n",
       "      <td>train</td>\n",
       "      <td>2.557902</td>\n",
       "      <td>12.908711</td>\n",
       "    </tr>\n",
       "    <tr>\n",
       "      <th>1</th>\n",
       "      <td>eval</td>\n",
       "      <td>2.514007</td>\n",
       "      <td>12.354330</td>\n",
       "    </tr>\n",
       "    <tr>\n",
       "      <th>2</th>\n",
       "      <td>test</td>\n",
       "      <td>2.360609</td>\n",
       "      <td>10.597401</td>\n",
       "    </tr>\n",
       "  </tbody>\n",
       "</table>\n",
       "</div>"
      ],
      "text/plain": [
       "  data_split      loss  perplexity\n",
       "0      train  2.557902   12.908711\n",
       "1       eval  2.514007   12.354330\n",
       "2       test  2.360609   10.597401"
      ]
     },
     "execution_count": 71,
     "metadata": {},
     "output_type": "execute_result"
    }
   ],
   "source": [
    "result_dir7 = os.path.join(base_result_dir, \"3_distilbert_finetuned_author/epoch_3_run/Eriflee\")\n",
    "ea7 = ExpAnalyzer(result_dir7)\n",
    "ea7.data_split_perf_df"
   ]
  },
  {
   "cell_type": "code",
   "execution_count": 72,
   "id": "0c8a003c",
   "metadata": {},
   "outputs": [
    {
     "data": {
      "image/png": "[encoded data removed]",
      "text/plain": [
       "<Figure size 432x288 with 1 Axes>"
      ]
     },
     "metadata": {},
     "output_type": "display_data"
    },
    {
     "data": {
      "text/plain": [
       "<Figure size 432x288 with 0 Axes>"
      ]
     },
     "metadata": {},
     "output_type": "display_data"
    }
   ],
   "source": [
    "ea7.plot_metric_hist(\"perplexity\")"
   ]
  },
  {
   "cell_type": "code",
   "execution_count": 73,
   "id": "d2c77fab",
   "metadata": {},
   "outputs": [
    {
     "name": "stdout",
     "output_type": "stream",
     "text": [
      "Found results for 5 users\n"
     ]
    }
   ],
   "source": [
    "result_dir8 = os.path.join(base_result_dir, \"3_distilbert_finetuned_author/\")\n",
    "ea8 = PerUserExpAnalyzer(result_dir8)"
   ]
  },
  {
   "cell_type": "code",
   "execution_count": 74,
   "id": "898dc06d",
   "metadata": {},
   "outputs": [
    {
     "data": {
      "text/html": [
       "<div>\n",
       "<style scoped>\n",
       "    .dataframe tbody tr th:only-of-type {\n",
       "        vertical-align: middle;\n",
       "    }\n",
       "\n",
       "    .dataframe tbody tr th {\n",
       "        vertical-align: top;\n",
       "    }\n",
       "\n",
       "    .dataframe thead th {\n",
       "        text-align: right;\n",
       "    }\n",
       "</style>\n",
       "<table border=\"1\" class=\"dataframe\">\n",
       "  <thead>\n",
       "    <tr style=\"text-align: right;\">\n",
       "      <th></th>\n",
       "      <th>data_split</th>\n",
       "      <th>loss</th>\n",
       "      <th>perplexity</th>\n",
       "      <th>author</th>\n",
       "    </tr>\n",
       "  </thead>\n",
       "  <tbody>\n",
       "    <tr>\n",
       "      <th>0</th>\n",
       "      <td>train</td>\n",
       "      <td>0.127322</td>\n",
       "      <td>1.135782</td>\n",
       "      <td>escapevelo</td>\n",
       "    </tr>\n",
       "    <tr>\n",
       "      <th>1</th>\n",
       "      <td>eval</td>\n",
       "      <td>3.458401</td>\n",
       "      <td>31.766141</td>\n",
       "      <td>escapevelo</td>\n",
       "    </tr>\n",
       "    <tr>\n",
       "      <th>2</th>\n",
       "      <td>test</td>\n",
       "      <td>3.983747</td>\n",
       "      <td>53.717965</td>\n",
       "      <td>escapevelo</td>\n",
       "    </tr>\n",
       "    <tr>\n",
       "      <th>0</th>\n",
       "      <td>train</td>\n",
       "      <td>0.314765</td>\n",
       "      <td>1.369938</td>\n",
       "      <td>exab</td>\n",
       "    </tr>\n",
       "    <tr>\n",
       "      <th>1</th>\n",
       "      <td>eval</td>\n",
       "      <td>2.835886</td>\n",
       "      <td>17.045496</td>\n",
       "      <td>exab</td>\n",
       "    </tr>\n",
       "    <tr>\n",
       "      <th>2</th>\n",
       "      <td>test</td>\n",
       "      <td>2.856753</td>\n",
       "      <td>17.404927</td>\n",
       "      <td>exab</td>\n",
       "    </tr>\n",
       "    <tr>\n",
       "      <th>0</th>\n",
       "      <td>train</td>\n",
       "      <td>0.146799</td>\n",
       "      <td>1.158121</td>\n",
       "      <td>Eriflee</td>\n",
       "    </tr>\n",
       "    <tr>\n",
       "      <th>1</th>\n",
       "      <td>eval</td>\n",
       "      <td>3.676287</td>\n",
       "      <td>39.499448</td>\n",
       "      <td>Eriflee</td>\n",
       "    </tr>\n",
       "    <tr>\n",
       "      <th>2</th>\n",
       "      <td>test</td>\n",
       "      <td>3.336973</td>\n",
       "      <td>28.133828</td>\n",
       "      <td>Eriflee</td>\n",
       "    </tr>\n",
       "  </tbody>\n",
       "</table>\n",
       "</div>"
      ],
      "text/plain": [
       "  data_split      loss  perplexity      author\n",
       "0      train  0.127322    1.135782  escapevelo\n",
       "1       eval  3.458401   31.766141  escapevelo\n",
       "2       test  3.983747   53.717965  escapevelo\n",
       "0      train  0.314765    1.369938        exab\n",
       "1       eval  2.835886   17.045496        exab\n",
       "2       test  2.856753   17.404927        exab\n",
       "0      train  0.146799    1.158121     Eriflee\n",
       "1       eval  3.676287   39.499448     Eriflee\n",
       "2       test  3.336973   28.133828     Eriflee"
      ]
     },
     "execution_count": 74,
     "metadata": {},
     "output_type": "execute_result"
    }
   ],
   "source": [
    "ea8.data_split_perf_df"
   ]
  },
  {
   "cell_type": "code",
   "execution_count": 75,
   "id": "f4085060",
   "metadata": {},
   "outputs": [
    {
     "data": {
      "image/png": "[encoded data removed]",
      "text/plain": [
       "<Figure size 432x288 with 1 Axes>"
      ]
     },
     "metadata": {},
     "output_type": "display_data"
    },
    {
     "data": {
      "text/plain": [
       "<Figure size 432x288 with 0 Axes>"
      ]
     },
     "metadata": {},
     "output_type": "display_data"
    }
   ],
   "source": [
    "ea8.plot_metric_hist(\"perplexity\")"
   ]
  },
  {
   "cell_type": "markdown",
   "id": "6bb8ca6a",
   "metadata": {},
   "source": [
    "## Get Per-Subreddit Perf."
   ]
  },
  {
   "cell_type": "code",
   "execution_count": 77,
   "id": "3c50879a",
   "metadata": {},
   "outputs": [
    {
     "data": {
      "text/html": [
       "<div>\n",
       "<style scoped>\n",
       "    .dataframe tbody tr th:only-of-type {\n",
       "        vertical-align: middle;\n",
       "    }\n",
       "\n",
       "    .dataframe tbody tr th {\n",
       "        vertical-align: top;\n",
       "    }\n",
       "\n",
       "    .dataframe thead th {\n",
       "        text-align: right;\n",
       "    }\n",
       "</style>\n",
       "<table border=\"1\" class=\"dataframe\">\n",
       "  <thead>\n",
       "    <tr style=\"text-align: right;\">\n",
       "      <th></th>\n",
       "      <th>data_split</th>\n",
       "      <th>loss</th>\n",
       "      <th>perplexity</th>\n",
       "    </tr>\n",
       "  </thead>\n",
       "  <tbody>\n",
       "    <tr>\n",
       "      <th>0</th>\n",
       "      <td>eval</td>\n",
       "      <td>2.888228</td>\n",
       "      <td>17.961461</td>\n",
       "    </tr>\n",
       "    <tr>\n",
       "      <th>1</th>\n",
       "      <td>test</td>\n",
       "      <td>2.914612</td>\n",
       "      <td>18.441652</td>\n",
       "    </tr>\n",
       "  </tbody>\n",
       "</table>\n",
       "</div>"
      ],
      "text/plain": [
       "  data_split      loss  perplexity\n",
       "0       eval  2.888228   17.961461\n",
       "1       test  2.914612   18.441652"
      ]
     },
     "execution_count": 77,
     "metadata": {},
     "output_type": "execute_result"
    }
   ],
   "source": [
    "rd1 = os.path.join(base_result_dir, \"1_bert_distill_pretrained\")\n",
    "ea1 = ExpAnalyzer(rd1)\n",
    "ea1.data_split_perf_df"
   ]
  },
  {
   "cell_type": "code",
   "execution_count": 80,
   "id": "e5fbf95d",
   "metadata": {},
   "outputs": [
    {
     "data": {
      "text/plain": [
       "loss           2.821629\n",
       "perplexity    17.023798\n",
       "dtype: float64"
      ]
     },
     "execution_count": 80,
     "metadata": {},
     "output_type": "execute_result"
    }
   ],
   "source": [
    "ea1.sr_result_df.mean()"
   ]
  },
  {
   "cell_type": "code",
   "execution_count": 81,
   "id": "706253a8",
   "metadata": {},
   "outputs": [
    {
     "data": {
      "text/plain": [
       "loss          0.175319\n",
       "perplexity    3.052106\n",
       "dtype: float64"
      ]
     },
     "execution_count": 81,
     "metadata": {},
     "output_type": "execute_result"
    }
   ],
   "source": [
    "ea1.sr_result_df.std()"
   ]
  },
  {
   "cell_type": "code",
   "execution_count": 89,
   "id": "604d30af",
   "metadata": {},
   "outputs": [
    {
     "name": "stdout",
     "output_type": "stream",
     "text": [
      "Found results for 6 sub-populations\n"
     ]
    },
    {
     "data": {
      "text/html": [
       "<div>\n",
       "<style scoped>\n",
       "    .dataframe tbody tr th:only-of-type {\n",
       "        vertical-align: middle;\n",
       "    }\n",
       "\n",
       "    .dataframe tbody tr th {\n",
       "        vertical-align: top;\n",
       "    }\n",
       "\n",
       "    .dataframe thead th {\n",
       "        text-align: right;\n",
       "    }\n",
       "</style>\n",
       "<table border=\"1\" class=\"dataframe\">\n",
       "  <thead>\n",
       "    <tr style=\"text-align: right;\">\n",
       "      <th></th>\n",
       "      <th>data_split</th>\n",
       "      <th>loss</th>\n",
       "      <th>perplexity</th>\n",
       "      <th>subreddit</th>\n",
       "    </tr>\n",
       "  </thead>\n",
       "  <tbody>\n",
       "    <tr>\n",
       "      <th>0</th>\n",
       "      <td>train</td>\n",
       "      <td>2.266367</td>\n",
       "      <td>9.644300</td>\n",
       "      <td>AskDocs</td>\n",
       "    </tr>\n",
       "    <tr>\n",
       "      <th>1</th>\n",
       "      <td>eval</td>\n",
       "      <td>1.939589</td>\n",
       "      <td>6.955888</td>\n",
       "      <td>AskDocs</td>\n",
       "    </tr>\n",
       "    <tr>\n",
       "      <th>2</th>\n",
       "      <td>test</td>\n",
       "      <td>2.120498</td>\n",
       "      <td>8.335291</td>\n",
       "      <td>AskDocs</td>\n",
       "    </tr>\n",
       "    <tr>\n",
       "      <th>0</th>\n",
       "      <td>train</td>\n",
       "      <td>2.255851</td>\n",
       "      <td>9.543416</td>\n",
       "      <td>mentalhealth</td>\n",
       "    </tr>\n",
       "    <tr>\n",
       "      <th>1</th>\n",
       "      <td>eval</td>\n",
       "      <td>2.117081</td>\n",
       "      <td>8.306852</td>\n",
       "      <td>mentalhealth</td>\n",
       "    </tr>\n",
       "    <tr>\n",
       "      <th>2</th>\n",
       "      <td>test</td>\n",
       "      <td>2.188904</td>\n",
       "      <td>8.925424</td>\n",
       "      <td>mentalhealth</td>\n",
       "    </tr>\n",
       "    <tr>\n",
       "      <th>0</th>\n",
       "      <td>train</td>\n",
       "      <td>2.239104</td>\n",
       "      <td>9.384917</td>\n",
       "      <td>Bitcoin</td>\n",
       "    </tr>\n",
       "    <tr>\n",
       "      <th>1</th>\n",
       "      <td>eval</td>\n",
       "      <td>2.241042</td>\n",
       "      <td>9.403126</td>\n",
       "      <td>Bitcoin</td>\n",
       "    </tr>\n",
       "    <tr>\n",
       "      <th>2</th>\n",
       "      <td>test</td>\n",
       "      <td>2.308728</td>\n",
       "      <td>10.061623</td>\n",
       "      <td>Bitcoin</td>\n",
       "    </tr>\n",
       "    <tr>\n",
       "      <th>0</th>\n",
       "      <td>train</td>\n",
       "      <td>1.612975</td>\n",
       "      <td>5.017715</td>\n",
       "      <td>investing</td>\n",
       "    </tr>\n",
       "    <tr>\n",
       "      <th>1</th>\n",
       "      <td>eval</td>\n",
       "      <td>2.379985</td>\n",
       "      <td>10.804742</td>\n",
       "      <td>investing</td>\n",
       "    </tr>\n",
       "    <tr>\n",
       "      <th>2</th>\n",
       "      <td>test</td>\n",
       "      <td>2.276470</td>\n",
       "      <td>9.742231</td>\n",
       "      <td>investing</td>\n",
       "    </tr>\n",
       "    <tr>\n",
       "      <th>0</th>\n",
       "      <td>train</td>\n",
       "      <td>2.174514</td>\n",
       "      <td>8.797908</td>\n",
       "      <td>relationship_advice</td>\n",
       "    </tr>\n",
       "    <tr>\n",
       "      <th>1</th>\n",
       "      <td>eval</td>\n",
       "      <td>2.053876</td>\n",
       "      <td>7.798071</td>\n",
       "      <td>relationship_advice</td>\n",
       "    </tr>\n",
       "    <tr>\n",
       "      <th>2</th>\n",
       "      <td>test</td>\n",
       "      <td>1.955406</td>\n",
       "      <td>7.066789</td>\n",
       "      <td>relationship_advice</td>\n",
       "    </tr>\n",
       "    <tr>\n",
       "      <th>0</th>\n",
       "      <td>train</td>\n",
       "      <td>2.263063</td>\n",
       "      <td>9.612490</td>\n",
       "      <td>relationships</td>\n",
       "    </tr>\n",
       "    <tr>\n",
       "      <th>1</th>\n",
       "      <td>eval</td>\n",
       "      <td>2.141998</td>\n",
       "      <td>8.516435</td>\n",
       "      <td>relationships</td>\n",
       "    </tr>\n",
       "    <tr>\n",
       "      <th>2</th>\n",
       "      <td>test</td>\n",
       "      <td>2.043024</td>\n",
       "      <td>7.713898</td>\n",
       "      <td>relationships</td>\n",
       "    </tr>\n",
       "  </tbody>\n",
       "</table>\n",
       "</div>"
      ],
      "text/plain": [
       "  data_split      loss  perplexity            subreddit\n",
       "0      train  2.266367    9.644300              AskDocs\n",
       "1       eval  1.939589    6.955888              AskDocs\n",
       "2       test  2.120498    8.335291              AskDocs\n",
       "0      train  2.255851    9.543416         mentalhealth\n",
       "1       eval  2.117081    8.306852         mentalhealth\n",
       "2       test  2.188904    8.925424         mentalhealth\n",
       "0      train  2.239104    9.384917              Bitcoin\n",
       "1       eval  2.241042    9.403126              Bitcoin\n",
       "2       test  2.308728   10.061623              Bitcoin\n",
       "0      train  1.612975    5.017715            investing\n",
       "1       eval  2.379985   10.804742            investing\n",
       "2       test  2.276470    9.742231            investing\n",
       "0      train  2.174514    8.797908  relationship_advice\n",
       "1       eval  2.053876    7.798071  relationship_advice\n",
       "2       test  1.955406    7.066789  relationship_advice\n",
       "0      train  2.263063    9.612490        relationships\n",
       "1       eval  2.141998    8.516435        relationships\n",
       "2       test  2.043024    7.713898        relationships"
      ]
     },
     "execution_count": 89,
     "metadata": {},
     "output_type": "execute_result"
    }
   ],
   "source": [
    "rd9 = os.path.join(base_result_dir, \"4_distilbert_finetuned_subreddit\")\n",
    "ea9 = PerPopulationExpAnalyzer(rd9, \"subreddit\")\n",
    "ea9.data_split_perf_df"
   ]
  },
  {
   "cell_type": "code",
   "execution_count": 90,
   "id": "f7f216c4",
   "metadata": {},
   "outputs": [
    {
     "data": {
      "image/png": "[encoded data removed]",
      "text/plain": [
       "<Figure size 432x288 with 1 Axes>"
      ]
     },
     "metadata": {},
     "output_type": "display_data"
    },
    {
     "data": {
      "text/plain": [
       "<Figure size 432x288 with 0 Axes>"
      ]
     },
     "metadata": {},
     "output_type": "display_data"
    }
   ],
   "source": [
    "ea9.plot_metric_hist(\"perplexity\")"
   ]
  },
  {
   "cell_type": "code",
   "execution_count": 91,
   "id": "41186889",
   "metadata": {},
   "outputs": [],
   "source": [
    "test_df = ea9.data_split_perf_df[ea9.data_split_perf_df[\"data_split\"] == \"test\"]"
   ]
  },
  {
   "cell_type": "code",
   "execution_count": 92,
   "id": "1cf989dc",
   "metadata": {},
   "outputs": [
    {
     "data": {
      "text/plain": [
       "loss          2.148838\n",
       "perplexity    8.640876\n",
       "dtype: float64"
      ]
     },
     "execution_count": 92,
     "metadata": {},
     "output_type": "execute_result"
    }
   ],
   "source": [
    "test_df.mean()"
   ]
  },
  {
   "cell_type": "code",
   "execution_count": null,
   "id": "f02b7ee9",
   "metadata": {},
   "outputs": [],
   "source": [
    "test_df.std()"
   ]
  },
  {
   "cell_type": "markdown",
   "id": "8433cb38",
   "metadata": {},
   "source": [
    "## Effect of constant LR"
   ]
  },
  {
   "cell_type": "code",
   "execution_count": 95,
   "id": "80d43ed7",
   "metadata": {},
   "outputs": [
    {
     "data": {
      "text/html": [
       "<div>\n",
       "<style scoped>\n",
       "    .dataframe tbody tr th:only-of-type {\n",
       "        vertical-align: middle;\n",
       "    }\n",
       "\n",
       "    .dataframe tbody tr th {\n",
       "        vertical-align: top;\n",
       "    }\n",
       "\n",
       "    .dataframe thead th {\n",
       "        text-align: right;\n",
       "    }\n",
       "</style>\n",
       "<table border=\"1\" class=\"dataframe\">\n",
       "  <thead>\n",
       "    <tr style=\"text-align: right;\">\n",
       "      <th></th>\n",
       "      <th>data_split</th>\n",
       "      <th>loss</th>\n",
       "      <th>perplexity</th>\n",
       "    </tr>\n",
       "  </thead>\n",
       "  <tbody>\n",
       "    <tr>\n",
       "      <th>0</th>\n",
       "      <td>train</td>\n",
       "      <td>2.034876</td>\n",
       "      <td>7.651303</td>\n",
       "    </tr>\n",
       "    <tr>\n",
       "      <th>1</th>\n",
       "      <td>eval</td>\n",
       "      <td>2.131445</td>\n",
       "      <td>8.427035</td>\n",
       "    </tr>\n",
       "    <tr>\n",
       "      <th>2</th>\n",
       "      <td>test</td>\n",
       "      <td>2.146064</td>\n",
       "      <td>8.551135</td>\n",
       "    </tr>\n",
       "  </tbody>\n",
       "</table>\n",
       "</div>"
      ],
      "text/plain": [
       "  data_split      loss  perplexity\n",
       "0      train  2.034876    7.651303\n",
       "1       eval  2.131445    8.427035\n",
       "2       test  2.146064    8.551135"
      ]
     },
     "execution_count": 95,
     "metadata": {},
     "output_type": "execute_result"
    }
   ],
   "source": [
    "result_dir10 = os.path.join(base_result_dir, \"2b_distilbert_finetuned_constant_lr\")\n",
    "ea10 = ExpAnalyzer(result_dir10)\n",
    "ea10.data_split_perf_df"
   ]
  },
  {
   "cell_type": "code",
   "execution_count": 96,
   "id": "12906c16",
   "metadata": {},
   "outputs": [
    {
     "data": {
      "text/plain": [
       "loss          2.168301\n",
       "perplexity    9.537226\n",
       "dtype: float64"
      ]
     },
     "execution_count": 96,
     "metadata": {},
     "output_type": "execute_result"
    }
   ],
   "source": [
    "ea10.author_result_df.mean()"
   ]
  },
  {
   "cell_type": "code",
   "execution_count": 97,
   "id": "006a06ca",
   "metadata": {},
   "outputs": [
    {
     "data": {
      "text/plain": [
       "loss          0.415313\n",
       "perplexity    4.424397\n",
       "dtype: float64"
      ]
     },
     "execution_count": 97,
     "metadata": {},
     "output_type": "execute_result"
    }
   ],
   "source": [
    "ea10.author_result_df.std()"
   ]
  },
  {
   "cell_type": "code",
   "execution_count": 100,
   "id": "7d7dd94f",
   "metadata": {},
   "outputs": [
    {
     "data": {
      "image/png": "[encoded data removed]",
      "text/plain": [
       "<Figure size 432x288 with 1 Axes>"
      ]
     },
     "metadata": {},
     "output_type": "display_data"
    },
    {
     "data": {
      "text/plain": [
       "<Figure size 432x288 with 0 Axes>"
      ]
     },
     "metadata": {},
     "output_type": "display_data"
    }
   ],
   "source": [
    "ea10.plot_metric_hist(\"perplexity\")"
   ]
  },
  {
   "cell_type": "code",
   "execution_count": 106,
   "id": "fc280dd2",
   "metadata": {},
   "outputs": [
    {
     "data": {
      "text/plain": [
       "{'best_metric': 2.1578450202941895,\n",
       " 'best_model_checkpoint': '/data/ddmg/redditlanguagemodeling/results/2_distilbert_finetuned_all/checkpoint-1500',\n",
       " 'epoch': 3.0,\n",
       " 'global_step': 2034,\n",
       " 'is_hyper_param_search': False,\n",
       " 'is_local_process_zero': True,\n",
       " 'is_world_process_zero': True,\n",
       " 'log_history': [{'epoch': 0.74,\n",
       "   'learning_rate': 3.770894788593904e-05,\n",
       "   'loss': 2.2341,\n",
       "   'step': 500},\n",
       "  {'epoch': 0.74,\n",
       "   'eval_loss': 2.3367607593536377,\n",
       "   'eval_runtime': 5.2304,\n",
       "   'eval_samples_per_second': 90.432,\n",
       "   'step': 500},\n",
       "  {'epoch': 1.47,\n",
       "   'learning_rate': 2.5417895771878074e-05,\n",
       "   'loss': 2.0405,\n",
       "   'step': 1000},\n",
       "  {'epoch': 1.47,\n",
       "   'eval_loss': 2.2072722911834717,\n",
       "   'eval_runtime': 5.2234,\n",
       "   'eval_samples_per_second': 90.554,\n",
       "   'step': 1000},\n",
       "  {'epoch': 2.21,\n",
       "   'learning_rate': 1.3126843657817109e-05,\n",
       "   'loss': 1.96,\n",
       "   'step': 1500},\n",
       "  {'epoch': 2.21,\n",
       "   'eval_loss': 2.1578450202941895,\n",
       "   'eval_runtime': 5.2264,\n",
       "   'eval_samples_per_second': 90.502,\n",
       "   'step': 1500},\n",
       "  {'epoch': 2.95,\n",
       "   'learning_rate': 8.357915437561455e-07,\n",
       "   'loss': 1.9162,\n",
       "   'step': 2000},\n",
       "  {'epoch': 2.95,\n",
       "   'eval_loss': 2.1649410724639893,\n",
       "   'eval_runtime': 5.2395,\n",
       "   'eval_samples_per_second': 90.276,\n",
       "   'step': 2000},\n",
       "  {'epoch': 3.0,\n",
       "   'step': 2034,\n",
       "   'total_flos': 219631083995520.0,\n",
       "   'train_runtime': 1477.991,\n",
       "   'train_samples_per_second': 1.376}],\n",
       " 'max_steps': 2034,\n",
       " 'num_train_epochs': 3,\n",
       " 'total_flos': 219631083995520.0,\n",
       " 'trial_name': None,\n",
       " 'trial_params': None}"
      ]
     },
     "execution_count": 106,
     "metadata": {},
     "output_type": "execute_result"
    }
   ],
   "source": [
    "ea1.trainer_state"
   ]
  },
  {
   "cell_type": "code",
   "execution_count": 102,
   "id": "72fa2e94",
   "metadata": {},
   "outputs": [
    {
     "data": {
      "text/plain": [
       "{'best_metric': 2.1719396114349365,\n",
       " 'best_model_checkpoint': '/data/ddmg/redditlanguagemodeling/results/2b_distilbert_finetuned_constant_lr/checkpoint-2000',\n",
       " 'epoch': 3.0,\n",
       " 'global_step': 2034,\n",
       " 'is_hyper_param_search': False,\n",
       " 'is_local_process_zero': True,\n",
       " 'is_world_process_zero': True,\n",
       " 'log_history': [{'epoch': 0.74,\n",
       "   'learning_rate': 5e-05,\n",
       "   'loss': 2.2345,\n",
       "   'step': 500},\n",
       "  {'epoch': 0.74,\n",
       "   'eval_loss': 2.3346219062805176,\n",
       "   'eval_runtime': 9.4906,\n",
       "   'eval_samples_per_second': 49.839,\n",
       "   'step': 500},\n",
       "  {'epoch': 1.47, 'learning_rate': 5e-05, 'loss': 2.0437, 'step': 1000},\n",
       "  {'epoch': 1.47,\n",
       "   'eval_loss': 2.217987537384033,\n",
       "   'eval_runtime': 9.4958,\n",
       "   'eval_samples_per_second': 49.812,\n",
       "   'step': 1000},\n",
       "  {'epoch': 2.21, 'learning_rate': 5e-05, 'loss': 1.9643, 'step': 1500},\n",
       "  {'epoch': 2.21,\n",
       "   'eval_loss': 2.1781044006347656,\n",
       "   'eval_runtime': 9.4945,\n",
       "   'eval_samples_per_second': 49.818,\n",
       "   'step': 1500},\n",
       "  {'epoch': 2.95, 'learning_rate': 5e-05, 'loss': 1.9119, 'step': 2000},\n",
       "  {'epoch': 2.95,\n",
       "   'eval_loss': 2.1719396114349365,\n",
       "   'eval_runtime': 9.4862,\n",
       "   'eval_samples_per_second': 49.862,\n",
       "   'step': 2000},\n",
       "  {'epoch': 3.0,\n",
       "   'step': 2034,\n",
       "   'total_flos': 219631083995520.0,\n",
       "   'train_runtime': 2274.651,\n",
       "   'train_samples_per_second': 0.894}],\n",
       " 'max_steps': 2034,\n",
       " 'num_train_epochs': 3,\n",
       " 'total_flos': 219631083995520.0,\n",
       " 'trial_name': None,\n",
       " 'trial_params': None}"
      ]
     },
     "execution_count": 102,
     "metadata": {},
     "output_type": "execute_result"
    }
   ],
   "source": [
    "ea10.trainer_state"
   ]
  },
  {
   "cell_type": "code",
   "execution_count": 107,
   "id": "fecefafd",
   "metadata": {},
   "outputs": [
    {
     "name": "stdout",
     "output_type": "stream",
     "text": [
      "Found results for 50 sub-populations\n"
     ]
    },
    {
     "data": {
      "text/html": [
       "<div>\n",
       "<style scoped>\n",
       "    .dataframe tbody tr th:only-of-type {\n",
       "        vertical-align: middle;\n",
       "    }\n",
       "\n",
       "    .dataframe tbody tr th {\n",
       "        vertical-align: top;\n",
       "    }\n",
       "\n",
       "    .dataframe thead th {\n",
       "        text-align: right;\n",
       "    }\n",
       "</style>\n",
       "<table border=\"1\" class=\"dataframe\">\n",
       "  <thead>\n",
       "    <tr style=\"text-align: right;\">\n",
       "      <th></th>\n",
       "      <th>data_split</th>\n",
       "      <th>loss</th>\n",
       "      <th>perplexity</th>\n",
       "      <th>subreddit</th>\n",
       "    </tr>\n",
       "  </thead>\n",
       "  <tbody>\n",
       "    <tr>\n",
       "      <th>0</th>\n",
       "      <td>train</td>\n",
       "      <td>2.622854</td>\n",
       "      <td>13.774980</td>\n",
       "      <td>binarygold</td>\n",
       "    </tr>\n",
       "    <tr>\n",
       "      <th>1</th>\n",
       "      <td>eval</td>\n",
       "      <td>2.746658</td>\n",
       "      <td>15.590447</td>\n",
       "      <td>binarygold</td>\n",
       "    </tr>\n",
       "    <tr>\n",
       "      <th>2</th>\n",
       "      <td>test</td>\n",
       "      <td>2.897412</td>\n",
       "      <td>18.127168</td>\n",
       "      <td>binarygold</td>\n",
       "    </tr>\n",
       "    <tr>\n",
       "      <th>0</th>\n",
       "      <td>train</td>\n",
       "      <td>2.455534</td>\n",
       "      <td>11.652651</td>\n",
       "      <td>exab</td>\n",
       "    </tr>\n",
       "    <tr>\n",
       "      <th>1</th>\n",
       "      <td>eval</td>\n",
       "      <td>2.328001</td>\n",
       "      <td>10.257412</td>\n",
       "      <td>exab</td>\n",
       "    </tr>\n",
       "    <tr>\n",
       "      <th>...</th>\n",
       "      <td>...</td>\n",
       "      <td>...</td>\n",
       "      <td>...</td>\n",
       "      <td>...</td>\n",
       "    </tr>\n",
       "    <tr>\n",
       "      <th>1</th>\n",
       "      <td>eval</td>\n",
       "      <td>2.812618</td>\n",
       "      <td>16.653456</td>\n",
       "      <td>Creative310</td>\n",
       "    </tr>\n",
       "    <tr>\n",
       "      <th>2</th>\n",
       "      <td>test</td>\n",
       "      <td>3.080813</td>\n",
       "      <td>21.776103</td>\n",
       "      <td>Creative310</td>\n",
       "    </tr>\n",
       "    <tr>\n",
       "      <th>0</th>\n",
       "      <td>train</td>\n",
       "      <td>4.246050</td>\n",
       "      <td>69.829067</td>\n",
       "      <td>retardedinvestor</td>\n",
       "    </tr>\n",
       "    <tr>\n",
       "      <th>1</th>\n",
       "      <td>eval</td>\n",
       "      <td>3.445839</td>\n",
       "      <td>31.369589</td>\n",
       "      <td>retardedinvestor</td>\n",
       "    </tr>\n",
       "    <tr>\n",
       "      <th>2</th>\n",
       "      <td>test</td>\n",
       "      <td>3.663950</td>\n",
       "      <td>39.015138</td>\n",
       "      <td>retardedinvestor</td>\n",
       "    </tr>\n",
       "  </tbody>\n",
       "</table>\n",
       "<p>150 rows × 4 columns</p>\n",
       "</div>"
      ],
      "text/plain": [
       "   data_split      loss  perplexity         subreddit\n",
       "0       train  2.622854   13.774980        binarygold\n",
       "1        eval  2.746658   15.590447        binarygold\n",
       "2        test  2.897412   18.127168        binarygold\n",
       "0       train  2.455534   11.652651              exab\n",
       "1        eval  2.328001   10.257412              exab\n",
       "..        ...       ...         ...               ...\n",
       "1        eval  2.812618   16.653456       Creative310\n",
       "2        test  3.080813   21.776103       Creative310\n",
       "0       train  4.246050   69.829067  retardedinvestor\n",
       "1        eval  3.445839   31.369589  retardedinvestor\n",
       "2        test  3.663950   39.015138  retardedinvestor\n",
       "\n",
       "[150 rows x 4 columns]"
      ]
     },
     "execution_count": 107,
     "metadata": {},
     "output_type": "execute_result"
    }
   ],
   "source": [
    "rd11 = os.path.join(base_result_dir, \"3a_distilbert_finetuned_author_constant_lr\")\n",
    "ea11 = PerPopulationExpAnalyzer(rd11, \"subreddit\")\n",
    "ea11.data_split_perf_df"
   ]
  },
  {
   "cell_type": "code",
   "execution_count": 108,
   "id": "3dc8e92b",
   "metadata": {},
   "outputs": [],
   "source": [
    "test_df = ea11.data_split_perf_df[ea11.data_split_perf_df[\"data_split\"] == \"test\"]"
   ]
  },
  {
   "cell_type": "code",
   "execution_count": 109,
   "id": "a0433b4d",
   "metadata": {},
   "outputs": [
    {
     "data": {
      "text/plain": [
       "loss           2.578356\n",
       "perplexity    14.790691\n",
       "dtype: float64"
      ]
     },
     "execution_count": 109,
     "metadata": {},
     "output_type": "execute_result"
    }
   ],
   "source": [
    "test_df.mean()"
   ]
  },
  {
   "cell_type": "code",
   "execution_count": 110,
   "id": "74aea76c",
   "metadata": {},
   "outputs": [
    {
     "data": {
      "text/plain": [
       "loss          0.471111\n",
       "perplexity    8.140301\n",
       "dtype: float64"
      ]
     },
     "execution_count": 110,
     "metadata": {},
     "output_type": "execute_result"
    }
   ],
   "source": [
    "test_df.std()"
   ]
  },
  {
   "cell_type": "code",
   "execution_count": 111,
   "id": "f5f5606f",
   "metadata": {},
   "outputs": [
    {
     "data": {
      "image/png": "[encoded data removed]",
      "text/plain": [
       "<Figure size 432x288 with 1 Axes>"
      ]
     },
     "metadata": {},
     "output_type": "display_data"
    },
    {
     "data": {
      "text/plain": [
       "<Figure size 432x288 with 0 Axes>"
      ]
     },
     "metadata": {},
     "output_type": "display_data"
    }
   ],
   "source": [
    "ea11.plot_metric_hist(\"perplexity\")"
   ]
  }
 ],
 "metadata": {
  "kernelspec": {
   "display_name": "Python 3",
   "language": "python",
   "name": "python3"
  },
  "language_info": {
   "codemirror_mode": {
    "name": "ipython",
    "version": 3
   },
   "file_extension": ".py",
   "mimetype": "text/x-python",
   "name": "python",
   "nbconvert_exporter": "python",
   "pygments_lexer": "ipython3",
   "version": "3.8.10"
  }
 },
 "nbformat": 4,
 "nbformat_minor": 5
}
