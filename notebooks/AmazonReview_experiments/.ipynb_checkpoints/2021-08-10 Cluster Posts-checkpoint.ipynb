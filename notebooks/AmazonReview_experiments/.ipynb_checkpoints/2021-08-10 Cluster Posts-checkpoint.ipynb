{
 "cells": [
  {
   "cell_type": "code",
   "execution_count": 1,
   "id": "a4207b5e",
   "metadata": {},
   "outputs": [],
   "source": [
    "%load_ext autoreload\n",
    "%autoreload 2"
   ]
  },
  {
   "cell_type": "code",
   "execution_count": 2,
   "id": "da176f0b",
   "metadata": {},
   "outputs": [],
   "source": [
    "import sys\n",
    "sys.path.append('../../src/generic')\n",
    "import csv\n",
    "import os\n",
    "import numpy as np\n",
    "import pandas as pd\n",
    "import seaborn as sns\n",
    "sns.set_theme()"
   ]
  },
  {
   "cell_type": "code",
   "execution_count": 3,
   "id": "1797640a",
   "metadata": {},
   "outputs": [],
   "source": [
    "os.environ[\"CUDA_VISIBLE_DEVICES\"] = \"0,1,2,3\"\n",
    "import torch\n",
    "assert torch.cuda.is_available(), \"selected gpus, but cuda not available\""
   ]
  },
  {
   "cell_type": "code",
   "execution_count": 4,
   "id": "3c3dbe81",
   "metadata": {},
   "outputs": [],
   "source": [
    "from transformers import AutoConfig, AutoModelForMaskedLM"
   ]
  },
  {
   "cell_type": "code",
   "execution_count": 5,
   "id": "7e3b0a0d",
   "metadata": {},
   "outputs": [],
   "source": [
    "from common.factories import get_embed_model"
   ]
  },
  {
   "cell_type": "code",
   "execution_count": 6,
   "id": "1da31a66",
   "metadata": {},
   "outputs": [],
   "source": [
    "from dataset.amazon_reviews_clf_dataset import AmazonClfDataset"
   ]
  },
  {
   "cell_type": "code",
   "execution_count": null,
   "id": "d5a1e74a",
   "metadata": {},
   "outputs": [],
   "source": []
  },
  {
   "cell_type": "markdown",
   "id": "12aa7a13",
   "metadata": {},
   "source": [
    "## Get Post Embeddings"
   ]
  },
  {
   "cell_type": "code",
   "execution_count": 7,
   "id": "8ad065d7",
   "metadata": {},
   "outputs": [],
   "source": [
    "data_kwargs = dict(\n",
    "    data_dir=\"/data/ddmg/redditlanguagemodeling/data/AmazonReviews/data/amazon_v2.0/\",\n",
    "    raw_data_file=\"reviews.csv\",\n",
    "    tokenizer_name=\"distilbert-base-uncased\",\n",
    "    tokenizer_cache_dir=\"/data/ddmg/redditlanguagemodeling/cached/distilbert\",\n",
    "    split_file=\"user.csv\",\n",
    "    processed_data_dir=\"amazon_reviews_clf_processed\",\n",
    ")"
   ]
  },
  {
   "cell_type": "code",
   "execution_count": 8,
   "id": "528befd9",
   "metadata": {},
   "outputs": [
    {
     "name": "stdout",
     "output_type": "stream",
     "text": [
      "loading processed data from /data/ddmg/redditlanguagemodeling/data/AmazonReviews/data/amazon_v2.0/amazon_reviews_clf_processed\n"
     ]
    }
   ],
   "source": [
    "dataset = AmazonClfDataset(**data_kwargs)"
   ]
  },
  {
   "cell_type": "code",
   "execution_count": 9,
   "id": "4f59bee0",
   "metadata": {},
   "outputs": [
    {
     "data": {
      "text/plain": [
       "Dataset({\n",
       "    features: ['__index_level_0__', 'asin', 'attention_mask', 'category', 'input_ids', 'labels', 'reviewTime', 'reviewYear', 'split', 'summary', 'text', 'unixReviewTime', 'user', 'verified'],\n",
       "    num_rows: 245502\n",
       "})"
      ]
     },
     "execution_count": 9,
     "metadata": {},
     "output_type": "execute_result"
    }
   ],
   "source": [
    "dataset.train_data"
   ]
  },
  {
   "cell_type": "code",
   "execution_count": 10,
   "id": "4af7e560",
   "metadata": {},
   "outputs": [],
   "source": [
    "embed_model_config = \"distilbert-base-uncased\"\n",
    "config = AutoConfig.from_pretrained(embed_model_config)\n",
    "embed_model = AutoModelForMaskedLM.from_pretrained(\"distilbert-base-uncased\", config=config)"
   ]
  },
  {
   "cell_type": "code",
   "execution_count": null,
   "id": "eab03dd0",
   "metadata": {},
   "outputs": [
    {
     "name": "stderr",
     "output_type": "stream",
     "text": [
      "\r",
      "  0%|          | 0/30688 [00:00<?, ?it/s]"
     ]
    },
    {
     "name": "stdout",
     "output_type": "stream",
     "text": [
      "embedding train data\n"
     ]
    },
    {
     "name": "stderr",
     "output_type": "stream",
     "text": [
      " 25%|██▌       | 7813/30688 [2:11:37<6:44:00,  1.06s/it] "
     ]
    }
   ],
   "source": [
    "embed_path = \"/data/ddmg/redditlanguagemodeling/data/AmazonReviews/data/amazon_v2.0/embeddings/pretrained_distilbert_embeddings\"\n",
    "dataset.embed_data(embed_model, embed_path)"
   ]
  },
  {
   "cell_type": "code",
   "execution_count": 12,
   "id": "5f7a516e",
   "metadata": {},
   "outputs": [
    {
     "data": {
      "text/plain": [
       "Dataset({\n",
       "    features: ['__index_level_0__', 'asin', 'attention_mask', 'category', 'input_ids', 'labels', 'reviewTime', 'reviewYear', 'split', 'summary', 'text', 'unixReviewTime', 'user', 'verified', 'embeddings'],\n",
       "    num_rows: 245502\n",
       "})"
      ]
     },
     "execution_count": 12,
     "metadata": {},
     "output_type": "execute_result"
    }
   ],
   "source": [
    "dataset.train_data"
   ]
  },
  {
   "cell_type": "code",
   "execution_count": 13,
   "id": "1d877399",
   "metadata": {},
   "outputs": [],
   "source": [
    "full_dataset = dataset.merge_data_splits()"
   ]
  },
  {
   "cell_type": "code",
   "execution_count": 14,
   "id": "c4ff2262",
   "metadata": {},
   "outputs": [
    {
     "data": {
      "text/plain": [
       "Dataset({\n",
       "    features: ['__index_level_0__', 'asin', 'attention_mask', 'category', 'input_ids', 'labels', 'reviewTime', 'reviewYear', 'split', 'summary', 'text', 'unixReviewTime', 'user', 'verified', 'embeddings'],\n",
       "    num_rows: 445602\n",
       "})"
      ]
     },
     "execution_count": 14,
     "metadata": {},
     "output_type": "execute_result"
    }
   ],
   "source": [
    "full_dataset"
   ]
  },
  {
   "cell_type": "code",
   "execution_count": 19,
   "id": "e89ab70c",
   "metadata": {},
   "outputs": [],
   "source": [
    "embeds = np.array(full_dataset['embeddings'])"
   ]
  },
  {
   "cell_type": "code",
   "execution_count": 20,
   "id": "93df530a",
   "metadata": {},
   "outputs": [
    {
     "data": {
      "text/plain": [
       "(445602, 768)"
      ]
     },
     "execution_count": 20,
     "metadata": {},
     "output_type": "execute_result"
    }
   ],
   "source": [
    "embeds.shape"
   ]
  },
  {
   "cell_type": "markdown",
   "id": "019725b2",
   "metadata": {},
   "source": [
    "## Train GMM-based Clustering Model"
   ]
  },
  {
   "cell_type": "code",
   "execution_count": 16,
   "id": "dabbb286",
   "metadata": {},
   "outputs": [],
   "source": [
    "from sklearn.mixture import GaussianMixture"
   ]
  },
  {
   "cell_type": "code",
   "execution_count": null,
   "id": "46121c26",
   "metadata": {},
   "outputs": [],
   "source": [
    "# start with k=10 as example, will examine other k later\n",
    "gmm = GaussianMixture(n_components=10).fit(embeds)"
   ]
  }
 ],
 "metadata": {
  "kernelspec": {
   "display_name": "Python 3",
   "language": "python",
   "name": "python3"
  },
  "language_info": {
   "codemirror_mode": {
    "name": "ipython",
    "version": 3
   },
   "file_extension": ".py",
   "mimetype": "text/x-python",
   "name": "python",
   "nbconvert_exporter": "python",
   "pygments_lexer": "ipython3",
   "version": "3.8.10"
  }
 },
 "nbformat": 4,
 "nbformat_minor": 5
}
