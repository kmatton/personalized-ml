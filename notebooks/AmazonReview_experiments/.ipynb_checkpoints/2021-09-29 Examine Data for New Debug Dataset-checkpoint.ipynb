{
 "cells": [
  {
   "cell_type": "code",
   "execution_count": 1,
   "id": "14ffb4ec",
   "metadata": {},
   "outputs": [],
   "source": [
    "%load_ext autoreload\n",
    "%autoreload 2"
   ]
  },
  {
   "cell_type": "code",
   "execution_count": 171,
   "id": "cfb2bfca",
   "metadata": {},
   "outputs": [],
   "source": [
    "import sys\n",
    "sys.path.append('../../src/generic')\n",
    "import csv\n",
    "import os\n",
    "import numpy as np\n",
    "import pandas as pd\n",
    "import seaborn as sns\n",
    "sns.set_theme()\n",
    "from copy import deepcopy\n",
    "from scipy.spatial.distance import cosine\n",
    "from sklearn.metrics import log_loss\n",
    "from sklearn.metrics.pairwise import cosine_similarity"
   ]
  },
  {
   "cell_type": "code",
   "execution_count": 150,
   "id": "dc75abda",
   "metadata": {},
   "outputs": [],
   "source": [
    "from datasets import Dataset"
   ]
  },
  {
   "cell_type": "code",
   "execution_count": 19,
   "id": "e8f73840",
   "metadata": {},
   "outputs": [],
   "source": [
    "from dataset.amazon_reviews_clf_dataset import AmazonClfDataset\n",
    "from results.process_results import ResultProcessor"
   ]
  },
  {
   "cell_type": "code",
   "execution_count": 3,
   "id": "b9f93c75",
   "metadata": {},
   "outputs": [],
   "source": [
    "data_dir = \"/data/ddmg/redditlanguagemodeling/data/AmazonReviews/data\""
   ]
  },
  {
   "cell_type": "code",
   "execution_count": 4,
   "id": "9a3f418c",
   "metadata": {},
   "outputs": [],
   "source": [
    "data_df = pd.read_csv(os.path.join(data_dir, 'amazon_v2.0/reviews.csv'),\n",
    "                      dtype={'reviewerID':str, 'asin':str, 'reviewTime':str,'unixReviewTime':int,\n",
    "                             'reviewText':str,'summary':str,'verified':bool,'category':str, 'reviewYear':int},\n",
    "                      keep_default_na=False, na_values=[], quoting=csv.QUOTE_NONNUMERIC)"
   ]
  },
  {
   "cell_type": "code",
   "execution_count": 5,
   "id": "882f7487",
   "metadata": {},
   "outputs": [],
   "source": [
    "split_df = pd.read_csv(os.path.join(data_dir, 'amazon_v2.0', 'splits', 'wilds_subpop_shift_user.csv'))"
   ]
  },
  {
   "cell_type": "code",
   "execution_count": 6,
   "id": "5a08bde7",
   "metadata": {},
   "outputs": [],
   "source": [
    "data_df[\"split\"] = split_df[\"split\"]"
   ]
  },
  {
   "cell_type": "code",
   "execution_count": 7,
   "id": "3bd73e72",
   "metadata": {},
   "outputs": [],
   "source": [
    "data_df = data_df[data_df[\"split\"].isin([0, 1, 2])]"
   ]
  },
  {
   "cell_type": "code",
   "execution_count": 8,
   "id": "eacfe901",
   "metadata": {},
   "outputs": [
    {
     "data": {
      "text/plain": [
       "292452"
      ]
     },
     "execution_count": 8,
     "metadata": {},
     "output_type": "execute_result"
    }
   ],
   "source": [
    "len(data_df)"
   ]
  },
  {
   "cell_type": "code",
   "execution_count": 56,
   "id": "519eea8d",
   "metadata": {},
   "outputs": [
    {
     "name": "stdout",
     "output_type": "stream",
     "text": [
      "1252\n",
      "1252\n",
      "626\n"
     ]
    }
   ],
   "source": [
    "# limit to just users in the test set\n",
    "print(len(data_df[\"reviewerID\"].unique()))\n",
    "print(len(data_df[data_df[\"split\"] == 1][\"reviewerID\"].unique()))\n",
    "print(len(data_df[data_df[\"split\"] == 2][\"reviewerID\"].unique()))\n",
    "\n",
    "test_users = data_df[data_df[\"split\"] == 2][\"reviewerID\"].unique()\n",
    "\n",
    "test_user_df = data_df[data_df[\"reviewerID\"].isin(test_users)]"
   ]
  },
  {
   "cell_type": "code",
   "execution_count": 9,
   "id": "e8ff66b4",
   "metadata": {},
   "outputs": [
    {
     "data": {
      "text/plain": [
       "97703"
      ]
     },
     "execution_count": 9,
     "metadata": {},
     "output_type": "execute_result"
    }
   ],
   "source": [
    "len(data_df[data_df[\"split\"] == 1])"
   ]
  },
  {
   "cell_type": "code",
   "execution_count": 11,
   "id": "284b1576",
   "metadata": {},
   "outputs": [],
   "source": [
    "def count_1(x):\n",
    "    return sum(x == 1)\n",
    "\n",
    "count_1.__name__ = \"count_1\"\n",
    "\n",
    "def count_2(x):\n",
    "    return sum(x == 2)\n",
    "\n",
    "count_2.__name__ = \"count_2\"\n",
    "\n",
    "def count_3(x):\n",
    "    return sum(x == 3)\n",
    "\n",
    "count_3.__name__ = \"count_3\"\n",
    "\n",
    "def count_4(x):\n",
    "    return sum(x == 4)\n",
    "\n",
    "count_4.__name__ = \"count_4\"\n",
    "\n",
    "def count_5(x):\n",
    "    return sum(x == 5)\n",
    "\n",
    "count_5.__name__ = \"count_5\""
   ]
  },
  {
   "cell_type": "code",
   "execution_count": 13,
   "id": "790a6b94",
   "metadata": {},
   "outputs": [],
   "source": [
    "count_fns = [count_1, count_2, count_3, count_4, count_5]"
   ]
  },
  {
   "cell_type": "code",
   "execution_count": 57,
   "id": "d9f7f89f",
   "metadata": {},
   "outputs": [],
   "source": [
    "score_df = test_user_df[[\"reviewerID\", \"overall\"]]"
   ]
  },
  {
   "cell_type": "code",
   "execution_count": 58,
   "id": "dde9ae42",
   "metadata": {},
   "outputs": [],
   "source": [
    "# Examine distribution of user ratings and get users with different distributions\n",
    "review_dist_by_user = score_df.groupby([\"reviewerID\"]).agg(count_fns)"
   ]
  },
  {
   "cell_type": "code",
   "execution_count": 76,
   "id": "16599998",
   "metadata": {},
   "outputs": [],
   "source": [
    "# get distr for just train data\n",
    "train_score_df = test_user_df[test_user_df[\"split\"] == 0][[\"reviewerID\", \"overall\"]]\n",
    "train_review_dist_by_user = train_score_df.groupby([\"reviewerID\"]).agg(count_fns)"
   ]
  },
  {
   "cell_type": "code",
   "execution_count": 91,
   "id": "506f2080",
   "metadata": {},
   "outputs": [],
   "source": [
    "# get distr for just train data\n",
    "val_score_df = test_user_df[test_user_df[\"split\"] == 1][[\"reviewerID\", \"overall\"]]\n",
    "val_review_dist_by_user = val_score_df.groupby([\"reviewerID\"]).agg(count_fns)"
   ]
  },
  {
   "cell_type": "code",
   "execution_count": 81,
   "id": "f245fc1d",
   "metadata": {},
   "outputs": [],
   "source": [
    "# get distr for just test data\n",
    "test_score_df = test_user_df[test_user_df[\"split\"] == 2][[\"reviewerID\", \"overall\"]]\n",
    "test_review_dist_by_user = test_score_df.groupby([\"reviewerID\"]).agg(count_fns)"
   ]
  },
  {
   "cell_type": "code",
   "execution_count": 77,
   "id": "8b274ad1",
   "metadata": {},
   "outputs": [
    {
     "data": {
      "text/html": [
       "<div>\n",
       "<style scoped>\n",
       "    .dataframe tbody tr th:only-of-type {\n",
       "        vertical-align: middle;\n",
       "    }\n",
       "\n",
       "    .dataframe tbody tr th {\n",
       "        vertical-align: top;\n",
       "    }\n",
       "\n",
       "    .dataframe thead tr th {\n",
       "        text-align: left;\n",
       "    }\n",
       "\n",
       "    .dataframe thead tr:last-of-type th {\n",
       "        text-align: right;\n",
       "    }\n",
       "</style>\n",
       "<table border=\"1\" class=\"dataframe\">\n",
       "  <thead>\n",
       "    <tr>\n",
       "      <th></th>\n",
       "      <th colspan=\"5\" halign=\"left\">overall</th>\n",
       "    </tr>\n",
       "    <tr>\n",
       "      <th></th>\n",
       "      <th>count_1</th>\n",
       "      <th>count_2</th>\n",
       "      <th>count_3</th>\n",
       "      <th>count_4</th>\n",
       "      <th>count_5</th>\n",
       "    </tr>\n",
       "    <tr>\n",
       "      <th>reviewerID</th>\n",
       "      <th></th>\n",
       "      <th></th>\n",
       "      <th></th>\n",
       "      <th></th>\n",
       "      <th></th>\n",
       "    </tr>\n",
       "  </thead>\n",
       "  <tbody>\n",
       "    <tr>\n",
       "      <th>A103M7E0BSFC83</th>\n",
       "      <td>0.0</td>\n",
       "      <td>0.0</td>\n",
       "      <td>25.0</td>\n",
       "      <td>90.0</td>\n",
       "      <td>95.0</td>\n",
       "    </tr>\n",
       "    <tr>\n",
       "      <th>A10AWAE0F6CAP1</th>\n",
       "      <td>0.0</td>\n",
       "      <td>0.0</td>\n",
       "      <td>0.0</td>\n",
       "      <td>76.0</td>\n",
       "      <td>141.0</td>\n",
       "    </tr>\n",
       "    <tr>\n",
       "      <th>A10JAUCIGVRW9F</th>\n",
       "      <td>2.0</td>\n",
       "      <td>3.0</td>\n",
       "      <td>4.0</td>\n",
       "      <td>14.0</td>\n",
       "      <td>187.0</td>\n",
       "    </tr>\n",
       "    <tr>\n",
       "      <th>A10L137T790W84</th>\n",
       "      <td>0.0</td>\n",
       "      <td>0.0</td>\n",
       "      <td>8.0</td>\n",
       "      <td>61.0</td>\n",
       "      <td>67.0</td>\n",
       "    </tr>\n",
       "    <tr>\n",
       "      <th>A10PXQY535XY39</th>\n",
       "      <td>0.0</td>\n",
       "      <td>0.0</td>\n",
       "      <td>2.0</td>\n",
       "      <td>36.0</td>\n",
       "      <td>55.0</td>\n",
       "    </tr>\n",
       "    <tr>\n",
       "      <th>...</th>\n",
       "      <td>...</td>\n",
       "      <td>...</td>\n",
       "      <td>...</td>\n",
       "      <td>...</td>\n",
       "      <td>...</td>\n",
       "    </tr>\n",
       "    <tr>\n",
       "      <th>AY3XPKRAMKKY7</th>\n",
       "      <td>2.0</td>\n",
       "      <td>1.0</td>\n",
       "      <td>11.0</td>\n",
       "      <td>14.0</td>\n",
       "      <td>62.0</td>\n",
       "    </tr>\n",
       "    <tr>\n",
       "      <th>AY5E0O8II03DY</th>\n",
       "      <td>2.0</td>\n",
       "      <td>5.0</td>\n",
       "      <td>12.0</td>\n",
       "      <td>29.0</td>\n",
       "      <td>34.0</td>\n",
       "    </tr>\n",
       "    <tr>\n",
       "      <th>AYQ14XGJODM9J</th>\n",
       "      <td>0.0</td>\n",
       "      <td>2.0</td>\n",
       "      <td>7.0</td>\n",
       "      <td>17.0</td>\n",
       "      <td>82.0</td>\n",
       "    </tr>\n",
       "    <tr>\n",
       "      <th>AYTMXLYK6SC9H</th>\n",
       "      <td>0.0</td>\n",
       "      <td>1.0</td>\n",
       "      <td>7.0</td>\n",
       "      <td>15.0</td>\n",
       "      <td>39.0</td>\n",
       "    </tr>\n",
       "    <tr>\n",
       "      <th>AZK12FBX7X7LN</th>\n",
       "      <td>3.0</td>\n",
       "      <td>21.0</td>\n",
       "      <td>38.0</td>\n",
       "      <td>41.0</td>\n",
       "      <td>14.0</td>\n",
       "    </tr>\n",
       "  </tbody>\n",
       "</table>\n",
       "<p>626 rows × 5 columns</p>\n",
       "</div>"
      ],
      "text/plain": [
       "               overall                                \n",
       "               count_1 count_2 count_3 count_4 count_5\n",
       "reviewerID                                            \n",
       "A103M7E0BSFC83     0.0     0.0    25.0    90.0    95.0\n",
       "A10AWAE0F6CAP1     0.0     0.0     0.0    76.0   141.0\n",
       "A10JAUCIGVRW9F     2.0     3.0     4.0    14.0   187.0\n",
       "A10L137T790W84     0.0     0.0     8.0    61.0    67.0\n",
       "A10PXQY535XY39     0.0     0.0     2.0    36.0    55.0\n",
       "...                ...     ...     ...     ...     ...\n",
       "AY3XPKRAMKKY7      2.0     1.0    11.0    14.0    62.0\n",
       "AY5E0O8II03DY      2.0     5.0    12.0    29.0    34.0\n",
       "AYQ14XGJODM9J      0.0     2.0     7.0    17.0    82.0\n",
       "AYTMXLYK6SC9H      0.0     1.0     7.0    15.0    39.0\n",
       "AZK12FBX7X7LN      3.0    21.0    38.0    41.0    14.0\n",
       "\n",
       "[626 rows x 5 columns]"
      ]
     },
     "execution_count": 77,
     "metadata": {},
     "output_type": "execute_result"
    }
   ],
   "source": [
    "train_review_dist_by_user"
   ]
  },
  {
   "cell_type": "code",
   "execution_count": 59,
   "id": "205236c1",
   "metadata": {},
   "outputs": [
    {
     "data": {
      "text/html": [
       "<div>\n",
       "<style scoped>\n",
       "    .dataframe tbody tr th:only-of-type {\n",
       "        vertical-align: middle;\n",
       "    }\n",
       "\n",
       "    .dataframe tbody tr th {\n",
       "        vertical-align: top;\n",
       "    }\n",
       "\n",
       "    .dataframe thead tr th {\n",
       "        text-align: left;\n",
       "    }\n",
       "\n",
       "    .dataframe thead tr:last-of-type th {\n",
       "        text-align: right;\n",
       "    }\n",
       "</style>\n",
       "<table border=\"1\" class=\"dataframe\">\n",
       "  <thead>\n",
       "    <tr>\n",
       "      <th></th>\n",
       "      <th colspan=\"5\" halign=\"left\">overall</th>\n",
       "    </tr>\n",
       "    <tr>\n",
       "      <th></th>\n",
       "      <th>count_1</th>\n",
       "      <th>count_2</th>\n",
       "      <th>count_3</th>\n",
       "      <th>count_4</th>\n",
       "      <th>count_5</th>\n",
       "    </tr>\n",
       "    <tr>\n",
       "      <th>reviewerID</th>\n",
       "      <th></th>\n",
       "      <th></th>\n",
       "      <th></th>\n",
       "      <th></th>\n",
       "      <th></th>\n",
       "    </tr>\n",
       "  </thead>\n",
       "  <tbody>\n",
       "    <tr>\n",
       "      <th>A103M7E0BSFC83</th>\n",
       "      <td>0.0</td>\n",
       "      <td>3.0</td>\n",
       "      <td>62.0</td>\n",
       "      <td>179.0</td>\n",
       "      <td>180.0</td>\n",
       "    </tr>\n",
       "    <tr>\n",
       "      <th>A10AWAE0F6CAP1</th>\n",
       "      <td>0.0</td>\n",
       "      <td>0.0</td>\n",
       "      <td>0.0</td>\n",
       "      <td>149.0</td>\n",
       "      <td>287.0</td>\n",
       "    </tr>\n",
       "    <tr>\n",
       "      <th>A10JAUCIGVRW9F</th>\n",
       "      <td>2.0</td>\n",
       "      <td>6.0</td>\n",
       "      <td>10.0</td>\n",
       "      <td>28.0</td>\n",
       "      <td>378.0</td>\n",
       "    </tr>\n",
       "    <tr>\n",
       "      <th>A10L137T790W84</th>\n",
       "      <td>0.0</td>\n",
       "      <td>0.0</td>\n",
       "      <td>17.0</td>\n",
       "      <td>124.0</td>\n",
       "      <td>160.0</td>\n",
       "    </tr>\n",
       "    <tr>\n",
       "      <th>A10PXQY535XY39</th>\n",
       "      <td>0.0</td>\n",
       "      <td>1.0</td>\n",
       "      <td>8.0</td>\n",
       "      <td>73.0</td>\n",
       "      <td>147.0</td>\n",
       "    </tr>\n",
       "    <tr>\n",
       "      <th>...</th>\n",
       "      <td>...</td>\n",
       "      <td>...</td>\n",
       "      <td>...</td>\n",
       "      <td>...</td>\n",
       "      <td>...</td>\n",
       "    </tr>\n",
       "    <tr>\n",
       "      <th>AY3XPKRAMKKY7</th>\n",
       "      <td>3.0</td>\n",
       "      <td>6.0</td>\n",
       "      <td>19.0</td>\n",
       "      <td>34.0</td>\n",
       "      <td>163.0</td>\n",
       "    </tr>\n",
       "    <tr>\n",
       "      <th>AY5E0O8II03DY</th>\n",
       "      <td>4.0</td>\n",
       "      <td>10.0</td>\n",
       "      <td>31.0</td>\n",
       "      <td>71.0</td>\n",
       "      <td>95.0</td>\n",
       "    </tr>\n",
       "    <tr>\n",
       "      <th>AYQ14XGJODM9J</th>\n",
       "      <td>0.0</td>\n",
       "      <td>4.0</td>\n",
       "      <td>16.0</td>\n",
       "      <td>36.0</td>\n",
       "      <td>198.0</td>\n",
       "    </tr>\n",
       "    <tr>\n",
       "      <th>AYTMXLYK6SC9H</th>\n",
       "      <td>7.0</td>\n",
       "      <td>8.0</td>\n",
       "      <td>19.0</td>\n",
       "      <td>40.0</td>\n",
       "      <td>104.0</td>\n",
       "    </tr>\n",
       "    <tr>\n",
       "      <th>AZK12FBX7X7LN</th>\n",
       "      <td>5.0</td>\n",
       "      <td>41.0</td>\n",
       "      <td>93.0</td>\n",
       "      <td>83.0</td>\n",
       "      <td>48.0</td>\n",
       "    </tr>\n",
       "  </tbody>\n",
       "</table>\n",
       "<p>626 rows × 5 columns</p>\n",
       "</div>"
      ],
      "text/plain": [
       "               overall                                \n",
       "               count_1 count_2 count_3 count_4 count_5\n",
       "reviewerID                                            \n",
       "A103M7E0BSFC83     0.0     3.0    62.0   179.0   180.0\n",
       "A10AWAE0F6CAP1     0.0     0.0     0.0   149.0   287.0\n",
       "A10JAUCIGVRW9F     2.0     6.0    10.0    28.0   378.0\n",
       "A10L137T790W84     0.0     0.0    17.0   124.0   160.0\n",
       "A10PXQY535XY39     0.0     1.0     8.0    73.0   147.0\n",
       "...                ...     ...     ...     ...     ...\n",
       "AY3XPKRAMKKY7      3.0     6.0    19.0    34.0   163.0\n",
       "AY5E0O8II03DY      4.0    10.0    31.0    71.0    95.0\n",
       "AYQ14XGJODM9J      0.0     4.0    16.0    36.0   198.0\n",
       "AYTMXLYK6SC9H      7.0     8.0    19.0    40.0   104.0\n",
       "AZK12FBX7X7LN      5.0    41.0    93.0    83.0    48.0\n",
       "\n",
       "[626 rows x 5 columns]"
      ]
     },
     "execution_count": 59,
     "metadata": {},
     "output_type": "execute_result"
    }
   ],
   "source": [
    "review_dist_by_user"
   ]
  },
  {
   "cell_type": "code",
   "execution_count": 60,
   "id": "e5acf92b",
   "metadata": {},
   "outputs": [],
   "source": [
    "review_distrs = review_dist_by_user.to_numpy()"
   ]
  },
  {
   "cell_type": "code",
   "execution_count": 61,
   "id": "d5430005",
   "metadata": {},
   "outputs": [],
   "source": [
    "# get pairwise distances\n",
    "pairwise_sims = cosine_similarity(review_distrs)"
   ]
  },
  {
   "cell_type": "code",
   "execution_count": 62,
   "id": "fec73f87",
   "metadata": {},
   "outputs": [],
   "source": [
    "# get least similar dists\n",
    "min_idx = np.unravel_index(np.argmin(pairwise_sims), pairwise_sims.shape)"
   ]
  },
  {
   "cell_type": "code",
   "execution_count": 63,
   "id": "215d83e8",
   "metadata": {},
   "outputs": [
    {
     "data": {
      "text/plain": [
       "0.044803727825239045"
      ]
     },
     "execution_count": 63,
     "metadata": {},
     "output_type": "execute_result"
    }
   ],
   "source": [
    "pairwise_sims[min_idx]"
   ]
  },
  {
   "cell_type": "code",
   "execution_count": 64,
   "id": "09417722",
   "metadata": {},
   "outputs": [
    {
     "data": {
      "text/plain": [
       "(30, 120)"
      ]
     },
     "execution_count": 64,
     "metadata": {},
     "output_type": "execute_result"
    }
   ],
   "source": [
    "min_idx"
   ]
  },
  {
   "cell_type": "code",
   "execution_count": 66,
   "id": "2a696244",
   "metadata": {},
   "outputs": [
    {
     "data": {
      "text/plain": [
       "array([  0.,   0.,   0.,   0., 281.])"
      ]
     },
     "execution_count": 66,
     "metadata": {},
     "output_type": "execute_result"
    }
   ],
   "source": [
    "review_distrs[30]"
   ]
  },
  {
   "cell_type": "code",
   "execution_count": 67,
   "id": "f17eb72f",
   "metadata": {},
   "outputs": [
    {
     "data": {
      "text/plain": [
       "array([  0.,   0.,   5., 156.,   7.])"
      ]
     },
     "execution_count": 67,
     "metadata": {},
     "output_type": "execute_result"
    }
   ],
   "source": [
    "review_distrs[120]"
   ]
  },
  {
   "cell_type": "code",
   "execution_count": 68,
   "id": "8685de6b",
   "metadata": {},
   "outputs": [
    {
     "data": {
      "text/plain": [
       "-0.044803727825239004"
      ]
     },
     "execution_count": 68,
     "metadata": {},
     "output_type": "execute_result"
    }
   ],
   "source": [
    "cosine(review_distrs[30], review_distrs[120]) - 1"
   ]
  },
  {
   "cell_type": "code",
   "execution_count": 69,
   "id": "5ee85ce2",
   "metadata": {},
   "outputs": [],
   "source": [
    "user_1 = review_dist_by_user.iloc[30].name\n",
    "user_2 = review_dist_by_user.iloc[120].name"
   ]
  },
  {
   "cell_type": "code",
   "execution_count": 70,
   "id": "0bb40e6d",
   "metadata": {},
   "outputs": [
    {
     "name": "stdout",
     "output_type": "stream",
     "text": [
      "A17EGVTXRDFTRS A1POJZWVDNEX2T\n"
     ]
    }
   ],
   "source": [
    "print(user_1, user_2)"
   ]
  },
  {
   "cell_type": "markdown",
   "id": "146ff2f7",
   "metadata": {},
   "source": [
    "## Examine Model Perf for Different Users"
   ]
  },
  {
   "cell_type": "markdown",
   "id": "e4052348",
   "metadata": {},
   "source": [
    "### Global Model"
   ]
  },
  {
   "cell_type": "code",
   "execution_count": 17,
   "id": "b95dac6c",
   "metadata": {},
   "outputs": [],
   "source": [
    "main_result_dir = \"/data/ddmg/redditlanguagemodeling/results/amazon_reviews/clf/wilds_subpop_user_split\""
   ]
  },
  {
   "cell_type": "code",
   "execution_count": 20,
   "id": "bee15e5c",
   "metadata": {},
   "outputs": [
    {
     "name": "stdout",
     "output_type": "stream",
     "text": [
      "Base dir /data/ddmg/redditlanguagemodeling/results/amazon_reviews/clf/wilds_subpop_user_split/eval_global_model: Found results for 3 train_seeds\n",
      "Base dir /data/ddmg/redditlanguagemodeling/results/amazon_reviews/clf/wilds_subpop_user_split/eval_global_model/42: Found results for 1 eval_seeds\n",
      "Base dir /data/ddmg/redditlanguagemodeling/results/amazon_reviews/clf/wilds_subpop_user_split/eval_global_model/44: Found results for 1 eval_seeds\n",
      "Base dir /data/ddmg/redditlanguagemodeling/results/amazon_reviews/clf/wilds_subpop_user_split/eval_global_model/43: Found results for 1 eval_seeds\n"
     ]
    }
   ],
   "source": [
    "base_result_dir = os.path.join(main_result_dir, \"eval_global_model\")\n",
    "levels = [\"train_seed\", \"eval_seed\"]\n",
    "global_results = ResultProcessor(base_result_dir, levels, verbose=True)"
   ]
  },
  {
   "cell_type": "code",
   "execution_count": 21,
   "id": "c3ba0ede",
   "metadata": {},
   "outputs": [
    {
     "name": "stdout",
     "output_type": "stream",
     "text": [
      "looking for group result column names from file at: /data/ddmg/redditlanguagemodeling/results/amazon_reviews/clf/wilds_subpop_user_split/eval_global_model/42/42/user_test_results.json\n",
      "looking for group result column names from file at: /data/ddmg/redditlanguagemodeling/results/amazon_reviews/clf/wilds_subpop_user_split/eval_global_model/44/42/user_test_results.json\n",
      "looking for group result column names from file at: /data/ddmg/redditlanguagemodeling/results/amazon_reviews/clf/wilds_subpop_user_split/eval_global_model/43/42/user_test_results.json\n"
     ]
    }
   ],
   "source": [
    "group_results_df = global_results.get_group_results(\"user\")"
   ]
  },
  {
   "cell_type": "code",
   "execution_count": 22,
   "id": "d23652f2",
   "metadata": {},
   "outputs": [
    {
     "data": {
      "text/html": [
       "<div>\n",
       "<style scoped>\n",
       "    .dataframe tbody tr th:only-of-type {\n",
       "        vertical-align: middle;\n",
       "    }\n",
       "\n",
       "    .dataframe tbody tr th {\n",
       "        vertical-align: top;\n",
       "    }\n",
       "\n",
       "    .dataframe thead th {\n",
       "        text-align: right;\n",
       "    }\n",
       "</style>\n",
       "<table border=\"1\" class=\"dataframe\">\n",
       "  <thead>\n",
       "    <tr style=\"text-align: right;\">\n",
       "      <th></th>\n",
       "      <th>loss</th>\n",
       "      <th>accuracy</th>\n",
       "    </tr>\n",
       "    <tr>\n",
       "      <th>user</th>\n",
       "      <th></th>\n",
       "      <th></th>\n",
       "    </tr>\n",
       "  </thead>\n",
       "  <tbody>\n",
       "    <tr>\n",
       "      <th>A103M7E0BSFC83</th>\n",
       "      <td>0.975567</td>\n",
       "      <td>0.595556</td>\n",
       "    </tr>\n",
       "    <tr>\n",
       "      <th>A10AWAE0F6CAP1</th>\n",
       "      <td>0.621960</td>\n",
       "      <td>0.671111</td>\n",
       "    </tr>\n",
       "    <tr>\n",
       "      <th>A10JAUCIGVRW9F</th>\n",
       "      <td>0.591436</td>\n",
       "      <td>0.693333</td>\n",
       "    </tr>\n",
       "    <tr>\n",
       "      <th>A10L137T790W84</th>\n",
       "      <td>0.182477</td>\n",
       "      <td>0.933333</td>\n",
       "    </tr>\n",
       "    <tr>\n",
       "      <th>A10PXQY535XY39</th>\n",
       "      <td>0.417040</td>\n",
       "      <td>0.786667</td>\n",
       "    </tr>\n",
       "    <tr>\n",
       "      <th>...</th>\n",
       "      <td>...</td>\n",
       "      <td>...</td>\n",
       "    </tr>\n",
       "    <tr>\n",
       "      <th>AY3XPKRAMKKY7</th>\n",
       "      <td>0.606011</td>\n",
       "      <td>0.755556</td>\n",
       "    </tr>\n",
       "    <tr>\n",
       "      <th>AY5E0O8II03DY</th>\n",
       "      <td>0.708066</td>\n",
       "      <td>0.666667</td>\n",
       "    </tr>\n",
       "    <tr>\n",
       "      <th>AYQ14XGJODM9J</th>\n",
       "      <td>0.614990</td>\n",
       "      <td>0.720000</td>\n",
       "    </tr>\n",
       "    <tr>\n",
       "      <th>AYTMXLYK6SC9H</th>\n",
       "      <td>0.708573</td>\n",
       "      <td>0.711111</td>\n",
       "    </tr>\n",
       "    <tr>\n",
       "      <th>AZK12FBX7X7LN</th>\n",
       "      <td>1.400788</td>\n",
       "      <td>0.400000</td>\n",
       "    </tr>\n",
       "  </tbody>\n",
       "</table>\n",
       "<p>626 rows × 2 columns</p>\n",
       "</div>"
      ],
      "text/plain": [
       "                    loss  accuracy\n",
       "user                              \n",
       "A103M7E0BSFC83  0.975567  0.595556\n",
       "A10AWAE0F6CAP1  0.621960  0.671111\n",
       "A10JAUCIGVRW9F  0.591436  0.693333\n",
       "A10L137T790W84  0.182477  0.933333\n",
       "A10PXQY535XY39  0.417040  0.786667\n",
       "...                  ...       ...\n",
       "AY3XPKRAMKKY7   0.606011  0.755556\n",
       "AY5E0O8II03DY   0.708066  0.666667\n",
       "AYQ14XGJODM9J   0.614990  0.720000\n",
       "AYTMXLYK6SC9H   0.708573  0.711111\n",
       "AZK12FBX7X7LN   1.400788  0.400000\n",
       "\n",
       "[626 rows x 2 columns]"
      ]
     },
     "execution_count": 22,
     "metadata": {},
     "output_type": "execute_result"
    }
   ],
   "source": [
    "global_user_results = group_results_df.groupby([\"user\"]).agg(\"mean\")[[\"loss\", \"accuracy\"]]\n",
    "global_user_results"
   ]
  },
  {
   "cell_type": "code",
   "execution_count": null,
   "id": "069143a1",
   "metadata": {},
   "outputs": [],
   "source": [
    "gobal_user_results.index"
   ]
  },
  {
   "cell_type": "code",
   "execution_count": 71,
   "id": "2dd30bed",
   "metadata": {},
   "outputs": [
    {
     "data": {
      "text/plain": [
       "loss        0.224817\n",
       "accuracy    0.991111\n",
       "Name: A17EGVTXRDFTRS, dtype: float64"
      ]
     },
     "execution_count": 71,
     "metadata": {},
     "output_type": "execute_result"
    }
   ],
   "source": [
    "# get results for the specific users\n",
    "global_user_results.loc[user_1]"
   ]
  },
  {
   "cell_type": "code",
   "execution_count": 72,
   "id": "24ba31cc",
   "metadata": {},
   "outputs": [
    {
     "data": {
      "text/plain": [
       "loss        0.769321\n",
       "accuracy    0.560000\n",
       "Name: A1POJZWVDNEX2T, dtype: float64"
      ]
     },
     "execution_count": 72,
     "metadata": {},
     "output_type": "execute_result"
    }
   ],
   "source": [
    "global_user_results.loc[user_2]"
   ]
  },
  {
   "cell_type": "markdown",
   "id": "8d8131dc",
   "metadata": {},
   "source": [
    "### Global + User Fine-tune"
   ]
  },
  {
   "cell_type": "code",
   "execution_count": 23,
   "id": "e2290057",
   "metadata": {},
   "outputs": [
    {
     "name": "stdout",
     "output_type": "stream",
     "text": [
      "Base dir /data/ddmg/redditlanguagemodeling/results/amazon_reviews/clf/wilds_subpop_user_split/finetune_user: Found results for 626 users\n",
      "Base dir /data/ddmg/redditlanguagemodeling/results/amazon_reviews/clf/wilds_subpop_user_split/finetune_user/A2YQ0ULTPTMHJS: Found results for 3 seeds\n",
      "Base dir /data/ddmg/redditlanguagemodeling/results/amazon_reviews/clf/wilds_subpop_user_split/finetune_user/A29A1CPI3AOYSD: Found results for 3 seeds\n",
      "Base dir /data/ddmg/redditlanguagemodeling/results/amazon_reviews/clf/wilds_subpop_user_split/finetune_user/A3F7GJ547NUYY5: Found results for 3 seeds\n",
      "Base dir /data/ddmg/redditlanguagemodeling/results/amazon_reviews/clf/wilds_subpop_user_split/finetune_user/AMNZH0DQ14X4H: Found results for 3 seeds\n",
      "Base dir /data/ddmg/redditlanguagemodeling/results/amazon_reviews/clf/wilds_subpop_user_split/finetune_user/A16A3MYURJDYS7: Found results for 3 seeds\n",
      "Base dir /data/ddmg/redditlanguagemodeling/results/amazon_reviews/clf/wilds_subpop_user_split/finetune_user/A32DYU82G6X3AO: Found results for 3 seeds\n",
      "Base dir /data/ddmg/redditlanguagemodeling/results/amazon_reviews/clf/wilds_subpop_user_split/finetune_user/A2XMUIB476DMPC: Found results for 3 seeds\n",
      "Base dir /data/ddmg/redditlanguagemodeling/results/amazon_reviews/clf/wilds_subpop_user_split/finetune_user/A16Q6SLZEGL4XU: Found results for 3 seeds\n",
      "Base dir /data/ddmg/redditlanguagemodeling/results/amazon_reviews/clf/wilds_subpop_user_split/finetune_user/A26CCG8A3KB7J8: Found results for 3 seeds\n",
      "Base dir /data/ddmg/redditlanguagemodeling/results/amazon_reviews/clf/wilds_subpop_user_split/finetune_user/A1S27P7KJO9I96: Found results for 3 seeds\n",
      "Base dir /data/ddmg/redditlanguagemodeling/results/amazon_reviews/clf/wilds_subpop_user_split/finetune_user/AKTSQOT6LLHY6: Found results for 3 seeds\n",
      "Base dir /data/ddmg/redditlanguagemodeling/results/amazon_reviews/clf/wilds_subpop_user_split/finetune_user/ASLZZ152AHHU3: Found results for 3 seeds\n",
      "Base dir /data/ddmg/redditlanguagemodeling/results/amazon_reviews/clf/wilds_subpop_user_split/finetune_user/A1F7YU6O5RU432: Found results for 3 seeds\n",
      "Base dir /data/ddmg/redditlanguagemodeling/results/amazon_reviews/clf/wilds_subpop_user_split/finetune_user/A2KWQ64TRHB3YH: Found results for 3 seeds\n",
      "Base dir /data/ddmg/redditlanguagemodeling/results/amazon_reviews/clf/wilds_subpop_user_split/finetune_user/A2B13DO2A2205G: Found results for 3 seeds\n",
      "Base dir /data/ddmg/redditlanguagemodeling/results/amazon_reviews/clf/wilds_subpop_user_split/finetune_user/A1PBCZ7A40BTG6: Found results for 3 seeds\n",
      "Base dir /data/ddmg/redditlanguagemodeling/results/amazon_reviews/clf/wilds_subpop_user_split/finetune_user/A5W6EI03IKOLB: Found results for 3 seeds\n",
      "Base dir /data/ddmg/redditlanguagemodeling/results/amazon_reviews/clf/wilds_subpop_user_split/finetune_user/ADGIPWM0QESLH: Found results for 3 seeds\n",
      "Base dir /data/ddmg/redditlanguagemodeling/results/amazon_reviews/clf/wilds_subpop_user_split/finetune_user/A2EYCL2ZT0PSTX: Found results for 3 seeds\n",
      "Base dir /data/ddmg/redditlanguagemodeling/results/amazon_reviews/clf/wilds_subpop_user_split/finetune_user/A2XHH5DF8628J8: Found results for 3 seeds\n",
      "Base dir /data/ddmg/redditlanguagemodeling/results/amazon_reviews/clf/wilds_subpop_user_split/finetune_user/A3EGFSX6FQHWQ1: Found results for 3 seeds\n",
      "Base dir /data/ddmg/redditlanguagemodeling/results/amazon_reviews/clf/wilds_subpop_user_split/finetune_user/A23ZIH1QGWK4ZV: Found results for 3 seeds\n",
      "Base dir /data/ddmg/redditlanguagemodeling/results/amazon_reviews/clf/wilds_subpop_user_split/finetune_user/A3930CDN2XH17A: Found results for 3 seeds\n",
      "Base dir /data/ddmg/redditlanguagemodeling/results/amazon_reviews/clf/wilds_subpop_user_split/finetune_user/A1HLJJ6MKZLR3Z: Found results for 3 seeds\n",
      "Base dir /data/ddmg/redditlanguagemodeling/results/amazon_reviews/clf/wilds_subpop_user_split/finetune_user/A282DDH5S28WKU: Found results for 3 seeds\n",
      "Base dir /data/ddmg/redditlanguagemodeling/results/amazon_reviews/clf/wilds_subpop_user_split/finetune_user/A1W00KVU8VU6ZG: Found results for 3 seeds\n",
      "Base dir /data/ddmg/redditlanguagemodeling/results/amazon_reviews/clf/wilds_subpop_user_split/finetune_user/A34SPFZIHHN907: Found results for 3 seeds\n",
      "Base dir /data/ddmg/redditlanguagemodeling/results/amazon_reviews/clf/wilds_subpop_user_split/finetune_user/A1FEZ774RWJOU: Found results for 3 seeds\n",
      "Base dir /data/ddmg/redditlanguagemodeling/results/amazon_reviews/clf/wilds_subpop_user_split/finetune_user/A31G4MNGZNYSZI: Found results for 3 seeds\n",
      "Base dir /data/ddmg/redditlanguagemodeling/results/amazon_reviews/clf/wilds_subpop_user_split/finetune_user/A2V98TS4QDDCG9: Found results for 3 seeds\n",
      "Base dir /data/ddmg/redditlanguagemodeling/results/amazon_reviews/clf/wilds_subpop_user_split/finetune_user/A1ZRNYBXYZ69ZX: Found results for 3 seeds\n",
      "Base dir /data/ddmg/redditlanguagemodeling/results/amazon_reviews/clf/wilds_subpop_user_split/finetune_user/AOBK8SMVVTDH1: Found results for 3 seeds\n",
      "Base dir /data/ddmg/redditlanguagemodeling/results/amazon_reviews/clf/wilds_subpop_user_split/finetune_user/A2ZCMSFG5CBYLX: Found results for 3 seeds\n",
      "Base dir /data/ddmg/redditlanguagemodeling/results/amazon_reviews/clf/wilds_subpop_user_split/finetune_user/A2SNF7VCKMYTDF: Found results for 3 seeds\n",
      "Base dir /data/ddmg/redditlanguagemodeling/results/amazon_reviews/clf/wilds_subpop_user_split/finetune_user/A1MDO8RZCZ40B0: Found results for 3 seeds\n",
      "Base dir /data/ddmg/redditlanguagemodeling/results/amazon_reviews/clf/wilds_subpop_user_split/finetune_user/A27VAEBHL9FQDV: Found results for 3 seeds\n",
      "Base dir /data/ddmg/redditlanguagemodeling/results/amazon_reviews/clf/wilds_subpop_user_split/finetune_user/A9DIYBDBJDOJ: Found results for 3 seeds\n",
      "Base dir /data/ddmg/redditlanguagemodeling/results/amazon_reviews/clf/wilds_subpop_user_split/finetune_user/A2SP6QW2AU8V63: Found results for 3 seeds\n",
      "Base dir /data/ddmg/redditlanguagemodeling/results/amazon_reviews/clf/wilds_subpop_user_split/finetune_user/AVUFLCT0Q82CA: Found results for 3 seeds\n",
      "Base dir /data/ddmg/redditlanguagemodeling/results/amazon_reviews/clf/wilds_subpop_user_split/finetune_user/A2Q59QS5174NJ1: Found results for 3 seeds\n",
      "Base dir /data/ddmg/redditlanguagemodeling/results/amazon_reviews/clf/wilds_subpop_user_split/finetune_user/A1GGM046879U03: Found results for 3 seeds\n",
      "Base dir /data/ddmg/redditlanguagemodeling/results/amazon_reviews/clf/wilds_subpop_user_split/finetune_user/A3IR2O2V9V2DI4: Found results for 3 seeds\n",
      "Base dir /data/ddmg/redditlanguagemodeling/results/amazon_reviews/clf/wilds_subpop_user_split/finetune_user/A1TT87JT5IPWM5: Found results for 3 seeds\n",
      "Base dir /data/ddmg/redditlanguagemodeling/results/amazon_reviews/clf/wilds_subpop_user_split/finetune_user/A5FDYZB6MG2TT: Found results for 3 seeds\n",
      "Base dir /data/ddmg/redditlanguagemodeling/results/amazon_reviews/clf/wilds_subpop_user_split/finetune_user/A31AY0PVU5V8OG: Found results for 3 seeds\n",
      "Base dir /data/ddmg/redditlanguagemodeling/results/amazon_reviews/clf/wilds_subpop_user_split/finetune_user/A22O8F3IKD8M03: Found results for 3 seeds\n",
      "Base dir /data/ddmg/redditlanguagemodeling/results/amazon_reviews/clf/wilds_subpop_user_split/finetune_user/A1LZQPBALDJ0Y5: Found results for 3 seeds\n",
      "Base dir /data/ddmg/redditlanguagemodeling/results/amazon_reviews/clf/wilds_subpop_user_split/finetune_user/A3P7F8M2HPABXT: Found results for 3 seeds\n",
      "Base dir /data/ddmg/redditlanguagemodeling/results/amazon_reviews/clf/wilds_subpop_user_split/finetune_user/A5EQYRYXC2JHA: Found results for 3 seeds\n",
      "Base dir /data/ddmg/redditlanguagemodeling/results/amazon_reviews/clf/wilds_subpop_user_split/finetune_user/A26A64X86VL1R4: Found results for 3 seeds\n",
      "Base dir /data/ddmg/redditlanguagemodeling/results/amazon_reviews/clf/wilds_subpop_user_split/finetune_user/A2A0ZQBHZBWSYG: Found results for 3 seeds\n",
      "Base dir /data/ddmg/redditlanguagemodeling/results/amazon_reviews/clf/wilds_subpop_user_split/finetune_user/A1SNAWQ3DYNK5I: Found results for 3 seeds\n",
      "Base dir /data/ddmg/redditlanguagemodeling/results/amazon_reviews/clf/wilds_subpop_user_split/finetune_user/AXK37UZY8UPYP: Found results for 3 seeds\n",
      "Base dir /data/ddmg/redditlanguagemodeling/results/amazon_reviews/clf/wilds_subpop_user_split/finetune_user/A28FK1VPAEOH4A: Found results for 3 seeds\n"
     ]
    },
    {
     "name": "stdout",
     "output_type": "stream",
     "text": [
      "Base dir /data/ddmg/redditlanguagemodeling/results/amazon_reviews/clf/wilds_subpop_user_split/finetune_user/A1ZCEJEA67P6DE: Found results for 3 seeds\n",
      "Base dir /data/ddmg/redditlanguagemodeling/results/amazon_reviews/clf/wilds_subpop_user_split/finetune_user/A34BRH9R7DHXWU: Found results for 3 seeds\n",
      "Base dir /data/ddmg/redditlanguagemodeling/results/amazon_reviews/clf/wilds_subpop_user_split/finetune_user/A2GWTB02UN6MTX: Found results for 3 seeds\n",
      "Base dir /data/ddmg/redditlanguagemodeling/results/amazon_reviews/clf/wilds_subpop_user_split/finetune_user/A3HU2WUBWT20P8: Found results for 3 seeds\n",
      "Base dir /data/ddmg/redditlanguagemodeling/results/amazon_reviews/clf/wilds_subpop_user_split/finetune_user/A18QI1V17JMUEC: Found results for 3 seeds\n",
      "Base dir /data/ddmg/redditlanguagemodeling/results/amazon_reviews/clf/wilds_subpop_user_split/finetune_user/A2SH6A32BE6NEV: Found results for 3 seeds\n",
      "Base dir /data/ddmg/redditlanguagemodeling/results/amazon_reviews/clf/wilds_subpop_user_split/finetune_user/A2NEB7NP7OW0JM: Found results for 3 seeds\n",
      "Base dir /data/ddmg/redditlanguagemodeling/results/amazon_reviews/clf/wilds_subpop_user_split/finetune_user/ATJV9TWMRNF8K: Found results for 3 seeds\n",
      "Base dir /data/ddmg/redditlanguagemodeling/results/amazon_reviews/clf/wilds_subpop_user_split/finetune_user/ANS3TWQTZLXGN: Found results for 3 seeds\n",
      "Base dir /data/ddmg/redditlanguagemodeling/results/amazon_reviews/clf/wilds_subpop_user_split/finetune_user/A1BJL34PAVGDOB: Found results for 3 seeds\n",
      "Base dir /data/ddmg/redditlanguagemodeling/results/amazon_reviews/clf/wilds_subpop_user_split/finetune_user/A3JIH8AAZLQQ4O: Found results for 3 seeds\n",
      "Base dir /data/ddmg/redditlanguagemodeling/results/amazon_reviews/clf/wilds_subpop_user_split/finetune_user/A2U8QA856AC193: Found results for 3 seeds\n",
      "Base dir /data/ddmg/redditlanguagemodeling/results/amazon_reviews/clf/wilds_subpop_user_split/finetune_user/A1ED1L5SQ0QTVZ: Found results for 3 seeds\n",
      "Base dir /data/ddmg/redditlanguagemodeling/results/amazon_reviews/clf/wilds_subpop_user_split/finetune_user/A2XWTJKMOPG7Y2: Found results for 3 seeds\n",
      "Base dir /data/ddmg/redditlanguagemodeling/results/amazon_reviews/clf/wilds_subpop_user_split/finetune_user/A2C1JJE7RDPVMA: Found results for 3 seeds\n",
      "Base dir /data/ddmg/redditlanguagemodeling/results/amazon_reviews/clf/wilds_subpop_user_split/finetune_user/A34PHHKHIM1V55: Found results for 3 seeds\n",
      "Base dir /data/ddmg/redditlanguagemodeling/results/amazon_reviews/clf/wilds_subpop_user_split/finetune_user/A1VAU4V7HOE90T: Found results for 3 seeds\n",
      "Base dir /data/ddmg/redditlanguagemodeling/results/amazon_reviews/clf/wilds_subpop_user_split/finetune_user/AZK12FBX7X7LN: Found results for 3 seeds\n",
      "Base dir /data/ddmg/redditlanguagemodeling/results/amazon_reviews/clf/wilds_subpop_user_split/finetune_user/ATC0DD938W4QM: Found results for 3 seeds\n",
      "Base dir /data/ddmg/redditlanguagemodeling/results/amazon_reviews/clf/wilds_subpop_user_split/finetune_user/A2KQP13HS13X0U: Found results for 3 seeds\n",
      "Base dir /data/ddmg/redditlanguagemodeling/results/amazon_reviews/clf/wilds_subpop_user_split/finetune_user/A1PSGA348YRV67: Found results for 3 seeds\n",
      "Base dir /data/ddmg/redditlanguagemodeling/results/amazon_reviews/clf/wilds_subpop_user_split/finetune_user/A3LNU5OKNIZV21: Found results for 3 seeds\n",
      "Base dir /data/ddmg/redditlanguagemodeling/results/amazon_reviews/clf/wilds_subpop_user_split/finetune_user/A1NATT3PN24QWY: Found results for 3 seeds\n",
      "Base dir /data/ddmg/redditlanguagemodeling/results/amazon_reviews/clf/wilds_subpop_user_split/finetune_user/A2XCLJRGFANRC: Found results for 3 seeds\n",
      "Base dir /data/ddmg/redditlanguagemodeling/results/amazon_reviews/clf/wilds_subpop_user_split/finetune_user/A3FCKM7QYOM183: Found results for 3 seeds\n",
      "Base dir /data/ddmg/redditlanguagemodeling/results/amazon_reviews/clf/wilds_subpop_user_split/finetune_user/A143XY6COA69A: Found results for 3 seeds\n",
      "Base dir /data/ddmg/redditlanguagemodeling/results/amazon_reviews/clf/wilds_subpop_user_split/finetune_user/A3OR2X2JVOO49F: Found results for 3 seeds\n",
      "Base dir /data/ddmg/redditlanguagemodeling/results/amazon_reviews/clf/wilds_subpop_user_split/finetune_user/A1U2E581BQECO9: Found results for 3 seeds\n",
      "Base dir /data/ddmg/redditlanguagemodeling/results/amazon_reviews/clf/wilds_subpop_user_split/finetune_user/A5IWXB9M79X30: Found results for 3 seeds\n",
      "Base dir /data/ddmg/redditlanguagemodeling/results/amazon_reviews/clf/wilds_subpop_user_split/finetune_user/A1BU59FLE42F8K: Found results for 3 seeds\n",
      "Base dir /data/ddmg/redditlanguagemodeling/results/amazon_reviews/clf/wilds_subpop_user_split/finetune_user/A2A118C3EOJLL6: Found results for 3 seeds\n",
      "Base dir /data/ddmg/redditlanguagemodeling/results/amazon_reviews/clf/wilds_subpop_user_split/finetune_user/A28HGWDC5YT6HN: Found results for 3 seeds\n",
      "Base dir /data/ddmg/redditlanguagemodeling/results/amazon_reviews/clf/wilds_subpop_user_split/finetune_user/APWDAW7CKKJEZ: Found results for 3 seeds\n",
      "Base dir /data/ddmg/redditlanguagemodeling/results/amazon_reviews/clf/wilds_subpop_user_split/finetune_user/A1G4VPIX2M7MML: Found results for 3 seeds\n",
      "Base dir /data/ddmg/redditlanguagemodeling/results/amazon_reviews/clf/wilds_subpop_user_split/finetune_user/A1B5MN8PY0JIJQ: Found results for 3 seeds\n",
      "Base dir /data/ddmg/redditlanguagemodeling/results/amazon_reviews/clf/wilds_subpop_user_split/finetune_user/A13C6NTJ3HO0FX: Found results for 3 seeds\n",
      "Base dir /data/ddmg/redditlanguagemodeling/results/amazon_reviews/clf/wilds_subpop_user_split/finetune_user/AITRMDMAI9XXA: Found results for 3 seeds\n",
      "Base dir /data/ddmg/redditlanguagemodeling/results/amazon_reviews/clf/wilds_subpop_user_split/finetune_user/A336FE20YZZL3A: Found results for 3 seeds\n",
      "Base dir /data/ddmg/redditlanguagemodeling/results/amazon_reviews/clf/wilds_subpop_user_split/finetune_user/A21AH7XBX436AS: Found results for 3 seeds\n",
      "Base dir /data/ddmg/redditlanguagemodeling/results/amazon_reviews/clf/wilds_subpop_user_split/finetune_user/AFKBF8O4JWHHJ: Found results for 3 seeds\n",
      "Base dir /data/ddmg/redditlanguagemodeling/results/amazon_reviews/clf/wilds_subpop_user_split/finetune_user/ADWSD45P3NZGU: Found results for 3 seeds\n",
      "Base dir /data/ddmg/redditlanguagemodeling/results/amazon_reviews/clf/wilds_subpop_user_split/finetune_user/A2YCARIWYIPLDH: Found results for 3 seeds\n",
      "Base dir /data/ddmg/redditlanguagemodeling/results/amazon_reviews/clf/wilds_subpop_user_split/finetune_user/A3JOVHKWDGMQWV: Found results for 3 seeds\n",
      "Base dir /data/ddmg/redditlanguagemodeling/results/amazon_reviews/clf/wilds_subpop_user_split/finetune_user/A1HGE43DT3OKX1: Found results for 3 seeds\n",
      "Base dir /data/ddmg/redditlanguagemodeling/results/amazon_reviews/clf/wilds_subpop_user_split/finetune_user/A2LASORRVJQI66: Found results for 3 seeds\n",
      "Base dir /data/ddmg/redditlanguagemodeling/results/amazon_reviews/clf/wilds_subpop_user_split/finetune_user/A8E1J9IDU18V9: Found results for 3 seeds\n",
      "Base dir /data/ddmg/redditlanguagemodeling/results/amazon_reviews/clf/wilds_subpop_user_split/finetune_user/A1RV4398Y02WZH: Found results for 3 seeds\n",
      "Base dir /data/ddmg/redditlanguagemodeling/results/amazon_reviews/clf/wilds_subpop_user_split/finetune_user/A1LA4K5JF78BER: Found results for 3 seeds\n",
      "Base dir /data/ddmg/redditlanguagemodeling/results/amazon_reviews/clf/wilds_subpop_user_split/finetune_user/ALO3SN9BKHKEN: Found results for 3 seeds\n",
      "Base dir /data/ddmg/redditlanguagemodeling/results/amazon_reviews/clf/wilds_subpop_user_split/finetune_user/A36WBGWPPLIQZ9: Found results for 3 seeds\n",
      "Base dir /data/ddmg/redditlanguagemodeling/results/amazon_reviews/clf/wilds_subpop_user_split/finetune_user/A15SY0PV1SZOH: Found results for 3 seeds\n",
      "Base dir /data/ddmg/redditlanguagemodeling/results/amazon_reviews/clf/wilds_subpop_user_split/finetune_user/AQIA837SENFW2: Found results for 3 seeds\n",
      "Base dir /data/ddmg/redditlanguagemodeling/results/amazon_reviews/clf/wilds_subpop_user_split/finetune_user/A18WQOW07TAM2: Found results for 3 seeds\n",
      "Base dir /data/ddmg/redditlanguagemodeling/results/amazon_reviews/clf/wilds_subpop_user_split/finetune_user/A3VL7MU8U9DOV0: Found results for 3 seeds\n",
      "Base dir /data/ddmg/redditlanguagemodeling/results/amazon_reviews/clf/wilds_subpop_user_split/finetune_user/AUUFW7PTUHLT: Found results for 3 seeds\n",
      "Base dir /data/ddmg/redditlanguagemodeling/results/amazon_reviews/clf/wilds_subpop_user_split/finetune_user/A2T1K8UOQNIKRU: Found results for 3 seeds\n"
     ]
    },
    {
     "name": "stdout",
     "output_type": "stream",
     "text": [
      "Base dir /data/ddmg/redditlanguagemodeling/results/amazon_reviews/clf/wilds_subpop_user_split/finetune_user/A3T5VCXB3DRKCK: Found results for 3 seeds\n",
      "Base dir /data/ddmg/redditlanguagemodeling/results/amazon_reviews/clf/wilds_subpop_user_split/finetune_user/A2XKX0EWBR2ZT0: Found results for 3 seeds\n",
      "Base dir /data/ddmg/redditlanguagemodeling/results/amazon_reviews/clf/wilds_subpop_user_split/finetune_user/A6SR7U2PNGN0N: Found results for 3 seeds\n",
      "Base dir /data/ddmg/redditlanguagemodeling/results/amazon_reviews/clf/wilds_subpop_user_split/finetune_user/A1I98GJAHJHSAM: Found results for 3 seeds\n",
      "Base dir /data/ddmg/redditlanguagemodeling/results/amazon_reviews/clf/wilds_subpop_user_split/finetune_user/A55ER33W947XU: Found results for 3 seeds\n",
      "Base dir /data/ddmg/redditlanguagemodeling/results/amazon_reviews/clf/wilds_subpop_user_split/finetune_user/A2FNC5NMEG2340: Found results for 3 seeds\n",
      "Base dir /data/ddmg/redditlanguagemodeling/results/amazon_reviews/clf/wilds_subpop_user_split/finetune_user/A1I4JZLPZF6ZLI: Found results for 3 seeds\n",
      "Base dir /data/ddmg/redditlanguagemodeling/results/amazon_reviews/clf/wilds_subpop_user_split/finetune_user/AAZR4BVJV71XH: Found results for 3 seeds\n",
      "Base dir /data/ddmg/redditlanguagemodeling/results/amazon_reviews/clf/wilds_subpop_user_split/finetune_user/A231LBC8EGPO5L: Found results for 3 seeds\n",
      "Base dir /data/ddmg/redditlanguagemodeling/results/amazon_reviews/clf/wilds_subpop_user_split/finetune_user/A22IC7035NULMT: Found results for 3 seeds\n",
      "Base dir /data/ddmg/redditlanguagemodeling/results/amazon_reviews/clf/wilds_subpop_user_split/finetune_user/A3NU5MG1VOINFB: Found results for 3 seeds\n",
      "Base dir /data/ddmg/redditlanguagemodeling/results/amazon_reviews/clf/wilds_subpop_user_split/finetune_user/A2R3VAGCIFTZUZ: Found results for 3 seeds\n",
      "Base dir /data/ddmg/redditlanguagemodeling/results/amazon_reviews/clf/wilds_subpop_user_split/finetune_user/A3I8AUDEFF2XN2: Found results for 3 seeds\n",
      "Base dir /data/ddmg/redditlanguagemodeling/results/amazon_reviews/clf/wilds_subpop_user_split/finetune_user/A1JU5DX8UFSUZM: Found results for 3 seeds\n",
      "Base dir /data/ddmg/redditlanguagemodeling/results/amazon_reviews/clf/wilds_subpop_user_split/finetune_user/A9EYKJHCE4X7P: Found results for 3 seeds\n",
      "Base dir /data/ddmg/redditlanguagemodeling/results/amazon_reviews/clf/wilds_subpop_user_split/finetune_user/A6ZCTDOYVSK3A: Found results for 3 seeds\n",
      "Base dir /data/ddmg/redditlanguagemodeling/results/amazon_reviews/clf/wilds_subpop_user_split/finetune_user/A1XGJ7TLP5Y3XC: Found results for 3 seeds\n",
      "Base dir /data/ddmg/redditlanguagemodeling/results/amazon_reviews/clf/wilds_subpop_user_split/finetune_user/A1NJ33WGE3K2LX: Found results for 3 seeds\n",
      "Base dir /data/ddmg/redditlanguagemodeling/results/amazon_reviews/clf/wilds_subpop_user_split/finetune_user/A29HCCZYB9DRI9: Found results for 3 seeds\n",
      "Base dir /data/ddmg/redditlanguagemodeling/results/amazon_reviews/clf/wilds_subpop_user_split/finetune_user/A1Z2PKME2G4KG1: Found results for 3 seeds\n",
      "Base dir /data/ddmg/redditlanguagemodeling/results/amazon_reviews/clf/wilds_subpop_user_split/finetune_user/A3E4H5A1X8NJRR: Found results for 3 seeds\n",
      "Base dir /data/ddmg/redditlanguagemodeling/results/amazon_reviews/clf/wilds_subpop_user_split/finetune_user/A1U3Z4ZHK688W7: Found results for 3 seeds\n",
      "Base dir /data/ddmg/redditlanguagemodeling/results/amazon_reviews/clf/wilds_subpop_user_split/finetune_user/A1C94J63JF64A2: Found results for 3 seeds\n",
      "Base dir /data/ddmg/redditlanguagemodeling/results/amazon_reviews/clf/wilds_subpop_user_split/finetune_user/A2QEVUIEJ4SGQ9: Found results for 3 seeds\n",
      "Base dir /data/ddmg/redditlanguagemodeling/results/amazon_reviews/clf/wilds_subpop_user_split/finetune_user/A190TSUIRJIFUK: Found results for 3 seeds\n",
      "Base dir /data/ddmg/redditlanguagemodeling/results/amazon_reviews/clf/wilds_subpop_user_split/finetune_user/A3L60CU8IIYOP8: Found results for 3 seeds\n",
      "Base dir /data/ddmg/redditlanguagemodeling/results/amazon_reviews/clf/wilds_subpop_user_split/finetune_user/A2I21GHJIS0YXJ: Found results for 3 seeds\n",
      "Base dir /data/ddmg/redditlanguagemodeling/results/amazon_reviews/clf/wilds_subpop_user_split/finetune_user/A1YS68EIVIMORY: Found results for 3 seeds\n",
      "Base dir /data/ddmg/redditlanguagemodeling/results/amazon_reviews/clf/wilds_subpop_user_split/finetune_user/A3C4F4VCN8E316: Found results for 3 seeds\n",
      "Base dir /data/ddmg/redditlanguagemodeling/results/amazon_reviews/clf/wilds_subpop_user_split/finetune_user/AUJ5HFC0XLWFV: Found results for 3 seeds\n",
      "Base dir /data/ddmg/redditlanguagemodeling/results/amazon_reviews/clf/wilds_subpop_user_split/finetune_user/A2BQWD54CXBX6R: Found results for 3 seeds\n",
      "Base dir /data/ddmg/redditlanguagemodeling/results/amazon_reviews/clf/wilds_subpop_user_split/finetune_user/A1POJZWVDNEX2T: Found results for 3 seeds\n",
      "Base dir /data/ddmg/redditlanguagemodeling/results/amazon_reviews/clf/wilds_subpop_user_split/finetune_user/A3MW8B6I2LXVWR: Found results for 3 seeds\n",
      "Base dir /data/ddmg/redditlanguagemodeling/results/amazon_reviews/clf/wilds_subpop_user_split/finetune_user/A1VIEI9C8NEEU9: Found results for 3 seeds\n",
      "Base dir /data/ddmg/redditlanguagemodeling/results/amazon_reviews/clf/wilds_subpop_user_split/finetune_user/ANH8VL45X2L1S: Found results for 3 seeds\n",
      "Base dir /data/ddmg/redditlanguagemodeling/results/amazon_reviews/clf/wilds_subpop_user_split/finetune_user/A1EQY74OFGE4NE: Found results for 3 seeds\n",
      "Base dir /data/ddmg/redditlanguagemodeling/results/amazon_reviews/clf/wilds_subpop_user_split/finetune_user/A7M73HAH815DM: Found results for 3 seeds\n",
      "Base dir /data/ddmg/redditlanguagemodeling/results/amazon_reviews/clf/wilds_subpop_user_split/finetune_user/A1ONPTGMMIEQZ8: Found results for 3 seeds\n",
      "Base dir /data/ddmg/redditlanguagemodeling/results/amazon_reviews/clf/wilds_subpop_user_split/finetune_user/A1FC6HS3ZG9MXF: Found results for 3 seeds\n",
      "Base dir /data/ddmg/redditlanguagemodeling/results/amazon_reviews/clf/wilds_subpop_user_split/finetune_user/A2HZRORRKBERKH: Found results for 3 seeds\n",
      "Base dir /data/ddmg/redditlanguagemodeling/results/amazon_reviews/clf/wilds_subpop_user_split/finetune_user/A2MR87VMPFNFJ5: Found results for 3 seeds\n",
      "Base dir /data/ddmg/redditlanguagemodeling/results/amazon_reviews/clf/wilds_subpop_user_split/finetune_user/A1ZTE3K3EN4TS3: Found results for 3 seeds\n",
      "Base dir /data/ddmg/redditlanguagemodeling/results/amazon_reviews/clf/wilds_subpop_user_split/finetune_user/A18PT3K89Y5BY4: Found results for 3 seeds\n",
      "Base dir /data/ddmg/redditlanguagemodeling/results/amazon_reviews/clf/wilds_subpop_user_split/finetune_user/A1SSEJK5I9RPDX: Found results for 3 seeds\n",
      "Base dir /data/ddmg/redditlanguagemodeling/results/amazon_reviews/clf/wilds_subpop_user_split/finetune_user/ARWMPJN499ZJ: Found results for 3 seeds\n",
      "Base dir /data/ddmg/redditlanguagemodeling/results/amazon_reviews/clf/wilds_subpop_user_split/finetune_user/AU45V4AMZVHFL: Found results for 3 seeds\n",
      "Base dir /data/ddmg/redditlanguagemodeling/results/amazon_reviews/clf/wilds_subpop_user_split/finetune_user/A3RPHE3CBDG7G9: Found results for 3 seeds\n",
      "Base dir /data/ddmg/redditlanguagemodeling/results/amazon_reviews/clf/wilds_subpop_user_split/finetune_user/A3I2P8G8JTEH23: Found results for 3 seeds\n",
      "Base dir /data/ddmg/redditlanguagemodeling/results/amazon_reviews/clf/wilds_subpop_user_split/finetune_user/A3RET6SULBNFEB: Found results for 3 seeds\n",
      "Base dir /data/ddmg/redditlanguagemodeling/results/amazon_reviews/clf/wilds_subpop_user_split/finetune_user/A24ZUL4BK5L68C: Found results for 3 seeds\n",
      "Base dir /data/ddmg/redditlanguagemodeling/results/amazon_reviews/clf/wilds_subpop_user_split/finetune_user/A1W8E0JSBYO171: Found results for 3 seeds\n",
      "Base dir /data/ddmg/redditlanguagemodeling/results/amazon_reviews/clf/wilds_subpop_user_split/finetune_user/A1P0E5M7AU8BQI: Found results for 3 seeds\n",
      "Base dir /data/ddmg/redditlanguagemodeling/results/amazon_reviews/clf/wilds_subpop_user_split/finetune_user/A34QGZBQIG3U0E: Found results for 3 seeds\n",
      "Base dir /data/ddmg/redditlanguagemodeling/results/amazon_reviews/clf/wilds_subpop_user_split/finetune_user/AR5O1A0W3ZDCI: Found results for 3 seeds\n",
      "Base dir /data/ddmg/redditlanguagemodeling/results/amazon_reviews/clf/wilds_subpop_user_split/finetune_user/A6HEFI49DSYU4: Found results for 3 seeds\n",
      "Base dir /data/ddmg/redditlanguagemodeling/results/amazon_reviews/clf/wilds_subpop_user_split/finetune_user/AL1WTXQJCKT8X: Found results for 3 seeds\n",
      "Base dir /data/ddmg/redditlanguagemodeling/results/amazon_reviews/clf/wilds_subpop_user_split/finetune_user/A23MYUKGYZZA8R: Found results for 3 seeds\n",
      "Base dir /data/ddmg/redditlanguagemodeling/results/amazon_reviews/clf/wilds_subpop_user_split/finetune_user/A1W2JGROMLJAQH: Found results for 3 seeds\n"
     ]
    },
    {
     "name": "stdout",
     "output_type": "stream",
     "text": [
      "Base dir /data/ddmg/redditlanguagemodeling/results/amazon_reviews/clf/wilds_subpop_user_split/finetune_user/A1YTMISDM7N0B7: Found results for 3 seeds\n",
      "Base dir /data/ddmg/redditlanguagemodeling/results/amazon_reviews/clf/wilds_subpop_user_split/finetune_user/A3IJW8OF1ZKH0K: Found results for 3 seeds\n",
      "Base dir /data/ddmg/redditlanguagemodeling/results/amazon_reviews/clf/wilds_subpop_user_split/finetune_user/A1LYT31WSI9NVL: Found results for 3 seeds\n",
      "Base dir /data/ddmg/redditlanguagemodeling/results/amazon_reviews/clf/wilds_subpop_user_split/finetune_user/A2GVWOGCJN0FKH: Found results for 3 seeds\n",
      "Base dir /data/ddmg/redditlanguagemodeling/results/amazon_reviews/clf/wilds_subpop_user_split/finetune_user/A1Q4Q4YONL3VIT: Found results for 3 seeds\n",
      "Base dir /data/ddmg/redditlanguagemodeling/results/amazon_reviews/clf/wilds_subpop_user_split/finetune_user/A3ABPSWQZDPHI7: Found results for 3 seeds\n",
      "Base dir /data/ddmg/redditlanguagemodeling/results/amazon_reviews/clf/wilds_subpop_user_split/finetune_user/A3ISLV4N8IWHW3: Found results for 3 seeds\n",
      "Base dir /data/ddmg/redditlanguagemodeling/results/amazon_reviews/clf/wilds_subpop_user_split/finetune_user/AFI098OFE40RK: Found results for 3 seeds\n",
      "Base dir /data/ddmg/redditlanguagemodeling/results/amazon_reviews/clf/wilds_subpop_user_split/finetune_user/ANT80RNKZGHFJ: Found results for 3 seeds\n",
      "Base dir /data/ddmg/redditlanguagemodeling/results/amazon_reviews/clf/wilds_subpop_user_split/finetune_user/A1DUWCXDBM40AO: Found results for 3 seeds\n",
      "Base dir /data/ddmg/redditlanguagemodeling/results/amazon_reviews/clf/wilds_subpop_user_split/finetune_user/A103M7E0BSFC83: Found results for 3 seeds\n",
      "Base dir /data/ddmg/redditlanguagemodeling/results/amazon_reviews/clf/wilds_subpop_user_split/finetune_user/A3AAWCXSF99MWG: Found results for 3 seeds\n",
      "Base dir /data/ddmg/redditlanguagemodeling/results/amazon_reviews/clf/wilds_subpop_user_split/finetune_user/AFBUDZ63FOLVS: Found results for 3 seeds\n",
      "Base dir /data/ddmg/redditlanguagemodeling/results/amazon_reviews/clf/wilds_subpop_user_split/finetune_user/A2DQGD2M6EZRS6: Found results for 3 seeds\n",
      "Base dir /data/ddmg/redditlanguagemodeling/results/amazon_reviews/clf/wilds_subpop_user_split/finetune_user/A19W1EMTMIQJRT: Found results for 3 seeds\n",
      "Base dir /data/ddmg/redditlanguagemodeling/results/amazon_reviews/clf/wilds_subpop_user_split/finetune_user/A1T9P4HXF0F2NS: Found results for 3 seeds\n",
      "Base dir /data/ddmg/redditlanguagemodeling/results/amazon_reviews/clf/wilds_subpop_user_split/finetune_user/A1D427FYPTSWR0: Found results for 3 seeds\n",
      "Base dir /data/ddmg/redditlanguagemodeling/results/amazon_reviews/clf/wilds_subpop_user_split/finetune_user/A3RP48WVS8KF8F: Found results for 3 seeds\n",
      "Base dir /data/ddmg/redditlanguagemodeling/results/amazon_reviews/clf/wilds_subpop_user_split/finetune_user/A37PV5GMP2ILJC: Found results for 3 seeds\n",
      "Base dir /data/ddmg/redditlanguagemodeling/results/amazon_reviews/clf/wilds_subpop_user_split/finetune_user/A2JRUJYHA4WO7P: Found results for 3 seeds\n",
      "Base dir /data/ddmg/redditlanguagemodeling/results/amazon_reviews/clf/wilds_subpop_user_split/finetune_user/A143IV9N6HPKKB: Found results for 3 seeds\n",
      "Base dir /data/ddmg/redditlanguagemodeling/results/amazon_reviews/clf/wilds_subpop_user_split/finetune_user/A11GG623AD89YT: Found results for 3 seeds\n",
      "Base dir /data/ddmg/redditlanguagemodeling/results/amazon_reviews/clf/wilds_subpop_user_split/finetune_user/AJF5VC7B07WXM: Found results for 3 seeds\n",
      "Base dir /data/ddmg/redditlanguagemodeling/results/amazon_reviews/clf/wilds_subpop_user_split/finetune_user/AO5ABKXMYF4W7: Found results for 3 seeds\n",
      "Base dir /data/ddmg/redditlanguagemodeling/results/amazon_reviews/clf/wilds_subpop_user_split/finetune_user/A217CC8F7N5717: Found results for 3 seeds\n",
      "Base dir /data/ddmg/redditlanguagemodeling/results/amazon_reviews/clf/wilds_subpop_user_split/finetune_user/A1YBVBU27AKJ1J: Found results for 3 seeds\n",
      "Base dir /data/ddmg/redditlanguagemodeling/results/amazon_reviews/clf/wilds_subpop_user_split/finetune_user/A3IZSGFX4FOG85: Found results for 3 seeds\n",
      "Base dir /data/ddmg/redditlanguagemodeling/results/amazon_reviews/clf/wilds_subpop_user_split/finetune_user/A2IVVR7QXDCBGJ: Found results for 3 seeds\n",
      "Base dir /data/ddmg/redditlanguagemodeling/results/amazon_reviews/clf/wilds_subpop_user_split/finetune_user/A1GECJN7XHDKU6: Found results for 3 seeds\n",
      "Base dir /data/ddmg/redditlanguagemodeling/results/amazon_reviews/clf/wilds_subpop_user_split/finetune_user/A1GDPEU44BKKQ2: Found results for 3 seeds\n",
      "Base dir /data/ddmg/redditlanguagemodeling/results/amazon_reviews/clf/wilds_subpop_user_split/finetune_user/A3FMPT5IH0CJ50: Found results for 3 seeds\n",
      "Base dir /data/ddmg/redditlanguagemodeling/results/amazon_reviews/clf/wilds_subpop_user_split/finetune_user/A16TE56LP5NUL5: Found results for 3 seeds\n",
      "Base dir /data/ddmg/redditlanguagemodeling/results/amazon_reviews/clf/wilds_subpop_user_split/finetune_user/ADT3692HEYU4S: Found results for 3 seeds\n",
      "Base dir /data/ddmg/redditlanguagemodeling/results/amazon_reviews/clf/wilds_subpop_user_split/finetune_user/A1C5F13T4XA9MY: Found results for 3 seeds\n",
      "Base dir /data/ddmg/redditlanguagemodeling/results/amazon_reviews/clf/wilds_subpop_user_split/finetune_user/A1NHBZFJFVEFEO: Found results for 3 seeds\n",
      "Base dir /data/ddmg/redditlanguagemodeling/results/amazon_reviews/clf/wilds_subpop_user_split/finetune_user/ABAO61ANUYHB2: Found results for 3 seeds\n",
      "Base dir /data/ddmg/redditlanguagemodeling/results/amazon_reviews/clf/wilds_subpop_user_split/finetune_user/AXM5ZEK9I7CWL: Found results for 3 seeds\n",
      "Base dir /data/ddmg/redditlanguagemodeling/results/amazon_reviews/clf/wilds_subpop_user_split/finetune_user/A2SR39WDLQCOCX: Found results for 3 seeds\n",
      "Base dir /data/ddmg/redditlanguagemodeling/results/amazon_reviews/clf/wilds_subpop_user_split/finetune_user/A1FKSYLHM2G2N5: Found results for 3 seeds\n",
      "Base dir /data/ddmg/redditlanguagemodeling/results/amazon_reviews/clf/wilds_subpop_user_split/finetune_user/AL0LTL9QRB3KY: Found results for 3 seeds\n",
      "Base dir /data/ddmg/redditlanguagemodeling/results/amazon_reviews/clf/wilds_subpop_user_split/finetune_user/A15J71JLC29KPW: Found results for 3 seeds\n",
      "Base dir /data/ddmg/redditlanguagemodeling/results/amazon_reviews/clf/wilds_subpop_user_split/finetune_user/A1PCK0ZZ7YTNKS: Found results for 3 seeds\n",
      "Base dir /data/ddmg/redditlanguagemodeling/results/amazon_reviews/clf/wilds_subpop_user_split/finetune_user/A3BH49ZKESHDID: Found results for 3 seeds\n",
      "Base dir /data/ddmg/redditlanguagemodeling/results/amazon_reviews/clf/wilds_subpop_user_split/finetune_user/A30GR3NQF8WEW6: Found results for 3 seeds\n",
      "Base dir /data/ddmg/redditlanguagemodeling/results/amazon_reviews/clf/wilds_subpop_user_split/finetune_user/AOD0KRO374ZG6: Found results for 3 seeds\n",
      "Base dir /data/ddmg/redditlanguagemodeling/results/amazon_reviews/clf/wilds_subpop_user_split/finetune_user/A3UOUGW1XHNFKV: Found results for 3 seeds\n",
      "Base dir /data/ddmg/redditlanguagemodeling/results/amazon_reviews/clf/wilds_subpop_user_split/finetune_user/A37Z3UXY999IOH: Found results for 3 seeds\n",
      "Base dir /data/ddmg/redditlanguagemodeling/results/amazon_reviews/clf/wilds_subpop_user_split/finetune_user/A1535RAYXEQZCE: Found results for 3 seeds\n",
      "Base dir /data/ddmg/redditlanguagemodeling/results/amazon_reviews/clf/wilds_subpop_user_split/finetune_user/A3L576T8NMSD9H: Found results for 3 seeds\n",
      "Base dir /data/ddmg/redditlanguagemodeling/results/amazon_reviews/clf/wilds_subpop_user_split/finetune_user/A1VU7D0OL9GKST: Found results for 3 seeds\n",
      "Base dir /data/ddmg/redditlanguagemodeling/results/amazon_reviews/clf/wilds_subpop_user_split/finetune_user/A2H1WNB30JNAWU: Found results for 3 seeds\n",
      "Base dir /data/ddmg/redditlanguagemodeling/results/amazon_reviews/clf/wilds_subpop_user_split/finetune_user/A3ICUM9JY3HLG3: Found results for 3 seeds\n",
      "Base dir /data/ddmg/redditlanguagemodeling/results/amazon_reviews/clf/wilds_subpop_user_split/finetune_user/A2W26AAU92CN70: Found results for 3 seeds\n",
      "Base dir /data/ddmg/redditlanguagemodeling/results/amazon_reviews/clf/wilds_subpop_user_split/finetune_user/AY5E0O8II03DY: Found results for 3 seeds\n",
      "Base dir /data/ddmg/redditlanguagemodeling/results/amazon_reviews/clf/wilds_subpop_user_split/finetune_user/A1PMXOPB5EYC54: Found results for 3 seeds\n",
      "Base dir /data/ddmg/redditlanguagemodeling/results/amazon_reviews/clf/wilds_subpop_user_split/finetune_user/A2GCVUZ1N1TBZ2: Found results for 3 seeds\n",
      "Base dir /data/ddmg/redditlanguagemodeling/results/amazon_reviews/clf/wilds_subpop_user_split/finetune_user/A3IY316DRNF5F2: Found results for 3 seeds\n"
     ]
    },
    {
     "name": "stdout",
     "output_type": "stream",
     "text": [
      "Base dir /data/ddmg/redditlanguagemodeling/results/amazon_reviews/clf/wilds_subpop_user_split/finetune_user/A3Q6LH3YX5H41P: Found results for 3 seeds\n",
      "Base dir /data/ddmg/redditlanguagemodeling/results/amazon_reviews/clf/wilds_subpop_user_split/finetune_user/ACUJMLOJEVYTB: Found results for 3 seeds\n",
      "Base dir /data/ddmg/redditlanguagemodeling/results/amazon_reviews/clf/wilds_subpop_user_split/finetune_user/A1EJXET3VTLEIE: Found results for 3 seeds\n",
      "Base dir /data/ddmg/redditlanguagemodeling/results/amazon_reviews/clf/wilds_subpop_user_split/finetune_user/A19XMHRB3G4DIR: Found results for 3 seeds\n",
      "Base dir /data/ddmg/redditlanguagemodeling/results/amazon_reviews/clf/wilds_subpop_user_split/finetune_user/A2IG937LQKWO7C: Found results for 3 seeds\n",
      "Base dir /data/ddmg/redditlanguagemodeling/results/amazon_reviews/clf/wilds_subpop_user_split/finetune_user/A2SDFM6RV0SQ4: Found results for 3 seeds\n",
      "Base dir /data/ddmg/redditlanguagemodeling/results/amazon_reviews/clf/wilds_subpop_user_split/finetune_user/A2MG7L8TYRYCW: Found results for 3 seeds\n",
      "Base dir /data/ddmg/redditlanguagemodeling/results/amazon_reviews/clf/wilds_subpop_user_split/finetune_user/A3AXZ2GV4QE9FR: Found results for 3 seeds\n",
      "Base dir /data/ddmg/redditlanguagemodeling/results/amazon_reviews/clf/wilds_subpop_user_split/finetune_user/ACOY93TRIQ9P4: Found results for 3 seeds\n",
      "Base dir /data/ddmg/redditlanguagemodeling/results/amazon_reviews/clf/wilds_subpop_user_split/finetune_user/ABC783CQVBXXZ: Found results for 3 seeds\n",
      "Base dir /data/ddmg/redditlanguagemodeling/results/amazon_reviews/clf/wilds_subpop_user_split/finetune_user/AAN1YZRVL3XYN: Found results for 3 seeds\n",
      "Base dir /data/ddmg/redditlanguagemodeling/results/amazon_reviews/clf/wilds_subpop_user_split/finetune_user/AO2JBD7IAH9DT: Found results for 3 seeds\n",
      "Base dir /data/ddmg/redditlanguagemodeling/results/amazon_reviews/clf/wilds_subpop_user_split/finetune_user/AMCZLPIRP0QTE: Found results for 3 seeds\n",
      "Base dir /data/ddmg/redditlanguagemodeling/results/amazon_reviews/clf/wilds_subpop_user_split/finetune_user/A198VA99B61EQ9: Found results for 3 seeds\n",
      "Base dir /data/ddmg/redditlanguagemodeling/results/amazon_reviews/clf/wilds_subpop_user_split/finetune_user/A1TR7SQWWLREQR: Found results for 3 seeds\n",
      "Base dir /data/ddmg/redditlanguagemodeling/results/amazon_reviews/clf/wilds_subpop_user_split/finetune_user/AYTMXLYK6SC9H: Found results for 3 seeds\n",
      "Base dir /data/ddmg/redditlanguagemodeling/results/amazon_reviews/clf/wilds_subpop_user_split/finetune_user/A2VZ11U5DXM8J5: Found results for 3 seeds\n",
      "Base dir /data/ddmg/redditlanguagemodeling/results/amazon_reviews/clf/wilds_subpop_user_split/finetune_user/AV5FY4EBSPKVW: Found results for 3 seeds\n",
      "Base dir /data/ddmg/redditlanguagemodeling/results/amazon_reviews/clf/wilds_subpop_user_split/finetune_user/A3FSPSSTLOD4VU: Found results for 3 seeds\n",
      "Base dir /data/ddmg/redditlanguagemodeling/results/amazon_reviews/clf/wilds_subpop_user_split/finetune_user/A1874P43JYYTJT: Found results for 3 seeds\n",
      "Base dir /data/ddmg/redditlanguagemodeling/results/amazon_reviews/clf/wilds_subpop_user_split/finetune_user/AW3VZ5O895LRK: Found results for 3 seeds\n",
      "Base dir /data/ddmg/redditlanguagemodeling/results/amazon_reviews/clf/wilds_subpop_user_split/finetune_user/A1YPYJW1LA34QD: Found results for 3 seeds\n",
      "Base dir /data/ddmg/redditlanguagemodeling/results/amazon_reviews/clf/wilds_subpop_user_split/finetune_user/A2WMXQV5ML8BOK: Found results for 3 seeds\n",
      "Base dir /data/ddmg/redditlanguagemodeling/results/amazon_reviews/clf/wilds_subpop_user_split/finetune_user/AH2KUKJWI6XW3: Found results for 3 seeds\n",
      "Base dir /data/ddmg/redditlanguagemodeling/results/amazon_reviews/clf/wilds_subpop_user_split/finetune_user/A3BO2LHCLQP0DH: Found results for 3 seeds\n",
      "Base dir /data/ddmg/redditlanguagemodeling/results/amazon_reviews/clf/wilds_subpop_user_split/finetune_user/A8YYMBXZN2SEZ: Found results for 3 seeds\n",
      "Base dir /data/ddmg/redditlanguagemodeling/results/amazon_reviews/clf/wilds_subpop_user_split/finetune_user/A1CHM200OEN65X: Found results for 3 seeds\n",
      "Base dir /data/ddmg/redditlanguagemodeling/results/amazon_reviews/clf/wilds_subpop_user_split/finetune_user/ABVIQ0W19DPSG: Found results for 3 seeds\n",
      "Base dir /data/ddmg/redditlanguagemodeling/results/amazon_reviews/clf/wilds_subpop_user_split/finetune_user/A1JB3OYFO2J3RS: Found results for 3 seeds\n",
      "Base dir /data/ddmg/redditlanguagemodeling/results/amazon_reviews/clf/wilds_subpop_user_split/finetune_user/A13G2Y4HFQTXB: Found results for 3 seeds\n",
      "Base dir /data/ddmg/redditlanguagemodeling/results/amazon_reviews/clf/wilds_subpop_user_split/finetune_user/A3SW9KOFTIXZNO: Found results for 3 seeds\n",
      "Base dir /data/ddmg/redditlanguagemodeling/results/amazon_reviews/clf/wilds_subpop_user_split/finetune_user/A1TKZM4ZQXC4HY: Found results for 3 seeds\n",
      "Base dir /data/ddmg/redditlanguagemodeling/results/amazon_reviews/clf/wilds_subpop_user_split/finetune_user/AXAA7WYV0T785: Found results for 3 seeds\n",
      "Base dir /data/ddmg/redditlanguagemodeling/results/amazon_reviews/clf/wilds_subpop_user_split/finetune_user/A1D55CUSW389PO: Found results for 3 seeds\n",
      "Base dir /data/ddmg/redditlanguagemodeling/results/amazon_reviews/clf/wilds_subpop_user_split/finetune_user/ATK1PI2HWROER: Found results for 3 seeds\n",
      "Base dir /data/ddmg/redditlanguagemodeling/results/amazon_reviews/clf/wilds_subpop_user_split/finetune_user/A38K5A38JROTJD: Found results for 3 seeds\n",
      "Base dir /data/ddmg/redditlanguagemodeling/results/amazon_reviews/clf/wilds_subpop_user_split/finetune_user/A216SKRFFQU4ZM: Found results for 3 seeds\n",
      "Base dir /data/ddmg/redditlanguagemodeling/results/amazon_reviews/clf/wilds_subpop_user_split/finetune_user/A1GCZ07XRJX858: Found results for 3 seeds\n",
      "Base dir /data/ddmg/redditlanguagemodeling/results/amazon_reviews/clf/wilds_subpop_user_split/finetune_user/A2EHSB26B1U4X2: Found results for 3 seeds\n",
      "Base dir /data/ddmg/redditlanguagemodeling/results/amazon_reviews/clf/wilds_subpop_user_split/finetune_user/ABC14DLVTD075: Found results for 3 seeds\n",
      "Base dir /data/ddmg/redditlanguagemodeling/results/amazon_reviews/clf/wilds_subpop_user_split/finetune_user/A2NML53YCHS80S: Found results for 3 seeds\n",
      "Base dir /data/ddmg/redditlanguagemodeling/results/amazon_reviews/clf/wilds_subpop_user_split/finetune_user/A3VTWIZJZ1LLA0: Found results for 3 seeds\n",
      "Base dir /data/ddmg/redditlanguagemodeling/results/amazon_reviews/clf/wilds_subpop_user_split/finetune_user/A2RYA35DSUBBBN: Found results for 3 seeds\n",
      "Base dir /data/ddmg/redditlanguagemodeling/results/amazon_reviews/clf/wilds_subpop_user_split/finetune_user/A3B56DW0T1PWII: Found results for 3 seeds\n",
      "Base dir /data/ddmg/redditlanguagemodeling/results/amazon_reviews/clf/wilds_subpop_user_split/finetune_user/A2SQJPUCZNHMZE: Found results for 3 seeds\n",
      "Base dir /data/ddmg/redditlanguagemodeling/results/amazon_reviews/clf/wilds_subpop_user_split/finetune_user/A5KXV9C2A6TIK: Found results for 3 seeds\n",
      "Base dir /data/ddmg/redditlanguagemodeling/results/amazon_reviews/clf/wilds_subpop_user_split/finetune_user/A1BQJNUATIXPSS: Found results for 3 seeds\n",
      "Base dir /data/ddmg/redditlanguagemodeling/results/amazon_reviews/clf/wilds_subpop_user_split/finetune_user/A3A1R01UJXLTP3: Found results for 3 seeds\n",
      "Base dir /data/ddmg/redditlanguagemodeling/results/amazon_reviews/clf/wilds_subpop_user_split/finetune_user/A1EBV706Z2AM38: Found results for 3 seeds\n",
      "Base dir /data/ddmg/redditlanguagemodeling/results/amazon_reviews/clf/wilds_subpop_user_split/finetune_user/A1Q00GHEQSJV30: Found results for 3 seeds\n",
      "Base dir /data/ddmg/redditlanguagemodeling/results/amazon_reviews/clf/wilds_subpop_user_split/finetune_user/AQTXCLZVJ9GBX: Found results for 3 seeds\n",
      "Base dir /data/ddmg/redditlanguagemodeling/results/amazon_reviews/clf/wilds_subpop_user_split/finetune_user/A6JD2SFKG2VH5: Found results for 3 seeds\n",
      "Base dir /data/ddmg/redditlanguagemodeling/results/amazon_reviews/clf/wilds_subpop_user_split/finetune_user/A3UF4KK5RN4KOY: Found results for 3 seeds\n",
      "Base dir /data/ddmg/redditlanguagemodeling/results/amazon_reviews/clf/wilds_subpop_user_split/finetune_user/A10JAUCIGVRW9F: Found results for 3 seeds\n",
      "Base dir /data/ddmg/redditlanguagemodeling/results/amazon_reviews/clf/wilds_subpop_user_split/finetune_user/A2PU1WAJJQ5M4U: Found results for 3 seeds\n",
      "Base dir /data/ddmg/redditlanguagemodeling/results/amazon_reviews/clf/wilds_subpop_user_split/finetune_user/A3JVE1D10L1CFA: Found results for 3 seeds\n",
      "Base dir /data/ddmg/redditlanguagemodeling/results/amazon_reviews/clf/wilds_subpop_user_split/finetune_user/ABLLHG0REGFX7: Found results for 3 seeds\n"
     ]
    },
    {
     "name": "stdout",
     "output_type": "stream",
     "text": [
      "Base dir /data/ddmg/redditlanguagemodeling/results/amazon_reviews/clf/wilds_subpop_user_split/finetune_user/A1MDSZSHCMNCLN: Found results for 3 seeds\n",
      "Base dir /data/ddmg/redditlanguagemodeling/results/amazon_reviews/clf/wilds_subpop_user_split/finetune_user/A389670FO394S5: Found results for 3 seeds\n",
      "Base dir /data/ddmg/redditlanguagemodeling/results/amazon_reviews/clf/wilds_subpop_user_split/finetune_user/A306UFMRUW6OTV: Found results for 3 seeds\n",
      "Base dir /data/ddmg/redditlanguagemodeling/results/amazon_reviews/clf/wilds_subpop_user_split/finetune_user/A21FZK6X6CVS2Q: Found results for 3 seeds\n",
      "Base dir /data/ddmg/redditlanguagemodeling/results/amazon_reviews/clf/wilds_subpop_user_split/finetune_user/A2X0DTXQDEK1QB: Found results for 3 seeds\n",
      "Base dir /data/ddmg/redditlanguagemodeling/results/amazon_reviews/clf/wilds_subpop_user_split/finetune_user/A1MCH5RXDOH87H: Found results for 3 seeds\n",
      "Base dir /data/ddmg/redditlanguagemodeling/results/amazon_reviews/clf/wilds_subpop_user_split/finetune_user/A3GQ7EGAQY2UYX: Found results for 3 seeds\n",
      "Base dir /data/ddmg/redditlanguagemodeling/results/amazon_reviews/clf/wilds_subpop_user_split/finetune_user/A2CV1FOGQUH42O: Found results for 3 seeds\n",
      "Base dir /data/ddmg/redditlanguagemodeling/results/amazon_reviews/clf/wilds_subpop_user_split/finetune_user/A29T77UEKH8O9L: Found results for 3 seeds\n",
      "Base dir /data/ddmg/redditlanguagemodeling/results/amazon_reviews/clf/wilds_subpop_user_split/finetune_user/A1A8Z5YQ24WBFW: Found results for 3 seeds\n",
      "Base dir /data/ddmg/redditlanguagemodeling/results/amazon_reviews/clf/wilds_subpop_user_split/finetune_user/ANI27DZ63ERTJ: Found results for 3 seeds\n",
      "Base dir /data/ddmg/redditlanguagemodeling/results/amazon_reviews/clf/wilds_subpop_user_split/finetune_user/A34FOP1N0XG4R3: Found results for 3 seeds\n",
      "Base dir /data/ddmg/redditlanguagemodeling/results/amazon_reviews/clf/wilds_subpop_user_split/finetune_user/A1IZJVLNMFACS6: Found results for 3 seeds\n",
      "Base dir /data/ddmg/redditlanguagemodeling/results/amazon_reviews/clf/wilds_subpop_user_split/finetune_user/A163X2IIRM67JM: Found results for 3 seeds\n",
      "Base dir /data/ddmg/redditlanguagemodeling/results/amazon_reviews/clf/wilds_subpop_user_split/finetune_user/A19UT0OPQCDR8: Found results for 3 seeds\n",
      "Base dir /data/ddmg/redditlanguagemodeling/results/amazon_reviews/clf/wilds_subpop_user_split/finetune_user/A2LVICXBLJUKSP: Found results for 3 seeds\n",
      "Base dir /data/ddmg/redditlanguagemodeling/results/amazon_reviews/clf/wilds_subpop_user_split/finetune_user/APDBYAGNSIIXZ: Found results for 3 seeds\n",
      "Base dir /data/ddmg/redditlanguagemodeling/results/amazon_reviews/clf/wilds_subpop_user_split/finetune_user/A1GQ2UI5BKCCRD: Found results for 3 seeds\n",
      "Base dir /data/ddmg/redditlanguagemodeling/results/amazon_reviews/clf/wilds_subpop_user_split/finetune_user/AE23OU5X6JN3F: Found results for 3 seeds\n",
      "Base dir /data/ddmg/redditlanguagemodeling/results/amazon_reviews/clf/wilds_subpop_user_split/finetune_user/A3449V2TEMAAGL: Found results for 3 seeds\n",
      "Base dir /data/ddmg/redditlanguagemodeling/results/amazon_reviews/clf/wilds_subpop_user_split/finetune_user/A3JXBZ8F65100O: Found results for 3 seeds\n",
      "Base dir /data/ddmg/redditlanguagemodeling/results/amazon_reviews/clf/wilds_subpop_user_split/finetune_user/A3K6XA6UH9YUO9: Found results for 3 seeds\n",
      "Base dir /data/ddmg/redditlanguagemodeling/results/amazon_reviews/clf/wilds_subpop_user_split/finetune_user/A65CJJR20CVRC: Found results for 3 seeds\n",
      "Base dir /data/ddmg/redditlanguagemodeling/results/amazon_reviews/clf/wilds_subpop_user_split/finetune_user/AN81JUYW2SL24: Found results for 3 seeds\n",
      "Base dir /data/ddmg/redditlanguagemodeling/results/amazon_reviews/clf/wilds_subpop_user_split/finetune_user/A3IQ0P3M39IY8U: Found results for 3 seeds\n",
      "Base dir /data/ddmg/redditlanguagemodeling/results/amazon_reviews/clf/wilds_subpop_user_split/finetune_user/A3IEXG75YM4ZQH: Found results for 3 seeds\n",
      "Base dir /data/ddmg/redditlanguagemodeling/results/amazon_reviews/clf/wilds_subpop_user_split/finetune_user/A2T9KPB4D00G9T: Found results for 3 seeds\n",
      "Base dir /data/ddmg/redditlanguagemodeling/results/amazon_reviews/clf/wilds_subpop_user_split/finetune_user/A1CRBY1WP9LNJP: Found results for 3 seeds\n",
      "Base dir /data/ddmg/redditlanguagemodeling/results/amazon_reviews/clf/wilds_subpop_user_split/finetune_user/A8PPNU1L8M09L: Found results for 3 seeds\n",
      "Base dir /data/ddmg/redditlanguagemodeling/results/amazon_reviews/clf/wilds_subpop_user_split/finetune_user/A3W23ERN4KKBAU: Found results for 3 seeds\n",
      "Base dir /data/ddmg/redditlanguagemodeling/results/amazon_reviews/clf/wilds_subpop_user_split/finetune_user/A3LQ1F8AMQCDR9: Found results for 3 seeds\n",
      "Base dir /data/ddmg/redditlanguagemodeling/results/amazon_reviews/clf/wilds_subpop_user_split/finetune_user/ABO2ZI2Y5DQ9T: Found results for 3 seeds\n",
      "Base dir /data/ddmg/redditlanguagemodeling/results/amazon_reviews/clf/wilds_subpop_user_split/finetune_user/AK4UKS22DNJCZ: Found results for 3 seeds\n",
      "Base dir /data/ddmg/redditlanguagemodeling/results/amazon_reviews/clf/wilds_subpop_user_split/finetune_user/A2I9SOM8NW320O: Found results for 3 seeds\n",
      "Base dir /data/ddmg/redditlanguagemodeling/results/amazon_reviews/clf/wilds_subpop_user_split/finetune_user/A16CZRQL23NOIW: Found results for 3 seeds\n",
      "Base dir /data/ddmg/redditlanguagemodeling/results/amazon_reviews/clf/wilds_subpop_user_split/finetune_user/A1DIFL0333QPEB: Found results for 3 seeds\n",
      "Base dir /data/ddmg/redditlanguagemodeling/results/amazon_reviews/clf/wilds_subpop_user_split/finetune_user/A3RADCJCOBJY75: Found results for 3 seeds\n",
      "Base dir /data/ddmg/redditlanguagemodeling/results/amazon_reviews/clf/wilds_subpop_user_split/finetune_user/A1GARI2JT6EAWA: Found results for 3 seeds\n",
      "Base dir /data/ddmg/redditlanguagemodeling/results/amazon_reviews/clf/wilds_subpop_user_split/finetune_user/AYQ14XGJODM9J: Found results for 3 seeds\n",
      "Base dir /data/ddmg/redditlanguagemodeling/results/amazon_reviews/clf/wilds_subpop_user_split/finetune_user/A380I4U9I013IY: Found results for 3 seeds\n",
      "Base dir /data/ddmg/redditlanguagemodeling/results/amazon_reviews/clf/wilds_subpop_user_split/finetune_user/AQ6AGWKWMTY8H: Found results for 3 seeds\n",
      "Base dir /data/ddmg/redditlanguagemodeling/results/amazon_reviews/clf/wilds_subpop_user_split/finetune_user/ATAXPI66NAEHM: Found results for 3 seeds\n",
      "Base dir /data/ddmg/redditlanguagemodeling/results/amazon_reviews/clf/wilds_subpop_user_split/finetune_user/A25HRZR92Z74V5: Found results for 3 seeds\n",
      "Base dir /data/ddmg/redditlanguagemodeling/results/amazon_reviews/clf/wilds_subpop_user_split/finetune_user/A2LXCBVZT51WLW: Found results for 3 seeds\n",
      "Base dir /data/ddmg/redditlanguagemodeling/results/amazon_reviews/clf/wilds_subpop_user_split/finetune_user/A3GRW5RDOEV79A: Found results for 3 seeds\n",
      "Base dir /data/ddmg/redditlanguagemodeling/results/amazon_reviews/clf/wilds_subpop_user_split/finetune_user/AKF1XBBWAQR6L: Found results for 3 seeds\n",
      "Base dir /data/ddmg/redditlanguagemodeling/results/amazon_reviews/clf/wilds_subpop_user_split/finetune_user/A1Q33020JJKDAN: Found results for 3 seeds\n",
      "Base dir /data/ddmg/redditlanguagemodeling/results/amazon_reviews/clf/wilds_subpop_user_split/finetune_user/A27O6DMM8GUQZS: Found results for 3 seeds\n",
      "Base dir /data/ddmg/redditlanguagemodeling/results/amazon_reviews/clf/wilds_subpop_user_split/finetune_user/A1O79BLZSTP53I: Found results for 3 seeds\n",
      "Base dir /data/ddmg/redditlanguagemodeling/results/amazon_reviews/clf/wilds_subpop_user_split/finetune_user/A2T54U7HI609F4: Found results for 3 seeds\n",
      "Base dir /data/ddmg/redditlanguagemodeling/results/amazon_reviews/clf/wilds_subpop_user_split/finetune_user/AV6XOQVPOUZV: Found results for 3 seeds\n",
      "Base dir /data/ddmg/redditlanguagemodeling/results/amazon_reviews/clf/wilds_subpop_user_split/finetune_user/A1KGX503HHU9EC: Found results for 3 seeds\n",
      "Base dir /data/ddmg/redditlanguagemodeling/results/amazon_reviews/clf/wilds_subpop_user_split/finetune_user/AGB7UQZMVHNUJ: Found results for 3 seeds\n",
      "Base dir /data/ddmg/redditlanguagemodeling/results/amazon_reviews/clf/wilds_subpop_user_split/finetune_user/A383F1Z9AABUDP: Found results for 3 seeds\n",
      "Base dir /data/ddmg/redditlanguagemodeling/results/amazon_reviews/clf/wilds_subpop_user_split/finetune_user/A55PK06Q6AKFY: Found results for 3 seeds\n"
     ]
    },
    {
     "name": "stdout",
     "output_type": "stream",
     "text": [
      "Base dir /data/ddmg/redditlanguagemodeling/results/amazon_reviews/clf/wilds_subpop_user_split/finetune_user/A5VGCYS7J6JVG: Found results for 3 seeds\n",
      "Base dir /data/ddmg/redditlanguagemodeling/results/amazon_reviews/clf/wilds_subpop_user_split/finetune_user/A2O5RT4RCC4NU2: Found results for 3 seeds\n",
      "Base dir /data/ddmg/redditlanguagemodeling/results/amazon_reviews/clf/wilds_subpop_user_split/finetune_user/A2O1EXR7TDA273: Found results for 3 seeds\n",
      "Base dir /data/ddmg/redditlanguagemodeling/results/amazon_reviews/clf/wilds_subpop_user_split/finetune_user/A29TWAFI927A05: Found results for 3 seeds\n",
      "Base dir /data/ddmg/redditlanguagemodeling/results/amazon_reviews/clf/wilds_subpop_user_split/finetune_user/A5A327BVHRNS5: Found results for 3 seeds\n",
      "Base dir /data/ddmg/redditlanguagemodeling/results/amazon_reviews/clf/wilds_subpop_user_split/finetune_user/A3TUZGW2KDZ93K: Found results for 3 seeds\n",
      "Base dir /data/ddmg/redditlanguagemodeling/results/amazon_reviews/clf/wilds_subpop_user_split/finetune_user/A221FPD86E5O87: Found results for 3 seeds\n",
      "Base dir /data/ddmg/redditlanguagemodeling/results/amazon_reviews/clf/wilds_subpop_user_split/finetune_user/A2VBJVR7VOOYDX: Found results for 3 seeds\n",
      "Base dir /data/ddmg/redditlanguagemodeling/results/amazon_reviews/clf/wilds_subpop_user_split/finetune_user/A1JOANG98KBFKU: Found results for 3 seeds\n",
      "Base dir /data/ddmg/redditlanguagemodeling/results/amazon_reviews/clf/wilds_subpop_user_split/finetune_user/A3IG2S1UPOE0ZS: Found results for 3 seeds\n",
      "Base dir /data/ddmg/redditlanguagemodeling/results/amazon_reviews/clf/wilds_subpop_user_split/finetune_user/A1POFVVXUZR3IQ: Found results for 3 seeds\n",
      "Base dir /data/ddmg/redditlanguagemodeling/results/amazon_reviews/clf/wilds_subpop_user_split/finetune_user/A17EGVTXRDFTRS: Found results for 3 seeds\n",
      "Base dir /data/ddmg/redditlanguagemodeling/results/amazon_reviews/clf/wilds_subpop_user_split/finetune_user/A1IY7VZ76GJM3P: Found results for 3 seeds\n",
      "Base dir /data/ddmg/redditlanguagemodeling/results/amazon_reviews/clf/wilds_subpop_user_split/finetune_user/A1TWTULVD6F22O: Found results for 3 seeds\n",
      "Base dir /data/ddmg/redditlanguagemodeling/results/amazon_reviews/clf/wilds_subpop_user_split/finetune_user/A3U10P2GT1GE1Y: Found results for 3 seeds\n",
      "Base dir /data/ddmg/redditlanguagemodeling/results/amazon_reviews/clf/wilds_subpop_user_split/finetune_user/A2HWD9PTM7RBXN: Found results for 3 seeds\n",
      "Base dir /data/ddmg/redditlanguagemodeling/results/amazon_reviews/clf/wilds_subpop_user_split/finetune_user/A3PN0J08MJ8SHC: Found results for 3 seeds\n",
      "Base dir /data/ddmg/redditlanguagemodeling/results/amazon_reviews/clf/wilds_subpop_user_split/finetune_user/A1LEP3FM28J5RB: Found results for 3 seeds\n",
      "Base dir /data/ddmg/redditlanguagemodeling/results/amazon_reviews/clf/wilds_subpop_user_split/finetune_user/A52Y39SZ0HMRX: Found results for 3 seeds\n",
      "Base dir /data/ddmg/redditlanguagemodeling/results/amazon_reviews/clf/wilds_subpop_user_split/finetune_user/A394ELH1X1FCK6: Found results for 3 seeds\n",
      "Base dir /data/ddmg/redditlanguagemodeling/results/amazon_reviews/clf/wilds_subpop_user_split/finetune_user/A2M55SGTZ6HXQC: Found results for 3 seeds\n",
      "Base dir /data/ddmg/redditlanguagemodeling/results/amazon_reviews/clf/wilds_subpop_user_split/finetune_user/A2WEE1PU5NZVJQ: Found results for 3 seeds\n",
      "Base dir /data/ddmg/redditlanguagemodeling/results/amazon_reviews/clf/wilds_subpop_user_split/finetune_user/A2RKBXCE19W8GA: Found results for 3 seeds\n",
      "Base dir /data/ddmg/redditlanguagemodeling/results/amazon_reviews/clf/wilds_subpop_user_split/finetune_user/A1RY8R18NEO9AA: Found results for 3 seeds\n",
      "Base dir /data/ddmg/redditlanguagemodeling/results/amazon_reviews/clf/wilds_subpop_user_split/finetune_user/AV3L7SJ2RSACJ: Found results for 3 seeds\n",
      "Base dir /data/ddmg/redditlanguagemodeling/results/amazon_reviews/clf/wilds_subpop_user_split/finetune_user/A3TKJCAR4Q87Q4: Found results for 3 seeds\n",
      "Base dir /data/ddmg/redditlanguagemodeling/results/amazon_reviews/clf/wilds_subpop_user_split/finetune_user/A27S9FH40J97TT: Found results for 3 seeds\n",
      "Base dir /data/ddmg/redditlanguagemodeling/results/amazon_reviews/clf/wilds_subpop_user_split/finetune_user/A1AZ1NXGGP6LDX: Found results for 3 seeds\n",
      "Base dir /data/ddmg/redditlanguagemodeling/results/amazon_reviews/clf/wilds_subpop_user_split/finetune_user/A3IH73YPH07FTP: Found results for 3 seeds\n",
      "Base dir /data/ddmg/redditlanguagemodeling/results/amazon_reviews/clf/wilds_subpop_user_split/finetune_user/A22B7J3YC4623X: Found results for 3 seeds\n",
      "Base dir /data/ddmg/redditlanguagemodeling/results/amazon_reviews/clf/wilds_subpop_user_split/finetune_user/A14I311IIUMBWC: Found results for 3 seeds\n",
      "Base dir /data/ddmg/redditlanguagemodeling/results/amazon_reviews/clf/wilds_subpop_user_split/finetune_user/AQHC5VCWZ9X8D: Found results for 3 seeds\n",
      "Base dir /data/ddmg/redditlanguagemodeling/results/amazon_reviews/clf/wilds_subpop_user_split/finetune_user/A1JSYNOPJCLMWX: Found results for 3 seeds\n",
      "Base dir /data/ddmg/redditlanguagemodeling/results/amazon_reviews/clf/wilds_subpop_user_split/finetune_user/A1RY7ACKKQYA5J: Found results for 3 seeds\n",
      "Base dir /data/ddmg/redditlanguagemodeling/results/amazon_reviews/clf/wilds_subpop_user_split/finetune_user/A535AAXVRE5VM: Found results for 3 seeds\n",
      "Base dir /data/ddmg/redditlanguagemodeling/results/amazon_reviews/clf/wilds_subpop_user_split/finetune_user/AFHUQMR769QGW: Found results for 3 seeds\n",
      "Base dir /data/ddmg/redditlanguagemodeling/results/amazon_reviews/clf/wilds_subpop_user_split/finetune_user/A2KBHSK5BS35BH: Found results for 3 seeds\n",
      "Base dir /data/ddmg/redditlanguagemodeling/results/amazon_reviews/clf/wilds_subpop_user_split/finetune_user/A2G588Z91MAFZ1: Found results for 3 seeds\n",
      "Base dir /data/ddmg/redditlanguagemodeling/results/amazon_reviews/clf/wilds_subpop_user_split/finetune_user/A3PBE998L2AVJO: Found results for 3 seeds\n",
      "Base dir /data/ddmg/redditlanguagemodeling/results/amazon_reviews/clf/wilds_subpop_user_split/finetune_user/A3SMR4HRFJARSC: Found results for 3 seeds\n",
      "Base dir /data/ddmg/redditlanguagemodeling/results/amazon_reviews/clf/wilds_subpop_user_split/finetune_user/A2MF4TISBBQT5A: Found results for 3 seeds\n",
      "Base dir /data/ddmg/redditlanguagemodeling/results/amazon_reviews/clf/wilds_subpop_user_split/finetune_user/A2WDC81C1MQUAS: Found results for 3 seeds\n",
      "Base dir /data/ddmg/redditlanguagemodeling/results/amazon_reviews/clf/wilds_subpop_user_split/finetune_user/A1TL9VWF849YPD: Found results for 3 seeds\n",
      "Base dir /data/ddmg/redditlanguagemodeling/results/amazon_reviews/clf/wilds_subpop_user_split/finetune_user/A1TEMNM9ZEOLJ6: Found results for 3 seeds\n",
      "Base dir /data/ddmg/redditlanguagemodeling/results/amazon_reviews/clf/wilds_subpop_user_split/finetune_user/A34PYYB4L7XJLL: Found results for 3 seeds\n",
      "Base dir /data/ddmg/redditlanguagemodeling/results/amazon_reviews/clf/wilds_subpop_user_split/finetune_user/A1ZS3ALCNTL9VA: Found results for 3 seeds\n",
      "Base dir /data/ddmg/redditlanguagemodeling/results/amazon_reviews/clf/wilds_subpop_user_split/finetune_user/A3AN20MD26EMNZ: Found results for 3 seeds\n",
      "Base dir /data/ddmg/redditlanguagemodeling/results/amazon_reviews/clf/wilds_subpop_user_split/finetune_user/A35E67TLPB0D6Y: Found results for 3 seeds\n",
      "Base dir /data/ddmg/redditlanguagemodeling/results/amazon_reviews/clf/wilds_subpop_user_split/finetune_user/A2A97QYVK2GFHZ: Found results for 3 seeds\n",
      "Base dir /data/ddmg/redditlanguagemodeling/results/amazon_reviews/clf/wilds_subpop_user_split/finetune_user/A3OC93X866Z8TB: Found results for 3 seeds\n",
      "Base dir /data/ddmg/redditlanguagemodeling/results/amazon_reviews/clf/wilds_subpop_user_split/finetune_user/A2YEOR4XJ8N3QE: Found results for 3 seeds\n",
      "Base dir /data/ddmg/redditlanguagemodeling/results/amazon_reviews/clf/wilds_subpop_user_split/finetune_user/A3H2CKTFZ3B3GD: Found results for 3 seeds\n",
      "Base dir /data/ddmg/redditlanguagemodeling/results/amazon_reviews/clf/wilds_subpop_user_split/finetune_user/A293W2MU6STRGP: Found results for 3 seeds\n",
      "Base dir /data/ddmg/redditlanguagemodeling/results/amazon_reviews/clf/wilds_subpop_user_split/finetune_user/A3I8M4DUWMC9XN: Found results for 3 seeds\n",
      "Base dir /data/ddmg/redditlanguagemodeling/results/amazon_reviews/clf/wilds_subpop_user_split/finetune_user/A2M1QYOWLBGRHT: Found results for 3 seeds\n",
      "Base dir /data/ddmg/redditlanguagemodeling/results/amazon_reviews/clf/wilds_subpop_user_split/finetune_user/A3IKLTT9JQACCI: Found results for 3 seeds\n",
      "Base dir /data/ddmg/redditlanguagemodeling/results/amazon_reviews/clf/wilds_subpop_user_split/finetune_user/AMZT8TM0UYL6U: Found results for 3 seeds\n"
     ]
    },
    {
     "name": "stdout",
     "output_type": "stream",
     "text": [
      "Base dir /data/ddmg/redditlanguagemodeling/results/amazon_reviews/clf/wilds_subpop_user_split/finetune_user/A633NIAR4JJAR: Found results for 3 seeds\n",
      "Base dir /data/ddmg/redditlanguagemodeling/results/amazon_reviews/clf/wilds_subpop_user_split/finetune_user/A16DSXRAN5QK94: Found results for 3 seeds\n",
      "Base dir /data/ddmg/redditlanguagemodeling/results/amazon_reviews/clf/wilds_subpop_user_split/finetune_user/A31Z48BHHUTB0P: Found results for 3 seeds\n",
      "Base dir /data/ddmg/redditlanguagemodeling/results/amazon_reviews/clf/wilds_subpop_user_split/finetune_user/AINGNE1J86KTH: Found results for 3 seeds\n",
      "Base dir /data/ddmg/redditlanguagemodeling/results/amazon_reviews/clf/wilds_subpop_user_split/finetune_user/A3KMEQP8CSCPC2: Found results for 3 seeds\n",
      "Base dir /data/ddmg/redditlanguagemodeling/results/amazon_reviews/clf/wilds_subpop_user_split/finetune_user/A3SE1XKZC0L913: Found results for 3 seeds\n",
      "Base dir /data/ddmg/redditlanguagemodeling/results/amazon_reviews/clf/wilds_subpop_user_split/finetune_user/A3V2DS2UQ16S5K: Found results for 3 seeds\n",
      "Base dir /data/ddmg/redditlanguagemodeling/results/amazon_reviews/clf/wilds_subpop_user_split/finetune_user/A2WFDR7KK2G7ET: Found results for 3 seeds\n",
      "Base dir /data/ddmg/redditlanguagemodeling/results/amazon_reviews/clf/wilds_subpop_user_split/finetune_user/A3IPSTD7R03WQY: Found results for 3 seeds\n",
      "Base dir /data/ddmg/redditlanguagemodeling/results/amazon_reviews/clf/wilds_subpop_user_split/finetune_user/A33QP4JVGFYQTW: Found results for 3 seeds\n",
      "Base dir /data/ddmg/redditlanguagemodeling/results/amazon_reviews/clf/wilds_subpop_user_split/finetune_user/A1X7MYGFDWPGMP: Found results for 3 seeds\n",
      "Base dir /data/ddmg/redditlanguagemodeling/results/amazon_reviews/clf/wilds_subpop_user_split/finetune_user/A2ZIHMVIEWC1R7: Found results for 3 seeds\n",
      "Base dir /data/ddmg/redditlanguagemodeling/results/amazon_reviews/clf/wilds_subpop_user_split/finetune_user/A3PVBW0TN46U8G: Found results for 3 seeds\n",
      "Base dir /data/ddmg/redditlanguagemodeling/results/amazon_reviews/clf/wilds_subpop_user_split/finetune_user/ANX7CL0JCXKZD: Found results for 3 seeds\n",
      "Base dir /data/ddmg/redditlanguagemodeling/results/amazon_reviews/clf/wilds_subpop_user_split/finetune_user/AQQR4N04XISL6: Found results for 3 seeds\n",
      "Base dir /data/ddmg/redditlanguagemodeling/results/amazon_reviews/clf/wilds_subpop_user_split/finetune_user/A3H7087YTQO9PO: Found results for 3 seeds\n",
      "Base dir /data/ddmg/redditlanguagemodeling/results/amazon_reviews/clf/wilds_subpop_user_split/finetune_user/A1EWIR7XOV80CA: Found results for 3 seeds\n",
      "Base dir /data/ddmg/redditlanguagemodeling/results/amazon_reviews/clf/wilds_subpop_user_split/finetune_user/A3T7V207KRDE2O: Found results for 3 seeds\n",
      "Base dir /data/ddmg/redditlanguagemodeling/results/amazon_reviews/clf/wilds_subpop_user_split/finetune_user/A2UL2U2JOXPN4J: Found results for 3 seeds\n",
      "Base dir /data/ddmg/redditlanguagemodeling/results/amazon_reviews/clf/wilds_subpop_user_split/finetune_user/A2JAQPUB2W6HGE: Found results for 3 seeds\n",
      "Base dir /data/ddmg/redditlanguagemodeling/results/amazon_reviews/clf/wilds_subpop_user_split/finetune_user/A25QBCHO0KFT0P: Found results for 3 seeds\n",
      "Base dir /data/ddmg/redditlanguagemodeling/results/amazon_reviews/clf/wilds_subpop_user_split/finetune_user/A297L1QSYKT19: Found results for 3 seeds\n",
      "Base dir /data/ddmg/redditlanguagemodeling/results/amazon_reviews/clf/wilds_subpop_user_split/finetune_user/ADTBCTN0DNAIQ: Found results for 3 seeds\n",
      "Base dir /data/ddmg/redditlanguagemodeling/results/amazon_reviews/clf/wilds_subpop_user_split/finetune_user/A3TBMAWIIHKHFN: Found results for 3 seeds\n",
      "Base dir /data/ddmg/redditlanguagemodeling/results/amazon_reviews/clf/wilds_subpop_user_split/finetune_user/A1RP6YCOS5VJ5I: Found results for 3 seeds\n",
      "Base dir /data/ddmg/redditlanguagemodeling/results/amazon_reviews/clf/wilds_subpop_user_split/finetune_user/A1TRAEV7QWA5DX: Found results for 3 seeds\n",
      "Base dir /data/ddmg/redditlanguagemodeling/results/amazon_reviews/clf/wilds_subpop_user_split/finetune_user/A38KPXZZ1AXYKR: Found results for 3 seeds\n",
      "Base dir /data/ddmg/redditlanguagemodeling/results/amazon_reviews/clf/wilds_subpop_user_split/finetune_user/AY3XPKRAMKKY7: Found results for 3 seeds\n",
      "Base dir /data/ddmg/redditlanguagemodeling/results/amazon_reviews/clf/wilds_subpop_user_split/finetune_user/A3CUWRVAKGEFHL: Found results for 3 seeds\n",
      "Base dir /data/ddmg/redditlanguagemodeling/results/amazon_reviews/clf/wilds_subpop_user_split/finetune_user/AAI3TWEK3BZPC: Found results for 3 seeds\n",
      "Base dir /data/ddmg/redditlanguagemodeling/results/amazon_reviews/clf/wilds_subpop_user_split/finetune_user/A1FMJJKSVQDDQ: Found results for 3 seeds\n",
      "Base dir /data/ddmg/redditlanguagemodeling/results/amazon_reviews/clf/wilds_subpop_user_split/finetune_user/AK56P9TMUDM8F: Found results for 3 seeds\n",
      "Base dir /data/ddmg/redditlanguagemodeling/results/amazon_reviews/clf/wilds_subpop_user_split/finetune_user/A3TJIJ3RJDOSNM: Found results for 3 seeds\n",
      "Base dir /data/ddmg/redditlanguagemodeling/results/amazon_reviews/clf/wilds_subpop_user_split/finetune_user/AUTUYKL8525WP: Found results for 3 seeds\n",
      "Base dir /data/ddmg/redditlanguagemodeling/results/amazon_reviews/clf/wilds_subpop_user_split/finetune_user/A3IUKPBOCI08HB: Found results for 3 seeds\n",
      "Base dir /data/ddmg/redditlanguagemodeling/results/amazon_reviews/clf/wilds_subpop_user_split/finetune_user/A1F9Z42CFF9IAY: Found results for 3 seeds\n",
      "Base dir /data/ddmg/redditlanguagemodeling/results/amazon_reviews/clf/wilds_subpop_user_split/finetune_user/A29TKSIWA3JKF3: Found results for 3 seeds\n",
      "Base dir /data/ddmg/redditlanguagemodeling/results/amazon_reviews/clf/wilds_subpop_user_split/finetune_user/A2A9X58G2GTBLP: Found results for 3 seeds\n",
      "Base dir /data/ddmg/redditlanguagemodeling/results/amazon_reviews/clf/wilds_subpop_user_split/finetune_user/A3JTN4FUT7UVB5: Found results for 3 seeds\n",
      "Base dir /data/ddmg/redditlanguagemodeling/results/amazon_reviews/clf/wilds_subpop_user_split/finetune_user/A3O4LP2WSD8EP1: Found results for 3 seeds\n",
      "Base dir /data/ddmg/redditlanguagemodeling/results/amazon_reviews/clf/wilds_subpop_user_split/finetune_user/A246GZE5MZKHGL: Found results for 3 seeds\n",
      "Base dir /data/ddmg/redditlanguagemodeling/results/amazon_reviews/clf/wilds_subpop_user_split/finetune_user/A1T5CK8KC56JZ9: Found results for 3 seeds\n",
      "Base dir /data/ddmg/redditlanguagemodeling/results/amazon_reviews/clf/wilds_subpop_user_split/finetune_user/A2PFNDDKHOOMZU: Found results for 3 seeds\n",
      "Base dir /data/ddmg/redditlanguagemodeling/results/amazon_reviews/clf/wilds_subpop_user_split/finetune_user/A2F7OT4LYELENO: Found results for 3 seeds\n",
      "Base dir /data/ddmg/redditlanguagemodeling/results/amazon_reviews/clf/wilds_subpop_user_split/finetune_user/A3D954KP02162M: Found results for 3 seeds\n",
      "Base dir /data/ddmg/redditlanguagemodeling/results/amazon_reviews/clf/wilds_subpop_user_split/finetune_user/A2GQ85EV4Q45WO: Found results for 3 seeds\n",
      "Base dir /data/ddmg/redditlanguagemodeling/results/amazon_reviews/clf/wilds_subpop_user_split/finetune_user/A1CUP22DUKKCKJ: Found results for 3 seeds\n",
      "Base dir /data/ddmg/redditlanguagemodeling/results/amazon_reviews/clf/wilds_subpop_user_split/finetune_user/A2RMULV25P85EK: Found results for 3 seeds\n",
      "Base dir /data/ddmg/redditlanguagemodeling/results/amazon_reviews/clf/wilds_subpop_user_split/finetune_user/A3CG93783LP0FO: Found results for 3 seeds\n",
      "Base dir /data/ddmg/redditlanguagemodeling/results/amazon_reviews/clf/wilds_subpop_user_split/finetune_user/A2DD8D4Y1UMJ2C: Found results for 3 seeds\n",
      "Base dir /data/ddmg/redditlanguagemodeling/results/amazon_reviews/clf/wilds_subpop_user_split/finetune_user/AWVZF7GVBUN6D: Found results for 3 seeds\n",
      "Base dir /data/ddmg/redditlanguagemodeling/results/amazon_reviews/clf/wilds_subpop_user_split/finetune_user/AP4FQR3BIIYEW: Found results for 3 seeds\n",
      "Base dir /data/ddmg/redditlanguagemodeling/results/amazon_reviews/clf/wilds_subpop_user_split/finetune_user/AUCSQX1WYZYUT: Found results for 3 seeds\n",
      "Base dir /data/ddmg/redditlanguagemodeling/results/amazon_reviews/clf/wilds_subpop_user_split/finetune_user/A958JGWS0JLB3: Found results for 3 seeds\n",
      "Base dir /data/ddmg/redditlanguagemodeling/results/amazon_reviews/clf/wilds_subpop_user_split/finetune_user/A6P2AJXVWXGJQ: Found results for 3 seeds\n"
     ]
    },
    {
     "name": "stdout",
     "output_type": "stream",
     "text": [
      "Base dir /data/ddmg/redditlanguagemodeling/results/amazon_reviews/clf/wilds_subpop_user_split/finetune_user/A1QVQ7UJY4VASG: Found results for 3 seeds\n",
      "Base dir /data/ddmg/redditlanguagemodeling/results/amazon_reviews/clf/wilds_subpop_user_split/finetune_user/A3DXZEH4CNKFYG: Found results for 3 seeds\n",
      "Base dir /data/ddmg/redditlanguagemodeling/results/amazon_reviews/clf/wilds_subpop_user_split/finetune_user/A12KOCSLMK9RSN: Found results for 3 seeds\n",
      "Base dir /data/ddmg/redditlanguagemodeling/results/amazon_reviews/clf/wilds_subpop_user_split/finetune_user/A1WT56BJ1VQDQY: Found results for 3 seeds\n",
      "Base dir /data/ddmg/redditlanguagemodeling/results/amazon_reviews/clf/wilds_subpop_user_split/finetune_user/AKGF27HN0OF19: Found results for 3 seeds\n",
      "Base dir /data/ddmg/redditlanguagemodeling/results/amazon_reviews/clf/wilds_subpop_user_split/finetune_user/A152EA7ZPCA1Q8: Found results for 3 seeds\n",
      "Base dir /data/ddmg/redditlanguagemodeling/results/amazon_reviews/clf/wilds_subpop_user_split/finetune_user/A3P2A9SES4TVYG: Found results for 3 seeds\n",
      "Base dir /data/ddmg/redditlanguagemodeling/results/amazon_reviews/clf/wilds_subpop_user_split/finetune_user/A3FL6CIO8QIJ2F: Found results for 3 seeds\n",
      "Base dir /data/ddmg/redditlanguagemodeling/results/amazon_reviews/clf/wilds_subpop_user_split/finetune_user/A19C5JWBC8VI8E: Found results for 3 seeds\n",
      "Base dir /data/ddmg/redditlanguagemodeling/results/amazon_reviews/clf/wilds_subpop_user_split/finetune_user/A2O9HU1K7TCF7B: Found results for 3 seeds\n",
      "Base dir /data/ddmg/redditlanguagemodeling/results/amazon_reviews/clf/wilds_subpop_user_split/finetune_user/AHZQTM4PHP027: Found results for 3 seeds\n",
      "Base dir /data/ddmg/redditlanguagemodeling/results/amazon_reviews/clf/wilds_subpop_user_split/finetune_user/A2WRLYVFFMHKZE: Found results for 3 seeds\n",
      "Base dir /data/ddmg/redditlanguagemodeling/results/amazon_reviews/clf/wilds_subpop_user_split/finetune_user/ALDAF4VVLFRHP: Found results for 3 seeds\n",
      "Base dir /data/ddmg/redditlanguagemodeling/results/amazon_reviews/clf/wilds_subpop_user_split/finetune_user/ADSTKO312HFJF: Found results for 3 seeds\n",
      "Base dir /data/ddmg/redditlanguagemodeling/results/amazon_reviews/clf/wilds_subpop_user_split/finetune_user/A5WP1AL719K7F: Found results for 3 seeds\n",
      "Base dir /data/ddmg/redditlanguagemodeling/results/amazon_reviews/clf/wilds_subpop_user_split/finetune_user/A2QOQFR62F1440: Found results for 3 seeds\n",
      "Base dir /data/ddmg/redditlanguagemodeling/results/amazon_reviews/clf/wilds_subpop_user_split/finetune_user/A3B07KAS0C0Q2R: Found results for 3 seeds\n",
      "Base dir /data/ddmg/redditlanguagemodeling/results/amazon_reviews/clf/wilds_subpop_user_split/finetune_user/A1NIDTRJIHE3QV: Found results for 3 seeds\n",
      "Base dir /data/ddmg/redditlanguagemodeling/results/amazon_reviews/clf/wilds_subpop_user_split/finetune_user/AII9SOZCCFF2N: Found results for 3 seeds\n",
      "Base dir /data/ddmg/redditlanguagemodeling/results/amazon_reviews/clf/wilds_subpop_user_split/finetune_user/A1U6XPYATU9OPG: Found results for 3 seeds\n",
      "Base dir /data/ddmg/redditlanguagemodeling/results/amazon_reviews/clf/wilds_subpop_user_split/finetune_user/A3DV0TOBUQCDM: Found results for 3 seeds\n",
      "Base dir /data/ddmg/redditlanguagemodeling/results/amazon_reviews/clf/wilds_subpop_user_split/finetune_user/A1R0PBCBUMRLES: Found results for 3 seeds\n",
      "Base dir /data/ddmg/redditlanguagemodeling/results/amazon_reviews/clf/wilds_subpop_user_split/finetune_user/A32ED2IY82H5HX: Found results for 3 seeds\n",
      "Base dir /data/ddmg/redditlanguagemodeling/results/amazon_reviews/clf/wilds_subpop_user_split/finetune_user/A1L4E7AANAJIR1: Found results for 3 seeds\n",
      "Base dir /data/ddmg/redditlanguagemodeling/results/amazon_reviews/clf/wilds_subpop_user_split/finetune_user/A303FPTKAT9VV0: Found results for 3 seeds\n",
      "Base dir /data/ddmg/redditlanguagemodeling/results/amazon_reviews/clf/wilds_subpop_user_split/finetune_user/A37WJLWKGRLJFZ: Found results for 3 seeds\n",
      "Base dir /data/ddmg/redditlanguagemodeling/results/amazon_reviews/clf/wilds_subpop_user_split/finetune_user/A28ZH0HA4Y6N5V: Found results for 3 seeds\n",
      "Base dir /data/ddmg/redditlanguagemodeling/results/amazon_reviews/clf/wilds_subpop_user_split/finetune_user/A1ORNZEDAM2C66: Found results for 3 seeds\n",
      "Base dir /data/ddmg/redditlanguagemodeling/results/amazon_reviews/clf/wilds_subpop_user_split/finetune_user/A39JNWWX6LI6VE: Found results for 3 seeds\n",
      "Base dir /data/ddmg/redditlanguagemodeling/results/amazon_reviews/clf/wilds_subpop_user_split/finetune_user/A3KEB381QTO61R: Found results for 3 seeds\n",
      "Base dir /data/ddmg/redditlanguagemodeling/results/amazon_reviews/clf/wilds_subpop_user_split/finetune_user/A81CE8R7PVX3W: Found results for 3 seeds\n",
      "Base dir /data/ddmg/redditlanguagemodeling/results/amazon_reviews/clf/wilds_subpop_user_split/finetune_user/A609XZULHDBSQ: Found results for 3 seeds\n",
      "Base dir /data/ddmg/redditlanguagemodeling/results/amazon_reviews/clf/wilds_subpop_user_split/finetune_user/ACYMCO9PQSWLW: Found results for 3 seeds\n",
      "Base dir /data/ddmg/redditlanguagemodeling/results/amazon_reviews/clf/wilds_subpop_user_split/finetune_user/A3OQCKMMBDXYPX: Found results for 3 seeds\n",
      "Base dir /data/ddmg/redditlanguagemodeling/results/amazon_reviews/clf/wilds_subpop_user_split/finetune_user/A1CNFN5DKUP8N9: Found results for 3 seeds\n",
      "Base dir /data/ddmg/redditlanguagemodeling/results/amazon_reviews/clf/wilds_subpop_user_split/finetune_user/A3TI1WDAEOTD0I: Found results for 3 seeds\n",
      "Base dir /data/ddmg/redditlanguagemodeling/results/amazon_reviews/clf/wilds_subpop_user_split/finetune_user/A11B61QBGHLQDN: Found results for 3 seeds\n",
      "Base dir /data/ddmg/redditlanguagemodeling/results/amazon_reviews/clf/wilds_subpop_user_split/finetune_user/A3LHIRT4SR3F9T: Found results for 3 seeds\n",
      "Base dir /data/ddmg/redditlanguagemodeling/results/amazon_reviews/clf/wilds_subpop_user_split/finetune_user/A2EA21JSX1BYJ9: Found results for 3 seeds\n",
      "Base dir /data/ddmg/redditlanguagemodeling/results/amazon_reviews/clf/wilds_subpop_user_split/finetune_user/AFMMHENVC60TQ: Found results for 3 seeds\n",
      "Base dir /data/ddmg/redditlanguagemodeling/results/amazon_reviews/clf/wilds_subpop_user_split/finetune_user/A2Y25AGE464UX9: Found results for 3 seeds\n",
      "Base dir /data/ddmg/redditlanguagemodeling/results/amazon_reviews/clf/wilds_subpop_user_split/finetune_user/A1YETX467CJV00: Found results for 3 seeds\n",
      "Base dir /data/ddmg/redditlanguagemodeling/results/amazon_reviews/clf/wilds_subpop_user_split/finetune_user/A2VFSWJBP36HPI: Found results for 3 seeds\n",
      "Base dir /data/ddmg/redditlanguagemodeling/results/amazon_reviews/clf/wilds_subpop_user_split/finetune_user/A4UWNRY0WWECK: Found results for 3 seeds\n",
      "Base dir /data/ddmg/redditlanguagemodeling/results/amazon_reviews/clf/wilds_subpop_user_split/finetune_user/A3FYRXOCRLIDTK: Found results for 3 seeds\n",
      "Base dir /data/ddmg/redditlanguagemodeling/results/amazon_reviews/clf/wilds_subpop_user_split/finetune_user/A3CMNMNIYZKYS9: Found results for 3 seeds\n",
      "Base dir /data/ddmg/redditlanguagemodeling/results/amazon_reviews/clf/wilds_subpop_user_split/finetune_user/A2MGUNKW1ANLT5: Found results for 3 seeds\n",
      "Base dir /data/ddmg/redditlanguagemodeling/results/amazon_reviews/clf/wilds_subpop_user_split/finetune_user/A3A0CJK7GYPNFW: Found results for 3 seeds\n",
      "Base dir /data/ddmg/redditlanguagemodeling/results/amazon_reviews/clf/wilds_subpop_user_split/finetune_user/A1RCAVB38E41CR: Found results for 3 seeds\n",
      "Base dir /data/ddmg/redditlanguagemodeling/results/amazon_reviews/clf/wilds_subpop_user_split/finetune_user/A28KFKNCBGPQ5A: Found results for 3 seeds\n",
      "Base dir /data/ddmg/redditlanguagemodeling/results/amazon_reviews/clf/wilds_subpop_user_split/finetune_user/AVBH9LFQJHN57: Found results for 3 seeds\n",
      "Base dir /data/ddmg/redditlanguagemodeling/results/amazon_reviews/clf/wilds_subpop_user_split/finetune_user/A147IR60069BVW: Found results for 3 seeds\n",
      "Base dir /data/ddmg/redditlanguagemodeling/results/amazon_reviews/clf/wilds_subpop_user_split/finetune_user/ANTYR2N2OK4DE: Found results for 3 seeds\n",
      "Base dir /data/ddmg/redditlanguagemodeling/results/amazon_reviews/clf/wilds_subpop_user_split/finetune_user/A4MO9RO839BEF: Found results for 3 seeds\n",
      "Base dir /data/ddmg/redditlanguagemodeling/results/amazon_reviews/clf/wilds_subpop_user_split/finetune_user/A2UAPFRQOHUFS4: Found results for 3 seeds\n"
     ]
    },
    {
     "name": "stdout",
     "output_type": "stream",
     "text": [
      "Base dir /data/ddmg/redditlanguagemodeling/results/amazon_reviews/clf/wilds_subpop_user_split/finetune_user/A1BC62X6HZJGZR: Found results for 3 seeds\n",
      "Base dir /data/ddmg/redditlanguagemodeling/results/amazon_reviews/clf/wilds_subpop_user_split/finetune_user/A1VYZLUB3UXCR1: Found results for 3 seeds\n",
      "Base dir /data/ddmg/redditlanguagemodeling/results/amazon_reviews/clf/wilds_subpop_user_split/finetune_user/AO1BAEKHGHNPH: Found results for 3 seeds\n",
      "Base dir /data/ddmg/redditlanguagemodeling/results/amazon_reviews/clf/wilds_subpop_user_split/finetune_user/A27KU0C98ZSTM9: Found results for 3 seeds\n",
      "Base dir /data/ddmg/redditlanguagemodeling/results/amazon_reviews/clf/wilds_subpop_user_split/finetune_user/A2TLU5ODLGESZ6: Found results for 3 seeds\n",
      "Base dir /data/ddmg/redditlanguagemodeling/results/amazon_reviews/clf/wilds_subpop_user_split/finetune_user/A14UX1QSUH387Z: Found results for 3 seeds\n",
      "Base dir /data/ddmg/redditlanguagemodeling/results/amazon_reviews/clf/wilds_subpop_user_split/finetune_user/A8BYI284M2JWP: Found results for 3 seeds\n",
      "Base dir /data/ddmg/redditlanguagemodeling/results/amazon_reviews/clf/wilds_subpop_user_split/finetune_user/A3SH80I6SSS86M: Found results for 3 seeds\n",
      "Base dir /data/ddmg/redditlanguagemodeling/results/amazon_reviews/clf/wilds_subpop_user_split/finetune_user/A3813M2HAMX0I8: Found results for 3 seeds\n",
      "Base dir /data/ddmg/redditlanguagemodeling/results/amazon_reviews/clf/wilds_subpop_user_split/finetune_user/A2NB2E5DXE319Z: Found results for 3 seeds\n",
      "Base dir /data/ddmg/redditlanguagemodeling/results/amazon_reviews/clf/wilds_subpop_user_split/finetune_user/A2R164STV36F6C: Found results for 3 seeds\n",
      "Base dir /data/ddmg/redditlanguagemodeling/results/amazon_reviews/clf/wilds_subpop_user_split/finetune_user/A2JFYV4GVIMPCQ: Found results for 3 seeds\n",
      "Base dir /data/ddmg/redditlanguagemodeling/results/amazon_reviews/clf/wilds_subpop_user_split/finetune_user/A1JXLTQ5VWPGGV: Found results for 3 seeds\n",
      "Base dir /data/ddmg/redditlanguagemodeling/results/amazon_reviews/clf/wilds_subpop_user_split/finetune_user/A3BBA4I5FGR7GI: Found results for 3 seeds\n",
      "Base dir /data/ddmg/redditlanguagemodeling/results/amazon_reviews/clf/wilds_subpop_user_split/finetune_user/APS0FHJNV2U98: Found results for 3 seeds\n",
      "Base dir /data/ddmg/redditlanguagemodeling/results/amazon_reviews/clf/wilds_subpop_user_split/finetune_user/A28D20IM3BNAJ1: Found results for 3 seeds\n",
      "Base dir /data/ddmg/redditlanguagemodeling/results/amazon_reviews/clf/wilds_subpop_user_split/finetune_user/A1J9S070L0MVWX: Found results for 3 seeds\n",
      "Base dir /data/ddmg/redditlanguagemodeling/results/amazon_reviews/clf/wilds_subpop_user_split/finetune_user/A5BJMAHZWGJ7N: Found results for 3 seeds\n",
      "Base dir /data/ddmg/redditlanguagemodeling/results/amazon_reviews/clf/wilds_subpop_user_split/finetune_user/ADYZOSTF9LZLD: Found results for 3 seeds\n",
      "Base dir /data/ddmg/redditlanguagemodeling/results/amazon_reviews/clf/wilds_subpop_user_split/finetune_user/A1W1UTQ5SZNE8J: Found results for 3 seeds\n",
      "Base dir /data/ddmg/redditlanguagemodeling/results/amazon_reviews/clf/wilds_subpop_user_split/finetune_user/A33KNBGC6UM133: Found results for 3 seeds\n",
      "Base dir /data/ddmg/redditlanguagemodeling/results/amazon_reviews/clf/wilds_subpop_user_split/finetune_user/A1TUT3W4Q9KN8E: Found results for 3 seeds\n",
      "Base dir /data/ddmg/redditlanguagemodeling/results/amazon_reviews/clf/wilds_subpop_user_split/finetune_user/A3P235KSA23607: Found results for 3 seeds\n",
      "Base dir /data/ddmg/redditlanguagemodeling/results/amazon_reviews/clf/wilds_subpop_user_split/finetune_user/A1SVAD11FB05T4: Found results for 3 seeds\n",
      "Base dir /data/ddmg/redditlanguagemodeling/results/amazon_reviews/clf/wilds_subpop_user_split/finetune_user/A1WR5OUT03E3M8: Found results for 3 seeds\n",
      "Base dir /data/ddmg/redditlanguagemodeling/results/amazon_reviews/clf/wilds_subpop_user_split/finetune_user/A39Z0BNNCJRZ8J: Found results for 3 seeds\n",
      "Base dir /data/ddmg/redditlanguagemodeling/results/amazon_reviews/clf/wilds_subpop_user_split/finetune_user/AQ3DRB3P7PUEF: Found results for 3 seeds\n",
      "Base dir /data/ddmg/redditlanguagemodeling/results/amazon_reviews/clf/wilds_subpop_user_split/finetune_user/A2LYT2QET2KC4N: Found results for 3 seeds\n",
      "Base dir /data/ddmg/redditlanguagemodeling/results/amazon_reviews/clf/wilds_subpop_user_split/finetune_user/A2XD0NXGJJI5J: Found results for 3 seeds\n",
      "Base dir /data/ddmg/redditlanguagemodeling/results/amazon_reviews/clf/wilds_subpop_user_split/finetune_user/A2GP7ZGUAHWO21: Found results for 3 seeds\n",
      "Base dir /data/ddmg/redditlanguagemodeling/results/amazon_reviews/clf/wilds_subpop_user_split/finetune_user/A1Z23IEFB6QBAP: Found results for 3 seeds\n",
      "Base dir /data/ddmg/redditlanguagemodeling/results/amazon_reviews/clf/wilds_subpop_user_split/finetune_user/AQR5TV897ZGKZ: Found results for 3 seeds\n",
      "Base dir /data/ddmg/redditlanguagemodeling/results/amazon_reviews/clf/wilds_subpop_user_split/finetune_user/A30BMMPIAUJZT4: Found results for 3 seeds\n",
      "Base dir /data/ddmg/redditlanguagemodeling/results/amazon_reviews/clf/wilds_subpop_user_split/finetune_user/A2YOFCOEKH3KB: Found results for 3 seeds\n",
      "Base dir /data/ddmg/redditlanguagemodeling/results/amazon_reviews/clf/wilds_subpop_user_split/finetune_user/A27RV1EJ5JJA2F: Found results for 3 seeds\n",
      "Base dir /data/ddmg/redditlanguagemodeling/results/amazon_reviews/clf/wilds_subpop_user_split/finetune_user/AH62R547L3FQT: Found results for 3 seeds\n",
      "Base dir /data/ddmg/redditlanguagemodeling/results/amazon_reviews/clf/wilds_subpop_user_split/finetune_user/A3GJ2T8GRJTE7D: Found results for 3 seeds\n",
      "Base dir /data/ddmg/redditlanguagemodeling/results/amazon_reviews/clf/wilds_subpop_user_split/finetune_user/A2YVBNX4Q4CQV8: Found results for 3 seeds\n",
      "Base dir /data/ddmg/redditlanguagemodeling/results/amazon_reviews/clf/wilds_subpop_user_split/finetune_user/A10PXQY535XY39: Found results for 3 seeds\n",
      "Base dir /data/ddmg/redditlanguagemodeling/results/amazon_reviews/clf/wilds_subpop_user_split/finetune_user/A1IOJE0W1NXOSE: Found results for 3 seeds\n",
      "Base dir /data/ddmg/redditlanguagemodeling/results/amazon_reviews/clf/wilds_subpop_user_split/finetune_user/A380JFP02KLOU: Found results for 3 seeds\n",
      "Base dir /data/ddmg/redditlanguagemodeling/results/amazon_reviews/clf/wilds_subpop_user_split/finetune_user/A10AWAE0F6CAP1: Found results for 3 seeds\n",
      "Base dir /data/ddmg/redditlanguagemodeling/results/amazon_reviews/clf/wilds_subpop_user_split/finetune_user/A1Q0OBOZOWUQLL: Found results for 3 seeds\n",
      "Base dir /data/ddmg/redditlanguagemodeling/results/amazon_reviews/clf/wilds_subpop_user_split/finetune_user/A31SODNMIZOF8: Found results for 3 seeds\n",
      "Base dir /data/ddmg/redditlanguagemodeling/results/amazon_reviews/clf/wilds_subpop_user_split/finetune_user/A19MQI49YCA5SK: Found results for 3 seeds\n",
      "Base dir /data/ddmg/redditlanguagemodeling/results/amazon_reviews/clf/wilds_subpop_user_split/finetune_user/A3VJ8H6PYWOP1C: Found results for 3 seeds\n",
      "Base dir /data/ddmg/redditlanguagemodeling/results/amazon_reviews/clf/wilds_subpop_user_split/finetune_user/A1I2URNL7ZPO02: Found results for 3 seeds\n",
      "Base dir /data/ddmg/redditlanguagemodeling/results/amazon_reviews/clf/wilds_subpop_user_split/finetune_user/A2LFWJ8X817QGX: Found results for 3 seeds\n",
      "Base dir /data/ddmg/redditlanguagemodeling/results/amazon_reviews/clf/wilds_subpop_user_split/finetune_user/A1WXPET9PNGHVI: Found results for 3 seeds\n",
      "Base dir /data/ddmg/redditlanguagemodeling/results/amazon_reviews/clf/wilds_subpop_user_split/finetune_user/A12Z1KNSGLJF82: Found results for 3 seeds\n",
      "Base dir /data/ddmg/redditlanguagemodeling/results/amazon_reviews/clf/wilds_subpop_user_split/finetune_user/A1BV2WJWMI25CP: Found results for 3 seeds\n",
      "Base dir /data/ddmg/redditlanguagemodeling/results/amazon_reviews/clf/wilds_subpop_user_split/finetune_user/A2MXW7029E6JD5: Found results for 3 seeds\n",
      "Base dir /data/ddmg/redditlanguagemodeling/results/amazon_reviews/clf/wilds_subpop_user_split/finetune_user/A30G8PG6OMNVPH: Found results for 3 seeds\n",
      "Base dir /data/ddmg/redditlanguagemodeling/results/amazon_reviews/clf/wilds_subpop_user_split/finetune_user/A1J2F2E2OM8HFL: Found results for 3 seeds\n",
      "Base dir /data/ddmg/redditlanguagemodeling/results/amazon_reviews/clf/wilds_subpop_user_split/finetune_user/ADDCC3KEKSCL9: Found results for 3 seeds\n"
     ]
    },
    {
     "name": "stdout",
     "output_type": "stream",
     "text": [
      "Base dir /data/ddmg/redditlanguagemodeling/results/amazon_reviews/clf/wilds_subpop_user_split/finetune_user/AXECQUXHLB0A3: Found results for 3 seeds\n",
      "Base dir /data/ddmg/redditlanguagemodeling/results/amazon_reviews/clf/wilds_subpop_user_split/finetune_user/A297R44X7WEQ8T: Found results for 3 seeds\n",
      "Base dir /data/ddmg/redditlanguagemodeling/results/amazon_reviews/clf/wilds_subpop_user_split/finetune_user/A34JRGRUMOD5GO: Found results for 3 seeds\n",
      "Base dir /data/ddmg/redditlanguagemodeling/results/amazon_reviews/clf/wilds_subpop_user_split/finetune_user/AHVAWUTYVIQA6: Found results for 3 seeds\n",
      "Base dir /data/ddmg/redditlanguagemodeling/results/amazon_reviews/clf/wilds_subpop_user_split/finetune_user/A1VHK9A4VLJTHC: Found results for 3 seeds\n",
      "Base dir /data/ddmg/redditlanguagemodeling/results/amazon_reviews/clf/wilds_subpop_user_split/finetune_user/A32FO4CA2NKEBS: Found results for 3 seeds\n",
      "Base dir /data/ddmg/redditlanguagemodeling/results/amazon_reviews/clf/wilds_subpop_user_split/finetune_user/A3TAF7M58DN46F: Found results for 3 seeds\n",
      "Base dir /data/ddmg/redditlanguagemodeling/results/amazon_reviews/clf/wilds_subpop_user_split/finetune_user/A16U814S3DGASV: Found results for 3 seeds\n",
      "Base dir /data/ddmg/redditlanguagemodeling/results/amazon_reviews/clf/wilds_subpop_user_split/finetune_user/A2NOZB6VZCTOI4: Found results for 3 seeds\n",
      "Base dir /data/ddmg/redditlanguagemodeling/results/amazon_reviews/clf/wilds_subpop_user_split/finetune_user/A2F2O8QEO5SN14: Found results for 3 seeds\n",
      "Base dir /data/ddmg/redditlanguagemodeling/results/amazon_reviews/clf/wilds_subpop_user_split/finetune_user/A3JL10YVMWEUEL: Found results for 3 seeds\n",
      "Base dir /data/ddmg/redditlanguagemodeling/results/amazon_reviews/clf/wilds_subpop_user_split/finetune_user/A1G37DFO8MQW0M: Found results for 3 seeds\n",
      "Base dir /data/ddmg/redditlanguagemodeling/results/amazon_reviews/clf/wilds_subpop_user_split/finetune_user/A1GHNU9LOHE3T: Found results for 3 seeds\n",
      "Base dir /data/ddmg/redditlanguagemodeling/results/amazon_reviews/clf/wilds_subpop_user_split/finetune_user/A29GWIJL72GXXZ: Found results for 3 seeds\n",
      "Base dir /data/ddmg/redditlanguagemodeling/results/amazon_reviews/clf/wilds_subpop_user_split/finetune_user/AJNVLN50MZSFU: Found results for 3 seeds\n",
      "Base dir /data/ddmg/redditlanguagemodeling/results/amazon_reviews/clf/wilds_subpop_user_split/finetune_user/AGDACMQ4ZV1XU: Found results for 3 seeds\n",
      "Base dir /data/ddmg/redditlanguagemodeling/results/amazon_reviews/clf/wilds_subpop_user_split/finetune_user/AQB20PA2QQ2HL: Found results for 3 seeds\n",
      "Base dir /data/ddmg/redditlanguagemodeling/results/amazon_reviews/clf/wilds_subpop_user_split/finetune_user/A3QRR8PSCBI07C: Found results for 3 seeds\n",
      "Base dir /data/ddmg/redditlanguagemodeling/results/amazon_reviews/clf/wilds_subpop_user_split/finetune_user/AIIQCVRK7K07Q: Found results for 3 seeds\n",
      "Base dir /data/ddmg/redditlanguagemodeling/results/amazon_reviews/clf/wilds_subpop_user_split/finetune_user/A16WPA6JV83YXT: Found results for 3 seeds\n",
      "Base dir /data/ddmg/redditlanguagemodeling/results/amazon_reviews/clf/wilds_subpop_user_split/finetune_user/A20CJS1U3Q5PZA: Found results for 3 seeds\n",
      "Base dir /data/ddmg/redditlanguagemodeling/results/amazon_reviews/clf/wilds_subpop_user_split/finetune_user/A2O9M056X2BK8T: Found results for 3 seeds\n",
      "Base dir /data/ddmg/redditlanguagemodeling/results/amazon_reviews/clf/wilds_subpop_user_split/finetune_user/A3U41P3MHAEXYU: Found results for 3 seeds\n",
      "Base dir /data/ddmg/redditlanguagemodeling/results/amazon_reviews/clf/wilds_subpop_user_split/finetune_user/A39MJ2TV83QUYA: Found results for 3 seeds\n",
      "Base dir /data/ddmg/redditlanguagemodeling/results/amazon_reviews/clf/wilds_subpop_user_split/finetune_user/A1X6E6VBABKKYB: Found results for 3 seeds\n",
      "Base dir /data/ddmg/redditlanguagemodeling/results/amazon_reviews/clf/wilds_subpop_user_split/finetune_user/AXFI7TAWD6H6X: Found results for 3 seeds\n",
      "Base dir /data/ddmg/redditlanguagemodeling/results/amazon_reviews/clf/wilds_subpop_user_split/finetune_user/A3QZCA4LTTVGAD: Found results for 3 seeds\n",
      "Base dir /data/ddmg/redditlanguagemodeling/results/amazon_reviews/clf/wilds_subpop_user_split/finetune_user/A25E44CFFC4B7T: Found results for 3 seeds\n",
      "Base dir /data/ddmg/redditlanguagemodeling/results/amazon_reviews/clf/wilds_subpop_user_split/finetune_user/A19IQGKYZCDKF1: Found results for 3 seeds\n",
      "Base dir /data/ddmg/redditlanguagemodeling/results/amazon_reviews/clf/wilds_subpop_user_split/finetune_user/AOTMP0OKJOUWI: Found results for 3 seeds\n",
      "Base dir /data/ddmg/redditlanguagemodeling/results/amazon_reviews/clf/wilds_subpop_user_split/finetune_user/A10L137T790W84: Found results for 3 seeds\n",
      "Base dir /data/ddmg/redditlanguagemodeling/results/amazon_reviews/clf/wilds_subpop_user_split/finetune_user/A1ZHCZQC95NEQ2: Found results for 3 seeds\n",
      "Base dir /data/ddmg/redditlanguagemodeling/results/amazon_reviews/clf/wilds_subpop_user_split/finetune_user/A2ZOCEFOZEGKB8: Found results for 3 seeds\n",
      "Base dir /data/ddmg/redditlanguagemodeling/results/amazon_reviews/clf/wilds_subpop_user_split/finetune_user/A3PV5FJGYOY5NW: Found results for 3 seeds\n",
      "Base dir /data/ddmg/redditlanguagemodeling/results/amazon_reviews/clf/wilds_subpop_user_split/finetune_user/A28N2AWOVO2PB: Found results for 3 seeds\n",
      "Base dir /data/ddmg/redditlanguagemodeling/results/amazon_reviews/clf/wilds_subpop_user_split/finetune_user/A1T7PWNXGWHSHJ: Found results for 3 seeds\n",
      "Base dir /data/ddmg/redditlanguagemodeling/results/amazon_reviews/clf/wilds_subpop_user_split/finetune_user/A2NRARXIUZ2XON: Found results for 3 seeds\n",
      "Base dir /data/ddmg/redditlanguagemodeling/results/amazon_reviews/clf/wilds_subpop_user_split/finetune_user/A3QFDDODG2X2HL: Found results for 3 seeds\n",
      "Base dir /data/ddmg/redditlanguagemodeling/results/amazon_reviews/clf/wilds_subpop_user_split/finetune_user/A3R1EB0IGE3CC7: Found results for 3 seeds\n",
      "Base dir /data/ddmg/redditlanguagemodeling/results/amazon_reviews/clf/wilds_subpop_user_split/finetune_user/A2WB15REJGWJY: Found results for 3 seeds\n",
      "Base dir /data/ddmg/redditlanguagemodeling/results/amazon_reviews/clf/wilds_subpop_user_split/finetune_user/A24H4WUFUDPTAA: Found results for 3 seeds\n",
      "Base dir /data/ddmg/redditlanguagemodeling/results/amazon_reviews/clf/wilds_subpop_user_split/finetune_user/A4T10LCCYXO6S: Found results for 3 seeds\n",
      "Base dir /data/ddmg/redditlanguagemodeling/results/amazon_reviews/clf/wilds_subpop_user_split/finetune_user/A2W4295H4JSYDD: Found results for 3 seeds\n",
      "Base dir /data/ddmg/redditlanguagemodeling/results/amazon_reviews/clf/wilds_subpop_user_split/finetune_user/A2X29H96X7C3XJ: Found results for 3 seeds\n",
      "Base dir /data/ddmg/redditlanguagemodeling/results/amazon_reviews/clf/wilds_subpop_user_split/finetune_user/A8DRB62V7CKLY: Found results for 3 seeds\n",
      "Base dir /data/ddmg/redditlanguagemodeling/results/amazon_reviews/clf/wilds_subpop_user_split/finetune_user/A2PXCT34AREBMB: Found results for 3 seeds\n",
      "Base dir /data/ddmg/redditlanguagemodeling/results/amazon_reviews/clf/wilds_subpop_user_split/finetune_user/A1SB5A77COEA1L: Found results for 3 seeds\n",
      "Base dir /data/ddmg/redditlanguagemodeling/results/amazon_reviews/clf/wilds_subpop_user_split/finetune_user/A189SJTK5NXFP0: Found results for 3 seeds\n",
      "Base dir /data/ddmg/redditlanguagemodeling/results/amazon_reviews/clf/wilds_subpop_user_split/finetune_user/AXNKMLK3U3CUL: Found results for 3 seeds\n",
      "Base dir /data/ddmg/redditlanguagemodeling/results/amazon_reviews/clf/wilds_subpop_user_split/finetune_user/A10RNR9A9B3MQF: Found results for 3 seeds\n",
      "Base dir /data/ddmg/redditlanguagemodeling/results/amazon_reviews/clf/wilds_subpop_user_split/finetune_user/A2U3FVDELHREMI: Found results for 3 seeds\n",
      "Base dir /data/ddmg/redditlanguagemodeling/results/amazon_reviews/clf/wilds_subpop_user_split/finetune_user/A2YNN4X7CCKPNF: Found results for 3 seeds\n",
      "Base dir /data/ddmg/redditlanguagemodeling/results/amazon_reviews/clf/wilds_subpop_user_split/finetune_user/A28JD1OHWQEHP7: Found results for 3 seeds\n",
      "Base dir /data/ddmg/redditlanguagemodeling/results/amazon_reviews/clf/wilds_subpop_user_split/finetune_user/AO2CMFEZUBIGE: Found results for 3 seeds\n",
      "Base dir /data/ddmg/redditlanguagemodeling/results/amazon_reviews/clf/wilds_subpop_user_split/finetune_user/A1U1EAPRR4R0QA: Found results for 3 seeds\n",
      "Base dir /data/ddmg/redditlanguagemodeling/results/amazon_reviews/clf/wilds_subpop_user_split/finetune_user/AIWZ5N7D5RCA5: Found results for 3 seeds\n"
     ]
    },
    {
     "name": "stdout",
     "output_type": "stream",
     "text": [
      "Base dir /data/ddmg/redditlanguagemodeling/results/amazon_reviews/clf/wilds_subpop_user_split/finetune_user/A35QGMRK9PTY3C: Found results for 3 seeds\n",
      "Base dir /data/ddmg/redditlanguagemodeling/results/amazon_reviews/clf/wilds_subpop_user_split/finetune_user/AQ55H30MZSV0Q: Found results for 3 seeds\n",
      "Base dir /data/ddmg/redditlanguagemodeling/results/amazon_reviews/clf/wilds_subpop_user_split/finetune_user/A1KSGE7FCMX6SY: Found results for 3 seeds\n",
      "Base dir /data/ddmg/redditlanguagemodeling/results/amazon_reviews/clf/wilds_subpop_user_split/finetune_user/A1CB9F7TVZ7IRT: Found results for 3 seeds\n",
      "Base dir /data/ddmg/redditlanguagemodeling/results/amazon_reviews/clf/wilds_subpop_user_split/finetune_user/AL7LEBKKW8XCC: Found results for 3 seeds\n",
      "Base dir /data/ddmg/redditlanguagemodeling/results/amazon_reviews/clf/wilds_subpop_user_split/finetune_user/A1SXDVX98NJLHZ: Found results for 3 seeds\n",
      "Base dir /data/ddmg/redditlanguagemodeling/results/amazon_reviews/clf/wilds_subpop_user_split/finetune_user/AI37YX1U4KB1L: Found results for 3 seeds\n",
      "Base dir /data/ddmg/redditlanguagemodeling/results/amazon_reviews/clf/wilds_subpop_user_split/finetune_user/A317QL3C4E3T7T: Found results for 3 seeds\n",
      "Base dir /data/ddmg/redditlanguagemodeling/results/amazon_reviews/clf/wilds_subpop_user_split/finetune_user/A2H6Q6AK8S90F3: Found results for 3 seeds\n",
      "Base dir /data/ddmg/redditlanguagemodeling/results/amazon_reviews/clf/wilds_subpop_user_split/finetune_user/AX0ZTNX6KVJ40: Found results for 3 seeds\n",
      "Base dir /data/ddmg/redditlanguagemodeling/results/amazon_reviews/clf/wilds_subpop_user_split/finetune_user/A10XI8FW29VKH0: Found results for 3 seeds\n"
     ]
    }
   ],
   "source": [
    "base_result_dir = os.path.join(main_result_dir, \"finetune_user\")\n",
    "levels = [\"user\", \"seed\"]\n",
    "ft_results = ResultProcessor(base_result_dir, levels, verbose=True)"
   ]
  },
  {
   "cell_type": "code",
   "execution_count": 24,
   "id": "1df138be",
   "metadata": {},
   "outputs": [
    {
     "data": {
      "text/html": [
       "<div>\n",
       "<style scoped>\n",
       "    .dataframe tbody tr th:only-of-type {\n",
       "        vertical-align: middle;\n",
       "    }\n",
       "\n",
       "    .dataframe tbody tr th {\n",
       "        vertical-align: top;\n",
       "    }\n",
       "\n",
       "    .dataframe thead tr th {\n",
       "        text-align: left;\n",
       "    }\n",
       "\n",
       "    .dataframe thead tr:last-of-type th {\n",
       "        text-align: right;\n",
       "    }\n",
       "</style>\n",
       "<table border=\"1\" class=\"dataframe\">\n",
       "  <thead>\n",
       "    <tr>\n",
       "      <th></th>\n",
       "      <th colspan=\"2\" halign=\"left\">test_loss</th>\n",
       "      <th colspan=\"2\" halign=\"left\">test_accuracy</th>\n",
       "    </tr>\n",
       "    <tr>\n",
       "      <th></th>\n",
       "      <th>mean</th>\n",
       "      <th>std</th>\n",
       "      <th>mean</th>\n",
       "      <th>std</th>\n",
       "    </tr>\n",
       "    <tr>\n",
       "      <th>user</th>\n",
       "      <th></th>\n",
       "      <th></th>\n",
       "      <th></th>\n",
       "      <th></th>\n",
       "    </tr>\n",
       "  </thead>\n",
       "  <tbody>\n",
       "    <tr>\n",
       "      <th>A103M7E0BSFC83</th>\n",
       "      <td>0.898162</td>\n",
       "      <td>0.000158</td>\n",
       "      <td>0.631111</td>\n",
       "      <td>0.015396</td>\n",
       "    </tr>\n",
       "    <tr>\n",
       "      <th>A10AWAE0F6CAP1</th>\n",
       "      <td>0.679093</td>\n",
       "      <td>0.005264</td>\n",
       "      <td>0.693333</td>\n",
       "      <td>0.000000</td>\n",
       "    </tr>\n",
       "    <tr>\n",
       "      <th>A10JAUCIGVRW9F</th>\n",
       "      <td>0.362298</td>\n",
       "      <td>0.000432</td>\n",
       "      <td>0.906667</td>\n",
       "      <td>0.000000</td>\n",
       "    </tr>\n",
       "    <tr>\n",
       "      <th>A10L137T790W84</th>\n",
       "      <td>0.171490</td>\n",
       "      <td>0.003645</td>\n",
       "      <td>0.933333</td>\n",
       "      <td>0.000000</td>\n",
       "    </tr>\n",
       "    <tr>\n",
       "      <th>A10PXQY535XY39</th>\n",
       "      <td>0.439986</td>\n",
       "      <td>0.002066</td>\n",
       "      <td>0.800000</td>\n",
       "      <td>0.000000</td>\n",
       "    </tr>\n",
       "    <tr>\n",
       "      <th>...</th>\n",
       "      <td>...</td>\n",
       "      <td>...</td>\n",
       "      <td>...</td>\n",
       "      <td>...</td>\n",
       "    </tr>\n",
       "    <tr>\n",
       "      <th>AY3XPKRAMKKY7</th>\n",
       "      <td>0.702691</td>\n",
       "      <td>0.002751</td>\n",
       "      <td>0.800000</td>\n",
       "      <td>0.000000</td>\n",
       "    </tr>\n",
       "    <tr>\n",
       "      <th>AY5E0O8II03DY</th>\n",
       "      <td>0.653936</td>\n",
       "      <td>0.004155</td>\n",
       "      <td>0.755556</td>\n",
       "      <td>0.007698</td>\n",
       "    </tr>\n",
       "    <tr>\n",
       "      <th>AYQ14XGJODM9J</th>\n",
       "      <td>0.657953</td>\n",
       "      <td>0.003461</td>\n",
       "      <td>0.706667</td>\n",
       "      <td>0.000000</td>\n",
       "    </tr>\n",
       "    <tr>\n",
       "      <th>AYTMXLYK6SC9H</th>\n",
       "      <td>0.762694</td>\n",
       "      <td>0.003142</td>\n",
       "      <td>0.680000</td>\n",
       "      <td>0.000000</td>\n",
       "    </tr>\n",
       "    <tr>\n",
       "      <th>AZK12FBX7X7LN</th>\n",
       "      <td>1.331477</td>\n",
       "      <td>0.005233</td>\n",
       "      <td>0.386667</td>\n",
       "      <td>0.000000</td>\n",
       "    </tr>\n",
       "  </tbody>\n",
       "</table>\n",
       "<p>626 rows × 4 columns</p>\n",
       "</div>"
      ],
      "text/plain": [
       "               test_loss           test_accuracy          \n",
       "                    mean       std          mean       std\n",
       "user                                                      \n",
       "A103M7E0BSFC83  0.898162  0.000158      0.631111  0.015396\n",
       "A10AWAE0F6CAP1  0.679093  0.005264      0.693333  0.000000\n",
       "A10JAUCIGVRW9F  0.362298  0.000432      0.906667  0.000000\n",
       "A10L137T790W84  0.171490  0.003645      0.933333  0.000000\n",
       "A10PXQY535XY39  0.439986  0.002066      0.800000  0.000000\n",
       "...                  ...       ...           ...       ...\n",
       "AY3XPKRAMKKY7   0.702691  0.002751      0.800000  0.000000\n",
       "AY5E0O8II03DY   0.653936  0.004155      0.755556  0.007698\n",
       "AYQ14XGJODM9J   0.657953  0.003461      0.706667  0.000000\n",
       "AYTMXLYK6SC9H   0.762694  0.003142      0.680000  0.000000\n",
       "AZK12FBX7X7LN   1.331477  0.005233      0.386667  0.000000\n",
       "\n",
       "[626 rows x 4 columns]"
      ]
     },
     "execution_count": 24,
     "metadata": {},
     "output_type": "execute_result"
    }
   ],
   "source": [
    "ft_user_results = ft_results.results_df.groupby([\"user\"]).agg([\"mean\", \"std\"])[[\"test_loss\", \"test_accuracy\"]]\n",
    "ft_user_results"
   ]
  },
  {
   "cell_type": "code",
   "execution_count": 73,
   "id": "6a229da2",
   "metadata": {},
   "outputs": [
    {
     "data": {
      "text/plain": [
       "test_loss      mean    0.000029\n",
       "               std     0.000003\n",
       "test_accuracy  mean    1.000000\n",
       "               std     0.000000\n",
       "Name: A17EGVTXRDFTRS, dtype: float64"
      ]
     },
     "execution_count": 73,
     "metadata": {},
     "output_type": "execute_result"
    }
   ],
   "source": [
    "# get results for specific users\n",
    "ft_user_results.loc[user_1]"
   ]
  },
  {
   "cell_type": "code",
   "execution_count": 75,
   "id": "1815d73b",
   "metadata": {},
   "outputs": [
    {
     "data": {
      "text/plain": [
       "test_loss      mean    0.194791\n",
       "               std     0.000228\n",
       "test_accuracy  mean    0.920000\n",
       "               std     0.000000\n",
       "Name: A1POJZWVDNEX2T, dtype: float64"
      ]
     },
     "execution_count": 75,
     "metadata": {},
     "output_type": "execute_result"
    }
   ],
   "source": [
    "ft_user_results.loc[user_2]"
   ]
  },
  {
   "cell_type": "code",
   "execution_count": 78,
   "id": "62805ed1",
   "metadata": {},
   "outputs": [
    {
     "data": {
      "text/plain": [
       "overall  count_1      0.0\n",
       "         count_2      0.0\n",
       "         count_3      0.0\n",
       "         count_4      0.0\n",
       "         count_5    124.0\n",
       "Name: A17EGVTXRDFTRS, dtype: float64"
      ]
     },
     "execution_count": 78,
     "metadata": {},
     "output_type": "execute_result"
    }
   ],
   "source": [
    "# get naive baselines for these users\n",
    "train_review_dist_by_user.loc[user_1]"
   ]
  },
  {
   "cell_type": "code",
   "execution_count": 82,
   "id": "65239e72",
   "metadata": {},
   "outputs": [
    {
     "data": {
      "text/plain": [
       "overall  count_1     0.0\n",
       "         count_2     0.0\n",
       "         count_3     0.0\n",
       "         count_4     0.0\n",
       "         count_5    75.0\n",
       "Name: A17EGVTXRDFTRS, dtype: float64"
      ]
     },
     "execution_count": 82,
     "metadata": {},
     "output_type": "execute_result"
    }
   ],
   "source": [
    "test_review_dist_by_user.loc[user_1]"
   ]
  },
  {
   "cell_type": "code",
   "execution_count": 79,
   "id": "a136c2d0",
   "metadata": {},
   "outputs": [
    {
     "data": {
      "text/plain": [
       "overall  count_1     0.0\n",
       "         count_2     0.0\n",
       "         count_3     2.0\n",
       "         count_4    53.0\n",
       "         count_5     1.0\n",
       "Name: A1POJZWVDNEX2T, dtype: float64"
      ]
     },
     "execution_count": 79,
     "metadata": {},
     "output_type": "execute_result"
    }
   ],
   "source": [
    "train_review_dist_by_user.loc[user_2]"
   ]
  },
  {
   "cell_type": "code",
   "execution_count": 83,
   "id": "cbb79650",
   "metadata": {},
   "outputs": [
    {
     "data": {
      "text/plain": [
       "overall  count_1     0.0\n",
       "         count_2     0.0\n",
       "         count_3     2.0\n",
       "         count_4    70.0\n",
       "         count_5     3.0\n",
       "Name: A1POJZWVDNEX2T, dtype: float64"
      ]
     },
     "execution_count": 83,
     "metadata": {},
     "output_type": "execute_result"
    }
   ],
   "source": [
    "test_review_dist_by_user.loc[user_2]"
   ]
  },
  {
   "cell_type": "code",
   "execution_count": 85,
   "id": "66bd6f55",
   "metadata": {},
   "outputs": [
    {
     "data": {
      "text/plain": [
       "0.9333333333333333"
      ]
     },
     "execution_count": 85,
     "metadata": {},
     "output_type": "execute_result"
    }
   ],
   "source": [
    "70/75"
   ]
  },
  {
   "cell_type": "markdown",
   "id": "3c829f2e",
   "metadata": {},
   "source": [
    "## Another idea: Take users and break their validation data into multiple training sets"
   ]
  },
  {
   "cell_type": "code",
   "execution_count": 88,
   "id": "ed5bda6c",
   "metadata": {},
   "outputs": [
    {
     "data": {
      "text/plain": [
       "array(['A4MO9RO839BEF', 'A1B5MN8PY0JIJQ'], dtype=object)"
      ]
     },
     "execution_count": 88,
     "metadata": {},
     "output_type": "execute_result"
    }
   ],
   "source": [
    "# 1. Take 2 random users\n",
    "chosen_users = np.random.choice(test_users, 2, replace=False)\n",
    "chosen_users"
   ]
  },
  {
   "cell_type": "code",
   "execution_count": 95,
   "id": "680b11bd",
   "metadata": {},
   "outputs": [],
   "source": [
    "user_1, user_2 = chosen_users[0], chosen_users[1]"
   ]
  },
  {
   "cell_type": "code",
   "execution_count": 96,
   "id": "b11fa5bc",
   "metadata": {},
   "outputs": [
    {
     "data": {
      "text/plain": [
       "overall  count_1      0.0\n",
       "         count_2      0.0\n",
       "         count_3      1.0\n",
       "         count_4     44.0\n",
       "         count_5    254.0\n",
       "Name: A4MO9RO839BEF, dtype: float64"
      ]
     },
     "execution_count": 96,
     "metadata": {},
     "output_type": "execute_result"
    }
   ],
   "source": [
    "review_dist_by_user.loc[user_1]"
   ]
  },
  {
   "cell_type": "code",
   "execution_count": 97,
   "id": "9665e2b7",
   "metadata": {},
   "outputs": [
    {
     "data": {
      "text/plain": [
       "overall  count_1     0.0\n",
       "         count_2     0.0\n",
       "         count_3     1.0\n",
       "         count_4    13.0\n",
       "         count_5    75.0\n",
       "Name: A4MO9RO839BEF, dtype: float64"
      ]
     },
     "execution_count": 97,
     "metadata": {},
     "output_type": "execute_result"
    }
   ],
   "source": [
    "val_review_dist_by_user.loc[user_1]"
   ]
  },
  {
   "cell_type": "code",
   "execution_count": 104,
   "id": "a30b2f3a",
   "metadata": {},
   "outputs": [
    {
     "data": {
      "text/plain": [
       "0.8426966292134831"
      ]
     },
     "execution_count": 104,
     "metadata": {},
     "output_type": "execute_result"
    }
   ],
   "source": [
    "75 / (75 + 13 + 1)"
   ]
  },
  {
   "cell_type": "code",
   "execution_count": 98,
   "id": "82a7beb4",
   "metadata": {},
   "outputs": [
    {
     "data": {
      "text/plain": [
       "overall  count_1      0.0\n",
       "         count_2      4.0\n",
       "         count_3     21.0\n",
       "         count_4    139.0\n",
       "         count_5    213.0\n",
       "Name: A1B5MN8PY0JIJQ, dtype: float64"
      ]
     },
     "execution_count": 98,
     "metadata": {},
     "output_type": "execute_result"
    }
   ],
   "source": [
    "review_dist_by_user.loc[user_2]"
   ]
  },
  {
   "cell_type": "code",
   "execution_count": 99,
   "id": "4f1bd85a",
   "metadata": {},
   "outputs": [
    {
     "data": {
      "text/plain": [
       "overall  count_1     0.0\n",
       "         count_2     1.0\n",
       "         count_3     7.0\n",
       "         count_4    44.0\n",
       "         count_5    68.0\n",
       "Name: A1B5MN8PY0JIJQ, dtype: float64"
      ]
     },
     "execution_count": 99,
     "metadata": {},
     "output_type": "execute_result"
    }
   ],
   "source": [
    "val_review_dist_by_user.loc[user_2]"
   ]
  },
  {
   "cell_type": "code",
   "execution_count": 105,
   "id": "6a87d49a",
   "metadata": {},
   "outputs": [
    {
     "data": {
      "text/plain": [
       "0.5666666666666667"
      ]
     },
     "execution_count": 105,
     "metadata": {},
     "output_type": "execute_result"
    }
   ],
   "source": [
    "68 / (68 + 44 + 8)"
   ]
  },
  {
   "cell_type": "code",
   "execution_count": 100,
   "id": "2b6661e0",
   "metadata": {},
   "outputs": [
    {
     "data": {
      "text/plain": [
       "loss        0.287309\n",
       "accuracy    0.893333\n",
       "Name: A4MO9RO839BEF, dtype: float64"
      ]
     },
     "execution_count": 100,
     "metadata": {},
     "output_type": "execute_result"
    }
   ],
   "source": [
    "global_user_results.loc[user1]"
   ]
  },
  {
   "cell_type": "code",
   "execution_count": 101,
   "id": "d3885170",
   "metadata": {},
   "outputs": [
    {
     "data": {
      "text/plain": [
       "loss        0.603546\n",
       "accuracy    0.702222\n",
       "Name: A1B5MN8PY0JIJQ, dtype: float64"
      ]
     },
     "execution_count": 101,
     "metadata": {},
     "output_type": "execute_result"
    }
   ],
   "source": [
    "global_user_results.loc[user2]"
   ]
  },
  {
   "cell_type": "code",
   "execution_count": 102,
   "id": "bd109844",
   "metadata": {},
   "outputs": [
    {
     "data": {
      "text/plain": [
       "test_loss      mean    0.343658\n",
       "               std     0.000679\n",
       "test_accuracy  mean    0.893333\n",
       "               std     0.000000\n",
       "Name: A4MO9RO839BEF, dtype: float64"
      ]
     },
     "execution_count": 102,
     "metadata": {},
     "output_type": "execute_result"
    }
   ],
   "source": [
    "ft_user_results.loc[user1]"
   ]
  },
  {
   "cell_type": "code",
   "execution_count": 108,
   "id": "355a3da2",
   "metadata": {},
   "outputs": [
    {
     "data": {
      "text/plain": [
       "test_loss      mean    0.745628\n",
       "               std     0.021004\n",
       "test_accuracy  mean    0.688889\n",
       "               std     0.007698\n",
       "Name: A1B5MN8PY0JIJQ, dtype: float64"
      ]
     },
     "execution_count": 108,
     "metadata": {},
     "output_type": "execute_result"
    }
   ],
   "source": [
    "ft_user_results.loc[user2]"
   ]
  },
  {
   "cell_type": "markdown",
   "id": "6a6710ee",
   "metadata": {},
   "source": [
    "### Create new datasets for experiments with these users\n",
    "\n",
    "Split their training data in 2 parts, to create two new pseudo users for each original user. Use full training data from original user as validation data for each user + full test data from original user as test data.\n",
    "\n",
    "Experiments:\n",
    "1. Fine-tune on all both users (what happens when you apply uniform similarity matrix?)\n",
    "2. User-specific fine-tune (need to rerun with training data used to select early stopping point)\n",
    "3. User weight trainer with the 4 new users (can the model identify the correct similarity relationships? --> use dataset 2"
   ]
  },
  {
   "cell_type": "code",
   "execution_count": 106,
   "id": "726eeb14",
   "metadata": {},
   "outputs": [],
   "source": [
    "# load exisiting data\n",
    "data_kwargs = dict(\n",
    "    data_dir=\"/data/ddmg/redditlanguagemodeling/data/AmazonReviews/data/amazon_v2.0/\",\n",
    "    raw_data_file=\"reviews.csv\",\n",
    "    tokenizer_name=\"distilbert-base-uncased\",\n",
    "    tokenizer_cache_dir=\"/data/ddmg/redditlanguagemodeling/cached/distilbert\",\n",
    "    split_file=\"wilds_subpop_shift_user.csv\",\n",
    "    processed_data_dir=\"amazon_reviews_clf_processed_with_my_subpop_shift_embeds\",\n",
    ")"
   ]
  },
  {
   "cell_type": "code",
   "execution_count": 107,
   "id": "ac35dd6a",
   "metadata": {},
   "outputs": [
    {
     "name": "stdout",
     "output_type": "stream",
     "text": [
      "loading processed data from /data/ddmg/redditlanguagemodeling/data/AmazonReviews/data/amazon_v2.0/amazon_reviews_clf_processed_with_my_subpop_shift_embeds\n"
     ]
    }
   ],
   "source": [
    "dataset = AmazonClfDataset(**data_kwargs)"
   ]
  },
  {
   "cell_type": "code",
   "execution_count": 110,
   "id": "e2f6d23b",
   "metadata": {},
   "outputs": [],
   "source": [
    "train_data = dataset.train_data"
   ]
  },
  {
   "cell_type": "code",
   "execution_count": 199,
   "id": "8df01719",
   "metadata": {},
   "outputs": [
    {
     "data": {
      "text/plain": [
       "Dataset({\n",
       "    features: ['__index_level_0__', 'asin', 'attention_mask', 'category', 'input_ids', 'labels', 'reviewTime', 'reviewYear', 'sample_id', 'split', 'summary', 'text', 'unixReviewTime', 'user', 'verified', 'embeddings'],\n",
       "    num_rows: 150\n",
       "})"
      ]
     },
     "execution_count": 199,
     "metadata": {},
     "output_type": "execute_result"
    }
   ],
   "source": [
    "get_new_dataset(dataset.test_data)"
   ]
  },
  {
   "cell_type": "code",
   "execution_count": 134,
   "id": "15cb9f51",
   "metadata": {},
   "outputs": [
    {
     "data": {
      "text/plain": [
       "Dataset({\n",
       "    features: ['__index_level_0__', 'asin', 'attention_mask', 'category', 'input_ids', 'labels', 'reviewTime', 'reviewYear', 'sample_id', 'split', 'summary', 'text', 'unixReviewTime', 'user', 'verified', 'embeddings'],\n",
       "    num_rows: 317\n",
       "})"
      ]
     },
     "execution_count": 134,
     "metadata": {},
     "output_type": "execute_result"
    }
   ],
   "source": [
    "select_train_data"
   ]
  },
  {
   "cell_type": "code",
   "execution_count": 137,
   "id": "5011e72e",
   "metadata": {},
   "outputs": [
    {
     "data": {
      "text/plain": [
       "317"
      ]
     },
     "execution_count": 137,
     "metadata": {},
     "output_type": "execute_result"
    }
   ],
   "source": [
    "len(user1_idx) + len(user2_idx)"
   ]
  },
  {
   "cell_type": "code",
   "execution_count": 112,
   "id": "78ca9ed3",
   "metadata": {},
   "outputs": [],
   "source": [
    "# create new dataset with just the 2 selected users + split their data into 4 part\n",
    "\n",
    "def get_new_dataset(dataset):\n",
    "    users = dataset[\"user\"]\n",
    "    keep_idx = [i for i in range(len(users)) if users[i] in {user1, user2}]\n",
    "    return dataset.select(keep_idx)"
   ]
  },
  {
   "cell_type": "code",
   "execution_count": 157,
   "id": "bad2d2d1",
   "metadata": {},
   "outputs": [],
   "source": [
    "select_train_data = get_new_dataset(train_data)"
   ]
  },
  {
   "cell_type": "code",
   "execution_count": 158,
   "id": "64b4c428",
   "metadata": {},
   "outputs": [],
   "source": [
    "select_val_data = get_new_dataset(dataset.val_data)"
   ]
  },
  {
   "cell_type": "code",
   "execution_count": 200,
   "id": "3c36a82d",
   "metadata": {},
   "outputs": [],
   "source": [
    "select_test_data = get_new_dataset(dataset.test_data)"
   ]
  },
  {
   "cell_type": "code",
   "execution_count": 160,
   "id": "6db03403",
   "metadata": {},
   "outputs": [],
   "source": [
    "train_user_ids = select_train_data[\"user\"]"
   ]
  },
  {
   "cell_type": "code",
   "execution_count": 161,
   "id": "7da2d71a",
   "metadata": {},
   "outputs": [],
   "source": [
    "user1_idx = np.argwhere(np.array(train_user_ids) == user1)"
   ]
  },
  {
   "cell_type": "code",
   "execution_count": 162,
   "id": "72af58b0",
   "metadata": {},
   "outputs": [],
   "source": [
    "user2_idx = np.argwhere(np.array(train_user_ids) == user2)"
   ]
  },
  {
   "cell_type": "code",
   "execution_count": 163,
   "id": "b406f576",
   "metadata": {},
   "outputs": [],
   "source": [
    "# split these indicies into two groups (one for each pseudo user)\n",
    "p1_index = np.random.choice(user1_idx.flatten(), int(len(user1_idx) / 2), replace=False)"
   ]
  },
  {
   "cell_type": "code",
   "execution_count": 164,
   "id": "a21cdee9",
   "metadata": {},
   "outputs": [],
   "source": [
    "p2_index = [elm for elm in user1_idx.flatten() if elm not in p1_index]"
   ]
  },
  {
   "cell_type": "code",
   "execution_count": 165,
   "id": "b6d89d6c",
   "metadata": {},
   "outputs": [],
   "source": [
    "p3_index = np.random.choice(user2_idx.flatten(), int(len(user2_idx) / 2), replace=False)"
   ]
  },
  {
   "cell_type": "code",
   "execution_count": 166,
   "id": "f0c08e32",
   "metadata": {},
   "outputs": [],
   "source": [
    "p4_index = [elm for elm in user2_idx.flatten() if elm not in p3_index]"
   ]
  },
  {
   "cell_type": "code",
   "execution_count": 167,
   "id": "bd08c2b7",
   "metadata": {},
   "outputs": [
    {
     "data": {
      "text/plain": [
       "317"
      ]
     },
     "execution_count": 167,
     "metadata": {},
     "output_type": "execute_result"
    }
   ],
   "source": [
    "len(p1_index) + len(p2_index) + len(p3_index) + len(p4_index)"
   ]
  },
  {
   "cell_type": "code",
   "execution_count": 168,
   "id": "688b886a",
   "metadata": {},
   "outputs": [],
   "source": [
    "p_users = np.full(317, -1)"
   ]
  },
  {
   "cell_type": "code",
   "execution_count": 169,
   "id": "d36fbb64",
   "metadata": {},
   "outputs": [
    {
     "data": {
      "text/plain": [
       "(array([1, 2, 3, 4]), array([67, 68, 91, 91]))"
      ]
     },
     "execution_count": 169,
     "metadata": {},
     "output_type": "execute_result"
    }
   ],
   "source": [
    "p_users[p1_index] = \"1\"\n",
    "p_users[p2_index] = \"2\"\n",
    "p_users[p3_index] = \"3\"\n",
    "p_users[p4_index] = \"4\"\n",
    "np.unique(p_users, return_counts=True)"
   ]
  },
  {
   "cell_type": "code",
   "execution_count": 173,
   "id": "86fcf9d6",
   "metadata": {},
   "outputs": [],
   "source": [
    "p_to_o_user = {1: user1, 2: user1, 3: user2, 4: user2}"
   ]
  },
  {
   "cell_type": "code",
   "execution_count": 170,
   "id": "26cbdd17",
   "metadata": {},
   "outputs": [],
   "source": [
    "# add this column to dataset\n",
    "select_train_data = select_train_data.to_pandas()\n",
    "select_train_data = Dataset.from_pandas(select_train_data)  # get rid of old rows in PyArrow Table\n",
    "select_train_data = select_train_data.add_column(name=\"p_user\", column=p_users.tolist())"
   ]
  },
  {
   "cell_type": "code",
   "execution_count": 177,
   "id": "7e2450b7",
   "metadata": {},
   "outputs": [],
   "source": [
    "# create new validation dataset with training data \n",
    "# duplicate train data from each of the original users so that it is used for both of the pseudo users\n",
    "select_val_data = select_train_data.to_pandas()\n",
    "# assign p_users to be single user\n",
    "def _map_to_single_user(x):\n",
    "    if x == 2:\n",
    "        return 1\n",
    "    if x == 4:\n",
    "        return 3\n",
    "    return x\n",
    "select_val_data[\"p_user\"] = select_val_data[\"p_user\"].apply(lambda x: _map_to_single_user(x))\n",
    "select_val_data2 = select_val_data.copy()\n",
    "def _get_other_p_user(x):\n",
    "    if x == 1:\n",
    "        return 2\n",
    "    return 4\n",
    "select_val_data2[\"p_user\"] = select_val_data[\"p_user\"].apply(lambda x: _get_other_p_user(x))\n",
    "# duplicate each entry and assign as val data for each psuedo user\n",
    "select_val_data = select_val_data.append(select_val_data2)"
   ]
  },
  {
   "cell_type": "code",
   "execution_count": 180,
   "id": "00bd30b6",
   "metadata": {},
   "outputs": [
    {
     "data": {
      "text/plain": [
       "4    182\n",
       "3    182\n",
       "2    135\n",
       "1    135\n",
       "Name: p_user, dtype: int64"
      ]
     },
     "execution_count": 180,
     "metadata": {},
     "output_type": "execute_result"
    }
   ],
   "source": [
    "select_val_data[\"p_user\"].value_counts()"
   ]
  },
  {
   "cell_type": "code",
   "execution_count": 181,
   "id": "a7ce31a4",
   "metadata": {},
   "outputs": [
    {
     "data": {
      "text/html": [
       "<div>\n",
       "<style scoped>\n",
       "    .dataframe tbody tr th:only-of-type {\n",
       "        vertical-align: middle;\n",
       "    }\n",
       "\n",
       "    .dataframe tbody tr th {\n",
       "        vertical-align: top;\n",
       "    }\n",
       "\n",
       "    .dataframe thead th {\n",
       "        text-align: right;\n",
       "    }\n",
       "</style>\n",
       "<table border=\"1\" class=\"dataframe\">\n",
       "  <thead>\n",
       "    <tr style=\"text-align: right;\">\n",
       "      <th></th>\n",
       "      <th>user</th>\n",
       "      <th>p_user</th>\n",
       "    </tr>\n",
       "  </thead>\n",
       "  <tbody>\n",
       "    <tr>\n",
       "      <th>0</th>\n",
       "      <td>A4MO9RO839BEF</td>\n",
       "      <td>1</td>\n",
       "    </tr>\n",
       "    <tr>\n",
       "      <th>1</th>\n",
       "      <td>A4MO9RO839BEF</td>\n",
       "      <td>1</td>\n",
       "    </tr>\n",
       "    <tr>\n",
       "      <th>2</th>\n",
       "      <td>A1B5MN8PY0JIJQ</td>\n",
       "      <td>3</td>\n",
       "    </tr>\n",
       "    <tr>\n",
       "      <th>3</th>\n",
       "      <td>A1B5MN8PY0JIJQ</td>\n",
       "      <td>3</td>\n",
       "    </tr>\n",
       "    <tr>\n",
       "      <th>4</th>\n",
       "      <td>A1B5MN8PY0JIJQ</td>\n",
       "      <td>3</td>\n",
       "    </tr>\n",
       "    <tr>\n",
       "      <th>...</th>\n",
       "      <td>...</td>\n",
       "      <td>...</td>\n",
       "    </tr>\n",
       "    <tr>\n",
       "      <th>312</th>\n",
       "      <td>A1B5MN8PY0JIJQ</td>\n",
       "      <td>4</td>\n",
       "    </tr>\n",
       "    <tr>\n",
       "      <th>313</th>\n",
       "      <td>A1B5MN8PY0JIJQ</td>\n",
       "      <td>4</td>\n",
       "    </tr>\n",
       "    <tr>\n",
       "      <th>314</th>\n",
       "      <td>A4MO9RO839BEF</td>\n",
       "      <td>2</td>\n",
       "    </tr>\n",
       "    <tr>\n",
       "      <th>315</th>\n",
       "      <td>A1B5MN8PY0JIJQ</td>\n",
       "      <td>4</td>\n",
       "    </tr>\n",
       "    <tr>\n",
       "      <th>316</th>\n",
       "      <td>A1B5MN8PY0JIJQ</td>\n",
       "      <td>4</td>\n",
       "    </tr>\n",
       "  </tbody>\n",
       "</table>\n",
       "<p>634 rows × 2 columns</p>\n",
       "</div>"
      ],
      "text/plain": [
       "               user  p_user\n",
       "0     A4MO9RO839BEF       1\n",
       "1     A4MO9RO839BEF       1\n",
       "2    A1B5MN8PY0JIJQ       3\n",
       "3    A1B5MN8PY0JIJQ       3\n",
       "4    A1B5MN8PY0JIJQ       3\n",
       "..              ...     ...\n",
       "312  A1B5MN8PY0JIJQ       4\n",
       "313  A1B5MN8PY0JIJQ       4\n",
       "314   A4MO9RO839BEF       2\n",
       "315  A1B5MN8PY0JIJQ       4\n",
       "316  A1B5MN8PY0JIJQ       4\n",
       "\n",
       "[634 rows x 2 columns]"
      ]
     },
     "execution_count": 181,
     "metadata": {},
     "output_type": "execute_result"
    }
   ],
   "source": [
    "select_val_data[[\"user\", \"p_user\"]]"
   ]
  },
  {
   "cell_type": "code",
   "execution_count": 185,
   "id": "5ced1fbf",
   "metadata": {},
   "outputs": [],
   "source": [
    "select_val_data = select_val_data.drop(columns=\"__index_level_0__\")"
   ]
  },
  {
   "cell_type": "code",
   "execution_count": 186,
   "id": "f98c5cae",
   "metadata": {},
   "outputs": [],
   "source": [
    "# convert back to HF dataset\n",
    "select_val_data = Dataset.from_pandas(select_val_data)"
   ]
  },
  {
   "cell_type": "code",
   "execution_count": 201,
   "id": "b6d61eb8",
   "metadata": {},
   "outputs": [],
   "source": [
    "# duplicate test data for so it exists for each p user\n",
    "select_test_data = select_test_data.to_pandas(select_test_data)"
   ]
  },
  {
   "cell_type": "code",
   "execution_count": 202,
   "id": "a14bea42",
   "metadata": {},
   "outputs": [],
   "source": [
    "select_test_data[\"p_user\"] = select_test_data[\"user\"]"
   ]
  },
  {
   "cell_type": "code",
   "execution_count": 204,
   "id": "70e973c1",
   "metadata": {},
   "outputs": [],
   "source": [
    "def user_to_p_user1(user):\n",
    "    if user == user1:\n",
    "        return 1\n",
    "    return 3\n",
    "\n",
    "def user_to_p_user2(user):\n",
    "    if user == user2:\n",
    "        return 2\n",
    "    return 4\n",
    "\n",
    "select_test_data2 = select_test_data.copy()\n",
    "select_test_data[\"p_user\"] = select_test_data[\"user\"].apply(lambda x: user_to_p_user1(x))\n",
    "select_test_data2[\"p_user\"] = select_test_data[\"user\"].apply(lambda x: user_to_p_user2(x))"
   ]
  },
  {
   "cell_type": "code",
   "execution_count": 205,
   "id": "c4b63f5d",
   "metadata": {},
   "outputs": [],
   "source": [
    "select_test_data = select_test_data.append(select_test_data2)"
   ]
  },
  {
   "cell_type": "code",
   "execution_count": 206,
   "id": "cd7e4df1",
   "metadata": {},
   "outputs": [],
   "source": [
    "select_test_data = select_test_data.drop(columns=\"__index_level_0__\")"
   ]
  },
  {
   "cell_type": "code",
   "execution_count": 207,
   "id": "ae6f6ac2",
   "metadata": {},
   "outputs": [],
   "source": [
    "select_test_data = Dataset.from_pandas(select_test_data)"
   ]
  },
  {
   "cell_type": "code",
   "execution_count": 208,
   "id": "8010de3f",
   "metadata": {},
   "outputs": [],
   "source": [
    "train_p_users = np.array(select_train_data[\"p_user\"])\n",
    "val_p_users = np.array(select_val_data[\"p_user\"])\n",
    "test_p_users = np.array(select_test_data[\"p_user\"])"
   ]
  },
  {
   "cell_type": "code",
   "execution_count": 209,
   "id": "ca7f9787",
   "metadata": {},
   "outputs": [
    {
     "name": "stdout",
     "output_type": "stream",
     "text": [
      "(array([1, 2, 3, 4]), array([67, 68, 91, 91]))\n",
      "(array([1, 2, 3, 4]), array([135, 135, 182, 182]))\n",
      "(array([1, 2, 3, 4]), array([75, 75, 75, 75]))\n"
     ]
    }
   ],
   "source": [
    "print(np.unique(train_p_users, return_counts=True))\n",
    "print(np.unique(val_p_users, return_counts=True))\n",
    "print(np.unique(test_p_users, return_counts=True))"
   ]
  },
  {
   "cell_type": "code",
   "execution_count": 212,
   "id": "dbfa43b3",
   "metadata": {},
   "outputs": [
    {
     "ename": "NameError",
     "evalue": "name 'dataset_dir' is not defined",
     "output_type": "error",
     "traceback": [
      "\u001b[0;31m---------------------------------------------------------------------------\u001b[0m",
      "\u001b[0;31mNameError\u001b[0m                                 Traceback (most recent call last)",
      "\u001b[0;32m<ipython-input-212-093826e0d474>\u001b[0m in \u001b[0;36m<module>\u001b[0;34m\u001b[0m\n\u001b[1;32m      1\u001b[0m \u001b[0;31m# save datasets\u001b[0m\u001b[0;34m\u001b[0m\u001b[0;34m\u001b[0m\u001b[0;34m\u001b[0m\u001b[0m\n\u001b[0;32m----> 2\u001b[0;31m \u001b[0mselect_train_data\u001b[0m\u001b[0;34m.\u001b[0m\u001b[0msave_to_disk\u001b[0m\u001b[0;34m(\u001b[0m\u001b[0mos\u001b[0m\u001b[0;34m.\u001b[0m\u001b[0mpath\u001b[0m\u001b[0;34m.\u001b[0m\u001b[0mjoin\u001b[0m\u001b[0;34m(\u001b[0m\u001b[0mdataset_dir\u001b[0m\u001b[0;34m,\u001b[0m \u001b[0;34m\"amazon_reviews_pseudo_user_data\"\u001b[0m\u001b[0;34m,\u001b[0m \u001b[0;34m\"train_\"\u001b[0m\u001b[0;34m)\u001b[0m\u001b[0;34m)\u001b[0m\u001b[0;34m\u001b[0m\u001b[0;34m\u001b[0m\u001b[0m\n\u001b[0m\u001b[1;32m      3\u001b[0m \u001b[0mselect_val_data\u001b[0m\u001b[0;34m.\u001b[0m\u001b[0msave_to_disk\u001b[0m\u001b[0;34m(\u001b[0m\u001b[0mos\u001b[0m\u001b[0;34m.\u001b[0m\u001b[0mpath\u001b[0m\u001b[0;34m.\u001b[0m\u001b[0mjoin\u001b[0m\u001b[0;34m(\u001b[0m\u001b[0mdataset_dir\u001b[0m\u001b[0;34m,\u001b[0m \u001b[0;34m\"amazon_reviews_pseudo_user_data\"\u001b[0m\u001b[0;34m,\u001b[0m \u001b[0;34m\"val_\"\u001b[0m\u001b[0;34m)\u001b[0m\u001b[0;34m)\u001b[0m\u001b[0;34m\u001b[0m\u001b[0;34m\u001b[0m\u001b[0m\n\u001b[1;32m      4\u001b[0m \u001b[0mselect_test_data\u001b[0m\u001b[0;34m.\u001b[0m\u001b[0msave_to_disk\u001b[0m\u001b[0;34m(\u001b[0m\u001b[0mos\u001b[0m\u001b[0;34m.\u001b[0m\u001b[0mpath\u001b[0m\u001b[0;34m.\u001b[0m\u001b[0mjoin\u001b[0m\u001b[0;34m(\u001b[0m\u001b[0mdataset_dir\u001b[0m\u001b[0;34m,\u001b[0m \u001b[0;34m\"amazon_reviews_pseudo_user_data\"\u001b[0m\u001b[0;34m,\u001b[0m \u001b[0;34m\"test_\"\u001b[0m\u001b[0;34m)\u001b[0m\u001b[0;34m)\u001b[0m\u001b[0;34m\u001b[0m\u001b[0;34m\u001b[0m\u001b[0m\n",
      "\u001b[0;31mNameError\u001b[0m: name 'dataset_dir' is not defined"
     ]
    }
   ],
   "source": [
    "# save datasets\n",
    "select_train_data.save_to_disk(os.path.join(data_dir, \"amazon_reviews_pseudo_user_data\", \"train_\"))\n",
    "select_val_data.save_to_disk(os.path.join(data_dir, \"amazon_reviews_pseudo_user_data\", \"val_\"))\n",
    "select_test_data.save_to_disk(os.path.join(data_dir, \"amazon_reviews_pseudo_user_data\", \"test_\"))"
   ]
  }
 ],
 "metadata": {
  "kernelspec": {
   "display_name": "Python 3",
   "language": "python",
   "name": "python3"
  },
  "language_info": {
   "codemirror_mode": {
    "name": "ipython",
    "version": 3
   },
   "file_extension": ".py",
   "mimetype": "text/x-python",
   "name": "python",
   "nbconvert_exporter": "python",
   "pygments_lexer": "ipython3",
   "version": "3.8.10"
  }
 },
 "nbformat": 4,
 "nbformat_minor": 5
}
