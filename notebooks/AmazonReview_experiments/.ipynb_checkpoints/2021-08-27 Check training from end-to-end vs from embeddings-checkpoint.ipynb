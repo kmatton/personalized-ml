{
 "cells": [
  {
   "cell_type": "code",
   "execution_count": 1,
   "id": "e475ab30",
   "metadata": {},
   "outputs": [],
   "source": [
    "%load_ext autoreload\n",
    "%autoreload 2"
   ]
  },
  {
   "cell_type": "code",
   "execution_count": 2,
   "id": "351d8078",
   "metadata": {},
   "outputs": [],
   "source": [
    "import sys\n",
    "sys.path.append('../../src/generic')\n",
    "import csv\n",
    "import os\n",
    "import numpy as np\n",
    "import pandas as pd\n",
    "import seaborn as sns\n",
    "sns.set_theme()"
   ]
  },
  {
   "cell_type": "code",
   "execution_count": 3,
   "id": "63d1fa21",
   "metadata": {},
   "outputs": [],
   "source": [
    "from results.process_results import ResultProcessor"
   ]
  },
  {
   "cell_type": "code",
   "execution_count": 4,
   "id": "5fca2e99",
   "metadata": {},
   "outputs": [],
   "source": [
    "main_result_dir = \"/data/ddmg/redditlanguagemodeling/results/amazon_reviews/clf\""
   ]
  },
  {
   "cell_type": "markdown",
   "id": "23deff28",
   "metadata": {},
   "source": [
    "## My User Split"
   ]
  },
  {
   "cell_type": "markdown",
   "id": "f7b52719",
   "metadata": {},
   "source": [
    "### Get Majority Class Baseline"
   ]
  },
  {
   "cell_type": "code",
   "execution_count": 25,
   "id": "66b350dd",
   "metadata": {},
   "outputs": [],
   "source": [
    "data_dir = \"/data/ddmg/redditlanguagemodeling/data/AmazonReviews/data\""
   ]
  },
  {
   "cell_type": "code",
   "execution_count": 26,
   "id": "c9d4fdd8",
   "metadata": {},
   "outputs": [],
   "source": [
    "data_df = pd.read_csv(os.path.join(data_dir, 'amazon_v2.0/reviews.csv'),\n",
    "                      dtype={'reviewerID':str, 'asin':str, 'reviewTime':str,'unixReviewTime':int,\n",
    "                             'reviewText':str,'summary':str,'verified':bool,'category':str, 'reviewYear':int},\n",
    "                      keep_default_na=False, na_values=[], quoting=csv.QUOTE_NONNUMERIC)"
   ]
  },
  {
   "cell_type": "code",
   "execution_count": 27,
   "id": "3cf76a89",
   "metadata": {},
   "outputs": [
    {
     "data": {
      "text/plain": [
       "539502"
      ]
     },
     "execution_count": 27,
     "metadata": {},
     "output_type": "execute_result"
    }
   ],
   "source": [
    "split_df = pd.read_csv(os.path.join(data_dir, 'amazon_v2.0', 'splits', 'my_user_split.csv'))\n",
    "data_df = data_df[split_df[\"split\"] != -1]\n",
    "len(data_df)"
   ]
  },
  {
   "cell_type": "code",
   "execution_count": 28,
   "id": "4007439c",
   "metadata": {},
   "outputs": [
    {
     "name": "stderr",
     "output_type": "stream",
     "text": [
      "<ipython-input-28-498fa11c3555>:1: UserWarning: Boolean Series key will be reindexed to match DataFrame index.\n",
      "  val_df = data_df[split_df[\"split\"] == 1]\n",
      "<ipython-input-28-498fa11c3555>:2: UserWarning: Boolean Series key will be reindexed to match DataFrame index.\n",
      "  test_df = data_df[split_df[\"split\"] == 2]\n"
     ]
    }
   ],
   "source": [
    "val_df = data_df[split_df[\"split\"] == 1]\n",
    "test_df = data_df[split_df[\"split\"] == 2]"
   ]
  },
  {
   "cell_type": "code",
   "execution_count": 31,
   "id": "42a43a04",
   "metadata": {},
   "outputs": [],
   "source": [
    "data_df[\"split\"] = split_df[\"split\"]"
   ]
  },
  {
   "cell_type": "code",
   "execution_count": 32,
   "id": "3ba10b67",
   "metadata": {},
   "outputs": [
    {
     "data": {
      "text/plain": [
       "split\n",
       "0.0    0.578451\n",
       "1.0    0.578602\n",
       "2.0    0.577719\n",
       "Name: overall, dtype: float64"
      ]
     },
     "execution_count": 32,
     "metadata": {},
     "output_type": "execute_result"
    }
   ],
   "source": [
    "data_df.groupby([\"split\"]).agg(lambda x: x.value_counts(normalize=True).iloc[0])[\"overall\"]"
   ]
  },
  {
   "cell_type": "markdown",
   "id": "cd96759f",
   "metadata": {},
   "source": [
    "### End-to-end"
   ]
  },
  {
   "cell_type": "code",
   "execution_count": 39,
   "id": "7ece1735",
   "metadata": {},
   "outputs": [
    {
     "name": "stdout",
     "output_type": "stream",
     "text": [
      "Base dir /data/ddmg/redditlanguagemodeling/results/amazon_reviews/clf/from_tokens/train_all_my_user_split: Found results for 3 seeds\n"
     ]
    }
   ],
   "source": [
    "base_result_dir = os.path.join(main_result_dir, \"from_tokens\", \"train_all_my_user_split\")\n",
    "levels = [\"seed\"]\n",
    "ee_results = ResultProcessor(base_result_dir, levels, verbose=True)"
   ]
  },
  {
   "cell_type": "code",
   "execution_count": 40,
   "id": "c5f731bd",
   "metadata": {},
   "outputs": [
    {
     "data": {
      "text/html": [
       "<div>\n",
       "<style scoped>\n",
       "    .dataframe tbody tr th:only-of-type {\n",
       "        vertical-align: middle;\n",
       "    }\n",
       "\n",
       "    .dataframe tbody tr th {\n",
       "        vertical-align: top;\n",
       "    }\n",
       "\n",
       "    .dataframe thead th {\n",
       "        text-align: right;\n",
       "    }\n",
       "</style>\n",
       "<table border=\"1\" class=\"dataframe\">\n",
       "  <thead>\n",
       "    <tr style=\"text-align: right;\">\n",
       "      <th></th>\n",
       "      <th>eval_accuracy</th>\n",
       "      <th>test_accuracy</th>\n",
       "    </tr>\n",
       "  </thead>\n",
       "  <tbody>\n",
       "    <tr>\n",
       "      <th>mean</th>\n",
       "      <td>0.738340</td>\n",
       "      <td>0.736294</td>\n",
       "    </tr>\n",
       "    <tr>\n",
       "      <th>std</th>\n",
       "      <td>0.000371</td>\n",
       "      <td>0.000892</td>\n",
       "    </tr>\n",
       "  </tbody>\n",
       "</table>\n",
       "</div>"
      ],
      "text/plain": [
       "      eval_accuracy  test_accuracy\n",
       "mean       0.738340       0.736294\n",
       "std        0.000371       0.000892"
      ]
     },
     "metadata": {},
     "output_type": "display_data"
    }
   ],
   "source": [
    "with pd.option_context('display.max_rows', None, 'display.max_columns', None):\n",
    "    results = ee_results.results_df.agg([\"mean\", \"std\"])[[\"eval_accuracy\", \"test_accuracy\"]]\n",
    "    display(results)"
   ]
  },
  {
   "cell_type": "markdown",
   "id": "fc6c8cfe",
   "metadata": {},
   "source": [
    "Time taken:\n",
    "* 27 samples per second\n",
    "* train runtime 35692.84 = 9.9 hours"
   ]
  },
  {
   "cell_type": "markdown",
   "id": "b2a2a5fa",
   "metadata": {},
   "source": [
    "### From Raw Distilbert Embeddings"
   ]
  },
  {
   "cell_type": "code",
   "execution_count": 41,
   "id": "354b8fbc",
   "metadata": {},
   "outputs": [
    {
     "name": "stdout",
     "output_type": "stream",
     "text": [
      "Base dir /data/ddmg/redditlanguagemodeling/results/amazon_reviews/clf/from_embeds/train_all_my_user_split_from_distilbert_embeds: Found results for 3 seeds\n"
     ]
    }
   ],
   "source": [
    "base_result_dir = os.path.join(main_result_dir, \"from_embeds\", \"train_all_my_user_split_from_distilbert_embeds\")\n",
    "levels = [\"seed\"]\n",
    "db_results = ResultProcessor(base_result_dir, levels, verbose=True)"
   ]
  },
  {
   "cell_type": "code",
   "execution_count": 42,
   "id": "80f64275",
   "metadata": {},
   "outputs": [
    {
     "data": {
      "text/html": [
       "<div>\n",
       "<style scoped>\n",
       "    .dataframe tbody tr th:only-of-type {\n",
       "        vertical-align: middle;\n",
       "    }\n",
       "\n",
       "    .dataframe tbody tr th {\n",
       "        vertical-align: top;\n",
       "    }\n",
       "\n",
       "    .dataframe thead th {\n",
       "        text-align: right;\n",
       "    }\n",
       "</style>\n",
       "<table border=\"1\" class=\"dataframe\">\n",
       "  <thead>\n",
       "    <tr style=\"text-align: right;\">\n",
       "      <th></th>\n",
       "      <th>eval_accuracy</th>\n",
       "      <th>test_accuracy</th>\n",
       "    </tr>\n",
       "  </thead>\n",
       "  <tbody>\n",
       "    <tr>\n",
       "      <th>mean</th>\n",
       "      <td>0.635731</td>\n",
       "      <td>0.633213</td>\n",
       "    </tr>\n",
       "    <tr>\n",
       "      <th>std</th>\n",
       "      <td>0.003666</td>\n",
       "      <td>0.003768</td>\n",
       "    </tr>\n",
       "  </tbody>\n",
       "</table>\n",
       "</div>"
      ],
      "text/plain": [
       "      eval_accuracy  test_accuracy\n",
       "mean       0.635731       0.633213\n",
       "std        0.003666       0.003768"
      ]
     },
     "metadata": {},
     "output_type": "display_data"
    }
   ],
   "source": [
    "with pd.option_context('display.max_rows', None, 'display.max_columns', None):\n",
    "    results = db_results.results_df.agg([\"mean\", \"std\"])[[\"eval_accuracy\", \"test_accuracy\"]]\n",
    "    display(results)"
   ]
  },
  {
   "cell_type": "markdown",
   "id": "04cf4ae8",
   "metadata": {},
   "source": [
    "Time Taken:\n",
    "* 165 samples per second\n",
    "* train runtime 5889.83 = 1.6 hours"
   ]
  },
  {
   "cell_type": "markdown",
   "id": "4fd9d5cd",
   "metadata": {},
   "source": [
    "### With all layers frozen except for CLF"
   ]
  },
  {
   "cell_type": "code",
   "execution_count": 43,
   "id": "0e446263",
   "metadata": {},
   "outputs": [
    {
     "name": "stdout",
     "output_type": "stream",
     "text": [
      "Base dir /data/ddmg/redditlanguagemodeling/results/amazon_reviews/from_tokens/train_all_my_user_split_n_freeze_6: Found results for 3 seeds\n"
     ]
    }
   ],
   "source": [
    "base_result_dir = os.path.join(\"/data/ddmg/redditlanguagemodeling/results/amazon_reviews/from_tokens\", \"train_all_my_user_split_n_freeze_6\")\n",
    "levels = [\"seed\"]\n",
    "f6_results = ResultProcessor(base_result_dir, levels, verbose=True)"
   ]
  },
  {
   "cell_type": "code",
   "execution_count": 45,
   "id": "2948ecc3",
   "metadata": {},
   "outputs": [
    {
     "data": {
      "text/html": [
       "<div>\n",
       "<style scoped>\n",
       "    .dataframe tbody tr th:only-of-type {\n",
       "        vertical-align: middle;\n",
       "    }\n",
       "\n",
       "    .dataframe tbody tr th {\n",
       "        vertical-align: top;\n",
       "    }\n",
       "\n",
       "    .dataframe thead th {\n",
       "        text-align: right;\n",
       "    }\n",
       "</style>\n",
       "<table border=\"1\" class=\"dataframe\">\n",
       "  <thead>\n",
       "    <tr style=\"text-align: right;\">\n",
       "      <th></th>\n",
       "      <th>eval_accuracy</th>\n",
       "      <th>test_accuracy</th>\n",
       "    </tr>\n",
       "  </thead>\n",
       "  <tbody>\n",
       "    <tr>\n",
       "      <th>mean</th>\n",
       "      <td>0.660627</td>\n",
       "      <td>0.658550</td>\n",
       "    </tr>\n",
       "    <tr>\n",
       "      <th>std</th>\n",
       "      <td>0.002372</td>\n",
       "      <td>0.002662</td>\n",
       "    </tr>\n",
       "  </tbody>\n",
       "</table>\n",
       "</div>"
      ],
      "text/plain": [
       "      eval_accuracy  test_accuracy\n",
       "mean       0.660627       0.658550\n",
       "std        0.002372       0.002662"
      ]
     },
     "metadata": {},
     "output_type": "display_data"
    }
   ],
   "source": [
    "with pd.option_context('display.max_rows', None, 'display.max_columns', None):\n",
    "    results = f6_results.results_df.agg([\"mean\", \"std\"])[[\"eval_accuracy\", \"test_accuracy\"]]\n",
    "    display(results)"
   ]
  },
  {
   "cell_type": "markdown",
   "id": "47f71a34",
   "metadata": {},
   "source": [
    "Time taken:\n",
    "* 22.33 samples per second\n",
    "* train runtime 43423 = 12 hours"
   ]
  },
  {
   "cell_type": "markdown",
   "id": "bf23f07e",
   "metadata": {},
   "source": [
    "### From Pre-Trained Distilbert Embeddings (trained on CLF task)"
   ]
  },
  {
   "cell_type": "code",
   "execution_count": null,
   "id": "7d6977ca",
   "metadata": {},
   "outputs": [],
   "source": [
    "base_result_dir = os.path.join(main_result_dir, \"from_embeds\", \"train_all_my_user_split_from_my_user_split_clf_embeddings\")\n",
    "levels = [\"seed\"]\n",
    "db_results = ResultProcessor(base_result_dir, levels, verbose=True)"
   ]
  },
  {
   "cell_type": "markdown",
   "id": "f60a8647",
   "metadata": {},
   "source": [
    "## Wilds User Split"
   ]
  },
  {
   "cell_type": "code",
   "execution_count": 13,
   "id": "91ef93a2",
   "metadata": {},
   "outputs": [
    {
     "name": "stdout",
     "output_type": "stream",
     "text": [
      "Base dir /data/ddmg/redditlanguagemodeling/results/amazon_reviews/from_tokens/train_all_user_split_redo: Found results for 2 seeds\n"
     ]
    }
   ],
   "source": [
    "base_result_dir = os.path.join(\"/data/ddmg/redditlanguagemodeling/results/amazon_reviews/from_tokens\", \"train_all_user_split_redo\")\n",
    "levels = [\"seed\"]\n",
    "_results = ResultProcessor(base_result_dir, levels, verbose=True)"
   ]
  },
  {
   "cell_type": "code",
   "execution_count": 19,
   "id": "50d67baa",
   "metadata": {},
   "outputs": [
    {
     "data": {
      "text/html": [
       "<div>\n",
       "<style scoped>\n",
       "    .dataframe tbody tr th:only-of-type {\n",
       "        vertical-align: middle;\n",
       "    }\n",
       "\n",
       "    .dataframe tbody tr th {\n",
       "        vertical-align: top;\n",
       "    }\n",
       "\n",
       "    .dataframe thead th {\n",
       "        text-align: right;\n",
       "    }\n",
       "</style>\n",
       "<table border=\"1\" class=\"dataframe\">\n",
       "  <thead>\n",
       "    <tr style=\"text-align: right;\">\n",
       "      <th></th>\n",
       "      <th>eval_accuracy</th>\n",
       "      <th>test_accuracy</th>\n",
       "    </tr>\n",
       "  </thead>\n",
       "  <tbody>\n",
       "    <tr>\n",
       "      <th>mean</th>\n",
       "      <td>0.714863</td>\n",
       "      <td>0.706447</td>\n",
       "    </tr>\n",
       "    <tr>\n",
       "      <th>std</th>\n",
       "      <td>NaN</td>\n",
       "      <td>NaN</td>\n",
       "    </tr>\n",
       "  </tbody>\n",
       "</table>\n",
       "</div>"
      ],
      "text/plain": [
       "      eval_accuracy  test_accuracy\n",
       "mean       0.714863       0.706447\n",
       "std             NaN            NaN"
      ]
     },
     "metadata": {},
     "output_type": "display_data"
    }
   ],
   "source": [
    "with pd.option_context('display.max_rows', None, 'display.max_columns', None):\n",
    "    results = _results.results_df.agg([\"mean\", \"std\"])[[\"eval_accuracy\", \"test_accuracy\"]]\n",
    "    display(results)"
   ]
  }
 ],
 "metadata": {
  "kernelspec": {
   "display_name": "Python 3",
   "language": "python",
   "name": "python3"
  },
  "language_info": {
   "codemirror_mode": {
    "name": "ipython",
    "version": 3
   },
   "file_extension": ".py",
   "mimetype": "text/x-python",
   "name": "python",
   "nbconvert_exporter": "python",
   "pygments_lexer": "ipython3",
   "version": "3.8.10"
  }
 },
 "nbformat": 4,
 "nbformat_minor": 5
}
