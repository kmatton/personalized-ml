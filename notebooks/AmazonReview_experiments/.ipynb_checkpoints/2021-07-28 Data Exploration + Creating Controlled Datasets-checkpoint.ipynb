{
 "cells": [
  {
   "cell_type": "code",
   "execution_count": 1,
   "id": "790cf2e5",
   "metadata": {},
   "outputs": [],
   "source": [
    "%load_ext autoreload\n",
    "%autoreload 2"
   ]
  },
  {
   "cell_type": "code",
   "execution_count": 2,
   "id": "94b5651e",
   "metadata": {},
   "outputs": [],
   "source": [
    "import csv\n",
    "import os\n",
    "import numpy as np\n",
    "import pandas as pd\n",
    "import seaborn as sns\n",
    "sns.set_theme()"
   ]
  },
  {
   "cell_type": "code",
   "execution_count": 3,
   "id": "3524df07",
   "metadata": {},
   "outputs": [],
   "source": [
    "data_dir = \"/data/ddmg/redditlanguagemodeling/data/AmazonReviews/data\""
   ]
  },
  {
   "cell_type": "code",
   "execution_count": 6,
   "id": "0f9b8312",
   "metadata": {},
   "outputs": [],
   "source": [
    "data_df = pd.read_csv(os.path.join(data_dir, 'amazon_v2.0/reviews.csv'),\n",
    "                      dtype={'reviewerID':str, 'asin':str, 'reviewTime':str,'unixReviewTime':int,\n",
    "                             'reviewText':str,'summary':str,'verified':bool,'category':str, 'reviewYear':int},\n",
    "                      keep_default_na=False, na_values=[], quoting=csv.QUOTE_NONNUMERIC)"
   ]
  },
  {
   "cell_type": "code",
   "execution_count": 4,
   "id": "2b211abd",
   "metadata": {},
   "outputs": [],
   "source": [
    "split_df = pd.read_csv(os.path.join(data_dir, 'amazon_v2.0', 'splits', 'user.csv'))"
   ]
  },
  {
   "cell_type": "code",
   "execution_count": 7,
   "id": "a13ec804",
   "metadata": {},
   "outputs": [],
   "source": [
    "clean_df = data_df[split_df[\"clean\"]]"
   ]
  },
  {
   "cell_type": "markdown",
   "id": "72499a74",
   "metadata": {},
   "source": [
    "## Generate Covariate Shift Data"
   ]
  },
  {
   "cell_type": "markdown",
   "id": "da744d6d",
   "metadata": {},
   "source": [
    "### Fully Simulated"
   ]
  },
  {
   "cell_type": "code",
   "execution_count": 11,
   "id": "8e3b9c2a",
   "metadata": {},
   "outputs": [],
   "source": [
    "# from LEAF benchmark\n",
    "\n",
    "class LeafSyntheticDataset:\n",
    "    def __init__(self, num_classes, num_dim, prob_clusters, seed=42):\n",
    "        \n",
    "        np.random.seed(seed)\n",
    "        self.num_classes = num_classes\n",
    "        self.num_dim = num_dim\n",
    "        self.num_clusters = len(prob_clusters)\n",
    "        self.prob_clusters = prob_clusters\n",
    "        self.Q = np.random.normal(loc=0.0, scale=1.0, size=(self.num_dim + 1, self.num_classes, self.num_clusters))\n",
    "        self.Sigma = np.zeros((self.num_dim, self.num_dim))\n",
    "        for i in range(self.num_dim):\n",
    "            self.Sigma[i, i] = (i + 1)**(-1.2)\n",
    "        \n",
    "        self.means = self._generate_clusters()\n",
    "    \n",
    "    def get_task(self, num_samples):\n",
    "        cluster_idx = np.random.choice(\n",
    "            range(self.num_clusters), size=None, replace=True, p=self.prob_clusters\n",
    "        )\n",
    "        new_task = self._generate_task(self.means[cluster_idx], cluster_idx, num_samples)\n",
    "        return new_task\n",
    "        \n",
    "    def _generate_clusters(self):\n",
    "        means = []\n",
    "        for i in range(self.num_clusters):\n",
    "            loc = np.random.normal(loc=0, scale=1, size=None)\n",
    "            mu = np.random.normal(loc=loc, scale=1, size=self.num_clusters)\n",
    "            means.append(mu)\n",
    "        return means\n",
    "    \n",
    "    def _generate_x(self, num_samples):\n",
    "        B = np.random.normal(loc=0, scale=1, size=None)\n",
    "        loc = np.random.normal(loc=B, scale=1, size=self.num_dim)\n",
    "        samples = np.ones((num_samples, self.num_dim + 1))\n",
    "        samples[:, 1:] = np.random.multivariate_normal(mean=loc, cov=self.Sigma, size=num_samples)\n",
    "        return samples\n",
    "    \n",
    "    def _generate_y(self, x, cluster_mean):\n",
    "        model_info = np.random.normal(loc=cluster_mean, scale=0.1, size=cluster_mean.shape)\n",
    "        w = np.matmul(self.Q, model_info)\n",
    "        num_samples = x.shape[0]\n",
    "        prob = softmax(np.matmul(x, w) + np.random.normal(loc=0, scale=0.1, size=(num_samples, self.num_classes)), axis=1)\n",
    "        y = np.argmax(prob, axis=1)\n",
    "        return y, w, model_info\n",
    "    \n",
    "    def _generate_task(self, cluster_mean, cluster_id, num_samples):\n",
    "        x = self._generate_x(num_samples)\n",
    "        y, w, model_info = self._gerenate_y(x, cluster_mean)\n",
    "        # remove bias coeff\n",
    "        x = x[:, 1]\n",
    "        return {'x': x, 'y': y, 'w': w, 'model_info': model_info, 'cluster': cluster_id}\n",
    "        "
   ]
  },
  {
   "cell_type": "code",
   "execution_count": null,
   "id": "83c4ba02",
   "metadata": {},
   "outputs": [],
   "source": [
    "class SyntheticCovariateShift:\n",
    "    def __init__(self, num_classes, num_dim, probl_clusters, seed=42):\n",
    "        np.random.seed(seed)\n",
    "        self.num_classes = num_classes\n",
    "        self.num_dim = num_dim\n",
    "        self.num_clusters = len(prob_clusters)\n",
    "        self.prob_clusters = prob_clusters\n",
    "        self.means = self._generate_clusters()\n",
    "        self.w = np.random.normal(loc=0, scale=1, size=(self.num_dim + 1, self.num_classes))\n",
    "    \n",
    "    def get_task(self, num_samples):\n",
    "        cluster_idx = np.random.choice(\n",
    "            range(self.num_clusters), size=None, replace=True, p=self.prob_clusters\n",
    "        )\n",
    "        new_task = self._generate_task(self.means[cluster_idx], cluster_idx, num_samples)\n",
    "\n",
    "    def _generate_clusters(self):\n",
    "        means = []\n",
    "        for i in range(self.num_clusters):\n",
    "            loc = np.random.normal(loc=0, scale=1, size=None)\n",
    "            mu = np.random.normal(loc=loc, scale=1, size=self.num_dim)\n",
    "            means.append(mu)\n",
    "        return means\n",
    "    \n",
    "    def _generate_x(self, num_samples, cluster_mean):\n",
    "        loc = cluster_mean\n",
    "        samples = np.ones((num_samples, self.num_dim + 1))\n",
    "        samples[:, 1:] = np.random.multivariate_normal(mean=loc, cov=np.eye(self.num_dim + 1), size=num_samples)\n",
    "        return samples\n",
    "    \n",
    "    def _generate_y(self, x):\n",
    "        prob = softmax(np.matmul(x, w) + np.random.normal(loc=0, scale=0.1, size=(num_samples, self.num_classes)), axis=1)\n",
    "        y = np.argmax(prob, axis=1)\n",
    "        return y\n",
    "        \n",
    "    def _generate_task(self, cluster_mean, cluster_id, num_samples):\n",
    "        x = self._generate_x(num_samples, cluster_mean)\n",
    "        y = self._generate_y(x)\n",
    "        # remove bias coeff\n",
    "        x = x[:, 1]\n",
    "        return {'x': x, 'y': y, 'cluster': cluster_id}"
   ]
  },
  {
   "cell_type": "code",
   "execution_count": null,
   "id": "c6e78c46",
   "metadata": {},
   "outputs": [],
   "source": [
    "def gen_sim_data_leaf(num_tasks, )"
   ]
  }
 ],
 "metadata": {
  "kernelspec": {
   "display_name": "Python 3",
   "language": "python",
   "name": "python3"
  },
  "language_info": {
   "codemirror_mode": {
    "name": "ipython",
    "version": 3
   },
   "file_extension": ".py",
   "mimetype": "text/x-python",
   "name": "python",
   "nbconvert_exporter": "python",
   "pygments_lexer": "ipython3",
   "version": "3.8.10"
  }
 },
 "nbformat": 4,
 "nbformat_minor": 5
}
