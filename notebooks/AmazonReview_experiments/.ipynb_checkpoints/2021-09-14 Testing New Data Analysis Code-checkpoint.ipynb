{
 "cells": [
  {
   "cell_type": "code",
   "execution_count": 1,
   "id": "57a145b7",
   "metadata": {},
   "outputs": [],
   "source": [
    "%load_ext autoreload\n",
    "%autoreload 2"
   ]
  },
  {
   "cell_type": "code",
   "execution_count": 25,
   "id": "0fcd0774",
   "metadata": {},
   "outputs": [],
   "source": [
    "import sys\n",
    "sys.path.append('../../src/generic')\n",
    "import csv\n",
    "import os\n",
    "import numpy as np\n",
    "import pandas as pd\n",
    "import seaborn as sns\n",
    "sns.set_theme()\n",
    "from sklearn.metrics import log_loss\n",
    "\n",
    "from datasets import load_from_disk"
   ]
  },
  {
   "cell_type": "code",
   "execution_count": 5,
   "id": "5d55463f",
   "metadata": {},
   "outputs": [],
   "source": [
    "from results.analyze_data import load_amazon_data"
   ]
  },
  {
   "cell_type": "markdown",
   "id": "118ec80d",
   "metadata": {},
   "source": [
    "## Load Data + Test Data Analysis Code"
   ]
  },
  {
   "cell_type": "markdown",
   "id": "f2edd14a",
   "metadata": {},
   "source": [
    "Note: I don't really have any demographic/attribute info for each user unfortunately\n",
    "\n",
    "So the question of how to incorporate this auxillary information may be better answered with another dataset."
   ]
  },
  {
   "cell_type": "code",
   "execution_count": 15,
   "id": "526b273d",
   "metadata": {},
   "outputs": [],
   "source": [
    "data_dir=\"/data/ddmg/redditlanguagemodeling/data/AmazonReviews/data\"\n",
    "data_path='amazon_v2.0/reviews.csv'\n",
    "split_file_name=\"my_user_split.csv\"\n",
    "target_people_file=\"/data/ddmg/redditlanguagemodeling/results/amazon_reviews/clf/from_embeds/person_specific_my_split_n_500/selected_people.txt\"\n",
    "embeddings_path=\"/data/ddmg/redditlanguagemodeling/data/AmazonReviews/data/amazon_v2.0/embeddings/my_user_split_clf_post_embeddings/\"\n",
    "train_split_num=0\n",
    "val_split_num=1\n",
    "test_split_num=2"
   ]
  },
  {
   "cell_type": "code",
   "execution_count": 24,
   "id": "03c82d2f",
   "metadata": {},
   "outputs": [],
   "source": [
    "data_df = pd.read_csv(os.path.join(data_dir, data_path),\n",
    "                      dtype={'reviewerID': str, 'asin': str, 'reviewTime': str, 'unixReviewTime': int,\n",
    "                             'reviewText': str, 'summary': str, 'verified': bool, 'category': str,\n",
    "                             'reviewYear': int},\n",
    "                      keep_default_na=False, na_values=[], quoting=csv.QUOTE_NONNUMERIC)\n",
    "data_df = data_df.rename(columns={\"reviewerID\": \"user\", \"overall\": \"review_score\"})\n",
    "split_df = pd.read_csv(os.path.join(data_dir, 'amazon_v2.0', 'splits', split_file_name))\n",
    "data_df[\"split\"] = split_df[\"split\"]\n",
    "data_df = data_df[data_df[\"split\"] != -1]\n",
    "train_df = data_df[data_df[\"split\"] == train_split_num]\n",
    "val_df = data_df[data_df[\"split\"] == val_split_num]\n",
    "test_df = data_df[data_df[\"split\"] == test_split_num]"
   ]
  },
  {
   "cell_type": "code",
   "execution_count": 19,
   "id": "13c40158",
   "metadata": {},
   "outputs": [],
   "source": [
    "# read embeddings from embeddings directory\n",
    "train_embeds = np.load(os.path.join(embeddings_path, \"train_my_user_split_split\", \"embeddings.npy\"), allow_pickle=True)"
   ]
  },
  {
   "cell_type": "code",
   "execution_count": 20,
   "id": "45477d66",
   "metadata": {},
   "outputs": [],
   "source": [
    "val_embeds = np.load(os.path.join(embeddings_path, \"val_my_user_split_split\", \"embeddings.npy\"), allow_pickle=True)\n",
    "test_embeds = np.load(os.path.join(embeddings_path, \"test_my_user_split_split\", \"embeddings.npy\"), allow_pickle=True)"
   ]
  },
  {
   "cell_type": "code",
   "execution_count": null,
   "id": "9c3d4736",
   "metadata": {},
   "outputs": [],
   "source": [
    "# embeddings from preprocessed dataset\n",
    "# preprocessed path\n",
    "preprocessed_path = \"/data/ddmg/redditlanguagemodeling/data/AmazonReviews/data/amazon_v2.0/amazon_reviews_clf_processed_with_user_split_embeds\""
   ]
  },
  {
   "cell_type": "code",
   "execution_count": 21,
   "id": "46cbf19e",
   "metadata": {},
   "outputs": [
    {
     "data": {
      "text/plain": [
       "43555"
      ]
     },
     "execution_count": 21,
     "metadata": {},
     "output_type": "execute_result"
    }
   ],
   "source": [
    "len(train_df)"
   ]
  },
  {
   "cell_type": "code",
   "execution_count": 6,
   "id": "7ad8618d",
   "metadata": {},
   "outputs": [],
   "source": [
    "data_df, train_df, val_df, test_df = load_amazon_data()"
   ]
  },
  {
   "cell_type": "code",
   "execution_count": 7,
   "id": "24c7147b",
   "metadata": {},
   "outputs": [
    {
     "data": {
      "text/plain": [
       "72709"
      ]
     },
     "execution_count": 7,
     "metadata": {},
     "output_type": "execute_result"
    }
   ],
   "source": [
    "len(data_df)"
   ]
  },
  {
   "cell_type": "code",
   "execution_count": 8,
   "id": "70a3e134",
   "metadata": {},
   "outputs": [
    {
     "data": {
      "text/plain": [
       "43555"
      ]
     },
     "execution_count": 8,
     "metadata": {},
     "output_type": "execute_result"
    }
   ],
   "source": [
    "len(train_df)"
   ]
  },
  {
   "cell_type": "code",
   "execution_count": 9,
   "id": "b87d6078",
   "metadata": {},
   "outputs": [
    {
     "data": {
      "text/plain": [
       "14467"
      ]
     },
     "execution_count": 9,
     "metadata": {},
     "output_type": "execute_result"
    }
   ],
   "source": [
    "len(val_df)"
   ]
  },
  {
   "cell_type": "code",
   "execution_count": 10,
   "id": "044c4348",
   "metadata": {},
   "outputs": [
    {
     "data": {
      "text/plain": [
       "14687"
      ]
     },
     "execution_count": 10,
     "metadata": {},
     "output_type": "execute_result"
    }
   ],
   "source": [
    "len(test_df)"
   ]
  },
  {
   "cell_type": "code",
   "execution_count": 12,
   "id": "8acf2a0e",
   "metadata": {},
   "outputs": [],
   "source": [
    "review_counts_by_user = data_df[[\"reviewerID\", \"overall\"]].groupby([\"reviewerID\"]).count()"
   ]
  },
  {
   "cell_type": "code",
   "execution_count": 13,
   "id": "4404a1e5",
   "metadata": {},
   "outputs": [
    {
     "data": {
      "text/html": [
       "<div>\n",
       "<style scoped>\n",
       "    .dataframe tbody tr th:only-of-type {\n",
       "        vertical-align: middle;\n",
       "    }\n",
       "\n",
       "    .dataframe tbody tr th {\n",
       "        vertical-align: top;\n",
       "    }\n",
       "\n",
       "    .dataframe thead th {\n",
       "        text-align: right;\n",
       "    }\n",
       "</style>\n",
       "<table border=\"1\" class=\"dataframe\">\n",
       "  <thead>\n",
       "    <tr style=\"text-align: right;\">\n",
       "      <th></th>\n",
       "      <th>overall</th>\n",
       "    </tr>\n",
       "    <tr>\n",
       "      <th>reviewerID</th>\n",
       "      <th></th>\n",
       "    </tr>\n",
       "  </thead>\n",
       "  <tbody>\n",
       "    <tr>\n",
       "      <th>A101S5PLO0VRHQ</th>\n",
       "      <td>172</td>\n",
       "    </tr>\n",
       "    <tr>\n",
       "      <th>A10E0V7PGY34UZ</th>\n",
       "      <td>75</td>\n",
       "    </tr>\n",
       "    <tr>\n",
       "      <th>A10O7THJ2O20AG</th>\n",
       "      <td>75</td>\n",
       "    </tr>\n",
       "    <tr>\n",
       "      <th>A11P853U6FIKAM</th>\n",
       "      <td>278</td>\n",
       "    </tr>\n",
       "    <tr>\n",
       "      <th>A12O5K3EQ4MC7Z</th>\n",
       "      <td>249</td>\n",
       "    </tr>\n",
       "    <tr>\n",
       "      <th>...</th>\n",
       "      <td>...</td>\n",
       "    </tr>\n",
       "    <tr>\n",
       "      <th>AYT4FJYVCHYLE</th>\n",
       "      <td>75</td>\n",
       "    </tr>\n",
       "    <tr>\n",
       "      <th>AYVW3O6W8S5S4</th>\n",
       "      <td>75</td>\n",
       "    </tr>\n",
       "    <tr>\n",
       "      <th>AZD488SA9QMYF</th>\n",
       "      <td>75</td>\n",
       "    </tr>\n",
       "    <tr>\n",
       "      <th>AZJ4DFLH9O4FZ</th>\n",
       "      <td>75</td>\n",
       "    </tr>\n",
       "    <tr>\n",
       "      <th>AZZV9PDNMCOZW</th>\n",
       "      <td>75</td>\n",
       "    </tr>\n",
       "  </tbody>\n",
       "</table>\n",
       "<p>500 rows × 1 columns</p>\n",
       "</div>"
      ],
      "text/plain": [
       "                overall\n",
       "reviewerID             \n",
       "A101S5PLO0VRHQ      172\n",
       "A10E0V7PGY34UZ       75\n",
       "A10O7THJ2O20AG       75\n",
       "A11P853U6FIKAM      278\n",
       "A12O5K3EQ4MC7Z      249\n",
       "...                 ...\n",
       "AYT4FJYVCHYLE        75\n",
       "AYVW3O6W8S5S4        75\n",
       "AZD488SA9QMYF        75\n",
       "AZJ4DFLH9O4FZ        75\n",
       "AZZV9PDNMCOZW        75\n",
       "\n",
       "[500 rows x 1 columns]"
      ]
     },
     "execution_count": 13,
     "metadata": {},
     "output_type": "execute_result"
    }
   ],
   "source": [
    "review_counts_by_user"
   ]
  },
  {
   "cell_type": "code",
   "execution_count": null,
   "id": "752930c7",
   "metadata": {},
   "outputs": [],
   "source": [
    "# check embeddings\n"
   ]
  }
 ],
 "metadata": {
  "kernelspec": {
   "display_name": "Python 3",
   "language": "python",
   "name": "python3"
  },
  "language_info": {
   "codemirror_mode": {
    "name": "ipython",
    "version": 3
   },
   "file_extension": ".py",
   "mimetype": "text/x-python",
   "name": "python",
   "nbconvert_exporter": "python",
   "pygments_lexer": "ipython3",
   "version": "3.8.10"
  }
 },
 "nbformat": 4,
 "nbformat_minor": 5
}
