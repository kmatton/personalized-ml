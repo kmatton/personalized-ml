{
 "cells": [
  {
   "cell_type": "code",
   "execution_count": 1,
   "id": "a0eaaea4",
   "metadata": {},
   "outputs": [],
   "source": [
    "%load_ext autoreload\n",
    "%autoreload 2"
   ]
  },
  {
   "cell_type": "code",
   "execution_count": 2,
   "id": "366985e1",
   "metadata": {},
   "outputs": [],
   "source": [
    "import sys\n",
    "sys.path.append('../../src/generic')\n",
    "import csv\n",
    "import os\n",
    "import numpy as np\n",
    "import pandas as pd\n",
    "import seaborn as sns\n",
    "sns.set_theme()\n",
    "from tqdm import tqdm"
   ]
  },
  {
   "cell_type": "code",
   "execution_count": 3,
   "id": "a8e121fa",
   "metadata": {},
   "outputs": [],
   "source": [
    "os.environ[\"CUDA_VISIBLE_DEVICES\"] = \"0,1,2,3\"\n",
    "import torch\n",
    "assert torch.cuda.is_available(), \"selected gpus, but cuda not available\""
   ]
  },
  {
   "cell_type": "code",
   "execution_count": 4,
   "id": "8162e4e3",
   "metadata": {},
   "outputs": [],
   "source": [
    "from dataset.amazon_reviews_clf_dataset import AmazonClfDataset"
   ]
  },
  {
   "cell_type": "code",
   "execution_count": 5,
   "id": "dc57a3e8",
   "metadata": {},
   "outputs": [],
   "source": [
    "data_kwargs = dict(\n",
    "    data_dir=\"/data/ddmg/redditlanguagemodeling/data/AmazonReviews/data/amazon_v2.0/\",\n",
    "    raw_data_file=\"reviews.csv\",\n",
    "    tokenizer_name=\"distilbert-base-uncased\",\n",
    "    tokenizer_cache_dir=\"/data/ddmg/redditlanguagemodeling/cached/distilbert\",\n",
    "    split_file=\"my_user_split.csv\",\n",
    "    processed_data_dir=\"amazon_reviews_clf_processed_with_user_split_embeds\",\n",
    ")"
   ]
  },
  {
   "cell_type": "code",
   "execution_count": 6,
   "id": "57e0ef02",
   "metadata": {},
   "outputs": [
    {
     "name": "stdout",
     "output_type": "stream",
     "text": [
      "loading processed data from /data/ddmg/redditlanguagemodeling/data/AmazonReviews/data/amazon_v2.0/amazon_reviews_clf_processed_with_user_split_embeds\n"
     ]
    }
   ],
   "source": [
    "dataset = AmazonClfDataset(**data_kwargs)"
   ]
  },
  {
   "cell_type": "code",
   "execution_count": 7,
   "id": "03d42eb8",
   "metadata": {},
   "outputs": [],
   "source": [
    "# how many samples to generate predictions for??? 500? 1,000?\n",
    "# evenly sample across different attributes of dataset --> product category, month, day of week, etc.?\n",
    "# --> start with random 500 and see what you get\n",
    "select_samples = np.random.choice(np.arange(len(dataset.train_data)), 500, replace=False)"
   ]
  },
  {
   "cell_type": "code",
   "execution_count": 8,
   "id": "6110e1ab",
   "metadata": {},
   "outputs": [],
   "source": [
    "select_train = dataset.train_data.select(select_samples)"
   ]
  },
  {
   "cell_type": "code",
   "execution_count": 9,
   "id": "bce75398",
   "metadata": {},
   "outputs": [
    {
     "data": {
      "text/plain": [
       "Dataset({\n",
       "    features: ['__index_level_0__', 'asin', 'attention_mask', 'category', 'input_ids', 'labels', 'reviewTime', 'reviewYear', 'sample_id', 'split', 'summary', 'text', 'unixReviewTime', 'user', 'verified', 'embeddings'],\n",
       "    num_rows: 500\n",
       "})"
      ]
     },
     "execution_count": 9,
     "metadata": {},
     "output_type": "execute_result"
    }
   ],
   "source": [
    "select_train"
   ]
  },
  {
   "cell_type": "code",
   "execution_count": 10,
   "id": "82cc16ae",
   "metadata": {},
   "outputs": [],
   "source": [
    "# make this test data of new dataset\n",
    "dataset.test_data = select_train"
   ]
  },
  {
   "cell_type": "code",
   "execution_count": 11,
   "id": "ac7be107",
   "metadata": {},
   "outputs": [
    {
     "name": "stdout",
     "output_type": "stream",
     "text": [
      "saving dataset to amazon_reviews_data_for_concept_shift_preds\n"
     ]
    }
   ],
   "source": [
    "# save data\n",
    "save_path = \"/data/ddmg/redditlanguagemodeling/data/AmazonReviews/data/amazon_v2.0/amazon_reviews_data_for_concept_shift_preds\"\n",
    "dataset.save_data(save_path)"
   ]
  }
 ],
 "metadata": {
  "kernelspec": {
   "display_name": "Python 3",
   "language": "python",
   "name": "python3"
  },
  "language_info": {
   "codemirror_mode": {
    "name": "ipython",
    "version": 3
   },
   "file_extension": ".py",
   "mimetype": "text/x-python",
   "name": "python",
   "nbconvert_exporter": "python",
   "pygments_lexer": "ipython3",
   "version": "3.8.10"
  }
 },
 "nbformat": 4,
 "nbformat_minor": 5
}
