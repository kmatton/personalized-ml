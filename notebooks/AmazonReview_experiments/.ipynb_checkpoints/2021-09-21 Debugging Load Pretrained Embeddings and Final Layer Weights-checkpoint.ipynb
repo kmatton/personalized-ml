{
 "cells": [
  {
   "cell_type": "code",
   "execution_count": 1,
   "id": "aef488e4",
   "metadata": {},
   "outputs": [],
   "source": [
    "%load_ext autoreload\n",
    "%autoreload 2"
   ]
  },
  {
   "cell_type": "code",
   "execution_count": 2,
   "id": "adc112bc",
   "metadata": {},
   "outputs": [],
   "source": [
    "import sys\n",
    "sys.path.append('../../src/generic')\n",
    "import csv\n",
    "import os\n",
    "import numpy as np\n",
    "import pandas as pd\n",
    "import seaborn as sns\n",
    "sns.set_theme()\n",
    "from sklearn.metrics import log_loss"
   ]
  },
  {
   "cell_type": "code",
   "execution_count": 3,
   "id": "3e193cbb",
   "metadata": {},
   "outputs": [],
   "source": [
    "from dataset.amazon_reviews_clf_dataset import AmazonClfDataset\n",
    "from results.process_results import ResultProcessor"
   ]
  },
  {
   "cell_type": "code",
   "execution_count": 4,
   "id": "c0e0c9e5",
   "metadata": {},
   "outputs": [],
   "source": [
    "debug_result_dir = \"/data/ddmg/redditlanguagemodeling/results/amazon_reviews/debug/wilds_subpop_user_split\""
   ]
  },
  {
   "cell_type": "code",
   "execution_count": 10,
   "id": "ac60a6c5",
   "metadata": {},
   "outputs": [],
   "source": [
    "main_result_dir = \"/data/ddmg/redditlanguagemodeling/results/amazon_reviews/clf/wilds_subpop_user_split\""
   ]
  },
  {
   "cell_type": "markdown",
   "id": "6da9de21",
   "metadata": {},
   "source": [
    "## Full Pre-trained model on debug data"
   ]
  },
  {
   "cell_type": "code",
   "execution_count": 5,
   "id": "f18cd46b",
   "metadata": {},
   "outputs": [
    {
     "name": "stdout",
     "output_type": "stream",
     "text": [
      "Base dir /data/ddmg/redditlanguagemodeling/results/amazon_reviews/debug/wilds_subpop_user_split/eval_global_model_my_trainer: Found results for 1 seeds\n"
     ]
    }
   ],
   "source": [
    "base_result_dir = os.path.join(main_result_dir, \"eval_global_model_my_trainer\")\n",
    "levels = [\"seed\"]\n",
    "fm_results = ResultProcessor(base_result_dir, levels, verbose=True)"
   ]
  },
  {
   "cell_type": "code",
   "execution_count": 6,
   "id": "7500a10c",
   "metadata": {},
   "outputs": [
    {
     "data": {
      "text/html": [
       "<div>\n",
       "<style scoped>\n",
       "    .dataframe tbody tr th:only-of-type {\n",
       "        vertical-align: middle;\n",
       "    }\n",
       "\n",
       "    .dataframe tbody tr th {\n",
       "        vertical-align: top;\n",
       "    }\n",
       "\n",
       "    .dataframe thead th {\n",
       "        text-align: right;\n",
       "    }\n",
       "</style>\n",
       "<table border=\"1\" class=\"dataframe\">\n",
       "  <thead>\n",
       "    <tr style=\"text-align: right;\">\n",
       "      <th></th>\n",
       "      <th>test_loss</th>\n",
       "      <th>test_accuracy</th>\n",
       "    </tr>\n",
       "  </thead>\n",
       "  <tbody>\n",
       "    <tr>\n",
       "      <th>0</th>\n",
       "      <td>0.922668</td>\n",
       "      <td>0.588267</td>\n",
       "    </tr>\n",
       "  </tbody>\n",
       "</table>\n",
       "</div>"
      ],
      "text/plain": [
       "   test_loss  test_accuracy\n",
       "0   0.922668       0.588267"
      ]
     },
     "execution_count": 6,
     "metadata": {},
     "output_type": "execute_result"
    }
   ],
   "source": [
    "fm_results.results_df[[\"test_loss\", \"test_accuracy\"]]"
   ]
  },
  {
   "cell_type": "markdown",
   "id": "b7d2a811",
   "metadata": {},
   "source": [
    "## Pre-trained embeddings + final layers on debug data"
   ]
  },
  {
   "cell_type": "code",
   "execution_count": 7,
   "id": "c49fe78f",
   "metadata": {},
   "outputs": [
    {
     "name": "stdout",
     "output_type": "stream",
     "text": [
      "Base dir /data/ddmg/redditlanguagemodeling/results/amazon_reviews/debug/wilds_subpop_user_split/eval_global_model_embed_final_layers_separate: Found results for 1 seeds\n"
     ]
    }
   ],
   "source": [
    "base_result_dir = os.path.join(main_result_dir, \"eval_global_model_embed_final_layers_separate\")\n",
    "levels = [\"seed\"]\n",
    "pt_results = ResultProcessor(base_result_dir, levels, verbose=True)"
   ]
  },
  {
   "cell_type": "code",
   "execution_count": 8,
   "id": "52f4ae9f",
   "metadata": {},
   "outputs": [
    {
     "data": {
      "text/html": [
       "<div>\n",
       "<style scoped>\n",
       "    .dataframe tbody tr th:only-of-type {\n",
       "        vertical-align: middle;\n",
       "    }\n",
       "\n",
       "    .dataframe tbody tr th {\n",
       "        vertical-align: top;\n",
       "    }\n",
       "\n",
       "    .dataframe thead th {\n",
       "        text-align: right;\n",
       "    }\n",
       "</style>\n",
       "<table border=\"1\" class=\"dataframe\">\n",
       "  <thead>\n",
       "    <tr style=\"text-align: right;\">\n",
       "      <th></th>\n",
       "      <th>test_loss</th>\n",
       "      <th>test_accuracy</th>\n",
       "    </tr>\n",
       "  </thead>\n",
       "  <tbody>\n",
       "    <tr>\n",
       "      <th>0</th>\n",
       "      <td>0.922668</td>\n",
       "      <td>0.588267</td>\n",
       "    </tr>\n",
       "  </tbody>\n",
       "</table>\n",
       "</div>"
      ],
      "text/plain": [
       "   test_loss  test_accuracy\n",
       "0   0.922668       0.588267"
      ]
     },
     "execution_count": 8,
     "metadata": {},
     "output_type": "execute_result"
    }
   ],
   "source": [
    "pt_results.results_df[[\"test_loss\", \"test_accuracy\"]]"
   ]
  },
  {
   "cell_type": "markdown",
   "id": "37807178",
   "metadata": {},
   "source": [
    "## Full Pre-trained model on all full wilds subpop shift dataset"
   ]
  },
  {
   "cell_type": "code",
   "execution_count": 11,
   "id": "dab985eb",
   "metadata": {},
   "outputs": [
    {
     "name": "stdout",
     "output_type": "stream",
     "text": [
      "Base dir /data/ddmg/redditlanguagemodeling/results/amazon_reviews/clf/wilds_subpop_user_split/eval_global_model: Found results for 3 train_seeds\n",
      "Base dir /data/ddmg/redditlanguagemodeling/results/amazon_reviews/clf/wilds_subpop_user_split/eval_global_model/42: Found results for 1 eval_seeds\n",
      "Base dir /data/ddmg/redditlanguagemodeling/results/amazon_reviews/clf/wilds_subpop_user_split/eval_global_model/44: Found results for 1 eval_seeds\n",
      "Base dir /data/ddmg/redditlanguagemodeling/results/amazon_reviews/clf/wilds_subpop_user_split/eval_global_model/43: Found results for 1 eval_seeds\n"
     ]
    }
   ],
   "source": [
    "base_result_dir = os.path.join(main_result_dir, \"eval_global_model\")\n",
    "levels = [\"train_seed\", \"eval_seed\"]\n",
    "global_results = ResultProcessor(base_result_dir, levels, verbose=True)"
   ]
  },
  {
   "cell_type": "code",
   "execution_count": 12,
   "id": "2da04d02",
   "metadata": {},
   "outputs": [
    {
     "data": {
      "text/html": [
       "<div>\n",
       "<style scoped>\n",
       "    .dataframe tbody tr th:only-of-type {\n",
       "        vertical-align: middle;\n",
       "    }\n",
       "\n",
       "    .dataframe tbody tr th {\n",
       "        vertical-align: top;\n",
       "    }\n",
       "\n",
       "    .dataframe thead th {\n",
       "        text-align: right;\n",
       "    }\n",
       "</style>\n",
       "<table border=\"1\" class=\"dataframe\">\n",
       "  <thead>\n",
       "    <tr style=\"text-align: right;\">\n",
       "      <th></th>\n",
       "      <th>test_loss</th>\n",
       "      <th>test_accuracy</th>\n",
       "    </tr>\n",
       "  </thead>\n",
       "  <tbody>\n",
       "    <tr>\n",
       "      <th>0</th>\n",
       "      <td>0.626096</td>\n",
       "      <td>0.729627</td>\n",
       "    </tr>\n",
       "    <tr>\n",
       "      <th>0</th>\n",
       "      <td>0.620155</td>\n",
       "      <td>0.732375</td>\n",
       "    </tr>\n",
       "    <tr>\n",
       "      <th>0</th>\n",
       "      <td>0.626960</td>\n",
       "      <td>0.726368</td>\n",
       "    </tr>\n",
       "  </tbody>\n",
       "</table>\n",
       "</div>"
      ],
      "text/plain": [
       "   test_loss  test_accuracy\n",
       "0   0.626096       0.729627\n",
       "0   0.620155       0.732375\n",
       "0   0.626960       0.726368"
      ]
     },
     "execution_count": 12,
     "metadata": {},
     "output_type": "execute_result"
    }
   ],
   "source": [
    "global_results.results_df[[\"test_loss\", \"test_accuracy\"]]"
   ]
  },
  {
   "cell_type": "markdown",
   "id": "718555ed",
   "metadata": {},
   "source": [
    "## Pre-trained embeddings + final layers on full data"
   ]
  },
  {
   "cell_type": "code",
   "execution_count": 13,
   "id": "b47721cf",
   "metadata": {},
   "outputs": [
    {
     "name": "stdout",
     "output_type": "stream",
     "text": [
      "Base dir /data/ddmg/redditlanguagemodeling/results/amazon_reviews/clf/wilds_subpop_user_split/eval_global_model_embed_final_layers_separate: Found results for 1 train_seeds\n",
      "Base dir /data/ddmg/redditlanguagemodeling/results/amazon_reviews/clf/wilds_subpop_user_split/eval_global_model_embed_final_layers_separate/42: Found results for 0 eval_seeds\n"
     ]
    }
   ],
   "source": [
    "base_result_dir = os.path.join(main_result_dir, \"eval_global_model_embed_final_layers_separate\")\n",
    "levels = [\"seed\"]\n",
    "pt_results = ResultProcessor(base_result_dir, levels, verbose=True)"
   ]
  },
  {
   "cell_type": "code",
   "execution_count": 15,
   "id": "73d31499",
   "metadata": {},
   "outputs": [],
   "source": [
    "pt_results.results_df"
   ]
  }
 ],
 "metadata": {
  "kernelspec": {
   "display_name": "Python 3",
   "language": "python",
   "name": "python3"
  },
  "language_info": {
   "codemirror_mode": {
    "name": "ipython",
    "version": 3
   },
   "file_extension": ".py",
   "mimetype": "text/x-python",
   "name": "python",
   "nbconvert_exporter": "python",
   "pygments_lexer": "ipython3",
   "version": "3.8.10"
  }
 },
 "nbformat": 4,
 "nbformat_minor": 5
}
