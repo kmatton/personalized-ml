{
 "cells": [
  {
   "cell_type": "code",
   "execution_count": 3,
   "id": "a4207b5e",
   "metadata": {},
   "outputs": [],
   "source": [
    "%load_ext autoreload\n",
    "%autoreload 2"
   ]
  },
  {
   "cell_type": "code",
   "execution_count": 92,
   "id": "da176f0b",
   "metadata": {},
   "outputs": [],
   "source": [
    "import sys\n",
    "sys.path.append('../../src/generic')\n",
    "import time\n",
    "import csv\n",
    "import os\n",
    "import numpy as np\n",
    "import pandas as pd\n",
    "import seaborn as sns\n",
    "sns.set_theme()\n",
    "from tqdm import tqdm\n",
    "from sklearn.metrics import pairwise_distances, silhouette_score\n",
    "from sklearn.feature_extraction.text import CountVectorizer"
   ]
  },
  {
   "cell_type": "code",
   "execution_count": 5,
   "id": "1797640a",
   "metadata": {},
   "outputs": [],
   "source": [
    "os.environ[\"CUDA_VISIBLE_DEVICES\"] = \"0,1,2,3\"\n",
    "import torch\n",
    "assert torch.cuda.is_available(), \"selected gpus, but cuda not available\""
   ]
  },
  {
   "cell_type": "code",
   "execution_count": 44,
   "id": "1da31a66",
   "metadata": {},
   "outputs": [],
   "source": [
    "from datasets import Dataset\n",
    "from torch.utils.data.sampler import SequentialSampler\n",
    "from torch.utils.data.dataloader import DataLoader\n",
    "from transformers import AutoConfig, AutoModelForMaskedLM, AutoTokenizer, default_data_collator\n",
    "\n",
    "from common.factories import get_embed_model\n",
    "\n",
    "from dataset.amazon_reviews_clf_dataset import AmazonClfDataset"
   ]
  },
  {
   "cell_type": "markdown",
   "id": "80ecb5b3",
   "metadata": {},
   "source": [
    "## Generate Embeddings for all data in users.csv split"
   ]
  },
  {
   "cell_type": "code",
   "execution_count": 13,
   "id": "8624d78e",
   "metadata": {},
   "outputs": [],
   "source": [
    "data_dir = \"/data/ddmg/redditlanguagemodeling/data/AmazonReviews/data\""
   ]
  },
  {
   "cell_type": "code",
   "execution_count": 15,
   "id": "7a1b803d",
   "metadata": {},
   "outputs": [],
   "source": [
    "data_df = pd.read_csv(os.path.join(data_dir, 'amazon_v2.0/reviews.csv'),\n",
    "                      dtype={'reviewerID':str, 'asin':str, 'reviewTime':str,'unixReviewTime':int,\n",
    "                             'reviewText':str,'summary':str,'verified':bool,'category':str, 'reviewYear':int},\n",
    "                      keep_default_na=False, na_values=[], quoting=csv.QUOTE_NONNUMERIC)"
   ]
  },
  {
   "cell_type": "code",
   "execution_count": 29,
   "id": "93b05cc5",
   "metadata": {},
   "outputs": [],
   "source": [
    "data_df = data_df.rename(columns={\"reviewText\": \"text\"})"
   ]
  },
  {
   "cell_type": "code",
   "execution_count": 30,
   "id": "0a230053",
   "metadata": {},
   "outputs": [],
   "source": [
    "split_df = pd.read_csv(os.path.join(data_dir, 'amazon_v2.0', 'splits', 'user.csv'))"
   ]
  },
  {
   "cell_type": "code",
   "execution_count": 31,
   "id": "7de4020f",
   "metadata": {},
   "outputs": [],
   "source": [
    "val_id_df = data_df[split_df[\"split\"] == 2]\n",
    "test_id_df = data_df[split_df[\"split\"] == 4]"
   ]
  },
  {
   "cell_type": "code",
   "execution_count": 32,
   "id": "3139c83b",
   "metadata": {},
   "outputs": [
    {
     "data": {
      "text/plain": [
       "445602"
      ]
     },
     "execution_count": 32,
     "metadata": {},
     "output_type": "execute_result"
    }
   ],
   "source": [
    "sum(split_df[\"split\"] != -1) - (len(val_id_df) + len(test_id_df))"
   ]
  },
  {
   "cell_type": "code",
   "execution_count": null,
   "id": "dea37845",
   "metadata": {},
   "outputs": [],
   "source": [
    "embed_path = \"/data/ddmg/redditlanguagemodeling/data/AmazonReviews/data/amazon_v2.0/embeddings/pretrained_distilbert_embeddings\""
   ]
  },
  {
   "cell_type": "code",
   "execution_count": 20,
   "id": "d4cd0965",
   "metadata": {},
   "outputs": [],
   "source": [
    "# get embeds for train, val OOD, and test OOd\n",
    "train_embeds = np.load(os.path.join(embed_path, \"train_user_split\", \"embeddings.npy\"), allow_pickle=True)\n",
    "val_embeds = np.load(os.path.join(embed_path, \"val_user_split\", \"embeddings.npy\"), allow_pickle=True)\n",
    "test_embeds = np.load(os.path.join(embed_path, \"test_user_split\", \"embeddings.npy\"), allow_pickle=True)"
   ]
  },
  {
   "cell_type": "code",
   "execution_count": 33,
   "id": "ce1bd470",
   "metadata": {},
   "outputs": [],
   "source": [
    "# embed val_id_df and test_id_df\n",
    "val_id_dataset = Dataset.from_pandas(val_id_df)\n",
    "test_id_dataset = Dataset.from_pandas(test_id_df)"
   ]
  },
  {
   "cell_type": "code",
   "execution_count": 34,
   "id": "b8fc50c8",
   "metadata": {},
   "outputs": [],
   "source": [
    "# tokenize data\n",
    "tokenizer_kwargs = {\n",
    "    \"use_fast\": True,\n",
    "    \"cache_dir\": \"/data/ddmg/redditlanguagemodeling/cached/distilbert\"\n",
    "}\n",
    "tokenizer = AutoTokenizer.from_pretrained(\"distilbert-base-uncased\", **tokenizer_kwargs)"
   ]
  },
  {
   "cell_type": "code",
   "execution_count": 35,
   "id": "0f95fc7e",
   "metadata": {},
   "outputs": [],
   "source": [
    "def _tokenize_func(examples):\n",
    "    return tokenizer(\n",
    "        examples[\"text\"],\n",
    "        padding='max_length',\n",
    "        truncation=True,\n",
    "        max_length=512\n",
    "    )"
   ]
  },
  {
   "cell_type": "code",
   "execution_count": 36,
   "id": "aef5e140",
   "metadata": {},
   "outputs": [
    {
     "data": {
      "application/vnd.jupyter.widget-view+json": {
       "model_id": "f71ec76747d745a299924cfd05d2195d",
       "version_major": 2,
       "version_minor": 0
      },
      "text/plain": [
       "HBox(children=(FloatProgress(value=0.0, max=47.0), HTML(value='')))"
      ]
     },
     "metadata": {},
     "output_type": "display_data"
    },
    {
     "name": "stdout",
     "output_type": "stream",
     "text": [
      "\n"
     ]
    }
   ],
   "source": [
    "val_id_dataset = val_id_dataset.map(\n",
    "    _tokenize_func,\n",
    "    batched=True,\n",
    "    num_proc=None\n",
    ")"
   ]
  },
  {
   "cell_type": "code",
   "execution_count": 37,
   "id": "55a10b4c",
   "metadata": {},
   "outputs": [
    {
     "data": {
      "application/vnd.jupyter.widget-view+json": {
       "model_id": "e2967ef3a2fa421cbe6703e0e14b3d47",
       "version_major": 2,
       "version_minor": 0
      },
      "text/plain": [
       "HBox(children=(FloatProgress(value=0.0, max=47.0), HTML(value='')))"
      ]
     },
     "metadata": {},
     "output_type": "display_data"
    },
    {
     "name": "stdout",
     "output_type": "stream",
     "text": [
      "\n"
     ]
    }
   ],
   "source": [
    "test_id_dataset = test_id_dataset.map(\n",
    "    _tokenize_func,\n",
    "    batched=True,\n",
    "    num_proc=None\n",
    ")"
   ]
  },
  {
   "cell_type": "code",
   "execution_count": 38,
   "id": "4af7e560",
   "metadata": {},
   "outputs": [],
   "source": [
    "embed_model_config = \"distilbert-base-uncased\"\n",
    "config = AutoConfig.from_pretrained(embed_model_config)\n",
    "embed_model = AutoModelForMaskedLM.from_pretrained(\"distilbert-base-uncased\", config=config)"
   ]
  },
  {
   "cell_type": "code",
   "execution_count": 39,
   "id": "f02a6ead",
   "metadata": {},
   "outputs": [],
   "source": [
    "def _embed_batch(x):\n",
    "    output = embed_model(input_ids=x, output_hidden_states=True)\n",
    "    hidden_state = output.hidden_states[-1][:, 0]\n",
    "    return hidden_state"
   ]
  },
  {
   "cell_type": "code",
   "execution_count": 41,
   "id": "feeb6526",
   "metadata": {},
   "outputs": [],
   "source": [
    "def _get_embed_dataloader(split_dataset):\n",
    "    sampler = SequentialSampler(split_dataset)\n",
    "    data_loader = DataLoader(\n",
    "        split_dataset,\n",
    "        batch_size=8,\n",
    "        sampler=sampler,\n",
    "        collate_fn=default_data_collator,\n",
    "        drop_last=False\n",
    "    )\n",
    "    return data_loader"
   ]
  },
  {
   "cell_type": "code",
   "execution_count": 45,
   "id": "c65d6d8c",
   "metadata": {},
   "outputs": [
    {
     "name": "stderr",
     "output_type": "stream",
     "text": [
      "100%|██████████| 5869/5869 [1:47:09<00:00,  1.10s/it]\n"
     ]
    }
   ],
   "source": [
    "# embed val id data\n",
    "embeds = None\n",
    "data_loader = _get_embed_dataloader(val_id_dataset)\n",
    "for batch in tqdm(data_loader):\n",
    "    embedded_batch = _embed_batch(batch['input_ids'])\n",
    "    embedded_batch = embedded_batch.detach().cpu().numpy()\n",
    "    embeds = embedded_batch if embeds is None else np.concatenate((embeds, embedded_batch), axis=0)\n",
    "val_id_embeds = embeds"
   ]
  },
  {
   "cell_type": "code",
   "execution_count": 46,
   "id": "c486a5d7",
   "metadata": {},
   "outputs": [],
   "source": [
    "os.makedirs(os.path.join(embed_path, \"val_id_user_split\"))\n",
    "np.save(os.path.join(embed_path, \"val_id_user_split\", \"embeddings.npy\"), val_id_embeds)"
   ]
  },
  {
   "cell_type": "code",
   "execution_count": 47,
   "id": "bc66954b",
   "metadata": {},
   "outputs": [
    {
     "name": "stderr",
     "output_type": "stream",
     "text": [
      "100%|██████████| 5869/5869 [1:53:40<00:00,  1.16s/it]  \n"
     ]
    }
   ],
   "source": [
    "# embed test id data\n",
    "embeds = None\n",
    "data_loader = _get_embed_dataloader(test_id_dataset)\n",
    "for batch in tqdm(data_loader):\n",
    "    embedded_batch = _embed_batch(batch['input_ids'])\n",
    "    embedded_batch = embedded_batch.detach().cpu().numpy()\n",
    "    embeds = embedded_batch if embeds is None else np.concatenate((embeds, embedded_batch), axis=0)\n",
    "test_id_embeds = embeds"
   ]
  },
  {
   "cell_type": "code",
   "execution_count": 48,
   "id": "49a5b6da",
   "metadata": {},
   "outputs": [],
   "source": [
    "os.makedirs(os.path.join(embed_path, \"test_id_user_split\"))\n",
    "np.save(os.path.join(embed_path, \"test_id_user_split\", \"embeddings.npy\"), test_id_embeds)"
   ]
  },
  {
   "cell_type": "code",
   "execution_count": 52,
   "id": "4ab7b4ee",
   "metadata": {},
   "outputs": [],
   "source": [
    "# add to one full embedding matrix\n",
    "full_embeds = np.concatenate([train_embeds, val_embeds, test_embeds, val_id_embeds, test_id_embeds], axis=0)"
   ]
  },
  {
   "cell_type": "code",
   "execution_count": 53,
   "id": "5aa703f3",
   "metadata": {},
   "outputs": [
    {
     "data": {
      "text/plain": [
       "(539502, 768)"
      ]
     },
     "execution_count": 53,
     "metadata": {},
     "output_type": "execute_result"
    }
   ],
   "source": [
    "full_embeds.shape"
   ]
  },
  {
   "cell_type": "code",
   "execution_count": 54,
   "id": "4c52cb92",
   "metadata": {},
   "outputs": [],
   "source": [
    "os.makedirs(os.path.join(embed_path, \"full_user_split\"))\n",
    "np.save(os.path.join(embed_path, \"full_user_split\", \"embeddings.npy\"), full_embeds)"
   ]
  },
  {
   "cell_type": "code",
   "execution_count": 56,
   "id": "49e8c38c",
   "metadata": {},
   "outputs": [],
   "source": [
    "# get and save dataset ids\n",
    "train_df = data_df[split_df[\"split\"] == 0]\n",
    "val_df = data_df[split_df[\"split\"] == 1]\n",
    "test_df = data_df[split_df[\"split\"] == 3]\n",
    "val_id_df = data_df[split_df[\"split\"] == 2]\n",
    "test_id_df = data_df[split_df[\"split\"] == 4]\n",
    "review_ids = np.concatenate([train_df.index, val_df.index, test_df.index, val_id_df.index, test_id_df.index], axis=0)"
   ]
  },
  {
   "cell_type": "code",
   "execution_count": 58,
   "id": "cd22dba4",
   "metadata": {},
   "outputs": [],
   "source": [
    "np.save(os.path.join(embed_path, \"full_user_split\", \"review_ids.npy\"), review_ids)"
   ]
  },
  {
   "cell_type": "markdown",
   "id": "9d7beadf",
   "metadata": {},
   "source": [
    "## Load Dataset With My Data Split (per-user  + random)"
   ]
  },
  {
   "cell_type": "code",
   "execution_count": 68,
   "id": "25c5bd93",
   "metadata": {},
   "outputs": [],
   "source": [
    "data_kwargs = dict(\n",
    "    data_dir=\"/data/ddmg/redditlanguagemodeling/data/AmazonReviews/data/amazon_v2.0/\",\n",
    "    raw_data_file=\"reviews.csv\",\n",
    "    tokenizer_name=\"distilbert-base-uncased\",\n",
    "    tokenizer_cache_dir=\"/data/ddmg/redditlanguagemodeling/cached/distilbert\",\n",
    "    split_file=\"my_user_split.csv\",\n",
    "    processed_data_dir=\"amazon_reviews_clf_processed\",\n",
    ")"
   ]
  },
  {
   "cell_type": "code",
   "execution_count": 69,
   "id": "bffb8bc5",
   "metadata": {},
   "outputs": [
    {
     "data": {
      "application/vnd.jupyter.widget-view+json": {
       "model_id": "cb55f35c362f4529afcd5d74652c62b7",
       "version_major": 2,
       "version_minor": 0
      },
      "text/plain": [
       "HBox(children=(FloatProgress(value=0.0, max=540.0), HTML(value='')))"
      ]
     },
     "metadata": {},
     "output_type": "display_data"
    },
    {
     "name": "stdout",
     "output_type": "stream",
     "text": [
      "\n"
     ]
    },
    {
     "data": {
      "application/vnd.jupyter.widget-view+json": {
       "model_id": "d10d32b67fee4cb1989afb5c88bd5f19",
       "version_major": 2,
       "version_minor": 0
      },
      "text/plain": [
       "HBox(children=(FloatProgress(value=0.0, max=540.0), HTML(value='')))"
      ]
     },
     "metadata": {},
     "output_type": "display_data"
    },
    {
     "name": "stdout",
     "output_type": "stream",
     "text": [
      "\n"
     ]
    },
    {
     "data": {
      "application/vnd.jupyter.widget-view+json": {
       "model_id": "b693b3a974894028b3ad01a146e03d33",
       "version_major": 2,
       "version_minor": 0
      },
      "text/plain": [
       "HBox(children=(FloatProgress(value=0.0, max=540.0), HTML(value='')))"
      ]
     },
     "metadata": {},
     "output_type": "display_data"
    },
    {
     "name": "stdout",
     "output_type": "stream",
     "text": [
      "\n",
      "tokenizing train data\n"
     ]
    },
    {
     "data": {
      "application/vnd.jupyter.widget-view+json": {
       "model_id": "df35fafa74624656949bee80650c0960",
       "version_major": 2,
       "version_minor": 0
      },
      "text/plain": [
       "HBox(children=(FloatProgress(value=0.0, max=324.0), HTML(value='')))"
      ]
     },
     "metadata": {},
     "output_type": "display_data"
    },
    {
     "name": "stdout",
     "output_type": "stream",
     "text": [
      "\n",
      "tokenizing val data\n"
     ]
    },
    {
     "data": {
      "application/vnd.jupyter.widget-view+json": {
       "model_id": "289763bc96174be08a7dbcff78e2bf9b",
       "version_major": 2,
       "version_minor": 0
      },
      "text/plain": [
       "HBox(children=(FloatProgress(value=0.0, max=108.0), HTML(value='')))"
      ]
     },
     "metadata": {},
     "output_type": "display_data"
    },
    {
     "name": "stdout",
     "output_type": "stream",
     "text": [
      "\n",
      "tokenizing test data\n"
     ]
    },
    {
     "data": {
      "application/vnd.jupyter.widget-view+json": {
       "model_id": "0f88d19c7cea4bfaaa5bb7c8a7abdb65",
       "version_major": 2,
       "version_minor": 0
      },
      "text/plain": [
       "HBox(children=(FloatProgress(value=0.0, max=109.0), HTML(value='')))"
      ]
     },
     "metadata": {},
     "output_type": "display_data"
    },
    {
     "name": "stdout",
     "output_type": "stream",
     "text": [
      "\n",
      "saving dataset to /data/ddmg/redditlanguagemodeling/data/AmazonReviews/data/amazon_v2.0/amazon_reviews_clf_processed\n"
     ]
    }
   ],
   "source": [
    "dataset = AmazonClfDataset(**data_kwargs)"
   ]
  },
  {
   "cell_type": "code",
   "execution_count": 70,
   "id": "b26ef488",
   "metadata": {},
   "outputs": [
    {
     "data": {
      "text/plain": [
       "(539502,)"
      ]
     },
     "execution_count": 70,
     "metadata": {},
     "output_type": "execute_result"
    }
   ],
   "source": [
    "review_ids.shape"
   ]
  },
  {
   "cell_type": "code",
   "execution_count": 75,
   "id": "18a5e8db",
   "metadata": {},
   "outputs": [
    {
     "data": {
      "text/plain": [
       "array([ 10, 154, 254, 265, 280, 281, 303, 305, 310, 327])"
      ]
     },
     "execution_count": 75,
     "metadata": {},
     "output_type": "execute_result"
    }
   ],
   "source": [
    "review_ids[:10]"
   ]
  },
  {
   "cell_type": "code",
   "execution_count": 82,
   "id": "b8d7bf4f",
   "metadata": {},
   "outputs": [
    {
     "data": {
      "text/plain": [
       "323189"
      ]
     },
     "execution_count": 82,
     "metadata": {},
     "output_type": "execute_result"
    }
   ],
   "source": [
    "len(train_ids)"
   ]
  },
  {
   "cell_type": "code",
   "execution_count": 76,
   "id": "47df1fd9",
   "metadata": {},
   "outputs": [
    {
     "data": {
      "text/plain": [
       "[34, 144, 160, 166, 173, 180, 181, 189, 252, 254]"
      ]
     },
     "execution_count": 76,
     "metadata": {},
     "output_type": "execute_result"
    }
   ],
   "source": [
    "train_ids[:10]"
   ]
  },
  {
   "cell_type": "code",
   "execution_count": 71,
   "id": "92e1d25b",
   "metadata": {},
   "outputs": [],
   "source": [
    "# get train embeddings for this data split\n",
    "train_ids = dataset.train_data[\"sample_id\"]"
   ]
  },
  {
   "cell_type": "code",
   "execution_count": 144,
   "id": "0d273c91",
   "metadata": {},
   "outputs": [
    {
     "data": {
      "text/plain": [
       "[34, 144, 160, 166, 173, 180, 181, 189, 252, 254]"
      ]
     },
     "execution_count": 144,
     "metadata": {},
     "output_type": "execute_result"
    }
   ],
   "source": [
    "train_ids[:10]"
   ]
  },
  {
   "cell_type": "code",
   "execution_count": 145,
   "id": "1aee9778",
   "metadata": {},
   "outputs": [
    {
     "data": {
      "text/plain": [
       "[34, 144, 160, 166, 173, 180, 181, 189, 252, 254]"
      ]
     },
     "execution_count": 145,
     "metadata": {},
     "output_type": "execute_result"
    }
   ],
   "source": [
    "dataset.train_data[\"sample_id\"][:10]"
   ]
  },
  {
   "cell_type": "code",
   "execution_count": 79,
   "id": "a12bf1fb",
   "metadata": {},
   "outputs": [],
   "source": [
    "train_embeds_idx = np.argwhere(np.in1d(review_ids, train_ids))"
   ]
  },
  {
   "cell_type": "code",
   "execution_count": 149,
   "id": "c15b1f24",
   "metadata": {},
   "outputs": [],
   "source": [
    "# NOTE: with method above, IDs are NOT necessarily in the right order!!\n",
    "train_ids3 = review_ids[train_embeds_idx]"
   ]
  },
  {
   "cell_type": "code",
   "execution_count": 151,
   "id": "3b776a94",
   "metadata": {},
   "outputs": [
    {
     "data": {
      "text/plain": [
       "array([254, 265, 281, 303, 305, 310, 327, 333, 348, 990])"
      ]
     },
     "execution_count": 151,
     "metadata": {},
     "output_type": "execute_result"
    }
   ],
   "source": [
    "train_ids3[:10]"
   ]
  },
  {
   "cell_type": "code",
   "execution_count": 152,
   "id": "adde4e25",
   "metadata": {},
   "outputs": [
    {
     "data": {
      "text/plain": [
       "True"
      ]
     },
     "execution_count": 152,
     "metadata": {},
     "output_type": "execute_result"
    }
   ],
   "source": [
    "34 in train_ids3"
   ]
  },
  {
   "cell_type": "code",
   "execution_count": 153,
   "id": "6b58a390",
   "metadata": {},
   "outputs": [],
   "source": [
    "# get train embeddings in correct order!!!\n",
    "train_embeds_idx = [np.argwhere(review_ids == x) for x in train_ids]"
   ]
  },
  {
   "cell_type": "code",
   "execution_count": 163,
   "id": "38d711e8",
   "metadata": {},
   "outputs": [
    {
     "name": "stdout",
     "output_type": "stream",
     "text": [
      "323189\n"
     ]
    }
   ],
   "source": [
    "print(len(train_ids))"
   ]
  },
  {
   "cell_type": "code",
   "execution_count": 162,
   "id": "3e93ba3d",
   "metadata": {},
   "outputs": [],
   "source": [
    "train_embeds_idx = np.array(train_embeds_idx).flatten()"
   ]
  },
  {
   "cell_type": "code",
   "execution_count": 164,
   "id": "022103aa",
   "metadata": {},
   "outputs": [
    {
     "data": {
      "text/plain": [
       "array([245503, 245504, 345553, 245505, 492553, 345554, 492555, 345555,\n",
       "       345556,      2])"
      ]
     },
     "execution_count": 164,
     "metadata": {},
     "output_type": "execute_result"
    }
   ],
   "source": [
    "train_embeds_idx[:10]"
   ]
  },
  {
   "cell_type": "code",
   "execution_count": 165,
   "id": "f013e7e3",
   "metadata": {},
   "outputs": [],
   "source": [
    "train_ids4 = review_ids[train_embeds_idx]"
   ]
  },
  {
   "cell_type": "code",
   "execution_count": 166,
   "id": "85f39b8b",
   "metadata": {},
   "outputs": [
    {
     "data": {
      "text/plain": [
       "array([ 34, 144, 160, 166, 173, 180, 181, 189, 252, 254])"
      ]
     },
     "execution_count": 166,
     "metadata": {},
     "output_type": "execute_result"
    }
   ],
   "source": [
    "train_ids4[:10]"
   ]
  },
  {
   "cell_type": "code",
   "execution_count": 168,
   "id": "310776dd",
   "metadata": {},
   "outputs": [],
   "source": [
    "correct_train_embeds = full_embeds[train_embeds_idx]"
   ]
  },
  {
   "cell_type": "code",
   "execution_count": 167,
   "id": "6fd0ea41",
   "metadata": {},
   "outputs": [
    {
     "name": "stdout",
     "output_type": "stream",
     "text": [
      "loading processed data from /data/ddmg/redditlanguagemodeling/data/AmazonReviews/data/amazon_v2.0/amazon_reviews_clf_processed\n"
     ]
    }
   ],
   "source": [
    "# test data loading code\n",
    "dataset = AmazonClfDataset(**data_kwargs)"
   ]
  },
  {
   "cell_type": "code",
   "execution_count": 169,
   "id": "4bc2bbdd",
   "metadata": {},
   "outputs": [
    {
     "name": "stdout",
     "output_type": "stream",
     "text": [
      "loading embeddings for all data at path /data/ddmg/redditlanguagemodeling/data/AmazonReviews/data/amazon_v2.0/embeddings/pretrained_distilbert_embeddings/full_user_split/embeddings.npy\n"
     ]
    }
   ],
   "source": [
    "embed_path = \"/data/ddmg/redditlanguagemodeling/data/AmazonReviews/data/amazon_v2.0/embeddings/pretrained_distilbert_embeddings/full_user_split\"\n",
    "dataset.embed_data(None, embed_path)"
   ]
  },
  {
   "cell_type": "code",
   "execution_count": 170,
   "id": "027b96c8",
   "metadata": {},
   "outputs": [
    {
     "data": {
      "text/plain": [
       "array([ 1.55251116e-01, -6.96128383e-02,  2.71068573e-01,  1.32282183e-01,\n",
       "       -2.77298629e-01, -2.73941308e-01,  1.43063322e-01, -5.13073318e-02,\n",
       "        1.46412984e-01, -1.41136914e-01, -1.08471096e-01,  4.33744788e-02,\n",
       "        2.80383080e-01,  1.38977855e-01,  6.24603406e-02,  1.28077582e-01,\n",
       "        1.85901642e-01,  2.45630771e-01, -1.10183060e-01,  9.93489549e-02,\n",
       "        2.73331255e-01,  2.90968895e-01,  3.12784165e-01,  9.52940807e-02,\n",
       "       -3.83796662e-01,  8.70941654e-02, -2.87125185e-02,  3.42505693e-01,\n",
       "        2.92379469e-01,  2.93154031e-01,  4.09895554e-02, -1.42832827e-02,\n",
       "        5.74960969e-02, -1.39045343e-01,  8.11037496e-02,  1.66575477e-01,\n",
       "        1.47848427e-01, -1.39030591e-01,  2.72050709e-01, -1.86705679e-01,\n",
       "       -2.83976495e-01,  1.02196559e-01,  2.59662449e-01, -1.87488452e-01,\n",
       "       -4.30370048e-02, -1.93418503e-01, -2.83007336e+00,  3.72634023e-01,\n",
       "       -2.13070720e-01, -3.06873232e-01,  1.13124073e-01,  2.55109847e-01,\n",
       "       -1.68043852e-01,  4.76110429e-02,  7.47782663e-02,  4.18295979e-01,\n",
       "        9.85475704e-02,  2.58583184e-02,  3.74599934e-01,  1.64005384e-01,\n",
       "        3.44723135e-01,  2.49563634e-01, -4.14725721e-01,  1.96014628e-01,\n",
       "       -2.48888984e-01,  7.52480209e-01, -4.75013256e-01,  6.99412107e-01,\n",
       "       -9.14566636e-01,  3.88412803e-01, -3.12585473e-01, -5.80318756e-02,\n",
       "        2.49070093e-01, -6.23538159e-03,  3.34311485e-01,  3.26758593e-01,\n",
       "        1.34423124e-02,  5.08592017e-02,  1.32652447e-01,  3.02389443e-01,\n",
       "        4.52913865e-02, -1.90404862e-01,  6.62802830e-02, -2.36301333e-01,\n",
       "        1.30767778e-01,  3.42983216e-01,  3.74678642e-01,  3.38999070e-02,\n",
       "        3.82601529e-01,  4.32778448e-01,  1.37672678e-01, -1.19091347e-01,\n",
       "        5.62665224e-01,  2.84828752e-01, -1.14831934e-02, -1.24613615e-02,\n",
       "       -2.66159117e-01, -6.22143187e-02, -7.22080395e-02,  1.90517485e-01,\n",
       "        3.27709526e-01, -7.13063776e-02,  1.61683410e-02, -5.08696020e-01,\n",
       "        2.27738917e-01, -2.42617175e-01, -5.86733639e-01, -1.00293338e-01,\n",
       "        1.34611502e-01, -1.18795645e+00,  2.26135850e-01,  5.41833818e-01,\n",
       "       -1.45934403e-01, -1.41992703e-01,  4.47972238e-01, -9.05689821e-02,\n",
       "       -1.81656316e-01,  3.33160490e-01, -3.89424451e-02,  4.44600657e-02,\n",
       "       -1.50287524e-01, -8.61147270e-02,  2.19247460e-01, -1.67030454e-01,\n",
       "       -2.72943735e-01,  9.41623002e-02,  2.24071950e-01, -3.26643586e-01,\n",
       "        2.23881125e-01,  4.41786885e-01, -3.88583839e-01,  2.17436440e-02,\n",
       "       -1.92892641e-01,  3.02987192e-02, -1.67083278e-01, -2.92027742e-01,\n",
       "        2.07836270e-01,  5.40104741e-03, -8.43551084e-02, -3.58519033e-02,\n",
       "       -5.53827941e-01, -4.11588587e-02, -1.25486755e+00,  4.68619987e-02,\n",
       "        2.49956131e-01,  1.17466010e-01, -2.19566096e-02,  4.27208155e-01,\n",
       "       -2.77569920e-01, -4.07276899e-01, -1.09945722e-02, -3.50730777e-01,\n",
       "       -5.65584451e-02,  1.12289540e-01, -1.92164928e-01, -7.06979260e-02,\n",
       "       -2.66894639e-01, -6.44574091e-02,  1.52325392e-01,  2.29331180e-01,\n",
       "       -2.93292791e-01,  8.46937448e-02,  1.18047357e-01, -2.12973237e-01,\n",
       "        2.05417395e-01, -2.69416690e-01,  2.28157192e-02,  2.20385149e-01,\n",
       "       -1.01527669e-01,  6.35224134e-02,  4.26862627e-01, -3.15543383e-01,\n",
       "        2.87330598e-01, -2.73908645e-01, -6.67153001e-02, -2.63973832e-01,\n",
       "        3.87021303e-01,  2.44514734e-01, -2.05869023e-02,  9.42706019e-02,\n",
       "       -2.23136693e-01,  4.85121161e-01,  2.17968076e-01, -6.86512053e-01,\n",
       "       -2.84849465e-01,  3.05355400e-01,  2.07294062e-01,  1.37458876e-01,\n",
       "        6.47697002e-02,  9.37107485e-03, -3.28414261e-01, -2.45595455e-01,\n",
       "        1.31826289e-02, -3.85004133e-02,  2.80531645e-01,  2.84510672e-01,\n",
       "       -9.44453180e-02, -4.73312996e-02,  2.35262349e-01, -2.95716524e-01,\n",
       "        1.44582719e-01,  3.03001612e-01, -2.96035320e-01,  3.65362614e-01,\n",
       "        1.26416489e-01,  1.60983026e+00,  1.86599016e-01, -1.18199788e-01,\n",
       "       -6.01236150e-02, -2.26355091e-01, -4.79836017e-02, -4.37942833e-01,\n",
       "        1.08682647e-01, -1.87217563e-01, -1.12762958e-01, -2.94645607e-01,\n",
       "        7.81368464e-02, -2.49664664e-01,  1.41681656e-02, -4.84710000e-02,\n",
       "       -1.83475167e-01,  1.56668723e-02, -1.69474527e-01,  2.66792774e-01,\n",
       "       -1.34721190e-01, -2.76970893e-01,  8.39202106e-02, -9.04493511e-01,\n",
       "       -2.32681438e-01, -8.02640855e-01,  1.51561186e-01, -3.33168924e-01,\n",
       "       -4.01482843e-02, -2.26503864e-01, -5.95055461e-01, -2.08834723e-01,\n",
       "       -1.41162232e-01, -4.46946234e-01, -1.18836634e-01, -3.24524701e-01,\n",
       "       -4.44655903e-02,  3.36858004e-01, -2.41729647e-01,  1.44786760e-01,\n",
       "       -3.02484274e-01, -2.62830794e-01,  2.12356448e-02,  1.18247885e-02,\n",
       "       -2.15735417e-02, -2.88002938e-01,  3.69753651e-02, -5.75726032e-01,\n",
       "       -1.64315701e-01, -8.07079747e-02,  1.14883386e-01,  2.40607664e-01,\n",
       "        3.13273549e-01,  2.76922613e-01,  2.07779172e-04, -1.29743353e-01,\n",
       "        8.85600671e-02,  3.19926232e-01,  2.00937241e-01,  6.37583286e-02,\n",
       "       -3.50523353e-01,  1.54044822e-01,  2.88874298e-01, -3.76648039e-01,\n",
       "        1.99421689e-01, -1.50214843e-02,  5.99233666e-03,  6.88936859e-02,\n",
       "       -2.25547343e-01, -4.17167604e-01, -1.39312241e-02, -2.14528777e-02,\n",
       "        5.14235258e-01, -1.77908882e-01, -2.33916298e-01,  1.05821818e-01,\n",
       "        9.72989276e-02,  3.47687781e-01,  3.47942024e-01, -3.71274024e-01,\n",
       "       -2.10729361e-01, -4.06516679e-02,  1.93875566e-01,  1.49312392e-01,\n",
       "        7.45026052e-01, -3.52499962e-01,  4.69347946e-02,  5.60151756e-01,\n",
       "        9.62747484e-02,  1.57441705e-01,  1.99275836e-01, -6.26544178e-01,\n",
       "        3.42171878e-01,  1.42945990e-01, -8.26879218e-02,  1.40937036e-02,\n",
       "       -6.01308942e-01,  9.85029638e-02,  6.92417398e-02,  3.57501842e-02,\n",
       "       -1.12779312e-01,  1.60026431e-01,  1.12066798e-01, -2.09945172e-01,\n",
       "       -4.61636114e+00,  1.79550909e-02, -3.92911494e-01, -5.20844996e-01,\n",
       "        2.76914924e-01, -1.98172852e-01,  3.47231507e-01, -8.46906602e-02,\n",
       "        1.18231408e-01, -7.34879151e-02, -1.09999657e-01,  2.77878940e-01,\n",
       "       -6.36329234e-01, -2.32344456e-02, -3.45197797e-01, -5.57233989e-01,\n",
       "        6.26732349e-01,  9.59152207e-02, -3.02047759e-01, -8.24802890e-02,\n",
       "       -3.85628164e-01, -1.77273825e-01,  2.42982730e-01,  3.32813352e-01,\n",
       "        5.73383629e-01,  2.93152809e-01, -3.92332256e-01, -2.89528221e-01,\n",
       "        6.15696274e-02, -1.66977048e-01,  1.27284005e-02, -3.90080750e-01,\n",
       "        5.20923808e-02,  6.99054897e-02,  2.30008572e-01,  1.24191664e-01,\n",
       "       -5.07546552e-02,  1.19503878e-01,  2.44069815e-01, -2.95062244e-01,\n",
       "        4.59150106e-01,  1.48726283e-02,  5.45891970e-02, -2.36162156e-01,\n",
       "        6.17498338e-01, -6.28790781e-02, -2.13390440e-01,  6.06426418e-01,\n",
       "        6.92398325e-02,  1.35372356e-01, -9.07840282e-02,  2.25308329e-01,\n",
       "        4.63815778e-01, -6.70435205e-02, -9.73260496e-03, -1.75573342e-02,\n",
       "        1.37249812e-01, -1.34041324e-01, -3.24376613e-01, -2.19233218e-03,\n",
       "        1.21453092e-01,  4.12590848e-03, -1.54759467e-01,  1.20614529e-01,\n",
       "        6.74933940e-02, -7.60805756e-02,  2.03342527e-01, -9.85489190e-02,\n",
       "       -2.10996345e-01,  4.11544507e-03, -5.65183580e-01, -5.76042011e-02,\n",
       "        1.42682403e-01, -1.00758895e-01,  4.03081506e-01, -3.66294354e-01,\n",
       "       -2.47540459e-01,  1.92758337e-01,  1.38725832e-01,  6.61717281e-02,\n",
       "       -7.06693053e-01,  1.06345780e-01,  8.48262981e-02,  1.94277152e-01,\n",
       "       -1.48356423e-01,  1.27182249e-02, -8.34910423e-02,  7.27032020e-04,\n",
       "       -8.90245009e-03,  5.15003741e-01,  7.13064820e-02, -6.68209940e-02,\n",
       "        2.66741902e-01,  1.57569781e-01, -3.83571118e-01,  6.21886730e-01,\n",
       "        1.50115460e-01,  7.35153034e-02,  4.27982718e-01, -3.71648937e-01,\n",
       "        1.81581706e-01, -5.27435422e-01, -1.95441127e-01, -1.26204714e-01,\n",
       "       -1.50646195e-01,  9.64688882e-02, -4.79600877e-01, -3.43129098e-01,\n",
       "       -3.33174467e-02, -1.77768797e-01, -8.52635950e-02,  1.87863395e-01,\n",
       "       -2.80253351e-01,  1.21205792e-01,  7.01455414e-01, -4.50648487e-01,\n",
       "       -2.01285705e-01,  2.27298871e-01,  2.30059281e-01, -4.51028347e-02,\n",
       "        1.18468568e-01, -2.16803610e-01,  2.89419517e-02, -5.36910594e-02,\n",
       "       -3.92449170e-01,  4.33567613e-01,  2.82277733e-01, -1.09598279e-01,\n",
       "       -7.38676190e-02, -1.52511284e-01,  7.89438039e-02, -3.89986604e-01,\n",
       "       -3.17514330e-01, -2.32179705e-02,  1.00467749e-01, -3.65095697e-02,\n",
       "       -9.92930159e-02,  1.27029046e-01, -6.33115992e-02, -3.48711967e-01,\n",
       "        5.21042943e-01,  1.68208688e-01, -8.77534375e-02,  5.31653941e-01,\n",
       "        4.18596536e-01, -6.09683432e-03,  1.54921174e-01,  8.10186639e-02,\n",
       "       -2.25795984e-01,  2.78938740e-01, -1.75886363e-01, -6.82043254e-01,\n",
       "        8.91006961e-02, -2.39135727e-01,  3.56493235e-01,  5.89397609e-01,\n",
       "       -4.32932861e-02, -2.51384854e-01, -1.23696007e-01, -2.02521056e-01,\n",
       "        6.55237556e-01,  2.59536356e-01, -1.62198508e+00,  2.84753531e-01,\n",
       "        2.96221614e-01, -1.30649477e-01,  4.03058589e-01,  2.72657219e-02,\n",
       "        1.74756244e-01,  3.47251222e-02,  1.49923682e-01,  1.97758749e-01,\n",
       "       -8.66608545e-02,  9.49028656e-02, -4.55728509e-02,  1.72507986e-01,\n",
       "        4.97282624e-01,  1.14253663e-01,  4.47597206e-02,  6.49740323e-02,\n",
       "       -1.05262674e-01,  2.73559123e-01,  9.25306901e-02,  8.12461972e-01,\n",
       "        4.01500434e-01,  1.88799068e-01,  1.79101869e-01, -1.26980439e-01,\n",
       "       -3.46871048e-01,  4.22055513e-01,  9.53653306e-02, -3.10620777e-02,\n",
       "        2.23582447e-01, -8.08941305e-01,  1.61899000e-01,  1.12389755e-02,\n",
       "        3.39609832e-01,  2.56293982e-01, -1.78815648e-01,  3.69974405e-01,\n",
       "       -1.47743478e-01,  4.34764951e-01,  2.71077365e-01,  2.84017682e-01,\n",
       "        4.17251229e-01,  2.81967640e-01, -6.36236817e-02,  2.48880044e-01,\n",
       "       -2.26916075e-01, -4.11786914e-01,  1.24169633e-01, -4.43545319e-02,\n",
       "        3.39124680e-01,  6.62817955e-01,  2.92402148e-01, -3.48546267e-01,\n",
       "       -2.45434806e-01,  2.96235830e-02,  1.03021339e-01, -2.62271613e-01,\n",
       "        2.31702954e-01, -4.20950025e-01,  1.08389422e-01, -4.84789759e-01,\n",
       "        2.47450575e-01,  1.10507822e-02,  1.06012180e-01, -4.18521196e-01,\n",
       "        3.98404628e-01, -1.75637975e-01, -8.53272974e-02, -5.15884697e-01,\n",
       "        5.76344989e-02,  1.23052306e-01, -4.17088121e-01,  1.68020800e-02,\n",
       "        1.99943304e-01, -3.25217620e-02,  8.62375870e-02,  4.73374009e-01,\n",
       "       -3.70235592e-02, -3.66655886e-01,  3.06357414e-01, -5.14206767e-01,\n",
       "       -2.38615692e-01,  2.63180584e-01,  4.74784710e-02, -6.15422018e-02,\n",
       "       -7.60379285e-02,  2.90617913e-01,  1.12353219e-02, -2.38046478e-02,\n",
       "       -1.37112528e-01, -4.95332152e-01,  3.91385257e-01, -5.35898395e-02,\n",
       "        5.17907105e-02, -1.07217774e-01, -1.87190920e-01, -1.99369434e-02,\n",
       "       -2.57724226e-01,  5.25575057e-02, -2.97378868e-01,  6.09736294e-02,\n",
       "       -1.94869280e-01,  6.17322028e-02,  9.99253243e-02,  1.28021985e-01,\n",
       "        4.20170277e-01, -5.21969855e-01, -3.19381744e-01,  4.17790227e-02,\n",
       "        1.11911677e-01, -3.87824490e-03,  6.49623014e-03,  2.08389327e-01,\n",
       "        5.11984490e-02, -2.36106157e-01, -1.72343671e-01, -7.70532638e-02,\n",
       "        9.02622581e-01, -1.51114732e-01,  4.22184020e-01, -1.55656174e-01,\n",
       "        3.89072537e-01,  4.25343551e-02,  4.36894558e-02, -3.33316326e-01,\n",
       "        7.47983065e-03, -3.48574877e-01, -2.62625515e-01,  5.31231575e-02,\n",
       "       -9.28706080e-02, -5.24694800e-01,  4.83730696e-02,  3.12489003e-01,\n",
       "        6.43776963e-03,  2.79258400e-01, -5.99773705e-01, -1.97409908e-03,\n",
       "       -1.43082842e-01, -2.21794203e-01,  2.93323230e-02, -2.14446411e-01,\n",
       "       -3.87083411e-01,  3.30919512e-02,  3.27794731e-01, -4.20115650e-01,\n",
       "       -1.42606404e-02, -1.61315519e-02, -2.81732231e-01, -2.72392686e-02,\n",
       "        1.26201987e-01,  1.17948197e-01,  3.48060206e-02, -2.11082339e-01,\n",
       "       -5.94051182e-02, -1.66294888e-01, -2.32199535e-01,  4.24097866e-01,\n",
       "        1.83333387e-03,  1.31561672e-02,  3.59917194e-01,  4.45750132e-02,\n",
       "        1.03149824e-01, -1.55514166e-01, -9.48601216e-02, -3.21875989e-01,\n",
       "        2.89975524e-01,  5.35977840e-01,  7.87251964e-02, -2.51550496e-01,\n",
       "       -2.76416421e-01,  1.65192842e-01, -4.93868142e-01,  3.51505637e-01,\n",
       "        5.76809719e-02, -2.62797594e-01, -3.70871961e-01,  3.23995382e-01,\n",
       "       -7.85979927e-02,  4.14747059e-01,  4.41037416e-01, -6.19261682e-01,\n",
       "        7.26420730e-02, -2.41225615e-01,  2.99739040e-04, -4.36991453e-01,\n",
       "       -1.94712952e-02, -2.56155849e-01, -7.47740045e-02,  1.00581206e-01,\n",
       "        3.20050538e-01,  6.06204152e-01, -1.14240432e-02, -2.91507721e-01,\n",
       "       -8.67147893e-02, -3.84043723e-01, -1.23378903e-01, -7.30212688e-01,\n",
       "       -1.57645360e-01,  5.31868398e-01,  8.00055623e-01,  3.20052773e-01,\n",
       "       -1.57134160e-01, -3.00949693e-01,  3.97049896e-02, -2.10417986e-01,\n",
       "        4.39872086e-01,  2.57849216e-01,  1.94012210e-01,  1.65318549e-01,\n",
       "        1.82225406e-01,  7.94334617e-03,  9.80523750e-02, -2.47338653e-01,\n",
       "       -3.48261118e-01, -2.28799894e-01, -1.24670357e-01, -1.12096451e-01,\n",
       "        3.08592618e-01, -3.43683273e-01, -1.13328293e-01,  5.50531521e-02,\n",
       "        5.11765599e-01, -4.20377292e-02, -1.94327623e-01,  1.60650566e-01,\n",
       "       -9.09967721e-02, -2.50224173e-01,  8.39498714e-02, -4.80806157e-02,\n",
       "       -1.73358217e-01,  2.76805907e-01, -3.05836648e-01,  1.12128884e-01,\n",
       "       -4.97556061e-01, -5.10765165e-02,  3.68382394e-01, -1.02129593e-01,\n",
       "        3.41961831e-01, -1.42983913e-01,  1.24947511e-01,  3.19007397e-01,\n",
       "        2.20295563e-01,  1.97052047e-01, -1.95397392e-01,  6.26731753e-01,\n",
       "       -4.05381024e-01, -3.10279205e-02, -1.88117042e-01, -3.96376908e-01,\n",
       "        1.30437672e-01,  1.94566980e-01,  1.27769753e-01, -3.09332520e-01,\n",
       "       -1.22918226e-01, -1.68093428e-01, -1.82286739e-01, -4.68861938e-01,\n",
       "        3.33985031e-01, -8.86485055e-02,  3.54710221e-01,  3.22258323e-01,\n",
       "       -1.83532044e-01, -3.54852378e-01,  1.50974616e-01,  1.39267430e-01,\n",
       "       -2.76269615e-01, -3.63629609e-01, -6.53187335e-02,  2.99917251e-01,\n",
       "       -2.90185183e-01, -1.88062832e-01, -2.90796459e-01,  4.02775547e-03,\n",
       "        4.54482764e-01, -2.12344304e-01,  6.88450634e-01,  4.56517711e-02,\n",
       "        3.71723711e-01,  5.79904437e-01, -5.16926885e-01,  4.41446155e-01,\n",
       "       -2.11982465e+00, -1.27190486e-01, -1.15325809e-01, -2.47447610e-01,\n",
       "       -2.53529459e-01, -1.84012502e-02,  1.56402811e-01, -6.32112548e-02,\n",
       "        1.59300700e-01, -4.72819880e-02,  3.12914670e-01, -2.36389816e-01,\n",
       "        3.78002375e-02,  1.07980818e-01,  9.04018641e-01, -2.53294051e-01],\n",
       "      dtype=float32)"
      ]
     },
     "execution_count": 170,
     "metadata": {},
     "output_type": "execute_result"
    }
   ],
   "source": [
    "correct_train_embeds[0]"
   ]
  },
  {
   "cell_type": "code",
   "execution_count": 171,
   "id": "ec25bfcf",
   "metadata": {},
   "outputs": [
    {
     "data": {
      "text/plain": [
       "[0.15525111556053162,\n",
       " -0.06961283832788467,\n",
       " 0.2710685729980469,\n",
       " 0.13228218257427216,\n",
       " -0.27729862928390503,\n",
       " -0.273941308259964,\n",
       " 0.14306332170963287,\n",
       " -0.05130733177065849,\n",
       " 0.14641298353672028,\n",
       " -0.14113691449165344,\n",
       " -0.1084710955619812,\n",
       " 0.043374478816986084,\n",
       " 0.28038308024406433,\n",
       " 0.13897785544395447,\n",
       " 0.062460340559482574,\n",
       " 0.12807758152484894,\n",
       " 0.18590164184570312,\n",
       " 0.24563077092170715,\n",
       " -0.11018306016921997,\n",
       " 0.09934895485639572,\n",
       " 0.27333125472068787,\n",
       " 0.2909688949584961,\n",
       " 0.3127841651439667,\n",
       " 0.09529408067464828,\n",
       " -0.38379666209220886,\n",
       " 0.08709416538476944,\n",
       " -0.028712518513202667,\n",
       " 0.34250569343566895,\n",
       " 0.2923794686794281,\n",
       " 0.2931540310382843,\n",
       " 0.040989555418491364,\n",
       " -0.014283282682299614,\n",
       " 0.057496096938848495,\n",
       " -0.1390453428030014,\n",
       " 0.08110374957323074,\n",
       " 0.16657547652721405,\n",
       " 0.14784842729568481,\n",
       " -0.1390305906534195,\n",
       " 0.2720507085323334,\n",
       " -0.18670567870140076,\n",
       " -0.2839764952659607,\n",
       " 0.10219655930995941,\n",
       " 0.2596624493598938,\n",
       " -0.18748845160007477,\n",
       " -0.04303700476884842,\n",
       " -0.1934185028076172,\n",
       " -2.830073356628418,\n",
       " 0.37263402342796326,\n",
       " -0.21307072043418884,\n",
       " -0.30687323212623596,\n",
       " 0.1131240725517273,\n",
       " 0.25510984659194946,\n",
       " -0.168043851852417,\n",
       " 0.047611042857170105,\n",
       " 0.07477826625108719,\n",
       " 0.4182959794998169,\n",
       " 0.0985475704073906,\n",
       " 0.02585831843316555,\n",
       " 0.3745999336242676,\n",
       " 0.16400538384914398,\n",
       " 0.3447231352329254,\n",
       " 0.24956363439559937,\n",
       " -0.41472572088241577,\n",
       " 0.1960146278142929,\n",
       " -0.2488889843225479,\n",
       " 0.7524802088737488,\n",
       " -0.47501325607299805,\n",
       " 0.6994121074676514,\n",
       " -0.9145666360855103,\n",
       " 0.38841280341148376,\n",
       " -0.3125854730606079,\n",
       " -0.058031875640153885,\n",
       " 0.24907009303569794,\n",
       " -0.006235381588339806,\n",
       " 0.33431148529052734,\n",
       " 0.32675859332084656,\n",
       " 0.013442312367260456,\n",
       " 0.050859201699495316,\n",
       " 0.13265244662761688,\n",
       " 0.3023894429206848,\n",
       " 0.04529138654470444,\n",
       " -0.19040486216545105,\n",
       " 0.06628028303384781,\n",
       " -0.23630133271217346,\n",
       " 0.13076777756214142,\n",
       " 0.342983216047287,\n",
       " 0.3746786415576935,\n",
       " 0.033899907022714615,\n",
       " 0.3826015293598175,\n",
       " 0.4327784478664398,\n",
       " 0.13767267763614655,\n",
       " -0.11909134685993195,\n",
       " 0.5626652240753174,\n",
       " 0.2848287522792816,\n",
       " -0.01148319337517023,\n",
       " -0.012461361475288868,\n",
       " -0.2661591172218323,\n",
       " -0.06221431866288185,\n",
       " -0.07220803946256638,\n",
       " 0.19051748514175415,\n",
       " 0.32770952582359314,\n",
       " -0.07130637764930725,\n",
       " 0.016168341040611267,\n",
       " -0.5086960196495056,\n",
       " 0.22773891687393188,\n",
       " -0.2426171749830246,\n",
       " -0.5867336392402649,\n",
       " -0.10029333829879761,\n",
       " 0.13461150228977203,\n",
       " -1.18795645236969,\n",
       " 0.22613584995269775,\n",
       " 0.5418338179588318,\n",
       " -0.14593440294265747,\n",
       " -0.1419927030801773,\n",
       " 0.44797223806381226,\n",
       " -0.09056898206472397,\n",
       " -0.18165631592273712,\n",
       " 0.33316048979759216,\n",
       " -0.03894244506955147,\n",
       " 0.04446006566286087,\n",
       " -0.15028752386569977,\n",
       " -0.08611472696065903,\n",
       " 0.2192474603652954,\n",
       " -0.1670304536819458,\n",
       " -0.27294373512268066,\n",
       " 0.09416230022907257,\n",
       " 0.2240719497203827,\n",
       " -0.32664358615875244,\n",
       " 0.22388112545013428,\n",
       " 0.44178688526153564,\n",
       " -0.38858383893966675,\n",
       " 0.021743644028902054,\n",
       " -0.1928926408290863,\n",
       " 0.030298719182610512,\n",
       " -0.167083278298378,\n",
       " -0.2920277416706085,\n",
       " 0.20783627033233643,\n",
       " 0.00540104741230607,\n",
       " -0.08435510843992233,\n",
       " -0.03585190325975418,\n",
       " -0.5538279414176941,\n",
       " -0.04115885868668556,\n",
       " -1.2548675537109375,\n",
       " 0.04686199873685837,\n",
       " 0.2499561309814453,\n",
       " 0.11746601015329361,\n",
       " -0.021956609562039375,\n",
       " 0.42720815539360046,\n",
       " -0.2775699198246002,\n",
       " -0.4072768986225128,\n",
       " -0.010994572192430496,\n",
       " -0.3507307767868042,\n",
       " -0.05655844509601593,\n",
       " 0.11228954046964645,\n",
       " -0.19216492772102356,\n",
       " -0.07069792598485947,\n",
       " -0.2668946385383606,\n",
       " -0.06445740908384323,\n",
       " 0.15232539176940918,\n",
       " 0.22933118045330048,\n",
       " -0.2932927906513214,\n",
       " 0.08469374477863312,\n",
       " 0.11804735660552979,\n",
       " -0.2129732370376587,\n",
       " 0.20541739463806152,\n",
       " -0.2694166898727417,\n",
       " 0.02281571924686432,\n",
       " 0.22038514912128448,\n",
       " -0.10152766853570938,\n",
       " 0.06352241337299347,\n",
       " 0.4268626272678375,\n",
       " -0.31554338335990906,\n",
       " 0.28733059763908386,\n",
       " -0.2739086449146271,\n",
       " -0.0667153000831604,\n",
       " -0.26397383213043213,\n",
       " 0.3870213031768799,\n",
       " 0.24451473355293274,\n",
       " -0.020586902275681496,\n",
       " 0.09427060186862946,\n",
       " -0.22313669323921204,\n",
       " 0.4851211607456207,\n",
       " 0.21796807646751404,\n",
       " -0.6865120530128479,\n",
       " -0.28484946489334106,\n",
       " 0.30535539984703064,\n",
       " 0.2072940617799759,\n",
       " 0.13745887577533722,\n",
       " 0.0647697001695633,\n",
       " 0.009371074847877026,\n",
       " -0.32841426134109497,\n",
       " -0.24559545516967773,\n",
       " 0.013182628899812698,\n",
       " -0.03850041329860687,\n",
       " 0.280531644821167,\n",
       " 0.28451067209243774,\n",
       " -0.09444531798362732,\n",
       " -0.047331299632787704,\n",
       " 0.23526234924793243,\n",
       " -0.2957165241241455,\n",
       " 0.14458271861076355,\n",
       " 0.30300161242485046,\n",
       " -0.2960353195667267,\n",
       " 0.36536261439323425,\n",
       " 0.12641648948192596,\n",
       " 1.6098302602767944,\n",
       " 0.1865990161895752,\n",
       " -0.11819978803396225,\n",
       " -0.060123614966869354,\n",
       " -0.22635509073734283,\n",
       " -0.047983601689338684,\n",
       " -0.43794283270835876,\n",
       " 0.10868264734745026,\n",
       " -0.1872175633907318,\n",
       " -0.11276295781135559,\n",
       " -0.29464560747146606,\n",
       " 0.07813684642314911,\n",
       " -0.24966466426849365,\n",
       " 0.014168165624141693,\n",
       " -0.04847100004553795,\n",
       " -0.18347516655921936,\n",
       " 0.015666872262954712,\n",
       " -0.1694745272397995,\n",
       " 0.26679277420043945,\n",
       " -0.13472118973731995,\n",
       " -0.27697089314460754,\n",
       " 0.08392021059989929,\n",
       " -0.904493510723114,\n",
       " -0.23268143832683563,\n",
       " -0.8026408553123474,\n",
       " 0.1515611857175827,\n",
       " -0.3331689238548279,\n",
       " -0.040148284286260605,\n",
       " -0.2265038639307022,\n",
       " -0.5950554609298706,\n",
       " -0.2088347226381302,\n",
       " -0.1411622315645218,\n",
       " -0.44694623351097107,\n",
       " -0.11883663386106491,\n",
       " -0.3245247006416321,\n",
       " -0.04446559026837349,\n",
       " 0.33685800433158875,\n",
       " -0.24172964692115784,\n",
       " 0.1447867602109909,\n",
       " -0.30248427391052246,\n",
       " -0.26283079385757446,\n",
       " 0.021235644817352295,\n",
       " 0.01182478852570057,\n",
       " -0.021573541685938835,\n",
       " -0.28800293803215027,\n",
       " 0.03697536513209343,\n",
       " -0.5757260322570801,\n",
       " -0.16431570053100586,\n",
       " -0.08070797473192215,\n",
       " 0.11488338559865952,\n",
       " 0.24060766398906708,\n",
       " 0.313273549079895,\n",
       " 0.2769226133823395,\n",
       " 0.0002077791723422706,\n",
       " -0.12974335253238678,\n",
       " 0.0885600671172142,\n",
       " 0.3199262320995331,\n",
       " 0.20093724131584167,\n",
       " 0.06375832855701447,\n",
       " -0.35052335262298584,\n",
       " 0.15404482185840607,\n",
       " 0.2888742983341217,\n",
       " -0.37664803862571716,\n",
       " 0.199421688914299,\n",
       " -0.015021484345197678,\n",
       " 0.005992336664348841,\n",
       " 0.0688936859369278,\n",
       " -0.22554734349250793,\n",
       " -0.417167603969574,\n",
       " -0.01393122412264347,\n",
       " -0.021452877670526505,\n",
       " 0.514235258102417,\n",
       " -0.17790888249874115,\n",
       " -0.2339162975549698,\n",
       " 0.10582181811332703,\n",
       " 0.09729892760515213,\n",
       " 0.3476877808570862,\n",
       " 0.3479420244693756,\n",
       " -0.37127402424812317,\n",
       " -0.21072936058044434,\n",
       " -0.04065166786313057,\n",
       " 0.19387556612491608,\n",
       " 0.14931239187717438,\n",
       " 0.7450260519981384,\n",
       " -0.35249996185302734,\n",
       " 0.04693479463458061,\n",
       " 0.5601517558097839,\n",
       " 0.09627474844455719,\n",
       " 0.15744170546531677,\n",
       " 0.19927583634853363,\n",
       " -0.626544177532196,\n",
       " 0.34217187762260437,\n",
       " 0.14294598996639252,\n",
       " -0.08268792182207108,\n",
       " 0.014093703590333462,\n",
       " -0.6013089418411255,\n",
       " 0.09850296378135681,\n",
       " 0.06924173980951309,\n",
       " 0.03575018420815468,\n",
       " -0.11277931183576584,\n",
       " 0.1600264310836792,\n",
       " 0.11206679791212082,\n",
       " -0.2099451720714569,\n",
       " -4.616361141204834,\n",
       " 0.01795509085059166,\n",
       " -0.39291149377822876,\n",
       " -0.5208449959754944,\n",
       " 0.27691492438316345,\n",
       " -0.19817285239696503,\n",
       " 0.34723150730133057,\n",
       " -0.08469066023826599,\n",
       " 0.1182314082980156,\n",
       " -0.07348791509866714,\n",
       " -0.1099996566772461,\n",
       " 0.27787894010543823,\n",
       " -0.6363292336463928,\n",
       " -0.023234445601701736,\n",
       " -0.34519779682159424,\n",
       " -0.557233989238739,\n",
       " 0.626732349395752,\n",
       " 0.09591522067785263,\n",
       " -0.3020477592945099,\n",
       " -0.082480289041996,\n",
       " -0.3856281638145447,\n",
       " -0.17727382481098175,\n",
       " 0.24298273026943207,\n",
       " 0.3328133523464203,\n",
       " 0.573383629322052,\n",
       " 0.2931528091430664,\n",
       " -0.3923322558403015,\n",
       " -0.2895282208919525,\n",
       " 0.06156962737441063,\n",
       " -0.16697704792022705,\n",
       " 0.012728400528430939,\n",
       " -0.3900807499885559,\n",
       " 0.052092380821704865,\n",
       " 0.06990548968315125,\n",
       " 0.2300085723400116,\n",
       " 0.12419166415929794,\n",
       " -0.05075465515255928,\n",
       " 0.11950387805700302,\n",
       " 0.24406981468200684,\n",
       " -0.29506224393844604,\n",
       " 0.459150105714798,\n",
       " 0.014872628264129162,\n",
       " 0.05458919703960419,\n",
       " -0.23616215586662292,\n",
       " 0.6174983382225037,\n",
       " -0.06287907809019089,\n",
       " -0.21339043974876404,\n",
       " 0.6064264178276062,\n",
       " 0.06923983246088028,\n",
       " 0.1353723555803299,\n",
       " -0.09078402817249298,\n",
       " 0.22530832886695862,\n",
       " 0.4638157784938812,\n",
       " -0.06704352051019669,\n",
       " -0.009732604958117008,\n",
       " -0.017557334154844284,\n",
       " 0.13724981248378754,\n",
       " -0.13404132425785065,\n",
       " -0.3243766129016876,\n",
       " -0.002192332176491618,\n",
       " 0.12145309150218964,\n",
       " 0.004125908482819796,\n",
       " -0.1547594666481018,\n",
       " 0.12061452865600586,\n",
       " 0.06749339401721954,\n",
       " -0.0760805755853653,\n",
       " 0.2033425271511078,\n",
       " -0.09854891896247864,\n",
       " -0.2109963446855545,\n",
       " 0.004115445073693991,\n",
       " -0.5651835799217224,\n",
       " -0.05760420113801956,\n",
       " 0.14268240332603455,\n",
       " -0.10075889527797699,\n",
       " 0.4030815064907074,\n",
       " -0.36629435420036316,\n",
       " -0.2475404590368271,\n",
       " 0.19275833666324615,\n",
       " 0.13872583210468292,\n",
       " 0.06617172807455063,\n",
       " -0.7066930532455444,\n",
       " 0.1063457801938057,\n",
       " 0.08482629805803299,\n",
       " 0.19427715241909027,\n",
       " -0.14835642278194427,\n",
       " 0.01271822489798069,\n",
       " -0.08349104225635529,\n",
       " 0.0007270320202223957,\n",
       " -0.00890245009213686,\n",
       " 0.5150037407875061,\n",
       " 0.07130648195743561,\n",
       " -0.06682099401950836,\n",
       " 0.26674190163612366,\n",
       " 0.1575697809457779,\n",
       " -0.3835711181163788,\n",
       " 0.6218867301940918,\n",
       " 0.1501154601573944,\n",
       " 0.07351530343294144,\n",
       " 0.42798271775245667,\n",
       " -0.3716489374637604,\n",
       " 0.18158170580863953,\n",
       " -0.5274354219436646,\n",
       " -0.1954411268234253,\n",
       " -0.126204714179039,\n",
       " -0.15064619481563568,\n",
       " 0.09646888822317123,\n",
       " -0.4796008765697479,\n",
       " -0.34312909841537476,\n",
       " -0.0333174467086792,\n",
       " -0.1777687966823578,\n",
       " -0.08526359498500824,\n",
       " 0.18786339461803436,\n",
       " -0.2802533507347107,\n",
       " 0.12120579183101654,\n",
       " 0.7014554142951965,\n",
       " -0.4506484866142273,\n",
       " -0.2012857049703598,\n",
       " 0.22729887068271637,\n",
       " 0.23005928099155426,\n",
       " -0.045102834701538086,\n",
       " 0.11846856772899628,\n",
       " -0.21680361032485962,\n",
       " 0.02894195169210434,\n",
       " -0.05369105935096741,\n",
       " -0.39244917035102844,\n",
       " 0.433567613363266,\n",
       " 0.2822777330875397,\n",
       " -0.10959827899932861,\n",
       " -0.07386761903762817,\n",
       " -0.15251128375530243,\n",
       " 0.07894380390644073,\n",
       " -0.3899866044521332,\n",
       " -0.3175143301486969,\n",
       " -0.02321797050535679,\n",
       " 0.100467748939991,\n",
       " -0.036509569734334946,\n",
       " -0.09929301589727402,\n",
       " 0.12702904641628265,\n",
       " -0.06331159919500351,\n",
       " -0.3487119674682617,\n",
       " 0.5210429430007935,\n",
       " 0.16820868849754333,\n",
       " -0.08775343745946884,\n",
       " 0.5316539406776428,\n",
       " 0.4185965359210968,\n",
       " -0.0060968343168497086,\n",
       " 0.15492117404937744,\n",
       " 0.08101866394281387,\n",
       " -0.22579598426818848,\n",
       " 0.27893874049186707,\n",
       " -0.1758863627910614,\n",
       " -0.6820432543754578,\n",
       " 0.08910069614648819,\n",
       " -0.2391357272863388,\n",
       " 0.3564932346343994,\n",
       " 0.5893976092338562,\n",
       " -0.04329328611493111,\n",
       " -0.2513848543167114,\n",
       " -0.12369600683450699,\n",
       " -0.20252105593681335,\n",
       " 0.6552375555038452,\n",
       " 0.25953635573387146,\n",
       " -1.6219850778579712,\n",
       " 0.2847535312175751,\n",
       " 0.29622161388397217,\n",
       " -0.13064947724342346,\n",
       " 0.40305858850479126,\n",
       " 0.027265721932053566,\n",
       " 0.1747562438249588,\n",
       " 0.034725122153759,\n",
       " 0.1499236822128296,\n",
       " 0.197758749127388,\n",
       " -0.08666085451841354,\n",
       " 0.09490286558866501,\n",
       " -0.04557285085320473,\n",
       " 0.17250798642635345,\n",
       " 0.49728262424468994,\n",
       " 0.11425366252660751,\n",
       " 0.04475972056388855,\n",
       " 0.06497403234243393,\n",
       " -0.10526267439126968,\n",
       " 0.2735591232776642,\n",
       " 0.09253069013357162,\n",
       " 0.8124619722366333,\n",
       " 0.4015004336833954,\n",
       " 0.18879906833171844,\n",
       " 0.1791018694639206,\n",
       " -0.12698043882846832,\n",
       " -0.3468710482120514,\n",
       " 0.42205551266670227,\n",
       " 0.09536533057689667,\n",
       " -0.03106207773089409,\n",
       " 0.2235824465751648,\n",
       " -0.8089413046836853,\n",
       " 0.16189900040626526,\n",
       " 0.011238975450396538,\n",
       " 0.339609831571579,\n",
       " 0.25629398226737976,\n",
       " -0.17881564795970917,\n",
       " 0.36997440457344055,\n",
       " -0.14774347841739655,\n",
       " 0.43476495146751404,\n",
       " 0.27107736468315125,\n",
       " 0.2840176820755005,\n",
       " 0.41725122928619385,\n",
       " 0.2819676399230957,\n",
       " -0.06362368166446686,\n",
       " 0.2488800436258316,\n",
       " -0.22691607475280762,\n",
       " -0.41178691387176514,\n",
       " 0.12416963279247284,\n",
       " -0.04435453191399574,\n",
       " 0.3391246795654297,\n",
       " 0.6628179550170898,\n",
       " 0.29240214824676514,\n",
       " -0.34854626655578613,\n",
       " -0.24543480575084686,\n",
       " 0.02962358295917511,\n",
       " 0.10302133858203888,\n",
       " -0.26227161288261414,\n",
       " 0.23170295357704163,\n",
       " -0.4209500253200531,\n",
       " 0.10838942229747772,\n",
       " -0.48478975892066956,\n",
       " 0.2474505752325058,\n",
       " 0.011050782166421413,\n",
       " 0.10601218044757843,\n",
       " -0.4185211956501007,\n",
       " 0.39840462803840637,\n",
       " -0.17563797533512115,\n",
       " -0.08532729744911194,\n",
       " -0.5158846974372864,\n",
       " 0.05763449892401695,\n",
       " 0.12305230647325516,\n",
       " -0.417088121175766,\n",
       " 0.01680207997560501,\n",
       " 0.19994330406188965,\n",
       " -0.03252176195383072,\n",
       " 0.0862375870347023,\n",
       " 0.47337400913238525,\n",
       " -0.03702355921268463,\n",
       " -0.3666558861732483,\n",
       " 0.30635741353034973,\n",
       " -0.5142067670822144,\n",
       " -0.23861569166183472,\n",
       " 0.26318058371543884,\n",
       " 0.04747847095131874,\n",
       " -0.06154220178723335,\n",
       " -0.0760379284620285,\n",
       " 0.2906179130077362,\n",
       " 0.011235321871936321,\n",
       " -0.023804647848010063,\n",
       " -0.13711252808570862,\n",
       " -0.49533215165138245,\n",
       " 0.3913852572441101,\n",
       " -0.0535898394882679,\n",
       " 0.05179071053862572,\n",
       " -0.10721777379512787,\n",
       " -0.1871909201145172,\n",
       " -0.01993694342672825,\n",
       " -0.25772422552108765,\n",
       " 0.052557505667209625,\n",
       " -0.29737886786460876,\n",
       " 0.0609736293554306,\n",
       " -0.1948692798614502,\n",
       " 0.061732202768325806,\n",
       " 0.09992532432079315,\n",
       " 0.1280219852924347,\n",
       " 0.42017027735710144,\n",
       " -0.5219698548316956,\n",
       " -0.3193817436695099,\n",
       " 0.04177902266383171,\n",
       " 0.11191167682409286,\n",
       " -0.003878244897350669,\n",
       " 0.006496230140328407,\n",
       " 0.20838932693004608,\n",
       " 0.05119844898581505,\n",
       " -0.23610615730285645,\n",
       " -0.1723436713218689,\n",
       " -0.0770532637834549,\n",
       " 0.9026225805282593,\n",
       " -0.15111473202705383,\n",
       " 0.422184020280838,\n",
       " -0.15565617382526398,\n",
       " 0.3890725374221802,\n",
       " 0.04253435507416725,\n",
       " 0.04368945583701134,\n",
       " -0.3333163261413574,\n",
       " 0.0074798306450247765,\n",
       " -0.3485748767852783,\n",
       " -0.262625515460968,\n",
       " 0.05312315747141838,\n",
       " -0.09287060797214508,\n",
       " -0.5246948003768921,\n",
       " 0.04837306961417198,\n",
       " 0.31248900294303894,\n",
       " 0.006437769625335932,\n",
       " 0.2792584002017975,\n",
       " -0.5997737050056458,\n",
       " -0.0019740990828722715,\n",
       " -0.14308284223079681,\n",
       " -0.22179420292377472,\n",
       " 0.029332322999835014,\n",
       " -0.21444641053676605,\n",
       " -0.38708341121673584,\n",
       " 0.033091951161623,\n",
       " 0.32779473066329956,\n",
       " -0.4201156497001648,\n",
       " -0.014260640367865562,\n",
       " -0.016131551936268806,\n",
       " -0.2817322313785553,\n",
       " -0.027239268645644188,\n",
       " 0.12620198726654053,\n",
       " 0.11794819682836533,\n",
       " 0.0348060205578804,\n",
       " -0.2110823392868042,\n",
       " -0.059405118227005005,\n",
       " -0.1662948876619339,\n",
       " -0.2321995347738266,\n",
       " 0.42409786581993103,\n",
       " 0.0018333338666707277,\n",
       " 0.013156167231500149,\n",
       " 0.35991719365119934,\n",
       " 0.04457501322031021,\n",
       " 0.10314982384443283,\n",
       " -0.1555141657590866,\n",
       " -0.09486012160778046,\n",
       " -0.32187598943710327,\n",
       " 0.28997552394866943,\n",
       " 0.535977840423584,\n",
       " 0.07872519642114639,\n",
       " -0.25155049562454224,\n",
       " -0.2764164209365845,\n",
       " 0.1651928424835205,\n",
       " -0.4938681423664093,\n",
       " 0.3515056371688843,\n",
       " 0.057680971920490265,\n",
       " -0.26279759407043457,\n",
       " -0.37087196111679077,\n",
       " 0.3239953815937042,\n",
       " -0.07859799265861511,\n",
       " 0.41474705934524536,\n",
       " 0.4410374164581299,\n",
       " -0.6192616820335388,\n",
       " 0.07264207303524017,\n",
       " -0.24122561514377594,\n",
       " 0.00029973904020152986,\n",
       " -0.43699145317077637,\n",
       " -0.019471295177936554,\n",
       " -0.2561558485031128,\n",
       " -0.07477400451898575,\n",
       " 0.10058120638132095,\n",
       " 0.32005053758621216,\n",
       " 0.6062041521072388,\n",
       " -0.011424043215811253,\n",
       " -0.2915077209472656,\n",
       " -0.08671478927135468,\n",
       " -0.38404372334480286,\n",
       " -0.12337890267372131,\n",
       " -0.7302126884460449,\n",
       " -0.1576453596353531,\n",
       " 0.5318683981895447,\n",
       " 0.8000556230545044,\n",
       " 0.32005277276039124,\n",
       " -0.15713416039943695,\n",
       " -0.30094969272613525,\n",
       " 0.03970498964190483,\n",
       " -0.2104179859161377,\n",
       " 0.4398720860481262,\n",
       " 0.25784921646118164,\n",
       " 0.19401220977306366,\n",
       " 0.1653185486793518,\n",
       " 0.18222540616989136,\n",
       " 0.007943346165120602,\n",
       " 0.09805237501859665,\n",
       " -0.2473386526107788,\n",
       " -0.34826111793518066,\n",
       " -0.22879989445209503,\n",
       " -0.1246703565120697,\n",
       " -0.11209645122289658,\n",
       " 0.30859261751174927,\n",
       " -0.34368327260017395,\n",
       " -0.11332829296588898,\n",
       " 0.05505315214395523,\n",
       " 0.5117655992507935,\n",
       " -0.0420377291738987,\n",
       " -0.19432762265205383,\n",
       " 0.1606505662202835,\n",
       " -0.09099677205085754,\n",
       " -0.25022417306900024,\n",
       " 0.08394987136125565,\n",
       " -0.04808061569929123,\n",
       " -0.17335821688175201,\n",
       " 0.27680590748786926,\n",
       " -0.30583664774894714,\n",
       " 0.11212888360023499,\n",
       " -0.49755606055259705,\n",
       " -0.05107651650905609,\n",
       " 0.36838239431381226,\n",
       " -0.10212959349155426,\n",
       " 0.3419618308544159,\n",
       " -0.14298391342163086,\n",
       " 0.12494751065969467,\n",
       " 0.31900739669799805,\n",
       " 0.22029556334018707,\n",
       " 0.19705204665660858,\n",
       " -0.19539739191532135,\n",
       " 0.6267317533493042,\n",
       " -0.4053810238838196,\n",
       " -0.03102792054414749,\n",
       " -0.18811704218387604,\n",
       " -0.39637690782546997,\n",
       " 0.1304376721382141,\n",
       " 0.1945669800043106,\n",
       " 0.12776975333690643,\n",
       " -0.3093325197696686,\n",
       " -0.12291822582483292,\n",
       " -0.16809342801570892,\n",
       " -0.18228673934936523,\n",
       " -0.4688619375228882,\n",
       " 0.33398503065109253,\n",
       " -0.08864850550889969,\n",
       " 0.3547102212905884,\n",
       " 0.322258323431015,\n",
       " -0.18353204429149628,\n",
       " -0.3548523783683777,\n",
       " 0.15097461640834808,\n",
       " 0.1392674297094345,\n",
       " -0.2762696146965027,\n",
       " -0.36362960934638977,\n",
       " -0.06531873345375061,\n",
       " 0.2999172508716583,\n",
       " -0.29018518328666687,\n",
       " -0.18806283175945282,\n",
       " -0.2907964587211609,\n",
       " 0.004027755465358496,\n",
       " 0.454482764005661,\n",
       " -0.21234430372714996,\n",
       " 0.6884506344795227,\n",
       " 0.04565177112817764,\n",
       " 0.3717237114906311,\n",
       " 0.5799044370651245,\n",
       " -0.5169268846511841,\n",
       " 0.4414461553096771,\n",
       " -2.1198246479034424,\n",
       " -0.1271904855966568,\n",
       " -0.11532580852508545,\n",
       " -0.24744760990142822,\n",
       " -0.25352945923805237,\n",
       " -0.01840125024318695,\n",
       " 0.1564028114080429,\n",
       " -0.06321125477552414,\n",
       " 0.15930069983005524,\n",
       " -0.047281987965106964,\n",
       " 0.3129146695137024,\n",
       " -0.23638981580734253,\n",
       " 0.03780023753643036,\n",
       " 0.10798081755638123,\n",
       " 0.9040186405181885,\n",
       " -0.25329405069351196]"
      ]
     },
     "execution_count": 171,
     "metadata": {},
     "output_type": "execute_result"
    }
   ],
   "source": [
    "dataset.train_data[\"embeddings\"][0]"
   ]
  },
  {
   "cell_type": "code",
   "execution_count": 86,
   "id": "cfe15044",
   "metadata": {},
   "outputs": [
    {
     "data": {
      "text/plain": [
       "True"
      ]
     },
     "execution_count": 86,
     "metadata": {},
     "output_type": "execute_result"
    }
   ],
   "source": [
    "265 in set(train_ids)"
   ]
  },
  {
   "cell_type": "code",
   "execution_count": 87,
   "id": "6dd09661",
   "metadata": {},
   "outputs": [
    {
     "data": {
      "text/plain": [
       "array([ 2,  3,  5,  6,  7,  8,  9, 10, 12, 15])"
      ]
     },
     "execution_count": 87,
     "metadata": {},
     "output_type": "execute_result"
    }
   ],
   "source": [
    "train_embeds_idx.flatten()[:10]"
   ]
  },
  {
   "cell_type": "code",
   "execution_count": 88,
   "id": "059edf35",
   "metadata": {},
   "outputs": [],
   "source": [
    "train_embeds_idx = train_embeds_idx.flatten()"
   ]
  },
  {
   "cell_type": "code",
   "execution_count": 89,
   "id": "2d125a78",
   "metadata": {},
   "outputs": [
    {
     "data": {
      "text/plain": [
       "323189"
      ]
     },
     "execution_count": 89,
     "metadata": {},
     "output_type": "execute_result"
    }
   ],
   "source": [
    "len(train_embeds_idx)"
   ]
  },
  {
   "cell_type": "code",
   "execution_count": 142,
   "id": "423c259c",
   "metadata": {},
   "outputs": [
    {
     "data": {
      "text/plain": [
       "(539502, 768)"
      ]
     },
     "execution_count": 142,
     "metadata": {},
     "output_type": "execute_result"
    }
   ],
   "source": [
    "full_embeds.shape"
   ]
  },
  {
   "cell_type": "code",
   "execution_count": 143,
   "id": "e358297e",
   "metadata": {},
   "outputs": [
    {
     "data": {
      "text/plain": [
       "10116947"
      ]
     },
     "execution_count": 143,
     "metadata": {},
     "output_type": "execute_result"
    }
   ],
   "source": [
    "len(data_df)"
   ]
  },
  {
   "cell_type": "code",
   "execution_count": 90,
   "id": "e5b77ba9",
   "metadata": {},
   "outputs": [],
   "source": [
    "my_train_embeds = full_embeds[train_embeds_idx]"
   ]
  },
  {
   "cell_type": "code",
   "execution_count": 173,
   "id": "1d0c472d",
   "metadata": {},
   "outputs": [],
   "source": [
    "train_embeds_correct = np.array(dataset.train_data['embeddings'])\n",
    "val_embeds_correct = np.array(dataset.val_data['embeddings'])\n",
    "test_embeds_correct = np.array(dataset.test_data['embeddings'])"
   ]
  },
  {
   "cell_type": "code",
   "execution_count": 174,
   "id": "eb5c4b41",
   "metadata": {},
   "outputs": [
    {
     "data": {
      "text/plain": [
       "(323189, 768)"
      ]
     },
     "execution_count": 174,
     "metadata": {},
     "output_type": "execute_result"
    }
   ],
   "source": [
    "train_embeds_correct.shape"
   ]
  },
  {
   "cell_type": "code",
   "execution_count": 175,
   "id": "cc5ed210",
   "metadata": {},
   "outputs": [
    {
     "data": {
      "text/plain": [
       "(107395, 768)"
      ]
     },
     "execution_count": 175,
     "metadata": {},
     "output_type": "execute_result"
    }
   ],
   "source": [
    "val_embeds2.shape"
   ]
  },
  {
   "cell_type": "code",
   "execution_count": 176,
   "id": "ff4c2df2",
   "metadata": {},
   "outputs": [
    {
     "data": {
      "text/plain": [
       "(108918, 768)"
      ]
     },
     "execution_count": 176,
     "metadata": {},
     "output_type": "execute_result"
    }
   ],
   "source": [
    "test_embeds2.shape"
   ]
  },
  {
   "cell_type": "code",
   "execution_count": 177,
   "id": "691da037",
   "metadata": {},
   "outputs": [],
   "source": [
    "output_dir = \"/data/ddmg/redditlanguagemodeling/data/AmazonReviews/data/amazon_v2.0/embeddings/pretrained_distilbert_embeddings\""
   ]
  },
  {
   "cell_type": "code",
   "execution_count": 180,
   "id": "5f6e22f5",
   "metadata": {},
   "outputs": [],
   "source": [
    "full_path = os.path.join(output_dir, \"train_my_user_split_split\", \"embeddings.npy\")\n",
    "np.save(full_path, train_embeds_correct)"
   ]
  },
  {
   "cell_type": "code",
   "execution_count": 181,
   "id": "39a90da2",
   "metadata": {},
   "outputs": [],
   "source": [
    "full_path = os.path.join(output_dir, \"val_my_user_split_split\", \"embeddings.npy\")\n",
    "np.save(full_path, val_embeds_correct)"
   ]
  },
  {
   "cell_type": "code",
   "execution_count": 182,
   "id": "6d8f8971",
   "metadata": {},
   "outputs": [],
   "source": [
    "full_path = os.path.join(output_dir, \"test_my_user_split_split\", \"embeddings.npy\")\n",
    "np.save(full_path, test_embeds_correct)"
   ]
  },
  {
   "cell_type": "code",
   "execution_count": 183,
   "id": "e2b23b56",
   "metadata": {},
   "outputs": [
    {
     "name": "stdout",
     "output_type": "stream",
     "text": [
      "loading processed data from /data/ddmg/redditlanguagemodeling/data/AmazonReviews/data/amazon_v2.0/amazon_reviews_clf_processed\n"
     ]
    }
   ],
   "source": [
    "# test loading\n",
    "dataset = AmazonClfDataset(**data_kwargs)"
   ]
  },
  {
   "cell_type": "code",
   "execution_count": 184,
   "id": "2993dd28",
   "metadata": {},
   "outputs": [
    {
     "name": "stdout",
     "output_type": "stream",
     "text": [
      "loading existing embeddings for train data\n",
      "loading existing embeddings for val data\n",
      "loading existing embeddings for test data\n"
     ]
    }
   ],
   "source": [
    "embed_path2 = \"/data/ddmg/redditlanguagemodeling/data/AmazonReviews/data/amazon_v2.0/embeddings/pretrained_distilbert_embeddings/\"\n",
    "dataset.embed_data(None, embed_path2)"
   ]
  },
  {
   "cell_type": "code",
   "execution_count": 185,
   "id": "9a5036d3",
   "metadata": {},
   "outputs": [],
   "source": [
    "# check that they're the same\n",
    "train_embeds3 = np.array(dataset.train_data[\"embeddings\"])"
   ]
  },
  {
   "cell_type": "code",
   "execution_count": 186,
   "id": "e9c99aac",
   "metadata": {},
   "outputs": [
    {
     "data": {
      "text/plain": [
       "(323189, 768)"
      ]
     },
     "execution_count": 186,
     "metadata": {},
     "output_type": "execute_result"
    }
   ],
   "source": [
    "train_embeds3.shape"
   ]
  },
  {
   "cell_type": "code",
   "execution_count": 187,
   "id": "ec75707f",
   "metadata": {},
   "outputs": [
    {
     "data": {
      "text/plain": [
       "array([[ 0.15525112, -0.06961284,  0.27106857, ...,  0.10798082,\n",
       "         0.90401864, -0.25329405],\n",
       "       [ 0.14208876, -0.0629039 ,  0.28599852, ...,  0.11088746,\n",
       "         0.9271113 , -0.25298944],\n",
       "       [-0.25735804, -0.10139676,  0.17112641, ...,  0.12234319,\n",
       "         0.6516504 ,  0.08611652],\n",
       "       ...,\n",
       "       [-0.13120277, -0.17291299,  0.17162399, ...,  0.00635154,\n",
       "         0.6265656 ,  0.0522908 ],\n",
       "       [-0.07103907, -0.18219435,  0.2228767 , ...,  0.13739847,\n",
       "         0.78104264, -0.10259182],\n",
       "       [ 0.03965759, -0.09972169,  0.2645914 , ...,  0.07419898,\n",
       "         0.87505436, -0.2304192 ]], dtype=float32)"
      ]
     },
     "execution_count": 187,
     "metadata": {},
     "output_type": "execute_result"
    }
   ],
   "source": [
    "correct_train_embeds[:10]"
   ]
  },
  {
   "cell_type": "code",
   "execution_count": 188,
   "id": "1e592983",
   "metadata": {},
   "outputs": [
    {
     "data": {
      "text/plain": [
       "array([[ 0.15525112, -0.06961284,  0.27106857, ...,  0.10798082,\n",
       "         0.90401864, -0.25329405],\n",
       "       [ 0.14208876, -0.0629039 ,  0.28599852, ...,  0.11088746,\n",
       "         0.92711133, -0.25298944],\n",
       "       [-0.25735804, -0.10139676,  0.17112641, ...,  0.12234319,\n",
       "         0.65165043,  0.08611652],\n",
       "       ...,\n",
       "       [-0.13120277, -0.17291299,  0.17162399, ...,  0.00635154,\n",
       "         0.62656558,  0.0522908 ],\n",
       "       [-0.07103907, -0.18219435,  0.2228767 , ...,  0.13739847,\n",
       "         0.78104264, -0.10259182],\n",
       "       [ 0.03965759, -0.09972169,  0.2645914 , ...,  0.07419898,\n",
       "         0.87505436, -0.2304192 ]])"
      ]
     },
     "execution_count": 188,
     "metadata": {},
     "output_type": "execute_result"
    }
   ],
   "source": [
    "train_embeds3[:10]"
   ]
  },
  {
   "cell_type": "code",
   "execution_count": 132,
   "id": "1b94bc0c",
   "metadata": {},
   "outputs": [],
   "source": [
    "my_embeds = my_train_embeds[:100, :]"
   ]
  },
  {
   "cell_type": "code",
   "execution_count": 133,
   "id": "a054690f",
   "metadata": {},
   "outputs": [
    {
     "data": {
      "text/plain": [
       "(100, 768)"
      ]
     },
     "execution_count": 133,
     "metadata": {},
     "output_type": "execute_result"
    }
   ],
   "source": [
    "my_embeds.shape"
   ]
  },
  {
   "cell_type": "markdown",
   "id": "019725b2",
   "metadata": {},
   "source": [
    "## Train GMM-based Clustering Model\n",
    "* Use just training data so any analysis we do that has to do with selecting clustering model based on labels doesn't bias final results"
   ]
  },
  {
   "cell_type": "code",
   "execution_count": 2,
   "id": "dabbb286",
   "metadata": {},
   "outputs": [],
   "source": [
    "from sklearn.mixture import GaussianMixture"
   ]
  },
  {
   "cell_type": "code",
   "execution_count": 134,
   "id": "b6697896",
   "metadata": {},
   "outputs": [
    {
     "name": "stdout",
     "output_type": "stream",
     "text": [
      "Fitting GMM with 5 components\n",
      "finished for k=5 in time 0.353879451751709\n",
      "Fitting GMM with 10 components\n",
      "finished for k=10 in time 0.6772630214691162\n"
     ]
    }
   ],
   "source": [
    "# quick test \n",
    "my_embeds = my_train_embeds[:100, :]\n",
    "k = [5, 10]\n",
    "models = []\n",
    "scores = []\n",
    "output_path = \"/data/ddmg/redditlanguagemodeling/data/AmazonReviews/data/amazon_v2.0/clusters/gmm_pretrained_distilbert_embeddings\"\n",
    "for n_components in k:\n",
    "    print(\"Fitting GMM with {} components\".format(n_components))\n",
    "    start_time = time.time()\n",
    "    gmm = GaussianMixture(n_components=n_components).fit(my_embeds)\n",
    "    models.append(gmm)\n",
    "    finish_time = time.time()\n",
    "    preds = gmm.predict(my_embeds)\n",
    "    sil_score = silhouette_score(my_embeds, preds, metric='cosine', sample_size=10000)\n",
    "    scores.append(sil_score)\n",
    "    # save to file\n",
    "    np.save(os.path.join(output_path, \"{}_weights.npy\".format(n_components)), gmm.weights_)\n",
    "    np.save(os.path.join(output_path, \"{}_means.npy\".format(n_components)), gmm.means_)\n",
    "    np.save(os.path.join(output_path, \"{}_covariances.npy\".format(n_components)), gmm.covariances_)\n",
    "    print(\"finished for k={} in time {}\".format(n_components, finish_time - start_time))"
   ]
  },
  {
   "cell_type": "code",
   "execution_count": null,
   "id": "9ae7c9c5",
   "metadata": {},
   "outputs": [
    {
     "name": "stdout",
     "output_type": "stream",
     "text": [
      "Fitting GMM with 5 components\n",
      "finished for k=5 in time 2500.6004118919373\n",
      "Fitting GMM with 10 components\n",
      "finished for k=10 in time 6798.438852071762\n",
      "Fitting GMM with 15 components\n",
      "finished for k=15 in time 3561.7555515766144\n",
      "Fitting GMM with 20 components\n",
      "finished for k=20 in time 3749.037498474121\n",
      "Fitting GMM with 25 components\n"
     ]
    }
   ],
   "source": [
    "# train for k = 5, 10, 15, 20, 25\n",
    "k = [5, 10, 15, 20, 25, 30]\n",
    "models = []\n",
    "scores = []\n",
    "output_path = \"/data/ddmg/redditlanguagemodeling/data/AmazonReviews/data/amazon_v2.0/clusters/gmm_pretrained_distilbert_embeddings\"\n",
    "for n_components in k:\n",
    "    print(\"Fitting GMM with {} components\".format(n_components))\n",
    "    start_time = time.time()\n",
    "    gmm = GaussianMixture(n_components=n_components).fit(my_train_embeds)\n",
    "    models.append(gmm)\n",
    "    finish_time = time.time()\n",
    "    preds = gmm.predict(my_train_embeds)\n",
    "    sil_score = silhouette_score(my_train_embeds, preds, metric='cosine', sample_size=10000)\n",
    "    scores.append(sil_score)\n",
    "    # save to file\n",
    "    np.save(os.path.join(output_path, \"{}_weights.npy\".format(n_components)), gmm.weights_)\n",
    "    np.save(os.path.join(output_path, \"{}_means.npy\".format(n_components)), gmm.means_)\n",
    "    np.save(os.path.join(output_path, \"{}_covariances.npy\".format(n_components)), gmm.covariances_)\n",
    "    print(\"finished for k={} in time {}\".format(n_components, finish_time - start_time))"
   ]
  },
  {
   "cell_type": "code",
   "execution_count": 136,
   "id": "8dc9d764",
   "metadata": {},
   "outputs": [
    {
     "data": {
      "text/plain": [
       "[0.43310082, 0.2739819, 0.22411206, 0.17840067, 0.15674622, 0.10050474]"
      ]
     },
     "execution_count": 136,
     "metadata": {},
     "output_type": "execute_result"
    }
   ],
   "source": [
    "scores"
   ]
  },
  {
   "cell_type": "code",
   "execution_count": 139,
   "id": "3427a1c6",
   "metadata": {},
   "outputs": [
    {
     "data": {
      "text/plain": [
       "<AxesSubplot:>"
      ]
     },
     "execution_count": 139,
     "metadata": {},
     "output_type": "execute_result"
    },
    {
     "data": {
      "image/png": "[encoded data removed]",
      "text/plain": [
       "<Figure size 432x288 with 1 Axes>"
      ]
     },
     "metadata": {},
     "output_type": "display_data"
    }
   ],
   "source": [
    "sns.lineplot(x=[5, 10, 15, 20, 25, 30], y=scores)"
   ]
  },
  {
   "cell_type": "markdown",
   "id": "f8a24b20",
   "metadata": {},
   "source": [
    "## Examine Clusters"
   ]
  },
  {
   "cell_type": "code",
   "execution_count": 140,
   "id": "e43f7917",
   "metadata": {},
   "outputs": [],
   "source": [
    "# look at clusters for k = 5, k = 10\n",
    "gmm_5 = models[0]\n",
    "gmm_10 = models[1]"
   ]
  },
  {
   "cell_type": "code",
   "execution_count": 172,
   "id": "23addc35",
   "metadata": {},
   "outputs": [],
   "source": [
    "# get preds\n",
    "preds_5 = gmm_5.predict(correct_train_embeds)\n",
    "preds_10 = gmm_10.predict(correct_train_embeds)"
   ]
  },
  {
   "cell_type": "code",
   "execution_count": 146,
   "id": "d9628baf",
   "metadata": {},
   "outputs": [],
   "source": [
    "# look at TF-IDF for each cluster\n",
    "# get train_df\n",
    "my_train_df = data_df.loc[train_ids]"
   ]
  },
  {
   "cell_type": "code",
   "execution_count": 147,
   "id": "a100d9d7",
   "metadata": {},
   "outputs": [
    {
     "data": {
      "text/plain": [
       "323189"
      ]
     },
     "execution_count": 147,
     "metadata": {},
     "output_type": "execute_result"
    }
   ],
   "source": [
    "len(my_train_df)"
   ]
  },
  {
   "cell_type": "code",
   "execution_count": 190,
   "id": "9ba9292f",
   "metadata": {},
   "outputs": [
    {
     "ename": "SpecificationError",
     "evalue": "Column(s) ['Doc'] do not exist",
     "output_type": "error",
     "traceback": [
      "\u001b[0;31m---------------------------------------------------------------------------\u001b[0m",
      "\u001b[0;31mSpecificationError\u001b[0m                        Traceback (most recent call last)",
      "\u001b[0;32m<ipython-input-190-b0377a092add>\u001b[0m in \u001b[0;36m<module>\u001b[0;34m\u001b[0m\n\u001b[1;32m      5\u001b[0m \u001b[0;34m\u001b[0m\u001b[0m\n\u001b[1;32m      6\u001b[0m \u001b[0mmy_train_df\u001b[0m\u001b[0;34m[\u001b[0m\u001b[0;34m\"gmm_{}\"\u001b[0m\u001b[0;34m.\u001b[0m\u001b[0mformat\u001b[0m\u001b[0;34m(\u001b[0m\u001b[0mn_clusters\u001b[0m\u001b[0;34m)\u001b[0m\u001b[0;34m]\u001b[0m \u001b[0;34m=\u001b[0m \u001b[0mpreds\u001b[0m\u001b[0;34m\u001b[0m\u001b[0;34m\u001b[0m\u001b[0m\n\u001b[0;32m----> 7\u001b[0;31m \u001b[0mdocs_per_topic\u001b[0m \u001b[0;34m=\u001b[0m \u001b[0mmy_train_df\u001b[0m\u001b[0;34m.\u001b[0m\u001b[0mgroupby\u001b[0m\u001b[0;34m(\u001b[0m\u001b[0;34m[\u001b[0m\u001b[0;34m\"gmm_{}\"\u001b[0m\u001b[0;34m.\u001b[0m\u001b[0mformat\u001b[0m\u001b[0;34m(\u001b[0m\u001b[0mn_clusters\u001b[0m\u001b[0;34m)\u001b[0m\u001b[0;34m]\u001b[0m\u001b[0;34m,\u001b[0m \u001b[0mas_index\u001b[0m\u001b[0;34m=\u001b[0m\u001b[0;32mFalse\u001b[0m\u001b[0;34m)\u001b[0m\u001b[0;34m.\u001b[0m\u001b[0magg\u001b[0m\u001b[0;34m(\u001b[0m\u001b[0;34m{\u001b[0m\u001b[0;34m'Doc'\u001b[0m\u001b[0;34m:\u001b[0m \u001b[0;34m' '\u001b[0m\u001b[0;34m.\u001b[0m\u001b[0mjoin\u001b[0m\u001b[0;34m}\u001b[0m\u001b[0;34m)\u001b[0m\u001b[0;34m\u001b[0m\u001b[0;34m\u001b[0m\u001b[0m\n\u001b[0m\u001b[1;32m      8\u001b[0m \u001b[0mdocs_per_topic\u001b[0m\u001b[0;34m\u001b[0m\u001b[0;34m\u001b[0m\u001b[0m\n\u001b[1;32m      9\u001b[0m \u001b[0;31m# docs = docs_per_topic.Doc.values\u001b[0m\u001b[0;34m\u001b[0m\u001b[0;34m\u001b[0m\u001b[0;34m\u001b[0m\u001b[0m\n",
      "\u001b[0;32m~/.conda/envs/rlm/lib/python3.8/site-packages/pandas/core/groupby/generic.py\u001b[0m in \u001b[0;36maggregate\u001b[0;34m(self, func, engine, engine_kwargs, *args, **kwargs)\u001b[0m\n\u001b[1;32m    949\u001b[0m         \u001b[0mfunc\u001b[0m \u001b[0;34m=\u001b[0m \u001b[0mmaybe_mangle_lambdas\u001b[0m\u001b[0;34m(\u001b[0m\u001b[0mfunc\u001b[0m\u001b[0;34m)\u001b[0m\u001b[0;34m\u001b[0m\u001b[0;34m\u001b[0m\u001b[0m\n\u001b[1;32m    950\u001b[0m \u001b[0;34m\u001b[0m\u001b[0m\n\u001b[0;32m--> 951\u001b[0;31m         \u001b[0mresult\u001b[0m\u001b[0;34m,\u001b[0m \u001b[0mhow\u001b[0m \u001b[0;34m=\u001b[0m \u001b[0mself\u001b[0m\u001b[0;34m.\u001b[0m\u001b[0m_aggregate\u001b[0m\u001b[0;34m(\u001b[0m\u001b[0mfunc\u001b[0m\u001b[0;34m,\u001b[0m \u001b[0;34m*\u001b[0m\u001b[0margs\u001b[0m\u001b[0;34m,\u001b[0m \u001b[0;34m**\u001b[0m\u001b[0mkwargs\u001b[0m\u001b[0;34m)\u001b[0m\u001b[0;34m\u001b[0m\u001b[0;34m\u001b[0m\u001b[0m\n\u001b[0m\u001b[1;32m    952\u001b[0m         \u001b[0;32mif\u001b[0m \u001b[0mhow\u001b[0m \u001b[0;32mis\u001b[0m \u001b[0;32mNone\u001b[0m\u001b[0;34m:\u001b[0m\u001b[0;34m\u001b[0m\u001b[0;34m\u001b[0m\u001b[0m\n\u001b[1;32m    953\u001b[0m             \u001b[0;32mreturn\u001b[0m \u001b[0mresult\u001b[0m\u001b[0;34m\u001b[0m\u001b[0;34m\u001b[0m\u001b[0m\n",
      "\u001b[0;32m~/.conda/envs/rlm/lib/python3.8/site-packages/pandas/core/base.py\u001b[0m in \u001b[0;36m_aggregate\u001b[0;34m(self, arg, *args, **kwargs)\u001b[0m\n\u001b[1;32m    352\u001b[0m                 ) != len(keys):\n\u001b[1;32m    353\u001b[0m                     \u001b[0mcols\u001b[0m \u001b[0;34m=\u001b[0m \u001b[0msorted\u001b[0m\u001b[0;34m(\u001b[0m\u001b[0mset\u001b[0m\u001b[0;34m(\u001b[0m\u001b[0mkeys\u001b[0m\u001b[0;34m)\u001b[0m \u001b[0;34m-\u001b[0m \u001b[0mset\u001b[0m\u001b[0;34m(\u001b[0m\u001b[0mobj\u001b[0m\u001b[0;34m.\u001b[0m\u001b[0mcolumns\u001b[0m\u001b[0;34m.\u001b[0m\u001b[0mintersection\u001b[0m\u001b[0;34m(\u001b[0m\u001b[0mkeys\u001b[0m\u001b[0;34m)\u001b[0m\u001b[0;34m)\u001b[0m\u001b[0;34m)\u001b[0m\u001b[0;34m\u001b[0m\u001b[0;34m\u001b[0m\u001b[0m\n\u001b[0;32m--> 354\u001b[0;31m                     \u001b[0;32mraise\u001b[0m \u001b[0mSpecificationError\u001b[0m\u001b[0;34m(\u001b[0m\u001b[0;34mf\"Column(s) {cols} do not exist\"\u001b[0m\u001b[0;34m)\u001b[0m\u001b[0;34m\u001b[0m\u001b[0;34m\u001b[0m\u001b[0m\n\u001b[0m\u001b[1;32m    355\u001b[0m \u001b[0;34m\u001b[0m\u001b[0m\n\u001b[1;32m    356\u001b[0m             \u001b[0;32mfrom\u001b[0m \u001b[0mpandas\u001b[0m\u001b[0;34m.\u001b[0m\u001b[0mcore\u001b[0m\u001b[0;34m.\u001b[0m\u001b[0mreshape\u001b[0m\u001b[0;34m.\u001b[0m\u001b[0mconcat\u001b[0m \u001b[0;32mimport\u001b[0m \u001b[0mconcat\u001b[0m\u001b[0;34m\u001b[0m\u001b[0;34m\u001b[0m\u001b[0m\n",
      "\u001b[0;31mSpecificationError\u001b[0m: Column(s) ['Doc'] do not exist"
     ]
    }
   ],
   "source": [
    "# for each cluster, get random 1000 docs and create TF-IDF matrix\n",
    "df = my_train_df\n",
    "preds = preds_5\n",
    "n_clusters = 5\n",
    "\n",
    "my_train_df[\"gmm_{}\".format(n_clusters)] = preds\n",
    "docs_per_topic = my_train_df.groupby([\"gmm_{}\".format(n_clusters)], as_index=False).agg({'text': ' '.join})\n",
    "docs_per_topic\n",
    "# docs = docs_per_topic.Doc.values\n",
    "# count = CountVectorizer(stop_words=\"english\").fit(docs)\n",
    "# t = count.transform(docs).toarray()\n",
    "# w = t.sum(axis=1)\n",
    "# tf = np.divide(t.T, w)\n",
    "# idf = np.log(np.divide(, sum_t)).reshape(-1, 1)"
   ]
  },
  {
   "cell_type": "markdown",
   "id": "6cfd517b",
   "metadata": {},
   "source": [
    "## Scratch/Testing Code"
   ]
  },
  {
   "cell_type": "code",
   "execution_count": null,
   "id": "46121c26",
   "metadata": {},
   "outputs": [],
   "source": [
    "# start with k=10 as example, will examine other k later\n",
    "start_time = time.time()\n",
    "gmm = GaussianMixture(n_components=10).fit(full_embeds)\n",
    "finish_time = time.time()"
   ]
  },
  {
   "cell_type": "code",
   "execution_count": 63,
   "id": "c61f8f2e",
   "metadata": {},
   "outputs": [
    {
     "data": {
      "text/plain": [
       "9239.010909795761"
      ]
     },
     "execution_count": 63,
     "metadata": {},
     "output_type": "execute_result"
    }
   ],
   "source": [
    "finish_time - start_time"
   ]
  },
  {
   "cell_type": "code",
   "execution_count": 64,
   "id": "f46a3086",
   "metadata": {},
   "outputs": [
    {
     "data": {
      "text/plain": [
       "2.566388888888889"
      ]
     },
     "execution_count": 64,
     "metadata": {},
     "output_type": "execute_result"
    }
   ],
   "source": [
    "9239 / (60 * 60)"
   ]
  },
  {
   "cell_type": "code",
   "execution_count": 62,
   "id": "2fe79d08",
   "metadata": {},
   "outputs": [
    {
     "data": {
      "text/plain": [
       "GaussianMixture(n_components=10)"
      ]
     },
     "execution_count": 62,
     "metadata": {},
     "output_type": "execute_result"
    }
   ],
   "source": [
    "gmm"
   ]
  },
  {
   "cell_type": "code",
   "execution_count": 93,
   "id": "f6932a8e",
   "metadata": {},
   "outputs": [],
   "source": [
    "# get gmm predictions\n",
    "preds = gmm.predict(full_embeds)"
   ]
  },
  {
   "cell_type": "code",
   "execution_count": 95,
   "id": "2fa1d84d",
   "metadata": {},
   "outputs": [
    {
     "data": {
      "text/plain": [
       "(539502,)"
      ]
     },
     "execution_count": 95,
     "metadata": {},
     "output_type": "execute_result"
    }
   ],
   "source": [
    "preds.shape"
   ]
  },
  {
   "cell_type": "code",
   "execution_count": 96,
   "id": "4b5bb479",
   "metadata": {},
   "outputs": [],
   "source": [
    "# get silhouette score\n",
    "# can use a random subset of data to compute score!\n",
    "sil_score = silhouette_score(full_embeds, preds, metric='cosine', sample_size=10000)"
   ]
  },
  {
   "cell_type": "code",
   "execution_count": 97,
   "id": "7223d52d",
   "metadata": {},
   "outputs": [
    {
     "data": {
      "text/plain": [
       "0.28847423"
      ]
     },
     "execution_count": 97,
     "metadata": {},
     "output_type": "execute_result"
    }
   ],
   "source": [
    "sil_score"
   ]
  },
  {
   "cell_type": "code",
   "execution_count": null,
   "id": "7d6b7670",
   "metadata": {},
   "outputs": [],
   "source": [
    "# get top terms for TF-IDF for each cluster\n",
    "# also look at other cluster attributes"
   ]
  }
 ],
 "metadata": {
  "kernelspec": {
   "display_name": "Python 3",
   "language": "python",
   "name": "python3"
  },
  "language_info": {
   "codemirror_mode": {
    "name": "ipython",
    "version": 3
   },
   "file_extension": ".py",
   "mimetype": "text/x-python",
   "name": "python",
   "nbconvert_exporter": "python",
   "pygments_lexer": "ipython3",
   "version": "3.8.10"
  }
 },
 "nbformat": 4,
 "nbformat_minor": 5
}
