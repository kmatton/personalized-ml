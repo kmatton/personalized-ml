{
 "cells": [
  {
   "cell_type": "code",
   "execution_count": 1,
   "id": "e47c4463",
   "metadata": {},
   "outputs": [],
   "source": [
    "%load_ext autoreload\n",
    "%autoreload 2"
   ]
  },
  {
   "cell_type": "code",
   "execution_count": 2,
   "id": "33510ed0",
   "metadata": {},
   "outputs": [],
   "source": [
    "import sys\n",
    "sys.path.append('../../src/generic')\n",
    "import csv\n",
    "import os\n",
    "import numpy as np\n",
    "import pandas as pd\n",
    "import seaborn as sns\n",
    "sns.set_theme()"
   ]
  },
  {
   "cell_type": "code",
   "execution_count": 3,
   "id": "49df65c0",
   "metadata": {},
   "outputs": [],
   "source": [
    "from results.process_results import ResultProcessor"
   ]
  },
  {
   "cell_type": "code",
   "execution_count": 4,
   "id": "679dc981",
   "metadata": {},
   "outputs": [],
   "source": [
    "main_result_dir = \"/data/ddmg/redditlanguagemodeling/results/amazon_reviews/clf\""
   ]
  },
  {
   "cell_type": "code",
   "execution_count": 5,
   "id": "cbde47e7",
   "metadata": {},
   "outputs": [
    {
     "name": "stdout",
     "output_type": "stream",
     "text": [
      "Base dir /data/ddmg/redditlanguagemodeling/results/amazon_reviews/clf/train_all_small_category_split: Found results for 5 seeds\n"
     ]
    }
   ],
   "source": [
    "base_result_dir = os.path.join(main_result_dir, \"train_all_small_category_split\")\n",
    "levels = [\"seed\"]\n",
    "train_all_results = ResultProcessor(base_result_dir, levels, verbose=True)"
   ]
  },
  {
   "cell_type": "code",
   "execution_count": 8,
   "id": "f2c41b64",
   "metadata": {},
   "outputs": [
    {
     "data": {
      "text/html": [
       "<div>\n",
       "<style scoped>\n",
       "    .dataframe tbody tr th:only-of-type {\n",
       "        vertical-align: middle;\n",
       "    }\n",
       "\n",
       "    .dataframe tbody tr th {\n",
       "        vertical-align: top;\n",
       "    }\n",
       "\n",
       "    .dataframe thead th {\n",
       "        text-align: right;\n",
       "    }\n",
       "</style>\n",
       "<table border=\"1\" class=\"dataframe\">\n",
       "  <thead>\n",
       "    <tr style=\"text-align: right;\">\n",
       "      <th></th>\n",
       "      <th>Books_accuracy</th>\n",
       "      <th>Books_loss</th>\n",
       "      <th>Books_runtime</th>\n",
       "      <th>Books_samples</th>\n",
       "      <th>Books_samples_per_second</th>\n",
       "      <th>Books_steps_per_second</th>\n",
       "      <th>Grocery_and_Gourmet_Food_accuracy</th>\n",
       "      <th>Grocery_and_Gourmet_Food_loss</th>\n",
       "      <th>Grocery_and_Gourmet_Food_runtime</th>\n",
       "      <th>Grocery_and_Gourmet_Food_samples</th>\n",
       "      <th>...</th>\n",
       "      <th>train_loss</th>\n",
       "      <th>train_runtime</th>\n",
       "      <th>train_samples</th>\n",
       "      <th>train_samples_per_second</th>\n",
       "      <th>train_steps_per_second</th>\n",
       "      <th>train_time</th>\n",
       "      <th>training_loss</th>\n",
       "      <th>val_samples</th>\n",
       "      <th>val_time</th>\n",
       "      <th>seed</th>\n",
       "    </tr>\n",
       "  </thead>\n",
       "  <tbody>\n",
       "    <tr>\n",
       "      <th>0</th>\n",
       "      <td>0.683</td>\n",
       "      <td>0.848727</td>\n",
       "      <td>6.4019</td>\n",
       "      <td>1000</td>\n",
       "      <td>156.203</td>\n",
       "      <td>4.999</td>\n",
       "      <td>0.725</td>\n",
       "      <td>0.741279</td>\n",
       "      <td>6.4140</td>\n",
       "      <td>1000</td>\n",
       "      <td>...</td>\n",
       "      <td>0.640653</td>\n",
       "      <td>434.3937</td>\n",
       "      <td>10000</td>\n",
       "      <td>69.062</td>\n",
       "      <td>2.162</td>\n",
       "      <td>434.405873</td>\n",
       "      <td>0.640653</td>\n",
       "      <td>4000</td>\n",
       "      <td>25.269493</td>\n",
       "      <td>45</td>\n",
       "    </tr>\n",
       "    <tr>\n",
       "      <th>1</th>\n",
       "      <td>0.658</td>\n",
       "      <td>0.837978</td>\n",
       "      <td>6.4714</td>\n",
       "      <td>1000</td>\n",
       "      <td>154.526</td>\n",
       "      <td>4.945</td>\n",
       "      <td>0.715</td>\n",
       "      <td>0.759155</td>\n",
       "      <td>6.4562</td>\n",
       "      <td>1000</td>\n",
       "      <td>...</td>\n",
       "      <td>0.644348</td>\n",
       "      <td>440.9813</td>\n",
       "      <td>10000</td>\n",
       "      <td>68.030</td>\n",
       "      <td>2.129</td>\n",
       "      <td>440.996236</td>\n",
       "      <td>0.644348</td>\n",
       "      <td>4000</td>\n",
       "      <td>25.740595</td>\n",
       "      <td>42</td>\n",
       "    </tr>\n",
       "    <tr>\n",
       "      <th>2</th>\n",
       "      <td>0.669</td>\n",
       "      <td>0.889466</td>\n",
       "      <td>6.3634</td>\n",
       "      <td>1000</td>\n",
       "      <td>157.149</td>\n",
       "      <td>5.029</td>\n",
       "      <td>0.743</td>\n",
       "      <td>0.714780</td>\n",
       "      <td>6.3878</td>\n",
       "      <td>1000</td>\n",
       "      <td>...</td>\n",
       "      <td>0.627387</td>\n",
       "      <td>433.0179</td>\n",
       "      <td>10000</td>\n",
       "      <td>69.281</td>\n",
       "      <td>2.169</td>\n",
       "      <td>433.036760</td>\n",
       "      <td>0.627387</td>\n",
       "      <td>4000</td>\n",
       "      <td>25.193556</td>\n",
       "      <td>46</td>\n",
       "    </tr>\n",
       "    <tr>\n",
       "      <th>3</th>\n",
       "      <td>0.643</td>\n",
       "      <td>0.900570</td>\n",
       "      <td>6.5077</td>\n",
       "      <td>1000</td>\n",
       "      <td>153.665</td>\n",
       "      <td>4.917</td>\n",
       "      <td>0.730</td>\n",
       "      <td>0.734723</td>\n",
       "      <td>6.5043</td>\n",
       "      <td>1000</td>\n",
       "      <td>...</td>\n",
       "      <td>0.636231</td>\n",
       "      <td>435.6824</td>\n",
       "      <td>10000</td>\n",
       "      <td>68.858</td>\n",
       "      <td>2.155</td>\n",
       "      <td>435.699297</td>\n",
       "      <td>0.636231</td>\n",
       "      <td>4000</td>\n",
       "      <td>25.655967</td>\n",
       "      <td>43</td>\n",
       "    </tr>\n",
       "    <tr>\n",
       "      <th>4</th>\n",
       "      <td>0.644</td>\n",
       "      <td>0.880159</td>\n",
       "      <td>6.4851</td>\n",
       "      <td>1000</td>\n",
       "      <td>154.200</td>\n",
       "      <td>4.934</td>\n",
       "      <td>0.729</td>\n",
       "      <td>0.732336</td>\n",
       "      <td>6.4820</td>\n",
       "      <td>1000</td>\n",
       "      <td>...</td>\n",
       "      <td>0.651784</td>\n",
       "      <td>434.4847</td>\n",
       "      <td>10000</td>\n",
       "      <td>69.047</td>\n",
       "      <td>2.161</td>\n",
       "      <td>434.495340</td>\n",
       "      <td>0.651784</td>\n",
       "      <td>4000</td>\n",
       "      <td>25.641412</td>\n",
       "      <td>44</td>\n",
       "    </tr>\n",
       "  </tbody>\n",
       "</table>\n",
       "<p>5 rows × 49 columns</p>\n",
       "</div>"
      ],
      "text/plain": [
       "   Books_accuracy  Books_loss  Books_runtime  Books_samples  \\\n",
       "0           0.683    0.848727         6.4019           1000   \n",
       "1           0.658    0.837978         6.4714           1000   \n",
       "2           0.669    0.889466         6.3634           1000   \n",
       "3           0.643    0.900570         6.5077           1000   \n",
       "4           0.644    0.880159         6.4851           1000   \n",
       "\n",
       "   Books_samples_per_second  Books_steps_per_second  \\\n",
       "0                   156.203                   4.999   \n",
       "1                   154.526                   4.945   \n",
       "2                   157.149                   5.029   \n",
       "3                   153.665                   4.917   \n",
       "4                   154.200                   4.934   \n",
       "\n",
       "   Grocery_and_Gourmet_Food_accuracy  Grocery_and_Gourmet_Food_loss  \\\n",
       "0                              0.725                       0.741279   \n",
       "1                              0.715                       0.759155   \n",
       "2                              0.743                       0.714780   \n",
       "3                              0.730                       0.734723   \n",
       "4                              0.729                       0.732336   \n",
       "\n",
       "   Grocery_and_Gourmet_Food_runtime  Grocery_and_Gourmet_Food_samples  ...  \\\n",
       "0                            6.4140                              1000  ...   \n",
       "1                            6.4562                              1000  ...   \n",
       "2                            6.3878                              1000  ...   \n",
       "3                            6.5043                              1000  ...   \n",
       "4                            6.4820                              1000  ...   \n",
       "\n",
       "   train_loss  train_runtime  train_samples  train_samples_per_second  \\\n",
       "0    0.640653       434.3937          10000                    69.062   \n",
       "1    0.644348       440.9813          10000                    68.030   \n",
       "2    0.627387       433.0179          10000                    69.281   \n",
       "3    0.636231       435.6824          10000                    68.858   \n",
       "4    0.651784       434.4847          10000                    69.047   \n",
       "\n",
       "   train_steps_per_second  train_time  training_loss  val_samples   val_time  \\\n",
       "0                   2.162  434.405873       0.640653         4000  25.269493   \n",
       "1                   2.129  440.996236       0.644348         4000  25.740595   \n",
       "2                   2.169  433.036760       0.627387         4000  25.193556   \n",
       "3                   2.155  435.699297       0.636231         4000  25.655967   \n",
       "4                   2.161  434.495340       0.651784         4000  25.641412   \n",
       "\n",
       "   seed  \n",
       "0    45  \n",
       "1    42  \n",
       "2    46  \n",
       "3    43  \n",
       "4    44  \n",
       "\n",
       "[5 rows x 49 columns]"
      ]
     },
     "execution_count": 8,
     "metadata": {},
     "output_type": "execute_result"
    }
   ],
   "source": [
    "train_all_results.results_df"
   ]
  },
  {
   "cell_type": "code",
   "execution_count": 10,
   "id": "79e80927",
   "metadata": {},
   "outputs": [
    {
     "data": {
      "text/html": [
       "<div>\n",
       "<style scoped>\n",
       "    .dataframe tbody tr th:only-of-type {\n",
       "        vertical-align: middle;\n",
       "    }\n",
       "\n",
       "    .dataframe tbody tr th {\n",
       "        vertical-align: top;\n",
       "    }\n",
       "\n",
       "    .dataframe thead th {\n",
       "        text-align: right;\n",
       "    }\n",
       "</style>\n",
       "<table border=\"1\" class=\"dataframe\">\n",
       "  <thead>\n",
       "    <tr style=\"text-align: right;\">\n",
       "      <th></th>\n",
       "      <th>Books_accuracy</th>\n",
       "      <th>Grocery_and_Gourmet_Food_accuracy</th>\n",
       "      <th>Movies_and_TV_accuracy</th>\n",
       "      <th>Prime_Pantry_accuracy</th>\n",
       "      <th>eval_accuracy</th>\n",
       "      <th>test_accuracy</th>\n",
       "    </tr>\n",
       "  </thead>\n",
       "  <tbody>\n",
       "    <tr>\n",
       "      <th>mean</th>\n",
       "      <td>0.659400</td>\n",
       "      <td>0.72840</td>\n",
       "      <td>0.652600</td>\n",
       "      <td>0.753800</td>\n",
       "      <td>0.705050</td>\n",
       "      <td>0.698550</td>\n",
       "    </tr>\n",
       "    <tr>\n",
       "      <th>std</th>\n",
       "      <td>0.017009</td>\n",
       "      <td>0.01009</td>\n",
       "      <td>0.013372</td>\n",
       "      <td>0.009524</td>\n",
       "      <td>0.007952</td>\n",
       "      <td>0.007643</td>\n",
       "    </tr>\n",
       "  </tbody>\n",
       "</table>\n",
       "</div>"
      ],
      "text/plain": [
       "      Books_accuracy  Grocery_and_Gourmet_Food_accuracy  \\\n",
       "mean        0.659400                            0.72840   \n",
       "std         0.017009                            0.01009   \n",
       "\n",
       "      Movies_and_TV_accuracy  Prime_Pantry_accuracy  eval_accuracy  \\\n",
       "mean                0.652600               0.753800       0.705050   \n",
       "std                 0.013372               0.009524       0.007952   \n",
       "\n",
       "      test_accuracy  \n",
       "mean       0.698550  \n",
       "std        0.007643  "
      ]
     },
     "execution_count": 10,
     "metadata": {},
     "output_type": "execute_result"
    }
   ],
   "source": [
    "acc_cols = [col for col in train_all_results.results_df if \"accuracy\" in col]\n",
    "train_all_results.results_df.agg([\"mean\", \"std\"])[acc_cols]"
   ]
  },
  {
   "cell_type": "code",
   "execution_count": 11,
   "id": "a5336bf0",
   "metadata": {},
   "outputs": [
    {
     "name": "stdout",
     "output_type": "stream",
     "text": [
      "Base dir /data/ddmg/redditlanguagemodeling/results/amazon_reviews/clf/train_ID_small_category_split: Found results for 4 categorys\n",
      "Base dir /data/ddmg/redditlanguagemodeling/results/amazon_reviews/clf/train_ID_small_category_split/Books: Found results for 5 seeds\n",
      "Base dir /data/ddmg/redditlanguagemodeling/results/amazon_reviews/clf/train_ID_small_category_split/Movies_and_TV: Found results for 5 seeds\n",
      "Base dir /data/ddmg/redditlanguagemodeling/results/amazon_reviews/clf/train_ID_small_category_split/Prime_Pantry: Found results for 5 seeds\n",
      "Base dir /data/ddmg/redditlanguagemodeling/results/amazon_reviews/clf/train_ID_small_category_split/Grocery_and_Gourmet_Food: Found results for 5 seeds\n"
     ]
    }
   ],
   "source": [
    "base_result_dir = os.path.join(main_result_dir, \"train_ID_small_category_split\")\n",
    "levels = [\"category\", \"seed\"]\n",
    "train_ID_results = ResultProcessor(base_result_dir, levels, verbose=True)"
   ]
  },
  {
   "cell_type": "code",
   "execution_count": 14,
   "id": "24251517",
   "metadata": {},
   "outputs": [
    {
     "data": {
      "text/html": [
       "<div>\n",
       "<style scoped>\n",
       "    .dataframe tbody tr th:only-of-type {\n",
       "        vertical-align: middle;\n",
       "    }\n",
       "\n",
       "    .dataframe tbody tr th {\n",
       "        vertical-align: top;\n",
       "    }\n",
       "\n",
       "    .dataframe thead th {\n",
       "        text-align: right;\n",
       "    }\n",
       "</style>\n",
       "<table border=\"1\" class=\"dataframe\">\n",
       "  <thead>\n",
       "    <tr style=\"text-align: right;\">\n",
       "      <th></th>\n",
       "      <th>Books_accuracy</th>\n",
       "      <th>eval_accuracy</th>\n",
       "      <th>test_accuracy</th>\n",
       "      <th>Movies_and_TV_accuracy</th>\n",
       "      <th>Prime_Pantry_accuracy</th>\n",
       "      <th>Grocery_and_Gourmet_Food_accuracy</th>\n",
       "    </tr>\n",
       "  </thead>\n",
       "  <tbody>\n",
       "    <tr>\n",
       "      <th>mean</th>\n",
       "      <td>0.666400</td>\n",
       "      <td>0.705100</td>\n",
       "      <td>0.692700</td>\n",
       "      <td>0.640400</td>\n",
       "      <td>0.755400</td>\n",
       "      <td>0.708600</td>\n",
       "    </tr>\n",
       "    <tr>\n",
       "      <th>std</th>\n",
       "      <td>0.008264</td>\n",
       "      <td>0.044221</td>\n",
       "      <td>0.046409</td>\n",
       "      <td>0.007956</td>\n",
       "      <td>0.010431</td>\n",
       "      <td>0.021824</td>\n",
       "    </tr>\n",
       "  </tbody>\n",
       "</table>\n",
       "</div>"
      ],
      "text/plain": [
       "      Books_accuracy  eval_accuracy  test_accuracy  Movies_and_TV_accuracy  \\\n",
       "mean        0.666400       0.705100       0.692700                0.640400   \n",
       "std         0.008264       0.044221       0.046409                0.007956   \n",
       "\n",
       "      Prime_Pantry_accuracy  Grocery_and_Gourmet_Food_accuracy  \n",
       "mean               0.755400                           0.708600  \n",
       "std                0.010431                           0.021824  "
      ]
     },
     "execution_count": 14,
     "metadata": {},
     "output_type": "execute_result"
    }
   ],
   "source": [
    "acc_cols = [col for col in train_ID_results.results_df if \"accuracy\" in col]\n",
    "train_ID_results.results_df.agg([\"mean\", \"std\"])[acc_cols]"
   ]
  },
  {
   "cell_type": "code",
   "execution_count": 15,
   "id": "e746db6e",
   "metadata": {},
   "outputs": [
    {
     "name": "stdout",
     "output_type": "stream",
     "text": [
      "Base dir /data/ddmg/redditlanguagemodeling/results/amazon_reviews/clf/train_media_small_category_split: Found results for 5 seeds\n"
     ]
    }
   ],
   "source": [
    "base_result_dir = os.path.join(main_result_dir, \"train_media_small_category_split\")\n",
    "levels = [\"seed\"]\n",
    "train_media_results = ResultProcessor(base_result_dir, levels, verbose=True)"
   ]
  },
  {
   "cell_type": "code",
   "execution_count": 19,
   "id": "d9566ab5",
   "metadata": {},
   "outputs": [
    {
     "data": {
      "text/html": [
       "<div>\n",
       "<style scoped>\n",
       "    .dataframe tbody tr th:only-of-type {\n",
       "        vertical-align: middle;\n",
       "    }\n",
       "\n",
       "    .dataframe tbody tr th {\n",
       "        vertical-align: top;\n",
       "    }\n",
       "\n",
       "    .dataframe thead th {\n",
       "        text-align: right;\n",
       "    }\n",
       "</style>\n",
       "<table border=\"1\" class=\"dataframe\">\n",
       "  <thead>\n",
       "    <tr style=\"text-align: right;\">\n",
       "      <th></th>\n",
       "      <th>Books_accuracy</th>\n",
       "      <th>Movies_and_TV_accuracy</th>\n",
       "      <th>eval_accuracy</th>\n",
       "      <th>test_accuracy</th>\n",
       "    </tr>\n",
       "  </thead>\n",
       "  <tbody>\n",
       "    <tr>\n",
       "      <th>0</th>\n",
       "      <td>0.637</td>\n",
       "      <td>0.638</td>\n",
       "      <td>0.6525</td>\n",
       "      <td>0.6375</td>\n",
       "    </tr>\n",
       "    <tr>\n",
       "      <th>1</th>\n",
       "      <td>0.668</td>\n",
       "      <td>0.660</td>\n",
       "      <td>0.6655</td>\n",
       "      <td>0.6640</td>\n",
       "    </tr>\n",
       "    <tr>\n",
       "      <th>2</th>\n",
       "      <td>0.654</td>\n",
       "      <td>0.671</td>\n",
       "      <td>0.6690</td>\n",
       "      <td>0.6625</td>\n",
       "    </tr>\n",
       "    <tr>\n",
       "      <th>3</th>\n",
       "      <td>0.646</td>\n",
       "      <td>0.628</td>\n",
       "      <td>0.6275</td>\n",
       "      <td>0.6370</td>\n",
       "    </tr>\n",
       "    <tr>\n",
       "      <th>4</th>\n",
       "      <td>0.655</td>\n",
       "      <td>0.667</td>\n",
       "      <td>0.6685</td>\n",
       "      <td>0.6610</td>\n",
       "    </tr>\n",
       "  </tbody>\n",
       "</table>\n",
       "</div>"
      ],
      "text/plain": [
       "   Books_accuracy  Movies_and_TV_accuracy  eval_accuracy  test_accuracy\n",
       "0           0.637                   0.638         0.6525         0.6375\n",
       "1           0.668                   0.660         0.6655         0.6640\n",
       "2           0.654                   0.671         0.6690         0.6625\n",
       "3           0.646                   0.628         0.6275         0.6370\n",
       "4           0.655                   0.667         0.6685         0.6610"
      ]
     },
     "execution_count": 19,
     "metadata": {},
     "output_type": "execute_result"
    }
   ],
   "source": [
    "acc_cols = [col for col in train_media_results.results_df if \"accuracy\" in col]\n",
    "train_media_results.results_df[acc_cols]"
   ]
  },
  {
   "cell_type": "code",
   "execution_count": 16,
   "id": "b5364f19",
   "metadata": {},
   "outputs": [
    {
     "data": {
      "text/html": [
       "<div>\n",
       "<style scoped>\n",
       "    .dataframe tbody tr th:only-of-type {\n",
       "        vertical-align: middle;\n",
       "    }\n",
       "\n",
       "    .dataframe tbody tr th {\n",
       "        vertical-align: top;\n",
       "    }\n",
       "\n",
       "    .dataframe thead th {\n",
       "        text-align: right;\n",
       "    }\n",
       "</style>\n",
       "<table border=\"1\" class=\"dataframe\">\n",
       "  <thead>\n",
       "    <tr style=\"text-align: right;\">\n",
       "      <th></th>\n",
       "      <th>Books_accuracy</th>\n",
       "      <th>Movies_and_TV_accuracy</th>\n",
       "      <th>eval_accuracy</th>\n",
       "      <th>test_accuracy</th>\n",
       "    </tr>\n",
       "  </thead>\n",
       "  <tbody>\n",
       "    <tr>\n",
       "      <th>mean</th>\n",
       "      <td>0.652000</td>\n",
       "      <td>0.652800</td>\n",
       "      <td>0.656600</td>\n",
       "      <td>0.652400</td>\n",
       "    </tr>\n",
       "    <tr>\n",
       "      <th>std</th>\n",
       "      <td>0.011511</td>\n",
       "      <td>0.018833</td>\n",
       "      <td>0.017594</td>\n",
       "      <td>0.013872</td>\n",
       "    </tr>\n",
       "  </tbody>\n",
       "</table>\n",
       "</div>"
      ],
      "text/plain": [
       "      Books_accuracy  Movies_and_TV_accuracy  eval_accuracy  test_accuracy\n",
       "mean        0.652000                0.652800       0.656600       0.652400\n",
       "std         0.011511                0.018833       0.017594       0.013872"
      ]
     },
     "execution_count": 16,
     "metadata": {},
     "output_type": "execute_result"
    }
   ],
   "source": [
    "acc_cols = [col for col in train_media_results.results_df if \"accuracy\" in col]\n",
    "train_media_results.results_df.agg([\"mean\", \"std\"])[acc_cols]"
   ]
  },
  {
   "cell_type": "code",
   "execution_count": 22,
   "id": "c8c9ae9b",
   "metadata": {},
   "outputs": [
    {
     "name": "stdout",
     "output_type": "stream",
     "text": [
      "Base dir /data/ddmg/redditlanguagemodeling/results/amazon_reviews/clf/train_food_small_category_split: Found results for 5 seeds\n"
     ]
    }
   ],
   "source": [
    "base_result_dir = os.path.join(main_result_dir, \"train_food_small_category_split\")\n",
    "levels = [\"seed\"]\n",
    "train_food_results = ResultProcessor(base_result_dir, levels, verbose=True)"
   ]
  },
  {
   "cell_type": "code",
   "execution_count": 23,
   "id": "549400eb",
   "metadata": {},
   "outputs": [
    {
     "data": {
      "text/html": [
       "<div>\n",
       "<style scoped>\n",
       "    .dataframe tbody tr th:only-of-type {\n",
       "        vertical-align: middle;\n",
       "    }\n",
       "\n",
       "    .dataframe tbody tr th {\n",
       "        vertical-align: top;\n",
       "    }\n",
       "\n",
       "    .dataframe thead th {\n",
       "        text-align: right;\n",
       "    }\n",
       "</style>\n",
       "<table border=\"1\" class=\"dataframe\">\n",
       "  <thead>\n",
       "    <tr style=\"text-align: right;\">\n",
       "      <th></th>\n",
       "      <th>Grocery_and_Gourmet_Food_accuracy</th>\n",
       "      <th>Prime_Pantry_accuracy</th>\n",
       "      <th>eval_accuracy</th>\n",
       "      <th>test_accuracy</th>\n",
       "    </tr>\n",
       "  </thead>\n",
       "  <tbody>\n",
       "    <tr>\n",
       "      <th>0</th>\n",
       "      <td>0.694</td>\n",
       "      <td>0.728</td>\n",
       "      <td>0.7210</td>\n",
       "      <td>0.7110</td>\n",
       "    </tr>\n",
       "    <tr>\n",
       "      <th>1</th>\n",
       "      <td>0.741</td>\n",
       "      <td>0.764</td>\n",
       "      <td>0.7655</td>\n",
       "      <td>0.7525</td>\n",
       "    </tr>\n",
       "    <tr>\n",
       "      <th>2</th>\n",
       "      <td>0.724</td>\n",
       "      <td>0.781</td>\n",
       "      <td>0.7555</td>\n",
       "      <td>0.7525</td>\n",
       "    </tr>\n",
       "    <tr>\n",
       "      <th>3</th>\n",
       "      <td>0.732</td>\n",
       "      <td>0.780</td>\n",
       "      <td>0.7595</td>\n",
       "      <td>0.7560</td>\n",
       "    </tr>\n",
       "    <tr>\n",
       "      <th>4</th>\n",
       "      <td>0.715</td>\n",
       "      <td>0.767</td>\n",
       "      <td>0.7500</td>\n",
       "      <td>0.7410</td>\n",
       "    </tr>\n",
       "  </tbody>\n",
       "</table>\n",
       "</div>"
      ],
      "text/plain": [
       "   Grocery_and_Gourmet_Food_accuracy  Prime_Pantry_accuracy  eval_accuracy  \\\n",
       "0                              0.694                  0.728         0.7210   \n",
       "1                              0.741                  0.764         0.7655   \n",
       "2                              0.724                  0.781         0.7555   \n",
       "3                              0.732                  0.780         0.7595   \n",
       "4                              0.715                  0.767         0.7500   \n",
       "\n",
       "   test_accuracy  \n",
       "0         0.7110  \n",
       "1         0.7525  \n",
       "2         0.7525  \n",
       "3         0.7560  \n",
       "4         0.7410  "
      ]
     },
     "execution_count": 23,
     "metadata": {},
     "output_type": "execute_result"
    }
   ],
   "source": [
    "acc_cols = [col for col in train_food_results.results_df if \"accuracy\" in col]\n",
    "train_food_results.results_df[acc_cols]"
   ]
  },
  {
   "cell_type": "code",
   "execution_count": 24,
   "id": "c587e5c8",
   "metadata": {},
   "outputs": [
    {
     "data": {
      "text/html": [
       "<div>\n",
       "<style scoped>\n",
       "    .dataframe tbody tr th:only-of-type {\n",
       "        vertical-align: middle;\n",
       "    }\n",
       "\n",
       "    .dataframe tbody tr th {\n",
       "        vertical-align: top;\n",
       "    }\n",
       "\n",
       "    .dataframe thead th {\n",
       "        text-align: right;\n",
       "    }\n",
       "</style>\n",
       "<table border=\"1\" class=\"dataframe\">\n",
       "  <thead>\n",
       "    <tr style=\"text-align: right;\">\n",
       "      <th></th>\n",
       "      <th>Grocery_and_Gourmet_Food_accuracy</th>\n",
       "      <th>Prime_Pantry_accuracy</th>\n",
       "      <th>eval_accuracy</th>\n",
       "      <th>test_accuracy</th>\n",
       "    </tr>\n",
       "  </thead>\n",
       "  <tbody>\n",
       "    <tr>\n",
       "      <th>mean</th>\n",
       "      <td>0.721200</td>\n",
       "      <td>0.764000</td>\n",
       "      <td>0.75030</td>\n",
       "      <td>0.742600</td>\n",
       "    </tr>\n",
       "    <tr>\n",
       "      <th>std</th>\n",
       "      <td>0.017992</td>\n",
       "      <td>0.021506</td>\n",
       "      <td>0.01733</td>\n",
       "      <td>0.018552</td>\n",
       "    </tr>\n",
       "  </tbody>\n",
       "</table>\n",
       "</div>"
      ],
      "text/plain": [
       "      Grocery_and_Gourmet_Food_accuracy  Prime_Pantry_accuracy  eval_accuracy  \\\n",
       "mean                           0.721200               0.764000        0.75030   \n",
       "std                            0.017992               0.021506        0.01733   \n",
       "\n",
       "      test_accuracy  \n",
       "mean       0.742600  \n",
       "std        0.018552  "
      ]
     },
     "execution_count": 24,
     "metadata": {},
     "output_type": "execute_result"
    }
   ],
   "source": [
    "acc_cols = [col for col in train_food_results.results_df if \"accuracy\" in col]\n",
    "train_food_results.results_df.agg([\"mean\", \"std\"])[acc_cols]"
   ]
  },
  {
   "cell_type": "code",
   "execution_count": 7,
   "id": "62897279",
   "metadata": {},
   "outputs": [
    {
     "name": "stdout",
     "output_type": "stream",
     "text": [
      "Base dir /data/ddmg/redditlanguagemodeling/results/amazon_reviews/clf/train_cluster_ID_small_category_split: Found results for 5 cluster_IDs\n",
      "Base dir /data/ddmg/redditlanguagemodeling/results/amazon_reviews/clf/train_cluster_ID_small_category_split/2: Found results for 5 seeds\n",
      "Base dir /data/ddmg/redditlanguagemodeling/results/amazon_reviews/clf/train_cluster_ID_small_category_split/1: Found results for 5 seeds\n",
      "Base dir /data/ddmg/redditlanguagemodeling/results/amazon_reviews/clf/train_cluster_ID_small_category_split/3: Found results for 5 seeds\n",
      "Base dir /data/ddmg/redditlanguagemodeling/results/amazon_reviews/clf/train_cluster_ID_small_category_split/4: Found results for 5 seeds\n",
      "Base dir /data/ddmg/redditlanguagemodeling/results/amazon_reviews/clf/train_cluster_ID_small_category_split/0: Found results for 5 seeds\n"
     ]
    }
   ],
   "source": [
    "base_result_dir = os.path.join(main_result_dir, \"train_cluster_ID_small_category_split\")\n",
    "levels = [\"cluster_ID\", \"seed\"]\n",
    "train_cluster_ID_results = ResultProcessor(base_result_dir, levels, verbose=True)"
   ]
  },
  {
   "cell_type": "code",
   "execution_count": 18,
   "id": "0b7930d3",
   "metadata": {},
   "outputs": [
    {
     "data": {
      "text/html": [
       "<div>\n",
       "<style scoped>\n",
       "    .dataframe tbody tr th:only-of-type {\n",
       "        vertical-align: middle;\n",
       "    }\n",
       "\n",
       "    .dataframe tbody tr th {\n",
       "        vertical-align: top;\n",
       "    }\n",
       "\n",
       "    .dataframe thead th {\n",
       "        text-align: right;\n",
       "    }\n",
       "</style>\n",
       "<table border=\"1\" class=\"dataframe\">\n",
       "  <thead>\n",
       "    <tr style=\"text-align: right;\">\n",
       "      <th></th>\n",
       "      <th>Books_accuracy</th>\n",
       "      <th>Grocery_and_Gourmet_Food_accuracy</th>\n",
       "      <th>Movies_and_TV_accuracy</th>\n",
       "      <th>Prime_Pantry_accuracy</th>\n",
       "    </tr>\n",
       "  </thead>\n",
       "  <tbody>\n",
       "    <tr>\n",
       "      <th>mean</th>\n",
       "      <td>0.769786</td>\n",
       "      <td>0.847363</td>\n",
       "      <td>0.786643</td>\n",
       "      <td>0.818841</td>\n",
       "    </tr>\n",
       "    <tr>\n",
       "      <th>std</th>\n",
       "      <td>0.186779</td>\n",
       "      <td>0.182065</td>\n",
       "      <td>0.229809</td>\n",
       "      <td>0.229075</td>\n",
       "    </tr>\n",
       "  </tbody>\n",
       "</table>\n",
       "</div>"
      ],
      "text/plain": [
       "      Books_accuracy  Grocery_and_Gourmet_Food_accuracy  \\\n",
       "mean        0.769786                           0.847363   \n",
       "std         0.186779                           0.182065   \n",
       "\n",
       "      Movies_and_TV_accuracy  Prime_Pantry_accuracy  \n",
       "mean                0.786643               0.818841  \n",
       "std                 0.229809               0.229075  "
      ]
     },
     "execution_count": 18,
     "metadata": {},
     "output_type": "execute_result"
    }
   ],
   "source": [
    "acc_cols = [col for col in train_cluster_ID_results.results_df if \"accuracy\" in col]\n",
    "acc_cols = [col for col in acc_cols if (\"Books\" in col or \"Grocery\" in col or \"Movies\" in col or \"Pantry\" in col)]\n",
    "train_cluster_ID_results.results_df.agg([\"mean\", \"std\"])[acc_cols]"
   ]
  },
  {
   "cell_type": "code",
   "execution_count": 35,
   "id": "8edac915",
   "metadata": {},
   "outputs": [
    {
     "data": {
      "text/html": [
       "<div>\n",
       "<style scoped>\n",
       "    .dataframe tbody tr th:only-of-type {\n",
       "        vertical-align: middle;\n",
       "    }\n",
       "\n",
       "    .dataframe tbody tr th {\n",
       "        vertical-align: top;\n",
       "    }\n",
       "\n",
       "    .dataframe thead th {\n",
       "        text-align: right;\n",
       "    }\n",
       "</style>\n",
       "<table border=\"1\" class=\"dataframe\">\n",
       "  <thead>\n",
       "    <tr style=\"text-align: right;\">\n",
       "      <th></th>\n",
       "      <th>seed</th>\n",
       "      <th>cluster_ID</th>\n",
       "      <th>Books_accuracy</th>\n",
       "      <th>Grocery_and_Gourmet_Food_accuracy</th>\n",
       "      <th>Movies_and_TV_accuracy</th>\n",
       "      <th>Prime_Pantry_accuracy</th>\n",
       "    </tr>\n",
       "  </thead>\n",
       "  <tbody>\n",
       "    <tr>\n",
       "      <th>0</th>\n",
       "      <td>46</td>\n",
       "      <td>2</td>\n",
       "      <td>1.000000</td>\n",
       "      <td>1.000000</td>\n",
       "      <td>1.000000</td>\n",
       "      <td>1.000000</td>\n",
       "    </tr>\n",
       "    <tr>\n",
       "      <th>1</th>\n",
       "      <td>42</td>\n",
       "      <td>2</td>\n",
       "      <td>1.000000</td>\n",
       "      <td>1.000000</td>\n",
       "      <td>1.000000</td>\n",
       "      <td>1.000000</td>\n",
       "    </tr>\n",
       "    <tr>\n",
       "      <th>2</th>\n",
       "      <td>45</td>\n",
       "      <td>2</td>\n",
       "      <td>1.000000</td>\n",
       "      <td>1.000000</td>\n",
       "      <td>1.000000</td>\n",
       "      <td>1.000000</td>\n",
       "    </tr>\n",
       "    <tr>\n",
       "      <th>3</th>\n",
       "      <td>44</td>\n",
       "      <td>2</td>\n",
       "      <td>1.000000</td>\n",
       "      <td>1.000000</td>\n",
       "      <td>1.000000</td>\n",
       "      <td>1.000000</td>\n",
       "    </tr>\n",
       "    <tr>\n",
       "      <th>4</th>\n",
       "      <td>43</td>\n",
       "      <td>2</td>\n",
       "      <td>1.000000</td>\n",
       "      <td>1.000000</td>\n",
       "      <td>1.000000</td>\n",
       "      <td>1.000000</td>\n",
       "    </tr>\n",
       "    <tr>\n",
       "      <th>0</th>\n",
       "      <td>44</td>\n",
       "      <td>1</td>\n",
       "      <td>0.849515</td>\n",
       "      <td>0.959459</td>\n",
       "      <td>0.876543</td>\n",
       "      <td>0.925926</td>\n",
       "    </tr>\n",
       "    <tr>\n",
       "      <th>1</th>\n",
       "      <td>43</td>\n",
       "      <td>1</td>\n",
       "      <td>0.776699</td>\n",
       "      <td>0.959459</td>\n",
       "      <td>0.864198</td>\n",
       "      <td>0.925926</td>\n",
       "    </tr>\n",
       "    <tr>\n",
       "      <th>2</th>\n",
       "      <td>46</td>\n",
       "      <td>1</td>\n",
       "      <td>0.849515</td>\n",
       "      <td>0.959459</td>\n",
       "      <td>0.876543</td>\n",
       "      <td>0.925926</td>\n",
       "    </tr>\n",
       "    <tr>\n",
       "      <th>3</th>\n",
       "      <td>42</td>\n",
       "      <td>1</td>\n",
       "      <td>0.834951</td>\n",
       "      <td>0.959459</td>\n",
       "      <td>0.876543</td>\n",
       "      <td>0.925926</td>\n",
       "    </tr>\n",
       "    <tr>\n",
       "      <th>4</th>\n",
       "      <td>45</td>\n",
       "      <td>1</td>\n",
       "      <td>0.820388</td>\n",
       "      <td>0.959459</td>\n",
       "      <td>0.864198</td>\n",
       "      <td>0.925926</td>\n",
       "    </tr>\n",
       "    <tr>\n",
       "      <th>0</th>\n",
       "      <td>46</td>\n",
       "      <td>3</td>\n",
       "      <td>0.894737</td>\n",
       "      <td>1.000000</td>\n",
       "      <td>1.000000</td>\n",
       "      <td>1.000000</td>\n",
       "    </tr>\n",
       "    <tr>\n",
       "      <th>1</th>\n",
       "      <td>45</td>\n",
       "      <td>3</td>\n",
       "      <td>0.894737</td>\n",
       "      <td>1.000000</td>\n",
       "      <td>1.000000</td>\n",
       "      <td>1.000000</td>\n",
       "    </tr>\n",
       "    <tr>\n",
       "      <th>2</th>\n",
       "      <td>42</td>\n",
       "      <td>3</td>\n",
       "      <td>0.894737</td>\n",
       "      <td>1.000000</td>\n",
       "      <td>1.000000</td>\n",
       "      <td>1.000000</td>\n",
       "    </tr>\n",
       "    <tr>\n",
       "      <th>3</th>\n",
       "      <td>43</td>\n",
       "      <td>3</td>\n",
       "      <td>0.894737</td>\n",
       "      <td>1.000000</td>\n",
       "      <td>1.000000</td>\n",
       "      <td>1.000000</td>\n",
       "    </tr>\n",
       "    <tr>\n",
       "      <th>4</th>\n",
       "      <td>44</td>\n",
       "      <td>3</td>\n",
       "      <td>0.894737</td>\n",
       "      <td>1.000000</td>\n",
       "      <td>1.000000</td>\n",
       "      <td>1.000000</td>\n",
       "    </tr>\n",
       "    <tr>\n",
       "      <th>0</th>\n",
       "      <td>46</td>\n",
       "      <td>4</td>\n",
       "      <td>0.534722</td>\n",
       "      <td>0.549020</td>\n",
       "      <td>0.421053</td>\n",
       "      <td>0.333333</td>\n",
       "    </tr>\n",
       "    <tr>\n",
       "      <th>1</th>\n",
       "      <td>45</td>\n",
       "      <td>4</td>\n",
       "      <td>0.534722</td>\n",
       "      <td>0.549020</td>\n",
       "      <td>0.508772</td>\n",
       "      <td>0.416667</td>\n",
       "    </tr>\n",
       "    <tr>\n",
       "      <th>2</th>\n",
       "      <td>42</td>\n",
       "      <td>4</td>\n",
       "      <td>0.437500</td>\n",
       "      <td>0.529412</td>\n",
       "      <td>0.377193</td>\n",
       "      <td>0.333333</td>\n",
       "    </tr>\n",
       "    <tr>\n",
       "      <th>3</th>\n",
       "      <td>43</td>\n",
       "      <td>4</td>\n",
       "      <td>0.534722</td>\n",
       "      <td>0.588235</td>\n",
       "      <td>0.447368</td>\n",
       "      <td>0.583333</td>\n",
       "    </tr>\n",
       "    <tr>\n",
       "      <th>4</th>\n",
       "      <td>44</td>\n",
       "      <td>4</td>\n",
       "      <td>0.472222</td>\n",
       "      <td>0.588235</td>\n",
       "      <td>0.377193</td>\n",
       "      <td>0.416667</td>\n",
       "    </tr>\n",
       "    <tr>\n",
       "      <th>0</th>\n",
       "      <td>42</td>\n",
       "      <td>0</td>\n",
       "      <td>0.657512</td>\n",
       "      <td>0.721900</td>\n",
       "      <td>0.640056</td>\n",
       "      <td>0.759140</td>\n",
       "    </tr>\n",
       "    <tr>\n",
       "      <th>1</th>\n",
       "      <td>45</td>\n",
       "      <td>0</td>\n",
       "      <td>0.628433</td>\n",
       "      <td>0.713789</td>\n",
       "      <td>0.642857</td>\n",
       "      <td>0.763441</td>\n",
       "    </tr>\n",
       "    <tr>\n",
       "      <th>2</th>\n",
       "      <td>46</td>\n",
       "      <td>0</td>\n",
       "      <td>0.581583</td>\n",
       "      <td>0.705678</td>\n",
       "      <td>0.626050</td>\n",
       "      <td>0.738710</td>\n",
       "    </tr>\n",
       "    <tr>\n",
       "      <th>3</th>\n",
       "      <td>44</td>\n",
       "      <td>0</td>\n",
       "      <td>0.663974</td>\n",
       "      <td>0.738123</td>\n",
       "      <td>0.637255</td>\n",
       "      <td>0.764516</td>\n",
       "    </tr>\n",
       "    <tr>\n",
       "      <th>4</th>\n",
       "      <td>43</td>\n",
       "      <td>0</td>\n",
       "      <td>0.594507</td>\n",
       "      <td>0.703360</td>\n",
       "      <td>0.630252</td>\n",
       "      <td>0.732258</td>\n",
       "    </tr>\n",
       "  </tbody>\n",
       "</table>\n",
       "</div>"
      ],
      "text/plain": [
       "  seed cluster_ID  Books_accuracy  Grocery_and_Gourmet_Food_accuracy  \\\n",
       "0   46          2        1.000000                           1.000000   \n",
       "1   42          2        1.000000                           1.000000   \n",
       "2   45          2        1.000000                           1.000000   \n",
       "3   44          2        1.000000                           1.000000   \n",
       "4   43          2        1.000000                           1.000000   \n",
       "0   44          1        0.849515                           0.959459   \n",
       "1   43          1        0.776699                           0.959459   \n",
       "2   46          1        0.849515                           0.959459   \n",
       "3   42          1        0.834951                           0.959459   \n",
       "4   45          1        0.820388                           0.959459   \n",
       "0   46          3        0.894737                           1.000000   \n",
       "1   45          3        0.894737                           1.000000   \n",
       "2   42          3        0.894737                           1.000000   \n",
       "3   43          3        0.894737                           1.000000   \n",
       "4   44          3        0.894737                           1.000000   \n",
       "0   46          4        0.534722                           0.549020   \n",
       "1   45          4        0.534722                           0.549020   \n",
       "2   42          4        0.437500                           0.529412   \n",
       "3   43          4        0.534722                           0.588235   \n",
       "4   44          4        0.472222                           0.588235   \n",
       "0   42          0        0.657512                           0.721900   \n",
       "1   45          0        0.628433                           0.713789   \n",
       "2   46          0        0.581583                           0.705678   \n",
       "3   44          0        0.663974                           0.738123   \n",
       "4   43          0        0.594507                           0.703360   \n",
       "\n",
       "   Movies_and_TV_accuracy  Prime_Pantry_accuracy  \n",
       "0                1.000000               1.000000  \n",
       "1                1.000000               1.000000  \n",
       "2                1.000000               1.000000  \n",
       "3                1.000000               1.000000  \n",
       "4                1.000000               1.000000  \n",
       "0                0.876543               0.925926  \n",
       "1                0.864198               0.925926  \n",
       "2                0.876543               0.925926  \n",
       "3                0.876543               0.925926  \n",
       "4                0.864198               0.925926  \n",
       "0                1.000000               1.000000  \n",
       "1                1.000000               1.000000  \n",
       "2                1.000000               1.000000  \n",
       "3                1.000000               1.000000  \n",
       "4                1.000000               1.000000  \n",
       "0                0.421053               0.333333  \n",
       "1                0.508772               0.416667  \n",
       "2                0.377193               0.333333  \n",
       "3                0.447368               0.583333  \n",
       "4                0.377193               0.416667  \n",
       "0                0.640056               0.759140  \n",
       "1                0.642857               0.763441  \n",
       "2                0.626050               0.738710  \n",
       "3                0.637255               0.764516  \n",
       "4                0.630252               0.732258  "
      ]
     },
     "execution_count": 35,
     "metadata": {},
     "output_type": "execute_result"
    }
   ],
   "source": [
    "train_cluster_ID_results.results_df[[\"seed\", \"cluster_ID\"] + acc_cols]"
   ]
  },
  {
   "cell_type": "code",
   "execution_count": 57,
   "id": "3922f853",
   "metadata": {},
   "outputs": [
    {
     "data": {
      "text/html": [
       "<div>\n",
       "<style scoped>\n",
       "    .dataframe tbody tr th:only-of-type {\n",
       "        vertical-align: middle;\n",
       "    }\n",
       "\n",
       "    .dataframe tbody tr th {\n",
       "        vertical-align: top;\n",
       "    }\n",
       "\n",
       "    .dataframe thead th {\n",
       "        text-align: right;\n",
       "    }\n",
       "</style>\n",
       "<table border=\"1\" class=\"dataframe\">\n",
       "  <thead>\n",
       "    <tr style=\"text-align: right;\">\n",
       "      <th></th>\n",
       "      <th>mean</th>\n",
       "      <th>std</th>\n",
       "    </tr>\n",
       "    <tr>\n",
       "      <th>cluster_ID</th>\n",
       "      <th></th>\n",
       "      <th></th>\n",
       "    </tr>\n",
       "  </thead>\n",
       "  <tbody>\n",
       "    <tr>\n",
       "      <th>0</th>\n",
       "      <td>0.690339</td>\n",
       "      <td>0.016269</td>\n",
       "    </tr>\n",
       "    <tr>\n",
       "      <th>1</th>\n",
       "      <td>0.871774</td>\n",
       "      <td>0.014440</td>\n",
       "    </tr>\n",
       "    <tr>\n",
       "      <th>2</th>\n",
       "      <td>1.000000</td>\n",
       "      <td>0.000000</td>\n",
       "    </tr>\n",
       "    <tr>\n",
       "      <th>3</th>\n",
       "      <td>0.933333</td>\n",
       "      <td>0.000000</td>\n",
       "    </tr>\n",
       "    <tr>\n",
       "      <th>4</th>\n",
       "      <td>0.481620</td>\n",
       "      <td>0.040534</td>\n",
       "    </tr>\n",
       "  </tbody>\n",
       "</table>\n",
       "</div>"
      ],
      "text/plain": [
       "                mean       std\n",
       "cluster_ID                    \n",
       "0           0.690339  0.016269\n",
       "1           0.871774  0.014440\n",
       "2           1.000000  0.000000\n",
       "3           0.933333  0.000000\n",
       "4           0.481620  0.040534"
      ]
     },
     "execution_count": 57,
     "metadata": {},
     "output_type": "execute_result"
    }
   ],
   "source": [
    "train_cluster_ID_results.results_df.groupby(\"cluster_ID\").agg([\"mean\", \"std\"])[\"test_accuracy\"]\n",
    "#train_cluster_ID_results.results_df[[\"seed\", \"cluster_ID\", \"test_accuracy\"]]"
   ]
  },
  {
   "cell_type": "code",
   "execution_count": 37,
   "id": "02d1dec4",
   "metadata": {},
   "outputs": [
    {
     "data": {
      "text/html": [
       "<div>\n",
       "<style scoped>\n",
       "    .dataframe tbody tr th:only-of-type {\n",
       "        vertical-align: middle;\n",
       "    }\n",
       "\n",
       "    .dataframe tbody tr th {\n",
       "        vertical-align: top;\n",
       "    }\n",
       "\n",
       "    .dataframe thead tr th {\n",
       "        text-align: left;\n",
       "    }\n",
       "\n",
       "    .dataframe thead tr:last-of-type th {\n",
       "        text-align: right;\n",
       "    }\n",
       "</style>\n",
       "<table border=\"1\" class=\"dataframe\">\n",
       "  <thead>\n",
       "    <tr>\n",
       "      <th></th>\n",
       "      <th colspan=\"2\" halign=\"left\">Books_accuracy</th>\n",
       "      <th colspan=\"2\" halign=\"left\">Grocery_and_Gourmet_Food_accuracy</th>\n",
       "      <th colspan=\"2\" halign=\"left\">Movies_and_TV_accuracy</th>\n",
       "      <th colspan=\"2\" halign=\"left\">Prime_Pantry_accuracy</th>\n",
       "    </tr>\n",
       "    <tr>\n",
       "      <th></th>\n",
       "      <th>mean</th>\n",
       "      <th>std</th>\n",
       "      <th>mean</th>\n",
       "      <th>std</th>\n",
       "      <th>mean</th>\n",
       "      <th>std</th>\n",
       "      <th>mean</th>\n",
       "      <th>std</th>\n",
       "    </tr>\n",
       "    <tr>\n",
       "      <th>cluster_ID</th>\n",
       "      <th></th>\n",
       "      <th></th>\n",
       "      <th></th>\n",
       "      <th></th>\n",
       "      <th></th>\n",
       "      <th></th>\n",
       "      <th></th>\n",
       "      <th></th>\n",
       "    </tr>\n",
       "  </thead>\n",
       "  <tbody>\n",
       "    <tr>\n",
       "      <th>0</th>\n",
       "      <td>0.625202</td>\n",
       "      <td>0.036751</td>\n",
       "      <td>0.716570</td>\n",
       "      <td>0.014087</td>\n",
       "      <td>0.635294</td>\n",
       "      <td>0.006975</td>\n",
       "      <td>0.751613</td>\n",
       "      <td>0.015035</td>\n",
       "    </tr>\n",
       "    <tr>\n",
       "      <th>1</th>\n",
       "      <td>0.826214</td>\n",
       "      <td>0.030199</td>\n",
       "      <td>0.959459</td>\n",
       "      <td>0.000000</td>\n",
       "      <td>0.871605</td>\n",
       "      <td>0.006762</td>\n",
       "      <td>0.925926</td>\n",
       "      <td>0.000000</td>\n",
       "    </tr>\n",
       "    <tr>\n",
       "      <th>2</th>\n",
       "      <td>1.000000</td>\n",
       "      <td>0.000000</td>\n",
       "      <td>1.000000</td>\n",
       "      <td>0.000000</td>\n",
       "      <td>1.000000</td>\n",
       "      <td>0.000000</td>\n",
       "      <td>1.000000</td>\n",
       "      <td>0.000000</td>\n",
       "    </tr>\n",
       "    <tr>\n",
       "      <th>3</th>\n",
       "      <td>0.894737</td>\n",
       "      <td>0.000000</td>\n",
       "      <td>1.000000</td>\n",
       "      <td>0.000000</td>\n",
       "      <td>1.000000</td>\n",
       "      <td>0.000000</td>\n",
       "      <td>1.000000</td>\n",
       "      <td>0.000000</td>\n",
       "    </tr>\n",
       "    <tr>\n",
       "      <th>4</th>\n",
       "      <td>0.502778</td>\n",
       "      <td>0.045432</td>\n",
       "      <td>0.560784</td>\n",
       "      <td>0.026307</td>\n",
       "      <td>0.426316</td>\n",
       "      <td>0.054991</td>\n",
       "      <td>0.416667</td>\n",
       "      <td>0.102062</td>\n",
       "    </tr>\n",
       "  </tbody>\n",
       "</table>\n",
       "</div>"
      ],
      "text/plain": [
       "           Books_accuracy           Grocery_and_Gourmet_Food_accuracy  \\\n",
       "                     mean       std                              mean   \n",
       "cluster_ID                                                              \n",
       "0                0.625202  0.036751                          0.716570   \n",
       "1                0.826214  0.030199                          0.959459   \n",
       "2                1.000000  0.000000                          1.000000   \n",
       "3                0.894737  0.000000                          1.000000   \n",
       "4                0.502778  0.045432                          0.560784   \n",
       "\n",
       "                     Movies_and_TV_accuracy           Prime_Pantry_accuracy  \\\n",
       "                 std                   mean       std                  mean   \n",
       "cluster_ID                                                                    \n",
       "0           0.014087               0.635294  0.006975              0.751613   \n",
       "1           0.000000               0.871605  0.006762              0.925926   \n",
       "2           0.000000               1.000000  0.000000              1.000000   \n",
       "3           0.000000               1.000000  0.000000              1.000000   \n",
       "4           0.026307               0.426316  0.054991              0.416667   \n",
       "\n",
       "                      \n",
       "                 std  \n",
       "cluster_ID            \n",
       "0           0.015035  \n",
       "1           0.000000  \n",
       "2           0.000000  \n",
       "3           0.000000  \n",
       "4           0.102062  "
      ]
     },
     "execution_count": 37,
     "metadata": {},
     "output_type": "execute_result"
    }
   ],
   "source": [
    "cluster_perf_df = train_cluster_ID_results.results_df.groupby(\"cluster_ID\").agg([\"mean\", \"std\"])[acc_cols]\n",
    "cluster_perf_df"
   ]
  },
  {
   "cell_type": "code",
   "execution_count": 11,
   "id": "281202ef",
   "metadata": {},
   "outputs": [],
   "source": [
    "# get how many examples are in each cluster so you can do better weighting\n",
    "cluster_file = \"/data/ddmg/redditlanguagemodeling/data/AmazonReviews/data/amazon_v2.0/clusters/kmeans_post_embeddings/test_small_even_books_grocery_movie_pantry_split/clusters.npy\"\n",
    "cluster_ids = np.load(cluster_file, allow_pickle=True)"
   ]
  },
  {
   "cell_type": "code",
   "execution_count": 14,
   "id": "a7478b5f",
   "metadata": {},
   "outputs": [
    {
     "data": {
      "text/plain": [
       "4000"
      ]
     },
     "execution_count": 14,
     "metadata": {},
     "output_type": "execute_result"
    }
   ],
   "source": [
    "len(cluster_ids)"
   ]
  },
  {
   "cell_type": "code",
   "execution_count": 13,
   "id": "97d97316",
   "metadata": {},
   "outputs": [],
   "source": [
    "# load test data\n",
    "from datasets import load_from_disk"
   ]
  },
  {
   "cell_type": "code",
   "execution_count": 19,
   "id": "aec2056f",
   "metadata": {},
   "outputs": [],
   "source": [
    "data_file = \"/data/ddmg/redditlanguagemodeling/data/AmazonReviews/data/amazon_v2.0/amazon_reviews_clf_processed/test_small_even_books_grocery_movie_pantry_split\"\n",
    "test_dataset = load_from_disk(data_file)"
   ]
  },
  {
   "cell_type": "code",
   "execution_count": 20,
   "id": "db79396a",
   "metadata": {},
   "outputs": [
    {
     "data": {
      "text/plain": [
       "Dataset({\n",
       "    features: ['__index_level_0__', 'asin', 'attention_mask', 'category', 'input_ids', 'labels', 'reviewTime', 'reviewYear', 'split', 'summary', 'text', 'unixReviewTime', 'user', 'verified'],\n",
       "    num_rows: 4000\n",
       "})"
      ]
     },
     "execution_count": 20,
     "metadata": {},
     "output_type": "execute_result"
    }
   ],
   "source": [
    "test_dataset"
   ]
  },
  {
   "cell_type": "code",
   "execution_count": 21,
   "id": "88d95780",
   "metadata": {},
   "outputs": [],
   "source": [
    "test_dataset = test_dataset.add_column(name=\"cluster_ID\", column=cluster_ids.tolist())"
   ]
  },
  {
   "cell_type": "code",
   "execution_count": 22,
   "id": "fde38d2c",
   "metadata": {},
   "outputs": [
    {
     "data": {
      "application/vnd.jupyter.widget-view+json": {
       "model_id": "ed9d5dc5b9fe4ddd8ae0d152f9a3d101",
       "version_major": 2,
       "version_minor": 0
      },
      "text/plain": [
       "HBox(children=(FloatProgress(value=0.0, max=4.0), HTML(value='')))"
      ]
     },
     "metadata": {},
     "output_type": "display_data"
    },
    {
     "name": "stdout",
     "output_type": "stream",
     "text": [
      "\n"
     ]
    }
   ],
   "source": [
    "# get counts of cluster IDs for each category\n",
    "books_dataset = test_dataset.filter(lambda x: x['category'] == \"Books\")"
   ]
  },
  {
   "cell_type": "code",
   "execution_count": 26,
   "id": "fe07aa2d",
   "metadata": {},
   "outputs": [
    {
     "data": {
      "application/vnd.jupyter.widget-view+json": {
       "model_id": "771ccf5471b8473b963d20e66c732a1e",
       "version_major": 2,
       "version_minor": 0
      },
      "text/plain": [
       "HBox(children=(FloatProgress(value=0.0, max=4.0), HTML(value='')))"
      ]
     },
     "metadata": {},
     "output_type": "display_data"
    },
    {
     "name": "stdout",
     "output_type": "stream",
     "text": [
      "\n"
     ]
    }
   ],
   "source": [
    "grocery_dataset = test_dataset.filter(lambda x: x['category'] == \"Grocery_and_Gourmet_Food\")"
   ]
  },
  {
   "cell_type": "code",
   "execution_count": 28,
   "id": "5ebf973c",
   "metadata": {},
   "outputs": [
    {
     "data": {
      "application/vnd.jupyter.widget-view+json": {
       "model_id": "03d27df3de8d41e39a5c2c6ebbb68bbe",
       "version_major": 2,
       "version_minor": 0
      },
      "text/plain": [
       "HBox(children=(FloatProgress(value=0.0, max=4.0), HTML(value='')))"
      ]
     },
     "metadata": {},
     "output_type": "display_data"
    },
    {
     "name": "stdout",
     "output_type": "stream",
     "text": [
      "\n"
     ]
    }
   ],
   "source": [
    "movies_dataset = test_dataset.filter(lambda x: x['category'] == \"Movies_and_TV\")"
   ]
  },
  {
   "cell_type": "code",
   "execution_count": 30,
   "id": "4a430bec",
   "metadata": {},
   "outputs": [
    {
     "data": {
      "application/vnd.jupyter.widget-view+json": {
       "model_id": "1494f4a704f24db6b52f356e1cde7c80",
       "version_major": 2,
       "version_minor": 0
      },
      "text/plain": [
       "HBox(children=(FloatProgress(value=0.0, max=4.0), HTML(value='')))"
      ]
     },
     "metadata": {},
     "output_type": "display_data"
    },
    {
     "name": "stdout",
     "output_type": "stream",
     "text": [
      "\n"
     ]
    }
   ],
   "source": [
    "pantry_dataset = test_dataset.filter(lambda x: x['category'] == \"Prime_Pantry\")"
   ]
  },
  {
   "cell_type": "code",
   "execution_count": 40,
   "id": "d2638ab8",
   "metadata": {},
   "outputs": [
    {
     "name": "stdout",
     "output_type": "stream",
     "text": [
      "[0 1 2 3 4]\n",
      "[619 206  12  19 144]\n"
     ]
    }
   ],
   "source": [
    "clusters, counts = np.unique(books_dataset['cluster_ID'], return_counts=True)\n",
    "print(clusters)\n",
    "print(counts)"
   ]
  },
  {
   "cell_type": "code",
   "execution_count": 41,
   "id": "2c77249f",
   "metadata": {},
   "outputs": [
    {
     "data": {
      "text/plain": [
       "cluster_ID\n",
       "0    0.625202\n",
       "1    0.826214\n",
       "2    1.000000\n",
       "3    0.894737\n",
       "4    0.502778\n",
       "Name: mean, dtype: float64"
      ]
     },
     "execution_count": 41,
     "metadata": {},
     "output_type": "execute_result"
    }
   ],
   "source": [
    "mean_perf = cluster_perf_df[\"Books_accuracy\"][\"mean\"]\n",
    "std_perf = cluster_perf_df[\"Books_accuracy\"][\"mean\"]"
   ]
  },
  {
   "cell_type": "code",
   "execution_count": 44,
   "id": "54b8fc70",
   "metadata": {},
   "outputs": [
    {
     "data": {
      "text/plain": [
       "0.6585999981522559"
      ]
     },
     "execution_count": 44,
     "metadata": {},
     "output_type": "execute_result"
    }
   ],
   "source": [
    "sum(mean_perf.to_numpy() * np.array(counts)) / 1000"
   ]
  },
  {
   "cell_type": "code",
   "execution_count": 45,
   "id": "e55ec295",
   "metadata": {},
   "outputs": [
    {
     "data": {
      "text/plain": [
       "0.0355117311750142"
      ]
     },
     "execution_count": 45,
     "metadata": {},
     "output_type": "execute_result"
    }
   ],
   "source": [
    "std_perf = cluster_perf_df[\"Books_accuracy\"][\"std\"]\n",
    "sum(std_perf.to_numpy() * np.array(counts)) / 1000 "
   ]
  },
  {
   "cell_type": "code",
   "execution_count": 46,
   "id": "7e73a887",
   "metadata": {},
   "outputs": [
    {
     "name": "stdout",
     "output_type": "stream",
     "text": [
      "[0 1 2 3 4]\n",
      "[863  74   9   3  51]\n"
     ]
    }
   ],
   "source": [
    "clusters, counts = np.unique(grocery_dataset['cluster_ID'], return_counts=True)\n",
    "print(clusters)\n",
    "print(counts)"
   ]
  },
  {
   "cell_type": "code",
   "execution_count": 48,
   "id": "a8e276fe",
   "metadata": {},
   "outputs": [
    {
     "name": "stdout",
     "output_type": "stream",
     "text": [
      "0.7300000021576882\n",
      "0.013498939245835534\n"
     ]
    }
   ],
   "source": [
    "mean_perf = cluster_perf_df[\"Grocery_and_Gourmet_Food_accuracy\"][\"mean\"]\n",
    "std_perf = cluster_perf_df[\"Grocery_and_Gourmet_Food_accuracy\"][\"std\"]\n",
    "print(sum(mean_perf.to_numpy() * np.array(counts)) / 1000)\n",
    "print(sum(std_perf.to_numpy() * np.array(counts)) / 1000)"
   ]
  },
  {
   "cell_type": "code",
   "execution_count": 49,
   "id": "155f5f19",
   "metadata": {},
   "outputs": [
    {
     "name": "stdout",
     "output_type": "stream",
     "text": [
      "[0 1 2 3 4]\n",
      "[714 162   4   6 114]\n"
     ]
    }
   ],
   "source": [
    "clusters, counts = np.unique(movies_dataset['cluster_ID'], return_counts=True)\n",
    "print(clusters)\n",
    "print(counts)"
   ]
  },
  {
   "cell_type": "code",
   "execution_count": 50,
   "id": "fa8aebdc",
   "metadata": {},
   "outputs": [
    {
     "name": "stdout",
     "output_type": "stream",
     "text": [
      "0.6534000013470649\n",
      "0.012344372815305154\n"
     ]
    }
   ],
   "source": [
    "mean_perf = cluster_perf_df[\"Movies_and_TV_accuracy\"][\"mean\"]\n",
    "std_perf = cluster_perf_df[\"Movies_and_TV_accuracy\"][\"std\"]\n",
    "print(sum(mean_perf.to_numpy() * np.array(counts)) / 1000)\n",
    "print(sum(std_perf.to_numpy() * np.array(counts)) / 1000)"
   ]
  },
  {
   "cell_type": "code",
   "execution_count": 52,
   "id": "49b9b9b7",
   "metadata": {},
   "outputs": [
    {
     "name": "stdout",
     "output_type": "stream",
     "text": [
      "[0 1 2 3 4]\n",
      "[930  54   2   2  12]\n"
     ]
    }
   ],
   "source": [
    "clusters, counts = np.unique(pantry_dataset['cluster_ID'], return_counts=True)\n",
    "print(clusters)\n",
    "print(counts)"
   ]
  },
  {
   "cell_type": "code",
   "execution_count": 53,
   "id": "afd9968d",
   "metadata": {},
   "outputs": [
    {
     "name": "stdout",
     "output_type": "stream",
     "text": [
      "0.7579999976873398\n",
      "0.015206862845100531\n"
     ]
    }
   ],
   "source": [
    "mean_perf = cluster_perf_df[\"Prime_Pantry_accuracy\"][\"mean\"]\n",
    "std_perf = cluster_perf_df[\"Prime_Pantry_accuracy\"][\"std\"]\n",
    "print(sum(mean_perf.to_numpy() * np.array(counts)) / 1000)\n",
    "print(sum(std_perf.to_numpy() * np.array(counts)) / 1000)"
   ]
  },
  {
   "cell_type": "code",
   "execution_count": 58,
   "id": "35c79cb3",
   "metadata": {},
   "outputs": [
    {
     "data": {
      "text/plain": [
       "Dataset({\n",
       "    features: ['__index_level_0__', 'asin', 'attention_mask', 'category', 'input_ids', 'labels', 'reviewTime', 'reviewYear', 'split', 'summary', 'text', 'unixReviewTime', 'user', 'verified', 'cluster_ID'],\n",
       "    num_rows: 4000\n",
       "})"
      ]
     },
     "execution_count": 58,
     "metadata": {},
     "output_type": "execute_result"
    }
   ],
   "source": [
    "test_dataset"
   ]
  },
  {
   "cell_type": "code",
   "execution_count": 60,
   "id": "7ad5e02f",
   "metadata": {},
   "outputs": [
    {
     "data": {
      "text/html": [
       "<div>\n",
       "<style scoped>\n",
       "    .dataframe tbody tr th:only-of-type {\n",
       "        vertical-align: middle;\n",
       "    }\n",
       "\n",
       "    .dataframe tbody tr th {\n",
       "        vertical-align: top;\n",
       "    }\n",
       "\n",
       "    .dataframe thead th {\n",
       "        text-align: right;\n",
       "    }\n",
       "</style>\n",
       "<table border=\"1\" class=\"dataframe\">\n",
       "  <thead>\n",
       "    <tr style=\"text-align: right;\">\n",
       "      <th></th>\n",
       "      <th>cluster_ID</th>\n",
       "      <th>label</th>\n",
       "    </tr>\n",
       "  </thead>\n",
       "  <tbody>\n",
       "    <tr>\n",
       "      <th>0</th>\n",
       "      <td>0</td>\n",
       "      <td>4</td>\n",
       "    </tr>\n",
       "    <tr>\n",
       "      <th>1</th>\n",
       "      <td>4</td>\n",
       "      <td>4</td>\n",
       "    </tr>\n",
       "    <tr>\n",
       "      <th>2</th>\n",
       "      <td>0</td>\n",
       "      <td>1</td>\n",
       "    </tr>\n",
       "    <tr>\n",
       "      <th>3</th>\n",
       "      <td>0</td>\n",
       "      <td>4</td>\n",
       "    </tr>\n",
       "    <tr>\n",
       "      <th>4</th>\n",
       "      <td>0</td>\n",
       "      <td>4</td>\n",
       "    </tr>\n",
       "    <tr>\n",
       "      <th>...</th>\n",
       "      <td>...</td>\n",
       "      <td>...</td>\n",
       "    </tr>\n",
       "    <tr>\n",
       "      <th>3995</th>\n",
       "      <td>0</td>\n",
       "      <td>4</td>\n",
       "    </tr>\n",
       "    <tr>\n",
       "      <th>3996</th>\n",
       "      <td>0</td>\n",
       "      <td>2</td>\n",
       "    </tr>\n",
       "    <tr>\n",
       "      <th>3997</th>\n",
       "      <td>0</td>\n",
       "      <td>3</td>\n",
       "    </tr>\n",
       "    <tr>\n",
       "      <th>3998</th>\n",
       "      <td>0</td>\n",
       "      <td>3</td>\n",
       "    </tr>\n",
       "    <tr>\n",
       "      <th>3999</th>\n",
       "      <td>0</td>\n",
       "      <td>4</td>\n",
       "    </tr>\n",
       "  </tbody>\n",
       "</table>\n",
       "<p>4000 rows × 2 columns</p>\n",
       "</div>"
      ],
      "text/plain": [
       "      cluster_ID  label\n",
       "0              0      4\n",
       "1              4      4\n",
       "2              0      1\n",
       "3              0      4\n",
       "4              0      4\n",
       "...          ...    ...\n",
       "3995           0      4\n",
       "3996           0      2\n",
       "3997           0      3\n",
       "3998           0      3\n",
       "3999           0      4\n",
       "\n",
       "[4000 rows x 2 columns]"
      ]
     },
     "execution_count": 60,
     "metadata": {},
     "output_type": "execute_result"
    }
   ],
   "source": [
    "# get majority class baseline per cluster performance\n",
    "df = pd.DataFrame({\"cluster_ID\": test_dataset[\"cluster_ID\"], \"label\": test_dataset[\"labels\"]})\n",
    "df"
   ]
  },
  {
   "cell_type": "code",
   "execution_count": 61,
   "id": "dd5eaaba",
   "metadata": {},
   "outputs": [
    {
     "data": {
      "text/plain": [
       "cluster_ID\n",
       "0    0.650032\n",
       "1    0.883065\n",
       "2    1.000000\n",
       "3    0.933333\n",
       "4    0.333333\n",
       "Name: label, dtype: float64"
      ]
     },
     "execution_count": 61,
     "metadata": {},
     "output_type": "execute_result"
    }
   ],
   "source": [
    "df.groupby([\"cluster_ID\"]).agg(lambda x: x.value_counts(normalize=True).iloc[0])[\"label\"]"
   ]
  },
  {
   "cell_type": "code",
   "execution_count": 65,
   "id": "f404a33d",
   "metadata": {},
   "outputs": [
    {
     "data": {
      "text/html": [
       "<div>\n",
       "<style scoped>\n",
       "    .dataframe tbody tr th:only-of-type {\n",
       "        vertical-align: middle;\n",
       "    }\n",
       "\n",
       "    .dataframe tbody tr th {\n",
       "        vertical-align: top;\n",
       "    }\n",
       "\n",
       "    .dataframe thead th {\n",
       "        text-align: right;\n",
       "    }\n",
       "</style>\n",
       "<table border=\"1\" class=\"dataframe\">\n",
       "  <thead>\n",
       "    <tr style=\"text-align: right;\">\n",
       "      <th></th>\n",
       "      <th></th>\n",
       "    </tr>\n",
       "    <tr>\n",
       "      <th>cluster_ID</th>\n",
       "      <th>label</th>\n",
       "    </tr>\n",
       "  </thead>\n",
       "  <tbody>\n",
       "    <tr>\n",
       "      <th rowspan=\"5\" valign=\"top\">0</th>\n",
       "      <th>0</th>\n",
       "    </tr>\n",
       "    <tr>\n",
       "      <th>1</th>\n",
       "    </tr>\n",
       "    <tr>\n",
       "      <th>2</th>\n",
       "    </tr>\n",
       "    <tr>\n",
       "      <th>3</th>\n",
       "    </tr>\n",
       "    <tr>\n",
       "      <th>4</th>\n",
       "    </tr>\n",
       "    <tr>\n",
       "      <th rowspan=\"4\" valign=\"top\">1</th>\n",
       "      <th>1</th>\n",
       "    </tr>\n",
       "    <tr>\n",
       "      <th>2</th>\n",
       "    </tr>\n",
       "    <tr>\n",
       "      <th>3</th>\n",
       "    </tr>\n",
       "    <tr>\n",
       "      <th>4</th>\n",
       "    </tr>\n",
       "    <tr>\n",
       "      <th>2</th>\n",
       "      <th>3</th>\n",
       "    </tr>\n",
       "    <tr>\n",
       "      <th rowspan=\"3\" valign=\"top\">3</th>\n",
       "      <th>1</th>\n",
       "    </tr>\n",
       "    <tr>\n",
       "      <th>3</th>\n",
       "    </tr>\n",
       "    <tr>\n",
       "      <th>4</th>\n",
       "    </tr>\n",
       "    <tr>\n",
       "      <th rowspan=\"5\" valign=\"top\">4</th>\n",
       "      <th>0</th>\n",
       "    </tr>\n",
       "    <tr>\n",
       "      <th>1</th>\n",
       "    </tr>\n",
       "    <tr>\n",
       "      <th>2</th>\n",
       "    </tr>\n",
       "    <tr>\n",
       "      <th>3</th>\n",
       "    </tr>\n",
       "    <tr>\n",
       "      <th>4</th>\n",
       "    </tr>\n",
       "  </tbody>\n",
       "</table>\n",
       "</div>"
      ],
      "text/plain": [
       "Empty DataFrame\n",
       "Columns: []\n",
       "Index: [(0, 0), (0, 1), (0, 2), (0, 3), (0, 4), (1, 1), (1, 2), (1, 3), (1, 4), (2, 3), (3, 1), (3, 3), (3, 4), (4, 0), (4, 1), (4, 2), (4, 3), (4, 4)]"
      ]
     },
     "execution_count": 65,
     "metadata": {},
     "output_type": "execute_result"
    }
   ],
   "source": [
    "df[\"item_id\"] = np.arange(len(df))\n",
    "df.groupby([\"cluster_ID\", \"label\"]).count()"
   ]
  }
 ],
 "metadata": {
  "kernelspec": {
   "display_name": "Python 3",
   "language": "python",
   "name": "python3"
  },
  "language_info": {
   "codemirror_mode": {
    "name": "ipython",
    "version": 3
   },
   "file_extension": ".py",
   "mimetype": "text/x-python",
   "name": "python",
   "nbconvert_exporter": "python",
   "pygments_lexer": "ipython3",
   "version": "3.8.10"
  }
 },
 "nbformat": 4,
 "nbformat_minor": 5
}
