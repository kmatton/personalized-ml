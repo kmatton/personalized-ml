{
 "cells": [
  {
   "cell_type": "code",
   "execution_count": 1,
   "id": "a45d36b6",
   "metadata": {},
   "outputs": [],
   "source": [
    "%load_ext autoreload\n",
    "%autoreload 2"
   ]
  },
  {
   "cell_type": "code",
   "execution_count": 3,
   "id": "ed845dcb",
   "metadata": {},
   "outputs": [],
   "source": [
    "import sys\n",
    "sys.path.append('../../src/generic')\n",
    "import csv\n",
    "import os\n",
    "import numpy as np\n",
    "import pandas as pd\n",
    "import seaborn as sns\n",
    "sns.set_theme()\n",
    "from tqdm import tqdm"
   ]
  },
  {
   "cell_type": "code",
   "execution_count": 4,
   "id": "b839416b",
   "metadata": {},
   "outputs": [],
   "source": [
    "os.environ[\"CUDA_VISIBLE_DEVICES\"] = \"0,1,2,3\"\n",
    "import torch\n",
    "assert torch.cuda.is_available(), \"selected gpus, but cuda not available\""
   ]
  },
  {
   "cell_type": "code",
   "execution_count": 5,
   "id": "92cb0738",
   "metadata": {},
   "outputs": [],
   "source": [
    "from datasets import Dataset\n",
    "from torch.utils.data.sampler import SequentialSampler\n",
    "from torch.utils.data.dataloader import DataLoader\n",
    "from transformers import AutoConfig, AutoModelForMaskedLM, AutoTokenizer, default_data_collator"
   ]
  },
  {
   "cell_type": "code",
   "execution_count": 8,
   "id": "538818cd",
   "metadata": {},
   "outputs": [],
   "source": [
    "from dataset.amazon_reviews_clf_dataset import AmazonClfDataset"
   ]
  },
  {
   "cell_type": "code",
   "execution_count": 6,
   "id": "1aebb376",
   "metadata": {},
   "outputs": [],
   "source": [
    "data_kwargs = dict(\n",
    "    data_dir=\"/data/ddmg/redditlanguagemodeling/data/AmazonReviews/data/amazon_v2.0/\",\n",
    "    raw_data_file=\"reviews.csv\",\n",
    "    tokenizer_name=\"distilbert-base-uncased\",\n",
    "    tokenizer_cache_dir=\"/data/ddmg/redditlanguagemodeling/cached/distilbert\",\n",
    "    split_file=\"my_user_split.csv\",\n",
    "    processed_data_dir=\"amazon_reviews_clf_processed\",\n",
    ")"
   ]
  },
  {
   "cell_type": "code",
   "execution_count": 9,
   "id": "ac91e7c6",
   "metadata": {},
   "outputs": [
    {
     "name": "stdout",
     "output_type": "stream",
     "text": [
      "loading processed data from /data/ddmg/redditlanguagemodeling/data/AmazonReviews/data/amazon_v2.0/amazon_reviews_clf_processed\n"
     ]
    }
   ],
   "source": [
    "dataset = AmazonClfDataset(**data_kwargs)"
   ]
  },
  {
   "cell_type": "code",
   "execution_count": 10,
   "id": "f76f818f",
   "metadata": {},
   "outputs": [
    {
     "name": "stdout",
     "output_type": "stream",
     "text": [
      "loading existing embeddings for train data\n",
      "loading existing embeddings for val data\n",
      "loading existing embeddings for test data\n"
     ]
    }
   ],
   "source": [
    "dataset.embed_data(None, \"/data/ddmg/redditlanguagemodeling/data/AmazonReviews/data/amazon_v2.0/embeddings/my_user_split_clf_post_embeddings/\")"
   ]
  },
  {
   "cell_type": "code",
   "execution_count": null,
   "id": "6737b003",
   "metadata": {},
   "outputs": [],
   "source": [
    "save_path = \"/data/ddmg/redditlanguagemodeling/data/AmazonReviews/data/amazon_v2.0/amazon_reviews_clf_processed_with_user_split_embeds\""
   ]
  }
 ],
 "metadata": {
  "kernelspec": {
   "display_name": "Python 3",
   "language": "python",
   "name": "python3"
  },
  "language_info": {
   "codemirror_mode": {
    "name": "ipython",
    "version": 3
   },
   "file_extension": ".py",
   "mimetype": "text/x-python",
   "name": "python",
   "nbconvert_exporter": "python",
   "pygments_lexer": "ipython3",
   "version": "3.8.10"
  }
 },
 "nbformat": 4,
 "nbformat_minor": 5
}
