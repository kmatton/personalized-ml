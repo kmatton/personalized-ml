{
 "cells": [
  {
   "cell_type": "code",
   "execution_count": 1,
   "id": "a4d11ab9",
   "metadata": {},
   "outputs": [],
   "source": [
    "%load_ext autoreload\n",
    "%autoreload 2"
   ]
  },
  {
   "cell_type": "code",
   "execution_count": 2,
   "id": "f3bf0774",
   "metadata": {},
   "outputs": [],
   "source": [
    "import csv\n",
    "import os\n",
    "import numpy as np\n",
    "import pandas as pd\n",
    "import seaborn as sns\n",
    "sns.set_theme()"
   ]
  },
  {
   "cell_type": "code",
   "execution_count": 3,
   "id": "291d5278",
   "metadata": {},
   "outputs": [],
   "source": [
    "data_dir = \"/data/ddmg/redditlanguagemodeling/data/AmazonReviews/data\""
   ]
  },
  {
   "cell_type": "markdown",
   "id": "2eb0cd6d",
   "metadata": {},
   "source": [
    "## Examine Majority Class Baseline for Wilds User Split Dataset"
   ]
  },
  {
   "cell_type": "code",
   "execution_count": 4,
   "id": "a2f65afd",
   "metadata": {},
   "outputs": [],
   "source": [
    "data_df = pd.read_csv(os.path.join(data_dir, 'amazon_v2.0/reviews.csv'),\n",
    "                      dtype={'reviewerID':str, 'asin':str, 'reviewTime':str,'unixReviewTime':int,\n",
    "                             'reviewText':str,'summary':str,'verified':bool,'category':str, 'reviewYear':int},\n",
    "                      keep_default_na=False, na_values=[], quoting=csv.QUOTE_NONNUMERIC)"
   ]
  },
  {
   "cell_type": "code",
   "execution_count": 5,
   "id": "1b269c17",
   "metadata": {},
   "outputs": [],
   "source": [
    "split_df = pd.read_csv(os.path.join(data_dir, 'amazon_v2.0', 'splits', 'user.csv'))"
   ]
  },
  {
   "cell_type": "code",
   "execution_count": 6,
   "id": "993ac48c",
   "metadata": {},
   "outputs": [],
   "source": [
    "data_df[\"split\"] = split_df[\"split\"]"
   ]
  },
  {
   "cell_type": "code",
   "execution_count": 12,
   "id": "f71ad7e4",
   "metadata": {},
   "outputs": [],
   "source": [
    "perf_by_user = data_df.groupby([\"split\", \"reviewerID\"]).agg(lambda x: x.value_counts(normalize=True).iloc[0])[\"overall\"]"
   ]
  },
  {
   "cell_type": "code",
   "execution_count": 13,
   "id": "4115a17f",
   "metadata": {},
   "outputs": [
    {
     "data": {
      "text/plain": [
       "split  reviewerID          \n",
       "-1.0   A0020356UF96ZV361ST     0.626984\n",
       "       A00463782V7TKAP9EMNL    0.515152\n",
       "       A00577669P2XCLU956L8    0.774194\n",
       "       A0061296P44YI9YQBDHH    0.911765\n",
       "       A0096681Y127OL1H8W3U    0.761905\n",
       "                                 ...   \n",
       " 4.0   AY3XPKRAMKKY7           0.760000\n",
       "       AY5E0O8II03DY           0.480000\n",
       "       AYQ14XGJODM9J           0.720000\n",
       "       AYTMXLYK6SC9H           0.560000\n",
       "       AZK12FBX7X7LN           0.413333\n",
       "Name: overall, Length: 160810, dtype: float64"
      ]
     },
     "execution_count": 13,
     "metadata": {},
     "output_type": "execute_result"
    }
   ],
   "source": [
    "perf_by_user"
   ]
  },
  {
   "cell_type": "code",
   "execution_count": 15,
   "id": "ee7aaee3",
   "metadata": {},
   "outputs": [
    {
     "data": {
      "text/plain": [
       "split\n",
       "-1.0    0.690044\n",
       " 0.0    0.647761\n",
       " 1.0    0.646837\n",
       " 2.0    0.660405\n",
       " 3.0    0.635562\n",
       " 4.0    0.640383\n",
       "Name: overall, dtype: float64"
      ]
     },
     "execution_count": 15,
     "metadata": {},
     "output_type": "execute_result"
    }
   ],
   "source": [
    "perf_by_user.groupby('split').mean()"
   ]
  },
  {
   "cell_type": "code",
   "execution_count": 16,
   "id": "33c23aba",
   "metadata": {},
   "outputs": [
    {
     "data": {
      "text/plain": [
       "split\n",
       "-1.0    0.197131\n",
       " 0.0    0.188685\n",
       " 1.0    0.195444\n",
       " 2.0    0.193723\n",
       " 3.0    0.192867\n",
       " 4.0    0.187439\n",
       "Name: overall, dtype: float64"
      ]
     },
     "execution_count": 16,
     "metadata": {},
     "output_type": "execute_result"
    }
   ],
   "source": [
    "perf_by_user.groupby('split').std()"
   ]
  },
  {
   "cell_type": "code",
   "execution_count": 17,
   "id": "39976b18",
   "metadata": {},
   "outputs": [
    {
     "data": {
      "text/plain": [
       "split\n",
       "-1.0    0.424242\n",
       " 0.0    0.416667\n",
       " 1.0    0.413333\n",
       " 2.0    0.413333\n",
       " 3.0    0.400000\n",
       " 4.0    0.413333\n",
       "Name: overall, dtype: float64"
      ]
     },
     "execution_count": 17,
     "metadata": {},
     "output_type": "execute_result"
    }
   ],
   "source": [
    "perf_by_user.groupby('split').quantile(.1)"
   ]
  },
  {
   "cell_type": "code",
   "execution_count": 18,
   "id": "822639fb",
   "metadata": {},
   "outputs": [],
   "source": [
    "perf_by_category = data_df.groupby([\"split\", \"category\"]).agg(lambda x: x.value_counts(normalize=True).iloc[0])[\"overall\"]"
   ]
  },
  {
   "cell_type": "code",
   "execution_count": 19,
   "id": "d7db370b",
   "metadata": {},
   "outputs": [
    {
     "data": {
      "text/plain": [
       "split  category                  \n",
       "-1.0   All_Beauty                    0.782609\n",
       "       Arts_Crafts_and_Sewing        0.758166\n",
       "       Automotive                    0.716424\n",
       "       Books                         0.605437\n",
       "       CDs_and_Vinyl                 0.681637\n",
       "                                       ...   \n",
       " 4.0   Software                      1.000000\n",
       "       Sports_and_Outdoors           0.578652\n",
       "       Tools_and_Home_Improvement    0.636076\n",
       "       Toys_and_Games                0.662651\n",
       "       Video_Games                   0.631579\n",
       "Name: overall, Length: 154, dtype: float64"
      ]
     },
     "execution_count": 19,
     "metadata": {},
     "output_type": "execute_result"
    }
   ],
   "source": [
    "perf_by_category"
   ]
  },
  {
   "cell_type": "code",
   "execution_count": 23,
   "id": "2773a4fe",
   "metadata": {},
   "outputs": [
    {
     "data": {
      "text/plain": [
       "0.594007103696495"
      ]
     },
     "execution_count": 23,
     "metadata": {},
     "output_type": "execute_result"
    }
   ],
   "source": [
    "perf_by_category.loc[3, :].mean()"
   ]
  },
  {
   "cell_type": "code",
   "execution_count": 20,
   "id": "0adfba84",
   "metadata": {},
   "outputs": [
    {
     "data": {
      "text/plain": [
       "split  category                   \n",
       "3.0    All_Beauty                     0.444444\n",
       "       Arts_Crafts_and_Sewing         0.848101\n",
       "       Automotive                     0.650602\n",
       "       Books                          0.570146\n",
       "       CDs_and_Vinyl                  0.589569\n",
       "       Cell_Phones_and_Accessories    0.701987\n",
       "       Clothing_Shoes_and_Jewelry     0.585698\n",
       "       Digital_Music                  0.275862\n",
       "       Electronics                    0.649740\n",
       "       Grocery_and_Gourmet_Food       0.614228\n",
       "       Home_and_Kitchen               0.596139\n",
       "       Industrial_and_Scientific      0.615385\n",
       "       Kindle_Store                   0.578947\n",
       "       Luxury_Beauty                  0.459459\n",
       "       Movies_and_TV                  0.440032\n",
       "       Musical_Instruments            0.774194\n",
       "       Office_Products                0.636230\n",
       "       Patio_Lawn_and_Garden          0.594203\n",
       "       Pet_Supplies                   0.567762\n",
       "       Prime_Pantry                   0.685185\n",
       "       Software                       0.571429\n",
       "       Sports_and_Outdoors            0.619883\n",
       "       Tools_and_Home_Improvement     0.645248\n",
       "       Toys_and_Games                 0.587879\n",
       "       Video_Games                    0.547826\n",
       "Name: overall, dtype: float64"
      ]
     },
     "execution_count": 20,
     "metadata": {},
     "output_type": "execute_result"
    }
   ],
   "source": [
    "# Train Perf\n",
    "perf_by_category.loc[3, :]"
   ]
  },
  {
   "cell_type": "code",
   "execution_count": 21,
   "id": "f5f43319",
   "metadata": {},
   "outputs": [],
   "source": [
    "category_counts = data_df.groupby([\"split\", \"category\"]).count()['overall']"
   ]
  },
  {
   "cell_type": "code",
   "execution_count": 22,
   "id": "ef7349e0",
   "metadata": {},
   "outputs": [
    {
     "data": {
      "text/plain": [
       "split  category                   \n",
       "0.0    All_Beauty                         13\n",
       "       Arts_Crafts_and_Sewing            193\n",
       "       Automotive                        320\n",
       "       Books                          182663\n",
       "       CDs_and_Vinyl                    1115\n",
       "       Cell_Phones_and_Accessories       307\n",
       "       Clothing_Shoes_and_Jewelry       1759\n",
       "       Digital_Music                      28\n",
       "       Electronics                      2736\n",
       "       Grocery_and_Gourmet_Food         1995\n",
       "       Home_and_Kitchen                 4403\n",
       "       Industrial_and_Scientific          81\n",
       "       Kindle_Store                    32281\n",
       "       Luxury_Beauty                     158\n",
       "       Magazine_Subscriptions              2\n",
       "       Movies_and_TV                    9879\n",
       "       Musical_Instruments                47\n",
       "       Office_Products                  1298\n",
       "       Patio_Lawn_and_Garden             709\n",
       "       Pet_Supplies                     1908\n",
       "       Prime_Pantry                      367\n",
       "       Software                            9\n",
       "       Sports_and_Outdoors               865\n",
       "       Tools_and_Home_Improvement       1226\n",
       "       Toys_and_Games                    992\n",
       "       Video_Games                       148\n",
       "Name: overall, dtype: int64"
      ]
     },
     "execution_count": 22,
     "metadata": {},
     "output_type": "execute_result"
    }
   ],
   "source": [
    "category_counts.loc[0, :]"
   ]
  },
  {
   "cell_type": "code",
   "execution_count": 10,
   "id": "860bb4d4",
   "metadata": {},
   "outputs": [
    {
     "data": {
      "text/plain": [
       "split\n",
       "-1.0    9577445\n",
       " 0.0     245502\n",
       " 1.0     100050\n",
       " 2.0      46950\n",
       " 3.0     100050\n",
       " 4.0      46950\n",
       "Name: overall, dtype: int64"
      ]
     },
     "execution_count": 10,
     "metadata": {},
     "output_type": "execute_result"
    }
   ],
   "source": [
    "data_df.groupby(\"split\").count()[\"overall\"]"
   ]
  },
  {
   "cell_type": "code",
   "execution_count": 9,
   "id": "dd9b9a7e",
   "metadata": {},
   "outputs": [
    {
     "data": {
      "text/plain": [
       "split\n",
       "-1.0    0.627883\n",
       " 0.0    0.575380\n",
       " 1.0    0.584988\n",
       " 2.0    0.595761\n",
       " 3.0    0.569365\n",
       " 4.0    0.581278\n",
       "Name: overall, dtype: float64"
      ]
     },
     "execution_count": 9,
     "metadata": {},
     "output_type": "execute_result"
    }
   ],
   "source": [
    "data_df.groupby(\"split\").agg(lambda x: x.value_counts(normalize=True).iloc[0])[\"overall\"]"
   ]
  },
  {
   "cell_type": "markdown",
   "id": "385586a1",
   "metadata": {},
   "source": [
    "## Create Smaller Dataset and Examine Majority Classe Baseline for This"
   ]
  },
  {
   "cell_type": "code",
   "execution_count": 24,
   "id": "f217c3f2",
   "metadata": {},
   "outputs": [],
   "source": [
    "# pick a few categories and pick reviews just from them\n",
    "include_categories = [\n",
    "    \"Movies_and_TV\",\n",
    "    \"Books\", # may want to take a subset of these because there are so many\n",
    "    \"Grocery_and_Gourmet_Food\",\n",
    "    \"Prime_Pantry\"\n",
    "]"
   ]
  },
  {
   "cell_type": "code",
   "execution_count": 25,
   "id": "372ba4e3",
   "metadata": {},
   "outputs": [],
   "source": [
    "my_df = data_df[data_df[\"category\"].isin(include_categories)]"
   ]
  },
  {
   "cell_type": "code",
   "execution_count": 26,
   "id": "f321f551",
   "metadata": {},
   "outputs": [
    {
     "data": {
      "text/plain": [
       "split\n",
       "-1.0    5980711\n",
       " 0.0     194904\n",
       " 1.0      78038\n",
       " 2.0      36534\n",
       " 3.0      77815\n",
       " 4.0      36790\n",
       "Name: overall, dtype: int64"
      ]
     },
     "execution_count": 26,
     "metadata": {},
     "output_type": "execute_result"
    }
   ],
   "source": [
    "my_df.groupby(\"split\").count()[\"overall\"]"
   ]
  },
  {
   "cell_type": "code",
   "execution_count": 27,
   "id": "a31829cb",
   "metadata": {},
   "outputs": [
    {
     "data": {
      "text/plain": [
       "split  category                \n",
       "-1.0   Books                       5116104\n",
       "       Grocery_and_Gourmet_Food     169953\n",
       "       Movies_and_TV                667096\n",
       "       Prime_Pantry                  27558\n",
       " 0.0   Books                        182663\n",
       "       Grocery_and_Gourmet_Food       1995\n",
       "       Movies_and_TV                  9879\n",
       "       Prime_Pantry                    367\n",
       " 1.0   Books                         73195\n",
       "       Grocery_and_Gourmet_Food       1049\n",
       "       Movies_and_TV                  3628\n",
       "       Prime_Pantry                    166\n",
       " 2.0   Books                         34313\n",
       "       Grocery_and_Gourmet_Food        490\n",
       "       Movies_and_TV                  1661\n",
       "       Prime_Pantry                     70\n",
       " 3.0   Books                         71594\n",
       "       Grocery_and_Gourmet_Food        998\n",
       "       Movies_and_TV                  5061\n",
       "       Prime_Pantry                    162\n",
       " 4.0   Books                         34601\n",
       "       Grocery_and_Gourmet_Food        450\n",
       "       Movies_and_TV                  1635\n",
       "       Prime_Pantry                    104\n",
       "Name: overall, dtype: int64"
      ]
     },
     "execution_count": 27,
     "metadata": {},
     "output_type": "execute_result"
    }
   ],
   "source": [
    "my_df.groupby([\"split\", \"category\"]).count()[\"overall\"]"
   ]
  },
  {
   "cell_type": "code",
   "execution_count": 40,
   "id": "f9bdc9d4",
   "metadata": {},
   "outputs": [],
   "source": [
    "split_df2 = pd.read_csv(os.path.join(data_dir, 'amazon_v2.0', 'splits', 'category_subpopulation.csv'))"
   ]
  },
  {
   "cell_type": "code",
   "execution_count": 41,
   "id": "2b9c3dd0",
   "metadata": {},
   "outputs": [],
   "source": [
    "data_df2 = data_df.copy()\n",
    "data_df2[\"split\"] = split_df2[\"split\"]"
   ]
  },
  {
   "cell_type": "code",
   "execution_count": 42,
   "id": "0ed02a63",
   "metadata": {},
   "outputs": [
    {
     "data": {
      "text/plain": [
       "split  category                \n",
       "-1.0   Books                       4963386\n",
       "       Grocery_and_Gourmet_Food     155626\n",
       "       Movies_and_TV                619369\n",
       "       Prime_Pantry                  23720\n",
       " 0.0   Books                        547084\n",
       "       Grocery_and_Gourmet_Food      17309\n",
       "       Movies_and_TV                 67591\n",
       "       Prime_Pantry                   2707\n",
       " 1.0   Books                          1000\n",
       "       Grocery_and_Gourmet_Food       1000\n",
       "       Movies_and_TV                  1000\n",
       "       Prime_Pantry                   1000\n",
       " 2.0   Books                          1000\n",
       "       Grocery_and_Gourmet_Food       1000\n",
       "       Movies_and_TV                  1000\n",
       "       Prime_Pantry                   1000\n",
       "Name: overall, dtype: int64"
      ]
     },
     "execution_count": 42,
     "metadata": {},
     "output_type": "execute_result"
    }
   ],
   "source": [
    "my_df2 = data_df2[data_df2[\"category\"].isin(include_categories)]\n",
    "my_df2.groupby([\"split\", \"category\"]).count()[\"overall\"]"
   ]
  },
  {
   "cell_type": "code",
   "execution_count": 43,
   "id": "71aae0db",
   "metadata": {},
   "outputs": [],
   "source": [
    "# this could be good because fewer for testing!\n",
    "# but downsample training data so you don't have too much\n",
    "# could take 2500 from each category? so we have 10,000 reviews total\n",
    "\n",
    "include = data_df[\"category\"].isin(include_categories)"
   ]
  },
  {
   "cell_type": "code",
   "execution_count": 45,
   "id": "b7da1f43",
   "metadata": {},
   "outputs": [],
   "source": [
    "og_split = split_df2[\"split\"].values"
   ]
  },
  {
   "cell_type": "code",
   "execution_count": 50,
   "id": "64de9b5d",
   "metadata": {},
   "outputs": [],
   "source": [
    "my_split = np.full(len(og_split), -1)\n",
    "for i in range(len(my_split)):\n",
    "    if include[i]:\n",
    "        my_split[i] = og_split[i]"
   ]
  },
  {
   "cell_type": "code",
   "execution_count": 51,
   "id": "657664e4",
   "metadata": {},
   "outputs": [],
   "source": [
    "my_split_df = split_df2.copy()\n",
    "my_split_df[\"split\"] = my_split"
   ]
  },
  {
   "cell_type": "code",
   "execution_count": 52,
   "id": "2433bd3a",
   "metadata": {},
   "outputs": [],
   "source": [
    "data_df[\"split\"] = my_split"
   ]
  },
  {
   "cell_type": "code",
   "execution_count": 59,
   "id": "93158e63",
   "metadata": {},
   "outputs": [
    {
     "data": {
      "text/plain": [
       "split  category                   \n",
       "-1     All_Beauty                         406\n",
       "       Arts_Crafts_and_Sewing           24846\n",
       "       Automotive                       81585\n",
       "       Books                          5507970\n",
       "       CDs_and_Vinyl                    80403\n",
       "       Cell_Phones_and_Accessories      51699\n",
       "       Clothing_Shoes_and_Jewelry      508945\n",
       "       Digital_Music                     3244\n",
       "       Electronics                     560722\n",
       "       Gift_Cards                         136\n",
       "       Grocery_and_Gourmet_Food        170435\n",
       "       Home_and_Kitchen                625033\n",
       "       Industrial_and_Scientific         7534\n",
       "       Kindle_Store                    757256\n",
       "       Luxury_Beauty                     3385\n",
       "       Magazine_Subscriptions              62\n",
       "       Movies_and_TV                   684460\n",
       "       Musical_Instruments              10070\n",
       "       Office_Products                 143047\n",
       "       Patio_Lawn_and_Garden            91175\n",
       "       Pet_Supplies                    268777\n",
       "       Prime_Pantry                     23927\n",
       "       Software                           465\n",
       "       Sports_and_Outdoors             159277\n",
       "       Tools_and_Home_Improvement      229519\n",
       "       Toys_and_Games                   81650\n",
       "       Video_Games                      22919\n",
       " 0     Books                             2500\n",
       "       Grocery_and_Gourmet_Food          2500\n",
       "       Movies_and_TV                     2500\n",
       "       Prime_Pantry                      2500\n",
       " 1     Books                             1000\n",
       "       Grocery_and_Gourmet_Food          1000\n",
       "       Movies_and_TV                     1000\n",
       "       Prime_Pantry                      1000\n",
       " 2     Books                             1000\n",
       "       Grocery_and_Gourmet_Food          1000\n",
       "       Movies_and_TV                     1000\n",
       "       Prime_Pantry                      1000\n",
       "Name: overall, dtype: int64"
      ]
     },
     "metadata": {},
     "output_type": "display_data"
    }
   ],
   "source": [
    "with pd.option_context('display.max_rows', None, 'display.max_columns', None):\n",
    "    display(data_df.groupby([\"split\", \"category\"]).count()[\"overall\"])"
   ]
  },
  {
   "cell_type": "code",
   "execution_count": 58,
   "id": "7a7b3601",
   "metadata": {},
   "outputs": [],
   "source": [
    "# sample points to keep in training data for each category\n",
    "for cat in include_categories:\n",
    "    cat_df = data_df[data_df[\"category\"] == cat]\n",
    "    train_idx = cat_df[cat_df[\"split\"] == 0].index\n",
    "    keep = set(np.random.choice(train_idx, 2500, replace=False))\n",
    "    exclude = [x for x in train_idx if x not in keep]\n",
    "    data_df.loc[exclude, \"split\"] = -1"
   ]
  },
  {
   "cell_type": "code",
   "execution_count": 60,
   "id": "e9e071d4",
   "metadata": {},
   "outputs": [],
   "source": [
    "my_split_df[\"split\"] = data_df[\"split\"]"
   ]
  },
  {
   "cell_type": "code",
   "execution_count": 61,
   "id": "bea17a08",
   "metadata": {},
   "outputs": [
    {
     "data": {
      "text/plain": [
       "18000"
      ]
     },
     "execution_count": 61,
     "metadata": {},
     "output_type": "execute_result"
    }
   ],
   "source": [
    "len(my_split_df[my_split_df[\"split\"] != -1])"
   ]
  },
  {
   "cell_type": "code",
   "execution_count": 62,
   "id": "77a9149f",
   "metadata": {},
   "outputs": [],
   "source": [
    "my_split_df.to_csv(os.path.join(data_dir, 'amazon_v2.0', 'splits', 'small_even_books_grocery_movie_pantry.csv'), index=False)"
   ]
  },
  {
   "cell_type": "code",
   "execution_count": 5,
   "id": "aebcc848",
   "metadata": {},
   "outputs": [],
   "source": [
    "split_df = pd.read_csv(os.path.join(data_dir, 'amazon_v2.0', 'splits', 'small_even_books_grocery_movie_pantry.csv'))"
   ]
  },
  {
   "cell_type": "code",
   "execution_count": 20,
   "id": "96761bdc",
   "metadata": {},
   "outputs": [],
   "source": [
    "keep_df = data_df.copy()\n",
    "keep_df[\"split\"] = split_df[\"split\"]"
   ]
  },
  {
   "cell_type": "code",
   "execution_count": 21,
   "id": "af72fd3f",
   "metadata": {},
   "outputs": [],
   "source": [
    "keep_df = keep_df[keep_df[\"split\"] != -1]"
   ]
  },
  {
   "cell_type": "code",
   "execution_count": 22,
   "id": "e5dadbd3",
   "metadata": {},
   "outputs": [],
   "source": [
    "perf_by_category = keep_df.groupby([\"split\", \"category\"]).agg(lambda x: x.value_counts(normalize=True).iloc[0])[\"overall\"]"
   ]
  },
  {
   "cell_type": "code",
   "execution_count": 23,
   "id": "2dba2554",
   "metadata": {},
   "outputs": [
    {
     "data": {
      "text/plain": [
       "split  category                \n",
       "0      Books                       0.6024\n",
       "       Grocery_and_Gourmet_Food    0.7056\n",
       "       Movies_and_TV               0.5788\n",
       "       Prime_Pantry                0.7544\n",
       "1      Books                       0.6110\n",
       "       Grocery_and_Gourmet_Food    0.7090\n",
       "       Movies_and_TV               0.5940\n",
       "       Prime_Pantry                0.7720\n",
       "2      Books                       0.5820\n",
       "       Grocery_and_Gourmet_Food    0.6920\n",
       "       Movies_and_TV               0.5760\n",
       "       Prime_Pantry                0.7360\n",
       "Name: overall, dtype: float64"
      ]
     },
     "execution_count": 23,
     "metadata": {},
     "output_type": "execute_result"
    }
   ],
   "source": [
    "perf_by_category"
   ]
  },
  {
   "cell_type": "code",
   "execution_count": 17,
   "id": "5b7e25a5",
   "metadata": {},
   "outputs": [
    {
     "data": {
      "text/html": [
       "<div>\n",
       "<style scoped>\n",
       "    .dataframe tbody tr th:only-of-type {\n",
       "        vertical-align: middle;\n",
       "    }\n",
       "\n",
       "    .dataframe tbody tr th {\n",
       "        vertical-align: top;\n",
       "    }\n",
       "\n",
       "    .dataframe thead th {\n",
       "        text-align: right;\n",
       "    }\n",
       "</style>\n",
       "<table border=\"1\" class=\"dataframe\">\n",
       "  <thead>\n",
       "    <tr style=\"text-align: right;\">\n",
       "      <th></th>\n",
       "      <th>reviewerID</th>\n",
       "      <th>asin</th>\n",
       "      <th>overall</th>\n",
       "      <th>reviewTime</th>\n",
       "      <th>unixReviewTime</th>\n",
       "      <th>reviewText</th>\n",
       "      <th>summary</th>\n",
       "      <th>verified</th>\n",
       "      <th>category</th>\n",
       "      <th>reviewYear</th>\n",
       "      <th>split</th>\n",
       "    </tr>\n",
       "  </thead>\n",
       "  <tbody>\n",
       "    <tr>\n",
       "      <th>107248</th>\n",
       "      <td>A36AT5FQKOLFGI</td>\n",
       "      <td>0001950061</td>\n",
       "      <td>5.0</td>\n",
       "      <td>10 17, 2015</td>\n",
       "      <td>1445040000</td>\n",
       "      <td>Just what we expected. Great condition</td>\n",
       "      <td>Great</td>\n",
       "      <td>True</td>\n",
       "      <td>Books</td>\n",
       "      <td>2015</td>\n",
       "      <td>0</td>\n",
       "    </tr>\n",
       "    <tr>\n",
       "      <th>108567</th>\n",
       "      <td>A3JE54HVJP1GQL</td>\n",
       "      <td>0001951076</td>\n",
       "      <td>5.0</td>\n",
       "      <td>12 6, 2016</td>\n",
       "      <td>1480982400</td>\n",
       "      <td>Gift</td>\n",
       "      <td>Five Stars</td>\n",
       "      <td>True</td>\n",
       "      <td>Books</td>\n",
       "      <td>2016</td>\n",
       "      <td>0</td>\n",
       "    </tr>\n",
       "    <tr>\n",
       "      <th>114305</th>\n",
       "      <td>A20TUE7C9HEYYV</td>\n",
       "      <td>0002247399</td>\n",
       "      <td>5.0</td>\n",
       "      <td>05 26, 2015</td>\n",
       "      <td>1432598400</td>\n",
       "      <td>George R,R,Martin continues his marvelous stor...</td>\n",
       "      <td>THE GAMES CONTINUE</td>\n",
       "      <td>False</td>\n",
       "      <td>Books</td>\n",
       "      <td>2015</td>\n",
       "      <td>1</td>\n",
       "    </tr>\n",
       "    <tr>\n",
       "      <th>116339</th>\n",
       "      <td>A3LNZKV31R04C4</td>\n",
       "      <td>0006148697</td>\n",
       "      <td>5.0</td>\n",
       "      <td>11 5, 2003</td>\n",
       "      <td>1067990400</td>\n",
       "      <td>The intrigues and and captives of this incredi...</td>\n",
       "      <td>One would never guess.....</td>\n",
       "      <td>False</td>\n",
       "      <td>Books</td>\n",
       "      <td>2003</td>\n",
       "      <td>0</td>\n",
       "    </tr>\n",
       "    <tr>\n",
       "      <th>118323</th>\n",
       "      <td>A3VEM8IL7EZTCS</td>\n",
       "      <td>0006167004</td>\n",
       "      <td>5.0</td>\n",
       "      <td>01 30, 2014</td>\n",
       "      <td>1391040000</td>\n",
       "      <td>loved the books few tipos but that ok, loved i...</td>\n",
       "      <td>loved it</td>\n",
       "      <td>True</td>\n",
       "      <td>Books</td>\n",
       "      <td>2014</td>\n",
       "      <td>0</td>\n",
       "    </tr>\n",
       "  </tbody>\n",
       "</table>\n",
       "</div>"
      ],
      "text/plain": [
       "            reviewerID        asin  overall   reviewTime  unixReviewTime  \\\n",
       "107248  A36AT5FQKOLFGI  0001950061      5.0  10 17, 2015      1445040000   \n",
       "108567  A3JE54HVJP1GQL  0001951076      5.0   12 6, 2016      1480982400   \n",
       "114305  A20TUE7C9HEYYV  0002247399      5.0  05 26, 2015      1432598400   \n",
       "116339  A3LNZKV31R04C4  0006148697      5.0   11 5, 2003      1067990400   \n",
       "118323  A3VEM8IL7EZTCS  0006167004      5.0  01 30, 2014      1391040000   \n",
       "\n",
       "                                               reviewText  \\\n",
       "107248             Just what we expected. Great condition   \n",
       "108567                                               Gift   \n",
       "114305  George R,R,Martin continues his marvelous stor...   \n",
       "116339  The intrigues and and captives of this incredi...   \n",
       "118323  loved the books few tipos but that ok, loved i...   \n",
       "\n",
       "                           summary  verified category  reviewYear  split  \n",
       "107248                       Great      True    Books        2015      0  \n",
       "108567                  Five Stars      True    Books        2016      0  \n",
       "114305          THE GAMES CONTINUE     False    Books        2015      1  \n",
       "116339  One would never guess.....     False    Books        2003      0  \n",
       "118323                    loved it      True    Books        2014      0  "
      ]
     },
     "execution_count": 17,
     "metadata": {},
     "output_type": "execute_result"
    }
   ],
   "source": [
    "keep_df.head(5)"
   ]
  },
  {
   "cell_type": "code",
   "execution_count": 33,
   "id": "5f176a2d",
   "metadata": {},
   "outputs": [
    {
     "data": {
      "text/plain": [
       "<seaborn.axisgrid.FacetGrid at 0x7f2928972970>"
      ]
     },
     "execution_count": 33,
     "metadata": {},
     "output_type": "execute_result"
    },
    {
     "data": {
      "image/png": "[encoded data removed]",
      "text/plain": [
       "<Figure size 432x432 with 4 Axes>"
      ]
     },
     "metadata": {},
     "output_type": "display_data"
    }
   ],
   "source": [
    "#sns.set(rc={'figure.figsize':(11.7,8.27)})\n",
    "g = sns.FacetGrid(keep_df, col=\"category\", col_wrap=2)\n",
    "g.map(sns.histplot, \"overall\")\n",
    "#sns.histplot(data=keep_df, bins=[1,2,3,4,5], x=\"overall\", hue=\"category\", common_bins=True, )"
   ]
  },
  {
   "cell_type": "code",
   "execution_count": 24,
   "id": "7f9004a8",
   "metadata": {},
   "outputs": [
    {
     "data": {
      "text/plain": [
       "split  category                  overall\n",
       "0      Books                     1.0          53\n",
       "                                 2.0          88\n",
       "                                 3.0         216\n",
       "                                 4.0         637\n",
       "                                 5.0        1506\n",
       "       Grocery_and_Gourmet_Food  1.0          78\n",
       "                                 2.0          64\n",
       "                                 3.0         170\n",
       "                                 4.0         424\n",
       "                                 5.0        1764\n",
       "       Movies_and_TV             1.0         125\n",
       "                                 2.0         126\n",
       "                                 3.0         259\n",
       "                                 4.0         543\n",
       "                                 5.0        1447\n",
       "       Prime_Pantry              1.0          44\n",
       "                                 2.0          50\n",
       "                                 3.0         159\n",
       "                                 4.0         361\n",
       "                                 5.0        1886\n",
       "1      Books                     1.0          18\n",
       "                                 2.0          30\n",
       "                                 3.0          87\n",
       "                                 4.0         254\n",
       "                                 5.0         611\n",
       "       Grocery_and_Gourmet_Food  1.0          25\n",
       "                                 2.0          34\n",
       "                                 3.0          70\n",
       "                                 4.0         162\n",
       "                                 5.0         709\n",
       "       Movies_and_TV             1.0          47\n",
       "                                 2.0          39\n",
       "                                 3.0         126\n",
       "                                 4.0         194\n",
       "                                 5.0         594\n",
       "       Prime_Pantry              1.0          17\n",
       "                                 2.0          19\n",
       "                                 3.0          59\n",
       "                                 4.0         133\n",
       "                                 5.0         772\n",
       "2      Books                     1.0          16\n",
       "                                 2.0          39\n",
       "                                 3.0          89\n",
       "                                 4.0         274\n",
       "                                 5.0         582\n",
       "       Grocery_and_Gourmet_Food  1.0          36\n",
       "                                 2.0          22\n",
       "                                 3.0          80\n",
       "                                 4.0         170\n",
       "                                 5.0         692\n",
       "       Movies_and_TV             1.0          41\n",
       "                                 2.0          63\n",
       "                                 3.0         105\n",
       "                                 4.0         215\n",
       "                                 5.0         576\n",
       "       Prime_Pantry              1.0          16\n",
       "                                 2.0          22\n",
       "                                 3.0          65\n",
       "                                 4.0         161\n",
       "                                 5.0         736\n",
       "Name: summary, dtype: int64"
      ]
     },
     "execution_count": 24,
     "metadata": {},
     "output_type": "execute_result"
    }
   ],
   "source": [
    "label_dist = keep_df.groupby([\"split\", \"category\", \"overall\"]).count()[\"summary\"]"
   ]
  },
  {
   "cell_type": "code",
   "execution_count": 66,
   "id": "de12adac",
   "metadata": {},
   "outputs": [],
   "source": [
    "perf_by_category = keep_df.groupby([\"split\"]).agg(lambda x: x.value_counts(normalize=True).iloc[0])[\"overall\"]"
   ]
  },
  {
   "cell_type": "code",
   "execution_count": 67,
   "id": "b97a3270",
   "metadata": {},
   "outputs": [
    {
     "data": {
      "text/plain": [
       "split\n",
       "0    0.6603\n",
       "1    0.6715\n",
       "2    0.6465\n",
       "Name: overall, dtype: float64"
      ]
     },
     "execution_count": 67,
     "metadata": {},
     "output_type": "execute_result"
    }
   ],
   "source": [
    "perf_by_category"
   ]
  }
 ],
 "metadata": {
  "kernelspec": {
   "display_name": "Python 3",
   "language": "python",
   "name": "python3"
  },
  "language_info": {
   "codemirror_mode": {
    "name": "ipython",
    "version": 3
   },
   "file_extension": ".py",
   "mimetype": "text/x-python",
   "name": "python",
   "nbconvert_exporter": "python",
   "pygments_lexer": "ipython3",
   "version": "3.8.10"
  }
 },
 "nbformat": 4,
 "nbformat_minor": 5
}
