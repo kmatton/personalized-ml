{
 "cells": [
  {
   "cell_type": "code",
   "execution_count": 1,
   "id": "b2676b75",
   "metadata": {},
   "outputs": [],
   "source": [
    "%load_ext autoreload\n",
    "%autoreload 2"
   ]
  },
  {
   "cell_type": "code",
   "execution_count": 25,
   "id": "e0fd28c1",
   "metadata": {},
   "outputs": [],
   "source": [
    "import sys\n",
    "sys.path.append('../../src/generic')\n",
    "import csv\n",
    "import os\n",
    "import numpy as np\n",
    "import pandas as pd\n",
    "import seaborn as sns\n",
    "sns.set_theme()\n",
    "from sklearn.metrics import log_loss\n",
    "\n",
    "from datasets import load_from_disk"
   ]
  },
  {
   "cell_type": "code",
   "execution_count": 5,
   "id": "f692a4ec",
   "metadata": {},
   "outputs": [],
   "source": [
    "from results.analyze_data import load_amazon_data"
   ]
  },
  {
   "cell_type": "markdown",
   "id": "4bca098c",
   "metadata": {},
   "source": [
    "## Part 1 Test New Load Data Code"
   ]
  },
  {
   "cell_type": "markdown",
   "id": "7a5d6264",
   "metadata": {},
   "source": [
    "Note: I don't really have any demographic/attribute info for each user unfortunately\n",
    "\n",
    "So the question of how to incorporate this auxillary information may be better answered with another dataset."
   ]
  },
  {
   "cell_type": "code",
   "execution_count": 15,
   "id": "f58e2364",
   "metadata": {},
   "outputs": [],
   "source": [
    "data_dir=\"/data/ddmg/redditlanguagemodeling/data/AmazonReviews/data\"\n",
    "data_path='amazon_v2.0/reviews.csv'\n",
    "split_file_name=\"my_user_split.csv\"\n",
    "target_people_file=\"/data/ddmg/redditlanguagemodeling/results/amazon_reviews/clf/from_embeds/person_specific_my_split_n_500/selected_people.txt\"\n",
    "embeddings_path=\"/data/ddmg/redditlanguagemodeling/data/AmazonReviews/data/amazon_v2.0/embeddings/my_user_split_clf_post_embeddings/\"\n",
    "train_split_num=0\n",
    "val_split_num=1\n",
    "test_split_num=2"
   ]
  },
  {
   "cell_type": "code",
   "execution_count": 24,
   "id": "937c9afd",
   "metadata": {},
   "outputs": [],
   "source": [
    "data_df = pd.read_csv(os.path.join(data_dir, data_path),\n",
    "                      dtype={'reviewerID': str, 'asin': str, 'reviewTime': str, 'unixReviewTime': int,\n",
    "                             'reviewText': str, 'summary': str, 'verified': bool, 'category': str,\n",
    "                             'reviewYear': int},\n",
    "                      keep_default_na=False, na_values=[], quoting=csv.QUOTE_NONNUMERIC)\n",
    "data_df = data_df.rename(columns={\"reviewerID\": \"user\", \"overall\": \"review_score\"})\n",
    "split_df = pd.read_csv(os.path.join(data_dir, 'amazon_v2.0', 'splits', split_file_name))\n",
    "data_df[\"split\"] = split_df[\"split\"]\n",
    "data_df = data_df[data_df[\"split\"] != -1]\n",
    "train_df = data_df[data_df[\"split\"] == train_split_num]\n",
    "val_df = data_df[data_df[\"split\"] == val_split_num]\n",
    "test_df = data_df[data_df[\"split\"] == test_split_num]"
   ]
  },
  {
   "cell_type": "code",
   "execution_count": 40,
   "id": "885efdad",
   "metadata": {},
   "outputs": [
    {
     "data": {
      "text/html": [
       "<div>\n",
       "<style scoped>\n",
       "    .dataframe tbody tr th:only-of-type {\n",
       "        vertical-align: middle;\n",
       "    }\n",
       "\n",
       "    .dataframe tbody tr th {\n",
       "        vertical-align: top;\n",
       "    }\n",
       "\n",
       "    .dataframe thead th {\n",
       "        text-align: right;\n",
       "    }\n",
       "</style>\n",
       "<table border=\"1\" class=\"dataframe\">\n",
       "  <thead>\n",
       "    <tr style=\"text-align: right;\">\n",
       "      <th></th>\n",
       "      <th>user</th>\n",
       "      <th>asin</th>\n",
       "      <th>review_score</th>\n",
       "      <th>reviewTime</th>\n",
       "      <th>unixReviewTime</th>\n",
       "      <th>reviewText</th>\n",
       "      <th>summary</th>\n",
       "      <th>verified</th>\n",
       "      <th>category</th>\n",
       "      <th>reviewYear</th>\n",
       "      <th>split</th>\n",
       "      <th>text_embedding</th>\n",
       "    </tr>\n",
       "  </thead>\n",
       "  <tbody>\n",
       "    <tr>\n",
       "      <th>34</th>\n",
       "      <td>A3HHQ7UIJJAOAV</td>\n",
       "      <td>B0009RF9DW</td>\n",
       "      <td>5.0</td>\n",
       "      <td>06 4, 2013</td>\n",
       "      <td>1370304000</td>\n",
       "      <td>We both love the shower gel.  It smells so goo...</td>\n",
       "      <td>shower gel used by grandmom and grand-daughter...</td>\n",
       "      <td>True</td>\n",
       "      <td>All_Beauty</td>\n",
       "      <td>2013</td>\n",
       "      <td>0.0</td>\n",
       "      <td>[-0.010989412, -0.33095324, 0.12738927, -0.067...</td>\n",
       "    </tr>\n",
       "    <tr>\n",
       "      <th>144</th>\n",
       "      <td>A173YMJ9XFVRSY</td>\n",
       "      <td>B0010ZBORW</td>\n",
       "      <td>5.0</td>\n",
       "      <td>10 24, 2017</td>\n",
       "      <td>1508803200</td>\n",
       "      <td>Great for an at home spa experience. I have dr...</td>\n",
       "      <td>Moisturizing</td>\n",
       "      <td>False</td>\n",
       "      <td>All_Beauty</td>\n",
       "      <td>2017</td>\n",
       "      <td>0.0</td>\n",
       "      <td>[-0.0020468049, -0.23871419, -0.08201841, -0.0...</td>\n",
       "    </tr>\n",
       "    <tr>\n",
       "      <th>160</th>\n",
       "      <td>ALNFHVS3SC4FV</td>\n",
       "      <td>B0010ZBORW</td>\n",
       "      <td>5.0</td>\n",
       "      <td>09 10, 2017</td>\n",
       "      <td>1505001600</td>\n",
       "      <td>Review for Loofah:\\n\\nI have tried loofahs in ...</td>\n",
       "      <td>Nice Loofah with Attached Suction Cup</td>\n",
       "      <td>False</td>\n",
       "      <td>All_Beauty</td>\n",
       "      <td>2017</td>\n",
       "      <td>0.0</td>\n",
       "      <td>[0.027423665, -0.24965718, -0.005420671, -0.06...</td>\n",
       "    </tr>\n",
       "    <tr>\n",
       "      <th>166</th>\n",
       "      <td>ANM9LSZS7C67V</td>\n",
       "      <td>B0010ZBORW</td>\n",
       "      <td>5.0</td>\n",
       "      <td>09 8, 2017</td>\n",
       "      <td>1504828800</td>\n",
       "      <td>Good strong wooden handle that is easy to use....</td>\n",
       "      <td>Simple and precise</td>\n",
       "      <td>False</td>\n",
       "      <td>All_Beauty</td>\n",
       "      <td>2017</td>\n",
       "      <td>0.0</td>\n",
       "      <td>[0.014582153, -0.3553315, -0.00086091936, -0.0...</td>\n",
       "    </tr>\n",
       "    <tr>\n",
       "      <th>173</th>\n",
       "      <td>A3SMR4HRFJARSC</td>\n",
       "      <td>B0010ZBORW</td>\n",
       "      <td>4.0</td>\n",
       "      <td>09 6, 2017</td>\n",
       "      <td>1504656000</td>\n",
       "      <td>Urban Spa Get a Grip Trio Manicure and Pedicur...</td>\n",
       "      <td>Works Well - Has Gripper Surface</td>\n",
       "      <td>False</td>\n",
       "      <td>All_Beauty</td>\n",
       "      <td>2017</td>\n",
       "      <td>0.0</td>\n",
       "      <td>[-0.8540349, 0.97147715, 0.1957345, -0.0649095...</td>\n",
       "    </tr>\n",
       "  </tbody>\n",
       "</table>\n",
       "</div>"
      ],
      "text/plain": [
       "               user        asin  review_score   reviewTime  unixReviewTime  \\\n",
       "34   A3HHQ7UIJJAOAV  B0009RF9DW           5.0   06 4, 2013      1370304000   \n",
       "144  A173YMJ9XFVRSY  B0010ZBORW           5.0  10 24, 2017      1508803200   \n",
       "160   ALNFHVS3SC4FV  B0010ZBORW           5.0  09 10, 2017      1505001600   \n",
       "166   ANM9LSZS7C67V  B0010ZBORW           5.0   09 8, 2017      1504828800   \n",
       "173  A3SMR4HRFJARSC  B0010ZBORW           4.0   09 6, 2017      1504656000   \n",
       "\n",
       "                                            reviewText  \\\n",
       "34   We both love the shower gel.  It smells so goo...   \n",
       "144  Great for an at home spa experience. I have dr...   \n",
       "160  Review for Loofah:\\n\\nI have tried loofahs in ...   \n",
       "166  Good strong wooden handle that is easy to use....   \n",
       "173  Urban Spa Get a Grip Trio Manicure and Pedicur...   \n",
       "\n",
       "                                               summary  verified    category  \\\n",
       "34   shower gel used by grandmom and grand-daughter...      True  All_Beauty   \n",
       "144                                       Moisturizing     False  All_Beauty   \n",
       "160              Nice Loofah with Attached Suction Cup     False  All_Beauty   \n",
       "166                                 Simple and precise     False  All_Beauty   \n",
       "173                   Works Well - Has Gripper Surface     False  All_Beauty   \n",
       "\n",
       "     reviewYear  split                                     text_embedding  \n",
       "34         2013    0.0  [-0.010989412, -0.33095324, 0.12738927, -0.067...  \n",
       "144        2017    0.0  [-0.0020468049, -0.23871419, -0.08201841, -0.0...  \n",
       "160        2017    0.0  [0.027423665, -0.24965718, -0.005420671, -0.06...  \n",
       "166        2017    0.0  [0.014582153, -0.3553315, -0.00086091936, -0.0...  \n",
       "173        2017    0.0  [-0.8540349, 0.97147715, 0.1957345, -0.0649095...  "
      ]
     },
     "execution_count": 40,
     "metadata": {},
     "output_type": "execute_result"
    }
   ],
   "source": [
    "train_df.head(5)"
   ]
  },
  {
   "cell_type": "code",
   "execution_count": 39,
   "id": "e4a29619",
   "metadata": {},
   "outputs": [
    {
     "name": "stderr",
     "output_type": "stream",
     "text": [
      "<ipython-input-39-0ab620ed14b0>:2: SettingWithCopyWarning: \n",
      "A value is trying to be set on a copy of a slice from a DataFrame.\n",
      "Try using .loc[row_indexer,col_indexer] = value instead\n",
      "\n",
      "See the caveats in the documentation: https://pandas.pydata.org/pandas-docs/stable/user_guide/indexing.html#returning-a-view-versus-a-copy\n",
      "  train_df[\"text_embedding\"] = list(train_embeds)\n"
     ]
    }
   ],
   "source": [
    "# test add embeddings to df\n",
    "train_df[\"text_embedding\"] = list(train_embeds)"
   ]
  },
  {
   "cell_type": "code",
   "execution_count": 19,
   "id": "6d7d29ed",
   "metadata": {},
   "outputs": [],
   "source": [
    "# read embeddings from embeddings directory\n",
    "train_embeds = np.load(os.path.join(embeddings_path, \"train_my_user_split_split\", \"embeddings.npy\"), allow_pickle=True)"
   ]
  },
  {
   "cell_type": "code",
   "execution_count": 30,
   "id": "3c4cc279",
   "metadata": {},
   "outputs": [
    {
     "data": {
      "text/plain": [
       "(108918, 768)"
      ]
     },
     "execution_count": 30,
     "metadata": {},
     "output_type": "execute_result"
    }
   ],
   "source": [
    "test_embeds.shape"
   ]
  },
  {
   "cell_type": "code",
   "execution_count": 20,
   "id": "917c5e10",
   "metadata": {},
   "outputs": [],
   "source": [
    "val_embeds = np.load(os.path.join(embeddings_path, \"val_my_user_split_split\", \"embeddings.npy\"), allow_pickle=True)\n",
    "test_embeds = np.load(os.path.join(embeddings_path, \"test_my_user_split_split\", \"embeddings.npy\"), allow_pickle=True)"
   ]
  },
  {
   "cell_type": "code",
   "execution_count": 32,
   "id": "dc4d8352",
   "metadata": {},
   "outputs": [],
   "source": [
    "# embeddings from preprocessed dataset\n",
    "# preprocessed path\n",
    "preprocessed_path = \"/data/ddmg/redditlanguagemodeling/data/AmazonReviews/data/amazon_v2.0/amazon_reviews_clf_processed_with_user_split_embeds\"\n",
    "train_embeds2 = load_from_disk(os.path.join(preprocessed_path, \"train_my_user_split_split\"))\n",
    "val_embeds2 = load_from_disk(os.path.join(preprocessed_path, \"val_my_user_split_split\"))\n",
    "test_embeds2 = load_from_disk(os.path.join(preprocessed_path, \"test_my_user_split_split\"))"
   ]
  },
  {
   "cell_type": "code",
   "execution_count": 33,
   "id": "6d728039",
   "metadata": {},
   "outputs": [
    {
     "data": {
      "text/plain": [
       "323189"
      ]
     },
     "execution_count": 33,
     "metadata": {},
     "output_type": "execute_result"
    }
   ],
   "source": [
    "len(train_embeds2[\"embeddings\"])"
   ]
  },
  {
   "cell_type": "code",
   "execution_count": 35,
   "id": "45cc697d",
   "metadata": {},
   "outputs": [],
   "source": [
    "train_embeds3 = np.array(train_embeds2[\"embeddings\"])"
   ]
  },
  {
   "cell_type": "code",
   "execution_count": 36,
   "id": "a9cc579f",
   "metadata": {},
   "outputs": [
    {
     "data": {
      "text/plain": [
       "(323189, 768)"
      ]
     },
     "execution_count": 36,
     "metadata": {},
     "output_type": "execute_result"
    }
   ],
   "source": [
    "train_embeds3.shape"
   ]
  },
  {
   "cell_type": "code",
   "execution_count": 37,
   "id": "67db243f",
   "metadata": {},
   "outputs": [
    {
     "data": {
      "text/plain": [
       "True"
      ]
     },
     "execution_count": 37,
     "metadata": {},
     "output_type": "execute_result"
    }
   ],
   "source": [
    "np.array_equal(train_embeds, train_embeds3)"
   ]
  },
  {
   "cell_type": "code",
   "execution_count": 31,
   "id": "81ae2d77",
   "metadata": {},
   "outputs": [
    {
     "data": {
      "text/plain": [
       "108918"
      ]
     },
     "execution_count": 31,
     "metadata": {},
     "output_type": "execute_result"
    }
   ],
   "source": [
    "len(test_df)"
   ]
  },
  {
   "cell_type": "code",
   "execution_count": null,
   "id": "d2130dcf",
   "metadata": {},
   "outputs": [],
   "source": []
  },
  {
   "cell_type": "code",
   "execution_count": 42,
   "id": "f4a3740a",
   "metadata": {},
   "outputs": [
    {
     "name": "stderr",
     "output_type": "stream",
     "text": [
      "/data/ddmg/redditlanguagemodeling/reddit-personalized-lm/notebooks/AmazonReview_experiments/../../src/generic/results/analyze_data.py:33: SettingWithCopyWarning: \n",
      "A value is trying to be set on a copy of a slice from a DataFrame.\n",
      "Try using .loc[row_indexer,col_indexer] = value instead\n",
      "\n",
      "See the caveats in the documentation: https://pandas.pydata.org/pandas-docs/stable/user_guide/indexing.html#returning-a-view-versus-a-copy\n",
      "  train_df[\"text_embedding\"] = list(train_embeds)\n",
      "/data/ddmg/redditlanguagemodeling/reddit-personalized-lm/notebooks/AmazonReview_experiments/../../src/generic/results/analyze_data.py:36: SettingWithCopyWarning: \n",
      "A value is trying to be set on a copy of a slice from a DataFrame.\n",
      "Try using .loc[row_indexer,col_indexer] = value instead\n",
      "\n",
      "See the caveats in the documentation: https://pandas.pydata.org/pandas-docs/stable/user_guide/indexing.html#returning-a-view-versus-a-copy\n",
      "  val_df[\"text_embedding\"] = list(val_embeds)\n",
      "/data/ddmg/redditlanguagemodeling/reddit-personalized-lm/notebooks/AmazonReview_experiments/../../src/generic/results/analyze_data.py:39: SettingWithCopyWarning: \n",
      "A value is trying to be set on a copy of a slice from a DataFrame.\n",
      "Try using .loc[row_indexer,col_indexer] = value instead\n",
      "\n",
      "See the caveats in the documentation: https://pandas.pydata.org/pandas-docs/stable/user_guide/indexing.html#returning-a-view-versus-a-copy\n",
      "  test_df[\"text_embedding\"] = list(test_embeds)\n"
     ]
    }
   ],
   "source": [
    "data_df, train_df, val_df, test_df = load_amazon_data()"
   ]
  },
  {
   "cell_type": "code",
   "execution_count": 43,
   "id": "2a52872c",
   "metadata": {},
   "outputs": [
    {
     "data": {
      "text/plain": [
       "72709"
      ]
     },
     "execution_count": 43,
     "metadata": {},
     "output_type": "execute_result"
    }
   ],
   "source": [
    "len(data_df)"
   ]
  },
  {
   "cell_type": "code",
   "execution_count": 44,
   "id": "de9ed418",
   "metadata": {},
   "outputs": [
    {
     "data": {
      "text/plain": [
       "323189"
      ]
     },
     "execution_count": 44,
     "metadata": {},
     "output_type": "execute_result"
    }
   ],
   "source": [
    "len(train_df)"
   ]
  },
  {
   "cell_type": "code",
   "execution_count": 45,
   "id": "df780925",
   "metadata": {},
   "outputs": [
    {
     "data": {
      "text/plain": [
       "107395"
      ]
     },
     "execution_count": 45,
     "metadata": {},
     "output_type": "execute_result"
    }
   ],
   "source": [
    "len(val_df)"
   ]
  },
  {
   "cell_type": "code",
   "execution_count": 46,
   "id": "5be5ad78",
   "metadata": {},
   "outputs": [
    {
     "data": {
      "text/plain": [
       "108918"
      ]
     },
     "execution_count": 46,
     "metadata": {},
     "output_type": "execute_result"
    }
   ],
   "source": [
    "len(test_df)"
   ]
  },
  {
   "cell_type": "markdown",
   "id": "afbbb879",
   "metadata": {},
   "source": [
    "## Part 2 Test New Get User Info Code"
   ]
  },
  {
   "cell_type": "code",
   "execution_count": 12,
   "id": "cbf1b0a2",
   "metadata": {},
   "outputs": [],
   "source": [
    "review_counts_by_user = data_df[[\"reviewerID\", \"overall\"]].groupby([\"reviewerID\"]).count()"
   ]
  },
  {
   "cell_type": "code",
   "execution_count": 13,
   "id": "bb87cc8e",
   "metadata": {},
   "outputs": [
    {
     "data": {
      "text/html": [
       "<div>\n",
       "<style scoped>\n",
       "    .dataframe tbody tr th:only-of-type {\n",
       "        vertical-align: middle;\n",
       "    }\n",
       "\n",
       "    .dataframe tbody tr th {\n",
       "        vertical-align: top;\n",
       "    }\n",
       "\n",
       "    .dataframe thead th {\n",
       "        text-align: right;\n",
       "    }\n",
       "</style>\n",
       "<table border=\"1\" class=\"dataframe\">\n",
       "  <thead>\n",
       "    <tr style=\"text-align: right;\">\n",
       "      <th></th>\n",
       "      <th>overall</th>\n",
       "    </tr>\n",
       "    <tr>\n",
       "      <th>reviewerID</th>\n",
       "      <th></th>\n",
       "    </tr>\n",
       "  </thead>\n",
       "  <tbody>\n",
       "    <tr>\n",
       "      <th>A101S5PLO0VRHQ</th>\n",
       "      <td>172</td>\n",
       "    </tr>\n",
       "    <tr>\n",
       "      <th>A10E0V7PGY34UZ</th>\n",
       "      <td>75</td>\n",
       "    </tr>\n",
       "    <tr>\n",
       "      <th>A10O7THJ2O20AG</th>\n",
       "      <td>75</td>\n",
       "    </tr>\n",
       "    <tr>\n",
       "      <th>A11P853U6FIKAM</th>\n",
       "      <td>278</td>\n",
       "    </tr>\n",
       "    <tr>\n",
       "      <th>A12O5K3EQ4MC7Z</th>\n",
       "      <td>249</td>\n",
       "    </tr>\n",
       "    <tr>\n",
       "      <th>...</th>\n",
       "      <td>...</td>\n",
       "    </tr>\n",
       "    <tr>\n",
       "      <th>AYT4FJYVCHYLE</th>\n",
       "      <td>75</td>\n",
       "    </tr>\n",
       "    <tr>\n",
       "      <th>AYVW3O6W8S5S4</th>\n",
       "      <td>75</td>\n",
       "    </tr>\n",
       "    <tr>\n",
       "      <th>AZD488SA9QMYF</th>\n",
       "      <td>75</td>\n",
       "    </tr>\n",
       "    <tr>\n",
       "      <th>AZJ4DFLH9O4FZ</th>\n",
       "      <td>75</td>\n",
       "    </tr>\n",
       "    <tr>\n",
       "      <th>AZZV9PDNMCOZW</th>\n",
       "      <td>75</td>\n",
       "    </tr>\n",
       "  </tbody>\n",
       "</table>\n",
       "<p>500 rows × 1 columns</p>\n",
       "</div>"
      ],
      "text/plain": [
       "                overall\n",
       "reviewerID             \n",
       "A101S5PLO0VRHQ      172\n",
       "A10E0V7PGY34UZ       75\n",
       "A10O7THJ2O20AG       75\n",
       "A11P853U6FIKAM      278\n",
       "A12O5K3EQ4MC7Z      249\n",
       "...                 ...\n",
       "AYT4FJYVCHYLE        75\n",
       "AYVW3O6W8S5S4        75\n",
       "AZD488SA9QMYF        75\n",
       "AZJ4DFLH9O4FZ        75\n",
       "AZZV9PDNMCOZW        75\n",
       "\n",
       "[500 rows x 1 columns]"
      ]
     },
     "execution_count": 13,
     "metadata": {},
     "output_type": "execute_result"
    }
   ],
   "source": [
    "review_counts_by_user"
   ]
  },
  {
   "cell_type": "code",
   "execution_count": null,
   "id": "c238b8ab",
   "metadata": {},
   "outputs": [],
   "source": [
    "# check embeddings\n"
   ]
  }
 ],
 "metadata": {
  "kernelspec": {
   "display_name": "Python 3",
   "language": "python",
   "name": "python3"
  },
  "language_info": {
   "codemirror_mode": {
    "name": "ipython",
    "version": 3
   },
   "file_extension": ".py",
   "mimetype": "text/x-python",
   "name": "python",
   "nbconvert_exporter": "python",
   "pygments_lexer": "ipython3",
   "version": "3.8.10"
  }
 },
 "nbformat": 4,
 "nbformat_minor": 5
}
