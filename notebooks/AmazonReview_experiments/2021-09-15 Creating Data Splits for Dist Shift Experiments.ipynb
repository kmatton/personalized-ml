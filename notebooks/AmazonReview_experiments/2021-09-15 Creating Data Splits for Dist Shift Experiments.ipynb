{
 "cells": [
  {
   "cell_type": "code",
   "execution_count": 1,
   "id": "14133645",
   "metadata": {},
   "outputs": [],
   "source": [
    "%load_ext autoreload\n",
    "%autoreload 2"
   ]
  },
  {
   "cell_type": "code",
   "execution_count": 2,
   "id": "5c86e94b",
   "metadata": {},
   "outputs": [],
   "source": [
    "import sys\n",
    "sys.path.append('../../src/generic')\n",
    "import csv\n",
    "import os\n",
    "import numpy as np\n",
    "import pandas as pd\n",
    "import seaborn as sns\n",
    "sns.set_theme()\n",
    "from sklearn.metrics import log_loss"
   ]
  },
  {
   "cell_type": "markdown",
   "id": "235ba204",
   "metadata": {},
   "source": [
    "## Explore User Split Data"
   ]
  },
  {
   "cell_type": "code",
   "execution_count": 3,
   "id": "d3984aa0",
   "metadata": {},
   "outputs": [],
   "source": [
    "data_dir = \"/data/ddmg/redditlanguagemodeling/data/AmazonReviews/data\""
   ]
  },
  {
   "cell_type": "code",
   "execution_count": 4,
   "id": "68fb5d5f",
   "metadata": {},
   "outputs": [],
   "source": [
    "data_df = pd.read_csv(os.path.join(data_dir, 'amazon_v2.0/reviews.csv'),\n",
    "                      dtype={'reviewerID':str, 'asin':str, 'reviewTime':str,'unixReviewTime':int,\n",
    "                             'reviewText':str,'summary':str,'verified':bool,'category':str, 'reviewYear':int},\n",
    "                      keep_default_na=False, na_values=[], quoting=csv.QUOTE_NONNUMERIC)"
   ]
  },
  {
   "cell_type": "code",
   "execution_count": 6,
   "id": "4217189f",
   "metadata": {},
   "outputs": [],
   "source": [
    "split_df = pd.read_csv(os.path.join(data_dir, 'amazon_v2.0', 'splits', 'user.csv'))"
   ]
  },
  {
   "cell_type": "code",
   "execution_count": 37,
   "id": "47f1e5b1",
   "metadata": {},
   "outputs": [],
   "source": [
    "data_df[\"split\"] = split_df[\"split\"]"
   ]
  },
  {
   "cell_type": "code",
   "execution_count": 38,
   "id": "6a2becc9",
   "metadata": {},
   "outputs": [
    {
     "data": {
      "text/plain": [
       "split\n",
       "-1.0    9577445\n",
       " 0.0     245502\n",
       " 1.0     100050\n",
       " 2.0      46950\n",
       " 3.0     100050\n",
       " 4.0      46950\n",
       "Name: overall, dtype: int64"
      ]
     },
     "execution_count": 38,
     "metadata": {},
     "output_type": "execute_result"
    }
   ],
   "source": [
    "# look at # of reviews per split\n",
    "\n",
    "data_df.groupby([\"split\"]).count()[\"overall\"]"
   ]
  },
  {
   "cell_type": "code",
   "execution_count": 15,
   "id": "bf7883ff",
   "metadata": {},
   "outputs": [
    {
     "data": {
      "text/plain": [
       "split\n",
       "-1.0    155638\n",
       " 0.0      1252\n",
       " 1.0      1334\n",
       " 2.0       626\n",
       " 3.0      1334\n",
       " 4.0       626\n",
       "Name: overall, dtype: int64"
      ]
     },
     "execution_count": 15,
     "metadata": {},
     "output_type": "execute_result"
    }
   ],
   "source": [
    "data_df.groupby([\"split\", \"reviewerID\"]).count()[\"overall\"].groupby([\"split\"]).count()"
   ]
  },
  {
   "cell_type": "code",
   "execution_count": 17,
   "id": "18ff8b3b",
   "metadata": {},
   "outputs": [],
   "source": [
    "train_users = set(data_df[data_df[\"split\"] == 0][\"reviewerID\"])\n",
    "val_id_users = set(data_df[data_df[\"split\"] == 2][\"reviewerID\"])\n",
    "test_id_users = set(data_df[data_df[\"split\"] == 4][\"reviewerID\"])"
   ]
  },
  {
   "cell_type": "code",
   "execution_count": 18,
   "id": "c750643d",
   "metadata": {},
   "outputs": [
    {
     "data": {
      "text/plain": [
       "True"
      ]
     },
     "execution_count": 18,
     "metadata": {},
     "output_type": "execute_result"
    }
   ],
   "source": [
    "val_id_users.issubset(train_users)"
   ]
  },
  {
   "cell_type": "code",
   "execution_count": 19,
   "id": "dcb03d45",
   "metadata": {},
   "outputs": [
    {
     "data": {
      "text/plain": [
       "True"
      ]
     },
     "execution_count": 19,
     "metadata": {},
     "output_type": "execute_result"
    }
   ],
   "source": [
    "test_id_users.issubset(train_users)"
   ]
  },
  {
   "cell_type": "code",
   "execution_count": 20,
   "id": "70a6ba44",
   "metadata": {},
   "outputs": [
    {
     "data": {
      "text/plain": [
       "0"
      ]
     },
     "execution_count": 20,
     "metadata": {},
     "output_type": "execute_result"
    }
   ],
   "source": [
    "len(val_id_users.intersection(test_id_users))"
   ]
  },
  {
   "cell_type": "code",
   "execution_count": 21,
   "id": "dfa313da",
   "metadata": {},
   "outputs": [],
   "source": [
    "# select samples from each user to use to assess validation perf\n",
    "# first look at # of samples per user\n",
    "train_df = data_df[data_df[\"split\"] == 0]"
   ]
  },
  {
   "cell_type": "code",
   "execution_count": 45,
   "id": "991e069e",
   "metadata": {},
   "outputs": [
    {
     "data": {
      "text/plain": [
       "Int64Index([      10,      154,      254,      265,      280,      281,\n",
       "                 303,      305,      310,      327,\n",
       "            ...\n",
       "            10115589, 10115736, 10115812, 10116146, 10116277, 10116481,\n",
       "            10116581, 10116604, 10116659, 10116710],\n",
       "           dtype='int64', length=245502)"
      ]
     },
     "execution_count": 45,
     "metadata": {},
     "output_type": "execute_result"
    }
   ],
   "source": [
    "train_df.index"
   ]
  },
  {
   "cell_type": "code",
   "execution_count": 44,
   "id": "f867b528",
   "metadata": {},
   "outputs": [
    {
     "data": {
      "text/plain": [
       "reviewerID\n",
       "A101S5PLO0VRHQ     97\n",
       "A102Z3T7NSM5KC    153\n",
       "A103M7E0BSFC83    349\n",
       "A10AWAE0F6CAP1    361\n",
       "A10B6G6W3DW1EY     98\n",
       "                 ... \n",
       "AZK12FBX7X7LN     195\n",
       "AZTFYD42KA36L      76\n",
       "AZULU4TOTOLEU     325\n",
       "AZV26LP92E6WU     109\n",
       "AZW8YNESLMRRJ      95\n",
       "Name: overall, Length: 1252, dtype: int64"
      ]
     },
     "execution_count": 44,
     "metadata": {},
     "output_type": "execute_result"
    }
   ],
   "source": [
    "user_train_counts = train_df.groupby([\"reviewerID\"]).count()[\"overall\"]\n",
    "user_train_counts"
   ]
  },
  {
   "cell_type": "code",
   "execution_count": 23,
   "id": "4f1b613b",
   "metadata": {},
   "outputs": [
    {
     "data": {
      "text/plain": [
       "75"
      ]
     },
     "execution_count": 23,
     "metadata": {},
     "output_type": "execute_result"
    }
   ],
   "source": [
    "user_train_counts.min()"
   ]
  },
  {
   "cell_type": "code",
   "execution_count": 24,
   "id": "93c6856b",
   "metadata": {},
   "outputs": [
    {
     "data": {
      "text/plain": [
       "196.08785942492014"
      ]
     },
     "execution_count": 24,
     "metadata": {},
     "output_type": "execute_result"
    }
   ],
   "source": [
    "user_train_counts.mean()"
   ]
  },
  {
   "cell_type": "code",
   "execution_count": 26,
   "id": "9dcbebbc",
   "metadata": {},
   "outputs": [
    {
     "data": {
      "text/plain": [
       "10"
      ]
     },
     "execution_count": 26,
     "metadata": {},
     "output_type": "execute_result"
    }
   ],
   "source": [
    "sum(user_train_counts == 75)"
   ]
  },
  {
   "cell_type": "code",
   "execution_count": 39,
   "id": "8c91375b",
   "metadata": {},
   "outputs": [],
   "source": [
    "# use 60% for training and %40 for validation\n",
    "# make a new split column\n",
    "data_df[\"my_split\"] = data_df[\"split\"]"
   ]
  },
  {
   "cell_type": "code",
   "execution_count": 40,
   "id": "4a00e15d",
   "metadata": {},
   "outputs": [
    {
     "name": "stderr",
     "output_type": "stream",
     "text": [
      "<ipython-input-40-d5c268d96fc0>:2: SettingWithCopyWarning: \n",
      "A value is trying to be set on a copy of a slice from a DataFrame\n",
      "\n",
      "See the caveats in the documentation: https://pandas.pydata.org/pandas-docs/stable/user_guide/indexing.html#returning-a-view-versus-a-copy\n",
      "  data_df[\"my_split\"][data_df[\"split\"].isin([1, 2, 3])] = -1\n"
     ]
    }
   ],
   "source": [
    "# get rid of val OOD, val ID, test OOD\n",
    "data_df[\"my_split\"][data_df[\"split\"].isin([1, 2, 3])] = -1"
   ]
  },
  {
   "cell_type": "code",
   "execution_count": 42,
   "id": "862a5e77",
   "metadata": {},
   "outputs": [
    {
     "name": "stderr",
     "output_type": "stream",
     "text": [
      "<ipython-input-42-d0c6d6bb4c93>:2: SettingWithCopyWarning: \n",
      "A value is trying to be set on a copy of a slice from a DataFrame\n",
      "\n",
      "See the caveats in the documentation: https://pandas.pydata.org/pandas-docs/stable/user_guide/indexing.html#returning-a-view-versus-a-copy\n",
      "  data_df[\"my_split\"][data_df[\"split\"] == 4] = 2\n"
     ]
    }
   ],
   "source": [
    "# keep test ID the same --> convert to test (2)\n",
    "data_df[\"my_split\"][data_df[\"split\"] == 4] = 2"
   ]
  },
  {
   "cell_type": "code",
   "execution_count": 46,
   "id": "ecdeaebe",
   "metadata": {},
   "outputs": [],
   "source": [
    "# move some train data to val (1), but otherwise keep the same\n",
    "for user in user_train_counts.index:\n",
    "    user_idx = train_df[train_df[\"reviewerID\"] == user].index\n",
    "    val_count = int(len(user_idx) * .4)\n",
    "    val_idx = np.random.choice(user_idx, val_count, replace=False)\n",
    "    data_df.loc[val_idx, \"my_split\"] = 1"
   ]
  },
  {
   "cell_type": "code",
   "execution_count": 47,
   "id": "adb96072",
   "metadata": {},
   "outputs": [
    {
     "data": {
      "text/plain": [
       "my_split\n",
       "-1.0    9824495\n",
       " 0.0     147799\n",
       " 1.0      97703\n",
       " 2.0      46950\n",
       "Name: overall, dtype: int64"
      ]
     },
     "execution_count": 47,
     "metadata": {},
     "output_type": "execute_result"
    }
   ],
   "source": [
    "# number of reviews per split\n",
    "data_df.groupby([\"my_split\"]).count()[\"overall\"]"
   ]
  },
  {
   "cell_type": "code",
   "execution_count": 49,
   "id": "88ec3079",
   "metadata": {},
   "outputs": [
    {
     "data": {
      "text/plain": [
       "my_split\n",
       "-1.0    155648\n",
       " 0.0      1252\n",
       " 1.0      1252\n",
       " 2.0       626\n",
       "Name: overall, dtype: int64"
      ]
     },
     "execution_count": 49,
     "metadata": {},
     "output_type": "execute_result"
    }
   ],
   "source": [
    "# examine my user split\n",
    "# number of users per split\n",
    "data_df.groupby([\"my_split\", \"reviewerID\"]).count()[\"overall\"].groupby([\"my_split\"]).count()"
   ]
  },
  {
   "cell_type": "code",
   "execution_count": 51,
   "id": "c2267e1f",
   "metadata": {},
   "outputs": [
    {
     "data": {
      "text/plain": [
       "True"
      ]
     },
     "execution_count": 51,
     "metadata": {},
     "output_type": "execute_result"
    }
   ],
   "source": [
    "set(data_df[data_df[\"my_split\"] == 0][\"reviewerID\"]) == set(data_df[data_df[\"my_split\"] == 1][\"reviewerID\"])"
   ]
  },
  {
   "cell_type": "code",
   "execution_count": 52,
   "id": "1b98a35e",
   "metadata": {},
   "outputs": [
    {
     "data": {
      "text/plain": [
       "True"
      ]
     },
     "execution_count": 52,
     "metadata": {},
     "output_type": "execute_result"
    }
   ],
   "source": [
    "set(data_df[data_df[\"my_split\"] == 2][\"reviewerID\"]).issubset(set(data_df[data_df[\"my_split\"] == 0][\"reviewerID\"]))"
   ]
  },
  {
   "cell_type": "code",
   "execution_count": 54,
   "id": "b0ff4b88",
   "metadata": {},
   "outputs": [
    {
     "name": "stderr",
     "output_type": "stream",
     "text": [
      "<ipython-input-54-15875483d68e>:3: SettingWithCopyWarning: \n",
      "A value is trying to be set on a copy of a slice from a DataFrame.\n",
      "Try using .loc[row_indexer,col_indexer] = value instead\n",
      "\n",
      "See the caveats in the documentation: https://pandas.pydata.org/pandas-docs/stable/user_guide/indexing.html#returning-a-view-versus-a-copy\n",
      "  my_split_df[\"clean\"] = split_df[\"clean\"]\n"
     ]
    },
    {
     "data": {
      "text/html": [
       "<div>\n",
       "<style scoped>\n",
       "    .dataframe tbody tr th:only-of-type {\n",
       "        vertical-align: middle;\n",
       "    }\n",
       "\n",
       "    .dataframe tbody tr th {\n",
       "        vertical-align: top;\n",
       "    }\n",
       "\n",
       "    .dataframe thead th {\n",
       "        text-align: right;\n",
       "    }\n",
       "</style>\n",
       "<table border=\"1\" class=\"dataframe\">\n",
       "  <thead>\n",
       "    <tr style=\"text-align: right;\">\n",
       "      <th></th>\n",
       "      <th>split</th>\n",
       "      <th>clean</th>\n",
       "    </tr>\n",
       "  </thead>\n",
       "  <tbody>\n",
       "    <tr>\n",
       "      <th>0</th>\n",
       "      <td>-1.0</td>\n",
       "      <td>True</td>\n",
       "    </tr>\n",
       "    <tr>\n",
       "      <th>1</th>\n",
       "      <td>-1.0</td>\n",
       "      <td>True</td>\n",
       "    </tr>\n",
       "    <tr>\n",
       "      <th>2</th>\n",
       "      <td>-1.0</td>\n",
       "      <td>True</td>\n",
       "    </tr>\n",
       "    <tr>\n",
       "      <th>3</th>\n",
       "      <td>-1.0</td>\n",
       "      <td>False</td>\n",
       "    </tr>\n",
       "    <tr>\n",
       "      <th>4</th>\n",
       "      <td>-1.0</td>\n",
       "      <td>True</td>\n",
       "    </tr>\n",
       "    <tr>\n",
       "      <th>...</th>\n",
       "      <td>...</td>\n",
       "      <td>...</td>\n",
       "    </tr>\n",
       "    <tr>\n",
       "      <th>10116942</th>\n",
       "      <td>-1.0</td>\n",
       "      <td>True</td>\n",
       "    </tr>\n",
       "    <tr>\n",
       "      <th>10116943</th>\n",
       "      <td>-1.0</td>\n",
       "      <td>True</td>\n",
       "    </tr>\n",
       "    <tr>\n",
       "      <th>10116944</th>\n",
       "      <td>-1.0</td>\n",
       "      <td>True</td>\n",
       "    </tr>\n",
       "    <tr>\n",
       "      <th>10116945</th>\n",
       "      <td>-1.0</td>\n",
       "      <td>False</td>\n",
       "    </tr>\n",
       "    <tr>\n",
       "      <th>10116946</th>\n",
       "      <td>-1.0</td>\n",
       "      <td>True</td>\n",
       "    </tr>\n",
       "  </tbody>\n",
       "</table>\n",
       "<p>10116947 rows × 2 columns</p>\n",
       "</div>"
      ],
      "text/plain": [
       "          split  clean\n",
       "0          -1.0   True\n",
       "1          -1.0   True\n",
       "2          -1.0   True\n",
       "3          -1.0  False\n",
       "4          -1.0   True\n",
       "...         ...    ...\n",
       "10116942   -1.0   True\n",
       "10116943   -1.0   True\n",
       "10116944   -1.0   True\n",
       "10116945   -1.0  False\n",
       "10116946   -1.0   True\n",
       "\n",
       "[10116947 rows x 2 columns]"
      ]
     },
     "execution_count": 54,
     "metadata": {},
     "output_type": "execute_result"
    }
   ],
   "source": [
    "# save split\n",
    "my_split_df = data_df[[\"my_split\"]]\n",
    "my_split_df[\"clean\"] = split_df[\"clean\"]\n",
    "my_split_df = my_split_df.rename(columns={\"my_split\": \"split\"})\n",
    "my_split_df"
   ]
  },
  {
   "cell_type": "code",
   "execution_count": 55,
   "id": "634db4b5",
   "metadata": {},
   "outputs": [],
   "source": [
    "my_split_df.to_csv(os.path.join(data_dir, 'amazon_v2.0', 'splits', 'wilds_subpop_shift_user.csv'), index=False)"
   ]
  },
  {
   "cell_type": "code",
   "execution_count": 56,
   "id": "0f72dc20",
   "metadata": {},
   "outputs": [],
   "source": [
    "# create debug split\n",
    "# take 25 users from test data & also use them for train and val\n",
    "test_df = data_df[data_df[\"my_split\"] == 2]\n",
    "test_users = list(set(test_df[\"reviewerID\"]))\n",
    "debug_users = np.random.choice(test_users, 25, replace=False)"
   ]
  },
  {
   "cell_type": "code",
   "execution_count": 63,
   "id": "bb89d345",
   "metadata": {},
   "outputs": [
    {
     "data": {
      "text/plain": [
       "25"
      ]
     },
     "execution_count": 63,
     "metadata": {},
     "output_type": "execute_result"
    }
   ],
   "source": [
    "len(debug_users)"
   ]
  },
  {
   "cell_type": "code",
   "execution_count": 57,
   "id": "f69e2fa6",
   "metadata": {},
   "outputs": [],
   "source": [
    "is_debug_user = data_df[\"reviewerID\"].isin(debug_users)"
   ]
  },
  {
   "cell_type": "code",
   "execution_count": 64,
   "id": "ff55151c",
   "metadata": {},
   "outputs": [
    {
     "data": {
      "text/plain": [
       "7156"
      ]
     },
     "execution_count": 64,
     "metadata": {},
     "output_type": "execute_result"
    }
   ],
   "source": [
    "sum(is_debug_user)"
   ]
  },
  {
   "cell_type": "code",
   "execution_count": 67,
   "id": "7c447333",
   "metadata": {},
   "outputs": [],
   "source": [
    "my_split_df2 = my_split_df.copy()"
   ]
  },
  {
   "cell_type": "code",
   "execution_count": 68,
   "id": "8bbba871",
   "metadata": {},
   "outputs": [],
   "source": [
    "remove_idx = my_split_df2[~is_debug_user].index\n",
    "my_split_df2.loc[remove_idx, \"split\"] = -1"
   ]
  },
  {
   "cell_type": "code",
   "execution_count": 69,
   "id": "3132431b",
   "metadata": {},
   "outputs": [],
   "source": [
    "data_df[\"debug_split\"] = my_split_df2[\"split\"]"
   ]
  },
  {
   "cell_type": "code",
   "execution_count": 70,
   "id": "152eb662",
   "metadata": {},
   "outputs": [
    {
     "data": {
      "text/plain": [
       "debug_split\n",
       "-1.0    10110299\n",
       " 0.0        2873\n",
       " 1.0        1900\n",
       " 2.0        1875\n",
       "Name: overall, dtype: int64"
      ]
     },
     "execution_count": 70,
     "metadata": {},
     "output_type": "execute_result"
    }
   ],
   "source": [
    "data_df.groupby([\"debug_split\"]).count()[\"overall\"]"
   ]
  },
  {
   "cell_type": "code",
   "execution_count": 71,
   "id": "740139f3",
   "metadata": {},
   "outputs": [
    {
     "data": {
      "text/plain": [
       "debug_split\n",
       "-1.0    155656\n",
       " 0.0        25\n",
       " 1.0        25\n",
       " 2.0        25\n",
       "Name: overall, dtype: int64"
      ]
     },
     "execution_count": 71,
     "metadata": {},
     "output_type": "execute_result"
    }
   ],
   "source": [
    "data_df.groupby([\"debug_split\", \"reviewerID\"]).count()[\"overall\"].groupby([\"debug_split\"]).count()"
   ]
  },
  {
   "cell_type": "code",
   "execution_count": 72,
   "id": "36c5b55c",
   "metadata": {},
   "outputs": [
    {
     "data": {
      "text/html": [
       "<div>\n",
       "<style scoped>\n",
       "    .dataframe tbody tr th:only-of-type {\n",
       "        vertical-align: middle;\n",
       "    }\n",
       "\n",
       "    .dataframe tbody tr th {\n",
       "        vertical-align: top;\n",
       "    }\n",
       "\n",
       "    .dataframe thead th {\n",
       "        text-align: right;\n",
       "    }\n",
       "</style>\n",
       "<table border=\"1\" class=\"dataframe\">\n",
       "  <thead>\n",
       "    <tr style=\"text-align: right;\">\n",
       "      <th></th>\n",
       "      <th>split</th>\n",
       "      <th>clean</th>\n",
       "    </tr>\n",
       "  </thead>\n",
       "  <tbody>\n",
       "    <tr>\n",
       "      <th>0</th>\n",
       "      <td>-1.0</td>\n",
       "      <td>True</td>\n",
       "    </tr>\n",
       "    <tr>\n",
       "      <th>1</th>\n",
       "      <td>-1.0</td>\n",
       "      <td>True</td>\n",
       "    </tr>\n",
       "    <tr>\n",
       "      <th>2</th>\n",
       "      <td>-1.0</td>\n",
       "      <td>True</td>\n",
       "    </tr>\n",
       "    <tr>\n",
       "      <th>3</th>\n",
       "      <td>-1.0</td>\n",
       "      <td>False</td>\n",
       "    </tr>\n",
       "    <tr>\n",
       "      <th>4</th>\n",
       "      <td>-1.0</td>\n",
       "      <td>True</td>\n",
       "    </tr>\n",
       "    <tr>\n",
       "      <th>...</th>\n",
       "      <td>...</td>\n",
       "      <td>...</td>\n",
       "    </tr>\n",
       "    <tr>\n",
       "      <th>10116942</th>\n",
       "      <td>-1.0</td>\n",
       "      <td>True</td>\n",
       "    </tr>\n",
       "    <tr>\n",
       "      <th>10116943</th>\n",
       "      <td>-1.0</td>\n",
       "      <td>True</td>\n",
       "    </tr>\n",
       "    <tr>\n",
       "      <th>10116944</th>\n",
       "      <td>-1.0</td>\n",
       "      <td>True</td>\n",
       "    </tr>\n",
       "    <tr>\n",
       "      <th>10116945</th>\n",
       "      <td>-1.0</td>\n",
       "      <td>False</td>\n",
       "    </tr>\n",
       "    <tr>\n",
       "      <th>10116946</th>\n",
       "      <td>-1.0</td>\n",
       "      <td>True</td>\n",
       "    </tr>\n",
       "  </tbody>\n",
       "</table>\n",
       "<p>10116947 rows × 2 columns</p>\n",
       "</div>"
      ],
      "text/plain": [
       "          split  clean\n",
       "0          -1.0   True\n",
       "1          -1.0   True\n",
       "2          -1.0   True\n",
       "3          -1.0  False\n",
       "4          -1.0   True\n",
       "...         ...    ...\n",
       "10116942   -1.0   True\n",
       "10116943   -1.0   True\n",
       "10116944   -1.0   True\n",
       "10116945   -1.0  False\n",
       "10116946   -1.0   True\n",
       "\n",
       "[10116947 rows x 2 columns]"
      ]
     },
     "execution_count": 72,
     "metadata": {},
     "output_type": "execute_result"
    }
   ],
   "source": [
    "my_split_df2"
   ]
  },
  {
   "cell_type": "code",
   "execution_count": 73,
   "id": "21a03053",
   "metadata": {},
   "outputs": [],
   "source": [
    "my_split_df2.to_csv(os.path.join(data_dir, 'amazon_v2.0', 'splits', 'debug_user.csv'), index=False)"
   ]
  }
 ],
 "metadata": {
  "kernelspec": {
   "display_name": "Python 3",
   "language": "python",
   "name": "python3"
  },
  "language_info": {
   "codemirror_mode": {
    "name": "ipython",
    "version": 3
   },
   "file_extension": ".py",
   "mimetype": "text/x-python",
   "name": "python",
   "nbconvert_exporter": "python",
   "pygments_lexer": "ipython3",
   "version": "3.8.10"
  }
 },
 "nbformat": 4,
 "nbformat_minor": 5
}
