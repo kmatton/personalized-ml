{
 "cells": [
  {
   "cell_type": "code",
   "execution_count": 7,
   "id": "41aaa126",
   "metadata": {},
   "outputs": [
    {
     "name": "stdout",
     "output_type": "stream",
     "text": [
      "The autoreload extension is already loaded. To reload it, use:\n",
      "  %reload_ext autoreload\n"
     ]
    }
   ],
   "source": [
    "%load_ext autoreload\n",
    "%autoreload 2"
   ]
  },
  {
   "cell_type": "code",
   "execution_count": 2,
   "id": "f861b401",
   "metadata": {},
   "outputs": [],
   "source": [
    "import os\n",
    "import sys\n",
    "sys.path.append(\"../../src/generic\")\n",
    "import json\n",
    "\n",
    "from dataset.amazon_dataset import AmazonDataset"
   ]
  },
  {
   "cell_type": "code",
   "execution_count": 3,
   "id": "249e02a9",
   "metadata": {},
   "outputs": [],
   "source": [
    "data_dir = \"/data/ddmg/redditlanguagemodeling/data/AmazonReviews/data/amazon_v2.0/\"\n",
    "raw_data_file = \"reviews.csv\"\n",
    "processed_data_dir = \"amazon_reviews_processed\"\n",
    "split_file = \"user.csv\"\n",
    "tokenizer_name = \"distilbert-base-uncased\"\n",
    "tokenizer_cache_dir = \"/data/ddmg/redditlanguagemodeling/cached/distilbert\""
   ]
  },
  {
   "cell_type": "code",
   "execution_count": 15,
   "id": "e78f1bf7",
   "metadata": {},
   "outputs": [
    {
     "name": "stdout",
     "output_type": "stream",
     "text": [
      "This dataset doesn't have validation checks yet!\n"
     ]
    }
   ],
   "source": [
    "dataset = AmazonDataset(\n",
    "    data_dir, raw_data_file, tokenizer_name, tokenizer_cache_dir, preprocessing_num_workers=None,\n",
    "    processed_data_dir=processed_data_dir, split_file=split_file\n",
    ")"
   ]
  },
  {
   "cell_type": "code",
   "execution_count": 16,
   "id": "5c771a63",
   "metadata": {},
   "outputs": [],
   "source": [
    "embed_model_path = \"/data/ddmg/redditlanguagemodeling/results/amazon_reviews/debug/large_test/42/pytorch_model.bin\"\n",
    "config_path = \"/data/ddmg/redditlanguagemodeling/results/amazon_reviews/debug/large_test/42/config.json\"\n",
    "model_cache_dir = \"/data/ddmg/redditlanguagemodeling/cached/distilbert_clf\"\n",
    "save_path = \"/data/ddmg/redditlanguagemodeling/data/AmazonReviews/data/amazon_v2.0/amazon_reviews_embeddings\""
   ]
  },
  {
   "cell_type": "code",
   "execution_count": null,
   "id": "aa42cafa",
   "metadata": {},
   "outputs": [],
   "source": [
    "dataset.embed_data(\n",
    "    embed_model_path,\n",
    "    config_path,\n",
    "    model_cache_dir,\n",
    "    save_path=save_path\n",
    ")"
   ]
  }
 ],
 "metadata": {
  "kernelspec": {
   "display_name": "Python 3",
   "language": "python",
   "name": "python3"
  },
  "language_info": {
   "codemirror_mode": {
    "name": "ipython",
    "version": 3
   },
   "file_extension": ".py",
   "mimetype": "text/x-python",
   "name": "python",
   "nbconvert_exporter": "python",
   "pygments_lexer": "ipython3",
   "version": "3.8.10"
  }
 },
 "nbformat": 4,
 "nbformat_minor": 5
}
