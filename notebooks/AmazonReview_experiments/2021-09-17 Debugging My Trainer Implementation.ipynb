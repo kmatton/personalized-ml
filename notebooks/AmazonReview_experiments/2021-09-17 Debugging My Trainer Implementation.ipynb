{
 "cells": [
  {
   "cell_type": "markdown",
   "id": "88743341",
   "metadata": {},
   "source": [
    "This notebook contains checks to ensure that when I run experiments with my basic trainer vs HF trainer, the results are the same / sufficiently similar"
   ]
  },
  {
   "cell_type": "code",
   "execution_count": 1,
   "id": "d9fa4b59",
   "metadata": {},
   "outputs": [],
   "source": [
    "%load_ext autoreload\n",
    "%autoreload 2"
   ]
  },
  {
   "cell_type": "code",
   "execution_count": 2,
   "id": "4f947a7a",
   "metadata": {},
   "outputs": [],
   "source": [
    "import sys\n",
    "sys.path.append('../../src/generic')\n",
    "import csv\n",
    "import os\n",
    "import numpy as np\n",
    "import pandas as pd\n",
    "import seaborn as sns\n",
    "sns.set_theme()\n",
    "from sklearn.metrics import log_loss"
   ]
  },
  {
   "cell_type": "code",
   "execution_count": 3,
   "id": "278a298c",
   "metadata": {},
   "outputs": [],
   "source": [
    "from dataset.amazon_reviews_clf_dataset import AmazonClfDataset\n",
    "from results.process_results import ResultProcessor"
   ]
  },
  {
   "cell_type": "code",
   "execution_count": 5,
   "id": "630dd8b4",
   "metadata": {},
   "outputs": [],
   "source": [
    "main_result_dir = \"/data/ddmg/redditlanguagemodeling/results/amazon_reviews/debug/wilds_subpop_user_split\""
   ]
  },
  {
   "cell_type": "markdown",
   "id": "776fe7fc",
   "metadata": {},
   "source": [
    "### HF Trainer on Debug Dataset"
   ]
  },
  {
   "cell_type": "code",
   "execution_count": 6,
   "id": "7344aebd",
   "metadata": {},
   "outputs": [
    {
     "name": "stdout",
     "output_type": "stream",
     "text": [
      "Base dir /data/ddmg/redditlanguagemodeling/results/amazon_reviews/debug/wilds_subpop_user_split/train_global_early_stopping: Found results for 3 seeds\n"
     ]
    }
   ],
   "source": [
    "base_result_dir = os.path.join(main_result_dir, \"train_global_early_stopping\")\n",
    "levels = [\"seed\"]\n",
    "hf_results = ResultProcessor(base_result_dir, levels, verbose=True)"
   ]
  },
  {
   "cell_type": "code",
   "execution_count": 24,
   "id": "11786a46",
   "metadata": {},
   "outputs": [
    {
     "data": {
      "text/html": [
       "<div>\n",
       "<style scoped>\n",
       "    .dataframe tbody tr th:only-of-type {\n",
       "        vertical-align: middle;\n",
       "    }\n",
       "\n",
       "    .dataframe tbody tr th {\n",
       "        vertical-align: top;\n",
       "    }\n",
       "\n",
       "    .dataframe thead th {\n",
       "        text-align: right;\n",
       "    }\n",
       "</style>\n",
       "<table border=\"1\" class=\"dataframe\">\n",
       "  <thead>\n",
       "    <tr style=\"text-align: right;\">\n",
       "      <th></th>\n",
       "      <th>test_loss</th>\n",
       "      <th>test_accuracy</th>\n",
       "    </tr>\n",
       "  </thead>\n",
       "  <tbody>\n",
       "    <tr>\n",
       "      <th>0</th>\n",
       "      <td>0.972898</td>\n",
       "      <td>0.557333</td>\n",
       "    </tr>\n",
       "    <tr>\n",
       "      <th>1</th>\n",
       "      <td>1.043426</td>\n",
       "      <td>0.525867</td>\n",
       "    </tr>\n",
       "    <tr>\n",
       "      <th>2</th>\n",
       "      <td>0.922668</td>\n",
       "      <td>0.588267</td>\n",
       "    </tr>\n",
       "  </tbody>\n",
       "</table>\n",
       "</div>"
      ],
      "text/plain": [
       "   test_loss  test_accuracy\n",
       "0   0.972898       0.557333\n",
       "1   1.043426       0.525867\n",
       "2   0.922668       0.588267"
      ]
     },
     "execution_count": 24,
     "metadata": {},
     "output_type": "execute_result"
    }
   ],
   "source": [
    "hf_results.results_df[[\"test_loss\", \"test_accuracy\"]]"
   ]
  },
  {
   "cell_type": "code",
   "execution_count": 8,
   "id": "936cb891",
   "metadata": {},
   "outputs": [
    {
     "data": {
      "text/html": [
       "<div>\n",
       "<style scoped>\n",
       "    .dataframe tbody tr th:only-of-type {\n",
       "        vertical-align: middle;\n",
       "    }\n",
       "\n",
       "    .dataframe tbody tr th {\n",
       "        vertical-align: top;\n",
       "    }\n",
       "\n",
       "    .dataframe thead th {\n",
       "        text-align: right;\n",
       "    }\n",
       "</style>\n",
       "<table border=\"1\" class=\"dataframe\">\n",
       "  <thead>\n",
       "    <tr style=\"text-align: right;\">\n",
       "      <th></th>\n",
       "      <th>test_loss</th>\n",
       "      <th>test_accuracy</th>\n",
       "    </tr>\n",
       "  </thead>\n",
       "  <tbody>\n",
       "    <tr>\n",
       "      <th>mean</th>\n",
       "      <td>0.979664</td>\n",
       "      <td>0.557156</td>\n",
       "    </tr>\n",
       "    <tr>\n",
       "      <th>std</th>\n",
       "      <td>0.060663</td>\n",
       "      <td>0.031200</td>\n",
       "    </tr>\n",
       "  </tbody>\n",
       "</table>\n",
       "</div>"
      ],
      "text/plain": [
       "      test_loss  test_accuracy\n",
       "mean   0.979664       0.557156\n",
       "std    0.060663       0.031200"
      ]
     },
     "execution_count": 8,
     "metadata": {},
     "output_type": "execute_result"
    }
   ],
   "source": [
    "hf_results.results_df.agg([\"mean\", \"std\"])[[\"test_loss\", \"test_accuracy\"]]"
   ]
  },
  {
   "cell_type": "code",
   "execution_count": 17,
   "id": "430e1838",
   "metadata": {},
   "outputs": [
    {
     "data": {
      "text/html": [
       "<div>\n",
       "<style scoped>\n",
       "    .dataframe tbody tr th:only-of-type {\n",
       "        vertical-align: middle;\n",
       "    }\n",
       "\n",
       "    .dataframe tbody tr th {\n",
       "        vertical-align: top;\n",
       "    }\n",
       "\n",
       "    .dataframe thead th {\n",
       "        text-align: right;\n",
       "    }\n",
       "</style>\n",
       "<table border=\"1\" class=\"dataframe\">\n",
       "  <thead>\n",
       "    <tr style=\"text-align: right;\">\n",
       "      <th></th>\n",
       "      <th>train_time</th>\n",
       "      <th>train_samples_per_second</th>\n",
       "      <th>train_steps_per_second</th>\n",
       "    </tr>\n",
       "  </thead>\n",
       "  <tbody>\n",
       "    <tr>\n",
       "      <th>mean</th>\n",
       "      <td>288.793132</td>\n",
       "      <td>1025.083667</td>\n",
       "      <td>32.112000</td>\n",
       "    </tr>\n",
       "    <tr>\n",
       "      <th>std</th>\n",
       "      <td>62.998278</td>\n",
       "      <td>208.672266</td>\n",
       "      <td>6.536825</td>\n",
       "    </tr>\n",
       "  </tbody>\n",
       "</table>\n",
       "</div>"
      ],
      "text/plain": [
       "      train_time  train_samples_per_second  train_steps_per_second\n",
       "mean  288.793132               1025.083667               32.112000\n",
       "std    62.998278                208.672266                6.536825"
      ]
     },
     "execution_count": 17,
     "metadata": {},
     "output_type": "execute_result"
    }
   ],
   "source": [
    "hf_results.results_df.agg([\"mean\", \"std\"])[[\"train_time\", \"train_samples_per_second\", \"train_steps_per_second\"]]"
   ]
  },
  {
   "cell_type": "markdown",
   "id": "5c6d2049",
   "metadata": {},
   "source": [
    "### My Trainer on Debug Dataset"
   ]
  },
  {
   "cell_type": "code",
   "execution_count": 12,
   "id": "e691d7e8",
   "metadata": {},
   "outputs": [
    {
     "name": "stdout",
     "output_type": "stream",
     "text": [
      "Base dir /data/ddmg/redditlanguagemodeling/results/amazon_reviews/debug/wilds_subpop_user_split/train_global_my_trainer: Found results for 3 seeds\n"
     ]
    }
   ],
   "source": [
    "base_result_dir = os.path.join(main_result_dir, \"train_global_my_trainer\")\n",
    "levels = [\"seed\"]\n",
    "my_results = ResultProcessor(base_result_dir, levels, verbose=True)"
   ]
  },
  {
   "cell_type": "code",
   "execution_count": 13,
   "id": "fceccd63",
   "metadata": {},
   "outputs": [
    {
     "data": {
      "text/html": [
       "<div>\n",
       "<style scoped>\n",
       "    .dataframe tbody tr th:only-of-type {\n",
       "        vertical-align: middle;\n",
       "    }\n",
       "\n",
       "    .dataframe tbody tr th {\n",
       "        vertical-align: top;\n",
       "    }\n",
       "\n",
       "    .dataframe thead th {\n",
       "        text-align: right;\n",
       "    }\n",
       "</style>\n",
       "<table border=\"1\" class=\"dataframe\">\n",
       "  <thead>\n",
       "    <tr style=\"text-align: right;\">\n",
       "      <th></th>\n",
       "      <th>test_loss</th>\n",
       "      <th>test_accuracy</th>\n",
       "    </tr>\n",
       "  </thead>\n",
       "  <tbody>\n",
       "    <tr>\n",
       "      <th>mean</th>\n",
       "      <td>0.955289</td>\n",
       "      <td>0.563911</td>\n",
       "    </tr>\n",
       "    <tr>\n",
       "      <th>std</th>\n",
       "      <td>0.078105</td>\n",
       "      <td>0.033783</td>\n",
       "    </tr>\n",
       "  </tbody>\n",
       "</table>\n",
       "</div>"
      ],
      "text/plain": [
       "      test_loss  test_accuracy\n",
       "mean   0.955289       0.563911\n",
       "std    0.078105       0.033783"
      ]
     },
     "execution_count": 13,
     "metadata": {},
     "output_type": "execute_result"
    }
   ],
   "source": [
    "my_results.results_df.agg([\"mean\", \"std\"])[[\"test_loss\", \"test_accuracy\"]]"
   ]
  },
  {
   "cell_type": "code",
   "execution_count": null,
   "id": "48347a39",
   "metadata": {},
   "outputs": [],
   "source": [
    "# weird difference in samples_per_second, but other measures are similar so I think it's okay."
   ]
  },
  {
   "cell_type": "code",
   "execution_count": 18,
   "id": "d834b87a",
   "metadata": {},
   "outputs": [
    {
     "data": {
      "text/html": [
       "<div>\n",
       "<style scoped>\n",
       "    .dataframe tbody tr th:only-of-type {\n",
       "        vertical-align: middle;\n",
       "    }\n",
       "\n",
       "    .dataframe tbody tr th {\n",
       "        vertical-align: top;\n",
       "    }\n",
       "\n",
       "    .dataframe thead th {\n",
       "        text-align: right;\n",
       "    }\n",
       "</style>\n",
       "<table border=\"1\" class=\"dataframe\">\n",
       "  <thead>\n",
       "    <tr style=\"text-align: right;\">\n",
       "      <th></th>\n",
       "      <th>train_time</th>\n",
       "      <th>train_samples_per_second</th>\n",
       "      <th>train_steps_per_second</th>\n",
       "    </tr>\n",
       "  </thead>\n",
       "  <tbody>\n",
       "    <tr>\n",
       "      <th>mean</th>\n",
       "      <td>211.524449</td>\n",
       "      <td>0.436000</td>\n",
       "      <td>43.576000</td>\n",
       "    </tr>\n",
       "    <tr>\n",
       "      <th>std</th>\n",
       "      <td>39.424251</td>\n",
       "      <td>0.077485</td>\n",
       "      <td>7.755279</td>\n",
       "    </tr>\n",
       "  </tbody>\n",
       "</table>\n",
       "</div>"
      ],
      "text/plain": [
       "      train_time  train_samples_per_second  train_steps_per_second\n",
       "mean  211.524449                  0.436000               43.576000\n",
       "std    39.424251                  0.077485                7.755279"
      ]
     },
     "execution_count": 18,
     "metadata": {},
     "output_type": "execute_result"
    }
   ],
   "source": [
    "my_results.results_df.agg([\"mean\", \"std\"])[[\"train_time\", \"train_samples_per_second\", \"train_steps_per_second\"]]"
   ]
  },
  {
   "cell_type": "code",
   "execution_count": null,
   "id": "53fa002c",
   "metadata": {},
   "outputs": [],
   "source": [
    "# check second run where you updated saving of trainer state --> check that the fix worked!"
   ]
  },
  {
   "cell_type": "markdown",
   "id": "bde489af",
   "metadata": {},
   "source": [
    "## HF Train on debug dataset using pre-trained embeddings and final layer weights from HF Trainer run above"
   ]
  },
  {
   "cell_type": "code",
   "execution_count": 22,
   "id": "78d3d0fd",
   "metadata": {},
   "outputs": [
    {
     "name": "stdout",
     "output_type": "stream",
     "text": [
      "Base dir /data/ddmg/redditlanguagemodeling/results/amazon_reviews/debug/wilds_subpop_user_split/eval_global_model_embed_final_layers_separate: Found results for 1 seeds\n"
     ]
    }
   ],
   "source": [
    "base_result_dir = os.path.join(main_result_dir, \"eval_global_model_embed_final_layers_separate\")\n",
    "levels = [\"seed\"]\n",
    "pt_results = ResultProcessor(base_result_dir, levels, verbose=True)"
   ]
  },
  {
   "cell_type": "code",
   "execution_count": 25,
   "id": "f0786e83",
   "metadata": {},
   "outputs": [
    {
     "data": {
      "text/html": [
       "<div>\n",
       "<style scoped>\n",
       "    .dataframe tbody tr th:only-of-type {\n",
       "        vertical-align: middle;\n",
       "    }\n",
       "\n",
       "    .dataframe tbody tr th {\n",
       "        vertical-align: top;\n",
       "    }\n",
       "\n",
       "    .dataframe thead th {\n",
       "        text-align: right;\n",
       "    }\n",
       "</style>\n",
       "<table border=\"1\" class=\"dataframe\">\n",
       "  <thead>\n",
       "    <tr style=\"text-align: right;\">\n",
       "      <th></th>\n",
       "      <th>test_loss</th>\n",
       "      <th>test_accuracy</th>\n",
       "    </tr>\n",
       "  </thead>\n",
       "  <tbody>\n",
       "    <tr>\n",
       "      <th>0</th>\n",
       "      <td>1.171408</td>\n",
       "      <td>0.511467</td>\n",
       "    </tr>\n",
       "  </tbody>\n",
       "</table>\n",
       "</div>"
      ],
      "text/plain": [
       "   test_loss  test_accuracy\n",
       "0   1.171408       0.511467"
      ]
     },
     "execution_count": 25,
     "metadata": {},
     "output_type": "execute_result"
    }
   ],
   "source": [
    "pt_results.results_df[[\"test_loss\", \"test_accuracy\"]]"
   ]
  },
  {
   "cell_type": "markdown",
   "id": "1e9b3f0f",
   "metadata": {},
   "source": [
    "## My Train on debug dataset using pre-trained embeddings and final layer weights from HF Trainer run above"
   ]
  },
  {
   "cell_type": "code",
   "execution_count": 31,
   "id": "9c14413c",
   "metadata": {},
   "outputs": [
    {
     "name": "stdout",
     "output_type": "stream",
     "text": [
      "Base dir /data/ddmg/redditlanguagemodeling/results/amazon_reviews/debug/wilds_subpop_user_split/eval_global_model_embed_final_layers_separate_my_trainer: Found results for 1 seeds\n"
     ]
    }
   ],
   "source": [
    "base_result_dir = os.path.join(main_result_dir, \"eval_global_model_embed_final_layers_separate_my_trainer\")\n",
    "levels = [\"seed\"]\n",
    "pt_results2 = ResultProcessor(base_result_dir, levels, verbose=True)"
   ]
  },
  {
   "cell_type": "code",
   "execution_count": 32,
   "id": "e903b8f4",
   "metadata": {},
   "outputs": [
    {
     "data": {
      "text/html": [
       "<div>\n",
       "<style scoped>\n",
       "    .dataframe tbody tr th:only-of-type {\n",
       "        vertical-align: middle;\n",
       "    }\n",
       "\n",
       "    .dataframe tbody tr th {\n",
       "        vertical-align: top;\n",
       "    }\n",
       "\n",
       "    .dataframe thead th {\n",
       "        text-align: right;\n",
       "    }\n",
       "</style>\n",
       "<table border=\"1\" class=\"dataframe\">\n",
       "  <thead>\n",
       "    <tr style=\"text-align: right;\">\n",
       "      <th></th>\n",
       "      <th>test_loss</th>\n",
       "      <th>test_accuracy</th>\n",
       "    </tr>\n",
       "  </thead>\n",
       "  <tbody>\n",
       "    <tr>\n",
       "      <th>0</th>\n",
       "      <td>1.171408</td>\n",
       "      <td>0.511467</td>\n",
       "    </tr>\n",
       "  </tbody>\n",
       "</table>\n",
       "</div>"
      ],
      "text/plain": [
       "   test_loss  test_accuracy\n",
       "0   1.171408       0.511467"
      ]
     },
     "execution_count": 32,
     "metadata": {},
     "output_type": "execute_result"
    }
   ],
   "source": [
    "pt_results2.results_df[[\"test_loss\", \"test_accuracy\"]]"
   ]
  },
  {
   "cell_type": "markdown",
   "id": "ad00a475",
   "metadata": {},
   "source": [
    "## HF Trainer on debug dataset (just eval)"
   ]
  },
  {
   "cell_type": "code",
   "execution_count": 35,
   "id": "c05855cd",
   "metadata": {},
   "outputs": [
    {
     "name": "stdout",
     "output_type": "stream",
     "text": [
      "Base dir /data/ddmg/redditlanguagemodeling/results/amazon_reviews/debug/wilds_subpop_user_split/eval_global_model_hf_trainer: Found results for 1 seeds\n"
     ]
    }
   ],
   "source": [
    "base_result_dir = os.path.join(main_result_dir, \"eval_global_model_hf_trainer\")\n",
    "levels = [\"seed\"]\n",
    "hf_results2 = ResultProcessor(base_result_dir, levels, verbose=True)"
   ]
  },
  {
   "cell_type": "markdown",
   "id": "9ca45d80",
   "metadata": {},
   "source": [
    "## My Trainer on debug dataset (just eval)\n",
    "\n",
    "Pre-trained model weights form HF trainer trained model"
   ]
  },
  {
   "cell_type": "code",
   "execution_count": 33,
   "id": "21d66c1f",
   "metadata": {},
   "outputs": [
    {
     "name": "stdout",
     "output_type": "stream",
     "text": [
      "Base dir /data/ddmg/redditlanguagemodeling/results/amazon_reviews/debug/wilds_subpop_user_split/eval_global_model_my_trainer: Found results for 1 seeds\n"
     ]
    }
   ],
   "source": [
    "base_result_dir = os.path.join(main_result_dir, \"eval_global_model_my_trainer\")\n",
    "levels = [\"seed\"]\n",
    "hf_results3 = ResultProcessor(base_result_dir, levels, verbose=True)"
   ]
  },
  {
   "cell_type": "code",
   "execution_count": 34,
   "id": "87cf08a7",
   "metadata": {},
   "outputs": [
    {
     "data": {
      "text/html": [
       "<div>\n",
       "<style scoped>\n",
       "    .dataframe tbody tr th:only-of-type {\n",
       "        vertical-align: middle;\n",
       "    }\n",
       "\n",
       "    .dataframe tbody tr th {\n",
       "        vertical-align: top;\n",
       "    }\n",
       "\n",
       "    .dataframe thead th {\n",
       "        text-align: right;\n",
       "    }\n",
       "</style>\n",
       "<table border=\"1\" class=\"dataframe\">\n",
       "  <thead>\n",
       "    <tr style=\"text-align: right;\">\n",
       "      <th></th>\n",
       "      <th>test_loss</th>\n",
       "      <th>test_accuracy</th>\n",
       "    </tr>\n",
       "  </thead>\n",
       "  <tbody>\n",
       "    <tr>\n",
       "      <th>0</th>\n",
       "      <td>0.922668</td>\n",
       "      <td>0.588267</td>\n",
       "    </tr>\n",
       "  </tbody>\n",
       "</table>\n",
       "</div>"
      ],
      "text/plain": [
       "   test_loss  test_accuracy\n",
       "0   0.922668       0.588267"
      ]
     },
     "execution_count": 34,
     "metadata": {},
     "output_type": "execute_result"
    }
   ],
   "source": [
    "hf_results3.results_df[[\"test_loss\", \"test_accuracy\"]]"
   ]
  }
 ],
 "metadata": {
  "kernelspec": {
   "display_name": "Python 3",
   "language": "python",
   "name": "python3"
  },
  "language_info": {
   "codemirror_mode": {
    "name": "ipython",
    "version": 3
   },
   "file_extension": ".py",
   "mimetype": "text/x-python",
   "name": "python",
   "nbconvert_exporter": "python",
   "pygments_lexer": "ipython3",
   "version": "3.8.10"
  }
 },
 "nbformat": 4,
 "nbformat_minor": 5
}
