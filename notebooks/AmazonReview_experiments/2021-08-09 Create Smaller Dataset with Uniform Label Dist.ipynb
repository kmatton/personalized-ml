{
 "cells": [
  {
   "cell_type": "code",
   "execution_count": 1,
   "id": "87fff6af",
   "metadata": {},
   "outputs": [],
   "source": [
    "%load_ext autoreload\n",
    "%autoreload 2"
   ]
  },
  {
   "cell_type": "code",
   "execution_count": 2,
   "id": "633803f9",
   "metadata": {},
   "outputs": [],
   "source": [
    "import csv\n",
    "import os\n",
    "import numpy as np\n",
    "import pandas as pd\n",
    "import seaborn as sns\n",
    "sns.set_theme()"
   ]
  },
  {
   "cell_type": "code",
   "execution_count": 3,
   "id": "c582c029",
   "metadata": {},
   "outputs": [],
   "source": [
    "data_dir = \"/data/ddmg/redditlanguagemodeling/data/AmazonReviews/data\""
   ]
  },
  {
   "cell_type": "code",
   "execution_count": 4,
   "id": "d5a4354b",
   "metadata": {},
   "outputs": [],
   "source": [
    "data_df = pd.read_csv(os.path.join(data_dir, 'amazon_v2.0/reviews.csv'),\n",
    "                      dtype={'reviewerID':str, 'asin':str, 'reviewTime':str,'unixReviewTime':int,\n",
    "                             'reviewText':str,'summary':str,'verified':bool,'category':str, 'reviewYear':int},\n",
    "                      keep_default_na=False, na_values=[], quoting=csv.QUOTE_NONNUMERIC)"
   ]
  },
  {
   "cell_type": "code",
   "execution_count": 5,
   "id": "1ec9e4de",
   "metadata": {},
   "outputs": [],
   "source": [
    "split_df = pd.read_csv(os.path.join(data_dir, 'amazon_v2.0', 'splits', 'user.csv'))"
   ]
  },
  {
   "cell_type": "code",
   "execution_count": 6,
   "id": "e87f96c9",
   "metadata": {},
   "outputs": [],
   "source": [
    "data_df[\"split\"] = split_df[\"split\"]"
   ]
  },
  {
   "cell_type": "code",
   "execution_count": 20,
   "id": "4ba19a2c",
   "metadata": {},
   "outputs": [],
   "source": [
    "clean_df = data_df[split_df[\"clean\"]]"
   ]
  },
  {
   "cell_type": "code",
   "execution_count": 21,
   "id": "d42923c0",
   "metadata": {},
   "outputs": [
    {
     "data": {
      "text/plain": [
       "8707610"
      ]
     },
     "execution_count": 21,
     "metadata": {},
     "output_type": "execute_result"
    }
   ],
   "source": [
    "len(clean_df)"
   ]
  },
  {
   "cell_type": "code",
   "execution_count": 28,
   "id": "879b50a4",
   "metadata": {},
   "outputs": [],
   "source": [
    "# pick a few categories and pick reviews just from them\n",
    "include_categories = [\n",
    "    \"Movies_and_TV\",\n",
    "    \"Books\", # may want to take a subset of these because there are so many\n",
    "    \"Tools_and_Home_Improvement\",\n",
    "    \"Home_and_Kitchen\"\n",
    "]"
   ]
  },
  {
   "cell_type": "code",
   "execution_count": 29,
   "id": "3b345c2b",
   "metadata": {},
   "outputs": [],
   "source": [
    "my_df = clean_df[clean_df[\"category\"].isin(include_categories)]"
   ]
  },
  {
   "cell_type": "code",
   "execution_count": 30,
   "id": "5c781b7e",
   "metadata": {},
   "outputs": [
    {
     "data": {
      "text/plain": [
       "split\n",
       "-1.0    5921174\n",
       " 0.0     198171\n",
       " 1.0      79846\n",
       " 2.0      37385\n",
       " 3.0      79940\n",
       " 4.0      37649\n",
       "Name: overall, dtype: int64"
      ]
     },
     "execution_count": 30,
     "metadata": {},
     "output_type": "execute_result"
    }
   ],
   "source": [
    "my_df.groupby(\"split\").count()[\"overall\"]"
   ]
  },
  {
   "cell_type": "code",
   "execution_count": 31,
   "id": "2dc0fd61",
   "metadata": {
    "scrolled": true
   },
   "outputs": [
    {
     "data": {
      "text/plain": [
       "split  category                    overall\n",
       "-1.0   Books                       1.0          93030\n",
       "                                   2.0         155479\n",
       "                                   3.0         441083\n",
       "                                   4.0        1199356\n",
       "                                   5.0        2820013\n",
       "       Home_and_Kitchen            1.0          20488\n",
       "                                   2.0          18837\n",
       "                                   3.0          38820\n",
       "                                   4.0          92737\n",
       "                                   5.0         352273\n",
       "       Movies_and_TV               1.0          26983\n",
       "                                   2.0          29547\n",
       "                                   3.0          61736\n",
       "                                   4.0         113558\n",
       "                                   5.0         271932\n",
       "       Tools_and_Home_Improvement  1.0           6859\n",
       "                                   2.0           5918\n",
       "                                   3.0          12801\n",
       "                                   4.0          33533\n",
       "                                   5.0         126191\n",
       " 0.0   Books                       1.0           1693\n",
       "                                   2.0           4867\n",
       "                                   3.0          16722\n",
       "                                   4.0          54169\n",
       "                                   5.0         105212\n",
       "       Home_and_Kitchen            1.0             95\n",
       "                                   2.0            134\n",
       "                                   3.0            318\n",
       "                                   4.0           1011\n",
       "                                   5.0           2845\n",
       "       Movies_and_TV               1.0            214\n",
       "                                   2.0            552\n",
       "                                   3.0           1522\n",
       "                                   4.0           2930\n",
       "                                   5.0           4661\n",
       "       Tools_and_Home_Improvement  1.0             29\n",
       "                                   2.0             30\n",
       "                                   3.0             80\n",
       "                                   4.0            266\n",
       "                                   5.0            821\n",
       " 1.0   Books                       1.0            849\n",
       "                                   2.0           1997\n",
       "                                   3.0           6847\n",
       "                                   4.0          20751\n",
       "                                   5.0          42751\n",
       "       Home_and_Kitchen            1.0             39\n",
       "                                   2.0             48\n",
       "                                   3.0            179\n",
       "                                   4.0            551\n",
       "                                   5.0           1487\n",
       "       Movies_and_TV               1.0            190\n",
       "                                   2.0            286\n",
       "                                   3.0            563\n",
       "                                   4.0           1029\n",
       "                                   5.0           1560\n",
       "       Tools_and_Home_Improvement  1.0             14\n",
       "                                   2.0             16\n",
       "                                   3.0             46\n",
       "                                   4.0            153\n",
       "                                   5.0            490\n",
       " 2.0   Books                       1.0            354\n",
       "                                   2.0            979\n",
       "                                   3.0           2995\n",
       "                                   4.0           9540\n",
       "                                   5.0          20445\n",
       "       Home_and_Kitchen            1.0             27\n",
       "                                   2.0             30\n",
       "                                   3.0             65\n",
       "                                   4.0            256\n",
       "                                   5.0            723\n",
       "       Movies_and_TV               1.0             61\n",
       "                                   2.0             72\n",
       "                                   3.0            216\n",
       "                                   4.0            524\n",
       "                                   5.0            788\n",
       "       Tools_and_Home_Improvement  1.0              6\n",
       "                                   2.0             11\n",
       "                                   3.0             19\n",
       "                                   4.0             76\n",
       "                                   5.0            198\n",
       " 3.0   Books                       1.0            843\n",
       "                                   2.0           2156\n",
       "                                   3.0           7141\n",
       "                                   4.0          20635\n",
       "                                   5.0          40819\n",
       "       Home_and_Kitchen            1.0             70\n",
       "                                   2.0             76\n",
       "                                   3.0            229\n",
       "                                   4.0            650\n",
       "                                   5.0           1513\n",
       "       Movies_and_TV               1.0            296\n",
       "                                   2.0            374\n",
       "                                   3.0            788\n",
       "                                   4.0           1376\n",
       "                                   5.0           2227\n",
       "       Tools_and_Home_Improvement  1.0             30\n",
       "                                   2.0             25\n",
       "                                   3.0             61\n",
       "                                   4.0            149\n",
       "                                   5.0            482\n",
       " 4.0   Books                       1.0            337\n",
       "                                   2.0            923\n",
       "                                   3.0           3293\n",
       "                                   4.0           9963\n",
       "                                   5.0          20085\n",
       "       Home_and_Kitchen            1.0             27\n",
       "                                   2.0             36\n",
       "                                   3.0            104\n",
       "                                   4.0            255\n",
       "                                   5.0            675\n",
       "       Movies_and_TV               1.0             42\n",
       "                                   2.0             87\n",
       "                                   3.0            227\n",
       "                                   4.0            467\n",
       "                                   5.0            812\n",
       "       Tools_and_Home_Improvement  1.0              8\n",
       "                                   2.0              6\n",
       "                                   3.0             23\n",
       "                                   4.0             78\n",
       "                                   5.0            201\n",
       "Name: summary, dtype: int64"
      ]
     },
     "metadata": {},
     "output_type": "display_data"
    }
   ],
   "source": [
    "with pd.option_context('display.max_rows', None, 'display.max_columns', None):\n",
    "    label_dist = my_df.groupby([\"split\", \"category\", \"overall\"]).count()[\"summary\"]\n",
    "    display(label_dist)"
   ]
  },
  {
   "cell_type": "code",
   "execution_count": 27,
   "id": "51f20c6d",
   "metadata": {},
   "outputs": [
    {
     "data": {
      "text/plain": [
       "category                     overall\n",
       "All_Beauty                   1.0              1\n",
       "                             2.0              8\n",
       "                             3.0             14\n",
       "                             4.0             48\n",
       "                             5.0            156\n",
       "Arts_Crafts_and_Sewing       1.0            504\n",
       "                             2.0            469\n",
       "                             3.0           1142\n",
       "                             4.0           2625\n",
       "                             5.0          13710\n",
       "Automotive                   1.0           2199\n",
       "                             2.0           1821\n",
       "                             3.0           4219\n",
       "                             4.0          11024\n",
       "                             5.0          45485\n",
       "Books                        1.0          97106\n",
       "                             2.0         166401\n",
       "                             3.0         478081\n",
       "                             4.0        1314414\n",
       "                             5.0        3049325\n",
       "CDs_and_Vinyl                1.0           2226\n",
       "                             2.0           2203\n",
       "                             3.0           5204\n",
       "                             4.0          13280\n",
       "                             5.0          42492\n",
       "Cell_Phones_and_Accessories  1.0           2089\n",
       "                             2.0           1797\n",
       "                             3.0           3150\n",
       "                             4.0           7428\n",
       "                             5.0          28776\n",
       "Clothing_Shoes_and_Jewelry   1.0           8892\n",
       "                             2.0          12547\n",
       "                             3.0          25305\n",
       "                             4.0          55321\n",
       "                             5.0         160207\n",
       "Digital_Music                1.0             48\n",
       "                             2.0             53\n",
       "                             3.0            132\n",
       "                             4.0            324\n",
       "                             5.0           1534\n",
       "Electronics                  1.0          21453\n",
       "                             2.0          16709\n",
       "                             3.0          31496\n",
       "                             4.0          79977\n",
       "                             5.0         305163\n",
       "Gift_Cards                   2.0              2\n",
       "                             4.0              8\n",
       "                             5.0             89\n",
       "Grocery_and_Gourmet_Food     1.0           4365\n",
       "                             2.0           4658\n",
       "                             3.0          10457\n",
       "                             4.0          22075\n",
       "                             5.0          94125\n",
       "Home_and_Kitchen             1.0          20746\n",
       "                             2.0          19161\n",
       "                             3.0          39715\n",
       "                             4.0          95460\n",
       "                             5.0         359516\n",
       "Industrial_and_Scientific    1.0            172\n",
       "                             2.0            148\n",
       "                             3.0            341\n",
       "                             4.0            923\n",
       "                             5.0           4130\n",
       "Kindle_Store                 1.0          10772\n",
       "                             2.0          17808\n",
       "                             3.0          57991\n",
       "                             4.0         174625\n",
       "                             5.0         381328\n",
       "Luxury_Beauty                1.0             53\n",
       "                             2.0            115\n",
       "                             3.0            387\n",
       "                             4.0            996\n",
       "                             5.0           1349\n",
       "Magazine_Subscriptions       1.0              1\n",
       "                             2.0              2\n",
       "                             3.0              3\n",
       "                             4.0             11\n",
       "                             5.0             39\n",
       "Movies_and_TV                1.0          27786\n",
       "                             2.0          30918\n",
       "                             3.0          65052\n",
       "                             4.0         119884\n",
       "                             5.0         281980\n",
       "Musical_Instruments          1.0            130\n",
       "                             2.0            155\n",
       "                             3.0            439\n",
       "                             4.0           1350\n",
       "                             5.0           4904\n",
       "Office_Products              1.0           3468\n",
       "                             2.0           3036\n",
       "                             3.0           7353\n",
       "                             4.0          19883\n",
       "                             5.0          73913\n",
       "Patio_Lawn_and_Garden        1.0           3885\n",
       "                             2.0           3165\n",
       "                             3.0           6124\n",
       "                             4.0          14091\n",
       "                             5.0          49727\n",
       "Pet_Supplies                 1.0          10964\n",
       "                             2.0          11033\n",
       "                             3.0          20996\n",
       "                             4.0          37001\n",
       "                             5.0         147676\n",
       "Prime_Pantry                 1.0            416\n",
       "                             2.0            520\n",
       "                             3.0           1343\n",
       "                             4.0           3063\n",
       "                             5.0          13574\n",
       "Software                     1.0             28\n",
       "                             2.0             14\n",
       "                             3.0             43\n",
       "                             4.0            102\n",
       "                             5.0            235\n",
       "Sports_and_Outdoors          1.0           3661\n",
       "                             2.0           3902\n",
       "                             3.0           9450\n",
       "                             4.0          25269\n",
       "                             5.0          86855\n",
       "Tools_and_Home_Improvement   1.0           6946\n",
       "                             2.0           6006\n",
       "                             3.0          13030\n",
       "                             4.0          34255\n",
       "                             5.0         128383\n",
       "Toys_and_Games               1.0           1359\n",
       "                             2.0           1797\n",
       "                             3.0           5284\n",
       "                             4.0          14099\n",
       "                             5.0          46518\n",
       "Video_Games                  1.0           1016\n",
       "                             2.0            777\n",
       "                             3.0           1674\n",
       "                             4.0           3442\n",
       "                             5.0          11507\n",
       "Name: summary, dtype: int64"
      ]
     },
     "metadata": {},
     "output_type": "display_data"
    }
   ],
   "source": [
    "with pd.option_context('display.max_rows', None, 'display.max_columns', None):\n",
    "    label_dist = clean_df.groupby([\"category\", \"overall\"]).count()[\"summary\"]\n",
    "    display(label_dist)"
   ]
  },
  {
   "cell_type": "code",
   "execution_count": 32,
   "id": "0f7cf95c",
   "metadata": {},
   "outputs": [
    {
     "data": {
      "text/plain": [
       "category                    overall\n",
       "Books                       1.0          97106\n",
       "                            2.0         166401\n",
       "                            3.0         478081\n",
       "                            4.0        1314414\n",
       "                            5.0        3049325\n",
       "Home_and_Kitchen            1.0          20746\n",
       "                            2.0          19161\n",
       "                            3.0          39715\n",
       "                            4.0          95460\n",
       "                            5.0         359516\n",
       "Movies_and_TV               1.0          27786\n",
       "                            2.0          30918\n",
       "                            3.0          65052\n",
       "                            4.0         119884\n",
       "                            5.0         281980\n",
       "Tools_and_Home_Improvement  1.0           6946\n",
       "                            2.0           6006\n",
       "                            3.0          13030\n",
       "                            4.0          34255\n",
       "                            5.0         128383\n",
       "Name: summary, dtype: int64"
      ]
     },
     "metadata": {},
     "output_type": "display_data"
    }
   ],
   "source": [
    "with pd.option_context('display.max_rows', None, 'display.max_columns', None):\n",
    "    label_dist = my_df.groupby([\"category\", \"overall\"]).count()[\"summary\"]\n",
    "    display(label_dist)"
   ]
  },
  {
   "cell_type": "code",
   "execution_count": 14,
   "id": "cb47a42f",
   "metadata": {},
   "outputs": [],
   "source": [
    "labels = [1, 2, 3, 4, 5]"
   ]
  },
  {
   "cell_type": "code",
   "execution_count": 41,
   "id": "e042cf48",
   "metadata": {},
   "outputs": [],
   "source": [
    "# sample points to keep in training data for each category\n",
    "for cat in include_categories:\n",
    "    cat_df = data_df[data_df[\"category\"] == cat]\n",
    "    for label in labels:\n",
    "        full_idx = cat_df[cat_df[\"overall\"] == label].index\n",
    "        keep = np.random.choice(full_idx, 900, replace=False)\n",
    "        keep_set = set(keep)\n",
    "        exclude = [x for x in full_idx if x not in keep_set]\n",
    "        data_df.loc[exclude, \"split\"] = -1\n",
    "        data_df.loc[keep[:500], \"split\"] = 0\n",
    "        data_df.loc[keep[500:700], \"split\"] = 1\n",
    "        data_df.loc[keep[700:], \"split\"] = 2"
   ]
  },
  {
   "cell_type": "code",
   "execution_count": 42,
   "id": "84ae13c2",
   "metadata": {},
   "outputs": [],
   "source": [
    "# make examples in other categories -1\n",
    "for cat in set(data_df[\"category\"]).difference(set(include_categories)):\n",
    "    cat_idx = data_df[data_df[\"category\"] == cat].index\n",
    "    data_df.loc[cat_idx, \"split\"] = -1"
   ]
  },
  {
   "cell_type": "code",
   "execution_count": 36,
   "id": "afb87ed6",
   "metadata": {},
   "outputs": [
    {
     "data": {
      "text/plain": [
       "split  category                    overall\n",
       "-1.0   Books                       1.0         103228\n",
       "                                   2.0         174866\n",
       "                                   3.0         509680\n",
       "                                   4.0        1395106\n",
       "                                   5.0        3326090\n",
       "       Home_and_Kitchen            1.0          21527\n",
       "                                   2.0          19803\n",
       "                                   3.0          43087\n",
       "                                   4.0         109217\n",
       "                                   5.0         427899\n",
       "       Movies_and_TV               1.0          30470\n",
       "                                   2.0          33985\n",
       "                                   3.0          76659\n",
       "                                   4.0         147005\n",
       "                                   5.0         397341\n",
       "       Tools_and_Home_Improvement  1.0           6765\n",
       "                                   2.0           5697\n",
       "                                   3.0          13941\n",
       "                                   4.0          40330\n",
       "                                   5.0         159286\n",
       " 0.0   Books                       1.0            500\n",
       "                                   2.0            500\n",
       "                                   3.0            500\n",
       "                                   4.0            500\n",
       "                                   5.0            500\n",
       "       Home_and_Kitchen            1.0            500\n",
       "                                   2.0            500\n",
       "                                   3.0            500\n",
       "                                   4.0            500\n",
       "                                   5.0            500\n",
       "       Movies_and_TV               1.0            500\n",
       "                                   2.0            500\n",
       "                                   3.0            500\n",
       "                                   4.0            500\n",
       "                                   5.0            500\n",
       "       Tools_and_Home_Improvement  1.0            500\n",
       "                                   2.0            500\n",
       "                                   3.0            500\n",
       "                                   4.0            500\n",
       "                                   5.0            500\n",
       " 1.0   Books                       1.0            100\n",
       "                                   2.0            100\n",
       "                                   3.0            100\n",
       "                                   4.0            100\n",
       "                                   5.0            100\n",
       "       Home_and_Kitchen            1.0            100\n",
       "                                   2.0            100\n",
       "                                   3.0            100\n",
       "                                   4.0            100\n",
       "                                   5.0            100\n",
       "       Movies_and_TV               1.0            100\n",
       "                                   2.0            100\n",
       "                                   3.0            100\n",
       "                                   4.0            100\n",
       "                                   5.0            100\n",
       "       Tools_and_Home_Improvement  1.0            100\n",
       "                                   2.0            100\n",
       "                                   3.0            100\n",
       "                                   4.0            100\n",
       "                                   5.0            100\n",
       " 2.0   Books                       1.0            100\n",
       "                                   2.0            100\n",
       "                                   3.0            100\n",
       "                                   4.0            100\n",
       "                                   5.0            100\n",
       "       Home_and_Kitchen            1.0            100\n",
       "                                   2.0            100\n",
       "                                   3.0            100\n",
       "                                   4.0            100\n",
       "                                   5.0            100\n",
       "       Movies_and_TV               1.0            100\n",
       "                                   2.0            100\n",
       "                                   3.0            100\n",
       "                                   4.0            100\n",
       "                                   5.0            100\n",
       "       Tools_and_Home_Improvement  1.0            100\n",
       "                                   2.0            100\n",
       "                                   3.0            100\n",
       "                                   4.0            100\n",
       "                                   5.0            100\n",
       "Name: summary, dtype: int64"
      ]
     },
     "metadata": {},
     "output_type": "display_data"
    }
   ],
   "source": [
    "with pd.option_context('display.max_rows', None, 'display.max_columns', None):\n",
    "    label_dist = data_df[data_df[\"category\"].isin(include_categories)].groupby([\"split\", \"category\", \"overall\"]).count()[\"summary\"]\n",
    "    display(label_dist)"
   ]
  },
  {
   "cell_type": "code",
   "execution_count": 43,
   "id": "96421487",
   "metadata": {},
   "outputs": [
    {
     "data": {
      "text/plain": [
       "-1.0    10098947\n",
       " 0.0       10000\n",
       " 1.0        4000\n",
       " 2.0        4000\n",
       "Name: split, dtype: int64"
      ]
     },
     "execution_count": 43,
     "metadata": {},
     "output_type": "execute_result"
    }
   ],
   "source": [
    "my_split_df = split_df.copy()\n",
    "my_split_df[\"split\"] = data_df[\"split\"]\n",
    "my_split_df[\"split\"].value_counts()"
   ]
  },
  {
   "cell_type": "code",
   "execution_count": 44,
   "id": "c2444145",
   "metadata": {},
   "outputs": [],
   "source": [
    "my_split_df.to_csv(os.path.join(data_dir, 'amazon_v2.0', 'splits', 'small_even_books_movie_kitchen_tools.csv'), index=False)"
   ]
  }
 ],
 "metadata": {
  "kernelspec": {
   "display_name": "Python 3",
   "language": "python",
   "name": "python3"
  },
  "language_info": {
   "codemirror_mode": {
    "name": "ipython",
    "version": 3
   },
   "file_extension": ".py",
   "mimetype": "text/x-python",
   "name": "python",
   "nbconvert_exporter": "python",
   "pygments_lexer": "ipython3",
   "version": "3.8.10"
  }
 },
 "nbformat": 4,
 "nbformat_minor": 5
}
