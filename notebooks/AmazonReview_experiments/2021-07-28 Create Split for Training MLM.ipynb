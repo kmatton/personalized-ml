{
 "cells": [
  {
   "cell_type": "code",
   "execution_count": 1,
   "id": "6bda10cb",
   "metadata": {},
   "outputs": [],
   "source": [
    "%load_ext autoreload\n",
    "%autoreload 2"
   ]
  },
  {
   "cell_type": "code",
   "execution_count": 2,
   "id": "69a47d8d",
   "metadata": {},
   "outputs": [],
   "source": [
    "import csv\n",
    "import os\n",
    "import numpy as np\n",
    "import pandas as pd\n",
    "import seaborn as sns\n",
    "sns.set_theme()"
   ]
  },
  {
   "cell_type": "code",
   "execution_count": 3,
   "id": "34bb29c9",
   "metadata": {},
   "outputs": [],
   "source": [
    "data_dir = \"/data/ddmg/redditlanguagemodeling/data/AmazonReviews/data\""
   ]
  },
  {
   "cell_type": "code",
   "execution_count": 4,
   "id": "ee0e1690",
   "metadata": {},
   "outputs": [],
   "source": [
    "data_df = pd.read_csv(os.path.join(data_dir, 'amazon_v2.0/reviews.csv'),\n",
    "                      dtype={'reviewerID':str, 'asin':str, 'reviewTime':str,'unixReviewTime':int,\n",
    "                             'reviewText':str,'summary':str,'verified':bool,'category':str, 'reviewYear':int},\n",
    "                      keep_default_na=False, na_values=[], quoting=csv.QUOTE_NONNUMERIC)"
   ]
  },
  {
   "cell_type": "code",
   "execution_count": 5,
   "id": "48d399b8",
   "metadata": {},
   "outputs": [],
   "source": [
    "split_df = pd.read_csv(os.path.join(data_dir, 'amazon_v2.0', 'splits', 'user.csv'))"
   ]
  },
  {
   "cell_type": "code",
   "execution_count": 6,
   "id": "d9489711",
   "metadata": {},
   "outputs": [],
   "source": [
    "used_df = data_df[split_df[\"split\"] != -1]"
   ]
  },
  {
   "cell_type": "code",
   "execution_count": 14,
   "id": "e01c1553",
   "metadata": {},
   "outputs": [
    {
     "name": "stdout",
     "output_type": "stream",
     "text": [
      "train count 323701\n",
      "val count 107900\n",
      "test count 107901\n"
     ]
    }
   ],
   "source": [
    "# create train, test, val split --> 60-20-20\n",
    "train_count = int(len(used_df) * .6)\n",
    "val_count = int(len(used_df) * .2)\n",
    "test_count = len(used_df) - train_count - val_count\n",
    "print(\"train count\", train_count)\n",
    "print(\"val count\", val_count)\n",
    "print(\"test count\", test_count)\n",
    "split_assignments = np.concatenate([np.zeros(train_count), np.ones(val_count), np.full(test_count, 2)])\n",
    "np.random.shuffle(split_assignments)"
   ]
  },
  {
   "cell_type": "code",
   "execution_count": 20,
   "id": "608c82dd",
   "metadata": {},
   "outputs": [],
   "source": [
    "# create new split file\n",
    "split_df.loc[used_df.index, \"split\"] = split_assignments"
   ]
  },
  {
   "cell_type": "code",
   "execution_count": 23,
   "id": "66a0fc6f",
   "metadata": {},
   "outputs": [
    {
     "data": {
      "text/plain": [
       "(array([-1.,  0.,  1.,  2.]), array([9577445,  323701,  107900,  107901]))"
      ]
     },
     "execution_count": 23,
     "metadata": {},
     "output_type": "execute_result"
    }
   ],
   "source": [
    "np.unique(split_df[\"split\"], return_counts=True)"
   ]
  },
  {
   "cell_type": "code",
   "execution_count": 24,
   "id": "be77fac7",
   "metadata": {},
   "outputs": [],
   "source": [
    "split_df.to_csv(os.path.join(data_dir, 'amazon_v2.0', 'splits', 'mlm.csv'), index=False)"
   ]
  }
 ],
 "metadata": {
  "kernelspec": {
   "display_name": "Python 3",
   "language": "python",
   "name": "python3"
  },
  "language_info": {
   "codemirror_mode": {
    "name": "ipython",
    "version": 3
   },
   "file_extension": ".py",
   "mimetype": "text/x-python",
   "name": "python",
   "nbconvert_exporter": "python",
   "pygments_lexer": "ipython3",
   "version": "3.8.10"
  }
 },
 "nbformat": 4,
 "nbformat_minor": 5
}
