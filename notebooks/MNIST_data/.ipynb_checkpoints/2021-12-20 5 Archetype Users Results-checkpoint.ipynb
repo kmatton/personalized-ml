{
 "cells": [
  {
   "cell_type": "markdown",
   "id": "0f214988",
   "metadata": {},
   "source": [
    "### Overview\n",
    "\n",
    "5 archetype users:\n",
    "\n",
    "1: Labels consistent with image, i.e., (0, 1, 2, 3, 4) -> (0, 1, 2, 3, 4)\n",
    "2: (0, 1, 2, 3, 4) -> (1, 2, 3, 4, 0)\n",
    "3: (0, 1, 2, 3, 4) -> (2, 3, 4, 0, 1)\n",
    "4: (0, 1, 2, 3, 4) -> (3, 4, 0, 1, 2)\n",
    "5: (0, 1, 2, 3, 4) -> (4, 0, 1, 2, 3)\n",
    "100 users, 20 of each type. For each user:\n",
    "\n",
    "inputs are randomly sampled MNIST digits (0-4)\n",
    "outputs are the labels of the associated archetype with probability .9, random label with probability .1\n",
    "20 train examples, 20 validation, 50 test"
   ]
  },
  {
   "cell_type": "code",
   "execution_count": 1,
   "id": "8bf11091",
   "metadata": {},
   "outputs": [],
   "source": [
    "%load_ext autoreload\n",
    "%autoreload 2"
   ]
  },
  {
   "cell_type": "code",
   "execution_count": 2,
   "id": "0b4adaa0",
   "metadata": {},
   "outputs": [],
   "source": [
    "import json\n",
    "import os\n",
    "\n",
    "import numpy as np\n",
    "import pandas as pd\n",
    "import seaborn as sns\n",
    "sns.set_theme()"
   ]
  },
  {
   "cell_type": "code",
   "execution_count": 3,
   "id": "e88199e8",
   "metadata": {},
   "outputs": [],
   "source": [
    "data_dir = \"/data/ddmg/redditlanguagemodeling/results/mnist\""
   ]
  },
  {
   "cell_type": "code",
   "execution_count": 46,
   "id": "021358aa",
   "metadata": {},
   "outputs": [],
   "source": [
    "def collect_details(base_dir, seeds):\n",
    "    collect_losses = {\"loss\": [], \"step\": [], \"user\": [], \"seed\": []}\n",
    "    collect_ws = []\n",
    "    collect_embeds = []\n",
    "    collect_embed_grads = []\n",
    "    collect_w_grads = []\n",
    "    collect_users = []\n",
    "    num_users = 100\n",
    "    user_batch_size = 20\n",
    "    for seed in seeds:\n",
    "        result_dir = os.path.join(base_dir, str(seed))\n",
    "        user_step_losses = np.load(os.path.join(result_dir, \"step_user_losses.npy\"))\n",
    "        num_steps = len(user_step_losses)\n",
    "        losses_flat = user_step_losses.flatten()\n",
    "        collect_losses[\"loss\"] += list(losses_flat)\n",
    "        collect_losses[\"step\"] += list(np.array([[step] * user_batch_size for step in range(num_steps)]).flatten())\n",
    "        users = np.load(os.path.join(result_dir, \"train_users.npy\"))\n",
    "        collect_losses[\"user\"] += list(users.flatten())\n",
    "        collect_losses[\"seed\"] += [seed] * len(losses_flat)\n",
    "        weight_matrices = np.load(os.path.join(result_dir, \"user_weight_matrices.npy\"))\n",
    "        embeds = np.load(os.path.join(result_dir, \"user_embeds.npy\"))\n",
    "        w_grads = np.load(os.path.join(result_dir, \"weight_gradients.npy\"))\n",
    "        embeds_grads = np.load(os.path.join(result_dir, \"user_embeds_gradients.npy\"))\n",
    "        collect_ws.append(weight_matrices)\n",
    "        collect_embeds.append(embeds)\n",
    "        collect_w_grads.append(w_grads)\n",
    "        collect_embed_grads.append(embeds_grads)\n",
    "        collect_users.append(users)\n",
    "    return collect_losses, collect_ws, collect_embeds, collect_w_grads, collect_embed_grads, collect_users"
   ]
  },
  {
   "cell_type": "code",
   "execution_count": 9,
   "id": "9e6bebf2",
   "metadata": {},
   "outputs": [],
   "source": [
    "def collect_results_single_param(base_dir, seeds):\n",
    "    collect_results = []\n",
    "    for seed in seeds:\n",
    "        result_dir = os.path.join(base_dir, str(seed))\n",
    "        with open(os.path.join(result_dir, \"test_results.json\"), \"rb\") as f:\n",
    "            results = json.load(f)\n",
    "        num_users = 100\n",
    "        for user in range(num_users):\n",
    "            user_acc = results[str(user)][\"test_accuracy\"]\n",
    "            collect_results.append({\"user\": user, \"accuracy\": user_acc, \"seed\": seed})\n",
    "    result_df = pd.DataFrame(collect_results)\n",
    "    return result_df"
   ]
  },
  {
   "cell_type": "code",
   "execution_count": 6,
   "id": "fa491bfd",
   "metadata": {},
   "outputs": [],
   "source": [
    "def collect_train_times(base_dir, seeds):\n",
    "    times = []\n",
    "    sps = []\n",
    "    for seed in seeds:\n",
    "        result_dir = os.path.join(base_dir, str(seed))\n",
    "        with open(os.path.join(result_dir, \"trainer_state.json\"), \"rb\") as f:\n",
    "            t_state = json.load(f)\n",
    "        times.append(t_state[\"log_history\"][-1][\"train_runtime\"])\n",
    "        sps.append(t_state[\"log_history\"][-1][\"train_samples_per_second\"])\n",
    "    return times, sps"
   ]
  },
  {
   "cell_type": "code",
   "execution_count": 10,
   "id": "1b953334",
   "metadata": {},
   "outputs": [],
   "source": [
    "results = collect_results_single_param(os.path.join(data_dir, \"5_archetype_users_test1\"), [42])"
   ]
  },
  {
   "cell_type": "code",
   "execution_count": 11,
   "id": "4600d085",
   "metadata": {},
   "outputs": [
    {
     "data": {
      "text/html": [
       "<div>\n",
       "<style scoped>\n",
       "    .dataframe tbody tr th:only-of-type {\n",
       "        vertical-align: middle;\n",
       "    }\n",
       "\n",
       "    .dataframe tbody tr th {\n",
       "        vertical-align: top;\n",
       "    }\n",
       "\n",
       "    .dataframe thead th {\n",
       "        text-align: right;\n",
       "    }\n",
       "</style>\n",
       "<table border=\"1\" class=\"dataframe\">\n",
       "  <thead>\n",
       "    <tr style=\"text-align: right;\">\n",
       "      <th></th>\n",
       "      <th>user</th>\n",
       "      <th>accuracy</th>\n",
       "      <th>seed</th>\n",
       "    </tr>\n",
       "  </thead>\n",
       "  <tbody>\n",
       "    <tr>\n",
       "      <th>0</th>\n",
       "      <td>0</td>\n",
       "      <td>0.2600</td>\n",
       "      <td>42</td>\n",
       "    </tr>\n",
       "    <tr>\n",
       "      <th>1</th>\n",
       "      <td>1</td>\n",
       "      <td>0.0800</td>\n",
       "      <td>42</td>\n",
       "    </tr>\n",
       "    <tr>\n",
       "      <th>2</th>\n",
       "      <td>2</td>\n",
       "      <td>0.1400</td>\n",
       "      <td>42</td>\n",
       "    </tr>\n",
       "    <tr>\n",
       "      <th>3</th>\n",
       "      <td>3</td>\n",
       "      <td>0.2576</td>\n",
       "      <td>42</td>\n",
       "    </tr>\n",
       "    <tr>\n",
       "      <th>4</th>\n",
       "      <td>4</td>\n",
       "      <td>0.2400</td>\n",
       "      <td>42</td>\n",
       "    </tr>\n",
       "    <tr>\n",
       "      <th>...</th>\n",
       "      <td>...</td>\n",
       "      <td>...</td>\n",
       "      <td>...</td>\n",
       "    </tr>\n",
       "    <tr>\n",
       "      <th>95</th>\n",
       "      <td>95</td>\n",
       "      <td>0.3000</td>\n",
       "      <td>42</td>\n",
       "    </tr>\n",
       "    <tr>\n",
       "      <th>96</th>\n",
       "      <td>96</td>\n",
       "      <td>0.2000</td>\n",
       "      <td>42</td>\n",
       "    </tr>\n",
       "    <tr>\n",
       "      <th>97</th>\n",
       "      <td>97</td>\n",
       "      <td>0.2200</td>\n",
       "      <td>42</td>\n",
       "    </tr>\n",
       "    <tr>\n",
       "      <th>98</th>\n",
       "      <td>98</td>\n",
       "      <td>0.2184</td>\n",
       "      <td>42</td>\n",
       "    </tr>\n",
       "    <tr>\n",
       "      <th>99</th>\n",
       "      <td>99</td>\n",
       "      <td>0.2000</td>\n",
       "      <td>42</td>\n",
       "    </tr>\n",
       "  </tbody>\n",
       "</table>\n",
       "<p>100 rows × 3 columns</p>\n",
       "</div>"
      ],
      "text/plain": [
       "    user  accuracy  seed\n",
       "0      0    0.2600    42\n",
       "1      1    0.0800    42\n",
       "2      2    0.1400    42\n",
       "3      3    0.2576    42\n",
       "4      4    0.2400    42\n",
       "..   ...       ...   ...\n",
       "95    95    0.3000    42\n",
       "96    96    0.2000    42\n",
       "97    97    0.2200    42\n",
       "98    98    0.2184    42\n",
       "99    99    0.2000    42\n",
       "\n",
       "[100 rows x 3 columns]"
      ]
     },
     "execution_count": 11,
     "metadata": {},
     "output_type": "execute_result"
    }
   ],
   "source": [
    "results"
   ]
  },
  {
   "cell_type": "code",
   "execution_count": 12,
   "id": "eb32cb3d",
   "metadata": {},
   "outputs": [
    {
     "name": "stdout",
     "output_type": "stream",
     "text": [
      "0.20483199939131735 0.051021331957301234\n"
     ]
    }
   ],
   "source": [
    "print(results[\"accuracy\"].mean(), results[\"accuracy\"].std())"
   ]
  },
  {
   "cell_type": "code",
   "execution_count": 13,
   "id": "9f937962",
   "metadata": {},
   "outputs": [],
   "source": [
    "times, sps = collect_train_times(os.path.join(data_dir, \"5_archetype_users_test1\"), [42])"
   ]
  },
  {
   "cell_type": "code",
   "execution_count": 14,
   "id": "e787164e",
   "metadata": {},
   "outputs": [
    {
     "data": {
      "text/plain": [
       "[29625.8011]"
      ]
     },
     "execution_count": 14,
     "metadata": {},
     "output_type": "execute_result"
    }
   ],
   "source": [
    "times"
   ]
  },
  {
   "cell_type": "code",
   "execution_count": 16,
   "id": "758cc83b",
   "metadata": {},
   "outputs": [
    {
     "data": {
      "text/plain": [
       "8.229166666666666"
      ]
     },
     "execution_count": 16,
     "metadata": {},
     "output_type": "execute_result"
    }
   ],
   "source": [
    "29625 / (60 * 60)"
   ]
  },
  {
   "cell_type": "code",
   "execution_count": 47,
   "id": "caeff882",
   "metadata": {},
   "outputs": [],
   "source": [
    "loss, weights, embeds, weight_grads, embeds_grads, train_users = collect_details(os.path.join(data_dir, \"5_archetype_users_test1\"), [42])"
   ]
  },
  {
   "cell_type": "code",
   "execution_count": 38,
   "id": "7a4812dd",
   "metadata": {},
   "outputs": [
    {
     "data": {
      "text/plain": [
       "array([83., 53., 70., ...,  4., 48., 10.])"
      ]
     },
     "execution_count": 38,
     "metadata": {},
     "output_type": "execute_result"
    }
   ],
   "source": [
    "train_users[0][:69].flatten()"
   ]
  },
  {
   "cell_type": "code",
   "execution_count": 39,
   "id": "cb4772ce",
   "metadata": {},
   "outputs": [
    {
     "data": {
      "text/plain": [
       "4000"
      ]
     },
     "execution_count": 39,
     "metadata": {},
     "output_type": "execute_result"
    }
   ],
   "source": [
    "len(loss['step'])"
   ]
  },
  {
   "cell_type": "code",
   "execution_count": 48,
   "id": "15471447",
   "metadata": {},
   "outputs": [],
   "source": [
    "loss_df = pd.DataFrame(loss)"
   ]
  },
  {
   "cell_type": "code",
   "execution_count": 49,
   "id": "63a81818",
   "metadata": {},
   "outputs": [
    {
     "data": {
      "text/html": [
       "<div>\n",
       "<style scoped>\n",
       "    .dataframe tbody tr th:only-of-type {\n",
       "        vertical-align: middle;\n",
       "    }\n",
       "\n",
       "    .dataframe tbody tr th {\n",
       "        vertical-align: top;\n",
       "    }\n",
       "\n",
       "    .dataframe thead th {\n",
       "        text-align: right;\n",
       "    }\n",
       "</style>\n",
       "<table border=\"1\" class=\"dataframe\">\n",
       "  <thead>\n",
       "    <tr style=\"text-align: right;\">\n",
       "      <th></th>\n",
       "      <th>loss</th>\n",
       "      <th>step</th>\n",
       "      <th>user</th>\n",
       "      <th>seed</th>\n",
       "    </tr>\n",
       "  </thead>\n",
       "  <tbody>\n",
       "    <tr>\n",
       "      <th>0</th>\n",
       "      <td>1.601677</td>\n",
       "      <td>0</td>\n",
       "      <td>83.0</td>\n",
       "      <td>42</td>\n",
       "    </tr>\n",
       "    <tr>\n",
       "      <th>1</th>\n",
       "      <td>1.608793</td>\n",
       "      <td>0</td>\n",
       "      <td>53.0</td>\n",
       "      <td>42</td>\n",
       "    </tr>\n",
       "    <tr>\n",
       "      <th>2</th>\n",
       "      <td>1.604948</td>\n",
       "      <td>0</td>\n",
       "      <td>70.0</td>\n",
       "      <td>42</td>\n",
       "    </tr>\n",
       "    <tr>\n",
       "      <th>3</th>\n",
       "      <td>1.611738</td>\n",
       "      <td>0</td>\n",
       "      <td>45.0</td>\n",
       "      <td>42</td>\n",
       "    </tr>\n",
       "    <tr>\n",
       "      <th>4</th>\n",
       "      <td>1.610108</td>\n",
       "      <td>0</td>\n",
       "      <td>44.0</td>\n",
       "      <td>42</td>\n",
       "    </tr>\n",
       "    <tr>\n",
       "      <th>...</th>\n",
       "      <td>...</td>\n",
       "      <td>...</td>\n",
       "      <td>...</td>\n",
       "      <td>...</td>\n",
       "    </tr>\n",
       "    <tr>\n",
       "      <th>1375</th>\n",
       "      <td>1.589681</td>\n",
       "      <td>68</td>\n",
       "      <td>19.0</td>\n",
       "      <td>42</td>\n",
       "    </tr>\n",
       "    <tr>\n",
       "      <th>1376</th>\n",
       "      <td>1.614654</td>\n",
       "      <td>68</td>\n",
       "      <td>36.0</td>\n",
       "      <td>42</td>\n",
       "    </tr>\n",
       "    <tr>\n",
       "      <th>1377</th>\n",
       "      <td>1.612467</td>\n",
       "      <td>68</td>\n",
       "      <td>4.0</td>\n",
       "      <td>42</td>\n",
       "    </tr>\n",
       "    <tr>\n",
       "      <th>1378</th>\n",
       "      <td>1.602234</td>\n",
       "      <td>68</td>\n",
       "      <td>48.0</td>\n",
       "      <td>42</td>\n",
       "    </tr>\n",
       "    <tr>\n",
       "      <th>1379</th>\n",
       "      <td>1.616974</td>\n",
       "      <td>68</td>\n",
       "      <td>10.0</td>\n",
       "      <td>42</td>\n",
       "    </tr>\n",
       "  </tbody>\n",
       "</table>\n",
       "<p>1380 rows × 4 columns</p>\n",
       "</div>"
      ],
      "text/plain": [
       "          loss  step  user  seed\n",
       "0     1.601677     0  83.0    42\n",
       "1     1.608793     0  53.0    42\n",
       "2     1.604948     0  70.0    42\n",
       "3     1.611738     0  45.0    42\n",
       "4     1.610108     0  44.0    42\n",
       "...        ...   ...   ...   ...\n",
       "1375  1.589681    68  19.0    42\n",
       "1376  1.614654    68  36.0    42\n",
       "1377  1.612467    68   4.0    42\n",
       "1378  1.602234    68  48.0    42\n",
       "1379  1.616974    68  10.0    42\n",
       "\n",
       "[1380 rows x 4 columns]"
      ]
     },
     "execution_count": 49,
     "metadata": {},
     "output_type": "execute_result"
    }
   ],
   "source": [
    "loss_df = loss_df[loss_df[\"step\"] < 69]\n",
    "loss_df"
   ]
  }
 ],
 "metadata": {
  "kernelspec": {
   "display_name": "Python 3",
   "language": "python",
   "name": "python3"
  },
  "language_info": {
   "codemirror_mode": {
    "name": "ipython",
    "version": 3
   },
   "file_extension": ".py",
   "mimetype": "text/x-python",
   "name": "python",
   "nbconvert_exporter": "python",
   "pygments_lexer": "ipython3",
   "version": "3.8.10"
  }
 },
 "nbformat": 4,
 "nbformat_minor": 5
}
