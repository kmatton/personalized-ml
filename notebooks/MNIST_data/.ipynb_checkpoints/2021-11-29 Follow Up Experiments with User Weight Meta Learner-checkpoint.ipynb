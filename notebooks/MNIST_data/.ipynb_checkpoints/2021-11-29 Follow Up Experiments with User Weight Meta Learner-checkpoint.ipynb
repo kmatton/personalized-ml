{
 "cells": [
  {
   "cell_type": "code",
   "execution_count": 1,
   "id": "5c60b2d1",
   "metadata": {},
   "outputs": [],
   "source": [
    "%load_ext autoreload\n",
    "%autoreload 2"
   ]
  },
  {
   "cell_type": "code",
   "execution_count": 24,
   "id": "402b4202",
   "metadata": {},
   "outputs": [],
   "source": [
    "import json\n",
    "import os\n",
    "\n",
    "import numpy as np\n",
    "import pandas as pd\n",
    "import seaborn as sns\n",
    "sns.set_theme()"
   ]
  },
  {
   "cell_type": "code",
   "execution_count": 5,
   "id": "04284e40",
   "metadata": {},
   "outputs": [],
   "source": [
    "# for global results\n",
    "def collect_results1(base_dir):\n",
    "    collect_results = []\n",
    "    for seed in [42, 43, 44]:\n",
    "        result_dir = os.path.join(base_dir, str(seed))\n",
    "        with open(os.path.join(result_dir, \"user_test_results.json\"), \"rb\") as f:\n",
    "            results = json.load(f)\n",
    "        for user in [1, 2, 3]:\n",
    "            user_acc = results[\"{}_accuracy\".format(user)]\n",
    "            collect_results.append({\"user\": user, \"accuracy\": user_acc, \"seed\": seed})\n",
    "    result_df = pd.DataFrame(collect_results)\n",
    "    return result_df"
   ]
  },
  {
   "cell_type": "code",
   "execution_count": 11,
   "id": "24dd01d0",
   "metadata": {},
   "outputs": [],
   "source": [
    "# for person-specific results\n",
    "def collect_results2(base_dir):\n",
    "    collect_results = []\n",
    "    for user in [1, 2, 3]:\n",
    "        for seed in [42, 43, 44]:\n",
    "            result_dir = os.path.join(base_dir, str(user), str(seed))\n",
    "            with open(os.path.join(result_dir, \"test_results.json\"), \"rb\") as f:\n",
    "                results = json.load(f)\n",
    "            user_acc = results[\"test_accuracy\"]\n",
    "            collect_results.append({\"user\": user, \"accuracy\": user_acc, \"seed\": seed})\n",
    "    result_df = pd.DataFrame(collect_results)\n",
    "    return result_df"
   ]
  },
  {
   "cell_type": "code",
   "execution_count": 15,
   "id": "4b01bb27",
   "metadata": {},
   "outputs": [],
   "source": [
    "# for meta weight learner results\n",
    "def collect_results3(base_dir):\n",
    "    collect_results = []\n",
    "    for seed in [42, 43, 44]:\n",
    "        result_dir = os.path.join(base_dir, str(seed))\n",
    "        with open(os.path.join(result_dir, \"test_results.json\"), \"rb\") as f:\n",
    "            results = json.load(f)\n",
    "        for user in [1, 2, 3]:\n",
    "            user_acc = results[str(user)][\"test_accuracy\"]\n",
    "            collect_results.append({\"user\": user, \"accuracy\": user_acc, \"seed\": seed})\n",
    "    result_df = pd.DataFrame(collect_results)\n",
    "    return result_df"
   ]
  },
  {
   "cell_type": "code",
   "execution_count": 44,
   "id": "90009258",
   "metadata": {},
   "outputs": [],
   "source": [
    "# for meta weight learner - loss curves, weight matrices\n",
    "def collect_results4(base_dir):\n",
    "    collect_losses = {\"loss\": [], \"step\": [], \"user\": [], \"seed\": []}\n",
    "    collect_ws = []\n",
    "    num_users = 3\n",
    "    for seed in [42, 43, 44]:\n",
    "        result_dir = os.path.join(base_dir, str(seed))\n",
    "        user_step_losses = np.load(os.path.join(result_dir, \"step_user_losses.npy\"))\n",
    "        num_steps = len(user_step_losses)\n",
    "        losses_flat = user_step_losses.flatten(order='F')\n",
    "        collect_losses[\"loss\"] += list(losses_flat)\n",
    "        collect_losses[\"step\"] += list(np.array([[np.arange(num_steps)] * num_users]).flatten())\n",
    "        collect_losses[\"user\"] += list(np.array([[\"user_{}\".format(i)] * num_steps for i in range(num_users)]).flatten())\n",
    "        collect_losses[\"seed\"] += [seed] * len(losses_flat)\n",
    "        weight_matrices = np.load(os.path.join(result_dir, \"user_weight_matrices.npy\"))\n",
    "        collect_ws.append(weight_matrices)\n",
    "    return collect_losses, collect_ws"
   ]
  },
  {
   "cell_type": "code",
   "execution_count": 65,
   "id": "d62a20c6",
   "metadata": {},
   "outputs": [],
   "source": [
    "# normalize matrix in the same way that you do in the meta weight trainer code\n",
    "def norm_matrix(matrix):\n",
    "    matrix_norm = matrix.copy()\n",
    "    matrix_norm[matrix_norm < 0] = 0\n",
    "    matrix_norm /= np.max(matrix_norm, axis=1)[:, None]\n",
    "    return matrix_norm"
   ]
  },
  {
   "cell_type": "code",
   "execution_count": 7,
   "id": "154eb72f",
   "metadata": {},
   "outputs": [],
   "source": [
    "data_dir = \"/data/ddmg/redditlanguagemodeling/results/mnist\""
   ]
  },
  {
   "cell_type": "markdown",
   "id": "0b51bd73",
   "metadata": {},
   "source": [
    "## Baselines"
   ]
  },
  {
   "cell_type": "markdown",
   "id": "a80463af",
   "metadata": {},
   "source": [
    "### Global"
   ]
  },
  {
   "cell_type": "code",
   "execution_count": 8,
   "id": "6ceb9c63",
   "metadata": {},
   "outputs": [],
   "source": [
    "global_df = collect_results1(os.path.join(data_dir, \"global_train2\"))"
   ]
  },
  {
   "cell_type": "code",
   "execution_count": 10,
   "id": "c9735c6c",
   "metadata": {},
   "outputs": [
    {
     "data": {
      "text/html": [
       "<div>\n",
       "<style scoped>\n",
       "    .dataframe tbody tr th:only-of-type {\n",
       "        vertical-align: middle;\n",
       "    }\n",
       "\n",
       "    .dataframe tbody tr th {\n",
       "        vertical-align: top;\n",
       "    }\n",
       "\n",
       "    .dataframe thead tr th {\n",
       "        text-align: left;\n",
       "    }\n",
       "\n",
       "    .dataframe thead tr:last-of-type th {\n",
       "        text-align: right;\n",
       "    }\n",
       "</style>\n",
       "<table border=\"1\" class=\"dataframe\">\n",
       "  <thead>\n",
       "    <tr>\n",
       "      <th></th>\n",
       "      <th colspan=\"2\" halign=\"left\">accuracy</th>\n",
       "      <th colspan=\"2\" halign=\"left\">seed</th>\n",
       "    </tr>\n",
       "    <tr>\n",
       "      <th></th>\n",
       "      <th>mean</th>\n",
       "      <th>std</th>\n",
       "      <th>mean</th>\n",
       "      <th>std</th>\n",
       "    </tr>\n",
       "    <tr>\n",
       "      <th>user</th>\n",
       "      <th></th>\n",
       "      <th></th>\n",
       "      <th></th>\n",
       "      <th></th>\n",
       "    </tr>\n",
       "  </thead>\n",
       "  <tbody>\n",
       "    <tr>\n",
       "      <th>1</th>\n",
       "      <td>0.600000</td>\n",
       "      <td>0.104403</td>\n",
       "      <td>43</td>\n",
       "      <td>1.0</td>\n",
       "    </tr>\n",
       "    <tr>\n",
       "      <th>2</th>\n",
       "      <td>0.630000</td>\n",
       "      <td>0.060828</td>\n",
       "      <td>43</td>\n",
       "      <td>1.0</td>\n",
       "    </tr>\n",
       "    <tr>\n",
       "      <th>3</th>\n",
       "      <td>0.393333</td>\n",
       "      <td>0.066583</td>\n",
       "      <td>43</td>\n",
       "      <td>1.0</td>\n",
       "    </tr>\n",
       "  </tbody>\n",
       "</table>\n",
       "</div>"
      ],
      "text/plain": [
       "      accuracy           seed     \n",
       "          mean       std mean  std\n",
       "user                              \n",
       "1     0.600000  0.104403   43  1.0\n",
       "2     0.630000  0.060828   43  1.0\n",
       "3     0.393333  0.066583   43  1.0"
      ]
     },
     "execution_count": 10,
     "metadata": {},
     "output_type": "execute_result"
    }
   ],
   "source": [
    "global_df.groupby(\"user\").agg([\"mean\", \"std\"])"
   ]
  },
  {
   "cell_type": "markdown",
   "id": "c8e0b22d",
   "metadata": {},
   "source": [
    "### Person Specific"
   ]
  },
  {
   "cell_type": "code",
   "execution_count": 12,
   "id": "83b03ed2",
   "metadata": {},
   "outputs": [],
   "source": [
    "person_specific_df = collect_results2(os.path.join(data_dir, \"user_specific_train2\"))"
   ]
  },
  {
   "cell_type": "code",
   "execution_count": 14,
   "id": "e2170570",
   "metadata": {},
   "outputs": [
    {
     "data": {
      "text/html": [
       "<div>\n",
       "<style scoped>\n",
       "    .dataframe tbody tr th:only-of-type {\n",
       "        vertical-align: middle;\n",
       "    }\n",
       "\n",
       "    .dataframe tbody tr th {\n",
       "        vertical-align: top;\n",
       "    }\n",
       "\n",
       "    .dataframe thead th {\n",
       "        text-align: right;\n",
       "    }\n",
       "</style>\n",
       "<table border=\"1\" class=\"dataframe\">\n",
       "  <thead>\n",
       "    <tr style=\"text-align: right;\">\n",
       "      <th></th>\n",
       "      <th>user</th>\n",
       "      <th>accuracy</th>\n",
       "      <th>seed</th>\n",
       "    </tr>\n",
       "  </thead>\n",
       "  <tbody>\n",
       "    <tr>\n",
       "      <th>0</th>\n",
       "      <td>1</td>\n",
       "      <td>1.00</td>\n",
       "      <td>42</td>\n",
       "    </tr>\n",
       "    <tr>\n",
       "      <th>1</th>\n",
       "      <td>1</td>\n",
       "      <td>1.00</td>\n",
       "      <td>43</td>\n",
       "    </tr>\n",
       "    <tr>\n",
       "      <th>2</th>\n",
       "      <td>1</td>\n",
       "      <td>1.00</td>\n",
       "      <td>44</td>\n",
       "    </tr>\n",
       "    <tr>\n",
       "      <th>3</th>\n",
       "      <td>2</td>\n",
       "      <td>1.00</td>\n",
       "      <td>42</td>\n",
       "    </tr>\n",
       "    <tr>\n",
       "      <th>4</th>\n",
       "      <td>2</td>\n",
       "      <td>0.99</td>\n",
       "      <td>43</td>\n",
       "    </tr>\n",
       "    <tr>\n",
       "      <th>5</th>\n",
       "      <td>2</td>\n",
       "      <td>1.00</td>\n",
       "      <td>44</td>\n",
       "    </tr>\n",
       "    <tr>\n",
       "      <th>6</th>\n",
       "      <td>3</td>\n",
       "      <td>1.00</td>\n",
       "      <td>42</td>\n",
       "    </tr>\n",
       "    <tr>\n",
       "      <th>7</th>\n",
       "      <td>3</td>\n",
       "      <td>1.00</td>\n",
       "      <td>43</td>\n",
       "    </tr>\n",
       "    <tr>\n",
       "      <th>8</th>\n",
       "      <td>3</td>\n",
       "      <td>1.00</td>\n",
       "      <td>44</td>\n",
       "    </tr>\n",
       "  </tbody>\n",
       "</table>\n",
       "</div>"
      ],
      "text/plain": [
       "   user  accuracy  seed\n",
       "0     1      1.00    42\n",
       "1     1      1.00    43\n",
       "2     1      1.00    44\n",
       "3     2      1.00    42\n",
       "4     2      0.99    43\n",
       "5     2      1.00    44\n",
       "6     3      1.00    42\n",
       "7     3      1.00    43\n",
       "8     3      1.00    44"
      ]
     },
     "execution_count": 14,
     "metadata": {},
     "output_type": "execute_result"
    }
   ],
   "source": [
    "person_specific_df"
   ]
  },
  {
   "cell_type": "markdown",
   "id": "48aae71a",
   "metadata": {},
   "source": [
    "## My Method"
   ]
  },
  {
   "cell_type": "markdown",
   "id": "4a342540",
   "metadata": {},
   "source": [
    "### Pred LR = 0.001, Meta LR = 0.01 - Random Init of Weight Matrix"
   ]
  },
  {
   "cell_type": "code",
   "execution_count": 19,
   "id": "eaed6167",
   "metadata": {},
   "outputs": [],
   "source": [
    "weight_learner_1 = collect_results3(os.path.join(data_dir, \"user_weight_train_3_seeds\"))"
   ]
  },
  {
   "cell_type": "code",
   "execution_count": 63,
   "id": "b38c45e5",
   "metadata": {},
   "outputs": [
    {
     "data": {
      "text/html": [
       "<div>\n",
       "<style scoped>\n",
       "    .dataframe tbody tr th:only-of-type {\n",
       "        vertical-align: middle;\n",
       "    }\n",
       "\n",
       "    .dataframe tbody tr th {\n",
       "        vertical-align: top;\n",
       "    }\n",
       "\n",
       "    .dataframe thead th {\n",
       "        text-align: right;\n",
       "    }\n",
       "</style>\n",
       "<table border=\"1\" class=\"dataframe\">\n",
       "  <thead>\n",
       "    <tr style=\"text-align: right;\">\n",
       "      <th></th>\n",
       "      <th>user</th>\n",
       "      <th>accuracy</th>\n",
       "      <th>seed</th>\n",
       "    </tr>\n",
       "  </thead>\n",
       "  <tbody>\n",
       "    <tr>\n",
       "      <th>0</th>\n",
       "      <td>1</td>\n",
       "      <td>1.00</td>\n",
       "      <td>42</td>\n",
       "    </tr>\n",
       "    <tr>\n",
       "      <th>1</th>\n",
       "      <td>2</td>\n",
       "      <td>0.94</td>\n",
       "      <td>42</td>\n",
       "    </tr>\n",
       "    <tr>\n",
       "      <th>2</th>\n",
       "      <td>3</td>\n",
       "      <td>1.00</td>\n",
       "      <td>42</td>\n",
       "    </tr>\n",
       "    <tr>\n",
       "      <th>3</th>\n",
       "      <td>1</td>\n",
       "      <td>1.00</td>\n",
       "      <td>43</td>\n",
       "    </tr>\n",
       "    <tr>\n",
       "      <th>4</th>\n",
       "      <td>2</td>\n",
       "      <td>0.99</td>\n",
       "      <td>43</td>\n",
       "    </tr>\n",
       "    <tr>\n",
       "      <th>5</th>\n",
       "      <td>3</td>\n",
       "      <td>1.00</td>\n",
       "      <td>43</td>\n",
       "    </tr>\n",
       "    <tr>\n",
       "      <th>6</th>\n",
       "      <td>1</td>\n",
       "      <td>1.00</td>\n",
       "      <td>44</td>\n",
       "    </tr>\n",
       "    <tr>\n",
       "      <th>7</th>\n",
       "      <td>2</td>\n",
       "      <td>1.00</td>\n",
       "      <td>44</td>\n",
       "    </tr>\n",
       "    <tr>\n",
       "      <th>8</th>\n",
       "      <td>3</td>\n",
       "      <td>1.00</td>\n",
       "      <td>44</td>\n",
       "    </tr>\n",
       "  </tbody>\n",
       "</table>\n",
       "</div>"
      ],
      "text/plain": [
       "   user  accuracy  seed\n",
       "0     1      1.00    42\n",
       "1     2      0.94    42\n",
       "2     3      1.00    42\n",
       "3     1      1.00    43\n",
       "4     2      0.99    43\n",
       "5     3      1.00    43\n",
       "6     1      1.00    44\n",
       "7     2      1.00    44\n",
       "8     3      1.00    44"
      ]
     },
     "execution_count": 63,
     "metadata": {},
     "output_type": "execute_result"
    }
   ],
   "source": [
    "weight_learner_1"
   ]
  },
  {
   "cell_type": "code",
   "execution_count": 22,
   "id": "da05f5ab",
   "metadata": {},
   "outputs": [
    {
     "data": {
      "text/html": [
       "<div>\n",
       "<style scoped>\n",
       "    .dataframe tbody tr th:only-of-type {\n",
       "        vertical-align: middle;\n",
       "    }\n",
       "\n",
       "    .dataframe tbody tr th {\n",
       "        vertical-align: top;\n",
       "    }\n",
       "\n",
       "    .dataframe thead tr th {\n",
       "        text-align: left;\n",
       "    }\n",
       "\n",
       "    .dataframe thead tr:last-of-type th {\n",
       "        text-align: right;\n",
       "    }\n",
       "</style>\n",
       "<table border=\"1\" class=\"dataframe\">\n",
       "  <thead>\n",
       "    <tr>\n",
       "      <th></th>\n",
       "      <th colspan=\"2\" halign=\"left\">accuracy</th>\n",
       "      <th colspan=\"2\" halign=\"left\">seed</th>\n",
       "    </tr>\n",
       "    <tr>\n",
       "      <th></th>\n",
       "      <th>mean</th>\n",
       "      <th>std</th>\n",
       "      <th>mean</th>\n",
       "      <th>std</th>\n",
       "    </tr>\n",
       "    <tr>\n",
       "      <th>user</th>\n",
       "      <th></th>\n",
       "      <th></th>\n",
       "      <th></th>\n",
       "      <th></th>\n",
       "    </tr>\n",
       "  </thead>\n",
       "  <tbody>\n",
       "    <tr>\n",
       "      <th>1</th>\n",
       "      <td>1.000000</td>\n",
       "      <td>0.000000</td>\n",
       "      <td>43</td>\n",
       "      <td>1.0</td>\n",
       "    </tr>\n",
       "    <tr>\n",
       "      <th>2</th>\n",
       "      <td>0.976667</td>\n",
       "      <td>0.032146</td>\n",
       "      <td>43</td>\n",
       "      <td>1.0</td>\n",
       "    </tr>\n",
       "    <tr>\n",
       "      <th>3</th>\n",
       "      <td>1.000000</td>\n",
       "      <td>0.000000</td>\n",
       "      <td>43</td>\n",
       "      <td>1.0</td>\n",
       "    </tr>\n",
       "  </tbody>\n",
       "</table>\n",
       "</div>"
      ],
      "text/plain": [
       "      accuracy           seed     \n",
       "          mean       std mean  std\n",
       "user                              \n",
       "1     1.000000  0.000000   43  1.0\n",
       "2     0.976667  0.032146   43  1.0\n",
       "3     1.000000  0.000000   43  1.0"
      ]
     },
     "execution_count": 22,
     "metadata": {},
     "output_type": "execute_result"
    }
   ],
   "source": [
    "weight_learner_1.groupby(\"user\").agg([\"mean\", \"std\"])"
   ]
  },
  {
   "cell_type": "code",
   "execution_count": 45,
   "id": "bd26264d",
   "metadata": {},
   "outputs": [],
   "source": [
    "step_losses, wms = collect_results4(os.path.join(data_dir, \"user_weight_train_3_seeds\"))"
   ]
  },
  {
   "cell_type": "code",
   "execution_count": 46,
   "id": "4e4268ed",
   "metadata": {},
   "outputs": [],
   "source": [
    "loss_df = pd.DataFrame(step_losses)"
   ]
  },
  {
   "cell_type": "code",
   "execution_count": 47,
   "id": "2f0b0318",
   "metadata": {},
   "outputs": [
    {
     "data": {
      "text/html": [
       "<div>\n",
       "<style scoped>\n",
       "    .dataframe tbody tr th:only-of-type {\n",
       "        vertical-align: middle;\n",
       "    }\n",
       "\n",
       "    .dataframe tbody tr th {\n",
       "        vertical-align: top;\n",
       "    }\n",
       "\n",
       "    .dataframe thead th {\n",
       "        text-align: right;\n",
       "    }\n",
       "</style>\n",
       "<table border=\"1\" class=\"dataframe\">\n",
       "  <thead>\n",
       "    <tr style=\"text-align: right;\">\n",
       "      <th></th>\n",
       "      <th>loss</th>\n",
       "      <th>step</th>\n",
       "      <th>user</th>\n",
       "      <th>seed</th>\n",
       "    </tr>\n",
       "  </thead>\n",
       "  <tbody>\n",
       "    <tr>\n",
       "      <th>0</th>\n",
       "      <td>0.776457</td>\n",
       "      <td>0</td>\n",
       "      <td>user_0</td>\n",
       "      <td>42</td>\n",
       "    </tr>\n",
       "    <tr>\n",
       "      <th>1</th>\n",
       "      <td>0.551165</td>\n",
       "      <td>1</td>\n",
       "      <td>user_0</td>\n",
       "      <td>42</td>\n",
       "    </tr>\n",
       "    <tr>\n",
       "      <th>2</th>\n",
       "      <td>0.769831</td>\n",
       "      <td>2</td>\n",
       "      <td>user_0</td>\n",
       "      <td>42</td>\n",
       "    </tr>\n",
       "    <tr>\n",
       "      <th>3</th>\n",
       "      <td>0.570298</td>\n",
       "      <td>3</td>\n",
       "      <td>user_0</td>\n",
       "      <td>42</td>\n",
       "    </tr>\n",
       "    <tr>\n",
       "      <th>4</th>\n",
       "      <td>0.509930</td>\n",
       "      <td>4</td>\n",
       "      <td>user_0</td>\n",
       "      <td>42</td>\n",
       "    </tr>\n",
       "    <tr>\n",
       "      <th>...</th>\n",
       "      <td>...</td>\n",
       "      <td>...</td>\n",
       "      <td>...</td>\n",
       "      <td>...</td>\n",
       "    </tr>\n",
       "    <tr>\n",
       "      <th>895</th>\n",
       "      <td>0.056149</td>\n",
       "      <td>95</td>\n",
       "      <td>user_2</td>\n",
       "      <td>44</td>\n",
       "    </tr>\n",
       "    <tr>\n",
       "      <th>896</th>\n",
       "      <td>0.048177</td>\n",
       "      <td>96</td>\n",
       "      <td>user_2</td>\n",
       "      <td>44</td>\n",
       "    </tr>\n",
       "    <tr>\n",
       "      <th>897</th>\n",
       "      <td>0.041327</td>\n",
       "      <td>97</td>\n",
       "      <td>user_2</td>\n",
       "      <td>44</td>\n",
       "    </tr>\n",
       "    <tr>\n",
       "      <th>898</th>\n",
       "      <td>0.005041</td>\n",
       "      <td>98</td>\n",
       "      <td>user_2</td>\n",
       "      <td>44</td>\n",
       "    </tr>\n",
       "    <tr>\n",
       "      <th>899</th>\n",
       "      <td>0.019609</td>\n",
       "      <td>99</td>\n",
       "      <td>user_2</td>\n",
       "      <td>44</td>\n",
       "    </tr>\n",
       "  </tbody>\n",
       "</table>\n",
       "<p>900 rows × 4 columns</p>\n",
       "</div>"
      ],
      "text/plain": [
       "         loss  step    user  seed\n",
       "0    0.776457     0  user_0    42\n",
       "1    0.551165     1  user_0    42\n",
       "2    0.769831     2  user_0    42\n",
       "3    0.570298     3  user_0    42\n",
       "4    0.509930     4  user_0    42\n",
       "..        ...   ...     ...   ...\n",
       "895  0.056149    95  user_2    44\n",
       "896  0.048177    96  user_2    44\n",
       "897  0.041327    97  user_2    44\n",
       "898  0.005041    98  user_2    44\n",
       "899  0.019609    99  user_2    44\n",
       "\n",
       "[900 rows x 4 columns]"
      ]
     },
     "execution_count": 47,
     "metadata": {},
     "output_type": "execute_result"
    }
   ],
   "source": [
    "loss_df"
   ]
  },
  {
   "cell_type": "code",
   "execution_count": 48,
   "id": "3f9e8f80",
   "metadata": {},
   "outputs": [
    {
     "data": {
      "text/plain": [
       "<AxesSubplot:xlabel='step', ylabel='loss'>"
      ]
     },
     "execution_count": 48,
     "metadata": {},
     "output_type": "execute_result"
    },
    {
     "data": {
      "image/png": "[encoded data removed]",
      "text/plain": [
       "<Figure size 432x288 with 1 Axes>"
      ]
     },
     "metadata": {},
     "output_type": "display_data"
    }
   ],
   "source": [
    "sns.lineplot(data=loss_df, x=\"step\", y=\"loss\", hue=\"user\")"
   ]
  },
  {
   "cell_type": "code",
   "execution_count": 57,
   "id": "12522509",
   "metadata": {},
   "outputs": [],
   "source": [
    "matrix1 = wms[0][-1]"
   ]
  },
  {
   "cell_type": "code",
   "execution_count": 58,
   "id": "9d0543b8",
   "metadata": {},
   "outputs": [
    {
     "data": {
      "text/plain": [
       "array([[0.93296593, 0.30861318, 0.        ],\n",
       "       [0.35019764, 0.41852516, 0.11755605],\n",
       "       [0.        , 0.        , 1.04693258]])"
      ]
     },
     "execution_count": 58,
     "metadata": {},
     "output_type": "execute_result"
    }
   ],
   "source": [
    "matrix1"
   ]
  },
  {
   "cell_type": "code",
   "execution_count": 59,
   "id": "12bc37e8",
   "metadata": {},
   "outputs": [
    {
     "data": {
      "text/plain": [
       "array([[1.        , 0.33078719, 0.        ],\n",
       "       [0.83674215, 1.        , 0.28088168],\n",
       "       [0.        , 0.        , 1.        ]])"
      ]
     },
     "execution_count": 59,
     "metadata": {},
     "output_type": "execute_result"
    }
   ],
   "source": [
    "matrix1_norm = matrix1.copy()\n",
    "matrix1_norm[matrix1_norm < 0] = 0\n",
    "matrix1_norm /= np.max(matrix1_norm, axis=1)[:, None]\n",
    "matrix1_norm"
   ]
  },
  {
   "cell_type": "code",
   "execution_count": 52,
   "id": "a6bbaee8",
   "metadata": {},
   "outputs": [
    {
     "data": {
      "text/plain": [
       "<AxesSubplot:>"
      ]
     },
     "execution_count": 52,
     "metadata": {},
     "output_type": "execute_result"
    },
    {
     "data": {
      "image/png": "[encoded data removed]",
      "text/plain": [
       "<Figure size 432x288 with 2 Axes>"
      ]
     },
     "metadata": {},
     "output_type": "display_data"
    }
   ],
   "source": [
    "sns.heatmap(wms[0][-1])"
   ]
  },
  {
   "cell_type": "code",
   "execution_count": 64,
   "id": "f6502c10",
   "metadata": {},
   "outputs": [
    {
     "data": {
      "text/plain": [
       "<AxesSubplot:>"
      ]
     },
     "execution_count": 64,
     "metadata": {},
     "output_type": "execute_result"
    },
    {
     "data": {
      "image/png": "[encoded data removed]",
      "text/plain": [
       "<Figure size 432x288 with 2 Axes>"
      ]
     },
     "metadata": {},
     "output_type": "display_data"
    }
   ],
   "source": [
    "sns.heatmap(matrix1_norm, annot=True)"
   ]
  },
  {
   "cell_type": "code",
   "execution_count": 73,
   "id": "c7694c45",
   "metadata": {},
   "outputs": [
    {
     "data": {
      "text/plain": [
       "array([[0.61295986, 0.01005884, 0.39841369],\n",
       "       [0.0403084 , 0.15626675, 0.48247308],\n",
       "       [0.7362473 , 0.40598196, 0.51889962]])"
      ]
     },
     "execution_count": 73,
     "metadata": {},
     "output_type": "execute_result"
    }
   ],
   "source": [
    "matrix1_init = wms[0][0]\n",
    "matrix1_init"
   ]
  },
  {
   "cell_type": "code",
   "execution_count": 74,
   "id": "bd725b13",
   "metadata": {},
   "outputs": [
    {
     "data": {
      "text/plain": [
       "array([[1.        , 0.01641028, 0.64998332],\n",
       "       [0.08354538, 0.32388698, 1.        ],\n",
       "       [1.        , 0.55142064, 0.70478984]])"
      ]
     },
     "execution_count": 74,
     "metadata": {},
     "output_type": "execute_result"
    }
   ],
   "source": [
    "matrix1_init_norm = norm_matrix(matrix1_init)\n",
    "matrix1_init_norm"
   ]
  },
  {
   "cell_type": "code",
   "execution_count": 75,
   "id": "f6d694ec",
   "metadata": {},
   "outputs": [
    {
     "data": {
      "text/plain": [
       "<AxesSubplot:>"
      ]
     },
     "execution_count": 75,
     "metadata": {},
     "output_type": "execute_result"
    },
    {
     "data": {
      "image/png": "[encoded data removed]",
      "text/plain": [
       "<Figure size 432x288 with 2 Axes>"
      ]
     },
     "metadata": {},
     "output_type": "display_data"
    }
   ],
   "source": [
    "sns.heatmap(matrix1_init_norm, annot=True)"
   ]
  },
  {
   "cell_type": "code",
   "execution_count": 62,
   "id": "89792a13",
   "metadata": {},
   "outputs": [
    {
     "data": {
      "text/plain": [
       "array([[ 0.33528742,  0.25505248, -0.11313765],\n",
       "       [ 0.37216303,  0.57400209, -0.11387186],\n",
       "       [-0.12222081, -0.08453915,  0.64352041]])"
      ]
     },
     "execution_count": 62,
     "metadata": {},
     "output_type": "execute_result"
    }
   ],
   "source": [
    "matrix2 = wms[1][-1]\n",
    "matrix2"
   ]
  },
  {
   "cell_type": "code",
   "execution_count": 66,
   "id": "a8ffc093",
   "metadata": {},
   "outputs": [],
   "source": [
    "matrix2_norm = norm_matrix(matrix2)"
   ]
  },
  {
   "cell_type": "code",
   "execution_count": 67,
   "id": "81de5584",
   "metadata": {},
   "outputs": [
    {
     "data": {
      "text/plain": [
       "array([[1.        , 0.76069802, 0.        ],\n",
       "       [0.64836529, 1.        , 0.        ],\n",
       "       [0.        , 0.        , 1.        ]])"
      ]
     },
     "execution_count": 67,
     "metadata": {},
     "output_type": "execute_result"
    }
   ],
   "source": [
    "matrix2_norm"
   ]
  },
  {
   "cell_type": "code",
   "execution_count": 68,
   "id": "0d4f2af6",
   "metadata": {},
   "outputs": [
    {
     "data": {
      "text/plain": [
       "<AxesSubplot:>"
      ]
     },
     "execution_count": 68,
     "metadata": {},
     "output_type": "execute_result"
    },
    {
     "data": {
      "image/png": "[encoded data removed]",
      "text/plain": [
       "<Figure size 432x288 with 2 Axes>"
      ]
     },
     "metadata": {},
     "output_type": "display_data"
    }
   ],
   "source": [
    "sns.heatmap(matrix2_norm, annot=True)"
   ]
  },
  {
   "cell_type": "code",
   "execution_count": 76,
   "id": "2887da64",
   "metadata": {},
   "outputs": [
    {
     "data": {
      "text/plain": [
       "array([[0.122981  , 0.04681921, 0.27140823],\n",
       "       [0.12235877, 0.3206709 , 0.27546573],\n",
       "       [0.2912581 , 0.08825451, 0.3614119 ]])"
      ]
     },
     "execution_count": 76,
     "metadata": {},
     "output_type": "execute_result"
    }
   ],
   "source": [
    "matrix2_init = wms[1][0]\n",
    "matrix2_init"
   ]
  },
  {
   "cell_type": "code",
   "execution_count": 78,
   "id": "14e6fb01",
   "metadata": {},
   "outputs": [
    {
     "data": {
      "text/plain": [
       "array([[0.45312187, 0.17250475, 1.        ],\n",
       "       [0.38157116, 1.        , 0.85902938],\n",
       "       [0.80588962, 0.24419371, 1.        ]])"
      ]
     },
     "execution_count": 78,
     "metadata": {},
     "output_type": "execute_result"
    }
   ],
   "source": [
    "matrix2_init_norm = norm_matrix(matrix2_init)\n",
    "matrix2_init_norm"
   ]
  },
  {
   "cell_type": "code",
   "execution_count": 79,
   "id": "256a8c6f",
   "metadata": {},
   "outputs": [
    {
     "data": {
      "text/plain": [
       "<AxesSubplot:>"
      ]
     },
     "execution_count": 79,
     "metadata": {},
     "output_type": "execute_result"
    },
    {
     "data": {
      "image/png": "[encoded data removed]",
      "text/plain": [
       "<Figure size 432x288 with 2 Axes>"
      ]
     },
     "metadata": {},
     "output_type": "display_data"
    }
   ],
   "source": [
    "sns.heatmap(matrix2_init_norm, annot=True)"
   ]
  },
  {
   "cell_type": "code",
   "execution_count": 70,
   "id": "f3881772",
   "metadata": {},
   "outputs": [
    {
     "data": {
      "text/plain": [
       "array([[ 0.86169612,  0.8616454 , -0.11206988],\n",
       "       [ 0.94214141,  0.85103786, -0.08166243],\n",
       "       [-0.0888683 , -0.08036063,  1.47046721]])"
      ]
     },
     "execution_count": 70,
     "metadata": {},
     "output_type": "execute_result"
    }
   ],
   "source": [
    "matrix3 = wms[2][-1]\n",
    "matrix3"
   ]
  },
  {
   "cell_type": "code",
   "execution_count": 71,
   "id": "41dd697e",
   "metadata": {},
   "outputs": [
    {
     "data": {
      "text/plain": [
       "array([[1.        , 0.99994114, 0.        ],\n",
       "       [1.        , 0.90330161, 0.        ],\n",
       "       [0.        , 0.        , 1.        ]])"
      ]
     },
     "execution_count": 71,
     "metadata": {},
     "output_type": "execute_result"
    }
   ],
   "source": [
    "matrix3_norm = norm_matrix(matrix3)\n",
    "matrix3_norm"
   ]
  },
  {
   "cell_type": "code",
   "execution_count": 72,
   "id": "b069eb2b",
   "metadata": {},
   "outputs": [
    {
     "data": {
      "text/plain": [
       "<AxesSubplot:>"
      ]
     },
     "execution_count": 72,
     "metadata": {},
     "output_type": "execute_result"
    },
    {
     "data": {
      "image/png": "[encoded data removed]",
      "text/plain": [
       "<Figure size 432x288 with 2 Axes>"
      ]
     },
     "metadata": {},
     "output_type": "display_data"
    }
   ],
   "source": [
    "sns.heatmap(matrix3_norm, annot=True)"
   ]
  },
  {
   "cell_type": "code",
   "execution_count": 103,
   "id": "023cb033",
   "metadata": {},
   "outputs": [
    {
     "data": {
      "text/plain": [
       "array([[0.6456151 , 0.5789488 , 0.24842276],\n",
       "       [0.48183164, 0.25977281, 0.90449804],\n",
       "       [0.90897799, 0.79268444, 0.85381562]])"
      ]
     },
     "execution_count": 103,
     "metadata": {},
     "output_type": "execute_result"
    }
   ],
   "source": [
    "matrix3_init = wms[2][0]\n",
    "matrix3_init"
   ]
  },
  {
   "cell_type": "code",
   "execution_count": 104,
   "id": "e6b1f221",
   "metadata": {},
   "outputs": [
    {
     "data": {
      "text/plain": [
       "array([[1.        , 0.89673986, 0.38478461],\n",
       "       [0.53270612, 0.28720107, 1.        ],\n",
       "       [1.        , 0.8720612 , 0.93931385]])"
      ]
     },
     "execution_count": 104,
     "metadata": {},
     "output_type": "execute_result"
    }
   ],
   "source": [
    "matrix3_init_norm = norm_matrix(matrix3_init)\n",
    "matrix3_init_norm"
   ]
  },
  {
   "cell_type": "code",
   "execution_count": 105,
   "id": "1954a7f9",
   "metadata": {},
   "outputs": [
    {
     "data": {
      "text/plain": [
       "<AxesSubplot:>"
      ]
     },
     "execution_count": 105,
     "metadata": {},
     "output_type": "execute_result"
    },
    {
     "data": {
      "image/png": "[encoded data removed]",
      "text/plain": [
       "<Figure size 432x288 with 2 Axes>"
      ]
     },
     "metadata": {},
     "output_type": "display_data"
    }
   ],
   "source": [
    "sns.heatmap(matrix3_init_norm, annot=True)"
   ]
  },
  {
   "cell_type": "markdown",
   "id": "ddc4c817",
   "metadata": {},
   "source": [
    "### Pred LR = 0.001, Meta LR = 0.01 - Uniform Init of Weight Matrix"
   ]
  },
  {
   "cell_type": "code",
   "execution_count": 84,
   "id": "e9097d23",
   "metadata": {},
   "outputs": [],
   "source": [
    "weight_learner_2 = collect_results3(os.path.join(data_dir, \"user_weight_train_uniform_init\"))"
   ]
  },
  {
   "cell_type": "code",
   "execution_count": 85,
   "id": "3080131a",
   "metadata": {},
   "outputs": [
    {
     "data": {
      "text/html": [
       "<div>\n",
       "<style scoped>\n",
       "    .dataframe tbody tr th:only-of-type {\n",
       "        vertical-align: middle;\n",
       "    }\n",
       "\n",
       "    .dataframe tbody tr th {\n",
       "        vertical-align: top;\n",
       "    }\n",
       "\n",
       "    .dataframe thead th {\n",
       "        text-align: right;\n",
       "    }\n",
       "</style>\n",
       "<table border=\"1\" class=\"dataframe\">\n",
       "  <thead>\n",
       "    <tr style=\"text-align: right;\">\n",
       "      <th></th>\n",
       "      <th>user</th>\n",
       "      <th>accuracy</th>\n",
       "      <th>seed</th>\n",
       "    </tr>\n",
       "  </thead>\n",
       "  <tbody>\n",
       "    <tr>\n",
       "      <th>0</th>\n",
       "      <td>1</td>\n",
       "      <td>1.00</td>\n",
       "      <td>42</td>\n",
       "    </tr>\n",
       "    <tr>\n",
       "      <th>1</th>\n",
       "      <td>2</td>\n",
       "      <td>0.99</td>\n",
       "      <td>42</td>\n",
       "    </tr>\n",
       "    <tr>\n",
       "      <th>2</th>\n",
       "      <td>3</td>\n",
       "      <td>0.93</td>\n",
       "      <td>42</td>\n",
       "    </tr>\n",
       "    <tr>\n",
       "      <th>3</th>\n",
       "      <td>1</td>\n",
       "      <td>0.99</td>\n",
       "      <td>43</td>\n",
       "    </tr>\n",
       "    <tr>\n",
       "      <th>4</th>\n",
       "      <td>2</td>\n",
       "      <td>0.98</td>\n",
       "      <td>43</td>\n",
       "    </tr>\n",
       "    <tr>\n",
       "      <th>5</th>\n",
       "      <td>3</td>\n",
       "      <td>0.98</td>\n",
       "      <td>43</td>\n",
       "    </tr>\n",
       "    <tr>\n",
       "      <th>6</th>\n",
       "      <td>1</td>\n",
       "      <td>1.00</td>\n",
       "      <td>44</td>\n",
       "    </tr>\n",
       "    <tr>\n",
       "      <th>7</th>\n",
       "      <td>2</td>\n",
       "      <td>0.99</td>\n",
       "      <td>44</td>\n",
       "    </tr>\n",
       "    <tr>\n",
       "      <th>8</th>\n",
       "      <td>3</td>\n",
       "      <td>0.99</td>\n",
       "      <td>44</td>\n",
       "    </tr>\n",
       "  </tbody>\n",
       "</table>\n",
       "</div>"
      ],
      "text/plain": [
       "   user  accuracy  seed\n",
       "0     1      1.00    42\n",
       "1     2      0.99    42\n",
       "2     3      0.93    42\n",
       "3     1      0.99    43\n",
       "4     2      0.98    43\n",
       "5     3      0.98    43\n",
       "6     1      1.00    44\n",
       "7     2      0.99    44\n",
       "8     3      0.99    44"
      ]
     },
     "execution_count": 85,
     "metadata": {},
     "output_type": "execute_result"
    }
   ],
   "source": [
    "weight_learner_2"
   ]
  },
  {
   "cell_type": "code",
   "execution_count": 92,
   "id": "4c67ae55",
   "metadata": {},
   "outputs": [
    {
     "data": {
      "text/html": [
       "<div>\n",
       "<style scoped>\n",
       "    .dataframe tbody tr th:only-of-type {\n",
       "        vertical-align: middle;\n",
       "    }\n",
       "\n",
       "    .dataframe tbody tr th {\n",
       "        vertical-align: top;\n",
       "    }\n",
       "\n",
       "    .dataframe thead tr th {\n",
       "        text-align: left;\n",
       "    }\n",
       "\n",
       "    .dataframe thead tr:last-of-type th {\n",
       "        text-align: right;\n",
       "    }\n",
       "</style>\n",
       "<table border=\"1\" class=\"dataframe\">\n",
       "  <thead>\n",
       "    <tr>\n",
       "      <th></th>\n",
       "      <th colspan=\"2\" halign=\"left\">accuracy</th>\n",
       "      <th colspan=\"2\" halign=\"left\">seed</th>\n",
       "    </tr>\n",
       "    <tr>\n",
       "      <th></th>\n",
       "      <th>mean</th>\n",
       "      <th>std</th>\n",
       "      <th>mean</th>\n",
       "      <th>std</th>\n",
       "    </tr>\n",
       "    <tr>\n",
       "      <th>user</th>\n",
       "      <th></th>\n",
       "      <th></th>\n",
       "      <th></th>\n",
       "      <th></th>\n",
       "    </tr>\n",
       "  </thead>\n",
       "  <tbody>\n",
       "    <tr>\n",
       "      <th>1</th>\n",
       "      <td>0.996667</td>\n",
       "      <td>0.005773</td>\n",
       "      <td>43</td>\n",
       "      <td>1.0</td>\n",
       "    </tr>\n",
       "    <tr>\n",
       "      <th>2</th>\n",
       "      <td>0.986667</td>\n",
       "      <td>0.005773</td>\n",
       "      <td>43</td>\n",
       "      <td>1.0</td>\n",
       "    </tr>\n",
       "    <tr>\n",
       "      <th>3</th>\n",
       "      <td>0.966667</td>\n",
       "      <td>0.032146</td>\n",
       "      <td>43</td>\n",
       "      <td>1.0</td>\n",
       "    </tr>\n",
       "  </tbody>\n",
       "</table>\n",
       "</div>"
      ],
      "text/plain": [
       "      accuracy           seed     \n",
       "          mean       std mean  std\n",
       "user                              \n",
       "1     0.996667  0.005773   43  1.0\n",
       "2     0.986667  0.005773   43  1.0\n",
       "3     0.966667  0.032146   43  1.0"
      ]
     },
     "execution_count": 92,
     "metadata": {},
     "output_type": "execute_result"
    }
   ],
   "source": [
    "weight_learner_2.groupby(\"user\").agg([\"mean\", \"std\"])"
   ]
  },
  {
   "cell_type": "code",
   "execution_count": 94,
   "id": "a3f97819",
   "metadata": {},
   "outputs": [],
   "source": [
    "step_losses2, wms2 = collect_results4(os.path.join(data_dir, \"user_weight_train_uniform_init\"))"
   ]
  },
  {
   "cell_type": "code",
   "execution_count": 95,
   "id": "fad754c9",
   "metadata": {},
   "outputs": [],
   "source": [
    "loss_df2 = pd.DataFrame(step_losses2)"
   ]
  },
  {
   "cell_type": "code",
   "execution_count": 96,
   "id": "e3de1989",
   "metadata": {},
   "outputs": [
    {
     "data": {
      "text/plain": [
       "<AxesSubplot:xlabel='step', ylabel='loss'>"
      ]
     },
     "execution_count": 96,
     "metadata": {},
     "output_type": "execute_result"
    },
    {
     "data": {
      "image/png": "[encoded data removed]",
      "text/plain": [
       "<Figure size 432x288 with 1 Axes>"
      ]
     },
     "metadata": {},
     "output_type": "display_data"
    }
   ],
   "source": [
    "sns.lineplot(data=loss_df2, x=\"step\", y=\"loss\", hue=\"user\")"
   ]
  },
  {
   "cell_type": "code",
   "execution_count": 97,
   "id": "053e1ccb",
   "metadata": {},
   "outputs": [
    {
     "data": {
      "text/plain": [
       "array([[ 1.54743755,  1.53336692,  0.10752144],\n",
       "       [ 1.52671957,  1.37741256,  0.12424018],\n",
       "       [-0.06697737,  0.15902343,  1.71225536]])"
      ]
     },
     "execution_count": 97,
     "metadata": {},
     "output_type": "execute_result"
    }
   ],
   "source": [
    "wms2[0][-1]"
   ]
  },
  {
   "cell_type": "code",
   "execution_count": 98,
   "id": "9b3157a4",
   "metadata": {},
   "outputs": [
    {
     "data": {
      "text/plain": [
       "<AxesSubplot:>"
      ]
     },
     "execution_count": 98,
     "metadata": {},
     "output_type": "execute_result"
    },
    {
     "data": {
      "image/png": "[encoded data removed]",
      "text/plain": [
       "<Figure size 432x288 with 2 Axes>"
      ]
     },
     "metadata": {},
     "output_type": "display_data"
    }
   ],
   "source": [
    "n1 = norm_matrix(wms2[0][-1])\n",
    "sns.heatmap(n1, annot=True)"
   ]
  },
  {
   "cell_type": "code",
   "execution_count": 99,
   "id": "e7c9780c",
   "metadata": {},
   "outputs": [
    {
     "data": {
      "text/plain": [
       "array([[ 1.5411855 ,  1.58720779,  0.15044583],\n",
       "       [ 1.61926615,  1.63908589,  0.2180548 ],\n",
       "       [-0.04491028,  0.03366767,  1.70034266]])"
      ]
     },
     "execution_count": 99,
     "metadata": {},
     "output_type": "execute_result"
    }
   ],
   "source": [
    "wms2[1][-1]"
   ]
  },
  {
   "cell_type": "code",
   "execution_count": 101,
   "id": "73a8ab23",
   "metadata": {},
   "outputs": [
    {
     "data": {
      "text/plain": [
       "<AxesSubplot:>"
      ]
     },
     "execution_count": 101,
     "metadata": {},
     "output_type": "execute_result"
    },
    {
     "data": {
      "image/png": "[encoded data removed]",
      "text/plain": [
       "<Figure size 432x288 with 2 Axes>"
      ]
     },
     "metadata": {},
     "output_type": "display_data"
    }
   ],
   "source": [
    "n2 = norm_matrix(wms2[1][-1])\n",
    "sns.heatmap(n2, annot=True)"
   ]
  },
  {
   "cell_type": "code",
   "execution_count": 102,
   "id": "1b55533f",
   "metadata": {},
   "outputs": [
    {
     "data": {
      "text/plain": [
       "array([[1.52717388, 1.54906487, 0.1030644 ],\n",
       "       [1.59977782, 1.6072619 , 0.07832868],\n",
       "       [0.00798947, 0.04085099, 1.69232738]])"
      ]
     },
     "execution_count": 102,
     "metadata": {},
     "output_type": "execute_result"
    }
   ],
   "source": [
    "wms2[2][-1]"
   ]
  },
  {
   "cell_type": "code",
   "execution_count": 106,
   "id": "46f092a9",
   "metadata": {},
   "outputs": [
    {
     "data": {
      "text/plain": [
       "<AxesSubplot:>"
      ]
     },
     "execution_count": 106,
     "metadata": {},
     "output_type": "execute_result"
    },
    {
     "data": {
      "image/png": "[encoded data removed]",
      "text/plain": [
       "<Figure size 432x288 with 2 Axes>"
      ]
     },
     "metadata": {},
     "output_type": "display_data"
    }
   ],
   "source": [
    "n3 = norm_matrix(wms2[2][-1])\n",
    "sns.heatmap(n3, annot=True)"
   ]
  },
  {
   "cell_type": "markdown",
   "id": "a1cd41b7",
   "metadata": {},
   "source": [
    "### Pred LR = 0.001, Meta LR = 0.01 - Uniform Init of Weight Matrix Max 200 steps"
   ]
  },
  {
   "cell_type": "code",
   "execution_count": 107,
   "id": "f2d270b9",
   "metadata": {},
   "outputs": [],
   "source": [
    "weight_learner_3 = collect_results3(os.path.join(data_dir, \"user_weight_train_uniform_init_200_steps\"))"
   ]
  },
  {
   "cell_type": "code",
   "execution_count": 108,
   "id": "defcf0f6",
   "metadata": {},
   "outputs": [
    {
     "data": {
      "text/html": [
       "<div>\n",
       "<style scoped>\n",
       "    .dataframe tbody tr th:only-of-type {\n",
       "        vertical-align: middle;\n",
       "    }\n",
       "\n",
       "    .dataframe tbody tr th {\n",
       "        vertical-align: top;\n",
       "    }\n",
       "\n",
       "    .dataframe thead th {\n",
       "        text-align: right;\n",
       "    }\n",
       "</style>\n",
       "<table border=\"1\" class=\"dataframe\">\n",
       "  <thead>\n",
       "    <tr style=\"text-align: right;\">\n",
       "      <th></th>\n",
       "      <th>user</th>\n",
       "      <th>accuracy</th>\n",
       "      <th>seed</th>\n",
       "    </tr>\n",
       "  </thead>\n",
       "  <tbody>\n",
       "    <tr>\n",
       "      <th>0</th>\n",
       "      <td>1</td>\n",
       "      <td>1.00</td>\n",
       "      <td>42</td>\n",
       "    </tr>\n",
       "    <tr>\n",
       "      <th>1</th>\n",
       "      <td>2</td>\n",
       "      <td>1.00</td>\n",
       "      <td>42</td>\n",
       "    </tr>\n",
       "    <tr>\n",
       "      <th>2</th>\n",
       "      <td>3</td>\n",
       "      <td>1.00</td>\n",
       "      <td>42</td>\n",
       "    </tr>\n",
       "    <tr>\n",
       "      <th>3</th>\n",
       "      <td>1</td>\n",
       "      <td>1.00</td>\n",
       "      <td>43</td>\n",
       "    </tr>\n",
       "    <tr>\n",
       "      <th>4</th>\n",
       "      <td>2</td>\n",
       "      <td>1.00</td>\n",
       "      <td>43</td>\n",
       "    </tr>\n",
       "    <tr>\n",
       "      <th>5</th>\n",
       "      <td>3</td>\n",
       "      <td>1.00</td>\n",
       "      <td>43</td>\n",
       "    </tr>\n",
       "    <tr>\n",
       "      <th>6</th>\n",
       "      <td>1</td>\n",
       "      <td>0.99</td>\n",
       "      <td>44</td>\n",
       "    </tr>\n",
       "    <tr>\n",
       "      <th>7</th>\n",
       "      <td>2</td>\n",
       "      <td>1.00</td>\n",
       "      <td>44</td>\n",
       "    </tr>\n",
       "    <tr>\n",
       "      <th>8</th>\n",
       "      <td>3</td>\n",
       "      <td>1.00</td>\n",
       "      <td>44</td>\n",
       "    </tr>\n",
       "  </tbody>\n",
       "</table>\n",
       "</div>"
      ],
      "text/plain": [
       "   user  accuracy  seed\n",
       "0     1      1.00    42\n",
       "1     2      1.00    42\n",
       "2     3      1.00    42\n",
       "3     1      1.00    43\n",
       "4     2      1.00    43\n",
       "5     3      1.00    43\n",
       "6     1      0.99    44\n",
       "7     2      1.00    44\n",
       "8     3      1.00    44"
      ]
     },
     "execution_count": 108,
     "metadata": {},
     "output_type": "execute_result"
    }
   ],
   "source": [
    "weight_learner_3"
   ]
  },
  {
   "cell_type": "code",
   "execution_count": 109,
   "id": "538a8474",
   "metadata": {},
   "outputs": [
    {
     "data": {
      "text/html": [
       "<div>\n",
       "<style scoped>\n",
       "    .dataframe tbody tr th:only-of-type {\n",
       "        vertical-align: middle;\n",
       "    }\n",
       "\n",
       "    .dataframe tbody tr th {\n",
       "        vertical-align: top;\n",
       "    }\n",
       "\n",
       "    .dataframe thead tr th {\n",
       "        text-align: left;\n",
       "    }\n",
       "\n",
       "    .dataframe thead tr:last-of-type th {\n",
       "        text-align: right;\n",
       "    }\n",
       "</style>\n",
       "<table border=\"1\" class=\"dataframe\">\n",
       "  <thead>\n",
       "    <tr>\n",
       "      <th></th>\n",
       "      <th colspan=\"2\" halign=\"left\">accuracy</th>\n",
       "      <th colspan=\"2\" halign=\"left\">seed</th>\n",
       "    </tr>\n",
       "    <tr>\n",
       "      <th></th>\n",
       "      <th>mean</th>\n",
       "      <th>std</th>\n",
       "      <th>mean</th>\n",
       "      <th>std</th>\n",
       "    </tr>\n",
       "    <tr>\n",
       "      <th>user</th>\n",
       "      <th></th>\n",
       "      <th></th>\n",
       "      <th></th>\n",
       "      <th></th>\n",
       "    </tr>\n",
       "  </thead>\n",
       "  <tbody>\n",
       "    <tr>\n",
       "      <th>1</th>\n",
       "      <td>0.996667</td>\n",
       "      <td>0.005773</td>\n",
       "      <td>43</td>\n",
       "      <td>1.0</td>\n",
       "    </tr>\n",
       "    <tr>\n",
       "      <th>2</th>\n",
       "      <td>1.000000</td>\n",
       "      <td>0.000000</td>\n",
       "      <td>43</td>\n",
       "      <td>1.0</td>\n",
       "    </tr>\n",
       "    <tr>\n",
       "      <th>3</th>\n",
       "      <td>1.000000</td>\n",
       "      <td>0.000000</td>\n",
       "      <td>43</td>\n",
       "      <td>1.0</td>\n",
       "    </tr>\n",
       "  </tbody>\n",
       "</table>\n",
       "</div>"
      ],
      "text/plain": [
       "      accuracy           seed     \n",
       "          mean       std mean  std\n",
       "user                              \n",
       "1     0.996667  0.005773   43  1.0\n",
       "2     1.000000  0.000000   43  1.0\n",
       "3     1.000000  0.000000   43  1.0"
      ]
     },
     "execution_count": 109,
     "metadata": {},
     "output_type": "execute_result"
    }
   ],
   "source": [
    "weight_learner_3.groupby(\"user\").agg([\"mean\", \"std\"])"
   ]
  },
  {
   "cell_type": "code",
   "execution_count": 110,
   "id": "fd82c130",
   "metadata": {},
   "outputs": [],
   "source": [
    "step_losses3, wms3 = collect_results4(os.path.join(data_dir, \"user_weight_train_uniform_init_200_steps\"))"
   ]
  },
  {
   "cell_type": "code",
   "execution_count": 111,
   "id": "62d037ad",
   "metadata": {},
   "outputs": [],
   "source": [
    "loss_df3 = pd.DataFrame(step_losses3)"
   ]
  },
  {
   "cell_type": "code",
   "execution_count": 112,
   "id": "227f3a87",
   "metadata": {},
   "outputs": [
    {
     "data": {
      "text/plain": [
       "<AxesSubplot:xlabel='step', ylabel='loss'>"
      ]
     },
     "execution_count": 112,
     "metadata": {},
     "output_type": "execute_result"
    },
    {
     "data": {
      "image/png": "[encoded data removed]",
      "text/plain": [
       "<Figure size 432x288 with 1 Axes>"
      ]
     },
     "metadata": {},
     "output_type": "display_data"
    }
   ],
   "source": [
    "sns.lineplot(data=loss_df3, x=\"step\", y=\"loss\", hue=\"user\")"
   ]
  },
  {
   "cell_type": "code",
   "execution_count": 113,
   "id": "495582fc",
   "metadata": {},
   "outputs": [
    {
     "data": {
      "text/plain": [
       "array([[ 1.56485617,  1.56305361, -0.09350882],\n",
       "       [ 1.54775834,  1.42482436, -0.15177946],\n",
       "       [-0.13007177, -0.05454149,  1.75283611]])"
      ]
     },
     "execution_count": 113,
     "metadata": {},
     "output_type": "execute_result"
    }
   ],
   "source": [
    "wms3[0][-1]"
   ]
  },
  {
   "cell_type": "code",
   "execution_count": 114,
   "id": "e540ef12",
   "metadata": {},
   "outputs": [
    {
     "data": {
      "text/plain": [
       "array([[1.        , 0.9988481 , 0.        ],\n",
       "       [1.        , 0.92057288, 0.        ],\n",
       "       [0.        , 0.        , 1.        ]])"
      ]
     },
     "execution_count": 114,
     "metadata": {},
     "output_type": "execute_result"
    }
   ],
   "source": [
    "n1 = norm_matrix(wms3[0][-1])\n",
    "n1"
   ]
  },
  {
   "cell_type": "code",
   "execution_count": 115,
   "id": "792d356e",
   "metadata": {},
   "outputs": [
    {
     "data": {
      "text/plain": [
       "<AxesSubplot:>"
      ]
     },
     "execution_count": 115,
     "metadata": {},
     "output_type": "execute_result"
    },
    {
     "data": {
      "image/png": "[encoded data removed]",
      "text/plain": [
       "<Figure size 432x288 with 2 Axes>"
      ]
     },
     "metadata": {},
     "output_type": "display_data"
    }
   ],
   "source": [
    "sns.heatmap(n1, annot=True)"
   ]
  },
  {
   "cell_type": "code",
   "execution_count": 116,
   "id": "cb43330c",
   "metadata": {},
   "outputs": [
    {
     "data": {
      "text/plain": [
       "array([[0.99955983, 1.        , 0.        ],\n",
       "       [1.        , 0.96453722, 0.        ],\n",
       "       [0.        , 0.        , 1.        ]])"
      ]
     },
     "execution_count": 116,
     "metadata": {},
     "output_type": "execute_result"
    }
   ],
   "source": [
    "n2 = norm_matrix(wms3[1][-1])\n",
    "n2"
   ]
  },
  {
   "cell_type": "code",
   "execution_count": 117,
   "id": "b64322e6",
   "metadata": {},
   "outputs": [
    {
     "data": {
      "text/plain": [
       "<AxesSubplot:>"
      ]
     },
     "execution_count": 117,
     "metadata": {},
     "output_type": "execute_result"
    },
    {
     "data": {
      "image/png": "[encoded data removed]",
      "text/plain": [
       "<Figure size 432x288 with 2 Axes>"
      ]
     },
     "metadata": {},
     "output_type": "display_data"
    }
   ],
   "source": [
    "sns.heatmap(n2, annot=True)"
   ]
  },
  {
   "cell_type": "code",
   "execution_count": 118,
   "id": "49e970d2",
   "metadata": {},
   "outputs": [
    {
     "data": {
      "text/plain": [
       "array([[0.99810652, 1.        , 0.        ],\n",
       "       [0.9942698 , 1.        , 0.        ],\n",
       "       [0.        , 0.        , 1.        ]])"
      ]
     },
     "execution_count": 118,
     "metadata": {},
     "output_type": "execute_result"
    }
   ],
   "source": [
    "n3 = norm_matrix(wms3[2][-1])\n",
    "n3"
   ]
  },
  {
   "cell_type": "code",
   "execution_count": 119,
   "id": "83081a11",
   "metadata": {},
   "outputs": [
    {
     "data": {
      "text/plain": [
       "<AxesSubplot:>"
      ]
     },
     "execution_count": 119,
     "metadata": {},
     "output_type": "execute_result"
    },
    {
     "data": {
      "image/png": "[encoded data removed]",
      "text/plain": [
       "<Figure size 432x288 with 2 Axes>"
      ]
     },
     "metadata": {},
     "output_type": "display_data"
    }
   ],
   "source": [
    "sns.heatmap(n3, annot=True)"
   ]
  },
  {
   "cell_type": "markdown",
   "id": "ef4b1001",
   "metadata": {},
   "source": [
    "## Sensitivity Analysis Results"
   ]
  },
  {
   "cell_type": "markdown",
   "id": "7595820b",
   "metadata": {},
   "source": [
    "### Ones Init"
   ]
  },
  {
   "cell_type": "code",
   "execution_count": 123,
   "id": "39c6d246",
   "metadata": {},
   "outputs": [],
   "source": [
    "def collect_results5(base_dir):\n",
    "    collect_results = []\n",
    "    for sub_dir in os.listdir(base_dir):\n",
    "        pred_lr = sub_dir.split(\"_\")[1]\n",
    "        meta_lr = sub_dir.split(\"_\")[3]\n",
    "        for seed in [42, 43, 44]:\n",
    "            result_dir = os.path.join(base_dir, sub_dir, str(seed))\n",
    "            if os.path.exists(os.path.join(result_dir, \"test_results.json\")):\n",
    "                with open(os.path.join(result_dir, \"test_results.json\"), \"rb\") as f:\n",
    "                    results = json.load(f)\n",
    "                for user in [1, 2, 3]:\n",
    "                    user_acc = results[str(user)][\"test_accuracy\"]\n",
    "                    collect_results.append({\"user\": user, \"accuracy\": user_acc, \"seed\": seed,\n",
    "                                           \"pred_lr\": pred_lr, \"meta_lr\": meta_lr})\n",
    "        result_df = pd.DataFrame(collect_results)\n",
    "    return result_df"
   ]
  },
  {
   "cell_type": "code",
   "execution_count": 131,
   "id": "718d5ad7",
   "metadata": {},
   "outputs": [],
   "source": [
    "s1_df = collect_results5(os.path.join(data_dir, \"user_weight_train_sensitivity_analysis_uniform_init\"))"
   ]
  },
  {
   "cell_type": "code",
   "execution_count": 136,
   "id": "5bfa7f20",
   "metadata": {},
   "outputs": [
    {
     "data": {
      "text/html": [
       "<div>\n",
       "<style scoped>\n",
       "    .dataframe tbody tr th:only-of-type {\n",
       "        vertical-align: middle;\n",
       "    }\n",
       "\n",
       "    .dataframe tbody tr th {\n",
       "        vertical-align: top;\n",
       "    }\n",
       "\n",
       "    .dataframe thead tr th {\n",
       "        text-align: left;\n",
       "    }\n",
       "\n",
       "    .dataframe thead tr:last-of-type th {\n",
       "        text-align: right;\n",
       "    }\n",
       "</style>\n",
       "<table border=\"1\" class=\"dataframe\">\n",
       "  <thead>\n",
       "    <tr>\n",
       "      <th></th>\n",
       "      <th></th>\n",
       "      <th colspan=\"2\" halign=\"left\">user</th>\n",
       "      <th colspan=\"2\" halign=\"left\">accuracy</th>\n",
       "      <th colspan=\"2\" halign=\"left\">seed</th>\n",
       "    </tr>\n",
       "    <tr>\n",
       "      <th></th>\n",
       "      <th></th>\n",
       "      <th>mean</th>\n",
       "      <th>std</th>\n",
       "      <th>mean</th>\n",
       "      <th>std</th>\n",
       "      <th>mean</th>\n",
       "      <th>std</th>\n",
       "    </tr>\n",
       "    <tr>\n",
       "      <th>pred_lr</th>\n",
       "      <th>meta_lr</th>\n",
       "      <th></th>\n",
       "      <th></th>\n",
       "      <th></th>\n",
       "      <th></th>\n",
       "      <th></th>\n",
       "      <th></th>\n",
       "    </tr>\n",
       "  </thead>\n",
       "  <tbody>\n",
       "    <tr>\n",
       "      <th rowspan=\"2\" valign=\"top\">0.0001</th>\n",
       "      <th>0.1</th>\n",
       "      <td>2</td>\n",
       "      <td>1.0</td>\n",
       "      <td>1.000000</td>\n",
       "      <td>0.000000</td>\n",
       "      <td>42</td>\n",
       "      <td>0.0</td>\n",
       "    </tr>\n",
       "    <tr>\n",
       "      <th>1</th>\n",
       "      <td>2</td>\n",
       "      <td>1.0</td>\n",
       "      <td>1.000000</td>\n",
       "      <td>0.000000</td>\n",
       "      <td>42</td>\n",
       "      <td>0.0</td>\n",
       "    </tr>\n",
       "    <tr>\n",
       "      <th rowspan=\"6\" valign=\"top\">0.001</th>\n",
       "      <th>0.0001</th>\n",
       "      <td>2</td>\n",
       "      <td>1.0</td>\n",
       "      <td>0.386667</td>\n",
       "      <td>0.218251</td>\n",
       "      <td>42</td>\n",
       "      <td>0.0</td>\n",
       "    </tr>\n",
       "    <tr>\n",
       "      <th>0.001</th>\n",
       "      <td>2</td>\n",
       "      <td>1.0</td>\n",
       "      <td>0.590000</td>\n",
       "      <td>0.236432</td>\n",
       "      <td>42</td>\n",
       "      <td>0.0</td>\n",
       "    </tr>\n",
       "    <tr>\n",
       "      <th>0.01</th>\n",
       "      <td>2</td>\n",
       "      <td>1.0</td>\n",
       "      <td>0.973333</td>\n",
       "      <td>0.037859</td>\n",
       "      <td>42</td>\n",
       "      <td>0.0</td>\n",
       "    </tr>\n",
       "    <tr>\n",
       "      <th>0.1</th>\n",
       "      <td>2</td>\n",
       "      <td>1.0</td>\n",
       "      <td>0.996667</td>\n",
       "      <td>0.005773</td>\n",
       "      <td>42</td>\n",
       "      <td>0.0</td>\n",
       "    </tr>\n",
       "    <tr>\n",
       "      <th>1</th>\n",
       "      <td>2</td>\n",
       "      <td>1.0</td>\n",
       "      <td>1.000000</td>\n",
       "      <td>0.000000</td>\n",
       "      <td>42</td>\n",
       "      <td>0.0</td>\n",
       "    </tr>\n",
       "    <tr>\n",
       "      <th>1e-05</th>\n",
       "      <td>2</td>\n",
       "      <td>1.0</td>\n",
       "      <td>0.573333</td>\n",
       "      <td>0.119304</td>\n",
       "      <td>42</td>\n",
       "      <td>0.0</td>\n",
       "    </tr>\n",
       "    <tr>\n",
       "      <th rowspan=\"6\" valign=\"top\">0.01</th>\n",
       "      <th>0.0001</th>\n",
       "      <td>2</td>\n",
       "      <td>1.0</td>\n",
       "      <td>0.466667</td>\n",
       "      <td>0.098658</td>\n",
       "      <td>42</td>\n",
       "      <td>0.0</td>\n",
       "    </tr>\n",
       "    <tr>\n",
       "      <th>0.001</th>\n",
       "      <td>2</td>\n",
       "      <td>1.0</td>\n",
       "      <td>0.436667</td>\n",
       "      <td>0.045092</td>\n",
       "      <td>42</td>\n",
       "      <td>0.0</td>\n",
       "    </tr>\n",
       "    <tr>\n",
       "      <th>0.01</th>\n",
       "      <td>2</td>\n",
       "      <td>1.0</td>\n",
       "      <td>0.446667</td>\n",
       "      <td>0.098150</td>\n",
       "      <td>42</td>\n",
       "      <td>0.0</td>\n",
       "    </tr>\n",
       "    <tr>\n",
       "      <th>0.1</th>\n",
       "      <td>2</td>\n",
       "      <td>1.0</td>\n",
       "      <td>0.513333</td>\n",
       "      <td>0.213854</td>\n",
       "      <td>42</td>\n",
       "      <td>0.0</td>\n",
       "    </tr>\n",
       "    <tr>\n",
       "      <th>1</th>\n",
       "      <td>2</td>\n",
       "      <td>1.0</td>\n",
       "      <td>0.973333</td>\n",
       "      <td>0.030551</td>\n",
       "      <td>42</td>\n",
       "      <td>0.0</td>\n",
       "    </tr>\n",
       "    <tr>\n",
       "      <th>1e-05</th>\n",
       "      <td>2</td>\n",
       "      <td>1.0</td>\n",
       "      <td>0.456667</td>\n",
       "      <td>0.025166</td>\n",
       "      <td>42</td>\n",
       "      <td>0.0</td>\n",
       "    </tr>\n",
       "    <tr>\n",
       "      <th rowspan=\"6\" valign=\"top\">0.1</th>\n",
       "      <th>0.0001</th>\n",
       "      <td>2</td>\n",
       "      <td>1.0</td>\n",
       "      <td>0.463333</td>\n",
       "      <td>0.104083</td>\n",
       "      <td>42</td>\n",
       "      <td>0.0</td>\n",
       "    </tr>\n",
       "    <tr>\n",
       "      <th>0.001</th>\n",
       "      <td>2</td>\n",
       "      <td>1.0</td>\n",
       "      <td>0.466667</td>\n",
       "      <td>0.109697</td>\n",
       "      <td>42</td>\n",
       "      <td>0.0</td>\n",
       "    </tr>\n",
       "    <tr>\n",
       "      <th>0.01</th>\n",
       "      <td>2</td>\n",
       "      <td>1.0</td>\n",
       "      <td>0.460000</td>\n",
       "      <td>0.105830</td>\n",
       "      <td>42</td>\n",
       "      <td>0.0</td>\n",
       "    </tr>\n",
       "    <tr>\n",
       "      <th>0.1</th>\n",
       "      <td>2</td>\n",
       "      <td>1.0</td>\n",
       "      <td>0.460000</td>\n",
       "      <td>0.108167</td>\n",
       "      <td>42</td>\n",
       "      <td>0.0</td>\n",
       "    </tr>\n",
       "    <tr>\n",
       "      <th>1</th>\n",
       "      <td>2</td>\n",
       "      <td>1.0</td>\n",
       "      <td>0.790000</td>\n",
       "      <td>0.337787</td>\n",
       "      <td>42</td>\n",
       "      <td>0.0</td>\n",
       "    </tr>\n",
       "    <tr>\n",
       "      <th>1e-05</th>\n",
       "      <td>2</td>\n",
       "      <td>1.0</td>\n",
       "      <td>0.460000</td>\n",
       "      <td>0.105830</td>\n",
       "      <td>42</td>\n",
       "      <td>0.0</td>\n",
       "    </tr>\n",
       "    <tr>\n",
       "      <th rowspan=\"6\" valign=\"top\">1</th>\n",
       "      <th>0.0001</th>\n",
       "      <td>2</td>\n",
       "      <td>1.0</td>\n",
       "      <td>0.463333</td>\n",
       "      <td>0.104083</td>\n",
       "      <td>42</td>\n",
       "      <td>0.0</td>\n",
       "    </tr>\n",
       "    <tr>\n",
       "      <th>0.001</th>\n",
       "      <td>2</td>\n",
       "      <td>1.0</td>\n",
       "      <td>0.463333</td>\n",
       "      <td>0.104083</td>\n",
       "      <td>42</td>\n",
       "      <td>0.0</td>\n",
       "    </tr>\n",
       "    <tr>\n",
       "      <th>0.01</th>\n",
       "      <td>2</td>\n",
       "      <td>1.0</td>\n",
       "      <td>0.466667</td>\n",
       "      <td>0.100167</td>\n",
       "      <td>42</td>\n",
       "      <td>0.0</td>\n",
       "    </tr>\n",
       "    <tr>\n",
       "      <th>0.1</th>\n",
       "      <td>2</td>\n",
       "      <td>1.0</td>\n",
       "      <td>0.463333</td>\n",
       "      <td>0.104083</td>\n",
       "      <td>42</td>\n",
       "      <td>0.0</td>\n",
       "    </tr>\n",
       "    <tr>\n",
       "      <th>1</th>\n",
       "      <td>2</td>\n",
       "      <td>1.0</td>\n",
       "      <td>0.463333</td>\n",
       "      <td>0.104083</td>\n",
       "      <td>42</td>\n",
       "      <td>0.0</td>\n",
       "    </tr>\n",
       "    <tr>\n",
       "      <th>1e-05</th>\n",
       "      <td>2</td>\n",
       "      <td>1.0</td>\n",
       "      <td>0.466667</td>\n",
       "      <td>0.109697</td>\n",
       "      <td>42</td>\n",
       "      <td>0.0</td>\n",
       "    </tr>\n",
       "  </tbody>\n",
       "</table>\n",
       "</div>"
      ],
      "text/plain": [
       "                user       accuracy           seed     \n",
       "                mean  std      mean       std mean  std\n",
       "pred_lr meta_lr                                        \n",
       "0.0001  0.1        2  1.0  1.000000  0.000000   42  0.0\n",
       "        1          2  1.0  1.000000  0.000000   42  0.0\n",
       "0.001   0.0001     2  1.0  0.386667  0.218251   42  0.0\n",
       "        0.001      2  1.0  0.590000  0.236432   42  0.0\n",
       "        0.01       2  1.0  0.973333  0.037859   42  0.0\n",
       "        0.1        2  1.0  0.996667  0.005773   42  0.0\n",
       "        1          2  1.0  1.000000  0.000000   42  0.0\n",
       "        1e-05      2  1.0  0.573333  0.119304   42  0.0\n",
       "0.01    0.0001     2  1.0  0.466667  0.098658   42  0.0\n",
       "        0.001      2  1.0  0.436667  0.045092   42  0.0\n",
       "        0.01       2  1.0  0.446667  0.098150   42  0.0\n",
       "        0.1        2  1.0  0.513333  0.213854   42  0.0\n",
       "        1          2  1.0  0.973333  0.030551   42  0.0\n",
       "        1e-05      2  1.0  0.456667  0.025166   42  0.0\n",
       "0.1     0.0001     2  1.0  0.463333  0.104083   42  0.0\n",
       "        0.001      2  1.0  0.466667  0.109697   42  0.0\n",
       "        0.01       2  1.0  0.460000  0.105830   42  0.0\n",
       "        0.1        2  1.0  0.460000  0.108167   42  0.0\n",
       "        1          2  1.0  0.790000  0.337787   42  0.0\n",
       "        1e-05      2  1.0  0.460000  0.105830   42  0.0\n",
       "1       0.0001     2  1.0  0.463333  0.104083   42  0.0\n",
       "        0.001      2  1.0  0.463333  0.104083   42  0.0\n",
       "        0.01       2  1.0  0.466667  0.100167   42  0.0\n",
       "        0.1        2  1.0  0.463333  0.104083   42  0.0\n",
       "        1          2  1.0  0.463333  0.104083   42  0.0\n",
       "        1e-05      2  1.0  0.466667  0.109697   42  0.0"
      ]
     },
     "execution_count": 136,
     "metadata": {},
     "output_type": "execute_result"
    }
   ],
   "source": [
    "agg_df = s1_df.groupby([\"pred_lr\", \"meta_lr\"]).agg([\"mean\", \"std\"])\n",
    "agg_df"
   ]
  },
  {
   "cell_type": "code",
   "execution_count": 139,
   "id": "ae3a15c4",
   "metadata": {},
   "outputs": [
    {
     "data": {
      "text/html": [
       "<div>\n",
       "<style scoped>\n",
       "    .dataframe tbody tr th:only-of-type {\n",
       "        vertical-align: middle;\n",
       "    }\n",
       "\n",
       "    .dataframe tbody tr th {\n",
       "        vertical-align: top;\n",
       "    }\n",
       "\n",
       "    .dataframe thead th {\n",
       "        text-align: right;\n",
       "    }\n",
       "</style>\n",
       "<table border=\"1\" class=\"dataframe\">\n",
       "  <thead>\n",
       "    <tr style=\"text-align: right;\">\n",
       "      <th>meta_lr</th>\n",
       "      <th>0.0001</th>\n",
       "      <th>0.001</th>\n",
       "      <th>0.01</th>\n",
       "      <th>0.1</th>\n",
       "      <th>1</th>\n",
       "      <th>1e-05</th>\n",
       "    </tr>\n",
       "    <tr>\n",
       "      <th>pred_lr</th>\n",
       "      <th></th>\n",
       "      <th></th>\n",
       "      <th></th>\n",
       "      <th></th>\n",
       "      <th></th>\n",
       "      <th></th>\n",
       "    </tr>\n",
       "  </thead>\n",
       "  <tbody>\n",
       "    <tr>\n",
       "      <th>0.0001</th>\n",
       "      <td>NaN</td>\n",
       "      <td>NaN</td>\n",
       "      <td>NaN</td>\n",
       "      <td>1.000000</td>\n",
       "      <td>1.000000</td>\n",
       "      <td>NaN</td>\n",
       "    </tr>\n",
       "    <tr>\n",
       "      <th>0.001</th>\n",
       "      <td>0.386667</td>\n",
       "      <td>0.590000</td>\n",
       "      <td>0.973333</td>\n",
       "      <td>0.996667</td>\n",
       "      <td>1.000000</td>\n",
       "      <td>0.573333</td>\n",
       "    </tr>\n",
       "    <tr>\n",
       "      <th>0.01</th>\n",
       "      <td>0.466667</td>\n",
       "      <td>0.436667</td>\n",
       "      <td>0.446667</td>\n",
       "      <td>0.513333</td>\n",
       "      <td>0.973333</td>\n",
       "      <td>0.456667</td>\n",
       "    </tr>\n",
       "    <tr>\n",
       "      <th>0.1</th>\n",
       "      <td>0.463333</td>\n",
       "      <td>0.466667</td>\n",
       "      <td>0.460000</td>\n",
       "      <td>0.460000</td>\n",
       "      <td>0.790000</td>\n",
       "      <td>0.460000</td>\n",
       "    </tr>\n",
       "    <tr>\n",
       "      <th>1</th>\n",
       "      <td>0.463333</td>\n",
       "      <td>0.463333</td>\n",
       "      <td>0.466667</td>\n",
       "      <td>0.463333</td>\n",
       "      <td>0.463333</td>\n",
       "      <td>0.466667</td>\n",
       "    </tr>\n",
       "  </tbody>\n",
       "</table>\n",
       "</div>"
      ],
      "text/plain": [
       "meta_lr    0.0001     0.001      0.01       0.1         1     1e-05\n",
       "pred_lr                                                            \n",
       "0.0001        NaN       NaN       NaN  1.000000  1.000000       NaN\n",
       "0.001    0.386667  0.590000  0.973333  0.996667  1.000000  0.573333\n",
       "0.01     0.466667  0.436667  0.446667  0.513333  0.973333  0.456667\n",
       "0.1      0.463333  0.466667  0.460000  0.460000  0.790000  0.460000\n",
       "1        0.463333  0.463333  0.466667  0.463333  0.463333  0.466667"
      ]
     },
     "execution_count": 139,
     "metadata": {},
     "output_type": "execute_result"
    }
   ],
   "source": [
    "agg_df.reset_index().pivot(\"pred_lr\", \"meta_lr\", (\"accuracy\", \"mean\"))"
   ]
  },
  {
   "cell_type": "code",
   "execution_count": null,
   "id": "77b3a2ac",
   "metadata": {},
   "outputs": [],
   "source": [
    "sns.heatmap(agg_df.reset_index().pivot(\"pred_lr\", \"meta_lr\", (\"accuracy\", \"mean\")), annot=True)"
   ]
  },
  {
   "cell_type": "markdown",
   "id": "fb4e7386",
   "metadata": {},
   "source": [
    "### Rand Init"
   ]
  },
  {
   "cell_type": "code",
   "execution_count": 129,
   "id": "0e6e9590",
   "metadata": {},
   "outputs": [],
   "source": [
    "s2_df = collect_results5(os.path.join(data_dir, \"user_weight_train_sensitivity_analysis\"))"
   ]
  },
  {
   "cell_type": "code",
   "execution_count": 130,
   "id": "2fc68308",
   "metadata": {},
   "outputs": [
    {
     "data": {
      "text/html": [
       "<div>\n",
       "<style scoped>\n",
       "    .dataframe tbody tr th:only-of-type {\n",
       "        vertical-align: middle;\n",
       "    }\n",
       "\n",
       "    .dataframe tbody tr th {\n",
       "        vertical-align: top;\n",
       "    }\n",
       "\n",
       "    .dataframe thead tr th {\n",
       "        text-align: left;\n",
       "    }\n",
       "\n",
       "    .dataframe thead tr:last-of-type th {\n",
       "        text-align: right;\n",
       "    }\n",
       "</style>\n",
       "<table border=\"1\" class=\"dataframe\">\n",
       "  <thead>\n",
       "    <tr>\n",
       "      <th></th>\n",
       "      <th></th>\n",
       "      <th colspan=\"2\" halign=\"left\">user</th>\n",
       "      <th colspan=\"2\" halign=\"left\">accuracy</th>\n",
       "      <th colspan=\"2\" halign=\"left\">seed</th>\n",
       "    </tr>\n",
       "    <tr>\n",
       "      <th></th>\n",
       "      <th></th>\n",
       "      <th>mean</th>\n",
       "      <th>std</th>\n",
       "      <th>mean</th>\n",
       "      <th>std</th>\n",
       "      <th>mean</th>\n",
       "      <th>std</th>\n",
       "    </tr>\n",
       "    <tr>\n",
       "      <th>pred_lr</th>\n",
       "      <th>meta_lr</th>\n",
       "      <th></th>\n",
       "      <th></th>\n",
       "      <th></th>\n",
       "      <th></th>\n",
       "      <th></th>\n",
       "      <th></th>\n",
       "    </tr>\n",
       "  </thead>\n",
       "  <tbody>\n",
       "    <tr>\n",
       "      <th rowspan=\"2\" valign=\"top\">0.0001</th>\n",
       "      <th>0.1</th>\n",
       "      <td>2</td>\n",
       "      <td>1.0</td>\n",
       "      <td>0.996667</td>\n",
       "      <td>0.005773</td>\n",
       "      <td>42</td>\n",
       "      <td>0.0</td>\n",
       "    </tr>\n",
       "    <tr>\n",
       "      <th>1</th>\n",
       "      <td>2</td>\n",
       "      <td>1.0</td>\n",
       "      <td>0.993333</td>\n",
       "      <td>0.005773</td>\n",
       "      <td>42</td>\n",
       "      <td>0.0</td>\n",
       "    </tr>\n",
       "    <tr>\n",
       "      <th rowspan=\"6\" valign=\"top\">0.001</th>\n",
       "      <th>0.0001</th>\n",
       "      <td>2</td>\n",
       "      <td>1.0</td>\n",
       "      <td>0.450000</td>\n",
       "      <td>0.222711</td>\n",
       "      <td>42</td>\n",
       "      <td>0.0</td>\n",
       "    </tr>\n",
       "    <tr>\n",
       "      <th>0.001</th>\n",
       "      <td>2</td>\n",
       "      <td>1.0</td>\n",
       "      <td>0.353333</td>\n",
       "      <td>0.056862</td>\n",
       "      <td>42</td>\n",
       "      <td>0.0</td>\n",
       "    </tr>\n",
       "    <tr>\n",
       "      <th>0.01</th>\n",
       "      <td>2</td>\n",
       "      <td>1.0</td>\n",
       "      <td>0.980000</td>\n",
       "      <td>0.034641</td>\n",
       "      <td>42</td>\n",
       "      <td>0.0</td>\n",
       "    </tr>\n",
       "    <tr>\n",
       "      <th>0.1</th>\n",
       "      <td>2</td>\n",
       "      <td>1.0</td>\n",
       "      <td>1.000000</td>\n",
       "      <td>0.000000</td>\n",
       "      <td>42</td>\n",
       "      <td>0.0</td>\n",
       "    </tr>\n",
       "    <tr>\n",
       "      <th>1</th>\n",
       "      <td>2</td>\n",
       "      <td>1.0</td>\n",
       "      <td>1.000000</td>\n",
       "      <td>0.000000</td>\n",
       "      <td>42</td>\n",
       "      <td>0.0</td>\n",
       "    </tr>\n",
       "    <tr>\n",
       "      <th>1e-05</th>\n",
       "      <td>2</td>\n",
       "      <td>1.0</td>\n",
       "      <td>0.276667</td>\n",
       "      <td>0.179536</td>\n",
       "      <td>42</td>\n",
       "      <td>0.0</td>\n",
       "    </tr>\n",
       "    <tr>\n",
       "      <th rowspan=\"6\" valign=\"top\">0.01</th>\n",
       "      <th>0.0001</th>\n",
       "      <td>2</td>\n",
       "      <td>1.0</td>\n",
       "      <td>0.403333</td>\n",
       "      <td>0.181475</td>\n",
       "      <td>42</td>\n",
       "      <td>0.0</td>\n",
       "    </tr>\n",
       "    <tr>\n",
       "      <th>0.001</th>\n",
       "      <td>2</td>\n",
       "      <td>1.0</td>\n",
       "      <td>0.466667</td>\n",
       "      <td>0.144684</td>\n",
       "      <td>42</td>\n",
       "      <td>0.0</td>\n",
       "    </tr>\n",
       "    <tr>\n",
       "      <th>0.01</th>\n",
       "      <td>2</td>\n",
       "      <td>1.0</td>\n",
       "      <td>0.753333</td>\n",
       "      <td>0.200333</td>\n",
       "      <td>42</td>\n",
       "      <td>0.0</td>\n",
       "    </tr>\n",
       "    <tr>\n",
       "      <th>0.1</th>\n",
       "      <td>2</td>\n",
       "      <td>1.0</td>\n",
       "      <td>0.860000</td>\n",
       "      <td>0.233880</td>\n",
       "      <td>42</td>\n",
       "      <td>0.0</td>\n",
       "    </tr>\n",
       "    <tr>\n",
       "      <th>1</th>\n",
       "      <td>2</td>\n",
       "      <td>1.0</td>\n",
       "      <td>1.000000</td>\n",
       "      <td>0.000000</td>\n",
       "      <td>42</td>\n",
       "      <td>0.0</td>\n",
       "    </tr>\n",
       "    <tr>\n",
       "      <th>1e-05</th>\n",
       "      <td>2</td>\n",
       "      <td>1.0</td>\n",
       "      <td>0.340000</td>\n",
       "      <td>0.212838</td>\n",
       "      <td>42</td>\n",
       "      <td>0.0</td>\n",
       "    </tr>\n",
       "    <tr>\n",
       "      <th rowspan=\"6\" valign=\"top\">0.1</th>\n",
       "      <th>0.0001</th>\n",
       "      <td>2</td>\n",
       "      <td>1.0</td>\n",
       "      <td>0.470000</td>\n",
       "      <td>0.096436</td>\n",
       "      <td>42</td>\n",
       "      <td>0.0</td>\n",
       "    </tr>\n",
       "    <tr>\n",
       "      <th>0.001</th>\n",
       "      <td>2</td>\n",
       "      <td>1.0</td>\n",
       "      <td>0.460000</td>\n",
       "      <td>0.108167</td>\n",
       "      <td>42</td>\n",
       "      <td>0.0</td>\n",
       "    </tr>\n",
       "    <tr>\n",
       "      <th>0.01</th>\n",
       "      <td>2</td>\n",
       "      <td>1.0</td>\n",
       "      <td>0.463333</td>\n",
       "      <td>0.104083</td>\n",
       "      <td>42</td>\n",
       "      <td>0.0</td>\n",
       "    </tr>\n",
       "    <tr>\n",
       "      <th>0.1</th>\n",
       "      <td>2</td>\n",
       "      <td>1.0</td>\n",
       "      <td>0.460000</td>\n",
       "      <td>0.105830</td>\n",
       "      <td>42</td>\n",
       "      <td>0.0</td>\n",
       "    </tr>\n",
       "    <tr>\n",
       "      <th>1</th>\n",
       "      <td>2</td>\n",
       "      <td>1.0</td>\n",
       "      <td>0.660000</td>\n",
       "      <td>0.293087</td>\n",
       "      <td>42</td>\n",
       "      <td>0.0</td>\n",
       "    </tr>\n",
       "    <tr>\n",
       "      <th>1e-05</th>\n",
       "      <td>2</td>\n",
       "      <td>1.0</td>\n",
       "      <td>0.463333</td>\n",
       "      <td>0.104083</td>\n",
       "      <td>42</td>\n",
       "      <td>0.0</td>\n",
       "    </tr>\n",
       "    <tr>\n",
       "      <th rowspan=\"6\" valign=\"top\">1</th>\n",
       "      <th>0.0001</th>\n",
       "      <td>2</td>\n",
       "      <td>1.0</td>\n",
       "      <td>0.463333</td>\n",
       "      <td>0.104083</td>\n",
       "      <td>42</td>\n",
       "      <td>0.0</td>\n",
       "    </tr>\n",
       "    <tr>\n",
       "      <th>0.001</th>\n",
       "      <td>2</td>\n",
       "      <td>1.0</td>\n",
       "      <td>0.463333</td>\n",
       "      <td>0.104083</td>\n",
       "      <td>42</td>\n",
       "      <td>0.0</td>\n",
       "    </tr>\n",
       "    <tr>\n",
       "      <th>0.01</th>\n",
       "      <td>2</td>\n",
       "      <td>1.0</td>\n",
       "      <td>0.460000</td>\n",
       "      <td>0.105830</td>\n",
       "      <td>42</td>\n",
       "      <td>0.0</td>\n",
       "    </tr>\n",
       "    <tr>\n",
       "      <th>0.1</th>\n",
       "      <td>2</td>\n",
       "      <td>1.0</td>\n",
       "      <td>0.450000</td>\n",
       "      <td>0.111355</td>\n",
       "      <td>42</td>\n",
       "      <td>0.0</td>\n",
       "    </tr>\n",
       "    <tr>\n",
       "      <th>1</th>\n",
       "      <td>2</td>\n",
       "      <td>1.0</td>\n",
       "      <td>0.463333</td>\n",
       "      <td>0.104083</td>\n",
       "      <td>42</td>\n",
       "      <td>0.0</td>\n",
       "    </tr>\n",
       "    <tr>\n",
       "      <th>1e-05</th>\n",
       "      <td>2</td>\n",
       "      <td>1.0</td>\n",
       "      <td>0.463333</td>\n",
       "      <td>0.104083</td>\n",
       "      <td>42</td>\n",
       "      <td>0.0</td>\n",
       "    </tr>\n",
       "  </tbody>\n",
       "</table>\n",
       "</div>"
      ],
      "text/plain": [
       "                user       accuracy           seed     \n",
       "                mean  std      mean       std mean  std\n",
       "pred_lr meta_lr                                        \n",
       "0.0001  0.1        2  1.0  0.996667  0.005773   42  0.0\n",
       "        1          2  1.0  0.993333  0.005773   42  0.0\n",
       "0.001   0.0001     2  1.0  0.450000  0.222711   42  0.0\n",
       "        0.001      2  1.0  0.353333  0.056862   42  0.0\n",
       "        0.01       2  1.0  0.980000  0.034641   42  0.0\n",
       "        0.1        2  1.0  1.000000  0.000000   42  0.0\n",
       "        1          2  1.0  1.000000  0.000000   42  0.0\n",
       "        1e-05      2  1.0  0.276667  0.179536   42  0.0\n",
       "0.01    0.0001     2  1.0  0.403333  0.181475   42  0.0\n",
       "        0.001      2  1.0  0.466667  0.144684   42  0.0\n",
       "        0.01       2  1.0  0.753333  0.200333   42  0.0\n",
       "        0.1        2  1.0  0.860000  0.233880   42  0.0\n",
       "        1          2  1.0  1.000000  0.000000   42  0.0\n",
       "        1e-05      2  1.0  0.340000  0.212838   42  0.0\n",
       "0.1     0.0001     2  1.0  0.470000  0.096436   42  0.0\n",
       "        0.001      2  1.0  0.460000  0.108167   42  0.0\n",
       "        0.01       2  1.0  0.463333  0.104083   42  0.0\n",
       "        0.1        2  1.0  0.460000  0.105830   42  0.0\n",
       "        1          2  1.0  0.660000  0.293087   42  0.0\n",
       "        1e-05      2  1.0  0.463333  0.104083   42  0.0\n",
       "1       0.0001     2  1.0  0.463333  0.104083   42  0.0\n",
       "        0.001      2  1.0  0.463333  0.104083   42  0.0\n",
       "        0.01       2  1.0  0.460000  0.105830   42  0.0\n",
       "        0.1        2  1.0  0.450000  0.111355   42  0.0\n",
       "        1          2  1.0  0.463333  0.104083   42  0.0\n",
       "        1e-05      2  1.0  0.463333  0.104083   42  0.0"
      ]
     },
     "execution_count": 130,
     "metadata": {},
     "output_type": "execute_result"
    }
   ],
   "source": [
    "s2_df.groupby([\"pred_lr\", \"meta_lr\"]).agg([\"mean\", \"std\"])"
   ]
  }
 ],
 "metadata": {
  "kernelspec": {
   "display_name": "Python 3",
   "language": "python",
   "name": "python3"
  },
  "language_info": {
   "codemirror_mode": {
    "name": "ipython",
    "version": 3
   },
   "file_extension": ".py",
   "mimetype": "text/x-python",
   "name": "python",
   "nbconvert_exporter": "python",
   "pygments_lexer": "ipython3",
   "version": "3.8.10"
  }
 },
 "nbformat": 4,
 "nbformat_minor": 5
}
