{
 "cells": [
  {
   "cell_type": "code",
   "execution_count": 1,
   "id": "4a66f1d3",
   "metadata": {},
   "outputs": [],
   "source": [
    "%load_ext autoreload\n",
    "%autoreload 2"
   ]
  },
  {
   "cell_type": "markdown",
   "id": "d66411ce",
   "metadata": {},
   "source": [
    "# Overview\n",
    "* Adapted code form 11/10 experiments so that user embedding model is used to generate weight matrix rather than generating matrix directly"
   ]
  },
  {
   "cell_type": "code",
   "execution_count": 20,
   "id": "7ca0b81c",
   "metadata": {},
   "outputs": [],
   "source": [
    "import json\n",
    "import os\n",
    "import numpy as np\n",
    "import pandas as pd\n",
    "import seaborn as sns\n",
    "sns.set_theme()\n",
    "\n",
    "import matplotlib.pyplot as plt"
   ]
  },
  {
   "cell_type": "code",
   "execution_count": 4,
   "id": "dbe4a4a9",
   "metadata": {},
   "outputs": [],
   "source": [
    "data_dir = \"/data/ddmg/redditlanguagemodeling/results/mnist/user_embed_train/42\""
   ]
  },
  {
   "cell_type": "code",
   "execution_count": 5,
   "id": "fa6bd512",
   "metadata": {},
   "outputs": [],
   "source": [
    "step_user_losses = np.load(os.path.join(data_dir, \"step_user_losses.npy\"))"
   ]
  },
  {
   "cell_type": "code",
   "execution_count": 6,
   "id": "96ac58b2",
   "metadata": {},
   "outputs": [],
   "source": [
    "num_steps, num_users = step_user_losses.shape"
   ]
  },
  {
   "cell_type": "code",
   "execution_count": 8,
   "id": "a3dfc59f",
   "metadata": {},
   "outputs": [],
   "source": [
    "user_loss_df = pd.DataFrame(step_user_losses, columns=[\"user_{}\".format(i) for i in range(step_user_losses.shape[1])])"
   ]
  },
  {
   "cell_type": "code",
   "execution_count": 9,
   "id": "6832bc6a",
   "metadata": {},
   "outputs": [
    {
     "data": {
      "text/html": [
       "<div>\n",
       "<style scoped>\n",
       "    .dataframe tbody tr th:only-of-type {\n",
       "        vertical-align: middle;\n",
       "    }\n",
       "\n",
       "    .dataframe tbody tr th {\n",
       "        vertical-align: top;\n",
       "    }\n",
       "\n",
       "    .dataframe thead th {\n",
       "        text-align: right;\n",
       "    }\n",
       "</style>\n",
       "<table border=\"1\" class=\"dataframe\">\n",
       "  <thead>\n",
       "    <tr style=\"text-align: right;\">\n",
       "      <th></th>\n",
       "      <th>user_0</th>\n",
       "      <th>user_1</th>\n",
       "      <th>user_2</th>\n",
       "      <th>step</th>\n",
       "    </tr>\n",
       "  </thead>\n",
       "  <tbody>\n",
       "    <tr>\n",
       "      <th>0</th>\n",
       "      <td>0.230991</td>\n",
       "      <td>0.230912</td>\n",
       "      <td>0.230460</td>\n",
       "      <td>0</td>\n",
       "    </tr>\n",
       "    <tr>\n",
       "      <th>1</th>\n",
       "      <td>0.230989</td>\n",
       "      <td>0.230927</td>\n",
       "      <td>0.231216</td>\n",
       "      <td>1</td>\n",
       "    </tr>\n",
       "    <tr>\n",
       "      <th>2</th>\n",
       "      <td>0.228767</td>\n",
       "      <td>0.230890</td>\n",
       "      <td>0.231042</td>\n",
       "      <td>2</td>\n",
       "    </tr>\n",
       "    <tr>\n",
       "      <th>3</th>\n",
       "      <td>0.231007</td>\n",
       "      <td>0.229754</td>\n",
       "      <td>0.231507</td>\n",
       "      <td>3</td>\n",
       "    </tr>\n",
       "    <tr>\n",
       "      <th>4</th>\n",
       "      <td>0.230985</td>\n",
       "      <td>0.228974</td>\n",
       "      <td>0.231438</td>\n",
       "      <td>4</td>\n",
       "    </tr>\n",
       "    <tr>\n",
       "      <th>...</th>\n",
       "      <td>...</td>\n",
       "      <td>...</td>\n",
       "      <td>...</td>\n",
       "      <td>...</td>\n",
       "    </tr>\n",
       "    <tr>\n",
       "      <th>95</th>\n",
       "      <td>0.231040</td>\n",
       "      <td>0.230989</td>\n",
       "      <td>0.287254</td>\n",
       "      <td>95</td>\n",
       "    </tr>\n",
       "    <tr>\n",
       "      <th>96</th>\n",
       "      <td>0.231037</td>\n",
       "      <td>0.230931</td>\n",
       "      <td>0.231316</td>\n",
       "      <td>96</td>\n",
       "    </tr>\n",
       "    <tr>\n",
       "      <th>97</th>\n",
       "      <td>0.229787</td>\n",
       "      <td>0.232115</td>\n",
       "      <td>0.231366</td>\n",
       "      <td>97</td>\n",
       "    </tr>\n",
       "    <tr>\n",
       "      <th>98</th>\n",
       "      <td>0.230988</td>\n",
       "      <td>0.229543</td>\n",
       "      <td>0.231172</td>\n",
       "      <td>98</td>\n",
       "    </tr>\n",
       "    <tr>\n",
       "      <th>99</th>\n",
       "      <td>0.231080</td>\n",
       "      <td>0.230801</td>\n",
       "      <td>0.231292</td>\n",
       "      <td>99</td>\n",
       "    </tr>\n",
       "  </tbody>\n",
       "</table>\n",
       "<p>100 rows × 4 columns</p>\n",
       "</div>"
      ],
      "text/plain": [
       "      user_0    user_1    user_2  step\n",
       "0   0.230991  0.230912  0.230460     0\n",
       "1   0.230989  0.230927  0.231216     1\n",
       "2   0.228767  0.230890  0.231042     2\n",
       "3   0.231007  0.229754  0.231507     3\n",
       "4   0.230985  0.228974  0.231438     4\n",
       "..       ...       ...       ...   ...\n",
       "95  0.231040  0.230989  0.287254    95\n",
       "96  0.231037  0.230931  0.231316    96\n",
       "97  0.229787  0.232115  0.231366    97\n",
       "98  0.230988  0.229543  0.231172    98\n",
       "99  0.231080  0.230801  0.231292    99\n",
       "\n",
       "[100 rows x 4 columns]"
      ]
     },
     "execution_count": 9,
     "metadata": {},
     "output_type": "execute_result"
    }
   ],
   "source": [
    "# validation loss per user for each outer loop step\n",
    "user_loss_df[\"step\"] = np.arange(len(user_loss_df))\n",
    "user_loss_df"
   ]
  },
  {
   "cell_type": "code",
   "execution_count": 10,
   "id": "773b8b00",
   "metadata": {},
   "outputs": [],
   "source": [
    "# flatten so there is a user ID column\n",
    "losses_flat = step_user_losses.flatten(order='F')\n",
    "users = np.array([[\"user_{}\".format(i)] * num_steps for i in range(num_users)]).flatten()"
   ]
  },
  {
   "cell_type": "code",
   "execution_count": 11,
   "id": "c1a934d0",
   "metadata": {},
   "outputs": [],
   "source": [
    "steps = np.array([[np.arange(num_steps)] * num_users]).flatten()"
   ]
  },
  {
   "cell_type": "code",
   "execution_count": 12,
   "id": "d0e2276c",
   "metadata": {},
   "outputs": [
    {
     "data": {
      "text/plain": [
       "<AxesSubplot:>"
      ]
     },
     "execution_count": 12,
     "metadata": {},
     "output_type": "execute_result"
    },
    {
     "data": {
      "image/png": "[encoded data removed]",
      "text/plain": [
       "<Figure size 432x288 with 1 Axes>"
      ]
     },
     "metadata": {},
     "output_type": "display_data"
    }
   ],
   "source": [
    "# eval loss at each step per user\n",
    "sns.lineplot(x=steps, y=losses_flat, hue=users)"
   ]
  },
  {
   "cell_type": "code",
   "execution_count": 13,
   "id": "fe9218ab",
   "metadata": {},
   "outputs": [],
   "source": [
    "with open(os.path.join(data_dir, \"trainer_state.json\"), 'rb') as f:\n",
    "    trainer_state = json.load(f)"
   ]
  },
  {
   "cell_type": "code",
   "execution_count": 14,
   "id": "c042fc5c",
   "metadata": {},
   "outputs": [
    {
     "data": {
      "text/plain": [
       "{'best_metric': 0.22837813198566437,\n",
       " 'global_step': 100,\n",
       " 'log_history': [{'eval_loss': 0.23078751067320505, 'step': 0},\n",
       "  {'eval_loss': 0.2310439000527064, 'step': 1},\n",
       "  {'eval_loss': 0.23023327191670737, 'step': 2},\n",
       "  {'eval_loss': 0.23075586060682932, 'step': 3},\n",
       "  {'eval_loss': 0.23046576976776123, 'step': 4},\n",
       "  {'eval_loss': 2.632549221316973, 'step': 5},\n",
       "  {'eval_loss': 0.2309927095969518, 'step': 6},\n",
       "  {'eval_loss': 0.23111484944820404, 'step': 7},\n",
       "  {'eval_loss': 0.23094131549199423, 'step': 8},\n",
       "  {'eval_loss': 0.23094640175501505, 'step': 9},\n",
       "  {'eval_loss': 0.23099859058856964, 'step': 10},\n",
       "  {'eval_loss': 0.23072421550750732, 'step': 11},\n",
       "  {'eval_loss': 0.23028219739596048, 'step': 12},\n",
       "  {'eval_loss': 0.23109444479147592, 'step': 13},\n",
       "  {'eval_loss': 0.22963310778141022, 'step': 14},\n",
       "  {'eval_loss': 0.22837813198566437, 'step': 15},\n",
       "  {'eval_loss': 0.2318957100311915, 'step': 16},\n",
       "  {'eval_loss': 0.2302421232064565, 'step': 17},\n",
       "  {'eval_loss': 0.2326105535030365, 'step': 18},\n",
       "  {'eval_loss': 0.23118052879969278, 'step': 19},\n",
       "  {'eval_loss': 0.23102890451749167, 'step': 20},\n",
       "  {'eval_loss': 0.23107863465944925, 'step': 21},\n",
       "  {'eval_loss': 0.23064604898293814, 'step': 22},\n",
       "  {'eval_loss': 0.2306213527917862, 'step': 23},\n",
       "  {'eval_loss': 0.23066641887029013, 'step': 24},\n",
       "  {'eval_loss': 0.23107048869132996, 'step': 25},\n",
       "  {'eval_loss': 0.23075801134109497, 'step': 26},\n",
       "  {'eval_loss': 0.2306458204984665, 'step': 27},\n",
       "  {'eval_loss': 0.2313233862320582, 'step': 28},\n",
       "  {'eval_loss': 0.23120089371999106, 'step': 29},\n",
       "  {'eval_loss': 0.23113206028938293, 'step': 30},\n",
       "  {'eval_loss': 0.23680415749549866, 'step': 31},\n",
       "  {'eval_loss': 0.23399478693803152, 'step': 32},\n",
       "  {'eval_loss': 0.2310426433881124, 'step': 33},\n",
       "  {'eval_loss': 0.23081562419732413, 'step': 34},\n",
       "  {'eval_loss': 0.23064296940962473, 'step': 35},\n",
       "  {'eval_loss': 0.23104347785313925, 'step': 36},\n",
       "  {'eval_loss': 0.23029537498950958, 'step': 37},\n",
       "  {'eval_loss': 0.23239015539487204, 'step': 38},\n",
       "  {'eval_loss': 0.23007339239120483, 'step': 39},\n",
       "  {'eval_loss': 0.23106048007806143, 'step': 40},\n",
       "  {'eval_loss': 0.233564555644989, 'step': 41},\n",
       "  {'eval_loss': 0.23104484379291534, 'step': 42},\n",
       "  {'eval_loss': 0.23109647134939829, 'step': 43},\n",
       "  {'eval_loss': 0.23102507491906485, 'step': 44},\n",
       "  {'eval_loss': 0.23152485489845276, 'step': 45},\n",
       "  {'eval_loss': 0.23075335721174875, 'step': 46},\n",
       "  {'eval_loss': 0.23084204892317453, 'step': 47},\n",
       "  {'eval_loss': 0.2394530326128006, 'step': 48},\n",
       "  {'eval_loss': 0.2310961733261744, 'step': 49},\n",
       "  {'eval_loss': 0.23132234315077463, 'step': 50},\n",
       "  {'eval_loss': 0.23034579555193582, 'step': 51},\n",
       "  {'eval_loss': 0.23108378052711487, 'step': 52},\n",
       "  {'eval_loss': 0.22895742456118265, 'step': 53},\n",
       "  {'eval_loss': 0.23088962336381277, 'step': 54},\n",
       "  {'eval_loss': 0.2310293217500051, 'step': 55},\n",
       "  {'eval_loss': 0.2315199375152588, 'step': 56},\n",
       "  {'eval_loss': 0.23071839908758798, 'step': 57},\n",
       "  {'eval_loss': 0.23025235533714294, 'step': 58},\n",
       "  {'eval_loss': 0.23106367389361063, 'step': 59},\n",
       "  {'eval_loss': 0.23098618785540262, 'step': 60},\n",
       "  {'eval_loss': 0.23084776600201926, 'step': 61},\n",
       "  {'eval_loss': 0.2305207004149755, 'step': 62},\n",
       "  {'eval_loss': 0.23098596930503845, 'step': 63},\n",
       "  {'eval_loss': 0.2311083823442459, 'step': 64},\n",
       "  {'eval_loss': 0.23098533848921457, 'step': 65},\n",
       "  {'eval_loss': 0.2303050955136617, 'step': 66},\n",
       "  {'eval_loss': 0.23097531497478485, 'step': 67},\n",
       "  {'eval_loss': 0.2310022513071696, 'step': 68},\n",
       "  {'eval_loss': 0.23370864987373352, 'step': 69},\n",
       "  {'eval_loss': 0.23038822412490845, 'step': 70},\n",
       "  {'eval_loss': 0.23157004018624625, 'step': 71},\n",
       "  {'eval_loss': 0.23084182540575662, 'step': 72},\n",
       "  {'eval_loss': 0.23112696409225464, 'step': 73},\n",
       "  {'eval_loss': 0.23227293292681375, 'step': 74},\n",
       "  {'eval_loss': 0.2310991237560908, 'step': 75},\n",
       "  {'eval_loss': 0.23104596634705862, 'step': 76},\n",
       "  {'eval_loss': 0.23067691922187805, 'step': 77},\n",
       "  {'eval_loss': 0.2310172567764918, 'step': 78},\n",
       "  {'eval_loss': 0.2304390917221705, 'step': 79},\n",
       "  {'eval_loss': 0.23110011716683707, 'step': 80},\n",
       "  {'eval_loss': 0.2411160816748937, 'step': 81},\n",
       "  {'eval_loss': 0.23100005586942038, 'step': 82},\n",
       "  {'eval_loss': 0.23112858831882477, 'step': 83},\n",
       "  {'eval_loss': 0.23760789136091867, 'step': 84},\n",
       "  {'eval_loss': 0.2311777671178182, 'step': 85},\n",
       "  {'eval_loss': 0.23098442455132803, 'step': 86},\n",
       "  {'eval_loss': 0.23121474186579385, 'step': 87},\n",
       "  {'eval_loss': 0.23156957825024924, 'step': 88},\n",
       "  {'eval_loss': 0.2311763366063436, 'step': 89},\n",
       "  {'eval_loss': 0.2311595877011617, 'step': 90},\n",
       "  {'eval_loss': 0.230420192082723, 'step': 91},\n",
       "  {'eval_loss': 0.23102514445781708, 'step': 92},\n",
       "  {'eval_loss': 0.23106720050175986, 'step': 93},\n",
       "  {'eval_loss': 0.23102501034736633, 'step': 94},\n",
       "  {'eval_loss': 0.24976114432017008, 'step': 95},\n",
       "  {'eval_loss': 0.23109457890192667, 'step': 96},\n",
       "  {'eval_loss': 0.23108909527460733, 'step': 97},\n",
       "  {'eval_loss': 0.2305678129196167, 'step': 98},\n",
       "  {'eval_loss': 0.2310577780008316, 'step': 99},\n",
       "  {'step': 100,\n",
       "   'train_runtime': 7204.2052,\n",
       "   'train_samples_per_second': 0.042,\n",
       "   'train_steps_per_second': 0.014}],\n",
       " 'total_train_loss': 0}"
      ]
     },
     "execution_count": 14,
     "metadata": {},
     "output_type": "execute_result"
    }
   ],
   "source": [
    "trainer_state"
   ]
  },
  {
   "cell_type": "code",
   "execution_count": 15,
   "id": "0f30927e",
   "metadata": {},
   "outputs": [],
   "source": [
    "W_matrices = np.load(os.path.join(data_dir, \"user_weight_matrices.npy\"))"
   ]
  },
  {
   "cell_type": "code",
   "execution_count": 25,
   "id": "d8a767bd",
   "metadata": {},
   "outputs": [
    {
     "name": "stdout",
     "output_type": "stream",
     "text": [
      "[[1.         0.97939849 0.88682187]\n",
      " [0.97939849 1.         0.92529929]\n",
      " [0.88682187 0.92529929 1.        ]]\n",
      "[[1.         0.95625222 0.9162668 ]\n",
      " [0.95625222 1.         0.97978193]\n",
      " [0.9162668  0.97978193 1.        ]]\n",
      "[[1.         0.96317667 0.94673431]\n",
      " [0.96317667 1.         0.98981369]\n",
      " [0.94673431 0.98981369 1.        ]]\n",
      "[[1.         0.93523949 0.86246473]\n",
      " [0.93523949 1.         0.9622637 ]\n",
      " [0.86246473 0.9622637  1.        ]]\n",
      "[[1.         0.92988157 0.78196675]\n",
      " [0.92988157 1.         0.91709095]\n",
      " [0.78196675 0.91709095 1.        ]]\n"
     ]
    }
   ],
   "source": [
    "for i in range(3, 8):\n",
    "    print(W_matrices[i])"
   ]
  },
  {
   "cell_type": "markdown",
   "id": "f64dfeb0",
   "metadata": {},
   "source": [
    "## Debugging Notes\n",
    "\n",
    "Starts predicting pretty much all 0s and doesn't change from this"
   ]
  }
 ],
 "metadata": {
  "kernelspec": {
   "display_name": "Python 3",
   "language": "python",
   "name": "python3"
  },
  "language_info": {
   "codemirror_mode": {
    "name": "ipython",
    "version": 3
   },
   "file_extension": ".py",
   "mimetype": "text/x-python",
   "name": "python",
   "nbconvert_exporter": "python",
   "pygments_lexer": "ipython3",
   "version": "3.8.10"
  }
 },
 "nbformat": 4,
 "nbformat_minor": 5
}
