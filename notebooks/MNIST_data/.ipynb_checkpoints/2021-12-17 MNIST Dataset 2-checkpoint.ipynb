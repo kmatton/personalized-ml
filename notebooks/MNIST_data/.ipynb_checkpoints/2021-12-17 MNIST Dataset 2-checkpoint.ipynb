{
 "cells": [
  {
   "cell_type": "markdown",
   "id": "d29c6d95",
   "metadata": {},
   "source": [
    "## Dataset Details\n",
    "\n",
    "5 archetype users:\n",
    "* 1: Labels consistent with image, i.e., (0, 1, 2, 3, 4) -> (0, 1, 2, 3, 4)\n",
    "* 2: (0, 1, 2, 3, 4) -> (1, 2, 3, 4, 0)\n",
    "* 3: (0, 1, 2, 3, 4) -> (2, 3, 4, 0, 1)\n",
    "* 4: (0, 1, 2, 3, 4) -> (3, 4, 0, 1, 2)\n",
    "* 5: (0, 1, 2, 3, 4) -> (4, 0, 1, 2, 3)\n",
    "\n",
    "100 users, 20 of each type. For each user:\n",
    "* inputs are randomly sampled MNIST digits (0-4)\n",
    "* outputs are the labels of the associated archetype with probability .9, random label with probability .1\n",
    "* 20 train examples, 20 validation, 50 test"
   ]
  },
  {
   "cell_type": "code",
   "execution_count": 1,
   "id": "117c7027",
   "metadata": {},
   "outputs": [],
   "source": [
    "%load_ext autoreload\n",
    "%autoreload 2"
   ]
  },
  {
   "cell_type": "code",
   "execution_count": 2,
   "id": "0af343e3",
   "metadata": {},
   "outputs": [],
   "source": [
    "import os\n",
    "import json\n",
    "import numpy as np\n",
    "import torch\n",
    "import torchvision.datasets as datasets"
   ]
  },
  {
   "cell_type": "code",
   "execution_count": 3,
   "id": "d82b4d35",
   "metadata": {},
   "outputs": [],
   "source": [
    "data_path = \"/data/ddmg/redditlanguagemodeling/data/MNIST\""
   ]
  },
  {
   "cell_type": "code",
   "execution_count": 16,
   "id": "d262b0ff",
   "metadata": {},
   "outputs": [],
   "source": [
    "mnist_train = datasets.MNIST(root=data_path, train=True, download=True)"
   ]
  },
  {
   "cell_type": "code",
   "execution_count": 20,
   "id": "a78ed021",
   "metadata": {},
   "outputs": [
    {
     "data": {
      "text/plain": [
       "30596"
      ]
     },
     "execution_count": 20,
     "metadata": {},
     "output_type": "execute_result"
    }
   ],
   "source": [
    "len(mnist_train)"
   ]
  },
  {
   "cell_type": "code",
   "execution_count": 17,
   "id": "b1e2c18a",
   "metadata": {},
   "outputs": [],
   "source": [
    "mnist_test = datasets.MNIST(root=data_path, train=False, download=True)"
   ]
  },
  {
   "cell_type": "code",
   "execution_count": 21,
   "id": "960b7605",
   "metadata": {},
   "outputs": [
    {
     "data": {
      "text/plain": [
       "5139"
      ]
     },
     "execution_count": 21,
     "metadata": {},
     "output_type": "execute_result"
    }
   ],
   "source": [
    "len(mnist_test)"
   ]
  },
  {
   "cell_type": "code",
   "execution_count": 18,
   "id": "37b977b1",
   "metadata": {},
   "outputs": [],
   "source": [
    "keep_indices = mnist_train.targets <=4\n",
    "mnist_train.data, mnist_train.targets = mnist_train.data[keep_indices], mnist_train.targets[keep_indices]"
   ]
  },
  {
   "cell_type": "code",
   "execution_count": 19,
   "id": "56a4e6e3",
   "metadata": {},
   "outputs": [],
   "source": [
    "keep_indices = mnist_test.targets <= 4\n",
    "mnist_test.data, mnist_test.targets = mnist_test.data[keep_indices], mnist_test.targets[keep_indices]"
   ]
  },
  {
   "cell_type": "code",
   "execution_count": 25,
   "id": "468b33ce",
   "metadata": {},
   "outputs": [],
   "source": [
    "labels = torch.tensor([1, 2, 3, 4, 0])\n",
    "test_targets = mnist_test.targets[:10]"
   ]
  },
  {
   "cell_type": "code",
   "execution_count": 26,
   "id": "dcfc209f",
   "metadata": {},
   "outputs": [
    {
     "data": {
      "text/plain": [
       "tensor([2, 1, 0, 4, 1, 4, 0, 0, 1, 3])"
      ]
     },
     "execution_count": 26,
     "metadata": {},
     "output_type": "execute_result"
    }
   ],
   "source": [
    "test_targets"
   ]
  },
  {
   "cell_type": "code",
   "execution_count": 27,
   "id": "ee9811dd",
   "metadata": {},
   "outputs": [
    {
     "data": {
      "text/plain": [
       "tensor([3, 2, 1, 0, 2, 0, 1, 1, 2, 4])"
      ]
     },
     "execution_count": 27,
     "metadata": {},
     "output_type": "execute_result"
    }
   ],
   "source": [
    "new_targets = labels[test_targets]\n",
    "new_targets"
   ]
  },
  {
   "cell_type": "code",
   "execution_count": 34,
   "id": "941d743d",
   "metadata": {},
   "outputs": [],
   "source": [
    "def add_label_noise(labels, label_options, noise_perc):\n",
    "    num_labels = len(labels)\n",
    "    corrupt_count = int(num_labels * noise_perc)\n",
    "    noise_idxs = np.random.choice(np.arange(num_labels), size=corrupt_count, replace=False)\n",
    "    noise_labels = np.random.choice(label_options, size=corrupt_count)\n",
    "    labels[noise_idxs] = torch.tensor(noise_labels)\n",
    "    return labels"
   ]
  },
  {
   "cell_type": "code",
   "execution_count": 33,
   "id": "c41e753b",
   "metadata": {},
   "outputs": [
    {
     "name": "stdout",
     "output_type": "stream",
     "text": [
      "noise_idx [1]\n",
      "noise_labels [4]\n"
     ]
    },
    {
     "data": {
      "text/plain": [
       "tensor([2, 4, 0, 4, 1, 4, 0, 0, 1, 3])"
      ]
     },
     "execution_count": 33,
     "metadata": {},
     "output_type": "execute_result"
    }
   ],
   "source": [
    "add_label_noise(test_targets, torch.tensor([0, 1, 2, 3, 4]), 0.10)"
   ]
  },
  {
   "cell_type": "code",
   "execution_count": 41,
   "id": "2977a2be",
   "metadata": {},
   "outputs": [],
   "source": [
    "data_list = []\n",
    "labels = torch.tensor([0, 1, 2, 3, 4])\n",
    "train_idxs = np.arange(len(mnist_train.data))\n",
    "train_mask = np.ones(len(train_idxs), dtype=bool)\n",
    "test_idxs = np.arange(len(mnist_test.data))\n",
    "test_mask = np.ones(len(test_idxs), dtype=bool)\n",
    "\n",
    "for user in range(100):\n",
    "    if user % 20 == 0 and user != 0:  # shift labels\n",
    "        labels = np.roll(labels, 1)\n",
    "    \n",
    "    # sample train and val samples\n",
    "    train_sample_idx = np.random.choice(train_idxs[train_mask], size=40, replace=False)\n",
    "    train_x = mnist_train.data[train_sample_idx[:20]].flatten(1, 2)\n",
    "    train_y = labels[mnist_train.targets[train_sample_idx[:20]]]\n",
    "    val_x = mnist_train.data[train_sample_idx[20:]].flatten(1, 2)\n",
    "    val_y = labels[mnist_train.targets[train_sample_idx[20:]]]\n",
    "    # mark idxs as sampled\n",
    "    train_mask[train_sample_idx] = False\n",
    "    \n",
    "    # sample test idxs\n",
    "    test_sample_idx = np.random.choice(test_idxs[test_mask], size=50, replace=False)\n",
    "    test_x = mnist_test.data[test_sample_idx].flatten(1, 2)\n",
    "    test_y = labels[mnist_test.targets[test_sample_idx]]\n",
    "    # mark idxs as sampled\n",
    "    test_mask[test_sample_idx] = False\n",
    "    \n",
    "    # add label noise (just for train and val data)\n",
    "    train_y = add_label_noise(train_y, labels, .10)\n",
    "    val_y = add_label_noise(val_y, labels, .10)\n",
    "    \n",
    "    # add data to data list\n",
    "    for (x, y) in zip(train_x, train_y):\n",
    "        train_entry = {\"x\": x.tolist(), \"y\": y.item(), \"split\": \"train\", \"user\": user}\n",
    "        data_list.append(train_entry)\n",
    "    for (x, y) in zip(val_x, val_y):\n",
    "        val_entry = {\"x\": x.tolist(), \"y\": y.item(), \"split\": \"val\", \"user\": user}\n",
    "        data_list.append(val_entry)\n",
    "    for (x, y) in zip(test_x, test_y):\n",
    "        test_entry = {\"x\": x.tolist(), \"y\": y.item(), \"split\": \"test\", \"user\": user}\n",
    "        data_list.append(test_entry)"
   ]
  },
  {
   "cell_type": "code",
   "execution_count": 43,
   "id": "14cd4702",
   "metadata": {},
   "outputs": [],
   "source": [
    "data_dict = {\"version\": \"21.12.17\", \"data\": data_list}"
   ]
  },
  {
   "cell_type": "code",
   "execution_count": null,
   "id": "81cfa067",
   "metadata": {},
   "outputs": [],
   "source": [
    "with open(os.path.join(data_path, \"5_archetype_test\", \"full_data.json\"), \"w\") as f:\n",
    "    json.dump(data_dict, f)"
   ]
  }
 ],
 "metadata": {
  "kernelspec": {
   "display_name": "Python 3",
   "language": "python",
   "name": "python3"
  },
  "language_info": {
   "codemirror_mode": {
    "name": "ipython",
    "version": 3
   },
   "file_extension": ".py",
   "mimetype": "text/x-python",
   "name": "python",
   "nbconvert_exporter": "python",
   "pygments_lexer": "ipython3",
   "version": "3.8.10"
  }
 },
 "nbformat": 4,
 "nbformat_minor": 5
}
