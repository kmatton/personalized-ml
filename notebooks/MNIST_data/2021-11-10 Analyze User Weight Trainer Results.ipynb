{
 "cells": [
  {
   "cell_type": "code",
   "execution_count": 1,
   "id": "cd8d4150",
   "metadata": {},
   "outputs": [],
   "source": [
    "%load_ext autoreload\n",
    "%autoreload 2"
   ]
  },
  {
   "cell_type": "code",
   "execution_count": 7,
   "id": "2e3e32fc",
   "metadata": {},
   "outputs": [],
   "source": [
    "import json\n",
    "import os\n",
    "\n",
    "import numpy as np\n",
    "import pandas as pd\n",
    "import seaborn as sns\n",
    "sns.set_theme()"
   ]
  },
  {
   "cell_type": "code",
   "execution_count": 30,
   "id": "ce70cad0",
   "metadata": {},
   "outputs": [],
   "source": [
    "data_dir = \"/data/ddmg/redditlanguagemodeling/results/mnist/user_weight_train_2_debug/42\""
   ]
  },
  {
   "cell_type": "code",
   "execution_count": 31,
   "id": "6e0d8bbc",
   "metadata": {},
   "outputs": [],
   "source": [
    "step_user_losses = np.load(os.path.join(data_dir, \"step_user_losses.npy\"))"
   ]
  },
  {
   "cell_type": "code",
   "execution_count": 32,
   "id": "45df2c9e",
   "metadata": {},
   "outputs": [],
   "source": [
    "num_steps, num_users = step_user_losses.shape"
   ]
  },
  {
   "cell_type": "code",
   "execution_count": 33,
   "id": "b3a46b7f",
   "metadata": {},
   "outputs": [],
   "source": [
    "user_loss_df = pd.DataFrame(step_user_losses, columns=[\"user_{}\".format(i) for i in range(step_user_losses.shape[1])])"
   ]
  },
  {
   "cell_type": "code",
   "execution_count": 34,
   "id": "0da92a83",
   "metadata": {},
   "outputs": [
    {
     "data": {
      "text/html": [
       "<div>\n",
       "<style scoped>\n",
       "    .dataframe tbody tr th:only-of-type {\n",
       "        vertical-align: middle;\n",
       "    }\n",
       "\n",
       "    .dataframe tbody tr th {\n",
       "        vertical-align: top;\n",
       "    }\n",
       "\n",
       "    .dataframe thead th {\n",
       "        text-align: right;\n",
       "    }\n",
       "</style>\n",
       "<table border=\"1\" class=\"dataframe\">\n",
       "  <thead>\n",
       "    <tr style=\"text-align: right;\">\n",
       "      <th></th>\n",
       "      <th>user_0</th>\n",
       "      <th>user_1</th>\n",
       "      <th>user_2</th>\n",
       "      <th>step</th>\n",
       "    </tr>\n",
       "  </thead>\n",
       "  <tbody>\n",
       "    <tr>\n",
       "      <th>0</th>\n",
       "      <td>0.258819</td>\n",
       "      <td>0.553757</td>\n",
       "      <td>0.529313</td>\n",
       "      <td>0</td>\n",
       "    </tr>\n",
       "    <tr>\n",
       "      <th>1</th>\n",
       "      <td>0.183722</td>\n",
       "      <td>0.439229</td>\n",
       "      <td>0.424995</td>\n",
       "      <td>1</td>\n",
       "    </tr>\n",
       "    <tr>\n",
       "      <th>2</th>\n",
       "      <td>0.256610</td>\n",
       "      <td>0.483210</td>\n",
       "      <td>0.395253</td>\n",
       "      <td>2</td>\n",
       "    </tr>\n",
       "    <tr>\n",
       "      <th>3</th>\n",
       "      <td>0.190099</td>\n",
       "      <td>0.406372</td>\n",
       "      <td>0.359137</td>\n",
       "      <td>3</td>\n",
       "    </tr>\n",
       "    <tr>\n",
       "      <th>4</th>\n",
       "      <td>0.169977</td>\n",
       "      <td>0.347518</td>\n",
       "      <td>0.502871</td>\n",
       "      <td>4</td>\n",
       "    </tr>\n",
       "    <tr>\n",
       "      <th>...</th>\n",
       "      <td>...</td>\n",
       "      <td>...</td>\n",
       "      <td>...</td>\n",
       "      <td>...</td>\n",
       "    </tr>\n",
       "    <tr>\n",
       "      <th>95</th>\n",
       "      <td>0.000281</td>\n",
       "      <td>0.000886</td>\n",
       "      <td>0.012569</td>\n",
       "      <td>95</td>\n",
       "    </tr>\n",
       "    <tr>\n",
       "      <th>96</th>\n",
       "      <td>0.005761</td>\n",
       "      <td>0.000465</td>\n",
       "      <td>0.032802</td>\n",
       "      <td>96</td>\n",
       "    </tr>\n",
       "    <tr>\n",
       "      <th>97</th>\n",
       "      <td>0.000265</td>\n",
       "      <td>0.000122</td>\n",
       "      <td>0.028355</td>\n",
       "      <td>97</td>\n",
       "    </tr>\n",
       "    <tr>\n",
       "      <th>98</th>\n",
       "      <td>0.002819</td>\n",
       "      <td>0.002083</td>\n",
       "      <td>0.035549</td>\n",
       "      <td>98</td>\n",
       "    </tr>\n",
       "    <tr>\n",
       "      <th>99</th>\n",
       "      <td>0.000118</td>\n",
       "      <td>0.000139</td>\n",
       "      <td>0.002357</td>\n",
       "      <td>99</td>\n",
       "    </tr>\n",
       "  </tbody>\n",
       "</table>\n",
       "<p>100 rows × 4 columns</p>\n",
       "</div>"
      ],
      "text/plain": [
       "      user_0    user_1    user_2  step\n",
       "0   0.258819  0.553757  0.529313     0\n",
       "1   0.183722  0.439229  0.424995     1\n",
       "2   0.256610  0.483210  0.395253     2\n",
       "3   0.190099  0.406372  0.359137     3\n",
       "4   0.169977  0.347518  0.502871     4\n",
       "..       ...       ...       ...   ...\n",
       "95  0.000281  0.000886  0.012569    95\n",
       "96  0.005761  0.000465  0.032802    96\n",
       "97  0.000265  0.000122  0.028355    97\n",
       "98  0.002819  0.002083  0.035549    98\n",
       "99  0.000118  0.000139  0.002357    99\n",
       "\n",
       "[100 rows x 4 columns]"
      ]
     },
     "execution_count": 34,
     "metadata": {},
     "output_type": "execute_result"
    }
   ],
   "source": [
    "# validation loss per user for each outer loop step\n",
    "user_loss_df[\"step\"] = np.arange(len(user_loss_df))\n",
    "user_loss_df"
   ]
  },
  {
   "cell_type": "code",
   "execution_count": 35,
   "id": "41192896",
   "metadata": {},
   "outputs": [],
   "source": [
    "# flatten so there is a user ID column\n",
    "losses_flat = step_user_losses.flatten(order='F')\n",
    "users = np.array([[\"user_{}\".format(i)] * num_steps for i in range(num_users)]).flatten()"
   ]
  },
  {
   "cell_type": "code",
   "execution_count": 36,
   "id": "e930c41b",
   "metadata": {},
   "outputs": [],
   "source": [
    "steps = np.array([[np.arange(num_steps)] * num_users]).flatten()"
   ]
  },
  {
   "cell_type": "code",
   "execution_count": 37,
   "id": "a7db21b6",
   "metadata": {},
   "outputs": [
    {
     "data": {
      "text/plain": [
       "<AxesSubplot:>"
      ]
     },
     "execution_count": 37,
     "metadata": {},
     "output_type": "execute_result"
    },
    {
     "data": {
      "image/png": "[encoded data removed]",
      "text/plain": [
       "<Figure size 432x288 with 1 Axes>"
      ]
     },
     "metadata": {},
     "output_type": "display_data"
    }
   ],
   "source": [
    "# eval loss at each step per user\n",
    "sns.lineplot(x=steps, y=losses_flat, hue=users)"
   ]
  },
  {
   "cell_type": "code",
   "execution_count": 38,
   "id": "ea2ca2e9",
   "metadata": {},
   "outputs": [],
   "source": [
    "# compare to eval losses we're getting --> should be same as the eval losses we get the next \n",
    "# step for each user\n",
    "# we also don't need to do the evaluation step because we already have val performance!!\n",
    "with open(os.path.join(data_dir, \"trainer_state.json\"), 'rb') as f:\n",
    "    trainer_state = json.load(f)"
   ]
  },
  {
   "cell_type": "code",
   "execution_count": 39,
   "id": "5455f7f6",
   "metadata": {},
   "outputs": [
    {
     "data": {
      "text/plain": [
       "[{'eval_loss': 0.44729629158973694, 'step': 0},\n",
       " {'eval_loss': 0.3493150621652603, 'step': 1},\n",
       " {'eval_loss': 0.3783576190471649, 'step': 2},\n",
       " {'eval_loss': 0.31853583455085754, 'step': 3},\n",
       " {'eval_loss': 0.3401217957337697, 'step': 4},\n",
       " {'eval_loss': 0.3326428731282552, 'step': 5},\n",
       " {'eval_loss': 0.31053873896598816, 'step': 6},\n",
       " {'eval_loss': 0.3068036586046219, 'step': 7},\n",
       " {'eval_loss': 0.2701228012641271, 'step': 8},\n",
       " {'eval_loss': 0.28056421379248303, 'step': 9},\n",
       " {'eval_loss': 0.2620076636473338, 'step': 10},\n",
       " {'eval_loss': 0.2260014389952024, 'step': 11},\n",
       " {'eval_loss': 0.2149187351266543, 'step': 12},\n",
       " {'eval_loss': 0.2600323011477788, 'step': 13},\n",
       " {'eval_loss': 0.24844548106193542, 'step': 14},\n",
       " {'eval_loss': 0.23550241937239966, 'step': 15},\n",
       " {'eval_loss': 0.24377917995055517, 'step': 16},\n",
       " {'eval_loss': 0.22115628172953924, 'step': 17},\n",
       " {'eval_loss': 0.21551080544789633, 'step': 18},\n",
       " {'eval_loss': 0.213522640367349, 'step': 19},\n",
       " {'eval_loss': 0.20794888337453207, 'step': 20},\n",
       " {'eval_loss': 0.21214945862690607, 'step': 21},\n",
       " {'eval_loss': 0.1987686219314734, 'step': 22},\n",
       " {'eval_loss': 0.17440462112426758, 'step': 23},\n",
       " {'eval_loss': 0.1588620481391748, 'step': 24},\n",
       " {'eval_loss': 0.1786835789680481, 'step': 25},\n",
       " {'eval_loss': 0.1641122673948606, 'step': 26},\n",
       " {'eval_loss': 0.15312524636586508, 'step': 27},\n",
       " {'eval_loss': 0.16566325972477594, 'step': 28},\n",
       " {'eval_loss': 0.14797241861621538, 'step': 29},\n",
       " {'eval_loss': 0.16939635947346687, 'step': 30},\n",
       " {'eval_loss': 0.13615374763806662, 'step': 31},\n",
       " {'eval_loss': 0.16858168691396713, 'step': 32},\n",
       " {'eval_loss': 0.13818546881278357, 'step': 33},\n",
       " {'eval_loss': 0.12612533258895078, 'step': 34},\n",
       " {'eval_loss': 0.11542249595125516, 'step': 35},\n",
       " {'eval_loss': 0.10231239441782236, 'step': 36},\n",
       " {'eval_loss': 0.11814549565315247, 'step': 37},\n",
       " {'eval_loss': 0.09400973469018936, 'step': 38},\n",
       " {'eval_loss': 0.08771017069617908, 'step': 39},\n",
       " {'eval_loss': 0.08709545790528257, 'step': 40},\n",
       " {'eval_loss': 0.07619454991072416, 'step': 41},\n",
       " {'eval_loss': 0.07869945357864101, 'step': 42},\n",
       " {'eval_loss': 0.08773622642426442, 'step': 43},\n",
       " {'eval_loss': 0.0752590096866091, 'step': 44},\n",
       " {'eval_loss': 0.08113824568378429, 'step': 45},\n",
       " {'eval_loss': 0.09184837578019749, 'step': 46},\n",
       " {'eval_loss': 0.0742038233729545, 'step': 47},\n",
       " {'eval_loss': 0.058776650888224445, 'step': 48},\n",
       " {'eval_loss': 0.06397344851090263, 'step': 49},\n",
       " {'eval_loss': 0.044529796306354306, 'step': 50},\n",
       " {'eval_loss': 0.09154132382536773, 'step': 51},\n",
       " {'eval_loss': 0.06532778507425974, 'step': 52},\n",
       " {'eval_loss': 0.0671922784531489, 'step': 53},\n",
       " {'eval_loss': 0.05902524094320446, 'step': 54},\n",
       " {'eval_loss': 0.04526764958670052, 'step': 55},\n",
       " {'eval_loss': 0.05716812129442891, 'step': 56},\n",
       " {'eval_loss': 0.06371435922725747, 'step': 57},\n",
       " {'eval_loss': 0.08259019317726295, 'step': 58},\n",
       " {'eval_loss': 0.03584818148131793, 'step': 59},\n",
       " {'eval_loss': 0.04213383185560815, 'step': 60},\n",
       " {'eval_loss': 0.04920702567324042, 'step': 61},\n",
       " {'eval_loss': 0.041958440240705386, 'step': 62},\n",
       " {'eval_loss': 0.03915099097260585, 'step': 63},\n",
       " {'eval_loss': 0.04872520815115422, 'step': 64},\n",
       " {'eval_loss': 0.04808906017569825, 'step': 65},\n",
       " {'eval_loss': 0.03201722252803544, 'step': 66},\n",
       " {'eval_loss': 0.03556862147524953, 'step': 67},\n",
       " {'eval_loss': 0.012510341451464532, 'step': 68},\n",
       " {'eval_loss': 0.013710564594172562, 'step': 69},\n",
       " {'eval_loss': 0.018666308535709202, 'step': 70},\n",
       " {'eval_loss': 0.0319863831003507, 'step': 71},\n",
       " {'eval_loss': 0.04470821741657952, 'step': 72},\n",
       " {'eval_loss': 0.02624138460184137, 'step': 73},\n",
       " {'eval_loss': 0.009624113590689376, 'step': 74},\n",
       " {'eval_loss': 0.029368135185601812, 'step': 75},\n",
       " {'eval_loss': 0.01791575401633357, 'step': 76},\n",
       " {'eval_loss': 0.015107174971490167, 'step': 77},\n",
       " {'eval_loss': 0.01584216079209, 'step': 78},\n",
       " {'eval_loss': 0.018760029333255563, 'step': 79},\n",
       " {'eval_loss': 0.0068581328669097275, 'step': 80},\n",
       " {'eval_loss': 0.020723747943217557, 'step': 81},\n",
       " {'eval_loss': 0.024763155745555803, 'step': 82},\n",
       " {'eval_loss': 0.0075281462632119656, 'step': 83},\n",
       " {'eval_loss': 0.012819023337215185, 'step': 84},\n",
       " {'eval_loss': 0.001978643730884263, 'step': 85},\n",
       " {'eval_loss': 0.007665854665295531, 'step': 86},\n",
       " {'eval_loss': 0.004464519210159779, 'step': 87},\n",
       " {'eval_loss': 0.014511209331734184, 'step': 88},\n",
       " {'eval_loss': 0.006561890477314591, 'step': 89},\n",
       " {'eval_loss': 0.0076986113951231045, 'step': 90},\n",
       " {'eval_loss': 0.009998716552217957, 'step': 91},\n",
       " {'eval_loss': 0.007949337208022675, 'step': 92},\n",
       " {'eval_loss': 0.015423298590273285, 'step': 93},\n",
       " {'eval_loss': 0.0027389928485111645, 'step': 94},\n",
       " {'eval_loss': 0.004578716849209741, 'step': 95},\n",
       " {'eval_loss': 0.013009521916198233, 'step': 96},\n",
       " {'eval_loss': 0.009580428743599137, 'step': 97},\n",
       " {'eval_loss': 0.01348405098542571, 'step': 98},\n",
       " {'eval_loss': 0.0008715064492813932, 'step': 99},\n",
       " {'step': 100,\n",
       "  'train_runtime': 6510.5488,\n",
       "  'train_samples_per_second': 0.046,\n",
       "  'train_steps_per_second': 0.015}]"
      ]
     },
     "execution_count": 39,
     "metadata": {},
     "output_type": "execute_result"
    }
   ],
   "source": [
    "trainer_state['log_history']"
   ]
  },
  {
   "cell_type": "code",
   "execution_count": 45,
   "id": "cbe36008",
   "metadata": {},
   "outputs": [],
   "source": [
    "W = np.load(os.path.join(data_dir, \"user_weight_matrix.npy\"))"
   ]
  },
  {
   "cell_type": "code",
   "execution_count": 48,
   "id": "0624904c",
   "metadata": {},
   "outputs": [
    {
     "data": {
      "text/plain": [
       "array([[ 0.9291242 ,  0.30823928, -0.10176469],\n",
       "       [ 0.3250343 ,  0.5185319 , -0.04552258],\n",
       "       [-0.14738068, -0.11972266,  1.0268005 ]], dtype=float32)"
      ]
     },
     "execution_count": 48,
     "metadata": {},
     "output_type": "execute_result"
    }
   ],
   "source": [
    "W"
   ]
  },
  {
   "cell_type": "code",
   "execution_count": 52,
   "id": "933f18cf",
   "metadata": {},
   "outputs": [],
   "source": [
    "W_norm = W.copy()"
   ]
  },
  {
   "cell_type": "code",
   "execution_count": 53,
   "id": "f6716a75",
   "metadata": {},
   "outputs": [
    {
     "data": {
      "text/plain": [
       "array([[0.9291242 , 0.30823928, 0.        ],\n",
       "       [0.3250343 , 0.5185319 , 0.        ],\n",
       "       [0.        , 0.        , 1.0268005 ]], dtype=float32)"
      ]
     },
     "execution_count": 53,
     "metadata": {},
     "output_type": "execute_result"
    }
   ],
   "source": [
    "W_norm[W_norm < 0] = 0\n",
    "W_norm"
   ]
  },
  {
   "cell_type": "code",
   "execution_count": 54,
   "id": "62c5e599",
   "metadata": {},
   "outputs": [],
   "source": [
    "W_norm /= np.max(W_norm, axis=1)[:, None]"
   ]
  },
  {
   "cell_type": "code",
   "execution_count": 55,
   "id": "7a0a6a20",
   "metadata": {},
   "outputs": [
    {
     "data": {
      "text/plain": [
       "array([[1.        , 0.3317525 , 0.        ],\n",
       "       [0.62683564, 1.        , 0.        ],\n",
       "       [0.        , 0.        , 1.        ]], dtype=float32)"
      ]
     },
     "execution_count": 55,
     "metadata": {},
     "output_type": "execute_result"
    }
   ],
   "source": [
    "W_norm"
   ]
  }
 ],
 "metadata": {
  "kernelspec": {
   "display_name": "Python 3",
   "language": "python",
   "name": "python3"
  },
  "language_info": {
   "codemirror_mode": {
    "name": "ipython",
    "version": 3
   },
   "file_extension": ".py",
   "mimetype": "text/x-python",
   "name": "python",
   "nbconvert_exporter": "python",
   "pygments_lexer": "ipython3",
   "version": "3.8.10"
  }
 },
 "nbformat": 4,
 "nbformat_minor": 5
}
